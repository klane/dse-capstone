{
 "cells": [
  {
   "cell_type": "code",
   "execution_count": 1,
   "metadata": {},
   "outputs": [],
   "source": [
    "sample_25 = [\n",
    "    400017,\n",
    "400040,\n",
    "400052,\n",
    "400059,\n",
    "400065,\n",
    "400073,\n",
    "400085,\n",
    "400100,\n",
    "400148,\n",
    "400178,\n",
    "400221,\n",
    "400240,\n",
    "400257,\n",
    "400258,\n",
    "400268,\n",
    "400278,\n",
    "400280,\n",
    "400298,\n",
    "400336,\n",
    "400418,\n",
    "400436,\n",
    "400457,\n",
    "400461,\n",
    "400485,\n",
    "400519,\n",
    "400637,\n",
    "400649,\n",
    "400654,\n",
    "400664,\n",
    "400690,\n",
    "400700,\n",
    "400713,\n",
    "400714,\n",
    "400715,\n",
    "400717,\n",
    "400750,\n",
    "400772,\n",
    "400792,\n",
    "400822,\n",
    "400832,\n",
    "400837,\n",
    "400842,\n",
    "400916,\n",
    "400934,\n",
    "400995,\n",
    "401129,\n",
    "401154,\n",
    "401163,\n",
    "401167,\n",
    "401327,\n",
    "401388,\n",
    "401400,\n",
    "401457,\n",
    "401495,\n",
    "401555,\n",
    "401567,\n",
    "401597,\n",
    "401606,\n",
    "401611,\n",
    "401942,\n",
    "401943,\n",
    "401957,\n",
    "401958,\n",
    "402067,\n",
    "403329,\n",
    "403414,\n",
    "403419,\n",
    "404370,\n",
    "404451,\n",
    "404452,\n",
    "404453,\n",
    "404461,\n",
    "404462,\n",
    "405613,\n",
    "405619,\n",
    "405701,\n",
    "407710,\n",
    "407711,\n",
    "414284,\n",
    "414694\n",
    "]"
   ]
  },
  {
   "cell_type": "code",
   "execution_count": 2,
   "metadata": {},
   "outputs": [
    {
     "data": {
      "text/plain": [
       "80"
      ]
     },
     "execution_count": 2,
     "metadata": {},
     "output_type": "execute_result"
    }
   ],
   "source": [
    "len(sample_25)"
   ]
  },
  {
   "cell_type": "code",
   "execution_count": 3,
   "metadata": {},
   "outputs": [],
   "source": [
    "sample_50 = [\n",
    "    400017,\n",
    "400040,\n",
    "400052,\n",
    "400057,\n",
    "400059,\n",
    "400065,\n",
    "400073,\n",
    "400084,\n",
    "400085,\n",
    "400097,\n",
    "400100,\n",
    "400147,\n",
    "400148,\n",
    "400178,\n",
    "400185,\n",
    "400209,\n",
    "400213,\n",
    "400221,\n",
    "400222,\n",
    "400236,\n",
    "400240,\n",
    "400257,\n",
    "400258,\n",
    "400268,\n",
    "400278,\n",
    "400280,\n",
    "400292,\n",
    "400298,\n",
    "400336,\n",
    "400400,\n",
    "400414,\n",
    "400418,\n",
    "400429,\n",
    "400436,\n",
    "400457,\n",
    "400461,\n",
    "400464,\n",
    "400485,\n",
    "400499,\n",
    "400507,\n",
    "400514,\n",
    "400519,\n",
    "400560,\n",
    "400563,\n",
    "400582,\n",
    "400637,\n",
    "400648,\n",
    "400649,\n",
    "400654,\n",
    "400664,\n",
    "400665,\n",
    "400673,\n",
    "400677,\n",
    "400688,\n",
    "400690,\n",
    "400700,\n",
    "400709,\n",
    "400713,\n",
    "400714,\n",
    "400715,\n",
    "400717,\n",
    "400723,\n",
    "400750,\n",
    "400772,\n",
    "400792,\n",
    "400799,\n",
    "400804,\n",
    "400822,\n",
    "400823,\n",
    "400828,\n",
    "400832,\n",
    "400837,\n",
    "400842,\n",
    "400907,\n",
    "400916,\n",
    "400934,\n",
    "400951,\n",
    "400952,\n",
    "400953,\n",
    "400995,\n",
    "401129,\n",
    "401154,\n",
    "401163,\n",
    "401167,\n",
    "401210,\n",
    "401224,\n",
    "401327,\n",
    "401388,\n",
    "401391,\n",
    "401400,\n",
    "401403,\n",
    "401457,\n",
    "401495,\n",
    "401555,\n",
    "401567,\n",
    "401597,\n",
    "401606,\n",
    "401611,\n",
    "401655,\n",
    "401808,\n",
    "401809,\n",
    "401810,\n",
    "401811,\n",
    "401845,\n",
    "401846,\n",
    "401890,\n",
    "401891,\n",
    "401906,\n",
    "401908,\n",
    "401942,\n",
    "401943,\n",
    "401957,\n",
    "401958,\n",
    "402056,\n",
    "402057,\n",
    "402058,\n",
    "402059,\n",
    "402067,\n",
    "402359,\n",
    "402360,\n",
    "402361,\n",
    "403329,\n",
    "403401,\n",
    "403402,\n",
    "403404,\n",
    "403406,\n",
    "403409,\n",
    "403412,\n",
    "403414,\n",
    "403419,\n",
    "404370,\n",
    "404434,\n",
    "404435,\n",
    "404444,\n",
    "404451,\n",
    "404452,\n",
    "404453,\n",
    "404461,\n",
    "404462,\n",
    "404640,\n",
    "405613,\n",
    "405619,\n",
    "405701,\n",
    "407165,\n",
    "407172,\n",
    "407173,\n",
    "407194,\n",
    "407321,\n",
    "407331,\n",
    "407344,\n",
    "407370,\n",
    "407373,\n",
    "407710,\n",
    "407711,\n",
    "408907,\n",
    "408911,\n",
    "413877,\n",
    "413878,\n",
    "414284,\n",
    "414694\n",
    "]"
   ]
  },
  {
   "cell_type": "code",
   "execution_count": 4,
   "metadata": {},
   "outputs": [
    {
     "data": {
      "text/plain": [
       "160"
      ]
     },
     "execution_count": 4,
     "metadata": {},
     "output_type": "execute_result"
    }
   ],
   "source": [
    "len(sample_50)"
   ]
  },
  {
   "cell_type": "code",
   "execution_count": 5,
   "metadata": {},
   "outputs": [],
   "source": [
    "sample_75 = [\n",
    "400001,\n",
    "400017,\n",
    "400030,\n",
    "400040,\n",
    "400045,\n",
    "400052,\n",
    "400057,\n",
    "400059,\n",
    "400065,\n",
    "400069,\n",
    "400073,\n",
    "400084,\n",
    "400085,\n",
    "400097,\n",
    "400100,\n",
    "400109,\n",
    "400122,\n",
    "400147,\n",
    "400148,\n",
    "400160,\n",
    "400172,\n",
    "400178,\n",
    "400185,\n",
    "400206,\n",
    "400209,\n",
    "400213,\n",
    "400221,\n",
    "400222,\n",
    "400227,\n",
    "400236,\n",
    "400240,\n",
    "400246,\n",
    "400253,\n",
    "400257,\n",
    "400258,\n",
    "400268,\n",
    "400278,\n",
    "400280,\n",
    "400292,\n",
    "400298,\n",
    "400336,\n",
    "400343,\n",
    "400353,\n",
    "400372,\n",
    "400394,\n",
    "400400,\n",
    "400414,\n",
    "400418,\n",
    "400429,\n",
    "400436,\n",
    "400440,\n",
    "400457,\n",
    "400461,\n",
    "400464,\n",
    "400479,\n",
    "400485,\n",
    "400499,\n",
    "400507,\n",
    "400508,\n",
    "400514,\n",
    "400519,\n",
    "400528,\n",
    "400560,\n",
    "400563,\n",
    "400582,\n",
    "400586,\n",
    "400637,\n",
    "400648,\n",
    "400649,\n",
    "400654,\n",
    "400664,\n",
    "400665,\n",
    "400668,\n",
    "400673,\n",
    "400677,\n",
    "400688,\n",
    "400690,\n",
    "400700,\n",
    "400709,\n",
    "400713,\n",
    "400714,\n",
    "400715,\n",
    "400717,\n",
    "400723,\n",
    "400750,\n",
    "400760,\n",
    "400772,\n",
    "400792,\n",
    "400794,\n",
    "400799,\n",
    "400804,\n",
    "400822,\n",
    "400823,\n",
    "400828,\n",
    "400832,\n",
    "400837,\n",
    "400842,\n",
    "400863,\n",
    "400895,\n",
    "400907,\n",
    "400911,\n",
    "400916,\n",
    "400922,\n",
    "400934,\n",
    "400951,\n",
    "400952,\n",
    "400953,\n",
    "400964,\n",
    "400965,\n",
    "400971,\n",
    "400995,\n",
    "400996,\n",
    "401129,\n",
    "401154,\n",
    "401163,\n",
    "401167,\n",
    "401210,\n",
    "401224,\n",
    "401327,\n",
    "401388,\n",
    "401391,\n",
    "401400,\n",
    "401403,\n",
    "401440,\n",
    "401457,\n",
    "401495,\n",
    "401541,\n",
    "401555,\n",
    "401560,\n",
    "401567,\n",
    "401597,\n",
    "401606,\n",
    "401611,\n",
    "401655,\n",
    "401808,\n",
    "401809,\n",
    "401810,\n",
    "401811,\n",
    "401816,\n",
    "401817,\n",
    "401845,\n",
    "401846,\n",
    "401890,\n",
    "401891,\n",
    "401906,\n",
    "401908,\n",
    "401942,\n",
    "401943,\n",
    "401957,\n",
    "401958,\n",
    "401994,\n",
    "402056,\n",
    "402057,\n",
    "402058,\n",
    "402059,\n",
    "402060,\n",
    "402061,\n",
    "402067,\n",
    "402117,\n",
    "402118,\n",
    "402121,\n",
    "402281,\n",
    "402282,\n",
    "402283,\n",
    "402284,\n",
    "402359,\n",
    "402360,\n",
    "402361,\n",
    "402362,\n",
    "402363,\n",
    "402364,\n",
    "402365,\n",
    "402366,\n",
    "402367,\n",
    "403225,\n",
    "403265,\n",
    "403329,\n",
    "403401,\n",
    "403402,\n",
    "403404,\n",
    "403406,\n",
    "403409,\n",
    "403412,\n",
    "403414,\n",
    "403419,\n",
    "404370,\n",
    "404434,\n",
    "404435,\n",
    "404444,\n",
    "404451,\n",
    "404452,\n",
    "404453,\n",
    "404461,\n",
    "404462,\n",
    "404521,\n",
    "404640,\n",
    "404753,\n",
    "404759,\n",
    "405613,\n",
    "405619,\n",
    "405701,\n",
    "407165,\n",
    "407172,\n",
    "407173,\n",
    "407194,\n",
    "407321,\n",
    "407323,\n",
    "407325,\n",
    "407328,\n",
    "407331,\n",
    "407335,\n",
    "407336,\n",
    "407337,\n",
    "407339,\n",
    "407341,\n",
    "407342,\n",
    "407344,\n",
    "407348,\n",
    "407352,\n",
    "407360,\n",
    "407361,\n",
    "407364,\n",
    "407367,\n",
    "407370,\n",
    "407372,\n",
    "407373,\n",
    "407374,\n",
    "407710,\n",
    "407711,\n",
    "408907,\n",
    "408911,\n",
    "409524,\n",
    "409525,\n",
    "409526,\n",
    "409528,\n",
    "409529,\n",
    "413877,\n",
    "413878,\n",
    "414284,\n",
    "414694\n",
    "]"
   ]
  },
  {
   "cell_type": "code",
   "execution_count": 6,
   "metadata": {},
   "outputs": [
    {
     "data": {
      "text/plain": [
       "240"
      ]
     },
     "execution_count": 6,
     "metadata": {},
     "output_type": "execute_result"
    }
   ],
   "source": [
    "len(sample_75)"
   ]
  },
  {
   "cell_type": "code",
   "execution_count": 28,
   "metadata": {},
   "outputs": [],
   "source": [
    "sample_100 = [401936, 400750, 400790, 407370, 400414, 400654, 404435, 400971,\n",
    "       400097, 403404, 400057, 401810, 400257, 407187, 402284, 402061,\n",
    "       400227, 400160, 400700, 400240, 407359, 407172, 404453, 400714,\n",
    "       413026, 405701, 404462, 400951, 400298, 400209, 407331, 401495,\n",
    "       400772, 402359, 401391, 407321, 407194, 403401, 403406, 407153,\n",
    "       407323, 400822, 402363, 402118, 403265, 407342, 403414, 400158,\n",
    "       402372, 401606, 400088, 400832, 407204, 400221, 407332, 401996,\n",
    "       403402, 402285, 407161, 403412, 407151, 402057, 401811, 402067,\n",
    "       401464, 400336, 400952, 409529, 401817, 407360, 400907, 407152,\n",
    "       414284, 405619, 402060, 407202, 400828, 401655, 402120, 400069,\n",
    "       407177, 400869, 400040, 400147, 407191, 400017, 400238, 400148,\n",
    "       407344, 407184, 402121, 400664, 407337, 404553, 400965, 402366,\n",
    "       400922, 400995, 401567, 400970, 404434, 400760, 400280, 413845,\n",
    "       400440, 404753, 407711, 400508, 407339, 407372, 407348, 400904,\n",
    "       400637, 400149, 402371, 400479, 400084, 400085, 400372, 400996,\n",
    "       407373, 400268, 401167, 400713, 400104, 400185, 407150, 401388,\n",
    "       407180, 401327, 401210, 401997, 400873, 400567, 402360, 402058,\n",
    "       400911, 403225, 400109, 400052, 409525, 400973, 400545, 404461,\n",
    "       401541, 407367, 404586, 407173, 400296, 409524, 401846, 400677,\n",
    "       400717, 400895, 404444, 400673, 409526, 407165, 401351, 400330,\n",
    "       400045, 402281, 401611, 400648, 400665, 402367, 400278, 402365,\n",
    "       407328, 401403, 403409, 407335, 405613, 402370, 400668, 400643,\n",
    "       402282, 401457, 400201, 403419, 401908, 400794, 407179, 400122,\n",
    "       400274, 402119, 404585, 401597, 402286, 401998, 400709, 400514,\n",
    "       400723, 401489, 400743, 409528, 407352, 400581, 401534, 407206,\n",
    "       402059, 400213, 413878, 402287, 408907, 401906, 400688, 401560,\n",
    "       400690, 407176, 400528, 400258, 407710, 407336, 402361, 400435,\n",
    "       400178, 401555, 401890, 401163, 400519, 401224, 401816, 400934,\n",
    "       402283, 400461, 402362, 407207, 401891, 400429, 404452, 400400,\n",
    "       400172, 407374, 400804, 400687, 400065, 400649, 407181, 404451,\n",
    "       400464, 400059, 400449, 407157, 402364, 404522, 401994, 401400,\n",
    "       407325, 401957, 400222, 400582, 401154, 400030, 413877, 400206,\n",
    "       401958, 400436, 401926, 400418, 400174, 407200, 402056, 400842,\n",
    "       400837, 407341, 401129, 400073, 407186, 407155, 408911, 401948,\n",
    "       404759, 401942, 400353, 400799, 400499, 401809, 400253, 400236,\n",
    "       400563, 401937, 400916, 400246, 400953, 400863, 407190, 400485,\n",
    "       407174, 404521, 404370, 400001, 400715, 400586, 400394, 402373,\n",
    "       402117, 400964, 400292, 400096, 400100, 401943, 407361, 407185,\n",
    "       400507, 400457, 400343, 400792, 404640, 401507, 400560, 407364,\n",
    "       414694, 401845, 401808, 400823, 400168, 401014, 403329, 401440]"
   ]
  },
  {
   "cell_type": "code",
   "execution_count": 30,
   "metadata": {},
   "outputs": [
    {
     "data": {
      "text/plain": [
       "320"
      ]
     },
     "execution_count": 30,
     "metadata": {},
     "output_type": "execute_result"
    }
   ],
   "source": [
    "len(sample_100)"
   ]
  },
  {
   "cell_type": "code",
   "execution_count": 8,
   "metadata": {},
   "outputs": [],
   "source": [
    "import numpy as np\n",
    "from os.path import join\n",
    "from sklearn.metrics import mean_squared_error\n",
    "import torch\n"
   ]
  },
  {
   "cell_type": "code",
   "execution_count": 33,
   "metadata": {},
   "outputs": [],
   "source": [
    "preds_dir = r'C:\\Users\\rmartinez4\\Box\\Personal Git\\DCRNN_PyTorch\\predictions'\n",
    "\n",
    "arr_25 = np.load(join(preds_dir, 'dcrnn_predictions_25_test.npz'))\n",
    "arr_50 = np.load(join(preds_dir, 'dcrnn_predictions_50_test.npz'))\n",
    "arr_75 = np.load(join(preds_dir, 'dcrnn_predictions_75_test.npz'))\n",
    "arr_100 = np.load(join(preds_dir, 'dcrnn_predictions_100_test.npz'))\n"
   ]
  },
  {
   "cell_type": "code",
   "execution_count": 27,
   "metadata": {},
   "outputs": [
    {
     "data": {
      "text/plain": [
       "numpy.ndarray"
      ]
     },
     "execution_count": 27,
     "metadata": {},
     "output_type": "execute_result"
    }
   ],
   "source": [
    "type(arr_100['prediction'])\n"
   ]
  },
  {
   "cell_type": "code",
   "execution_count": 10,
   "metadata": {},
   "outputs": [],
   "source": [
    "# find error\n",
    "\n",
    "def get_error(arr):\n",
    "\n",
    "    err_arr = []\n",
    "    for i in range(arr['prediction'].shape[1]):\n",
    "        for j in range(arr['prediction'].shape[2]):\n",
    "            y_true = arr['truth'][:, i, j]\n",
    "            y_pred = arr['prediction'][:, i, j]\n",
    "            err_arr.append(mean_squared_error(y_true, y_pred))\n",
    "    \n",
    "    print(len(err_arr))\n",
    "    \n",
    "    return np.mean(err_arr)"
   ]
  },
  {
   "cell_type": "code",
   "execution_count": 11,
   "metadata": {},
   "outputs": [],
   "source": [
    "def masked_mae_loss(y_pred, y_true):\n",
    "    mask = (y_true != 0).float()\n",
    "    mask /= mask.mean()\n",
    "    loss = torch.abs(y_pred - y_true)\n",
    "    loss = loss * mask\n",
    "    # trick for nans: https://discuss.pytorch.org/t/how-to-set-nan-in-tensor-to-0/3918/3\n",
    "    loss[loss != loss] = 0\n",
    "    return loss.mean()"
   ]
  },
  {
   "cell_type": "code",
   "execution_count": null,
   "metadata": {},
   "outputs": [],
   "source": []
  },
  {
   "cell_type": "code",
   "execution_count": 12,
   "metadata": {},
   "outputs": [
    {
     "data": {
      "text/plain": [
       "['prediction', 'truth']"
      ]
     },
     "execution_count": 12,
     "metadata": {},
     "output_type": "execute_result"
    }
   ],
   "source": [
    "arr_25.files"
   ]
  },
  {
   "cell_type": "code",
   "execution_count": 13,
   "metadata": {},
   "outputs": [
    {
     "data": {
      "text/plain": [
       "(12, 10432, 80)"
      ]
     },
     "execution_count": 13,
     "metadata": {},
     "output_type": "execute_result"
    }
   ],
   "source": [
    "arr_25['prediction'].shape"
   ]
  },
  {
   "cell_type": "code",
   "execution_count": 14,
   "metadata": {},
   "outputs": [
    {
     "data": {
      "text/plain": [
       "array([62.587006, 62.517296, 62.46869 , 62.44066 , 62.427616, 62.424778,\n",
       "       62.428204, 62.433693, 62.438057, 62.440304, 62.441082, 62.441307],\n",
       "      dtype=float32)"
      ]
     },
     "execution_count": 14,
     "metadata": {},
     "output_type": "execute_result"
    }
   ],
   "source": [
    "arr_25['prediction'][:, 0, 0]"
   ]
  },
  {
   "cell_type": "code",
   "execution_count": null,
   "metadata": {},
   "outputs": [],
   "source": []
  },
  {
   "cell_type": "code",
   "execution_count": 15,
   "metadata": {},
   "outputs": [
    {
     "name": "stdout",
     "output_type": "stream",
     "text": [
      "Wall time: 887 ms\n"
     ]
    },
    {
     "data": {
      "text/plain": [
       "0.869742751121521"
      ]
     },
     "execution_count": 15,
     "metadata": {},
     "output_type": "execute_result"
    }
   ],
   "source": [
    "%%time\n",
    "\n",
    "# 25%\n",
    "\n",
    "l,h,w = arr_25['prediction'].shape\n",
    "target = l*h*w\n",
    "\n",
    "y_pred = arr_25['prediction'].reshape(1, target)\n",
    "y_true = arr_25['truth'].reshape(1, target)\n",
    "\n",
    "tc_25_entire = float(masked_mae_loss(torch.from_numpy(y_pred[0]), torch.from_numpy(y_true[0])))\n",
    "tc_25_entire"
   ]
  },
  {
   "cell_type": "code",
   "execution_count": null,
   "metadata": {},
   "outputs": [],
   "source": []
  },
  {
   "cell_type": "code",
   "execution_count": 16,
   "metadata": {},
   "outputs": [
    {
     "name": "stdout",
     "output_type": "stream",
     "text": [
      "80\n"
     ]
    }
   ],
   "source": [
    "# find subset for 25\n",
    "idx_25 = []\n",
    "for idx, i in enumerate(sample_50):\n",
    "    if i in sample_25:\n",
    "        idx_25.append(idx)\n",
    "\n",
    "print(len(idx_25))"
   ]
  },
  {
   "cell_type": "code",
   "execution_count": 17,
   "metadata": {},
   "outputs": [
    {
     "name": "stdout",
     "output_type": "stream",
     "text": [
      "0.9086764454841614\n",
      "0.8643975853919983\n",
      "Wall time: 4.44 s\n"
     ]
    }
   ],
   "source": [
    "%%time\n",
    "\n",
    "# 50%\n",
    "\n",
    "l,h,w = arr_50['prediction'].shape\n",
    "target = l*h*w\n",
    "\n",
    "y_pred = arr_50['prediction'].reshape(1, target)\n",
    "y_true = arr_50['truth'].reshape(1, target)\n",
    "\n",
    "tc_50_entire = float(masked_mae_loss(torch.from_numpy(y_pred[0]), torch.from_numpy(y_true[0])))\n",
    "print(tc_50_entire)\n",
    "\n",
    "\n",
    "\n",
    "# subset 25\n",
    "l,h,w = arr_50['prediction'][:,:,idx_25].shape\n",
    "target = l*h*w\n",
    "\n",
    "y_pred = arr_50['prediction'][:,:,idx_25].reshape(1, target)\n",
    "y_true = arr_50['truth'][:,:,idx_25].reshape(1, target)\n",
    "\n",
    "tc_50_25 = float(masked_mae_loss(torch.from_numpy(y_pred[0]), torch.from_numpy(y_true[0])))\n",
    "print(tc_50_25)\n"
   ]
  },
  {
   "cell_type": "code",
   "execution_count": null,
   "metadata": {},
   "outputs": [],
   "source": []
  },
  {
   "cell_type": "code",
   "execution_count": 18,
   "metadata": {},
   "outputs": [
    {
     "name": "stdout",
     "output_type": "stream",
     "text": [
      "80\n",
      "160\n"
     ]
    }
   ],
   "source": [
    "# find subset for 75\n",
    "idx_25 = []\n",
    "for idx, i in enumerate(sample_75):\n",
    "    if i in sample_25:\n",
    "        idx_25.append(idx)\n",
    "\n",
    "print(len(idx_25))\n",
    "\n",
    "\n",
    "\n",
    "idx_50 = []\n",
    "for idx, i in enumerate(sample_75):\n",
    "    if i in sample_50:\n",
    "        idx_50.append(idx)\n",
    "\n",
    "print(len(idx_50))"
   ]
  },
  {
   "cell_type": "code",
   "execution_count": 19,
   "metadata": {},
   "outputs": [
    {
     "name": "stdout",
     "output_type": "stream",
     "text": [
      "0.9666793346405029\n",
      "0.8638378381729126\n",
      "0.9033098220825195\n",
      "Wall time: 10.7 s\n"
     ]
    }
   ],
   "source": [
    "%%time\n",
    "\n",
    "# 75%\n",
    "\n",
    "l,h,w = arr_75['prediction'].shape\n",
    "target = l*h*w\n",
    "\n",
    "y_pred = arr_75['prediction'].reshape(1, target)\n",
    "y_true = arr_75['truth'].reshape(1, target)\n",
    "\n",
    "tc_75_entire = float(masked_mae_loss(torch.from_numpy(y_pred[0]), torch.from_numpy(y_true[0])))\n",
    "print(tc_75_entire)\n",
    "\n",
    "\n",
    "\n",
    "# subset 25\n",
    "l,h,w = arr_75['prediction'][:,:,idx_25].shape\n",
    "target = l*h*w\n",
    "\n",
    "y_pred = arr_75['prediction'][:,:,idx_25].reshape(1, target)\n",
    "y_true = arr_75['truth'][:,:,idx_25].reshape(1, target)\n",
    "\n",
    "tc_75_25 = float(masked_mae_loss(torch.from_numpy(y_pred[0]), torch.from_numpy(y_true[0])))\n",
    "print(tc_75_25)\n",
    "\n",
    "\n",
    "\n",
    "\n",
    "# subset 50\n",
    "l,h,w = arr_75['prediction'][:,:,idx_50].shape\n",
    "target = l*h*w\n",
    "\n",
    "y_pred = arr_75['prediction'][:,:,idx_50].reshape(1, target)\n",
    "y_true = arr_75['truth'][:,:,idx_50].reshape(1, target)\n",
    "\n",
    "tc_75_50 = float(masked_mae_loss(torch.from_numpy(y_pred[0]), torch.from_numpy(y_true[0])))\n",
    "print(tc_75_50)\n"
   ]
  },
  {
   "cell_type": "code",
   "execution_count": 34,
   "metadata": {},
   "outputs": [
    {
     "name": "stdout",
     "output_type": "stream",
     "text": [
      "80\n",
      "160\n",
      "240\n"
     ]
    }
   ],
   "source": [
    "# find subset for 100\n",
    "idx_25 = []\n",
    "for idx, i in enumerate(sample_100):\n",
    "    if i in sample_25:\n",
    "        idx_25.append(idx)\n",
    "\n",
    "print(len(idx_25))\n",
    "\n",
    "\n",
    "\n",
    "idx_50 = []\n",
    "for idx, i in enumerate(sample_100):\n",
    "    if i in sample_50:\n",
    "        idx_50.append(idx)\n",
    "\n",
    "print(len(idx_50))\n",
    "\n",
    "\n",
    "idx_75 = []\n",
    "for idx, i in enumerate(sample_100):\n",
    "    if i in sample_75:\n",
    "        idx_75.append(idx)\n",
    "\n",
    "print(len(idx_75))"
   ]
  },
  {
   "cell_type": "code",
   "execution_count": 35,
   "metadata": {},
   "outputs": [
    {
     "name": "stdout",
     "output_type": "stream",
     "text": [
      "1.0251086950302124\n",
      "0.9427734613418579\n",
      "0.9791530966758728\n",
      "0.9892624020576477\n",
      "Wall time: 17 s\n"
     ]
    }
   ],
   "source": [
    "%%time\n",
    "\n",
    "# 100%\n",
    "\n",
    "l,h,w = arr_100['prediction'].shape\n",
    "target = l*h*w\n",
    "\n",
    "y_pred = arr_100['prediction'].reshape(1, target)\n",
    "y_true = arr_100['truth'].reshape(1, target)\n",
    "\n",
    "tc_100_entire = float(masked_mae_loss(torch.from_numpy(y_pred[0]), torch.from_numpy(y_true[0])))\n",
    "print(tc_100_entire)\n",
    "\n",
    "\n",
    "# subset 25\n",
    "l,h,w = arr_100['prediction'][:,:,idx_25].shape\n",
    "target = l*h*w\n",
    "\n",
    "y_pred = arr_100['prediction'][:,:,idx_25].reshape(1, target)\n",
    "y_true = arr_100['truth'][:,:,idx_25].reshape(1, target)\n",
    "\n",
    "tc_100_25 = float(masked_mae_loss(torch.from_numpy(y_pred[0]), torch.from_numpy(y_true[0])))\n",
    "print(tc_100_25)\n",
    "\n",
    "\n",
    "# subset 50\n",
    "l,h,w = arr_100['prediction'][:,:,idx_50].shape\n",
    "target = l*h*w\n",
    "\n",
    "y_pred = arr_100['prediction'][:,:,idx_50].reshape(1, target)\n",
    "y_true = arr_100['truth'][:,:,idx_50].reshape(1, target)\n",
    "\n",
    "tc_100_50 = float(masked_mae_loss(torch.from_numpy(y_pred[0]), torch.from_numpy(y_true[0])))\n",
    "print(tc_100_50)\n",
    "\n",
    "\n",
    "# subset 75\n",
    "l,h,w = arr_100['prediction'][:,:,idx_75].shape\n",
    "target = l*h*w\n",
    "\n",
    "y_pred = arr_100['prediction'][:,:,idx_75].reshape(1, target)\n",
    "y_true = arr_100['truth'][:,:,idx_75].reshape(1, target)\n",
    "\n",
    "tc_100_75 = float(masked_mae_loss(torch.from_numpy(y_pred[0]), torch.from_numpy(y_true[0])))\n",
    "print(tc_100_75)\n"
   ]
  },
  {
   "cell_type": "code",
   "execution_count": 133,
   "metadata": {},
   "outputs": [],
   "source": [
    "import os\n",
    "import matplotlib.pyplot as plt\n",
    "\n",
    "os.environ['KMP_DUPLICATE_LIB_OK']='True'"
   ]
  },
  {
   "cell_type": "code",
   "execution_count": 159,
   "metadata": {},
   "outputs": [],
   "source": [
    "# plot loss functions\n",
    "\n",
    "# 25\n",
    "train_mae_25 = [0.8977, 0.7508, 0.7392, 0.7313, 0.7256, 0.7205, 0.7170, 0.7139, 0.7110, 0.7086]\n",
    "val_mae_25 = [0.8507, 0.8319, 0.8242, 0.8165, 0.8181, 0.8070, 0.7958, 0.7983, 0.7814, 0.7861]\n",
    "\n",
    "# 50\n",
    "train_mae_50 = [0.8777, 0.7498, 0.7426, 0.7339, 0.7288, 0.7269, 0.7247, 0.7197, 0.7189, 0.7160]\n",
    "val_mae_50 = [0.9096, 0.8642, 0.8525, 0.8650, 0.8540, 0.8580, 0.8372, 0.8435, 0.8327, 0.8283]\n",
    "\n",
    "\n",
    "# 75\n",
    "train_mae_75 = [0.9846, 0.7948, 0.7843, 0.7767, 0.7742, 0.7694, 0.7673, 0.7633, 0.7625, 0.7632]\n",
    "val_mae_75 = [1.0633, 0.9633, 0.9339, 0.9327, 1.1283, 1.0339, 1.0301, 0.9011, 0.8973, 0.9279]\n"
   ]
  },
  {
   "cell_type": "code",
   "execution_count": 177,
   "metadata": {},
   "outputs": [
    {
     "data": {
      "image/png": "[encoded data removed]",
      "text/plain": [
       "<Figure size 864x360 with 1 Axes>"
      ]
     },
     "metadata": {
      "needs_background": "light"
     },
     "output_type": "display_data"
    }
   ],
   "source": [
    "plt.figure(figsize=(12,5))\n",
    "plt.plot(train_mae_25)\n",
    "\n",
    "plt.plot(train_mae_50)\n",
    "\n",
    "plt.plot(train_mae_75)\n",
    "\n",
    "plt.legend(['80 nodes', \n",
    "            '160 nodes', \n",
    "            '240 nodes'], loc='upper left', bbox_to_anchor=(0.649, 1.0))\n",
    "plt.title(\"Training Loss Fn\")\n",
    "plt.xlabel(\"Epoch Number\")\n",
    "plt.ylabel(\"MAE\")\n",
    "plt.rcParams.update({'font.size': 20})"
   ]
  },
  {
   "cell_type": "code",
   "execution_count": 178,
   "metadata": {},
   "outputs": [
    {
     "data": {
      "image/png": "[encoded data removed]",
      "text/plain": [
       "<Figure size 864x360 with 1 Axes>"
      ]
     },
     "metadata": {
      "needs_background": "light"
     },
     "output_type": "display_data"
    }
   ],
   "source": [
    "plt.figure(figsize=(12,5))\n",
    "plt.plot(val_mae_25)\n",
    "\n",
    "plt.plot(val_mae_50)\n",
    "\n",
    "plt.plot(val_mae_75)\n",
    "\n",
    "plt.legend(['80 nodes', \n",
    "            '160 nodes', \n",
    "            '240 nodes'], loc='upper left', bbox_to_anchor=(0.675, 1.0))\n",
    "plt.title(\"Validation Loss Fn\")\n",
    "plt.xlabel(\"Epoch Number\")\n",
    "plt.ylabel(\"MAE\")\n",
    "plt.rcParams.update({'font.size': 20})"
   ]
  },
  {
   "cell_type": "code",
   "execution_count": null,
   "metadata": {},
   "outputs": [],
   "source": []
  }
 ],
 "metadata": {
  "kernelspec": {
   "display_name": "Python 3",
   "language": "python",
   "name": "python3"
  },
  "language_info": {
   "codemirror_mode": {
    "name": "ipython",
    "version": 3
   },
   "file_extension": ".py",
   "mimetype": "text/x-python",
   "name": "python",
   "nbconvert_exporter": "python",
   "pygments_lexer": "ipython3",
   "version": "3.8.8"
  },
  "toc": {
   "base_numbering": 1,
   "nav_menu": {},
   "number_sections": true,
   "sideBar": true,
   "skip_h1_title": false,
   "title_cell": "Table of Contents",
   "title_sidebar": "Contents",
   "toc_cell": false,
   "toc_position": {},
   "toc_section_display": true,
   "toc_window_display": false
  },
  "varInspector": {
   "cols": {
    "lenName": 16,
    "lenType": 16,
    "lenVar": 40
   },
   "kernels_config": {
    "python": {
     "delete_cmd_postfix": "",
     "delete_cmd_prefix": "del ",
     "library": "var_list.py",
     "varRefreshCmd": "print(var_dic_list())"
    },
    "r": {
     "delete_cmd_postfix": ") ",
     "delete_cmd_prefix": "rm(",
     "library": "var_list.r",
     "varRefreshCmd": "cat(var_dic_list()) "
    }
   },
   "types_to_exclude": [
    "module",
    "function",
    "builtin_function_or_method",
    "instance",
    "_Feature"
   ],
   "window_display": false
  }
 },
 "nbformat": 4,
 "nbformat_minor": 4
}
