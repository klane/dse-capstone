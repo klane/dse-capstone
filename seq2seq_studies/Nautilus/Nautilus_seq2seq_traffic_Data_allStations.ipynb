{
 "cells": [
  {
   "cell_type": "code",
   "execution_count": 1,
   "metadata": {
    "id": "K4XWHTiPlAAK"
   },
   "outputs": [],
   "source": [
    "from __future__ import unicode_literals, print_function, division\n",
    "import torch\n",
    "import torch.nn as nn\n",
    "import torch.optim as optim\n",
    "import torch.nn.functional as F\n",
    "import matplotlib.pyplot as plt\n",
    "import numpy as np\n",
    "import pandas as pd\n",
    "from torch.utils import data\n",
    "import os\n",
    "from os import listdir\n",
    "from os.path import join, abspath\n",
    "import itertools\n",
    "import re\n",
    "import random\n",
    "import time\n",
    "from torch.autograd import Variable\n",
    "from scipy.signal import tukey\n",
    "from torch.utils import data\n",
    "from tqdm.notebook import tqdm\n",
    "device = torch.device(\"cuda:0\" if torch.cuda.is_available() else \"cpu\")\n",
    "import warnings\n",
    "warnings.filterwarnings(\"ignore\")\n",
    "\n",
    "\n",
    "import json\n",
    "import sqlalchemy as sal\n",
    "import getpass\n",
    "import pandas as pd\n",
    "from urllib.request import urlopen\n",
    "import pickle as pkl\n"
   ]
  },
  {
   "cell_type": "code",
   "execution_count": 2,
   "metadata": {},
   "outputs": [
    {
     "data": {
      "text/plain": [
       "'GeForce GTX 1080 Ti'"
      ]
     },
     "execution_count": 2,
     "metadata": {},
     "output_type": "execute_result"
    }
   ],
   "source": [
    "torch.cuda.get_device_name(0)"
   ]
  },
  {
   "cell_type": "code",
   "execution_count": 3,
   "metadata": {
    "colab": {
     "base_uri": "https://localhost:8080/"
    },
    "id": "TyvDpKlwlQQd",
    "outputId": "4619036b-697c-4497-8b1c-d6e26da4ab39"
   },
   "outputs": [
    {
     "data": {
      "text/plain": [
       "True"
      ]
     },
     "execution_count": 3,
     "metadata": {},
     "output_type": "execute_result"
    }
   ],
   "source": [
    "torch.cuda.is_available()"
   ]
  },
  {
   "cell_type": "markdown",
   "metadata": {
    "id": "EEG4ddBblAAO"
   },
   "source": [
    "# Get data from RDS\n"
   ]
  },
  {
   "cell_type": "code",
   "execution_count": 4,
   "metadata": {
    "id": "xAtYTrMolAAP",
    "outputId": "abf651c3-010c-4bd4-d31a-1c6e18dae57c"
   },
   "outputs": [
    {
     "name": "stdout",
     "output_type": "stream",
     "text": [
      "(16673264, 3)\n",
      "Wall time: 2min 49s\n"
     ]
    },
    {
     "data": {
      "text/html": [
       "<div>\n",
       "<style scoped>\n",
       "    .dataframe tbody tr th:only-of-type {\n",
       "        vertical-align: middle;\n",
       "    }\n",
       "\n",
       "    .dataframe tbody tr th {\n",
       "        vertical-align: top;\n",
       "    }\n",
       "\n",
       "    .dataframe thead th {\n",
       "        text-align: right;\n",
       "    }\n",
       "</style>\n",
       "<table border=\"1\" class=\"dataframe\">\n",
       "  <thead>\n",
       "    <tr style=\"text-align: right;\">\n",
       "      <th></th>\n",
       "      <th>timestamp</th>\n",
       "      <th>station</th>\n",
       "      <th>total_flow</th>\n",
       "    </tr>\n",
       "  </thead>\n",
       "  <tbody>\n",
       "    <tr>\n",
       "      <th>0</th>\n",
       "      <td>2020-01-01 00:05:00</td>\n",
       "      <td>400001</td>\n",
       "      <td>57.0</td>\n",
       "    </tr>\n",
       "    <tr>\n",
       "      <th>1</th>\n",
       "      <td>2020-01-01 00:05:00</td>\n",
       "      <td>400017</td>\n",
       "      <td>45.0</td>\n",
       "    </tr>\n",
       "    <tr>\n",
       "      <th>2</th>\n",
       "      <td>2020-01-01 00:05:00</td>\n",
       "      <td>400030</td>\n",
       "      <td>49.0</td>\n",
       "    </tr>\n",
       "    <tr>\n",
       "      <th>3</th>\n",
       "      <td>2020-01-01 00:05:00</td>\n",
       "      <td>400040</td>\n",
       "      <td>80.0</td>\n",
       "    </tr>\n",
       "    <tr>\n",
       "      <th>4</th>\n",
       "      <td>2020-01-01 00:05:00</td>\n",
       "      <td>400045</td>\n",
       "      <td>45.0</td>\n",
       "    </tr>\n",
       "  </tbody>\n",
       "</table>\n",
       "</div>"
      ],
      "text/plain": [
       "            timestamp  station  total_flow\n",
       "0 2020-01-01 00:05:00   400001        57.0\n",
       "1 2020-01-01 00:05:00   400017        45.0\n",
       "2 2020-01-01 00:05:00   400030        49.0\n",
       "3 2020-01-01 00:05:00   400040        80.0\n",
       "4 2020-01-01 00:05:00   400045        45.0"
      ]
     },
     "execution_count": 4,
     "metadata": {},
     "output_type": "execute_result"
    }
   ],
   "source": [
    "%%time\n",
    "#parameters of the AWS database\n",
    "endpoint = \"capstone.clihskgj8i7s.us-west-2.rds.amazonaws.com\"\n",
    "user=\"group3\"\n",
    "db=\"db1\"\n",
    "#pw=getpass.getpass(\"Enter database password\")\n",
    "pw=open(r'C:\\Users\\rmartinez4\\OneDrive - Illumina, Inc\\Desktop\\password.txt',\"r\").read().rstrip()\n",
    "\n",
    "engine = sal.create_engine('postgresql://%s:%s@%s/%s' % (user, pw, endpoint, db))\n",
    "\n",
    "query=\"\"\"\n",
    "select timestamp, station, total_flow\n",
    "from traffic_train\n",
    ";\n",
    "\"\"\"\n",
    "\n",
    "query_data=pd.read_sql(query, engine)\n",
    "\n",
    "print(query_data.shape)\n",
    "query_data.head()"
   ]
  },
  {
   "cell_type": "code",
   "execution_count": 5,
   "metadata": {
    "id": "AgUSha_ylAAP",
    "outputId": "47a7b5ca-fd73-4ad8-f185-708954b98fc0"
   },
   "outputs": [
    {
     "name": "stdout",
     "output_type": "stream",
     "text": [
      "2020-01-01 00:05:00 2020-06-30 00:00:00\n"
     ]
    }
   ],
   "source": [
    "print(query_data.timestamp.min(), query_data.timestamp.max())"
   ]
  },
  {
   "cell_type": "markdown",
   "metadata": {
    "id": "FznEMhLElAAQ"
   },
   "source": [
    "# Data Preparation\n",
    "\n",
    "- Data Augmentation: create more segments with a sliding window of 1 hour (12 data points)\n",
    "- split into segments\n",
    "- filter segments with: negative values"
   ]
  },
  {
   "cell_type": "code",
   "execution_count": 7,
   "metadata": {},
   "outputs": [],
   "source": [
    "def generate_segments(df, segment_length=24, window=1):\n",
    "    \n",
    "    continous_time_series = []\n",
    "    for s in set(df['station']):\n",
    "        df_temp = df[df.station==s].sort_values('timestamp')\n",
    "        for i in range(len(df_temp)-segment_length):\n",
    "            arr = np.array(df_temp['total_flow'][i:i+segment_length])\n",
    "            time_series = torch.from_numpy(arr.reshape(segment_length,1))\n",
    "            continous_time_series.append(time_series)\n",
    "        \n",
    "    return torch.stack(continous_time_series, 0)"
   ]
  },
  {
   "cell_type": "code",
   "execution_count": 8,
   "metadata": {
    "id": "yG0ZIQv8lAAR",
    "outputId": "267c9b7a-ae6d-4fab-8ca4-1b332dc783bd"
   },
   "outputs": [
    {
     "name": "stdout",
     "output_type": "stream",
     "text": [
      "Wall time: 35min 1s\n"
     ]
    },
    {
     "data": {
      "text/plain": [
       "torch.Size([16665584, 24, 1])"
      ]
     },
     "execution_count": 8,
     "metadata": {},
     "output_type": "execute_result"
    }
   ],
   "source": [
    "%%time\n",
    "c_time_series = generate_segments(df)\n",
    "c_time_series.shape"
   ]
  },
  {
   "cell_type": "code",
   "execution_count": null,
   "metadata": {
    "id": "iKxm-6PTlAAS",
    "outputId": "b3c898c2-d088-4c1d-e198-5c66b1f689f2"
   },
   "outputs": [],
   "source": [
    "plt.plot(np.array(c_time_series[300].reshape(1,12)[0]))"
   ]
  },
  {
   "cell_type": "code",
   "execution_count": 9,
   "metadata": {
    "id": "RsTgsN67lAAS",
    "outputId": "467b14be-edec-4f80-f275-679bb63b5f68"
   },
   "outputs": [
    {
     "name": "stdout",
     "output_type": "stream",
     "text": [
      "Wall time: 45min 2s\n"
     ]
    },
    {
     "data": {
      "text/plain": [
       "16618280"
      ]
     },
     "execution_count": 9,
     "metadata": {},
     "output_type": "execute_result"
    }
   ],
   "source": [
    "%%time\n",
    "# find idx for segments with negative values and remove\n",
    "n_segments = c_time_series.shape[0]\n",
    "idx_to_keep = [i for i in range(n_segments) if all(c_time_series[i,:,:]>=0) and not any(c_time_series[i,:,:].isnan())]\n",
    "len(idx_to_keep)"
   ]
  },
  {
   "cell_type": "code",
   "execution_count": 15,
   "metadata": {
    "id": "OEYjdRP4lAAS",
    "outputId": "887c045b-ae9f-459a-f9c5-fa366bd03785"
   },
   "outputs": [
    {
     "data": {
      "text/plain": [
       "torch.Size([16645772, 12, 1])"
      ]
     },
     "execution_count": 15,
     "metadata": {},
     "output_type": "execute_result"
    }
   ],
   "source": [
    "c_time_series = c_time_series[idx_to_keep, :, :]\n",
    "c_time_series.shape"
   ]
  },
  {
   "cell_type": "code",
   "execution_count": 10,
   "metadata": {
    "id": "ahOzntcOlAAT"
   },
   "outputs": [],
   "source": [
    "filename = 'traffic_bayArea_station_allStations_12pts.pkl'"
   ]
  },
  {
   "cell_type": "code",
   "execution_count": null,
   "metadata": {},
   "outputs": [],
   "source": [
    "# save data\n",
    "\n",
    "with open(filename, \"wb\") as fout:\n",
    "    pkl.dump(c_time_series, fout, protocol=pkl.HIGHEST_PROTOCOL)"
   ]
  },
  {
   "cell_type": "markdown",
   "metadata": {},
   "source": [
    "# Read Saved Data"
   ]
  },
  {
   "cell_type": "code",
   "execution_count": 3,
   "metadata": {},
   "outputs": [
    {
     "data": {
      "text/plain": [
       "torch.Size([16645772, 12, 1])"
      ]
     },
     "execution_count": 3,
     "metadata": {},
     "output_type": "execute_result"
    }
   ],
   "source": [
    "filename = 'traffic_bayArea_station_allStations_12pts.pkl'"
   ]
  },
  {
   "cell_type": "code",
   "execution_count": 1,
   "metadata": {
    "colab": {
     "base_uri": "https://localhost:8080/"
    },
    "id": "i6Cf8NtglAAT",
    "outputId": "a5776fb4-df01-4502-d0b4-921ed6541ecf"
   },
   "outputs": [
    {
     "ename": "FileNotFoundError",
     "evalue": "[Errno 2] No such file or directory: '/content/sample_data/traffic_bayArea_station_allStations.pkl'",
     "output_type": "error",
     "traceback": [
      "\u001b[1;31m---------------------------------------------------------------------------\u001b[0m",
      "\u001b[1;31mFileNotFoundError\u001b[0m                         Traceback (most recent call last)",
      "\u001b[1;32m<timed exec>\u001b[0m in \u001b[0;36m<module>\u001b[1;34m\u001b[0m\n",
      "\u001b[1;31mFileNotFoundError\u001b[0m: [Errno 2] No such file or directory: '/content/sample_data/traffic_bayArea_station_allStations.pkl'"
     ]
    }
   ],
   "source": [
    "%%time\n",
    "\n",
    "# read tensor\n",
    "with open(filename, \"rb\") as fout:\n",
    "    c_time_series = pkl.load(fout)"
   ]
  },
  {
   "cell_type": "code",
   "execution_count": 4,
   "metadata": {
    "id": "GeGqqaF3lAAT"
   },
   "outputs": [],
   "source": [
    "c_time_series.shape"
   ]
  },
  {
   "cell_type": "markdown",
   "metadata": {
    "id": "kPCU3aA5lAAU"
   },
   "source": [
    "# Generate Train and Test Datasets"
   ]
  },
  {
   "cell_type": "code",
   "execution_count": 4,
   "metadata": {
    "id": "zVxgdjvylAAU"
   },
   "outputs": [],
   "source": [
    "def scale_data(data_x, data_y, out_pos = 0, return_current_avg_std = False):\n",
    "    \"\"\" \n",
    "    Arg:\n",
    "        data_x: features\n",
    "        data_y: labels\n",
    "        out_pos: the position of feature of which average and stand deviation will be returned.\n",
    "    returns:\n",
    "        1. Normalized features and labels\n",
    "        2. Average and standard deviation of the selected feature.\n",
    "    \"\"\"\n",
    "    avg = data_x[:,:,out_pos].mean()\n",
    "    std = data_x[:,:,out_pos].std()\n",
    "#     c_avg = data_x[:,:,1].mean()\n",
    "#     c_std = data_x[:,:,1].std()\n",
    "    for i in range(data_x.shape[-1]):\n",
    "        data_x[:,:,i] = (data_x[:,:,i] - data_x[:,:,i].mean())/data_x[:,:,i].std()\n",
    "    data_y = (data_y-avg)/std\n",
    "    if return_current_avg_std:\n",
    "        return data_x, data_y, (avg, std)  \n",
    "#         return data_x, data_y, (avg, std), (c_avg, c_std)   \n",
    "    else:\n",
    "        return data_x, data_y, (avg, std)\n",
    "\n",
    "class Dataset(data.Dataset):\n",
    "    def __init__(self, X, Y, lst_index, output_steps, position_embedding = (False)):\n",
    "        \"\"\"\n",
    "        Args:\n",
    "            lst_index: indexes of observations in the dataset.\n",
    "            output_steps: Forecasting Horizon.\n",
    "        \"\"\"\n",
    "        self.X = X[lst_index]\n",
    "        self.Y = Y[lst_index]\n",
    "        self.output_steps = output_steps\n",
    "        \n",
    "    def __len__(self):\n",
    "        return self.X.shape[0]\n",
    "\n",
    "    def __getitem__(self, index):\n",
    "        x = self.X[index]\n",
    "        y = self.Y[index][:self.output_steps]\n",
    "        return x, y"
   ]
  },
  {
   "cell_type": "code",
   "execution_count": 5,
   "metadata": {
    "colab": {
     "base_uri": "https://localhost:8080/"
    },
    "id": "w0yv7iQtlAAU",
    "outputId": "f50267a3-3788-46ae-a11b-4ac3628d6e57"
   },
   "outputs": [
    {
     "name": "stdout",
     "output_type": "stream",
     "text": [
      "CPU times: user 240 ms, sys: 4.85 ms, total: 244 ms\n",
      "Wall time: 292 ms\n"
     ]
    }
   ],
   "source": [
    "%%time\n",
    "\n",
    "sample_size = c_time_series.shape[0]\n",
    "segment_size = c_time_series.shape[1]\n",
    "pred_size = int(segment_size/2)\n",
    "\n",
    "test_size = sample_size // 4\n",
    "train_valid_size = test_size * 3\n",
    "training_size = test_size * 2\n",
    "validation_size = test_size * 1\n",
    "\n",
    "X_train = c_time_series[:train_valid_size,:pred_size,:]\n",
    "Y_train = c_time_series[:train_valid_size,pred_size:,:]\n",
    "sample_size, pred_length, feature_count = X_train.shape\n",
    "\n",
    "X_test = c_time_series[training_size:training_size+test_size,:pred_size,:]\n",
    "Y_test = c_time_series[training_size:training_size+test_size,pred_size:,:]\n",
    "\n",
    "X_all = c_time_series[:train_valid_size+test_size,:pred_size,:]\n",
    "Y_all = c_time_series[:train_valid_size+test_size,pred_size:,:]\n",
    "\n",
    "X, Y, (avg, std) = scale_data(X_all, Y_all, out_pos = 0, return_current_avg_std = True)"
   ]
  },
  {
   "cell_type": "code",
   "execution_count": 6,
   "metadata": {
    "colab": {
     "base_uri": "https://localhost:8080/"
    },
    "id": "IjmIKWaclAAV",
    "outputId": "03bdf0e0-cd0f-4c07-a51d-e985b82e9315"
   },
   "outputs": [
    {
     "name": "stdout",
     "output_type": "stream",
     "text": [
      "torch.Size([245793, 36, 1]) torch.Size([245793, 36, 1])\n",
      "torch.Size([81931, 36, 1]) torch.Size([81931, 36, 1])\n",
      "torch.Size([327724, 36, 1]) torch.Size([327724, 36, 1])\n",
      "245793 36 1\n",
      "81931 245793 163862 81931\n"
     ]
    }
   ],
   "source": [
    "print(X_train.shape, Y_train.shape)\n",
    "print(X_test.shape, Y_test.shape)\n",
    "print(X_all.shape, Y_all.shape)\n",
    "\n",
    "print(sample_size, pred_length, feature_count)\n",
    "\n",
    "print(test_size, train_valid_size, training_size, validation_size)"
   ]
  },
  {
   "cell_type": "markdown",
   "metadata": {},
   "source": [
    "# Train Neural Network"
   ]
  },
  {
   "cell_type": "code",
   "execution_count": 7,
   "metadata": {
    "id": "QJRsLnOMlAAV"
   },
   "outputs": [],
   "source": [
    "class Encoder(nn.Module):\n",
    "    def __init__(self, input_dim, hidden_dim, num_layers, dropout_rate):\n",
    "        \"\"\"\n",
    "        Args:\n",
    "            input_dim: the dimension of input sequences.\n",
    "            hidden_dim: number hidden units.\n",
    "            num_layers: number of encode layers.\n",
    "            dropout_rate: recurrent dropout rate.\n",
    "        \"\"\"\n",
    "        super(Encoder, self).__init__()\n",
    "        self.num_layers = num_layers\n",
    "        self.hidden_dim = hidden_dim\n",
    "        self.lstm = nn.LSTM(input_dim, hidden_dim, num_layers=num_layers, \n",
    "                            bidirectional = True, dropout = dropout_rate, batch_first = True)\n",
    "        \n",
    "    def forward(self, source):\n",
    "        \"\"\"\n",
    "        Args:\n",
    "            source: input tensor(batch_size*input dimension)\n",
    "        Return:\n",
    "            outputs: Prediction\n",
    "            concat_hidden: hidden states\n",
    "        \"\"\"\n",
    "        outputs, hidden = self.lstm(source)\n",
    "        return outputs, hidden\n",
    "    \n",
    "class Decoder(nn.Module):\n",
    "    def __init__(self, output_dim, hidden_dim, num_layers, dropout_rate):\n",
    "        \"\"\"\n",
    "        Args:\n",
    "            output_dim: the dimension of output sequences.\n",
    "            hidden_dim: number hidden units.\n",
    "            num_layers: number of code layers.\n",
    "            dropout_rate: recurrent dropout rate.\n",
    "        \"\"\"\n",
    "        super(Decoder, self).__init__()\n",
    "        \n",
    "        # Since the encoder is bidirectional, decoder has double hidden size\n",
    "        self.lstm = nn.LSTM(output_dim, hidden_dim*2, num_layers = num_layers, \n",
    "                            dropout = dropout_rate, batch_first = True)\n",
    "        \n",
    "        self.out = nn.Linear(hidden_dim*2, output_dim)\n",
    "      \n",
    "    def forward(self, x, hidden):\n",
    "        \"\"\"\n",
    "        Args:\n",
    "            x: prediction from previous prediction.\n",
    "            hidden: hidden states from previous cell.\n",
    "        Returns:\n",
    "            1. prediction for current step.\n",
    "            2. hidden state pass to next cell.\n",
    "        \"\"\"\n",
    "        output, hidden = self.lstm(x, hidden)   \n",
    "        prediction = self.out(output.float())\n",
    "        return prediction, hidden     \n",
    "    \n",
    "class Seq2Seq(nn.Module):\n",
    "    def __init__(self, encoder, decoder, device):\n",
    "        \"\"\"\n",
    "        Args:\n",
    "            encoder: Encoder object.\n",
    "            decoder: Decoder object.\n",
    "            device: \n",
    "        \"\"\"\n",
    "        super(Seq2Seq, self).__init__()\n",
    "        self.encoder = encoder\n",
    "        self.decoder = decoder\n",
    "        self.device = device\n",
    "\n",
    "    def forward(self, source, target_tensor):\n",
    "        \"\"\"\n",
    "        Args:\n",
    "            source: input tensor.\n",
    "            target_length: forecasting steps.\n",
    "        Returns:\n",
    "            total prediction\n",
    "        \"\"\"\n",
    "        batch_size = source.size(0) \n",
    "        input_length = source.size(1) \n",
    "        target_length = target_tensor.shape[1]\n",
    "        output_dim = target_tensor.shape[-1]\n",
    "        encoder_hidden = (torch.zeros(self.encoder.num_layers*2, batch_size, self.encoder.hidden_dim, device=device),\n",
    "                          torch.zeros(self.encoder.num_layers*2, batch_size, self.encoder.hidden_dim, device=device))\n",
    "        encoder_output, encoder_hidden = self.encoder(source)\n",
    "        \n",
    "        # Concatenate the hidden states of both directions.\n",
    "        num_layers = int(encoder_hidden[0].shape[0]/2)\n",
    "        h = torch.cat([encoder_hidden[0][0:self.encoder.num_layers,:,:], \n",
    "                       encoder_hidden[0][-self.encoder.num_layers:,:,:]], \n",
    "                      dim=2, out=None).to(device)\n",
    "        c = torch.cat([encoder_hidden[1][0:self.encoder.num_layers,:,:], \n",
    "                       encoder_hidden[1][-self.encoder.num_layers:,:,:]], \n",
    "                      dim=2, out=None).to(device)\n",
    "        concat_hidden = (h, c)\n",
    "        \n",
    "        \n",
    "        outputs = torch.zeros(batch_size, target_length, output_dim).to(self.device)\n",
    "        decoder_output = torch.zeros((batch_size, 1, output_dim), device = self.device)\n",
    "        decoder_hidden = concat_hidden\n",
    "        \n",
    "        for t in range(target_length):  \n",
    "            decoder_output, decoder_hidden = self.decoder(decoder_output, decoder_hidden)\n",
    "            outputs[:,t:t+1,:] = decoder_output\n",
    "        return outputs"
   ]
  },
  {
   "cell_type": "code",
   "execution_count": 8,
   "metadata": {
    "id": "PGK3TwahlAAW"
   },
   "outputs": [],
   "source": [
    "def run_epoch_train(model, data_generator, model_optimizer, criterion):\n",
    "    \"\"\"\n",
    "    Args:\n",
    "        model: RNN model.\n",
    "        data_generator: data.DataLoader object.\n",
    "        model_optimizer: optimizer.\n",
    "        criterion: loss function\n",
    "    Returns:\n",
    "        Root Mean Square Error on Training Dataset\n",
    "    \"\"\"\n",
    "    MSE = []\n",
    "    for x, y in data_generator:\n",
    "        # The input shape for nn.conv1d should sequence_length * batch_size * #features\n",
    "        input_tensor, target_tensor = x.to(device).float(), y.to(device).float()\n",
    "        model_optimizer.zero_grad()\n",
    "        loss = 0\n",
    "        output = model(input_tensor, target_tensor).reshape(target_tensor.shape)\n",
    "        num_iter = output.size(0)\n",
    "        for ot in range(num_iter):\n",
    "            loss += criterion(output[ot], target_tensor[ot])\n",
    "        MSE.append(loss.item()/num_iter)\n",
    "        loss.backward()\n",
    "        model_optimizer.step()\n",
    "    \n",
    "    return round(np.sqrt(np.mean(MSE)), 5)\n",
    " \n",
    "\n",
    "def run_epoch_eval(model, data_generator, criterion, return_pred = False):\n",
    "    \"\"\"\n",
    "    Args:\n",
    "        model: CNN model.\n",
    "        data_generator: data.DataLoader object.\n",
    "        criterion: loss function\n",
    "    Returns:\n",
    "        Root Mean Square Error on evaluation datasets.\n",
    "    \"\"\"\n",
    "    with torch.no_grad():\n",
    "        MSE = []\n",
    "        preds = []\n",
    "        for x, y in data_generator:\n",
    "            input_tensor, target_tensor = x.to(device).float(), y.to(device).float()\n",
    "            loss = 0\n",
    "            output = model(input_tensor, target_tensor).reshape(target_tensor.shape)\n",
    "            preds.append(output.cpu().detach().numpy())\n",
    "            num_iter = output.size(0)\n",
    "            \n",
    "            for ot in range(num_iter):\n",
    "                loss += criterion(output[ot], target_tensor[ot])\n",
    "            MSE.append(loss.item()/num_iter)\n",
    "            \n",
    "    if return_pred == True:\n",
    "        preds =  np.concatenate(preds).squeeze(-1)\n",
    "        return round(np.sqrt(np.mean(MSE)), 5), preds\n",
    "    else:\n",
    "        return round(np.sqrt(np.mean(MSE)), 5)\n",
    "\n",
    "\n",
    "def train_model(model, X, Y, learning_rate, output_steps, batch_size, train_idx, valid_idx, test_idx, test=False, return_pred=False):\n",
    "    # Initialize the model and define optimizer, learning rate decay and criterion\n",
    "    optimizer = torch.optim.RMSprop(model.parameters(), lr = learning_rate)\n",
    "    scheduler = torch.optim.lr_scheduler.StepLR(optimizer, step_size= 5, gamma=0.8)\n",
    "    criterion = nn.MSELoss()\n",
    "    \n",
    "    # Split dataset into training set, validation set and test set.\n",
    "    train_rmse, train_set = [], Dataset(X, Y, train_idx, output_steps)\n",
    "    valid_rmse, valid_set = [], Dataset(X, Y, valid_idx, output_steps)\n",
    "    if test:\n",
    "        test_rmse, test_set = [], Dataset(X, Y, test_idx, output_steps)\n",
    "    \n",
    "    min_loss = 1000\n",
    "    best_model = 0\n",
    "    best_preds = 0\n",
    "    min_valid_loss = 1000\n",
    "    \n",
    "    for i in tqdm(range(200)):\n",
    "        start = time.time()\n",
    "        scheduler.step()\n",
    "        train_generator = data.DataLoader(train_set, batch_size = batch_size, shuffle = True)\n",
    "        valid_generator = data.DataLoader(valid_set, batch_size = batch_size, shuffle = False)\n",
    "        if test:\n",
    "            test_generator = data.DataLoader(test_set, batch_size = batch_size, shuffle = False)\n",
    " \n",
    "        model.train()\n",
    "        train_rmse.append(run_epoch_train(model, train_generator, optimizer, criterion))\n",
    "            \n",
    "        model.eval()\n",
    "        rmse, predictions = run_epoch_eval(model,  valid_generator, criterion, return_pred = True)\n",
    "        valid_rmse.append(rmse)\n",
    "        \n",
    "        if test:\n",
    "            if return_pred:\n",
    "                t_rmse, test_predictions = run_epoch_eval(model, test_generator, criterion, return_pred = True)\n",
    "            else:\n",
    "                t_rmse = run_epoch_eval(model, test_generator, criterion, return_pred = False)\n",
    "            test_rmse.append(t_rmse)\n",
    "        \n",
    "        if valid_rmse[-1] < min_loss:\n",
    "            min_loss = valid_rmse[-1]\n",
    "            best_model = model\n",
    "            min_valid_loss = valid_rmse[-1]\n",
    "            best_preds = predictions\n",
    "            min_valid_loss = valid_rmse[-1]\n",
    "            \n",
    "        if (len(train_rmse) > 15 and np.mean(valid_rmse[-5:]) >= np.mean(valid_rmse[-10:-5])):\n",
    "            break\n",
    "            \n",
    "    end = time.time()       \n",
    "    print((\"Epoch %d:\"%(i+1)), (\"Loss: %f; \"%train_rmse[-1]),(\"valid_loss: %f; \"%valid_rmse[-1]), \n",
    "          (\"Time: %f; \"%round(end - start,5)))\n",
    "\n",
    "    if test:\n",
    "        if return_pred:\n",
    "            return best_model, (train_rmse,valid_rmse),  best_preds, min_valid_loss, test_rmse, test_predictions\n",
    "        return best_model, (train_rmse,valid_rmse),  best_preds, min_valid_loss, test_rmse\n",
    "    return best_model, (train_rmse,valid_rmse),  best_preds, min_valid_loss"
   ]
  },
  {
   "cell_type": "code",
   "execution_count": 9,
   "metadata": {
    "colab": {
     "base_uri": "https://localhost:8080/",
     "height": 82,
     "referenced_widgets": [
      "86efb748af4d4320a54c3b4552ddc84b",
      "c4ac762c9c004b1a9badeaace27a9cdb",
      "930405bbf7e64e0684d32ddeccf447a9",
      "7a52151811ab4fbf87fbea68f86f0941",
      "16a587a7fe9248b29b89a251b236b654",
      "45f3528733694da4869777af9b9f34a5",
      "bf0d443df21f4b46be7e118fbec29859",
      "1564dc9c52bc4eeca0a819011e3465f0"
     ]
    },
    "id": "3FVLr33NlAAY",
    "outputId": "3b2aad88-faf7-428c-bf24-8e54ca5b0887"
   },
   "outputs": [
    {
     "data": {
      "application/vnd.jupyter.widget-view+json": {
       "model_id": "86efb748af4d4320a54c3b4552ddc84b",
       "version_major": 2,
       "version_minor": 0
      },
      "text/plain": [
       "HBox(children=(FloatProgress(value=0.0, max=200.0), HTML(value='')))"
      ]
     },
     "metadata": {
      "tags": []
     },
     "output_type": "display_data"
    },
    {
     "name": "stdout",
     "output_type": "stream",
     "text": [
      "Epoch 28: Loss: 0.274450;  valid_loss: 0.417470;  Time: 143.007470; \n",
      "{'learning_rate': 0.01, 'dropout_rate': 0.6, 'num_layers': 1, 'hidden_dim': 128, 'min_valid_loss': 0.39473}\n"
     ]
    }
   ],
   "source": [
    "%%time\n",
    "\n",
    "learning_rate = 0.01\n",
    "dropout_rate = 0.6\n",
    "num_layers = 1\n",
    "hidden_dim = 128\n",
    "\n",
    "input_steps = segment_size\n",
    "output_steps = segment_size\n",
    "# input_size = 2\n",
    "input_size = 1\n",
    "output_size = 1\n",
    "\n",
    "train_idx = list(range(training_size))\n",
    "valid_idx = list(range(training_size, train_valid_size))\n",
    "test_idx = list(range(train_valid_size, train_valid_size + test_size))\n",
    "\n",
    "encoder = Encoder(input_size, hidden_dim, num_layers, dropout_rate)\n",
    "decoder = Decoder(output_size, hidden_dim, num_layers, dropout_rate)\n",
    "model = Seq2Seq(encoder, decoder, device).to(device)\n",
    "model, loss, preds, min_valid_loss, test_rmse = train_model(\n",
    "    model, X, Y, learning_rate, output_steps = output_steps, batch_size = 64,\n",
    "    train_idx = train_idx, valid_idx = valid_idx, test_idx = test_idx, test=True)\n",
    "\n",
    "print({\n",
    "    'learning_rate': learning_rate,\n",
    "    'dropout_rate': dropout_rate,\n",
    "    'num_layers':num_layers,\n",
    "    'hidden_dim': hidden_dim,\n",
    "#     'model_state_dict': model.state_dict(),\n",
    "#     'loss': loss,\n",
    "    'min_valid_loss': min_valid_loss,\n",
    "#     'preds':preds,\n",
    "})"
   ]
  },
  {
   "cell_type": "code",
   "execution_count": 14,
   "metadata": {
    "colab": {
     "base_uri": "https://localhost:8080/"
    },
    "id": "ml73nc914po7",
    "outputId": "aa72874e-c060-4057-da46-0c85d6406659"
   },
   "outputs": [
    {
     "data": {
      "text/plain": [
       "Seq2Seq(\n",
       "  (encoder): Encoder(\n",
       "    (lstm): LSTM(1, 128, batch_first=True, dropout=0.6, bidirectional=True)\n",
       "  )\n",
       "  (decoder): Decoder(\n",
       "    (lstm): LSTM(1, 256, batch_first=True, dropout=0.6)\n",
       "    (out): Linear(in_features=256, out_features=1, bias=True)\n",
       "  )\n",
       ")"
      ]
     },
     "execution_count": 14,
     "metadata": {
      "tags": []
     },
     "output_type": "execute_result"
    }
   ],
   "source": [
    "model"
   ]
  },
  {
   "cell_type": "code",
   "execution_count": null,
   "metadata": {},
   "outputs": [],
   "source": [
    "torch.save(model, filename.split('.')[0]+'_model.pth')"
   ]
  },
  {
   "cell_type": "markdown",
   "metadata": {},
   "source": [
    "# Read Saved Model"
   ]
  },
  {
   "cell_type": "code",
   "execution_count": null,
   "metadata": {},
   "outputs": [],
   "source": [
    "model = torch.load(filename.split('.')[0]+'_model.pth')"
   ]
  },
  {
   "cell_type": "markdown",
   "metadata": {},
   "source": [
    "# Predict on Test Data"
   ]
  },
  {
   "cell_type": "code",
   "execution_count": null,
   "metadata": {},
   "outputs": [],
   "source": []
  },
  {
   "cell_type": "markdown",
   "metadata": {},
   "source": [
    "# Visualize Predictions"
   ]
  },
  {
   "cell_type": "code",
   "execution_count": 10,
   "metadata": {
    "id": "mDV8yAmYlAAY"
   },
   "outputs": [],
   "source": [
    "def unscale_data(scaled_data, avg, std):\n",
    "    data = scaled_data * std + avg\n",
    "    return data"
   ]
  },
  {
   "cell_type": "code",
   "execution_count": 29,
   "metadata": {
    "colab": {
     "base_uri": "https://localhost:8080/",
     "height": 415
    },
    "id": "jTN4RSYq42AW",
    "outputId": "b6fac0fe-4cb1-4d1c-d7ad-fbfd56a91eef"
   },
   "outputs": [
    {
     "data": {
      "image/png": "[encoded data removed]",
      "text/plain": [
       "<Figure size 1440x504 with 1 Axes>"
      ]
     },
     "metadata": {
      "needs_background": "light",
      "tags": []
     },
     "output_type": "display_data"
    }
   ],
   "source": [
    "# first example for 3 hours\n",
    "plt.figure(figsize=(20,7))\n",
    "index_to_plot = 103\n",
    "plt.plot(np.concatenate(([np.nan]*pred_size, unscale_data(preds[index_to_plot], float(avg), float(std)))))\n",
    "plt.plot(torch.cat([unscale_data(X_test[:,:,0][index_to_plot],float(avg), float(std)), Y_test[:,:,0][index_to_plot]]))\n",
    "plt.legend(['Predictions', 'Actual'], loc='upper right')\n",
    "plt.rcParams.update({'font.size': 20})"
   ]
  },
  {
   "cell_type": "code",
   "execution_count": 28,
   "metadata": {
    "colab": {
     "base_uri": "https://localhost:8080/",
     "height": 415
    },
    "id": "Ki-j-ALWlAAZ",
    "outputId": "475753fc-2f52-487c-93e8-95514cd3dd9e"
   },
   "outputs": [
    {
     "data": {
      "image/png": "[encoded data removed]",
      "text/plain": [
       "<Figure size 1440x504 with 1 Axes>"
      ]
     },
     "metadata": {
      "needs_background": "light",
      "tags": []
     },
     "output_type": "display_data"
    }
   ],
   "source": [
    "# second example for 3 hours\n",
    "plt.figure(figsize=(20,7))\n",
    "index_to_plot = 45309\n",
    "plt.plot(np.concatenate(([np.nan]*pred_size, unscale_data(preds[index_to_plot], float(avg), float(std)))))\n",
    "plt.plot(torch.cat([unscale_data(X_test[:,:,0][index_to_plot],float(avg), float(std)), Y_test[:,:,0][index_to_plot]]))\n",
    "plt.legend(['Predictions', 'Actual'], loc='upper right')\n",
    "plt.rcParams.update({'font.size': 20})"
   ]
  },
  {
   "cell_type": "code",
   "execution_count": 21,
   "metadata": {
    "colab": {
     "base_uri": "https://localhost:8080/",
     "height": 415
    },
    "id": "DJeAXYpi4iZl",
    "outputId": "269ab6ec-a097-473e-f934-dba15a52e840"
   },
   "outputs": [
    {
     "data": {
      "image/png": "[encoded data removed]",
      "text/plain": [
       "<Figure size 1440x504 with 1 Axes>"
      ]
     },
     "metadata": {
      "needs_background": "light",
      "tags": []
     },
     "output_type": "display_data"
    }
   ],
   "source": [
    "# third example for 3 hours\n",
    "plt.figure(figsize=(20,7))\n",
    "index_to_plot = 81003\n",
    "plt.plot(np.concatenate(([np.nan]*pred_size, unscale_data(preds[index_to_plot], float(avg), float(std)))))\n",
    "plt.plot(torch.cat([unscale_data(X_test[:,:,0][index_to_plot],float(avg), float(std)), Y_test[:,:,0][index_to_plot]]))\n",
    "plt.legend(['Predictions', 'Actual'], loc='upper right')\n",
    "plt.rcParams.update({'font.size': 20})"
   ]
  },
  {
   "cell_type": "code",
   "execution_count": 30,
   "metadata": {
    "colab": {
     "base_uri": "https://localhost:8080/",
     "height": 430
    },
    "id": "3HND2MKhlAAZ",
    "outputId": "9388ad4c-5ae2-47f2-dbf8-737ab552865a"
   },
   "outputs": [
    {
     "name": "stdout",
     "output_type": "stream",
     "text": [
      "Test RMSE: 0.495140\n"
     ]
    },
    {
     "data": {
      "image/png": "[encoded data removed]",
      "text/plain": [
       "<Figure size 1440x504 with 1 Axes>"
      ]
     },
     "metadata": {
      "needs_background": "light",
      "tags": []
     },
     "output_type": "display_data"
    }
   ],
   "source": [
    "train_rmse, valid_rmse = loss\n",
    "plt.figure(figsize=(20,7))\n",
    "plt.plot(valid_rmse)\n",
    "plt.plot(test_rmse)\n",
    "plt.legend(['valid rmse', 'test rmse'], loc='upper right')\n",
    "plt.rcParams.update({'font.size': 20})\n",
    "print('Test RMSE: %f' % (test_rmse[-1]) )"
   ]
  },
  {
   "cell_type": "code",
   "execution_count": null,
   "metadata": {
    "id": "Ox9j15HHlAAZ"
   },
   "outputs": [],
   "source": []
  },
  {
   "cell_type": "code",
   "execution_count": null,
   "metadata": {
    "id": "vIAfV3CElAAa"
   },
   "outputs": [],
   "source": []
  },
  {
   "cell_type": "code",
   "execution_count": null,
   "metadata": {
    "id": "2DiOTeHLlAAa"
   },
   "outputs": [],
   "source": []
  },
  {
   "cell_type": "code",
   "execution_count": null,
   "metadata": {
    "id": "39aQkloylAAa"
   },
   "outputs": [],
   "source": []
  }
 ],
 "metadata": {
  "accelerator": "GPU",
  "colab": {
   "collapsed_sections": [],
   "name": "Gcolab_seq2seq_traffic_Data.ipynb",
   "provenance": [],
   "toc_visible": true
  },
  "kernelspec": {
   "display_name": "Python 3",
   "language": "python",
   "name": "python3"
  },
  "language_info": {
   "codemirror_mode": {
    "name": "ipython",
    "version": 3
   },
   "file_extension": ".py",
   "mimetype": "text/x-python",
   "name": "python",
   "nbconvert_exporter": "python",
   "pygments_lexer": "ipython3",
   "version": "3.8.8"
  },
  "toc": {
   "base_numbering": 1,
   "nav_menu": {},
   "number_sections": true,
   "sideBar": true,
   "skip_h1_title": false,
   "title_cell": "Table of Contents",
   "title_sidebar": "Contents",
   "toc_cell": false,
   "toc_position": {
    "height": "calc(100% - 180px)",
    "left": "10px",
    "top": "150px",
    "width": "165px"
   },
   "toc_section_display": true,
   "toc_window_display": false
  },
  "varInspector": {
   "cols": {
    "lenName": 16,
    "lenType": 16,
    "lenVar": 40
   },
   "kernels_config": {
    "python": {
     "delete_cmd_postfix": "",
     "delete_cmd_prefix": "del ",
     "library": "var_list.py",
     "varRefreshCmd": "print(var_dic_list())"
    },
    "r": {
     "delete_cmd_postfix": ") ",
     "delete_cmd_prefix": "rm(",
     "library": "var_list.r",
     "varRefreshCmd": "cat(var_dic_list()) "
    }
   },
   "types_to_exclude": [
    "module",
    "function",
    "builtin_function_or_method",
    "instance",
    "_Feature"
   ],
   "window_display": false
  },
  "widgets": {
   "application/vnd.jupyter.widget-state+json": {
    "1564dc9c52bc4eeca0a819011e3465f0": {
     "model_module": "@jupyter-widgets/base",
     "model_name": "LayoutModel",
     "state": {
      "_model_module": "@jupyter-widgets/base",
      "_model_module_version": "1.2.0",
      "_model_name": "LayoutModel",
      "_view_count": null,
      "_view_module": "@jupyter-widgets/base",
      "_view_module_version": "1.2.0",
      "_view_name": "LayoutView",
      "align_content": null,
      "align_items": null,
      "align_self": null,
      "border": null,
      "bottom": null,
      "display": null,
      "flex": null,
      "flex_flow": null,
      "grid_area": null,
      "grid_auto_columns": null,
      "grid_auto_flow": null,
      "grid_auto_rows": null,
      "grid_column": null,
      "grid_gap": null,
      "grid_row": null,
      "grid_template_areas": null,
      "grid_template_columns": null,
      "grid_template_rows": null,
      "height": null,
      "justify_content": null,
      "justify_items": null,
      "left": null,
      "margin": null,
      "max_height": null,
      "max_width": null,
      "min_height": null,
      "min_width": null,
      "object_fit": null,
      "object_position": null,
      "order": null,
      "overflow": null,
      "overflow_x": null,
      "overflow_y": null,
      "padding": null,
      "right": null,
      "top": null,
      "visibility": null,
      "width": null
     }
    },
    "16a587a7fe9248b29b89a251b236b654": {
     "model_module": "@jupyter-widgets/controls",
     "model_name": "ProgressStyleModel",
     "state": {
      "_model_module": "@jupyter-widgets/controls",
      "_model_module_version": "1.5.0",
      "_model_name": "ProgressStyleModel",
      "_view_count": null,
      "_view_module": "@jupyter-widgets/base",
      "_view_module_version": "1.2.0",
      "_view_name": "StyleView",
      "bar_color": null,
      "description_width": "initial"
     }
    },
    "45f3528733694da4869777af9b9f34a5": {
     "model_module": "@jupyter-widgets/base",
     "model_name": "LayoutModel",
     "state": {
      "_model_module": "@jupyter-widgets/base",
      "_model_module_version": "1.2.0",
      "_model_name": "LayoutModel",
      "_view_count": null,
      "_view_module": "@jupyter-widgets/base",
      "_view_module_version": "1.2.0",
      "_view_name": "LayoutView",
      "align_content": null,
      "align_items": null,
      "align_self": null,
      "border": null,
      "bottom": null,
      "display": null,
      "flex": null,
      "flex_flow": null,
      "grid_area": null,
      "grid_auto_columns": null,
      "grid_auto_flow": null,
      "grid_auto_rows": null,
      "grid_column": null,
      "grid_gap": null,
      "grid_row": null,
      "grid_template_areas": null,
      "grid_template_columns": null,
      "grid_template_rows": null,
      "height": null,
      "justify_content": null,
      "justify_items": null,
      "left": null,
      "margin": null,
      "max_height": null,
      "max_width": null,
      "min_height": null,
      "min_width": null,
      "object_fit": null,
      "object_position": null,
      "order": null,
      "overflow": null,
      "overflow_x": null,
      "overflow_y": null,
      "padding": null,
      "right": null,
      "top": null,
      "visibility": null,
      "width": null
     }
    },
    "7a52151811ab4fbf87fbea68f86f0941": {
     "model_module": "@jupyter-widgets/controls",
     "model_name": "HTMLModel",
     "state": {
      "_dom_classes": [],
      "_model_module": "@jupyter-widgets/controls",
      "_model_module_version": "1.5.0",
      "_model_name": "HTMLModel",
      "_view_count": null,
      "_view_module": "@jupyter-widgets/controls",
      "_view_module_version": "1.5.0",
      "_view_name": "HTMLView",
      "description": "",
      "description_tooltip": null,
      "layout": "IPY_MODEL_1564dc9c52bc4eeca0a819011e3465f0",
      "placeholder": "​",
      "style": "IPY_MODEL_bf0d443df21f4b46be7e118fbec29859",
      "value": " 27/200 [1:06:42&lt;6:50:39, 142.43s/it]"
     }
    },
    "86efb748af4d4320a54c3b4552ddc84b": {
     "model_module": "@jupyter-widgets/controls",
     "model_name": "HBoxModel",
     "state": {
      "_dom_classes": [],
      "_model_module": "@jupyter-widgets/controls",
      "_model_module_version": "1.5.0",
      "_model_name": "HBoxModel",
      "_view_count": null,
      "_view_module": "@jupyter-widgets/controls",
      "_view_module_version": "1.5.0",
      "_view_name": "HBoxView",
      "box_style": "",
      "children": [
       "IPY_MODEL_930405bbf7e64e0684d32ddeccf447a9",
       "IPY_MODEL_7a52151811ab4fbf87fbea68f86f0941"
      ],
      "layout": "IPY_MODEL_c4ac762c9c004b1a9badeaace27a9cdb"
     }
    },
    "930405bbf7e64e0684d32ddeccf447a9": {
     "model_module": "@jupyter-widgets/controls",
     "model_name": "FloatProgressModel",
     "state": {
      "_dom_classes": [],
      "_model_module": "@jupyter-widgets/controls",
      "_model_module_version": "1.5.0",
      "_model_name": "FloatProgressModel",
      "_view_count": null,
      "_view_module": "@jupyter-widgets/controls",
      "_view_module_version": "1.5.0",
      "_view_name": "ProgressView",
      "bar_style": "danger",
      "description": " 14%",
      "description_tooltip": null,
      "layout": "IPY_MODEL_45f3528733694da4869777af9b9f34a5",
      "max": 200,
      "min": 0,
      "orientation": "horizontal",
      "style": "IPY_MODEL_16a587a7fe9248b29b89a251b236b654",
      "value": 27
     }
    },
    "bf0d443df21f4b46be7e118fbec29859": {
     "model_module": "@jupyter-widgets/controls",
     "model_name": "DescriptionStyleModel",
     "state": {
      "_model_module": "@jupyter-widgets/controls",
      "_model_module_version": "1.5.0",
      "_model_name": "DescriptionStyleModel",
      "_view_count": null,
      "_view_module": "@jupyter-widgets/base",
      "_view_module_version": "1.2.0",
      "_view_name": "StyleView",
      "description_width": ""
     }
    },
    "c4ac762c9c004b1a9badeaace27a9cdb": {
     "model_module": "@jupyter-widgets/base",
     "model_name": "LayoutModel",
     "state": {
      "_model_module": "@jupyter-widgets/base",
      "_model_module_version": "1.2.0",
      "_model_name": "LayoutModel",
      "_view_count": null,
      "_view_module": "@jupyter-widgets/base",
      "_view_module_version": "1.2.0",
      "_view_name": "LayoutView",
      "align_content": null,
      "align_items": null,
      "align_self": null,
      "border": null,
      "bottom": null,
      "display": null,
      "flex": null,
      "flex_flow": null,
      "grid_area": null,
      "grid_auto_columns": null,
      "grid_auto_flow": null,
      "grid_auto_rows": null,
      "grid_column": null,
      "grid_gap": null,
      "grid_row": null,
      "grid_template_areas": null,
      "grid_template_columns": null,
      "grid_template_rows": null,
      "height": null,
      "justify_content": null,
      "justify_items": null,
      "left": null,
      "margin": null,
      "max_height": null,
      "max_width": null,
      "min_height": null,
      "min_width": null,
      "object_fit": null,
      "object_position": null,
      "order": null,
      "overflow": null,
      "overflow_x": null,
      "overflow_y": null,
      "padding": null,
      "right": null,
      "top": null,
      "visibility": null,
      "width": null
     }
    }
   }
  }
 },
 "nbformat": 4,
 "nbformat_minor": 1
}
