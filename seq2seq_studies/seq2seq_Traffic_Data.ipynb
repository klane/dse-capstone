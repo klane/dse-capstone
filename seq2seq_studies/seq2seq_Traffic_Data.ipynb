{
 "cells": [
  {
   "cell_type": "code",
   "execution_count": 1,
   "metadata": {},
   "outputs": [],
   "source": [
    "from __future__ import unicode_literals, print_function, division\n",
    "import torch\n",
    "import torch.nn as nn\n",
    "import torch.optim as optim\n",
    "import torch.nn.functional as F\n",
    "import matplotlib.pyplot as plt\n",
    "import numpy as np\n",
    "import pandas as pd\n",
    "from torch.utils import data\n",
    "import os\n",
    "from os import listdir\n",
    "from os.path import join, abspath\n",
    "import itertools\n",
    "import re\n",
    "import random\n",
    "import time\n",
    "from torch.autograd import Variable\n",
    "from scipy.signal import tukey\n",
    "from torch.utils import data\n",
    "from tqdm.notebook import tqdm\n",
    "device = torch.device(\"cuda:3\" if torch.cuda.is_available() else \"cpu\")\n",
    "import warnings\n",
    "warnings.filterwarnings(\"ignore\")\n",
    "\n",
    "IMG_DIR = '/home/eliza/mlhc/imgs'\n",
    "DIR = abspath('RT_Cases_NU_HRPCI')\n",
    "PREPROCESS_DIR = abspath('../data/data')\n",
    "CONTINOUS_DIR = join(PREPROCESS_DIR, 'continuous')\n",
    "WINDOW_SIZE = 15000\n",
    "STEP_SIZE = 250\n",
    "MIN_VALID_AOP = 50\n",
    "MAX_VALID_AOP = 200\n",
    "SLICES_DIR = join(PREPROCESS_DIR, 'slices')\n",
    "\n",
    "import json\n",
    "#import io\n",
    "import sqlalchemy as sal\n",
    "import getpass\n",
    "import pandas as pd\n",
    "from urllib.request import urlopen"
   ]
  },
  {
   "cell_type": "markdown",
   "metadata": {},
   "source": [
    "# get data\n",
    "\n",
    "- Query data from RDS"
   ]
  },
  {
   "cell_type": "code",
   "execution_count": 2,
   "metadata": {},
   "outputs": [
    {
     "name": "stdout",
     "output_type": "stream",
     "text": [
      "(329237, 3)\n",
      "Wall time: 1min 55s\n"
     ]
    },
    {
     "data": {
      "text/html": [
       "<div>\n",
       "<style scoped>\n",
       "    .dataframe tbody tr th:only-of-type {\n",
       "        vertical-align: middle;\n",
       "    }\n",
       "\n",
       "    .dataframe tbody tr th {\n",
       "        vertical-align: top;\n",
       "    }\n",
       "\n",
       "    .dataframe thead th {\n",
       "        text-align: right;\n",
       "    }\n",
       "</style>\n",
       "<table border=\"1\" class=\"dataframe\">\n",
       "  <thead>\n",
       "    <tr style=\"text-align: right;\">\n",
       "      <th></th>\n",
       "      <th>timestamp</th>\n",
       "      <th>station</th>\n",
       "      <th>total_flow</th>\n",
       "    </tr>\n",
       "  </thead>\n",
       "  <tbody>\n",
       "    <tr>\n",
       "      <th>0</th>\n",
       "      <td>2018-03-30 00:45:00</td>\n",
       "      <td>400001</td>\n",
       "      <td>37.0</td>\n",
       "    </tr>\n",
       "    <tr>\n",
       "      <th>1</th>\n",
       "      <td>2018-03-30 00:50:00</td>\n",
       "      <td>400001</td>\n",
       "      <td>35.0</td>\n",
       "    </tr>\n",
       "    <tr>\n",
       "      <th>2</th>\n",
       "      <td>2018-03-30 01:10:00</td>\n",
       "      <td>400001</td>\n",
       "      <td>30.0</td>\n",
       "    </tr>\n",
       "    <tr>\n",
       "      <th>3</th>\n",
       "      <td>2018-03-30 00:55:00</td>\n",
       "      <td>400001</td>\n",
       "      <td>38.0</td>\n",
       "    </tr>\n",
       "    <tr>\n",
       "      <th>4</th>\n",
       "      <td>2018-03-30 01:00:00</td>\n",
       "      <td>400001</td>\n",
       "      <td>30.0</td>\n",
       "    </tr>\n",
       "  </tbody>\n",
       "</table>\n",
       "</div>"
      ],
      "text/plain": [
       "            timestamp  station  total_flow\n",
       "0 2018-03-30 00:45:00   400001        37.0\n",
       "1 2018-03-30 00:50:00   400001        35.0\n",
       "2 2018-03-30 01:10:00   400001        30.0\n",
       "3 2018-03-30 00:55:00   400001        38.0\n",
       "4 2018-03-30 01:00:00   400001        30.0"
      ]
     },
     "execution_count": 2,
     "metadata": {},
     "output_type": "execute_result"
    }
   ],
   "source": [
    "%%time\n",
    "#parameters of the AWS database\n",
    "endpoint = \"capstone.clihskgj8i7s.us-west-2.rds.amazonaws.com\"\n",
    "user=\"group3\"\n",
    "db=\"db1\"\n",
    "#pw=getpass.getpass(\"Enter database password\")\n",
    "pw=open(r'C:\\Users\\rmartinez4\\OneDrive - Illumina, Inc\\Desktop\\password.txt',\"r\").read().rstrip()\n",
    "\n",
    "engine = sal.create_engine('postgresql://%s:%s@%s/%s' % (user, pw, endpoint, db))\n",
    "\n",
    "query=\"\"\"\n",
    "select timestamp, station, total_flow\n",
    "from traffic_bay\n",
    "where station = 400001\n",
    ";\n",
    "\"\"\"\n",
    "\n",
    "query_data=pd.read_sql(query, engine)\n",
    "\n",
    "print(query_data.shape)\n",
    "query_data.head()"
   ]
  },
  {
   "cell_type": "code",
   "execution_count": 3,
   "metadata": {},
   "outputs": [
    {
     "name": "stdout",
     "output_type": "stream",
     "text": [
      "2018-01-01 00:00:00 2021-02-17 23:55:00\n"
     ]
    }
   ],
   "source": [
    "print(min(query_data.timestamp), max(query_data.timestamp))"
   ]
  },
  {
   "cell_type": "markdown",
   "metadata": {},
   "source": [
    "# data preparation\n",
    "\n",
    "- Data Augmentation: create more segments with a sliding window of 3 hours or 36 data points each (5min each)\n",
    "- split into segments\n",
    "- filter segments with: negative values"
   ]
  },
  {
   "cell_type": "code",
   "execution_count": 4,
   "metadata": {},
   "outputs": [],
   "source": [
    "df = query_data.sort_values('timestamp').reset_index(drop=True)\n"
   ]
  },
  {
   "cell_type": "code",
   "execution_count": 5,
   "metadata": {},
   "outputs": [
    {
     "data": {
      "text/plain": [
       "<AxesSubplot:>"
      ]
     },
     "execution_count": 5,
     "metadata": {},
     "output_type": "execute_result"
    },
    {
     "data": {
      "image/png": "[encoded data removed]",
      "text/plain": [
       "<Figure size 432x288 with 1 Axes>"
      ]
     },
     "metadata": {
      "needs_background": "light"
     },
     "output_type": "display_data"
    }
   ],
   "source": [
    "df[[True if i.year==2018 else False for i in df.timestamp]][:60].reset_index().plot(y='total_flow', kind='line')"
   ]
  },
  {
   "cell_type": "code",
   "execution_count": 6,
   "metadata": {},
   "outputs": [],
   "source": [
    "def generate_segments(df, segment_length=72, window=1):\n",
    "    \n",
    "    continous_time_series = []\n",
    "    for i in range(len(df)-segment_length):\n",
    "        arr = np.array(df['total_flow'][i:i+segment_length])\n",
    "        time_series = torch.from_numpy(arr.reshape(segment_length,1))\n",
    "        continous_time_series.append(time_series)\n",
    "        \n",
    "    return torch.stack(continous_time_series, 0)"
   ]
  },
  {
   "cell_type": "code",
   "execution_count": 7,
   "metadata": {},
   "outputs": [
    {
     "name": "stdout",
     "output_type": "stream",
     "text": [
      "Wall time: 26.9 s\n"
     ]
    },
    {
     "data": {
      "text/plain": [
       "torch.Size([329165, 72, 1])"
      ]
     },
     "execution_count": 7,
     "metadata": {},
     "output_type": "execute_result"
    }
   ],
   "source": [
    "%%time\n",
    "c_time_series = generate_segments(df)\n",
    "c_time_series.shape"
   ]
  },
  {
   "cell_type": "code",
   "execution_count": 8,
   "metadata": {},
   "outputs": [
    {
     "data": {
      "text/plain": [
       "[<matplotlib.lines.Line2D at 0x2aa22139548>]"
      ]
     },
     "execution_count": 8,
     "metadata": {},
     "output_type": "execute_result"
    },
    {
     "data": {
      "image/png": "[encoded data removed]",
      "text/plain": [
       "<Figure size 432x288 with 1 Axes>"
      ]
     },
     "metadata": {
      "needs_background": "light"
     },
     "output_type": "display_data"
    }
   ],
   "source": [
    "plt.plot(np.array(c_time_series[300].reshape(1,72)[0]))"
   ]
  },
  {
   "cell_type": "code",
   "execution_count": 9,
   "metadata": {},
   "outputs": [
    {
     "name": "stdout",
     "output_type": "stream",
     "text": [
      "Wall time: 2min 1s\n"
     ]
    },
    {
     "data": {
      "text/plain": [
       "327725"
      ]
     },
     "execution_count": 9,
     "metadata": {},
     "output_type": "execute_result"
    }
   ],
   "source": [
    "%%time\n",
    "# find idx for segments with negative values and remove\n",
    "n_segments = c_time_series.shape[0]\n",
    "idx_to_keep = [i for i in range(n_segments) if all(c_time_series[i,:,:]>=0) and not any(c_time_series[i,:,:].isnan())]\n",
    "len(idx_to_keep)"
   ]
  },
  {
   "cell_type": "code",
   "execution_count": 10,
   "metadata": {},
   "outputs": [
    {
     "data": {
      "text/plain": [
       "torch.Size([327725, 72, 1])"
      ]
     },
     "execution_count": 10,
     "metadata": {},
     "output_type": "execute_result"
    }
   ],
   "source": [
    "c_time_series = c_time_series[idx_to_keep, :, :]\n",
    "c_time_series.shape"
   ]
  },
  {
   "cell_type": "code",
   "execution_count": 11,
   "metadata": {},
   "outputs": [],
   "source": [
    "import pickle as pkl\n",
    "\n",
    "with open(r'.\\data_traffic\\traffic_bayArea_station_400001.pkl', \"wb\") as fout:\n",
    "    pkl.dump(c_time_series, fout, protocol=pkl.HIGHEST_PROTOCOL)"
   ]
  },
  {
   "cell_type": "code",
   "execution_count": 2,
   "metadata": {},
   "outputs": [
    {
     "name": "stdout",
     "output_type": "stream",
     "text": [
      "Wall time: 373 ms\n"
     ]
    }
   ],
   "source": [
    "%%time\n",
    "\n",
    "import pickle as pkl\n",
    "\n",
    "# read tensor\n",
    "with open(r'.\\data_traffic\\traffic_bayArea_station_400001.pkl', \"rb\") as fout:\n",
    "    c_time_series = pkl.load(fout)"
   ]
  },
  {
   "cell_type": "code",
   "execution_count": 5,
   "metadata": {},
   "outputs": [
    {
     "data": {
      "text/plain": [
       "tensor([[331.],\n",
       "        [313.],\n",
       "        [307.],\n",
       "        [301.],\n",
       "        [368.],\n",
       "        [318.],\n",
       "        [297.],\n",
       "        [309.],\n",
       "        [377.],\n",
       "        [371.],\n",
       "        [329.],\n",
       "        [308.],\n",
       "        [296.],\n",
       "        [305.],\n",
       "        [333.],\n",
       "        [286.],\n",
       "        [277.],\n",
       "        [273.],\n",
       "        [279.],\n",
       "        [307.],\n",
       "        [298.],\n",
       "        [272.],\n",
       "        [273.],\n",
       "        [272.],\n",
       "        [253.],\n",
       "        [228.],\n",
       "        [253.],\n",
       "        [300.],\n",
       "        [236.],\n",
       "        [199.],\n",
       "        [237.],\n",
       "        [241.],\n",
       "        [249.],\n",
       "        [264.],\n",
       "        [254.],\n",
       "        [204.],\n",
       "        [239.],\n",
       "        [227.],\n",
       "        [248.],\n",
       "        [225.],\n",
       "        [250.],\n",
       "        [217.],\n",
       "        [219.],\n",
       "        [226.],\n",
       "        [244.],\n",
       "        [272.],\n",
       "        [219.],\n",
       "        [243.],\n",
       "        [249.],\n",
       "        [219.],\n",
       "        [230.],\n",
       "        [248.],\n",
       "        [229.],\n",
       "        [232.],\n",
       "        [271.],\n",
       "        [257.],\n",
       "        [254.],\n",
       "        [236.],\n",
       "        [247.],\n",
       "        [209.],\n",
       "        [223.],\n",
       "        [199.],\n",
       "        [218.],\n",
       "        [214.],\n",
       "        [182.],\n",
       "        [176.],\n",
       "        [183.],\n",
       "        [181.],\n",
       "        [200.],\n",
       "        [204.],\n",
       "        [219.],\n",
       "        [189.]], dtype=torch.float64)"
      ]
     },
     "execution_count": 5,
     "metadata": {},
     "output_type": "execute_result"
    }
   ],
   "source": [
    "c_time_series[1020]"
   ]
  },
  {
   "cell_type": "markdown",
   "metadata": {},
   "source": [
    "# generate train and test datasets"
   ]
  },
  {
   "cell_type": "code",
   "execution_count": 15,
   "metadata": {},
   "outputs": [],
   "source": [
    "def scale_data(data_x, data_y, out_pos = 0, return_current_avg_std = False):\n",
    "    \"\"\" \n",
    "    Arg:\n",
    "        data_x: features\n",
    "        data_y: labels\n",
    "        out_pos: the position of feature of which average and stand deviation will be returned.\n",
    "    returns:\n",
    "        1. Normalized features and labels\n",
    "        2. Average and standard deviation of the selected feature.\n",
    "    \"\"\"\n",
    "    avg = data_x[:,:,out_pos].mean()\n",
    "    std = data_x[:,:,out_pos].std()\n",
    "#     c_avg = data_x[:,:,1].mean()\n",
    "#     c_std = data_x[:,:,1].std()\n",
    "    for i in range(data_x.shape[-1]):\n",
    "        data_x[:,:,i] = (data_x[:,:,i] - data_x[:,:,i].mean())/data_x[:,:,i].std()\n",
    "    data_y = (data_y-avg)/std\n",
    "    if return_current_avg_std:\n",
    "        return data_x, data_y, (avg, std)  \n",
    "#         return data_x, data_y, (avg, std), (c_avg, c_std)   \n",
    "    else:\n",
    "        return data_x, data_y, (avg, std)\n",
    "\n",
    "class Dataset(data.Dataset):\n",
    "    def __init__(self, X, Y, lst_index, output_steps, position_embedding = (False)):\n",
    "        \"\"\"\n",
    "        Args:\n",
    "            lst_index: indexes of observations in the dataset.\n",
    "            output_steps: Forecasting Horizon.\n",
    "        \"\"\"\n",
    "        self.X = X[lst_index]\n",
    "        self.Y = Y[lst_index]\n",
    "        self.output_steps = output_steps\n",
    "        \n",
    "    def __len__(self):\n",
    "        return self.X.shape[0]\n",
    "\n",
    "    def __getitem__(self, index):\n",
    "        x = self.X[index]\n",
    "        y = self.Y[index][:self.output_steps]\n",
    "        return x, y"
   ]
  },
  {
   "cell_type": "code",
   "execution_count": 19,
   "metadata": {},
   "outputs": [
    {
     "name": "stdout",
     "output_type": "stream",
     "text": [
      "Wall time: 239 ms\n"
     ]
    }
   ],
   "source": [
    "%%time\n",
    "\n",
    "sample_size = c_time_series.shape[0]\n",
    "segment_size = c_time_series.shape[1]\n",
    "pred_size = int(segment_size/2)\n",
    "\n",
    "test_size = sample_size // 4\n",
    "train_valid_size = test_size * 3\n",
    "training_size = test_size * 2\n",
    "validation_size = test_size * 1\n",
    "\n",
    "X_train = c_time_series[:train_valid_size,:pred_size,:]\n",
    "Y_train = c_time_series[:train_valid_size,pred_size:,:]\n",
    "sample_size, pred_length, feature_count = X_train.shape\n",
    "\n",
    "X_test = c_time_series[training_size:training_size+test_size,:pred_size,:]\n",
    "Y_test = c_time_series[training_size:training_size+test_size,pred_size:,:]\n",
    "\n",
    "X_all = c_time_series[:train_valid_size+test_size,:pred_size,:]\n",
    "Y_all = c_time_series[:train_valid_size+test_size,pred_size:,:]\n",
    "\n",
    "X, Y, (avg, std) = scale_data(X_all, Y_all, out_pos = 0, return_current_avg_std = True)"
   ]
  },
  {
   "cell_type": "code",
   "execution_count": 20,
   "metadata": {},
   "outputs": [
    {
     "name": "stdout",
     "output_type": "stream",
     "text": [
      "torch.Size([245793, 36, 1]) torch.Size([245793, 36, 1])\n",
      "torch.Size([81931, 36, 1]) torch.Size([81931, 36, 1])\n",
      "torch.Size([327724, 36, 1]) torch.Size([327724, 36, 1])\n",
      "245793 36 1\n",
      "81931 245793 163862 81931\n"
     ]
    }
   ],
   "source": [
    "print(X_train.shape, Y_train.shape)\n",
    "print(X_test.shape, Y_test.shape)\n",
    "print(X_all.shape, Y_all.shape)\n",
    "\n",
    "print(sample_size, pred_length, feature_count)\n",
    "\n",
    "print(test_size, train_valid_size, training_size, validation_size)"
   ]
  },
  {
   "cell_type": "code",
   "execution_count": 21,
   "metadata": {},
   "outputs": [],
   "source": [
    "class Encoder(nn.Module):\n",
    "    def __init__(self, input_dim, hidden_dim, num_layers, dropout_rate):\n",
    "        \"\"\"\n",
    "        Args:\n",
    "            input_dim: the dimension of input sequences.\n",
    "            hidden_dim: number hidden units.\n",
    "            num_layers: number of encode layers.\n",
    "            dropout_rate: recurrent dropout rate.\n",
    "        \"\"\"\n",
    "        super(Encoder, self).__init__()\n",
    "        self.num_layers = num_layers\n",
    "        self.hidden_dim = hidden_dim\n",
    "        self.lstm = nn.LSTM(input_dim, hidden_dim, num_layers=num_layers, \n",
    "                            bidirectional = True, dropout = dropout_rate, batch_first = True)\n",
    "        \n",
    "    def forward(self, source):\n",
    "        \"\"\"\n",
    "        Args:\n",
    "            source: input tensor(batch_size*input dimension)\n",
    "        Return:\n",
    "            outputs: Prediction\n",
    "            concat_hidden: hidden states\n",
    "        \"\"\"\n",
    "        outputs, hidden = self.lstm(source)\n",
    "        return outputs, hidden\n",
    "    \n",
    "class Decoder(nn.Module):\n",
    "    def __init__(self, output_dim, hidden_dim, num_layers, dropout_rate):\n",
    "        \"\"\"\n",
    "        Args:\n",
    "            output_dim: the dimension of output sequences.\n",
    "            hidden_dim: number hidden units.\n",
    "            num_layers: number of code layers.\n",
    "            dropout_rate: recurrent dropout rate.\n",
    "        \"\"\"\n",
    "        super(Decoder, self).__init__()\n",
    "        \n",
    "        # Since the encoder is bidirectional, decoder has double hidden size\n",
    "        self.lstm = nn.LSTM(output_dim, hidden_dim*2, num_layers = num_layers, \n",
    "                            dropout = dropout_rate, batch_first = True)\n",
    "        \n",
    "        self.out = nn.Linear(hidden_dim*2, output_dim)\n",
    "      \n",
    "    def forward(self, x, hidden):\n",
    "        \"\"\"\n",
    "        Args:\n",
    "            x: prediction from previous prediction.\n",
    "            hidden: hidden states from previous cell.\n",
    "        Returns:\n",
    "            1. prediction for current step.\n",
    "            2. hidden state pass to next cell.\n",
    "        \"\"\"\n",
    "        output, hidden = self.lstm(x, hidden)   \n",
    "        prediction = self.out(output.float())\n",
    "        return prediction, hidden     \n",
    "    \n",
    "class Seq2Seq(nn.Module):\n",
    "    def __init__(self, encoder, decoder, device):\n",
    "        \"\"\"\n",
    "        Args:\n",
    "            encoder: Encoder object.\n",
    "            decoder: Decoder object.\n",
    "            device: \n",
    "        \"\"\"\n",
    "        super(Seq2Seq, self).__init__()\n",
    "        self.encoder = encoder\n",
    "        self.decoder = decoder\n",
    "        self.device = device\n",
    "\n",
    "    def forward(self, source, target_tensor):\n",
    "        \"\"\"\n",
    "        Args:\n",
    "            source: input tensor.\n",
    "            target_length: forecasting steps.\n",
    "        Returns:\n",
    "            total prediction\n",
    "        \"\"\"\n",
    "        batch_size = source.size(0) \n",
    "        input_length = source.size(1) \n",
    "        target_length = target_tensor.shape[1]\n",
    "        output_dim = target_tensor.shape[-1]\n",
    "        encoder_hidden = (torch.zeros(self.encoder.num_layers*2, batch_size, self.encoder.hidden_dim, device=device),\n",
    "                          torch.zeros(self.encoder.num_layers*2, batch_size, self.encoder.hidden_dim, device=device))\n",
    "        encoder_output, encoder_hidden = self.encoder(source)\n",
    "        \n",
    "        # Concatenate the hidden states of both directions.\n",
    "        num_layers = int(encoder_hidden[0].shape[0]/2)\n",
    "        h = torch.cat([encoder_hidden[0][0:self.encoder.num_layers,:,:], \n",
    "                       encoder_hidden[0][-self.encoder.num_layers:,:,:]], \n",
    "                      dim=2, out=None).to(device)\n",
    "        c = torch.cat([encoder_hidden[1][0:self.encoder.num_layers,:,:], \n",
    "                       encoder_hidden[1][-self.encoder.num_layers:,:,:]], \n",
    "                      dim=2, out=None).to(device)\n",
    "        concat_hidden = (h, c)\n",
    "        \n",
    "        \n",
    "        outputs = torch.zeros(batch_size, target_length, output_dim).to(self.device)\n",
    "        decoder_output = torch.zeros((batch_size, 1, output_dim), device = self.device)\n",
    "        decoder_hidden = concat_hidden\n",
    "        \n",
    "        for t in range(target_length):  \n",
    "            decoder_output, decoder_hidden = self.decoder(decoder_output, decoder_hidden)\n",
    "            outputs[:,t:t+1,:] = decoder_output\n",
    "        return outputs"
   ]
  },
  {
   "cell_type": "code",
   "execution_count": 22,
   "metadata": {},
   "outputs": [],
   "source": [
    "def run_epoch_train(model, data_generator, model_optimizer, criterion):\n",
    "    \"\"\"\n",
    "    Args:\n",
    "        model: RNN model.\n",
    "        data_generator: data.DataLoader object.\n",
    "        model_optimizer: optimizer.\n",
    "        criterion: loss function\n",
    "    Returns:\n",
    "        Root Mean Square Error on Training Dataset\n",
    "    \"\"\"\n",
    "    MSE = []\n",
    "    for x, y in data_generator:\n",
    "        # The input shape for nn.conv1d should sequence_length * batch_size * #features\n",
    "        input_tensor, target_tensor = x.to(device).float(), y.to(device).float()\n",
    "        model_optimizer.zero_grad()\n",
    "        loss = 0\n",
    "        output = model(input_tensor, target_tensor).reshape(target_tensor.shape)\n",
    "        num_iter = output.size(0)\n",
    "        for ot in range(num_iter):\n",
    "            loss += criterion(output[ot], target_tensor[ot])\n",
    "        MSE.append(loss.item()/num_iter)\n",
    "        loss.backward()\n",
    "        model_optimizer.step()\n",
    "    \n",
    "    return round(np.sqrt(np.mean(MSE)), 5)\n",
    " \n",
    "\n",
    "def run_epoch_eval(model, data_generator, criterion, return_pred = False):\n",
    "    \"\"\"\n",
    "    Args:\n",
    "        model: CNN model.\n",
    "        data_generator: data.DataLoader object.\n",
    "        criterion: loss function\n",
    "    Returns:\n",
    "        Root Mean Square Error on evaluation datasets.\n",
    "    \"\"\"\n",
    "    with torch.no_grad():\n",
    "        MSE = []\n",
    "        preds = []\n",
    "        for x, y in data_generator:\n",
    "            input_tensor, target_tensor = x.to(device).float(), y.to(device).float()\n",
    "            loss = 0\n",
    "            output = model(input_tensor, target_tensor).reshape(target_tensor.shape)\n",
    "            preds.append(output.cpu().detach().numpy())\n",
    "            num_iter = output.size(0)\n",
    "            \n",
    "            for ot in range(num_iter):\n",
    "                loss += criterion(output[ot], target_tensor[ot])\n",
    "            MSE.append(loss.item()/num_iter)\n",
    "            \n",
    "    if return_pred == True:\n",
    "        preds =  np.concatenate(preds).squeeze(-1)\n",
    "        return round(np.sqrt(np.mean(MSE)), 5), preds\n",
    "    else:\n",
    "        return round(np.sqrt(np.mean(MSE)), 5)\n",
    "\n",
    "\n",
    "def train_model(model, X, Y, learning_rate, output_steps, batch_size, train_idx, valid_idx, test_idx, test=False, return_pred=False):\n",
    "    # Initialize the model and define optimizer, learning rate decay and criterion\n",
    "    optimizer = torch.optim.RMSprop(model.parameters(), lr = learning_rate)\n",
    "    scheduler = torch.optim.lr_scheduler.StepLR(optimizer, step_size= 5, gamma=0.8)\n",
    "    criterion = nn.MSELoss()\n",
    "    \n",
    "    # Split dataset into training set, validation set and test set.\n",
    "    train_rmse, train_set = [], Dataset(X, Y, train_idx, output_steps)\n",
    "    valid_rmse, valid_set = [], Dataset(X, Y, valid_idx, output_steps)\n",
    "    if test:\n",
    "        test_rmse, test_set = [], Dataset(X, Y, test_idx, output_steps)\n",
    "    \n",
    "    min_loss = 1000\n",
    "    best_model = 0\n",
    "    best_preds = 0\n",
    "    min_valid_loss = 1000\n",
    "    \n",
    "    for i in tqdm(range(200)):\n",
    "        start = time.time()\n",
    "        scheduler.step()\n",
    "        train_generator = data.DataLoader(train_set, batch_size = batch_size, shuffle = True)\n",
    "        valid_generator = data.DataLoader(valid_set, batch_size = batch_size, shuffle = False)\n",
    "        if test:\n",
    "            test_generator = data.DataLoader(test_set, batch_size = batch_size, shuffle = False)\n",
    " \n",
    "        model.train()\n",
    "        train_rmse.append(run_epoch_train(model, train_generator, optimizer, criterion))\n",
    "            \n",
    "        model.eval()\n",
    "        rmse, predictions = run_epoch_eval(model,  valid_generator, criterion, return_pred = True)\n",
    "        valid_rmse.append(rmse)\n",
    "        \n",
    "        if test:\n",
    "            if return_pred:\n",
    "                t_rmse, test_predictions = run_epoch_eval(model, test_generator, criterion, return_pred = True)\n",
    "            else:\n",
    "                t_rmse = run_epoch_eval(model, test_generator, criterion, return_pred = False)\n",
    "            test_rmse.append(t_rmse)\n",
    "        \n",
    "        if valid_rmse[-1] < min_loss:\n",
    "            min_loss = valid_rmse[-1]\n",
    "            best_model = model\n",
    "            min_valid_loss = valid_rmse[-1]\n",
    "            best_preds = predictions\n",
    "            min_valid_loss = valid_rmse[-1]\n",
    "            \n",
    "        if (len(train_rmse) > 15 and np.mean(valid_rmse[-5:]) >= np.mean(valid_rmse[-10:-5])):\n",
    "            break\n",
    "            \n",
    "    end = time.time()       \n",
    "    print((\"Epoch %d:\"%(i+1)), (\"Loss: %f; \"%train_rmse[-1]),(\"valid_loss: %f; \"%valid_rmse[-1]), \n",
    "          (\"Time: %f; \"%round(end - start,5)))\n",
    "\n",
    "    if test:\n",
    "        if return_pred:\n",
    "            return best_model, (train_rmse,valid_rmse),  best_preds, min_valid_loss, test_rmse, test_predictions\n",
    "        return best_model, (train_rmse,valid_rmse),  best_preds, min_valid_loss, test_rmse\n",
    "    return best_model, (train_rmse,valid_rmse),  best_preds, min_valid_loss"
   ]
  },
  {
   "cell_type": "code",
   "execution_count": 23,
   "metadata": {},
   "outputs": [
    {
     "data": {
      "application/vnd.jupyter.widget-view+json": {
       "model_id": "4431d4dfac5349099955fee6965c7c06",
       "version_major": 2,
       "version_minor": 0
      },
      "text/plain": [
       "  0%|          | 0/200 [00:00<?, ?it/s]"
      ]
     },
     "metadata": {},
     "output_type": "display_data"
    },
    {
     "ename": "KeyboardInterrupt",
     "evalue": "",
     "output_type": "error",
     "traceback": [
      "\u001b[1;31m---------------------------------------------------------------------------\u001b[0m",
      "\u001b[1;31mKeyboardInterrupt\u001b[0m                         Traceback (most recent call last)",
      "\u001b[1;32m<ipython-input-23-7f3d5ff6738c>\u001b[0m in \u001b[0;36m<module>\u001b[1;34m\u001b[0m\n\u001b[0;32m     19\u001b[0m model, loss, preds, min_valid_loss, test_rmse = train_model(\n\u001b[0;32m     20\u001b[0m     \u001b[0mmodel\u001b[0m\u001b[1;33m,\u001b[0m \u001b[0mX\u001b[0m\u001b[1;33m,\u001b[0m \u001b[0mY\u001b[0m\u001b[1;33m,\u001b[0m \u001b[0mlearning_rate\u001b[0m\u001b[1;33m,\u001b[0m \u001b[0moutput_steps\u001b[0m \u001b[1;33m=\u001b[0m \u001b[0moutput_steps\u001b[0m\u001b[1;33m,\u001b[0m \u001b[0mbatch_size\u001b[0m \u001b[1;33m=\u001b[0m \u001b[1;36m64\u001b[0m\u001b[1;33m,\u001b[0m\u001b[1;33m\u001b[0m\u001b[1;33m\u001b[0m\u001b[0m\n\u001b[1;32m---> 21\u001b[1;33m     train_idx = train_idx, valid_idx = valid_idx, test_idx = test_idx, test=True)\n\u001b[0m\u001b[0;32m     22\u001b[0m \u001b[1;33m\u001b[0m\u001b[0m\n\u001b[0;32m     23\u001b[0m print({\n",
      "\u001b[1;32m<ipython-input-22-38027e4e3ff4>\u001b[0m in \u001b[0;36mtrain_model\u001b[1;34m(model, X, Y, learning_rate, output_steps, batch_size, train_idx, valid_idx, test_idx, test, return_pred)\u001b[0m\n\u001b[0;32m     82\u001b[0m \u001b[1;33m\u001b[0m\u001b[0m\n\u001b[0;32m     83\u001b[0m         \u001b[0mmodel\u001b[0m\u001b[1;33m.\u001b[0m\u001b[0mtrain\u001b[0m\u001b[1;33m(\u001b[0m\u001b[1;33m)\u001b[0m\u001b[1;33m\u001b[0m\u001b[1;33m\u001b[0m\u001b[0m\n\u001b[1;32m---> 84\u001b[1;33m         \u001b[0mtrain_rmse\u001b[0m\u001b[1;33m.\u001b[0m\u001b[0mappend\u001b[0m\u001b[1;33m(\u001b[0m\u001b[0mrun_epoch_train\u001b[0m\u001b[1;33m(\u001b[0m\u001b[0mmodel\u001b[0m\u001b[1;33m,\u001b[0m \u001b[0mtrain_generator\u001b[0m\u001b[1;33m,\u001b[0m \u001b[0moptimizer\u001b[0m\u001b[1;33m,\u001b[0m \u001b[0mcriterion\u001b[0m\u001b[1;33m)\u001b[0m\u001b[1;33m)\u001b[0m\u001b[1;33m\u001b[0m\u001b[1;33m\u001b[0m\u001b[0m\n\u001b[0m\u001b[0;32m     85\u001b[0m \u001b[1;33m\u001b[0m\u001b[0m\n\u001b[0;32m     86\u001b[0m         \u001b[0mmodel\u001b[0m\u001b[1;33m.\u001b[0m\u001b[0meval\u001b[0m\u001b[1;33m(\u001b[0m\u001b[1;33m)\u001b[0m\u001b[1;33m\u001b[0m\u001b[1;33m\u001b[0m\u001b[0m\n",
      "\u001b[1;32m<ipython-input-22-38027e4e3ff4>\u001b[0m in \u001b[0;36mrun_epoch_train\u001b[1;34m(model, data_generator, model_optimizer, criterion)\u001b[0m\n\u001b[0;32m     20\u001b[0m             \u001b[0mloss\u001b[0m \u001b[1;33m+=\u001b[0m \u001b[0mcriterion\u001b[0m\u001b[1;33m(\u001b[0m\u001b[0moutput\u001b[0m\u001b[1;33m[\u001b[0m\u001b[0mot\u001b[0m\u001b[1;33m]\u001b[0m\u001b[1;33m,\u001b[0m \u001b[0mtarget_tensor\u001b[0m\u001b[1;33m[\u001b[0m\u001b[0mot\u001b[0m\u001b[1;33m]\u001b[0m\u001b[1;33m)\u001b[0m\u001b[1;33m\u001b[0m\u001b[1;33m\u001b[0m\u001b[0m\n\u001b[0;32m     21\u001b[0m         \u001b[0mMSE\u001b[0m\u001b[1;33m.\u001b[0m\u001b[0mappend\u001b[0m\u001b[1;33m(\u001b[0m\u001b[0mloss\u001b[0m\u001b[1;33m.\u001b[0m\u001b[0mitem\u001b[0m\u001b[1;33m(\u001b[0m\u001b[1;33m)\u001b[0m\u001b[1;33m/\u001b[0m\u001b[0mnum_iter\u001b[0m\u001b[1;33m)\u001b[0m\u001b[1;33m\u001b[0m\u001b[1;33m\u001b[0m\u001b[0m\n\u001b[1;32m---> 22\u001b[1;33m         \u001b[0mloss\u001b[0m\u001b[1;33m.\u001b[0m\u001b[0mbackward\u001b[0m\u001b[1;33m(\u001b[0m\u001b[1;33m)\u001b[0m\u001b[1;33m\u001b[0m\u001b[1;33m\u001b[0m\u001b[0m\n\u001b[0m\u001b[0;32m     23\u001b[0m         \u001b[0mmodel_optimizer\u001b[0m\u001b[1;33m.\u001b[0m\u001b[0mstep\u001b[0m\u001b[1;33m(\u001b[0m\u001b[1;33m)\u001b[0m\u001b[1;33m\u001b[0m\u001b[1;33m\u001b[0m\u001b[0m\n\u001b[0;32m     24\u001b[0m \u001b[1;33m\u001b[0m\u001b[0m\n",
      "\u001b[1;32mc:\\users\\rmartinez4\\anaconda3\\envs\\plotly\\lib\\site-packages\\torch\\tensor.py\u001b[0m in \u001b[0;36mbackward\u001b[1;34m(self, gradient, retain_graph, create_graph)\u001b[0m\n\u001b[0;32m    219\u001b[0m                 \u001b[0mretain_graph\u001b[0m\u001b[1;33m=\u001b[0m\u001b[0mretain_graph\u001b[0m\u001b[1;33m,\u001b[0m\u001b[1;33m\u001b[0m\u001b[1;33m\u001b[0m\u001b[0m\n\u001b[0;32m    220\u001b[0m                 create_graph=create_graph)\n\u001b[1;32m--> 221\u001b[1;33m         \u001b[0mtorch\u001b[0m\u001b[1;33m.\u001b[0m\u001b[0mautograd\u001b[0m\u001b[1;33m.\u001b[0m\u001b[0mbackward\u001b[0m\u001b[1;33m(\u001b[0m\u001b[0mself\u001b[0m\u001b[1;33m,\u001b[0m \u001b[0mgradient\u001b[0m\u001b[1;33m,\u001b[0m \u001b[0mretain_graph\u001b[0m\u001b[1;33m,\u001b[0m \u001b[0mcreate_graph\u001b[0m\u001b[1;33m)\u001b[0m\u001b[1;33m\u001b[0m\u001b[1;33m\u001b[0m\u001b[0m\n\u001b[0m\u001b[0;32m    222\u001b[0m \u001b[1;33m\u001b[0m\u001b[0m\n\u001b[0;32m    223\u001b[0m     \u001b[1;32mdef\u001b[0m \u001b[0mregister_hook\u001b[0m\u001b[1;33m(\u001b[0m\u001b[0mself\u001b[0m\u001b[1;33m,\u001b[0m \u001b[0mhook\u001b[0m\u001b[1;33m)\u001b[0m\u001b[1;33m:\u001b[0m\u001b[1;33m\u001b[0m\u001b[1;33m\u001b[0m\u001b[0m\n",
      "\u001b[1;32mc:\\users\\rmartinez4\\anaconda3\\envs\\plotly\\lib\\site-packages\\torch\\autograd\\__init__.py\u001b[0m in \u001b[0;36mbackward\u001b[1;34m(tensors, grad_tensors, retain_graph, create_graph, grad_variables)\u001b[0m\n\u001b[0;32m    130\u001b[0m     Variable._execution_engine.run_backward(\n\u001b[0;32m    131\u001b[0m         \u001b[0mtensors\u001b[0m\u001b[1;33m,\u001b[0m \u001b[0mgrad_tensors_\u001b[0m\u001b[1;33m,\u001b[0m \u001b[0mretain_graph\u001b[0m\u001b[1;33m,\u001b[0m \u001b[0mcreate_graph\u001b[0m\u001b[1;33m,\u001b[0m\u001b[1;33m\u001b[0m\u001b[1;33m\u001b[0m\u001b[0m\n\u001b[1;32m--> 132\u001b[1;33m         allow_unreachable=True)  # allow_unreachable flag\n\u001b[0m\u001b[0;32m    133\u001b[0m \u001b[1;33m\u001b[0m\u001b[0m\n\u001b[0;32m    134\u001b[0m \u001b[1;33m\u001b[0m\u001b[0m\n",
      "\u001b[1;31mKeyboardInterrupt\u001b[0m: "
     ]
    }
   ],
   "source": [
    "learning_rate = 0.01\n",
    "dropout_rate = 0.6\n",
    "num_layers = 1\n",
    "hidden_dim = 128\n",
    "\n",
    "input_steps = 60\n",
    "output_steps = 60\n",
    "# input_size = 2\n",
    "input_size = 1\n",
    "output_size = 1\n",
    "\n",
    "train_idx = list(range(training_size))\n",
    "valid_idx = list(range(training_size, train_valid_size))\n",
    "test_idx = list(range(train_valid_size, train_valid_size + test_size))\n",
    "\n",
    "encoder = Encoder(input_size, hidden_dim, num_layers, dropout_rate)\n",
    "decoder = Decoder(output_size, hidden_dim, num_layers, dropout_rate)\n",
    "model = Seq2Seq(encoder, decoder, device).to(device)\n",
    "model, loss, preds, min_valid_loss, test_rmse = train_model(\n",
    "    model, X, Y, learning_rate, output_steps = output_steps, batch_size = 64,\n",
    "    train_idx = train_idx, valid_idx = valid_idx, test_idx = test_idx, test=True)\n",
    "\n",
    "print({\n",
    "    'learning_rate': learning_rate,\n",
    "    'dropout_rate': dropout_rate,\n",
    "    'num_layers':num_layers,\n",
    "    'hidden_dim': hidden_dim,\n",
    "#     'model_state_dict': model.state_dict(),\n",
    "#     'loss': loss,\n",
    "    'min_valid_loss': min_valid_loss,\n",
    "#     'preds':preds,\n",
    "})"
   ]
  },
  {
   "cell_type": "code",
   "execution_count": null,
   "metadata": {},
   "outputs": [],
   "source": [
    "def unscale_data(scaled_data, avg, std):\n",
    "    data = scaled_data * std + avg\n",
    "    return data"
   ]
  },
  {
   "cell_type": "code",
   "execution_count": null,
   "metadata": {},
   "outputs": [],
   "source": [
    "# first example for 3 hours\n",
    "plt.figure(figsize=(20,7))\n",
    "index_to_plot = 1003\n",
    "plt.plot(np.concatenate(([np.nan]*30, unscale_data(preds[index_to_plot], float(avg), float(std)))))\n",
    "plt.plot(torch.cat([X_test[:,:,0][index_to_plot], Y_test[:,:,0][index_to_plot]]))\n",
    "plt.legend(['Predictions', 'Actual'], loc='upper right')\n",
    "plt.rcParams.update({'font.size': 20})\n"
   ]
  },
  {
   "cell_type": "code",
   "execution_count": null,
   "metadata": {},
   "outputs": [],
   "source": [
    "# second example for 3 hours\n",
    "plt.figure(figsize=(20,7))\n",
    "index_to_plot = 1003\n",
    "plt.plot(np.concatenate(([np.nan]*30, unscale_data(preds[index_to_plot], float(avg), float(std)))))\n",
    "plt.plot(torch.cat([X_test[:,:,0][index_to_plot], Y_test[:,:,0][index_to_plot]]))\n",
    "plt.legend(['Predictions', 'Actual'], loc='upper right')\n",
    "plt.rcParams.update({'font.size': 20})\n"
   ]
  },
  {
   "cell_type": "code",
   "execution_count": null,
   "metadata": {},
   "outputs": [],
   "source": [
    "# third example for 3 hours\n",
    "plt.figure(figsize=(20,7))\n",
    "index_to_plot = 1003\n",
    "plt.plot(np.concatenate(([np.nan]*30, unscale_data(preds[index_to_plot], float(avg), float(std)))))\n",
    "plt.plot(torch.cat([X_test[:,:,0][index_to_plot], Y_test[:,:,0][index_to_plot]]))\n",
    "plt.legend(['Predictions', 'Actual'], loc='upper right')\n",
    "plt.rcParams.update({'font.size': 20})\n"
   ]
  },
  {
   "cell_type": "code",
   "execution_count": null,
   "metadata": {},
   "outputs": [],
   "source": []
  },
  {
   "cell_type": "code",
   "execution_count": null,
   "metadata": {},
   "outputs": [],
   "source": [
    "train_rmse, valid_rmse = loss\n",
    "plt.figure(figsize=(20,7))\n",
    "plt.plot(valid_rmse)\n",
    "plt.plot(test_rmse)\n",
    "plt.legend(['valid rmse', 'test rmse'], loc='upper right')\n",
    "plt.rcParams.update({'font.size': 20})\n",
    "print('Test RMSE: %f' % (test_rmse[-1]) )"
   ]
  },
  {
   "cell_type": "code",
   "execution_count": null,
   "metadata": {},
   "outputs": [],
   "source": []
  },
  {
   "cell_type": "code",
   "execution_count": null,
   "metadata": {},
   "outputs": [],
   "source": []
  },
  {
   "cell_type": "code",
   "execution_count": null,
   "metadata": {},
   "outputs": [],
   "source": []
  },
  {
   "cell_type": "code",
   "execution_count": null,
   "metadata": {},
   "outputs": [],
   "source": []
  }
 ],
 "metadata": {
  "kernelspec": {
   "display_name": "Python 3",
   "language": "python",
   "name": "python3"
  },
  "language_info": {
   "codemirror_mode": {
    "name": "ipython",
    "version": 3
   },
   "file_extension": ".py",
   "mimetype": "text/x-python",
   "name": "python",
   "nbconvert_exporter": "python",
   "pygments_lexer": "ipython3",
   "version": "3.7.9"
  },
  "toc": {
   "base_numbering": 1,
   "nav_menu": {},
   "number_sections": true,
   "sideBar": true,
   "skip_h1_title": false,
   "title_cell": "Table of Contents",
   "title_sidebar": "Contents",
   "toc_cell": false,
   "toc_position": {
    "height": "calc(100% - 180px)",
    "left": "10px",
    "top": "150px",
    "width": "165px"
   },
   "toc_section_display": true,
   "toc_window_display": false
  },
  "varInspector": {
   "cols": {
    "lenName": 16,
    "lenType": 16,
    "lenVar": 40
   },
   "kernels_config": {
    "python": {
     "delete_cmd_postfix": "",
     "delete_cmd_prefix": "del ",
     "library": "var_list.py",
     "varRefreshCmd": "print(var_dic_list())"
    },
    "r": {
     "delete_cmd_postfix": ") ",
     "delete_cmd_prefix": "rm(",
     "library": "var_list.r",
     "varRefreshCmd": "cat(var_dic_list()) "
    }
   },
   "types_to_exclude": [
    "module",
    "function",
    "builtin_function_or_method",
    "instance",
    "_Feature"
   ],
   "window_display": false
  }
 },
 "nbformat": 4,
 "nbformat_minor": 4
}
