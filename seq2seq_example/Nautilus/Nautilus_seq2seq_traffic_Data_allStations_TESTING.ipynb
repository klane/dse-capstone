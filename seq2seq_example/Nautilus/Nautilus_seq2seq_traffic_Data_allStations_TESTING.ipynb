{
 "cells": [
  {
   "cell_type": "code",
   "execution_count": 1,
   "metadata": {
    "id": "K4XWHTiPlAAK"
   },
   "outputs": [],
   "source": [
    "from __future__ import unicode_literals, print_function, division\n",
    "import torch\n",
    "import torch.nn as nn\n",
    "import torch.optim as optim\n",
    "import torch.nn.functional as F\n",
    "import matplotlib.pyplot as plt\n",
    "import numpy as np\n",
    "import pandas as pd\n",
    "from torch.utils import data\n",
    "import os\n",
    "from os import listdir\n",
    "from os.path import join, abspath\n",
    "import itertools\n",
    "import re\n",
    "import random\n",
    "import time\n",
    "from torch.autograd import Variable\n",
    "from scipy.signal import tukey\n",
    "from torch.utils import data\n",
    "from tqdm.notebook import tqdm\n",
    "device = torch.device(\"cuda:0\" if torch.cuda.is_available() else \"cpu\")\n",
    "import warnings\n",
    "warnings.filterwarnings(\"ignore\")\n",
    "\n",
    "\n",
    "import json\n",
    "import sqlalchemy as sal\n",
    "import getpass\n",
    "import pandas as pd\n",
    "from urllib.request import urlopen\n",
    "import pickle as pkl\n",
    "\n",
    "import os\n",
    "os.environ['KMP_DUPLICATE_LIB_OK']='True'"
   ]
  },
  {
   "cell_type": "code",
   "execution_count": 2,
   "metadata": {},
   "outputs": [],
   "source": [
    "# torch.cuda.get_device_name(0)"
   ]
  },
  {
   "cell_type": "code",
   "execution_count": 3,
   "metadata": {
    "colab": {
     "base_uri": "https://localhost:8080/"
    },
    "id": "TyvDpKlwlQQd",
    "outputId": "4619036b-697c-4497-8b1c-d6e26da4ab39"
   },
   "outputs": [
    {
     "data": {
      "text/plain": [
       "False"
      ]
     },
     "execution_count": 3,
     "metadata": {},
     "output_type": "execute_result"
    }
   ],
   "source": [
    "torch.cuda.is_available()"
   ]
  },
  {
   "cell_type": "markdown",
   "metadata": {
    "id": "EEG4ddBblAAO"
   },
   "source": [
    "# Get data from RDS\n"
   ]
  },
  {
   "cell_type": "code",
   "execution_count": 4,
   "metadata": {
    "id": "xAtYTrMolAAP",
    "outputId": "abf651c3-010c-4bd4-d31a-1c6e18dae57c"
   },
   "outputs": [
    {
     "name": "stdout",
     "output_type": "stream",
     "text": [
      "(16673264, 3)\n",
      "Wall time: 6min 34s\n"
     ]
    },
    {
     "data": {
      "text/html": [
       "<div>\n",
       "<style scoped>\n",
       "    .dataframe tbody tr th:only-of-type {\n",
       "        vertical-align: middle;\n",
       "    }\n",
       "\n",
       "    .dataframe tbody tr th {\n",
       "        vertical-align: top;\n",
       "    }\n",
       "\n",
       "    .dataframe thead th {\n",
       "        text-align: right;\n",
       "    }\n",
       "</style>\n",
       "<table border=\"1\" class=\"dataframe\">\n",
       "  <thead>\n",
       "    <tr style=\"text-align: right;\">\n",
       "      <th></th>\n",
       "      <th>timestamp</th>\n",
       "      <th>station</th>\n",
       "      <th>avg_speed</th>\n",
       "    </tr>\n",
       "  </thead>\n",
       "  <tbody>\n",
       "    <tr>\n",
       "      <th>0</th>\n",
       "      <td>2020-04-09 13:20:00</td>\n",
       "      <td>400714</td>\n",
       "      <td>67.0</td>\n",
       "    </tr>\n",
       "    <tr>\n",
       "      <th>1</th>\n",
       "      <td>2020-04-09 13:20:00</td>\n",
       "      <td>400715</td>\n",
       "      <td>63.6</td>\n",
       "    </tr>\n",
       "    <tr>\n",
       "      <th>2</th>\n",
       "      <td>2020-04-09 13:20:00</td>\n",
       "      <td>400717</td>\n",
       "      <td>64.8</td>\n",
       "    </tr>\n",
       "    <tr>\n",
       "      <th>3</th>\n",
       "      <td>2020-04-09 13:20:00</td>\n",
       "      <td>400723</td>\n",
       "      <td>63.5</td>\n",
       "    </tr>\n",
       "    <tr>\n",
       "      <th>4</th>\n",
       "      <td>2020-04-09 13:20:00</td>\n",
       "      <td>400743</td>\n",
       "      <td>70.4</td>\n",
       "    </tr>\n",
       "  </tbody>\n",
       "</table>\n",
       "</div>"
      ],
      "text/plain": [
       "            timestamp  station  avg_speed\n",
       "0 2020-04-09 13:20:00   400714       67.0\n",
       "1 2020-04-09 13:20:00   400715       63.6\n",
       "2 2020-04-09 13:20:00   400717       64.8\n",
       "3 2020-04-09 13:20:00   400723       63.5\n",
       "4 2020-04-09 13:20:00   400743       70.4"
      ]
     },
     "execution_count": 4,
     "metadata": {},
     "output_type": "execute_result"
    }
   ],
   "source": [
    "%%time\n",
    "#parameters of the AWS database\n",
    "endpoint = \"capstone.clihskgj8i7s.us-west-2.rds.amazonaws.com\"\n",
    "user=\"group3\"\n",
    "db=\"db1\"\n",
    "#pw=getpass.getpass(\"Enter database password\")\n",
    "pw=open(r'C:\\Users\\rmartinez4\\OneDrive - Illumina, Inc\\Desktop\\password.txt',\"r\").read().rstrip()\n",
    "\n",
    "engine = sal.create_engine('postgresql://%s:%s@%s/%s' % (user, pw, endpoint, db))\n",
    "\n",
    "# query=\"\"\"\n",
    "# select timestamp, station, total_flow\n",
    "# from traffic_train\n",
    "# ;\n",
    "# \"\"\"\n",
    "\n",
    "query=\"\"\"\n",
    "select timestamp, station, avg_speed\n",
    "from traffic_train\n",
    ";\n",
    "\"\"\"\n",
    "\n",
    "query_data=pd.read_sql(query, engine)\n",
    "\n",
    "print(query_data.shape)\n",
    "query_data.head()"
   ]
  },
  {
   "cell_type": "code",
   "execution_count": 9,
   "metadata": {
    "id": "AgUSha_ylAAP",
    "outputId": "47a7b5ca-fd73-4ad8-f185-708954b98fc0"
   },
   "outputs": [
    {
     "name": "stdout",
     "output_type": "stream",
     "text": [
      "2020-01-01 00:05:00 2020-06-30 00:00:00\n"
     ]
    }
   ],
   "source": [
    "print(query_data.timestamp.min(), query_data.timestamp.max())"
   ]
  },
  {
   "cell_type": "code",
   "execution_count": 10,
   "metadata": {},
   "outputs": [
    {
     "data": {
      "text/plain": [
       "320"
      ]
     },
     "execution_count": 10,
     "metadata": {},
     "output_type": "execute_result"
    }
   ],
   "source": [
    "len(query_data.station.unique())"
   ]
  },
  {
   "cell_type": "code",
   "execution_count": 68,
   "metadata": {},
   "outputs": [
    {
     "data": {
      "text/plain": [
       "timestamp       0\n",
       "station         0\n",
       "avg_speed    1971\n",
       "dtype: int64"
      ]
     },
     "execution_count": 68,
     "metadata": {},
     "output_type": "execute_result"
    }
   ],
   "source": [
    "query_data.isna().sum()"
   ]
  },
  {
   "cell_type": "code",
   "execution_count": 12,
   "metadata": {},
   "outputs": [],
   "source": [
    "# %%time\n",
    "# # get a subset of the data\n",
    "# list_ = list(query_data.station.unique()[:50])\n",
    "# df = query_data[[i in list_ for i in query_data.station]]\n",
    "# df.shape"
   ]
  },
  {
   "cell_type": "code",
   "execution_count": 14,
   "metadata": {},
   "outputs": [],
   "source": [
    "# df.shape"
   ]
  },
  {
   "cell_type": "markdown",
   "metadata": {
    "id": "FznEMhLElAAQ"
   },
   "source": [
    "# Data Preparation\n",
    "\n",
    "- Data Augmentation: create more segments with a sliding window of 1 hour (12 data points)\n",
    "- split into segments\n",
    "- filter segments with: negative values"
   ]
  },
  {
   "cell_type": "code",
   "execution_count": 69,
   "metadata": {},
   "outputs": [],
   "source": [
    "# filter out negative values in the segment and sequences with nan\n",
    "\n",
    "def generate_segments(df, segment_length=24, window=1):\n",
    "    \n",
    "    cols = ['station','timestamp']\n",
    "    \n",
    "    df = df.set_index(cols).sort_values(by=cols)\n",
    "    \n",
    "    continous_time_series = []\n",
    "    \n",
    "    for s in df.index.unique(level=0):\n",
    "        \n",
    "        print(s)\n",
    "        \n",
    "        values = df.loc[s].values\n",
    "                \n",
    "        for i in range(len(values)-segment_length):\n",
    "            \n",
    "            arr = np.array(values[i:i+segment_length])\n",
    "            time_series = torch.from_numpy(arr.reshape(segment_length,1))\n",
    "                        \n",
    "            # do not include if any value within the segment is less than zero or nan\n",
    "            if any(time_series<0) | any(np.isnan(time_series)):\n",
    "#                 print('Ignored segment {}'.format(time_series))\n",
    "                continue\n",
    "            \n",
    "            continous_time_series.append(time_series)\n",
    "                        \n",
    "    return torch.stack(continous_time_series, 0)"
   ]
  },
  {
   "cell_type": "code",
   "execution_count": 70,
   "metadata": {
    "id": "yG0ZIQv8lAAR",
    "outputId": "267c9b7a-ae6d-4fab-8ca4-1b332dc783bd"
   },
   "outputs": [
    {
     "name": "stdout",
     "output_type": "stream",
     "text": [
      "400001\n",
      "400017\n",
      "400030\n",
      "400040\n",
      "400045\n",
      "400052\n",
      "400057\n",
      "400059\n",
      "400065\n",
      "400069\n",
      "400073\n",
      "400084\n",
      "400085\n",
      "400088\n",
      "400096\n",
      "400097\n",
      "400100\n",
      "400104\n",
      "400109\n",
      "400122\n",
      "400147\n",
      "400148\n",
      "400149\n",
      "400158\n",
      "400160\n",
      "400168\n",
      "400172\n",
      "400174\n",
      "400178\n",
      "400185\n",
      "400201\n",
      "400206\n",
      "400209\n",
      "400213\n",
      "400221\n",
      "400222\n",
      "400227\n",
      "400236\n",
      "400238\n",
      "400240\n",
      "400246\n",
      "400253\n",
      "400257\n",
      "400258\n",
      "400268\n",
      "400274\n",
      "400278\n",
      "400280\n",
      "400292\n",
      "400296\n",
      "400298\n",
      "400330\n",
      "400336\n",
      "400343\n",
      "400353\n",
      "400372\n",
      "400394\n",
      "400400\n",
      "400414\n",
      "400418\n",
      "400429\n",
      "400435\n",
      "400436\n",
      "400440\n",
      "400449\n",
      "400457\n",
      "400461\n",
      "400464\n",
      "400479\n",
      "400485\n",
      "400499\n",
      "400507\n",
      "400508\n",
      "400514\n",
      "400519\n",
      "400528\n",
      "400545\n",
      "400560\n",
      "400563\n",
      "400567\n",
      "400581\n",
      "400582\n",
      "400586\n",
      "400637\n",
      "400643\n",
      "400648\n",
      "400649\n",
      "400654\n",
      "400664\n",
      "400665\n",
      "400668\n",
      "400673\n",
      "400677\n",
      "400687\n",
      "400688\n",
      "400690\n",
      "400700\n",
      "400709\n",
      "400713\n",
      "400714\n",
      "400715\n",
      "400717\n",
      "400723\n",
      "400743\n",
      "400750\n",
      "400760\n",
      "400772\n",
      "400790\n",
      "400792\n",
      "400794\n",
      "400799\n",
      "400804\n",
      "400822\n",
      "400823\n",
      "400828\n",
      "400832\n",
      "400837\n",
      "400842\n",
      "400863\n",
      "400869\n",
      "400873\n",
      "400895\n",
      "400904\n",
      "400907\n",
      "400911\n",
      "400916\n",
      "400922\n",
      "400934\n",
      "400951\n",
      "400952\n",
      "400953\n",
      "400964\n",
      "400965\n",
      "400970\n",
      "400971\n",
      "400973\n",
      "400995\n",
      "400996\n",
      "401014\n",
      "401129\n",
      "401154\n",
      "401163\n",
      "401167\n",
      "401210\n",
      "401224\n",
      "401327\n",
      "401351\n",
      "401388\n",
      "401391\n",
      "401400\n",
      "401403\n",
      "401440\n",
      "401457\n",
      "401464\n",
      "401489\n",
      "401495\n",
      "401507\n",
      "401534\n",
      "401541\n",
      "401555\n",
      "401560\n",
      "401567\n",
      "401597\n",
      "401606\n",
      "401611\n",
      "401655\n",
      "401808\n",
      "401809\n",
      "401810\n",
      "401811\n",
      "401816\n",
      "401817\n",
      "401845\n",
      "401846\n",
      "401890\n",
      "401891\n",
      "401906\n",
      "401908\n",
      "401926\n",
      "401936\n",
      "401937\n",
      "401942\n",
      "401943\n",
      "401948\n",
      "401957\n",
      "401958\n",
      "401994\n",
      "401996\n",
      "401997\n",
      "401998\n",
      "402056\n",
      "402057\n",
      "402058\n",
      "402059\n",
      "402060\n",
      "402061\n",
      "402067\n",
      "402117\n",
      "402118\n",
      "402119\n",
      "402120\n",
      "402121\n",
      "402281\n",
      "402282\n",
      "402283\n",
      "402284\n",
      "402285\n",
      "402286\n",
      "402287\n",
      "402359\n",
      "402360\n",
      "402361\n",
      "402362\n",
      "402363\n",
      "402364\n",
      "402365\n",
      "402366\n",
      "402367\n",
      "402370\n",
      "402371\n",
      "402372\n",
      "402373\n",
      "403225\n",
      "403265\n",
      "403329\n",
      "403401\n",
      "403402\n",
      "403404\n",
      "403406\n",
      "403409\n",
      "403412\n",
      "403414\n",
      "403419\n",
      "404370\n",
      "404434\n",
      "404435\n",
      "404444\n",
      "404451\n",
      "404452\n",
      "404453\n",
      "404461\n",
      "404462\n",
      "404521\n",
      "404522\n",
      "404553\n",
      "404585\n",
      "404586\n",
      "404640\n",
      "404753\n",
      "404759\n",
      "405613\n",
      "405619\n",
      "405701\n",
      "407150\n",
      "407151\n",
      "407152\n",
      "407153\n",
      "407155\n",
      "407157\n",
      "407161\n",
      "407165\n",
      "407172\n",
      "407173\n",
      "407174\n",
      "407176\n",
      "407177\n",
      "407179\n",
      "407180\n",
      "407181\n",
      "407184\n",
      "407185\n",
      "407186\n",
      "407187\n",
      "407190\n",
      "407191\n",
      "407194\n",
      "407200\n",
      "407202\n",
      "407204\n",
      "407206\n",
      "407207\n",
      "407321\n",
      "407323\n",
      "407325\n",
      "407328\n",
      "407331\n",
      "407332\n",
      "407335\n",
      "407336\n",
      "407337\n",
      "407339\n",
      "407341\n",
      "407342\n",
      "407344\n",
      "407348\n",
      "407352\n",
      "407359\n",
      "407360\n",
      "407361\n",
      "407364\n",
      "407367\n",
      "407370\n",
      "407372\n",
      "407373\n",
      "407374\n",
      "407710\n",
      "407711\n",
      "408907\n",
      "408911\n",
      "409524\n",
      "409525\n",
      "409526\n",
      "409528\n",
      "409529\n",
      "413026\n",
      "413845\n",
      "413877\n",
      "413878\n",
      "414284\n",
      "414694\n",
      "Wall time: 1h 27min 37s\n"
     ]
    },
    {
     "data": {
      "text/plain": [
       "torch.Size([16618280, 24, 1])"
      ]
     },
     "execution_count": 70,
     "metadata": {},
     "output_type": "execute_result"
    }
   ],
   "source": [
    "%%time\n",
    "df = query_data.copy()\n",
    "c_time_series = generate_segments(df)\n",
    "c_time_series.shape"
   ]
  },
  {
   "cell_type": "code",
   "execution_count": 78,
   "metadata": {
    "id": "iKxm-6PTlAAS",
    "outputId": "b3c898c2-d088-4c1d-e198-5c66b1f689f2"
   },
   "outputs": [
    {
     "data": {
      "text/plain": [
       "[<matplotlib.lines.Line2D at 0x2213031ab20>]"
      ]
     },
     "execution_count": 78,
     "metadata": {},
     "output_type": "execute_result"
    },
    {
     "data": {
      "image/png": "[encoded data removed]",
      "text/plain": [
       "<Figure size 432x288 with 1 Axes>"
      ]
     },
     "metadata": {
      "needs_background": "light"
     },
     "output_type": "display_data"
    }
   ],
   "source": [
    "import os\n",
    "os.environ['KMP_DUPLICATE_LIB_OK']='True'\n",
    "\n",
    "plt.plot(np.array(c_time_series[33].reshape(1,24)[0]))"
   ]
  },
  {
   "cell_type": "code",
   "execution_count": 72,
   "metadata": {
    "id": "RsTgsN67lAAS",
    "outputId": "467b14be-edec-4f80-f275-679bb63b5f68"
   },
   "outputs": [],
   "source": [
    "# %%time\n",
    "# # find idx for segments with negative values and remove\n",
    "# n_segments = c_time_series.shape[0]\n",
    "# idx_to_keep = [i for i in range(n_segments) if all(c_time_series[i,:,:]>=0) and not any(c_time_series[i,:,:].isnan())]\n",
    "# len(idx_to_keep)"
   ]
  },
  {
   "cell_type": "code",
   "execution_count": 73,
   "metadata": {
    "id": "OEYjdRP4lAAS",
    "outputId": "887c045b-ae9f-459a-f9c5-fa366bd03785"
   },
   "outputs": [],
   "source": [
    "# c_time_series = c_time_series[idx_to_keep, :, :]\n",
    "# c_time_series.shape"
   ]
  },
  {
   "cell_type": "code",
   "execution_count": 74,
   "metadata": {},
   "outputs": [
    {
     "data": {
      "text/plain": [
       "tensor(0)"
      ]
     },
     "execution_count": 74,
     "metadata": {},
     "output_type": "execute_result"
    }
   ],
   "source": [
    "# check there are no nan\n",
    "torch.any(c_time_series.isnan(),dim=1).sum()"
   ]
  },
  {
   "cell_type": "code",
   "execution_count": 75,
   "metadata": {},
   "outputs": [
    {
     "data": {
      "text/plain": [
       "tensor(16618280)"
      ]
     },
     "execution_count": 75,
     "metadata": {},
     "output_type": "execute_result"
    }
   ],
   "source": [
    "torch.any(~c_time_series.isnan(),dim=1).sum()"
   ]
  },
  {
   "cell_type": "code",
   "execution_count": 76,
   "metadata": {
    "id": "ahOzntcOlAAT"
   },
   "outputs": [],
   "source": [
    "filename = r'C:\\Users\\rmartinez4\\Box\\Personal Git\\dse-capstone\\seq2seq_example\\data_traffic\\traffic_bayArea_station_allStations_12pts_SPEED.pkl'"
   ]
  },
  {
   "cell_type": "code",
   "execution_count": 77,
   "metadata": {},
   "outputs": [
    {
     "name": "stdout",
     "output_type": "stream",
     "text": [
      "Wall time: 8.5 s\n"
     ]
    }
   ],
   "source": [
    "%%time\n",
    "# save data\n",
    "\n",
    "with open(filename, \"wb\") as fout:\n",
    "    pkl.dump(c_time_series, fout, protocol=pkl.HIGHEST_PROTOCOL)"
   ]
  },
  {
   "cell_type": "markdown",
   "metadata": {},
   "source": [
    "# Read Saved Data"
   ]
  },
  {
   "cell_type": "code",
   "execution_count": 4,
   "metadata": {},
   "outputs": [],
   "source": [
    "# filename = '../data_traffic/traffic_bayArea_station_mediumSize_12pts.pkl'\n",
    "# filename = '../data_traffic/traffic_bayArea_station_400001.pkl'\n",
    "# filename = '../data_traffic/traffic_bayArea_station_allStations_12pts_withNaNs.pkl'\n",
    "filename = '../data_traffic/traffic_bayArea_station_allStations_12pts_SPEED.pkl'\n"
   ]
  },
  {
   "cell_type": "code",
   "execution_count": 5,
   "metadata": {
    "colab": {
     "base_uri": "https://localhost:8080/"
    },
    "id": "i6Cf8NtglAAT",
    "outputId": "a5776fb4-df01-4502-d0b4-921ed6541ecf"
   },
   "outputs": [
    {
     "name": "stdout",
     "output_type": "stream",
     "text": [
      "Wall time: 7.19 s\n"
     ]
    }
   ],
   "source": [
    "%%time\n",
    "\n",
    "# read tensor\n",
    "with open(filename, \"rb\") as fout:\n",
    "    c_time_series = pkl.load(fout)"
   ]
  },
  {
   "cell_type": "code",
   "execution_count": 6,
   "metadata": {
    "id": "GeGqqaF3lAAT"
   },
   "outputs": [
    {
     "data": {
      "text/plain": [
       "torch.Size([16618280, 24, 1])"
      ]
     },
     "execution_count": 6,
     "metadata": {},
     "output_type": "execute_result"
    }
   ],
   "source": [
    "c_time_series.shape"
   ]
  },
  {
   "cell_type": "code",
   "execution_count": 8,
   "metadata": {},
   "outputs": [
    {
     "data": {
      "text/plain": [
       "[<matplotlib.lines.Line2D at 0x25a74609430>]"
      ]
     },
     "execution_count": 8,
     "metadata": {},
     "output_type": "execute_result"
    },
    {
     "data": {
      "image/png": "[encoded data removed]",
      "text/plain": [
       "<Figure size 432x288 with 1 Axes>"
      ]
     },
     "metadata": {
      "needs_background": "light"
     },
     "output_type": "display_data"
    }
   ],
   "source": [
    "plt.plot(c_time_series[16663].reshape(1,24)[0].tolist())"
   ]
  },
  {
   "cell_type": "code",
   "execution_count": 240,
   "metadata": {},
   "outputs": [],
   "source": [
    "# c_time_series[5]"
   ]
  },
  {
   "cell_type": "markdown",
   "metadata": {},
   "source": [
    "## Remove segments with nan values"
   ]
  },
  {
   "cell_type": "code",
   "execution_count": 8,
   "metadata": {},
   "outputs": [
    {
     "data": {
      "text/plain": [
       "tensor(47304)"
      ]
     },
     "execution_count": 8,
     "metadata": {},
     "output_type": "execute_result"
    }
   ],
   "source": [
    "# number to be removed\n",
    "torch.any(c_time_series.isnan(),dim=1).sum()"
   ]
  },
  {
   "cell_type": "code",
   "execution_count": 9,
   "metadata": {},
   "outputs": [
    {
     "data": {
      "text/plain": [
       "tensor(16665584)"
      ]
     },
     "execution_count": 9,
     "metadata": {},
     "output_type": "execute_result"
    }
   ],
   "source": [
    "# number to be kept\n",
    "torch.any(~c_time_series.isnan(),dim=1).sum()"
   ]
  },
  {
   "cell_type": "code",
   "execution_count": 10,
   "metadata": {},
   "outputs": [
    {
     "name": "stdout",
     "output_type": "stream",
     "text": [
      "Wall time: 8.12 s\n"
     ]
    }
   ],
   "source": [
    "%%time\n",
    "\n",
    "mask_idxs = [idx for idx, val in enumerate(np.array(~torch.any(c_time_series.isnan(),dim=1))) if val]\n",
    "c_time_series = c_time_series[mask_idxs, :, :]"
   ]
  },
  {
   "cell_type": "code",
   "execution_count": 11,
   "metadata": {},
   "outputs": [
    {
     "data": {
      "text/plain": [
       "torch.Size([16618280, 24, 1])"
      ]
     },
     "execution_count": 11,
     "metadata": {},
     "output_type": "execute_result"
    }
   ],
   "source": [
    "c_time_series.shape"
   ]
  },
  {
   "cell_type": "code",
   "execution_count": 9,
   "metadata": {},
   "outputs": [
    {
     "data": {
      "text/plain": [
       "tensor(0)"
      ]
     },
     "execution_count": 9,
     "metadata": {},
     "output_type": "execute_result"
    }
   ],
   "source": [
    "# check no more nan segments are present\n",
    "torch.any(c_time_series.isnan(),dim=1).sum()"
   ]
  },
  {
   "cell_type": "code",
   "execution_count": 21,
   "metadata": {},
   "outputs": [],
   "source": [
    "# c_time_series[3]"
   ]
  },
  {
   "cell_type": "markdown",
   "metadata": {
    "id": "kPCU3aA5lAAU"
   },
   "source": [
    "# Generate Train and Test Datasets"
   ]
  },
  {
   "cell_type": "code",
   "execution_count": 10,
   "metadata": {
    "id": "zVxgdjvylAAU"
   },
   "outputs": [],
   "source": [
    "def scale_data(data_x, data_y, out_pos = 0, return_current_avg_std = False):\n",
    "    \"\"\" \n",
    "    Arg:\n",
    "        data_x: features\n",
    "        data_y: labels\n",
    "        out_pos: the position of feature of which average and stand deviation will be returned.\n",
    "    returns:\n",
    "        1. Normalized features and labels\n",
    "        2. Average and standard deviation of the selected feature.\n",
    "    \"\"\"\n",
    "    avg = data_x[:,:,out_pos].mean()\n",
    "    std = data_x[:,:,out_pos].std()\n",
    "#     c_avg = data_x[:,:,1].mean()\n",
    "#     c_std = data_x[:,:,1].std()\n",
    "    for i in range(data_x.shape[-1]):\n",
    "        data_x[:,:,i] = (data_x[:,:,i] - data_x[:,:,i].mean())/data_x[:,:,i].std()\n",
    "    data_y = (data_y-avg)/std\n",
    "    if return_current_avg_std:\n",
    "        return data_x, data_y, (avg, std)  \n",
    "#         return data_x, data_y, (avg, std), (c_avg, c_std)   \n",
    "    else:\n",
    "        return data_x, data_y, (avg, std)\n",
    "\n",
    "class Dataset(data.Dataset):\n",
    "    def __init__(self, X, Y, lst_index, output_steps, position_embedding = (False)):\n",
    "        \"\"\"\n",
    "        Args:\n",
    "            lst_index: indexes of observations in the dataset.\n",
    "            output_steps: Forecasting Horizon.\n",
    "        \"\"\"\n",
    "        self.X = X[lst_index]\n",
    "        self.Y = Y[lst_index]\n",
    "        self.output_steps = output_steps\n",
    "        \n",
    "    def __len__(self):\n",
    "        return self.X.shape[0]\n",
    "\n",
    "    def __getitem__(self, index):\n",
    "        x = self.X[index]\n",
    "        y = self.Y[index][:self.output_steps]\n",
    "        return x, y"
   ]
  },
  {
   "cell_type": "code",
   "execution_count": 11,
   "metadata": {
    "colab": {
     "base_uri": "https://localhost:8080/"
    },
    "id": "w0yv7iQtlAAU",
    "outputId": "f50267a3-3788-46ae-a11b-4ac3628d6e57"
   },
   "outputs": [
    {
     "name": "stdout",
     "output_type": "stream",
     "text": [
      "Wall time: 6.78 s\n"
     ]
    }
   ],
   "source": [
    "%%time\n",
    "\n",
    "sample_size = c_time_series.shape[0]\n",
    "segment_size = c_time_series.shape[1]\n",
    "pred_size = int(segment_size/2)\n",
    "\n",
    "test_size = sample_size // 4\n",
    "train_valid_size = test_size * 3\n",
    "training_size = test_size * 2\n",
    "validation_size = test_size * 1\n",
    "\n",
    "# X_train = c_time_series[:train_valid_size,:pred_size,:]\n",
    "# Y_train = c_time_series[:train_valid_size,pred_size:,:]\n",
    "# sample_size, pred_length, feature_count = X_train.shape\n",
    "\n",
    "X_test = c_time_series[training_size:training_size+test_size,:pred_size,:]\n",
    "Y_test = c_time_series[training_size:training_size+test_size,pred_size:,:]\n",
    "\n",
    "X_all = c_time_series[:train_valid_size+test_size,:pred_size,:]\n",
    "Y_all = c_time_series[:train_valid_size+test_size,pred_size:,:]\n",
    "\n",
    "X, Y, (avg, std) = scale_data(X_all, Y_all, out_pos = 0, return_current_avg_std = True)"
   ]
  },
  {
   "cell_type": "code",
   "execution_count": 12,
   "metadata": {
    "colab": {
     "base_uri": "https://localhost:8080/"
    },
    "id": "IjmIKWaclAAV",
    "outputId": "03bdf0e0-cd0f-4c07-a51d-e985b82e9315"
   },
   "outputs": [
    {
     "name": "stdout",
     "output_type": "stream",
     "text": [
      "torch.Size([16618280, 12, 1]) torch.Size([16618280, 12, 1])\n",
      "4154570 12463710 8309140 4154570\n"
     ]
    }
   ],
   "source": [
    "# print(X_train.shape, Y_train.shape)\n",
    "# print(X_test.shape, Y_test.shape)\n",
    "print(X_all.shape, Y_all.shape)\n",
    "\n",
    "# print(sample_size, pred_length, feature_count)\n",
    "\n",
    "print(test_size, train_valid_size, training_size, validation_size)"
   ]
  },
  {
   "cell_type": "code",
   "execution_count": null,
   "metadata": {},
   "outputs": [],
   "source": [
    "Y[3]"
   ]
  },
  {
   "cell_type": "markdown",
   "metadata": {},
   "source": [
    "# Train Neural Network"
   ]
  },
  {
   "cell_type": "code",
   "execution_count": 13,
   "metadata": {
    "id": "QJRsLnOMlAAV"
   },
   "outputs": [],
   "source": [
    "class Encoder(nn.Module):\n",
    "    def __init__(self, input_dim, hidden_dim, num_layers, dropout_rate):\n",
    "        \"\"\"\n",
    "        Args:\n",
    "            input_dim: the dimension of input sequences.\n",
    "            hidden_dim: number hidden units.\n",
    "            num_layers: number of encode layers.\n",
    "            dropout_rate: recurrent dropout rate.\n",
    "        \"\"\"\n",
    "        super(Encoder, self).__init__()\n",
    "        self.num_layers = num_layers\n",
    "        self.hidden_dim = hidden_dim\n",
    "        self.lstm = nn.LSTM(input_dim, hidden_dim, num_layers=num_layers, \n",
    "                            bidirectional = True, dropout = dropout_rate, batch_first = True)\n",
    "        \n",
    "    def forward(self, source):\n",
    "        \"\"\"\n",
    "        Args:\n",
    "            source: input tensor(batch_size*input dimension)\n",
    "        Return:\n",
    "            outputs: Prediction\n",
    "            concat_hidden: hidden states\n",
    "        \"\"\"\n",
    "        outputs, hidden = self.lstm(source)\n",
    "        return outputs, hidden\n",
    "    \n",
    "class Decoder(nn.Module):\n",
    "    def __init__(self, output_dim, hidden_dim, num_layers, dropout_rate):\n",
    "        \"\"\"\n",
    "        Args:\n",
    "            output_dim: the dimension of output sequences.\n",
    "            hidden_dim: number hidden units.\n",
    "            num_layers: number of code layers.\n",
    "            dropout_rate: recurrent dropout rate.\n",
    "        \"\"\"\n",
    "        super(Decoder, self).__init__()\n",
    "        \n",
    "        # Since the encoder is bidirectional, decoder has double hidden size\n",
    "        self.lstm = nn.LSTM(output_dim, hidden_dim*2, num_layers = num_layers, \n",
    "                            dropout = dropout_rate, batch_first = True)\n",
    "        \n",
    "        self.out = nn.Linear(hidden_dim*2, output_dim)\n",
    "      \n",
    "    def forward(self, x, hidden):\n",
    "        \"\"\"\n",
    "        Args:\n",
    "            x: prediction from previous prediction.\n",
    "            hidden: hidden states from previous cell.\n",
    "        Returns:\n",
    "            1. prediction for current step.\n",
    "            2. hidden state pass to next cell.\n",
    "        \"\"\"\n",
    "        output, hidden = self.lstm(x, hidden)   \n",
    "        prediction = self.out(output.float())\n",
    "        return prediction, hidden     \n",
    "    \n",
    "class Seq2Seq(nn.Module):\n",
    "    def __init__(self, encoder, decoder, device):\n",
    "        \"\"\"\n",
    "        Args:\n",
    "            encoder: Encoder object.\n",
    "            decoder: Decoder object.\n",
    "            device: \n",
    "        \"\"\"\n",
    "        super(Seq2Seq, self).__init__()\n",
    "        self.encoder = encoder\n",
    "        self.decoder = decoder\n",
    "        self.device = device\n",
    "\n",
    "    def forward(self, source, target_tensor):\n",
    "        \"\"\"\n",
    "        Args:\n",
    "            source: input tensor.\n",
    "            target_length: forecasting steps.\n",
    "        Returns:\n",
    "            total prediction\n",
    "        \"\"\"\n",
    "        batch_size = source.size(0) \n",
    "        input_length = source.size(1) \n",
    "        target_length = target_tensor.shape[1]\n",
    "        output_dim = target_tensor.shape[-1]\n",
    "        encoder_hidden = (torch.zeros(self.encoder.num_layers*2, batch_size, self.encoder.hidden_dim, device=device),\n",
    "                          torch.zeros(self.encoder.num_layers*2, batch_size, self.encoder.hidden_dim, device=device))\n",
    "        encoder_output, encoder_hidden = self.encoder(source)\n",
    "        \n",
    "        # Concatenate the hidden states of both directions.\n",
    "        num_layers = int(encoder_hidden[0].shape[0]/2)\n",
    "        h = torch.cat([encoder_hidden[0][0:self.encoder.num_layers,:,:], \n",
    "                       encoder_hidden[0][-self.encoder.num_layers:,:,:]], \n",
    "                      dim=2, out=None).to(device)\n",
    "        c = torch.cat([encoder_hidden[1][0:self.encoder.num_layers,:,:], \n",
    "                       encoder_hidden[1][-self.encoder.num_layers:,:,:]], \n",
    "                      dim=2, out=None).to(device)\n",
    "        concat_hidden = (h, c)\n",
    "        \n",
    "        \n",
    "        outputs = torch.zeros(batch_size, target_length, output_dim).to(self.device)\n",
    "        decoder_output = torch.zeros((batch_size, 1, output_dim), device = self.device)\n",
    "        decoder_hidden = concat_hidden\n",
    "        \n",
    "        for t in range(target_length):  \n",
    "            decoder_output, decoder_hidden = self.decoder(decoder_output, decoder_hidden)\n",
    "            outputs[:,t:t+1,:] = decoder_output\n",
    "        return outputs"
   ]
  },
  {
   "cell_type": "code",
   "execution_count": 14,
   "metadata": {
    "id": "PGK3TwahlAAW"
   },
   "outputs": [],
   "source": [
    "def run_epoch_train(model, data_generator, model_optimizer, criterion):\n",
    "    \"\"\"\n",
    "    Args:\n",
    "        model: RNN model.\n",
    "        data_generator: data.DataLoader object.\n",
    "        model_optimizer: optimizer.\n",
    "        criterion: loss function\n",
    "    Returns:\n",
    "        Root Mean Square Error on Training Dataset\n",
    "    \"\"\"\n",
    "    MSE = []\n",
    "    for x, y in data_generator:\n",
    "        # The input shape for nn.conv1d should sequence_length * batch_size * #features\n",
    "        input_tensor, target_tensor = x.to(device).float(), y.to(device).float()\n",
    "        model_optimizer.zero_grad()\n",
    "        loss = 0\n",
    "        output = model(input_tensor, target_tensor).reshape(target_tensor.shape)\n",
    "        num_iter = output.size(0)\n",
    "        for ot in range(num_iter):\n",
    "            loss += criterion(output[ot], target_tensor[ot])\n",
    "        MSE.append(loss.item()/num_iter)\n",
    "        loss.backward()\n",
    "        model_optimizer.step()\n",
    "    \n",
    "    return round(np.sqrt(np.mean(MSE)), 5)\n",
    " \n",
    "\n",
    "def run_epoch_eval(model, data_generator, criterion, return_pred = False):\n",
    "    \"\"\"\n",
    "    Args:\n",
    "        model: CNN model.\n",
    "        data_generator: data.DataLoader object.\n",
    "        criterion: loss function\n",
    "    Returns:\n",
    "        Root Mean Square Error on evaluation datasets.\n",
    "    \"\"\"\n",
    "    with torch.no_grad():\n",
    "        MSE = []\n",
    "        preds = []\n",
    "        for x, y in data_generator:\n",
    "            input_tensor, target_tensor = x.to(device).float(), y.to(device).float()\n",
    "            loss = 0\n",
    "            output = model(input_tensor, target_tensor).reshape(target_tensor.shape)\n",
    "            \n",
    "            preds.append(output.cpu().detach().numpy())\n",
    "            num_iter = output.size(0)\n",
    "            \n",
    "            for ot in range(num_iter):\n",
    "                loss += criterion(output[ot], target_tensor[ot])\n",
    "            MSE.append(loss.item()/num_iter)\n",
    "            \n",
    "    if return_pred == True:\n",
    "        preds =  np.concatenate(preds).squeeze(-1)\n",
    "        return round(np.sqrt(np.mean(MSE)), 5), preds\n",
    "    else:\n",
    "        return round(np.sqrt(np.mean(MSE)), 5)\n",
    "\n",
    "\n",
    "def train_model(model, X, Y, learning_rate, output_steps, batch_size, train_idx, valid_idx, test_idx, test=False, return_pred=False):\n",
    "    # Initialize the model and define optimizer, learning rate decay and criterion\n",
    "    optimizer = torch.optim.RMSprop(model.parameters(), lr = learning_rate)\n",
    "    scheduler = torch.optim.lr_scheduler.StepLR(optimizer, step_size= 5, gamma=0.8)\n",
    "    criterion = nn.MSELoss()\n",
    "    \n",
    "    # Split dataset into training set, validation set and test set.\n",
    "    train_rmse, train_set = [], Dataset(X, Y, train_idx, output_steps)\n",
    "    valid_rmse, valid_set = [], Dataset(X, Y, valid_idx, output_steps)\n",
    "    if test:\n",
    "        test_rmse, test_set = [], Dataset(X, Y, test_idx, output_steps)\n",
    "    \n",
    "    min_loss = 1000\n",
    "    best_model = 0\n",
    "    best_preds = 0\n",
    "    min_valid_loss = 1000\n",
    "    \n",
    "    for i in tqdm(range(200)):\n",
    "        start = time.time()\n",
    "        scheduler.step()\n",
    "        train_generator = data.DataLoader(train_set, batch_size = batch_size, shuffle = True)\n",
    "        valid_generator = data.DataLoader(valid_set, batch_size = batch_size, shuffle = False)\n",
    "        if test:\n",
    "            test_generator = data.DataLoader(test_set, batch_size = batch_size, shuffle = False)\n",
    " \n",
    "        model.train()\n",
    "        train_rmse.append(run_epoch_train(model, train_generator, optimizer, criterion))\n",
    "            \n",
    "        model.eval()\n",
    "        rmse, predictions = run_epoch_eval(model,  valid_generator, criterion, return_pred = True)\n",
    "        valid_rmse.append(rmse)\n",
    "        \n",
    "        if test:\n",
    "            if return_pred:\n",
    "                t_rmse, test_predictions = run_epoch_eval(model, test_generator, criterion, return_pred = True)\n",
    "            else:\n",
    "                t_rmse = run_epoch_eval(model, test_generator, criterion, return_pred = False)\n",
    "            test_rmse.append(t_rmse)\n",
    "        \n",
    "        if valid_rmse[-1] < min_loss:\n",
    "            min_loss = valid_rmse[-1]\n",
    "            best_model = model\n",
    "            min_valid_loss = valid_rmse[-1]\n",
    "            best_preds = predictions\n",
    "            min_valid_loss = valid_rmse[-1]\n",
    "            \n",
    "        if (len(train_rmse) > 15 and np.mean(valid_rmse[-5:]) >= np.mean(valid_rmse[-10:-5])):\n",
    "            break\n",
    "            \n",
    "    end = time.time()       \n",
    "    print((\"Epoch %d:\"%(i+1)), (\"Loss: %f; \"%train_rmse[-1]),(\"valid_loss: %f; \"%valid_rmse[-1]), \n",
    "          (\"Time: %f; \"%round(end - start,5)))\n",
    "\n",
    "    if test:\n",
    "        if return_pred:\n",
    "            return best_model, (train_rmse,valid_rmse),  best_preds, min_valid_loss, test_rmse, test_predictions\n",
    "        return best_model, (train_rmse,valid_rmse),  best_preds, min_valid_loss, test_rmse\n",
    "    return best_model, (train_rmse,valid_rmse),  best_preds, min_valid_loss"
   ]
  },
  {
   "cell_type": "code",
   "execution_count": 39,
   "metadata": {},
   "outputs": [],
   "source": [
    "learning_rate = 0.0001\n",
    "dropout_rate = 0.8\n",
    "num_layers = 1\n",
    "hidden_dim = 64\n",
    "\n",
    "input_size = 1\n",
    "output_size = 1"
   ]
  },
  {
   "cell_type": "code",
   "execution_count": 40,
   "metadata": {},
   "outputs": [
    {
     "name": "stdout",
     "output_type": "stream",
     "text": [
      "Wall time: 750 ms\n"
     ]
    }
   ],
   "source": [
    "%%time\n",
    "\n",
    "input_steps = segment_size\n",
    "output_steps = segment_size\n",
    "# input_size = 2\n",
    "\n",
    "train_idx = list(range(training_size))\n",
    "valid_idx = list(range(training_size, train_valid_size))\n",
    "test_idx = list(range(train_valid_size, train_valid_size + test_size))"
   ]
  },
  {
   "cell_type": "code",
   "execution_count": null,
   "metadata": {},
   "outputs": [],
   "source": [
    "%%time\n",
    "\n",
    "encoder = Encoder(input_size, hidden_dim, num_layers, dropout_rate)\n",
    "decoder = Decoder(output_size, hidden_dim, num_layers, dropout_rate)\n",
    "model = Seq2Seq(encoder, decoder, device).to(device)"
   ]
  },
  {
   "cell_type": "code",
   "execution_count": 41,
   "metadata": {},
   "outputs": [
    {
     "data": {
      "text/plain": [
       "Seq2Seq(\n",
       "  (encoder): Encoder(\n",
       "    (lstm): LSTM(1, 128, batch_first=True, dropout=0.6, bidirectional=True)\n",
       "  )\n",
       "  (decoder): Decoder(\n",
       "    (lstm): LSTM(1, 256, batch_first=True, dropout=0.6)\n",
       "    (out): Linear(in_features=256, out_features=1, bias=True)\n",
       "  )\n",
       ")"
      ]
     },
     "execution_count": 41,
     "metadata": {},
     "output_type": "execute_result"
    }
   ],
   "source": [
    "model"
   ]
  },
  {
   "cell_type": "code",
   "execution_count": 42,
   "metadata": {},
   "outputs": [
    {
     "data": {
      "text/plain": [
       "399617"
      ]
     },
     "execution_count": 42,
     "metadata": {},
     "output_type": "execute_result"
    }
   ],
   "source": [
    "# print number of parameters for the model\n",
    "sum(p.numel() for p in model.parameters() if p.requires_grad)"
   ]
  },
  {
   "cell_type": "code",
   "execution_count": 43,
   "metadata": {
    "colab": {
     "base_uri": "https://localhost:8080/",
     "height": 82,
     "referenced_widgets": [
      "86efb748af4d4320a54c3b4552ddc84b",
      "c4ac762c9c004b1a9badeaace27a9cdb",
      "930405bbf7e64e0684d32ddeccf447a9",
      "7a52151811ab4fbf87fbea68f86f0941",
      "16a587a7fe9248b29b89a251b236b654",
      "45f3528733694da4869777af9b9f34a5",
      "bf0d443df21f4b46be7e118fbec29859",
      "1564dc9c52bc4eeca0a819011e3465f0"
     ]
    },
    "id": "3FVLr33NlAAY",
    "outputId": "3b2aad88-faf7-428c-bf24-8e54ca5b0887"
   },
   "outputs": [],
   "source": [
    "# %%time\n",
    "\n",
    "# model, loss, preds, min_valid_loss, test_rmse = train_model(\n",
    "#     model, X, Y, learning_rate, output_steps = output_steps, batch_size = 64,\n",
    "#     train_idx = train_idx, valid_idx = valid_idx, test_idx = test_idx, test=True)\n",
    "\n",
    "# print({\n",
    "#     'learning_rate': learning_rate,\n",
    "#     'dropout_rate': dropout_rate,\n",
    "#     'num_layers':num_layers,\n",
    "#     'hidden_dim': hidden_dim,\n",
    "# #     'model_state_dict': model.state_dict(),\n",
    "# #     'loss': loss,\n",
    "#     'min_valid_loss': min_valid_loss,\n",
    "# #     'preds':preds,\n",
    "# })"
   ]
  },
  {
   "cell_type": "code",
   "execution_count": 44,
   "metadata": {
    "colab": {
     "base_uri": "https://localhost:8080/"
    },
    "id": "ml73nc914po7",
    "outputId": "aa72874e-c060-4057-da46-0c85d6406659"
   },
   "outputs": [
    {
     "data": {
      "text/plain": [
       "Seq2Seq(\n",
       "  (encoder): Encoder(\n",
       "    (lstm): LSTM(1, 128, batch_first=True, dropout=0.6, bidirectional=True)\n",
       "  )\n",
       "  (decoder): Decoder(\n",
       "    (lstm): LSTM(1, 256, batch_first=True, dropout=0.6)\n",
       "    (out): Linear(in_features=256, out_features=1, bias=True)\n",
       "  )\n",
       ")"
      ]
     },
     "execution_count": 44,
     "metadata": {},
     "output_type": "execute_result"
    }
   ],
   "source": [
    "model"
   ]
  },
  {
   "cell_type": "code",
   "execution_count": null,
   "metadata": {},
   "outputs": [],
   "source": [
    "torch.save(model, filename.split('.')[0]+'_model.pth')"
   ]
  },
  {
   "cell_type": "markdown",
   "metadata": {},
   "source": [
    "# Read Saved Model"
   ]
  },
  {
   "cell_type": "code",
   "execution_count": 16,
   "metadata": {},
   "outputs": [
    {
     "name": "stdout",
     "output_type": "stream",
     "text": [
      "results_dict_0.0001_0.2_64.pkl 0.47107\n",
      "results_dict_0.0001_0.4_320.pkl 0.47269\n",
      "results_dict_0.0001_0.4_384.pkl 0.47529\n",
      "results_dict_0.0001_0.8_64.pkl 0.4709\n",
      "results_dict_0.001_0.4_128.pkl 0.47801\n",
      "results_dict_0.001_0.4_192.pkl 0.48069\n",
      "results_dict_0.001_0.4_256.pkl 0.47692\n",
      "results_dict_0.001_0.6_384.pkl 0.48279\n",
      "results_dict_0.001_0.8_448.pkl 0.48396\n",
      "results_dict_0.01_0.4_192.pkl 0.47322\n",
      "results_dict_0.01_0.4_256.pkl 0.47497\n",
      "results_dict_0.01_0.4_320.pkl 0.47393\n",
      "results_dict_0.01_0.6_256.pkl 0.47578\n",
      "results_dict_0.01_0.8_384.pkl 0.47678\n",
      "results_dict_0.1_0.2_64.pkl 86.71295\n",
      "results_dict_0.1_0.4_192.pkl 184.73519\n",
      "results_dict_0.1_0.6_256.pkl 164.24811\n",
      "results_dict_0.1_0.8_128.pkl 168.7669\n"
     ]
    }
   ],
   "source": [
    "# find model with lowest test RMSE\n",
    "hyper_param_fp = r'C:\\Users\\rmartinez4\\Box\\Personal Git\\Nautilus-seq2seq\\hyper_param_tunning'\n",
    "for fn in [i for i in os.listdir(hyper_param_fp) if 'results_dict' in i]:\n",
    "    rd = pkl.load(open(join(hyper_param_fp, fn), \"rb\"))\n",
    "    print(fn, rd['test_rmse'][-1])\n",
    "    "
   ]
  },
  {
   "cell_type": "code",
   "execution_count": 45,
   "metadata": {},
   "outputs": [],
   "source": [
    "# model_path = r'C:\\Users\\rmartinez4\\Box\\Personal Git\\Nautilus-seq2seq\\dataaccess_station_400001\\traffic_bayArea_station_400001_model.pth'\n",
    "# model_path = r'C:\\Users\\rmartinez4\\Box\\Personal Git\\Nautilus-seq2seq\\scratch\\model_outputs\\dataaccess_mediumSize_50station\\traffic_bayArea_station_mediumSize_12pts_model.pth'\n",
    "# model_path = r'C:\\Users\\rmartinez4\\Box\\Personal Git\\Nautilus-seq2seq\\multiple_batch_size\\model_outputs\\128\\station_400001\\trained_model.pth'\n",
    "\n",
    "model_path = r'C:\\Users\\rmartinez4\\Box\\Personal Git\\Nautilus-seq2seq\\hyper_param_tunning\\trained_model_0.0001_0.8_64.pth'\n",
    "\n",
    "encoder = Encoder(input_size, hidden_dim, num_layers, dropout_rate)\n",
    "decoder = Decoder(output_size, hidden_dim, num_layers, dropout_rate)\n",
    "\n",
    "model = Seq2Seq(encoder, decoder, device).to(device)"
   ]
  },
  {
   "cell_type": "code",
   "execution_count": 46,
   "metadata": {},
   "outputs": [],
   "source": [
    "# %%time\n",
    "\n",
    "# # load state dict\n",
    "# model_dict = torch.load(model_path, map_location=torch.device('cpu'))\n",
    "# model.load_state_dict(model_dict)\n"
   ]
  },
  {
   "cell_type": "code",
   "execution_count": 47,
   "metadata": {},
   "outputs": [
    {
     "name": "stdout",
     "output_type": "stream",
     "text": [
      "Wall time: 8.04 ms\n"
     ]
    },
    {
     "data": {
      "text/plain": [
       "<All keys matched successfully>"
      ]
     },
     "execution_count": 47,
     "metadata": {},
     "output_type": "execute_result"
    }
   ],
   "source": [
    "%%time\n",
    "\n",
    "# load model object\n",
    "model_obj = torch.load(model_path, map_location=torch.device('cpu'))\n",
    "model.load_state_dict(model_obj.state_dict())\n"
   ]
  },
  {
   "cell_type": "code",
   "execution_count": 48,
   "metadata": {},
   "outputs": [
    {
     "data": {
      "text/plain": [
       "odict_keys(['encoder.lstm.weight_ih_l0', 'encoder.lstm.weight_hh_l0', 'encoder.lstm.bias_ih_l0', 'encoder.lstm.bias_hh_l0', 'encoder.lstm.weight_ih_l0_reverse', 'encoder.lstm.weight_hh_l0_reverse', 'encoder.lstm.bias_ih_l0_reverse', 'encoder.lstm.bias_hh_l0_reverse', 'decoder.lstm.weight_ih_l0', 'decoder.lstm.weight_hh_l0', 'decoder.lstm.bias_ih_l0', 'decoder.lstm.bias_hh_l0', 'decoder.out.weight', 'decoder.out.bias'])"
      ]
     },
     "execution_count": 48,
     "metadata": {},
     "output_type": "execute_result"
    }
   ],
   "source": [
    "model_obj.state_dict().keys()"
   ]
  },
  {
   "cell_type": "code",
   "execution_count": 49,
   "metadata": {},
   "outputs": [
    {
     "data": {
      "text/plain": [
       "'1.8.1+cpu'"
      ]
     },
     "execution_count": 49,
     "metadata": {},
     "output_type": "execute_result"
    }
   ],
   "source": [
    "torch.__version__"
   ]
  },
  {
   "cell_type": "code",
   "execution_count": 50,
   "metadata": {},
   "outputs": [
    {
     "data": {
      "text/plain": [
       "Seq2Seq(\n",
       "  (encoder): Encoder(\n",
       "    (lstm): LSTM(1, 64, batch_first=True, dropout=0.8, bidirectional=True)\n",
       "  )\n",
       "  (decoder): Decoder(\n",
       "    (lstm): LSTM(1, 128, batch_first=True, dropout=0.8)\n",
       "    (out): Linear(in_features=128, out_features=1, bias=True)\n",
       "  )\n",
       ")"
      ]
     },
     "execution_count": 50,
     "metadata": {},
     "output_type": "execute_result"
    }
   ],
   "source": [
    " model"
   ]
  },
  {
   "cell_type": "code",
   "execution_count": 51,
   "metadata": {},
   "outputs": [
    {
     "data": {
      "text/plain": [
       "device(type='cpu')"
      ]
     },
     "execution_count": 51,
     "metadata": {},
     "output_type": "execute_result"
    }
   ],
   "source": [
    "device"
   ]
  },
  {
   "cell_type": "markdown",
   "metadata": {},
   "source": [
    "# Predict on Test Data"
   ]
  },
  {
   "cell_type": "code",
   "execution_count": 52,
   "metadata": {},
   "outputs": [
    {
     "name": "stdout",
     "output_type": "stream",
     "text": [
      "Wall time: 21min 35s\n"
     ]
    }
   ],
   "source": [
    "%%time\n",
    "\n",
    "# make sure to update batch size\n",
    "\n",
    "test_rmse, test_set = [], Dataset(X, Y, test_idx, output_steps)\n",
    "test_generator = data.DataLoader(test_set, batch_size = 512, shuffle = False)\n",
    "\n",
    "criterion = nn.MSELoss()\n",
    "model.eval()\n",
    "t_rmse, preds = run_epoch_eval(model, test_generator, criterion, return_pred = True)"
   ]
  },
  {
   "cell_type": "code",
   "execution_count": 53,
   "metadata": {},
   "outputs": [
    {
     "data": {
      "text/plain": [
       "0.4596"
      ]
     },
     "execution_count": 53,
     "metadata": {},
     "output_type": "execute_result"
    }
   ],
   "source": [
    "t_rmse"
   ]
  },
  {
   "cell_type": "code",
   "execution_count": 54,
   "metadata": {},
   "outputs": [
    {
     "data": {
      "text/plain": [
       "array([0.1647356 , 0.14187135, 0.13341533, 0.1300721 , 0.12927939,\n",
       "       0.12961663, 0.13026969, 0.13066249, 0.13042916, 0.12938218,\n",
       "       0.12746613, 0.12471204], dtype=float32)"
      ]
     },
     "execution_count": 54,
     "metadata": {},
     "output_type": "execute_result"
    }
   ],
   "source": [
    "preds[13]"
   ]
  },
  {
   "cell_type": "markdown",
   "metadata": {},
   "source": [
    "# Visualize Predictions"
   ]
  },
  {
   "cell_type": "code",
   "execution_count": 166,
   "metadata": {},
   "outputs": [],
   "source": [
    "# need X_test, Y_test, preds"
   ]
  },
  {
   "cell_type": "code",
   "execution_count": 55,
   "metadata": {},
   "outputs": [
    {
     "data": {
      "text/plain": [
       "tensor(7.2992, dtype=torch.float64)"
      ]
     },
     "execution_count": 55,
     "metadata": {},
     "output_type": "execute_result"
    }
   ],
   "source": [
    "std"
   ]
  },
  {
   "cell_type": "code",
   "execution_count": 56,
   "metadata": {},
   "outputs": [],
   "source": [
    "import os\n",
    "os.environ['KMP_DUPLICATE_LIB_OK']='True'"
   ]
  },
  {
   "cell_type": "code",
   "execution_count": 57,
   "metadata": {
    "id": "mDV8yAmYlAAY"
   },
   "outputs": [],
   "source": [
    "def unscale_data(scaled_data, avg, std):\n",
    "    data = scaled_data * std + avg\n",
    "    return data"
   ]
  },
  {
   "cell_type": "code",
   "execution_count": 73,
   "metadata": {
    "colab": {
     "base_uri": "https://localhost:8080/",
     "height": 415
    },
    "id": "jTN4RSYq42AW",
    "outputId": "b6fac0fe-4cb1-4d1c-d7ad-fbfd56a91eef"
   },
   "outputs": [
    {
     "data": {
      "image/png": "[encoded data removed]",
      "text/plain": [
       "<Figure size 1440x504 with 1 Axes>"
      ]
     },
     "metadata": {
      "needs_background": "light"
     },
     "output_type": "display_data"
    }
   ],
   "source": [
    "# first example for 3 hours\n",
    "plt.figure(figsize=(20,7))\n",
    "index_to_plot = 30144\n",
    "plt.plot(np.concatenate(([np.nan]*pred_size, unscale_data(preds[index_to_plot], float(avg), float(std)))))\n",
    "plt.plot(torch.cat([unscale_data(X_test[:,:,0][index_to_plot],float(avg), float(std)), Y_test[:,:,0][index_to_plot]]))\n",
    "plt.legend(['Predictions', 'Actual'], loc='upper left', bbox_to_anchor=(1.0, 1.0))\n",
    "plt.xlabel(\"Segment Index\")\n",
    "plt.ylabel(\"Average Speed\")\n",
    "plt.rcParams.update({'font.size': 20})\n"
   ]
  },
  {
   "cell_type": "code",
   "execution_count": 87,
   "metadata": {
    "colab": {
     "base_uri": "https://localhost:8080/",
     "height": 415
    },
    "id": "Ki-j-ALWlAAZ",
    "outputId": "475753fc-2f52-487c-93e8-95514cd3dd9e"
   },
   "outputs": [
    {
     "data": {
      "image/png": "[encoded data removed]",
      "text/plain": [
       "<Figure size 1440x504 with 1 Axes>"
      ]
     },
     "metadata": {
      "needs_background": "light"
     },
     "output_type": "display_data"
    }
   ],
   "source": [
    "# second example for 3 hours\n",
    "plt.figure(figsize=(20,7))\n",
    "index_to_plot = 1124830\n",
    "plt.plot(np.concatenate(([np.nan]*pred_size, unscale_data(preds[index_to_plot], float(avg), float(std)))))\n",
    "plt.plot(torch.cat([unscale_data(X_test[:,:,0][index_to_plot],float(avg), float(std)), Y_test[:,:,0][index_to_plot]]))\n",
    "plt.legend(['Predictions', 'Actual'], loc='upper left', bbox_to_anchor=(1.0, 1.0))\n",
    "plt.xlabel(\"Segment Index\")\n",
    "plt.ylabel(\"Average Speed\")\n",
    "plt.rcParams.update({'font.size': 20})"
   ]
  },
  {
   "cell_type": "code",
   "execution_count": 61,
   "metadata": {
    "colab": {
     "base_uri": "https://localhost:8080/",
     "height": 415
    },
    "id": "DJeAXYpi4iZl",
    "outputId": "269ab6ec-a097-473e-f934-dba15a52e840"
   },
   "outputs": [
    {
     "data": {
      "image/png": "[encoded data removed]",
      "text/plain": [
       "<Figure size 1440x504 with 1 Axes>"
      ]
     },
     "metadata": {
      "needs_background": "light"
     },
     "output_type": "display_data"
    }
   ],
   "source": [
    "# third example for 3 hours\n",
    "plt.figure(figsize=(20,7))\n",
    "index_to_plot = 112457\n",
    "plt.plot(np.concatenate(([np.nan]*pred_size, unscale_data(preds[index_to_plot], float(avg), float(std)))))\n",
    "plt.plot(torch.cat([unscale_data(X_test[:,:,0][index_to_plot],float(avg), float(std)), Y_test[:,:,0][index_to_plot]]))\n",
    "plt.legend(['Predictions', 'Actual'], loc='upper left', bbox_to_anchor=(1.0, 1.0))\n",
    "plt.xlabel(\"Segment Index\")\n",
    "plt.ylabel(\"Average Speed\")\n",
    "plt.rcParams.update({'font.size': 20})"
   ]
  },
  {
   "cell_type": "code",
   "execution_count": 19,
   "metadata": {},
   "outputs": [],
   "source": [
    "def unscale_data_lossFunc(scaled_data, avg, std):\n",
    "#     data = scaled_data * std + avg\n",
    "    data = scaled_data * std    \n",
    "    return data"
   ]
  },
  {
   "cell_type": "code",
   "execution_count": 36,
   "metadata": {},
   "outputs": [
    {
     "name": "stdout",
     "output_type": "stream",
     "text": [
      "defaultdict(<class 'list'>, {'train_rmse': [0.49479, 0.48043, 0.47583, 0.47358, 0.47189, 0.47116, 0.4706, 0.47011, 0.46967, 0.46903, 0.46877, 0.46853, 0.46828, 0.46806, 0.46765, 0.46749, 0.46734, 0.46716, 0.46701, 0.46673, 0.46663, 0.46651, 0.46641, 0.46627], 'val_rmse': [0.41153, 0.40889, 0.40682, 0.40729, 0.40559, 0.40535, 0.40526, 0.40444, 0.4046, 0.40491, 0.40447, 0.40397, 0.40462, 0.40549, 0.40385, 0.40382, 0.40396, 0.40362, 0.40348, 0.40381, 0.40415, 0.40429, 0.40395, 0.40357], 'test_rmse': [0.48217, 0.47623, 0.47412, 0.47379, 0.47263, 0.47122, 0.47194, 0.47112, 0.47163, 0.47181, 0.47142, 0.4713, 0.47169, 0.47199, 0.47114, 0.47086, 0.47187, 0.47081, 0.47125, 0.47112, 0.47088, 0.47127, 0.47097, 0.47107]})\n"
     ]
    }
   ],
   "source": [
    "# results_fp = r'C:\\Users\\rmartinez4\\Box\\Personal Git\\Nautilus-seq2seq\\dataaccess_station_400001\\traffic_bayArea_station_400001_results_dict.pkl'\n",
    "# results_fp = r'C:\\Users\\rmartinez4\\Box\\Personal Git\\Nautilus-seq2seq\\dataaccess_mediumSize_50station\\traffic_bayArea_station_mediumSize_12pts_results_dict.pkl'\n",
    "# results_fp = r'C:\\Users\\rmartinez4\\Box\\Personal Git\\Nautilus-seq2seq\\multiple_batch_size\\model_outputs\\128\\station_400001\\results_dict.pkl'\n",
    "\n",
    "results_fp = r'C:\\Users\\rmartinez4\\Box\\Personal Git\\Nautilus-seq2seq\\hyper_param_tunning\\results_dict_0.0001_0.8_64.pkl'\n",
    "\n",
    "rd = pkl.load(open(results_fp, \"rb\"))\n",
    "\n",
    "print(rd)"
   ]
  },
  {
   "cell_type": "code",
   "execution_count": 37,
   "metadata": {
    "colab": {
     "base_uri": "https://localhost:8080/",
     "height": 430
    },
    "id": "3HND2MKhlAAZ",
    "outputId": "9388ad4c-5ae2-47f2-dbf8-737ab552865a"
   },
   "outputs": [
    {
     "name": "stdout",
     "output_type": "stream",
     "text": [
      "Test RMSE: 3.438425990371157 (scaled), 0.47107 (unscaled)\n"
     ]
    },
    {
     "data": {
      "image/png": "[encoded data removed]",
      "text/plain": [
       "<Figure size 1440x504 with 1 Axes>"
      ]
     },
     "metadata": {
      "needs_background": "light"
     },
     "output_type": "display_data"
    }
   ],
   "source": [
    "train_rmse = unscale_data_lossFunc(np.array(rd['train_rmse']),float(avg), float(std))\n",
    "valid_rmse = unscale_data_lossFunc(np.array(rd['val_rmse']),float(avg), float(std))\n",
    "test_rmse = unscale_data_lossFunc(np.array(rd['test_rmse']),float(avg), float(std))\n",
    "\n",
    "plt.figure(figsize=(20,7))\n",
    "plt.plot(train_rmse)\n",
    "plt.plot(valid_rmse)\n",
    "plt.plot(test_rmse)\n",
    "\n",
    "plt.legend(['train rmse', 'valid rmse', 'test rmse'], loc='upper left', bbox_to_anchor=(1.0, 1.0))\n",
    "plt.xlabel(\"Epoch Number\")\n",
    "plt.ylabel(\"RMSE\")\n",
    "plt.rcParams.update({'font.size': 20})\n",
    "\n",
    "print('Test RMSE: {} (scaled), {} (unscaled)'.format(test_rmse[-1], rd['test_rmse'][-1]) )"
   ]
  },
  {
   "cell_type": "code",
   "execution_count": null,
   "metadata": {
    "id": "Ox9j15HHlAAZ"
   },
   "outputs": [],
   "source": []
  },
  {
   "cell_type": "code",
   "execution_count": null,
   "metadata": {},
   "outputs": [],
   "source": []
  },
  {
   "cell_type": "code",
   "execution_count": null,
   "metadata": {},
   "outputs": [],
   "source": []
  },
  {
   "cell_type": "markdown",
   "metadata": {},
   "source": [
    "# Multi-GPU testing"
   ]
  },
  {
   "cell_type": "code",
   "execution_count": 7,
   "metadata": {
    "id": "vIAfV3CElAAa"
   },
   "outputs": [
    {
     "name": "stdout",
     "output_type": "stream",
     "text": [
      "cpu\n",
      "Code started 2021-04-20 13:50:33.063228\n",
      " sample_size 327725 \n",
      " train_valid_size 262180 \n",
      " training_size 229407 \n",
      " validation_size 32772 \n",
      " test_size 65545\n"
     ]
    },
    {
     "ename": "RuntimeError",
     "evalue": "No rendezvous handler for env://",
     "output_type": "error",
     "traceback": [
      "\u001b[1;31m---------------------------------------------------------------------------\u001b[0m",
      "\u001b[1;31mRuntimeError\u001b[0m                              Traceback (most recent call last)",
      "\u001b[1;32m<ipython-input-7-08cf99325961>\u001b[0m in \u001b[0;36m<module>\u001b[1;34m\u001b[0m\n\u001b[0;32m    359\u001b[0m \u001b[1;31m# init_method=\"/some_file\"\u001b[0m\u001b[1;33m\u001b[0m\u001b[1;33m\u001b[0m\u001b[1;33m\u001b[0m\u001b[0m\n\u001b[0;32m    360\u001b[0m \u001b[0minit_method\u001b[0m\u001b[1;33m=\u001b[0m\u001b[1;34m'env://'\u001b[0m\u001b[1;33m\u001b[0m\u001b[1;33m\u001b[0m\u001b[0m\n\u001b[1;32m--> 361\u001b[1;33m dist.init_process_group(\n\u001b[0m\u001b[0;32m    362\u001b[0m    \u001b[1;34m\"gloo\"\u001b[0m\u001b[1;33m,\u001b[0m\u001b[1;33m\u001b[0m\u001b[1;33m\u001b[0m\u001b[0m\n\u001b[0;32m    363\u001b[0m    \u001b[0mrank\u001b[0m\u001b[1;33m=\u001b[0m\u001b[1;36m0\u001b[0m\u001b[1;33m,\u001b[0m\u001b[1;33m\u001b[0m\u001b[1;33m\u001b[0m\u001b[0m\n",
      "\u001b[1;32mc:\\users\\rmartinez4\\anaconda3\\envs\\deeplearning\\lib\\site-packages\\torch\\distributed\\distributed_c10d.py\u001b[0m in \u001b[0;36minit_process_group\u001b[1;34m(backend, init_method, timeout, world_size, rank, store, group_name)\u001b[0m\n\u001b[0;32m    431\u001b[0m         \u001b[1;31m# backward compatible API\u001b[0m\u001b[1;33m\u001b[0m\u001b[1;33m\u001b[0m\u001b[1;33m\u001b[0m\u001b[0m\n\u001b[0;32m    432\u001b[0m         \u001b[1;32mif\u001b[0m \u001b[0mstore\u001b[0m \u001b[1;32mis\u001b[0m \u001b[1;32mNone\u001b[0m\u001b[1;33m:\u001b[0m\u001b[1;33m\u001b[0m\u001b[1;33m\u001b[0m\u001b[0m\n\u001b[1;32m--> 433\u001b[1;33m             rendezvous_iterator = rendezvous(\n\u001b[0m\u001b[0;32m    434\u001b[0m                 \u001b[0minit_method\u001b[0m\u001b[1;33m,\u001b[0m \u001b[0mrank\u001b[0m\u001b[1;33m,\u001b[0m \u001b[0mworld_size\u001b[0m\u001b[1;33m,\u001b[0m \u001b[0mtimeout\u001b[0m\u001b[1;33m=\u001b[0m\u001b[0mtimeout\u001b[0m\u001b[1;33m\u001b[0m\u001b[1;33m\u001b[0m\u001b[0m\n\u001b[0;32m    435\u001b[0m             )\n",
      "\u001b[1;32mc:\\users\\rmartinez4\\anaconda3\\envs\\deeplearning\\lib\\site-packages\\torch\\distributed\\rendezvous.py\u001b[0m in \u001b[0;36mrendezvous\u001b[1;34m(url, rank, world_size, **kwargs)\u001b[0m\n\u001b[0;32m     80\u001b[0m \u001b[1;33m\u001b[0m\u001b[0m\n\u001b[0;32m     81\u001b[0m     \u001b[1;32mif\u001b[0m \u001b[0mresult\u001b[0m\u001b[1;33m.\u001b[0m\u001b[0mscheme\u001b[0m \u001b[1;32mnot\u001b[0m \u001b[1;32min\u001b[0m \u001b[0m_rendezvous_handlers\u001b[0m\u001b[1;33m:\u001b[0m\u001b[1;33m\u001b[0m\u001b[1;33m\u001b[0m\u001b[0m\n\u001b[1;32m---> 82\u001b[1;33m         \u001b[1;32mraise\u001b[0m \u001b[0mRuntimeError\u001b[0m\u001b[1;33m(\u001b[0m\u001b[1;34m\"No rendezvous handler for {}://\"\u001b[0m\u001b[1;33m.\u001b[0m\u001b[0mformat\u001b[0m\u001b[1;33m(\u001b[0m\u001b[0mresult\u001b[0m\u001b[1;33m.\u001b[0m\u001b[0mscheme\u001b[0m\u001b[1;33m)\u001b[0m\u001b[1;33m)\u001b[0m\u001b[1;33m\u001b[0m\u001b[1;33m\u001b[0m\u001b[0m\n\u001b[0m\u001b[0;32m     83\u001b[0m     \u001b[1;32mreturn\u001b[0m \u001b[0m_rendezvous_handlers\u001b[0m\u001b[1;33m[\u001b[0m\u001b[0mresult\u001b[0m\u001b[1;33m.\u001b[0m\u001b[0mscheme\u001b[0m\u001b[1;33m]\u001b[0m\u001b[1;33m(\u001b[0m\u001b[0murl\u001b[0m\u001b[1;33m,\u001b[0m \u001b[1;33m**\u001b[0m\u001b[0mkwargs\u001b[0m\u001b[1;33m)\u001b[0m\u001b[1;33m\u001b[0m\u001b[1;33m\u001b[0m\u001b[0m\n\u001b[0;32m     84\u001b[0m \u001b[1;33m\u001b[0m\u001b[0m\n",
      "\u001b[1;31mRuntimeError\u001b[0m: No rendezvous handler for env://"
     ]
    }
   ],
   "source": [
    "import torch\n",
    "import torch.nn as nn\n",
    "import torch.optim as optim\n",
    "import torch.nn.functional as F\n",
    "import numpy as np\n",
    "import pandas as pd\n",
    "from torch.utils import data\n",
    "import os\n",
    "from os import listdir\n",
    "from os.path import join, abspath\n",
    "import time\n",
    "from torch.autograd import Variable\n",
    "from torch.utils import data\n",
    "from torch.nn.parallel import DistributedDataParallel as DDP\n",
    "import torch.distributed as dist\n",
    "\n",
    "device = torch.device(\"cuda:0\" if torch.cuda.is_available() else \"cpu\")\n",
    "print(device)\n",
    "\n",
    "\n",
    "from datetime import datetime\n",
    "\n",
    "import pickle as pkl\n",
    "\n",
    "\n",
    "############# Seq2seq functions\n",
    "\n",
    "def scale_data(data_x, data_y, out_pos = 0, return_current_avg_std = False):\n",
    "    \"\"\" \n",
    "    Arg:\n",
    "        data_x: features\n",
    "        data_y: labels\n",
    "        out_pos: the position of feature of which average and stand deviation will be returned.\n",
    "    returns:\n",
    "        1. Normalized features and labels\n",
    "        2. Average and standard deviation of the selected feature.\n",
    "    \"\"\"\n",
    "    avg = data_x[:,:,out_pos].mean()\n",
    "    std = data_x[:,:,out_pos].std()\n",
    "#     c_avg = data_x[:,:,1].mean()\n",
    "#     c_std = data_x[:,:,1].std()\n",
    "    for i in range(data_x.shape[-1]):\n",
    "        data_x[:,:,i] = (data_x[:,:,i] - data_x[:,:,i].mean())/data_x[:,:,i].std()\n",
    "    data_y = (data_y-avg)/std\n",
    "    if return_current_avg_std:\n",
    "        return data_x, data_y, (avg, std)  \n",
    "#         return data_x, data_y, (avg, std), (c_avg, c_std)   \n",
    "    else:\n",
    "        return data_x, data_y, (avg, std)\n",
    "\n",
    "class Dataset(data.Dataset):\n",
    "    def __init__(self, X, Y, lst_index, output_steps, position_embedding = (False)):\n",
    "        \"\"\"\n",
    "        Args:\n",
    "            lst_index: indexes of observations in the dataset.\n",
    "            output_steps: Forecasting Horizon.\n",
    "        \"\"\"\n",
    "        self.X = X[lst_index]\n",
    "        self.Y = Y[lst_index]\n",
    "        self.output_steps = output_steps\n",
    "        \n",
    "    def __len__(self):\n",
    "        return self.X.shape[0]\n",
    "\n",
    "    def __getitem__(self, index):\n",
    "        x = self.X[index]\n",
    "        y = self.Y[index][:self.output_steps]\n",
    "        return x, y\n",
    "        \n",
    "\n",
    "class Encoder(nn.Module):\n",
    "    def __init__(self, input_dim, hidden_dim, num_layers, dropout_rate):\n",
    "        \"\"\"\n",
    "        Args:\n",
    "            input_dim: the dimension of input sequences.\n",
    "            hidden_dim: number hidden units.\n",
    "            num_layers: number of encode layers.\n",
    "            dropout_rate: recurrent dropout rate.\n",
    "        \"\"\"\n",
    "        super(Encoder, self).__init__()\n",
    "        self.num_layers = num_layers\n",
    "        self.hidden_dim = hidden_dim\n",
    "        self.lstm = nn.LSTM(input_dim, hidden_dim, num_layers=num_layers, \n",
    "                            bidirectional = True, dropout = dropout_rate, batch_first = True)\n",
    "        \n",
    "    def forward(self, source):\n",
    "        \"\"\"\n",
    "        Args:\n",
    "            source: input tensor(batch_size*input dimension)\n",
    "        Return:\n",
    "            outputs: Prediction\n",
    "            concat_hidden: hidden states\n",
    "        \"\"\"\n",
    "        outputs, hidden = self.lstm(source)\n",
    "        return outputs, hidden\n",
    "    \n",
    "class Decoder(nn.Module):\n",
    "    def __init__(self, output_dim, hidden_dim, num_layers, dropout_rate):\n",
    "        \"\"\"\n",
    "        Args:\n",
    "            output_dim: the dimension of output sequences.\n",
    "            hidden_dim: number hidden units.\n",
    "            num_layers: number of code layers.\n",
    "            dropout_rate: recurrent dropout rate.\n",
    "        \"\"\"\n",
    "        super(Decoder, self).__init__()\n",
    "        \n",
    "        # Since the encoder is bidirectional, decoder has double hidden size\n",
    "        self.lstm = nn.LSTM(output_dim, hidden_dim*2, num_layers = num_layers, \n",
    "                            dropout = dropout_rate, batch_first = True)\n",
    "        \n",
    "        self.out = nn.Linear(hidden_dim*2, output_dim)\n",
    "      \n",
    "    def forward(self, x, hidden):\n",
    "        \"\"\"\n",
    "        Args:\n",
    "            x: prediction from previous prediction.\n",
    "            hidden: hidden states from previous cell.\n",
    "        Returns:\n",
    "            1. prediction for current step.\n",
    "            2. hidden state pass to next cell.\n",
    "        \"\"\"\n",
    "        output, hidden = self.lstm(x, hidden)   \n",
    "        prediction = self.out(output.float())\n",
    "        return prediction, hidden     \n",
    "    \n",
    "class Seq2Seq(nn.Module):\n",
    "    def __init__(self, encoder, decoder, device):\n",
    "        \"\"\"\n",
    "        Args:\n",
    "            encoder: Encoder object.\n",
    "            decoder: Decoder object.\n",
    "            device: \n",
    "        \"\"\"\n",
    "        super(Seq2Seq, self).__init__()\n",
    "        self.encoder = encoder\n",
    "        self.decoder = decoder\n",
    "        self.device = device\n",
    "\n",
    "    def forward(self, source, target_tensor):\n",
    "        \"\"\"\n",
    "        Args:\n",
    "            source: input tensor.\n",
    "            target_length: forecasting steps.\n",
    "        Returns:\n",
    "            total prediction\n",
    "        \"\"\"\n",
    "        batch_size = source.size(0) \n",
    "        input_length = source.size(1) \n",
    "        target_length = target_tensor.shape[1]\n",
    "        output_dim = target_tensor.shape[-1]\n",
    "        encoder_hidden = (torch.zeros(self.encoder.num_layers*2, batch_size, self.encoder.hidden_dim, device=device),\n",
    "                          torch.zeros(self.encoder.num_layers*2, batch_size, self.encoder.hidden_dim, device=device))\n",
    "        encoder_output, encoder_hidden = self.encoder(source)\n",
    "        \n",
    "        # Concatenate the hidden states of both directions.\n",
    "        num_layers = int(encoder_hidden[0].shape[0]/2)\n",
    "        h = torch.cat([encoder_hidden[0][0:self.encoder.num_layers,:,:], \n",
    "                       encoder_hidden[0][-self.encoder.num_layers:,:,:]], \n",
    "                      dim=2, out=None).to(device)\n",
    "        c = torch.cat([encoder_hidden[1][0:self.encoder.num_layers,:,:], \n",
    "                       encoder_hidden[1][-self.encoder.num_layers:,:,:]], \n",
    "                      dim=2, out=None).to(device)\n",
    "        concat_hidden = (h, c)\n",
    "        \n",
    "        \n",
    "        outputs = torch.zeros(batch_size, target_length, output_dim).to(self.device)\n",
    "        decoder_output = torch.zeros((batch_size, 1, output_dim), device = self.device)\n",
    "        decoder_hidden = concat_hidden\n",
    "        \n",
    "        for t in range(target_length):  \n",
    "            decoder_output, decoder_hidden = self.decoder(decoder_output, decoder_hidden)\n",
    "            outputs[:,t:t+1,:] = decoder_output\n",
    "        return outputs\n",
    "\n",
    "\n",
    "def run_epoch_train(model, data_generator, model_optimizer, criterion):\n",
    "    \"\"\"\n",
    "    Args:\n",
    "        model: RNN model.\n",
    "        data_generator: data.DataLoader object.\n",
    "        model_optimizer: optimizer.\n",
    "        criterion: loss function\n",
    "    Returns:\n",
    "        Root Mean Square Error on Training Dataset\n",
    "    \"\"\"\n",
    "    MSE = []\n",
    "    for x, y in data_generator:\n",
    "        # The input shape for nn.conv1d should sequence_length * batch_size * #features\n",
    "        input_tensor, target_tensor = x.to(device).float(), y.to(device).float()\n",
    "        model_optimizer.zero_grad()\n",
    "        loss = 0\n",
    "        output = model(input_tensor, target_tensor).reshape(target_tensor.shape)\n",
    "        num_iter = output.size(0)\n",
    "        for ot in range(num_iter):\n",
    "            loss += criterion(output[ot], target_tensor[ot])\n",
    "        MSE.append(loss.item()/num_iter)\n",
    "        loss.backward()\n",
    "        model_optimizer.step()\n",
    "    \n",
    "    return round(np.sqrt(np.mean(MSE)), 5)\n",
    " \n",
    "\n",
    "def run_epoch_eval(model, data_generator, criterion, return_pred = False):\n",
    "    \"\"\"\n",
    "    Args:\n",
    "        model: CNN model.\n",
    "        data_generator: data.DataLoader object.\n",
    "        criterion: loss function\n",
    "    Returns:\n",
    "        Root Mean Square Error on evaluation datasets.\n",
    "    \"\"\"\n",
    "    with torch.no_grad():\n",
    "        MSE = []\n",
    "        preds = []\n",
    "        for x, y in data_generator:\n",
    "            input_tensor, target_tensor = x.to(device).float(), y.to(device).float()\n",
    "            loss = 0\n",
    "            output = model(input_tensor, target_tensor).reshape(target_tensor.shape)\n",
    "            preds.append(output.cpu().detach().numpy())\n",
    "            num_iter = output.size(0)\n",
    "            \n",
    "            for ot in range(num_iter):\n",
    "                loss += criterion(output[ot], target_tensor[ot])\n",
    "            MSE.append(loss.item()/num_iter)\n",
    "            \n",
    "    if return_pred == True:\n",
    "        preds =  np.concatenate(preds).squeeze(-1)\n",
    "        return round(np.sqrt(np.mean(MSE)), 5), preds\n",
    "    else:\n",
    "        return round(np.sqrt(np.mean(MSE)), 5)\n",
    "\n",
    "\n",
    "def train_model(model, X, Y, learning_rate, output_steps, batch_size, train_idx, valid_idx, test_idx, test=False, return_pred=False):\n",
    "    # Initialize the model and define optimizer, learning rate decay and criterion\n",
    "    optimizer = torch.optim.RMSprop(model.parameters(), lr = learning_rate)\n",
    "    scheduler = torch.optim.lr_scheduler.StepLR(optimizer, step_size= 5, gamma=0.8)\n",
    "    criterion = nn.MSELoss()\n",
    "    \n",
    "    # Split dataset into training set, validation set and test set.\n",
    "    train_rmse, train_set = [], Dataset(X, Y, train_idx, output_steps)\n",
    "    valid_rmse, valid_set = [], Dataset(X, Y, valid_idx, output_steps)\n",
    "    if test:\n",
    "        test_rmse, test_set = [], Dataset(X, Y, test_idx, output_steps)\n",
    "    \n",
    "    min_loss = 1000\n",
    "    best_model = 0\n",
    "    best_preds = 0\n",
    "    min_valid_loss = 1000\n",
    "    \n",
    "    # for i in tqdm(range(200)):\n",
    "    for i in range(200):\n",
    "        \n",
    "        print(i, datetime.now())\n",
    "        \n",
    "        start = time.time()\n",
    "        scheduler.step()\n",
    "        train_generator = data.DataLoader(train_set, batch_size = batch_size, shuffle = True)\n",
    "        valid_generator = data.DataLoader(valid_set, batch_size = batch_size, shuffle = False)\n",
    "        if test:\n",
    "            test_generator = data.DataLoader(test_set, batch_size = batch_size, shuffle = False)\n",
    " \n",
    "        model.train()\n",
    "        train_rmse.append(run_epoch_train(model, train_generator, optimizer, criterion))\n",
    "            \n",
    "        model.eval()\n",
    "        rmse, predictions = run_epoch_eval(model,  valid_generator, criterion, return_pred = True)\n",
    "        valid_rmse.append(rmse)\n",
    "        \n",
    "        if test:\n",
    "            if return_pred:\n",
    "                t_rmse, test_predictions = run_epoch_eval(model, test_generator, criterion, return_pred = True)\n",
    "            else:\n",
    "                t_rmse = run_epoch_eval(model, test_generator, criterion, return_pred = False)\n",
    "            test_rmse.append(t_rmse)\n",
    "        \n",
    "        if valid_rmse[-1] < min_loss:\n",
    "            min_loss = valid_rmse[-1]\n",
    "            best_model = model\n",
    "            min_valid_loss = valid_rmse[-1]\n",
    "            best_preds = predictions\n",
    "            min_valid_loss = valid_rmse[-1]\n",
    "            \n",
    "        if (len(train_rmse) > 15 and np.mean(valid_rmse[-5:]) >= np.mean(valid_rmse[-10:-5])):\n",
    "            break\n",
    "            \n",
    "    end = time.time()       \n",
    "    print((\"Epoch %d:\"%(i+1)), (\"Loss: %f; \"%train_rmse[-1]),(\"valid_loss: %f; \"%valid_rmse[-1]), \n",
    "          (\"Time: %f; \"%round(end - start,5)))\n",
    "\n",
    "    if test:\n",
    "        if return_pred:\n",
    "            return best_model, (train_rmse,valid_rmse),  best_preds, min_valid_loss, test_rmse, test_predictions\n",
    "        return best_model, (train_rmse,valid_rmse),  best_preds, min_valid_loss, test_rmse\n",
    "    return best_model, (train_rmse,valid_rmse),  best_preds, min_valid_loss\n",
    "\n",
    "\n",
    "############# Main\n",
    "\n",
    "print('Code started', datetime.now())\n",
    "\n",
    "# base_dir = r'C:\\Users\\rmartinez4\\Box\\Personal Git\\dse-capstone\\seq2seq_example\\data_traffic'\n",
    "base_dir = r'C:\\Users\\rmartinez4\\Box\\Personal Git\\dse-capstone\\seq2seq_example\\data_traffic'\n",
    "\n",
    "filename = 'traffic_bayArea_station_400001.pkl'\n",
    "\n",
    "# read tensor\n",
    "with open(join(base_dir, filename), \"rb\") as fout:\n",
    "    c_time_series = pkl.load(fout)\n",
    "\n",
    "sample_size = c_time_series.shape[0]\n",
    "segment_size = c_time_series.shape[1]\n",
    "pred_size = int(segment_size/2)\n",
    "\n",
    "test_size = sample_size // 5\n",
    "train_valid_size = test_size * 4\n",
    "training_size = test_size * 7//2\n",
    "validation_size = test_size * 1//2\n",
    "\n",
    "print(' sample_size', sample_size, '\\n',\n",
    "      'train_valid_size', train_valid_size, '\\n',\n",
    "      'training_size', training_size, '\\n',\n",
    "      'validation_size', validation_size, '\\n',\n",
    "      'test_size', test_size)\n",
    "\n",
    "X_all = c_time_series[:train_valid_size+test_size,:pred_size,:]\n",
    "Y_all = c_time_series[:train_valid_size+test_size,pred_size:,:]\n",
    "\n",
    "X, Y, (avg, std) = scale_data(X_all, Y_all, out_pos = 0, return_current_avg_std = True)\n",
    "\n",
    "\n",
    "learning_rate = 0.01\n",
    "dropout_rate = 0.6\n",
    "num_layers = 1\n",
    "hidden_dim = 128\n",
    "\n",
    "input_steps = segment_size\n",
    "output_steps = segment_size\n",
    "input_size = 1\n",
    "output_size = 1\n",
    "\n",
    "train_idx = list(range(training_size))\n",
    "valid_idx = list(range(training_size, train_valid_size))\n",
    "test_idx = list(range(train_valid_size, train_valid_size + test_size))\n",
    "\n",
    "encoder = Encoder(input_size, hidden_dim, num_layers, dropout_rate)\n",
    "decoder = Decoder(output_size, hidden_dim, num_layers, dropout_rate)\n",
    "\n",
    "# to enable multi GPU training\n",
    "# rank = dist.get_rank()\n",
    "# world_size = dist.get_world_size()\n",
    "# print('rank {} and world size {}'.format(rank, world_size))\n",
    "\n",
    "# os.environ['MASTER_ADDR'] = 'localhost'\n",
    "# os.environ['MASTER_PORT'] = '12355'\n",
    "# dist.init_process_group(\"gloo\", rank=0, world_size=2)\n",
    "\n",
    "\n",
    "# init_method=\"/some_file\"\n",
    "init_method='env://'\n",
    "dist.init_process_group(\n",
    "   \"gloo\",\n",
    "   rank=0,\n",
    "   init_method=init_method,\n",
    "   world_size=2)\n",
    "\n",
    "print('Hello')\n",
    "\n",
    "model = Seq2Seq(encoder, decoder, rank).to(rank)\n",
    "model = DDP(model, device_ids=[rank])\n",
    "\n",
    "model, loss, preds, min_valid_loss, test_rmse = train_model(\n",
    "    model, X, Y, learning_rate, output_steps = output_steps, batch_size = 64,\n",
    "    train_idx = train_idx, valid_idx = valid_idx, test_idx = test_idx, test=True)\n",
    "\n",
    "results_dict = {\n",
    "    'learning_rate': learning_rate,\n",
    "    'dropout_rate': dropout_rate,\n",
    "    'num_layers':num_layers,\n",
    "    'hidden_dim': hidden_dim,\n",
    "    # 'model_state_dict': model.state_dict(),\n",
    "    'train_rmse': loss[0],\n",
    "    'valid_rmse': loss[1],\n",
    "    'test_rmse': test_rmse,\n",
    "    'min_valid_loss': min_valid_loss\n",
    "    # 'preds':preds\n",
    "}\n",
    "\n",
    "\n",
    "# read saved model\n",
    "# model = torch.load(r'C:\\Users\\rmartinez4\\Box\\Personal Git\\dse-capstone\\seq2seq_example\\Nautilus\\models\\traffic_bayArea_station_400001_model.pth', map_location=torch.device('cpu'))\n",
    "\n",
    "# save results dict and model\n",
    "# file_id = filename.split('.')[0]\n",
    "# with open(base_dir + file_id + '_results_dict.pkl', 'wb') as handle:\n",
    "# # with open(join(base_dir, file_id + '_results_dict.pkl'), 'wb') as handle:\n",
    "#     pkl.dump(results_dict, handle, protocol=pkl.HIGHEST_PROTOCOL)\n",
    "\n",
    "# torch.save(model, base_dir + file_id + '_model.pth')\n",
    "# torch.save(model, join(base_dir, file_id + '_model.pth'))\n",
    "\n",
    "\n"
   ]
  },
  {
   "cell_type": "code",
   "execution_count": null,
   "metadata": {
    "id": "39aQkloylAAa"
   },
   "outputs": [],
   "source": []
  }
 ],
 "metadata": {
  "accelerator": "GPU",
  "colab": {
   "collapsed_sections": [],
   "name": "Gcolab_seq2seq_traffic_Data.ipynb",
   "provenance": [],
   "toc_visible": true
  },
  "kernelspec": {
   "display_name": "Python 3",
   "language": "python",
   "name": "python3"
  },
  "language_info": {
   "codemirror_mode": {
    "name": "ipython",
    "version": 3
   },
   "file_extension": ".py",
   "mimetype": "text/x-python",
   "name": "python",
   "nbconvert_exporter": "python",
   "pygments_lexer": "ipython3",
   "version": "3.8.3"
  },
  "toc": {
   "base_numbering": 1,
   "nav_menu": {},
   "number_sections": true,
   "sideBar": true,
   "skip_h1_title": false,
   "title_cell": "Table of Contents",
   "title_sidebar": "Contents",
   "toc_cell": false,
   "toc_position": {
    "height": "calc(100% - 180px)",
    "left": "10px",
    "top": "150px",
    "width": "199.006px"
   },
   "toc_section_display": true,
   "toc_window_display": true
  },
  "varInspector": {
   "cols": {
    "lenName": 16,
    "lenType": 16,
    "lenVar": 40
   },
   "kernels_config": {
    "python": {
     "delete_cmd_postfix": "",
     "delete_cmd_prefix": "del ",
     "library": "var_list.py",
     "varRefreshCmd": "print(var_dic_list())"
    },
    "r": {
     "delete_cmd_postfix": ") ",
     "delete_cmd_prefix": "rm(",
     "library": "var_list.r",
     "varRefreshCmd": "cat(var_dic_list()) "
    }
   },
   "types_to_exclude": [
    "module",
    "function",
    "builtin_function_or_method",
    "instance",
    "_Feature"
   ],
   "window_display": false
  },
  "widgets": {
   "application/vnd.jupyter.widget-state+json": {
    "1564dc9c52bc4eeca0a819011e3465f0": {
     "model_module": "@jupyter-widgets/base",
     "model_name": "LayoutModel",
     "state": {
      "_model_module": "@jupyter-widgets/base",
      "_model_module_version": "1.2.0",
      "_model_name": "LayoutModel",
      "_view_count": null,
      "_view_module": "@jupyter-widgets/base",
      "_view_module_version": "1.2.0",
      "_view_name": "LayoutView",
      "align_content": null,
      "align_items": null,
      "align_self": null,
      "border": null,
      "bottom": null,
      "display": null,
      "flex": null,
      "flex_flow": null,
      "grid_area": null,
      "grid_auto_columns": null,
      "grid_auto_flow": null,
      "grid_auto_rows": null,
      "grid_column": null,
      "grid_gap": null,
      "grid_row": null,
      "grid_template_areas": null,
      "grid_template_columns": null,
      "grid_template_rows": null,
      "height": null,
      "justify_content": null,
      "justify_items": null,
      "left": null,
      "margin": null,
      "max_height": null,
      "max_width": null,
      "min_height": null,
      "min_width": null,
      "object_fit": null,
      "object_position": null,
      "order": null,
      "overflow": null,
      "overflow_x": null,
      "overflow_y": null,
      "padding": null,
      "right": null,
      "top": null,
      "visibility": null,
      "width": null
     }
    },
    "16a587a7fe9248b29b89a251b236b654": {
     "model_module": "@jupyter-widgets/controls",
     "model_name": "ProgressStyleModel",
     "state": {
      "_model_module": "@jupyter-widgets/controls",
      "_model_module_version": "1.5.0",
      "_model_name": "ProgressStyleModel",
      "_view_count": null,
      "_view_module": "@jupyter-widgets/base",
      "_view_module_version": "1.2.0",
      "_view_name": "StyleView",
      "bar_color": null,
      "description_width": "initial"
     }
    },
    "45f3528733694da4869777af9b9f34a5": {
     "model_module": "@jupyter-widgets/base",
     "model_name": "LayoutModel",
     "state": {
      "_model_module": "@jupyter-widgets/base",
      "_model_module_version": "1.2.0",
      "_model_name": "LayoutModel",
      "_view_count": null,
      "_view_module": "@jupyter-widgets/base",
      "_view_module_version": "1.2.0",
      "_view_name": "LayoutView",
      "align_content": null,
      "align_items": null,
      "align_self": null,
      "border": null,
      "bottom": null,
      "display": null,
      "flex": null,
      "flex_flow": null,
      "grid_area": null,
      "grid_auto_columns": null,
      "grid_auto_flow": null,
      "grid_auto_rows": null,
      "grid_column": null,
      "grid_gap": null,
      "grid_row": null,
      "grid_template_areas": null,
      "grid_template_columns": null,
      "grid_template_rows": null,
      "height": null,
      "justify_content": null,
      "justify_items": null,
      "left": null,
      "margin": null,
      "max_height": null,
      "max_width": null,
      "min_height": null,
      "min_width": null,
      "object_fit": null,
      "object_position": null,
      "order": null,
      "overflow": null,
      "overflow_x": null,
      "overflow_y": null,
      "padding": null,
      "right": null,
      "top": null,
      "visibility": null,
      "width": null
     }
    },
    "7a52151811ab4fbf87fbea68f86f0941": {
     "model_module": "@jupyter-widgets/controls",
     "model_name": "HTMLModel",
     "state": {
      "_dom_classes": [],
      "_model_module": "@jupyter-widgets/controls",
      "_model_module_version": "1.5.0",
      "_model_name": "HTMLModel",
      "_view_count": null,
      "_view_module": "@jupyter-widgets/controls",
      "_view_module_version": "1.5.0",
      "_view_name": "HTMLView",
      "description": "",
      "description_tooltip": null,
      "layout": "IPY_MODEL_1564dc9c52bc4eeca0a819011e3465f0",
      "placeholder": "​",
      "style": "IPY_MODEL_bf0d443df21f4b46be7e118fbec29859",
      "value": " 27/200 [1:06:42&lt;6:50:39, 142.43s/it]"
     }
    },
    "86efb748af4d4320a54c3b4552ddc84b": {
     "model_module": "@jupyter-widgets/controls",
     "model_name": "HBoxModel",
     "state": {
      "_dom_classes": [],
      "_model_module": "@jupyter-widgets/controls",
      "_model_module_version": "1.5.0",
      "_model_name": "HBoxModel",
      "_view_count": null,
      "_view_module": "@jupyter-widgets/controls",
      "_view_module_version": "1.5.0",
      "_view_name": "HBoxView",
      "box_style": "",
      "children": [
       "IPY_MODEL_930405bbf7e64e0684d32ddeccf447a9",
       "IPY_MODEL_7a52151811ab4fbf87fbea68f86f0941"
      ],
      "layout": "IPY_MODEL_c4ac762c9c004b1a9badeaace27a9cdb"
     }
    },
    "930405bbf7e64e0684d32ddeccf447a9": {
     "model_module": "@jupyter-widgets/controls",
     "model_name": "FloatProgressModel",
     "state": {
      "_dom_classes": [],
      "_model_module": "@jupyter-widgets/controls",
      "_model_module_version": "1.5.0",
      "_model_name": "FloatProgressModel",
      "_view_count": null,
      "_view_module": "@jupyter-widgets/controls",
      "_view_module_version": "1.5.0",
      "_view_name": "ProgressView",
      "bar_style": "danger",
      "description": " 14%",
      "description_tooltip": null,
      "layout": "IPY_MODEL_45f3528733694da4869777af9b9f34a5",
      "max": 200,
      "min": 0,
      "orientation": "horizontal",
      "style": "IPY_MODEL_16a587a7fe9248b29b89a251b236b654",
      "value": 27
     }
    },
    "bf0d443df21f4b46be7e118fbec29859": {
     "model_module": "@jupyter-widgets/controls",
     "model_name": "DescriptionStyleModel",
     "state": {
      "_model_module": "@jupyter-widgets/controls",
      "_model_module_version": "1.5.0",
      "_model_name": "DescriptionStyleModel",
      "_view_count": null,
      "_view_module": "@jupyter-widgets/base",
      "_view_module_version": "1.2.0",
      "_view_name": "StyleView",
      "description_width": ""
     }
    },
    "c4ac762c9c004b1a9badeaace27a9cdb": {
     "model_module": "@jupyter-widgets/base",
     "model_name": "LayoutModel",
     "state": {
      "_model_module": "@jupyter-widgets/base",
      "_model_module_version": "1.2.0",
      "_model_name": "LayoutModel",
      "_view_count": null,
      "_view_module": "@jupyter-widgets/base",
      "_view_module_version": "1.2.0",
      "_view_name": "LayoutView",
      "align_content": null,
      "align_items": null,
      "align_self": null,
      "border": null,
      "bottom": null,
      "display": null,
      "flex": null,
      "flex_flow": null,
      "grid_area": null,
      "grid_auto_columns": null,
      "grid_auto_flow": null,
      "grid_auto_rows": null,
      "grid_column": null,
      "grid_gap": null,
      "grid_row": null,
      "grid_template_areas": null,
      "grid_template_columns": null,
      "grid_template_rows": null,
      "height": null,
      "justify_content": null,
      "justify_items": null,
      "left": null,
      "margin": null,
      "max_height": null,
      "max_width": null,
      "min_height": null,
      "min_width": null,
      "object_fit": null,
      "object_position": null,
      "order": null,
      "overflow": null,
      "overflow_x": null,
      "overflow_y": null,
      "padding": null,
      "right": null,
      "top": null,
      "visibility": null,
      "width": null
     }
    }
   }
  }
 },
 "nbformat": 4,
 "nbformat_minor": 1
}
