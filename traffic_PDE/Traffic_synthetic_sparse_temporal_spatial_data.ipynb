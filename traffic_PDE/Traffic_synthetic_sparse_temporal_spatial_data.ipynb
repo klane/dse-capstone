{
 "cells": [
  {
   "cell_type": "markdown",
   "metadata": {},
   "source": [
    "## Numerical Solution of LWR model:\n",
    "\n",
    "Lighthill-Whitham-Richards model (commonly used for traffic flow):\n",
    "\n",
    "\\begin{equation}\n",
    "\\frac{\\partial q}{\\partial x} + \\frac{\\partial k}{\\partial t} = 0\n",
    "\\end{equation}\n",
    "\n",
    "But $q$ is a function of $k$ (Greenshield model): \n",
    "$$\n",
    "q(k) = k(k_j - k) = k k_j -k^2\n",
    "$$\n",
    "\n",
    "Therefore\n",
    "$$\n",
    "\\frac{\\partial k}{\\partial t} + \\frac{dq}{dk}\\frac{\\partial k}{\\partial x} =0\n",
    "$$\n",
    "\n",
    "$$\n",
    "\\frac{d(q(k))}{dk} = 1(k_j - k) + k(-1) = k_j - 2k\n",
    "$$\n",
    "\n",
    "And\n",
    "$$\n",
    "\\frac{\\partial k}{\\partial t} + (k_j - 2k) \\frac{\\partial k}{\\partial x} = 0\n",
    "$$"
   ]
  },
  {
   "cell_type": "markdown",
   "metadata": {},
   "source": [
    "$$\n",
    "\\frac{\\partial k}{\\partial t} = (2k - k_j) \\frac{\\partial k}{\\partial x}\n",
    "$$"
   ]
  },
  {
   "cell_type": "markdown",
   "metadata": {},
   "source": [
    "\\begin{align}\n",
    "k(t + \\Delta t, x_n) =& k(t, x) + \\Delta t \\frac{\\partial k}{\\partial t} \\\\\n",
    "                =& k(t, x) + \\Delta t \\left(2k(t, x) - k_j\\right) \\frac{\\partial k}{\\partial x}\n",
    "\\end{align}"
   ]
  },
  {
   "cell_type": "markdown",
   "metadata": {},
   "source": [
    "\\begin{align}\n",
    "\\frac{\\partial{k}}{\\partial x} \\approx \\frac{k(t, x + \\Delta x) - k(t,x - \\Delta x)}{2 \\Delta x} \\\\\n",
    "                               \\approx \\frac{k(t, x + \\Delta x) - k(t, x)}{\\Delta x} \\\\\n",
    "\\end{align}"
   ]
  },
  {
   "cell_type": "markdown",
   "metadata": {},
   "source": [
    "If I remember correctly the central difference formula is unstable when used with the forward time step, \n",
    "but I will check into this.\n",
    "\n",
    "Discretizing along t_i for i=0,$n_t$ and x_n for n=0, $n_x$.\n",
    "$k_n^i$ equals the traffic density at time $t_i$ and position $n_i$.\n",
    "\n",
    "Sampling rates are $\\Delta t$ and $\\Delta x$, respectively.\n",
    "$k_j(x)$ is location dependent.  Call it $\\kappa_n$."
   ]
  },
  {
   "cell_type": "markdown",
   "metadata": {},
   "source": [
    "$$\n",
    "k_n^{i+1} = k_n^i + \\Delta t  (2 k_n^i - \\kappa_n) \\frac{k_{n+1}^i - k_n^i}{\\Delta x}\n",
    "$$"
   ]
  },
  {
   "cell_type": "markdown",
   "metadata": {},
   "source": [
    "In a real world scenario, we wouldn't have data at every point along the discretized distance.\n",
    "This is different from the scenario tested before.  Therefore, the function needs to be modified\n",
    "to internally calculate points with the discretization distance needed to fulfill the stability criterion, while outputting predictions only where data is available.\n",
    "\n",
    "CFL condition:\n",
    "\\begin{equation}\n",
    "\\end{equation}"
   ]
  },
  {
   "cell_type": "code",
   "execution_count": 2,
   "metadata": {},
   "outputs": [],
   "source": [
    "import numpy as np"
   ]
  },
  {
   "cell_type": "code",
   "execution_count": 3,
   "metadata": {},
   "outputs": [
    {
     "name": "stdout",
     "output_type": "stream",
     "text": [
      "0.5\n"
     ]
    }
   ],
   "source": [
    "nx=100\n",
    "nt=1000\n",
    "#kj = np.linspace(275/3600., 75/3600., nx)\n",
    "kj = np.ones((nx,), dtype=float)*0.05\n",
    "kj[50:60] = 0.01 #50/3600.\n",
    "\n",
    "dx=0.1\n",
    "dt=0.5\n",
    "print(dt)"
   ]
  },
  {
   "cell_type": "code",
   "execution_count": 4,
   "metadata": {},
   "outputs": [],
   "source": [
    "import plotly.express as px\n",
    "import plotly.graph_objects as go\n",
    "from plotly.subplots import make_subplots\n",
    "import plotly\n",
    "plotly.io.templates.default = 'plotly_dark'\n",
    "from ipywidgets import widgets"
   ]
  },
  {
   "cell_type": "code",
   "execution_count": 5,
   "metadata": {},
   "outputs": [
    {
     "name": "stdout",
     "output_type": "stream",
     "text": [
      "1.4.0\n"
     ]
    }
   ],
   "source": [
    "import torch \n",
    "import torch.nn as nn\n",
    "print(torch.__version__)"
   ]
  },
  {
   "cell_type": "code",
   "execution_count": 6,
   "metadata": {},
   "outputs": [
    {
     "name": "stdout",
     "output_type": "stream",
     "text": [
      "cuda\n"
     ]
    }
   ],
   "source": [
    "device = torch.device(\"cuda\" if torch.cuda.is_available() else \"cpu\")\n",
    "import os\n",
    "os.environ[\"CUDA_DEVICE_ORDER\"]=\"PCI_BUS_ID\"\n",
    "os.environ[\"CUDA_VISIBLE_DEVICES\"]=\"4\"\n",
    "#device = torch.device(\"cpu\")\n",
    "print(device)\n",
    "import matplotlib.pyplot as plt\n",
    "from tqdm import tqdm"
   ]
  },
  {
   "cell_type": "code",
   "execution_count": 58,
   "metadata": {},
   "outputs": [],
   "source": [
    "class Neural_LWR_sparse2(nn.Module):\n",
    "    def __init__(self, nx, dx, dt, kj, xi, tskip, initial='random'):\n",
    "        self.nx = nx\n",
    "        #xi are the locations along distance where data is available\n",
    "        self.xi = xi\n",
    "        self.tskip = tskip\n",
    "            \n",
    "        super(Neural_LWR_sparse2, self).__init__()\n",
    "        if initial == 'random':\n",
    "            #self.initial = torch.nn.Parameter(torch.rand(nx))\n",
    "            self.initial = torch.rand(nx)\n",
    "        elif initial == 'zeros':\n",
    "            self.initial = torch.zeros(nx, requires_grad=True).double()\n",
    "            self.initial[0] = kj[0] / 2.\n",
    "        else:\n",
    "            #self.initial = torch.nn.Parameter(initial)\n",
    "            self.initial = torch.tensor(initial)\n",
    "            \n",
    "        #initial conditions\n",
    "        #self.k[0] = self.initial\n",
    "        \n",
    "        self.kappa=torch.nn.Parameter(kj, requires_grad=True)\n",
    "        \n",
    "        #boundary conditions (traffic is at optimal density - hardcoded for now)\n",
    "        #self.k[0:50,0] = self.kappa[0] / 2.\n",
    "        self.dx = torch.tensor(dx)\n",
    "        self.dt = torch.tensor(dt)\n",
    "        \n",
    "    def forward(self, tsteps):\n",
    "        \n",
    "        nt=len(tsteps)\n",
    "        self.k=[self.initial]\n",
    "        \n",
    "        self.ki=[self.initial[self.xi]]\n",
    "        ##self.k=torch.zeros((nt,nx), dtype=torch.double)\n",
    "        #self.k=torch.zeros((nt,nx), requires_grad=True).double()\n",
    "        #self.k[0:50,0]=self.kappa[0]/2.\n",
    "        \n",
    "        for n in range(1,nt):\n",
    "            tmp1=2*self.k[n-1][1:] - self.kappa[1:]\n",
    "            tmp2=(self.k[n-1][1:]-self.k[n-1][:-1]) / self.dx\n",
    "            #tmp1=2*self.k[n-1,1:] - self.kappa[1:]\n",
    "            #tmp2=(self.k[n-1,1:]-self.k[n-1,:-1]) / self.dx\n",
    "            #nk=torch.DoubleTensor(nx)\n",
    "            nk=torch.zeros(nx, requires_grad=True).double()\n",
    "            if n < 50:\n",
    "                nk[0] = self.kappa[0] / 2.\n",
    "            else:\n",
    "                nk[0] = 0.\n",
    "            nk[1:]=self.k[n-1][1:] + self.dt*tmp1 * tmp2\n",
    "            self.k.append(nk)\n",
    "            #only output every tskip timesteps\n",
    "            if (n % self.tskip) == 0:\n",
    "                self.ki.append(nk[self.xi])\n",
    "            #self.k[n,1:] = self.k[n-1,1:] + self.dt*tmp1 * tmp2\n",
    "            #self.k.append(self.k[n][1:] + self.dt*(2*self.k[n][1:] - self.kappa[1:]) * \\\n",
    "            #    (self.k[n][1:]-self.k[n][:-1]) / self.dx)\n",
    "            \n",
    "        return torch.stack(self.ki)\n",
    "        #return self.k"
   ]
  },
  {
   "cell_type": "code",
   "execution_count": 59,
   "metadata": {},
   "outputs": [],
   "source": [
    "xi=[10,25,40,62,70,80,99]"
   ]
  },
  {
   "cell_type": "code",
   "execution_count": 60,
   "metadata": {
    "scrolled": true
   },
   "outputs": [],
   "source": [
    "tdn=Neural_LWR_sparse2(nx, dx, dt, torch.tensor(kj), xi, 10, initial='zeros')"
   ]
  },
  {
   "cell_type": "code",
   "execution_count": 82,
   "metadata": {},
   "outputs": [
    {
     "name": "stdout",
     "output_type": "stream",
     "text": [
      "torch.Size([101, 7]) 1000 100\n"
     ]
    }
   ],
   "source": [
    "steps=torch.tensor(np.linspace(0, 1000, 1001), requires_grad=True).float()\n",
    "#steps=torch.tensor(np.linspace(0, 1, 1), requires_grad=True).float()\n",
    "k=tdn(steps)\n",
    "#np.linspace?\n",
    "#tdn.k[99]\n",
    "print(k.shape,nt, nx)"
   ]
  },
  {
   "cell_type": "code",
   "execution_count": 62,
   "metadata": {},
   "outputs": [
    {
     "data": {
      "text/plain": [
       "Text(0, 0.5, 'Traffic density')"
      ]
     },
     "execution_count": 62,
     "metadata": {},
     "output_type": "execute_result"
    },
    {
     "data": {
      "image/png": "[encoded data removed]",
      "text/plain": [
       "<Figure size 864x288 with 1 Axes>"
      ]
     },
     "metadata": {},
     "output_type": "display_data"
    }
   ],
   "source": [
    "import matplotlib.pyplot as plt\n",
    "plt.style.use('dark_background')\n",
    "\n",
    "fig,ax=plt.subplots(figsize=(12,4))\n",
    "\n",
    "for p in range(len(xi)):\n",
    "    ax.plot(k[:,p].detach(), label=xi[p], marker='o')\n",
    "ax.legend()\n",
    "ax.set_xlabel('Time')\n",
    "ax.set_ylabel('Traffic density')"
   ]
  },
  {
   "cell_type": "code",
   "execution_count": 64,
   "metadata": {},
   "outputs": [],
   "source": [
    "tdnu = Neural_LWR_sparse2(nx, dx, dt, torch.nn.Parameter(torch.tensor(kj/3.)), xi, 10, initial='zeros')\n",
    "#y_exact = torch.stack(tdn.k).detach()\n",
    "y_exact = k.detach()\n",
    "\n",
    "optimizer = torch.optim.Adam(tdnu.parameters(), 0.001)\n",
    "scheduler = torch.optim.lr_scheduler.StepLR(optimizer, step_size= 1, gamma=0.95)"
   ]
  },
  {
   "cell_type": "code",
   "execution_count": 65,
   "metadata": {},
   "outputs": [],
   "source": [
    "num_epochs = 300\n",
    "loss_fun = torch.nn.MSELoss()\n",
    "min_loss = 10"
   ]
  },
  {
   "cell_type": "code",
   "execution_count": 66,
   "metadata": {},
   "outputs": [
    {
     "name": "stdout",
     "output_type": "stream",
     "text": [
      "101 101\n"
     ]
    }
   ],
   "source": [
    "y_approx = tdnu(steps)\n",
    "print(len(y_approx), len(y_exact))\n",
    "loss=loss_fun(y_approx, y_exact)\n",
    "#torch.cat(tdn.k, dim=1).shape\n",
    "#torch.cat([torch.tensor(p) for p in tdn.k], dim=1).shape"
   ]
  },
  {
   "cell_type": "code",
   "execution_count": 67,
   "metadata": {},
   "outputs": [],
   "source": [
    "#print(tdnu.k[0,0].grad)\n",
    "#y_approx\n",
    "#y_exact[-1,-1].backward(retain_graph=True)"
   ]
  },
  {
   "cell_type": "code",
   "execution_count": 68,
   "metadata": {},
   "outputs": [],
   "source": [
    "#loss.backward(retain_graph=True)"
   ]
  },
  {
   "cell_type": "code",
   "execution_count": 69,
   "metadata": {},
   "outputs": [
    {
     "name": "stderr",
     "output_type": "stream",
     "text": [
      "100%|██████████| 300/300 [01:08<00:00,  4.37it/s, loss=4.71e-10]\n"
     ]
    }
   ],
   "source": [
    "tqdm_epochs = tqdm(range(num_epochs))\n",
    "for e in tqdm_epochs:\n",
    "    y_approx = tdnu(steps)\n",
    "    loss = loss_fun(y_approx, y_exact)\n",
    "    if loss.item() < min_loss:\n",
    "        best_model_lwr = tdnu\n",
    "    optimizer.zero_grad()\n",
    "    loss.backward(retain_graph=True)\n",
    "    optimizer.step()\n",
    "    tqdm_epochs.set_postfix({'loss': torch.sum(loss).item()})"
   ]
  },
  {
   "cell_type": "code",
   "execution_count": 70,
   "metadata": {},
   "outputs": [],
   "source": [
    "#tdnu.kappa"
   ]
  },
  {
   "cell_type": "code",
   "execution_count": 71,
   "metadata": {},
   "outputs": [],
   "source": [
    "#kj"
   ]
  },
  {
   "cell_type": "code",
   "execution_count": 72,
   "metadata": {},
   "outputs": [],
   "source": [
    "#tdn.k[500]"
   ]
  },
  {
   "cell_type": "code",
   "execution_count": 73,
   "metadata": {},
   "outputs": [],
   "source": [
    "#tdnu.k[500]"
   ]
  },
  {
   "cell_type": "code",
   "execution_count": 74,
   "metadata": {},
   "outputs": [
    {
     "data": {
      "text/plain": [
       "(0.9874356016916571, 0.550480584390619, 0.34797385620915033, 1.0)"
      ]
     },
     "execution_count": 74,
     "metadata": {},
     "output_type": "execute_result"
    }
   ],
   "source": [
    "from matplotlib.pyplot import get_cmap\n",
    "cm=get_cmap('OrRd')\n",
    "cm(0.5, alpha=None)"
   ]
  },
  {
   "cell_type": "code",
   "execution_count": 75,
   "metadata": {},
   "outputs": [
    {
     "data": {
      "application/vnd.plotly.v1+json": {
       "config": {
        "plotlyServerURL": "https://plot.ly"
       },
       "data": [
        {
         "legendgroup": "0",
         "line": {
          "color": "rgb(255,247,236)",
          "width": 5
         },
         "mode": "lines",
         "name": "10",
         "showlegend": true,
         "type": "scatter",
         "xaxis": "x",
         "y": [
          0,
          2.3841854357442864e-08,
          0.00023201446917930365,
          0.0022587533457049825,
          0.005422972410762605,
          0.008275821199993481,
          0.010540993340562745,
          0.012313181043659908,
          0.013716886993051588,
          0.014846116046466044,
          0.015752894528917954,
          0.01638924460219918,
          0.016221774844225708,
          0.01269364706591877,
          0.004487725472517937,
          0.0006443583316643449,
          6.855033859586607e-05,
          6.80166575576596e-06,
          6.516440884301527e-07,
          6.067525642183496e-08,
          5.507547149303738e-09,
          4.885366306111061e-10,
          4.2435200737246925e-11,
          3.6160020162670987e-12,
          3.027554416092304e-13,
          2.4941536915490827e-14,
          2.024235250305697e-15,
          1.6202617569113508e-16,
          1.280339699470586e-17,
          9.996932573296942e-19,
          7.718936880346707e-20,
          5.89809559446882e-21,
          4.462877395299015e-22,
          3.3460040859231987e-23,
          2.487042059940446e-24,
          1.8335871171856435e-25,
          1.3414681011627843e-26,
          9.743210778911893e-28,
          7.028051987545307e-29,
          5.036562095072166e-30,
          3.5870990431585005e-31,
          2.5397768185313306e-32,
          1.7881925700487063e-33,
          1.2523174875867966e-34,
          8.72575568233355e-36,
          6.050342251354911e-37,
          4.175787803843002e-38,
          2.8692328151424038e-39,
          1.9631064627487647e-40,
          1.337671189173662e-41,
          9.07934394979942e-43,
          6.139414818009521e-44,
          4.1364786946175246e-45,
          2.7773214571300042e-46,
          1.8585314359404007e-47,
          1.2396977263680647e-48,
          8.243557063239641e-50,
          5.465306949336486e-51,
          3.612943195876212e-52,
          2.3817579771872148e-53,
          1.5659039164182333e-54,
          1.0268395852127103e-55,
          6.716564941609535e-57,
          4.3826246941983874e-58,
          2.8529715469198363e-59,
          1.852971633626983e-60,
          1.2008226546589828e-61,
          7.765277097919112e-63,
          5.011075350578996e-64,
          3.2272118593474248e-65,
          2.0743025845055582e-66,
          1.3307278791344669e-67,
          8.521230524322642e-69,
          5.446703157365103e-70,
          3.4754011034447042e-71,
          2.2137910471324474e-72,
          1.4078247235153618e-73,
          8.938401121700763e-75,
          5.666157799400154e-76,
          3.586349745031592e-77,
          2.266567591442053e-78,
          1.4303853174270623e-79,
          9.014080206256101e-81,
          5.672687969528929e-82,
          3.5650861317551825e-83,
          2.2375813941759395e-84,
          1.4025839857511104e-85,
          8.780781887313355e-87,
          5.490405145027031e-88,
          3.428898781663652e-89,
          2.13892607381117e-90,
          1.3327205535072375e-91,
          8.294603428451617e-93,
          5.15674917629578e-94,
          3.20251028884888e-95,
          1.9867772119203588e-96,
          1.2312934440322455e-97,
          7.623195763139123e-99,
          4.715033082294311e-100,
          2.9134888596485944e-101,
          1.7985869504412407e-102
         ],
         "yaxis": "y"
        },
        {
         "legendgroup": "0",
         "line": {
          "color": "black",
          "dash": "dot",
          "width": 2
         },
         "mode": "lines",
         "name": "10",
         "showlegend": false,
         "type": "scatter",
         "xaxis": "x",
         "y": [
          0,
          8.28595095667336e-09,
          0.00018715763509817126,
          0.0021108386216028533,
          0.005290649312788097,
          0.008196816193382455,
          0.010507878386114503,
          0.012313874736566229,
          0.01374204149944011,
          0.014889212530385885,
          0.015809488363557347,
          0.016456176934676773,
          0.01629230879613482,
          0.01272425020075927,
          0.00444907919780199,
          0.000629215444784794,
          6.608364296274717e-05,
          6.476630026250405e-06,
          6.128383814751167e-07,
          5.634706377122645e-08,
          5.04979343583933e-09,
          4.421922586237267e-10,
          3.791326677907962e-11,
          3.188632427618948e-12,
          2.634781571297415e-13,
          2.1420210397134767e-14,
          1.7154752607435184e-15,
          1.35490893441226e-16,
          1.0564110236240758e-17,
          8.138436837532776e-19,
          6.199890397670051e-20,
          4.6738860236790775e-21,
          3.489072883341579e-22,
          2.580718276565205e-23,
          1.8923771135683898e-24,
          1.3763499832385152e-25,
          9.93353106649734e-27,
          7.117300651114494e-28,
          5.064454590568027e-29,
          3.5802353994602105e-30,
          2.5153366343131794e-31,
          1.7567898069474529e-32,
          1.2201313440675989e-33,
          8.428915650298205e-35,
          5.793253316830815e-36,
          3.962407691126994e-37,
          2.697585304183257e-38,
          1.8283450041366962e-39,
          1.233928715309812e-40,
          8.293692150272569e-42,
          5.552696898638671e-43,
          3.7036184991843375e-44,
          2.461380653763919e-45,
          1.6301289453207866e-46,
          1.0760012102593706e-47,
          7.07953980992915e-49,
          4.643545332981086e-50,
          3.0366515330972044e-51,
          1.9800972585387577e-52,
          1.2875607276602128e-53,
          8.349869723825915e-55,
          5.400842984564216e-56,
          3.4845801355170435e-57,
          2.2427548292194765e-58,
          1.4400888529671562e-59,
          9.225821556196416e-61,
          5.897388443475226e-62,
          3.761686506824377e-63,
          2.3944269663233676e-64,
          1.5210498216770916e-65,
          9.643477918621877e-67,
          6.1023457445750725e-68,
          3.8543950760499906e-69,
          2.430157360706557e-70,
          1.5295118499058362e-71,
          9.61019573230724e-73,
          6.028265722822176e-74,
          3.7753077163920713e-75,
          2.3606436927233367e-76,
          1.4738193101583137e-77,
          9.187782143477095e-79,
          5.719342093238526e-80,
          3.5552167764458805e-81,
          2.206916190215331e-82,
          1.3681064886106055e-83,
          8.469978686448306e-85,
          5.2370489521455406e-86,
          3.2340440035204795e-87,
          1.9946780749463038e-88,
          1.2287951600368675e-89,
          7.560973881075979e-91,
          4.647067023849359e-92,
          2.8529495775089122e-93,
          1.7495802427942774e-94,
          1.0717871584198397e-95,
          6.55885636988776e-97,
          4.0096109708421e-98,
          2.448726355586291e-99,
          1.4940022075066197e-100,
          9.106342377497357e-102,
          5.545324706154961e-103
         ],
         "yaxis": "y"
        },
        {
         "legendgroup": "1",
         "line": {
          "color": "rgb(253,229,194)",
          "width": 5
         },
         "mode": "lines",
         "name": "25",
         "showlegend": true,
         "type": "scatter",
         "xaxis": "x",
         "y": [
          0,
          0,
          0,
          7.386794476397187e-13,
          1.139215473899457e-08,
          1.9591706675773286e-06,
          4.4113716746770146e-05,
          0.00030529711483344354,
          0.0010136815974575452,
          0.002150841818534558,
          0.00350506713375672,
          0.004888573697089822,
          0.006201390962064128,
          0.007405362765633728,
          0.008493341281009991,
          0.009471280448841999,
          0.01034956793352452,
          0.011138825100068153,
          0.011846561231193169,
          0.012468758464649782,
          0.012953866116602483,
          0.013039432597091744,
          0.01166619669351128,
          0.006983644633601915,
          0.002028519949367899,
          0.0003615843321532303,
          5.5031214161233346e-05,
          7.911303697566335e-06,
          1.0959484332766232e-06,
          1.470306888590926e-07,
          1.9151054833495575e-08,
          2.426626836061322e-09,
          2.9963914350919893e-10,
          3.611326287287099e-11,
          4.254350314694904e-12,
          4.905344890968922e-13,
          5.5424139108294054e-14,
          6.143303315720257e-15,
          6.686837423783424e-16,
          7.154236285941243e-17,
          7.530201113305663e-18,
          7.803688538624796e-19,
          7.968333291366628e-20,
          8.022517220406393e-21,
          7.969115933271295e-22,
          7.81497954344437e-23,
          7.570219635326275e-24,
          7.247380548624759e-25,
          6.860570586609671e-26,
          6.424619658443174e-27,
          5.954316414982072e-28,
          5.463762363691111e-29,
          4.9658647140129744e-30,
          4.471975338463482e-31,
          3.991671265609741e-32,
          3.532663089537683e-33,
          3.1008117053874803e-34,
          2.700230656646679e-35,
          2.3334506846043516e-36,
          2.0016242652985087e-37,
          1.7047504353905484e-38,
          1.441903510004733e-39,
          1.2114529223561469e-40,
          1.0112650039360271e-41,
          8.388808150778861e-43,
          6.916669656237682e-44,
          5.669386539625059e-45,
          4.620558853777609e-46,
          3.744950402899033e-47,
          3.0189871292499715e-48,
          2.4210711054733354e-49,
          1.9317437670063134e-50,
          1.5337305950687965e-51,
          1.2118965982668622e-52,
          9.531382426500425e-54,
          7.462334233511945e-55,
          5.8166701118206455e-56,
          4.5144569078000627e-57,
          3.489123866766828e-58,
          2.685676297505838e-59,
          2.0590277304906406e-60,
          1.572480077550059e-61,
          1.1963661651902597e-62,
          9.068577751025309e-64,
          6.849343742100103e-65,
          5.155024437540981e-66,
          3.866521529057817e-67,
          2.890365606698456e-68,
          2.153581377926851e-69,
          1.5994782140242604e-70,
          1.18422764966354e-71,
          8.741020572733269e-73,
          6.4326278088684664e-74,
          4.720003810090021e-75,
          3.4534352382194987e-76,
          2.519659475265458e-77,
          1.8333257794149287e-78,
          1.3303612598196685e-79,
          9.628437316990499e-81,
          6.950590221589643e-82,
          5.0048365916637744e-83
         ],
         "yaxis": "y"
        },
        {
         "legendgroup": "1",
         "line": {
          "color": "black",
          "dash": "dot",
          "width": 2
         },
         "mode": "lines",
         "name": "25",
         "showlegend": false,
         "type": "scatter",
         "xaxis": "x",
         "y": [
          0,
          0,
          0,
          3.7764859541754084e-13,
          8.017589066654072e-09,
          1.5962804222990562e-06,
          3.903399839344771e-05,
          0.0002840858998402087,
          0.0009723659128383002,
          0.002099677441876307,
          0.0034558666826392643,
          0.004847798445421647,
          0.006171148611569467,
          0.007385590072747194,
          0.008483133314657392,
          0.00946950764677781,
          0.01035512766247831,
          0.011150731795191321,
          0.011863971638772812,
          0.012490963731866998,
          0.012980140916768093,
          0.013067717495101914,
          0.011685658245030216,
          0.006971612599669076,
          0.0020107636291152578,
          0.0003560392170548527,
          5.387566756331686e-05,
          7.701737750175947e-06,
          1.0608252532964108e-06,
          1.4148531839436005e-07,
          1.8318164082960344e-08,
          2.3068399090808275e-09,
          2.8306183278982144e-10,
          3.3897267507729786e-11,
          3.967318153405099e-12,
          4.54415788724652e-13,
          5.099888388851986e-14,
          5.61439075727955e-15,
          6.069105381991896e-16,
          6.448187772622122e-17,
          6.739403651614708e-18,
          6.934703592998964e-19,
          7.030456133813841e-20,
          7.027354113355777e-21,
          6.930038081111951e-22,
          6.746500643780698e-23,
          6.487345887911903e-24,
          6.164979168310404e-25,
          5.792796215056902e-26,
          5.384428844569982e-27,
          4.953089862961937e-28,
          4.5110441455927434e-29,
          4.069218097543069e-30,
          3.63694698122036e-31,
          3.2218496622851904e-32,
          2.8298134349019237e-33,
          2.4650676343804285e-34,
          2.1303233629831768e-35,
          1.826957326039539e-36,
          1.5552199276199769e-37,
          1.3144508523069746e-38,
          1.1032888738014785e-39,
          9.198661893623223e-41,
          7.61980893732384e-42,
          6.27244090956788e-43,
          5.132004996145967e-44,
          4.174232097723825e-45,
          3.375845238317e-46,
          2.715056179380863e-47,
          2.1718817397595943e-48,
          1.7283123901643778e-49,
          1.368364514987311e-50,
          1.0780450511321742e-51,
          8.45253644097198e-53,
          6.596434987706665e-54,
          5.124581141167207e-55,
          3.9635733200276385e-56,
          3.052427601487792e-57,
          2.3408973056404574e-58,
          1.7879055344769539e-59,
          1.3601190750657458e-60,
          1.0306773006694233e-61,
          7.780787871503271e-63,
          5.85220690469176e-64,
          4.385808918405916e-65,
          3.275299396399399e-66,
          2.4375839621703763e-67,
          1.8080490401376675e-68,
          1.336707669641193e-69,
          9.850782146433162e-71,
          7.236763309244301e-72,
          5.300144362408806e-73,
          3.870169684596064e-74,
          2.8177317165677843e-75,
          2.045615642452936e-76,
          1.4809137170485568e-77,
          1.0691595642847458e-78,
          7.698165926838226e-80,
          5.528255880541875e-81,
          3.959757112736178e-82,
          2.829118951077702e-83
         ],
         "yaxis": "y"
        },
        {
         "legendgroup": "2",
         "line": {
          "color": "rgb(253,204,150)",
          "width": 5
         },
         "mode": "lines",
         "name": "40",
         "showlegend": true,
         "type": "scatter",
         "xaxis": "x",
         "y": [
          0,
          0,
          0,
          0,
          2.0679502987877814e-26,
          1.1719028728779501e-17,
          2.641876896277688e-13,
          1.9284897682914345e-10,
          2.0716239318749098e-08,
          6.380571934747183e-07,
          8.102695456943974e-06,
          5.309318450984936e-05,
          0.00020970755339426846,
          0.0005642613434805842,
          0.0011464193205832016,
          0.0019117662023074198,
          0.002784118627933798,
          0.003695857957076101,
          0.004601392913872779,
          0.005474649152028546,
          0.006302748358518346,
          0.007080706188378176,
          0.00780792454086307,
          0.008486061660698884,
          0.00911772524051428,
          0.009705448411348596,
          0.010250073437620395,
          0.01074590096946923,
          0.011162514849749472,
          0.011373974887240797,
          0.010912594284092319,
          0.008578237068805247,
          0.00418030973481614,
          0.0011596899344203065,
          0.00023932943753010932,
          4.4514472806057477e-05,
          7.894130040048975e-06,
          1.352383894626087e-06,
          2.2467377332711315e-07,
          3.626755599018455e-08,
          5.697271827110055e-09,
          8.721597886612234e-10,
          1.3027344127881446e-10,
          1.900888252458592e-11,
          2.7125170342880195e-12,
          3.7891810153247747e-13,
          5.186655896080328e-14,
          6.962800222716602e-15,
          9.17477378365701e-16,
          1.1875710963388145e-16,
          1.5111021363389068e-17,
          1.8914549012032158e-18,
          2.330486346532827e-19,
          2.828197496157095e-20,
          3.3824757931721255e-21,
          3.988933199455421e-22,
          4.6408589619334893e-23,
          5.329298027405225e-24,
          6.0432569591298445e-25,
          6.770029758915278e-26,
          7.49562711689668e-27,
          8.205285103344312e-28,
          8.884023821010106e-29,
          9.517223464791952e-30,
          1.0091184745517212e-30,
          1.0593642632525068e-31,
          1.1014206540335453e-32,
          1.1344705942809109e-33,
          1.1579427352112435e-34,
          1.1715236018636461e-35,
          1.175158298493003e-36,
          1.169040473156892e-37,
          1.1535928170456518e-38,
          1.1294397892770844e-39,
          1.09737452284449e-40,
          1.0583219819492772e-41,
          1.0133004163133235e-42,
          9.633830143103805e-44,
          9.096614197564001e-45,
          8.532124756564591e-46,
          7.950692209317766e-47,
          7.36196819825184e-48,
          6.774737712037428e-49,
          6.196784444172136e-50,
          5.634807325303005e-51,
          5.094384102028063e-52,
          4.579976350506724e-53,
          4.0949693674190334e-54,
          3.641739929616377e-55,
          3.2217448909052254e-56,
          2.835623910255759e-57,
          2.4833101955766343e-58,
          2.1641439177495307e-59,
          1.8769838241180592e-60,
          1.6203134923541124e-61,
          1.3923395599001459e-62,
          1.19108009909594e-63,
          1.0144420542003421e-64,
          8.602872957836028e-66,
          7.264873722274986e-67,
          6.109674472063323e-68
         ],
         "yaxis": "y"
        },
        {
         "legendgroup": "2",
         "line": {
          "color": "black",
          "dash": "dot",
          "width": 2
         },
         "mode": "lines",
         "name": "40",
         "showlegend": false,
         "type": "scatter",
         "xaxis": "x",
         "y": [
          0,
          0,
          0,
          0,
          7.394113789083317e-27,
          6.414748813371615e-18,
          1.773161164550785e-13,
          1.4603112377545961e-10,
          1.698128799570533e-08,
          5.528677784228662e-07,
          7.310769143868892e-06,
          4.937123121195662e-05,
          0.0001994339013308933,
          0.000545392589833525,
          0.0011205981751982311,
          0.0018828275577811358,
          0.0027556957101848396,
          0.003670357948325176,
          0.004580065495410342,
          0.0054579673898853655,
          0.006290741049222222,
          0.007073174315981745,
          0.007804566485529956,
          0.008486541216868884,
          0.009121706825520938,
          0.009712613918175069,
          0.010260126726912787,
          0.010758549804993304,
          0.011177348989210233,
          0.011389807929138848,
          0.01092455884597097,
          0.008572870661621,
          0.0041585430834038045,
          0.001147371445982536,
          0.00023578031224364836,
          4.369435731110629e-05,
          7.721025202180303e-06,
          1.3178992410804984e-06,
          2.1812042790697224e-07,
          3.507303738076781e-08,
          5.487633319561682e-09,
          8.36628205963795e-10,
          1.2444264358398832e-10,
          1.808042301732512e-11,
          2.568785010255148e-12,
          3.5724906997377245e-13,
          4.8680285061517954e-14,
          6.505205028980802e-15,
          8.532121469766499e-16,
          1.0992101105082264e-16,
          1.392036419997574e-17,
          1.7340675422022655e-18,
          2.126221864915441e-19,
          2.5676961020550984e-20,
          3.0557749981607525e-21,
          3.585734465939819e-22,
          4.150851975518666e-23,
          4.742530221998148e-24,
          5.350531587269657e-25,
          5.96331250889455e-26,
          6.56843936847617e-27,
          7.153061590008689e-28,
          7.704413782791783e-29,
          8.210317232325885e-30,
          8.65965185493595e-31,
          9.042772683923767e-32,
          9.351849660802023e-33,
          9.581115452279662e-34,
          9.72701262655694e-35,
          9.788238224430847e-36,
          9.765690028253893e-37,
          9.662324236559848e-38,
          9.482938487502317e-39,
          9.23389706614312e-40,
          8.922816634399547e-41,
          8.558231007806516e-42,
          8.149252531137627e-43,
          7.705245700030626e-44,
          7.235526097893311e-45,
          6.74909473481488e-46,
          6.254414742102518e-47,
          5.759234315080509e-48,
          5.2704569877261785e-49,
          4.794057896777933e-50,
          4.3350427320839054e-51,
          3.897444610259597e-52,
          3.4843531467475735e-53,
          3.0979695022241e-54,
          2.7396810854125017e-55,
          2.410149834135558e-56,
          2.109408492024202e-57,
          1.83695997216024e-58,
          1.5918756789051894e-59,
          1.372889482010953e-60,
          1.1784848505979715e-61,
          1.0069734183734318e-62,
          8.56563936909415e-64,
          7.25421163068336e-65,
          6.117147112887762e-66,
          5.136582806510768e-67,
          4.29539945554361e-68
         ],
         "yaxis": "y"
        },
        {
         "legendgroup": "3",
         "line": {
          "color": "rgb(252,167,113)",
          "width": 5
         },
         "mode": "lines",
         "name": "62",
         "showlegend": true,
         "type": "scatter",
         "xaxis": "x",
         "y": [
          0,
          0,
          0,
          0,
          0,
          0,
          0,
          1.5746665527333125e-37,
          5.077795172345525e-31,
          1.9266838667181097e-26,
          6.240601222371157e-23,
          4.025018379847389e-20,
          8.195846041909963e-18,
          7.000687158861182e-16,
          3.032465960703931e-14,
          7.615156342274958e-13,
          1.2232615937943745e-11,
          1.3544624372881784e-10,
          1.0957771374271684e-09,
          6.7850153389018575e-09,
          3.339060638858003e-08,
          1.34720844285692e-07,
          4.5733488801495863e-07,
          1.3350474308928407e-06,
          3.4140221160019634e-06,
          7.77024372672552e-06,
          1.5957548194277946e-05,
          2.992848482322995e-05,
          5.1811043031796465e-05,
          8.358549832177193e-05,
          0.00012675319526063357,
          0.0001820948256272832,
          0.0002495781115307855,
          0.00032841796485967394,
          0.0004172463189020586,
          0.0005143304119613343,
          0.0006177853517127601,
          0.0007257469604267147,
          0.0008364919380649769,
          0.0009485074867449787,
          0.0010605203432164686,
          0.0011714973003124247,
          0.0012806281543007233,
          0.0013872995409246731,
          0.0014910655085328922,
          0.0015916184769139607,
          0.0016887626018431761,
          0.0017823904660142452,
          0.0018724633331655143,
          0.0019589948134126397,
          0.002042037593566616,
          0.0021216728120939323,
          0.002198001653296289,
          0.0022711387662229594,
          0.0023412071605075644,
          0.0024083342819621032,
          0.00247264901896591,
          0.0025342794333079086,
          0.0025933510448787043,
          0.002649985528114967,
          0.0027042996994000893,
          0.0027564046887601167,
          0.002806405195956119,
          0.0028543987297979362,
          0.002900474718832174,
          0.0029447133591565724,
          0.0029871840273041988,
          0.0030279430273777415,
          0.0030670303537416303,
          0.0031044650218553464,
          0.003140238333710829,
          0.0031743041780350114,
          0.0032065650885668034,
          0.00323685225817432,
          0.0032648969895162556,
          0.0032902901178928404,
          0.003312424768485007,
          0.0033304165133127275,
          0.0033429939294804694,
          0.0033483526266551086,
          0.0033439689680066853,
          0.0033263797851731157,
          0.003290957982073443,
          0.0032317603184401637,
          0.003141600512289655,
          0.0030125989205591315,
          0.0028375206979811603,
          0.0026120921364432602,
          0.0023379835575833862,
          0.0020252661860645583,
          0.0016924899619517328,
          0.0013631832452371084,
          0.00105980322269236,
          0.0007981887094471256,
          0.000585195780094334,
          0.00041981281320247317,
          0.0002961061857290748,
          0.00020617186349100597,
          0.00014216308570923165,
          9.731207202055122e-05,
          6.624243042752413e-05
         ],
         "yaxis": "y"
        },
        {
         "legendgroup": "3",
         "line": {
          "color": "black",
          "dash": "dot",
          "width": 2
         },
         "mode": "lines",
         "name": "62",
         "showlegend": false,
         "type": "scatter",
         "xaxis": "x",
         "y": [
          0,
          0,
          0,
          0,
          0,
          0,
          0,
          4.94874591713123e-39,
          2.2368071028181158e-32,
          1.1103731518858538e-27,
          4.524603288185253e-24,
          3.57983346607402e-21,
          8.784137164294097e-19,
          8.920454334385898e-17,
          4.544077225653911e-15,
          1.3295535331517986e-13,
          2.4680392843646026e-12,
          3.1341786426368846e-11,
          2.8873461896352113e-10,
          2.0218111332026104e-09,
          1.117540382028405e-08,
          5.0300340921413494e-08,
          1.8919891332003343e-07,
          6.078398133046965e-07,
          1.6992145082415326e-06,
          4.199710398719782e-06,
          9.304756442880347e-06,
          1.8705503216885318e-05,
          3.44896705003046e-05,
          5.889412220428059e-05,
          9.396025470491797e-05,
          0.00014119037524539375,
          0.00020130573214221926,
          0.00027416485095279773,
          0.00035884078851976654,
          0.0004538092513356995,
          0.0005571823928440143,
          0.0006669322578851885,
          0.0007810698105996471,
          0.000897767524158732,
          0.0010154288998668016,
          0.0011327159413637815,
          0.0012485474447701589,
          0.0013620795307036,
          0.0014726771505582132,
          0.0015798825426644445,
          0.0016833843316650288,
          0.0017829892927976516,
          0.001878597683614889,
          0.001970182354397499,
          0.0020577714583424737,
          0.0021414343896049965,
          0.0022212705053093066,
          0.0022974001848997394,
          0.0023699578133468792,
          0.002439086323359441,
          0.0025049329840344664,
          0.0025676461728502535,
          0.002627372911344283,
          0.002684256980812629,
          0.0027384374624157375,
          0.002790047565996655,
          0.0028392136234518155,
          0.0028860541250183723,
          0.0029306786691095906,
          0.002973186676164825,
          0.003013665680961991,
          0.003052188960855934,
          0.003088812171917165,
          0.003123568540362689,
          0.0031564619786637067,
          0.003187457244275029,
          0.0032164659075540965,
          0.003243326415986227,
          0.0032677759088305647,
          0.003289410622958018,
          0.0033076307282150193,
          0.003321564352320818,
          0.0033299648290705084,
          0.003331075794979195,
          0.00332246246024091,
          0.003300817379575531,
          0.0032617707990294565,
          0.0031997768098823826,
          0.0031082125347714506,
          0.002979907651730467,
          0.002808362730211259,
          0.002589798029989743,
          0.002325750689234218,
          0.0020252197619968367,
          0.0017048184270580307,
          0.0013858874652193604,
          0.0010893050688312777,
          0.0008304703758012239,
          0.0006168400872713326,
          0.0004485309446963615,
          0.00032075139735900934,
          0.00022646828735691047,
          0.00015837300937159753,
          0.00010996218467499493,
          7.594117858473725e-05
         ],
         "yaxis": "y"
        },
        {
         "legendgroup": "4",
         "line": {
          "color": "rgb(244,117,79)",
          "width": 5
         },
         "mode": "lines",
         "name": "70",
         "showlegend": true,
         "type": "scatter",
         "xaxis": "x",
         "y": [
          0,
          0,
          0,
          0,
          0,
          0,
          0,
          1.836708007323095e-51,
          2.446318665022519e-40,
          6.202887787545913e-34,
          2.9638822641163494e-29,
          1.377947498650239e-25,
          1.326356020846397e-22,
          4.049739424962163e-20,
          5.136073217352413e-18,
          3.249638189641126e-16,
          1.1693501724340127e-14,
          2.6379360351831013e-13,
          4.019879172623318e-12,
          4.387895870026066e-11,
          3.5959749315197003e-10,
          2.2991346388014352e-09,
          1.1838970054103083e-08,
          5.0426396995963824e-08,
          1.817293605689477e-07,
          5.649604869272076e-07,
          1.5405370953074519e-06,
          3.738192568048729e-06,
          8.174696634106783e-06,
          1.629087187117104e-05,
          2.988157322230204e-05,
          5.0904399248605645e-05,
          8.120153933350843e-05,
          0.00012220875558718297,
          0.00017473337604224546,
          0.000238855790149378,
          0.0003139633310457294,
          0.00039888554351294063,
          0.0004920807957001714,
          0.0005918266519144206,
          0.0006963815548635705,
          0.0008041030285102325,
          0.0009135213929593235,
          0.0010233759073792542,
          0.0011326231762879768,
          0.001240427397222963,
          0.0013461402687749556,
          0.0014492762375878663,
          0.0015494868276453076,
          0.0016465362838753467,
          0.0017402796912020836,
          0.0018306440286247187,
          0.0019176121924037327,
          0.0020012097876623805,
          0.00208149437660087,
          0.002158546835814343,
          0.002232464482278778,
          0.0023033556564510545,
          0.0023713354887649613,
          0.002436522615106294,
          0.0024990366435244287,
          0.0025589962064358914,
          0.0026165174589942775,
          0.0026717129047951808,
          0.0027246904444787686,
          0.002775552550808937,
          0.00282439547484966,
          0.0028713083807947286,
          0.002916372289919383,
          0.002959658683984116,
          0.003001227570646779,
          0.0030411247412610353,
          0.003079377845057807,
          0.003115990749182124,
          0.003150935431934836,
          0.0031841403403925863,
          0.0032154736988612297,
          0.003244719639579143,
          0.003271544198305949,
          0.00329544714736313,
          0.0033156943592742567,
          0.0033312240941611,
          0.00334051983112782,
          0.0033414433128193064,
          0.0033310270578466032,
          0.0033052408255172896,
          0.003258779735820994,
          0.0031849834201450014,
          0.0030760902567708594,
          0.0029241331589892907,
          0.002722794125618817,
          0.002470251479693086,
          0.002172289594350959,
          0.0018439354380723647,
          0.001507681474460433,
          0.0011880396429808976,
          0.0009049281761099796,
          0.000669434617915648,
          0.0004835645599059746,
          0.00034284923647102846,
          0.00023965573698744099
         ],
         "yaxis": "y"
        },
        {
         "legendgroup": "4",
         "line": {
          "color": "white",
          "dash": "dot",
          "width": 2
         },
         "mode": "lines",
         "name": "70",
         "showlegend": false,
         "type": "scatter",
         "xaxis": "x",
         "y": [
          0,
          0,
          0,
          0,
          0,
          0,
          0,
          3.3119551885316217e-53,
          6.663532877938593e-42,
          2.2945972126644734e-35,
          1.409758996820945e-30,
          8.154896905584944e-27,
          9.555457643537398e-24,
          3.496247774780381e-21,
          5.25018989475014e-19,
          3.8953237004425986e-17,
          1.6303069174673057e-15,
          4.247061766871392e-14,
          7.425145389253021e-13,
          9.242038619646392e-12,
          8.58638002158085e-11,
          6.188116872547509e-10,
          3.57144971134353e-09,
          1.6953297903342048e-08,
          6.770172396846966e-08,
          2.318830727766874e-07,
          6.926127325692851e-07,
          1.8303734587817173e-06,
          4.334190643668173e-06,
          9.299166348222649e-06,
          1.825895761361768e-05,
          3.3106693175577374e-05,
          5.5891126998574204e-05,
          8.852475604569741e-05,
          0.00013248108215420265,
          0.00018856584712315043,
          0.0002568182308623331,
          0.0003365503833663451,
          0.00042649220861345566,
          0.000524988761922057,
          0.0006302005319982733,
          0.000740272920739687,
          0.0008534597709655955,
          0.0009682001547353105,
          0.0010831558251298535,
          0.0011972196948194533,
          0.0013095053728854173,
          0.0014193259210963341,
          0.0015261677449630718,
          0.0016296635158999748,
          0.0017295664493766627,
          0.0018257271524492653,
          0.0019180735262570921,
          0.002006593767101588,
          0.0020913222648904503,
          0.0021723280806549726,
          0.002249705645773996,
          0.0023235673308746947,
          0.0023940375605326024,
          0.002461248187581972,
          0.002525334880280351,
          0.0025864343124161453,
          0.002644681978447034,
          0.0027002104818032923,
          0.0027531481640158608,
          0.0028036179548904644,
          0.0028517363289235847,
          0.002897612249484675,
          0.002941345968213631,
          0.0029830275198470977,
          0.00302273470813981,
          0.0030605303106017337,
          0.0030964581297708753,
          0.0031305373745857848,
          0.0031627546503063485,
          0.0031930525470629137,
          0.0032213134185159046,
          0.0032473364023836316,
          0.003270805019212077,
          0.003291241769877477,
          0.0033079450741412765,
          0.0033199028631866233,
          0.003325676709853986,
          0.003323251710115746,
          0.0033098526846330593,
          0.003281740844424558,
          0.0032340336859467533,
          0.0031606428538818888,
          0.003054502895103788,
          0.0029083468593811565,
          0.0027162940659404547,
          0.0024762941331968077,
          0.0021928681252865105,
          0.001878756818160205,
          0.00155380102697993,
          0.0012405680783011696,
          0.0009585081209635941,
          0.000719655847413677,
          0.0005276782502820565,
          0.00037973479061422107,
          0.000269377176778652
         ],
         "yaxis": "y"
        },
        {
         "legendgroup": "5",
         "line": {
          "color": "rgb(221,63,42)",
          "width": 5
         },
         "mode": "lines",
         "name": "80",
         "showlegend": true,
         "type": "scatter",
         "xaxis": "x",
         "y": [
          0,
          0,
          0,
          0,
          0,
          0,
          0,
          0,
          1.7516209923098543e-57,
          7.753032359935988e-46,
          5.674997292463895e-39,
          6.989851753969252e-34,
          7.630867830668884e-30,
          1.5948537111802438e-26,
          9.889259964854168e-24,
          2.403756554562122e-21,
          2.7705218791562916e-19,
          1.736154164973142e-17,
          6.551293556609609e-16,
          1.6102607927849273e-14,
          2.742711291327705e-13,
          3.4024586558593687e-12,
          3.2019309153038965e-11,
          2.3643491841457205e-10,
          1.4093923792069688e-09,
          6.948114323456982e-09,
          2.8921850800500376e-08,
          1.0349163671288217e-07,
          3.233664103107669e-07,
          8.944245611845793e-07,
          2.2166270501384142e-06,
          4.9749550533695504e-06,
          1.0209119081755812e-05,
          1.9321556048896093e-05,
          3.399207102049467e-05,
          5.5996272846082e-05,
          8.696258906664382e-05,
          0.00012812988111231375,
          0.00018016953171764717,
          0.00024311196820422668,
          0.0003163816782250442,
          0.00039891445291036535,
          0.0004893164536184216,
          0.0005860268484333225,
          0.0006874575605868285,
          0.0007920975396865501,
          0.000898580015993566,
          0.0010057177980162969,
          0.0011125143445704507,
          0.0012181584178424202,
          0.001322008888834903,
          0.0014235746201752574,
          0.0015224927926996436,
          0.0016185077803316326,
          0.001711451752157238,
          0.001801227551170223,
          0.0018877939998029334,
          0.001971153547793529,
          0.002051342054324205,
          0.0021284204434145345,
          0.002202467961027005,
          0.0022735767753935842,
          0.00234184768665645,
          0.002407386740648671,
          0.0024703025701975877,
          0.0025307043133125026,
          0.0025886999797562235,
          0.002644395155143789,
          0.0026978919444561886,
          0.0027492880642855,
          0.00279867599460288,
          0.0028461420953021124,
          0.0028917655785077054,
          0.00293561720199219,
          0.002977757508023767,
          0.0030182343696684966,
          0.0030570795144522185,
          0.0030943035611255445,
          0.0031298889118744904,
          0.0031637795659875453,
          0.003195866530114469,
          0.003225966954846535,
          0.0032537943817293386,
          0.0032789164982897803,
          0.0033006955645663283,
          0.0033182052889637647,
          0.003330116741558976,
          0.0033345457999124045,
          0.0033288576439496538,
          0.003309434023867291,
          0.003271433748831416,
          0.003208627141064674,
          0.003113471963835606,
          0.0029777153240941085,
          0.0027938879804306747,
          0.0025579235694211523,
          0.0022725207881116954,
          0.0019497590478992125,
          0.0016107080065890416,
          0.0012808164092829985,
          0.0009828276709346352
         ],
         "yaxis": "y"
        },
        {
         "legendgroup": "5",
         "line": {
          "color": "white",
          "dash": "dot",
          "width": 2
         },
         "mode": "lines",
         "name": "80",
         "showlegend": false,
         "type": "scatter",
         "xaxis": "x",
         "y": [
          0,
          0,
          0,
          0,
          0,
          0,
          0,
          0,
          4.33230217227243e-59,
          2.7439485598303105e-47,
          2.6297573637429884e-40,
          4.0419963244917384e-35,
          5.345722367212015e-31,
          1.3267655573689854e-27,
          9.630678993608e-25,
          2.7107877749492345e-22,
          3.5871693270154355e-20,
          2.562675381328568e-18,
          1.0957845946819297e-16,
          3.0358046019760253e-15,
          5.800110670544966e-14,
          8.034705152170596e-13,
          8.407047332230428e-12,
          6.873566385942235e-11,
          4.517996105324401e-10,
          2.445829428674952e-09,
          1.1133096616012978e-08,
          4.337994727317416e-08,
          1.469650849495631e-07,
          4.3885699481974494e-07,
          1.1690808502197624e-06,
          2.8081307604365134e-06,
          6.140264708428125e-06,
          1.2328038805762844e-05,
          2.290607933047043e-05,
          3.967435511139764e-05,
          6.449351410342351e-05,
          9.902407913578779e-05,
          0.00014447700390632685,
          0.00020144092370216675,
          0.0002698232063662953,
          0.0003489035498465605,
          0.00043746869915143905,
          0.0005339846405924476,
          0.0006367670689152012,
          0.0007441243594450603,
          0.000854461857447903,
          0.0009663473495839859,
          0.0010785438408311906,
          0.0011900180254999571,
          0.0012999325882695459,
          0.0014076290220772535,
          0.0015126058871909086,
          0.0016144958273116873,
          0.0017130433843875405,
          0.0018080847337209492,
          0.00189952984316859,
          0.001987347172772023,
          0.0020715508063872813,
          0.002152189790421031,
          0.0022293394066316015,
          0.002303094098409874,
          0.0023735617847003396,
          0.0024408593211231117,
          0.0025051088968047397,
          0.0025664351837436463,
          0.0026249630808631466,
          0.0026808159159263695,
          0.002734113984412347,
          0.002784973314647718,
          0.0028335045522012866,
          0.0028798118526663875,
          0.0029239916587614394,
          0.0029661312125611695,
          0.003006306612752024,
          0.003044580164451806,
          0.0030809966773070346,
          0.003115578234954356,
          0.00314831676985535,
          0.0031791635111618464,
          0.003208014002990143,
          0.003234686883122321,
          0.003258893929812251,
          0.003280197997589686,
          0.003297954389095896,
          0.0033112300904192694,
          0.003318694535334739,
          0.003318476083271077,
          0.003307982135799228,
          0.0032836915462545807,
          0.003240952211684852,
          0.003173863606480931,
          0.0030754007954253734,
          0.0029380327900476416,
          0.0027551411660198095,
          0.002523399175981959,
          0.002245721468451773,
          0.0019334699169831046,
          0.0016060143973088367,
          0.001286670620819054,
          0.0009964954637131887
         ],
         "yaxis": "y"
        },
        {
         "legendgroup": "6",
         "line": {
          "color": "rgb(183,6,4)",
          "width": 5
         },
         "mode": "lines",
         "name": "99",
         "showlegend": true,
         "type": "scatter",
         "xaxis": "x",
         "y": [
          0,
          0,
          0,
          0,
          0,
          0,
          0,
          0,
          0,
          0,
          4.9025213755695293e-67,
          1.5237627808727507e-55,
          3.6796632117337405e-48,
          1.6329704973934226e-42,
          6.216941159674687e-38,
          4.264577096761299e-34,
          8.120187471539021e-31,
          5.676684638607136e-28,
          1.7684738922193839e-25,
          2.826528062967115e-23,
          2.577410901770946e-21,
          1.4560256253168725e-19,
          5.440111058803904e-18,
          1.4173351414572776e-16,
          2.689355379273139e-15,
          3.853680765438694e-14,
          4.2996799743603034e-13,
          3.834036161693921e-12,
          2.7944080761640943e-11,
          1.6974979290933688e-10,
          8.742392088548313e-10,
          3.875144974270037e-09,
          1.498217692198742e-08,
          5.112714506453699e-08,
          1.556448788550353e-07,
          4.267483949021776e-07,
          1.0629246860220053e-06,
          2.4239001037423696e-06,
          5.09678815508034e-06,
          9.94684045738918e-06,
          1.812646007069466e-05,
          3.1020592065507127e-05,
          5.012310367506607e-05,
          7.686227810063739e-05,
          0.00011241359216550144,
          0.00015754445941618537,
          0.00021252536705545122,
          0.0002771203588295127,
          0.00035064742099185216,
          0.0004320846676450057,
          0.000520194334555997,
          0.0006136412505576018,
          0.0007110911165782877,
          0.0008112825525944047,
          0.0009130732526181867,
          0.0010154642078452254,
          0.0011176073098430519,
          0.0012188015413880783,
          0.0013184821320821468,
          0.0014162060017901903,
          0.0015116358181030307,
          0.001604524175322048,
          0.001694698787806926,
          0.0017820491593715058,
          0.0018665149055526924,
          0.0019480757287568156,
          0.0020267429448498193,
          0.0021025524084334773,
          0.002175558664483845,
          0.002245830153485939,
          0.0023134453071670543,
          0.0023784893869012247,
          0.002441051933369164,
          0.0025012247119925645,
          0.002559100052732908,
          0.0026147694942385787,
          0.002668322650436202,
          0.0027198462218981107,
          0.0027694230739187505,
          0.002817131297100522,
          0.002863043152742262,
          0.0029072237819920514,
          0.0029497295209540185,
          0.0029906056084433147,
          0.003029882991221868,
          0.0030675738123694205,
          0.0031036649964353105,
          0.0031381090985260905,
          0.0031708112339735783,
          0.0032016104118392113,
          0.003230252911321909,
          0.0032563544134018574,
          0.0032793463929173274,
          0.0032984008112835334,
          0.003312325619648837,
          0.0033194225891767667,
          0.0033173000375033685,
          0.003302639467201664,
          0.0032709336750332625,
          0.003216256209956185,
          0.0031312037746093597
         ],
         "yaxis": "y"
        },
        {
         "legendgroup": "6",
         "line": {
          "color": "white",
          "dash": "dot",
          "width": 2
         },
         "mode": "lines",
         "name": "99",
         "showlegend": false,
         "type": "scatter",
         "xaxis": "x",
         "y": [
          0,
          0,
          0,
          0,
          0,
          0,
          0,
          0,
          0,
          0,
          1.4087893837796258e-68,
          5.843503275144657e-57,
          1.7700988509983695e-49,
          9.497909474316078e-44,
          4.2682638557193464e-39,
          3.398550762318353e-35,
          7.419724804325171e-32,
          5.891768068912099e-29,
          2.0694815844564814e-26,
          3.7069002694812224e-24,
          3.769184101148589e-22,
          2.3640760601349607e-20,
          9.769662723109453e-19,
          2.8057035978650076e-17,
          5.849989245994981e-16,
          9.184337705498484e-15,
          1.1195948567974233e-13,
          1.0878233639589368e-12,
          8.616144030391043e-12,
          5.672839044993991e-11,
          3.1581193349661367e-10,
          1.5090919432516395e-09,
          6.2723914605363e-09,
          2.2946581688242972e-08,
          7.467317219865964e-08,
          2.182224539334158e-07,
          5.776220950558257e-07,
          1.3956234252864074e-06,
          3.0998597934376042e-06,
          6.370594495294426e-06,
          1.218673819491455e-05,
          2.1822462694971125e-05,
          3.677390404513529e-05,
          5.8614905306266196e-05,
          8.880587533529282e-05,
          0.00012849900809460156,
          0.00017838647625107148,
          0.000238624148357814,
          0.000308839315234133,
          0.00038820810771426613,
          0.00047557502394943645,
          0.000569585174082109,
          0.0006688062431644459,
          0.0007718267640009953,
          0.000877326109164113,
          0.000984117735197007,
          0.0010911704268371715,
          0.0011976132698617108,
          0.0013027297124106505,
          0.0014059450888894037,
          0.0015068108537953314,
          0.001604987754992468,
          0.001700229363350578,
          0.0017923667781079406,
          0.0018812949152476079,
          0.0019669605181521508,
          0.0020493518661189414,
          0.0021284900642966316,
          0.0022044217535493313,
          0.0022772130630398985,
          0.002346944629883261,
          0.0024137075210740313,
          0.002477599907910019,
          0.00253872435909201,
          0.0025971856335763187,
          0.002653088866812548,
          0.0027065380533111824,
          0.0027576347337613947,
          0.002806476795263073,
          0.0028531572874500154,
          0.002897763143646141,
          0.0029403736722144903,
          0.002981058645305874,
          0.003019875755077748,
          0.003056867123707702,
          0.0030920544327103145,
          0.003125432064645817,
          0.003156957406359834,
          0.003186537120596829,
          0.0032140077174988187,
          0.003239108108288591,
          0.0032614409619418105,
          0.003280418598772033,
          0.003295187906486152,
          0.003304527608102564,
          0.0033067108302836127,
          0.0032993279058727413,
          0.00327907204890815,
          0.0032415103286955716,
          0.003180904597205784,
          0.003090223846196593
         ],
         "yaxis": "y"
        }
       ],
       "layout": {
        "annotations": [
         {
          "font": {
           "size": 16
          },
          "showarrow": false,
          "text": "Density",
          "x": 0.5,
          "xanchor": "center",
          "xref": "paper",
          "y": 1,
          "yanchor": "bottom",
          "yref": "paper"
         }
        ],
        "template": {
         "data": {
          "bar": [
           {
            "error_x": {
             "color": "#f2f5fa"
            },
            "error_y": {
             "color": "#f2f5fa"
            },
            "marker": {
             "line": {
              "color": "rgb(17,17,17)",
              "width": 0.5
             }
            },
            "type": "bar"
           }
          ],
          "barpolar": [
           {
            "marker": {
             "line": {
              "color": "rgb(17,17,17)",
              "width": 0.5
             }
            },
            "type": "barpolar"
           }
          ],
          "carpet": [
           {
            "aaxis": {
             "endlinecolor": "#A2B1C6",
             "gridcolor": "#506784",
             "linecolor": "#506784",
             "minorgridcolor": "#506784",
             "startlinecolor": "#A2B1C6"
            },
            "baxis": {
             "endlinecolor": "#A2B1C6",
             "gridcolor": "#506784",
             "linecolor": "#506784",
             "minorgridcolor": "#506784",
             "startlinecolor": "#A2B1C6"
            },
            "type": "carpet"
           }
          ],
          "choropleth": [
           {
            "colorbar": {
             "outlinewidth": 0,
             "ticks": ""
            },
            "type": "choropleth"
           }
          ],
          "contour": [
           {
            "colorbar": {
             "outlinewidth": 0,
             "ticks": ""
            },
            "colorscale": [
             [
              0,
              "#0d0887"
             ],
             [
              0.1111111111111111,
              "#46039f"
             ],
             [
              0.2222222222222222,
              "#7201a8"
             ],
             [
              0.3333333333333333,
              "#9c179e"
             ],
             [
              0.4444444444444444,
              "#bd3786"
             ],
             [
              0.5555555555555556,
              "#d8576b"
             ],
             [
              0.6666666666666666,
              "#ed7953"
             ],
             [
              0.7777777777777778,
              "#fb9f3a"
             ],
             [
              0.8888888888888888,
              "#fdca26"
             ],
             [
              1,
              "#f0f921"
             ]
            ],
            "type": "contour"
           }
          ],
          "contourcarpet": [
           {
            "colorbar": {
             "outlinewidth": 0,
             "ticks": ""
            },
            "type": "contourcarpet"
           }
          ],
          "heatmap": [
           {
            "colorbar": {
             "outlinewidth": 0,
             "ticks": ""
            },
            "colorscale": [
             [
              0,
              "#0d0887"
             ],
             [
              0.1111111111111111,
              "#46039f"
             ],
             [
              0.2222222222222222,
              "#7201a8"
             ],
             [
              0.3333333333333333,
              "#9c179e"
             ],
             [
              0.4444444444444444,
              "#bd3786"
             ],
             [
              0.5555555555555556,
              "#d8576b"
             ],
             [
              0.6666666666666666,
              "#ed7953"
             ],
             [
              0.7777777777777778,
              "#fb9f3a"
             ],
             [
              0.8888888888888888,
              "#fdca26"
             ],
             [
              1,
              "#f0f921"
             ]
            ],
            "type": "heatmap"
           }
          ],
          "heatmapgl": [
           {
            "colorbar": {
             "outlinewidth": 0,
             "ticks": ""
            },
            "colorscale": [
             [
              0,
              "#0d0887"
             ],
             [
              0.1111111111111111,
              "#46039f"
             ],
             [
              0.2222222222222222,
              "#7201a8"
             ],
             [
              0.3333333333333333,
              "#9c179e"
             ],
             [
              0.4444444444444444,
              "#bd3786"
             ],
             [
              0.5555555555555556,
              "#d8576b"
             ],
             [
              0.6666666666666666,
              "#ed7953"
             ],
             [
              0.7777777777777778,
              "#fb9f3a"
             ],
             [
              0.8888888888888888,
              "#fdca26"
             ],
             [
              1,
              "#f0f921"
             ]
            ],
            "type": "heatmapgl"
           }
          ],
          "histogram": [
           {
            "marker": {
             "colorbar": {
              "outlinewidth": 0,
              "ticks": ""
             }
            },
            "type": "histogram"
           }
          ],
          "histogram2d": [
           {
            "colorbar": {
             "outlinewidth": 0,
             "ticks": ""
            },
            "colorscale": [
             [
              0,
              "#0d0887"
             ],
             [
              0.1111111111111111,
              "#46039f"
             ],
             [
              0.2222222222222222,
              "#7201a8"
             ],
             [
              0.3333333333333333,
              "#9c179e"
             ],
             [
              0.4444444444444444,
              "#bd3786"
             ],
             [
              0.5555555555555556,
              "#d8576b"
             ],
             [
              0.6666666666666666,
              "#ed7953"
             ],
             [
              0.7777777777777778,
              "#fb9f3a"
             ],
             [
              0.8888888888888888,
              "#fdca26"
             ],
             [
              1,
              "#f0f921"
             ]
            ],
            "type": "histogram2d"
           }
          ],
          "histogram2dcontour": [
           {
            "colorbar": {
             "outlinewidth": 0,
             "ticks": ""
            },
            "colorscale": [
             [
              0,
              "#0d0887"
             ],
             [
              0.1111111111111111,
              "#46039f"
             ],
             [
              0.2222222222222222,
              "#7201a8"
             ],
             [
              0.3333333333333333,
              "#9c179e"
             ],
             [
              0.4444444444444444,
              "#bd3786"
             ],
             [
              0.5555555555555556,
              "#d8576b"
             ],
             [
              0.6666666666666666,
              "#ed7953"
             ],
             [
              0.7777777777777778,
              "#fb9f3a"
             ],
             [
              0.8888888888888888,
              "#fdca26"
             ],
             [
              1,
              "#f0f921"
             ]
            ],
            "type": "histogram2dcontour"
           }
          ],
          "mesh3d": [
           {
            "colorbar": {
             "outlinewidth": 0,
             "ticks": ""
            },
            "type": "mesh3d"
           }
          ],
          "parcoords": [
           {
            "line": {
             "colorbar": {
              "outlinewidth": 0,
              "ticks": ""
             }
            },
            "type": "parcoords"
           }
          ],
          "pie": [
           {
            "automargin": true,
            "type": "pie"
           }
          ],
          "scatter": [
           {
            "marker": {
             "line": {
              "color": "#283442"
             }
            },
            "type": "scatter"
           }
          ],
          "scatter3d": [
           {
            "line": {
             "colorbar": {
              "outlinewidth": 0,
              "ticks": ""
             }
            },
            "marker": {
             "colorbar": {
              "outlinewidth": 0,
              "ticks": ""
             }
            },
            "type": "scatter3d"
           }
          ],
          "scattercarpet": [
           {
            "marker": {
             "colorbar": {
              "outlinewidth": 0,
              "ticks": ""
             }
            },
            "type": "scattercarpet"
           }
          ],
          "scattergeo": [
           {
            "marker": {
             "colorbar": {
              "outlinewidth": 0,
              "ticks": ""
             }
            },
            "type": "scattergeo"
           }
          ],
          "scattergl": [
           {
            "marker": {
             "line": {
              "color": "#283442"
             }
            },
            "type": "scattergl"
           }
          ],
          "scattermapbox": [
           {
            "marker": {
             "colorbar": {
              "outlinewidth": 0,
              "ticks": ""
             }
            },
            "type": "scattermapbox"
           }
          ],
          "scatterpolar": [
           {
            "marker": {
             "colorbar": {
              "outlinewidth": 0,
              "ticks": ""
             }
            },
            "type": "scatterpolar"
           }
          ],
          "scatterpolargl": [
           {
            "marker": {
             "colorbar": {
              "outlinewidth": 0,
              "ticks": ""
             }
            },
            "type": "scatterpolargl"
           }
          ],
          "scatterternary": [
           {
            "marker": {
             "colorbar": {
              "outlinewidth": 0,
              "ticks": ""
             }
            },
            "type": "scatterternary"
           }
          ],
          "surface": [
           {
            "colorbar": {
             "outlinewidth": 0,
             "ticks": ""
            },
            "colorscale": [
             [
              0,
              "#0d0887"
             ],
             [
              0.1111111111111111,
              "#46039f"
             ],
             [
              0.2222222222222222,
              "#7201a8"
             ],
             [
              0.3333333333333333,
              "#9c179e"
             ],
             [
              0.4444444444444444,
              "#bd3786"
             ],
             [
              0.5555555555555556,
              "#d8576b"
             ],
             [
              0.6666666666666666,
              "#ed7953"
             ],
             [
              0.7777777777777778,
              "#fb9f3a"
             ],
             [
              0.8888888888888888,
              "#fdca26"
             ],
             [
              1,
              "#f0f921"
             ]
            ],
            "type": "surface"
           }
          ],
          "table": [
           {
            "cells": {
             "fill": {
              "color": "#506784"
             },
             "line": {
              "color": "rgb(17,17,17)"
             }
            },
            "header": {
             "fill": {
              "color": "#2a3f5f"
             },
             "line": {
              "color": "rgb(17,17,17)"
             }
            },
            "type": "table"
           }
          ]
         },
         "layout": {
          "annotationdefaults": {
           "arrowcolor": "#f2f5fa",
           "arrowhead": 0,
           "arrowwidth": 1
          },
          "autotypenumbers": "strict",
          "coloraxis": {
           "colorbar": {
            "outlinewidth": 0,
            "ticks": ""
           }
          },
          "colorscale": {
           "diverging": [
            [
             0,
             "#8e0152"
            ],
            [
             0.1,
             "#c51b7d"
            ],
            [
             0.2,
             "#de77ae"
            ],
            [
             0.3,
             "#f1b6da"
            ],
            [
             0.4,
             "#fde0ef"
            ],
            [
             0.5,
             "#f7f7f7"
            ],
            [
             0.6,
             "#e6f5d0"
            ],
            [
             0.7,
             "#b8e186"
            ],
            [
             0.8,
             "#7fbc41"
            ],
            [
             0.9,
             "#4d9221"
            ],
            [
             1,
             "#276419"
            ]
           ],
           "sequential": [
            [
             0,
             "#0d0887"
            ],
            [
             0.1111111111111111,
             "#46039f"
            ],
            [
             0.2222222222222222,
             "#7201a8"
            ],
            [
             0.3333333333333333,
             "#9c179e"
            ],
            [
             0.4444444444444444,
             "#bd3786"
            ],
            [
             0.5555555555555556,
             "#d8576b"
            ],
            [
             0.6666666666666666,
             "#ed7953"
            ],
            [
             0.7777777777777778,
             "#fb9f3a"
            ],
            [
             0.8888888888888888,
             "#fdca26"
            ],
            [
             1,
             "#f0f921"
            ]
           ],
           "sequentialminus": [
            [
             0,
             "#0d0887"
            ],
            [
             0.1111111111111111,
             "#46039f"
            ],
            [
             0.2222222222222222,
             "#7201a8"
            ],
            [
             0.3333333333333333,
             "#9c179e"
            ],
            [
             0.4444444444444444,
             "#bd3786"
            ],
            [
             0.5555555555555556,
             "#d8576b"
            ],
            [
             0.6666666666666666,
             "#ed7953"
            ],
            [
             0.7777777777777778,
             "#fb9f3a"
            ],
            [
             0.8888888888888888,
             "#fdca26"
            ],
            [
             1,
             "#f0f921"
            ]
           ]
          },
          "colorway": [
           "#636efa",
           "#EF553B",
           "#00cc96",
           "#ab63fa",
           "#FFA15A",
           "#19d3f3",
           "#FF6692",
           "#B6E880",
           "#FF97FF",
           "#FECB52"
          ],
          "font": {
           "color": "#f2f5fa"
          },
          "geo": {
           "bgcolor": "rgb(17,17,17)",
           "lakecolor": "rgb(17,17,17)",
           "landcolor": "rgb(17,17,17)",
           "showlakes": true,
           "showland": true,
           "subunitcolor": "#506784"
          },
          "hoverlabel": {
           "align": "left"
          },
          "hovermode": "closest",
          "mapbox": {
           "style": "dark"
          },
          "paper_bgcolor": "rgb(17,17,17)",
          "plot_bgcolor": "rgb(17,17,17)",
          "polar": {
           "angularaxis": {
            "gridcolor": "#506784",
            "linecolor": "#506784",
            "ticks": ""
           },
           "bgcolor": "rgb(17,17,17)",
           "radialaxis": {
            "gridcolor": "#506784",
            "linecolor": "#506784",
            "ticks": ""
           }
          },
          "scene": {
           "xaxis": {
            "backgroundcolor": "rgb(17,17,17)",
            "gridcolor": "#506784",
            "gridwidth": 2,
            "linecolor": "#506784",
            "showbackground": true,
            "ticks": "",
            "zerolinecolor": "#C8D4E3"
           },
           "yaxis": {
            "backgroundcolor": "rgb(17,17,17)",
            "gridcolor": "#506784",
            "gridwidth": 2,
            "linecolor": "#506784",
            "showbackground": true,
            "ticks": "",
            "zerolinecolor": "#C8D4E3"
           },
           "zaxis": {
            "backgroundcolor": "rgb(17,17,17)",
            "gridcolor": "#506784",
            "gridwidth": 2,
            "linecolor": "#506784",
            "showbackground": true,
            "ticks": "",
            "zerolinecolor": "#C8D4E3"
           }
          },
          "shapedefaults": {
           "line": {
            "color": "#f2f5fa"
           }
          },
          "sliderdefaults": {
           "bgcolor": "#C8D4E3",
           "bordercolor": "rgb(17,17,17)",
           "borderwidth": 1,
           "tickwidth": 0
          },
          "ternary": {
           "aaxis": {
            "gridcolor": "#506784",
            "linecolor": "#506784",
            "ticks": ""
           },
           "baxis": {
            "gridcolor": "#506784",
            "linecolor": "#506784",
            "ticks": ""
           },
           "bgcolor": "rgb(17,17,17)",
           "caxis": {
            "gridcolor": "#506784",
            "linecolor": "#506784",
            "ticks": ""
           }
          },
          "title": {
           "x": 0.05
          },
          "updatemenudefaults": {
           "bgcolor": "#506784",
           "borderwidth": 0
          },
          "xaxis": {
           "automargin": true,
           "gridcolor": "#283442",
           "linecolor": "#506784",
           "ticks": "",
           "title": {
            "standoff": 15
           },
           "zerolinecolor": "#283442",
           "zerolinewidth": 2
          },
          "yaxis": {
           "automargin": true,
           "gridcolor": "#283442",
           "linecolor": "#506784",
           "ticks": "",
           "title": {
            "standoff": 15
           },
           "zerolinecolor": "#283442",
           "zerolinewidth": 2
          }
         }
        },
        "xaxis": {
         "anchor": "y",
         "domain": [
          0,
          1
         ]
        },
        "yaxis": {
         "anchor": "x",
         "domain": [
          0,
          1
         ]
        }
       }
      },
      "text/html": [
       "<div>                            <div id=\"d1a0f672-e392-46e7-8671-fb87d9fc4104\" class=\"plotly-graph-div\" style=\"height:525px; width:100%;\"></div>            <script type=\"text/javascript\">                require([\"plotly\"], function(Plotly) {                    window.PLOTLYENV=window.PLOTLYENV || {};                                    if (document.getElementById(\"d1a0f672-e392-46e7-8671-fb87d9fc4104\")) {                    Plotly.newPlot(                        \"d1a0f672-e392-46e7-8671-fb87d9fc4104\",                        [{\"legendgroup\": \"0\", \"line\": {\"color\": \"rgb(255,247,236)\", \"width\": 5}, \"mode\": \"lines\", \"name\": \"10\", \"showlegend\": true, \"type\": \"scatter\", \"xaxis\": \"x\", \"y\": [0.0, 2.3841854357442864e-08, 0.00023201446917930365, 0.0022587533457049825, 0.005422972410762605, 0.008275821199993481, 0.010540993340562745, 0.012313181043659908, 0.013716886993051588, 0.014846116046466044, 0.015752894528917954, 0.01638924460219918, 0.016221774844225708, 0.01269364706591877, 0.004487725472517937, 0.0006443583316643449, 6.855033859586607e-05, 6.80166575576596e-06, 6.516440884301527e-07, 6.067525642183496e-08, 5.507547149303738e-09, 4.885366306111061e-10, 4.2435200737246925e-11, 3.6160020162670987e-12, 3.027554416092304e-13, 2.4941536915490827e-14, 2.024235250305697e-15, 1.6202617569113508e-16, 1.280339699470586e-17, 9.996932573296942e-19, 7.718936880346707e-20, 5.89809559446882e-21, 4.462877395299015e-22, 3.3460040859231987e-23, 2.487042059940446e-24, 1.8335871171856435e-25, 1.3414681011627843e-26, 9.743210778911893e-28, 7.028051987545307e-29, 5.036562095072166e-30, 3.5870990431585005e-31, 2.5397768185313306e-32, 1.7881925700487063e-33, 1.2523174875867966e-34, 8.72575568233355e-36, 6.050342251354911e-37, 4.175787803843002e-38, 2.8692328151424038e-39, 1.9631064627487647e-40, 1.337671189173662e-41, 9.07934394979942e-43, 6.139414818009521e-44, 4.1364786946175246e-45, 2.7773214571300042e-46, 1.8585314359404007e-47, 1.2396977263680647e-48, 8.243557063239641e-50, 5.465306949336486e-51, 3.612943195876212e-52, 2.3817579771872148e-53, 1.5659039164182333e-54, 1.0268395852127103e-55, 6.716564941609535e-57, 4.3826246941983874e-58, 2.8529715469198363e-59, 1.852971633626983e-60, 1.2008226546589828e-61, 7.765277097919112e-63, 5.011075350578996e-64, 3.2272118593474248e-65, 2.0743025845055582e-66, 1.3307278791344669e-67, 8.521230524322642e-69, 5.446703157365103e-70, 3.4754011034447042e-71, 2.2137910471324474e-72, 1.4078247235153618e-73, 8.938401121700763e-75, 5.666157799400154e-76, 3.586349745031592e-77, 2.266567591442053e-78, 1.4303853174270623e-79, 9.014080206256101e-81, 5.672687969528929e-82, 3.5650861317551825e-83, 2.2375813941759395e-84, 1.4025839857511104e-85, 8.780781887313355e-87, 5.490405145027031e-88, 3.428898781663652e-89, 2.13892607381117e-90, 1.3327205535072375e-91, 8.294603428451617e-93, 5.15674917629578e-94, 3.20251028884888e-95, 1.9867772119203588e-96, 1.2312934440322455e-97, 7.623195763139123e-99, 4.715033082294311e-100, 2.9134888596485944e-101, 1.7985869504412407e-102], \"yaxis\": \"y\"}, {\"legendgroup\": \"0\", \"line\": {\"color\": \"black\", \"dash\": \"dot\", \"width\": 2}, \"mode\": \"lines\", \"name\": \"10\", \"showlegend\": false, \"type\": \"scatter\", \"xaxis\": \"x\", \"y\": [0.0, 8.28595095667336e-09, 0.00018715763509817126, 0.0021108386216028533, 0.005290649312788097, 0.008196816193382455, 0.010507878386114503, 0.012313874736566229, 0.01374204149944011, 0.014889212530385885, 0.015809488363557347, 0.016456176934676773, 0.01629230879613482, 0.01272425020075927, 0.00444907919780199, 0.000629215444784794, 6.608364296274717e-05, 6.476630026250405e-06, 6.128383814751167e-07, 5.634706377122645e-08, 5.04979343583933e-09, 4.421922586237267e-10, 3.791326677907962e-11, 3.188632427618948e-12, 2.634781571297415e-13, 2.1420210397134767e-14, 1.7154752607435184e-15, 1.35490893441226e-16, 1.0564110236240758e-17, 8.138436837532776e-19, 6.199890397670051e-20, 4.6738860236790775e-21, 3.489072883341579e-22, 2.580718276565205e-23, 1.8923771135683898e-24, 1.3763499832385152e-25, 9.93353106649734e-27, 7.117300651114494e-28, 5.064454590568027e-29, 3.5802353994602105e-30, 2.5153366343131794e-31, 1.7567898069474529e-32, 1.2201313440675989e-33, 8.428915650298205e-35, 5.793253316830815e-36, 3.962407691126994e-37, 2.697585304183257e-38, 1.8283450041366962e-39, 1.233928715309812e-40, 8.293692150272569e-42, 5.552696898638671e-43, 3.7036184991843375e-44, 2.461380653763919e-45, 1.6301289453207866e-46, 1.0760012102593706e-47, 7.07953980992915e-49, 4.643545332981086e-50, 3.0366515330972044e-51, 1.9800972585387577e-52, 1.2875607276602128e-53, 8.349869723825915e-55, 5.400842984564216e-56, 3.4845801355170435e-57, 2.2427548292194765e-58, 1.4400888529671562e-59, 9.225821556196416e-61, 5.897388443475226e-62, 3.761686506824377e-63, 2.3944269663233676e-64, 1.5210498216770916e-65, 9.643477918621877e-67, 6.1023457445750725e-68, 3.8543950760499906e-69, 2.430157360706557e-70, 1.5295118499058362e-71, 9.61019573230724e-73, 6.028265722822176e-74, 3.7753077163920713e-75, 2.3606436927233367e-76, 1.4738193101583137e-77, 9.187782143477095e-79, 5.719342093238526e-80, 3.5552167764458805e-81, 2.206916190215331e-82, 1.3681064886106055e-83, 8.469978686448306e-85, 5.2370489521455406e-86, 3.2340440035204795e-87, 1.9946780749463038e-88, 1.2287951600368675e-89, 7.560973881075979e-91, 4.647067023849359e-92, 2.8529495775089122e-93, 1.7495802427942774e-94, 1.0717871584198397e-95, 6.55885636988776e-97, 4.0096109708421e-98, 2.448726355586291e-99, 1.4940022075066197e-100, 9.106342377497357e-102, 5.545324706154961e-103], \"yaxis\": \"y\"}, {\"legendgroup\": \"1\", \"line\": {\"color\": \"rgb(253,229,194)\", \"width\": 5}, \"mode\": \"lines\", \"name\": \"25\", \"showlegend\": true, \"type\": \"scatter\", \"xaxis\": \"x\", \"y\": [0.0, 0.0, 0.0, 7.386794476397187e-13, 1.139215473899457e-08, 1.9591706675773286e-06, 4.4113716746770146e-05, 0.00030529711483344354, 0.0010136815974575452, 0.002150841818534558, 0.00350506713375672, 0.004888573697089822, 0.006201390962064128, 0.007405362765633728, 0.008493341281009991, 0.009471280448841999, 0.01034956793352452, 0.011138825100068153, 0.011846561231193169, 0.012468758464649782, 0.012953866116602483, 0.013039432597091744, 0.01166619669351128, 0.006983644633601915, 0.002028519949367899, 0.0003615843321532303, 5.5031214161233346e-05, 7.911303697566335e-06, 1.0959484332766232e-06, 1.470306888590926e-07, 1.9151054833495575e-08, 2.426626836061322e-09, 2.9963914350919893e-10, 3.611326287287099e-11, 4.254350314694904e-12, 4.905344890968922e-13, 5.5424139108294054e-14, 6.143303315720257e-15, 6.686837423783424e-16, 7.154236285941243e-17, 7.530201113305663e-18, 7.803688538624796e-19, 7.968333291366628e-20, 8.022517220406393e-21, 7.969115933271295e-22, 7.81497954344437e-23, 7.570219635326275e-24, 7.247380548624759e-25, 6.860570586609671e-26, 6.424619658443174e-27, 5.954316414982072e-28, 5.463762363691111e-29, 4.9658647140129744e-30, 4.471975338463482e-31, 3.991671265609741e-32, 3.532663089537683e-33, 3.1008117053874803e-34, 2.700230656646679e-35, 2.3334506846043516e-36, 2.0016242652985087e-37, 1.7047504353905484e-38, 1.441903510004733e-39, 1.2114529223561469e-40, 1.0112650039360271e-41, 8.388808150778861e-43, 6.916669656237682e-44, 5.669386539625059e-45, 4.620558853777609e-46, 3.744950402899033e-47, 3.0189871292499715e-48, 2.4210711054733354e-49, 1.9317437670063134e-50, 1.5337305950687965e-51, 1.2118965982668622e-52, 9.531382426500425e-54, 7.462334233511945e-55, 5.8166701118206455e-56, 4.5144569078000627e-57, 3.489123866766828e-58, 2.685676297505838e-59, 2.0590277304906406e-60, 1.572480077550059e-61, 1.1963661651902597e-62, 9.068577751025309e-64, 6.849343742100103e-65, 5.155024437540981e-66, 3.866521529057817e-67, 2.890365606698456e-68, 2.153581377926851e-69, 1.5994782140242604e-70, 1.18422764966354e-71, 8.741020572733269e-73, 6.4326278088684664e-74, 4.720003810090021e-75, 3.4534352382194987e-76, 2.519659475265458e-77, 1.8333257794149287e-78, 1.3303612598196685e-79, 9.628437316990499e-81, 6.950590221589643e-82, 5.0048365916637744e-83], \"yaxis\": \"y\"}, {\"legendgroup\": \"1\", \"line\": {\"color\": \"black\", \"dash\": \"dot\", \"width\": 2}, \"mode\": \"lines\", \"name\": \"25\", \"showlegend\": false, \"type\": \"scatter\", \"xaxis\": \"x\", \"y\": [0.0, 0.0, 0.0, 3.7764859541754084e-13, 8.017589066654072e-09, 1.5962804222990562e-06, 3.903399839344771e-05, 0.0002840858998402087, 0.0009723659128383002, 0.002099677441876307, 0.0034558666826392643, 0.004847798445421647, 0.006171148611569467, 0.007385590072747194, 0.008483133314657392, 0.00946950764677781, 0.01035512766247831, 0.011150731795191321, 0.011863971638772812, 0.012490963731866998, 0.012980140916768093, 0.013067717495101914, 0.011685658245030216, 0.006971612599669076, 0.0020107636291152578, 0.0003560392170548527, 5.387566756331686e-05, 7.701737750175947e-06, 1.0608252532964108e-06, 1.4148531839436005e-07, 1.8318164082960344e-08, 2.3068399090808275e-09, 2.8306183278982144e-10, 3.3897267507729786e-11, 3.967318153405099e-12, 4.54415788724652e-13, 5.099888388851986e-14, 5.61439075727955e-15, 6.069105381991896e-16, 6.448187772622122e-17, 6.739403651614708e-18, 6.934703592998964e-19, 7.030456133813841e-20, 7.027354113355777e-21, 6.930038081111951e-22, 6.746500643780698e-23, 6.487345887911903e-24, 6.164979168310404e-25, 5.792796215056902e-26, 5.384428844569982e-27, 4.953089862961937e-28, 4.5110441455927434e-29, 4.069218097543069e-30, 3.63694698122036e-31, 3.2218496622851904e-32, 2.8298134349019237e-33, 2.4650676343804285e-34, 2.1303233629831768e-35, 1.826957326039539e-36, 1.5552199276199769e-37, 1.3144508523069746e-38, 1.1032888738014785e-39, 9.198661893623223e-41, 7.61980893732384e-42, 6.27244090956788e-43, 5.132004996145967e-44, 4.174232097723825e-45, 3.375845238317e-46, 2.715056179380863e-47, 2.1718817397595943e-48, 1.7283123901643778e-49, 1.368364514987311e-50, 1.0780450511321742e-51, 8.45253644097198e-53, 6.596434987706665e-54, 5.124581141167207e-55, 3.9635733200276385e-56, 3.052427601487792e-57, 2.3408973056404574e-58, 1.7879055344769539e-59, 1.3601190750657458e-60, 1.0306773006694233e-61, 7.780787871503271e-63, 5.85220690469176e-64, 4.385808918405916e-65, 3.275299396399399e-66, 2.4375839621703763e-67, 1.8080490401376675e-68, 1.336707669641193e-69, 9.850782146433162e-71, 7.236763309244301e-72, 5.300144362408806e-73, 3.870169684596064e-74, 2.8177317165677843e-75, 2.045615642452936e-76, 1.4809137170485568e-77, 1.0691595642847458e-78, 7.698165926838226e-80, 5.528255880541875e-81, 3.959757112736178e-82, 2.829118951077702e-83], \"yaxis\": \"y\"}, {\"legendgroup\": \"2\", \"line\": {\"color\": \"rgb(253,204,150)\", \"width\": 5}, \"mode\": \"lines\", \"name\": \"40\", \"showlegend\": true, \"type\": \"scatter\", \"xaxis\": \"x\", \"y\": [0.0, 0.0, 0.0, 0.0, 2.0679502987877814e-26, 1.1719028728779501e-17, 2.641876896277688e-13, 1.9284897682914345e-10, 2.0716239318749098e-08, 6.380571934747183e-07, 8.102695456943974e-06, 5.309318450984936e-05, 0.00020970755339426846, 0.0005642613434805842, 0.0011464193205832016, 0.0019117662023074198, 0.002784118627933798, 0.003695857957076101, 0.004601392913872779, 0.005474649152028546, 0.006302748358518346, 0.007080706188378176, 0.00780792454086307, 0.008486061660698884, 0.00911772524051428, 0.009705448411348596, 0.010250073437620395, 0.01074590096946923, 0.011162514849749472, 0.011373974887240797, 0.010912594284092319, 0.008578237068805247, 0.00418030973481614, 0.0011596899344203065, 0.00023932943753010932, 4.4514472806057477e-05, 7.894130040048975e-06, 1.352383894626087e-06, 2.2467377332711315e-07, 3.626755599018455e-08, 5.697271827110055e-09, 8.721597886612234e-10, 1.3027344127881446e-10, 1.900888252458592e-11, 2.7125170342880195e-12, 3.7891810153247747e-13, 5.186655896080328e-14, 6.962800222716602e-15, 9.17477378365701e-16, 1.1875710963388145e-16, 1.5111021363389068e-17, 1.8914549012032158e-18, 2.330486346532827e-19, 2.828197496157095e-20, 3.3824757931721255e-21, 3.988933199455421e-22, 4.6408589619334893e-23, 5.329298027405225e-24, 6.0432569591298445e-25, 6.770029758915278e-26, 7.49562711689668e-27, 8.205285103344312e-28, 8.884023821010106e-29, 9.517223464791952e-30, 1.0091184745517212e-30, 1.0593642632525068e-31, 1.1014206540335453e-32, 1.1344705942809109e-33, 1.1579427352112435e-34, 1.1715236018636461e-35, 1.175158298493003e-36, 1.169040473156892e-37, 1.1535928170456518e-38, 1.1294397892770844e-39, 1.09737452284449e-40, 1.0583219819492772e-41, 1.0133004163133235e-42, 9.633830143103805e-44, 9.096614197564001e-45, 8.532124756564591e-46, 7.950692209317766e-47, 7.36196819825184e-48, 6.774737712037428e-49, 6.196784444172136e-50, 5.634807325303005e-51, 5.094384102028063e-52, 4.579976350506724e-53, 4.0949693674190334e-54, 3.641739929616377e-55, 3.2217448909052254e-56, 2.835623910255759e-57, 2.4833101955766343e-58, 2.1641439177495307e-59, 1.8769838241180592e-60, 1.6203134923541124e-61, 1.3923395599001459e-62, 1.19108009909594e-63, 1.0144420542003421e-64, 8.602872957836028e-66, 7.264873722274986e-67, 6.109674472063323e-68], \"yaxis\": \"y\"}, {\"legendgroup\": \"2\", \"line\": {\"color\": \"black\", \"dash\": \"dot\", \"width\": 2}, \"mode\": \"lines\", \"name\": \"40\", \"showlegend\": false, \"type\": \"scatter\", \"xaxis\": \"x\", \"y\": [0.0, 0.0, 0.0, 0.0, 7.394113789083317e-27, 6.414748813371615e-18, 1.773161164550785e-13, 1.4603112377545961e-10, 1.698128799570533e-08, 5.528677784228662e-07, 7.310769143868892e-06, 4.937123121195662e-05, 0.0001994339013308933, 0.000545392589833525, 0.0011205981751982311, 0.0018828275577811358, 0.0027556957101848396, 0.003670357948325176, 0.004580065495410342, 0.0054579673898853655, 0.006290741049222222, 0.007073174315981745, 0.007804566485529956, 0.008486541216868884, 0.009121706825520938, 0.009712613918175069, 0.010260126726912787, 0.010758549804993304, 0.011177348989210233, 0.011389807929138848, 0.01092455884597097, 0.008572870661621, 0.0041585430834038045, 0.001147371445982536, 0.00023578031224364836, 4.369435731110629e-05, 7.721025202180303e-06, 1.3178992410804984e-06, 2.1812042790697224e-07, 3.507303738076781e-08, 5.487633319561682e-09, 8.36628205963795e-10, 1.2444264358398832e-10, 1.808042301732512e-11, 2.568785010255148e-12, 3.5724906997377245e-13, 4.8680285061517954e-14, 6.505205028980802e-15, 8.532121469766499e-16, 1.0992101105082264e-16, 1.392036419997574e-17, 1.7340675422022655e-18, 2.126221864915441e-19, 2.5676961020550984e-20, 3.0557749981607525e-21, 3.585734465939819e-22, 4.150851975518666e-23, 4.742530221998148e-24, 5.350531587269657e-25, 5.96331250889455e-26, 6.56843936847617e-27, 7.153061590008689e-28, 7.704413782791783e-29, 8.210317232325885e-30, 8.65965185493595e-31, 9.042772683923767e-32, 9.351849660802023e-33, 9.581115452279662e-34, 9.72701262655694e-35, 9.788238224430847e-36, 9.765690028253893e-37, 9.662324236559848e-38, 9.482938487502317e-39, 9.23389706614312e-40, 8.922816634399547e-41, 8.558231007806516e-42, 8.149252531137627e-43, 7.705245700030626e-44, 7.235526097893311e-45, 6.74909473481488e-46, 6.254414742102518e-47, 5.759234315080509e-48, 5.2704569877261785e-49, 4.794057896777933e-50, 4.3350427320839054e-51, 3.897444610259597e-52, 3.4843531467475735e-53, 3.0979695022241e-54, 2.7396810854125017e-55, 2.410149834135558e-56, 2.109408492024202e-57, 1.83695997216024e-58, 1.5918756789051894e-59, 1.372889482010953e-60, 1.1784848505979715e-61, 1.0069734183734318e-62, 8.56563936909415e-64, 7.25421163068336e-65, 6.117147112887762e-66, 5.136582806510768e-67, 4.29539945554361e-68], \"yaxis\": \"y\"}, {\"legendgroup\": \"3\", \"line\": {\"color\": \"rgb(252,167,113)\", \"width\": 5}, \"mode\": \"lines\", \"name\": \"62\", \"showlegend\": true, \"type\": \"scatter\", \"xaxis\": \"x\", \"y\": [0.0, 0.0, 0.0, 0.0, 0.0, 0.0, 0.0, 1.5746665527333125e-37, 5.077795172345525e-31, 1.9266838667181097e-26, 6.240601222371157e-23, 4.025018379847389e-20, 8.195846041909963e-18, 7.000687158861182e-16, 3.032465960703931e-14, 7.615156342274958e-13, 1.2232615937943745e-11, 1.3544624372881784e-10, 1.0957771374271684e-09, 6.7850153389018575e-09, 3.339060638858003e-08, 1.34720844285692e-07, 4.5733488801495863e-07, 1.3350474308928407e-06, 3.4140221160019634e-06, 7.77024372672552e-06, 1.5957548194277946e-05, 2.992848482322995e-05, 5.1811043031796465e-05, 8.358549832177193e-05, 0.00012675319526063357, 0.0001820948256272832, 0.0002495781115307855, 0.00032841796485967394, 0.0004172463189020586, 0.0005143304119613343, 0.0006177853517127601, 0.0007257469604267147, 0.0008364919380649769, 0.0009485074867449787, 0.0010605203432164686, 0.0011714973003124247, 0.0012806281543007233, 0.0013872995409246731, 0.0014910655085328922, 0.0015916184769139607, 0.0016887626018431761, 0.0017823904660142452, 0.0018724633331655143, 0.0019589948134126397, 0.002042037593566616, 0.0021216728120939323, 0.002198001653296289, 0.0022711387662229594, 0.0023412071605075644, 0.0024083342819621032, 0.00247264901896591, 0.0025342794333079086, 0.0025933510448787043, 0.002649985528114967, 0.0027042996994000893, 0.0027564046887601167, 0.002806405195956119, 0.0028543987297979362, 0.002900474718832174, 0.0029447133591565724, 0.0029871840273041988, 0.0030279430273777415, 0.0030670303537416303, 0.0031044650218553464, 0.003140238333710829, 0.0031743041780350114, 0.0032065650885668034, 0.00323685225817432, 0.0032648969895162556, 0.0032902901178928404, 0.003312424768485007, 0.0033304165133127275, 0.0033429939294804694, 0.0033483526266551086, 0.0033439689680066853, 0.0033263797851731157, 0.003290957982073443, 0.0032317603184401637, 0.003141600512289655, 0.0030125989205591315, 0.0028375206979811603, 0.0026120921364432602, 0.0023379835575833862, 0.0020252661860645583, 0.0016924899619517328, 0.0013631832452371084, 0.00105980322269236, 0.0007981887094471256, 0.000585195780094334, 0.00041981281320247317, 0.0002961061857290748, 0.00020617186349100597, 0.00014216308570923165, 9.731207202055122e-05, 6.624243042752413e-05], \"yaxis\": \"y\"}, {\"legendgroup\": \"3\", \"line\": {\"color\": \"black\", \"dash\": \"dot\", \"width\": 2}, \"mode\": \"lines\", \"name\": \"62\", \"showlegend\": false, \"type\": \"scatter\", \"xaxis\": \"x\", \"y\": [0.0, 0.0, 0.0, 0.0, 0.0, 0.0, 0.0, 4.94874591713123e-39, 2.2368071028181158e-32, 1.1103731518858538e-27, 4.524603288185253e-24, 3.57983346607402e-21, 8.784137164294097e-19, 8.920454334385898e-17, 4.544077225653911e-15, 1.3295535331517986e-13, 2.4680392843646026e-12, 3.1341786426368846e-11, 2.8873461896352113e-10, 2.0218111332026104e-09, 1.117540382028405e-08, 5.0300340921413494e-08, 1.8919891332003343e-07, 6.078398133046965e-07, 1.6992145082415326e-06, 4.199710398719782e-06, 9.304756442880347e-06, 1.8705503216885318e-05, 3.44896705003046e-05, 5.889412220428059e-05, 9.396025470491797e-05, 0.00014119037524539375, 0.00020130573214221926, 0.00027416485095279773, 0.00035884078851976654, 0.0004538092513356995, 0.0005571823928440143, 0.0006669322578851885, 0.0007810698105996471, 0.000897767524158732, 0.0010154288998668016, 0.0011327159413637815, 0.0012485474447701589, 0.0013620795307036, 0.0014726771505582132, 0.0015798825426644445, 0.0016833843316650288, 0.0017829892927976516, 0.001878597683614889, 0.001970182354397499, 0.0020577714583424737, 0.0021414343896049965, 0.0022212705053093066, 0.0022974001848997394, 0.0023699578133468792, 0.002439086323359441, 0.0025049329840344664, 0.0025676461728502535, 0.002627372911344283, 0.002684256980812629, 0.0027384374624157375, 0.002790047565996655, 0.0028392136234518155, 0.0028860541250183723, 0.0029306786691095906, 0.002973186676164825, 0.003013665680961991, 0.003052188960855934, 0.003088812171917165, 0.003123568540362689, 0.0031564619786637067, 0.003187457244275029, 0.0032164659075540965, 0.003243326415986227, 0.0032677759088305647, 0.003289410622958018, 0.0033076307282150193, 0.003321564352320818, 0.0033299648290705084, 0.003331075794979195, 0.00332246246024091, 0.003300817379575531, 0.0032617707990294565, 0.0031997768098823826, 0.0031082125347714506, 0.002979907651730467, 0.002808362730211259, 0.002589798029989743, 0.002325750689234218, 0.0020252197619968367, 0.0017048184270580307, 0.0013858874652193604, 0.0010893050688312777, 0.0008304703758012239, 0.0006168400872713326, 0.0004485309446963615, 0.00032075139735900934, 0.00022646828735691047, 0.00015837300937159753, 0.00010996218467499493, 7.594117858473725e-05], \"yaxis\": \"y\"}, {\"legendgroup\": \"4\", \"line\": {\"color\": \"rgb(244,117,79)\", \"width\": 5}, \"mode\": \"lines\", \"name\": \"70\", \"showlegend\": true, \"type\": \"scatter\", \"xaxis\": \"x\", \"y\": [0.0, 0.0, 0.0, 0.0, 0.0, 0.0, 0.0, 1.836708007323095e-51, 2.446318665022519e-40, 6.202887787545913e-34, 2.9638822641163494e-29, 1.377947498650239e-25, 1.326356020846397e-22, 4.049739424962163e-20, 5.136073217352413e-18, 3.249638189641126e-16, 1.1693501724340127e-14, 2.6379360351831013e-13, 4.019879172623318e-12, 4.387895870026066e-11, 3.5959749315197003e-10, 2.2991346388014352e-09, 1.1838970054103083e-08, 5.0426396995963824e-08, 1.817293605689477e-07, 5.649604869272076e-07, 1.5405370953074519e-06, 3.738192568048729e-06, 8.174696634106783e-06, 1.629087187117104e-05, 2.988157322230204e-05, 5.0904399248605645e-05, 8.120153933350843e-05, 0.00012220875558718297, 0.00017473337604224546, 0.000238855790149378, 0.0003139633310457294, 0.00039888554351294063, 0.0004920807957001714, 0.0005918266519144206, 0.0006963815548635705, 0.0008041030285102325, 0.0009135213929593235, 0.0010233759073792542, 0.0011326231762879768, 0.001240427397222963, 0.0013461402687749556, 0.0014492762375878663, 0.0015494868276453076, 0.0016465362838753467, 0.0017402796912020836, 0.0018306440286247187, 0.0019176121924037327, 0.0020012097876623805, 0.00208149437660087, 0.002158546835814343, 0.002232464482278778, 0.0023033556564510545, 0.0023713354887649613, 0.002436522615106294, 0.0024990366435244287, 0.0025589962064358914, 0.0026165174589942775, 0.0026717129047951808, 0.0027246904444787686, 0.002775552550808937, 0.00282439547484966, 0.0028713083807947286, 0.002916372289919383, 0.002959658683984116, 0.003001227570646779, 0.0030411247412610353, 0.003079377845057807, 0.003115990749182124, 0.003150935431934836, 0.0031841403403925863, 0.0032154736988612297, 0.003244719639579143, 0.003271544198305949, 0.00329544714736313, 0.0033156943592742567, 0.0033312240941611, 0.00334051983112782, 0.0033414433128193064, 0.0033310270578466032, 0.0033052408255172896, 0.003258779735820994, 0.0031849834201450014, 0.0030760902567708594, 0.0029241331589892907, 0.002722794125618817, 0.002470251479693086, 0.002172289594350959, 0.0018439354380723647, 0.001507681474460433, 0.0011880396429808976, 0.0009049281761099796, 0.000669434617915648, 0.0004835645599059746, 0.00034284923647102846, 0.00023965573698744099], \"yaxis\": \"y\"}, {\"legendgroup\": \"4\", \"line\": {\"color\": \"white\", \"dash\": \"dot\", \"width\": 2}, \"mode\": \"lines\", \"name\": \"70\", \"showlegend\": false, \"type\": \"scatter\", \"xaxis\": \"x\", \"y\": [0.0, 0.0, 0.0, 0.0, 0.0, 0.0, 0.0, 3.3119551885316217e-53, 6.663532877938593e-42, 2.2945972126644734e-35, 1.409758996820945e-30, 8.154896905584944e-27, 9.555457643537398e-24, 3.496247774780381e-21, 5.25018989475014e-19, 3.8953237004425986e-17, 1.6303069174673057e-15, 4.247061766871392e-14, 7.425145389253021e-13, 9.242038619646392e-12, 8.58638002158085e-11, 6.188116872547509e-10, 3.57144971134353e-09, 1.6953297903342048e-08, 6.770172396846966e-08, 2.318830727766874e-07, 6.926127325692851e-07, 1.8303734587817173e-06, 4.334190643668173e-06, 9.299166348222649e-06, 1.825895761361768e-05, 3.3106693175577374e-05, 5.5891126998574204e-05, 8.852475604569741e-05, 0.00013248108215420265, 0.00018856584712315043, 0.0002568182308623331, 0.0003365503833663451, 0.00042649220861345566, 0.000524988761922057, 0.0006302005319982733, 0.000740272920739687, 0.0008534597709655955, 0.0009682001547353105, 0.0010831558251298535, 0.0011972196948194533, 0.0013095053728854173, 0.0014193259210963341, 0.0015261677449630718, 0.0016296635158999748, 0.0017295664493766627, 0.0018257271524492653, 0.0019180735262570921, 0.002006593767101588, 0.0020913222648904503, 0.0021723280806549726, 0.002249705645773996, 0.0023235673308746947, 0.0023940375605326024, 0.002461248187581972, 0.002525334880280351, 0.0025864343124161453, 0.002644681978447034, 0.0027002104818032923, 0.0027531481640158608, 0.0028036179548904644, 0.0028517363289235847, 0.002897612249484675, 0.002941345968213631, 0.0029830275198470977, 0.00302273470813981, 0.0030605303106017337, 0.0030964581297708753, 0.0031305373745857848, 0.0031627546503063485, 0.0031930525470629137, 0.0032213134185159046, 0.0032473364023836316, 0.003270805019212077, 0.003291241769877477, 0.0033079450741412765, 0.0033199028631866233, 0.003325676709853986, 0.003323251710115746, 0.0033098526846330593, 0.003281740844424558, 0.0032340336859467533, 0.0031606428538818888, 0.003054502895103788, 0.0029083468593811565, 0.0027162940659404547, 0.0024762941331968077, 0.0021928681252865105, 0.001878756818160205, 0.00155380102697993, 0.0012405680783011696, 0.0009585081209635941, 0.000719655847413677, 0.0005276782502820565, 0.00037973479061422107, 0.000269377176778652], \"yaxis\": \"y\"}, {\"legendgroup\": \"5\", \"line\": {\"color\": \"rgb(221,63,42)\", \"width\": 5}, \"mode\": \"lines\", \"name\": \"80\", \"showlegend\": true, \"type\": \"scatter\", \"xaxis\": \"x\", \"y\": [0.0, 0.0, 0.0, 0.0, 0.0, 0.0, 0.0, 0.0, 1.7516209923098543e-57, 7.753032359935988e-46, 5.674997292463895e-39, 6.989851753969252e-34, 7.630867830668884e-30, 1.5948537111802438e-26, 9.889259964854168e-24, 2.403756554562122e-21, 2.7705218791562916e-19, 1.736154164973142e-17, 6.551293556609609e-16, 1.6102607927849273e-14, 2.742711291327705e-13, 3.4024586558593687e-12, 3.2019309153038965e-11, 2.3643491841457205e-10, 1.4093923792069688e-09, 6.948114323456982e-09, 2.8921850800500376e-08, 1.0349163671288217e-07, 3.233664103107669e-07, 8.944245611845793e-07, 2.2166270501384142e-06, 4.9749550533695504e-06, 1.0209119081755812e-05, 1.9321556048896093e-05, 3.399207102049467e-05, 5.5996272846082e-05, 8.696258906664382e-05, 0.00012812988111231375, 0.00018016953171764717, 0.00024311196820422668, 0.0003163816782250442, 0.00039891445291036535, 0.0004893164536184216, 0.0005860268484333225, 0.0006874575605868285, 0.0007920975396865501, 0.000898580015993566, 0.0010057177980162969, 0.0011125143445704507, 0.0012181584178424202, 0.001322008888834903, 0.0014235746201752574, 0.0015224927926996436, 0.0016185077803316326, 0.001711451752157238, 0.001801227551170223, 0.0018877939998029334, 0.001971153547793529, 0.002051342054324205, 0.0021284204434145345, 0.002202467961027005, 0.0022735767753935842, 0.00234184768665645, 0.002407386740648671, 0.0024703025701975877, 0.0025307043133125026, 0.0025886999797562235, 0.002644395155143789, 0.0026978919444561886, 0.0027492880642855, 0.00279867599460288, 0.0028461420953021124, 0.0028917655785077054, 0.00293561720199219, 0.002977757508023767, 0.0030182343696684966, 0.0030570795144522185, 0.0030943035611255445, 0.0031298889118744904, 0.0031637795659875453, 0.003195866530114469, 0.003225966954846535, 0.0032537943817293386, 0.0032789164982897803, 0.0033006955645663283, 0.0033182052889637647, 0.003330116741558976, 0.0033345457999124045, 0.0033288576439496538, 0.003309434023867291, 0.003271433748831416, 0.003208627141064674, 0.003113471963835606, 0.0029777153240941085, 0.0027938879804306747, 0.0025579235694211523, 0.0022725207881116954, 0.0019497590478992125, 0.0016107080065890416, 0.0012808164092829985, 0.0009828276709346352], \"yaxis\": \"y\"}, {\"legendgroup\": \"5\", \"line\": {\"color\": \"white\", \"dash\": \"dot\", \"width\": 2}, \"mode\": \"lines\", \"name\": \"80\", \"showlegend\": false, \"type\": \"scatter\", \"xaxis\": \"x\", \"y\": [0.0, 0.0, 0.0, 0.0, 0.0, 0.0, 0.0, 0.0, 4.33230217227243e-59, 2.7439485598303105e-47, 2.6297573637429884e-40, 4.0419963244917384e-35, 5.345722367212015e-31, 1.3267655573689854e-27, 9.630678993608e-25, 2.7107877749492345e-22, 3.5871693270154355e-20, 2.562675381328568e-18, 1.0957845946819297e-16, 3.0358046019760253e-15, 5.800110670544966e-14, 8.034705152170596e-13, 8.407047332230428e-12, 6.873566385942235e-11, 4.517996105324401e-10, 2.445829428674952e-09, 1.1133096616012978e-08, 4.337994727317416e-08, 1.469650849495631e-07, 4.3885699481974494e-07, 1.1690808502197624e-06, 2.8081307604365134e-06, 6.140264708428125e-06, 1.2328038805762844e-05, 2.290607933047043e-05, 3.967435511139764e-05, 6.449351410342351e-05, 9.902407913578779e-05, 0.00014447700390632685, 0.00020144092370216675, 0.0002698232063662953, 0.0003489035498465605, 0.00043746869915143905, 0.0005339846405924476, 0.0006367670689152012, 0.0007441243594450603, 0.000854461857447903, 0.0009663473495839859, 0.0010785438408311906, 0.0011900180254999571, 0.0012999325882695459, 0.0014076290220772535, 0.0015126058871909086, 0.0016144958273116873, 0.0017130433843875405, 0.0018080847337209492, 0.00189952984316859, 0.001987347172772023, 0.0020715508063872813, 0.002152189790421031, 0.0022293394066316015, 0.002303094098409874, 0.0023735617847003396, 0.0024408593211231117, 0.0025051088968047397, 0.0025664351837436463, 0.0026249630808631466, 0.0026808159159263695, 0.002734113984412347, 0.002784973314647718, 0.0028335045522012866, 0.0028798118526663875, 0.0029239916587614394, 0.0029661312125611695, 0.003006306612752024, 0.003044580164451806, 0.0030809966773070346, 0.003115578234954356, 0.00314831676985535, 0.0031791635111618464, 0.003208014002990143, 0.003234686883122321, 0.003258893929812251, 0.003280197997589686, 0.003297954389095896, 0.0033112300904192694, 0.003318694535334739, 0.003318476083271077, 0.003307982135799228, 0.0032836915462545807, 0.003240952211684852, 0.003173863606480931, 0.0030754007954253734, 0.0029380327900476416, 0.0027551411660198095, 0.002523399175981959, 0.002245721468451773, 0.0019334699169831046, 0.0016060143973088367, 0.001286670620819054, 0.0009964954637131887], \"yaxis\": \"y\"}, {\"legendgroup\": \"6\", \"line\": {\"color\": \"rgb(183,6,4)\", \"width\": 5}, \"mode\": \"lines\", \"name\": \"99\", \"showlegend\": true, \"type\": \"scatter\", \"xaxis\": \"x\", \"y\": [0.0, 0.0, 0.0, 0.0, 0.0, 0.0, 0.0, 0.0, 0.0, 0.0, 4.9025213755695293e-67, 1.5237627808727507e-55, 3.6796632117337405e-48, 1.6329704973934226e-42, 6.216941159674687e-38, 4.264577096761299e-34, 8.120187471539021e-31, 5.676684638607136e-28, 1.7684738922193839e-25, 2.826528062967115e-23, 2.577410901770946e-21, 1.4560256253168725e-19, 5.440111058803904e-18, 1.4173351414572776e-16, 2.689355379273139e-15, 3.853680765438694e-14, 4.2996799743603034e-13, 3.834036161693921e-12, 2.7944080761640943e-11, 1.6974979290933688e-10, 8.742392088548313e-10, 3.875144974270037e-09, 1.498217692198742e-08, 5.112714506453699e-08, 1.556448788550353e-07, 4.267483949021776e-07, 1.0629246860220053e-06, 2.4239001037423696e-06, 5.09678815508034e-06, 9.94684045738918e-06, 1.812646007069466e-05, 3.1020592065507127e-05, 5.012310367506607e-05, 7.686227810063739e-05, 0.00011241359216550144, 0.00015754445941618537, 0.00021252536705545122, 0.0002771203588295127, 0.00035064742099185216, 0.0004320846676450057, 0.000520194334555997, 0.0006136412505576018, 0.0007110911165782877, 0.0008112825525944047, 0.0009130732526181867, 0.0010154642078452254, 0.0011176073098430519, 0.0012188015413880783, 0.0013184821320821468, 0.0014162060017901903, 0.0015116358181030307, 0.001604524175322048, 0.001694698787806926, 0.0017820491593715058, 0.0018665149055526924, 0.0019480757287568156, 0.0020267429448498193, 0.0021025524084334773, 0.002175558664483845, 0.002245830153485939, 0.0023134453071670543, 0.0023784893869012247, 0.002441051933369164, 0.0025012247119925645, 0.002559100052732908, 0.0026147694942385787, 0.002668322650436202, 0.0027198462218981107, 0.0027694230739187505, 0.002817131297100522, 0.002863043152742262, 0.0029072237819920514, 0.0029497295209540185, 0.0029906056084433147, 0.003029882991221868, 0.0030675738123694205, 0.0031036649964353105, 0.0031381090985260905, 0.0031708112339735783, 0.0032016104118392113, 0.003230252911321909, 0.0032563544134018574, 0.0032793463929173274, 0.0032984008112835334, 0.003312325619648837, 0.0033194225891767667, 0.0033173000375033685, 0.003302639467201664, 0.0032709336750332625, 0.003216256209956185, 0.0031312037746093597], \"yaxis\": \"y\"}, {\"legendgroup\": \"6\", \"line\": {\"color\": \"white\", \"dash\": \"dot\", \"width\": 2}, \"mode\": \"lines\", \"name\": \"99\", \"showlegend\": false, \"type\": \"scatter\", \"xaxis\": \"x\", \"y\": [0.0, 0.0, 0.0, 0.0, 0.0, 0.0, 0.0, 0.0, 0.0, 0.0, 1.4087893837796258e-68, 5.843503275144657e-57, 1.7700988509983695e-49, 9.497909474316078e-44, 4.2682638557193464e-39, 3.398550762318353e-35, 7.419724804325171e-32, 5.891768068912099e-29, 2.0694815844564814e-26, 3.7069002694812224e-24, 3.769184101148589e-22, 2.3640760601349607e-20, 9.769662723109453e-19, 2.8057035978650076e-17, 5.849989245994981e-16, 9.184337705498484e-15, 1.1195948567974233e-13, 1.0878233639589368e-12, 8.616144030391043e-12, 5.672839044993991e-11, 3.1581193349661367e-10, 1.5090919432516395e-09, 6.2723914605363e-09, 2.2946581688242972e-08, 7.467317219865964e-08, 2.182224539334158e-07, 5.776220950558257e-07, 1.3956234252864074e-06, 3.0998597934376042e-06, 6.370594495294426e-06, 1.218673819491455e-05, 2.1822462694971125e-05, 3.677390404513529e-05, 5.8614905306266196e-05, 8.880587533529282e-05, 0.00012849900809460156, 0.00017838647625107148, 0.000238624148357814, 0.000308839315234133, 0.00038820810771426613, 0.00047557502394943645, 0.000569585174082109, 0.0006688062431644459, 0.0007718267640009953, 0.000877326109164113, 0.000984117735197007, 0.0010911704268371715, 0.0011976132698617108, 0.0013027297124106505, 0.0014059450888894037, 0.0015068108537953314, 0.001604987754992468, 0.001700229363350578, 0.0017923667781079406, 0.0018812949152476079, 0.0019669605181521508, 0.0020493518661189414, 0.0021284900642966316, 0.0022044217535493313, 0.0022772130630398985, 0.002346944629883261, 0.0024137075210740313, 0.002477599907910019, 0.00253872435909201, 0.0025971856335763187, 0.002653088866812548, 0.0027065380533111824, 0.0027576347337613947, 0.002806476795263073, 0.0028531572874500154, 0.002897763143646141, 0.0029403736722144903, 0.002981058645305874, 0.003019875755077748, 0.003056867123707702, 0.0030920544327103145, 0.003125432064645817, 0.003156957406359834, 0.003186537120596829, 0.0032140077174988187, 0.003239108108288591, 0.0032614409619418105, 0.003280418598772033, 0.003295187906486152, 0.003304527608102564, 0.0033067108302836127, 0.0032993279058727413, 0.00327907204890815, 0.0032415103286955716, 0.003180904597205784, 0.003090223846196593], \"yaxis\": \"y\"}],                        {\"annotations\": [{\"font\": {\"size\": 16}, \"showarrow\": false, \"text\": \"Density\", \"x\": 0.5, \"xanchor\": \"center\", \"xref\": \"paper\", \"y\": 1.0, \"yanchor\": \"bottom\", \"yref\": \"paper\"}], \"template\": {\"data\": {\"bar\": [{\"error_x\": {\"color\": \"#f2f5fa\"}, \"error_y\": {\"color\": \"#f2f5fa\"}, \"marker\": {\"line\": {\"color\": \"rgb(17,17,17)\", \"width\": 0.5}}, \"type\": \"bar\"}], \"barpolar\": [{\"marker\": {\"line\": {\"color\": \"rgb(17,17,17)\", \"width\": 0.5}}, \"type\": \"barpolar\"}], \"carpet\": [{\"aaxis\": {\"endlinecolor\": \"#A2B1C6\", \"gridcolor\": \"#506784\", \"linecolor\": \"#506784\", \"minorgridcolor\": \"#506784\", \"startlinecolor\": \"#A2B1C6\"}, \"baxis\": {\"endlinecolor\": \"#A2B1C6\", \"gridcolor\": \"#506784\", \"linecolor\": \"#506784\", \"minorgridcolor\": \"#506784\", \"startlinecolor\": \"#A2B1C6\"}, \"type\": \"carpet\"}], \"choropleth\": [{\"colorbar\": {\"outlinewidth\": 0, \"ticks\": \"\"}, \"type\": \"choropleth\"}], \"contour\": [{\"colorbar\": {\"outlinewidth\": 0, \"ticks\": \"\"}, \"colorscale\": [[0.0, \"#0d0887\"], [0.1111111111111111, \"#46039f\"], [0.2222222222222222, \"#7201a8\"], [0.3333333333333333, \"#9c179e\"], [0.4444444444444444, \"#bd3786\"], [0.5555555555555556, \"#d8576b\"], [0.6666666666666666, \"#ed7953\"], [0.7777777777777778, \"#fb9f3a\"], [0.8888888888888888, \"#fdca26\"], [1.0, \"#f0f921\"]], \"type\": \"contour\"}], \"contourcarpet\": [{\"colorbar\": {\"outlinewidth\": 0, \"ticks\": \"\"}, \"type\": \"contourcarpet\"}], \"heatmap\": [{\"colorbar\": {\"outlinewidth\": 0, \"ticks\": \"\"}, \"colorscale\": [[0.0, \"#0d0887\"], [0.1111111111111111, \"#46039f\"], [0.2222222222222222, \"#7201a8\"], [0.3333333333333333, \"#9c179e\"], [0.4444444444444444, \"#bd3786\"], [0.5555555555555556, \"#d8576b\"], [0.6666666666666666, \"#ed7953\"], [0.7777777777777778, \"#fb9f3a\"], [0.8888888888888888, \"#fdca26\"], [1.0, \"#f0f921\"]], \"type\": \"heatmap\"}], \"heatmapgl\": [{\"colorbar\": {\"outlinewidth\": 0, \"ticks\": \"\"}, \"colorscale\": [[0.0, \"#0d0887\"], [0.1111111111111111, \"#46039f\"], [0.2222222222222222, \"#7201a8\"], [0.3333333333333333, \"#9c179e\"], [0.4444444444444444, \"#bd3786\"], [0.5555555555555556, \"#d8576b\"], [0.6666666666666666, \"#ed7953\"], [0.7777777777777778, \"#fb9f3a\"], [0.8888888888888888, \"#fdca26\"], [1.0, \"#f0f921\"]], \"type\": \"heatmapgl\"}], \"histogram\": [{\"marker\": {\"colorbar\": {\"outlinewidth\": 0, \"ticks\": \"\"}}, \"type\": \"histogram\"}], \"histogram2d\": [{\"colorbar\": {\"outlinewidth\": 0, \"ticks\": \"\"}, \"colorscale\": [[0.0, \"#0d0887\"], [0.1111111111111111, \"#46039f\"], [0.2222222222222222, \"#7201a8\"], [0.3333333333333333, \"#9c179e\"], [0.4444444444444444, \"#bd3786\"], [0.5555555555555556, \"#d8576b\"], [0.6666666666666666, \"#ed7953\"], [0.7777777777777778, \"#fb9f3a\"], [0.8888888888888888, \"#fdca26\"], [1.0, \"#f0f921\"]], \"type\": \"histogram2d\"}], \"histogram2dcontour\": [{\"colorbar\": {\"outlinewidth\": 0, \"ticks\": \"\"}, \"colorscale\": [[0.0, \"#0d0887\"], [0.1111111111111111, \"#46039f\"], [0.2222222222222222, \"#7201a8\"], [0.3333333333333333, \"#9c179e\"], [0.4444444444444444, \"#bd3786\"], [0.5555555555555556, \"#d8576b\"], [0.6666666666666666, \"#ed7953\"], [0.7777777777777778, \"#fb9f3a\"], [0.8888888888888888, \"#fdca26\"], [1.0, \"#f0f921\"]], \"type\": \"histogram2dcontour\"}], \"mesh3d\": [{\"colorbar\": {\"outlinewidth\": 0, \"ticks\": \"\"}, \"type\": \"mesh3d\"}], \"parcoords\": [{\"line\": {\"colorbar\": {\"outlinewidth\": 0, \"ticks\": \"\"}}, \"type\": \"parcoords\"}], \"pie\": [{\"automargin\": true, \"type\": \"pie\"}], \"scatter\": [{\"marker\": {\"line\": {\"color\": \"#283442\"}}, \"type\": \"scatter\"}], \"scatter3d\": [{\"line\": {\"colorbar\": {\"outlinewidth\": 0, \"ticks\": \"\"}}, \"marker\": {\"colorbar\": {\"outlinewidth\": 0, \"ticks\": \"\"}}, \"type\": \"scatter3d\"}], \"scattercarpet\": [{\"marker\": {\"colorbar\": {\"outlinewidth\": 0, \"ticks\": \"\"}}, \"type\": \"scattercarpet\"}], \"scattergeo\": [{\"marker\": {\"colorbar\": {\"outlinewidth\": 0, \"ticks\": \"\"}}, \"type\": \"scattergeo\"}], \"scattergl\": [{\"marker\": {\"line\": {\"color\": \"#283442\"}}, \"type\": \"scattergl\"}], \"scattermapbox\": [{\"marker\": {\"colorbar\": {\"outlinewidth\": 0, \"ticks\": \"\"}}, \"type\": \"scattermapbox\"}], \"scatterpolar\": [{\"marker\": {\"colorbar\": {\"outlinewidth\": 0, \"ticks\": \"\"}}, \"type\": \"scatterpolar\"}], \"scatterpolargl\": [{\"marker\": {\"colorbar\": {\"outlinewidth\": 0, \"ticks\": \"\"}}, \"type\": \"scatterpolargl\"}], \"scatterternary\": [{\"marker\": {\"colorbar\": {\"outlinewidth\": 0, \"ticks\": \"\"}}, \"type\": \"scatterternary\"}], \"surface\": [{\"colorbar\": {\"outlinewidth\": 0, \"ticks\": \"\"}, \"colorscale\": [[0.0, \"#0d0887\"], [0.1111111111111111, \"#46039f\"], [0.2222222222222222, \"#7201a8\"], [0.3333333333333333, \"#9c179e\"], [0.4444444444444444, \"#bd3786\"], [0.5555555555555556, \"#d8576b\"], [0.6666666666666666, \"#ed7953\"], [0.7777777777777778, \"#fb9f3a\"], [0.8888888888888888, \"#fdca26\"], [1.0, \"#f0f921\"]], \"type\": \"surface\"}], \"table\": [{\"cells\": {\"fill\": {\"color\": \"#506784\"}, \"line\": {\"color\": \"rgb(17,17,17)\"}}, \"header\": {\"fill\": {\"color\": \"#2a3f5f\"}, \"line\": {\"color\": \"rgb(17,17,17)\"}}, \"type\": \"table\"}]}, \"layout\": {\"annotationdefaults\": {\"arrowcolor\": \"#f2f5fa\", \"arrowhead\": 0, \"arrowwidth\": 1}, \"autotypenumbers\": \"strict\", \"coloraxis\": {\"colorbar\": {\"outlinewidth\": 0, \"ticks\": \"\"}}, \"colorscale\": {\"diverging\": [[0, \"#8e0152\"], [0.1, \"#c51b7d\"], [0.2, \"#de77ae\"], [0.3, \"#f1b6da\"], [0.4, \"#fde0ef\"], [0.5, \"#f7f7f7\"], [0.6, \"#e6f5d0\"], [0.7, \"#b8e186\"], [0.8, \"#7fbc41\"], [0.9, \"#4d9221\"], [1, \"#276419\"]], \"sequential\": [[0.0, \"#0d0887\"], [0.1111111111111111, \"#46039f\"], [0.2222222222222222, \"#7201a8\"], [0.3333333333333333, \"#9c179e\"], [0.4444444444444444, \"#bd3786\"], [0.5555555555555556, \"#d8576b\"], [0.6666666666666666, \"#ed7953\"], [0.7777777777777778, \"#fb9f3a\"], [0.8888888888888888, \"#fdca26\"], [1.0, \"#f0f921\"]], \"sequentialminus\": [[0.0, \"#0d0887\"], [0.1111111111111111, \"#46039f\"], [0.2222222222222222, \"#7201a8\"], [0.3333333333333333, \"#9c179e\"], [0.4444444444444444, \"#bd3786\"], [0.5555555555555556, \"#d8576b\"], [0.6666666666666666, \"#ed7953\"], [0.7777777777777778, \"#fb9f3a\"], [0.8888888888888888, \"#fdca26\"], [1.0, \"#f0f921\"]]}, \"colorway\": [\"#636efa\", \"#EF553B\", \"#00cc96\", \"#ab63fa\", \"#FFA15A\", \"#19d3f3\", \"#FF6692\", \"#B6E880\", \"#FF97FF\", \"#FECB52\"], \"font\": {\"color\": \"#f2f5fa\"}, \"geo\": {\"bgcolor\": \"rgb(17,17,17)\", \"lakecolor\": \"rgb(17,17,17)\", \"landcolor\": \"rgb(17,17,17)\", \"showlakes\": true, \"showland\": true, \"subunitcolor\": \"#506784\"}, \"hoverlabel\": {\"align\": \"left\"}, \"hovermode\": \"closest\", \"mapbox\": {\"style\": \"dark\"}, \"paper_bgcolor\": \"rgb(17,17,17)\", \"plot_bgcolor\": \"rgb(17,17,17)\", \"polar\": {\"angularaxis\": {\"gridcolor\": \"#506784\", \"linecolor\": \"#506784\", \"ticks\": \"\"}, \"bgcolor\": \"rgb(17,17,17)\", \"radialaxis\": {\"gridcolor\": \"#506784\", \"linecolor\": \"#506784\", \"ticks\": \"\"}}, \"scene\": {\"xaxis\": {\"backgroundcolor\": \"rgb(17,17,17)\", \"gridcolor\": \"#506784\", \"gridwidth\": 2, \"linecolor\": \"#506784\", \"showbackground\": true, \"ticks\": \"\", \"zerolinecolor\": \"#C8D4E3\"}, \"yaxis\": {\"backgroundcolor\": \"rgb(17,17,17)\", \"gridcolor\": \"#506784\", \"gridwidth\": 2, \"linecolor\": \"#506784\", \"showbackground\": true, \"ticks\": \"\", \"zerolinecolor\": \"#C8D4E3\"}, \"zaxis\": {\"backgroundcolor\": \"rgb(17,17,17)\", \"gridcolor\": \"#506784\", \"gridwidth\": 2, \"linecolor\": \"#506784\", \"showbackground\": true, \"ticks\": \"\", \"zerolinecolor\": \"#C8D4E3\"}}, \"shapedefaults\": {\"line\": {\"color\": \"#f2f5fa\"}}, \"sliderdefaults\": {\"bgcolor\": \"#C8D4E3\", \"bordercolor\": \"rgb(17,17,17)\", \"borderwidth\": 1, \"tickwidth\": 0}, \"ternary\": {\"aaxis\": {\"gridcolor\": \"#506784\", \"linecolor\": \"#506784\", \"ticks\": \"\"}, \"baxis\": {\"gridcolor\": \"#506784\", \"linecolor\": \"#506784\", \"ticks\": \"\"}, \"bgcolor\": \"rgb(17,17,17)\", \"caxis\": {\"gridcolor\": \"#506784\", \"linecolor\": \"#506784\", \"ticks\": \"\"}}, \"title\": {\"x\": 0.05}, \"updatemenudefaults\": {\"bgcolor\": \"#506784\", \"borderwidth\": 0}, \"xaxis\": {\"automargin\": true, \"gridcolor\": \"#283442\", \"linecolor\": \"#506784\", \"ticks\": \"\", \"title\": {\"standoff\": 15}, \"zerolinecolor\": \"#283442\", \"zerolinewidth\": 2}, \"yaxis\": {\"automargin\": true, \"gridcolor\": \"#283442\", \"linecolor\": \"#506784\", \"ticks\": \"\", \"title\": {\"standoff\": 15}, \"zerolinecolor\": \"#283442\", \"zerolinewidth\": 2}}}, \"xaxis\": {\"anchor\": \"y\", \"domain\": [0.0, 1.0]}, \"yaxis\": {\"anchor\": \"x\", \"domain\": [0.0, 1.0]}},                        {\"responsive\": true}                    ).then(function(){\n",
       "                            \n",
       "var gd = document.getElementById('d1a0f672-e392-46e7-8671-fb87d9fc4104');\n",
       "var x = new MutationObserver(function (mutations, observer) {{\n",
       "        var display = window.getComputedStyle(gd).display;\n",
       "        if (!display || display === 'none') {{\n",
       "            console.log([gd, 'removed!']);\n",
       "            Plotly.purge(gd);\n",
       "            observer.disconnect();\n",
       "        }}\n",
       "}});\n",
       "\n",
       "// Listen for the removal of the full notebook cells\n",
       "var notebookContainer = gd.closest('#notebook-container');\n",
       "if (notebookContainer) {{\n",
       "    x.observe(notebookContainer, {childList: true});\n",
       "}}\n",
       "\n",
       "// Listen for the clearing of the current output cell\n",
       "var outputEl = gd.closest('.output');\n",
       "if (outputEl) {{\n",
       "    x.observe(outputEl, {childList: true});\n",
       "}}\n",
       "\n",
       "                        })                };                });            </script>        </div>"
      ]
     },
     "metadata": {},
     "output_type": "display_data"
    }
   ],
   "source": [
    "fig2 = make_subplots(rows=1, cols=1, subplot_titles=[\"Density\",\"Flow\",\"Velocity\"],  shared_xaxes=True)\n",
    "\n",
    "for p in range(len(xi)):\n",
    "    clr=cm(p/len(xi))\n",
    "    clrs=\"rgb(%d,%d,%d)\" % (clr[0]*255, clr[1]*255, clr[2]*255)\n",
    "    trace1=go.Scatter(y=y_exact[:,p].detach(), mode='lines', name=str(xi[p]), \n",
    "                      legendgroup=p, showlegend=True,\n",
    "                      line=dict(width=5, color=clrs))\n",
    "    sclr='black' if p < 4 else 'white'\n",
    "    trace2=go.Scatter(y=y_approx[:,p].detach(), mode='lines', name=str(xi[p]),  \n",
    "                      legendgroup=p, showlegend=False,\n",
    "                      line=dict(width=2,dash='dot', color=sclr))\n",
    "    fig2.add_trace(trace1, row=1, col=1)\n",
    "    fig2.add_trace(trace2, row=1, col=1)\n",
    "fig2"
   ]
  },
  {
   "cell_type": "code",
   "execution_count": 76,
   "metadata": {},
   "outputs": [],
   "source": [
    "fig2.write_html('k_of_t_sparse.html')"
   ]
  },
  {
   "cell_type": "code",
   "execution_count": 77,
   "metadata": {},
   "outputs": [],
   "source": [
    "\"\"\"\n",
    "fig2,ax2=plt.subplots(figsize=(12,6))\n",
    "for p in range(len(xi)):\n",
    "    clr=cm(p/len(xi))\n",
    "    ax2.plot(y_exact[:,p].detach(), label=xi[p], color=clr, linestyle='solid', linewidth=3)\n",
    "    ax2.plot(y_approx[:,p].detach(), label=xi[p], color='white', linestyle='dotted')\n",
    "ax2.legend()\n",
    "\"\"\";"
   ]
  },
  {
   "cell_type": "code",
   "execution_count": 78,
   "metadata": {},
   "outputs": [
    {
     "data": {
      "application/vnd.plotly.v1+json": {
       "config": {
        "plotlyServerURL": "https://plot.ly"
       },
       "data": [
        {
         "name": "True",
         "type": "scatter",
         "y": [
          0.05,
          0.05,
          0.05,
          0.05,
          0.05,
          0.05,
          0.05,
          0.05,
          0.05,
          0.05,
          0.05,
          0.05,
          0.05,
          0.05,
          0.05,
          0.05,
          0.05,
          0.05,
          0.05,
          0.05,
          0.05,
          0.05,
          0.05,
          0.05,
          0.05,
          0.05,
          0.05,
          0.05,
          0.05,
          0.05,
          0.05,
          0.05,
          0.05,
          0.05,
          0.05,
          0.05,
          0.05,
          0.05,
          0.05,
          0.05,
          0.05,
          0.05,
          0.05,
          0.05,
          0.05,
          0.05,
          0.05,
          0.05,
          0.05,
          0.05,
          0.01,
          0.01,
          0.01,
          0.01,
          0.01,
          0.01,
          0.01,
          0.01,
          0.01,
          0.01,
          0.05,
          0.05,
          0.05,
          0.05,
          0.05,
          0.05,
          0.05,
          0.05,
          0.05,
          0.05,
          0.05,
          0.05,
          0.05,
          0.05,
          0.05,
          0.05,
          0.05,
          0.05,
          0.05,
          0.05,
          0.05,
          0.05,
          0.05,
          0.05,
          0.05,
          0.05,
          0.05,
          0.05,
          0.05,
          0.05,
          0.05,
          0.05,
          0.05,
          0.05,
          0.05,
          0.05,
          0.05,
          0.05,
          0.05,
          0.05
         ]
        },
        {
         "line": {
          "dash": "dash"
         },
         "name": "Estimated",
         "type": "scatter",
         "y": [
          0.050578248332125396,
          0.05045277580982763,
          0.05024070107473751,
          0.05020600868511497,
          0.05019411232815852,
          0.05018774070941356,
          0.05018214217221508,
          0.05017526187009194,
          0.050165968838954994,
          0.05015284141622645,
          0.05013458993128295,
          0.05004148165500488,
          0.050045080658951906,
          0.05004816341224296,
          0.05005088396397562,
          0.05005334395410659,
          0.050055612985525126,
          0.0500577431322151,
          0.050059779909021045,
          0.0500617721923999,
          0.050063783804030135,
          0.050065910009631606,
          0.050068305726709235,
          0.05007124666153843,
          0.05007522636693681,
          0.050081077597076695,
          0.05001700225328063,
          0.05001878112672425,
          0.050020535744156755,
          0.050022298653727315,
          0.050024109947310165,
          0.050026020118377534,
          0.050028093992983316,
          0.050030416243098896,
          0.050033099213082216,
          0.050036294119349706,
          0.0500402069204836,
          0.05004511898363153,
          0.05005140725079017,
          0.05005954298349727,
          0.050070060446246296,
          0.03717280966258763,
          0.03717031612874535,
          0.03716948854676528,
          0.03716925386859319,
          0.03716924992280578,
          0.03716932666915675,
          0.03716941249129133,
          0.03716947073995872,
          0.037169481630111606,
          0.013349612519412293,
          0.012923412952153001,
          0.012582559046243598,
          0.012209346601102955,
          0.011743918126100901,
          0.011104187879702335,
          0.010138027401075141,
          0.008755049425413896,
          0.008342991617769382,
          0.008361233318951895,
          0.03717512934711891,
          0.03716981117142047,
          0.03716433561717708,
          0.04886401530287097,
          0.04886180035993848,
          0.04885955189765138,
          0.04885726913461109,
          0.04885495130888368,
          0.048852597690151135,
          0.04885020759537675,
          0.048847780408810854,
          0.05160331611713576,
          0.05160198523828507,
          0.05160063846027229,
          0.05159927536204781,
          0.051597895520278034,
          0.05159649851139794,
          0.05159508391423507,
          0.05159365131331213,
          0.05159220030294858,
          0.051590730492288635,
          0.05030204705204144,
          0.05030193222555008,
          0.050301821556985066,
          0.05030171490611227,
          0.05030161213380151,
          0.050301513101373825,
          0.05030141766991228,
          0.05030132569952115,
          0.05030123704852136,
          0.05030115157256141,
          0.05030106912361758,
          0.05030098954884927,
          0.05030091268926249,
          0.050300838378117295,
          0.050300766438992145,
          0.05030069668338512,
          0.05030062890768849,
          0.050300562889310854,
          0.050300498381639344
         ]
        },
        {
         "marker": {
          "size": 12
         },
         "mode": "markers",
         "name": "Sensors",
         "type": "scatter",
         "x": [
          10,
          25,
          40,
          62,
          70,
          80,
          99
         ],
         "y": [
          0.05,
          0.05,
          0.05,
          0.05,
          0.05,
          0.05,
          0.05
         ]
        }
       ],
       "layout": {
        "template": {
         "data": {
          "bar": [
           {
            "error_x": {
             "color": "#f2f5fa"
            },
            "error_y": {
             "color": "#f2f5fa"
            },
            "marker": {
             "line": {
              "color": "rgb(17,17,17)",
              "width": 0.5
             }
            },
            "type": "bar"
           }
          ],
          "barpolar": [
           {
            "marker": {
             "line": {
              "color": "rgb(17,17,17)",
              "width": 0.5
             }
            },
            "type": "barpolar"
           }
          ],
          "carpet": [
           {
            "aaxis": {
             "endlinecolor": "#A2B1C6",
             "gridcolor": "#506784",
             "linecolor": "#506784",
             "minorgridcolor": "#506784",
             "startlinecolor": "#A2B1C6"
            },
            "baxis": {
             "endlinecolor": "#A2B1C6",
             "gridcolor": "#506784",
             "linecolor": "#506784",
             "minorgridcolor": "#506784",
             "startlinecolor": "#A2B1C6"
            },
            "type": "carpet"
           }
          ],
          "choropleth": [
           {
            "colorbar": {
             "outlinewidth": 0,
             "ticks": ""
            },
            "type": "choropleth"
           }
          ],
          "contour": [
           {
            "colorbar": {
             "outlinewidth": 0,
             "ticks": ""
            },
            "colorscale": [
             [
              0,
              "#0d0887"
             ],
             [
              0.1111111111111111,
              "#46039f"
             ],
             [
              0.2222222222222222,
              "#7201a8"
             ],
             [
              0.3333333333333333,
              "#9c179e"
             ],
             [
              0.4444444444444444,
              "#bd3786"
             ],
             [
              0.5555555555555556,
              "#d8576b"
             ],
             [
              0.6666666666666666,
              "#ed7953"
             ],
             [
              0.7777777777777778,
              "#fb9f3a"
             ],
             [
              0.8888888888888888,
              "#fdca26"
             ],
             [
              1,
              "#f0f921"
             ]
            ],
            "type": "contour"
           }
          ],
          "contourcarpet": [
           {
            "colorbar": {
             "outlinewidth": 0,
             "ticks": ""
            },
            "type": "contourcarpet"
           }
          ],
          "heatmap": [
           {
            "colorbar": {
             "outlinewidth": 0,
             "ticks": ""
            },
            "colorscale": [
             [
              0,
              "#0d0887"
             ],
             [
              0.1111111111111111,
              "#46039f"
             ],
             [
              0.2222222222222222,
              "#7201a8"
             ],
             [
              0.3333333333333333,
              "#9c179e"
             ],
             [
              0.4444444444444444,
              "#bd3786"
             ],
             [
              0.5555555555555556,
              "#d8576b"
             ],
             [
              0.6666666666666666,
              "#ed7953"
             ],
             [
              0.7777777777777778,
              "#fb9f3a"
             ],
             [
              0.8888888888888888,
              "#fdca26"
             ],
             [
              1,
              "#f0f921"
             ]
            ],
            "type": "heatmap"
           }
          ],
          "heatmapgl": [
           {
            "colorbar": {
             "outlinewidth": 0,
             "ticks": ""
            },
            "colorscale": [
             [
              0,
              "#0d0887"
             ],
             [
              0.1111111111111111,
              "#46039f"
             ],
             [
              0.2222222222222222,
              "#7201a8"
             ],
             [
              0.3333333333333333,
              "#9c179e"
             ],
             [
              0.4444444444444444,
              "#bd3786"
             ],
             [
              0.5555555555555556,
              "#d8576b"
             ],
             [
              0.6666666666666666,
              "#ed7953"
             ],
             [
              0.7777777777777778,
              "#fb9f3a"
             ],
             [
              0.8888888888888888,
              "#fdca26"
             ],
             [
              1,
              "#f0f921"
             ]
            ],
            "type": "heatmapgl"
           }
          ],
          "histogram": [
           {
            "marker": {
             "colorbar": {
              "outlinewidth": 0,
              "ticks": ""
             }
            },
            "type": "histogram"
           }
          ],
          "histogram2d": [
           {
            "colorbar": {
             "outlinewidth": 0,
             "ticks": ""
            },
            "colorscale": [
             [
              0,
              "#0d0887"
             ],
             [
              0.1111111111111111,
              "#46039f"
             ],
             [
              0.2222222222222222,
              "#7201a8"
             ],
             [
              0.3333333333333333,
              "#9c179e"
             ],
             [
              0.4444444444444444,
              "#bd3786"
             ],
             [
              0.5555555555555556,
              "#d8576b"
             ],
             [
              0.6666666666666666,
              "#ed7953"
             ],
             [
              0.7777777777777778,
              "#fb9f3a"
             ],
             [
              0.8888888888888888,
              "#fdca26"
             ],
             [
              1,
              "#f0f921"
             ]
            ],
            "type": "histogram2d"
           }
          ],
          "histogram2dcontour": [
           {
            "colorbar": {
             "outlinewidth": 0,
             "ticks": ""
            },
            "colorscale": [
             [
              0,
              "#0d0887"
             ],
             [
              0.1111111111111111,
              "#46039f"
             ],
             [
              0.2222222222222222,
              "#7201a8"
             ],
             [
              0.3333333333333333,
              "#9c179e"
             ],
             [
              0.4444444444444444,
              "#bd3786"
             ],
             [
              0.5555555555555556,
              "#d8576b"
             ],
             [
              0.6666666666666666,
              "#ed7953"
             ],
             [
              0.7777777777777778,
              "#fb9f3a"
             ],
             [
              0.8888888888888888,
              "#fdca26"
             ],
             [
              1,
              "#f0f921"
             ]
            ],
            "type": "histogram2dcontour"
           }
          ],
          "mesh3d": [
           {
            "colorbar": {
             "outlinewidth": 0,
             "ticks": ""
            },
            "type": "mesh3d"
           }
          ],
          "parcoords": [
           {
            "line": {
             "colorbar": {
              "outlinewidth": 0,
              "ticks": ""
             }
            },
            "type": "parcoords"
           }
          ],
          "pie": [
           {
            "automargin": true,
            "type": "pie"
           }
          ],
          "scatter": [
           {
            "marker": {
             "line": {
              "color": "#283442"
             }
            },
            "type": "scatter"
           }
          ],
          "scatter3d": [
           {
            "line": {
             "colorbar": {
              "outlinewidth": 0,
              "ticks": ""
             }
            },
            "marker": {
             "colorbar": {
              "outlinewidth": 0,
              "ticks": ""
             }
            },
            "type": "scatter3d"
           }
          ],
          "scattercarpet": [
           {
            "marker": {
             "colorbar": {
              "outlinewidth": 0,
              "ticks": ""
             }
            },
            "type": "scattercarpet"
           }
          ],
          "scattergeo": [
           {
            "marker": {
             "colorbar": {
              "outlinewidth": 0,
              "ticks": ""
             }
            },
            "type": "scattergeo"
           }
          ],
          "scattergl": [
           {
            "marker": {
             "line": {
              "color": "#283442"
             }
            },
            "type": "scattergl"
           }
          ],
          "scattermapbox": [
           {
            "marker": {
             "colorbar": {
              "outlinewidth": 0,
              "ticks": ""
             }
            },
            "type": "scattermapbox"
           }
          ],
          "scatterpolar": [
           {
            "marker": {
             "colorbar": {
              "outlinewidth": 0,
              "ticks": ""
             }
            },
            "type": "scatterpolar"
           }
          ],
          "scatterpolargl": [
           {
            "marker": {
             "colorbar": {
              "outlinewidth": 0,
              "ticks": ""
             }
            },
            "type": "scatterpolargl"
           }
          ],
          "scatterternary": [
           {
            "marker": {
             "colorbar": {
              "outlinewidth": 0,
              "ticks": ""
             }
            },
            "type": "scatterternary"
           }
          ],
          "surface": [
           {
            "colorbar": {
             "outlinewidth": 0,
             "ticks": ""
            },
            "colorscale": [
             [
              0,
              "#0d0887"
             ],
             [
              0.1111111111111111,
              "#46039f"
             ],
             [
              0.2222222222222222,
              "#7201a8"
             ],
             [
              0.3333333333333333,
              "#9c179e"
             ],
             [
              0.4444444444444444,
              "#bd3786"
             ],
             [
              0.5555555555555556,
              "#d8576b"
             ],
             [
              0.6666666666666666,
              "#ed7953"
             ],
             [
              0.7777777777777778,
              "#fb9f3a"
             ],
             [
              0.8888888888888888,
              "#fdca26"
             ],
             [
              1,
              "#f0f921"
             ]
            ],
            "type": "surface"
           }
          ],
          "table": [
           {
            "cells": {
             "fill": {
              "color": "#506784"
             },
             "line": {
              "color": "rgb(17,17,17)"
             }
            },
            "header": {
             "fill": {
              "color": "#2a3f5f"
             },
             "line": {
              "color": "rgb(17,17,17)"
             }
            },
            "type": "table"
           }
          ]
         },
         "layout": {
          "annotationdefaults": {
           "arrowcolor": "#f2f5fa",
           "arrowhead": 0,
           "arrowwidth": 1
          },
          "autotypenumbers": "strict",
          "coloraxis": {
           "colorbar": {
            "outlinewidth": 0,
            "ticks": ""
           }
          },
          "colorscale": {
           "diverging": [
            [
             0,
             "#8e0152"
            ],
            [
             0.1,
             "#c51b7d"
            ],
            [
             0.2,
             "#de77ae"
            ],
            [
             0.3,
             "#f1b6da"
            ],
            [
             0.4,
             "#fde0ef"
            ],
            [
             0.5,
             "#f7f7f7"
            ],
            [
             0.6,
             "#e6f5d0"
            ],
            [
             0.7,
             "#b8e186"
            ],
            [
             0.8,
             "#7fbc41"
            ],
            [
             0.9,
             "#4d9221"
            ],
            [
             1,
             "#276419"
            ]
           ],
           "sequential": [
            [
             0,
             "#0d0887"
            ],
            [
             0.1111111111111111,
             "#46039f"
            ],
            [
             0.2222222222222222,
             "#7201a8"
            ],
            [
             0.3333333333333333,
             "#9c179e"
            ],
            [
             0.4444444444444444,
             "#bd3786"
            ],
            [
             0.5555555555555556,
             "#d8576b"
            ],
            [
             0.6666666666666666,
             "#ed7953"
            ],
            [
             0.7777777777777778,
             "#fb9f3a"
            ],
            [
             0.8888888888888888,
             "#fdca26"
            ],
            [
             1,
             "#f0f921"
            ]
           ],
           "sequentialminus": [
            [
             0,
             "#0d0887"
            ],
            [
             0.1111111111111111,
             "#46039f"
            ],
            [
             0.2222222222222222,
             "#7201a8"
            ],
            [
             0.3333333333333333,
             "#9c179e"
            ],
            [
             0.4444444444444444,
             "#bd3786"
            ],
            [
             0.5555555555555556,
             "#d8576b"
            ],
            [
             0.6666666666666666,
             "#ed7953"
            ],
            [
             0.7777777777777778,
             "#fb9f3a"
            ],
            [
             0.8888888888888888,
             "#fdca26"
            ],
            [
             1,
             "#f0f921"
            ]
           ]
          },
          "colorway": [
           "#636efa",
           "#EF553B",
           "#00cc96",
           "#ab63fa",
           "#FFA15A",
           "#19d3f3",
           "#FF6692",
           "#B6E880",
           "#FF97FF",
           "#FECB52"
          ],
          "font": {
           "color": "#f2f5fa"
          },
          "geo": {
           "bgcolor": "rgb(17,17,17)",
           "lakecolor": "rgb(17,17,17)",
           "landcolor": "rgb(17,17,17)",
           "showlakes": true,
           "showland": true,
           "subunitcolor": "#506784"
          },
          "hoverlabel": {
           "align": "left"
          },
          "hovermode": "closest",
          "mapbox": {
           "style": "dark"
          },
          "paper_bgcolor": "rgb(17,17,17)",
          "plot_bgcolor": "rgb(17,17,17)",
          "polar": {
           "angularaxis": {
            "gridcolor": "#506784",
            "linecolor": "#506784",
            "ticks": ""
           },
           "bgcolor": "rgb(17,17,17)",
           "radialaxis": {
            "gridcolor": "#506784",
            "linecolor": "#506784",
            "ticks": ""
           }
          },
          "scene": {
           "xaxis": {
            "backgroundcolor": "rgb(17,17,17)",
            "gridcolor": "#506784",
            "gridwidth": 2,
            "linecolor": "#506784",
            "showbackground": true,
            "ticks": "",
            "zerolinecolor": "#C8D4E3"
           },
           "yaxis": {
            "backgroundcolor": "rgb(17,17,17)",
            "gridcolor": "#506784",
            "gridwidth": 2,
            "linecolor": "#506784",
            "showbackground": true,
            "ticks": "",
            "zerolinecolor": "#C8D4E3"
           },
           "zaxis": {
            "backgroundcolor": "rgb(17,17,17)",
            "gridcolor": "#506784",
            "gridwidth": 2,
            "linecolor": "#506784",
            "showbackground": true,
            "ticks": "",
            "zerolinecolor": "#C8D4E3"
           }
          },
          "shapedefaults": {
           "line": {
            "color": "#f2f5fa"
           }
          },
          "sliderdefaults": {
           "bgcolor": "#C8D4E3",
           "bordercolor": "rgb(17,17,17)",
           "borderwidth": 1,
           "tickwidth": 0
          },
          "ternary": {
           "aaxis": {
            "gridcolor": "#506784",
            "linecolor": "#506784",
            "ticks": ""
           },
           "baxis": {
            "gridcolor": "#506784",
            "linecolor": "#506784",
            "ticks": ""
           },
           "bgcolor": "rgb(17,17,17)",
           "caxis": {
            "gridcolor": "#506784",
            "linecolor": "#506784",
            "ticks": ""
           }
          },
          "title": {
           "x": 0.05
          },
          "updatemenudefaults": {
           "bgcolor": "#506784",
           "borderwidth": 0
          },
          "xaxis": {
           "automargin": true,
           "gridcolor": "#283442",
           "linecolor": "#506784",
           "ticks": "",
           "title": {
            "standoff": 15
           },
           "zerolinecolor": "#283442",
           "zerolinewidth": 2
          },
          "yaxis": {
           "automargin": true,
           "gridcolor": "#283442",
           "linecolor": "#506784",
           "ticks": "",
           "title": {
            "standoff": 15
           },
           "zerolinecolor": "#283442",
           "zerolinewidth": 2
          }
         }
        },
        "xaxis": {
         "anchor": "y",
         "domain": [
          0,
          1
         ],
         "title": {
          "text": "Distance"
         }
        },
        "yaxis": {
         "anchor": "x",
         "domain": [
          0,
          1
         ],
         "title": {
          "text": "k_j"
         }
        }
       }
      },
      "text/html": [
       "<div>                            <div id=\"742e802a-faaf-491d-b37d-8020695a6bb7\" class=\"plotly-graph-div\" style=\"height:525px; width:100%;\"></div>            <script type=\"text/javascript\">                require([\"plotly\"], function(Plotly) {                    window.PLOTLYENV=window.PLOTLYENV || {};                                    if (document.getElementById(\"742e802a-faaf-491d-b37d-8020695a6bb7\")) {                    Plotly.newPlot(                        \"742e802a-faaf-491d-b37d-8020695a6bb7\",                        [{\"name\": \"True\", \"type\": \"scatter\", \"y\": [0.05, 0.05, 0.05, 0.05, 0.05, 0.05, 0.05, 0.05, 0.05, 0.05, 0.05, 0.05, 0.05, 0.05, 0.05, 0.05, 0.05, 0.05, 0.05, 0.05, 0.05, 0.05, 0.05, 0.05, 0.05, 0.05, 0.05, 0.05, 0.05, 0.05, 0.05, 0.05, 0.05, 0.05, 0.05, 0.05, 0.05, 0.05, 0.05, 0.05, 0.05, 0.05, 0.05, 0.05, 0.05, 0.05, 0.05, 0.05, 0.05, 0.05, 0.01, 0.01, 0.01, 0.01, 0.01, 0.01, 0.01, 0.01, 0.01, 0.01, 0.05, 0.05, 0.05, 0.05, 0.05, 0.05, 0.05, 0.05, 0.05, 0.05, 0.05, 0.05, 0.05, 0.05, 0.05, 0.05, 0.05, 0.05, 0.05, 0.05, 0.05, 0.05, 0.05, 0.05, 0.05, 0.05, 0.05, 0.05, 0.05, 0.05, 0.05, 0.05, 0.05, 0.05, 0.05, 0.05, 0.05, 0.05, 0.05, 0.05]}, {\"line\": {\"dash\": \"dash\"}, \"name\": \"Estimated\", \"type\": \"scatter\", \"y\": [0.050578248332125396, 0.05045277580982763, 0.05024070107473751, 0.05020600868511497, 0.05019411232815852, 0.05018774070941356, 0.05018214217221508, 0.05017526187009194, 0.050165968838954994, 0.05015284141622645, 0.05013458993128295, 0.05004148165500488, 0.050045080658951906, 0.05004816341224296, 0.05005088396397562, 0.05005334395410659, 0.050055612985525126, 0.0500577431322151, 0.050059779909021045, 0.0500617721923999, 0.050063783804030135, 0.050065910009631606, 0.050068305726709235, 0.05007124666153843, 0.05007522636693681, 0.050081077597076695, 0.05001700225328063, 0.05001878112672425, 0.050020535744156755, 0.050022298653727315, 0.050024109947310165, 0.050026020118377534, 0.050028093992983316, 0.050030416243098896, 0.050033099213082216, 0.050036294119349706, 0.0500402069204836, 0.05004511898363153, 0.05005140725079017, 0.05005954298349727, 0.050070060446246296, 0.03717280966258763, 0.03717031612874535, 0.03716948854676528, 0.03716925386859319, 0.03716924992280578, 0.03716932666915675, 0.03716941249129133, 0.03716947073995872, 0.037169481630111606, 0.013349612519412293, 0.012923412952153001, 0.012582559046243598, 0.012209346601102955, 0.011743918126100901, 0.011104187879702335, 0.010138027401075141, 0.008755049425413896, 0.008342991617769382, 0.008361233318951895, 0.03717512934711891, 0.03716981117142047, 0.03716433561717708, 0.04886401530287097, 0.04886180035993848, 0.04885955189765138, 0.04885726913461109, 0.04885495130888368, 0.048852597690151135, 0.04885020759537675, 0.048847780408810854, 0.05160331611713576, 0.05160198523828507, 0.05160063846027229, 0.05159927536204781, 0.051597895520278034, 0.05159649851139794, 0.05159508391423507, 0.05159365131331213, 0.05159220030294858, 0.051590730492288635, 0.05030204705204144, 0.05030193222555008, 0.050301821556985066, 0.05030171490611227, 0.05030161213380151, 0.050301513101373825, 0.05030141766991228, 0.05030132569952115, 0.05030123704852136, 0.05030115157256141, 0.05030106912361758, 0.05030098954884927, 0.05030091268926249, 0.050300838378117295, 0.050300766438992145, 0.05030069668338512, 0.05030062890768849, 0.050300562889310854, 0.050300498381639344]}, {\"marker\": {\"size\": 12}, \"mode\": \"markers\", \"name\": \"Sensors\", \"type\": \"scatter\", \"x\": [10, 25, 40, 62, 70, 80, 99], \"y\": [0.05, 0.05, 0.05, 0.05, 0.05, 0.05, 0.05]}],                        {\"template\": {\"data\": {\"bar\": [{\"error_x\": {\"color\": \"#f2f5fa\"}, \"error_y\": {\"color\": \"#f2f5fa\"}, \"marker\": {\"line\": {\"color\": \"rgb(17,17,17)\", \"width\": 0.5}}, \"type\": \"bar\"}], \"barpolar\": [{\"marker\": {\"line\": {\"color\": \"rgb(17,17,17)\", \"width\": 0.5}}, \"type\": \"barpolar\"}], \"carpet\": [{\"aaxis\": {\"endlinecolor\": \"#A2B1C6\", \"gridcolor\": \"#506784\", \"linecolor\": \"#506784\", \"minorgridcolor\": \"#506784\", \"startlinecolor\": \"#A2B1C6\"}, \"baxis\": {\"endlinecolor\": \"#A2B1C6\", \"gridcolor\": \"#506784\", \"linecolor\": \"#506784\", \"minorgridcolor\": \"#506784\", \"startlinecolor\": \"#A2B1C6\"}, \"type\": \"carpet\"}], \"choropleth\": [{\"colorbar\": {\"outlinewidth\": 0, \"ticks\": \"\"}, \"type\": \"choropleth\"}], \"contour\": [{\"colorbar\": {\"outlinewidth\": 0, \"ticks\": \"\"}, \"colorscale\": [[0.0, \"#0d0887\"], [0.1111111111111111, \"#46039f\"], [0.2222222222222222, \"#7201a8\"], [0.3333333333333333, \"#9c179e\"], [0.4444444444444444, \"#bd3786\"], [0.5555555555555556, \"#d8576b\"], [0.6666666666666666, \"#ed7953\"], [0.7777777777777778, \"#fb9f3a\"], [0.8888888888888888, \"#fdca26\"], [1.0, \"#f0f921\"]], \"type\": \"contour\"}], \"contourcarpet\": [{\"colorbar\": {\"outlinewidth\": 0, \"ticks\": \"\"}, \"type\": \"contourcarpet\"}], \"heatmap\": [{\"colorbar\": {\"outlinewidth\": 0, \"ticks\": \"\"}, \"colorscale\": [[0.0, \"#0d0887\"], [0.1111111111111111, \"#46039f\"], [0.2222222222222222, \"#7201a8\"], [0.3333333333333333, \"#9c179e\"], [0.4444444444444444, \"#bd3786\"], [0.5555555555555556, \"#d8576b\"], [0.6666666666666666, \"#ed7953\"], [0.7777777777777778, \"#fb9f3a\"], [0.8888888888888888, \"#fdca26\"], [1.0, \"#f0f921\"]], \"type\": \"heatmap\"}], \"heatmapgl\": [{\"colorbar\": {\"outlinewidth\": 0, \"ticks\": \"\"}, \"colorscale\": [[0.0, \"#0d0887\"], [0.1111111111111111, \"#46039f\"], [0.2222222222222222, \"#7201a8\"], [0.3333333333333333, \"#9c179e\"], [0.4444444444444444, \"#bd3786\"], [0.5555555555555556, \"#d8576b\"], [0.6666666666666666, \"#ed7953\"], [0.7777777777777778, \"#fb9f3a\"], [0.8888888888888888, \"#fdca26\"], [1.0, \"#f0f921\"]], \"type\": \"heatmapgl\"}], \"histogram\": [{\"marker\": {\"colorbar\": {\"outlinewidth\": 0, \"ticks\": \"\"}}, \"type\": \"histogram\"}], \"histogram2d\": [{\"colorbar\": {\"outlinewidth\": 0, \"ticks\": \"\"}, \"colorscale\": [[0.0, \"#0d0887\"], [0.1111111111111111, \"#46039f\"], [0.2222222222222222, \"#7201a8\"], [0.3333333333333333, \"#9c179e\"], [0.4444444444444444, \"#bd3786\"], [0.5555555555555556, \"#d8576b\"], [0.6666666666666666, \"#ed7953\"], [0.7777777777777778, \"#fb9f3a\"], [0.8888888888888888, \"#fdca26\"], [1.0, \"#f0f921\"]], \"type\": \"histogram2d\"}], \"histogram2dcontour\": [{\"colorbar\": {\"outlinewidth\": 0, \"ticks\": \"\"}, \"colorscale\": [[0.0, \"#0d0887\"], [0.1111111111111111, \"#46039f\"], [0.2222222222222222, \"#7201a8\"], [0.3333333333333333, \"#9c179e\"], [0.4444444444444444, \"#bd3786\"], [0.5555555555555556, \"#d8576b\"], [0.6666666666666666, \"#ed7953\"], [0.7777777777777778, \"#fb9f3a\"], [0.8888888888888888, \"#fdca26\"], [1.0, \"#f0f921\"]], \"type\": \"histogram2dcontour\"}], \"mesh3d\": [{\"colorbar\": {\"outlinewidth\": 0, \"ticks\": \"\"}, \"type\": \"mesh3d\"}], \"parcoords\": [{\"line\": {\"colorbar\": {\"outlinewidth\": 0, \"ticks\": \"\"}}, \"type\": \"parcoords\"}], \"pie\": [{\"automargin\": true, \"type\": \"pie\"}], \"scatter\": [{\"marker\": {\"line\": {\"color\": \"#283442\"}}, \"type\": \"scatter\"}], \"scatter3d\": [{\"line\": {\"colorbar\": {\"outlinewidth\": 0, \"ticks\": \"\"}}, \"marker\": {\"colorbar\": {\"outlinewidth\": 0, \"ticks\": \"\"}}, \"type\": \"scatter3d\"}], \"scattercarpet\": [{\"marker\": {\"colorbar\": {\"outlinewidth\": 0, \"ticks\": \"\"}}, \"type\": \"scattercarpet\"}], \"scattergeo\": [{\"marker\": {\"colorbar\": {\"outlinewidth\": 0, \"ticks\": \"\"}}, \"type\": \"scattergeo\"}], \"scattergl\": [{\"marker\": {\"line\": {\"color\": \"#283442\"}}, \"type\": \"scattergl\"}], \"scattermapbox\": [{\"marker\": {\"colorbar\": {\"outlinewidth\": 0, \"ticks\": \"\"}}, \"type\": \"scattermapbox\"}], \"scatterpolar\": [{\"marker\": {\"colorbar\": {\"outlinewidth\": 0, \"ticks\": \"\"}}, \"type\": \"scatterpolar\"}], \"scatterpolargl\": [{\"marker\": {\"colorbar\": {\"outlinewidth\": 0, \"ticks\": \"\"}}, \"type\": \"scatterpolargl\"}], \"scatterternary\": [{\"marker\": {\"colorbar\": {\"outlinewidth\": 0, \"ticks\": \"\"}}, \"type\": \"scatterternary\"}], \"surface\": [{\"colorbar\": {\"outlinewidth\": 0, \"ticks\": \"\"}, \"colorscale\": [[0.0, \"#0d0887\"], [0.1111111111111111, \"#46039f\"], [0.2222222222222222, \"#7201a8\"], [0.3333333333333333, \"#9c179e\"], [0.4444444444444444, \"#bd3786\"], [0.5555555555555556, \"#d8576b\"], [0.6666666666666666, \"#ed7953\"], [0.7777777777777778, \"#fb9f3a\"], [0.8888888888888888, \"#fdca26\"], [1.0, \"#f0f921\"]], \"type\": \"surface\"}], \"table\": [{\"cells\": {\"fill\": {\"color\": \"#506784\"}, \"line\": {\"color\": \"rgb(17,17,17)\"}}, \"header\": {\"fill\": {\"color\": \"#2a3f5f\"}, \"line\": {\"color\": \"rgb(17,17,17)\"}}, \"type\": \"table\"}]}, \"layout\": {\"annotationdefaults\": {\"arrowcolor\": \"#f2f5fa\", \"arrowhead\": 0, \"arrowwidth\": 1}, \"autotypenumbers\": \"strict\", \"coloraxis\": {\"colorbar\": {\"outlinewidth\": 0, \"ticks\": \"\"}}, \"colorscale\": {\"diverging\": [[0, \"#8e0152\"], [0.1, \"#c51b7d\"], [0.2, \"#de77ae\"], [0.3, \"#f1b6da\"], [0.4, \"#fde0ef\"], [0.5, \"#f7f7f7\"], [0.6, \"#e6f5d0\"], [0.7, \"#b8e186\"], [0.8, \"#7fbc41\"], [0.9, \"#4d9221\"], [1, \"#276419\"]], \"sequential\": [[0.0, \"#0d0887\"], [0.1111111111111111, \"#46039f\"], [0.2222222222222222, \"#7201a8\"], [0.3333333333333333, \"#9c179e\"], [0.4444444444444444, \"#bd3786\"], [0.5555555555555556, \"#d8576b\"], [0.6666666666666666, \"#ed7953\"], [0.7777777777777778, \"#fb9f3a\"], [0.8888888888888888, \"#fdca26\"], [1.0, \"#f0f921\"]], \"sequentialminus\": [[0.0, \"#0d0887\"], [0.1111111111111111, \"#46039f\"], [0.2222222222222222, \"#7201a8\"], [0.3333333333333333, \"#9c179e\"], [0.4444444444444444, \"#bd3786\"], [0.5555555555555556, \"#d8576b\"], [0.6666666666666666, \"#ed7953\"], [0.7777777777777778, \"#fb9f3a\"], [0.8888888888888888, \"#fdca26\"], [1.0, \"#f0f921\"]]}, \"colorway\": [\"#636efa\", \"#EF553B\", \"#00cc96\", \"#ab63fa\", \"#FFA15A\", \"#19d3f3\", \"#FF6692\", \"#B6E880\", \"#FF97FF\", \"#FECB52\"], \"font\": {\"color\": \"#f2f5fa\"}, \"geo\": {\"bgcolor\": \"rgb(17,17,17)\", \"lakecolor\": \"rgb(17,17,17)\", \"landcolor\": \"rgb(17,17,17)\", \"showlakes\": true, \"showland\": true, \"subunitcolor\": \"#506784\"}, \"hoverlabel\": {\"align\": \"left\"}, \"hovermode\": \"closest\", \"mapbox\": {\"style\": \"dark\"}, \"paper_bgcolor\": \"rgb(17,17,17)\", \"plot_bgcolor\": \"rgb(17,17,17)\", \"polar\": {\"angularaxis\": {\"gridcolor\": \"#506784\", \"linecolor\": \"#506784\", \"ticks\": \"\"}, \"bgcolor\": \"rgb(17,17,17)\", \"radialaxis\": {\"gridcolor\": \"#506784\", \"linecolor\": \"#506784\", \"ticks\": \"\"}}, \"scene\": {\"xaxis\": {\"backgroundcolor\": \"rgb(17,17,17)\", \"gridcolor\": \"#506784\", \"gridwidth\": 2, \"linecolor\": \"#506784\", \"showbackground\": true, \"ticks\": \"\", \"zerolinecolor\": \"#C8D4E3\"}, \"yaxis\": {\"backgroundcolor\": \"rgb(17,17,17)\", \"gridcolor\": \"#506784\", \"gridwidth\": 2, \"linecolor\": \"#506784\", \"showbackground\": true, \"ticks\": \"\", \"zerolinecolor\": \"#C8D4E3\"}, \"zaxis\": {\"backgroundcolor\": \"rgb(17,17,17)\", \"gridcolor\": \"#506784\", \"gridwidth\": 2, \"linecolor\": \"#506784\", \"showbackground\": true, \"ticks\": \"\", \"zerolinecolor\": \"#C8D4E3\"}}, \"shapedefaults\": {\"line\": {\"color\": \"#f2f5fa\"}}, \"sliderdefaults\": {\"bgcolor\": \"#C8D4E3\", \"bordercolor\": \"rgb(17,17,17)\", \"borderwidth\": 1, \"tickwidth\": 0}, \"ternary\": {\"aaxis\": {\"gridcolor\": \"#506784\", \"linecolor\": \"#506784\", \"ticks\": \"\"}, \"baxis\": {\"gridcolor\": \"#506784\", \"linecolor\": \"#506784\", \"ticks\": \"\"}, \"bgcolor\": \"rgb(17,17,17)\", \"caxis\": {\"gridcolor\": \"#506784\", \"linecolor\": \"#506784\", \"ticks\": \"\"}}, \"title\": {\"x\": 0.05}, \"updatemenudefaults\": {\"bgcolor\": \"#506784\", \"borderwidth\": 0}, \"xaxis\": {\"automargin\": true, \"gridcolor\": \"#283442\", \"linecolor\": \"#506784\", \"ticks\": \"\", \"title\": {\"standoff\": 15}, \"zerolinecolor\": \"#283442\", \"zerolinewidth\": 2}, \"yaxis\": {\"automargin\": true, \"gridcolor\": \"#283442\", \"linecolor\": \"#506784\", \"ticks\": \"\", \"title\": {\"standoff\": 15}, \"zerolinecolor\": \"#283442\", \"zerolinewidth\": 2}}}, \"xaxis\": {\"anchor\": \"y\", \"domain\": [0.0, 1.0], \"title\": {\"text\": \"Distance\"}}, \"yaxis\": {\"anchor\": \"x\", \"domain\": [0.0, 1.0], \"title\": {\"text\": \"k_j\"}}},                        {\"responsive\": true}                    ).then(function(){\n",
       "                            \n",
       "var gd = document.getElementById('742e802a-faaf-491d-b37d-8020695a6bb7');\n",
       "var x = new MutationObserver(function (mutations, observer) {{\n",
       "        var display = window.getComputedStyle(gd).display;\n",
       "        if (!display || display === 'none') {{\n",
       "            console.log([gd, 'removed!']);\n",
       "            Plotly.purge(gd);\n",
       "            observer.disconnect();\n",
       "        }}\n",
       "}});\n",
       "\n",
       "// Listen for the removal of the full notebook cells\n",
       "var notebookContainer = gd.closest('#notebook-container');\n",
       "if (notebookContainer) {{\n",
       "    x.observe(notebookContainer, {childList: true});\n",
       "}}\n",
       "\n",
       "// Listen for the clearing of the current output cell\n",
       "var outputEl = gd.closest('.output');\n",
       "if (outputEl) {{\n",
       "    x.observe(outputEl, {childList: true});\n",
       "}}\n",
       "\n",
       "                        })                };                });            </script>        </div>"
      ]
     },
     "metadata": {},
     "output_type": "display_data"
    }
   ],
   "source": [
    "fig3=make_subplots()\n",
    "#fig3.add_trace(go.Scatter(y=kj, name='$\\\\text{True} \\ k_j$'))\n",
    "#fig3.add_trace(go.Scatter(y=tdnu.kappa.detach(), name='$\\\\text{Estimated} \\ k_j$', line=dict(dash='dash')))\n",
    "fig3.add_trace(go.Scatter(y=kj, name='True'))\n",
    "fig3.add_trace(go.Scatter(y=tdnu.kappa.detach(), name='Estimated', line=dict(dash='dash')))\n",
    "fig3.add_trace(go.Scatter(x=xi, y=kj[xi], name='Sensors', mode='markers',\n",
    "                         marker=dict(size=12)))\n",
    "fig3.update_yaxes(title=\"k_j\")\n",
    "fig3.update_xaxes(title=\"Distance\")"
   ]
  },
  {
   "cell_type": "code",
   "execution_count": 79,
   "metadata": {},
   "outputs": [],
   "source": [
    "fig3.write_html(\"kj_estimate_sparse.html\")"
   ]
  }
 ],
 "metadata": {
  "kernelspec": {
   "display_name": "Python 3",
   "language": "python",
   "name": "python3"
  },
  "language_info": {
   "codemirror_mode": {
    "name": "ipython",
    "version": 3
   },
   "file_extension": ".py",
   "mimetype": "text/x-python",
   "name": "python",
   "nbconvert_exporter": "python",
   "pygments_lexer": "ipython3",
   "version": "3.8.5"
  }
 },
 "nbformat": 4,
 "nbformat_minor": 2
}
