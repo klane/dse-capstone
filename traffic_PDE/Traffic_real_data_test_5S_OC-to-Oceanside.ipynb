{
 "cells": [
  {
   "cell_type": "markdown",
   "metadata": {},
   "source": [
    "## Numerical Solution of LWR model:\n",
    "\n",
    "Lighthill-Whitham-Richards model (commonly used for traffic flow):\n",
    "\n",
    "\\begin{equation}\n",
    "\\frac{\\partial q}{\\partial x} + \\frac{\\partial k}{\\partial t} = 0\n",
    "\\end{equation}\n",
    "\n",
    "But $q$ is a function of $k$ (Greenshield model): \n",
    "$$\n",
    "q(k) = k(k_j - k) = k k_j -k^2\n",
    "$$\n",
    "\n",
    "Therefore\n",
    "$$\n",
    "\\frac{\\partial k}{\\partial t} + \\frac{dq}{dk}\\frac{\\partial k}{\\partial x} =0\n",
    "$$\n",
    "\n",
    "$$\n",
    "\\frac{d(q(k))}{dk} = 1(k_j - k) + k(-1) = k_j - 2k\n",
    "$$\n",
    "\n",
    "And\n",
    "$$\n",
    "\\frac{\\partial k}{\\partial t} + (k_j - 2k) \\frac{\\partial k}{\\partial x} = 0\n",
    "$$"
   ]
  },
  {
   "cell_type": "code",
   "execution_count": 1,
   "metadata": {},
   "outputs": [
    {
     "data": {
      "text/plain": [
       "<matplotlib.collections.LineCollection at 0x7f23f48544c0>"
      ]
     },
     "execution_count": 1,
     "metadata": {},
     "output_type": "execute_result"
    },
    {
     "data": {
      "image/png": "[encoded data removed]",
      "text/plain": [
       "<Figure size 432x288 with 1 Axes>"
      ]
     },
     "metadata": {},
     "output_type": "display_data"
    }
   ],
   "source": [
    "# k can never be higher than kj, which is the jam density.\n",
    "# Therefore, using k > kj results in instabilities!\n",
    "def greenshield(k, kj=1.):\n",
    "    q=k*(kj-k)\n",
    "    return q\n",
    "\n",
    "import numpy as np\n",
    "k=np.arange(0., 1.01, 0.01)\n",
    "import matplotlib.pyplot as plt\n",
    "q=greenshield(k)\n",
    "plt.style.use('dark_background')\n",
    "plt.plot(k,q)\n",
    "plt.vlines(0.5, 0, 0.30)"
   ]
  },
  {
   "cell_type": "markdown",
   "metadata": {},
   "source": [
    "$$\n",
    "\\frac{\\partial k}{\\partial t} = (2k - k_j) \\frac{\\partial k}{\\partial x}\n",
    "$$"
   ]
  },
  {
   "cell_type": "markdown",
   "metadata": {},
   "source": [
    "\\begin{equation}\n",
    "\\frac{k(t+\\Delta t, x_n) - k(t, x_n)}{\\Delta t} =  \\left(2k(t, x) - k_j\\right) \\frac{\\partial k}{\\partial x}\n",
    "\\end{equation}"
   ]
  },
  {
   "cell_type": "markdown",
   "metadata": {},
   "source": [
    "\\begin{align}\n",
    "k(t + \\Delta t, x_n) =& k(t, x) + \\Delta t \\left(2k(t, x) - k_j\\right) \\frac{\\partial k}{\\partial x}\n",
    "\\end{align}"
   ]
  },
  {
   "cell_type": "markdown",
   "metadata": {},
   "source": [
    "\\begin{align}\n",
    "\\frac{\\partial{k}}{\\partial x} \\approx \\frac{k(t, x + \\Delta x) - k(t,x - \\Delta x)}{2 \\Delta x} \\\\\n",
    "                               \\approx \\frac{k(t, x + \\Delta x) - k(t, x)}{\\Delta x} \\\\\n",
    "\\end{align}"
   ]
  },
  {
   "cell_type": "markdown",
   "metadata": {},
   "source": [
    "If I remember correctly the central difference formula is unstable when used with the forward time step, \n",
    "but I will check into this.\n",
    "\n",
    "**Update:** Yes, that's correct.  See Gaddam *et al.*., 2015.  Only the upwind scheme is stable, downwind and central are unstable.  Alternative leapfrog \n",
    "or higher order methods are mentioned in this reference.\n",
    "\n",
    "Discretizing along t_i for i=0,$n_t$ and x_n for n=0, $n_x$.\n",
    "$k_n^i$ equals the traffic density at time $t_i$ and position $n_i$.\n",
    "\n",
    "Sampling rates are $\\Delta t$ and $\\Delta x$, respectively.\n",
    "$k_j(x)$ is location dependent.  Call it $\\kappa_n$."
   ]
  },
  {
   "cell_type": "markdown",
   "metadata": {},
   "source": [
    "$$\n",
    "k_n^{i+1} = k_n^i + \\Delta t  (2 k_n^i - \\kappa_n) \\frac{k_{n+1}^i - k_n^i}{\\Delta x}\n",
    "$$"
   ]
  },
  {
   "cell_type": "markdown",
   "metadata": {},
   "source": [
    "In a real world scenario, we wouldn't have data at every point along the discretized distance.\n",
    "This is different from the scenario tested here.  Therefore, the functions needs to be modified\n",
    "to internally calculate points with the discretization distance needed to fulfill the stability criterion, while outputting predictions only where data is available."
   ]
  },
  {
   "cell_type": "code",
   "execution_count": 2,
   "metadata": {},
   "outputs": [],
   "source": [
    "import numpy as np"
   ]
  },
  {
   "cell_type": "markdown",
   "metadata": {},
   "source": [
    "## Considerations for time and grid step in numerical solution\n",
    "\n",
    "The CFL condition applies:\n",
    "\n",
    "\\begin{equation}\n",
    "C = \\frac{u \\Delta t}{\\Delta x} \\leq C_\\max,\n",
    "\\end{equation}\n",
    "\n",
    "where $C_\\max = 1$.\n",
    "\n",
    "Using $u$ = 120 km/h and $\\Delta t = \\frac{1}{12}$ hour, $\\Delta x$ needs to be smaller or equal to 10 km to meet the CFL condition:\n",
    "\n",
    "\\begin{equation}\n",
    "\\Delta x = \\frac{u \\Delta t}{C} = \\frac{120 \\text{ km/h} \\cdot \\frac{1}{12} \\text{h}}{1.0} = 10 km\n",
    "\\end{equation}\n",
    "\n",
    "However, the total length of the segment to model, is 12 km, and receivers spacings vary from 100 m to 1 km.  Therefore, $\\Delta x$ needs to be 0.1 km or less and the appropriate time step to use is\n",
    "\n",
    "\\begin{equation}\n",
    "\\Delta t = \\frac{C}{u} \\Delta x = 1 \\frac{0.1 \\text{ km}}{120 \\text{ km/h}} = \\frac{1}{1200} \\text{h} = 3 s\n",
    "\\end{equation}\n",
    "\n",
    "It might be easier to work in SI units (seconds and meters instead).  $\\Delta x = 100 m$, and $u$ = 33.33 m/s.\n",
    "\n",
    "As $\\Delta t$ = 3 s, and the traffic density is provided once every 5 mins / 300 seconds, one out of 100 timesteps is being output (`tskip = 100`)."
   ]
  },
  {
   "cell_type": "code",
   "execution_count": 3,
   "metadata": {},
   "outputs": [],
   "source": [
    "import plotly.express as px\n",
    "import plotly.graph_objects as go\n",
    "from plotly.subplots import make_subplots\n",
    "from ipywidgets import widgets"
   ]
  },
  {
   "cell_type": "code",
   "execution_count": 4,
   "metadata": {},
   "outputs": [],
   "source": [
    "import torch \n",
    "import torch.nn as nn"
   ]
  },
  {
   "cell_type": "code",
   "execution_count": 5,
   "metadata": {},
   "outputs": [
    {
     "name": "stdout",
     "output_type": "stream",
     "text": [
      "cpu\n"
     ]
    }
   ],
   "source": [
    "#device = torch.device(\"cuda\" if torch.cuda.is_available() else \"cpu\")\n",
    "import os\n",
    "#os.environ[\"CUDA_DEVICE_ORDER\"]=\"PCI_BUS_ID\"\n",
    "#os.environ[\"CUDA_VISIBLE_DEVICES\"]=\"4\"\n",
    "device = torch.device(\"cpu\")\n",
    "print(device)\n",
    "import matplotlib.pyplot as plt\n",
    "from tqdm import tqdm"
   ]
  },
  {
   "cell_type": "code",
   "execution_count": 6,
   "metadata": {},
   "outputs": [],
   "source": [
    "import matplotlib.pyplot as plt\n",
    "plt.style.use('dark_background')"
   ]
  },
  {
   "cell_type": "code",
   "execution_count": 183,
   "metadata": {},
   "outputs": [],
   "source": [
    "class Neural_LWR_sparse2(nn.Module):\n",
    "    def __init__(self, nx, dx, dt, kj, xi, tskip, initial='random', boundary='zeros'):\n",
    "        self.nx = nx\n",
    "        #xi are the locations along distance where data is available\n",
    "        self.xi = xi\n",
    "        self.tskip = tskip\n",
    "            \n",
    "        super(Neural_LWR_sparse2, self).__init__()\n",
    "        if initial == 'random':\n",
    "            #self.initial = torch.nn.Parameter(torch.rand(nx))\n",
    "            self.initial = torch.rand(nx)\n",
    "        elif initial == 'zeros':\n",
    "            self.initial = torch.zeros(nx, requires_grad=True).double()\n",
    "            #self.initial[0] = self.boundary[0]\n",
    "        else:\n",
    "            #self.initial = torch.nn.Parameter(initial)\n",
    "            self.initial = torch.tensor(initial)\n",
    "            \n",
    "        # influx at upstream border - needs to be known or assumed\n",
    "        if boundary == 'zeros':\n",
    "            self.boundary = torch.zeros(nt, requires_grad=True).double()\n",
    "        else:\n",
    "            self.boundary = torch.tensor(boundary)\n",
    "            \n",
    "        #initial conditions\n",
    "        #self.k[0] = self.initial\n",
    "        \n",
    "        self.kappa=torch.nn.Parameter(kj, requires_grad=True)\n",
    "        \n",
    "        self.dx = torch.tensor(dx)\n",
    "        self.dt = torch.tensor(dt)\n",
    "        \n",
    "    def forward(self, tsteps):\n",
    "        \n",
    "        nt=len(tsteps)\n",
    "        self.k=[self.initial]\n",
    "        \n",
    "        self.ki=[self.initial[self.xi]]\n",
    "        ##self.k=torch.zeros((nt,nx), dtype=torch.double)\n",
    "        #self.k=torch.zeros((nt,nx), requires_grad=True).double()\n",
    "        #self.k[0:50,0]=self.kappa[0]/2.\n",
    "        \n",
    "        for n in range(1,nt):\n",
    "            tmp1=2*self.k[n-1][1:] - self.kappa[1:]\n",
    "            #This corresponds to the upwind scheme according to Gaddam et al. (2015).\n",
    "            tmp2=(self.k[n-1][1:]-self.k[n-1][:-1]) / self.dx\n",
    "            #tmp1=2*self.k[n-1,1:] - self.kappa[1:]\n",
    "            #tmp2=(self.k[n-1,1:]-self.k[n-1,:-1]) / self.dx\n",
    "            #nk=torch.DoubleTensor(nx)\n",
    "            nk=torch.zeros(nx, requires_grad=True).double()\n",
    "\n",
    "            nk[0] = self.boundary[n]\n",
    "            nk[1:]=self.k[n-1][1:] + self.dt*tmp1 * tmp2\n",
    "            \n",
    "            #force k to be less or equal kappa\n",
    "            idx = nk > self.kappa\n",
    "            nk[idx] = self.kappa[idx]\n",
    "            \n",
    "            self.k.append(nk)\n",
    "            #only output every tskip timesteps\n",
    "            if (n % self.tskip) == 0:\n",
    "                self.ki.append(nk[self.xi])\n",
    "            #self.k[n,1:] = self.k[n-1,1:] + self.dt*tmp1 * tmp2\n",
    "            #self.k.append(self.k[n][1:] + self.dt*(2*self.k[n][1:] - self.kappa[1:]) * \\\n",
    "            #    (self.k[n][1:]-self.k[n][:-1]) / self.dx)\n",
    "            \n",
    "        return torch.stack(self.ki)\n",
    "        #return self.k"
   ]
  },
  {
   "cell_type": "code",
   "execution_count": 184,
   "metadata": {},
   "outputs": [
    {
     "name": "stdout",
     "output_type": "stream",
     "text": [
      "torch.Size([71, 31])\n"
     ]
    }
   ],
   "source": [
    "y_exact=torch.load(\"5S_191111_torch.pt\")\n",
    "#y_exact=y_exact[0:5,:]\n",
    "print(y_exact.shape)"
   ]
  },
  {
   "cell_type": "code",
   "execution_count": 185,
   "metadata": {
    "scrolled": true
   },
   "outputs": [
    {
     "data": {
      "text/plain": [
       "tensor(0.0868, dtype=torch.float64)"
      ]
     },
     "execution_count": 185,
     "metadata": {},
     "output_type": "execute_result"
    }
   ],
   "source": [
    "y_exact.mean().mean()"
   ]
  },
  {
   "cell_type": "code",
   "execution_count": 205,
   "metadata": {},
   "outputs": [
    {
     "name": "stdout",
     "output_type": "stream",
     "text": [
      "10 2130\n"
     ]
    }
   ],
   "source": [
    "import numpy as np\n",
    "#nx=350  # \n",
    "nx=120\n",
    "#kj needs to be larger than k for the solution to be stable\n",
    "kj = np.ones((nx,), dtype=float) * 1.00\n",
    "\n",
    "dx=300.\n",
    "dt=10\n",
    "#need an output every 5 mins (300 s), so tskip = 3 with dt = 3s\n",
    "#tskip=100\n",
    "tskip=30\n",
    "#nt=int(3600*6/6 - 50)\n",
    "#nt=7099 #6 hours (times 3600 s/hour divided by dt=3s)\n",
    "nto=(y_exact.shape[0]+1)\n",
    "#nt=int(3600*nto/12/6/dt - tskip)\n",
    "dtobs=300\n",
    "nt=int((dtobs*nto)/dt - tskip)\n",
    "print(dt,nt)\n",
    "\n",
    "#assert int(nt/tskip) == nto"
   ]
  },
  {
   "cell_type": "code",
   "execution_count": 206,
   "metadata": {},
   "outputs": [
    {
     "name": "stdout",
     "output_type": "stream",
     "text": [
      "[0, 4, 12, 22, 32, 39, 46, 50, 54, 57, 59, 63, 66, 69, 71, 74, 76, 81, 84, 86, 89, 91, 95, 96, 98, 100, 102, 105, 108, 110, 112]\n"
     ]
    }
   ],
   "source": [
    "#import pandas as pd\n",
    "import json\n",
    "\n",
    "station_pos_idx=json.load(open(\"5S_station_pos_idx_dx=%04dm.json\" % int(dx), \"rb\"))\n",
    "#station_pos_idx=pd.read_json(\"station_pos_idx.json\")\n",
    "xi=list(station_pos_idx.values())\n",
    "\n",
    "xi0=xi[0]\n",
    "for p in range(len(xi)):\n",
    "    xi[p] = xi[p] - xi0\n",
    "\n",
    "#shift xi's such that model starts at first receiver\n",
    "#(because observed data at this receiver is input at upstream model end)\n",
    "print(xi)\n",
    "#xi=xi-xi[0]\n",
    "#xi"
   ]
  },
  {
   "cell_type": "markdown",
   "metadata": {},
   "source": [
    "The exact solution is provided in cars / km.  However, I changed the units from km and hours to meters and seconds.  Therefore, the density should be divided by 1000.\n",
    "\n",
    "**Update:** Not needed, `avg_occupancy` is already given in cars/meters (check this.  They might be using miles)."
   ]
  },
  {
   "cell_type": "code",
   "execution_count": 207,
   "metadata": {},
   "outputs": [],
   "source": [
    "steps=torch.tensor(np.linspace(0, nt, nt), requires_grad=True).float()"
   ]
  },
  {
   "cell_type": "markdown",
   "metadata": {},
   "source": [
    "Defining the initial values of the traffic density in the model.  They need to be defined on every point on the computational grid, not just at those positions where there is data.  I am interpolating them between the sensors, and extrapolating using initial values on the end sensors."
   ]
  },
  {
   "cell_type": "code",
   "execution_count": 208,
   "metadata": {},
   "outputs": [
    {
     "name": "stdout",
     "output_type": "stream",
     "text": [
      "[0, 4, 12, 22, 32, 39, 46, 50, 54, 57, 59, 63, 66, 69, 71, 74, 76, 81, 84, 86, 89, 91, 95, 96, 98, 100, 102, 105, 108, 110, 112]\n"
     ]
    }
   ],
   "source": [
    "from scipy.interpolate import interp1d\n",
    "print(xi)\n",
    "IM=interp1d(np.array(xi)*dx, y_exact[0,:].numpy(), bounds_error=False, \n",
    "            fill_value=(y_exact[0,0], y_exact[0,-1]))"
   ]
  },
  {
   "cell_type": "code",
   "execution_count": 209,
   "metadata": {},
   "outputs": [
    {
     "name": "stdout",
     "output_type": "stream",
     "text": [
      "0.1965\n"
     ]
    }
   ],
   "source": [
    "x=np.linspace(0, (nx-1)*dx, nx)\n",
    "\n",
    "k_initial=IM(x)\n",
    "print(k_initial.max())"
   ]
  },
  {
   "cell_type": "markdown",
   "metadata": {},
   "source": [
    "The boundary condition at the upstream end also need to be interpolated:"
   ]
  },
  {
   "cell_type": "code",
   "execution_count": 210,
   "metadata": {},
   "outputs": [
    {
     "name": "stdout",
     "output_type": "stream",
     "text": [
      "71 71\n",
      "0.08789670145054401\n"
     ]
    },
    {
     "data": {
      "text/plain": [
       "[<matplotlib.lines.Line2D at 0x7f237d06b4f0>]"
      ]
     },
     "execution_count": 210,
     "metadata": {},
     "output_type": "execute_result"
    },
    {
     "data": {
      "image/png": "[encoded data removed]",
      "text/plain": [
       "<Figure size 432x288 with 1 Axes>"
      ]
     },
     "metadata": {},
     "output_type": "display_data"
    }
   ],
   "source": [
    "ti=np.arange(0, (nt-1)*dt, tskip*dt )\n",
    "print(len(ti), y_exact.shape[0])\n",
    "t=np.linspace(0, (nt-1)*dt, nt)\n",
    "#print(len(ti), len(y_exact))\n",
    "#print(t)\n",
    "IMb=interp1d(np.array(ti), y_exact[:,0].numpy(), bounds_error=False,\n",
    "             fill_value=(y_exact[0,0], y_exact[-1,0]),\n",
    "             kind='cubic')\n",
    "k_boundary=IMb(t)\n",
    "k_boundary.shape\n",
    "print(k_boundary.max())\n",
    "\n",
    "fig2,ax2=plt.subplots()\n",
    "ax2.plot(ti, y_exact[:,0], marker='o', linewidth=0)\n",
    "ax2.plot(t, k_boundary)"
   ]
  },
  {
   "cell_type": "code",
   "execution_count": 234,
   "metadata": {},
   "outputs": [
    {
     "name": "stderr",
     "output_type": "stream",
     "text": [
      "<ipython-input-183-17c7936fa25f>:9: FutureWarning: elementwise comparison failed; returning scalar instead, but in the future will perform elementwise comparison\n",
      "  if initial == 'random':\n",
      "<ipython-input-183-17c7936fa25f>:12: FutureWarning: elementwise comparison failed; returning scalar instead, but in the future will perform elementwise comparison\n",
      "  elif initial == 'zeros':\n",
      "<ipython-input-183-17c7936fa25f>:20: FutureWarning: elementwise comparison failed; returning scalar instead, but in the future will perform elementwise comparison\n",
      "  if boundary == 'zeros':\n"
     ]
    }
   ],
   "source": [
    "tdnu = Neural_LWR_sparse2(nx, dx, dt, torch.nn.Parameter(torch.tensor(kj)), xi, tskip, \n",
    "                          initial=k_initial, boundary=k_boundary)\n",
    "\n",
    "optimizer = torch.optim.Adam(tdnu.parameters(), lr=0.01)\n",
    "scheduler = torch.optim.lr_scheduler.StepLR(optimizer, step_size= 1, gamma=0.95) #0.95\n",
    "#torch.optim.lr_scheduler.StepLR?"
   ]
  },
  {
   "cell_type": "code",
   "execution_count": 235,
   "metadata": {},
   "outputs": [],
   "source": [
    "num_epochs = 150\n",
    "loss_fun = torch.nn.MSELoss()\n",
    "min_loss = 10"
   ]
  },
  {
   "cell_type": "code",
   "execution_count": 236,
   "metadata": {},
   "outputs": [
    {
     "name": "stdout",
     "output_type": "stream",
     "text": [
      "torch.Size([71, 31]) torch.Size([71, 31])\n"
     ]
    }
   ],
   "source": [
    "y_approx = tdnu(steps)\n",
    "print(y_exact.shape, y_approx.shape)"
   ]
  },
  {
   "cell_type": "code",
   "execution_count": 237,
   "metadata": {
    "scrolled": false
   },
   "outputs": [
    {
     "name": "stdout",
     "output_type": "stream",
     "text": [
      "tensor([0.0552, 0.0584, 0.0599, 0.0648, 0.0682, 0.0690, 0.0696, 0.0704, 0.0722,\n",
      "        0.0743, 0.0758, 0.0790, 0.0808, 0.0819, 0.0821, 0.0820, 0.0817, 0.0803,\n",
      "        0.0794, 0.0787, 0.0774, 0.0763, 0.0736, 0.0728, 0.0712, 0.0694, 0.0677,\n",
      "        0.0655, 0.0642, 0.0641, 0.0647], dtype=torch.float64,\n",
      "       grad_fn=<SelectBackward>)\n",
      "tensor([0.0552, 0.0894, 0.0688, 0.0776, 0.0586, 0.0535, 0.0490, 0.0558, 0.0469,\n",
      "        0.0478, 0.0502, 0.0689, 0.0611, 0.0715, 0.0604, 0.0625, 0.0662, 0.0605,\n",
      "        0.0630, 0.0605, 0.1152, 0.0542, 0.0610, 0.0571, 0.0675, 0.0660, 0.0556,\n",
      "        0.0857, 0.0873, 0.0664, 0.0797], dtype=torch.float64)\n",
      "0.074\n"
     ]
    },
    {
     "data": {
      "text/plain": [
       "<matplotlib.legend.Legend at 0x7f237d343550>"
      ]
     },
     "execution_count": 237,
     "metadata": {},
     "output_type": "execute_result"
    },
    {
     "data": {
      "image/png": "[encoded data removed]",
      "text/plain": [
       "<Figure size 432x288 with 1 Axes>"
      ]
     },
     "metadata": {},
     "output_type": "display_data"
    }
   ],
   "source": [
    "#y_approx\n",
    "print(y_approx[-1])\n",
    "print(y_exact[-1])\n",
    "fig,ax=plt.subplots()\n",
    "tp=4\n",
    "ax.plot(xi, y_exact[tp].detach(), label='observed', marker='o')\n",
    "#ax.plot(xi, y_approx[0].detach(), label='trained')\n",
    "ax.plot(tdnu.k[tp*tskip].detach(), label='simulated')\n",
    "print(k_boundary[tp*tskip])\n",
    "ax.legend()"
   ]
  },
  {
   "cell_type": "code",
   "execution_count": 238,
   "metadata": {},
   "outputs": [
    {
     "name": "stdout",
     "output_type": "stream",
     "text": [
      "71 71\n",
      "tensor(0.0008, dtype=torch.float64, grad_fn=<MseLossBackward>)\n"
     ]
    }
   ],
   "source": [
    "print(len(y_approx), len(y_exact))\n",
    "loss=loss_fun(y_approx, y_exact)\n",
    "#torch.cat(tdn.k, dim=1).shape\n",
    "#torch.cat([torch.tensor(p) for p in tdn.k], dim=1).shape\n",
    "print(loss)"
   ]
  },
  {
   "cell_type": "code",
   "execution_count": 239,
   "metadata": {},
   "outputs": [
    {
     "name": "stderr",
     "output_type": "stream",
     "text": [
      "100%|██████████| 150/150 [02:06<00:00,  1.19it/s, loss=0.000545]\n"
     ]
    }
   ],
   "source": [
    "tqdm_epochs = tqdm(range(num_epochs))\n",
    "for e in tqdm_epochs:\n",
    "    y_approx = tdnu(steps)\n",
    "    loss = loss_fun(y_approx, y_exact)\n",
    "    if loss.item() < min_loss:\n",
    "        best_model_lwr = tdnu\n",
    "    optimizer.zero_grad()\n",
    "    loss.backward(retain_graph=True)\n",
    "    optimizer.step()\n",
    "    tqdm_epochs.set_postfix({'loss': torch.sum(loss).item()})"
   ]
  },
  {
   "cell_type": "code",
   "execution_count": 273,
   "metadata": {
    "scrolled": false
   },
   "outputs": [
    {
     "data": {
      "text/plain": [
       "<matplotlib.legend.Legend at 0x7f237cab9880>"
      ]
     },
     "execution_count": 273,
     "metadata": {},
     "output_type": "execute_result"
    },
    {
     "data": {
      "image/png": "[encoded data removed]",
      "text/plain": [
       "<Figure size 432x288 with 1 Axes>"
      ]
     },
     "metadata": {},
     "output_type": "display_data"
    }
   ],
   "source": [
    "tp=5\n",
    "#print(y_approx[tp])\n",
    "#print(y_exact[tp])\n",
    "fig3,ax3=plt.subplots()\n",
    "ax3.plot(xi, y_exact[tp].detach(), label='observed', marker='o')\n",
    "ax3.plot(tdnu.k[tp*tskip].detach(), label='simulated')\n",
    "#print(k_boundary[tp*tskip])\n",
    "ax3.legend()\n",
    "#ax3.set_ylim(0, 0.3)"
   ]
  },
  {
   "cell_type": "code",
   "execution_count": 274,
   "metadata": {},
   "outputs": [
    {
     "data": {
      "text/plain": [
       "25.5"
      ]
     },
     "execution_count": 274,
     "metadata": {},
     "output_type": "execute_result"
    }
   ],
   "source": [
    "85*0.3"
   ]
  },
  {
   "cell_type": "code",
   "execution_count": 248,
   "metadata": {},
   "outputs": [
    {
     "data": {
      "text/plain": [
       "[<matplotlib.lines.Line2D at 0x7f237c901310>]"
      ]
     },
     "execution_count": 248,
     "metadata": {},
     "output_type": "execute_result"
    },
    {
     "data": {
      "image/png": "[encoded data removed]",
      "text/plain": [
       "<Figure size 432x288 with 1 Axes>"
      ]
     },
     "metadata": {},
     "output_type": "display_data"
    }
   ],
   "source": [
    "fig4,ax4=plt.subplots()\n",
    "ax4.plot(tdnu.kappa.detach())"
   ]
  },
  {
   "cell_type": "code",
   "execution_count": null,
   "metadata": {},
   "outputs": [],
   "source": [
    "y_exact.shape"
   ]
  },
  {
   "cell_type": "code",
   "execution_count": null,
   "metadata": {},
   "outputs": [],
   "source": [
    "#tdn.k[500]"
   ]
  },
  {
   "cell_type": "code",
   "execution_count": null,
   "metadata": {},
   "outputs": [],
   "source": [
    "#tdnu.k[500]"
   ]
  },
  {
   "cell_type": "code",
   "execution_count": null,
   "metadata": {},
   "outputs": [],
   "source": [
    "from matplotlib.pyplot import get_cmap\n",
    "cm=get_cmap('BrBG')\n",
    "cm(0.5, alpha=None)"
   ]
  },
  {
   "cell_type": "code",
   "execution_count": null,
   "metadata": {},
   "outputs": [],
   "source": [
    "#ti=500\n",
    "#fig2 = make_subplots(rows=1, cols=1, subplot_titles=[\"Density\",\"Flow\",\"Velocity\"],  shared_xaxes=True)\n",
    "#trace1=go.Scatter(y=tdn.k[ti].detach(), mode='lines', name='synthetic', line=dict(width=1))\n",
    "#trace2=go.Scatter(y=tdnu.k[ti].detach(), mode='lines', name='training', line=dict(width=1,dash='dash'))\n",
    "#fig2.add_trace(trace1, row=1, col=1)\n",
    "#fig2.add_trace(trace2, row=1, col=1)"
   ]
  },
  {
   "cell_type": "code",
   "execution_count": null,
   "metadata": {},
   "outputs": [],
   "source": [
    "y_exact.shape"
   ]
  },
  {
   "cell_type": "code",
   "execution_count": null,
   "metadata": {},
   "outputs": [],
   "source": [
    "fig2,ax2=plt.subplots(figsize=(12,4))\n",
    "\n",
    "for p in range(len(xi)):\n",
    "    clr=cm(p/len(xi))\n",
    "    ax2.plot(y_exact[:,p].detach(), label=xi[p], color=clr, linestyle='solid', linewidth=2)\n",
    "    ax2.plot(y_approx[:,p].detach(), label=xi[p], color='white', linestyle='dashed')\n",
    "ax2.legend()"
   ]
  },
  {
   "cell_type": "code",
   "execution_count": null,
   "metadata": {
    "scrolled": false
   },
   "outputs": [],
   "source": [
    "\"\"\"\n",
    "fig2 = make_subplots(rows=1, cols=1, subplot_titles=[\"Density\",\"Flow\",\"Velocity\"],  shared_xaxes=True)\n",
    "\n",
    "for n,ti in enumerate(range(0,nt+100,100)):\n",
    "    clr=cm(ti/nt)\n",
    "    clrs=\"rgb(%d,%d,%d)\" % (clr[0]*255, clr[1]*255, clr[2]*255)\n",
    "    #print(clrs)\n",
    "    fig2.add_trace(go.Scatter(y=tdn.k[ti].detach(), mode='lines', name=str(ti), \n",
    "                             legendgroup=ti, showlegend=True,\n",
    "                             line=dict(width=2,color=clrs)))\n",
    "    fig2.add_trace(go.Scatter(y=tdnu.k[ti].detach(), mode='lines', name=str(ti), \n",
    "                             legendgroup=ti, showlegend=True,\n",
    "                             line=dict(width=1,color=\"black\",dash='dot')))\n",
    "fig2.show()\n",
    "\"\"\";"
   ]
  },
  {
   "cell_type": "code",
   "execution_count": null,
   "metadata": {
    "scrolled": false
   },
   "outputs": [],
   "source": [
    "fig3=make_subplots()\n",
    "#fig3.add_trace(go.Scatter(y=kj, name='$\\\\text{True} \\ k_j$'))\n",
    "#fig3.add_trace(go.Scatter(y=tdnu.kappa.detach(), name='$\\\\text{Estimated} \\ k_j$', line=dict(dash='dash')))\n",
    "fig3.add_trace(go.Scatter(y=kj, name='True'))\n",
    "fig3.add_trace(go.Scatter(y=tdnu.kappa.detach(), name='Estimated', line=dict(dash='dash')))\n",
    "fig3.add_trace(go.Scatter(x=xi, y=np.ones(len(xi))*0.05))\n",
    "fig3.update_yaxes(title=\"k_j\")\n",
    "fig3.update_xaxes(title=\"Distance\")"
   ]
  },
  {
   "cell_type": "code",
   "execution_count": null,
   "metadata": {},
   "outputs": [],
   "source": [
    "go.Scatter?"
   ]
  },
  {
   "cell_type": "code",
   "execution_count": null,
   "metadata": {},
   "outputs": [],
   "source": []
  }
 ],
 "metadata": {
  "kernelspec": {
   "display_name": "Python 3",
   "language": "python",
   "name": "python3"
  },
  "language_info": {
   "codemirror_mode": {
    "name": "ipython",
    "version": 3
   },
   "file_extension": ".py",
   "mimetype": "text/x-python",
   "name": "python",
   "nbconvert_exporter": "python",
   "pygments_lexer": "ipython3",
   "version": "3.8.5"
  }
 },
 "nbformat": 4,
 "nbformat_minor": 2
}
