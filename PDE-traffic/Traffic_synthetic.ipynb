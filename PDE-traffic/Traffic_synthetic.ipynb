{
 "cells": [
  {
   "cell_type": "markdown",
   "metadata": {},
   "source": [
    "## Numerical Solution of LWR model:\n",
    "\n",
    "Lighthill-Whitham-Richards model (commonly used for traffic flow):\n",
    "\n",
    "\\begin{equation}\n",
    "\\frac{\\partial q}{\\partial x} + \\frac{\\partial k}{\\partial t} = 0\n",
    "\\end{equation}\n",
    "\n",
    "But $q$ is a function of $k$ (Greenshield model): \n",
    "$$\n",
    "q(k) = k(k_j - k) = k k_j -k^2\n",
    "$$\n",
    "\n",
    "Therefore\n",
    "$$\n",
    "\\frac{\\partial k}{\\partial t} + \\frac{dq}{dk}\\frac{\\partial k}{\\partial x} =0\n",
    "$$\n",
    "\n",
    "$$\n",
    "\\frac{d(q(k))}{dk} = 1(k_j - k) + k(-1) = k_j - 2k\n",
    "$$\n",
    "\n",
    "And\n",
    "$$\n",
    "\\frac{\\partial k}{\\partial t} + (k_j - 2k) \\frac{\\partial k}{\\partial x} = 0\n",
    "$$"
   ]
  },
  {
   "cell_type": "markdown",
   "metadata": {},
   "source": [
    "$$\n",
    "\\frac{\\partial k}{\\partial t} = (2k - k_j) \\frac{\\partial k}{\\partial x}\n",
    "$$"
   ]
  },
  {
   "cell_type": "markdown",
   "metadata": {},
   "source": [
    "\\begin{align}\n",
    "k(t + \\Delta t, x_n) =& k(t, x) + \\Delta t \\frac{\\partial k}{\\partial t} \\\\\n",
    "                =& k(t, x) + \\Delta t \\left(2k(t, x) - k_j\\right) \\frac{\\partial k}{\\partial x}\n",
    "\\end{align}"
   ]
  },
  {
   "cell_type": "markdown",
   "metadata": {},
   "source": [
    "\\begin{align}\n",
    "\\frac{\\partial{k}}{\\partial x} \\approx \\frac{k(t, x + \\Delta x) - k(t,x - \\Delta x)}{2 \\Delta x} \\\\\n",
    "                               \\approx \\frac{k(t, x + \\Delta x) - k(t, x)}{\\Delta x} \\\\\n",
    "\\end{align}"
   ]
  },
  {
   "cell_type": "markdown",
   "metadata": {},
   "source": [
    "If I remember correctly the central difference formula is unstable when used with the forward time step, \n",
    "but I will check into this.\n",
    "\n",
    "Discretizing along t_i for i=0,$n_t$ and x_n for n=0, $n_x$.\n",
    "$k_n^i$ equals the traffic density at time $t_i$ and position $n_i$.\n",
    "\n",
    "Sampling rates are $\\Delta t$ and $\\Delta x$, respectively.\n",
    "$k_j(x)$ is location dependent.  Call it $\\kappa_n$."
   ]
  },
  {
   "cell_type": "markdown",
   "metadata": {},
   "source": [
    "$$\n",
    "k_n^{i+1} = k_n^i + \\Delta t  (2 k_n^i - \\kappa_n) \\frac{k_{n+1}^i - k_n^i}{\\Delta x}\n",
    "$$"
   ]
  },
  {
   "cell_type": "code",
   "execution_count": 384,
   "metadata": {},
   "outputs": [],
   "source": [
    "import numpy as np\n",
    "\n",
    "class traffic_density:\n",
    "    def __init__(self, nx, nt, dx, dt, kj):\n",
    "        self.nx = nx\n",
    "        self.nt = nt\n",
    "        self.k=np.zeros((nt,nx), dtype=float) \n",
    "        #initial conditions\n",
    "        self.k[0,:] = 0.\n",
    "        self.kappa=kj\n",
    "        self.dx = dx\n",
    "        self.dt = dt\n",
    "        \n",
    "        #boundary conditions (traffic is at optimal density)\n",
    "        self.k[0:50,0] = self.kappa[0] / 2.\n",
    "    \n",
    "    def forward(self):\n",
    "        for i in range(1,self.nt-1):\n",
    "            for n in range(1,self.nx):\n",
    "                self.k[i+1,n] = self.k[i,n] + self.dt*(2*self.k[i,n] - self.kappa[n]) * \\\n",
    "                (self.k[i,n]-self.k[i,n-1])/self.dx\n",
    "    \n",
    "    def getq(self):\n",
    "        self.q=np.zeros((self.nt,self.nx), dtype=float)\n",
    "        for i in range(self.nt-1):\n",
    "            self.q[i,:] = self.k[i,:] * (self.kappa - self.k[i,:])\n",
    "            \n",
    "    def getvel(self):\n",
    "        self.u=np.zeros((self.nt, self.nx))\n",
    "        for i in range(self.nt-1):\n",
    "            idx= abs(self.k[i,:]) > 0\n",
    "            self.u[i,idx] = self.q[i,idx]/self.k[i,idx]\n",
    "            idx= self.k[i,:] == 0\n",
    "            self.u[i,idx] = np.nan"
   ]
  },
  {
   "cell_type": "code",
   "execution_count": 385,
   "metadata": {},
   "outputs": [
    {
     "name": "stdout",
     "output_type": "stream",
     "text": [
      "0.5\n"
     ]
    }
   ],
   "source": [
    "nx=100\n",
    "\n",
    "nt=1000\n",
    "#kj = np.linspace(275/3600., 75/3600., nx)\n",
    "kj = np.ones((nx,), dtype=float)*0.05\n",
    "kj[50:60] = 0.01 #50/3600.\n",
    "\n",
    "dx=0.1\n",
    "dt=0.5\n",
    "print(dt)\n",
    "\n",
    "td=traffic_density(nx, nt, dx, dt, kj)\n",
    "td.forward()\n",
    "td.getq()\n",
    "td.getvel()"
   ]
  },
  {
   "cell_type": "code",
   "execution_count": 386,
   "metadata": {},
   "outputs": [],
   "source": [
    "#td.k[99,:]"
   ]
  },
  {
   "cell_type": "code",
   "execution_count": 387,
   "metadata": {},
   "outputs": [],
   "source": [
    "import plotly.express as px\n",
    "import plotly.graph_objects as go\n",
    "from plotly.subplots import make_subplots\n",
    "from ipywidgets import widgets"
   ]
  },
  {
   "cell_type": "code",
   "execution_count": 389,
   "metadata": {},
   "outputs": [],
   "source": [
    "#widgets.IntSlider?"
   ]
  },
  {
   "cell_type": "code",
   "execution_count": 390,
   "metadata": {
    "scrolled": false
   },
   "outputs": [
    {
     "data": {
      "application/vnd.jupyter.widget-view+json": {
       "model_id": "62415b3d1d514e30b63d05b7600c0d12",
       "version_major": 2,
       "version_minor": 0
      },
      "text/plain": [
       "IntSlider(value=1, continuous_update=False, description='Time Step', max=1000, min=1)"
      ]
     },
     "metadata": {},
     "output_type": "display_data"
    },
    {
     "data": {
      "application/vnd.jupyter.widget-view+json": {
       "model_id": "7549f621125d4a5cad121aad25147649",
       "version_major": 2,
       "version_minor": 0
      },
      "text/plain": [
       "FigureWidget({\n",
       "    'data': [{'mode': 'lines',\n",
       "              'name': 'k',\n",
       "              'type': 'scatter',\n",
       "    …"
      ]
     },
     "metadata": {},
     "output_type": "display_data"
    }
   ],
   "source": [
    "tslider=widgets.IntSlider(\n",
    "    value=1.0, min=1.0, max=nt, step=1, description='Time Step',\n",
    "    continuous_update=False)\n",
    "\n",
    "ti=0\n",
    "trace1=go.Scatter(y=td.k[ti,:], mode='lines', name='k')\n",
    "trace2=go.Scatter(y=td.q[ti,:], mode='lines', name='q')\n",
    "trace3=go.Scatter(y=td.u[ti,:], mode='lines', name='u')\n",
    "\n",
    "fig = make_subplots(rows=3, cols=1, subplot_titles=[\"Density\",\"Flow\",\"Velocity\"],  shared_xaxes=True)\n",
    "\n",
    "fig.add_trace(trace1, row=1, col=1)\n",
    "fig.add_trace(trace2, row=2, col=1)\n",
    "fig.add_trace(trace3, row=3, col=1)\n",
    "\n",
    "fig.update_yaxes(range=[0, td.k.max()], row=1, col=1)\n",
    "fig.update_yaxes(range=[0, td.q.max()], row=2, col=1)\n",
    "fig.update_layout(height=600, width=800)\n",
    "#def update_fig():\n",
    "    #fig.add_trace(go.Scatter(y=td.k[ti,:], mode='lines', name='k'), row=1, col=1)\n",
    "    #fig.add_trace(go.Scatter(y=td.q[ti,:], mode='lines', name='q'), row=2, col=1)\n",
    "    #fig.add_trace(go.Scatter(y=td.u[ti,:], mode='lines', name='u'), row=3, col=1)\n",
    "\n",
    "#fig.show()\n",
    "fo=go.FigureWidget(fig)\n",
    "#fig.add_trace(go.Scatter(y=td.k[300,:], mode='lines', name='k'), row=1, col=1)\n",
    "def update_traces(value):\n",
    "    ti=value[\"new\"]\n",
    "    fo.data[0].y=td.k[ti,:]\n",
    "    fo.data[1].y=td.q[ti,:]\n",
    "    fo.data[2].y=td.u[ti,:]\n",
    "\n",
    "tslider.observe(update_traces, names='value')\n",
    "\n",
    "#fo.data[0].y=td.k[300,:]\n",
    "display(tslider)\n",
    "display(fo)"
   ]
  },
  {
   "cell_type": "code",
   "execution_count": null,
   "metadata": {},
   "outputs": [],
   "source": [
    "fig.get_subplot"
   ]
  }
 ],
 "metadata": {
  "kernelspec": {
   "display_name": "Python 3",
   "language": "python",
   "name": "python3"
  },
  "language_info": {
   "codemirror_mode": {
    "name": "ipython",
    "version": 3
   },
   "file_extension": ".py",
   "mimetype": "text/x-python",
   "name": "python",
   "nbconvert_exporter": "python",
   "pygments_lexer": "ipython3",
   "version": "3.7.4"
  }
 },
 "nbformat": 4,
 "nbformat_minor": 2
}
