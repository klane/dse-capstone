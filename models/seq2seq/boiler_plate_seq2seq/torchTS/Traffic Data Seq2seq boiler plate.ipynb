{
 "cells": [
  {
   "cell_type": "code",
   "execution_count": 1,
   "id": "1fa91757",
   "metadata": {},
   "outputs": [],
   "source": [
    "import sqlalchemy as sal\n",
    "import pandas as pd\n",
    "from os.path import join\n",
    "import numpy as np\n",
    "\n",
    "import torch"
   ]
  },
  {
   "cell_type": "markdown",
   "id": "8793a4e9",
   "metadata": {},
   "source": [
    "# import data from Relational Database System (RDS) "
   ]
  },
  {
   "cell_type": "code",
   "execution_count": 2,
   "id": "dfd139b8",
   "metadata": {},
   "outputs": [
    {
     "name": "stdout",
     "output_type": "stream",
     "text": [
      "(156328, 4)\n",
      "Wall time: 7.3 s\n"
     ]
    },
    {
     "data": {
      "text/html": [
       "<div>\n",
       "<style scoped>\n",
       "    .dataframe tbody tr th:only-of-type {\n",
       "        vertical-align: middle;\n",
       "    }\n",
       "\n",
       "    .dataframe tbody tr th {\n",
       "        vertical-align: top;\n",
       "    }\n",
       "\n",
       "    .dataframe thead th {\n",
       "        text-align: right;\n",
       "    }\n",
       "</style>\n",
       "<table border=\"1\" class=\"dataframe\">\n",
       "  <thead>\n",
       "    <tr style=\"text-align: right;\">\n",
       "      <th></th>\n",
       "      <th>timestamp</th>\n",
       "      <th>station</th>\n",
       "      <th>avg_speed</th>\n",
       "      <th>total_flow</th>\n",
       "    </tr>\n",
       "  </thead>\n",
       "  <tbody>\n",
       "    <tr>\n",
       "      <th>0</th>\n",
       "      <td>2020-05-08 05:30:00</td>\n",
       "      <td>400001</td>\n",
       "      <td>71.1</td>\n",
       "      <td>354.0</td>\n",
       "    </tr>\n",
       "    <tr>\n",
       "      <th>1</th>\n",
       "      <td>2020-05-08 05:30:00</td>\n",
       "      <td>400714</td>\n",
       "      <td>68.5</td>\n",
       "      <td>105.0</td>\n",
       "    </tr>\n",
       "    <tr>\n",
       "      <th>2</th>\n",
       "      <td>2020-05-08 05:30:00</td>\n",
       "      <td>400743</td>\n",
       "      <td>67.3</td>\n",
       "      <td>62.0</td>\n",
       "    </tr>\n",
       "    <tr>\n",
       "      <th>3</th>\n",
       "      <td>2020-05-08 05:40:00</td>\n",
       "      <td>400714</td>\n",
       "      <td>68.7</td>\n",
       "      <td>202.0</td>\n",
       "    </tr>\n",
       "    <tr>\n",
       "      <th>4</th>\n",
       "      <td>2020-05-08 05:40:00</td>\n",
       "      <td>400001</td>\n",
       "      <td>67.1</td>\n",
       "      <td>440.0</td>\n",
       "    </tr>\n",
       "  </tbody>\n",
       "</table>\n",
       "</div>"
      ],
      "text/plain": [
       "            timestamp  station  avg_speed  total_flow\n",
       "0 2020-05-08 05:30:00   400001       71.1       354.0\n",
       "1 2020-05-08 05:30:00   400714       68.5       105.0\n",
       "2 2020-05-08 05:30:00   400743       67.3        62.0\n",
       "3 2020-05-08 05:40:00   400714       68.7       202.0\n",
       "4 2020-05-08 05:40:00   400001       67.1       440.0"
      ]
     },
     "execution_count": 2,
     "metadata": {},
     "output_type": "execute_result"
    }
   ],
   "source": [
    "%%time\n",
    "\n",
    "#parameters of the AWS database\n",
    "\n",
    "endpoint = \"capstone.clihskgj8i7s.us-west-2.rds.amazonaws.com\"\n",
    "user=\"group3\"\n",
    "db=\"db1\"\n",
    "#pw=getpass.getpass(\"Enter database password\")\n",
    "pw=open(r'C:\\Users\\rmartinez4\\OneDrive - Illumina, Inc\\Desktop\\password.txt',\"r\").read().rstrip()\n",
    "\n",
    "engine = sal.create_engine('postgresql://%s:%s@%s/%s' % (user, pw, endpoint, db))\n",
    "\n",
    "query=\"\"\"\n",
    "select timestamp, station, avg_speed, total_flow\n",
    "from traffic_train\n",
    "where station in (400714, 400743, 400001)\n",
    ";\n",
    "\"\"\"\n",
    "\n",
    "df_query_raw=pd.read_sql(query, engine)\n",
    "\n",
    "print(df_query_raw.shape)\n",
    "df_query_raw.head()"
   ]
  },
  {
   "cell_type": "markdown",
   "id": "7ae15475",
   "metadata": {},
   "source": [
    "## clean data"
   ]
  },
  {
   "cell_type": "code",
   "execution_count": 3,
   "id": "03b27f9d",
   "metadata": {},
   "outputs": [
    {
     "data": {
      "text/plain": [
       "timestamp      0\n",
       "station        0\n",
       "avg_speed     17\n",
       "total_flow    17\n",
       "dtype: int64"
      ]
     },
     "execution_count": 3,
     "metadata": {},
     "output_type": "execute_result"
    }
   ],
   "source": [
    "df_query_raw.isna().sum()"
   ]
  },
  {
   "cell_type": "code",
   "execution_count": 4,
   "id": "28335569",
   "metadata": {},
   "outputs": [],
   "source": [
    "# fill na values with rolling mean\n",
    "\n",
    "df_query_cleaned = df_query_raw.fillna(df_query_raw.rolling(window=6,min_periods=1).mean())"
   ]
  },
  {
   "cell_type": "code",
   "execution_count": 5,
   "id": "a2705366",
   "metadata": {},
   "outputs": [
    {
     "data": {
      "text/plain": [
       "timestamp     0\n",
       "station       0\n",
       "avg_speed     0\n",
       "total_flow    0\n",
       "dtype: int64"
      ]
     },
     "execution_count": 5,
     "metadata": {},
     "output_type": "execute_result"
    }
   ],
   "source": [
    "df_query_cleaned.isna().sum()"
   ]
  },
  {
   "cell_type": "markdown",
   "id": "96865efa",
   "metadata": {},
   "source": [
    "## generate seq2seq sequences"
   ]
  },
  {
   "cell_type": "code",
   "execution_count": 6,
   "id": "6468046e",
   "metadata": {},
   "outputs": [],
   "source": [
    "def generate_seq2seq_data(df, horizon, window, features):\n",
    "    \n",
    "    idx_cols = ['station','timestamp']\n",
    "\n",
    "    df = df.set_index(idx_cols).sort_values(by=idx_cols)\n",
    "\n",
    "    features_tensor_list = []\n",
    "    for f in features:\n",
    "        print(f)\n",
    "        \n",
    "        ts_seq_list = []\n",
    "        for s in df.index.unique(level=0):\n",
    "            print(s)\n",
    "            values = df.loc[s][f].values\n",
    "\n",
    "            for i in range(len(values)-horizon*2):\n",
    "                arr = np.array(values[i:i+horizon*2])\n",
    "                ts_seq_list.append(torch.from_numpy(arr.reshape(horizon*2,1)))\n",
    "\n",
    "        sequence_tensor = torch.stack(ts_seq_list, dim=0)\n",
    "\n",
    "        features_tensor_list.append(sequence_tensor)\n",
    "\n",
    "    return torch.cat(features_tensor_list, dim=2)"
   ]
  },
  {
   "cell_type": "code",
   "execution_count": 7,
   "id": "3c2d2d17",
   "metadata": {},
   "outputs": [
    {
     "name": "stdout",
     "output_type": "stream",
     "text": [
      "avg_speed\n",
      "400001\n",
      "400714\n",
      "400743\n",
      "torch.Size([156256, 24, 1])\n",
      "Wall time: 1.23 s\n"
     ]
    }
   ],
   "source": [
    "%%time\n",
    "data_seq2seq = generate_seq2seq_data(df_query_cleaned,\n",
    "                                     horizon=12, \n",
    "                                     window=1, \n",
    "#                                     features=['avg_speed', 'total_flow'])\n",
    "                                     features=['avg_speed'])\n",
    "\n",
    "print(data_seq2seq.shape)"
   ]
  },
  {
   "cell_type": "markdown",
   "id": "42e61477",
   "metadata": {},
   "source": [
    "## train, validation, and test split"
   ]
  },
  {
   "cell_type": "code",
   "execution_count": 8,
   "id": "2423cf00",
   "metadata": {},
   "outputs": [
    {
     "name": "stdout",
     "output_type": "stream",
     "text": [
      "torch.Size([156256, 12, 1]) torch.Size([156256, 12, 1])\n"
     ]
    }
   ],
   "source": [
    "# generate x and y vectors\n",
    "\n",
    "x = data_seq2seq[:, :12, :]\n",
    "y = data_seq2seq[:, 12:, :]\n",
    "\n",
    "print(x.shape, y.shape)"
   ]
  },
  {
   "cell_type": "code",
   "execution_count": 9,
   "id": "8905776f",
   "metadata": {},
   "outputs": [
    {
     "name": "stdout",
     "output_type": "stream",
     "text": [
      "total number of samples: 156256\n",
      "percentage for train: 69.999872004915\n",
      "percentage for val: 10.000255990169977\n",
      "percentage for test: 19.999872004915012\n"
     ]
    }
   ],
   "source": [
    "# define split ratio for train, val and test\n",
    "\n",
    "num_samples = x.shape[0]\n",
    "num_test = round(num_samples * 0.2)\n",
    "num_train = round(num_samples * 0.7)\n",
    "num_val = num_samples - num_test - num_train\n",
    "\n",
    "print('total number of samples: {}'.format(num_samples))\n",
    "print('percentage for train: {}'.format(100*num_train/num_samples))\n",
    "print('percentage for val: {}'.format(100*num_val/num_samples))\n",
    "print('percentage for test: {}'.format(100*num_test/num_samples))\n"
   ]
  },
  {
   "cell_type": "code",
   "execution_count": 10,
   "id": "be32d04d",
   "metadata": {},
   "outputs": [
    {
     "name": "stdout",
     "output_type": "stream",
     "text": [
      "torch.Size([109379, 12, 1]) torch.Size([109379, 12, 1])\n",
      "torch.Size([15626, 12, 1]) torch.Size([15626, 12, 1])\n",
      "torch.Size([31251, 12, 1]) torch.Size([31251, 12, 1])\n"
     ]
    }
   ],
   "source": [
    "# train\n",
    "\n",
    "x_train = x[:num_train]\n",
    "y_train = y[:num_train]\n",
    "\n",
    "# val\n",
    "\n",
    "x_val = x[num_train: num_train + num_val] \n",
    "y_val = y[num_train: num_train + num_val]\n",
    "\n",
    "# test\n",
    "\n",
    "x_test = x[-num_test:] \n",
    "y_test = y[-num_test:]\n",
    "\n",
    "print(x_train.shape, y_train.shape)\n",
    "print(x_val.shape, y_val.shape)\n",
    "print(x_test.shape, y_test.shape)"
   ]
  },
  {
   "cell_type": "code",
   "execution_count": 11,
   "id": "44392da2",
   "metadata": {},
   "outputs": [
    {
     "name": "stdout",
     "output_type": "stream",
     "text": [
      "train x:  torch.Size([109379, 12, 1]) y: torch.Size([109379, 12, 1])\n",
      "val x:  torch.Size([15626, 12, 1]) y: torch.Size([15626, 12, 1])\n",
      "test x:  torch.Size([31251, 12, 1]) y: torch.Size([31251, 12, 1])\n"
     ]
    }
   ],
   "source": [
    "output_dir = './'\n",
    "\n",
    "for cat in [\"train\", \"val\", \"test\"]:\n",
    "    \n",
    "    _x = locals()[\"x_\" + cat] \n",
    "    _y = locals()[\"y_\" + cat]\n",
    "    \n",
    "    print(cat, \"x: \", _x.shape, \"y:\", _y.shape)\n",
    "    \n",
    "    np.savez_compressed(\n",
    "        join(output_dir, \"%s.npz\" % cat),\n",
    "        x=_x,\n",
    "        y=_y\n",
    "    )"
   ]
  },
  {
   "cell_type": "markdown",
   "id": "49c68367",
   "metadata": {},
   "source": [
    "# train seq2seq model"
   ]
  },
  {
   "cell_type": "code",
   "execution_count": 12,
   "id": "ec6b7c45",
   "metadata": {},
   "outputs": [],
   "source": [
    "from torchts.utils import data as utils\n",
    "from torchts.nn.models.seq2seq import Encoder, Decoder, Seq2Seq \n",
    "\n",
    "import time\n",
    "from pytorch_lightning import Trainer\n",
    "from pytorch_lightning import loggers as pl_loggers"
   ]
  },
  {
   "cell_type": "code",
   "execution_count": 13,
   "id": "e14412b2",
   "metadata": {},
   "outputs": [],
   "source": [
    "dataset_dir = './'\n",
    "\n",
    "# define hyper-parameters\n",
    "\n",
    "# learning_rate = 0.01 # this parameter is currently hard coded in the optimizer\n",
    "dropout_rate = 0.8\n",
    "num_layers = 1\n",
    "hidden_dim = 64\n",
    "input_dim = 1\n",
    "output_dim = 1\n",
    "horizon = 12\n",
    "batch_size = 64"
   ]
  },
  {
   "cell_type": "code",
   "execution_count": 14,
   "id": "3cbeaf58",
   "metadata": {},
   "outputs": [
    {
     "name": "stdout",
     "output_type": "stream",
     "text": [
      "Wall time: 199 ms\n"
     ]
    },
    {
     "data": {
      "text/plain": [
       "dict_keys(['x_train', 'y_train', 'x_val', 'y_val', 'x_test', 'y_test', 'train_loader', 'val_loader', 'test_loader', 'scaler'])"
      ]
     },
     "execution_count": 14,
     "metadata": {},
     "output_type": "execute_result"
    }
   ],
   "source": [
    "%%time\n",
    "# load train, val and test NPZ files\n",
    "\n",
    "data = utils.load_dataset(dataset_dir, batch_size=batch_size, test_batch_size=batch_size)\n",
    "\n",
    "data.keys()"
   ]
  },
  {
   "cell_type": "code",
   "execution_count": 15,
   "id": "348e5be9",
   "metadata": {},
   "outputs": [
    {
     "name": "stderr",
     "output_type": "stream",
     "text": [
      "c:\\users\\rmartinez4\\anaconda3\\envs\\deeplearning\\lib\\site-packages\\torch\\nn\\modules\\rnn.py:58: UserWarning: dropout option adds dropout after all but last recurrent layer, so non-zero dropout expects num_layers greater than 1, but got dropout=0.8 and num_layers=1\n",
      "  warnings.warn(\"dropout option adds dropout after all but last \"\n"
     ]
    }
   ],
   "source": [
    "# instantiate seq2seq model\n",
    "\n",
    "encoder = Encoder(input_dim, hidden_dim, num_layers, dropout_rate)\n",
    "decoder = Decoder(output_dim, hidden_dim, num_layers, dropout_rate)\n",
    "model = Seq2Seq(encoder, decoder, output_dim, horizon)"
   ]
  },
  {
   "cell_type": "code",
   "execution_count": 16,
   "id": "a9279d49",
   "metadata": {},
   "outputs": [
    {
     "name": "stderr",
     "output_type": "stream",
     "text": [
      "GPU available: False, used: False\n",
      "TPU available: False, using: 0 TPU cores\n"
     ]
    }
   ],
   "source": [
    "# define lightning logger and trainner objects\n",
    "\n",
    "tb_logger = pl_loggers.TensorBoardLogger('logs/')\n",
    "trainer = Trainer(max_epochs=1, logger=tb_logger, gpus = 0)"
   ]
  },
  {
   "cell_type": "code",
   "execution_count": 17,
   "id": "3ca08d7f",
   "metadata": {},
   "outputs": [
    {
     "name": "stderr",
     "output_type": "stream",
     "text": [
      "\n",
      "  | Name      | Type    | Params\n",
      "--------------------------------------\n",
      "0 | criterion | MSELoss | 0     \n",
      "1 | encoder   | Encoder | 34.3 K\n",
      "2 | decoder   | Decoder | 67.2 K\n",
      "--------------------------------------\n",
      "101 K     Trainable params\n",
      "0         Non-trainable params\n",
      "101 K     Total params\n",
      "0.406     Total estimated model params size (MB)\n"
     ]
    },
    {
     "data": {
      "application/vnd.jupyter.widget-view+json": {
       "model_id": "",
       "version_major": 2,
       "version_minor": 0
      },
      "text/plain": [
       "Validation sanity check: 0it [00:00, ?it/s]"
      ]
     },
     "metadata": {},
     "output_type": "display_data"
    },
    {
     "name": "stderr",
     "output_type": "stream",
     "text": [
      "c:\\users\\rmartinez4\\anaconda3\\envs\\deeplearning\\lib\\site-packages\\pytorch_lightning\\utilities\\distributed.py:69: UserWarning: The dataloader, val dataloader 0, does not have many workers which may be a bottleneck. Consider increasing the value of the `num_workers` argument` (try 8 which is the number of cpus on this machine) in the `DataLoader` init to improve performance.\n",
      "  warnings.warn(*args, **kwargs)\n",
      "c:\\users\\rmartinez4\\anaconda3\\envs\\deeplearning\\lib\\site-packages\\pytorch_lightning\\utilities\\distributed.py:69: UserWarning: The dataloader, train dataloader, does not have many workers which may be a bottleneck. Consider increasing the value of the `num_workers` argument` (try 8 which is the number of cpus on this machine) in the `DataLoader` init to improve performance.\n",
      "  warnings.warn(*args, **kwargs)\n"
     ]
    },
    {
     "data": {
      "application/vnd.jupyter.widget-view+json": {
       "model_id": "978fdbf191ba4dd4b7261bccbc3cf55e",
       "version_major": 2,
       "version_minor": 0
      },
      "text/plain": [
       "Training: 0it [00:00, ?it/s]"
      ]
     },
     "metadata": {},
     "output_type": "display_data"
    },
    {
     "data": {
      "application/vnd.jupyter.widget-view+json": {
       "model_id": "",
       "version_major": 2,
       "version_minor": 0
      },
      "text/plain": [
       "Validating: 0it [00:00, ?it/s]"
      ]
     },
     "metadata": {},
     "output_type": "display_data"
    },
    {
     "name": "stdout",
     "output_type": "stream",
     "text": [
      "Training time taken 131.401881\n"
     ]
    }
   ],
   "source": [
    "# train\n",
    "\n",
    "start = time.time()\n",
    "trainer.fit(model, data[\"train_loader\"], data[\"val_loader\"])\n",
    "\n",
    "print(\"Training time taken %f\"%(time.time() - start), flush=True)"
   ]
  },
  {
   "cell_type": "markdown",
   "id": "ff5096a6",
   "metadata": {},
   "source": [
    "# predict"
   ]
  },
  {
   "cell_type": "code",
   "execution_count": 27,
   "id": "77a594ea",
   "metadata": {},
   "outputs": [
    {
     "data": {
      "application/vnd.jupyter.widget-view+json": {
       "model_id": "",
       "version_major": 2,
       "version_minor": 0
      },
      "text/plain": [
       "Validating: 0it [00:00, ?it/s]"
      ]
     },
     "metadata": {},
     "output_type": "display_data"
    },
    {
     "name": "stdout",
     "output_type": "stream",
     "text": [
      "--------------------------------------------------------------------------------\n",
      "DATALOADER:0 VALIDATE RESULTS\n",
      "{'test_loss': 0.053411319851875305, 'val_loss': 0.2998892664909363}\n",
      "--------------------------------------------------------------------------------\n",
      "Validation Results [{'val_loss': 0.2998892664909363}]\n"
     ]
    },
    {
     "name": "stderr",
     "output_type": "stream",
     "text": [
      "c:\\users\\rmartinez4\\anaconda3\\envs\\deeplearning\\lib\\site-packages\\pytorch_lightning\\utilities\\distributed.py:69: UserWarning: The dataloader, test dataloader 0, does not have many workers which may be a bottleneck. Consider increasing the value of the `num_workers` argument` (try 8 which is the number of cpus on this machine) in the `DataLoader` init to improve performance.\n",
      "  warnings.warn(*args, **kwargs)\n"
     ]
    },
    {
     "data": {
      "application/vnd.jupyter.widget-view+json": {
       "model_id": "caf72c888ee440aba907432d6e6e48e3",
       "version_major": 2,
       "version_minor": 0
      },
      "text/plain": [
       "Testing: 0it [00:00, ?it/s]"
      ]
     },
     "metadata": {},
     "output_type": "display_data"
    },
    {
     "name": "stdout",
     "output_type": "stream",
     "text": [
      "--------------------------------------------------------------------------------\n",
      "DATALOADER:0 TEST RESULTS\n",
      "{'test_loss': 0.053411319851875305, 'val_loss': 0.2998892664909363}\n",
      "--------------------------------------------------------------------------------\n",
      "Test Results [{'val_loss': 0.2998892664909363}]\n"
     ]
    }
   ],
   "source": [
    "# validate\n",
    "\n",
    "trainer.validate(model, data[\"val_loader\"])\n",
    "print(\"Validation Results\", vals)\n",
    "\n",
    "# test\n",
    "\n",
    "trainer.test(model, data[\"test_loader\"])\n",
    "print(\"Test Results\", vals)"
   ]
  },
  {
   "cell_type": "markdown",
   "id": "5d4addf2",
   "metadata": {},
   "source": [
    "# visualize test predictions"
   ]
  },
  {
   "cell_type": "code",
   "execution_count": 32,
   "id": "ae0f1fff",
   "metadata": {},
   "outputs": [
    {
     "name": "stdout",
     "output_type": "stream",
     "text": [
      "67.06969291649331 2.1476174237638745\n"
     ]
    }
   ],
   "source": [
    "avg = float(x_test.mean())\n",
    "std = float(x_test.std())\n",
    "\n",
    "print(avg, std)"
   ]
  },
  {
   "cell_type": "code",
   "execution_count": 33,
   "id": "bee88a6e",
   "metadata": {},
   "outputs": [],
   "source": [
    "def unscale_data(arr, avg, std):\n",
    "    return arr*std+avg"
   ]
  },
  {
   "cell_type": "code",
   "execution_count": 34,
   "id": "d7918b9f",
   "metadata": {},
   "outputs": [
    {
     "name": "stdout",
     "output_type": "stream",
     "text": [
      "Total Padding No: train 61, val 54, test 45\n"
     ]
    }
   ],
   "source": [
    "# find padding\n",
    "\n",
    "batch_size=64\n",
    "\n",
    "num_padding_train = (batch_size - len(data[\"y_train\"]) % batch_size) % batch_size\n",
    "num_padding_val = (batch_size - len(data[\"y_val\"]) % batch_size) % batch_size\n",
    "num_padding_test = (batch_size - len(data[\"y_test\"]) % batch_size) % batch_size\n",
    "\n",
    "print('Total Padding No: train {}, val {}, test {}'.format(num_padding_train, num_padding_val, num_padding_test))\n"
   ]
  },
  {
   "cell_type": "code",
   "execution_count": 45,
   "id": "c8a66afb",
   "metadata": {},
   "outputs": [
    {
     "name": "stdout",
     "output_type": "stream",
     "text": [
      "(31251, 12, 1)\n",
      "(31251, 12, 1)\n"
     ]
    }
   ],
   "source": [
    "y_true = unscale_data(data[\"y_test\"], avg, std)\n",
    "y_pred = unscale_data(trainer.test_dataloaders[0].dataset.tensors[0].numpy()[:-num_padding_test], avg, std)\n",
    "\n",
    "print(y_true.shape)\n",
    "print(y_pred.shape)\n"
   ]
  },
  {
   "cell_type": "markdown",
   "id": "9601b852",
   "metadata": {},
   "source": [
    "## single sequences"
   ]
  },
  {
   "cell_type": "code",
   "execution_count": 46,
   "id": "cf0bc32a",
   "metadata": {},
   "outputs": [
    {
     "data": {
      "image/png": "[encoded data removed]",
      "text/plain": [
       "<Figure size 1440x504 with 1 Axes>"
      ]
     },
     "metadata": {
      "needs_background": "light"
     },
     "output_type": "display_data"
    }
   ],
   "source": [
    "import matplotlib.pyplot as plt\n",
    "\n",
    "plt.figure(figsize=(20,7))\n",
    "\n",
    "sequence_index_to_plot = 7\n",
    "\n",
    "plt.plot(y_pred[sequence_index_to_plot, :, 0])\n",
    "plt.plot(y_true[sequence_index_to_plot, :, 0])\n",
    "\n",
    "plt.legend(['Predictions', 'Actual'], loc='upper right')\n",
    "plt.rcParams.update({'font.size': 20})\n"
   ]
  },
  {
   "cell_type": "markdown",
   "id": "7fd44c2c",
   "metadata": {},
   "source": [
    "## multiple sequences with single horizon"
   ]
  },
  {
   "cell_type": "code",
   "execution_count": null,
   "id": "837399e5",
   "metadata": {},
   "outputs": [],
   "source": [
    "plt.figure(figsize=(20,7))\n",
    "\n",
    "max_sequence_index_to_plot = 100\n",
    "horizon_to_plot = 5\n",
    "\n",
    "plt.plot(y_pred[:max_sequence_index_to_plot, horizon_to_plot, 0])\n",
    "plt.plot(y_true[:max_sequence_index_to_plot, horizon_to_plot, 0])\n",
    "\n",
    "plt.legend(['Predictions', 'Actual'], loc='upper right')\n",
    "plt.rcParams.update({'font.size': 20})\n"
   ]
  },
  {
   "cell_type": "code",
   "execution_count": null,
   "id": "0d15092b",
   "metadata": {},
   "outputs": [],
   "source": []
  },
  {
   "cell_type": "code",
   "execution_count": null,
   "id": "110ca3eb",
   "metadata": {},
   "outputs": [],
   "source": []
  },
  {
   "cell_type": "code",
   "execution_count": null,
   "id": "a35fa489",
   "metadata": {},
   "outputs": [],
   "source": []
  },
  {
   "cell_type": "code",
   "execution_count": null,
   "id": "3b6c556d",
   "metadata": {},
   "outputs": [],
   "source": []
  },
  {
   "cell_type": "code",
   "execution_count": null,
   "id": "c243d08f",
   "metadata": {},
   "outputs": [],
   "source": []
  }
 ],
 "metadata": {
  "kernelspec": {
   "display_name": "Python 3",
   "language": "python",
   "name": "python3"
  },
  "language_info": {
   "codemirror_mode": {
    "name": "ipython",
    "version": 3
   },
   "file_extension": ".py",
   "mimetype": "text/x-python",
   "name": "python",
   "nbconvert_exporter": "python",
   "pygments_lexer": "ipython3",
   "version": "3.8.8"
  },
  "toc": {
   "base_numbering": 1,
   "nav_menu": {},
   "number_sections": true,
   "sideBar": true,
   "skip_h1_title": false,
   "title_cell": "Table of Contents",
   "title_sidebar": "Contents",
   "toc_cell": false,
   "toc_position": {},
   "toc_section_display": true,
   "toc_window_display": true
  },
  "varInspector": {
   "cols": {
    "lenName": 16,
    "lenType": 16,
    "lenVar": 40
   },
   "kernels_config": {
    "python": {
     "delete_cmd_postfix": "",
     "delete_cmd_prefix": "del ",
     "library": "var_list.py",
     "varRefreshCmd": "print(var_dic_list())"
    },
    "r": {
     "delete_cmd_postfix": ") ",
     "delete_cmd_prefix": "rm(",
     "library": "var_list.r",
     "varRefreshCmd": "cat(var_dic_list()) "
    }
   },
   "types_to_exclude": [
    "module",
    "function",
    "builtin_function_or_method",
    "instance",
    "_Feature"
   ],
   "window_display": false
  }
 },
 "nbformat": 4,
 "nbformat_minor": 5
}
