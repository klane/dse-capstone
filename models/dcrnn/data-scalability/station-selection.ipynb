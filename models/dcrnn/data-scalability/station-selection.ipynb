{
 "cells": [
  {
   "cell_type": "code",
   "execution_count": 1,
   "id": "97c7913f",
   "metadata": {},
   "outputs": [
    {
     "data": {
      "application/javascript": [
       "IPython.OutputArea.prototype._should_scroll = function(lines) {\n",
       "    return false;\n",
       "}\n"
      ],
      "text/plain": [
       "<IPython.core.display.Javascript object>"
      ]
     },
     "metadata": {},
     "output_type": "display_data"
    }
   ],
   "source": [
    "%%javascript\n",
    "IPython.OutputArea.prototype._should_scroll = function(lines) {\n",
    "    return false;\n",
    "}"
   ]
  },
  {
   "cell_type": "code",
   "execution_count": 2,
   "id": "27891eb9",
   "metadata": {},
   "outputs": [],
   "source": [
    "import getpass\n",
    "import pickle\n",
    "\n",
    "import matplotlib.pyplot as plt\n",
    "import pandas as pd\n",
    "import sqlalchemy as sal"
   ]
  },
  {
   "cell_type": "code",
   "execution_count": 3,
   "id": "39b65274",
   "metadata": {},
   "outputs": [
    {
     "name": "stdout",
     "output_type": "stream",
     "text": [
      "Enter database password········\n"
     ]
    }
   ],
   "source": [
    "# S3\n",
    "BUCKET_NAME = 'dse-grp3-capstone-data'\n",
    "\n",
    "# RDS\n",
    "ENDPOINT = 'capstone.clihskgj8i7s.us-west-2.rds.amazonaws.com'\n",
    "USER = 'group3'\n",
    "DB = 'db1'\n",
    "PASSWORD = getpass.getpass('Enter database password')"
   ]
  },
  {
   "cell_type": "code",
   "execution_count": 4,
   "id": "0fba94a9",
   "metadata": {},
   "outputs": [],
   "source": [
    "engine = sal.create_engine(f'postgresql://{USER}:{PASSWORD}@{ENDPOINT}/{DB}')\n",
    "conn = engine.raw_connection()"
   ]
  },
  {
   "cell_type": "code",
   "execution_count": 5,
   "id": "c9da4237",
   "metadata": {},
   "outputs": [],
   "source": [
    "# get stations from bay area\n",
    "bay_area_stations = pd.read_sql(f'SELECT DISTINCT station FROM traffic_train', conn)['station']"
   ]
  },
  {
   "cell_type": "code",
   "execution_count": 6,
   "id": "afb9e945",
   "metadata": {},
   "outputs": [
    {
     "data": {
      "text/plain": [
       "0      401936\n",
       "1      400750\n",
       "2      400790\n",
       "3      407370\n",
       "4      400414\n",
       "        ...  \n",
       "315    400823\n",
       "316    400168\n",
       "317    401014\n",
       "318    403329\n",
       "319    401440\n",
       "Name: station, Length: 320, dtype: int64"
      ]
     },
     "execution_count": 6,
     "metadata": {},
     "output_type": "execute_result"
    }
   ],
   "source": [
    "bay_area_stations"
   ]
  },
  {
   "cell_type": "code",
   "execution_count": 9,
   "id": "edae6533",
   "metadata": {},
   "outputs": [
    {
     "data": {
      "text/plain": [
       "array([401936, 400750, 400790, 407370, 400414, 400654, 404435, 400971,\n",
       "       400097, 403404, 400057, 401810, 400257, 407187, 402284, 402061,\n",
       "       400227, 400160, 400700, 400240, 407359, 407172, 404453, 400714,\n",
       "       413026, 405701, 404462, 400951, 400298, 400209, 407331, 401495,\n",
       "       400772, 402359, 401391, 407321, 407194, 403401, 403406, 407153,\n",
       "       407323, 400822, 402363, 402118, 403265, 407342, 403414, 400158,\n",
       "       402372, 401606, 400088, 400832, 407204, 400221, 407332, 401996,\n",
       "       403402, 402285, 407161, 403412, 407151, 402057, 401811, 402067,\n",
       "       401464, 400336, 400952, 409529, 401817, 407360, 400907, 407152,\n",
       "       414284, 405619, 402060, 407202, 400828, 401655, 402120, 400069,\n",
       "       407177, 400869, 400040, 400147, 407191, 400017, 400238, 400148,\n",
       "       407344, 407184, 402121, 400664, 407337, 404553, 400965, 402366,\n",
       "       400922, 400995, 401567, 400970, 404434, 400760, 400280, 413845,\n",
       "       400440, 404753, 407711, 400508, 407339, 407372, 407348, 400904,\n",
       "       400637, 400149, 402371, 400479, 400084, 400085, 400372, 400996,\n",
       "       407373, 400268, 401167, 400713, 400104, 400185, 407150, 401388,\n",
       "       407180, 401327, 401210, 401997, 400873, 400567, 402360, 402058,\n",
       "       400911, 403225, 400109, 400052, 409525, 400973, 400545, 404461,\n",
       "       401541, 407367, 404586, 407173, 400296, 409524, 401846, 400677,\n",
       "       400717, 400895, 404444, 400673, 409526, 407165, 401351, 400330,\n",
       "       400045, 402281, 401611, 400648, 400665, 402367, 400278, 402365,\n",
       "       407328, 401403, 403409, 407335, 405613, 402370, 400668, 400643,\n",
       "       402282, 401457, 400201, 403419, 401908, 400794, 407179, 400122,\n",
       "       400274, 402119, 404585, 401597, 402286, 401998, 400709, 400514,\n",
       "       400723, 401489, 400743, 409528, 407352, 400581, 401534, 407206,\n",
       "       402059, 400213, 413878, 402287, 408907, 401906, 400688, 401560,\n",
       "       400690, 407176, 400528, 400258, 407710, 407336, 402361, 400435,\n",
       "       400178, 401555, 401890, 401163, 400519, 401224, 401816, 400934,\n",
       "       402283, 400461, 402362, 407207, 401891, 400429, 404452, 400400,\n",
       "       400172, 407374, 400804, 400687, 400065, 400649, 407181, 404451,\n",
       "       400464, 400059, 400449, 407157, 402364, 404522, 401994, 401400,\n",
       "       407325, 401957, 400222, 400582, 401154, 400030, 413877, 400206,\n",
       "       401958, 400436, 401926, 400418, 400174, 407200, 402056, 400842,\n",
       "       400837, 407341, 401129, 400073, 407186, 407155, 408911, 401948,\n",
       "       404759, 401942, 400353, 400799, 400499, 401809, 400253, 400236,\n",
       "       400563, 401937, 400916, 400246, 400953, 400863, 407190, 400485,\n",
       "       407174, 404521, 404370, 400001, 400715, 400586, 400394, 402373,\n",
       "       402117, 400964, 400292, 400096, 400100, 401943, 407361, 407185,\n",
       "       400507, 400457, 400343, 400792, 404640, 401507, 400560, 407364,\n",
       "       414694, 401845, 401808, 400823, 400168, 401014, 403329, 401440],\n",
       "      dtype=int64)"
      ]
     },
     "execution_count": 9,
     "metadata": {},
     "output_type": "execute_result"
    }
   ],
   "source": [
    "bay_area_stations.values"
   ]
  },
  {
   "cell_type": "code",
   "execution_count": 57,
   "id": "48cd724b",
   "metadata": {},
   "outputs": [
    {
     "data": {
      "text/html": [
       "<div>\n",
       "<style scoped>\n",
       "    .dataframe tbody tr th:only-of-type {\n",
       "        vertical-align: middle;\n",
       "    }\n",
       "\n",
       "    .dataframe tbody tr th {\n",
       "        vertical-align: top;\n",
       "    }\n",
       "\n",
       "    .dataframe thead th {\n",
       "        text-align: right;\n",
       "    }\n",
       "</style>\n",
       "<table border=\"1\" class=\"dataframe\">\n",
       "  <thead>\n",
       "    <tr style=\"text-align: right;\">\n",
       "      <th></th>\n",
       "      <th>sid</th>\n",
       "      <th>fwy</th>\n",
       "      <th>direc</th>\n",
       "      <th>district</th>\n",
       "      <th>county</th>\n",
       "      <th>city</th>\n",
       "      <th>state_pm</th>\n",
       "      <th>abs_pm</th>\n",
       "      <th>latitude</th>\n",
       "      <th>longitude</th>\n",
       "      <th>length</th>\n",
       "      <th>stype</th>\n",
       "      <th>lanes</th>\n",
       "      <th>name</th>\n",
       "    </tr>\n",
       "  </thead>\n",
       "  <tbody>\n",
       "    <tr>\n",
       "      <th>0</th>\n",
       "      <td>400001</td>\n",
       "      <td>101</td>\n",
       "      <td>N</td>\n",
       "      <td>4</td>\n",
       "      <td>85</td>\n",
       "      <td>68000.0</td>\n",
       "      <td>38.26</td>\n",
       "      <td>387.897</td>\n",
       "      <td>37.364085</td>\n",
       "      <td>-121.901149</td>\n",
       "      <td>0.265</td>\n",
       "      <td>ML</td>\n",
       "      <td>5</td>\n",
       "      <td>NB 880 rm-n-loop</td>\n",
       "    </tr>\n",
       "    <tr>\n",
       "      <th>1</th>\n",
       "      <td>400017</td>\n",
       "      <td>85</td>\n",
       "      <td>S</td>\n",
       "      <td>4</td>\n",
       "      <td>85</td>\n",
       "      <td>68000.0</td>\n",
       "      <td>10.07</td>\n",
       "      <td>10.070</td>\n",
       "      <td>37.253303</td>\n",
       "      <td>-121.945440</td>\n",
       "      <td>0.430</td>\n",
       "      <td>ML</td>\n",
       "      <td>4</td>\n",
       "      <td>BASCOM AVE</td>\n",
       "    </tr>\n",
       "    <tr>\n",
       "      <th>2</th>\n",
       "      <td>400030</td>\n",
       "      <td>880</td>\n",
       "      <td>S</td>\n",
       "      <td>4</td>\n",
       "      <td>85</td>\n",
       "      <td>68000.0</td>\n",
       "      <td>3.64</td>\n",
       "      <td>3.640</td>\n",
       "      <td>37.359087</td>\n",
       "      <td>-121.906538</td>\n",
       "      <td>0.250</td>\n",
       "      <td>ML</td>\n",
       "      <td>4</td>\n",
       "      <td>N First St rm-s-loop</td>\n",
       "    </tr>\n",
       "    <tr>\n",
       "      <th>3</th>\n",
       "      <td>400040</td>\n",
       "      <td>87</td>\n",
       "      <td>S</td>\n",
       "      <td>4</td>\n",
       "      <td>85</td>\n",
       "      <td>68000.0</td>\n",
       "      <td>2.87</td>\n",
       "      <td>2.860</td>\n",
       "      <td>37.294949</td>\n",
       "      <td>-121.873109</td>\n",
       "      <td>0.440</td>\n",
       "      <td>ML</td>\n",
       "      <td>3</td>\n",
       "      <td>Curtner Ave rm-s-loop</td>\n",
       "    </tr>\n",
       "    <tr>\n",
       "      <th>4</th>\n",
       "      <td>400045</td>\n",
       "      <td>880</td>\n",
       "      <td>N</td>\n",
       "      <td>4</td>\n",
       "      <td>85</td>\n",
       "      <td>68000.0</td>\n",
       "      <td>4.02</td>\n",
       "      <td>4.020</td>\n",
       "      <td>37.363402</td>\n",
       "      <td>-121.902233</td>\n",
       "      <td>0.300</td>\n",
       "      <td>ML</td>\n",
       "      <td>4</td>\n",
       "      <td>SB 101 rm-n-loop</td>\n",
       "    </tr>\n",
       "    <tr>\n",
       "      <th>...</th>\n",
       "      <td>...</td>\n",
       "      <td>...</td>\n",
       "      <td>...</td>\n",
       "      <td>...</td>\n",
       "      <td>...</td>\n",
       "      <td>...</td>\n",
       "      <td>...</td>\n",
       "      <td>...</td>\n",
       "      <td>...</td>\n",
       "      <td>...</td>\n",
       "      <td>...</td>\n",
       "      <td>...</td>\n",
       "      <td>...</td>\n",
       "      <td>...</td>\n",
       "    </tr>\n",
       "    <tr>\n",
       "      <th>315</th>\n",
       "      <td>413845</td>\n",
       "      <td>237</td>\n",
       "      <td>W</td>\n",
       "      <td>4</td>\n",
       "      <td>85</td>\n",
       "      <td>69084.0</td>\n",
       "      <td>8.8</td>\n",
       "      <td>8.852</td>\n",
       "      <td>37.422887</td>\n",
       "      <td>-121.925747</td>\n",
       "      <td>2.631</td>\n",
       "      <td>ML</td>\n",
       "      <td>4</td>\n",
       "      <td>McCarthy Blvd rm-w-diag</td>\n",
       "    </tr>\n",
       "    <tr>\n",
       "      <th>316</th>\n",
       "      <td>413877</td>\n",
       "      <td>280</td>\n",
       "      <td>N</td>\n",
       "      <td>4</td>\n",
       "      <td>85</td>\n",
       "      <td>68000.0</td>\n",
       "      <td>2.97</td>\n",
       "      <td>2.970</td>\n",
       "      <td>37.321613</td>\n",
       "      <td>-121.899642</td>\n",
       "      <td>0.530</td>\n",
       "      <td>ML</td>\n",
       "      <td>5</td>\n",
       "      <td>Bird Ave rm-n-diag</td>\n",
       "    </tr>\n",
       "    <tr>\n",
       "      <th>317</th>\n",
       "      <td>413878</td>\n",
       "      <td>280</td>\n",
       "      <td>N</td>\n",
       "      <td>4</td>\n",
       "      <td>85</td>\n",
       "      <td>68000.0</td>\n",
       "      <td>2.32</td>\n",
       "      <td>2.320</td>\n",
       "      <td>37.324641</td>\n",
       "      <td>-121.888603</td>\n",
       "      <td>0.360</td>\n",
       "      <td>ML</td>\n",
       "      <td>4</td>\n",
       "      <td>Almaden Blvd rm-n-diag</td>\n",
       "    </tr>\n",
       "    <tr>\n",
       "      <th>318</th>\n",
       "      <td>414284</td>\n",
       "      <td>280</td>\n",
       "      <td>N</td>\n",
       "      <td>4</td>\n",
       "      <td>85</td>\n",
       "      <td>68000.0</td>\n",
       "      <td>2.77</td>\n",
       "      <td>2.770</td>\n",
       "      <td>37.323066</td>\n",
       "      <td>-121.896538</td>\n",
       "      <td>0.265</td>\n",
       "      <td>ML</td>\n",
       "      <td>5</td>\n",
       "      <td>NB 87/SB 87 rm-n-fly/diag</td>\n",
       "    </tr>\n",
       "    <tr>\n",
       "      <th>319</th>\n",
       "      <td>414694</td>\n",
       "      <td>280</td>\n",
       "      <td>N</td>\n",
       "      <td>4</td>\n",
       "      <td>85</td>\n",
       "      <td>NaN</td>\n",
       "      <td>3.91</td>\n",
       "      <td>3.910</td>\n",
       "      <td>37.315051</td>\n",
       "      <td>-121.913497</td>\n",
       "      <td>0.750</td>\n",
       "      <td>ML</td>\n",
       "      <td>4</td>\n",
       "      <td>Meridian Ave rm-n-loop</td>\n",
       "    </tr>\n",
       "  </tbody>\n",
       "</table>\n",
       "<p>320 rows × 14 columns</p>\n",
       "</div>"
      ],
      "text/plain": [
       "        sid  fwy direc  district  county     city state_pm   abs_pm  \\\n",
       "0    400001  101     N         4      85  68000.0    38.26  387.897   \n",
       "1    400017   85     S         4      85  68000.0    10.07   10.070   \n",
       "2    400030  880     S         4      85  68000.0     3.64    3.640   \n",
       "3    400040   87     S         4      85  68000.0     2.87    2.860   \n",
       "4    400045  880     N         4      85  68000.0     4.02    4.020   \n",
       "..      ...  ...   ...       ...     ...      ...      ...      ...   \n",
       "315  413845  237     W         4      85  69084.0      8.8    8.852   \n",
       "316  413877  280     N         4      85  68000.0     2.97    2.970   \n",
       "317  413878  280     N         4      85  68000.0     2.32    2.320   \n",
       "318  414284  280     N         4      85  68000.0     2.77    2.770   \n",
       "319  414694  280     N         4      85      NaN     3.91    3.910   \n",
       "\n",
       "      latitude   longitude  length stype  lanes                       name  \n",
       "0    37.364085 -121.901149   0.265    ML      5           NB 880 rm-n-loop  \n",
       "1    37.253303 -121.945440   0.430    ML      4                 BASCOM AVE  \n",
       "2    37.359087 -121.906538   0.250    ML      4       N First St rm-s-loop  \n",
       "3    37.294949 -121.873109   0.440    ML      3      Curtner Ave rm-s-loop  \n",
       "4    37.363402 -121.902233   0.300    ML      4           SB 101 rm-n-loop  \n",
       "..         ...         ...     ...   ...    ...                        ...  \n",
       "315  37.422887 -121.925747   2.631    ML      4    McCarthy Blvd rm-w-diag  \n",
       "316  37.321613 -121.899642   0.530    ML      5         Bird Ave rm-n-diag  \n",
       "317  37.324641 -121.888603   0.360    ML      4     Almaden Blvd rm-n-diag  \n",
       "318  37.323066 -121.896538   0.265    ML      5  NB 87/SB 87 rm-n-fly/diag  \n",
       "319  37.315051 -121.913497   0.750    ML      4     Meridian Ave rm-n-loop  \n",
       "\n",
       "[320 rows x 14 columns]"
      ]
     },
     "execution_count": 57,
     "metadata": {},
     "output_type": "execute_result"
    }
   ],
   "source": [
    "stations = pd.read_sql(f'SELECT * FROM pemslocs WHERE sid IN {tuple(station_ids)}', conn)\n",
    "stations"
   ]
  },
  {
   "cell_type": "code",
   "execution_count": 115,
   "id": "a5394904",
   "metadata": {},
   "outputs": [],
   "source": [
    "stations.to_csv(r'C:\\Users\\rmartinez4\\OneDrive - Illumina, Inc\\Desktop\\stations.csv')"
   ]
  },
  {
   "cell_type": "code",
   "execution_count": 114,
   "id": "55bf9d4d",
   "metadata": {},
   "outputs": [
    {
     "name": "stderr",
     "output_type": "stream",
     "text": [
      "C:\\Users\\rmartinez4\\Anaconda3\\envs\\py37\\lib\\site-packages\\matplotlib\\cbook\\__init__.py:2064: FutureWarning: Support for multi-dimensional indexing (e.g. `obj[:, None]`) is deprecated and will be removed in a future version.  Convert to a numpy array before indexing instead.\n",
      "  x[:, None]\n",
      "C:\\Users\\rmartinez4\\Anaconda3\\envs\\py37\\lib\\site-packages\\matplotlib\\axes\\_base.py:248: FutureWarning: Support for multi-dimensional indexing (e.g. `obj[:, None]`) is deprecated and will be removed in a future version.  Convert to a numpy array before indexing instead.\n",
      "  x = x[:, np.newaxis]\n",
      "C:\\Users\\rmartinez4\\Anaconda3\\envs\\py37\\lib\\site-packages\\matplotlib\\axes\\_base.py:250: FutureWarning: Support for multi-dimensional indexing (e.g. `obj[:, None]`) is deprecated and will be removed in a future version.  Convert to a numpy array before indexing instead.\n",
      "  y = y[:, np.newaxis]\n"
     ]
    },
    {
     "data": {
      "text/plain": [
       "Text(0.5,1,'100% of bay area stations (320 count)')"
      ]
     },
     "execution_count": 114,
     "metadata": {},
     "output_type": "execute_result"
    },
    {
     "data": {
      "image/png": "[encoded data removed]",
      "text/plain": [
       "<Figure size 720x360 with 1 Axes>"
      ]
     },
     "metadata": {
      "needs_background": "light"
     },
     "output_type": "display_data"
    }
   ],
   "source": [
    "plt.plot(stations.longitude, stations.latitude, '.')\n",
    "\n",
    "plt.rcParams[\"figure.figsize\"] = (10, 5)\n",
    "plt.rcParams.update({'font.size': 14})\n",
    "plt.xlabel('Longitude')\n",
    "plt.ylabel('Latitude')\n",
    "plt.title('100% of bay area stations (320 count)')"
   ]
  },
  {
   "cell_type": "code",
   "execution_count": null,
   "id": "8eaf6a88",
   "metadata": {},
   "outputs": [],
   "source": []
  },
  {
   "cell_type": "code",
   "execution_count": null,
   "id": "bfe7a926",
   "metadata": {},
   "outputs": [],
   "source": []
  },
  {
   "cell_type": "code",
   "execution_count": 116,
   "id": "1eafc62a",
   "metadata": {},
   "outputs": [],
   "source": [
    "adj_mx = pickle.load(open('./data/full_graph.pkl', 'rb'), encoding='latin1')"
   ]
  },
  {
   "cell_type": "code",
   "execution_count": 123,
   "id": "d144d3c3",
   "metadata": {},
   "outputs": [],
   "source": [
    "station_ids = [int(adj_mx.nodes[i]['sensor']) for i in adj_mx.nodes]\n",
    "# station_ids           "
   ]
  },
  {
   "cell_type": "code",
   "execution_count": 118,
   "id": "ee2b2c7d",
   "metadata": {},
   "outputs": [
    {
     "data": {
      "text/plain": [
       "320"
      ]
     },
     "execution_count": 118,
     "metadata": {},
     "output_type": "execute_result"
    }
   ],
   "source": [
    "len(station_ids)"
   ]
  },
  {
   "cell_type": "code",
   "execution_count": 119,
   "id": "f1192fcf",
   "metadata": {},
   "outputs": [
    {
     "data": {
      "text/plain": [
       "0"
      ]
     },
     "execution_count": 119,
     "metadata": {},
     "output_type": "execute_result"
    }
   ],
   "source": [
    "len(set(bay_area_stations) - set(station_ids))"
   ]
  },
  {
   "cell_type": "code",
   "execution_count": 120,
   "id": "11e69e79",
   "metadata": {},
   "outputs": [],
   "source": [
    "from random import sample\n",
    "import matplotlib.pyplot as plt\n"
   ]
  },
  {
   "cell_type": "markdown",
   "id": "f9b834dc",
   "metadata": {},
   "source": [
    "# sample 25%"
   ]
  },
  {
   "cell_type": "code",
   "execution_count": 124,
   "id": "aad6f8d9",
   "metadata": {},
   "outputs": [],
   "source": [
    "# sample_25 = sample(station_ids, int(len(station_ids)*0.25))\n",
    "# len(sample_25)"
   ]
  },
  {
   "cell_type": "code",
   "execution_count": 125,
   "id": "178304dc",
   "metadata": {},
   "outputs": [],
   "source": [
    "# sample_25\n",
    "\n",
    "sample_25 = [\n",
    "    400017,\n",
    "400040,\n",
    "400052,\n",
    "400059,\n",
    "400065,\n",
    "400073,\n",
    "400085,\n",
    "400100,\n",
    "400148,\n",
    "400178,\n",
    "400221,\n",
    "400240,\n",
    "400257,\n",
    "400258,\n",
    "400268,\n",
    "400278,\n",
    "400280,\n",
    "400298,\n",
    "400336,\n",
    "400418,\n",
    "400436,\n",
    "400457,\n",
    "400461,\n",
    "400485,\n",
    "400519,\n",
    "400637,\n",
    "400649,\n",
    "400654,\n",
    "400664,\n",
    "400690,\n",
    "400700,\n",
    "400713,\n",
    "400714,\n",
    "400715,\n",
    "400717,\n",
    "400750,\n",
    "400772,\n",
    "400792,\n",
    "400822,\n",
    "400832,\n",
    "400837,\n",
    "400842,\n",
    "400916,\n",
    "400934,\n",
    "400995,\n",
    "401129,\n",
    "401154,\n",
    "401163,\n",
    "401167,\n",
    "401327,\n",
    "401388,\n",
    "401400,\n",
    "401457,\n",
    "401495,\n",
    "401555,\n",
    "401567,\n",
    "401597,\n",
    "401606,\n",
    "401611,\n",
    "401942,\n",
    "401943,\n",
    "401957,\n",
    "401958,\n",
    "402067,\n",
    "403329,\n",
    "403414,\n",
    "403419,\n",
    "404370,\n",
    "404451,\n",
    "404452,\n",
    "404453,\n",
    "404461,\n",
    "404462,\n",
    "405613,\n",
    "405619,\n",
    "405701,\n",
    "407710,\n",
    "407711,\n",
    "414284,\n",
    "414694\n",
    "]"
   ]
  },
  {
   "cell_type": "code",
   "execution_count": 127,
   "id": "e07296b5",
   "metadata": {},
   "outputs": [
    {
     "data": {
      "text/plain": [
       "80"
      ]
     },
     "execution_count": 127,
     "metadata": {},
     "output_type": "execute_result"
    }
   ],
   "source": [
    "len(sample_25)"
   ]
  },
  {
   "cell_type": "code",
   "execution_count": 126,
   "id": "b823f6bc",
   "metadata": {},
   "outputs": [
    {
     "name": "stderr",
     "output_type": "stream",
     "text": [
      "C:\\Users\\rmartinez4\\Anaconda3\\envs\\py37\\lib\\site-packages\\matplotlib\\cbook\\__init__.py:2064: FutureWarning: Support for multi-dimensional indexing (e.g. `obj[:, None]`) is deprecated and will be removed in a future version.  Convert to a numpy array before indexing instead.\n",
      "  x[:, None]\n",
      "C:\\Users\\rmartinez4\\Anaconda3\\envs\\py37\\lib\\site-packages\\matplotlib\\axes\\_base.py:248: FutureWarning: Support for multi-dimensional indexing (e.g. `obj[:, None]`) is deprecated and will be removed in a future version.  Convert to a numpy array before indexing instead.\n",
      "  x = x[:, np.newaxis]\n",
      "C:\\Users\\rmartinez4\\Anaconda3\\envs\\py37\\lib\\site-packages\\matplotlib\\axes\\_base.py:250: FutureWarning: Support for multi-dimensional indexing (e.g. `obj[:, None]`) is deprecated and will be removed in a future version.  Convert to a numpy array before indexing instead.\n",
      "  y = y[:, np.newaxis]\n"
     ]
    },
    {
     "data": {
      "text/plain": [
       "Text(0.5,1,'25% of bay area stations (80 count)')"
      ]
     },
     "execution_count": 126,
     "metadata": {},
     "output_type": "execute_result"
    },
    {
     "data": {
      "image/png": "[encoded data removed]",
      "text/plain": [
       "<Figure size 720x360 with 1 Axes>"
      ]
     },
     "metadata": {
      "needs_background": "light"
     },
     "output_type": "display_data"
    }
   ],
   "source": [
    "stations_temp = stations[[i in sample_25 for i in stations.sid]]\n",
    "plt.plot(stations_temp.longitude, stations_temp.latitude, '.')\n",
    "\n",
    "plt.rcParams[\"figure.figsize\"] = (10, 5)\n",
    "plt.rcParams.update({'font.size': 14})\n",
    "plt.xlabel('Longitude')\n",
    "plt.ylabel('Latitude')\n",
    "plt.title('25% of bay area stations (80 count)')"
   ]
  },
  {
   "cell_type": "markdown",
   "id": "0a85bdfa",
   "metadata": {},
   "source": [
    "# sample 50%"
   ]
  },
  {
   "cell_type": "code",
   "execution_count": 102,
   "id": "aed75963",
   "metadata": {},
   "outputs": [
    {
     "data": {
      "text/plain": [
       "160"
      ]
     },
     "execution_count": 102,
     "metadata": {},
     "output_type": "execute_result"
    }
   ],
   "source": [
    "sample_50 = sample(station_ids, int(len(station_ids)*0.50))\n",
    "len(sample_50)"
   ]
  },
  {
   "cell_type": "code",
   "execution_count": 130,
   "id": "5cae6f68",
   "metadata": {},
   "outputs": [],
   "source": [
    "sample_50 = [\n",
    "    400017,\n",
    "400040,\n",
    "400052,\n",
    "400057,\n",
    "400059,\n",
    "400065,\n",
    "400073,\n",
    "400084,\n",
    "400085,\n",
    "400097,\n",
    "400100,\n",
    "400147,\n",
    "400148,\n",
    "400178,\n",
    "400185,\n",
    "400209,\n",
    "400213,\n",
    "400221,\n",
    "400222,\n",
    "400236,\n",
    "400240,\n",
    "400257,\n",
    "400258,\n",
    "400268,\n",
    "400278,\n",
    "400280,\n",
    "400292,\n",
    "400298,\n",
    "400336,\n",
    "400400,\n",
    "400414,\n",
    "400418,\n",
    "400429,\n",
    "400436,\n",
    "400457,\n",
    "400461,\n",
    "400464,\n",
    "400485,\n",
    "400499,\n",
    "400507,\n",
    "400514,\n",
    "400519,\n",
    "400560,\n",
    "400563,\n",
    "400582,\n",
    "400637,\n",
    "400648,\n",
    "400649,\n",
    "400654,\n",
    "400664,\n",
    "400665,\n",
    "400673,\n",
    "400677,\n",
    "400688,\n",
    "400690,\n",
    "400700,\n",
    "400709,\n",
    "400713,\n",
    "400714,\n",
    "400715,\n",
    "400717,\n",
    "400723,\n",
    "400750,\n",
    "400772,\n",
    "400792,\n",
    "400799,\n",
    "400804,\n",
    "400822,\n",
    "400823,\n",
    "400828,\n",
    "400832,\n",
    "400837,\n",
    "400842,\n",
    "400907,\n",
    "400916,\n",
    "400934,\n",
    "400951,\n",
    "400952,\n",
    "400953,\n",
    "400995,\n",
    "401129,\n",
    "401154,\n",
    "401163,\n",
    "401167,\n",
    "401210,\n",
    "401224,\n",
    "401327,\n",
    "401388,\n",
    "401391,\n",
    "401400,\n",
    "401403,\n",
    "401457,\n",
    "401495,\n",
    "401555,\n",
    "401567,\n",
    "401597,\n",
    "401606,\n",
    "401611,\n",
    "401655,\n",
    "401808,\n",
    "401809,\n",
    "401810,\n",
    "401811,\n",
    "401845,\n",
    "401846,\n",
    "401890,\n",
    "401891,\n",
    "401906,\n",
    "401908,\n",
    "401942,\n",
    "401943,\n",
    "401957,\n",
    "401958,\n",
    "402056,\n",
    "402057,\n",
    "402058,\n",
    "402059,\n",
    "402067,\n",
    "402359,\n",
    "402360,\n",
    "402361,\n",
    "403329,\n",
    "403401,\n",
    "403402,\n",
    "403404,\n",
    "403406,\n",
    "403409,\n",
    "403412,\n",
    "403414,\n",
    "403419,\n",
    "404370,\n",
    "404434,\n",
    "404435,\n",
    "404444,\n",
    "404451,\n",
    "404452,\n",
    "404453,\n",
    "404461,\n",
    "404462,\n",
    "404640,\n",
    "405613,\n",
    "405619,\n",
    "405701,\n",
    "407165,\n",
    "407172,\n",
    "407173,\n",
    "407194,\n",
    "407321,\n",
    "407331,\n",
    "407344,\n",
    "407370,\n",
    "407373,\n",
    "407710,\n",
    "407711,\n",
    "408907,\n",
    "408911,\n",
    "413877,\n",
    "413878,\n",
    "414284,\n",
    "414694\n",
    "]"
   ]
  },
  {
   "cell_type": "code",
   "execution_count": 131,
   "id": "3aed492f",
   "metadata": {},
   "outputs": [
    {
     "data": {
      "text/plain": [
       "160"
      ]
     },
     "execution_count": 131,
     "metadata": {},
     "output_type": "execute_result"
    }
   ],
   "source": [
    "len(sample_50)"
   ]
  },
  {
   "cell_type": "code",
   "execution_count": 132,
   "id": "4c709967",
   "metadata": {},
   "outputs": [
    {
     "name": "stderr",
     "output_type": "stream",
     "text": [
      "C:\\Users\\rmartinez4\\Anaconda3\\envs\\py37\\lib\\site-packages\\matplotlib\\cbook\\__init__.py:2064: FutureWarning: Support for multi-dimensional indexing (e.g. `obj[:, None]`) is deprecated and will be removed in a future version.  Convert to a numpy array before indexing instead.\n",
      "  x[:, None]\n",
      "C:\\Users\\rmartinez4\\Anaconda3\\envs\\py37\\lib\\site-packages\\matplotlib\\axes\\_base.py:248: FutureWarning: Support for multi-dimensional indexing (e.g. `obj[:, None]`) is deprecated and will be removed in a future version.  Convert to a numpy array before indexing instead.\n",
      "  x = x[:, np.newaxis]\n",
      "C:\\Users\\rmartinez4\\Anaconda3\\envs\\py37\\lib\\site-packages\\matplotlib\\axes\\_base.py:250: FutureWarning: Support for multi-dimensional indexing (e.g. `obj[:, None]`) is deprecated and will be removed in a future version.  Convert to a numpy array before indexing instead.\n",
      "  y = y[:, np.newaxis]\n"
     ]
    },
    {
     "data": {
      "text/plain": [
       "Text(0.5,1,'50% of bay area stations (160 count)')"
      ]
     },
     "execution_count": 132,
     "metadata": {},
     "output_type": "execute_result"
    },
    {
     "data": {
      "image/png": "[encoded data removed]",
      "text/plain": [
       "<Figure size 720x360 with 1 Axes>"
      ]
     },
     "metadata": {
      "needs_background": "light"
     },
     "output_type": "display_data"
    }
   ],
   "source": [
    "stations_temp = stations[[i in sample_50 for i in stations.sid]]\n",
    "plt.plot(stations_temp.longitude, stations_temp.latitude, '.')\n",
    "\n",
    "plt.rcParams[\"figure.figsize\"] = (10, 5)\n",
    "plt.rcParams.update({'font.size': 14})\n",
    "plt.xlabel('Longitude')\n",
    "plt.ylabel('Latitude')\n",
    "plt.title('50% of bay area stations (160 count)')"
   ]
  },
  {
   "cell_type": "code",
   "execution_count": null,
   "id": "192a2886",
   "metadata": {},
   "outputs": [],
   "source": []
  },
  {
   "cell_type": "markdown",
   "id": "9f79c201",
   "metadata": {},
   "source": [
    "# sample 75%"
   ]
  },
  {
   "cell_type": "code",
   "execution_count": 109,
   "id": "531b19a1",
   "metadata": {},
   "outputs": [
    {
     "data": {
      "text/plain": [
       "240"
      ]
     },
     "execution_count": 109,
     "metadata": {},
     "output_type": "execute_result"
    }
   ],
   "source": [
    "sample_75 = sample(station_ids, int(len(station_ids)*0.75))\n",
    "len(sample_75)"
   ]
  },
  {
   "cell_type": "code",
   "execution_count": 133,
   "id": "2dbf4a23",
   "metadata": {},
   "outputs": [],
   "source": [
    "sample_75 = [\n",
    "400001,\n",
    "400017,\n",
    "400030,\n",
    "400040,\n",
    "400045,\n",
    "400052,\n",
    "400057,\n",
    "400059,\n",
    "400065,\n",
    "400069,\n",
    "400073,\n",
    "400084,\n",
    "400085,\n",
    "400097,\n",
    "400100,\n",
    "400109,\n",
    "400122,\n",
    "400147,\n",
    "400148,\n",
    "400160,\n",
    "400172,\n",
    "400178,\n",
    "400185,\n",
    "400206,\n",
    "400209,\n",
    "400213,\n",
    "400221,\n",
    "400222,\n",
    "400227,\n",
    "400236,\n",
    "400240,\n",
    "400246,\n",
    "400253,\n",
    "400257,\n",
    "400258,\n",
    "400268,\n",
    "400278,\n",
    "400280,\n",
    "400292,\n",
    "400298,\n",
    "400336,\n",
    "400343,\n",
    "400353,\n",
    "400372,\n",
    "400394,\n",
    "400400,\n",
    "400414,\n",
    "400418,\n",
    "400429,\n",
    "400436,\n",
    "400440,\n",
    "400457,\n",
    "400461,\n",
    "400464,\n",
    "400479,\n",
    "400485,\n",
    "400499,\n",
    "400507,\n",
    "400508,\n",
    "400514,\n",
    "400519,\n",
    "400528,\n",
    "400560,\n",
    "400563,\n",
    "400582,\n",
    "400586,\n",
    "400637,\n",
    "400648,\n",
    "400649,\n",
    "400654,\n",
    "400664,\n",
    "400665,\n",
    "400668,\n",
    "400673,\n",
    "400677,\n",
    "400688,\n",
    "400690,\n",
    "400700,\n",
    "400709,\n",
    "400713,\n",
    "400714,\n",
    "400715,\n",
    "400717,\n",
    "400723,\n",
    "400750,\n",
    "400760,\n",
    "400772,\n",
    "400792,\n",
    "400794,\n",
    "400799,\n",
    "400804,\n",
    "400822,\n",
    "400823,\n",
    "400828,\n",
    "400832,\n",
    "400837,\n",
    "400842,\n",
    "400863,\n",
    "400895,\n",
    "400907,\n",
    "400911,\n",
    "400916,\n",
    "400922,\n",
    "400934,\n",
    "400951,\n",
    "400952,\n",
    "400953,\n",
    "400964,\n",
    "400965,\n",
    "400971,\n",
    "400995,\n",
    "400996,\n",
    "401129,\n",
    "401154,\n",
    "401163,\n",
    "401167,\n",
    "401210,\n",
    "401224,\n",
    "401327,\n",
    "401388,\n",
    "401391,\n",
    "401400,\n",
    "401403,\n",
    "401440,\n",
    "401457,\n",
    "401495,\n",
    "401541,\n",
    "401555,\n",
    "401560,\n",
    "401567,\n",
    "401597,\n",
    "401606,\n",
    "401611,\n",
    "401655,\n",
    "401808,\n",
    "401809,\n",
    "401810,\n",
    "401811,\n",
    "401816,\n",
    "401817,\n",
    "401845,\n",
    "401846,\n",
    "401890,\n",
    "401891,\n",
    "401906,\n",
    "401908,\n",
    "401942,\n",
    "401943,\n",
    "401957,\n",
    "401958,\n",
    "401994,\n",
    "402056,\n",
    "402057,\n",
    "402058,\n",
    "402059,\n",
    "402060,\n",
    "402061,\n",
    "402067,\n",
    "402117,\n",
    "402118,\n",
    "402121,\n",
    "402281,\n",
    "402282,\n",
    "402283,\n",
    "402284,\n",
    "402359,\n",
    "402360,\n",
    "402361,\n",
    "402362,\n",
    "402363,\n",
    "402364,\n",
    "402365,\n",
    "402366,\n",
    "402367,\n",
    "403225,\n",
    "403265,\n",
    "403329,\n",
    "403401,\n",
    "403402,\n",
    "403404,\n",
    "403406,\n",
    "403409,\n",
    "403412,\n",
    "403414,\n",
    "403419,\n",
    "404370,\n",
    "404434,\n",
    "404435,\n",
    "404444,\n",
    "404451,\n",
    "404452,\n",
    "404453,\n",
    "404461,\n",
    "404462,\n",
    "404521,\n",
    "404640,\n",
    "404753,\n",
    "404759,\n",
    "405613,\n",
    "405619,\n",
    "405701,\n",
    "407165,\n",
    "407172,\n",
    "407173,\n",
    "407194,\n",
    "407321,\n",
    "407323,\n",
    "407325,\n",
    "407328,\n",
    "407331,\n",
    "407335,\n",
    "407336,\n",
    "407337,\n",
    "407339,\n",
    "407341,\n",
    "407342,\n",
    "407344,\n",
    "407348,\n",
    "407352,\n",
    "407360,\n",
    "407361,\n",
    "407364,\n",
    "407367,\n",
    "407370,\n",
    "407372,\n",
    "407373,\n",
    "407374,\n",
    "407710,\n",
    "407711,\n",
    "408907,\n",
    "408911,\n",
    "409524,\n",
    "409525,\n",
    "409526,\n",
    "409528,\n",
    "409529,\n",
    "413877,\n",
    "413878,\n",
    "414284,\n",
    "414694,\n",
    "]"
   ]
  },
  {
   "cell_type": "code",
   "execution_count": 134,
   "id": "e9954df7",
   "metadata": {},
   "outputs": [
    {
     "name": "stderr",
     "output_type": "stream",
     "text": [
      "C:\\Users\\rmartinez4\\Anaconda3\\envs\\py37\\lib\\site-packages\\matplotlib\\cbook\\__init__.py:2064: FutureWarning: Support for multi-dimensional indexing (e.g. `obj[:, None]`) is deprecated and will be removed in a future version.  Convert to a numpy array before indexing instead.\n",
      "  x[:, None]\n",
      "C:\\Users\\rmartinez4\\Anaconda3\\envs\\py37\\lib\\site-packages\\matplotlib\\axes\\_base.py:248: FutureWarning: Support for multi-dimensional indexing (e.g. `obj[:, None]`) is deprecated and will be removed in a future version.  Convert to a numpy array before indexing instead.\n",
      "  x = x[:, np.newaxis]\n",
      "C:\\Users\\rmartinez4\\Anaconda3\\envs\\py37\\lib\\site-packages\\matplotlib\\axes\\_base.py:250: FutureWarning: Support for multi-dimensional indexing (e.g. `obj[:, None]`) is deprecated and will be removed in a future version.  Convert to a numpy array before indexing instead.\n",
      "  y = y[:, np.newaxis]\n"
     ]
    },
    {
     "data": {
      "text/plain": [
       "Text(0.5,1,'75% of bay area stations (240 count)')"
      ]
     },
     "execution_count": 134,
     "metadata": {},
     "output_type": "execute_result"
    },
    {
     "data": {
      "image/png": "[encoded data removed]",
      "text/plain": [
       "<Figure size 720x360 with 1 Axes>"
      ]
     },
     "metadata": {
      "needs_background": "light"
     },
     "output_type": "display_data"
    }
   ],
   "source": [
    "stations_temp = stations[[i in sample_75 for i in stations.sid]]\n",
    "plt.plot(stations_temp.longitude, stations_temp.latitude, '.')\n",
    "\n",
    "plt.rcParams[\"figure.figsize\"] = (10, 5)\n",
    "plt.rcParams.update({'font.size': 14})\n",
    "plt.xlabel('Longitude')\n",
    "plt.ylabel('Latitude')\n",
    "plt.title('75% of bay area stations (240 count)')"
   ]
  },
  {
   "cell_type": "code",
   "execution_count": null,
   "id": "c9758cb5",
   "metadata": {},
   "outputs": [],
   "source": []
  },
  {
   "cell_type": "code",
   "execution_count": null,
   "id": "767bad22",
   "metadata": {},
   "outputs": [],
   "source": []
  }
 ],
 "metadata": {
  "kernelspec": {
   "display_name": "Python 3",
   "language": "python",
   "name": "python3"
  },
  "language_info": {
   "codemirror_mode": {
    "name": "ipython",
    "version": 3
   },
   "file_extension": ".py",
   "mimetype": "text/x-python",
   "name": "python",
   "nbconvert_exporter": "python",
   "pygments_lexer": "ipython3",
   "version": "3.8.8"
  },
  "toc": {
   "base_numbering": 1,
   "nav_menu": {},
   "number_sections": true,
   "sideBar": true,
   "skip_h1_title": false,
   "title_cell": "Table of Contents",
   "title_sidebar": "Contents",
   "toc_cell": false,
   "toc_position": {},
   "toc_section_display": true,
   "toc_window_display": false
  },
  "varInspector": {
   "cols": {
    "lenName": 16,
    "lenType": 16,
    "lenVar": 40
   },
   "kernels_config": {
    "python": {
     "delete_cmd_postfix": "",
     "delete_cmd_prefix": "del ",
     "library": "var_list.py",
     "varRefreshCmd": "print(var_dic_list())"
    },
    "r": {
     "delete_cmd_postfix": ") ",
     "delete_cmd_prefix": "rm(",
     "library": "var_list.r",
     "varRefreshCmd": "cat(var_dic_list()) "
    }
   },
   "types_to_exclude": [
    "module",
    "function",
    "builtin_function_or_method",
    "instance",
    "_Feature"
   ],
   "window_display": false
  }
 },
 "nbformat": 4,
 "nbformat_minor": 5
}
