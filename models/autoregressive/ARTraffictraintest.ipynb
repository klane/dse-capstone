{
 "cells": [
  {
   "cell_type": "code",
   "execution_count": 1,
   "metadata": {},
   "outputs": [],
   "source": [
    "import glob\n",
    "from datetime import datetime\n",
    "from functools import reduce\n",
    "import math as mt\n",
    "import matplotlib.pyplot as plt\n",
    "import numpy as np\n",
    "import pandas as pd\n",
    "import torch\n",
    "from torch import nn\n",
    "from torch.utils.data import DataLoader, TensorDataset\n",
    "from tqdm import tqdm\n",
    "import sqlalchemy as sal"
   ]
  },
  {
   "cell_type": "code",
   "execution_count": 2,
   "metadata": {},
   "outputs": [],
   "source": [
    "endpoint = \"capstone.clihskgj8i7s.us-west-2.rds.amazonaws.com\"\n",
    "user=\"group3\"\n",
    "db=\"db1\"\n",
    "#pw=getpass.getpass(\"Enter database password\")\n",
    "pw=open(r'/Users/aparnagupta/Documents/password.txt',\"r\").read().rstrip()"
   ]
  },
  {
   "cell_type": "code",
   "execution_count": 4,
   "metadata": {},
   "outputs": [
    {
     "name": "stdout",
     "output_type": "stream",
     "text": [
      "(52111, 4)\n"
     ]
    },
    {
     "data": {
      "text/html": [
       "<div>\n",
       "<style scoped>\n",
       "    .dataframe tbody tr th:only-of-type {\n",
       "        vertical-align: middle;\n",
       "    }\n",
       "\n",
       "    .dataframe tbody tr th {\n",
       "        vertical-align: top;\n",
       "    }\n",
       "\n",
       "    .dataframe thead th {\n",
       "        text-align: right;\n",
       "    }\n",
       "</style>\n",
       "<table border=\"1\" class=\"dataframe\">\n",
       "  <thead>\n",
       "    <tr style=\"text-align: right;\">\n",
       "      <th></th>\n",
       "      <th>timestamp</th>\n",
       "      <th>station</th>\n",
       "      <th>total_flow</th>\n",
       "      <th>avg_speed</th>\n",
       "    </tr>\n",
       "  </thead>\n",
       "  <tbody>\n",
       "    <tr>\n",
       "      <th>0</th>\n",
       "      <td>2020-01-16 19:10:00</td>\n",
       "      <td>400717</td>\n",
       "      <td>336.0</td>\n",
       "      <td>58.3</td>\n",
       "    </tr>\n",
       "    <tr>\n",
       "      <th>1</th>\n",
       "      <td>2020-01-16 19:30:00</td>\n",
       "      <td>400717</td>\n",
       "      <td>305.0</td>\n",
       "      <td>57.8</td>\n",
       "    </tr>\n",
       "    <tr>\n",
       "      <th>2</th>\n",
       "      <td>2020-01-16 19:20:00</td>\n",
       "      <td>400717</td>\n",
       "      <td>293.0</td>\n",
       "      <td>57.2</td>\n",
       "    </tr>\n",
       "    <tr>\n",
       "      <th>3</th>\n",
       "      <td>2020-01-16 19:25:00</td>\n",
       "      <td>400717</td>\n",
       "      <td>291.0</td>\n",
       "      <td>57.5</td>\n",
       "    </tr>\n",
       "    <tr>\n",
       "      <th>4</th>\n",
       "      <td>2020-01-16 19:15:00</td>\n",
       "      <td>400717</td>\n",
       "      <td>313.0</td>\n",
       "      <td>58.6</td>\n",
       "    </tr>\n",
       "  </tbody>\n",
       "</table>\n",
       "</div>"
      ],
      "text/plain": [
       "            timestamp  station  total_flow  avg_speed\n",
       "0 2020-01-16 19:10:00   400717       336.0       58.3\n",
       "1 2020-01-16 19:30:00   400717       305.0       57.8\n",
       "2 2020-01-16 19:20:00   400717       293.0       57.2\n",
       "3 2020-01-16 19:25:00   400717       291.0       57.5\n",
       "4 2020-01-16 19:15:00   400717       313.0       58.6"
      ]
     },
     "execution_count": 4,
     "metadata": {},
     "output_type": "execute_result"
    }
   ],
   "source": [
    "engine = sal.create_engine('postgresql://%s:%s@%s/%s' % (user, pw, endpoint, db))\n",
    "\n",
    "query=\"\"\"\n",
    "select timestamp, station, total_flow, avg_speed\n",
    "from traffic_train\n",
    "where station = 400717\n",
    ";\n",
    "\"\"\"\n",
    "#where station = 400001\n",
    "#where station = 400717\n",
    "\n",
    "traffic=pd.read_sql(query, engine)\n",
    "\n",
    "print(traffic.shape)\n",
    "traffic.head()"
   ]
  },
  {
   "cell_type": "code",
   "execution_count": 5,
   "metadata": {},
   "outputs": [],
   "source": [
    "traffic['timestamp'] = pd.to_datetime(traffic['timestamp'])"
   ]
  },
  {
   "cell_type": "code",
   "execution_count": 6,
   "metadata": {},
   "outputs": [],
   "source": [
    "traffic['Month'] = pd.DatetimeIndex(traffic['timestamp']).month"
   ]
  },
  {
   "cell_type": "code",
   "execution_count": 7,
   "metadata": {},
   "outputs": [],
   "source": [
    "traffic['Day'] = pd.DatetimeIndex(traffic['timestamp']).day"
   ]
  },
  {
   "cell_type": "code",
   "execution_count": 8,
   "metadata": {},
   "outputs": [],
   "source": [
    "traffic['Year'] = pd.DatetimeIndex(traffic['timestamp']).year"
   ]
  },
  {
   "cell_type": "code",
   "execution_count": 9,
   "metadata": {},
   "outputs": [],
   "source": [
    "import calendar\n",
    "traffic['Month'] = traffic['Month'].apply(lambda x: calendar.month_abbr[x])"
   ]
  },
  {
   "cell_type": "code",
   "execution_count": 10,
   "metadata": {},
   "outputs": [],
   "source": [
    "traffic['Time'] = traffic['timestamp'].dt.time"
   ]
  },
  {
   "cell_type": "code",
   "execution_count": 11,
   "metadata": {},
   "outputs": [
    {
     "data": {
      "text/html": [
       "<div>\n",
       "<style scoped>\n",
       "    .dataframe tbody tr th:only-of-type {\n",
       "        vertical-align: middle;\n",
       "    }\n",
       "\n",
       "    .dataframe tbody tr th {\n",
       "        vertical-align: top;\n",
       "    }\n",
       "\n",
       "    .dataframe thead th {\n",
       "        text-align: right;\n",
       "    }\n",
       "</style>\n",
       "<table border=\"1\" class=\"dataframe\">\n",
       "  <thead>\n",
       "    <tr style=\"text-align: right;\">\n",
       "      <th></th>\n",
       "      <th>timestamp</th>\n",
       "      <th>station</th>\n",
       "      <th>total_flow</th>\n",
       "      <th>avg_speed</th>\n",
       "      <th>Month</th>\n",
       "      <th>Day</th>\n",
       "      <th>Year</th>\n",
       "      <th>Time</th>\n",
       "    </tr>\n",
       "  </thead>\n",
       "  <tbody>\n",
       "    <tr>\n",
       "      <th>0</th>\n",
       "      <td>2020-01-16 19:10:00</td>\n",
       "      <td>400717</td>\n",
       "      <td>336.0</td>\n",
       "      <td>58.3</td>\n",
       "      <td>Jan</td>\n",
       "      <td>16</td>\n",
       "      <td>2020</td>\n",
       "      <td>19:10:00</td>\n",
       "    </tr>\n",
       "    <tr>\n",
       "      <th>1</th>\n",
       "      <td>2020-01-16 19:30:00</td>\n",
       "      <td>400717</td>\n",
       "      <td>305.0</td>\n",
       "      <td>57.8</td>\n",
       "      <td>Jan</td>\n",
       "      <td>16</td>\n",
       "      <td>2020</td>\n",
       "      <td>19:30:00</td>\n",
       "    </tr>\n",
       "    <tr>\n",
       "      <th>2</th>\n",
       "      <td>2020-01-16 19:20:00</td>\n",
       "      <td>400717</td>\n",
       "      <td>293.0</td>\n",
       "      <td>57.2</td>\n",
       "      <td>Jan</td>\n",
       "      <td>16</td>\n",
       "      <td>2020</td>\n",
       "      <td>19:20:00</td>\n",
       "    </tr>\n",
       "    <tr>\n",
       "      <th>3</th>\n",
       "      <td>2020-01-16 19:25:00</td>\n",
       "      <td>400717</td>\n",
       "      <td>291.0</td>\n",
       "      <td>57.5</td>\n",
       "      <td>Jan</td>\n",
       "      <td>16</td>\n",
       "      <td>2020</td>\n",
       "      <td>19:25:00</td>\n",
       "    </tr>\n",
       "    <tr>\n",
       "      <th>4</th>\n",
       "      <td>2020-01-16 19:15:00</td>\n",
       "      <td>400717</td>\n",
       "      <td>313.0</td>\n",
       "      <td>58.6</td>\n",
       "      <td>Jan</td>\n",
       "      <td>16</td>\n",
       "      <td>2020</td>\n",
       "      <td>19:15:00</td>\n",
       "    </tr>\n",
       "    <tr>\n",
       "      <th>...</th>\n",
       "      <td>...</td>\n",
       "      <td>...</td>\n",
       "      <td>...</td>\n",
       "      <td>...</td>\n",
       "      <td>...</td>\n",
       "      <td>...</td>\n",
       "      <td>...</td>\n",
       "      <td>...</td>\n",
       "    </tr>\n",
       "    <tr>\n",
       "      <th>52106</th>\n",
       "      <td>2020-01-16 18:50:00</td>\n",
       "      <td>400717</td>\n",
       "      <td>305.0</td>\n",
       "      <td>61.3</td>\n",
       "      <td>Jan</td>\n",
       "      <td>16</td>\n",
       "      <td>2020</td>\n",
       "      <td>18:50:00</td>\n",
       "    </tr>\n",
       "    <tr>\n",
       "      <th>52107</th>\n",
       "      <td>2020-01-16 18:55:00</td>\n",
       "      <td>400717</td>\n",
       "      <td>332.0</td>\n",
       "      <td>60.0</td>\n",
       "      <td>Jan</td>\n",
       "      <td>16</td>\n",
       "      <td>2020</td>\n",
       "      <td>18:55:00</td>\n",
       "    </tr>\n",
       "    <tr>\n",
       "      <th>52108</th>\n",
       "      <td>2020-01-16 19:00:00</td>\n",
       "      <td>400717</td>\n",
       "      <td>340.0</td>\n",
       "      <td>59.9</td>\n",
       "      <td>Jan</td>\n",
       "      <td>16</td>\n",
       "      <td>2020</td>\n",
       "      <td>19:00:00</td>\n",
       "    </tr>\n",
       "    <tr>\n",
       "      <th>52109</th>\n",
       "      <td>2020-01-16 18:45:00</td>\n",
       "      <td>400717</td>\n",
       "      <td>308.0</td>\n",
       "      <td>59.8</td>\n",
       "      <td>Jan</td>\n",
       "      <td>16</td>\n",
       "      <td>2020</td>\n",
       "      <td>18:45:00</td>\n",
       "    </tr>\n",
       "    <tr>\n",
       "      <th>52110</th>\n",
       "      <td>2020-01-16 19:05:00</td>\n",
       "      <td>400717</td>\n",
       "      <td>340.0</td>\n",
       "      <td>58.9</td>\n",
       "      <td>Jan</td>\n",
       "      <td>16</td>\n",
       "      <td>2020</td>\n",
       "      <td>19:05:00</td>\n",
       "    </tr>\n",
       "  </tbody>\n",
       "</table>\n",
       "<p>52111 rows × 8 columns</p>\n",
       "</div>"
      ],
      "text/plain": [
       "                timestamp  station  total_flow  avg_speed Month  Day  Year  \\\n",
       "0     2020-01-16 19:10:00   400717       336.0       58.3   Jan   16  2020   \n",
       "1     2020-01-16 19:30:00   400717       305.0       57.8   Jan   16  2020   \n",
       "2     2020-01-16 19:20:00   400717       293.0       57.2   Jan   16  2020   \n",
       "3     2020-01-16 19:25:00   400717       291.0       57.5   Jan   16  2020   \n",
       "4     2020-01-16 19:15:00   400717       313.0       58.6   Jan   16  2020   \n",
       "...                   ...      ...         ...        ...   ...  ...   ...   \n",
       "52106 2020-01-16 18:50:00   400717       305.0       61.3   Jan   16  2020   \n",
       "52107 2020-01-16 18:55:00   400717       332.0       60.0   Jan   16  2020   \n",
       "52108 2020-01-16 19:00:00   400717       340.0       59.9   Jan   16  2020   \n",
       "52109 2020-01-16 18:45:00   400717       308.0       59.8   Jan   16  2020   \n",
       "52110 2020-01-16 19:05:00   400717       340.0       58.9   Jan   16  2020   \n",
       "\n",
       "           Time  \n",
       "0      19:10:00  \n",
       "1      19:30:00  \n",
       "2      19:20:00  \n",
       "3      19:25:00  \n",
       "4      19:15:00  \n",
       "...         ...  \n",
       "52106  18:50:00  \n",
       "52107  18:55:00  \n",
       "52108  19:00:00  \n",
       "52109  18:45:00  \n",
       "52110  19:05:00  \n",
       "\n",
       "[52111 rows x 8 columns]"
      ]
     },
     "execution_count": 11,
     "metadata": {},
     "output_type": "execute_result"
    }
   ],
   "source": [
    "traffic"
   ]
  },
  {
   "cell_type": "code",
   "execution_count": 12,
   "metadata": {},
   "outputs": [],
   "source": [
    "AvgVehicleCount = traffic[['Month','Day','Time','station','total_flow']]"
   ]
  },
  {
   "cell_type": "code",
   "execution_count": 13,
   "metadata": {},
   "outputs": [],
   "source": [
    "AvgVehicleCount = AvgVehicleCount[(AvgVehicleCount[\"Month\"] =='Apr')].reset_index(drop=True)"
   ]
  },
  {
   "cell_type": "code",
   "execution_count": 14,
   "metadata": {},
   "outputs": [
    {
     "data": {
      "text/html": [
       "<div>\n",
       "<style scoped>\n",
       "    .dataframe tbody tr th:only-of-type {\n",
       "        vertical-align: middle;\n",
       "    }\n",
       "\n",
       "    .dataframe tbody tr th {\n",
       "        vertical-align: top;\n",
       "    }\n",
       "\n",
       "    .dataframe thead th {\n",
       "        text-align: right;\n",
       "    }\n",
       "</style>\n",
       "<table border=\"1\" class=\"dataframe\">\n",
       "  <thead>\n",
       "    <tr style=\"text-align: right;\">\n",
       "      <th></th>\n",
       "      <th>Month</th>\n",
       "      <th>Day</th>\n",
       "      <th>Time</th>\n",
       "      <th>station</th>\n",
       "      <th>total_flow</th>\n",
       "    </tr>\n",
       "  </thead>\n",
       "  <tbody>\n",
       "    <tr>\n",
       "      <th>0</th>\n",
       "      <td>Apr</td>\n",
       "      <td>1</td>\n",
       "      <td>00:00:00</td>\n",
       "      <td>400717</td>\n",
       "      <td>68.0</td>\n",
       "    </tr>\n",
       "    <tr>\n",
       "      <th>1</th>\n",
       "      <td>Apr</td>\n",
       "      <td>1</td>\n",
       "      <td>00:05:00</td>\n",
       "      <td>400717</td>\n",
       "      <td>81.0</td>\n",
       "    </tr>\n",
       "    <tr>\n",
       "      <th>2</th>\n",
       "      <td>Apr</td>\n",
       "      <td>1</td>\n",
       "      <td>00:10:00</td>\n",
       "      <td>400717</td>\n",
       "      <td>68.0</td>\n",
       "    </tr>\n",
       "    <tr>\n",
       "      <th>3</th>\n",
       "      <td>Apr</td>\n",
       "      <td>1</td>\n",
       "      <td>00:15:00</td>\n",
       "      <td>400717</td>\n",
       "      <td>70.0</td>\n",
       "    </tr>\n",
       "    <tr>\n",
       "      <th>4</th>\n",
       "      <td>Apr</td>\n",
       "      <td>1</td>\n",
       "      <td>00:20:00</td>\n",
       "      <td>400717</td>\n",
       "      <td>72.0</td>\n",
       "    </tr>\n",
       "    <tr>\n",
       "      <th>...</th>\n",
       "      <td>...</td>\n",
       "      <td>...</td>\n",
       "      <td>...</td>\n",
       "      <td>...</td>\n",
       "      <td>...</td>\n",
       "    </tr>\n",
       "    <tr>\n",
       "      <th>8634</th>\n",
       "      <td>Apr</td>\n",
       "      <td>30</td>\n",
       "      <td>23:35:00</td>\n",
       "      <td>400717</td>\n",
       "      <td>71.0</td>\n",
       "    </tr>\n",
       "    <tr>\n",
       "      <th>8635</th>\n",
       "      <td>Apr</td>\n",
       "      <td>30</td>\n",
       "      <td>23:40:00</td>\n",
       "      <td>400717</td>\n",
       "      <td>107.0</td>\n",
       "    </tr>\n",
       "    <tr>\n",
       "      <th>8636</th>\n",
       "      <td>Apr</td>\n",
       "      <td>30</td>\n",
       "      <td>23:45:00</td>\n",
       "      <td>400717</td>\n",
       "      <td>83.0</td>\n",
       "    </tr>\n",
       "    <tr>\n",
       "      <th>8637</th>\n",
       "      <td>Apr</td>\n",
       "      <td>30</td>\n",
       "      <td>23:50:00</td>\n",
       "      <td>400717</td>\n",
       "      <td>72.0</td>\n",
       "    </tr>\n",
       "    <tr>\n",
       "      <th>8638</th>\n",
       "      <td>Apr</td>\n",
       "      <td>30</td>\n",
       "      <td>23:25:00</td>\n",
       "      <td>400717</td>\n",
       "      <td>76.0</td>\n",
       "    </tr>\n",
       "  </tbody>\n",
       "</table>\n",
       "<p>8639 rows × 5 columns</p>\n",
       "</div>"
      ],
      "text/plain": [
       "     Month  Day      Time  station  total_flow\n",
       "0      Apr    1  00:00:00   400717        68.0\n",
       "1      Apr    1  00:05:00   400717        81.0\n",
       "2      Apr    1  00:10:00   400717        68.0\n",
       "3      Apr    1  00:15:00   400717        70.0\n",
       "4      Apr    1  00:20:00   400717        72.0\n",
       "...    ...  ...       ...      ...         ...\n",
       "8634   Apr   30  23:35:00   400717        71.0\n",
       "8635   Apr   30  23:40:00   400717       107.0\n",
       "8636   Apr   30  23:45:00   400717        83.0\n",
       "8637   Apr   30  23:50:00   400717        72.0\n",
       "8638   Apr   30  23:25:00   400717        76.0\n",
       "\n",
       "[8639 rows x 5 columns]"
      ]
     },
     "execution_count": 14,
     "metadata": {},
     "output_type": "execute_result"
    }
   ],
   "source": [
    "AvgVehicleCount"
   ]
  },
  {
   "cell_type": "code",
   "execution_count": 15,
   "metadata": {},
   "outputs": [],
   "source": [
    "AvgVehicleSpeed = traffic[['Month','Time','station','avg_speed']]"
   ]
  },
  {
   "cell_type": "code",
   "execution_count": 16,
   "metadata": {},
   "outputs": [],
   "source": [
    "AvgVehicleSpeed = AvgVehicleSpeed[(AvgVehicleSpeed[\"Month\"] =='Apr')].reset_index(drop=True)"
   ]
  },
  {
   "cell_type": "code",
   "execution_count": 17,
   "metadata": {},
   "outputs": [
    {
     "data": {
      "text/html": [
       "<div>\n",
       "<style scoped>\n",
       "    .dataframe tbody tr th:only-of-type {\n",
       "        vertical-align: middle;\n",
       "    }\n",
       "\n",
       "    .dataframe tbody tr th {\n",
       "        vertical-align: top;\n",
       "    }\n",
       "\n",
       "    .dataframe thead th {\n",
       "        text-align: right;\n",
       "    }\n",
       "</style>\n",
       "<table border=\"1\" class=\"dataframe\">\n",
       "  <thead>\n",
       "    <tr style=\"text-align: right;\">\n",
       "      <th></th>\n",
       "      <th>Month</th>\n",
       "      <th>Time</th>\n",
       "      <th>station</th>\n",
       "      <th>avg_speed</th>\n",
       "    </tr>\n",
       "  </thead>\n",
       "  <tbody>\n",
       "    <tr>\n",
       "      <th>0</th>\n",
       "      <td>Apr</td>\n",
       "      <td>00:00:00</td>\n",
       "      <td>400717</td>\n",
       "      <td>63.4</td>\n",
       "    </tr>\n",
       "    <tr>\n",
       "      <th>1</th>\n",
       "      <td>Apr</td>\n",
       "      <td>00:05:00</td>\n",
       "      <td>400717</td>\n",
       "      <td>63.7</td>\n",
       "    </tr>\n",
       "    <tr>\n",
       "      <th>2</th>\n",
       "      <td>Apr</td>\n",
       "      <td>00:10:00</td>\n",
       "      <td>400717</td>\n",
       "      <td>63.0</td>\n",
       "    </tr>\n",
       "    <tr>\n",
       "      <th>3</th>\n",
       "      <td>Apr</td>\n",
       "      <td>00:15:00</td>\n",
       "      <td>400717</td>\n",
       "      <td>63.6</td>\n",
       "    </tr>\n",
       "    <tr>\n",
       "      <th>4</th>\n",
       "      <td>Apr</td>\n",
       "      <td>00:20:00</td>\n",
       "      <td>400717</td>\n",
       "      <td>63.5</td>\n",
       "    </tr>\n",
       "    <tr>\n",
       "      <th>...</th>\n",
       "      <td>...</td>\n",
       "      <td>...</td>\n",
       "      <td>...</td>\n",
       "      <td>...</td>\n",
       "    </tr>\n",
       "    <tr>\n",
       "      <th>8634</th>\n",
       "      <td>Apr</td>\n",
       "      <td>23:35:00</td>\n",
       "      <td>400717</td>\n",
       "      <td>63.4</td>\n",
       "    </tr>\n",
       "    <tr>\n",
       "      <th>8635</th>\n",
       "      <td>Apr</td>\n",
       "      <td>23:40:00</td>\n",
       "      <td>400717</td>\n",
       "      <td>63.7</td>\n",
       "    </tr>\n",
       "    <tr>\n",
       "      <th>8636</th>\n",
       "      <td>Apr</td>\n",
       "      <td>23:45:00</td>\n",
       "      <td>400717</td>\n",
       "      <td>63.2</td>\n",
       "    </tr>\n",
       "    <tr>\n",
       "      <th>8637</th>\n",
       "      <td>Apr</td>\n",
       "      <td>23:50:00</td>\n",
       "      <td>400717</td>\n",
       "      <td>63.5</td>\n",
       "    </tr>\n",
       "    <tr>\n",
       "      <th>8638</th>\n",
       "      <td>Apr</td>\n",
       "      <td>23:25:00</td>\n",
       "      <td>400717</td>\n",
       "      <td>63.7</td>\n",
       "    </tr>\n",
       "  </tbody>\n",
       "</table>\n",
       "<p>8639 rows × 4 columns</p>\n",
       "</div>"
      ],
      "text/plain": [
       "     Month      Time  station  avg_speed\n",
       "0      Apr  00:00:00   400717       63.4\n",
       "1      Apr  00:05:00   400717       63.7\n",
       "2      Apr  00:10:00   400717       63.0\n",
       "3      Apr  00:15:00   400717       63.6\n",
       "4      Apr  00:20:00   400717       63.5\n",
       "...    ...       ...      ...        ...\n",
       "8634   Apr  23:35:00   400717       63.4\n",
       "8635   Apr  23:40:00   400717       63.7\n",
       "8636   Apr  23:45:00   400717       63.2\n",
       "8637   Apr  23:50:00   400717       63.5\n",
       "8638   Apr  23:25:00   400717       63.7\n",
       "\n",
       "[8639 rows x 4 columns]"
      ]
     },
     "execution_count": 17,
     "metadata": {},
     "output_type": "execute_result"
    }
   ],
   "source": [
    "AvgVehicleSpeed"
   ]
  },
  {
   "cell_type": "code",
   "execution_count": 18,
   "metadata": {},
   "outputs": [],
   "source": [
    "AvgVehicleCount.total_flow.fillna(value=0, inplace=True)"
   ]
  },
  {
   "cell_type": "code",
   "execution_count": 19,
   "metadata": {},
   "outputs": [],
   "source": [
    "AvgVehicleSpeed.avg_speed.fillna(value=0, inplace=True)"
   ]
  },
  {
   "cell_type": "code",
   "execution_count": 20,
   "metadata": {},
   "outputs": [],
   "source": [
    "AvgVehicleCount.to_csv('AvgVehicleCount.csv', index = False)"
   ]
  },
  {
   "cell_type": "code",
   "execution_count": 21,
   "metadata": {},
   "outputs": [],
   "source": [
    "AvgVehicleSpeed.to_csv('AvgVehicleSpeed.csv', index = False)"
   ]
  },
  {
   "cell_type": "code",
   "execution_count": 22,
   "metadata": {},
   "outputs": [],
   "source": [
    "AvgVehicleCount = pd.read_csv('AvgVehicleCount.csv', header=0)"
   ]
  },
  {
   "cell_type": "code",
   "execution_count": 34,
   "metadata": {},
   "outputs": [],
   "source": [
    "class AutoRegressive(nn.Module):\n",
    "    def __init__(self, df, lag=1, noObservations=1, batchsize=100, bias=True ):\n",
    "        # Input the AR parameters\n",
    "        # Building only for linear data for now\n",
    "        super(AutoRegressive, self).__init__()\n",
    "        assert type(lag) == int\n",
    "        assert lag >= 0\n",
    "        # Initialize Auto Regressive parameter\n",
    "        self.lag = lag        \n",
    "        self.df = df\n",
    "        self.bias = bias\n",
    "        self.noObservations = noObservations\n",
    "        self.batchsize = batchsize\n",
    "        \n",
    "        self.linear = nn.Linear(self.lag, 1, bias=True).double()\n",
    "        \n",
    "        x, y = self.create_dataset(self.df, self.lag)\n",
    "        \n",
    "        self.x = x\n",
    "        self.y = y\n",
    "                       \n",
    "    def get_list(self,x, m):\n",
    "        return list(zip(*(x[i:] for i in range(m))))\n",
    "\n",
    "    def create_dataset(self,input_df,lag):\n",
    "        dft = input_df\n",
    "        print(dft.shape)\n",
    "        w = lag\n",
    "        x = []\n",
    "        print(dft.shape[0])\n",
    "        x = (self.get_list(dft, w+1))\n",
    "\n",
    "        x = np.array(x)\n",
    "        print(type(x))\n",
    "        y = torch.tensor(x[:, -1])\n",
    "        x = torch.tensor(x[:, :-1])\n",
    "        return x, y\n",
    "    \n",
    "    def fit(self):\n",
    "        x = self.x\n",
    "        y = self.y\n",
    "        yfit = torch.empty((self.y.shape[0]))\n",
    "        train_loader = DataLoader(TensorDataset(x, y), batch_size=self.batchsize, shuffle=True)\n",
    "        optimizer = torch.optim.RMSprop(self.parameters(), lr=0.001)\n",
    "        criterion = torch.nn.MSELoss(reduction='mean')\n",
    "        for e in range(10):\n",
    "            loss_total = 0\n",
    "            for xi, yi in tqdm(train_loader):\n",
    "                xi, yi = xi.to('cpu'), yi.to('cpu')\n",
    "                optimizer.zero_grad()\n",
    "                assert xi.shape[1] == self.lag           \n",
    "                yfit = self(xi.double()).flatten()\n",
    "                loss = criterion(yi.double(),yfit)\n",
    "                loss.backward(retain_graph=True)\n",
    "                optimizer.step()\n",
    "                loss_total += loss\n",
    "            loss = (loss_total / len(y))\n",
    "        print(e, loss)\n",
    "        yfitval = torch.empty((self.y.shape[0]))\n",
    "        #print(y)\n",
    "        for i in range(0,len(self.x)):\n",
    "            #print(i)\n",
    "            yfitval[i] = self(self.x[i].double()).flatten()\n",
    "        return loss,yfitval, y\n",
    "    \n",
    "    def predict(self):\n",
    "        x = self.x\n",
    "        y = self.y \n",
    "        df = self.df\n",
    "        ypredict = torch.empty((self.noObservations)+1)\n",
    "        xarray = torch.tensor(x[-1:]) # last scalar array of #Lag items\n",
    "        y3 = torch.empty((self.noObservations)+1,self.lag)\n",
    "        #print(xarray.shape[1])\n",
    "        for i in range(xarray.shape[1]):\n",
    "            #print(xarray[0][i])\n",
    "            y3[0][i] = xarray[0][i]\n",
    "        for j in range(0,(self.noObservations)):\n",
    "            ypredict[j] = self(xarray.double()).flatten()  \n",
    "            #print(type(ypredict))\n",
    "            for i in (range(xarray.shape[1])):\n",
    "                if i<(self.lag-1):\n",
    "                    #print(j,i)\n",
    "                    xarray[0][i]=y3[j][i+1]\n",
    "                if i==(self.lag-1):\n",
    "                    #print(j,i)\n",
    "                    xarray[0][i]=ypredict[j] \n",
    "            for i in (range(xarray.shape[1])):\n",
    "                y3[j+1][i] = xarray[0][i]\n",
    "                #print(y3[j+1][i])\n",
    "        return ypredict\n",
    "    \n",
    "        \n",
    "    def forward(self, x):\n",
    "        return self.linear(x)\n",
    "        \n"
   ]
  },
  {
   "cell_type": "code",
   "execution_count": 35,
   "metadata": {},
   "outputs": [
    {
     "name": "stdout",
     "output_type": "stream",
     "text": [
      "(8639,)\n",
      "8639\n",
      "<class 'numpy.ndarray'>\n"
     ]
    }
   ],
   "source": [
    "net2 = AutoRegressive(df=AvgVehicleSpeed[\"avg_speed\"],lag=3,noObservations=60,batchsize=1)"
   ]
  },
  {
   "cell_type": "code",
   "execution_count": 36,
   "metadata": {},
   "outputs": [],
   "source": [
    "x = torch.empty((AvgVehicleSpeed.shape[0]), 5)"
   ]
  },
  {
   "cell_type": "code",
   "execution_count": 37,
   "metadata": {},
   "outputs": [],
   "source": [
    "yfit = torch.empty((AvgVehicleSpeed.shape[0]))"
   ]
  },
  {
   "cell_type": "code",
   "execution_count": 38,
   "metadata": {},
   "outputs": [],
   "source": [
    "yact = torch.empty((AvgVehicleSpeed.shape[0]))"
   ]
  },
  {
   "cell_type": "code",
   "execution_count": 39,
   "metadata": {},
   "outputs": [
    {
     "name": "stderr",
     "output_type": "stream",
     "text": [
      "100%|██████████| 8636/8636 [00:03<00:00, 2420.45it/s]\n",
      "100%|██████████| 8636/8636 [00:03<00:00, 2809.35it/s]\n",
      "100%|██████████| 8636/8636 [00:02<00:00, 2942.93it/s]\n",
      "100%|██████████| 8636/8636 [00:02<00:00, 2885.86it/s]\n",
      "100%|██████████| 8636/8636 [00:02<00:00, 2900.74it/s]\n",
      "100%|██████████| 8636/8636 [00:03<00:00, 2830.63it/s]\n",
      "100%|██████████| 8636/8636 [00:03<00:00, 2746.56it/s]\n",
      "100%|██████████| 8636/8636 [00:03<00:00, 2571.28it/s]\n",
      "100%|██████████| 8636/8636 [00:03<00:00, 2584.75it/s]\n",
      "100%|██████████| 8636/8636 [00:03<00:00, 2576.64it/s]\n"
     ]
    },
    {
     "name": "stdout",
     "output_type": "stream",
     "text": [
      "9 tensor(0.9666, dtype=torch.float64, grad_fn=<DivBackward0>)\n"
     ]
    }
   ],
   "source": [
    "z,yfit,yact = net2.fit()"
   ]
  },
  {
   "cell_type": "code",
   "execution_count": 40,
   "metadata": {},
   "outputs": [
    {
     "name": "stdout",
     "output_type": "stream",
     "text": [
      "tensor([63.6000, 63.5000, 63.3000,  ..., 63.2000, 63.5000, 63.7000],\n",
      "       dtype=torch.float64)\n"
     ]
    }
   ],
   "source": [
    "print(yact)"
   ]
  },
  {
   "cell_type": "code",
   "execution_count": 41,
   "metadata": {},
   "outputs": [
    {
     "data": {
      "image/png": "[encoded data removed]",
      "text/plain": [
       "<Figure size 1440x864 with 1 Axes>"
      ]
     },
     "metadata": {
      "needs_background": "light"
     },
     "output_type": "display_data"
    }
   ],
   "source": [
    "plt.figure(figsize=(20, 12))\n",
    "plt.plot(yact.detach().numpy())\n",
    "plt.plot(yfit.detach().numpy())\n",
    "#plt.xticks(testpred,AvgVehicleCount_ts[\"Month\"])\n",
    "plt.xlabel('Time 5min Intervals')\n",
    "plt.ylabel('Average Speed')\n",
    "plt.legend(['Actual', 'TestPred'])\n",
    "plt.title(f'Average Speed in Apr at Station 400717')\n",
    "plt.savefig('Station 400717 test traffic_Average Speed Prediction', bbox_inches='tight')"
   ]
  },
  {
   "cell_type": "code",
   "execution_count": 42,
   "metadata": {},
   "outputs": [
    {
     "name": "stderr",
     "output_type": "stream",
     "text": [
      "/Users/aparnagupta/anaconda3/lib/python3.7/site-packages/ipykernel_launcher.py:71: UserWarning: To copy construct from a tensor, it is recommended to use sourceTensor.clone().detach() or sourceTensor.clone().detach().requires_grad_(True), rather than torch.tensor(sourceTensor).\n"
     ]
    }
   ],
   "source": [
    "ypred = net2.predict()"
   ]
  },
  {
   "cell_type": "code",
   "execution_count": 43,
   "metadata": {},
   "outputs": [
    {
     "data": {
      "image/png": "[encoded data removed]",
      "text/plain": [
       "<Figure size 1440x864 with 1 Axes>"
      ]
     },
     "metadata": {
      "needs_background": "light"
     },
     "output_type": "display_data"
    }
   ],
   "source": [
    "predicted = torch.cat((yfit,ypred),0)\n",
    "plt.figure(figsize=(20, 12))\n",
    "plt.plot(yact.detach().numpy())\n",
    "plt.plot(predicted.detach().numpy())\n",
    "#plt.xticks(testpred,AvgVehicleCount_ts[\"Month\"])\n",
    "plt.xlabel('Time 5min Intervals')\n",
    "plt.ylabel('Average Speed')\n",
    "plt.legend(['Actual', 'TestPred'])\n",
    "plt.title(f'Average Speed in Apr at Station 400717')\n",
    "plt.savefig('Station 400717 test traffic_Average Speed Prediction', bbox_inches='tight')"
   ]
  },
  {
   "cell_type": "code",
   "execution_count": null,
   "metadata": {},
   "outputs": [],
   "source": []
  }
 ],
 "metadata": {
  "kernelspec": {
   "display_name": "Python 3",
   "language": "python",
   "name": "python3"
  },
  "language_info": {
   "codemirror_mode": {
    "name": "ipython",
    "version": 3
   },
   "file_extension": ".py",
   "mimetype": "text/x-python",
   "name": "python",
   "nbconvert_exporter": "python",
   "pygments_lexer": "ipython3",
   "version": "3.7.4"
  }
 },
 "nbformat": 4,
 "nbformat_minor": 4
}
