{
 "cells": [
  {
   "cell_type": "code",
   "execution_count": 1,
   "metadata": {},
   "outputs": [],
   "source": [
    "from datetime import datetime\n",
    "from functools import reduce\n",
    "import math as mt\n",
    "import matplotlib.pyplot as plt\n",
    "import numpy as np\n",
    "import pandas as pd\n",
    "import torch\n",
    "from torch import nn\n",
    "from torch.utils.data import DataLoader, TensorDataset\n",
    "from tqdm import tqdm"
   ]
  },
  {
   "cell_type": "code",
   "execution_count": 2,
   "metadata": {},
   "outputs": [],
   "source": [
    "l=5"
   ]
  },
  {
   "cell_type": "code",
   "execution_count": 3,
   "metadata": {},
   "outputs": [
    {
     "data": {
      "text/html": [
       "<div>\n",
       "<style scoped>\n",
       "    .dataframe tbody tr th:only-of-type {\n",
       "        vertical-align: middle;\n",
       "    }\n",
       "\n",
       "    .dataframe tbody tr th {\n",
       "        vertical-align: top;\n",
       "    }\n",
       "\n",
       "    .dataframe thead th {\n",
       "        text-align: right;\n",
       "    }\n",
       "</style>\n",
       "<table border=\"1\" class=\"dataframe\">\n",
       "  <thead>\n",
       "    <tr style=\"text-align: right;\">\n",
       "      <th></th>\n",
       "      <th>UID</th>\n",
       "      <th>iso2</th>\n",
       "      <th>iso3</th>\n",
       "      <th>code3</th>\n",
       "      <th>FIPS</th>\n",
       "      <th>Admin2</th>\n",
       "      <th>Province_State</th>\n",
       "      <th>Country_Region</th>\n",
       "      <th>Lat</th>\n",
       "      <th>Long_</th>\n",
       "      <th>...</th>\n",
       "      <th>2/11/2021</th>\n",
       "      <th>2/12/2021</th>\n",
       "      <th>2/13/2021</th>\n",
       "      <th>2/14/2021</th>\n",
       "      <th>2/15/2021</th>\n",
       "      <th>2/16/2021</th>\n",
       "      <th>2/17/2021</th>\n",
       "      <th>2/18/2021</th>\n",
       "      <th>2/19/2021</th>\n",
       "      <th>2/20/2021</th>\n",
       "    </tr>\n",
       "  </thead>\n",
       "  <tbody>\n",
       "    <tr>\n",
       "      <th>0</th>\n",
       "      <td>84001001</td>\n",
       "      <td>US</td>\n",
       "      <td>USA</td>\n",
       "      <td>840</td>\n",
       "      <td>1001.0</td>\n",
       "      <td>Autauga</td>\n",
       "      <td>Alabama</td>\n",
       "      <td>US</td>\n",
       "      <td>32.539527</td>\n",
       "      <td>-86.644082</td>\n",
       "      <td>...</td>\n",
       "      <td>5970</td>\n",
       "      <td>5984</td>\n",
       "      <td>6002</td>\n",
       "      <td>6023</td>\n",
       "      <td>6024</td>\n",
       "      <td>6038</td>\n",
       "      <td>6050</td>\n",
       "      <td>6071</td>\n",
       "      <td>6079</td>\n",
       "      <td>6092</td>\n",
       "    </tr>\n",
       "    <tr>\n",
       "      <th>1</th>\n",
       "      <td>84001003</td>\n",
       "      <td>US</td>\n",
       "      <td>USA</td>\n",
       "      <td>840</td>\n",
       "      <td>1003.0</td>\n",
       "      <td>Baldwin</td>\n",
       "      <td>Alabama</td>\n",
       "      <td>US</td>\n",
       "      <td>30.727750</td>\n",
       "      <td>-87.722071</td>\n",
       "      <td>...</td>\n",
       "      <td>18960</td>\n",
       "      <td>18994</td>\n",
       "      <td>19051</td>\n",
       "      <td>19105</td>\n",
       "      <td>19136</td>\n",
       "      <td>19176</td>\n",
       "      <td>19267</td>\n",
       "      <td>19324</td>\n",
       "      <td>19361</td>\n",
       "      <td>19392</td>\n",
       "    </tr>\n",
       "    <tr>\n",
       "      <th>2</th>\n",
       "      <td>84001005</td>\n",
       "      <td>US</td>\n",
       "      <td>USA</td>\n",
       "      <td>840</td>\n",
       "      <td>1005.0</td>\n",
       "      <td>Barbour</td>\n",
       "      <td>Alabama</td>\n",
       "      <td>US</td>\n",
       "      <td>31.868263</td>\n",
       "      <td>-85.387129</td>\n",
       "      <td>...</td>\n",
       "      <td>2030</td>\n",
       "      <td>2036</td>\n",
       "      <td>2040</td>\n",
       "      <td>2042</td>\n",
       "      <td>2044</td>\n",
       "      <td>2055</td>\n",
       "      <td>2053</td>\n",
       "      <td>2057</td>\n",
       "      <td>2061</td>\n",
       "      <td>2067</td>\n",
       "    </tr>\n",
       "    <tr>\n",
       "      <th>3</th>\n",
       "      <td>84001007</td>\n",
       "      <td>US</td>\n",
       "      <td>USA</td>\n",
       "      <td>840</td>\n",
       "      <td>1007.0</td>\n",
       "      <td>Bibb</td>\n",
       "      <td>Alabama</td>\n",
       "      <td>US</td>\n",
       "      <td>32.996421</td>\n",
       "      <td>-87.125115</td>\n",
       "      <td>...</td>\n",
       "      <td>2377</td>\n",
       "      <td>2385</td>\n",
       "      <td>2393</td>\n",
       "      <td>2395</td>\n",
       "      <td>2397</td>\n",
       "      <td>2400</td>\n",
       "      <td>2399</td>\n",
       "      <td>2405</td>\n",
       "      <td>2411</td>\n",
       "      <td>2414</td>\n",
       "    </tr>\n",
       "    <tr>\n",
       "      <th>4</th>\n",
       "      <td>84001009</td>\n",
       "      <td>US</td>\n",
       "      <td>USA</td>\n",
       "      <td>840</td>\n",
       "      <td>1009.0</td>\n",
       "      <td>Blount</td>\n",
       "      <td>Alabama</td>\n",
       "      <td>US</td>\n",
       "      <td>33.982109</td>\n",
       "      <td>-86.567906</td>\n",
       "      <td>...</td>\n",
       "      <td>5955</td>\n",
       "      <td>5953</td>\n",
       "      <td>5957</td>\n",
       "      <td>5961</td>\n",
       "      <td>5973</td>\n",
       "      <td>5987</td>\n",
       "      <td>5997</td>\n",
       "      <td>6008</td>\n",
       "      <td>6021</td>\n",
       "      <td>6040</td>\n",
       "    </tr>\n",
       "    <tr>\n",
       "      <th>...</th>\n",
       "      <td>...</td>\n",
       "      <td>...</td>\n",
       "      <td>...</td>\n",
       "      <td>...</td>\n",
       "      <td>...</td>\n",
       "      <td>...</td>\n",
       "      <td>...</td>\n",
       "      <td>...</td>\n",
       "      <td>...</td>\n",
       "      <td>...</td>\n",
       "      <td>...</td>\n",
       "      <td>...</td>\n",
       "      <td>...</td>\n",
       "      <td>...</td>\n",
       "      <td>...</td>\n",
       "      <td>...</td>\n",
       "      <td>...</td>\n",
       "      <td>...</td>\n",
       "      <td>...</td>\n",
       "      <td>...</td>\n",
       "      <td>...</td>\n",
       "    </tr>\n",
       "    <tr>\n",
       "      <th>3335</th>\n",
       "      <td>84056039</td>\n",
       "      <td>US</td>\n",
       "      <td>USA</td>\n",
       "      <td>840</td>\n",
       "      <td>56039.0</td>\n",
       "      <td>Teton</td>\n",
       "      <td>Wyoming</td>\n",
       "      <td>US</td>\n",
       "      <td>43.935225</td>\n",
       "      <td>-110.589080</td>\n",
       "      <td>...</td>\n",
       "      <td>3256</td>\n",
       "      <td>3267</td>\n",
       "      <td>3267</td>\n",
       "      <td>3278</td>\n",
       "      <td>3278</td>\n",
       "      <td>3297</td>\n",
       "      <td>3298</td>\n",
       "      <td>3307</td>\n",
       "      <td>3318</td>\n",
       "      <td>3318</td>\n",
       "    </tr>\n",
       "    <tr>\n",
       "      <th>3336</th>\n",
       "      <td>84056041</td>\n",
       "      <td>US</td>\n",
       "      <td>USA</td>\n",
       "      <td>840</td>\n",
       "      <td>56041.0</td>\n",
       "      <td>Uinta</td>\n",
       "      <td>Wyoming</td>\n",
       "      <td>US</td>\n",
       "      <td>41.287818</td>\n",
       "      <td>-110.547578</td>\n",
       "      <td>...</td>\n",
       "      <td>1992</td>\n",
       "      <td>1994</td>\n",
       "      <td>1994</td>\n",
       "      <td>1994</td>\n",
       "      <td>1994</td>\n",
       "      <td>2007</td>\n",
       "      <td>2016</td>\n",
       "      <td>2021</td>\n",
       "      <td>2024</td>\n",
       "      <td>2024</td>\n",
       "    </tr>\n",
       "    <tr>\n",
       "      <th>3337</th>\n",
       "      <td>84090056</td>\n",
       "      <td>US</td>\n",
       "      <td>USA</td>\n",
       "      <td>840</td>\n",
       "      <td>90056.0</td>\n",
       "      <td>Unassigned</td>\n",
       "      <td>Wyoming</td>\n",
       "      <td>US</td>\n",
       "      <td>0.000000</td>\n",
       "      <td>0.000000</td>\n",
       "      <td>...</td>\n",
       "      <td>0</td>\n",
       "      <td>0</td>\n",
       "      <td>0</td>\n",
       "      <td>0</td>\n",
       "      <td>0</td>\n",
       "      <td>0</td>\n",
       "      <td>0</td>\n",
       "      <td>0</td>\n",
       "      <td>0</td>\n",
       "      <td>0</td>\n",
       "    </tr>\n",
       "    <tr>\n",
       "      <th>3338</th>\n",
       "      <td>84056043</td>\n",
       "      <td>US</td>\n",
       "      <td>USA</td>\n",
       "      <td>840</td>\n",
       "      <td>56043.0</td>\n",
       "      <td>Washakie</td>\n",
       "      <td>Wyoming</td>\n",
       "      <td>US</td>\n",
       "      <td>43.904516</td>\n",
       "      <td>-107.680187</td>\n",
       "      <td>...</td>\n",
       "      <td>872</td>\n",
       "      <td>873</td>\n",
       "      <td>873</td>\n",
       "      <td>873</td>\n",
       "      <td>873</td>\n",
       "      <td>874</td>\n",
       "      <td>874</td>\n",
       "      <td>875</td>\n",
       "      <td>877</td>\n",
       "      <td>877</td>\n",
       "    </tr>\n",
       "    <tr>\n",
       "      <th>3339</th>\n",
       "      <td>84056045</td>\n",
       "      <td>US</td>\n",
       "      <td>USA</td>\n",
       "      <td>840</td>\n",
       "      <td>56045.0</td>\n",
       "      <td>Weston</td>\n",
       "      <td>Wyoming</td>\n",
       "      <td>US</td>\n",
       "      <td>43.839612</td>\n",
       "      <td>-104.567488</td>\n",
       "      <td>...</td>\n",
       "      <td>617</td>\n",
       "      <td>617</td>\n",
       "      <td>617</td>\n",
       "      <td>617</td>\n",
       "      <td>617</td>\n",
       "      <td>617</td>\n",
       "      <td>618</td>\n",
       "      <td>618</td>\n",
       "      <td>619</td>\n",
       "      <td>619</td>\n",
       "    </tr>\n",
       "  </tbody>\n",
       "</table>\n",
       "<p>3340 rows × 407 columns</p>\n",
       "</div>"
      ],
      "text/plain": [
       "           UID iso2 iso3  code3     FIPS      Admin2 Province_State  \\\n",
       "0     84001001   US  USA    840   1001.0     Autauga        Alabama   \n",
       "1     84001003   US  USA    840   1003.0     Baldwin        Alabama   \n",
       "2     84001005   US  USA    840   1005.0     Barbour        Alabama   \n",
       "3     84001007   US  USA    840   1007.0        Bibb        Alabama   \n",
       "4     84001009   US  USA    840   1009.0      Blount        Alabama   \n",
       "...        ...  ...  ...    ...      ...         ...            ...   \n",
       "3335  84056039   US  USA    840  56039.0       Teton        Wyoming   \n",
       "3336  84056041   US  USA    840  56041.0       Uinta        Wyoming   \n",
       "3337  84090056   US  USA    840  90056.0  Unassigned        Wyoming   \n",
       "3338  84056043   US  USA    840  56043.0    Washakie        Wyoming   \n",
       "3339  84056045   US  USA    840  56045.0      Weston        Wyoming   \n",
       "\n",
       "     Country_Region        Lat       Long_  ... 2/11/2021  2/12/2021  \\\n",
       "0                US  32.539527  -86.644082  ...      5970       5984   \n",
       "1                US  30.727750  -87.722071  ...     18960      18994   \n",
       "2                US  31.868263  -85.387129  ...      2030       2036   \n",
       "3                US  32.996421  -87.125115  ...      2377       2385   \n",
       "4                US  33.982109  -86.567906  ...      5955       5953   \n",
       "...             ...        ...         ...  ...       ...        ...   \n",
       "3335             US  43.935225 -110.589080  ...      3256       3267   \n",
       "3336             US  41.287818 -110.547578  ...      1992       1994   \n",
       "3337             US   0.000000    0.000000  ...         0          0   \n",
       "3338             US  43.904516 -107.680187  ...       872        873   \n",
       "3339             US  43.839612 -104.567488  ...       617        617   \n",
       "\n",
       "      2/13/2021  2/14/2021  2/15/2021  2/16/2021  2/17/2021  2/18/2021  \\\n",
       "0          6002       6023       6024       6038       6050       6071   \n",
       "1         19051      19105      19136      19176      19267      19324   \n",
       "2          2040       2042       2044       2055       2053       2057   \n",
       "3          2393       2395       2397       2400       2399       2405   \n",
       "4          5957       5961       5973       5987       5997       6008   \n",
       "...         ...        ...        ...        ...        ...        ...   \n",
       "3335       3267       3278       3278       3297       3298       3307   \n",
       "3336       1994       1994       1994       2007       2016       2021   \n",
       "3337          0          0          0          0          0          0   \n",
       "3338        873        873        873        874        874        875   \n",
       "3339        617        617        617        617        618        618   \n",
       "\n",
       "      2/19/2021  2/20/2021  \n",
       "0          6079       6092  \n",
       "1         19361      19392  \n",
       "2          2061       2067  \n",
       "3          2411       2414  \n",
       "4          6021       6040  \n",
       "...         ...        ...  \n",
       "3335       3318       3318  \n",
       "3336       2024       2024  \n",
       "3337          0          0  \n",
       "3338        877        877  \n",
       "3339        619        619  \n",
       "\n",
       "[3340 rows x 407 columns]"
      ]
     },
     "execution_count": 3,
     "metadata": {},
     "output_type": "execute_result"
    }
   ],
   "source": [
    "df = pd.read_csv('time_series_covid19_confirmed_US.csv')\n",
    "df"
   ]
  },
  {
   "cell_type": "code",
   "execution_count": 4,
   "metadata": {},
   "outputs": [
    {
     "data": {
      "text/plain": [
       "(3340, 407)"
      ]
     },
     "execution_count": 4,
     "metadata": {},
     "output_type": "execute_result"
    }
   ],
   "source": [
    "df.shape"
   ]
  },
  {
   "cell_type": "code",
   "execution_count": 5,
   "metadata": {},
   "outputs": [
    {
     "data": {
      "text/plain": [
       "316"
      ]
     },
     "execution_count": 5,
     "metadata": {},
     "output_type": "execute_result"
    }
   ],
   "source": [
    "mt.floor((df.shape[1] -11)*0.8)"
   ]
  },
  {
   "cell_type": "code",
   "execution_count": 6,
   "metadata": {},
   "outputs": [
    {
     "data": {
      "text/plain": [
       "Index(['UID', 'iso2', 'iso3', 'code3', 'FIPS', 'Admin2', 'Province_State',\n",
       "       'Country_Region', 'Lat', 'Long_',\n",
       "       ...\n",
       "       '2/11/2021', '2/12/2021', '2/13/2021', '2/14/2021', '2/15/2021',\n",
       "       '2/16/2021', '2/17/2021', '2/18/2021', '2/19/2021', '2/20/2021'],\n",
       "      dtype='object', length=407)"
      ]
     },
     "execution_count": 6,
     "metadata": {},
     "output_type": "execute_result"
    }
   ],
   "source": [
    "df.columns"
   ]
  },
  {
   "cell_type": "code",
   "execution_count": 7,
   "metadata": {},
   "outputs": [
    {
     "data": {
      "text/plain": [
       "array(['Alabama', 'Alaska', 'American Samoa', 'Arizona', 'Arkansas',\n",
       "       'California', 'Colorado', 'Connecticut', 'Delaware',\n",
       "       'Diamond Princess', 'District of Columbia', 'Florida', 'Georgia',\n",
       "       'Grand Princess', 'Guam', 'Hawaii', 'Idaho', 'Illinois', 'Indiana',\n",
       "       'Iowa', 'Kansas', 'Kentucky', 'Louisiana', 'Maine', 'Maryland',\n",
       "       'Massachusetts', 'Michigan', 'Minnesota', 'Mississippi',\n",
       "       'Missouri', 'Montana', 'Nebraska', 'Nevada', 'New Hampshire',\n",
       "       'New Jersey', 'New Mexico', 'New York', 'North Carolina',\n",
       "       'North Dakota', 'Northern Mariana Islands', 'Ohio', 'Oklahoma',\n",
       "       'Oregon', 'Pennsylvania', 'Puerto Rico', 'Rhode Island',\n",
       "       'South Carolina', 'South Dakota', 'Tennessee', 'Texas', 'Utah',\n",
       "       'Vermont', 'Virgin Islands', 'Virginia', 'Washington',\n",
       "       'West Virginia', 'Wisconsin', 'Wyoming'], dtype=object)"
      ]
     },
     "execution_count": 7,
     "metadata": {},
     "output_type": "execute_result"
    }
   ],
   "source": [
    "df.Province_State.unique()"
   ]
  },
  {
   "cell_type": "code",
   "execution_count": 8,
   "metadata": {},
   "outputs": [
    {
     "data": {
      "text/html": [
       "<div>\n",
       "<style scoped>\n",
       "    .dataframe tbody tr th:only-of-type {\n",
       "        vertical-align: middle;\n",
       "    }\n",
       "\n",
       "    .dataframe tbody tr th {\n",
       "        vertical-align: top;\n",
       "    }\n",
       "\n",
       "    .dataframe thead th {\n",
       "        text-align: right;\n",
       "    }\n",
       "</style>\n",
       "<table border=\"1\" class=\"dataframe\">\n",
       "  <thead>\n",
       "    <tr style=\"text-align: right;\">\n",
       "      <th></th>\n",
       "      <th>1/22/2020</th>\n",
       "      <th>1/23/2020</th>\n",
       "      <th>1/24/2020</th>\n",
       "      <th>1/25/2020</th>\n",
       "      <th>1/26/2020</th>\n",
       "      <th>1/27/2020</th>\n",
       "      <th>1/28/2020</th>\n",
       "      <th>1/29/2020</th>\n",
       "      <th>1/30/2020</th>\n",
       "      <th>1/31/2020</th>\n",
       "      <th>...</th>\n",
       "      <th>1/15/2021</th>\n",
       "      <th>1/16/2021</th>\n",
       "      <th>1/17/2021</th>\n",
       "      <th>1/18/2021</th>\n",
       "      <th>1/19/2021</th>\n",
       "      <th>1/20/2021</th>\n",
       "      <th>1/21/2021</th>\n",
       "      <th>1/22/2021</th>\n",
       "      <th>1/23/2021</th>\n",
       "      <th>1/24/2021</th>\n",
       "    </tr>\n",
       "  </thead>\n",
       "  <tbody>\n",
       "    <tr>\n",
       "      <th>0</th>\n",
       "      <td>0</td>\n",
       "      <td>0</td>\n",
       "      <td>0</td>\n",
       "      <td>0</td>\n",
       "      <td>0</td>\n",
       "      <td>0</td>\n",
       "      <td>0</td>\n",
       "      <td>0</td>\n",
       "      <td>0</td>\n",
       "      <td>0</td>\n",
       "      <td>...</td>\n",
       "      <td>5103</td>\n",
       "      <td>5154</td>\n",
       "      <td>5184</td>\n",
       "      <td>5198</td>\n",
       "      <td>5227</td>\n",
       "      <td>5257</td>\n",
       "      <td>5270</td>\n",
       "      <td>5327</td>\n",
       "      <td>5358</td>\n",
       "      <td>5376</td>\n",
       "    </tr>\n",
       "    <tr>\n",
       "      <th>1</th>\n",
       "      <td>0</td>\n",
       "      <td>0</td>\n",
       "      <td>0</td>\n",
       "      <td>0</td>\n",
       "      <td>0</td>\n",
       "      <td>0</td>\n",
       "      <td>0</td>\n",
       "      <td>0</td>\n",
       "      <td>0</td>\n",
       "      <td>0</td>\n",
       "      <td>...</td>\n",
       "      <td>16002</td>\n",
       "      <td>16176</td>\n",
       "      <td>16251</td>\n",
       "      <td>16346</td>\n",
       "      <td>16513</td>\n",
       "      <td>16653</td>\n",
       "      <td>16798</td>\n",
       "      <td>16981</td>\n",
       "      <td>17128</td>\n",
       "      <td>17256</td>\n",
       "    </tr>\n",
       "    <tr>\n",
       "      <th>2</th>\n",
       "      <td>0</td>\n",
       "      <td>0</td>\n",
       "      <td>0</td>\n",
       "      <td>0</td>\n",
       "      <td>0</td>\n",
       "      <td>0</td>\n",
       "      <td>0</td>\n",
       "      <td>0</td>\n",
       "      <td>0</td>\n",
       "      <td>0</td>\n",
       "      <td>...</td>\n",
       "      <td>1712</td>\n",
       "      <td>1723</td>\n",
       "      <td>1729</td>\n",
       "      <td>1730</td>\n",
       "      <td>1738</td>\n",
       "      <td>1760</td>\n",
       "      <td>1778</td>\n",
       "      <td>1793</td>\n",
       "      <td>1805</td>\n",
       "      <td>1827</td>\n",
       "    </tr>\n",
       "    <tr>\n",
       "      <th>3</th>\n",
       "      <td>0</td>\n",
       "      <td>0</td>\n",
       "      <td>0</td>\n",
       "      <td>0</td>\n",
       "      <td>0</td>\n",
       "      <td>0</td>\n",
       "      <td>0</td>\n",
       "      <td>0</td>\n",
       "      <td>0</td>\n",
       "      <td>0</td>\n",
       "      <td>...</td>\n",
       "      <td>2130</td>\n",
       "      <td>2144</td>\n",
       "      <td>2151</td>\n",
       "      <td>2162</td>\n",
       "      <td>2170</td>\n",
       "      <td>2188</td>\n",
       "      <td>2198</td>\n",
       "      <td>2212</td>\n",
       "      <td>2223</td>\n",
       "      <td>2223</td>\n",
       "    </tr>\n",
       "    <tr>\n",
       "      <th>4</th>\n",
       "      <td>0</td>\n",
       "      <td>0</td>\n",
       "      <td>0</td>\n",
       "      <td>0</td>\n",
       "      <td>0</td>\n",
       "      <td>0</td>\n",
       "      <td>0</td>\n",
       "      <td>0</td>\n",
       "      <td>0</td>\n",
       "      <td>0</td>\n",
       "      <td>...</td>\n",
       "      <td>5264</td>\n",
       "      <td>5292</td>\n",
       "      <td>5304</td>\n",
       "      <td>5308</td>\n",
       "      <td>5320</td>\n",
       "      <td>5376</td>\n",
       "      <td>5411</td>\n",
       "      <td>5439</td>\n",
       "      <td>5462</td>\n",
       "      <td>5473</td>\n",
       "    </tr>\n",
       "    <tr>\n",
       "      <th>...</th>\n",
       "      <td>...</td>\n",
       "      <td>...</td>\n",
       "      <td>...</td>\n",
       "      <td>...</td>\n",
       "      <td>...</td>\n",
       "      <td>...</td>\n",
       "      <td>...</td>\n",
       "      <td>...</td>\n",
       "      <td>...</td>\n",
       "      <td>...</td>\n",
       "      <td>...</td>\n",
       "      <td>...</td>\n",
       "      <td>...</td>\n",
       "      <td>...</td>\n",
       "      <td>...</td>\n",
       "      <td>...</td>\n",
       "      <td>...</td>\n",
       "      <td>...</td>\n",
       "      <td>...</td>\n",
       "      <td>...</td>\n",
       "      <td>...</td>\n",
       "    </tr>\n",
       "    <tr>\n",
       "      <th>3335</th>\n",
       "      <td>0</td>\n",
       "      <td>0</td>\n",
       "      <td>0</td>\n",
       "      <td>0</td>\n",
       "      <td>0</td>\n",
       "      <td>0</td>\n",
       "      <td>0</td>\n",
       "      <td>0</td>\n",
       "      <td>0</td>\n",
       "      <td>0</td>\n",
       "      <td>...</td>\n",
       "      <td>2605</td>\n",
       "      <td>2614</td>\n",
       "      <td>2685</td>\n",
       "      <td>2753</td>\n",
       "      <td>2769</td>\n",
       "      <td>2788</td>\n",
       "      <td>2847</td>\n",
       "      <td>2870</td>\n",
       "      <td>2870</td>\n",
       "      <td>2931</td>\n",
       "    </tr>\n",
       "    <tr>\n",
       "      <th>3336</th>\n",
       "      <td>0</td>\n",
       "      <td>0</td>\n",
       "      <td>0</td>\n",
       "      <td>0</td>\n",
       "      <td>0</td>\n",
       "      <td>0</td>\n",
       "      <td>0</td>\n",
       "      <td>0</td>\n",
       "      <td>0</td>\n",
       "      <td>0</td>\n",
       "      <td>...</td>\n",
       "      <td>1806</td>\n",
       "      <td>1813</td>\n",
       "      <td>1817</td>\n",
       "      <td>1833</td>\n",
       "      <td>1843</td>\n",
       "      <td>1852</td>\n",
       "      <td>1874</td>\n",
       "      <td>1887</td>\n",
       "      <td>1887</td>\n",
       "      <td>1900</td>\n",
       "    </tr>\n",
       "    <tr>\n",
       "      <th>3337</th>\n",
       "      <td>0</td>\n",
       "      <td>0</td>\n",
       "      <td>0</td>\n",
       "      <td>0</td>\n",
       "      <td>0</td>\n",
       "      <td>0</td>\n",
       "      <td>0</td>\n",
       "      <td>0</td>\n",
       "      <td>0</td>\n",
       "      <td>0</td>\n",
       "      <td>...</td>\n",
       "      <td>0</td>\n",
       "      <td>0</td>\n",
       "      <td>0</td>\n",
       "      <td>0</td>\n",
       "      <td>0</td>\n",
       "      <td>0</td>\n",
       "      <td>0</td>\n",
       "      <td>0</td>\n",
       "      <td>0</td>\n",
       "      <td>0</td>\n",
       "    </tr>\n",
       "    <tr>\n",
       "      <th>3338</th>\n",
       "      <td>0</td>\n",
       "      <td>0</td>\n",
       "      <td>0</td>\n",
       "      <td>0</td>\n",
       "      <td>0</td>\n",
       "      <td>0</td>\n",
       "      <td>0</td>\n",
       "      <td>0</td>\n",
       "      <td>0</td>\n",
       "      <td>0</td>\n",
       "      <td>...</td>\n",
       "      <td>840</td>\n",
       "      <td>842</td>\n",
       "      <td>843</td>\n",
       "      <td>844</td>\n",
       "      <td>846</td>\n",
       "      <td>846</td>\n",
       "      <td>848</td>\n",
       "      <td>853</td>\n",
       "      <td>853</td>\n",
       "      <td>858</td>\n",
       "    </tr>\n",
       "    <tr>\n",
       "      <th>3339</th>\n",
       "      <td>0</td>\n",
       "      <td>0</td>\n",
       "      <td>0</td>\n",
       "      <td>0</td>\n",
       "      <td>0</td>\n",
       "      <td>0</td>\n",
       "      <td>0</td>\n",
       "      <td>0</td>\n",
       "      <td>0</td>\n",
       "      <td>0</td>\n",
       "      <td>...</td>\n",
       "      <td>602</td>\n",
       "      <td>602</td>\n",
       "      <td>602</td>\n",
       "      <td>602</td>\n",
       "      <td>606</td>\n",
       "      <td>606</td>\n",
       "      <td>609</td>\n",
       "      <td>609</td>\n",
       "      <td>609</td>\n",
       "      <td>610</td>\n",
       "    </tr>\n",
       "  </tbody>\n",
       "</table>\n",
       "<p>3340 rows × 369 columns</p>\n",
       "</div>"
      ],
      "text/plain": [
       "      1/22/2020  1/23/2020  1/24/2020  1/25/2020  1/26/2020  1/27/2020  \\\n",
       "0             0          0          0          0          0          0   \n",
       "1             0          0          0          0          0          0   \n",
       "2             0          0          0          0          0          0   \n",
       "3             0          0          0          0          0          0   \n",
       "4             0          0          0          0          0          0   \n",
       "...         ...        ...        ...        ...        ...        ...   \n",
       "3335          0          0          0          0          0          0   \n",
       "3336          0          0          0          0          0          0   \n",
       "3337          0          0          0          0          0          0   \n",
       "3338          0          0          0          0          0          0   \n",
       "3339          0          0          0          0          0          0   \n",
       "\n",
       "      1/28/2020  1/29/2020  1/30/2020  1/31/2020  ...  1/15/2021  1/16/2021  \\\n",
       "0             0          0          0          0  ...       5103       5154   \n",
       "1             0          0          0          0  ...      16002      16176   \n",
       "2             0          0          0          0  ...       1712       1723   \n",
       "3             0          0          0          0  ...       2130       2144   \n",
       "4             0          0          0          0  ...       5264       5292   \n",
       "...         ...        ...        ...        ...  ...        ...        ...   \n",
       "3335          0          0          0          0  ...       2605       2614   \n",
       "3336          0          0          0          0  ...       1806       1813   \n",
       "3337          0          0          0          0  ...          0          0   \n",
       "3338          0          0          0          0  ...        840        842   \n",
       "3339          0          0          0          0  ...        602        602   \n",
       "\n",
       "      1/17/2021  1/18/2021  1/19/2021  1/20/2021  1/21/2021  1/22/2021  \\\n",
       "0          5184       5198       5227       5257       5270       5327   \n",
       "1         16251      16346      16513      16653      16798      16981   \n",
       "2          1729       1730       1738       1760       1778       1793   \n",
       "3          2151       2162       2170       2188       2198       2212   \n",
       "4          5304       5308       5320       5376       5411       5439   \n",
       "...         ...        ...        ...        ...        ...        ...   \n",
       "3335       2685       2753       2769       2788       2847       2870   \n",
       "3336       1817       1833       1843       1852       1874       1887   \n",
       "3337          0          0          0          0          0          0   \n",
       "3338        843        844        846        846        848        853   \n",
       "3339        602        602        606        606        609        609   \n",
       "\n",
       "      1/23/2021  1/24/2021  \n",
       "0          5358       5376  \n",
       "1         17128      17256  \n",
       "2          1805       1827  \n",
       "3          2223       2223  \n",
       "4          5462       5473  \n",
       "...         ...        ...  \n",
       "3335       2870       2931  \n",
       "3336       1887       1900  \n",
       "3337          0          0  \n",
       "3338        853        858  \n",
       "3339        609        610  \n",
       "\n",
       "[3340 rows x 369 columns]"
      ]
     },
     "execution_count": 8,
     "metadata": {},
     "output_type": "execute_result"
    }
   ],
   "source": [
    "df.iloc[:, 11:380]"
   ]
  },
  {
   "cell_type": "code",
   "execution_count": 9,
   "metadata": {},
   "outputs": [],
   "source": [
    "def get_list(x, m):\n",
    "    return list(zip(*(x[i:] for i in range(m))))"
   ]
  },
  {
   "cell_type": "code",
   "execution_count": 10,
   "metadata": {},
   "outputs": [],
   "source": [
    "def get_data(input_df,lag):\n",
    "    dft = input_df.transpose().rolling(window=2).apply(lambda x: x.iloc[1] - x.iloc[0])\n",
    "    dft = dft.iloc[1:]\n",
    "    print(dft.shape)\n",
    "    w = lag\n",
    "    x = []\n",
    "    print(dft.shape[1])\n",
    "    for i in range(dft.shape[1]):\n",
    "        x.extend(get_list(dft[i], w+1))\n",
    "\n",
    "    x = np.array(x)\n",
    "\n",
    "    y = torch.tensor(x[:, -1])\n",
    "    x = torch.tensor(x[:, :-1])\n",
    "    return x, y"
   ]
  },
  {
   "cell_type": "code",
   "execution_count": 11,
   "metadata": {},
   "outputs": [],
   "source": [
    "x_train = torch.empty(mt.floor((df.shape[1] -11)*0.8), l)\n",
    "y_train = torch.empty(mt.floor((df.shape[1] -11)*0.8))"
   ]
  },
  {
   "cell_type": "code",
   "execution_count": 12,
   "metadata": {},
   "outputs": [
    {
     "name": "stdout",
     "output_type": "stream",
     "text": [
      "torch.Size([316])\n"
     ]
    }
   ],
   "source": [
    "print(y_train.shape)"
   ]
  },
  {
   "cell_type": "code",
   "execution_count": 13,
   "metadata": {},
   "outputs": [
    {
     "name": "stdout",
     "output_type": "stream",
     "text": [
      "torch.Size([316, 5])\n"
     ]
    }
   ],
   "source": [
    "print(x_train.shape)"
   ]
  },
  {
   "cell_type": "code",
   "execution_count": 14,
   "metadata": {},
   "outputs": [],
   "source": [
    "x_test = torch.empty((df.shape[1]-11)- mt.floor((df.shape[1] -11)*0.8) , l)\n",
    "y_test = torch.empty((df.shape[1]-11)- mt.floor((df.shape[1] -11)*0.8))"
   ]
  },
  {
   "cell_type": "code",
   "execution_count": 15,
   "metadata": {},
   "outputs": [
    {
     "name": "stdout",
     "output_type": "stream",
     "text": [
      "torch.Size([80, 5])\n"
     ]
    }
   ],
   "source": [
    "print(x_test.shape)"
   ]
  },
  {
   "cell_type": "code",
   "execution_count": 16,
   "metadata": {},
   "outputs": [
    {
     "name": "stdout",
     "output_type": "stream",
     "text": [
      "torch.Size([80])\n"
     ]
    }
   ],
   "source": [
    "print(y_test.shape)"
   ]
  },
  {
   "cell_type": "code",
   "execution_count": 17,
   "metadata": {},
   "outputs": [
    {
     "data": {
      "text/plain": [
       "316"
      ]
     },
     "execution_count": 17,
     "metadata": {},
     "output_type": "execute_result"
    }
   ],
   "source": [
    "mt.floor((df.shape[1] -11)*0.8)"
   ]
  },
  {
   "cell_type": "code",
   "execution_count": 18,
   "metadata": {},
   "outputs": [
    {
     "name": "stdout",
     "output_type": "stream",
     "text": [
      "(313, 3340)\n",
      "3340\n"
     ]
    }
   ],
   "source": [
    "x_train, y_train = get_data(df.iloc[:, 11:mt.floor((df.shape[1])*0.8)]+11,l)"
   ]
  },
  {
   "cell_type": "code",
   "execution_count": 108,
   "metadata": {},
   "outputs": [
    {
     "name": "stdout",
     "output_type": "stream",
     "text": [
      "torch.Size([1028720, 5])\n"
     ]
    }
   ],
   "source": [
    "print(x_train.shape)"
   ]
  },
  {
   "cell_type": "code",
   "execution_count": 103,
   "metadata": {},
   "outputs": [],
   "source": [
    "dft = (df.iloc[:, 11:mt.floor((df.shape[1])*0.8)]+11).transpose().rolling(window=2).apply(lambda x: x.iloc[1] - x.iloc[0])"
   ]
  },
  {
   "cell_type": "code",
   "execution_count": 106,
   "metadata": {},
   "outputs": [
    {
     "data": {
      "text/plain": [
       "1/22/2020      NaN\n",
       "1/23/2020      0.0\n",
       "1/24/2020      0.0\n",
       "1/25/2020      0.0\n",
       "1/26/2020      0.0\n",
       "              ... \n",
       "11/26/2020    18.0\n",
       "11/27/2020    12.0\n",
       "11/28/2020    19.0\n",
       "11/29/2020    16.0\n",
       "11/30/2020    29.0\n",
       "Name: 0, Length: 314, dtype: float64"
      ]
     },
     "execution_count": 106,
     "metadata": {},
     "output_type": "execute_result"
    }
   ],
   "source": [
    "dft[0]"
   ]
  },
  {
   "cell_type": "code",
   "execution_count": 104,
   "metadata": {},
   "outputs": [
    {
     "data": {
      "text/html": [
       "<div>\n",
       "<style scoped>\n",
       "    .dataframe tbody tr th:only-of-type {\n",
       "        vertical-align: middle;\n",
       "    }\n",
       "\n",
       "    .dataframe tbody tr th {\n",
       "        vertical-align: top;\n",
       "    }\n",
       "\n",
       "    .dataframe thead th {\n",
       "        text-align: right;\n",
       "    }\n",
       "</style>\n",
       "<table border=\"1\" class=\"dataframe\">\n",
       "  <thead>\n",
       "    <tr style=\"text-align: right;\">\n",
       "      <th></th>\n",
       "      <th>0</th>\n",
       "      <th>1</th>\n",
       "      <th>2</th>\n",
       "      <th>3</th>\n",
       "      <th>4</th>\n",
       "      <th>5</th>\n",
       "      <th>6</th>\n",
       "      <th>7</th>\n",
       "      <th>8</th>\n",
       "      <th>9</th>\n",
       "      <th>...</th>\n",
       "      <th>3330</th>\n",
       "      <th>3331</th>\n",
       "      <th>3332</th>\n",
       "      <th>3333</th>\n",
       "      <th>3334</th>\n",
       "      <th>3335</th>\n",
       "      <th>3336</th>\n",
       "      <th>3337</th>\n",
       "      <th>3338</th>\n",
       "      <th>3339</th>\n",
       "    </tr>\n",
       "  </thead>\n",
       "  <tbody>\n",
       "    <tr>\n",
       "      <th>1/22/2020</th>\n",
       "      <td>NaN</td>\n",
       "      <td>NaN</td>\n",
       "      <td>NaN</td>\n",
       "      <td>NaN</td>\n",
       "      <td>NaN</td>\n",
       "      <td>NaN</td>\n",
       "      <td>NaN</td>\n",
       "      <td>NaN</td>\n",
       "      <td>NaN</td>\n",
       "      <td>NaN</td>\n",
       "      <td>...</td>\n",
       "      <td>NaN</td>\n",
       "      <td>NaN</td>\n",
       "      <td>NaN</td>\n",
       "      <td>NaN</td>\n",
       "      <td>NaN</td>\n",
       "      <td>NaN</td>\n",
       "      <td>NaN</td>\n",
       "      <td>NaN</td>\n",
       "      <td>NaN</td>\n",
       "      <td>NaN</td>\n",
       "    </tr>\n",
       "    <tr>\n",
       "      <th>1/23/2020</th>\n",
       "      <td>0.0</td>\n",
       "      <td>0.0</td>\n",
       "      <td>0.0</td>\n",
       "      <td>0.0</td>\n",
       "      <td>0.0</td>\n",
       "      <td>0.0</td>\n",
       "      <td>0.0</td>\n",
       "      <td>0.0</td>\n",
       "      <td>0.0</td>\n",
       "      <td>0.0</td>\n",
       "      <td>...</td>\n",
       "      <td>0.0</td>\n",
       "      <td>0.0</td>\n",
       "      <td>0.0</td>\n",
       "      <td>0.0</td>\n",
       "      <td>0.0</td>\n",
       "      <td>0.0</td>\n",
       "      <td>0.0</td>\n",
       "      <td>0.0</td>\n",
       "      <td>0.0</td>\n",
       "      <td>0.0</td>\n",
       "    </tr>\n",
       "    <tr>\n",
       "      <th>1/24/2020</th>\n",
       "      <td>0.0</td>\n",
       "      <td>0.0</td>\n",
       "      <td>0.0</td>\n",
       "      <td>0.0</td>\n",
       "      <td>0.0</td>\n",
       "      <td>0.0</td>\n",
       "      <td>0.0</td>\n",
       "      <td>0.0</td>\n",
       "      <td>0.0</td>\n",
       "      <td>0.0</td>\n",
       "      <td>...</td>\n",
       "      <td>0.0</td>\n",
       "      <td>0.0</td>\n",
       "      <td>0.0</td>\n",
       "      <td>0.0</td>\n",
       "      <td>0.0</td>\n",
       "      <td>0.0</td>\n",
       "      <td>0.0</td>\n",
       "      <td>0.0</td>\n",
       "      <td>0.0</td>\n",
       "      <td>0.0</td>\n",
       "    </tr>\n",
       "    <tr>\n",
       "      <th>1/25/2020</th>\n",
       "      <td>0.0</td>\n",
       "      <td>0.0</td>\n",
       "      <td>0.0</td>\n",
       "      <td>0.0</td>\n",
       "      <td>0.0</td>\n",
       "      <td>0.0</td>\n",
       "      <td>0.0</td>\n",
       "      <td>0.0</td>\n",
       "      <td>0.0</td>\n",
       "      <td>0.0</td>\n",
       "      <td>...</td>\n",
       "      <td>0.0</td>\n",
       "      <td>0.0</td>\n",
       "      <td>0.0</td>\n",
       "      <td>0.0</td>\n",
       "      <td>0.0</td>\n",
       "      <td>0.0</td>\n",
       "      <td>0.0</td>\n",
       "      <td>0.0</td>\n",
       "      <td>0.0</td>\n",
       "      <td>0.0</td>\n",
       "    </tr>\n",
       "    <tr>\n",
       "      <th>1/26/2020</th>\n",
       "      <td>0.0</td>\n",
       "      <td>0.0</td>\n",
       "      <td>0.0</td>\n",
       "      <td>0.0</td>\n",
       "      <td>0.0</td>\n",
       "      <td>0.0</td>\n",
       "      <td>0.0</td>\n",
       "      <td>0.0</td>\n",
       "      <td>0.0</td>\n",
       "      <td>0.0</td>\n",
       "      <td>...</td>\n",
       "      <td>0.0</td>\n",
       "      <td>0.0</td>\n",
       "      <td>0.0</td>\n",
       "      <td>0.0</td>\n",
       "      <td>0.0</td>\n",
       "      <td>0.0</td>\n",
       "      <td>0.0</td>\n",
       "      <td>0.0</td>\n",
       "      <td>0.0</td>\n",
       "      <td>0.0</td>\n",
       "    </tr>\n",
       "    <tr>\n",
       "      <th>...</th>\n",
       "      <td>...</td>\n",
       "      <td>...</td>\n",
       "      <td>...</td>\n",
       "      <td>...</td>\n",
       "      <td>...</td>\n",
       "      <td>...</td>\n",
       "      <td>...</td>\n",
       "      <td>...</td>\n",
       "      <td>...</td>\n",
       "      <td>...</td>\n",
       "      <td>...</td>\n",
       "      <td>...</td>\n",
       "      <td>...</td>\n",
       "      <td>...</td>\n",
       "      <td>...</td>\n",
       "      <td>...</td>\n",
       "      <td>...</td>\n",
       "      <td>...</td>\n",
       "      <td>...</td>\n",
       "      <td>...</td>\n",
       "      <td>...</td>\n",
       "    </tr>\n",
       "    <tr>\n",
       "      <th>11/26/2020</th>\n",
       "      <td>18.0</td>\n",
       "      <td>103.0</td>\n",
       "      <td>0.0</td>\n",
       "      <td>8.0</td>\n",
       "      <td>24.0</td>\n",
       "      <td>3.0</td>\n",
       "      <td>9.0</td>\n",
       "      <td>103.0</td>\n",
       "      <td>27.0</td>\n",
       "      <td>2.0</td>\n",
       "      <td>...</td>\n",
       "      <td>0.0</td>\n",
       "      <td>0.0</td>\n",
       "      <td>0.0</td>\n",
       "      <td>0.0</td>\n",
       "      <td>0.0</td>\n",
       "      <td>0.0</td>\n",
       "      <td>0.0</td>\n",
       "      <td>0.0</td>\n",
       "      <td>0.0</td>\n",
       "      <td>0.0</td>\n",
       "    </tr>\n",
       "    <tr>\n",
       "      <th>11/27/2020</th>\n",
       "      <td>12.0</td>\n",
       "      <td>27.0</td>\n",
       "      <td>1.0</td>\n",
       "      <td>3.0</td>\n",
       "      <td>9.0</td>\n",
       "      <td>0.0</td>\n",
       "      <td>0.0</td>\n",
       "      <td>25.0</td>\n",
       "      <td>1.0</td>\n",
       "      <td>5.0</td>\n",
       "      <td>...</td>\n",
       "      <td>29.0</td>\n",
       "      <td>13.0</td>\n",
       "      <td>60.0</td>\n",
       "      <td>14.0</td>\n",
       "      <td>176.0</td>\n",
       "      <td>71.0</td>\n",
       "      <td>21.0</td>\n",
       "      <td>0.0</td>\n",
       "      <td>20.0</td>\n",
       "      <td>10.0</td>\n",
       "    </tr>\n",
       "    <tr>\n",
       "      <th>11/28/2020</th>\n",
       "      <td>19.0</td>\n",
       "      <td>130.0</td>\n",
       "      <td>2.0</td>\n",
       "      <td>6.0</td>\n",
       "      <td>34.0</td>\n",
       "      <td>2.0</td>\n",
       "      <td>12.0</td>\n",
       "      <td>61.0</td>\n",
       "      <td>3.0</td>\n",
       "      <td>7.0</td>\n",
       "      <td>...</td>\n",
       "      <td>5.0</td>\n",
       "      <td>3.0</td>\n",
       "      <td>15.0</td>\n",
       "      <td>3.0</td>\n",
       "      <td>6.0</td>\n",
       "      <td>23.0</td>\n",
       "      <td>0.0</td>\n",
       "      <td>0.0</td>\n",
       "      <td>2.0</td>\n",
       "      <td>0.0</td>\n",
       "    </tr>\n",
       "    <tr>\n",
       "      <th>11/29/2020</th>\n",
       "      <td>16.0</td>\n",
       "      <td>87.0</td>\n",
       "      <td>2.0</td>\n",
       "      <td>9.0</td>\n",
       "      <td>24.0</td>\n",
       "      <td>4.0</td>\n",
       "      <td>8.0</td>\n",
       "      <td>65.0</td>\n",
       "      <td>4.0</td>\n",
       "      <td>7.0</td>\n",
       "      <td>...</td>\n",
       "      <td>14.0</td>\n",
       "      <td>7.0</td>\n",
       "      <td>37.0</td>\n",
       "      <td>9.0</td>\n",
       "      <td>32.0</td>\n",
       "      <td>36.0</td>\n",
       "      <td>9.0</td>\n",
       "      <td>0.0</td>\n",
       "      <td>11.0</td>\n",
       "      <td>0.0</td>\n",
       "    </tr>\n",
       "    <tr>\n",
       "      <th>11/30/2020</th>\n",
       "      <td>29.0</td>\n",
       "      <td>70.0</td>\n",
       "      <td>3.0</td>\n",
       "      <td>8.0</td>\n",
       "      <td>51.0</td>\n",
       "      <td>2.0</td>\n",
       "      <td>5.0</td>\n",
       "      <td>64.0</td>\n",
       "      <td>7.0</td>\n",
       "      <td>5.0</td>\n",
       "      <td>...</td>\n",
       "      <td>16.0</td>\n",
       "      <td>1.0</td>\n",
       "      <td>67.0</td>\n",
       "      <td>-8.0</td>\n",
       "      <td>76.0</td>\n",
       "      <td>38.0</td>\n",
       "      <td>24.0</td>\n",
       "      <td>0.0</td>\n",
       "      <td>13.0</td>\n",
       "      <td>1.0</td>\n",
       "    </tr>\n",
       "  </tbody>\n",
       "</table>\n",
       "<p>314 rows × 3340 columns</p>\n",
       "</div>"
      ],
      "text/plain": [
       "            0      1     2     3     4     5     6      7     8     9     ...  \\\n",
       "1/22/2020    NaN    NaN   NaN   NaN   NaN   NaN   NaN    NaN   NaN   NaN  ...   \n",
       "1/23/2020    0.0    0.0   0.0   0.0   0.0   0.0   0.0    0.0   0.0   0.0  ...   \n",
       "1/24/2020    0.0    0.0   0.0   0.0   0.0   0.0   0.0    0.0   0.0   0.0  ...   \n",
       "1/25/2020    0.0    0.0   0.0   0.0   0.0   0.0   0.0    0.0   0.0   0.0  ...   \n",
       "1/26/2020    0.0    0.0   0.0   0.0   0.0   0.0   0.0    0.0   0.0   0.0  ...   \n",
       "...          ...    ...   ...   ...   ...   ...   ...    ...   ...   ...  ...   \n",
       "11/26/2020  18.0  103.0   0.0   8.0  24.0   3.0   9.0  103.0  27.0   2.0  ...   \n",
       "11/27/2020  12.0   27.0   1.0   3.0   9.0   0.0   0.0   25.0   1.0   5.0  ...   \n",
       "11/28/2020  19.0  130.0   2.0   6.0  34.0   2.0  12.0   61.0   3.0   7.0  ...   \n",
       "11/29/2020  16.0   87.0   2.0   9.0  24.0   4.0   8.0   65.0   4.0   7.0  ...   \n",
       "11/30/2020  29.0   70.0   3.0   8.0  51.0   2.0   5.0   64.0   7.0   5.0  ...   \n",
       "\n",
       "            3330  3331  3332  3333   3334  3335  3336  3337  3338  3339  \n",
       "1/22/2020    NaN   NaN   NaN   NaN    NaN   NaN   NaN   NaN   NaN   NaN  \n",
       "1/23/2020    0.0   0.0   0.0   0.0    0.0   0.0   0.0   0.0   0.0   0.0  \n",
       "1/24/2020    0.0   0.0   0.0   0.0    0.0   0.0   0.0   0.0   0.0   0.0  \n",
       "1/25/2020    0.0   0.0   0.0   0.0    0.0   0.0   0.0   0.0   0.0   0.0  \n",
       "1/26/2020    0.0   0.0   0.0   0.0    0.0   0.0   0.0   0.0   0.0   0.0  \n",
       "...          ...   ...   ...   ...    ...   ...   ...   ...   ...   ...  \n",
       "11/26/2020   0.0   0.0   0.0   0.0    0.0   0.0   0.0   0.0   0.0   0.0  \n",
       "11/27/2020  29.0  13.0  60.0  14.0  176.0  71.0  21.0   0.0  20.0  10.0  \n",
       "11/28/2020   5.0   3.0  15.0   3.0    6.0  23.0   0.0   0.0   2.0   0.0  \n",
       "11/29/2020  14.0   7.0  37.0   9.0   32.0  36.0   9.0   0.0  11.0   0.0  \n",
       "11/30/2020  16.0   1.0  67.0  -8.0   76.0  38.0  24.0   0.0  13.0   1.0  \n",
       "\n",
       "[314 rows x 3340 columns]"
      ]
     },
     "execution_count": 104,
     "metadata": {},
     "output_type": "execute_result"
    }
   ],
   "source": [
    "dft"
   ]
  },
  {
   "cell_type": "code",
   "execution_count": 19,
   "metadata": {},
   "outputs": [
    {
     "name": "stdout",
     "output_type": "stream",
     "text": [
      "torch.Size([1028720, 5])\n"
     ]
    }
   ],
   "source": [
    "print(x_train.shape)"
   ]
  },
  {
   "cell_type": "code",
   "execution_count": 20,
   "metadata": {},
   "outputs": [
    {
     "name": "stdout",
     "output_type": "stream",
     "text": [
      "(80, 3340)\n",
      "3340\n"
     ]
    }
   ],
   "source": [
    "x_test, y_test = get_data(df.iloc[:, mt.floor((df.shape[1])*0.8)+1:],l)"
   ]
  },
  {
   "cell_type": "code",
   "execution_count": 21,
   "metadata": {},
   "outputs": [
    {
     "name": "stdout",
     "output_type": "stream",
     "text": [
      "torch.Size([250500, 5])\n"
     ]
    }
   ],
   "source": [
    "print(x_test.shape)"
   ]
  },
  {
   "cell_type": "code",
   "execution_count": 22,
   "metadata": {},
   "outputs": [],
   "source": [
    "class AutoRegressive(nn.Module):\n",
    "    def __init__(self, p):\n",
    "        # Input the AR parameters\n",
    "        # Building only for linear data for now\n",
    "        super(AutoRegressive, self).__init__()\n",
    "        assert type(p) == int\n",
    "        assert p >= 0\n",
    "        \n",
    "        # Initialize Auto Regressive parameter\n",
    "        self.p = p\n",
    "        \n",
    "        # Linear auto-regressive parameters.\n",
    "#         self.param_list = nn.ModuleList([nn.Linear(1, 1, bias=False) for i in range(p-1)])\n",
    "        \n",
    "        self.linear = nn.Linear(self.p, 1, bias=True).double()\n",
    "         \n",
    "        # ETA e(t) for noise , which is last layer dependent\n",
    "#         self.param_list.append(nn.Linear(1, 1, bias=True))\n",
    "        \n",
    "        # One Learnable parameter for constant c\n",
    "#         self.c = nn.Parameter(torch.tensor(np.random.randn(), requires_grad=True))\n",
    "        \n",
    "    def forward(self, x):\n",
    "        # Input data example\n",
    "        # Verify shape of tensor to have length (1,p) or something.\n",
    "        assert x.shape[1] == self.p\n",
    "        \n",
    "#         y = self.linear(x)\n",
    "        \n",
    "#         for i in range(self.p):\n",
    "#             print(self.param_list[i].features)\n",
    "#             y += x[:, i] * self.param_list[i]\n",
    "        \n",
    "#         simple_sum = reduce(lambda x,y: x + y, [self.param_list[i](x[i]) for i in range(self.p)])\n",
    "        \n",
    "        return self.linear(x).flatten() #+ self.c"
   ]
  },
  {
   "cell_type": "code",
   "execution_count": 24,
   "metadata": {},
   "outputs": [],
   "source": [
    "net2 = AutoRegressive(l)"
   ]
  },
  {
   "cell_type": "code",
   "execution_count": 25,
   "metadata": {},
   "outputs": [],
   "source": [
    "optimizer = torch.optim.RMSprop(net2.parameters(), lr=0.001)\n",
    "criterion = torch.nn.MSELoss(reduction='mean')"
   ]
  },
  {
   "cell_type": "code",
   "execution_count": 27,
   "metadata": {},
   "outputs": [],
   "source": [
    "train_loader = DataLoader(\n",
    "    TensorDataset(x_train, y_train), batch_size=3000, shuffle=True\n",
    ")"
   ]
  },
  {
   "cell_type": "code",
   "execution_count": 30,
   "metadata": {},
   "outputs": [
    {
     "name": "stderr",
     "output_type": "stream",
     "text": [
      "100%|██████████| 343/343 [00:14<00:00, 22.93it/s]\n",
      "  0%|          | 1/343 [00:00<00:50,  6.74it/s]"
     ]
    },
    {
     "name": "stdout",
     "output_type": "stream",
     "text": [
      "0 tensor(0.6538, dtype=torch.float64, grad_fn=<DivBackward0>)\n"
     ]
    },
    {
     "name": "stderr",
     "output_type": "stream",
     "text": [
      "100%|██████████| 343/343 [00:16<00:00, 20.60it/s]\n",
      "  0%|          | 1/343 [00:00<00:58,  5.83it/s]"
     ]
    },
    {
     "name": "stdout",
     "output_type": "stream",
     "text": [
      "1 tensor(0.6482, dtype=torch.float64, grad_fn=<DivBackward0>)\n"
     ]
    },
    {
     "name": "stderr",
     "output_type": "stream",
     "text": [
      "100%|██████████| 343/343 [00:17<00:00, 19.61it/s]\n",
      "  0%|          | 1/343 [00:00<00:58,  5.81it/s]"
     ]
    },
    {
     "name": "stdout",
     "output_type": "stream",
     "text": [
      "2 tensor(0.6453, dtype=torch.float64, grad_fn=<DivBackward0>)\n"
     ]
    },
    {
     "name": "stderr",
     "output_type": "stream",
     "text": [
      "100%|██████████| 343/343 [00:17<00:00, 19.58it/s]\n",
      "  0%|          | 1/343 [00:00<01:01,  5.55it/s]"
     ]
    },
    {
     "name": "stdout",
     "output_type": "stream",
     "text": [
      "3 tensor(0.6447, dtype=torch.float64, grad_fn=<DivBackward0>)\n"
     ]
    },
    {
     "name": "stderr",
     "output_type": "stream",
     "text": [
      "100%|██████████| 343/343 [00:18<00:00, 18.91it/s]\n",
      "  0%|          | 0/343 [00:00<?, ?it/s]"
     ]
    },
    {
     "name": "stdout",
     "output_type": "stream",
     "text": [
      "4 tensor(0.6444, dtype=torch.float64, grad_fn=<DivBackward0>)\n"
     ]
    },
    {
     "name": "stderr",
     "output_type": "stream",
     "text": [
      "100%|██████████| 343/343 [00:18<00:00, 18.50it/s]\n",
      "  0%|          | 1/343 [00:00<01:02,  5.48it/s]"
     ]
    },
    {
     "name": "stdout",
     "output_type": "stream",
     "text": [
      "5 tensor(0.6443, dtype=torch.float64, grad_fn=<DivBackward0>)\n"
     ]
    },
    {
     "name": "stderr",
     "output_type": "stream",
     "text": [
      "100%|██████████| 343/343 [00:18<00:00, 18.12it/s]\n",
      "  0%|          | 0/343 [00:00<?, ?it/s]"
     ]
    },
    {
     "name": "stdout",
     "output_type": "stream",
     "text": [
      "6 tensor(0.6442, dtype=torch.float64, grad_fn=<DivBackward0>)\n"
     ]
    },
    {
     "name": "stderr",
     "output_type": "stream",
     "text": [
      "100%|██████████| 343/343 [00:18<00:00, 18.75it/s]\n",
      "  0%|          | 1/343 [00:00<00:55,  6.18it/s]"
     ]
    },
    {
     "name": "stdout",
     "output_type": "stream",
     "text": [
      "7 tensor(0.6440, dtype=torch.float64, grad_fn=<DivBackward0>)\n"
     ]
    },
    {
     "name": "stderr",
     "output_type": "stream",
     "text": [
      "100%|██████████| 343/343 [00:17<00:00, 19.11it/s]\n",
      "  0%|          | 1/343 [00:00<00:59,  5.79it/s]"
     ]
    },
    {
     "name": "stdout",
     "output_type": "stream",
     "text": [
      "8 tensor(0.6439, dtype=torch.float64, grad_fn=<DivBackward0>)\n"
     ]
    },
    {
     "name": "stderr",
     "output_type": "stream",
     "text": [
      "100%|██████████| 343/343 [00:17<00:00, 19.55it/s]"
     ]
    },
    {
     "name": "stdout",
     "output_type": "stream",
     "text": [
      "9 tensor(0.6442, dtype=torch.float64, grad_fn=<DivBackward0>)\n"
     ]
    },
    {
     "name": "stderr",
     "output_type": "stream",
     "text": [
      "\n"
     ]
    }
   ],
   "source": [
    "for e in range(10):\n",
    "    loss_total = 0\n",
    "    for xi, yi in tqdm(train_loader):\n",
    "        xi, yi = xi.to('cpu'), yi.to('cpu')\n",
    "        optimizer.zero_grad()\n",
    "        prediction = net2(xi)\n",
    "        loss = criterion(yi, prediction)\n",
    "        loss.backward(retain_graph=True)\n",
    "        optimizer.step()\n",
    "        loss_total += loss\n",
    "        \n",
    "    print(e, loss_total / len(y_train))"
   ]
  },
  {
   "cell_type": "code",
   "execution_count": 32,
   "metadata": {},
   "outputs": [],
   "source": [
    "test_loader = DataLoader(\n",
    "    TensorDataset(x_test, y_test), batch_size=3000, shuffle=True\n",
    ")"
   ]
  },
  {
   "cell_type": "code",
   "execution_count": 42,
   "metadata": {},
   "outputs": [
    {
     "name": "stderr",
     "output_type": "stream",
     "text": [
      "100%|██████████| 84/84 [00:03<00:00, 24.61it/s]\n",
      "  4%|▎         | 3/84 [00:00<00:03, 23.52it/s]"
     ]
    },
    {
     "name": "stdout",
     "output_type": "stream",
     "text": [
      "0 tensor(5.7088, dtype=torch.float64, grad_fn=<DivBackward0>)\n"
     ]
    },
    {
     "name": "stderr",
     "output_type": "stream",
     "text": [
      "100%|██████████| 84/84 [00:03<00:00, 24.17it/s]\n",
      "  4%|▎         | 3/84 [00:00<00:03, 23.69it/s]"
     ]
    },
    {
     "name": "stdout",
     "output_type": "stream",
     "text": [
      "1 tensor(5.7211, dtype=torch.float64, grad_fn=<DivBackward0>)\n"
     ]
    },
    {
     "name": "stderr",
     "output_type": "stream",
     "text": [
      "100%|██████████| 84/84 [00:03<00:00, 24.79it/s]\n",
      "  4%|▎         | 3/84 [00:00<00:04, 18.13it/s]"
     ]
    },
    {
     "name": "stdout",
     "output_type": "stream",
     "text": [
      "2 tensor(5.7022, dtype=torch.float64, grad_fn=<DivBackward0>)\n"
     ]
    },
    {
     "name": "stderr",
     "output_type": "stream",
     "text": [
      "100%|██████████| 84/84 [00:03<00:00, 23.89it/s]\n",
      "  4%|▎         | 3/84 [00:00<00:03, 21.83it/s]"
     ]
    },
    {
     "name": "stdout",
     "output_type": "stream",
     "text": [
      "3 tensor(5.7923, dtype=torch.float64, grad_fn=<DivBackward0>)\n"
     ]
    },
    {
     "name": "stderr",
     "output_type": "stream",
     "text": [
      "100%|██████████| 84/84 [00:03<00:00, 23.41it/s]\n",
      "  2%|▏         | 2/84 [00:00<00:04, 18.90it/s]"
     ]
    },
    {
     "name": "stdout",
     "output_type": "stream",
     "text": [
      "4 tensor(5.6831, dtype=torch.float64, grad_fn=<DivBackward0>)\n"
     ]
    },
    {
     "name": "stderr",
     "output_type": "stream",
     "text": [
      "100%|██████████| 84/84 [00:03<00:00, 22.98it/s]\n",
      "  2%|▏         | 2/84 [00:00<00:04, 18.26it/s]"
     ]
    },
    {
     "name": "stdout",
     "output_type": "stream",
     "text": [
      "5 tensor(5.6978, dtype=torch.float64, grad_fn=<DivBackward0>)\n"
     ]
    },
    {
     "name": "stderr",
     "output_type": "stream",
     "text": [
      "100%|██████████| 84/84 [00:03<00:00, 22.04it/s]\n",
      "  2%|▏         | 2/84 [00:00<00:04, 18.48it/s]"
     ]
    },
    {
     "name": "stdout",
     "output_type": "stream",
     "text": [
      "6 tensor(5.7093, dtype=torch.float64, grad_fn=<DivBackward0>)\n"
     ]
    },
    {
     "name": "stderr",
     "output_type": "stream",
     "text": [
      "100%|██████████| 84/84 [00:03<00:00, 22.81it/s]\n",
      "  2%|▏         | 2/84 [00:00<00:04, 19.19it/s]"
     ]
    },
    {
     "name": "stdout",
     "output_type": "stream",
     "text": [
      "7 tensor(5.7012, dtype=torch.float64, grad_fn=<DivBackward0>)\n"
     ]
    },
    {
     "name": "stderr",
     "output_type": "stream",
     "text": [
      "100%|██████████| 84/84 [00:03<00:00, 21.89it/s]\n",
      "  2%|▏         | 2/84 [00:00<00:06, 13.37it/s]"
     ]
    },
    {
     "name": "stdout",
     "output_type": "stream",
     "text": [
      "8 tensor(5.7092, dtype=torch.float64, grad_fn=<DivBackward0>)\n"
     ]
    },
    {
     "name": "stderr",
     "output_type": "stream",
     "text": [
      "100%|██████████| 84/84 [00:03<00:00, 21.36it/s]"
     ]
    },
    {
     "name": "stdout",
     "output_type": "stream",
     "text": [
      "9 tensor(5.6704, dtype=torch.float64, grad_fn=<DivBackward0>)\n"
     ]
    },
    {
     "name": "stderr",
     "output_type": "stream",
     "text": [
      "\n"
     ]
    }
   ],
   "source": [
    "for e in range(10):\n",
    "    loss_total = 0\n",
    "    for xi, yi in tqdm(test_loader):\n",
    "        xi, yi = xi.to('cpu'), yi.to('cpu')\n",
    "        optimizer.zero_grad()\n",
    "        prediction[yi] = net2(xi)\n",
    "        loss = criterion(yi, prediction)\n",
    "        loss.backward(retain_graph=True)\n",
    "        optimizer.step()\n",
    "        loss_total += loss\n",
    "        \n",
    "    print(e, loss_total / len(y_test))"
   ]
  },
  {
   "cell_type": "code",
   "execution_count": 57,
   "metadata": {},
   "outputs": [
    {
     "name": "stdout",
     "output_type": "stream",
     "text": [
      "1500\n"
     ]
    }
   ],
   "source": [
    "print(len(prediction))"
   ]
  },
  {
   "cell_type": "code",
   "execution_count": 58,
   "metadata": {},
   "outputs": [
    {
     "name": "stdout",
     "output_type": "stream",
     "text": [
      "tensor(21.7542, dtype=torch.float64, grad_fn=<SelectBackward>)\n"
     ]
    }
   ],
   "source": [
    "print(prediction[0])"
   ]
  },
  {
   "cell_type": "code",
   "execution_count": 109,
   "metadata": {},
   "outputs": [
    {
     "name": "stdout",
     "output_type": "stream",
     "text": [
      "<class 'numpy.ndarray'>\n",
      "71\n"
     ]
    }
   ],
   "source": [
    "c = 'San Diego'\n",
    "cases = df[df.Admin2 == c].values[0][11:]\n",
    "cases = np.array([0] + [cases[i]-cases[i-1] for i in range(1, len(cases))])\n",
    "#print(cases)\n",
    "casespred = df[df.Admin2 == c].values[0][mt.floor((df.shape[1])*0.8)+11:]\n",
    "casespred = np.array([0] + [casespred[i]-casespred[i-1] for i in range(1, len(casespred))])\n",
    "pred = np.zeros_like(casespred)\n",
    "print(type(casespred))\n",
    "print(len(casespred))\n",
    "for i in range(5,len(casespred)):\n",
    "    pred[i] = net2(torch.tensor(casespred[i-5:i]).view(1, 5).double())"
   ]
  },
  {
   "cell_type": "code",
   "execution_count": 73,
   "metadata": {},
   "outputs": [
    {
     "name": "stdout",
     "output_type": "stream",
     "text": [
      "396\n",
      "325\n"
     ]
    }
   ],
   "source": [
    "print(len(cases))\n",
    "print((len(cases)-len(casespred)))"
   ]
  },
  {
   "cell_type": "code",
   "execution_count": 101,
   "metadata": {},
   "outputs": [
    {
     "name": "stdout",
     "output_type": "stream",
     "text": [
      "0\n",
      "0\n",
      "0\n",
      "0\n",
      "0\n",
      "1728\n",
      "2184\n",
      "2427\n",
      "2486\n",
      "2799\n",
      "2841\n",
      "2846\n",
      "2647\n",
      "2571\n",
      "2489\n",
      "2384\n",
      "2542\n",
      "2389\n",
      "2439\n",
      "2292\n",
      "2392\n",
      "2623\n",
      "3135\n",
      "3369\n",
      "3458\n",
      "3199\n",
      "3041\n",
      "2910\n",
      "3172\n",
      "3274\n",
      "3554\n",
      "3351\n",
      "3279\n",
      "3044\n",
      "2904\n",
      "2781\n",
      "2774\n",
      "2501\n",
      "2374\n",
      "2317\n",
      "2177\n",
      "1843\n",
      "1966\n",
      "2037\n",
      "1962\n",
      "1903\n",
      "1891\n",
      "1633\n",
      "1370\n",
      "1375\n",
      "1499\n",
      "1487\n",
      "1442\n",
      "1304\n",
      "1172\n",
      "1068\n",
      "1109\n",
      "1164\n",
      "1212\n",
      "1193\n",
      "1013\n",
      "882\n",
      "844\n",
      "785\n",
      "792\n",
      "778\n",
      "757\n",
      "672\n",
      "630\n",
      "612\n",
      "652\n"
     ]
    }
   ],
   "source": [
    "j=0\n",
    "testpred = np.array([0] + [cases[i]-cases[i-1] for i in range(1, len(cases))])\n",
    "for i in range(len(cases)):\n",
    "    if i < (len(cases)-len(casespred)):\n",
    "        testpred[i] = 0\n",
    "    else:\n",
    "        testpred[i] = pred[j]\n",
    "        print(pred[j])\n",
    "        j = j+1\n",
    "        "
   ]
  },
  {
   "cell_type": "code",
   "execution_count": 99,
   "metadata": {},
   "outputs": [],
   "source": [
    "testpred= [np.nan if x == 0 else x for x in testpred]"
   ]
  },
  {
   "cell_type": "code",
   "execution_count": 100,
   "metadata": {},
   "outputs": [
    {
     "data": {
      "image/png": "[encoded data removed]",
      "text/plain": [
       "<Figure size 720x432 with 1 Axes>"
      ]
     },
     "metadata": {
      "needs_background": "light"
     },
     "output_type": "display_data"
    }
   ],
   "source": [
    "plt.figure(figsize=(10, 6))\n",
    "plt.plot(cases)\n",
    "plt.plot(testpred)\n",
    "plt.xlabel('Days Since Start of COVID-19 Pandemic')\n",
    "plt.ylabel('Number of Cases')\n",
    "plt.legend(['Actual', 'TestPred'])\n",
    "plt.title(f'Number of New COVID-19 Cases in {c} County')\n",
    "plt.savefig('San Diego Covid_prediction', bbox_inches='tight')"
   ]
  },
  {
   "cell_type": "code",
   "execution_count": null,
   "metadata": {},
   "outputs": [],
   "source": []
  },
  {
   "cell_type": "code",
   "execution_count": null,
   "metadata": {},
   "outputs": [],
   "source": []
  }
 ],
 "metadata": {
  "kernelspec": {
   "display_name": "Python 3",
   "language": "python",
   "name": "python3"
  },
  "language_info": {
   "codemirror_mode": {
    "name": "ipython",
    "version": 3
   },
   "file_extension": ".py",
   "mimetype": "text/x-python",
   "name": "python",
   "nbconvert_exporter": "python",
   "pygments_lexer": "ipython3",
   "version": "3.7.4"
  }
 },
 "nbformat": 4,
 "nbformat_minor": 4
}
