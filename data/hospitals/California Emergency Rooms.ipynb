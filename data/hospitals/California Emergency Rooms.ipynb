{
 "cells": [
  {
   "cell_type": "markdown",
   "metadata": {},
   "source": [
    "## List of California emergency rooms\n",
    "\n",
    "Link: https://data.chhs.ca.gov/dataset/licensed-healthcare-facility-listing\n",
    "\n",
    "(Download current list)"
   ]
  },
  {
   "cell_type": "code",
   "execution_count": 2,
   "metadata": {},
   "outputs": [
    {
     "name": "stdout",
     "output_type": "stream",
     "text": [
      "-rw-r--r--@ 1 daniel  staff  1730570 Jan 30 11:13 current-healthcare-facility-listing.csv\r\n"
     ]
    }
   ],
   "source": [
    "!ls -l current-healthcare-facility-listing.csv"
   ]
  },
  {
   "cell_type": "code",
   "execution_count": 3,
   "metadata": {},
   "outputs": [],
   "source": [
    "import pandas as pd"
   ]
  },
  {
   "cell_type": "code",
   "execution_count": 4,
   "metadata": {},
   "outputs": [
    {
     "data": {
      "text/html": [
       "<div>\n",
       "<style scoped>\n",
       "    .dataframe tbody tr th:only-of-type {\n",
       "        vertical-align: middle;\n",
       "    }\n",
       "\n",
       "    .dataframe tbody tr th {\n",
       "        vertical-align: top;\n",
       "    }\n",
       "\n",
       "    .dataframe thead th {\n",
       "        text-align: right;\n",
       "    }\n",
       "</style>\n",
       "<table border=\"1\" class=\"dataframe\">\n",
       "  <thead>\n",
       "    <tr style=\"text-align: right;\">\n",
       "      <th></th>\n",
       "      <th>OSHPD_ID</th>\n",
       "      <th>FACILITY_NAME</th>\n",
       "      <th>LICENSE_NUM</th>\n",
       "      <th>FACILITY_LEVEL_DESC</th>\n",
       "      <th>DBA_ADDRESS1</th>\n",
       "      <th>DBA_CITY</th>\n",
       "      <th>DBA_ZIP_CODE</th>\n",
       "      <th>COUNTY_CODE</th>\n",
       "      <th>COUNTY_NAME</th>\n",
       "      <th>ER_SERVICE_LEVEL_DESC</th>\n",
       "      <th>TOTAL_NUMBER_BEDS</th>\n",
       "      <th>FACILITY_STATUS_DESC</th>\n",
       "      <th>FACILITY_STATUS_DATE</th>\n",
       "      <th>LICENSE_TYPE_DESC</th>\n",
       "      <th>LICENSE_CATEGORY_DESC</th>\n",
       "      <th>LATITUDE</th>\n",
       "      <th>LONGITUDE</th>\n",
       "    </tr>\n",
       "  </thead>\n",
       "  <tbody>\n",
       "    <tr>\n",
       "      <th>8121</th>\n",
       "      <td>406564301</td>\n",
       "      <td>HOSPICE GROUP OF VENTURA COUNTY, INC.</td>\n",
       "      <td>550003961</td>\n",
       "      <td>Parent Facility</td>\n",
       "      <td>4225 Valley Fair St</td>\n",
       "      <td>Simi Valley</td>\n",
       "      <td>93063</td>\n",
       "      <td>56</td>\n",
       "      <td>Ventura</td>\n",
       "      <td>Not Applicable</td>\n",
       "      <td>NaN</td>\n",
       "      <td>Open</td>\n",
       "      <td>2017-09-12</td>\n",
       "      <td>Home Health Agency/Hospice</td>\n",
       "      <td>Hospice</td>\n",
       "      <td>34.272650</td>\n",
       "      <td>-118.712590</td>\n",
       "    </tr>\n",
       "    <tr>\n",
       "      <th>8122</th>\n",
       "      <td>406572249</td>\n",
       "      <td>WOODLAND HEALTHCARE HOME HEALTH</td>\n",
       "      <td>100000184</td>\n",
       "      <td>Parent Facility</td>\n",
       "      <td>1207 Fairchild CT</td>\n",
       "      <td>Woodland</td>\n",
       "      <td>95695</td>\n",
       "      <td>57</td>\n",
       "      <td>Yolo</td>\n",
       "      <td>Not Applicable</td>\n",
       "      <td>NaN</td>\n",
       "      <td>Open</td>\n",
       "      <td>2010-05-01</td>\n",
       "      <td>Home Health Agency/Hospice</td>\n",
       "      <td>Home Health Agency</td>\n",
       "      <td>38.666182</td>\n",
       "      <td>-121.792356</td>\n",
       "    </tr>\n",
       "    <tr>\n",
       "      <th>8123</th>\n",
       "      <td>406574018</td>\n",
       "      <td>YOLO HOSPICE</td>\n",
       "      <td>100000556</td>\n",
       "      <td>Parent Facility</td>\n",
       "      <td>1909 Galileo Ct</td>\n",
       "      <td>Davis</td>\n",
       "      <td>95618</td>\n",
       "      <td>57</td>\n",
       "      <td>Yolo</td>\n",
       "      <td>Not Applicable</td>\n",
       "      <td>NaN</td>\n",
       "      <td>Open</td>\n",
       "      <td>2005-07-03</td>\n",
       "      <td>Home Health Agency/Hospice</td>\n",
       "      <td>Hospice</td>\n",
       "      <td>38.542130</td>\n",
       "      <td>-121.728570</td>\n",
       "    </tr>\n",
       "    <tr>\n",
       "      <th>8124</th>\n",
       "      <td>406584013</td>\n",
       "      <td>FREEDOM HOME HEALTH AND HOSPICE CARE SERVICES,...</td>\n",
       "      <td>550002840</td>\n",
       "      <td>Parent Facility</td>\n",
       "      <td>519 D St</td>\n",
       "      <td>Marysville</td>\n",
       "      <td>95901</td>\n",
       "      <td>58</td>\n",
       "      <td>Yuba</td>\n",
       "      <td>Not Applicable</td>\n",
       "      <td>NaN</td>\n",
       "      <td>Open</td>\n",
       "      <td>2019-03-29</td>\n",
       "      <td>Home Health Agency/Hospice</td>\n",
       "      <td>Hospice</td>\n",
       "      <td>39.141090</td>\n",
       "      <td>-121.589040</td>\n",
       "    </tr>\n",
       "    <tr>\n",
       "      <th>8125</th>\n",
       "      <td>406584014</td>\n",
       "      <td>FREEDOM HOME HEALTH AND HOSPICE CARE SERVICES,...</td>\n",
       "      <td>550002841</td>\n",
       "      <td>Parent Facility</td>\n",
       "      <td>519 D St</td>\n",
       "      <td>Marysville</td>\n",
       "      <td>95901</td>\n",
       "      <td>58</td>\n",
       "      <td>Yuba</td>\n",
       "      <td>Not Applicable</td>\n",
       "      <td>NaN</td>\n",
       "      <td>Open</td>\n",
       "      <td>2019-03-04</td>\n",
       "      <td>Home Health Agency/Hospice</td>\n",
       "      <td>Home Health Agency</td>\n",
       "      <td>39.141090</td>\n",
       "      <td>-121.589040</td>\n",
       "    </tr>\n",
       "  </tbody>\n",
       "</table>\n",
       "</div>"
      ],
      "text/plain": [
       "       OSHPD_ID                                      FACILITY_NAME  \\\n",
       "8121  406564301              HOSPICE GROUP OF VENTURA COUNTY, INC.   \n",
       "8122  406572249                    WOODLAND HEALTHCARE HOME HEALTH   \n",
       "8123  406574018                                       YOLO HOSPICE   \n",
       "8124  406584013  FREEDOM HOME HEALTH AND HOSPICE CARE SERVICES,...   \n",
       "8125  406584014  FREEDOM HOME HEALTH AND HOSPICE CARE SERVICES,...   \n",
       "\n",
       "     LICENSE_NUM FACILITY_LEVEL_DESC         DBA_ADDRESS1     DBA_CITY  \\\n",
       "8121   550003961     Parent Facility  4225 Valley Fair St  Simi Valley   \n",
       "8122   100000184     Parent Facility    1207 Fairchild CT     Woodland   \n",
       "8123   100000556     Parent Facility      1909 Galileo Ct        Davis   \n",
       "8124   550002840     Parent Facility             519 D St   Marysville   \n",
       "8125   550002841     Parent Facility             519 D St   Marysville   \n",
       "\n",
       "      DBA_ZIP_CODE  COUNTY_CODE COUNTY_NAME ER_SERVICE_LEVEL_DESC  \\\n",
       "8121         93063           56     Ventura        Not Applicable   \n",
       "8122         95695           57        Yolo        Not Applicable   \n",
       "8123         95618           57        Yolo        Not Applicable   \n",
       "8124         95901           58        Yuba        Not Applicable   \n",
       "8125         95901           58        Yuba        Not Applicable   \n",
       "\n",
       "     TOTAL_NUMBER_BEDS FACILITY_STATUS_DESC FACILITY_STATUS_DATE  \\\n",
       "8121               NaN                 Open           2017-09-12   \n",
       "8122               NaN                 Open           2010-05-01   \n",
       "8123               NaN                 Open           2005-07-03   \n",
       "8124               NaN                 Open           2019-03-29   \n",
       "8125               NaN                 Open           2019-03-04   \n",
       "\n",
       "               LICENSE_TYPE_DESC LICENSE_CATEGORY_DESC   LATITUDE   LONGITUDE  \n",
       "8121  Home Health Agency/Hospice               Hospice  34.272650 -118.712590  \n",
       "8122  Home Health Agency/Hospice    Home Health Agency  38.666182 -121.792356  \n",
       "8123  Home Health Agency/Hospice               Hospice  38.542130 -121.728570  \n",
       "8124  Home Health Agency/Hospice               Hospice  39.141090 -121.589040  \n",
       "8125  Home Health Agency/Hospice    Home Health Agency  39.141090 -121.589040  "
      ]
     },
     "execution_count": 4,
     "metadata": {},
     "output_type": "execute_result"
    }
   ],
   "source": [
    "hf=pd.read_csv(\"current-healthcare-facility-listing.csv\")\n",
    "hf.tail()"
   ]
  },
  {
   "cell_type": "code",
   "execution_count": 6,
   "metadata": {},
   "outputs": [],
   "source": [
    "erlist=hf[hf[\"ER_SERVICE_LEVEL_DESC\"].str.lower().str.contains(\"emergency\")]"
   ]
  },
  {
   "cell_type": "code",
   "execution_count": 9,
   "metadata": {},
   "outputs": [
    {
     "data": {
      "text/html": [
       "<div>\n",
       "<style scoped>\n",
       "    .dataframe tbody tr th:only-of-type {\n",
       "        vertical-align: middle;\n",
       "    }\n",
       "\n",
       "    .dataframe tbody tr th {\n",
       "        vertical-align: top;\n",
       "    }\n",
       "\n",
       "    .dataframe thead th {\n",
       "        text-align: right;\n",
       "    }\n",
       "</style>\n",
       "<table border=\"1\" class=\"dataframe\">\n",
       "  <thead>\n",
       "    <tr style=\"text-align: right;\">\n",
       "      <th></th>\n",
       "      <th>OSHPD_ID</th>\n",
       "      <th>FACILITY_NAME</th>\n",
       "      <th>LICENSE_NUM</th>\n",
       "      <th>FACILITY_LEVEL_DESC</th>\n",
       "      <th>DBA_ADDRESS1</th>\n",
       "      <th>DBA_CITY</th>\n",
       "      <th>DBA_ZIP_CODE</th>\n",
       "      <th>COUNTY_CODE</th>\n",
       "      <th>COUNTY_NAME</th>\n",
       "      <th>ER_SERVICE_LEVEL_DESC</th>\n",
       "      <th>TOTAL_NUMBER_BEDS</th>\n",
       "      <th>FACILITY_STATUS_DESC</th>\n",
       "      <th>FACILITY_STATUS_DATE</th>\n",
       "      <th>LICENSE_TYPE_DESC</th>\n",
       "      <th>LICENSE_CATEGORY_DESC</th>\n",
       "      <th>LATITUDE</th>\n",
       "      <th>LONGITUDE</th>\n",
       "    </tr>\n",
       "  </thead>\n",
       "  <tbody>\n",
       "    <tr>\n",
       "      <th>0</th>\n",
       "      <td>106010735</td>\n",
       "      <td>ALAMEDA HOSPITAL</td>\n",
       "      <td>140000002</td>\n",
       "      <td>Parent Facility</td>\n",
       "      <td>2070 Clinton Ave</td>\n",
       "      <td>Alameda</td>\n",
       "      <td>94501</td>\n",
       "      <td>1</td>\n",
       "      <td>Alameda</td>\n",
       "      <td>Emergency - Basic</td>\n",
       "      <td>101</td>\n",
       "      <td>Open</td>\n",
       "      <td>1946-01-01</td>\n",
       "      <td>Hospital</td>\n",
       "      <td>General Acute Care Hospital</td>\n",
       "      <td>37.76266</td>\n",
       "      <td>-122.253991</td>\n",
       "    </tr>\n",
       "    <tr>\n",
       "      <th>1</th>\n",
       "      <td>106010739</td>\n",
       "      <td>ALTA BATES SUMMIT MEDICAL CENTER-ALTA BATES CA...</td>\n",
       "      <td>140000004</td>\n",
       "      <td>Parent Facility</td>\n",
       "      <td>2450 Ashby Ave</td>\n",
       "      <td>Berkeley</td>\n",
       "      <td>94705</td>\n",
       "      <td>1</td>\n",
       "      <td>Alameda</td>\n",
       "      <td>Emergency - Basic</td>\n",
       "      <td>339</td>\n",
       "      <td>Open</td>\n",
       "      <td>1946-01-02</td>\n",
       "      <td>Hospital</td>\n",
       "      <td>General Acute Care Hospital</td>\n",
       "      <td>37.85645</td>\n",
       "      <td>-122.257430</td>\n",
       "    </tr>\n",
       "    <tr>\n",
       "      <th>2</th>\n",
       "      <td>106010776</td>\n",
       "      <td>UCSF BENIOFF CHILDREN'S HOSPITAL OAKLAND</td>\n",
       "      <td>140000015</td>\n",
       "      <td>Parent Facility</td>\n",
       "      <td>747 52ND ST</td>\n",
       "      <td>OAKLAND</td>\n",
       "      <td>94609</td>\n",
       "      <td>1</td>\n",
       "      <td>Alameda</td>\n",
       "      <td>Emergency - Basic</td>\n",
       "      <td>215</td>\n",
       "      <td>Open</td>\n",
       "      <td>1946-01-01</td>\n",
       "      <td>Hospital</td>\n",
       "      <td>General Acute Care Hospital</td>\n",
       "      <td>37.83722</td>\n",
       "      <td>-122.267470</td>\n",
       "    </tr>\n",
       "    <tr>\n",
       "      <th>5</th>\n",
       "      <td>106010846</td>\n",
       "      <td>HIGHLAND HOSPITAL</td>\n",
       "      <td>140000046</td>\n",
       "      <td>Parent Facility</td>\n",
       "      <td>1411 E 31st St</td>\n",
       "      <td>Oakland</td>\n",
       "      <td>94602</td>\n",
       "      <td>1</td>\n",
       "      <td>Alameda</td>\n",
       "      <td>Emergency - Basic</td>\n",
       "      <td>249</td>\n",
       "      <td>Open</td>\n",
       "      <td>1953-07-01</td>\n",
       "      <td>Hospital</td>\n",
       "      <td>General Acute Care Hospital</td>\n",
       "      <td>37.79925</td>\n",
       "      <td>-122.231380</td>\n",
       "    </tr>\n",
       "    <tr>\n",
       "      <th>7</th>\n",
       "      <td>106010937</td>\n",
       "      <td>ALTA BATES SUMMIT MEDICAL CENTER</td>\n",
       "      <td>140000284</td>\n",
       "      <td>Parent Facility</td>\n",
       "      <td>350 HAWTHORNE AVE</td>\n",
       "      <td>OAKLAND</td>\n",
       "      <td>94609</td>\n",
       "      <td>1</td>\n",
       "      <td>Alameda</td>\n",
       "      <td>Emergency - Basic</td>\n",
       "      <td>403</td>\n",
       "      <td>Open</td>\n",
       "      <td>1946-01-01</td>\n",
       "      <td>Hospital</td>\n",
       "      <td>General Acute Care Hospital</td>\n",
       "      <td>37.82106</td>\n",
       "      <td>-122.262570</td>\n",
       "    </tr>\n",
       "  </tbody>\n",
       "</table>\n",
       "</div>"
      ],
      "text/plain": [
       "    OSHPD_ID                                      FACILITY_NAME LICENSE_NUM  \\\n",
       "0  106010735                                   ALAMEDA HOSPITAL   140000002   \n",
       "1  106010739  ALTA BATES SUMMIT MEDICAL CENTER-ALTA BATES CA...   140000004   \n",
       "2  106010776           UCSF BENIOFF CHILDREN'S HOSPITAL OAKLAND   140000015   \n",
       "5  106010846                                  HIGHLAND HOSPITAL   140000046   \n",
       "7  106010937                   ALTA BATES SUMMIT MEDICAL CENTER   140000284   \n",
       "\n",
       "  FACILITY_LEVEL_DESC       DBA_ADDRESS1  DBA_CITY  DBA_ZIP_CODE  COUNTY_CODE  \\\n",
       "0     Parent Facility   2070 Clinton Ave   Alameda         94501            1   \n",
       "1     Parent Facility     2450 Ashby Ave  Berkeley         94705            1   \n",
       "2     Parent Facility        747 52ND ST   OAKLAND         94609            1   \n",
       "5     Parent Facility     1411 E 31st St   Oakland         94602            1   \n",
       "7     Parent Facility  350 HAWTHORNE AVE   OAKLAND         94609            1   \n",
       "\n",
       "  COUNTY_NAME ER_SERVICE_LEVEL_DESC TOTAL_NUMBER_BEDS FACILITY_STATUS_DESC  \\\n",
       "0     Alameda     Emergency - Basic               101                 Open   \n",
       "1     Alameda     Emergency - Basic               339                 Open   \n",
       "2     Alameda     Emergency - Basic               215                 Open   \n",
       "5     Alameda     Emergency - Basic               249                 Open   \n",
       "7     Alameda     Emergency - Basic               403                 Open   \n",
       "\n",
       "  FACILITY_STATUS_DATE LICENSE_TYPE_DESC        LICENSE_CATEGORY_DESC  \\\n",
       "0           1946-01-01          Hospital  General Acute Care Hospital   \n",
       "1           1946-01-02          Hospital  General Acute Care Hospital   \n",
       "2           1946-01-01          Hospital  General Acute Care Hospital   \n",
       "5           1953-07-01          Hospital  General Acute Care Hospital   \n",
       "7           1946-01-01          Hospital  General Acute Care Hospital   \n",
       "\n",
       "   LATITUDE   LONGITUDE  \n",
       "0  37.76266 -122.253991  \n",
       "1  37.85645 -122.257430  \n",
       "2  37.83722 -122.267470  \n",
       "5  37.79925 -122.231380  \n",
       "7  37.82106 -122.262570  "
      ]
     },
     "execution_count": 9,
     "metadata": {},
     "output_type": "execute_result"
    }
   ],
   "source": [
    "erlist.head()"
   ]
  },
  {
   "cell_type": "code",
   "execution_count": 10,
   "metadata": {},
   "outputs": [
    {
     "name": "stdout",
     "output_type": "stream",
     "text": [
      "Number of emergency rooms found: 334\n"
     ]
    }
   ],
   "source": [
    "print(\"Number of emergency rooms found: %d\" % len(erlist))"
   ]
  },
  {
   "cell_type": "code",
   "execution_count": 12,
   "metadata": {},
   "outputs": [
    {
     "data": {
      "text/plain": [
       "['Emergency - Basic', 'Emergency - Standby', 'Emergency - Comprehensive']"
      ]
     },
     "execution_count": 12,
     "metadata": {},
     "output_type": "execute_result"
    }
   ],
   "source": [
    "erlist[\"ER_SERVICE_LEVEL_DESC\"].unique().tolist()"
   ]
  },
  {
   "cell_type": "code",
   "execution_count": 14,
   "metadata": {},
   "outputs": [
    {
     "data": {
      "text/plain": [
       "['Parent Facility', 'Consolidated Facility']"
      ]
     },
     "execution_count": 14,
     "metadata": {},
     "output_type": "execute_result"
    }
   ],
   "source": [
    "erlist[\"FACILITY_LEVEL_DESC\"].unique().tolist()"
   ]
  },
  {
   "cell_type": "code",
   "execution_count": 16,
   "metadata": {},
   "outputs": [
    {
     "data": {
      "text/plain": [
       "['General Acute Care Hospital']"
      ]
     },
     "execution_count": 16,
     "metadata": {},
     "output_type": "execute_result"
    }
   ],
   "source": [
    "erlist[\"LICENSE_CATEGORY_DESC\"].unique().tolist()"
   ]
  },
  {
   "cell_type": "code",
   "execution_count": 17,
   "metadata": {},
   "outputs": [
    {
     "data": {
      "text/plain": [
       "['Hospital']"
      ]
     },
     "execution_count": 17,
     "metadata": {},
     "output_type": "execute_result"
    }
   ],
   "source": [
    "erlist[\"LICENSE_TYPE_DESC\"].unique().tolist()"
   ]
  },
  {
   "cell_type": "code",
   "execution_count": 13,
   "metadata": {},
   "outputs": [
    {
     "data": {
      "application/vnd.jupyter.widget-view+json": {
       "model_id": "9aef0cf0bd8048bda1195bf575d6a989",
       "version_major": 2,
       "version_minor": 0
      },
      "text/plain": [
       "Map(center=[37, -120], controls=(ZoomControl(options=['position', 'zoom_in_text', 'zoom_in_title', 'zoom_out_t…"
      ]
     },
     "metadata": {},
     "output_type": "display_data"
    }
   ],
   "source": [
    "from ipyleaflet import Map, Marker, MarkerCluster\n",
    "\n",
    "m = Map(center=(37, -120), zoom=5)\n",
    "\n",
    "markers=[]\n",
    "\n",
    "for n in erlist.index:\n",
    "    lon=erlist.loc[n,\"LONGITUDE\"]\n",
    "    lat=erlist.loc[n,\"LATITUDE\"]\n",
    "    tstr=erlist.loc[n,\"FACILITY_NAME\"]\n",
    "    markers.append(Marker(location=(lat,lon), title=tstr))\n",
    "\n",
    "marker_cluster = MarkerCluster(markers=markers)\n",
    "\n",
    "m.add_layer(marker_cluster);\n",
    "\n",
    "display(m)"
   ]
  },
  {
   "cell_type": "raw",
   "metadata": {},
   "source": [
    "## "
   ]
  }
 ],
 "metadata": {
  "kernelspec": {
   "display_name": "Python 3",
   "language": "python",
   "name": "python3"
  },
  "language_info": {
   "codemirror_mode": {
    "name": "ipython",
    "version": 3
   },
   "file_extension": ".py",
   "mimetype": "text/x-python",
   "name": "python",
   "nbconvert_exporter": "python",
   "pygments_lexer": "ipython3",
   "version": "3.7.4"
  }
 },
 "nbformat": 4,
 "nbformat_minor": 2
}
