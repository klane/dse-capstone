{
 "cells": [
  {
   "cell_type": "markdown",
   "metadata": {},
   "source": [
    "## Database initialization\n",
    "\n",
    "Connect to Amazon RDS database and create tables"
   ]
  },
  {
   "cell_type": "code",
   "execution_count": null,
   "metadata": {},
   "outputs": [],
   "source": [
    "#!pip install pandas"
   ]
  },
  {
   "cell_type": "code",
   "execution_count": null,
   "metadata": {},
   "outputs": [],
   "source": [
    "#!pip install ipython-sql # SQL magic function"
   ]
  },
  {
   "cell_type": "code",
   "execution_count": null,
   "metadata": {},
   "outputs": [],
   "source": [
    "#!conda install psycopg2"
   ]
  },
  {
   "cell_type": "code",
   "execution_count": null,
   "metadata": {},
   "outputs": [],
   "source": [
    "#!pip install pgspecial"
   ]
  },
  {
   "cell_type": "code",
   "execution_count": null,
   "metadata": {},
   "outputs": [],
   "source": [
    "import pandas as pd\n",
    "import getpass"
   ]
  },
  {
   "cell_type": "code",
   "execution_count": null,
   "metadata": {},
   "outputs": [],
   "source": [
    "%load_ext sql"
   ]
  },
  {
   "cell_type": "code",
   "execution_count": null,
   "metadata": {},
   "outputs": [],
   "source": [
    "endpoint = \"capstone.clihskgj8i7s.us-west-2.rds.amazonaws.com\"\n",
    "user=\"group3\"\n",
    "db=\"db1\"\n",
    "pw=getpass.getpass(\"Enter database password\")"
   ]
  },
  {
   "cell_type": "code",
   "execution_count": null,
   "metadata": {},
   "outputs": [],
   "source": [
    "%sql postgres://$user:$pw@$endpoint/$db"
   ]
  },
  {
   "cell_type": "code",
   "execution_count": null,
   "metadata": {
    "scrolled": true
   },
   "outputs": [],
   "source": [
    "#%sql drop table CovidCases;\n",
    "#%sql drop table CovidLocs;"
   ]
  },
  {
   "cell_type": "code",
   "execution_count": null,
   "metadata": {},
   "outputs": [],
   "source": [
    "%%sql\n",
    "create table CovidLocs (\n",
    "\tuid integer primary key not null, \n",
    "    iso2 char(4) not null, \n",
    "    iso3 char(3) not null, \n",
    "    code3 char(4) not null,\n",
    "    FIPS float, \n",
    "    Admin2 Text, \n",
    "    Province_State TEXT not null, \n",
    "    Country_Region TEXT not null,\n",
    "    -- couldn't figure out how to use point datatype with pandas\n",
    "    -- latlon point not null,\n",
    "    latitude float,\n",
    "    longitude float,\n",
    "    combined_key varchar,\n",
    "    population float\n",
    ");"
   ]
  },
  {
   "cell_type": "code",
   "execution_count": null,
   "metadata": {},
   "outputs": [],
   "source": [
    "#%sql drop table covidcases;"
   ]
  },
  {
   "cell_type": "code",
   "execution_count": null,
   "metadata": {
    "scrolled": true
   },
   "outputs": [],
   "source": [
    "%%sql \n",
    "create table CovidCases(\n",
    "    cid serial primary key,\n",
    "    cloc integer references CovidLocs(uid),\n",
    "    rdate date not null, \n",
    "    ncas integer not null,\n",
    "        -- either confirmed case ('C') or death ('D')\n",
    "    ctype char(1) not null constraint allowed_ctypes check (ctype in ('C', 'D')),\n",
    "        -- only one entry per location and date\n",
    "    unique (cloc,rdate,ctype)\n",
    ");"
   ]
  },
  {
   "cell_type": "markdown",
   "metadata": {},
   "source": [
    "Create some indices on the two tables associated with covid locations."
   ]
  },
  {
   "cell_type": "code",
   "execution_count": null,
   "metadata": {},
   "outputs": [],
   "source": [
    "%sql create index cloc_index on CovidCases(cloc);"
   ]
  },
  {
   "cell_type": "code",
   "execution_count": null,
   "metadata": {},
   "outputs": [],
   "source": [
    "%sql create index fips_index on CovidLocs(fips);"
   ]
  },
  {
   "cell_type": "code",
   "execution_count": null,
   "metadata": {},
   "outputs": [],
   "source": [
    "%%sql \n",
    "create table hospitals (\n",
    "    oshpd_id integer primary key,\n",
    "    zipcode integer not null,\n",
    "    name varchar not null,\n",
    "    county_name varchar not null,\n",
    "    latitude float not null,\n",
    "    longitude float not null\n",
    ");"
   ]
  },
  {
   "cell_type": "code",
   "execution_count": null,
   "metadata": {},
   "outputs": [],
   "source": [
    "%sql drop table pemslocs;"
   ]
  },
  {
   "cell_type": "code",
   "execution_count": null,
   "metadata": {},
   "outputs": [],
   "source": [
    "%%sql \n",
    "create table pemslocs (\n",
    "    sid integer primary key,\n",
    "    fwy smallint not null,\n",
    "    direc char(1) constraint allowed_dirs check (direc in ('N', 'S', 'E', 'W')),\n",
    "    district smallint not null,\n",
    "    county smallint not null,\n",
    "    city integer,\n",
    "    state_pm varchar not null,\n",
    "    abs_pm float not null,\n",
    "    latitude float,\n",
    "    longitude float, \n",
    "    length float,\n",
    "    stype varchar(2) constraint allowed_types check (stype in ('ML', 'CH', 'OR', 'FR', 'HV', 'FF', 'CD')),\n",
    "    lanes smallint not null,\n",
    "    name varchar not null\n",
    "    -- also dropping USER_ID_[1-4] for now\n",
    ");"
   ]
  },
  {
   "cell_type": "code",
   "execution_count": null,
   "metadata": {},
   "outputs": [],
   "source": [
    "%%sql\n",
    "drop table if exists traffic;\n",
    "drop index if exists traffic_station_index;\n",
    "drop index if exists traffic_time_index;"
   ]
  },
  {
   "cell_type": "code",
   "execution_count": null,
   "metadata": {},
   "outputs": [],
   "source": [
    "%%sql\n",
    "create table traffic (\n",
    "    timestamp timestamp not null,\n",
    "    station integer references pemslocs(sid),\n",
    "    samples smallint not null,\n",
    "    pct_observed smallint not null,\n",
    "    total_flow integer,\n",
    "    avg_occupancy float,\n",
    "    avg_speed float,\n",
    "    primary key (timestamp, station)\n",
    ");"
   ]
  },
  {
   "cell_type": "code",
   "execution_count": null,
   "metadata": {},
   "outputs": [],
   "source": [
    "%sql create index traffic_station_index on traffic(station);"
   ]
  },
  {
   "cell_type": "code",
   "execution_count": null,
   "metadata": {},
   "outputs": [],
   "source": [
    "%sql create index traffic_time_index on traffic(timestamp);"
   ]
  },
  {
   "cell_type": "code",
   "execution_count": null,
   "metadata": {},
   "outputs": [],
   "source": [
    "import sqlalchemy as sal"
   ]
  },
  {
   "cell_type": "code",
   "execution_count": null,
   "metadata": {},
   "outputs": [],
   "source": [
    "engine = sal.create_engine('postgresql://%s:%s@%s/%s' % (user, pw, endpoint, db))"
   ]
  },
  {
   "cell_type": "code",
   "execution_count": null,
   "metadata": {},
   "outputs": [],
   "source": [
    "engine"
   ]
  },
  {
   "cell_type": "code",
   "execution_count": null,
   "metadata": {},
   "outputs": [],
   "source": [
    "pd.read_sql('select * from covidlocs', engine)"
   ]
  },
  {
   "cell_type": "code",
   "execution_count": null,
   "metadata": {},
   "outputs": [],
   "source": [
    "%sql \\dt"
   ]
  },
  {
   "cell_type": "code",
   "execution_count": null,
   "metadata": {},
   "outputs": [],
   "source": [
    "%sql drop table CovidLocs;"
   ]
  },
  {
   "cell_type": "code",
   "execution_count": null,
   "metadata": {},
   "outputs": [],
   "source": [
    "%sql DROP SCHEMA public CASCADE;"
   ]
  },
  {
   "cell_type": "code",
   "execution_count": null,
   "metadata": {},
   "outputs": [],
   "source": [
    "%sql create schema public;"
   ]
  },
  {
   "cell_type": "code",
   "execution_count": null,
   "metadata": {},
   "outputs": [],
   "source": [
    "%sql select * from covidlocs order by uid desc limit 5"
   ]
  }
 ],
 "metadata": {
  "kernelspec": {
   "display_name": "Python 3",
   "language": "python",
   "name": "python3"
  },
  "language_info": {
   "codemirror_mode": {
    "name": "ipython",
    "version": 3
   },
   "file_extension": ".py",
   "mimetype": "text/x-python",
   "name": "python",
   "nbconvert_exporter": "python",
   "pygments_lexer": "ipython3",
   "version": "3.8.6"
  }
 },
 "nbformat": 4,
 "nbformat_minor": 4
}
