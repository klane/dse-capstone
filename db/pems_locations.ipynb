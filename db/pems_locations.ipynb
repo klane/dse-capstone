{
 "cells": [
  {
   "cell_type": "markdown",
   "metadata": {},
   "source": [
    "### Populate PEMS metadata in SQL RDS database\n",
    "\n",
    "Daniel Roten <daroten@eng.ucsd.edu>"
   ]
  },
  {
   "cell_type": "code",
   "execution_count": 3,
   "metadata": {},
   "outputs": [
    {
     "name": "stdout",
     "output_type": "stream",
     "text": [
      "d10_text_meta_2020_12_02.txt\r\n"
     ]
    }
   ],
   "source": [
    "!ls ../data/traffic/meta/2021/d10"
   ]
  },
  {
   "cell_type": "code",
   "execution_count": 4,
   "metadata": {},
   "outputs": [],
   "source": [
    "import pandas as pd\n",
    "import numpy as np"
   ]
  },
  {
   "cell_type": "code",
   "execution_count": 5,
   "metadata": {},
   "outputs": [],
   "source": [
    "from glob import glob"
   ]
  },
  {
   "cell_type": "code",
   "execution_count": 6,
   "metadata": {},
   "outputs": [],
   "source": [
    "flist=glob(\"../data/traffic/meta/2021/*/*.txt\")"
   ]
  },
  {
   "cell_type": "code",
   "execution_count": 7,
   "metadata": {},
   "outputs": [
    {
     "data": {
      "text/plain": [
       "'../data/traffic/meta/2021/d10/d10_text_meta_2020_12_02.txt'"
      ]
     },
     "execution_count": 7,
     "metadata": {},
     "output_type": "execute_result"
    }
   ],
   "source": [
    "flist[0]"
   ]
  },
  {
   "cell_type": "markdown",
   "metadata": {},
   "source": [
    "Testing on one file.  Separator is tab.  Only the first 18 rows are useable."
   ]
  },
  {
   "cell_type": "code",
   "execution_count": 8,
   "metadata": {
    "scrolled": false
   },
   "outputs": [
    {
     "data": {
      "text/html": [
       "<div>\n",
       "<style scoped>\n",
       "    .dataframe tbody tr th:only-of-type {\n",
       "        vertical-align: middle;\n",
       "    }\n",
       "\n",
       "    .dataframe tbody tr th {\n",
       "        vertical-align: top;\n",
       "    }\n",
       "\n",
       "    .dataframe thead th {\n",
       "        text-align: right;\n",
       "    }\n",
       "</style>\n",
       "<table border=\"1\" class=\"dataframe\">\n",
       "  <thead>\n",
       "    <tr style=\"text-align: right;\">\n",
       "      <th></th>\n",
       "      <th>Fwy</th>\n",
       "      <th>Dir</th>\n",
       "      <th>District</th>\n",
       "      <th>County</th>\n",
       "      <th>City</th>\n",
       "      <th>State_PM</th>\n",
       "      <th>Abs_PM</th>\n",
       "      <th>Latitude</th>\n",
       "      <th>Longitude</th>\n",
       "      <th>Length</th>\n",
       "      <th>Type</th>\n",
       "      <th>Lanes</th>\n",
       "      <th>Name</th>\n",
       "      <th>User_ID_1</th>\n",
       "      <th>User_ID_2</th>\n",
       "      <th>User_ID_3</th>\n",
       "      <th>User_ID_4</th>\n",
       "    </tr>\n",
       "    <tr>\n",
       "      <th>ID</th>\n",
       "      <th></th>\n",
       "      <th></th>\n",
       "      <th></th>\n",
       "      <th></th>\n",
       "      <th></th>\n",
       "      <th></th>\n",
       "      <th></th>\n",
       "      <th></th>\n",
       "      <th></th>\n",
       "      <th></th>\n",
       "      <th></th>\n",
       "      <th></th>\n",
       "      <th></th>\n",
       "      <th></th>\n",
       "      <th></th>\n",
       "      <th></th>\n",
       "      <th></th>\n",
       "    </tr>\n",
       "  </thead>\n",
       "  <tbody>\n",
       "    <tr>\n",
       "      <th>1100313</th>\n",
       "      <td>5</td>\n",
       "      <td>N</td>\n",
       "      <td>11</td>\n",
       "      <td>73</td>\n",
       "      <td>66000.0</td>\n",
       "      <td>22.324</td>\n",
       "      <td>22.215</td>\n",
       "      <td>32.79154</td>\n",
       "      <td>-117.20716</td>\n",
       "      <td>NaN</td>\n",
       "      <td>FR</td>\n",
       "      <td>1</td>\n",
       "      <td>CLAIREMONT DR</td>\n",
       "      <td>1</td>\n",
       "      <td>NaN</td>\n",
       "      <td>NaN</td>\n",
       "      <td>NaN</td>\n",
       "    </tr>\n",
       "  </tbody>\n",
       "</table>\n",
       "</div>"
      ],
      "text/plain": [
       "         Fwy Dir  District  County     City  State_PM  Abs_PM  Latitude  \\\n",
       "ID                                                                        \n",
       "1100313    5   N        11      73  66000.0    22.324  22.215  32.79154   \n",
       "\n",
       "         Longitude  Length Type  Lanes           Name User_ID_1  User_ID_2  \\\n",
       "ID                                                                           \n",
       "1100313 -117.20716     NaN   FR      1  CLAIREMONT DR         1        NaN   \n",
       "\n",
       "         User_ID_3  User_ID_4  \n",
       "ID                             \n",
       "1100313        NaN        NaN  "
      ]
     },
     "execution_count": 8,
     "metadata": {},
     "output_type": "execute_result"
    }
   ],
   "source": [
    "afile=\"../data/traffic/meta/2021/d11/d11_text_meta_2020_10_02.txt\"\n",
    "#!head -945 $afile | tail -3\n",
    "\n",
    "df=pd.read_csv(afile, sep=\"\\t\", usecols=range(18), index_col=0)#, warn_bad_lines=True, error_bad_lines=False)\n",
    "df.head(n=1)"
   ]
  },
  {
   "cell_type": "code",
   "execution_count": 9,
   "metadata": {},
   "outputs": [],
   "source": [
    "dflist=[pd.read_csv(afile, sep=\"\\t\", usecols=range(18)) for afile in flist]"
   ]
  },
  {
   "cell_type": "code",
   "execution_count": 10,
   "metadata": {
    "scrolled": false
   },
   "outputs": [],
   "source": [
    "df=pd.concat(dflist, axis=0)"
   ]
  },
  {
   "cell_type": "code",
   "execution_count": 11,
   "metadata": {},
   "outputs": [
    {
     "name": "stdout",
     "output_type": "stream",
     "text": [
      "Total number of rows: 92414\n",
      "Number of unique sensor IDs: 18504\n",
      "Number of unique rows: 19034\n"
     ]
    }
   ],
   "source": [
    "print(\"Total number of rows:\", len(df))\n",
    "print(\"Number of unique sensor IDs:\", len(df.drop_duplicates(subset=\"ID\")))\n",
    "print(\"Number of unique rows:\", len(df.drop_duplicates()))"
   ]
  },
  {
   "cell_type": "markdown",
   "metadata": {},
   "source": [
    "There's a whole bunch of duplicate entries.  Not sure what they mean and which one to use if there are several."
   ]
  },
  {
   "cell_type": "code",
   "execution_count": 12,
   "metadata": {},
   "outputs": [
    {
     "data": {
      "text/html": [
       "<div>\n",
       "<style scoped>\n",
       "    .dataframe tbody tr th:only-of-type {\n",
       "        vertical-align: middle;\n",
       "    }\n",
       "\n",
       "    .dataframe tbody tr th {\n",
       "        vertical-align: top;\n",
       "    }\n",
       "\n",
       "    .dataframe thead th {\n",
       "        text-align: right;\n",
       "    }\n",
       "</style>\n",
       "<table border=\"1\" class=\"dataframe\">\n",
       "  <thead>\n",
       "    <tr style=\"text-align: right;\">\n",
       "      <th></th>\n",
       "      <th>Fwy</th>\n",
       "    </tr>\n",
       "    <tr>\n",
       "      <th>ID</th>\n",
       "      <th></th>\n",
       "    </tr>\n",
       "  </thead>\n",
       "  <tbody>\n",
       "    <tr>\n",
       "      <th>506800143</th>\n",
       "      <td>3</td>\n",
       "    </tr>\n",
       "    <tr>\n",
       "      <th>506800142</th>\n",
       "      <td>3</td>\n",
       "    </tr>\n",
       "    <tr>\n",
       "      <th>506800141</th>\n",
       "      <td>3</td>\n",
       "    </tr>\n",
       "    <tr>\n",
       "      <th>506800132</th>\n",
       "      <td>3</td>\n",
       "    </tr>\n",
       "    <tr>\n",
       "      <th>506800131</th>\n",
       "      <td>3</td>\n",
       "    </tr>\n",
       "  </tbody>\n",
       "</table>\n",
       "</div>"
      ],
      "text/plain": [
       "           Fwy\n",
       "ID            \n",
       "506800143    3\n",
       "506800142    3\n",
       "506800141    3\n",
       "506800132    3\n",
       "506800131    3"
      ]
     },
     "execution_count": 12,
     "metadata": {},
     "output_type": "execute_result"
    }
   ],
   "source": [
    "df.groupby(\"ID\").agg({\"Fwy\": \"count\"}).sort_values(\"ID\", ascending=False).head()"
   ]
  },
  {
   "cell_type": "code",
   "execution_count": 13,
   "metadata": {},
   "outputs": [
    {
     "data": {
      "text/html": [
       "<div>\n",
       "<style scoped>\n",
       "    .dataframe tbody tr th:only-of-type {\n",
       "        vertical-align: middle;\n",
       "    }\n",
       "\n",
       "    .dataframe tbody tr th {\n",
       "        vertical-align: top;\n",
       "    }\n",
       "\n",
       "    .dataframe thead th {\n",
       "        text-align: right;\n",
       "    }\n",
       "</style>\n",
       "<table border=\"1\" class=\"dataframe\">\n",
       "  <thead>\n",
       "    <tr style=\"text-align: right;\">\n",
       "      <th></th>\n",
       "      <th>ID</th>\n",
       "      <th>Fwy</th>\n",
       "      <th>Dir</th>\n",
       "      <th>District</th>\n",
       "      <th>County</th>\n",
       "      <th>City</th>\n",
       "      <th>State_PM</th>\n",
       "      <th>Abs_PM</th>\n",
       "      <th>Latitude</th>\n",
       "      <th>Longitude</th>\n",
       "      <th>Length</th>\n",
       "      <th>Type</th>\n",
       "      <th>Lanes</th>\n",
       "      <th>Name</th>\n",
       "      <th>User_ID_1</th>\n",
       "      <th>User_ID_2</th>\n",
       "      <th>User_ID_3</th>\n",
       "      <th>User_ID_4</th>\n",
       "    </tr>\n",
       "  </thead>\n",
       "  <tbody>\n",
       "    <tr>\n",
       "      <th>482</th>\n",
       "      <td>506800131</td>\n",
       "      <td>68</td>\n",
       "      <td>E</td>\n",
       "      <td>5</td>\n",
       "      <td>53</td>\n",
       "      <td>NaN</td>\n",
       "      <td>17.257</td>\n",
       "      <td>17.461</td>\n",
       "      <td>36.625285</td>\n",
       "      <td>-121.680718</td>\n",
       "      <td>0.814</td>\n",
       "      <td>ML</td>\n",
       "      <td>2</td>\n",
       "      <td>RESERVATION &amp; RIVER RD HWY 68 EB</td>\n",
       "      <td>1</td>\n",
       "      <td>NaN</td>\n",
       "      <td>NaN</td>\n",
       "      <td>NaN</td>\n",
       "    </tr>\n",
       "    <tr>\n",
       "      <th>481</th>\n",
       "      <td>506800131</td>\n",
       "      <td>68</td>\n",
       "      <td>E</td>\n",
       "      <td>5</td>\n",
       "      <td>53</td>\n",
       "      <td>NaN</td>\n",
       "      <td>17.257</td>\n",
       "      <td>17.461</td>\n",
       "      <td>36.625285</td>\n",
       "      <td>-121.680718</td>\n",
       "      <td>0.814</td>\n",
       "      <td>ML</td>\n",
       "      <td>2</td>\n",
       "      <td>RESERVATION &amp; RIVER RD HWY 68 EB</td>\n",
       "      <td>1</td>\n",
       "      <td>NaN</td>\n",
       "      <td>NaN</td>\n",
       "      <td>NaN</td>\n",
       "    </tr>\n",
       "    <tr>\n",
       "      <th>481</th>\n",
       "      <td>506800131</td>\n",
       "      <td>68</td>\n",
       "      <td>E</td>\n",
       "      <td>5</td>\n",
       "      <td>53</td>\n",
       "      <td>NaN</td>\n",
       "      <td>17.257</td>\n",
       "      <td>17.461</td>\n",
       "      <td>36.625285</td>\n",
       "      <td>-121.680718</td>\n",
       "      <td>0.814</td>\n",
       "      <td>ML</td>\n",
       "      <td>2</td>\n",
       "      <td>RESERVATION &amp; RIVER RD HWY 68 EB</td>\n",
       "      <td>1</td>\n",
       "      <td>NaN</td>\n",
       "      <td>NaN</td>\n",
       "      <td>NaN</td>\n",
       "    </tr>\n",
       "  </tbody>\n",
       "</table>\n",
       "</div>"
      ],
      "text/plain": [
       "            ID  Fwy Dir  District  County  City State_PM  Abs_PM   Latitude  \\\n",
       "482  506800131   68   E         5      53   NaN   17.257  17.461  36.625285   \n",
       "481  506800131   68   E         5      53   NaN   17.257  17.461  36.625285   \n",
       "481  506800131   68   E         5      53   NaN   17.257  17.461  36.625285   \n",
       "\n",
       "      Longitude  Length Type  Lanes                              Name  \\\n",
       "482 -121.680718   0.814   ML      2  RESERVATION & RIVER RD HWY 68 EB   \n",
       "481 -121.680718   0.814   ML      2  RESERVATION & RIVER RD HWY 68 EB   \n",
       "481 -121.680718   0.814   ML      2  RESERVATION & RIVER RD HWY 68 EB   \n",
       "\n",
       "    User_ID_1 User_ID_2  User_ID_3  User_ID_4  \n",
       "482         1       NaN        NaN        NaN  \n",
       "481         1       NaN        NaN        NaN  \n",
       "481         1       NaN        NaN        NaN  "
      ]
     },
     "execution_count": 13,
     "metadata": {},
     "output_type": "execute_result"
    }
   ],
   "source": [
    "mask=df[\"ID\"] == 506800131\n",
    "df[mask]"
   ]
  },
  {
   "cell_type": "code",
   "execution_count": 14,
   "metadata": {},
   "outputs": [],
   "source": [
    "adf=df.drop_duplicates(subset=\"ID\", keep=\"last\")\n",
    "adf.set_index(\"ID\", drop=True, inplace=True)"
   ]
  },
  {
   "cell_type": "code",
   "execution_count": 15,
   "metadata": {},
   "outputs": [
    {
     "data": {
      "text/html": [
       "<div>\n",
       "<style scoped>\n",
       "    .dataframe tbody tr th:only-of-type {\n",
       "        vertical-align: middle;\n",
       "    }\n",
       "\n",
       "    .dataframe tbody tr th {\n",
       "        vertical-align: top;\n",
       "    }\n",
       "\n",
       "    .dataframe thead th {\n",
       "        text-align: right;\n",
       "    }\n",
       "</style>\n",
       "<table border=\"1\" class=\"dataframe\">\n",
       "  <thead>\n",
       "    <tr style=\"text-align: right;\">\n",
       "      <th></th>\n",
       "      <th>Fwy</th>\n",
       "      <th>Dir</th>\n",
       "      <th>District</th>\n",
       "      <th>County</th>\n",
       "      <th>City</th>\n",
       "      <th>State_PM</th>\n",
       "      <th>Abs_PM</th>\n",
       "      <th>Latitude</th>\n",
       "      <th>Longitude</th>\n",
       "      <th>Length</th>\n",
       "      <th>Type</th>\n",
       "      <th>Lanes</th>\n",
       "      <th>Name</th>\n",
       "      <th>User_ID_1</th>\n",
       "      <th>User_ID_2</th>\n",
       "      <th>User_ID_3</th>\n",
       "      <th>User_ID_4</th>\n",
       "    </tr>\n",
       "    <tr>\n",
       "      <th>ID</th>\n",
       "      <th></th>\n",
       "      <th></th>\n",
       "      <th></th>\n",
       "      <th></th>\n",
       "      <th></th>\n",
       "      <th></th>\n",
       "      <th></th>\n",
       "      <th></th>\n",
       "      <th></th>\n",
       "      <th></th>\n",
       "      <th></th>\n",
       "      <th></th>\n",
       "      <th></th>\n",
       "      <th></th>\n",
       "      <th></th>\n",
       "      <th></th>\n",
       "      <th></th>\n",
       "    </tr>\n",
       "  </thead>\n",
       "  <tbody>\n",
       "    <tr>\n",
       "      <th>1000110</th>\n",
       "      <td>5</td>\n",
       "      <td>S</td>\n",
       "      <td>10</td>\n",
       "      <td>77</td>\n",
       "      <td>NaN</td>\n",
       "      <td>R21.407</td>\n",
       "      <td>466.899</td>\n",
       "      <td>37.881396</td>\n",
       "      <td>-121.278917</td>\n",
       "      <td>0.749</td>\n",
       "      <td>ML</td>\n",
       "      <td>3</td>\n",
       "      <td>N/O Mathews Rd</td>\n",
       "      <td>NaN</td>\n",
       "      <td>NaN</td>\n",
       "      <td>NaN</td>\n",
       "      <td>NaN</td>\n",
       "    </tr>\n",
       "    <tr>\n",
       "      <th>1000210</th>\n",
       "      <td>5</td>\n",
       "      <td>S</td>\n",
       "      <td>10</td>\n",
       "      <td>77</td>\n",
       "      <td>NaN</td>\n",
       "      <td>R20.8789</td>\n",
       "      <td>466.371</td>\n",
       "      <td>37.873818</td>\n",
       "      <td>-121.277900</td>\n",
       "      <td>0.478</td>\n",
       "      <td>ML</td>\n",
       "      <td>3</td>\n",
       "      <td>N/O Eldorado St</td>\n",
       "      <td>NaN</td>\n",
       "      <td>NaN</td>\n",
       "      <td>NaN</td>\n",
       "      <td>NaN</td>\n",
       "    </tr>\n",
       "    <tr>\n",
       "      <th>1000310</th>\n",
       "      <td>5</td>\n",
       "      <td>S</td>\n",
       "      <td>10</td>\n",
       "      <td>77</td>\n",
       "      <td>NaN</td>\n",
       "      <td>R20.45</td>\n",
       "      <td>465.942</td>\n",
       "      <td>37.867677</td>\n",
       "      <td>-121.278858</td>\n",
       "      <td>0.389</td>\n",
       "      <td>ML</td>\n",
       "      <td>3</td>\n",
       "      <td>N/O Eldorado St</td>\n",
       "      <td>NaN</td>\n",
       "      <td>NaN</td>\n",
       "      <td>NaN</td>\n",
       "      <td>NaN</td>\n",
       "    </tr>\n",
       "    <tr>\n",
       "      <th>1000410</th>\n",
       "      <td>5</td>\n",
       "      <td>S</td>\n",
       "      <td>10</td>\n",
       "      <td>77</td>\n",
       "      <td>NaN</td>\n",
       "      <td>R20.1</td>\n",
       "      <td>465.592</td>\n",
       "      <td>37.862729</td>\n",
       "      <td>-121.280287</td>\n",
       "      <td>0.397</td>\n",
       "      <td>ML</td>\n",
       "      <td>3</td>\n",
       "      <td>N/O Roth Rd</td>\n",
       "      <td>NaN</td>\n",
       "      <td>NaN</td>\n",
       "      <td>NaN</td>\n",
       "      <td>NaN</td>\n",
       "    </tr>\n",
       "    <tr>\n",
       "      <th>1000510</th>\n",
       "      <td>5</td>\n",
       "      <td>S</td>\n",
       "      <td>10</td>\n",
       "      <td>77</td>\n",
       "      <td>40704.0</td>\n",
       "      <td>R19.655</td>\n",
       "      <td>465.147</td>\n",
       "      <td>37.856421</td>\n",
       "      <td>-121.282010</td>\n",
       "      <td>0.474</td>\n",
       "      <td>ML</td>\n",
       "      <td>3</td>\n",
       "      <td>N/O Roth Rd</td>\n",
       "      <td>NaN</td>\n",
       "      <td>NaN</td>\n",
       "      <td>NaN</td>\n",
       "      <td>NaN</td>\n",
       "    </tr>\n",
       "  </tbody>\n",
       "</table>\n",
       "</div>"
      ],
      "text/plain": [
       "         Fwy Dir  District  County     City  State_PM   Abs_PM   Latitude  \\\n",
       "ID                                                                          \n",
       "1000110    5   S        10      77      NaN   R21.407  466.899  37.881396   \n",
       "1000210    5   S        10      77      NaN  R20.8789  466.371  37.873818   \n",
       "1000310    5   S        10      77      NaN    R20.45  465.942  37.867677   \n",
       "1000410    5   S        10      77      NaN     R20.1  465.592  37.862729   \n",
       "1000510    5   S        10      77  40704.0   R19.655  465.147  37.856421   \n",
       "\n",
       "          Longitude  Length Type  Lanes             Name User_ID_1 User_ID_2  \\\n",
       "ID                                                                             \n",
       "1000110 -121.278917   0.749   ML      3   N/O Mathews Rd       NaN       NaN   \n",
       "1000210 -121.277900   0.478   ML      3  N/O Eldorado St       NaN       NaN   \n",
       "1000310 -121.278858   0.389   ML      3  N/O Eldorado St       NaN       NaN   \n",
       "1000410 -121.280287   0.397   ML      3      N/O Roth Rd       NaN       NaN   \n",
       "1000510 -121.282010   0.474   ML      3      N/O Roth Rd       NaN       NaN   \n",
       "\n",
       "         User_ID_3  User_ID_4  \n",
       "ID                             \n",
       "1000110        NaN        NaN  \n",
       "1000210        NaN        NaN  \n",
       "1000310        NaN        NaN  \n",
       "1000410        NaN        NaN  \n",
       "1000510        NaN        NaN  "
      ]
     },
     "execution_count": 15,
     "metadata": {},
     "output_type": "execute_result"
    }
   ],
   "source": [
    "adf.head()"
   ]
  },
  {
   "cell_type": "markdown",
   "metadata": {},
   "source": [
    "### Note:\n",
    "\n",
    "I'm not sure if what these fields mean and if they are necessary:\n",
    "- State_PM\n",
    "- Abs_PM\n",
    "- USER_ID_1\n",
    "- USER_ID_2\n",
    "- USER_ID_3\n",
    "- USER_ID_4\n",
    "\n",
    "Leaving them out for now, but should be easy to add them if needed."
   ]
  },
  {
   "cell_type": "code",
   "execution_count": 16,
   "metadata": {},
   "outputs": [
    {
     "data": {
      "text/plain": [
       "5.0"
      ]
     },
     "execution_count": 16,
     "metadata": {},
     "output_type": "execute_result"
    }
   ],
   "source": [
    "adf[\"Length\"].max()"
   ]
  },
  {
   "cell_type": "code",
   "execution_count": 17,
   "metadata": {},
   "outputs": [
    {
     "name": "stdout",
     "output_type": "stream",
     "text": [
      "['S' 'W' 'E' 'N']\n",
      "['ML' 'CH' 'OR' 'FR' 'HV' 'FF' 'CD']\n"
     ]
    }
   ],
   "source": [
    "#Figuring out allowed values (constraints) for these fields:\n",
    "print(adf[\"Dir\"].unique())\n",
    "print(adf[\"Type\"].unique())"
   ]
  },
  {
   "cell_type": "code",
   "execution_count": 18,
   "metadata": {},
   "outputs": [
    {
     "data": {
      "text/plain": [
       "array([3, 5, 2, 4, 1, 6, 7, 8])"
      ]
     },
     "execution_count": 18,
     "metadata": {},
     "output_type": "execute_result"
    }
   ],
   "source": [
    "adf[\"Lanes\"].unique()"
   ]
  },
  {
   "cell_type": "code",
   "execution_count": 19,
   "metadata": {},
   "outputs": [
    {
     "data": {
      "text/plain": [
       "Index(['Fwy', 'Dir', 'District', 'County', 'City', 'State_PM', 'Abs_PM',\n",
       "       'Latitude', 'Longitude', 'Length', 'Type', 'Lanes', 'Name', 'User_ID_1',\n",
       "       'User_ID_2', 'User_ID_3', 'User_ID_4'],\n",
       "      dtype='object')"
      ]
     },
     "execution_count": 19,
     "metadata": {},
     "output_type": "execute_result"
    }
   ],
   "source": [
    "adf.columns"
   ]
  },
  {
   "cell_type": "code",
   "execution_count": 20,
   "metadata": {},
   "outputs": [],
   "source": [
    "#Creating limited dataframe with columns written to database\n",
    "#Making column and index labels consistent with DB table\n",
    "scols=[\"Fwy\",\"Dir\",\"District\",\"County\",\"City\",\"Latitude\",\"Longitude\",\"Length\",\"Type\",\"Lanes\",\"Name\"]\n",
    "ddf=adf[scols]\n",
    "\n",
    "columns=ddf.columns.str.lower().tolist()\n",
    "columns[1]=\"direc\"\n",
    "columns[8]=\"stype\"\n",
    "ddf.columns=columns\n",
    "ddf.index.rename(\"sid\", inplace=True)"
   ]
  },
  {
   "cell_type": "code",
   "execution_count": 21,
   "metadata": {},
   "outputs": [
    {
     "data": {
      "text/html": [
       "<div>\n",
       "<style scoped>\n",
       "    .dataframe tbody tr th:only-of-type {\n",
       "        vertical-align: middle;\n",
       "    }\n",
       "\n",
       "    .dataframe tbody tr th {\n",
       "        vertical-align: top;\n",
       "    }\n",
       "\n",
       "    .dataframe thead th {\n",
       "        text-align: right;\n",
       "    }\n",
       "</style>\n",
       "<table border=\"1\" class=\"dataframe\">\n",
       "  <thead>\n",
       "    <tr style=\"text-align: right;\">\n",
       "      <th></th>\n",
       "      <th>fwy</th>\n",
       "      <th>direc</th>\n",
       "      <th>district</th>\n",
       "      <th>county</th>\n",
       "      <th>city</th>\n",
       "      <th>latitude</th>\n",
       "      <th>longitude</th>\n",
       "      <th>length</th>\n",
       "      <th>stype</th>\n",
       "      <th>lanes</th>\n",
       "      <th>name</th>\n",
       "    </tr>\n",
       "    <tr>\n",
       "      <th>sid</th>\n",
       "      <th></th>\n",
       "      <th></th>\n",
       "      <th></th>\n",
       "      <th></th>\n",
       "      <th></th>\n",
       "      <th></th>\n",
       "      <th></th>\n",
       "      <th></th>\n",
       "      <th></th>\n",
       "      <th></th>\n",
       "      <th></th>\n",
       "    </tr>\n",
       "  </thead>\n",
       "  <tbody>\n",
       "    <tr>\n",
       "      <th>1000110</th>\n",
       "      <td>5</td>\n",
       "      <td>S</td>\n",
       "      <td>10</td>\n",
       "      <td>77</td>\n",
       "      <td>NaN</td>\n",
       "      <td>37.881396</td>\n",
       "      <td>-121.278917</td>\n",
       "      <td>0.749</td>\n",
       "      <td>ML</td>\n",
       "      <td>3</td>\n",
       "      <td>N/O Mathews Rd</td>\n",
       "    </tr>\n",
       "    <tr>\n",
       "      <th>1000210</th>\n",
       "      <td>5</td>\n",
       "      <td>S</td>\n",
       "      <td>10</td>\n",
       "      <td>77</td>\n",
       "      <td>NaN</td>\n",
       "      <td>37.873818</td>\n",
       "      <td>-121.277900</td>\n",
       "      <td>0.478</td>\n",
       "      <td>ML</td>\n",
       "      <td>3</td>\n",
       "      <td>N/O Eldorado St</td>\n",
       "    </tr>\n",
       "    <tr>\n",
       "      <th>1000310</th>\n",
       "      <td>5</td>\n",
       "      <td>S</td>\n",
       "      <td>10</td>\n",
       "      <td>77</td>\n",
       "      <td>NaN</td>\n",
       "      <td>37.867677</td>\n",
       "      <td>-121.278858</td>\n",
       "      <td>0.389</td>\n",
       "      <td>ML</td>\n",
       "      <td>3</td>\n",
       "      <td>N/O Eldorado St</td>\n",
       "    </tr>\n",
       "    <tr>\n",
       "      <th>1000410</th>\n",
       "      <td>5</td>\n",
       "      <td>S</td>\n",
       "      <td>10</td>\n",
       "      <td>77</td>\n",
       "      <td>NaN</td>\n",
       "      <td>37.862729</td>\n",
       "      <td>-121.280287</td>\n",
       "      <td>0.397</td>\n",
       "      <td>ML</td>\n",
       "      <td>3</td>\n",
       "      <td>N/O Roth Rd</td>\n",
       "    </tr>\n",
       "    <tr>\n",
       "      <th>1000510</th>\n",
       "      <td>5</td>\n",
       "      <td>S</td>\n",
       "      <td>10</td>\n",
       "      <td>77</td>\n",
       "      <td>40704.0</td>\n",
       "      <td>37.856421</td>\n",
       "      <td>-121.282010</td>\n",
       "      <td>0.474</td>\n",
       "      <td>ML</td>\n",
       "      <td>3</td>\n",
       "      <td>N/O Roth Rd</td>\n",
       "    </tr>\n",
       "  </tbody>\n",
       "</table>\n",
       "</div>"
      ],
      "text/plain": [
       "         fwy direc  district  county     city   latitude   longitude  length  \\\n",
       "sid                                                                            \n",
       "1000110    5     S        10      77      NaN  37.881396 -121.278917   0.749   \n",
       "1000210    5     S        10      77      NaN  37.873818 -121.277900   0.478   \n",
       "1000310    5     S        10      77      NaN  37.867677 -121.278858   0.389   \n",
       "1000410    5     S        10      77      NaN  37.862729 -121.280287   0.397   \n",
       "1000510    5     S        10      77  40704.0  37.856421 -121.282010   0.474   \n",
       "\n",
       "        stype  lanes             name  \n",
       "sid                                    \n",
       "1000110    ML      3   N/O Mathews Rd  \n",
       "1000210    ML      3  N/O Eldorado St  \n",
       "1000310    ML      3  N/O Eldorado St  \n",
       "1000410    ML      3      N/O Roth Rd  \n",
       "1000510    ML      3      N/O Roth Rd  "
      ]
     },
     "execution_count": 21,
     "metadata": {},
     "output_type": "execute_result"
    }
   ],
   "source": [
    "ddf.head()"
   ]
  },
  {
   "cell_type": "code",
   "execution_count": 23,
   "metadata": {},
   "outputs": [],
   "source": [
    "#ddf[\"city\"].fillna(value=NULL)"
   ]
  },
  {
   "cell_type": "code",
   "execution_count": 22,
   "metadata": {},
   "outputs": [],
   "source": [
    "import getpass\n",
    "import sqlalchemy as sal"
   ]
  },
  {
   "cell_type": "code",
   "execution_count": 23,
   "metadata": {},
   "outputs": [
    {
     "name": "stdout",
     "output_type": "stream",
     "text": [
      "Enter database password········\n"
     ]
    }
   ],
   "source": [
    "endpoint = \"capstone.clihskgj8i7s.us-west-2.rds.amazonaws.com\"\n",
    "user=\"group3\"\n",
    "db=\"db1\"\n",
    "pw=getpass.getpass(\"Enter database password\")"
   ]
  },
  {
   "cell_type": "code",
   "execution_count": 24,
   "metadata": {},
   "outputs": [],
   "source": [
    "engine = sal.create_engine('postgresql://%s:%s@%s/%s' % (user, pw, endpoint, db))"
   ]
  },
  {
   "cell_type": "code",
   "execution_count": 26,
   "metadata": {},
   "outputs": [
    {
     "data": {
      "text/plain": [
       "<sqlalchemy.engine.result.ResultProxy at 0x7fbb46fbc470>"
      ]
     },
     "execution_count": 26,
     "metadata": {},
     "output_type": "execute_result"
    }
   ],
   "source": [
    "#engine.execute(\"delete from pemslocs;\")"
   ]
  },
  {
   "cell_type": "code",
   "execution_count": 27,
   "metadata": {},
   "outputs": [
    {
     "data": {
      "text/html": [
       "<div>\n",
       "<style scoped>\n",
       "    .dataframe tbody tr th:only-of-type {\n",
       "        vertical-align: middle;\n",
       "    }\n",
       "\n",
       "    .dataframe tbody tr th {\n",
       "        vertical-align: top;\n",
       "    }\n",
       "\n",
       "    .dataframe thead th {\n",
       "        text-align: right;\n",
       "    }\n",
       "</style>\n",
       "<table border=\"1\" class=\"dataframe\">\n",
       "  <thead>\n",
       "    <tr style=\"text-align: right;\">\n",
       "      <th></th>\n",
       "      <th>sid</th>\n",
       "      <th>fwy</th>\n",
       "      <th>direc</th>\n",
       "      <th>district</th>\n",
       "      <th>county</th>\n",
       "      <th>city</th>\n",
       "      <th>latitude</th>\n",
       "      <th>longitude</th>\n",
       "      <th>length</th>\n",
       "      <th>stype</th>\n",
       "      <th>lanes</th>\n",
       "      <th>name</th>\n",
       "    </tr>\n",
       "  </thead>\n",
       "  <tbody>\n",
       "  </tbody>\n",
       "</table>\n",
       "</div>"
      ],
      "text/plain": [
       "Empty DataFrame\n",
       "Columns: [sid, fwy, direc, district, county, city, latitude, longitude, length, stype, lanes, name]\n",
       "Index: []"
      ]
     },
     "execution_count": 27,
     "metadata": {},
     "output_type": "execute_result"
    }
   ],
   "source": [
    "pd.read_sql(\"select * from pemslocs\", engine)"
   ]
  },
  {
   "cell_type": "code",
   "execution_count": 34,
   "metadata": {
    "scrolled": false
   },
   "outputs": [],
   "source": [
    "ddf.to_sql(\"pemslocs\", engine, if_exists=\"append\")"
   ]
  },
  {
   "cell_type": "code",
   "execution_count": 35,
   "metadata": {},
   "outputs": [
    {
     "data": {
      "text/html": [
       "<div>\n",
       "<style scoped>\n",
       "    .dataframe tbody tr th:only-of-type {\n",
       "        vertical-align: middle;\n",
       "    }\n",
       "\n",
       "    .dataframe tbody tr th {\n",
       "        vertical-align: top;\n",
       "    }\n",
       "\n",
       "    .dataframe thead th {\n",
       "        text-align: right;\n",
       "    }\n",
       "</style>\n",
       "<table border=\"1\" class=\"dataframe\">\n",
       "  <thead>\n",
       "    <tr style=\"text-align: right;\">\n",
       "      <th></th>\n",
       "      <th>fwy</th>\n",
       "      <th>direc</th>\n",
       "      <th>district</th>\n",
       "      <th>county</th>\n",
       "      <th>city</th>\n",
       "      <th>latitude</th>\n",
       "      <th>longitude</th>\n",
       "      <th>length</th>\n",
       "      <th>stype</th>\n",
       "      <th>lanes</th>\n",
       "      <th>name</th>\n",
       "    </tr>\n",
       "    <tr>\n",
       "      <th>sid</th>\n",
       "      <th></th>\n",
       "      <th></th>\n",
       "      <th></th>\n",
       "      <th></th>\n",
       "      <th></th>\n",
       "      <th></th>\n",
       "      <th></th>\n",
       "      <th></th>\n",
       "      <th></th>\n",
       "      <th></th>\n",
       "      <th></th>\n",
       "    </tr>\n",
       "  </thead>\n",
       "  <tbody>\n",
       "    <tr>\n",
       "      <th>1000110</th>\n",
       "      <td>5</td>\n",
       "      <td>S</td>\n",
       "      <td>10</td>\n",
       "      <td>77</td>\n",
       "      <td>NaN</td>\n",
       "      <td>37.881396</td>\n",
       "      <td>-121.278917</td>\n",
       "      <td>0.749</td>\n",
       "      <td>ML</td>\n",
       "      <td>3</td>\n",
       "      <td>N/O Mathews Rd</td>\n",
       "    </tr>\n",
       "    <tr>\n",
       "      <th>1000210</th>\n",
       "      <td>5</td>\n",
       "      <td>S</td>\n",
       "      <td>10</td>\n",
       "      <td>77</td>\n",
       "      <td>NaN</td>\n",
       "      <td>37.873818</td>\n",
       "      <td>-121.277900</td>\n",
       "      <td>0.478</td>\n",
       "      <td>ML</td>\n",
       "      <td>3</td>\n",
       "      <td>N/O Eldorado St</td>\n",
       "    </tr>\n",
       "    <tr>\n",
       "      <th>1000310</th>\n",
       "      <td>5</td>\n",
       "      <td>S</td>\n",
       "      <td>10</td>\n",
       "      <td>77</td>\n",
       "      <td>NaN</td>\n",
       "      <td>37.867677</td>\n",
       "      <td>-121.278858</td>\n",
       "      <td>0.389</td>\n",
       "      <td>ML</td>\n",
       "      <td>3</td>\n",
       "      <td>N/O Eldorado St</td>\n",
       "    </tr>\n",
       "    <tr>\n",
       "      <th>1000410</th>\n",
       "      <td>5</td>\n",
       "      <td>S</td>\n",
       "      <td>10</td>\n",
       "      <td>77</td>\n",
       "      <td>NaN</td>\n",
       "      <td>37.862729</td>\n",
       "      <td>-121.280287</td>\n",
       "      <td>0.397</td>\n",
       "      <td>ML</td>\n",
       "      <td>3</td>\n",
       "      <td>N/O Roth Rd</td>\n",
       "    </tr>\n",
       "    <tr>\n",
       "      <th>1000510</th>\n",
       "      <td>5</td>\n",
       "      <td>S</td>\n",
       "      <td>10</td>\n",
       "      <td>77</td>\n",
       "      <td>40704.0</td>\n",
       "      <td>37.856421</td>\n",
       "      <td>-121.282010</td>\n",
       "      <td>0.474</td>\n",
       "      <td>ML</td>\n",
       "      <td>3</td>\n",
       "      <td>N/O Roth Rd</td>\n",
       "    </tr>\n",
       "    <tr>\n",
       "      <th>1000610</th>\n",
       "      <td>5</td>\n",
       "      <td>S</td>\n",
       "      <td>10</td>\n",
       "      <td>77</td>\n",
       "      <td>40704.0</td>\n",
       "      <td>37.849282</td>\n",
       "      <td>-121.283757</td>\n",
       "      <td>0.273</td>\n",
       "      <td>ML</td>\n",
       "      <td>3</td>\n",
       "      <td>S/O Roth Rd</td>\n",
       "    </tr>\n",
       "    <tr>\n",
       "      <th>1000710</th>\n",
       "      <td>5</td>\n",
       "      <td>S</td>\n",
       "      <td>10</td>\n",
       "      <td>77</td>\n",
       "      <td>40704.0</td>\n",
       "      <td>37.848654</td>\n",
       "      <td>-121.283900</td>\n",
       "      <td>0.249</td>\n",
       "      <td>ML</td>\n",
       "      <td>3</td>\n",
       "      <td>N/O Lathrop Rd</td>\n",
       "    </tr>\n",
       "    <tr>\n",
       "      <th>1000810</th>\n",
       "      <td>5</td>\n",
       "      <td>S</td>\n",
       "      <td>10</td>\n",
       "      <td>77</td>\n",
       "      <td>40704.0</td>\n",
       "      <td>37.842193</td>\n",
       "      <td>-121.285444</td>\n",
       "      <td>0.470</td>\n",
       "      <td>ML</td>\n",
       "      <td>3</td>\n",
       "      <td>N/O Lathrop Rd</td>\n",
       "    </tr>\n",
       "    <tr>\n",
       "      <th>1000910</th>\n",
       "      <td>5</td>\n",
       "      <td>S</td>\n",
       "      <td>10</td>\n",
       "      <td>77</td>\n",
       "      <td>40704.0</td>\n",
       "      <td>37.835254</td>\n",
       "      <td>-121.287050</td>\n",
       "      <td>0.686</td>\n",
       "      <td>ML</td>\n",
       "      <td>3</td>\n",
       "      <td>N/O Lathrop Rd</td>\n",
       "    </tr>\n",
       "    <tr>\n",
       "      <th>1001010</th>\n",
       "      <td>5</td>\n",
       "      <td>S</td>\n",
       "      <td>10</td>\n",
       "      <td>77</td>\n",
       "      <td>40704.0</td>\n",
       "      <td>37.822958</td>\n",
       "      <td>-121.291558</td>\n",
       "      <td>0.579</td>\n",
       "      <td>ML</td>\n",
       "      <td>3</td>\n",
       "      <td>S/O Lathrop Rd</td>\n",
       "    </tr>\n",
       "  </tbody>\n",
       "</table>\n",
       "</div>"
      ],
      "text/plain": [
       "         fwy direc  district  county     city   latitude   longitude  length  \\\n",
       "sid                                                                            \n",
       "1000110    5     S        10      77      NaN  37.881396 -121.278917   0.749   \n",
       "1000210    5     S        10      77      NaN  37.873818 -121.277900   0.478   \n",
       "1000310    5     S        10      77      NaN  37.867677 -121.278858   0.389   \n",
       "1000410    5     S        10      77      NaN  37.862729 -121.280287   0.397   \n",
       "1000510    5     S        10      77  40704.0  37.856421 -121.282010   0.474   \n",
       "1000610    5     S        10      77  40704.0  37.849282 -121.283757   0.273   \n",
       "1000710    5     S        10      77  40704.0  37.848654 -121.283900   0.249   \n",
       "1000810    5     S        10      77  40704.0  37.842193 -121.285444   0.470   \n",
       "1000910    5     S        10      77  40704.0  37.835254 -121.287050   0.686   \n",
       "1001010    5     S        10      77  40704.0  37.822958 -121.291558   0.579   \n",
       "\n",
       "        stype  lanes             name  \n",
       "sid                                    \n",
       "1000110    ML      3   N/O Mathews Rd  \n",
       "1000210    ML      3  N/O Eldorado St  \n",
       "1000310    ML      3  N/O Eldorado St  \n",
       "1000410    ML      3      N/O Roth Rd  \n",
       "1000510    ML      3      N/O Roth Rd  \n",
       "1000610    ML      3      S/O Roth Rd  \n",
       "1000710    ML      3   N/O Lathrop Rd  \n",
       "1000810    ML      3   N/O Lathrop Rd  \n",
       "1000910    ML      3   N/O Lathrop Rd  \n",
       "1001010    ML      3   S/O Lathrop Rd  "
      ]
     },
     "execution_count": 35,
     "metadata": {},
     "output_type": "execute_result"
    }
   ],
   "source": [
    "pd.read_sql(\"select * from pemslocs limit 10\", engine, index_col=\"sid\")"
   ]
  },
  {
   "cell_type": "code",
   "execution_count": null,
   "metadata": {},
   "outputs": [],
   "source": []
  }
 ],
 "metadata": {
  "kernelspec": {
   "display_name": "Python 3",
   "language": "python",
   "name": "python3"
  },
  "language_info": {
   "codemirror_mode": {
    "name": "ipython",
    "version": 3
   },
   "file_extension": ".py",
   "mimetype": "text/x-python",
   "name": "python",
   "nbconvert_exporter": "python",
   "pygments_lexer": "ipython3",
   "version": "3.7.3"
  }
 },
 "nbformat": 4,
 "nbformat_minor": 2
}
