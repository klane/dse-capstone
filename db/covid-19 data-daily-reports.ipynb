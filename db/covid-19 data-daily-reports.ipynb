{
 "cells": [
  {
   "cell_type": "markdown",
   "metadata": {},
   "source": [
    "# Covid-19 Daily Reports\n",
    "\n",
    "- This notebook downloads the data for the daily Covid-19 reports by state.\n",
    "- These daily reports contain number of currently active, and in some cases, number of recovered cases, which are not available in the county-level data\n",
    "- Active and recovered counts are needed for SIR models."
   ]
  },
  {
   "cell_type": "code",
   "execution_count": 1,
   "metadata": {},
   "outputs": [],
   "source": [
    "baseurl=\"https://raw.githubusercontent.com/CSSEGISandData/COVID-19/master/csse_covid_19_data/csse_covid_19_daily_reports_us/\""
   ]
  },
  {
   "cell_type": "code",
   "execution_count": 341,
   "metadata": {},
   "outputs": [],
   "source": [
    "import requests\n",
    "from os.path import basename, isdir, isfile\n",
    "from posix import mkdir\n",
    "import sqlalchemy as sal\n",
    "import pandas as pd\n",
    "import datetime\n",
    "import numpy as np"
   ]
  },
  {
   "cell_type": "code",
   "execution_count": 7,
   "metadata": {},
   "outputs": [],
   "source": [
    "if not isdir(\"daily\"):\n",
    "    mkdir(\"daily\")"
   ]
  },
  {
   "cell_type": "code",
   "execution_count": 349,
   "metadata": {},
   "outputs": [],
   "source": [
    "#pandas daterange with index time span from first covid19 daily report\n",
    "today=datetime.date.today()\n",
    "yesterday=today - datetime.timedelta(days=1)\n",
    "end_date=yesterday.strftime('%Y-%m-%d')\n",
    "start_date='2020-04-22'\n",
    "timespan=pd.date_range(start_date, end_date, freq=\"1D\")\n",
    "#(start_date, end_date, freq=)"
   ]
  },
  {
   "cell_type": "code",
   "execution_count": 345,
   "metadata": {},
   "outputs": [
    {
     "data": {
      "text/plain": [
       "datetime.timedelta(days=1)"
      ]
     },
     "execution_count": 345,
     "metadata": {},
     "output_type": "execute_result"
    }
   ],
   "source": [
    "datetime.timedelta(days=1)"
   ]
  },
  {
   "cell_type": "code",
   "execution_count": 350,
   "metadata": {},
   "outputs": [],
   "source": [
    "filename=timespan[0].strftime('%Y-%m-%d.csv')"
   ]
  },
  {
   "cell_type": "code",
   "execution_count": 47,
   "metadata": {},
   "outputs": [
    {
     "name": "stdout",
     "output_type": "stream",
     "text": [
      "Downloading 02-23-2021.csv done.\n"
     ]
    }
   ],
   "source": [
    "for day in timespan:\n",
    "    filename=day.strftime('%m-%d-%Y.csv')\n",
    "    url=baseurl + filename\n",
    "    outfile=\"daily/\" + filename\n",
    "    #print(url, outfile)\n",
    "    \n",
    "    r=requests.get(url)\n",
    "\n",
    "    print(\"\\rDownloading %s\" % filename, end=\"\")\n",
    "    with open (outfile, \"wb\") as fid:\n",
    "        fid.write(r.content)\n",
    "\n",
    "print(\" done.\")"
   ]
  },
  {
   "cell_type": "code",
   "execution_count": 88,
   "metadata": {
    "scrolled": false
   },
   "outputs": [
    {
     "data": {
      "text/plain": [
       "59"
      ]
     },
     "execution_count": 88,
     "metadata": {},
     "output_type": "execute_result"
    }
   ],
   "source": [
    "#for day in timespan:\n",
    "#    filename=day.strftime('daily/%m-%d-%Y.csv')\n",
    "filename=timespan[0].strftime('daily/%m-%d-%Y.csv')\n",
    "\n",
    "df=pd.read_csv(filename)\n",
    "len(df)"
   ]
  },
  {
   "cell_type": "code",
   "execution_count": 387,
   "metadata": {},
   "outputs": [],
   "source": [
    "endpoint = \"capstone.clihskgj8i7s.us-west-2.rds.amazonaws.com\"\n",
    "user=\"group3\"\n",
    "db=\"db1\"\n",
    "#pw=getpass.getpass(\"Enter database password\")\n",
    "pw=open(\"/Users/daniel/Desktop/.awsdb\",\"r\").read().rstrip()"
   ]
  },
  {
   "cell_type": "code",
   "execution_count": 388,
   "metadata": {},
   "outputs": [],
   "source": [
    "engine = sal.create_engine('postgresql://%s:%s@%s/%s' % (user, pw, endpoint, db))"
   ]
  },
  {
   "cell_type": "code",
   "execution_count": 405,
   "metadata": {},
   "outputs": [],
   "source": [
    "popul_query=\"\"\"\n",
    "select province_state as state, cast(sum(population) as int) as population\n",
    "from covidlocs\n",
    "group by province_state\n",
    "\"\"\"\n",
    "population=pd.read_sql(popul_query, engine, index_col=\"state\", )\n",
    "population.loc[\"California\",:]"
   ]
  },
  {
   "cell_type": "code",
   "execution_count": 151,
   "metadata": {
    "scrolled": true
   },
   "outputs": [
    {
     "name": "stdout",
     "output_type": "stream",
     "text": [
      "  % Total    % Received % Xferd  Average Speed   Time    Time     Time  Current\n",
      "                                 Dload  Upload   Total   Spent    Left  Speed\n",
      "100  1388  100  1388    0     0  12504      0 --:--:-- --:--:-- --:--:-- 12504\n"
     ]
    }
   ],
   "source": [
    "#us states in json format\n",
    "!curl -O https://gist.githubusercontent.com/mshafrir/2646763/raw/8b0dbb93521f5d6889502305335104218454c2bf/states_hash.json"
   ]
  },
  {
   "cell_type": "code",
   "execution_count": 231,
   "metadata": {},
   "outputs": [],
   "source": [
    "import json\n",
    "statenames=json.load(open(\"states_hash.json\",\"r\"))\n",
    "\n",
    "statecodes={}\n",
    "for name,code in zip(stateabbr.values(), stateabbr.keys()):\n",
    "    statecodes[name.lower()] = code\n",
    "    \n",
    "#making up 'state codes' for these entries\n",
    "statecodes[\"recovered\"] = \"REC\"\n",
    "statecodes[\"diamond princess\"] = \"DP\"\n",
    "statecodes[\"grand princess\"] = \"GP\"\n",
    "\n",
    "def lookup_statecode(name):\n",
    "    if name.lower() in statecodes.keys():\n",
    "        code=statecodes[name.lower()]\n",
    "    else:\n",
    "        print(name)\n",
    "        code=\"N/A\"\n",
    "    return code"
   ]
  },
  {
   "cell_type": "code",
   "execution_count": 414,
   "metadata": {},
   "outputs": [],
   "source": [
    "def get_covidlocs(indf):\n",
    "    CovidLocs=indf.iloc[:,0:16]\n",
    "    cols=list(CovidLocs.columns.str.lower())\n",
    "    cols[3] = \"latitude\"\n",
    "    cols[4] = \"longitude\"\n",
    "    CovidLocs.columns=cols\n",
    "\n",
    "    #CovidLocs.set_index(\"uid\", drop=True, inplace=True)\n",
    "\n",
    "    # set zero latitudes and longitudes also to none \n",
    "    for col in [\"latitude\",\"longitude\"]:\n",
    "        mask=CovidLocs[col] == 0.0\n",
    "        CovidLocs.loc[mask,col] = np.nan\n",
    "        \n",
    "    #drop every column that is not static from the locations dataframe\n",
    "    cols_to_drop=[\"country_region\",\n",
    "              \"last_update\",\n",
    "              \"confirmed\",\n",
    "              \"deaths\",\n",
    "              \"recovered\",\n",
    "              \"active\",\n",
    "              \"incident_rate\",\n",
    "              \"people_tested\",\n",
    "              \"people_hospitalized\",\n",
    "              \"mortality_rate\"]\n",
    "    CovidLocs.drop(columns=cols_to_drop, inplace=True)\n",
    "    \n",
    "    CovidLocs[\"State\"] = CovidLocs[\"province_state\"].apply(lookup_statecode)\n",
    "        \n",
    "    CovidLocs.set_index(\"State\", drop=True, inplace=True)\n",
    "    return CovidLocs"
   ]
  },
  {
   "cell_type": "code",
   "execution_count": 415,
   "metadata": {
    "scrolled": true
   },
   "outputs": [
    {
     "data": {
      "text/html": [
       "<div>\n",
       "<style scoped>\n",
       "    .dataframe tbody tr th:only-of-type {\n",
       "        vertical-align: middle;\n",
       "    }\n",
       "\n",
       "    .dataframe tbody tr th {\n",
       "        vertical-align: top;\n",
       "    }\n",
       "\n",
       "    .dataframe thead th {\n",
       "        text-align: right;\n",
       "    }\n",
       "</style>\n",
       "<table border=\"1\" class=\"dataframe\">\n",
       "  <thead>\n",
       "    <tr style=\"text-align: right;\">\n",
       "      <th></th>\n",
       "      <th>province_state</th>\n",
       "      <th>latitude</th>\n",
       "      <th>longitude</th>\n",
       "      <th>fips</th>\n",
       "      <th>uid</th>\n",
       "      <th>iso3</th>\n",
       "    </tr>\n",
       "    <tr>\n",
       "      <th>State</th>\n",
       "      <th></th>\n",
       "      <th></th>\n",
       "      <th></th>\n",
       "      <th></th>\n",
       "      <th></th>\n",
       "      <th></th>\n",
       "    </tr>\n",
       "  </thead>\n",
       "  <tbody>\n",
       "    <tr>\n",
       "      <th>AL</th>\n",
       "      <td>Alabama</td>\n",
       "      <td>32.3182</td>\n",
       "      <td>-86.9023</td>\n",
       "      <td>1.0</td>\n",
       "      <td>84000001</td>\n",
       "      <td>USA</td>\n",
       "    </tr>\n",
       "    <tr>\n",
       "      <th>AK</th>\n",
       "      <td>Alaska</td>\n",
       "      <td>61.3707</td>\n",
       "      <td>-152.4044</td>\n",
       "      <td>2.0</td>\n",
       "      <td>84000002</td>\n",
       "      <td>USA</td>\n",
       "    </tr>\n",
       "    <tr>\n",
       "      <th>AS</th>\n",
       "      <td>American Samoa</td>\n",
       "      <td>-14.2710</td>\n",
       "      <td>-170.1320</td>\n",
       "      <td>60.0</td>\n",
       "      <td>16</td>\n",
       "      <td>ASM</td>\n",
       "    </tr>\n",
       "    <tr>\n",
       "      <th>AZ</th>\n",
       "      <td>Arizona</td>\n",
       "      <td>33.7298</td>\n",
       "      <td>-111.4312</td>\n",
       "      <td>4.0</td>\n",
       "      <td>84000004</td>\n",
       "      <td>USA</td>\n",
       "    </tr>\n",
       "    <tr>\n",
       "      <th>AR</th>\n",
       "      <td>Arkansas</td>\n",
       "      <td>34.9697</td>\n",
       "      <td>-92.3731</td>\n",
       "      <td>5.0</td>\n",
       "      <td>84000005</td>\n",
       "      <td>USA</td>\n",
       "    </tr>\n",
       "  </tbody>\n",
       "</table>\n",
       "</div>"
      ],
      "text/plain": [
       "       province_state  latitude  longitude  fips       uid iso3\n",
       "State                                                          \n",
       "AL            Alabama   32.3182   -86.9023   1.0  84000001  USA\n",
       "AK             Alaska   61.3707  -152.4044   2.0  84000002  USA\n",
       "AS     American Samoa  -14.2710  -170.1320  60.0        16  ASM\n",
       "AZ            Arizona   33.7298  -111.4312   4.0  84000004  USA\n",
       "AR           Arkansas   34.9697   -92.3731   5.0  84000005  USA"
      ]
     },
     "execution_count": 415,
     "metadata": {},
     "output_type": "execute_result"
    }
   ],
   "source": [
    "covidlocs=get_covidlocs(df)\n",
    "covidlocs.head()"
   ]
  },
  {
   "cell_type": "code",
   "execution_count": 422,
   "metadata": {},
   "outputs": [
    {
     "data": {
      "text/html": [
       "<div>\n",
       "<style scoped>\n",
       "    .dataframe tbody tr th:only-of-type {\n",
       "        vertical-align: middle;\n",
       "    }\n",
       "\n",
       "    .dataframe tbody tr th {\n",
       "        vertical-align: top;\n",
       "    }\n",
       "\n",
       "    .dataframe thead th {\n",
       "        text-align: right;\n",
       "    }\n",
       "</style>\n",
       "<table border=\"1\" class=\"dataframe\">\n",
       "  <thead>\n",
       "    <tr style=\"text-align: right;\">\n",
       "      <th></th>\n",
       "      <th>province_state</th>\n",
       "      <th>population</th>\n",
       "    </tr>\n",
       "  </thead>\n",
       "  <tbody>\n",
       "    <tr>\n",
       "      <th>53</th>\n",
       "      <td>California</td>\n",
       "      <td>39512223.0</td>\n",
       "    </tr>\n",
       "  </tbody>\n",
       "</table>\n",
       "</div>"
      ],
      "text/plain": [
       "   province_state  population\n",
       "53     California  39512223.0"
      ]
     },
     "execution_count": 422,
     "metadata": {},
     "output_type": "execute_result"
    }
   ],
   "source": [
    "#adding population to table\n",
    "popul_query=\"\"\"\n",
    "select province_state, cast(sum(population) as int) as population\n",
    "from covidlocs\n",
    "group by province_state\n",
    "\"\"\"\n",
    "population=pd.read_sql(popul_query, engine)\n",
    "population.query(\"province_state == 'California'\")"
   ]
  },
  {
   "cell_type": "code",
   "execution_count": 423,
   "metadata": {},
   "outputs": [
    {
     "data": {
      "text/html": [
       "<div>\n",
       "<style scoped>\n",
       "    .dataframe tbody tr th:only-of-type {\n",
       "        vertical-align: middle;\n",
       "    }\n",
       "\n",
       "    .dataframe tbody tr th {\n",
       "        vertical-align: top;\n",
       "    }\n",
       "\n",
       "    .dataframe thead th {\n",
       "        text-align: right;\n",
       "    }\n",
       "</style>\n",
       "<table border=\"1\" class=\"dataframe\">\n",
       "  <thead>\n",
       "    <tr style=\"text-align: right;\">\n",
       "      <th></th>\n",
       "      <th>province_state</th>\n",
       "      <th>population</th>\n",
       "    </tr>\n",
       "    <tr>\n",
       "      <th>State</th>\n",
       "      <th></th>\n",
       "      <th></th>\n",
       "    </tr>\n",
       "  </thead>\n",
       "  <tbody>\n",
       "    <tr>\n",
       "      <th>VI</th>\n",
       "      <td>Virgin Islands</td>\n",
       "      <td>107268.0</td>\n",
       "    </tr>\n",
       "    <tr>\n",
       "      <th>VT</th>\n",
       "      <td>Vermont</td>\n",
       "      <td>623989.0</td>\n",
       "    </tr>\n",
       "  </tbody>\n",
       "</table>\n",
       "</div>"
      ],
      "text/plain": [
       "       province_state  population\n",
       "State                            \n",
       "VI     Virgin Islands    107268.0\n",
       "VT            Vermont    623989.0"
      ]
     },
     "execution_count": 423,
     "metadata": {},
     "output_type": "execute_result"
    }
   ],
   "source": [
    "population[\"State\"] = population[\"province_state\"].apply(lookup_statecode)\n",
    "population.set_index([\"State\"], inplace=True)\n",
    "population.head(n=2)"
   ]
  },
  {
   "cell_type": "code",
   "execution_count": 424,
   "metadata": {},
   "outputs": [],
   "source": [
    "covidlocs[\"population\"] = population[\"population\"]"
   ]
  },
  {
   "cell_type": "code",
   "execution_count": 425,
   "metadata": {},
   "outputs": [
    {
     "name": "stdout",
     "output_type": "stream",
     "text": [
      "0:Province_State\n",
      "1:Country_Region\n",
      "2:Last_Update\n",
      "3:Lat\n",
      "4:Long_\n",
      "5:Confirmed\n",
      "6:Deaths\n",
      "7:Recovered\n",
      "8:Active\n",
      "9:FIPS\n",
      "10:Incident_Rate\n",
      "11:People_Tested\n",
      "12:People_Hospitalized\n",
      "13:Mortality_Rate\n",
      "14:UID\n",
      "15:ISO3\n",
      "16:Testing_Rate\n",
      "17:Hospitalization_Rate\n",
      "18:date\n",
      "19:State\n"
     ]
    }
   ],
   "source": [
    "allcols=df.columns\n",
    "for n,col in enumerate(allcols):\n",
    "    print(\"%d:%s\" % (n,col))"
   ]
  },
  {
   "cell_type": "code",
   "execution_count": 351,
   "metadata": {
    "scrolled": false
   },
   "outputs": [],
   "source": [
    "usecols=[0,2,5,6,7,8,10,11,12,13,14,16,17]\n",
    "alldfs=[]\n",
    "\n",
    "for day in timespan:\n",
    "    filename=day.strftime('daily/%m-%d-%Y.csv')\n",
    "    if isfile(filename):\n",
    "        ndf=pd.read_csv(filename, usecols=usecols)\n",
    "        ndf[\"Date\"] = day\n",
    "        ndf[\"State\"] = ndf[\"Province_State\"].apply(lookup_statecode)\n",
    "        ndf.drop(columns=[\"Province_State\"], inplace=True)\n",
    "        ndf.set_index(\"State\", inplace=True)\n",
    "        alldfs.append(ndf)\n",
    "    else:\n",
    "        print(\"%s not found, skipping.\" % filename)\n",
    "\n",
    "cases=pd.concat(alldfs)\n",
    "cases.reset_index(inplace=True)"
   ]
  },
  {
   "cell_type": "code",
   "execution_count": 352,
   "metadata": {},
   "outputs": [],
   "source": [
    "#rearrainging columns\n",
    "cols=cases.columns.tolist()\n",
    "#for n,col in enumerate(cols):\n",
    "#    print(n,col)\n",
    "newcols=[]\n",
    "newcols.append(cols[0])\n",
    "newcols.append(cols[13])\n",
    "for col in cols[2:13]:\n",
    "    newcols.append(col)\n",
    "newcols.append(cols[1])\n",
    "cases=cases[newcols]"
   ]
  },
  {
   "cell_type": "code",
   "execution_count": 353,
   "metadata": {},
   "outputs": [
    {
     "data": {
      "text/html": [
       "<div>\n",
       "<style scoped>\n",
       "    .dataframe tbody tr th:only-of-type {\n",
       "        vertical-align: middle;\n",
       "    }\n",
       "\n",
       "    .dataframe tbody tr th {\n",
       "        vertical-align: top;\n",
       "    }\n",
       "\n",
       "    .dataframe thead th {\n",
       "        text-align: right;\n",
       "    }\n",
       "</style>\n",
       "<table border=\"1\" class=\"dataframe\">\n",
       "  <thead>\n",
       "    <tr style=\"text-align: right;\">\n",
       "      <th></th>\n",
       "      <th>State</th>\n",
       "      <th>Date</th>\n",
       "      <th>Confirmed</th>\n",
       "      <th>Deaths</th>\n",
       "      <th>Recovered</th>\n",
       "      <th>Active</th>\n",
       "      <th>Incident_Rate</th>\n",
       "      <th>People_Tested</th>\n",
       "      <th>People_Hospitalized</th>\n",
       "      <th>Mortality_Rate</th>\n",
       "      <th>UID</th>\n",
       "      <th>Testing_Rate</th>\n",
       "      <th>Hospitalization_Rate</th>\n",
       "      <th>Last_Update</th>\n",
       "    </tr>\n",
       "  </thead>\n",
       "  <tbody>\n",
       "    <tr>\n",
       "      <th>0</th>\n",
       "      <td>AL</td>\n",
       "      <td>2020-04-22</td>\n",
       "      <td>5692</td>\n",
       "      <td>196</td>\n",
       "      <td>NaN</td>\n",
       "      <td>5397.0</td>\n",
       "      <td>119.281784</td>\n",
       "      <td>48760.0</td>\n",
       "      <td>730.0</td>\n",
       "      <td>3.504380</td>\n",
       "      <td>84000001.0</td>\n",
       "      <td>1039.903414</td>\n",
       "      <td>13.052029</td>\n",
       "      <td>2020-04-22 23:40:26</td>\n",
       "    </tr>\n",
       "    <tr>\n",
       "      <th>1</th>\n",
       "      <td>AK</td>\n",
       "      <td>2020-04-22</td>\n",
       "      <td>335</td>\n",
       "      <td>9</td>\n",
       "      <td>196.0</td>\n",
       "      <td>326.0</td>\n",
       "      <td>56.043590</td>\n",
       "      <td>12159.0</td>\n",
       "      <td>39.0</td>\n",
       "      <td>2.686567</td>\n",
       "      <td>84000002.0</td>\n",
       "      <td>2034.131383</td>\n",
       "      <td>11.641791</td>\n",
       "      <td>2020-04-22 23:40:26</td>\n",
       "    </tr>\n",
       "    <tr>\n",
       "      <th>2</th>\n",
       "      <td>AS</td>\n",
       "      <td>2020-04-22</td>\n",
       "      <td>0</td>\n",
       "      <td>0</td>\n",
       "      <td>NaN</td>\n",
       "      <td>NaN</td>\n",
       "      <td>0.000000</td>\n",
       "      <td>3.0</td>\n",
       "      <td>NaN</td>\n",
       "      <td>NaN</td>\n",
       "      <td>16.0</td>\n",
       "      <td>5.391708</td>\n",
       "      <td>NaN</td>\n",
       "      <td>2020-04-22 23:40:26</td>\n",
       "    </tr>\n",
       "    <tr>\n",
       "      <th>3</th>\n",
       "      <td>AZ</td>\n",
       "      <td>2020-04-22</td>\n",
       "      <td>5473</td>\n",
       "      <td>231</td>\n",
       "      <td>1265.0</td>\n",
       "      <td>5242.0</td>\n",
       "      <td>75.191823</td>\n",
       "      <td>56601.0</td>\n",
       "      <td>664.0</td>\n",
       "      <td>4.220720</td>\n",
       "      <td>84000004.0</td>\n",
       "      <td>777.623309</td>\n",
       "      <td>12.132286</td>\n",
       "      <td>2020-04-22 23:40:26</td>\n",
       "    </tr>\n",
       "    <tr>\n",
       "      <th>4</th>\n",
       "      <td>AR</td>\n",
       "      <td>2020-04-22</td>\n",
       "      <td>2276</td>\n",
       "      <td>42</td>\n",
       "      <td>863.0</td>\n",
       "      <td>2234.0</td>\n",
       "      <td>87.909473</td>\n",
       "      <td>29713.0</td>\n",
       "      <td>291.0</td>\n",
       "      <td>1.845343</td>\n",
       "      <td>84000005.0</td>\n",
       "      <td>1147.651222</td>\n",
       "      <td>12.785589</td>\n",
       "      <td>2020-04-22 23:40:26</td>\n",
       "    </tr>\n",
       "  </tbody>\n",
       "</table>\n",
       "</div>"
      ],
      "text/plain": [
       "  State       Date  Confirmed  Deaths  Recovered  Active  Incident_Rate  \\\n",
       "0    AL 2020-04-22       5692     196        NaN  5397.0     119.281784   \n",
       "1    AK 2020-04-22        335       9      196.0   326.0      56.043590   \n",
       "2    AS 2020-04-22          0       0        NaN     NaN       0.000000   \n",
       "3    AZ 2020-04-22       5473     231     1265.0  5242.0      75.191823   \n",
       "4    AR 2020-04-22       2276      42      863.0  2234.0      87.909473   \n",
       "\n",
       "   People_Tested  People_Hospitalized  Mortality_Rate         UID  \\\n",
       "0        48760.0                730.0        3.504380  84000001.0   \n",
       "1        12159.0                 39.0        2.686567  84000002.0   \n",
       "2            3.0                  NaN             NaN        16.0   \n",
       "3        56601.0                664.0        4.220720  84000004.0   \n",
       "4        29713.0                291.0        1.845343  84000005.0   \n",
       "\n",
       "   Testing_Rate  Hospitalization_Rate          Last_Update  \n",
       "0   1039.903414             13.052029  2020-04-22 23:40:26  \n",
       "1   2034.131383             11.641791  2020-04-22 23:40:26  \n",
       "2      5.391708                   NaN  2020-04-22 23:40:26  \n",
       "3    777.623309             12.132286  2020-04-22 23:40:26  \n",
       "4   1147.651222             12.785589  2020-04-22 23:40:26  "
      ]
     },
     "execution_count": 353,
     "metadata": {},
     "output_type": "execute_result"
    }
   ],
   "source": [
    "cases.head()"
   ]
  },
  {
   "cell_type": "code",
   "execution_count": 376,
   "metadata": {},
   "outputs": [],
   "source": [
    "scases=cases.query(\"State == 'WA'\").sort_values(by=\"Date\")"
   ]
  },
  {
   "cell_type": "code",
   "execution_count": 386,
   "metadata": {},
   "outputs": [
    {
     "data": {
      "text/html": [
       "<div>\n",
       "<style scoped>\n",
       "    .dataframe tbody tr th:only-of-type {\n",
       "        vertical-align: middle;\n",
       "    }\n",
       "\n",
       "    .dataframe tbody tr th {\n",
       "        vertical-align: top;\n",
       "    }\n",
       "\n",
       "    .dataframe thead th {\n",
       "        text-align: right;\n",
       "    }\n",
       "</style>\n",
       "<table border=\"1\" class=\"dataframe\">\n",
       "  <thead>\n",
       "    <tr style=\"text-align: right;\">\n",
       "      <th></th>\n",
       "      <th>State</th>\n",
       "      <th>Confirmed</th>\n",
       "      <th>Deaths</th>\n",
       "      <th>Recovered</th>\n",
       "      <th>Active</th>\n",
       "      <th>Incident_Rate</th>\n",
       "      <th>People_Tested</th>\n",
       "      <th>People_Hospitalized</th>\n",
       "      <th>Mortality_Rate</th>\n",
       "      <th>UID</th>\n",
       "      <th>Testing_Rate</th>\n",
       "      <th>Hospitalization_Rate</th>\n",
       "      <th>Last_Update</th>\n",
       "    </tr>\n",
       "    <tr>\n",
       "      <th>Date</th>\n",
       "      <th></th>\n",
       "      <th></th>\n",
       "      <th></th>\n",
       "      <th></th>\n",
       "      <th></th>\n",
       "      <th></th>\n",
       "      <th></th>\n",
       "      <th></th>\n",
       "      <th></th>\n",
       "      <th></th>\n",
       "      <th></th>\n",
       "      <th></th>\n",
       "      <th></th>\n",
       "    </tr>\n",
       "  </thead>\n",
       "  <tbody>\n",
       "    <tr>\n",
       "      <th>2020-04-22</th>\n",
       "      <td>TX</td>\n",
       "      <td>21577</td>\n",
       "      <td>596</td>\n",
       "      <td>7341.0</td>\n",
       "      <td>20765.0</td>\n",
       "      <td>92.762268</td>\n",
       "      <td>216783.0</td>\n",
       "      <td>1678.0</td>\n",
       "      <td>2.607758</td>\n",
       "      <td>84000048.0</td>\n",
       "      <td>943.167894</td>\n",
       "      <td>7.870175</td>\n",
       "      <td>2020-04-22 23:40:26</td>\n",
       "    </tr>\n",
       "    <tr>\n",
       "      <th>2020-04-23</th>\n",
       "      <td>TX</td>\n",
       "      <td>22797</td>\n",
       "      <td>645</td>\n",
       "      <td>8025.0</td>\n",
       "      <td>22046.0</td>\n",
       "      <td>98.544410</td>\n",
       "      <td>225078.0</td>\n",
       "      <td>1649.0</td>\n",
       "      <td>2.666667</td>\n",
       "      <td>84000048.0</td>\n",
       "      <td>979.257337</td>\n",
       "      <td>7.280353</td>\n",
       "      <td>2020-04-24 03:33:00</td>\n",
       "    </tr>\n",
       "    <tr>\n",
       "      <th>2020-04-24</th>\n",
       "      <td>TX</td>\n",
       "      <td>23772</td>\n",
       "      <td>663</td>\n",
       "      <td>9156.0</td>\n",
       "      <td>23018.0</td>\n",
       "      <td>102.860350</td>\n",
       "      <td>242547.0</td>\n",
       "      <td>1674.0</td>\n",
       "      <td>2.639371</td>\n",
       "      <td>84000048.0</td>\n",
       "      <td>1055.260529</td>\n",
       "      <td>7.080619</td>\n",
       "      <td>2020-04-25 06:32:46</td>\n",
       "    </tr>\n",
       "    <tr>\n",
       "      <th>2020-04-25</th>\n",
       "      <td>TX</td>\n",
       "      <td>24287</td>\n",
       "      <td>678</td>\n",
       "      <td>9986.0</td>\n",
       "      <td>23515.0</td>\n",
       "      <td>105.083582</td>\n",
       "      <td>262816.0</td>\n",
       "      <td>1597.0</td>\n",
       "      <td>2.641494</td>\n",
       "      <td>84000048.0</td>\n",
       "      <td>1143.445811</td>\n",
       "      <td>6.612015</td>\n",
       "      <td>2020-04-26 02:32:45</td>\n",
       "    </tr>\n",
       "    <tr>\n",
       "      <th>2020-04-26</th>\n",
       "      <td>TX</td>\n",
       "      <td>25051</td>\n",
       "      <td>699</td>\n",
       "      <td>10763.0</td>\n",
       "      <td>24316.0</td>\n",
       "      <td>108.625090</td>\n",
       "      <td>276021.0</td>\n",
       "      <td>1542.0</td>\n",
       "      <td>2.607442</td>\n",
       "      <td>84000048.0</td>\n",
       "      <td>1200.897420</td>\n",
       "      <td>6.176153</td>\n",
       "      <td>2020-04-27 02:32:46</td>\n",
       "    </tr>\n",
       "  </tbody>\n",
       "</table>\n",
       "</div>"
      ],
      "text/plain": [
       "           State  Confirmed  Deaths  Recovered   Active  Incident_Rate  \\\n",
       "Date                                                                     \n",
       "2020-04-22    TX      21577     596     7341.0  20765.0      92.762268   \n",
       "2020-04-23    TX      22797     645     8025.0  22046.0      98.544410   \n",
       "2020-04-24    TX      23772     663     9156.0  23018.0     102.860350   \n",
       "2020-04-25    TX      24287     678     9986.0  23515.0     105.083582   \n",
       "2020-04-26    TX      25051     699    10763.0  24316.0     108.625090   \n",
       "\n",
       "            People_Tested  People_Hospitalized  Mortality_Rate         UID  \\\n",
       "Date                                                                         \n",
       "2020-04-22       216783.0               1678.0        2.607758  84000048.0   \n",
       "2020-04-23       225078.0               1649.0        2.666667  84000048.0   \n",
       "2020-04-24       242547.0               1674.0        2.639371  84000048.0   \n",
       "2020-04-25       262816.0               1597.0        2.641494  84000048.0   \n",
       "2020-04-26       276021.0               1542.0        2.607442  84000048.0   \n",
       "\n",
       "            Testing_Rate  Hospitalization_Rate          Last_Update  \n",
       "Date                                                                 \n",
       "2020-04-22    943.167894              7.870175  2020-04-22 23:40:26  \n",
       "2020-04-23    979.257337              7.280353  2020-04-24 03:33:00  \n",
       "2020-04-24   1055.260529              7.080619  2020-04-25 06:32:46  \n",
       "2020-04-25   1143.445811              6.612015  2020-04-26 02:32:45  \n",
       "2020-04-26   1200.897420              6.176153  2020-04-27 02:32:46  "
      ]
     },
     "execution_count": 386,
     "metadata": {},
     "output_type": "execute_result"
    }
   ],
   "source": [
    "scases=cases.query(\"State == 'TX'\").sort_values(by=\"Date\")\n",
    "scases.set_index(\"Date\", drop=True, inplace=True)\n",
    "scases.head()"
   ]
  },
  {
   "cell_type": "code",
   "execution_count": null,
   "metadata": {},
   "outputs": [],
   "source": [
    "def get_sir(indf):\n",
    "    sirdf=pd.DataFrame(index=indf.index())"
   ]
  },
  {
   "cell_type": "code",
   "execution_count": 385,
   "metadata": {},
   "outputs": [
    {
     "data": {
      "text/plain": [
       "<AxesSubplot:xlabel='Date'>"
      ]
     },
     "execution_count": 385,
     "metadata": {},
     "output_type": "execute_result"
    },
    {
     "data": {
      "image/png": "[encoded data removed]",
      "text/plain": [
       "<Figure size 432x288 with 1 Axes>"
      ]
     },
     "metadata": {
      "needs_background": "light"
     },
     "output_type": "display_data"
    }
   ],
   "source": [
    "ax=scases.plot(x=\"Date\", y=\"Active\")\n",
    "scases.plot(x=\"Date\", y=\"Recovered\", ax=ax)\n",
    "scases.plot(x=\"Date\", y=\"Deaths\", ax=ax)"
   ]
  },
  {
   "cell_type": "code",
   "execution_count": null,
   "metadata": {},
   "outputs": [],
   "source": []
  }
 ],
 "metadata": {
  "kernelspec": {
   "display_name": "Python 3",
   "language": "python",
   "name": "python3"
  },
  "language_info": {
   "codemirror_mode": {
    "name": "ipython",
    "version": 3
   },
   "file_extension": ".py",
   "mimetype": "text/x-python",
   "name": "python",
   "nbconvert_exporter": "python",
   "pygments_lexer": "ipython3",
   "version": "3.7.4"
  }
 },
 "nbformat": 4,
 "nbformat_minor": 2
}
