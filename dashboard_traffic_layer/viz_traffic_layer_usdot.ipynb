{
 "cells": [
  {
   "cell_type": "code",
   "execution_count": 1,
   "metadata": {},
   "outputs": [],
   "source": [
    "import plotly.express as px\n",
    "import plotly\n",
    "plotly.io.templates.default = 'plotly_dark'\n",
    "import pandas as pd\n",
    "import sqlalchemy as sal"
   ]
  },
  {
   "cell_type": "code",
   "execution_count": 2,
   "metadata": {},
   "outputs": [],
   "source": [
    "host=\"capstone.clihskgj8i7s.us-west-2.rds.amazonaws.com\"\n",
    "username=\"group3\"\n",
    "db=\"db1\"\n",
    "#pw=getpass.getpass(\"Enter database password\")\n",
    "pw=open(\"/home/daniel/Desktop/.awsdb\",\"r\").read().rstrip()"
   ]
  },
  {
   "cell_type": "code",
   "execution_count": 3,
   "metadata": {},
   "outputs": [],
   "source": [
    "engine = sal.create_engine('postgresql://%s:%s@%s/%s' % (username, pw, host, db))"
   ]
  },
  {
   "cell_type": "code",
   "execution_count": 4,
   "metadata": {},
   "outputs": [
    {
     "data": {
      "text/html": [
       "<div>\n",
       "<style scoped>\n",
       "    .dataframe tbody tr th:only-of-type {\n",
       "        vertical-align: middle;\n",
       "    }\n",
       "\n",
       "    .dataframe tbody tr th {\n",
       "        vertical-align: top;\n",
       "    }\n",
       "\n",
       "    .dataframe thead th {\n",
       "        text-align: right;\n",
       "    }\n",
       "</style>\n",
       "<table border=\"1\" class=\"dataframe\">\n",
       "  <thead>\n",
       "    <tr style=\"text-align: right;\">\n",
       "      <th></th>\n",
       "      <th>longitude</th>\n",
       "      <th>latitude</th>\n",
       "      <th>stype</th>\n",
       "      <th>fwy</th>\n",
       "      <th>direc</th>\n",
       "      <th>abs_pm</th>\n",
       "      <th>total_flow</th>\n",
       "      <th>avg_speed</th>\n",
       "    </tr>\n",
       "    <tr>\n",
       "      <th>sid</th>\n",
       "      <th></th>\n",
       "      <th></th>\n",
       "      <th></th>\n",
       "      <th></th>\n",
       "      <th></th>\n",
       "      <th></th>\n",
       "      <th></th>\n",
       "      <th></th>\n",
       "    </tr>\n",
       "  </thead>\n",
       "  <tbody>\n",
       "    <tr>\n",
       "      <th>1108285</th>\n",
       "      <td>-117.134145</td>\n",
       "      <td>32.713318</td>\n",
       "      <td>ML</td>\n",
       "      <td>94</td>\n",
       "      <td>W</td>\n",
       "      <td>0.819</td>\n",
       "      <td>232</td>\n",
       "      <td>64.8</td>\n",
       "    </tr>\n",
       "    <tr>\n",
       "      <th>1108287</th>\n",
       "      <td>-117.127908</td>\n",
       "      <td>32.714211</td>\n",
       "      <td>ML</td>\n",
       "      <td>94</td>\n",
       "      <td>W</td>\n",
       "      <td>1.205</td>\n",
       "      <td>153</td>\n",
       "      <td>58.6</td>\n",
       "    </tr>\n",
       "    <tr>\n",
       "      <th>1108289</th>\n",
       "      <td>-117.119831</td>\n",
       "      <td>32.716724</td>\n",
       "      <td>ML</td>\n",
       "      <td>94</td>\n",
       "      <td>W</td>\n",
       "      <td>1.721</td>\n",
       "      <td>252</td>\n",
       "      <td>62.9</td>\n",
       "    </tr>\n",
       "    <tr>\n",
       "      <th>1108291</th>\n",
       "      <td>-117.117861</td>\n",
       "      <td>32.717134</td>\n",
       "      <td>ML</td>\n",
       "      <td>94</td>\n",
       "      <td>W</td>\n",
       "      <td>1.844</td>\n",
       "      <td>311</td>\n",
       "      <td>65.1</td>\n",
       "    </tr>\n",
       "    <tr>\n",
       "      <th>1108293</th>\n",
       "      <td>-117.113171</td>\n",
       "      <td>32.717909</td>\n",
       "      <td>ML</td>\n",
       "      <td>94</td>\n",
       "      <td>W</td>\n",
       "      <td>2.134</td>\n",
       "      <td>277</td>\n",
       "      <td>62.8</td>\n",
       "    </tr>\n",
       "  </tbody>\n",
       "</table>\n",
       "</div>"
      ],
      "text/plain": [
       "          longitude   latitude stype  fwy direc  abs_pm  total_flow  avg_speed\n",
       "sid                                                                           \n",
       "1108285 -117.134145  32.713318    ML   94     W   0.819         232       64.8\n",
       "1108287 -117.127908  32.714211    ML   94     W   1.205         153       58.6\n",
       "1108289 -117.119831  32.716724    ML   94     W   1.721         252       62.9\n",
       "1108291 -117.117861  32.717134    ML   94     W   1.844         311       65.1\n",
       "1108293 -117.113171  32.717909    ML   94     W   2.134         277       62.8"
      ]
     },
     "execution_count": 4,
     "metadata": {},
     "output_type": "execute_result"
    }
   ],
   "source": [
    "#download a snapshot of data\n",
    "query=\"\"\"\n",
    "select l.sid, l.longitude, l.latitude, l.stype, l.fwy ,l.direc, l.abs_pm, t.total_flow ,\n",
    "t.avg_speed\n",
    "from traffic t, pemslocs l\n",
    "where t.timestamp between '2021-01-22 15:00:00' and '2021-01-22 15:03:00'\n",
    "and l.sid = t.station and l.stype = 'ML'\n",
    "\"\"\"\n",
    "snap=pd.read_sql(query, engine, index_col=\"sid\")\n",
    "snap.head()"
   ]
  },
  {
   "cell_type": "code",
   "execution_count": 5,
   "metadata": {},
   "outputs": [
    {
     "data": {
      "text/html": [
       "<div>\n",
       "<style scoped>\n",
       "    .dataframe tbody tr th:only-of-type {\n",
       "        vertical-align: middle;\n",
       "    }\n",
       "\n",
       "    .dataframe tbody tr th {\n",
       "        vertical-align: top;\n",
       "    }\n",
       "\n",
       "    .dataframe thead th {\n",
       "        text-align: right;\n",
       "    }\n",
       "</style>\n",
       "<table border=\"1\" class=\"dataframe\">\n",
       "  <thead>\n",
       "    <tr style=\"text-align: right;\">\n",
       "      <th></th>\n",
       "      <th>sid</th>\n",
       "      <th>fwy</th>\n",
       "      <th>direc</th>\n",
       "      <th>district</th>\n",
       "      <th>county</th>\n",
       "      <th>city</th>\n",
       "      <th>state_pm</th>\n",
       "      <th>abs_pm</th>\n",
       "      <th>latitude</th>\n",
       "      <th>longitude</th>\n",
       "      <th>length</th>\n",
       "      <th>stype</th>\n",
       "      <th>lanes</th>\n",
       "      <th>name</th>\n",
       "    </tr>\n",
       "  </thead>\n",
       "  <tbody>\n",
       "    <tr>\n",
       "      <th>0</th>\n",
       "      <td>308511</td>\n",
       "      <td>50</td>\n",
       "      <td>E</td>\n",
       "      <td>3</td>\n",
       "      <td>17</td>\n",
       "      <td>None</td>\n",
       "      <td>31.627</td>\n",
       "      <td>60.162</td>\n",
       "      <td>38.761062</td>\n",
       "      <td>-120.569835</td>\n",
       "      <td>5.0</td>\n",
       "      <td>ML</td>\n",
       "      <td>2</td>\n",
       "      <td>Sly Park Rd</td>\n",
       "    </tr>\n",
       "  </tbody>\n",
       "</table>\n",
       "</div>"
      ],
      "text/plain": [
       "      sid  fwy direc  district  county  city state_pm  abs_pm   latitude  \\\n",
       "0  308511   50     E         3      17  None   31.627  60.162  38.761062   \n",
       "\n",
       "    longitude  length stype  lanes         name  \n",
       "0 -120.569835     5.0    ML      2  Sly Park Rd  "
      ]
     },
     "execution_count": 5,
     "metadata": {},
     "output_type": "execute_result"
    }
   ],
   "source": [
    "pd.read_sql(\"select * from pemslocs limit 1\", engine)\n",
    "#print(len(snap))"
   ]
  },
  {
   "cell_type": "code",
   "execution_count": 6,
   "metadata": {},
   "outputs": [],
   "source": [
    "snap[\"total_flow\"]=snap[\"total_flow\"].astype(float)"
   ]
  },
  {
   "cell_type": "code",
   "execution_count": 7,
   "metadata": {},
   "outputs": [
    {
     "data": {
      "text/plain": [
       "array(['94W', '125S', '78E', '163S', '8W', '8E', '125N', '94E', '805S',\n",
       "       '78W', '15N', '5S', '15S', '5N', '805N', '163N', '54E', '54W',\n",
       "       '56E', '56W', '52E', '52W', '67S', '67N', '905W', '905E', '76W',\n",
       "       '76E', '11E', '11W'], dtype=object)"
      ]
     },
     "execution_count": 7,
     "metadata": {},
     "output_type": "execute_result"
    }
   ],
   "source": [
    "#create new column with fwy and direction as string\n",
    "snap[\"fwdir\"] = snap.apply(lambda x: str(x[\"fwy\"]) + str(x[\"direc\"]), axis=1)\n",
    "snap[\"fwdir\"].unique()"
   ]
  },
  {
   "cell_type": "code",
   "execution_count": 8,
   "metadata": {},
   "outputs": [],
   "source": [
    "import pickle\n",
    "with open(\"SD_fwys.pkl\", \"wb\") as fid:\n",
    "    pickle.dump(list(snap[\"fwdir\"].unique()), fid)"
   ]
  },
  {
   "cell_type": "code",
   "execution_count": 154,
   "metadata": {},
   "outputs": [
    {
     "data": {
      "text/html": [
       "<div>\n",
       "<style scoped>\n",
       "    .dataframe tbody tr th:only-of-type {\n",
       "        vertical-align: middle;\n",
       "    }\n",
       "\n",
       "    .dataframe tbody tr th {\n",
       "        vertical-align: top;\n",
       "    }\n",
       "\n",
       "    .dataframe thead th {\n",
       "        text-align: right;\n",
       "    }\n",
       "</style>\n",
       "<table border=\"1\" class=\"dataframe\">\n",
       "  <thead>\n",
       "    <tr style=\"text-align: right;\">\n",
       "      <th></th>\n",
       "      <th>longitude</th>\n",
       "      <th>latitude</th>\n",
       "      <th>stype</th>\n",
       "      <th>fwy</th>\n",
       "      <th>direc</th>\n",
       "      <th>abs_pm</th>\n",
       "      <th>total_flow</th>\n",
       "      <th>avg_speed</th>\n",
       "      <th>fwdir</th>\n",
       "    </tr>\n",
       "    <tr>\n",
       "      <th>sid</th>\n",
       "      <th></th>\n",
       "      <th></th>\n",
       "      <th></th>\n",
       "      <th></th>\n",
       "      <th></th>\n",
       "      <th></th>\n",
       "      <th></th>\n",
       "      <th></th>\n",
       "      <th></th>\n",
       "    </tr>\n",
       "  </thead>\n",
       "  <tbody>\n",
       "    <tr>\n",
       "      <th>1114228</th>\n",
       "      <td>-117.032738</td>\n",
       "      <td>32.544296</td>\n",
       "      <td>ML</td>\n",
       "      <td>5</td>\n",
       "      <td>S</td>\n",
       "      <td>0.221</td>\n",
       "      <td>406.0</td>\n",
       "      <td>68.5</td>\n",
       "      <td>5S</td>\n",
       "    </tr>\n",
       "    <tr>\n",
       "      <th>1118326</th>\n",
       "      <td>-117.045806</td>\n",
       "      <td>32.551447</td>\n",
       "      <td>ML</td>\n",
       "      <td>5</td>\n",
       "      <td>S</td>\n",
       "      <td>1.140</td>\n",
       "      <td>169.0</td>\n",
       "      <td>66.7</td>\n",
       "      <td>5S</td>\n",
       "    </tr>\n",
       "    <tr>\n",
       "      <th>1118341</th>\n",
       "      <td>-117.061806</td>\n",
       "      <td>32.558188</td>\n",
       "      <td>ML</td>\n",
       "      <td>5</td>\n",
       "      <td>S</td>\n",
       "      <td>2.186</td>\n",
       "      <td>211.0</td>\n",
       "      <td>69.0</td>\n",
       "      <td>5S</td>\n",
       "    </tr>\n",
       "    <tr>\n",
       "      <th>1114721</th>\n",
       "      <td>-117.067228</td>\n",
       "      <td>32.561106</td>\n",
       "      <td>ML</td>\n",
       "      <td>5</td>\n",
       "      <td>S</td>\n",
       "      <td>2.559</td>\n",
       "      <td>304.0</td>\n",
       "      <td>66.4</td>\n",
       "      <td>5S</td>\n",
       "    </tr>\n",
       "    <tr>\n",
       "      <th>1118365</th>\n",
       "      <td>-117.076731</td>\n",
       "      <td>32.568952</td>\n",
       "      <td>ML</td>\n",
       "      <td>5</td>\n",
       "      <td>S</td>\n",
       "      <td>3.336</td>\n",
       "      <td>281.0</td>\n",
       "      <td>67.7</td>\n",
       "      <td>5S</td>\n",
       "    </tr>\n",
       "  </tbody>\n",
       "</table>\n",
       "</div>"
      ],
      "text/plain": [
       "          longitude   latitude stype  fwy direc  abs_pm  total_flow  \\\n",
       "sid                                                                   \n",
       "1114228 -117.032738  32.544296    ML    5     S   0.221       406.0   \n",
       "1118326 -117.045806  32.551447    ML    5     S   1.140       169.0   \n",
       "1118341 -117.061806  32.558188    ML    5     S   2.186       211.0   \n",
       "1114721 -117.067228  32.561106    ML    5     S   2.559       304.0   \n",
       "1118365 -117.076731  32.568952    ML    5     S   3.336       281.0   \n",
       "\n",
       "         avg_speed fwdir  \n",
       "sid                       \n",
       "1114228       68.5    5S  \n",
       "1118326       66.7    5S  \n",
       "1118341       69.0    5S  \n",
       "1114721       66.4    5S  \n",
       "1118365       67.7    5S  "
      ]
     },
     "execution_count": 154,
     "metadata": {},
     "output_type": "execute_result"
    }
   ],
   "source": [
    "fwdir='5S' #'94W'\n",
    "sel=snap.query('fwdir == \"%s\"' % fwdir).sort_values(by=\"abs_pm\")\n",
    "sel.head()"
   ]
  },
  {
   "cell_type": "code",
   "execution_count": 156,
   "metadata": {},
   "outputs": [
    {
     "data": {
      "text/plain": [
       "count    1533.000000\n",
       "mean       61.088765\n",
       "std         6.300433\n",
       "min        19.963853\n",
       "25%        59.565145\n",
       "50%        61.746141\n",
       "75%        65.278844\n",
       "max        70.299276\n",
       "Name: avg_speed, dtype: float64"
      ]
     },
     "execution_count": 156,
     "metadata": {},
     "output_type": "execute_result"
    }
   ],
   "source": [
    "selhr=pd.read_sql(\"select * from usdot u where u.fwydir = '%s' order by u.abs_pm\" % fwdir, engine)\n",
    "selhr.head()\n",
    "\n",
    "from scipy.interpolate import interp1d\n",
    "interpmod = interp1d(sel[\"abs_pm\"].values, sel[\"avg_speed\"].values, bounds_error=False)\n",
    "selhr[\"avg_speed\"] = interpmod(selhr[\"abs_pm\"].values)\n",
    "import numpy as np\n",
    "selhr.dropna(axis=\"index\", how=\"any\", subset=[\"avg_speed\"], inplace=True)\n",
    "selhr[\"avg_speed\"].describe()"
   ]
  },
  {
   "cell_type": "code",
   "execution_count": 166,
   "metadata": {},
   "outputs": [],
   "source": [
    "def speed2cat(speed):\n",
    "    if speed > 65:\n",
    "        return 'fast'\n",
    "    elif speed > 60:\n",
    "        return 'moderate'\n",
    "    elif speed > 50:\n",
    "        return 'slow'\n",
    "    else:\n",
    "        return 'very slow'\n",
    "        \n",
    "selhr[\"speed_cat\"]=selhr[\"avg_speed\"].apply(speed2cat)"
   ]
  },
  {
   "cell_type": "code",
   "execution_count": 160,
   "metadata": {},
   "outputs": [
    {
     "data": {
      "text/html": [
       "<div>\n",
       "<style scoped>\n",
       "    .dataframe tbody tr th:only-of-type {\n",
       "        vertical-align: middle;\n",
       "    }\n",
       "\n",
       "    .dataframe tbody tr th {\n",
       "        vertical-align: top;\n",
       "    }\n",
       "\n",
       "    .dataframe thead th {\n",
       "        text-align: right;\n",
       "    }\n",
       "</style>\n",
       "<table border=\"1\" class=\"dataframe\">\n",
       "  <thead>\n",
       "    <tr style=\"text-align: right;\">\n",
       "      <th></th>\n",
       "      <th>usdid</th>\n",
       "      <th>fwydir</th>\n",
       "      <th>latitude</th>\n",
       "      <th>longitude</th>\n",
       "      <th>abs_pm</th>\n",
       "      <th>avg_speed</th>\n",
       "      <th>speed_cat</th>\n",
       "    </tr>\n",
       "  </thead>\n",
       "  <tbody>\n",
       "    <tr>\n",
       "      <th>17</th>\n",
       "      <td>5318</td>\n",
       "      <td>5S</td>\n",
       "      <td>32.544431</td>\n",
       "      <td>-117.032924</td>\n",
       "      <td>0.226163</td>\n",
       "      <td>68.489887</td>\n",
       "      <td>fast</td>\n",
       "    </tr>\n",
       "    <tr>\n",
       "      <th>18</th>\n",
       "      <td>5319</td>\n",
       "      <td>5S</td>\n",
       "      <td>32.544469</td>\n",
       "      <td>-117.032980</td>\n",
       "      <td>0.230351</td>\n",
       "      <td>68.481686</td>\n",
       "      <td>fast</td>\n",
       "    </tr>\n",
       "    <tr>\n",
       "      <th>19</th>\n",
       "      <td>5320</td>\n",
       "      <td>5S</td>\n",
       "      <td>32.544525</td>\n",
       "      <td>-117.033062</td>\n",
       "      <td>0.236497</td>\n",
       "      <td>68.469647</td>\n",
       "      <td>fast</td>\n",
       "    </tr>\n",
       "    <tr>\n",
       "      <th>20</th>\n",
       "      <td>5321</td>\n",
       "      <td>5S</td>\n",
       "      <td>32.544693</td>\n",
       "      <td>-117.033312</td>\n",
       "      <td>0.255119</td>\n",
       "      <td>68.433174</td>\n",
       "      <td>fast</td>\n",
       "    </tr>\n",
       "    <tr>\n",
       "      <th>21</th>\n",
       "      <td>5322</td>\n",
       "      <td>5S</td>\n",
       "      <td>32.544749</td>\n",
       "      <td>-117.033395</td>\n",
       "      <td>0.261311</td>\n",
       "      <td>68.421046</td>\n",
       "      <td>fast</td>\n",
       "    </tr>\n",
       "    <tr>\n",
       "      <th>22</th>\n",
       "      <td>5323</td>\n",
       "      <td>5S</td>\n",
       "      <td>32.546390</td>\n",
       "      <td>-117.035804</td>\n",
       "      <td>0.441704</td>\n",
       "      <td>68.067718</td>\n",
       "      <td>fast</td>\n",
       "    </tr>\n",
       "    <tr>\n",
       "      <th>23</th>\n",
       "      <td>5324</td>\n",
       "      <td>5S</td>\n",
       "      <td>32.549000</td>\n",
       "      <td>-117.039847</td>\n",
       "      <td>0.738296</td>\n",
       "      <td>67.486797</td>\n",
       "      <td>fast</td>\n",
       "    </tr>\n",
       "    <tr>\n",
       "      <th>24</th>\n",
       "      <td>5325</td>\n",
       "      <td>5S</td>\n",
       "      <td>32.549081</td>\n",
       "      <td>-117.039993</td>\n",
       "      <td>0.748476</td>\n",
       "      <td>67.466859</td>\n",
       "      <td>fast</td>\n",
       "    </tr>\n",
       "    <tr>\n",
       "      <th>25</th>\n",
       "      <td>5326</td>\n",
       "      <td>5S</td>\n",
       "      <td>32.549325</td>\n",
       "      <td>-117.040435</td>\n",
       "      <td>0.779248</td>\n",
       "      <td>67.406588</td>\n",
       "      <td>fast</td>\n",
       "    </tr>\n",
       "    <tr>\n",
       "      <th>26</th>\n",
       "      <td>5327</td>\n",
       "      <td>5S</td>\n",
       "      <td>32.549586</td>\n",
       "      <td>-117.040948</td>\n",
       "      <td>0.814146</td>\n",
       "      <td>67.338235</td>\n",
       "      <td>fast</td>\n",
       "    </tr>\n",
       "  </tbody>\n",
       "</table>\n",
       "</div>"
      ],
      "text/plain": [
       "    usdid fwydir   latitude   longitude    abs_pm  avg_speed speed_cat\n",
       "17   5318     5S  32.544431 -117.032924  0.226163  68.489887      fast\n",
       "18   5319     5S  32.544469 -117.032980  0.230351  68.481686      fast\n",
       "19   5320     5S  32.544525 -117.033062  0.236497  68.469647      fast\n",
       "20   5321     5S  32.544693 -117.033312  0.255119  68.433174      fast\n",
       "21   5322     5S  32.544749 -117.033395  0.261311  68.421046      fast\n",
       "22   5323     5S  32.546390 -117.035804  0.441704  68.067718      fast\n",
       "23   5324     5S  32.549000 -117.039847  0.738296  67.486797      fast\n",
       "24   5325     5S  32.549081 -117.039993  0.748476  67.466859      fast\n",
       "25   5326     5S  32.549325 -117.040435  0.779248  67.406588      fast\n",
       "26   5327     5S  32.549586 -117.040948  0.814146  67.338235      fast"
      ]
     },
     "execution_count": 160,
     "metadata": {},
     "output_type": "execute_result"
    }
   ],
   "source": [
    "selhr[0:10]"
   ]
  },
  {
   "cell_type": "code",
   "execution_count": 167,
   "metadata": {},
   "outputs": [
    {
     "data": {
      "text/html": [
       "<div>\n",
       "<style scoped>\n",
       "    .dataframe tbody tr th:only-of-type {\n",
       "        vertical-align: middle;\n",
       "    }\n",
       "\n",
       "    .dataframe tbody tr th {\n",
       "        vertical-align: top;\n",
       "    }\n",
       "\n",
       "    .dataframe thead th {\n",
       "        text-align: right;\n",
       "    }\n",
       "</style>\n",
       "<table border=\"1\" class=\"dataframe\">\n",
       "  <thead>\n",
       "    <tr style=\"text-align: right;\">\n",
       "      <th></th>\n",
       "      <th>latitude</th>\n",
       "      <th>longitude</th>\n",
       "      <th>abs_pm</th>\n",
       "      <th>avg_speed</th>\n",
       "      <th>speed_cat</th>\n",
       "      <th>linegroup</th>\n",
       "    </tr>\n",
       "  </thead>\n",
       "  <tbody>\n",
       "    <tr>\n",
       "      <th>1573</th>\n",
       "      <td>33.378773</td>\n",
       "      <td>-117.566310</td>\n",
       "      <td>70.224601</td>\n",
       "      <td>63.856431</td>\n",
       "      <td>moderate</td>\n",
       "      <td>45</td>\n",
       "    </tr>\n",
       "    <tr>\n",
       "      <th>1574</th>\n",
       "      <td>33.378946</td>\n",
       "      <td>-117.566742</td>\n",
       "      <td>70.252244</td>\n",
       "      <td>63.849813</td>\n",
       "      <td>moderate</td>\n",
       "      <td>45</td>\n",
       "    </tr>\n",
       "    <tr>\n",
       "      <th>1575</th>\n",
       "      <td>33.379364</td>\n",
       "      <td>-117.567818</td>\n",
       "      <td>70.320714</td>\n",
       "      <td>63.833420</td>\n",
       "      <td>moderate</td>\n",
       "      <td>45</td>\n",
       "    </tr>\n",
       "    <tr>\n",
       "      <th>1576</th>\n",
       "      <td>33.380701</td>\n",
       "      <td>-117.571265</td>\n",
       "      <td>70.539999</td>\n",
       "      <td>63.780921</td>\n",
       "      <td>moderate</td>\n",
       "      <td>45</td>\n",
       "    </tr>\n",
       "    <tr>\n",
       "      <th>1577</th>\n",
       "      <td>33.381797</td>\n",
       "      <td>-117.574005</td>\n",
       "      <td>70.715284</td>\n",
       "      <td>63.738956</td>\n",
       "      <td>moderate</td>\n",
       "      <td>45</td>\n",
       "    </tr>\n",
       "  </tbody>\n",
       "</table>\n",
       "</div>"
      ],
      "text/plain": [
       "       latitude   longitude     abs_pm  avg_speed speed_cat  linegroup\n",
       "1573  33.378773 -117.566310  70.224601  63.856431  moderate         45\n",
       "1574  33.378946 -117.566742  70.252244  63.849813  moderate         45\n",
       "1575  33.379364 -117.567818  70.320714  63.833420  moderate         45\n",
       "1576  33.380701 -117.571265  70.539999  63.780921  moderate         45\n",
       "1577  33.381797 -117.574005  70.715284  63.738956  moderate         45"
      ]
     },
     "execution_count": 167,
     "metadata": {},
     "output_type": "execute_result"
    }
   ],
   "source": [
    "#split road(s) dataframe into groups with equal speed catergory\n",
    "def road_group_split(indf, splitcat=\"speed_cat\", keep_cols=[\"latitude\", \"longitude\", \"abs_pm\", \"avg_speed\"]):\n",
    "    \n",
    "    odict={}\n",
    "    for col in keep_cols + [splitcat]:\n",
    "        odict[col] = []\n",
    "    #lats=[]\n",
    "    #lons=[]\n",
    "    #abs_pm=[]\n",
    "    #cat=[]\n",
    "    odict[\"linegroup\"] = []\n",
    "    \n",
    "    p=0 #number holding line group\n",
    "    i0=indf.index[0]\n",
    "    \n",
    "    for col in keep_cols + [splitcat]:\n",
    "        odict[col].append(indf.loc[i0,col])\n",
    "    \n",
    "    #lats.append(indf.loc[i0, \"latitude\"])\n",
    "    #lons.append(indf.loc[i0, \"longitude\"])\n",
    "    #abs_pm.append(indf.loc[i0, \"abs_pm\"])\n",
    "    #cat.append(indf.loc[i0, splitcat])\n",
    "    #group.append(p)\n",
    "    odict[\"linegroup\"].append(p)\n",
    "    \n",
    "    for n in indf.index[1:]:\n",
    "        if indf.loc[n,splitcat] != indf.loc[i0,splitcat]:\n",
    "            for col in keep_cols:\n",
    "                odict[col].append(indf.loc[n,col])\n",
    "            odict[splitcat].append(indf.loc[i0,splitcat])\n",
    "            #end previous group with new point and speed cat from previous point\n",
    "            #lats.append(indf.loc[n,\"latitude\"])\n",
    "            #lons.append(indf.loc[n,\"longitude\"])\n",
    "            #lons.append(indf.loc[n,\"abs_pm\"])\n",
    "            #cat.append(indf.loc[i0,splitcat])\n",
    "            #group.append(p)\n",
    "            odict[\"linegroup\"].append(p)\n",
    "            p+=1\n",
    "        #start new group\n",
    "        for col in keep_cols + [splitcat]:\n",
    "            odict[col].append(indf.loc[n,col])\n",
    "        #lats.append(indf.loc[n,\"latitude\"])\n",
    "        #lons.append(indf.loc[n,\"longitude\"])\n",
    "        #cat.append(indf.loc[n,splitcat])\n",
    "        #group.append(p)        \n",
    "        odict[\"linegroup\"].append(p)\n",
    "        i0=n\n",
    "    \n",
    "    #odf=pd.DataFrame({\"latitude\": lats, \"longitude\": lons, splitcat: cat, \"linegroup\": group})\n",
    "    odf=pd.DataFrame(odict)\n",
    "    return odf\n",
    "\n",
    "selhrg=road_group_split(selhr)\n",
    "selhrg.tail()"
   ]
  },
  {
   "cell_type": "code",
   "execution_count": 169,
   "metadata": {},
   "outputs": [
    {
     "data": {
      "text/html": [
       "<div>\n",
       "<style scoped>\n",
       "    .dataframe tbody tr th:only-of-type {\n",
       "        vertical-align: middle;\n",
       "    }\n",
       "\n",
       "    .dataframe tbody tr th {\n",
       "        vertical-align: top;\n",
       "    }\n",
       "\n",
       "    .dataframe thead th {\n",
       "        text-align: right;\n",
       "    }\n",
       "</style>\n",
       "<table border=\"1\" class=\"dataframe\">\n",
       "  <thead>\n",
       "    <tr style=\"text-align: right;\">\n",
       "      <th></th>\n",
       "      <th>longitude</th>\n",
       "      <th>latitude</th>\n",
       "      <th>stype</th>\n",
       "      <th>fwy</th>\n",
       "      <th>direc</th>\n",
       "      <th>abs_pm</th>\n",
       "      <th>total_flow</th>\n",
       "      <th>avg_speed</th>\n",
       "      <th>fwdir</th>\n",
       "    </tr>\n",
       "    <tr>\n",
       "      <th>sid</th>\n",
       "      <th></th>\n",
       "      <th></th>\n",
       "      <th></th>\n",
       "      <th></th>\n",
       "      <th></th>\n",
       "      <th></th>\n",
       "      <th></th>\n",
       "      <th></th>\n",
       "      <th></th>\n",
       "    </tr>\n",
       "  </thead>\n",
       "  <tbody>\n",
       "    <tr>\n",
       "      <th>1114228</th>\n",
       "      <td>-117.032738</td>\n",
       "      <td>32.544296</td>\n",
       "      <td>ML</td>\n",
       "      <td>5</td>\n",
       "      <td>S</td>\n",
       "      <td>0.221</td>\n",
       "      <td>406.0</td>\n",
       "      <td>68.5</td>\n",
       "      <td>5S</td>\n",
       "    </tr>\n",
       "    <tr>\n",
       "      <th>1118326</th>\n",
       "      <td>-117.045806</td>\n",
       "      <td>32.551447</td>\n",
       "      <td>ML</td>\n",
       "      <td>5</td>\n",
       "      <td>S</td>\n",
       "      <td>1.140</td>\n",
       "      <td>169.0</td>\n",
       "      <td>66.7</td>\n",
       "      <td>5S</td>\n",
       "    </tr>\n",
       "    <tr>\n",
       "      <th>1118341</th>\n",
       "      <td>-117.061806</td>\n",
       "      <td>32.558188</td>\n",
       "      <td>ML</td>\n",
       "      <td>5</td>\n",
       "      <td>S</td>\n",
       "      <td>2.186</td>\n",
       "      <td>211.0</td>\n",
       "      <td>69.0</td>\n",
       "      <td>5S</td>\n",
       "    </tr>\n",
       "    <tr>\n",
       "      <th>1114721</th>\n",
       "      <td>-117.067228</td>\n",
       "      <td>32.561106</td>\n",
       "      <td>ML</td>\n",
       "      <td>5</td>\n",
       "      <td>S</td>\n",
       "      <td>2.559</td>\n",
       "      <td>304.0</td>\n",
       "      <td>66.4</td>\n",
       "      <td>5S</td>\n",
       "    </tr>\n",
       "    <tr>\n",
       "      <th>1118365</th>\n",
       "      <td>-117.076731</td>\n",
       "      <td>32.568952</td>\n",
       "      <td>ML</td>\n",
       "      <td>5</td>\n",
       "      <td>S</td>\n",
       "      <td>3.336</td>\n",
       "      <td>281.0</td>\n",
       "      <td>67.7</td>\n",
       "      <td>5S</td>\n",
       "    </tr>\n",
       "  </tbody>\n",
       "</table>\n",
       "</div>"
      ],
      "text/plain": [
       "          longitude   latitude stype  fwy direc  abs_pm  total_flow  \\\n",
       "sid                                                                   \n",
       "1114228 -117.032738  32.544296    ML    5     S   0.221       406.0   \n",
       "1118326 -117.045806  32.551447    ML    5     S   1.140       169.0   \n",
       "1118341 -117.061806  32.558188    ML    5     S   2.186       211.0   \n",
       "1114721 -117.067228  32.561106    ML    5     S   2.559       304.0   \n",
       "1118365 -117.076731  32.568952    ML    5     S   3.336       281.0   \n",
       "\n",
       "         avg_speed fwdir  \n",
       "sid                       \n",
       "1114228       68.5    5S  \n",
       "1118326       66.7    5S  \n",
       "1118341       69.0    5S  \n",
       "1114721       66.4    5S  \n",
       "1118365       67.7    5S  "
      ]
     },
     "execution_count": 169,
     "metadata": {},
     "output_type": "execute_result"
    }
   ],
   "source": [
    "sel.head()"
   ]
  },
  {
   "cell_type": "code",
   "execution_count": 186,
   "metadata": {},
   "outputs": [
    {
     "data": {
      "application/vnd.plotly.v1+json": {
       "config": {
        "plotlyServerURL": "https://plot.ly"
       },
       "data": [
        {
         "customdata": [
          [
           0.22616340419412412,
           68.48988669472315
          ],
          [
           0.23035051645955157,
           68.48168560432296
          ],
          [
           0.2364971465553082,
           68.46964650293846
          ],
          [
           0.2551186245851314,
           68.43317353182455
          ],
          [
           0.2613106099213181,
           68.4210455953663
          ],
          [
           0.4417040447991554,
           68.06771786655226
          ],
          [
           0.7382964631949437,
           67.48679691648434
          ],
          [
           0.7484761220597572,
           67.4668585204488
          ],
          [
           0.7792477231414306,
           67.4065877022257
          ],
          [
           0.8141456357269468,
           67.33823488105712
          ],
          [
           0.833593451994766,
           67.30014340196891
          ],
          [
           0.8735013669634389,
           67.22197773608902
          ],
          [
           0.8886739230146508,
           67.19225999844791
          ],
          [
           0.8936131713570282,
           67.18258573618863
          ],
          [
           0.908669609478236,
           67.15309543301325
          ],
          [
           0.913634399455908,
           67.14337114361193
          ],
          [
           0.9802666138684569,
           67.01286190972446
          ],
          [
           0.98351402493968,
           67.00650136573294
          ],
          [
           1.0804013237639842,
           66.81673298936326
          ],
          [
           1.1127227319620219,
           66.75342664033555
          ],
          [
           1.292471319045673,
           67.0352619826052
          ],
          [
           1.3210654124774934,
           67.09813618422393
          ],
          [
           1.4199438404658355,
           67.31555528974323
          ],
          [
           1.7509501303196626,
           68.04338938789219
          ],
          [
           1.930969893642316,
           68.43922634357297
          ],
          [
           2.127701199635838,
           68.87180952118779
          ],
          [
           2.1631338581171256,
           68.94972072052524
          ],
          [
           2.1750971602554303,
           68.9760262605999
          ],
          [
           2.2064068388418603,
           68.85775393836774
          ],
          [
           2.2072389901156937,
           68.85195342010509
          ],
          [
           2.2104094865623027,
           68.82985344487403
          ],
          [
           2.2115113049023547,
           68.82217320979592
          ],
          [
           2.2519570516975898,
           68.540245752242
          ],
          [
           2.2941093821519565,
           68.24642253727859
          ],
          [
           2.338428019395662,
           67.93749906051282
          ],
          [
           2.3797685331600675,
           67.64933462140436
          ],
          [
           2.4045789471660988,
           67.47639339776983
          ],
          [
           2.4661040483683117,
           67.04753210252652
          ],
          [
           2.4824560112271015,
           66.93355059198268
          ],
          [
           2.494084521908076,
           66.85249394916623
          ],
          [
           2.5918431230413903,
           66.45494988411043
          ],
          [
           2.6345856307978046,
           66.52646244535026
          ],
          [
           2.6402975063317027,
           66.53601899386257
          ],
          [
           2.6577329440187563,
           66.56519025382804
          ],
          [
           2.6635673919886482,
           66.5749518784881
          ],
          [
           2.7398838811225357,
           66.70263712414324
          ],
          [
           2.8116907927642742,
           66.8227773881513
          ],
          [
           2.850449936029474,
           66.88762537559629
          ],
          [
           2.928665498110211,
           67.01848796337616
          ],
          [
           2.9843248245352236,
           67.11161167554157
          ],
          [
           2.9894030361070336,
           67.12010803981872
          ],
          [
           3.000806640704393,
           67.13918742974995
          ],
          [
           3.0131456268627854,
           67.15983180813593
          ],
          [
           3.0214775085216403,
           67.17377189327945
          ],
          [
           3.025348641917846,
           67.18024869304145
          ],
          [
           3.0359582028569485,
           67.19799956719953
          ],
          [
           3.038488239358275,
           67.2022325755029
          ],
          [
           3.042863196260684,
           67.20955232321607
          ],
          [
           3.0484654175296786,
           67.21892540899432
          ],
          [
           3.065565886627325,
           67.24753623245242
          ],
          [
           3.0676441277828688,
           67.25101334120686
          ],
          [
           3.0845240628851736,
           67.27925518886838
          ],
          [
           3.1097132084175687,
           67.32139919040263
          ],
          [
           3.1546139860728806,
           67.3965227566213
          ],
          [
           3.227615165128024,
           67.51866115143685
          ],
          [
           3.302680515758276,
           67.6442531151683
          ],
          [
           3.3048213932648,
           67.64783502090636
          ],
          [
           3.5958449482348467,
           67.42729915477602
          ],
          [
           3.6365893572379027,
           67.38453890544749
          ],
          [
           3.6667821588916856,
           67.35285230701022
          ],
          [
           3.673052651882582,
           67.34627157973343
          ],
          [
           3.803455724372508,
           67.20941678101836
          ],
          [
           3.863007186015683,
           67.14691899518594
          ],
          [
           3.915839141496998,
           67.09147316484572
          ],
          [
           3.9507788418030865,
           67.0548048136999
          ],
          [
           3.9616443228996268,
           67.04340176007535
          ],
          [
           3.994435771844981,
           67.00898794558998
          ],
          [
           4.005443956448704,
           66.98937410239694
          ],
          [
           4.063090389256362,
           66.73873743801582
          ],
          [
           4.068729988389099,
           66.71421744178653
          ],
          [
           4.081364442771158,
           66.65928503142975
          ],
          [
           4.14132701857572,
           66.39857818010556
          ],
          [
           4.170967119961173,
           66.26970817408186
          ],
          [
           4.190723864444953,
           66.18380928502194
          ],
          [
           4.246501973112239,
           65.94129576907723
          ],
          [
           4.298257671044309,
           65.71627099545952
          ],
          [
           4.304539388409513,
           65.6889591808282
          ],
          [
           4.324572353136284,
           65.60185933419007
          ],
          [
           4.3313559830468495,
           65.57236529110065
          ],
          [
           4.337826680783325,
           65.5442318226812
          ],
          [
           4.357775113451059,
           65.45749950673452
          ],
          [
           4.364419006357562,
           65.42861301583669
          ],
          [
           4.398865866446805,
           65.27884405892694
          ],
          [
           4.432864214563023,
           65.13102515407381
          ],
          [
           4.482778161385993,
           64.91400799397394
          ]
         ],
         "hovertemplate": "speed_cat=fast<br>linegroup=0<br>latitude=%{lat}<br>longitude=%{lon}<br>abs_pm=%{customdata[0]}<br>avg_speed=%{customdata[1]}<extra></extra>",
         "lat": [
          32.544430999999996,
          32.54446899999999,
          32.544525,
          32.544692999999995,
          32.544748999999996,
          32.546389999999995,
          32.54899999999999,
          32.549081,
          32.549324999999996,
          32.54958599999999,
          32.54971299999999,
          32.54994599999999,
          32.55003899999999,
          32.55006499999999,
          32.55014599999999,
          32.550173,
          32.550556,
          32.550575,
          32.551158,
          32.551352,
          32.55251299999999,
          32.5527,
          32.55334599999999,
          32.55549299999999,
          32.556668,
          32.55795899999999,
          32.55818699999999,
          32.558264,
          32.558455999999985,
          32.558461,
          32.558481,
          32.55848799999999,
          32.55875999999999,
          32.55904499999999,
          32.55937999999999,
          32.559713999999985,
          32.559927,
          32.56045699999999,
          32.560603,
          32.560707,
          32.561548,
          32.56191599999999,
          32.561965,
          32.562117,
          32.56217,
          32.562823,
          32.56344599999999,
          32.563781999999996,
          32.564447,
          32.564962,
          32.56501099999999,
          32.56512099999999,
          32.565239999999996,
          32.56532099999999,
          32.56536299999999,
          32.56548,
          32.565508,
          32.565556,
          32.565618,
          32.565806,
          32.565829,
          32.566009,
          32.566300999999996,
          32.56684599999999,
          32.56773199999999,
          32.568654999999985,
          32.56868099999999,
          32.572238999999996,
          32.57273899999999,
          32.573109999999986,
          32.57318699999999,
          32.57478799999999,
          32.57549499999999,
          32.57609399999999,
          32.576484,
          32.57660299999999,
          32.57696299999999,
          32.57708399999999,
          32.577716999999986,
          32.577778999999985,
          32.57791799999999,
          32.578572,
          32.578907,
          32.579138,
          32.579799,
          32.580441,
          32.580522,
          32.58077999999999,
          32.58086699999999,
          32.580953,
          32.581217999999986,
          32.58130599999999,
          32.58177899999999,
          32.58224599999999,
          32.58294399999999
         ],
         "legendgroup": "fast",
         "line": {
          "color": "#636efa"
         },
         "lon": [
          -117.03292400000001,
          -117.03298000000001,
          -117.033062,
          -117.03331200000001,
          -117.03339500000001,
          -117.035804,
          -117.039847,
          -117.039993,
          -117.040435,
          -117.04094800000001,
          -117.041246,
          -117.04187300000001,
          -117.042109,
          -117.042188,
          -117.042428,
          -117.042507,
          -117.043557,
          -117.043608,
          -117.045121,
          -117.045626,
          -117.04838800000002,
          -117.048826,
          -117.050341,
          -117.05542200000001,
          -117.058181,
          -117.061192,
          -117.061737,
          -117.061921,
          -117.062408,
          -117.06242100000001,
          -117.06247,
          -117.062487,
          -117.063102,
          -117.063742,
          -117.064391,
          -117.06498,
          -117.065323,
          -117.066172,
          -117.06639300000002,
          -117.06655,
          -117.0679,
          -117.06849000000001,
          -117.068569,
          -117.068808,
          -117.068886,
          -117.069943,
          -117.07093,
          -117.07146300000001,
          -117.07255,
          -117.073285,
          -117.07335,
          -117.073496,
          -117.073654,
          -117.07376,
          -117.073804,
          -117.07392200000001,
          -117.07395000000001,
          -117.07399900000001,
          -117.07406100000001,
          -117.074252,
          -117.074275,
          -117.07447100000002,
          -117.07473,
          -117.07515000000001,
          -117.075833,
          -117.076513,
          -117.076533,
          -117.079208,
          -117.07957900000001,
          -117.079853,
          -117.07991,
          -117.081096,
          -117.081681,
          -117.082245,
          -117.082627,
          -117.082749,
          -117.083116,
          -117.083239,
          -117.08388400000001,
          -117.083947,
          -117.084088,
          -117.08476500000002,
          -117.085083,
          -117.085283,
          -117.085833,
          -117.086291,
          -117.08634,
          -117.08649700000001,
          -117.086551,
          -117.086595,
          -117.08673100000001,
          -117.086777,
          -117.086964,
          -117.087148,
          -117.087369
         ],
         "mode": "lines",
         "name": "fast",
         "showlegend": true,
         "subplot": "mapbox",
         "type": "scattermapbox"
        },
        {
         "customdata": [
          [
           17.197372342164527,
           65.02066358281921
          ],
          [
           17.40680541271771,
           60.60618594286794
          ]
         ],
         "hovertemplate": "speed_cat=fast<br>linegroup=16<br>latitude=%{lat}<br>longitude=%{lon}<br>abs_pm=%{customdata[0]}<br>avg_speed=%{customdata[1]}<extra></extra>",
         "lat": [
          32.7312,
          32.733665
         ],
         "legendgroup": "fast",
         "line": {
          "color": "#636efa"
         },
         "lon": [
          -117.17144,
          -117.173537
         ],
         "mode": "lines",
         "name": "fast",
         "showlegend": false,
         "subplot": "mapbox",
         "type": "scattermapbox"
        },
        {
         "customdata": [
          [
           18.11723283244267,
           65.2587000475802
          ],
          [
           18.138698663952123,
           65.46900718061201
          ],
          [
           18.171330872572245,
           65.78871462993077
          ],
          [
           18.198151257298854,
           66.05148191272525
          ],
          [
           18.200268980207124,
           66.07222987365087
          ],
          [
           18.218623149455087,
           66.25205112641808
          ],
          [
           18.242533192250335,
           66.48630492407422
          ],
          [
           18.253820320354784,
           66.59688827374619
          ],
          [
           18.350081064872764,
           67.50685893255927
          ],
          [
           18.38216785569769,
           67.56078631209697
          ],
          [
           18.45501739773786,
           67.68322251720649
          ],
          [
           18.545725678604594,
           67.83567340941948
          ],
          [
           18.56165885823117,
           67.8624518625734
          ],
          [
           18.59852651288283,
           67.9244143073661
          ],
          [
           18.624838506353683,
           67.96863614513224
          ],
          [
           18.669393698225086,
           68.04351882054637
          ],
          [
           18.684718964628065,
           68.06927557080347
          ],
          [
           18.746863645305716,
           68.17372041227851
          ],
          [
           18.823647709445314,
           68.29753336909384
          ],
          [
           18.857713784530546,
           68.24653625070277
          ],
          [
           18.898383331625684,
           68.18565369517113
          ],
          [
           18.93703165468877,
           68.1277969241186
          ],
          [
           18.96806642275678,
           68.08133769048386
          ],
          [
           19.00378692419392,
           68.02786388593724
          ],
          [
           19.03209800454192,
           67.98548202912886
          ],
          [
           19.056792400609616,
           67.94851437034488
          ],
          [
           19.084049843112084,
           67.90770981570047
          ],
          [
           19.111945198916942,
           67.86595030102254
          ],
          [
           19.137502254976592,
           67.82769123506498
          ],
          [
           19.160460184654216,
           67.790803742981
          ],
          [
           19.235415024604794,
           67.63625768122722
          ],
          [
           19.306387712748805,
           67.48992224175504
          ],
          [
           19.3658098065283,
           67.36740246076639
          ],
          [
           19.403708358909785,
           67.28926111564992
          ],
          [
           19.41301149302825,
           67.27007939581803
          ],
          [
           19.44109992356984,
           67.21216510604157
          ],
          [
           19.450492568878573,
           67.19279882705449
          ],
          [
           19.474067604913827,
           67.1441905053323
          ],
          [
           19.54506025922439,
           66.99781389850641
          ],
          [
           19.568724409523693,
           66.94902183603362
          ],
          [
           19.582692864267365,
           66.9202208984178
          ],
          [
           19.624646480500676,
           66.83371859690583
          ],
          [
           19.63879626728028,
           66.80454377880353
          ],
          [
           19.657593672870192,
           66.76578624150476
          ],
          [
           19.6616591255367,
           66.75740386487277
          ],
          [
           19.679561008058545,
           66.72049276688959
          ],
          [
           19.697406154577433,
           66.68369865035581
          ],
          [
           19.714626782633935,
           66.64819220075476
          ],
          [
           19.717136217423906,
           66.6430181084043
          ],
          [
           19.734093152271168,
           66.60805535614192
          ],
          [
           19.77008955335523,
           66.53383597246344
          ],
          [
           19.791444399436685,
           66.48980536198621
          ],
          [
           19.81044706628784,
           66.45062460559208
          ],
          [
           19.838398238171706,
           66.3929933233573
          ],
          [
           19.84887562748655,
           66.37139045879061
          ],
          [
           19.867132198677997,
           66.33374804396288
          ],
          [
           19.883783737462373,
           66.29941497430438
          ],
          [
           19.892899141617015,
           66.28062032656285
          ],
          [
           19.9020677976934,
           66.26171588104452
          ],
          [
           19.910093691402754,
           66.24516764659225
          ],
          [
           19.91294402260764,
           66.23929067503579
          ],
          [
           19.914235642315376,
           66.23662754161778
          ],
          [
           19.919223721678627,
           66.22634284189974
          ],
          [
           19.923663000277685,
           66.2171896901491
          ],
          [
           19.952557894537616,
           66.15761258858223
          ],
          [
           19.962283659535128,
           66.13755946487602
          ],
          [
           19.963695735232257,
           66.13464796859328
          ],
          [
           19.968146784893463,
           66.12547054661141
          ],
          [
           19.969706304473046,
           66.12225504232362
          ],
          [
           19.971186063561653,
           66.11920399265638
          ],
          [
           19.98810744343209,
           66.08431454962455
          ],
          [
           19.990312249231238,
           66.0797685582861
          ],
          [
           19.99719546566087,
           66.06557635946213
          ],
          [
           19.9996154287332,
           66.06058674488
          ],
          [
           20.011728933532755,
           66.03561044632421
          ],
          [
           20.029932885442637,
           65.99807652486054
          ],
          [
           20.16474695996532,
           65.72010936089625
          ],
          [
           20.184106257763172,
           65.68019328296253
          ],
          [
           20.223975190757592,
           65.59798929740703
          ],
          [
           20.34395645928895,
           65.35060523857948
          ],
          [
           20.383972699998356,
           65.26809752577658
          ],
          [
           20.40381963288575,
           65.22717601466856
          ],
          [
           20.46359722177072,
           65.103923254081
          ],
          [
           20.483602110467793,
           65.06267606089115
          ],
          [
           20.49076764299796,
           65.04790176701452
          ],
          [
           20.512277502716405,
           65.00355154079092
          ],
          [
           20.519456446718156,
           64.98874959439556
          ]
         ],
         "hovertemplate": "speed_cat=fast<br>linegroup=20<br>latitude=%{lat}<br>longitude=%{lon}<br>abs_pm=%{customdata[0]}<br>avg_speed=%{customdata[1]}<extra></extra>",
         "lat": [
          32.7417,
          32.741873999999996,
          32.74211199999999,
          32.74229499999999,
          32.742308,
          32.742443,
          32.742609,
          32.742688,
          32.743362999999995,
          32.743587999999995,
          32.744088999999995,
          32.74471499999999,
          32.74482799999999,
          32.745087999999996,
          32.745267999999996,
          32.745582999999996,
          32.745692999999996,
          32.74613699999999,
          32.74666599999999,
          32.746891999999995,
          32.74719499999999,
          32.74750699999999,
          32.747779,
          32.748103,
          32.74837999999999,
          32.74862799999999,
          32.748917999999996,
          32.749211999999986,
          32.749493,
          32.74975299999999,
          32.750634999999996,
          32.751469,
          32.752134999999996,
          32.75253599999999,
          32.75262699999999,
          32.75290199999999,
          32.752994,
          32.753219,
          32.753897,
          32.754122999999986,
          32.754256999999996,
          32.75466099999999,
          32.754798,
          32.75499099999999,
          32.75503299999999,
          32.75522099999999,
          32.755417,
          32.75561499999999,
          32.75564399999999,
          32.755846999999996,
          32.75631299999999,
          32.75659699999999,
          32.756848999999995,
          32.757228999999995,
          32.75737199999999,
          32.757629,
          32.757865999999986,
          32.75799399999999,
          32.75812299999999,
          32.75823599999999,
          32.758275999999995,
          32.75829399999999,
          32.758364,
          32.75842699999999,
          32.758836999999986,
          32.75897499999999,
          32.75899499999999,
          32.759057999999996,
          32.75907999999999,
          32.759101,
          32.75934099999999,
          32.75937199999999,
          32.759468999999996,
          32.759502999999995,
          32.75967399999999,
          32.759931,
          32.76183799999999,
          32.76211099999999,
          32.762675,
          32.764372,
          32.764938,
          32.76521999999999,
          32.766069,
          32.766352999999995,
          32.766453999999996,
          32.76675699999999,
          32.76685799999999
         ],
         "legendgroup": "fast",
         "line": {
          "color": "#636efa"
         },
         "lon": [
          -117.18109500000001,
          -117.18140100000001,
          -117.181886,
          -117.18229300000002,
          -117.18232600000002,
          -117.182598,
          -117.182959,
          -117.18312900000001,
          -117.184578,
          -117.185061,
          -117.186164,
          -117.187536,
          -117.187775,
          -117.18832900000001,
          -117.18872800000001,
          -117.189397,
          -117.189626,
          -117.190556,
          -117.19171800000001,
          -117.192239,
          -117.192839,
          -117.193391,
          -117.193816,
          -117.19429500000001,
          -117.194654,
          -117.19496,
          -117.195278,
          -117.195607,
          -117.195893,
          -117.196139,
          -117.19689000000001,
          -117.19760300000002,
          -117.19825,
          -117.198695,
          -117.198813,
          -117.199169,
          -117.199288,
          -117.199593,
          -117.200511,
          -117.200817,
          -117.200997,
          -117.201536,
          -117.201717,
          -117.20194500000001,
          -117.201994,
          -117.202206,
          -117.20240600000001,
          -117.202586,
          -117.202612,
          -117.20277600000001,
          -117.203053,
          -117.203198,
          -117.203329,
          -117.203494,
          -117.203554,
          -117.203627,
          -117.20367900000001,
          -117.20371700000001,
          -117.20375400000002,
          -117.20378600000001,
          -117.203798,
          -117.203804,
          -117.203825,
          -117.20384,
          -117.203938,
          -117.203971,
          -117.203976,
          -117.203992,
          -117.203998,
          -117.20400300000001,
          -117.204061,
          -117.20407,
          -117.204097,
          -117.20410700000001,
          -117.204153,
          -117.204222,
          -117.204713,
          -117.204788,
          -117.204933,
          -117.205371,
          -117.205517,
          -117.205582,
          -117.20578,
          -117.205847,
          -117.205875,
          -117.20596,
          -117.205989
         ],
         "mode": "lines",
         "name": "fast",
         "showlegend": false,
         "subplot": "mapbox",
         "type": "scattermapbox"
        },
        {
         "customdata": [
          [
           21.843805089913314,
           65.01688494537721
          ],
          [
           21.936280762708286,
           65.29111264065061
          ],
          [
           21.95347444675028,
           65.34209885362523
          ],
          [
           21.961337111877825,
           65.36541482929175
          ],
          [
           21.99017563067827,
           65.30991117318125
          ],
          [
           22.00021838069824,
           65.25723540340718
          ],
          [
           22.024110996538578,
           65.1319149554419
          ],
          [
           22.03053693820955,
           65.0982099022076
          ],
          [
           22.040694321200384,
           65.04493286485545
          ],
          [
           22.06937093333131,
           64.894519619927
          ]
         ],
         "hovertemplate": "speed_cat=fast<br>linegroup=22<br>latitude=%{lat}<br>longitude=%{lon}<br>abs_pm=%{customdata[0]}<br>avg_speed=%{customdata[1]}<extra></extra>",
         "lat": [
          32.78571,
          32.78703099999999,
          32.787278,
          32.78739099999999,
          32.787805999999996,
          32.787950999999985,
          32.788295999999995,
          32.788388999999995,
          32.788536,
          32.78895099999999
         ],
         "legendgroup": "fast",
         "line": {
          "color": "#636efa"
         },
         "lon": [
          -117.207521,
          -117.207265,
          -117.207229,
          -117.207213,
          -117.20716000000002,
          -117.20714800000002,
          -117.20712000000002,
          -117.20712100000001,
          -117.20712300000001,
          -117.207116
         ],
         "mode": "lines",
         "name": "fast",
         "showlegend": false,
         "subplot": "mapbox",
         "type": "scattermapbox"
        },
        {
         "customdata": [
          [
           23.417685627552853,
           65.13136761282209
          ],
          [
           23.421724869888216,
           65.16218650726398
          ],
          [
           23.462935789305426,
           65.47662047034983
          ],
          [
           23.501684170384053,
           65.60398761308235
          ],
          [
           23.59345409867253,
           65.8714153182175
          ],
          [
           23.62479410536716,
           65.96274355858529
          ],
          [
           23.77264850136193,
           66.39360759599336
          ],
          [
           23.83726425468426,
           66.5819050366566
          ],
          [
           23.861375568350674,
           66.65216806727958
          ],
          [
           23.933533045784397,
           66.86244292483184
          ],
          [
           23.957674809192188,
           66.93279468936375
          ],
          [
           24.109233768774832,
           67.3744542341598
          ],
          [
           24.13296207978966,
           67.38523175344636
          ],
          [
           24.152919799430272,
           67.36553258538653
          ],
          [
           24.2684357043175,
           67.2515131851277
          ],
          [
           24.350121844820595,
           67.17088528580324
          ],
          [
           24.444535000115632,
           67.07769524973165
          ],
          [
           24.493315185834536,
           67.02954700966363
          ],
          [
           24.707670449182835,
           66.81796871147901
          ],
          [
           24.83521462094797,
           66.69207687013156
          ],
          [
           24.842721470338788,
           66.68466727171989
          ],
          [
           24.883067146566418,
           66.64484427235887
          ],
          [
           24.895472474145578,
           66.63259965537759
          ],
          [
           24.914368423079004,
           66.61394850282147
          ],
          [
           24.937661065467754,
           66.59095761582455
          ],
          [
           24.94900289930681,
           66.57976271505805
          ],
          [
           24.967251486701212,
           66.56175053749418
          ],
          [
           24.97452572418136,
           66.55457053751377
          ],
          [
           24.98767675052109,
           66.54158988227407
          ],
          [
           25.00056718672607,
           66.52886644123275
          ],
          [
           25.010461748102447,
           66.51910006356329
          ],
          [
           25.037532521581152,
           66.4923799910365
          ],
          [
           25.044235226065005,
           66.48576411986181
          ],
          [
           25.06181382464095,
           66.46841325143399
          ],
          [
           25.08687059826556,
           66.44368108746151
          ],
          [
           25.113977495418073,
           66.41692535924187
          ],
          [
           25.134237588102145,
           66.39692773537111
          ],
          [
           25.15373848487952,
           66.37767947204983
          ],
          [
           25.19471799554189,
           66.33723084955767
          ],
          [
           25.20526645897873,
           66.32681904110675
          ],
          [
           25.238972761418204,
           66.29354940267173
          ],
          [
           25.40825866348471,
           66.12645659372268
          ],
          [
           25.464578371363718,
           66.07086650574833
          ],
          [
           25.519649453662076,
           66.0165088674526
          ],
          [
           25.55873705437292,
           65.97792764528275
          ],
          [
           25.575848245094313,
           65.96103812945657
          ],
          [
           25.602834919669306,
           65.93440106633504
          ],
          [
           25.623200735994658,
           65.91429908846918
          ],
          [
           25.647855398227268,
           65.88996382654928
          ],
          [
           25.690010654832626,
           65.84835468986292
          ],
          [
           25.713616361386784,
           65.82505479443624
          ],
          [
           25.74879363719977,
           65.82755785359242
          ],
          [
           25.77432412190678,
           65.89939687982427
          ],
          [
           25.82914754561071,
           66.05366192487861
          ],
          [
           25.879140874860152,
           66.19433579506102
          ],
          [
           25.887343761243542,
           66.21741750999264
          ],
          [
           25.909437224759586,
           66.27958526447502
          ],
          [
           25.916844656552193,
           66.30042868726807
          ],
          [
           25.92590026416325,
           66.32590983422558
          ],
          [
           25.953345591322545,
           66.40313694527988
          ],
          [
           25.962486765674296,
           66.42885886445147
          ],
          [
           26.04002627601054,
           66.64704363379589
          ],
          [
           26.049064551794753,
           66.67247601154367
          ],
          [
           26.115312323659406,
           66.8588874908165
          ],
          [
           26.11728410535964,
           66.86443579430201
          ],
          [
           26.159212400731136,
           66.98241584621314
          ],
          [
           26.17979499763462,
           67.04033224442641
          ],
          [
           26.20389102742497,
           67.06489466698251
          ],
          [
           26.22883913787058,
           66.76195332585725
          ],
          [
           26.27963012560019,
           66.145205617712
          ],
          [
           26.289028431281082,
           66.031083334444
          ],
          [
           26.298978547301672,
           65.91026049705111
          ],
          [
           26.309688641820646,
           65.78020934932073
          ],
          [
           26.330368413379798,
           65.52909783753103
          ],
          [
           26.350402426270154,
           65.28582768100526
          ],
          [
           26.36726509962328,
           65.08106664743161
          ],
          [
           26.378423150690747,
           64.94557602732664
          ]
         ],
         "hovertemplate": "speed_cat=fast<br>linegroup=24<br>latitude=%{lat}<br>longitude=%{lon}<br>abs_pm=%{customdata[0]}<br>avg_speed=%{customdata[1]}<extra></extra>",
         "lat": [
          32.80671699999999,
          32.80676799999999,
          32.807249999999996,
          32.807715,
          32.808804999999985,
          32.809187,
          32.810946,
          32.81174099999999,
          32.812038,
          32.81292599999999,
          32.813223,
          32.815077999999986,
          32.815345,
          32.815568999999996,
          32.81690499999999,
          32.817824,
          32.81885799999999,
          32.81938799999999,
          32.821725,
          32.82311899999999,
          32.82320299999999,
          32.82365699999999,
          32.823802,
          32.824027,
          32.82430999999999,
          32.824452,
          32.824684999999995,
          32.82477999999999,
          32.824951999999996,
          32.825123999999995,
          32.82525299999999,
          32.82561299999999,
          32.825704,
          32.82594199999999,
          32.826287,
          32.82666499999999,
          32.826951,
          32.827228999999996,
          32.82781599999999,
          32.82796799999999,
          32.82845499999999,
          32.830905,
          32.83171999999999,
          32.832516999999996,
          32.83308199999999,
          32.833328,
          32.833714,
          32.834002999999996,
          32.83435,
          32.83493699999999,
          32.835260999999996,
          32.835737,
          32.83608699999999,
          32.836832,
          32.837513,
          32.837621999999996,
          32.83791999999999,
          32.83802,
          32.83814199999999,
          32.838512,
          32.83863499999999,
          32.83967899999999,
          32.83980199999999,
          32.840703999999995,
          32.84073099999999,
          32.841308999999995,
          32.84159799999999,
          32.841938999999996,
          32.842296999999995,
          32.843030999999996,
          32.843167,
          32.843310999999986,
          32.84346599999999,
          32.84376499999999,
          32.844053999999986,
          32.84429699999999,
          32.844457999999996
         ],
         "legendgroup": "fast",
         "line": {
          "color": "#636efa"
         },
         "lon": [
          -117.21600300000001,
          -117.21603700000001,
          -117.216455,
          -117.216828,
          -117.21773100000001,
          -117.218022,
          -117.219472,
          -117.220058,
          -117.220276,
          -117.22093,
          -117.221149,
          -117.222542,
          -117.222799,
          -117.223016,
          -117.22421200000001,
          -117.225097,
          -117.22616,
          -117.226715,
          -117.229143,
          -117.230583,
          -117.23066500000002,
          -117.231102,
          -117.231228,
          -117.231413,
          -117.231631,
          -117.231729,
          -117.231877,
          -117.23193100000002,
          -117.232028,
          -117.232114,
          -117.232188,
          -117.232372,
          -117.23241200000001,
          -117.232519,
          -117.232652,
          -117.232777,
          -117.23285400000002,
          -117.232912,
          -117.233013,
          -117.23303,
          -117.233064,
          -117.233091,
          -117.233074,
          -117.233085,
          -117.233119,
          -117.233153,
          -117.233224,
          -117.23329300000002,
          -117.233392,
          -117.23359,
          -117.233719,
          -117.233934,
          -117.234075,
          -117.2344,
          -117.234691,
          -117.234747,
          -117.234885,
          -117.23493100000002,
          -117.23498800000002,
          -117.23516,
          -117.235218,
          -117.235708,
          -117.235761,
          -117.23614800000001,
          -117.236159,
          -117.236379,
          -117.236465,
          -117.236552,
          -117.236608,
          -117.23665600000001,
          -117.236659,
          -117.23665700000001,
          -117.236655,
          -117.23663900000001,
          -117.23661100000001,
          -117.23658400000001,
          -117.236569
         ],
         "mode": "lines",
         "name": "fast",
         "showlegend": false,
         "subplot": "mapbox",
         "type": "scattermapbox"
        },
        {
         "customdata": [
          [
           28.06655166890518,
           65.10324511120695
          ],
          [
           28.09594370397024,
           65.27613943511905
          ],
          [
           28.106979093448725,
           65.34105349087486
          ],
          [
           28.12398476749383,
           65.44108686761076
          ],
          [
           28.301921027494604,
           66.48777074996825
          ],
          [
           28.340661897984088,
           66.71565822343581
          ],
          [
           28.363906248118937,
           66.8010535782475
          ],
          [
           28.612532706792226,
           66.8304652255669
          ],
          [
           28.875396855826157,
           66.86156114225072
          ],
          [
           29.026966879058502,
           66.87949135004635
          ],
          [
           29.062043519306016,
           66.88364079487059
          ],
          [
           29.167025714733832,
           66.89605982429816
          ],
          [
           29.202166569977052,
           66.90021686553357
          ],
          [
           29.407161016548162,
           66.92446699722572
          ],
          [
           29.467207710513833,
           66.93157031275794
          ],
          [
           29.53716715135009,
           66.9398462718474
          ],
          [
           29.64515527100544,
           66.95262089168045
          ],
          [
           29.703973502650545,
           66.95957888438295
          ],
          [
           29.801026489304924,
           66.97105991592723
          ],
          [
           29.855819073840603,
           66.97754168854581
          ],
          [
           29.879576791598605,
           66.98035214411655
          ],
          [
           29.900494031984163,
           66.98282658107068
          ],
          [
           30.010835702886318,
           66.99587961784933
          ],
          [
           30.113474234967356,
           67.00802140003556
          ],
          [
           30.117697950255135,
           67.00852105089768
          ],
          [
           30.317826485413175,
           67.03219556215456
          ],
          [
           30.332529690306163,
           67.03393490027281
          ],
          [
           30.349436487705432,
           67.03593491573803
          ],
          [
           30.378293662411643,
           67.03934861937046
          ],
          [
           30.403412854950844,
           67.04232013268346
          ],
          [
           30.422143755002786,
           67.04453593316279
          ],
          [
           30.43244127507976,
           67.04575409405517
          ],
          [
           30.434169582035445,
           67.04595854677075
          ],
          [
           30.446194059594156,
           67.04738100074063
          ],
          [
           30.46340074221176,
           67.04941649158656
          ],
          [
           30.473767338148903,
           67.0506428239135
          ],
          [
           30.478466042307208,
           67.05119866431079
          ],
          [
           30.492768830980953,
           67.05289063457975
          ],
          [
           30.497605711553028,
           67.05346282076731
          ],
          [
           30.509420669982394,
           67.05486048935123
          ],
          [
           30.540578870165067,
           67.05854639631289
          ],
          [
           30.57734715367958,
           67.06289595666556
          ],
          [
           30.60335714262816,
           67.06597284810269
          ],
          [
           30.626807963666675,
           67.06874699885647
          ],
          [
           30.635417730636842,
           67.06976550441287
          ],
          [
           30.669154845177268,
           67.07375648799415
          ],
          [
           30.73186385922322,
           67.08117474675353
          ],
          [
           30.792384583048474,
           67.08833413837324
          ],
          [
           30.854579539136804,
           67.09569158586002
          ],
          [
           30.88371522212574,
           67.09913823605588
          ],
          [
           30.888368537897644,
           67.09968870716455
          ],
          [
           30.90305883052086,
           66.88835521942978
          ],
          [
           30.908087499428287,
           66.80009694880961
          ],
          [
           30.95995710514767,
           65.88973244026536
          ],
          [
           30.967712327359074,
           65.75362037696317
          ],
          [
           31.013071924740515,
           64.95751315761542
          ]
         ],
         "hovertemplate": "speed_cat=fast<br>linegroup=26<br>latitude=%{lat}<br>longitude=%{lon}<br>abs_pm=%{customdata[0]}<br>avg_speed=%{customdata[1]}<extra></extra>",
         "lat": [
          32.867782999999996,
          32.86820699999999,
          32.868366,
          32.868611,
          32.87117599999999,
          32.871735,
          32.87207099999999,
          32.875658,
          32.879449,
          32.881636,
          32.882142,
          32.88365699999999,
          32.88416399999999,
          32.887122999999995,
          32.887987999999986,
          32.88899599999999,
          32.89055299999999,
          32.891401,
          32.892803,
          32.893588,
          32.89392399999999,
          32.894218999999985,
          32.895747,
          32.89715499999999,
          32.897213,
          32.89997499999999,
          32.90017999999999,
          32.900415999999986,
          32.90083099999999,
          32.90119299999999,
          32.901462999999985,
          32.901612,
          32.901637,
          32.901810999999995,
          32.90205999999999,
          32.90220999999999,
          32.902277999999995,
          32.90248499999999,
          32.902554999999985,
          32.902726,
          32.90317499999999,
          32.903701999999996,
          32.90407299999999,
          32.90440499999999,
          32.904524999999985,
          32.90500699999999,
          32.905865999999996,
          32.906660999999986,
          32.907513,
          32.907913,
          32.907973999999996,
          32.908163,
          32.908228,
          32.90889899999999,
          32.90899799999999,
          32.90957499999999
         ],
         "legendgroup": "fast",
         "line": {
          "color": "#636efa"
         },
         "lon": [
          -117.229778,
          -117.22973700000001,
          -117.229719,
          -117.229691,
          -117.22941700000001,
          -117.22936500000002,
          -117.22934500000001,
          -117.229004,
          -117.228623,
          -117.228419,
          -117.22837,
          -117.228232,
          -117.22818400000001,
          -117.227926,
          -117.227826,
          -117.227712,
          -117.22755000000001,
          -117.227461,
          -117.227358,
          -117.227224,
          -117.227137,
          -117.227056,
          -117.226503,
          -117.22593900000001,
          -117.225916,
          -117.224877,
          -117.224809,
          -117.224732,
          -117.22467600000002,
          -117.224636,
          -117.224607,
          -117.22460300000002,
          -117.224604,
          -117.2246,
          -117.22459500000001,
          -117.224591,
          -117.22459,
          -117.224592,
          -117.224593,
          -117.224593,
          -117.22464300000001,
          -117.224731,
          -117.224807,
          -117.224891,
          -117.224931,
          -117.225024,
          -117.225373,
          -117.22581100000001,
          -117.226157,
          -117.226316,
          -117.22635000000001,
          -117.22646600000002,
          -117.226505,
          -117.226906,
          -117.226969,
          -117.227342
         ],
         "mode": "lines",
         "name": "fast",
         "showlegend": false,
         "subplot": "mapbox",
         "type": "scattermapbox"
        },
        {
         "customdata": [
          [
           31.377613271626405,
           65.46345338800762
          ],
          [
           31.39652711642445,
           65.67195246452151
          ],
          [
           31.41858559073098,
           65.91511674821554
          ],
          [
           31.44062521606474,
           66.15807324795776
          ],
          [
           31.46616213420278,
           66.43958258176293
          ],
          [
           31.492552167788304,
           66.73049633782384
          ],
          [
           31.5180301066477,
           66.975052104626
          ],
          [
           31.54269744218346,
           66.37764007211932
          ],
          [
           31.564777159138835,
           65.84289692710632
          ],
          [
           31.569183018323933,
           65.73619252496722
          ],
          [
           31.62893960738656,
           64.28896263360674
          ]
         ],
         "hovertemplate": "speed_cat=fast<br>linegroup=28<br>latitude=%{lat}<br>longitude=%{lon}<br>abs_pm=%{customdata[0]}<br>avg_speed=%{customdata[1]}<extra></extra>",
         "lat": [
          32.914175,
          32.91440099999999,
          32.914659,
          32.914909,
          32.915189999999996,
          32.91546799999999,
          32.915725,
          32.91596299999999,
          32.91616599999999,
          32.916204,
          32.916769999999985
         ],
         "legendgroup": "fast",
         "line": {
          "color": "#636efa"
         },
         "lon": [
          -117.230416,
          -117.2306,
          -117.230824,
          -117.23106,
          -117.231346,
          -117.231658,
          -117.23197300000001,
          -117.23229,
          -117.232584,
          -117.232645,
          -117.233424
         ],
         "mode": "lines",
         "name": "fast",
         "showlegend": false,
         "subplot": "mapbox",
         "type": "scattermapbox"
        },
        {
         "customdata": [
          [
           54.672978275916684,
           65.0636005243965
          ],
          [
           54.688171561246435,
           65.18976384780609
          ],
          [
           54.73371783711706,
           65.56797497252686
          ],
          [
           54.748993726103784,
           65.69482422736358
          ],
          [
           54.81294424759964,
           66.2258621267108
          ],
          [
           54.88854476929294,
           66.52058359983833
          ],
          [
           54.956161562821706,
           66.34477993666356
          ],
          [
           55.14988823219848,
           65.84109059628395
          ],
          [
           55.15776630534929,
           65.82060760609183
          ],
          [
           55.17352135412401,
           65.77964447927755
          ],
          [
           55.2121820340714,
           65.67912671141436
          ],
          [
           55.25492912679519,
           65.56798427033249
          ],
          [
           55.28793611570047,
           65.48216609917877
          ],
          [
           55.322519693870134,
           65.39224879593763
          ],
          [
           55.352372426542296,
           65.31463169099003
          ],
          [
           55.38780616978,
           65.22250395857199
          ],
          [
           55.48334073748773,
           64.9741140825319
          ]
         ],
         "hovertemplate": "speed_cat=fast<br>linegroup=42<br>latitude=%{lat}<br>longitude=%{lon}<br>abs_pm=%{customdata[0]}<br>avg_speed=%{customdata[1]}<extra></extra>",
         "lat": [
          33.21460499999999,
          33.21481599999999,
          33.215447999999995,
          33.215659999999986,
          33.21655799999999,
          33.217621,
          33.21856799999999,
          33.221282999999985,
          33.221392,
          33.221600999999986,
          33.222104,
          33.222656,
          33.223062999999996,
          33.22345099999999,
          33.22375999999999,
          33.224139,
          33.225152
         ],
         "legendgroup": "fast",
         "line": {
          "color": "#636efa"
         },
         "lon": [
          -117.389897,
          -117.38997100000002,
          -117.390195,
          -117.39027,
          -117.390538,
          -117.390848,
          -117.391143,
          -117.39198,
          -117.39202000000002,
          -117.392129,
          -117.39242200000001,
          -117.392756,
          -117.393055,
          -117.393433,
          -117.393794,
          -117.39420700000001,
          -117.395332
         ],
         "mode": "lines",
         "name": "fast",
         "showlegend": false,
         "subplot": "mapbox",
         "type": "scattermapbox"
        },
        {
         "customdata": [
          [
           56.244988208140235,
           65.27706108686279
          ],
          [
           56.29576151329968,
           65.44461299388895
          ],
          [
           56.40408817172328,
           65.80209096668683
          ],
          [
           56.41274642759887,
           65.83066321107627
          ],
          [
           56.41926797772942,
           65.85218432650709
          ],
          [
           56.43346927887782,
           65.89904862029682
          ],
          [
           56.438821940434,
           65.91671240343221
          ],
          [
           56.447671005624834,
           65.94591431856196
          ],
          [
           56.47398759715572,
           66.03275907061388
          ],
          [
           56.48041918377652,
           66.05398330646253
          ],
          [
           56.48466379013937,
           66.06799050745994
          ],
          [
           56.49225361351889,
           66.09303692461235
          ],
          [
           56.65362079800698,
           66.62554863342305
          ],
          [
           56.694194243646116,
           66.7594410040322
          ],
          [
           56.92449926008314,
           67.4356205168249
          ],
          [
           56.97658957443917,
           67.54185501245242
          ],
          [
           57.02601492747928,
           67.64265450879527
          ],
          [
           57.03530065923356,
           67.66159209904873
          ],
          [
           57.10235227837908,
           67.7983391129417
          ],
          [
           57.118624293092466,
           67.83152473098396
          ],
          [
           57.139961061170546,
           67.87503955371288
          ],
          [
           57.15989648050012,
           67.91569642522118
          ],
          [
           57.178844097360056,
           67.95433874376626
          ],
          [
           57.19100796272122,
           67.97914608304804
          ],
          [
           57.214877780866296,
           68.02782688144045
          ],
          [
           57.22845359950173,
           68.05551379911977
          ],
          [
           57.23181949946602,
           68.06237831298304
          ],
          [
           57.249763947323665,
           68.09897473961318
          ],
          [
           57.27661463768641,
           68.15373481513204
          ],
          [
           57.4173471188699,
           68.440748712855
          ],
          [
           57.49280792465078,
           68.59464566550126
          ],
          [
           57.53239906015123,
           68.67538897379585
          ],
          [
           57.564665603086866,
           68.74119429589436
          ],
          [
           57.59629369935839,
           68.80569755137674
          ],
          [
           57.63212149586255,
           68.8787657971364
          ],
          [
           58.05594910083168,
           69.74313208871179
          ],
          [
           58.084948357819556,
           69.80227401322819
          ],
          [
           58.10136311780889,
           69.8357507501201
          ],
          [
           58.11056484300634,
           69.85451701496874
          ],
          [
           58.27453272775532,
           70.18891786761792
          ],
          [
           58.286643868080134,
           70.21361767793364
          ],
          [
           58.3292374837506,
           70.29927623999816
          ],
          [
           58.58907531957541,
           69.50738950224638
          ],
          [
           58.6603727336906,
           69.29010214494294
          ],
          [
           58.785754541034834,
           68.90798616065574
          ],
          [
           58.886817106726284,
           68.59998596045322
          ],
          [
           58.929943642765984,
           68.46855270776081
          ],
          [
           58.95993406649823,
           68.37715332114826
          ],
          [
           59.03085478315582,
           68.16101399419179
          ],
          [
           59.22217739026881,
           67.5779355725141
          ],
          [
           59.43715343805965,
           66.92277047448486
          ],
          [
           59.60567081628532,
           66.4091937027495
          ],
          [
           59.66496379689816,
           66.22849128564371
          ],
          [
           59.687848774295134,
           66.15874659262435
          ],
          [
           59.73997676824025,
           65.99988032536307
          ],
          [
           59.77095361455313,
           65.90547469850475
          ],
          [
           59.799982626885274,
           65.81700532758774
          ],
          [
           59.83070350821435,
           65.72337978448961
          ],
          [
           59.85953400934432,
           65.6355154000935
          ],
          [
           59.89609020781092,
           65.52410603333814
          ],
          [
           60.11115782365977,
           64.8686618707512
          ]
         ],
         "hovertemplate": "speed_cat=fast<br>linegroup=44<br>latitude=%{lat}<br>longitude=%{lon}<br>abs_pm=%{customdata[0]}<br>avg_speed=%{customdata[1]}<extra></extra>",
         "lat": [
          33.23323599999999,
          33.233772,
          33.234915,
          33.23500599999999,
          33.235075,
          33.235224999999986,
          33.235281,
          33.23537499999999,
          33.23565399999999,
          33.235721999999996,
          33.235766999999996,
          33.235846999999985,
          33.23751699999999,
          33.23790499999999,
          33.239854,
          33.240311999999996,
          33.240771999999986,
          33.24086499999999,
          33.24157499999999,
          33.241763999999996,
          33.242018,
          33.24226099999999,
          33.242495999999996,
          33.24264999999999,
          33.242955,
          33.243131999999996,
          33.24317599999999,
          33.24341299999999,
          33.24377299999999,
          33.24568699999999,
          33.246697999999995,
          33.247225,
          33.24764299999999,
          33.248053999999996,
          33.248492999999996,
          33.253599,
          33.25394899999999,
          33.254146999999996,
          33.254258,
          33.256236,
          33.256381999999995,
          33.25689599999999,
          33.26003099999999,
          33.260891,
          33.26239799999999,
          33.263618,
          33.264120999999996,
          33.26444899999999,
          33.265178999999996,
          33.266996999999996,
          33.26906999999999,
          33.27066099999999,
          33.27123499999999,
          33.27145699999999,
          33.27195199999999,
          33.27226999999999,
          33.272596,
          33.272942,
          33.27328099999999,
          33.273724,
          33.27635
         ],
         "legendgroup": "fast",
         "line": {
          "color": "#636efa"
         },
         "lon": [
          -117.404291,
          -117.404892,
          -117.406175,
          -117.40627800000001,
          -117.406355,
          -117.406523,
          -117.406587,
          -117.40669100000001,
          -117.40700100000001,
          -117.40707700000002,
          -117.407127,
          -117.407217,
          -117.409169,
          -117.40969600000001,
          -117.412929,
          -117.413645,
          -117.4143,
          -117.414416,
          -117.415207,
          -117.415375,
          -117.41558500000001,
          -117.415771,
          -117.41594,
          -117.416042,
          -117.416236,
          -117.416338,
          -117.416363,
          -117.41649000000001,
          -117.416665,
          -117.417498,
          -117.417992,
          -117.418261,
          -117.41851,
          -117.418751,
          -117.419081,
          -117.423146,
          -117.423423,
          -117.42358,
          -117.423668,
          -117.425236,
          -117.425352,
          -117.425759,
          -117.428243,
          -117.42892499999999,
          -117.43013400000001,
          -117.43109900000002,
          -117.431541,
          -117.431881,
          -117.432744,
          -117.435242,
          -117.438017,
          -117.440228,
          -117.440991,
          -117.44128500000001,
          -117.441966,
          -117.442344,
          -117.442661,
          -117.44299500000001,
          -117.443286,
          -117.443632,
          -117.445631
         ],
         "mode": "lines",
         "name": "fast",
         "showlegend": false,
         "subplot": "mapbox",
         "type": "scattermapbox"
        },
        {
         "customdata": [
          [
           4.482778161385993,
           64.91400799397394
          ],
          [
           4.512004581574553,
           64.78693660184977
          ],
          [
           4.5427429237982855,
           64.65329163565963
          ],
          [
           4.552226595586858,
           64.61205828005714
          ],
          [
           4.66784946695228,
           64.40364668423348
          ],
          [
           4.738164051235621,
           64.32824230430496
          ],
          [
           4.794493092360945,
           64.2678358258864
          ],
          [
           4.817334526456718,
           64.24334099039494
          ],
          [
           4.819914731613807,
           64.24057401435516
          ],
          [
           4.927271990905316,
           64.12544558616052
          ],
          [
           4.929715352228669,
           64.1228253595403
          ],
          [
           4.9303399111434665,
           64.12215559126706
          ],
          [
           4.932288487806477,
           64.12006596481879
          ],
          [
           4.932989162161487,
           64.1193145714086
          ],
          [
           4.933963450487873,
           64.11826975818995
          ],
          [
           4.937030746462256,
           64.11498043274825
          ],
          [
           4.938081757972565,
           64.11385334265677
          ],
          [
           4.954666435700126,
           64.09606816546903
          ],
          [
           5.004580403682527,
           64.04254112205628
          ],
          [
           5.021249047547373,
           64.02466590075349
          ],
          [
           5.028213339770778,
           64.01719749086244
          ],
          [
           5.049128830451616,
           63.994768010239554
          ],
          [
           5.056100660401903,
           63.98729151699528
          ],
          [
           5.0662620899806745,
           63.97639454157569
          ],
          [
           5.09688356476892,
           63.94355649890733
          ],
          [
           5.10712070780825,
           63.93257832942815
          ],
          [
           5.10823231485856,
           63.93138625752434
          ],
          [
           5.111779557513057,
           63.92758224395383
          ],
          [
           5.11303543901457,
           63.92623545413987
          ],
          [
           5.124528352239855,
           63.91391061421999
          ],
          [
           5.159364592144815,
           63.87655271619859
          ],
          [
           5.171002019174087,
           63.86407290168999
          ],
          [
           5.174223203715984,
           63.86061854829385
          ],
          [
           5.184256699636349,
           63.84985876714601
          ],
          [
           5.187546076511557,
           63.8463312852423
          ],
          [
           5.216133687153056,
           63.815674330130776
          ],
          [
           5.291836749732616,
           63.73449142119827
          ],
          [
           5.317107580498538,
           63.70739133458602
          ],
          [
           5.318766841689061,
           63.705611966017095
          ],
          [
           5.4059831134529315,
           57.695048082658545
          ]
         ],
         "hovertemplate": "speed_cat=moderate<br>linegroup=1<br>latitude=%{lat}<br>longitude=%{lon}<br>abs_pm=%{customdata[0]}<br>avg_speed=%{customdata[1]}<extra></extra>",
         "lat": [
          32.58294399999999,
          32.58335799999999,
          32.583798,
          32.58393499999999,
          32.58560599999999,
          32.586622999999996,
          32.58743599999999,
          32.587763999999986,
          32.58780099999999,
          32.58934599999999,
          32.589380999999996,
          32.58939,
          32.589418,
          32.58942799999999,
          32.58944199999999,
          32.589486,
          32.58950099999999,
          32.589739,
          32.59045499999999,
          32.59069399999999,
          32.590793999999995,
          32.59109399999999,
          32.591194,
          32.591339999999995,
          32.591779999999986,
          32.59192699999999,
          32.591943,
          32.591993999999985,
          32.59201199999999,
          32.59217699999999,
          32.592677,
          32.59284399999999,
          32.59288999999999,
          32.59303299999999,
          32.59308,
          32.593489999999996,
          32.59457499999999,
          32.594937,
          32.59496099999999,
          32.596212
         ],
         "legendgroup": "moderate",
         "line": {
          "color": "#EF553B"
         },
         "lon": [
          -117.087369,
          -117.087472,
          -117.08755000000001,
          -117.08756,
          -117.08766700000001,
          -117.08771100000001,
          -117.08778300000002,
          -117.087832,
          -117.087838,
          -117.08803400000001,
          -117.08804,
          -117.088041,
          -117.08804500000001,
          -117.088047,
          -117.088049,
          -117.08805600000001,
          -117.088059,
          -117.08809600000001,
          -117.08821,
          -117.088249,
          -117.088264,
          -117.088312,
          -117.088328,
          -117.088349,
          -117.088412,
          -117.088434,
          -117.088436,
          -117.088443,
          -117.088446,
          -117.088471,
          -117.08854800000002,
          -117.08857400000001,
          -117.088583,
          -117.088613,
          -117.088622,
          -117.088688,
          -117.088869,
          -117.08893100000002,
          -117.088932,
          -117.089132
         ],
         "mode": "lines",
         "name": "moderate",
         "showlegend": true,
         "subplot": "mapbox",
         "type": "scattermapbox"
        },
        {
         "customdata": [
          [
           6.609626526039136,
           60.55866633209618
          ],
          [
           6.703001263496884,
           60.414631064641746
          ],
          [
           6.706068544094797,
           60.40714989245171
          ],
          [
           6.7191599037542025,
           60.37521974694097
          ],
          [
           6.815574758788358,
           60.140061563930836
          ],
          [
           6.864137961116307,
           60.021614728984616
          ],
          [
           6.9087671314018975,
           59.91276309414172
          ]
         ],
         "hovertemplate": "speed_cat=moderate<br>linegroup=3<br>latitude=%{lat}<br>longitude=%{lon}<br>abs_pm=%{customdata[0]}<br>avg_speed=%{customdata[1]}<extra></extra>",
         "lat": [
          32.61354699999999,
          32.614891,
          32.614934999999996,
          32.61512299999999,
          32.61651299999999,
          32.61721099999999,
          32.61784999999999
         ],
         "legendgroup": "moderate",
         "line": {
          "color": "#EF553B"
         },
         "lon": [
          -117.09117300000001,
          -117.091341,
          -117.091348,
          -117.091376,
          -117.09152200000001,
          -117.09162,
          -117.091732
         ],
         "mode": "lines",
         "name": "moderate",
         "showlegend": false,
         "subplot": "mapbox",
         "type": "scattermapbox"
        },
        {
         "customdata": [
          [
           8.391131366501629,
           60.04767591623447
          ],
          [
           8.479835440658805,
           60.08607594833715
          ],
          [
           8.637250158794036,
           60.15422084796278
          ],
          [
           8.663720477409413,
           60.165679860350394
          ],
          [
           8.7291655564425,
           60.194011063395024
          ],
          [
           8.925548354541943,
           60.27902526170647
          ],
          [
           8.983183543866817,
           60.303975560115504
          ],
          [
           8.988914241259105,
           60.30645638149745
          ],
          [
           8.994083256216946,
           60.308694050310365
          ],
          [
           9.00080649771847,
           60.31160454446687
          ],
          [
           9.03012021927731,
           60.324294467219616
          ],
          [
           9.040044652400697,
           60.32859075861502
          ],
          [
           9.04198225778869,
           60.329429548826276
          ],
          [
           9.047960027933714,
           60.332017328109835
          ],
          [
           9.049980222125463,
           60.33289187104999
          ],
          [
           9.122023175242472,
           60.36407929664176
          ],
          [
           9.161159301837301,
           60.38102134278671
          ],
          [
           9.21787334863241,
           60.40557287819585
          ],
          [
           9.220464567679704,
           60.40669461804316
          ],
          [
           9.228581829966915,
           60.41020858440126
          ],
          [
           9.23130246465473,
           60.411386348335384
          ],
          [
           9.232440066246852,
           60.41187881655708
          ],
          [
           9.235869427871096,
           60.413363388688786
          ],
          [
           9.249986774887464,
           60.41947479432358
          ],
          [
           9.254849006641804,
           60.4215796565549
          ],
          [
           9.263290599220229,
           60.42523402563646
          ],
          [
           9.288810569843944,
           60.43628163196708
          ],
          [
           9.29733689473687,
           60.439972681704276
          ],
          [
           9.299972881769783,
           60.44111380163194
          ],
          [
           9.308142144794015,
           60.44465027913161
          ],
          [
           9.310927799774046,
           60.44585619037838
          ],
          [
           9.313778670212283,
           60.44709033342523
          ],
          [
           9.32238984205511,
           60.45081811344377
          ],
          [
           9.325325191722401,
           60.452088827585456
          ],
          [
           9.329887862294806,
           60.45406400965143
          ],
          [
           9.343900727090382,
           60.46013018488761
          ],
          [
           9.348613168353042,
           60.46217020275024
          ],
          [
           9.375584901344583,
           60.47384627763835
          ],
          [
           9.456759907906939,
           60.50898697311989
          ],
          [
           9.483861545483274,
           60.52071928375899
          ],
          [
           9.593263519529671,
           60.56807944568384
          ],
          [
           9.60519434700208,
           60.57324430606151
          ],
          [
           9.64095929930657,
           60.58872696939679
          ],
          [
           9.652910378866459,
           60.59390059691189
          ],
          [
           9.691096030377691,
           60.61043118198169
          ],
          [
           9.75572554145147,
           60.63840932530367
          ],
          [
           9.797874519965552,
           60.656655636348724
          ],
          [
           9.882589021121143,
           60.69332858057193
          ],
          [
           9.9186461182374,
           60.45169479179965
          ],
          [
           9.976285801005428,
           59.75847811708394
          ]
         ],
         "hovertemplate": "speed_cat=moderate<br>linegroup=5<br>latitude=%{lat}<br>longitude=%{lon}<br>abs_pm=%{customdata[0]}<br>avg_speed=%{customdata[1]}<extra></extra>",
         "lat": [
          32.638242999999996,
          32.639458999999995,
          32.641632,
          32.64200199999999,
          32.642913,
          32.64564599999999,
          32.64645,
          32.64652999999999,
          32.64660099999999,
          32.64669399999999,
          32.647104999999996,
          32.647244,
          32.647270999999996,
          32.647353999999986,
          32.647382,
          32.64837599999999,
          32.648913,
          32.64969399999999,
          32.649729,
          32.649839,
          32.64987599999999,
          32.649889,
          32.649937,
          32.650128999999986,
          32.65019499999999,
          32.65030999999999,
          32.650657999999986,
          32.65077399999999,
          32.650809999999986,
          32.650922,
          32.65095999999999,
          32.65099899999999,
          32.651116,
          32.651156,
          32.651218,
          32.651409,
          32.651472999999996,
          32.651839999999986,
          32.652944999999995,
          32.653314,
          32.654797,
          32.65495899999999,
          32.65544299999999,
          32.655605,
          32.656121999999996,
          32.657004,
          32.65757899999999,
          32.65873299999999,
          32.659224,
          32.660018
         ],
         "legendgroup": "moderate",
         "line": {
          "color": "#EF553B"
         },
         "lon": [
          -117.099632,
          -117.10012100000002,
          -117.10093400000001,
          -117.101052,
          -117.10136,
          -117.102287,
          -117.102551,
          -117.102577,
          -117.10260500000001,
          -117.10263900000001,
          -117.102764,
          -117.102807,
          -117.102816,
          -117.102845,
          -117.102855,
          -117.103229,
          -117.103443,
          -117.103743,
          -117.103759,
          -117.103808,
          -117.103824,
          -117.103836,
          -117.103851,
          -117.10393400000001,
          -117.10396300000001,
          -117.104012,
          -117.104159,
          -117.104209,
          -117.104224,
          -117.104269,
          -117.104285,
          -117.104301,
          -117.104352,
          -117.104369,
          -117.10439600000001,
          -117.10447700000002,
          -117.104505,
          -117.104663,
          -117.105137,
          -117.10529500000001,
          -117.105954,
          -117.106025,
          -117.106243,
          -117.106315,
          -117.106547,
          -117.10691700000001,
          -117.107159,
          -117.107651,
          -117.107861,
          -117.108165
         ],
         "mode": "lines",
         "name": "moderate",
         "showlegend": false,
         "subplot": "mapbox",
         "type": "scattermapbox"
        },
        {
         "customdata": [
          [
           14.32754202162708,
           60.039107058133354
          ],
          [
           14.347762966345076,
           60.1901830818885
          ],
          [
           14.358469104384804,
           60.270171469541644
          ],
          [
           14.370379135583946,
           60.359154461259365
          ],
          [
           14.37150882498751,
           60.367594669446916
          ],
          [
           14.392199597520827,
           60.52218090101768
          ],
          [
           14.4026048875807,
           60.5999215738788
          ],
          [
           14.410584701635146,
           60.659540874285575
          ],
          [
           14.41788501780923,
           60.69528745547693
          ],
          [
           14.442972632009644,
           60.6325684199759
          ],
          [
           14.443870845223058,
           60.63032288694236
          ],
          [
           14.446703671513445,
           60.62324082121639
          ],
          [
           14.447670978051711,
           60.62082255487073
          ],
          [
           14.489196717041514,
           60.517008207396216
          ],
          [
           14.613843026202888,
           60.20539243449278
          ],
          [
           14.655437857401239,
           60.101405356496905
          ],
          [
           14.66076090140652,
           60.0880977464837
          ],
          [
           14.674996025755012,
           60.05250993561247
          ],
          [
           14.689714740942822,
           60.01571314764295
          ],
          [
           14.717637160372526,
           59.945907099068684
          ]
         ],
         "hovertemplate": "speed_cat=moderate<br>linegroup=11<br>latitude=%{lat}<br>longitude=%{lon}<br>abs_pm=%{customdata[0]}<br>avg_speed=%{customdata[1]}<extra></extra>",
         "lat": [
          32.70465999999999,
          32.704928999999986,
          32.70507299999999,
          32.705235,
          32.70525099999999,
          32.705542,
          32.705691,
          32.70580499999999,
          32.705909999999996,
          32.706272999999996,
          32.70628599999999,
          32.706327,
          32.706341,
          32.70694199999999,
          32.70874599999999,
          32.70934799999999,
          32.709424999999996,
          32.709631,
          32.70984399999999,
          32.710247999999986
         ],
         "legendgroup": "moderate",
         "line": {
          "color": "#EF553B"
         },
         "lon": [
          -117.14729500000001,
          -117.147432,
          -117.1475,
          -117.14757,
          -117.147574,
          -117.147658,
          -117.14768400000001,
          -117.147706,
          -117.14772,
          -117.14773,
          -117.14773,
          -117.14773,
          -117.14773,
          -117.147734,
          -117.147746,
          -117.14775,
          -117.147753,
          -117.147749,
          -117.147745,
          -117.147757
         ],
         "mode": "lines",
         "name": "moderate",
         "showlegend": false,
         "subplot": "mapbox",
         "type": "scattermapbox"
        },
        {
         "customdata": [
          [
           15.291510569498453,
           60.06516121547723
          ],
          [
           15.320457280889174,
           60.33112458936634
          ],
          [
           15.325002197940549,
           60.37288344261615
          ],
          [
           15.338869250412856,
           60.500294394818965
          ],
          [
           15.342645302333437,
           60.53498888896107
          ],
          [
           15.346961398905453,
           60.574645331823604
          ],
          [
           15.385385505805738,
           60.927687339668104
          ],
          [
           15.422723285303297,
           61.27074813419696
          ],
          [
           15.441085945809078,
           61.43946488670734
          ],
          [
           15.459185195270988,
           61.60576140954113
          ],
          [
           15.469223474821332,
           61.69799346523873
          ],
          [
           15.513801447879025,
           62.10757740572608
          ],
          [
           15.529488690322692,
           62.25171232561447
          ],
          [
           15.568812692162576,
           62.61302259892964
          ],
          [
           15.583958631833863,
           62.75218401043933
          ],
          [
           15.626344096718547,
           63.141623110875535
          ],
          [
           15.64191187408115,
           63.284660381514826
          ],
          [
           15.65360360155241,
           63.39208437323795
          ],
          [
           15.679376671840815,
           63.628888224178425
          ],
          [
           15.700993149506711,
           63.75554728455379
          ],
          [
           15.71620477682254,
           63.529632027388026
          ],
          [
           15.73251242230291,
           63.28743927272905
          ],
          [
           15.750963816360795,
           63.013408667909
          ],
          [
           15.770724078385825,
           62.71993942991349
          ],
          [
           15.785345385484298,
           62.50279130468865
          ],
          [
           15.79671044147093,
           62.334003344491144
          ],
          [
           15.809735478604514,
           62.14056219894287
          ],
          [
           15.825664681942568,
           61.90398987214009
          ],
          [
           15.840664001510829,
           61.68122770033423
          ],
          [
           15.854821953728052,
           61.470961083246756
          ],
          [
           15.871889018400285,
           61.21748982573835
          ],
          [
           15.8886997638482,
           60.967825289383185
          ],
          [
           15.895674959792213,
           60.86423327041268
          ],
          [
           15.935446959131149,
           60.27356001290375
          ],
          [
           15.958089119246399,
           59.93729030822181
          ]
         ],
         "hovertemplate": "speed_cat=moderate<br>linegroup=13<br>latitude=%{lat}<br>longitude=%{lon}<br>abs_pm=%{customdata[0]}<br>avg_speed=%{customdata[1]}<extra></extra>",
         "lat": [
          32.718551999999995,
          32.718969,
          32.719034,
          32.71923199999999,
          32.71928599999999,
          32.71934699999999,
          32.719889,
          32.720407,
          32.72066199999999,
          32.720908,
          32.721046,
          32.72163499999999,
          32.72184,
          32.72234499999999,
          32.72253299999999,
          32.72304199999999,
          32.72321399999999,
          32.72333299999999,
          32.723562,
          32.72374099999999,
          32.723852,
          32.72395399999999,
          32.724046,
          32.72411799999999,
          32.724147999999985,
          32.72415999999999,
          32.72416499999999,
          32.724168999999996,
          32.72416499999999,
          32.72415099999999,
          32.72413499999999,
          32.724105,
          32.72409199999999,
          32.724021,
          32.723991999999996
         ],
         "legendgroup": "moderate",
         "line": {
          "color": "#EF553B"
         },
         "lon": [
          -117.147883,
          -117.147931,
          -117.147943,
          -117.147982,
          -117.147992,
          -117.148008,
          -117.148156,
          -117.148339,
          -117.14842800000001,
          -117.148535,
          -117.148589,
          -117.148902,
          -117.149018,
          -117.14933,
          -117.149464,
          -117.149871,
          -117.150044,
          -117.150187,
          -117.150537,
          -117.150842,
          -117.15106800000001,
          -117.151321,
          -117.151619,
          -117.15194800000002,
          -117.152197,
          -117.152392,
          -117.152616,
          -117.15289,
          -117.15314800000002,
          -117.153391,
          -117.15368400000001,
          -117.153971,
          -117.15409000000001,
          -117.154769,
          -117.155157
         ],
         "mode": "lines",
         "name": "moderate",
         "showlegend": false,
         "subplot": "mapbox",
         "type": "scattermapbox"
        },
        {
         "customdata": [
          [
           16.21370045944189,
           60.19558088186058
          ],
          [
           16.234169546547964,
           60.281766511780894
          ],
          [
           16.257254814408533,
           60.37896763961487
          ],
          [
           16.269085167000256,
           60.42877965052739
          ],
          [
           16.289511111532065,
           60.51478362750343
          ],
          [
           16.31221152494507,
           60.610364315558186
          ],
          [
           16.323023343080084,
           60.655887760337194
          ],
          [
           16.33971124531172,
           60.72615261183881
          ],
          [
           16.356628767567333,
           60.79738428449403
          ],
          [
           16.375650926832765,
           60.87747758666427
          ],
          [
           16.381340339400463,
           60.901433008001945
          ],
          [
           16.388142753021356,
           60.9300747495636
          ],
          [
           16.400531743365402,
           60.98223891943327
          ],
          [
           16.412665009765952,
           61.03332635690927
          ],
          [
           16.431339975504606,
           61.11195779159834
          ],
          [
           16.44077039007718,
           61.151664800324966
          ],
          [
           16.459722314459725,
           61.231462376672525
          ],
          [
           16.480748761843277,
           61.319994786708534
          ],
          [
           16.489944914829277,
           61.35871543086011
          ],
          [
           16.509377710920845,
           61.44053773019303
          ],
          [
           16.52633679729126,
           61.51194440964741
          ],
          [
           16.53301780318932,
           61.540074960797135
          ],
          [
           16.540944482119098,
           61.57345045102778
          ],
          [
           16.552982208332434,
           61.6241356140313
          ],
          [
           16.55972367464786,
           61.65252073535941
          ],
          [
           16.596531014220336,
           61.80749900724352
          ],
          [
           16.63534211466367,
           61.97091416700492
          ],
          [
           16.70574113858361,
           62.318435336186496
          ],
          [
           16.741969174956434,
           62.51756106802296
          ],
          [
           16.74409920944301,
           62.529268704385345
          ],
          [
           16.75063350410223,
           62.565184153753385
          ],
          [
           16.752853809945478,
           62.577387962466275
          ],
          [
           16.767982511333035,
           62.66054217222058
          ],
          [
           16.81351366273109,
           62.9108020469262
          ],
          [
           16.828787463959742,
           62.99475379126808
          ],
          [
           16.83108254819749,
           63.00736861597911
          ],
          [
           16.855634270054352,
           63.14231602334839
          ],
          [
           16.929360050956465,
           63.54754637937064
          ],
          [
           16.954056717393314,
           63.68329046794197
          ],
          [
           17.05761785796031,
           64.25250950297334
          ],
          [
           17.072295406611165,
           64.33318397250818
          ],
          [
           17.116163268830448,
           64.57430165491913
          ],
          [
           17.130876065077455,
           64.65516986124133
          ],
          [
           17.15873289181697,
           64.80828362523512
          ],
          [
           17.178955751180073,
           64.91943763946495
          ],
          [
           17.197372342164527,
           65.02066358281921
          ]
         ],
         "hovertemplate": "speed_cat=moderate<br>linegroup=15<br>latitude=%{lat}<br>longitude=%{lon}<br>abs_pm=%{customdata[0]}<br>avg_speed=%{customdata[1]}<extra></extra>",
         "lat": [
          32.72294,
          32.722822,
          32.72270499999999,
          32.722661999999985,
          32.72262099999999,
          32.72259199999999,
          32.72259199999999,
          32.722585999999986,
          32.72258999999999,
          32.722614,
          32.722625,
          32.722637999999996,
          32.722684,
          32.722736999999995,
          32.722837999999996,
          32.722889999999985,
          32.723005,
          32.723141999999996,
          32.72321,
          32.72337699999999,
          32.723542,
          32.72360799999999,
          32.723686,
          32.723807,
          32.72387599999999,
          32.724296999999986,
          32.724741,
          32.725535,
          32.72594399999999,
          32.725968,
          32.726041999999985,
          32.726067,
          32.726241,
          32.726765,
          32.72694099999999,
          32.72696799999999,
          32.72724999999999,
          32.728096,
          32.72838,
          32.729580999999996,
          32.729749999999996,
          32.730253999999995,
          32.730423,
          32.730748999999996,
          32.730983,
          32.7312
         ],
         "legendgroup": "moderate",
         "line": {
          "color": "#EF553B"
         },
         "lon": [
          -117.159327,
          -117.15965000000001,
          -117.16002200000001,
          -117.160219,
          -117.160567,
          -117.16095600000001,
          -117.161142,
          -117.161429,
          -117.16172000000002,
          -117.162046,
          -117.16214300000001,
          -117.16225899999999,
          -117.162465,
          -117.162664,
          -117.16296200000001,
          -117.163112,
          -117.163408,
          -117.163731,
          -117.16386700000001,
          -117.164136,
          -117.16435200000001,
          -117.164436,
          -117.164536,
          -117.164685,
          -117.16476700000001,
          -117.165155,
          -117.165564,
          -117.166323,
          -117.166713,
          -117.166736,
          -117.16680600000001,
          -117.16683,
          -117.16698800000002,
          -117.167463,
          -117.16762200000001,
          -117.16764500000001,
          -117.167902,
          -117.16867500000001,
          -117.168933,
          -117.16999900000002,
          -117.170152,
          -117.17061100000001,
          -117.17076500000002,
          -117.171047,
          -117.171256,
          -117.17144
         ],
         "mode": "lines",
         "name": "moderate",
         "showlegend": false,
         "subplot": "mapbox",
         "type": "scattermapbox"
        },
        {
         "customdata": [
          [
           17.40680541271771,
           60.60618594286794
          ],
          [
           17.53334892486169,
           59.45240686155516
          ]
         ],
         "hovertemplate": "speed_cat=moderate<br>linegroup=17<br>latitude=%{lat}<br>longitude=%{lon}<br>abs_pm=%{customdata[0]}<br>avg_speed=%{customdata[1]}<extra></extra>",
         "lat": [
          32.733665,
          32.735148999999986
         ],
         "legendgroup": "moderate",
         "line": {
          "color": "#EF553B"
         },
         "lon": [
          -117.173537,
          -117.174813
         ],
         "mode": "lines",
         "name": "moderate",
         "showlegend": false,
         "subplot": "mapbox",
         "type": "scattermapbox"
        },
        {
         "customdata": [
          [
           17.665511833752795,
           60.17597298251125
          ],
          [
           17.695598904200306,
           60.52216312364369
          ],
          [
           17.73884402446047,
           61.019753419524235
          ],
          [
           17.868523561758835,
           62.51188198676483
          ],
          [
           17.91182365905029,
           63.01010486354937
          ],
          [
           17.92218534327707,
           63.1293292636483
          ],
          [
           17.953403944601963,
           63.48853911152885
          ],
          [
           17.963945458133185,
           63.60983267726468
          ],
          [
           17.965015290295423,
           63.6221424615582
          ],
          [
           17.96832273952514,
           63.660198885749494
          ],
          [
           17.969482206494806,
           63.673540032890024
          ],
          [
           18.027355923184164,
           64.33945099898095
          ],
          [
           18.061005482944132,
           64.70782398830399
          ],
          [
           18.083870151424797,
           64.93183594301321
          ],
          [
           18.11723283244267,
           65.2587000475802
          ]
         ],
         "hovertemplate": "speed_cat=moderate<br>linegroup=19<br>latitude=%{lat}<br>longitude=%{lon}<br>abs_pm=%{customdata[0]}<br>avg_speed=%{customdata[1]}<extra></extra>",
         "lat": [
          32.73668599999999,
          32.737035999999996,
          32.737536999999996,
          32.73903899999999,
          32.739540999999996,
          32.73966399999999,
          32.74003299999999,
          32.740158,
          32.74017099999999,
          32.74020999999999,
          32.74022399999999,
          32.740871999999996,
          32.74119999999999,
          32.741417999999996,
          32.7417
         ],
         "legendgroup": "moderate",
         "line": {
          "color": "#EF553B"
         },
         "lon": [
          -117.176166,
          -117.176474,
          -117.17692,
          -117.178258,
          -117.178704,
          -117.17880600000001,
          -117.179116,
          -117.17922000000002,
          -117.17923,
          -117.179263,
          -117.179274,
          -117.179905,
          -117.180333,
          -117.18062900000001,
          -117.18109500000001
         ],
         "mode": "lines",
         "name": "moderate",
         "showlegend": false,
         "subplot": "mapbox",
         "type": "scattermapbox"
        },
        {
         "customdata": [
          [
           20.519456446718156,
           64.98874959439556
          ],
          [
           20.562026646126412,
           64.90097598736823
          ],
          [
           20.689774387412818,
           64.67479567563525
          ],
          [
           20.73242443358623,
           64.60700752277685
          ],
          [
           20.80020872536272,
           64.49927090008575
          ],
          [
           20.806016756105052,
           64.4900395929456
          ],
          [
           20.837400972723657,
           64.4401573943465
          ],
          [
           20.949087466484677,
           64.26264243737535
          ],
          [
           20.986482039131165,
           64.20320735502331
          ],
          [
           20.989226935997984,
           64.19884460503631
          ],
          [
           20.997608405145844,
           64.18552306466886
          ],
          [
           21.000432536860924,
           64.18103437849919
          ],
          [
           21.14225956308319,
           63.955613939470425
          ],
          [
           21.1638232413307,
           63.92134054358034
          ],
          [
           21.239705279781408,
           63.80073333014876
          ],
          [
           21.254380497444874,
           63.77740848088232
          ],
          [
           21.2758664856702,
           63.7432585658222
          ],
          [
           21.29730749053053,
           63.709180147501144
          ],
          [
           21.319646473980107,
           63.673674478442216
          ],
          [
           21.342793029158038,
           63.63688525166934
          ],
          [
           21.378076610657565,
           63.6358120250142
          ],
          [
           21.396045550935952,
           63.689097185642034
          ],
          [
           21.405221927616175,
           63.716308846308266
          ],
          [
           21.47020059898451,
           63.908996833891464
          ],
          [
           21.508865902883798,
           64.02365506621226
          ],
          [
           21.57010996275325,
           64.20526842332102
          ],
          [
           21.615062643937918,
           64.33857126703172
          ],
          [
           21.64536918051665,
           64.42844238044476
          ],
          [
           21.736538367681295,
           64.69879581849479
          ],
          [
           21.751633487426655,
           64.74355894129816
          ],
          [
           21.80733252457002,
           64.90872906791769
          ],
          [
           21.843805089913314,
           65.01688494537721
          ]
         ],
         "hovertemplate": "speed_cat=moderate<br>linegroup=21<br>latitude=%{lat}<br>longitude=%{lon}<br>abs_pm=%{customdata[0]}<br>avg_speed=%{customdata[1]}<extra></extra>",
         "lat": [
          32.76685799999999,
          32.767459999999986,
          32.769266,
          32.769868999999986,
          32.770828,
          32.77091,
          32.771353999999995,
          32.77293399999999,
          32.773462999999985,
          32.773502,
          32.77362099999999,
          32.77366099999999,
          32.77566999999999,
          32.775975999999986,
          32.777049999999996,
          32.777259,
          32.77756699999999,
          32.77787599999999,
          32.778199,
          32.778534,
          32.77904399999999,
          32.77930299999999,
          32.779434,
          32.780363,
          32.78091599999999,
          32.781791999999996,
          32.782434999999985,
          32.782869999999996,
          32.784175999999995,
          32.78439199999999,
          32.785188999999995,
          32.78571
         ],
         "legendgroup": "moderate",
         "line": {
          "color": "#EF553B"
         },
         "lon": [
          -117.205989,
          -117.206145,
          -117.206616,
          -117.20677300000001,
          -117.207019,
          -117.207041,
          -117.20715500000001,
          -117.207561,
          -117.207697,
          -117.207706,
          -117.207734,
          -117.207744,
          -117.208245,
          -117.208318,
          -117.208591,
          -117.208636,
          -117.208687,
          -117.208721,
          -117.208738,
          -117.208736,
          -117.20870500000001,
          -117.208677,
          -117.208651,
          -117.20847700000002,
          -117.208375,
          -117.208214,
          -117.20809600000001,
          -117.20802900000001,
          -117.20780500000001,
          -117.207766,
          -117.207622,
          -117.207521
         ],
         "mode": "lines",
         "name": "moderate",
         "showlegend": false,
         "subplot": "mapbox",
         "type": "scattermapbox"
        },
        {
         "customdata": [
          [
           22.06937093333131,
           64.894519619927
          ],
          [
           22.07524501471539,
           64.86370915884744
          ],
          [
           22.1204634336723,
           64.62653159077243
          ],
          [
           22.15556691622584,
           64.44240842116434
          ],
          [
           22.18430857231874,
           64.29165401064286
          ],
          [
           22.28550196192879,
           63.76087910504853
          ],
          [
           22.300711461130476,
           63.681102940478695
          ],
          [
           22.31134076235608,
           63.62535061934096
          ],
          [
           22.34520170050292,
           63.447744786415704
          ],
          [
           22.40724219407941,
           63.12233284747403
          ],
          [
           22.485974904702253,
           62.709367660626725
          ],
          [
           22.521807619744386,
           62.5214195543624
          ],
          [
           22.56568360290015,
           62.29128326871073
          ],
          [
           22.60582946950841,
           62.08071201854197
          ],
          [
           22.649164420218177,
           61.85341353135278
          ],
          [
           22.779406321978506,
           61.170274707980475
          ],
          [
           22.822890588320774,
           60.94219303731407
          ],
          [
           22.852097715690896,
           60.81600529829091
          ],
          [
           22.94014312373292,
           61.48778032718298
          ],
          [
           22.969563826317668,
           61.71225646703414
          ],
          [
           22.99515034573159,
           61.90747828723778
          ],
          [
           23.103169079920807,
           62.73164720069446
          ],
          [
           23.191640129838515,
           63.406669821819825
          ],
          [
           23.286127436458486,
           64.12759570025142
          ],
          [
           23.351857833856005,
           64.62911009597926
          ],
          [
           23.417685627552853,
           65.13136761282209
          ]
         ],
         "hovertemplate": "speed_cat=moderate<br>linegroup=23<br>latitude=%{lat}<br>longitude=%{lon}<br>abs_pm=%{customdata[0]}<br>avg_speed=%{customdata[1]}<extra></extra>",
         "lat": [
          32.78895099999999,
          32.789035999999996,
          32.78969,
          32.79019699999999,
          32.790611999999996,
          32.792056999999986,
          32.79227399999999,
          32.792425,
          32.79289299999999,
          32.793756,
          32.794821999999996,
          32.795294999999996,
          32.79586499999999,
          32.79638599999999,
          32.79694599999999,
          32.79862899999999,
          32.799191,
          32.799580999999996,
          32.800758,
          32.80115099999999,
          32.80148899999999,
          32.80288,
          32.803995,
          32.805158999999996,
          32.805956,
          32.80671699999999
         ],
         "legendgroup": "moderate",
         "line": {
          "color": "#EF553B"
         },
         "lon": [
          -117.207116,
          -117.207114,
          -117.20714300000002,
          -117.20718200000002,
          -117.207216,
          -117.2075,
          -117.207544,
          -117.20757900000001,
          -117.207752,
          -117.20804700000001,
          -117.208526,
          -117.208779,
          -117.209112,
          -117.209418,
          -117.20975400000002,
          -117.210764,
          -117.211101,
          -117.211295,
          -117.21187600000002,
          -117.212071,
          -117.21225100000001,
          -117.2131,
          -117.213849,
          -117.21470300000001,
          -117.215321,
          -117.21600300000001
         ],
         "mode": "lines",
         "name": "moderate",
         "showlegend": false,
         "subplot": "mapbox",
         "type": "scattermapbox"
        },
        {
         "customdata": [
          [
           26.378423150690747,
           64.94557602732664
          ],
          [
           26.386073131277435,
           64.85268340591685
          ],
          [
           26.454600583519642,
           64.02056434297576
          ],
          [
           26.508728672102926,
           63.36329469589303
          ],
          [
           26.539514566358104,
           62.98946597993729
          ],
          [
           26.581805230816514,
           62.475936482942316
          ],
          [
           26.587352084761918,
           62.408581827890984
          ],
          [
           26.610135379000482,
           62.13192754070842
          ],
          [
           26.633878368194218,
           62.016468501527136
          ],
          [
           26.656651543884454,
           62.04559020957092
          ],
          [
           26.678472254939443,
           62.07349393214763
          ],
          [
           26.698320673249732,
           62.09887554124007
          ],
          [
           26.70219889200187,
           62.10383490025815
          ],
          [
           26.707936218414257,
           62.11117163480084
          ],
          [
           26.725897288690568,
           62.13413975535878
          ],
          [
           26.749233904487077,
           62.16398197504741
          ],
          [
           26.788899171852826,
           62.21470482334121
          ],
          [
           26.834890955393846,
           62.27351784577218
          ],
          [
           26.930305937684704,
           62.39553188962238
          ],
          [
           27.0773770242727,
           62.58360233282954
          ],
          [
           27.108613097187995,
           62.62354616008695
          ],
          [
           27.1333205933339,
           62.65514142370064
          ],
          [
           27.140119000713998,
           62.663835039276215
          ],
          [
           27.16273015089548,
           62.692749553574785
          ],
          [
           27.182580287313485,
           62.718133359735916
          ],
          [
           27.203377988251095,
           62.74472888523158
          ],
          [
           27.225942986684863,
           62.77358438194995
          ],
          [
           27.24944595745131,
           62.80363933177917
          ],
          [
           27.26989496376408,
           62.82978895622005
          ],
          [
           27.317204156246504,
           62.8902866448165
          ],
          [
           27.333034675848072,
           62.91053027602055
          ],
          [
           27.347327718912013,
           62.92880782469567
          ],
          [
           27.36217630944737,
           62.94779579213219
          ],
          [
           27.378175937887793,
           62.968255675048326
          ],
          [
           27.412571973313337,
           63.01224037508099
          ],
          [
           27.475948607540815,
           63.093284664374444
          ],
          [
           27.58960165328092,
           63.23862104000118
          ],
          [
           27.61797987153087,
           63.27491032165073
          ],
          [
           27.758278998059616,
           63.4543209693857
          ],
          [
           27.89189702533378,
           64.07586485490458
          ],
          [
           27.962689233559104,
           64.4922896091712
          ],
          [
           28.046517691275945,
           64.98539818397614
          ],
          [
           28.06655166890518,
           65.10324511120695
          ]
         ],
         "hovertemplate": "speed_cat=moderate<br>linegroup=25<br>latitude=%{lat}<br>longitude=%{lon}<br>abs_pm=%{customdata[0]}<br>avg_speed=%{customdata[1]}<extra></extra>",
         "lat": [
          32.844457999999996,
          32.844567999999995,
          32.845551,
          32.846327999999986,
          32.84676999999999,
          32.847370999999995,
          32.84745,
          32.847775999999996,
          32.84811299999999,
          32.848432999999986,
          32.848735999999995,
          32.84900799999999,
          32.84906099999999,
          32.849137999999996,
          32.84937999999999,
          32.849688,
          32.85019299999999,
          32.850771,
          32.85196299999999,
          32.853782999999986,
          32.854175999999995,
          32.854487999999996,
          32.854573,
          32.854860999999985,
          32.85511999999999,
          32.85539599999999,
          32.855700999999996,
          32.85602399999999,
          32.856308999999996,
          32.856977,
          32.857203999999996,
          32.85740899999999,
          32.85762199999999,
          32.857852,
          32.85834899999999,
          32.85926299999999,
          32.860901999999996,
          32.86131199999999,
          32.863337,
          32.865263999999996,
          32.86628499999999,
          32.867494,
          32.867782999999996
         ],
         "legendgroup": "moderate",
         "line": {
          "color": "#EF553B"
         },
         "lon": [
          -117.236569,
          -117.236554,
          -117.236397,
          -117.236278,
          -117.23621100000001,
          -117.236073,
          -117.236056,
          -117.235997,
          -117.235917,
          -117.23582300000001,
          -117.23571700000001,
          -117.235607,
          -117.235585,
          -117.235548,
          -117.23543500000001,
          -117.23527,
          -117.23494500000001,
          -117.23455200000001,
          -117.233722,
          -117.232408,
          -117.232142,
          -117.23193400000001,
          -117.231875,
          -117.23169,
          -117.231542,
          -117.231399,
          -117.23126,
          -117.231133,
          -117.231038,
          -117.230859,
          -117.230822,
          -117.230789,
          -117.230755,
          -117.230723,
          -117.230689,
          -117.230597,
          -117.230431,
          -117.230402,
          -117.23022300000001,
          -117.230029,
          -117.229927,
          -117.22980600000001,
          -117.229778
         ],
         "mode": "lines",
         "name": "moderate",
         "showlegend": false,
         "subplot": "mapbox",
         "type": "scattermapbox"
        },
        {
         "customdata": [
          [
           31.013071924740515,
           64.95751315761542
          ],
          [
           31.027687282710104,
           64.70099871161855
          ],
          [
           31.33041521794007,
           64.94315988280394
          ],
          [
           31.377613271626405,
           65.46345338800762
          ]
         ],
         "hovertemplate": "speed_cat=moderate<br>linegroup=27<br>latitude=%{lat}<br>longitude=%{lon}<br>abs_pm=%{customdata[0]}<br>avg_speed=%{customdata[1]}<extra></extra>",
         "lat": [
          32.90957499999999,
          32.909760999999996,
          32.91360199999999,
          32.914175
         ],
         "legendgroup": "moderate",
         "line": {
          "color": "#EF553B"
         },
         "lon": [
          -117.227342,
          -117.227462,
          -117.229973,
          -117.230416
         ],
         "mode": "lines",
         "name": "moderate",
         "showlegend": false,
         "subplot": "mapbox",
         "type": "scattermapbox"
        },
        {
         "customdata": [
          [
           31.62893960738656,
           64.28896263360674
          ],
          [
           31.73310954877732,
           61.766096865549244
          ],
          [
           31.81342781009372,
           62.28100678113055
          ],
          [
           31.908823329822855,
           61.98561081839917
          ],
          [
           31.945964207250356,
           61.870602636929675
          ],
          [
           31.982643309753787,
           61.75702435959665
          ],
          [
           32.06193188145788,
           61.51150419220692
          ],
          [
           32.09922740618706,
           61.39601713931146
          ],
          [
           32.155117224065116,
           61.22295212948871
          ],
          [
           32.195782779395984,
           61.09702964485761
          ],
          [
           32.38020944323685,
           60.683419043292965
          ],
          [
           32.427442017340326,
           60.66948613057808
          ],
          [
           32.548030612606695,
           60.63391427356735
          ],
          [
           32.651839643156485,
           60.60329214066181
          ],
          [
           32.653719529897884,
           60.60273760180004
          ],
          [
           32.658948048639786,
           60.60119526588797
          ],
          [
           32.66082793534888,
           60.60064072703573
          ],
          [
           32.67980164360901,
           60.615343966766225
          ],
          [
           32.700928892109715,
           60.63463825763445
          ],
          [
           32.73121275151028,
           60.6622947502377
          ],
          [
           32.73738934178216,
           60.66793547194718
          ],
          [
           32.75771856239719,
           60.686500970225744
          ],
          [
           32.77164631212092,
           60.69922037636614
          ],
          [
           32.8133683024208,
           60.737322650612604
          ],
          [
           32.827440455894354,
           60.75017393232361
          ],
          [
           32.892435296060164,
           60.80952995073988
          ],
          [
           32.938496975096214,
           60.85159541104677
          ],
          [
           33.000354783128124,
           60.90808655993436
          ],
          [
           33.026757465488046,
           60.93219859861922
          ],
          [
           33.23079647609669,
           61.11853559460885
          ],
          [
           33.243876854355435,
           61.13048114553008
          ],
          [
           33.29875559543467,
           61.180598717291936
          ],
          [
           33.377906312139956,
           61.25288247684014
          ],
          [
           33.58613719612059,
           61.28028648604295
          ],
          [
           33.626256765108344,
           61.17839551718516
          ],
          [
           33.696545977977195,
           60.99988323053411
          ],
          [
           33.79209657736011,
           60.75721504162511
          ],
          [
           33.877407138564756,
           60.540553298883154
          ],
          [
           33.907681992841894,
           60.46366478008407
          ],
          [
           33.93928966298431,
           60.383391332103336
          ],
          [
           33.96768553932458,
           60.311274820762975
          ],
          [
           33.98425818915188,
           60.269185551360295
          ],
          [
           34.00215476499374,
           60.22373393017462
          ],
          [
           34.05019853642384,
           60.101718002733094
          ],
          [
           34.053624086631025,
           60.093018192683104
          ],
          [
           34.134480814150926,
           59.88766777358494
          ]
         ],
         "hovertemplate": "speed_cat=moderate<br>linegroup=29<br>latitude=%{lat}<br>longitude=%{lon}<br>abs_pm=%{customdata[0]}<br>avg_speed=%{customdata[1]}<extra></extra>",
         "lat": [
          32.916769999999985,
          32.917819,
          32.91872,
          32.91979099999999,
          32.92021799999999,
          32.920663999999995,
          32.921673999999996,
          32.92215099999999,
          32.922900999999996,
          32.923459,
          32.92602399999999,
          32.926680999999995,
          32.928357999999996,
          32.929828,
          32.929854999999996,
          32.92992999999999,
          32.929957,
          32.93022899999999,
          32.93053199999999,
          32.93096599999999,
          32.931055,
          32.931347999999986,
          32.93154799999999,
          32.932147,
          32.932348999999995,
          32.933284,
          32.93394899999999,
          32.934843,
          32.93522399999999,
          32.93817399999999,
          32.938362999999995,
          32.93915299999999,
          32.940288999999986,
          32.943270999999996,
          32.94384399999999,
          32.94484899999999,
          32.946214999999995,
          32.947434,
          32.947866999999995,
          32.94831899999999,
          32.948724999999996,
          32.948962,
          32.949218,
          32.949905,
          32.94995399999999,
          32.951109999999986
         ],
         "legendgroup": "moderate",
         "line": {
          "color": "#EF553B"
         },
         "lon": [
          -117.233424,
          -117.234714,
          -117.235589,
          -117.236627,
          -117.237016,
          -117.237359,
          -117.238008,
          -117.23830900000002,
          -117.23867,
          -117.23889300000002,
          -117.239773,
          -117.239998,
          -117.24057400000001,
          -117.240944,
          -117.24094800000002,
          -117.24096000000002,
          -117.240964,
          -117.241009,
          -117.241058,
          -117.241131,
          -117.241141,
          -117.241173,
          -117.241203,
          -117.241294,
          -117.241325,
          -117.241448,
          -117.241504,
          -117.241561,
          -117.241596,
          -117.241757,
          -117.24177,
          -117.24186800000001,
          -117.242044,
          -117.242564,
          -117.24267600000002,
          -117.242864,
          -117.24312100000002,
          -117.243355,
          -117.243435,
          -117.243519,
          -117.24359500000001,
          -117.243639,
          -117.243686,
          -117.243814,
          -117.243823,
          -117.24404
         ],
         "mode": "lines",
         "name": "moderate",
         "showlegend": false,
         "subplot": "mapbox",
         "type": "scattermapbox"
        },
        {
         "customdata": [
          [
           34.34237711760612,
           60.224672386042684
          ],
          [
           34.37882945140811,
           60.31395925265033
          ],
          [
           34.40960899302292,
           60.389351101121115
          ],
          [
           34.50194759539352,
           60.615526591485725
          ],
          [
           34.53280446430175,
           60.69110784653251
          ],
          [
           34.541724094625046,
           60.71295571633399
          ],
          [
           34.55416184309106,
           60.74342091491953
          ],
          [
           34.61856921133671,
           60.90118124182582
          ],
          [
           34.635724277763735,
           60.94320110634355
          ],
          [
           34.64008427480252,
           60.95388054530969
          ],
          [
           34.674307834848776,
           61.03770822167432
          ],
          [
           34.740292626163246,
           61.199332311155985
          ],
          [
           34.77690913043216,
           61.289021299248105
          ],
          [
           34.7875824153827,
           61.31516459571908
          ],
          [
           34.811048278409686,
           61.37264221548699
          ],
          [
           34.850462236717306,
           61.46918332742259
          ],
          [
           34.89895065889335,
           61.58795156065464
          ],
          [
           34.935276557524865,
           61.676928735151435
          ],
          [
           34.98398252738518,
           61.79622983278586
          ],
          [
           35.272477075960325,
           61.58800910206902
          ],
          [
           35.35969997294588,
           61.31649813868985
          ],
          [
           35.502109908517724,
           60.87319872834949
          ],
          [
           35.6677327961649,
           60.35764110143222
          ],
          [
           35.67488424921983,
           60.33537976896551
          ],
          [
           35.67826147386533,
           60.32486700742311
          ],
          [
           35.6801491008152,
           60.318991125867086
          ],
          [
           35.68216868372771,
           60.312704486450706
          ],
          [
           35.685347106779645,
           60.30281056255364
          ],
          [
           35.6885916788954,
           60.292710727173855
          ],
          [
           35.69206840618778,
           60.28188822976567
          ],
          [
           35.84059351534773,
           59.819553259617976
          ]
         ],
         "hovertemplate": "speed_cat=moderate<br>linegroup=31<br>latitude=%{lat}<br>longitude=%{lon}<br>abs_pm=%{customdata[0]}<br>avg_speed=%{customdata[1]}<extra></extra>",
         "lat": [
          32.954081999999985,
          32.95460299999999,
          32.955042999999996,
          32.956362999999996,
          32.95680399999999,
          32.956932,
          32.95711,
          32.95803,
          32.958275,
          32.958337,
          32.958822999999995,
          32.959759999999996,
          32.960274999999996,
          32.960425,
          32.96075299999999,
          32.96130399999999,
          32.961974999999995,
          32.962475999999995,
          32.963149,
          32.96713499999999,
          32.96833199999999,
          32.970295,
          32.97257799999999,
          32.97267699999999,
          32.97272399999999,
          32.97274999999999,
          32.97277799999999,
          32.972822,
          32.972867,
          32.972915,
          32.974961
         ],
         "legendgroup": "moderate",
         "line": {
          "color": "#EF553B"
         },
         "lon": [
          -117.2446,
          -117.244699,
          -117.24478200000001,
          -117.245031,
          -117.245115,
          -117.245135,
          -117.24516700000001,
          -117.245346,
          -117.245394,
          -117.245408,
          -117.24552200000001,
          -117.24574199999999,
          -117.245891,
          -117.245935,
          -117.24604000000001,
          -117.246216,
          -117.246461,
          -117.246651,
          -117.24690100000001,
          -117.248383,
          -117.248861,
          -117.24961,
          -117.250481,
          -117.250517,
          -117.250533,
          -117.250543,
          -117.250553,
          -117.250569,
          -117.250585,
          -117.250603,
          -117.251389
         ],
         "mode": "lines",
         "name": "moderate",
         "showlegend": false,
         "subplot": "mapbox",
         "type": "scattermapbox"
        },
        {
         "customdata": [
          [
           39.01473842822406,
           60.156776180089636
          ],
          [
           39.016076103903615,
           60.16714910943031
          ],
          [
           39.044076663384715,
           60.38427784207858
          ],
          [
           39.07149373911066,
           60.46207970557467
          ],
          [
           39.09993353266813,
           60.37576084333953
          ],
          [
           39.12643249192017,
           60.29533269225507
          ],
          [
           39.155780773300165,
           60.20625643886531
          ],
          [
           39.1609615177171,
           60.19053213472446
          ],
          [
           39.18328495408629,
           60.12277729590423
          ],
          [
           39.210792681307225,
           60.039287389003626
          ],
          [
           39.23926149619253,
           59.95288044286611
          ]
         ],
         "hovertemplate": "speed_cat=moderate<br>linegroup=33<br>latitude=%{lat}<br>longitude=%{lon}<br>abs_pm=%{customdata[0]}<br>avg_speed=%{customdata[1]}<extra></extra>",
         "lat": [
          33.01610999999999,
          33.016125999999986,
          33.016466,
          33.016805999999995,
          33.017165999999996,
          33.01750799999999,
          33.017893,
          33.01796199999999,
          33.018260999999995,
          33.01863399999999,
          33.01902499999999
         ],
         "legendgroup": "moderate",
         "line": {
          "color": "#EF553B"
         },
         "lon": [
          -117.271137,
          -117.27115,
          -117.271413,
          -117.271657,
          -117.271895,
          -117.272102,
          -117.272316,
          -117.272351,
          -117.272497,
          -117.27266300000001,
          -117.272818
         ],
         "mode": "lines",
         "name": "moderate",
         "showlegend": false,
         "subplot": "mapbox",
         "type": "scattermapbox"
        },
        {
         "customdata": [
          [
           46.68931961664934,
           62.36654619390892
          ],
          [
           46.72640938895965,
           62.69230329073723
          ],
          [
           46.77749673496386,
           63.14100018161486
          ],
          [
           46.82931089909113,
           63.596080669558276
          ],
          [
           46.85770129683714,
           63.84543171626098
          ],
          [
           46.9781603277256,
           64.5639197334095
          ],
          [
           47.006076134219185,
           64.39989828972598
          ],
          [
           47.20930781170745,
           63.2057951155438
          ],
          [
           47.254498300345716,
           62.9402749634065
          ],
          [
           47.305127683035025,
           62.64279817571587
          ],
          [
           47.3339135608303,
           62.4736645619418
          ],
          [
           47.370071390182275,
           62.26121648625622
          ],
          [
           47.37779531276033,
           62.215833991846004
          ],
          [
           47.51913900650831,
           61.38535837189817
          ],
          [
           47.60231932852397,
           60.89662606512415
          ],
          [
           47.663101279979585,
           60.53949708767755
          ],
          [
           47.71787829756317,
           60.21765055579245
          ],
          [
           47.72754386209126,
           60.16085979646841
          ],
          [
           47.806919378663906,
           59.69448291338028
          ]
         ],
         "hovertemplate": "speed_cat=moderate<br>linegroup=37<br>latitude=%{lat}<br>longitude=%{lon}<br>abs_pm=%{customdata[0]}<br>avg_speed=%{customdata[1]}<extra></extra>",
         "lat": [
          33.118439999999985,
          33.118916999999996,
          33.119574,
          33.12024699999999,
          33.12061299999999,
          33.122165999999986,
          33.122526,
          33.12515799999999,
          33.12574099999999,
          33.12639399999999,
          33.126765999999996,
          33.12723299999999,
          33.127331999999996,
          33.129156,
          33.130234,
          33.131022,
          33.13172999999999,
          33.131855,
          33.13288399999999
         ],
         "legendgroup": "moderate",
         "line": {
          "color": "#EF553B"
         },
         "lon": [
          -117.319973,
          -117.320267,
          -117.320672,
          -117.32106700000001,
          -117.32129,
          -117.322236,
          -117.322455,
          -117.32402300000001,
          -117.324377,
          -117.324774,
          -117.324998,
          -117.32528,
          -117.32534199999999,
          -117.326448,
          -117.32708800000002,
          -117.327555,
          -117.327981,
          -117.328056,
          -117.328666
         ],
         "mode": "lines",
         "name": "moderate",
         "showlegend": false,
         "subplot": "mapbox",
         "type": "scattermapbox"
        },
        {
         "customdata": [
          [
           48.08248201985818,
           60.04424937251985
          ],
          [
           48.144240029235746,
           60.14998292943085
          ],
          [
           48.196454333382285,
           60.2393770688257
          ],
          [
           48.21689214566482,
           60.27436787584639
          ],
          [
           48.27852450776974,
           60.379886316804225
          ],
          [
           48.299048340765935,
           60.41502439664207
          ],
          [
           48.31360224874518,
           60.439941593182404
          ],
          [
           48.380073843809754,
           60.55374510224238
          ],
          [
           48.42505015572044,
           60.630747348315154
          ],
          [
           48.445924406711484,
           60.66648536557608
          ],
          [
           48.46984930966032,
           60.70744628891261
          ],
          [
           48.49276504019158,
           60.746679446242396
          ],
          [
           48.51568865302086,
           60.78592609855711
          ],
          [
           48.53957262634366,
           60.826816947825726
          ],
          [
           48.56248954990329,
           60.86605214769435
          ],
          [
           48.58306037385549,
           60.90127067897438
          ],
          [
           48.5840345758195,
           60.90293857338747
          ],
          [
           48.5852148473962,
           60.90495927180673
          ],
          [
           48.655402647546225,
           61.02512515533206
          ],
          [
           48.75551199846048,
           61.19651859658603
          ],
          [
           48.76975944160946,
           61.22091110625744
          ],
          [
           48.79037556684812,
           61.256207196160204
          ],
          [
           48.81237768607107,
           61.29387619405165
          ],
          [
           48.840766740459614,
           61.34248002257677
          ],
          [
           48.876791939115506,
           61.404157405489585
          ],
          [
           48.903231562214856,
           61.449423686282245
          ],
          [
           48.92690304545564,
           61.489950739301484
          ],
          [
           48.94965499769494,
           61.528903497999124
          ],
          [
           48.99675389993516,
           61.60953975086175
          ],
          [
           49.07078649403989,
           61.73628816100216
          ],
          [
           49.07338007284042,
           61.7407285293766
          ],
          [
           49.1527683426022,
           61.778681741617994
          ],
          [
           49.16714523972559,
           61.771835600130665
          ],
          [
           49.210400125895376,
           61.75123803528791
          ],
          [
           49.224901313896325,
           61.74433270766841
          ],
          [
           49.392634859339424,
           61.66445959079075
          ],
          [
           49.497743010381114,
           61.6144080902947
          ],
          [
           49.504462104021606,
           61.61120852189447
          ],
          [
           49.525795913790446,
           61.60104956486169
          ],
          [
           49.532515003298386,
           61.59784999842934
          ],
          [
           49.575499400219016,
           61.57738123799094
          ],
          [
           49.689848076048555,
           61.522929487595924
          ],
          [
           49.85478288838161,
           61.444389100770664
          ],
          [
           49.90008292657191,
           61.42281765401337
          ],
          [
           49.90363770826901,
           61.42112490082428
          ],
          [
           49.91441250592004,
           61.41599404479998
          ],
          [
           49.91811705332598,
           61.41422997460668
          ],
          [
           49.94758184937553,
           61.40019911934498
          ],
          [
           49.97167577795511,
           61.44582408636473
          ],
          [
           50.03580606567247,
           61.569947223882195
          ],
          [
           50.06544243245632,
           61.627307933786426
          ],
          [
           50.102211741607825,
           61.69847433859579
          ],
          [
           50.137020466444625,
           61.76584606408637
          ],
          [
           50.25646020075674,
           61.997019743400145
          ],
          [
           50.26140394733462,
           62.00658828516379
          ],
          [
           50.26324472008782,
           62.01015107113771
          ],
          [
           50.27079861446673,
           62.02477151187109
          ],
          [
           50.294703241413316,
           62.07103853176771
          ],
          [
           50.30277040204241,
           62.08665239104983
          ],
          [
           50.34804955213049,
           62.174289455736435
          ],
          [
           50.420875492375416,
           62.31524288846855
          ],
          [
           50.43874636275339,
           62.34983166984528
          ],
          [
           50.47711647603237,
           62.42409640522395
          ],
          [
           50.50998669949561,
           62.48771619257216
          ],
          [
           50.54610374018321,
           62.5576201422901
          ],
          [
           50.59777131403323,
           62.361829487734134
          ],
          [
           50.63846096202977,
           62.03631230376184
          ],
          [
           50.67953766510466,
           61.7076986791627
          ],
          [
           50.745150741031466,
           61.182794071748255
          ],
          [
           50.80417991516025,
           60.710560678718004
          ],
          [
           50.82139341664139,
           60.57285266686885
          ],
          [
           50.87335087130013,
           60.15719302959892
          ],
          [
           50.89068041284505,
           60.01855669723958
          ],
          [
           50.914586284186804,
           59.82730972650556
          ]
         ],
         "hovertemplate": "speed_cat=moderate<br>linegroup=39<br>latitude=%{lat}<br>longitude=%{lon}<br>abs_pm=%{customdata[0]}<br>avg_speed=%{customdata[1]}<extra></extra>",
         "lat": [
          33.13653999999999,
          33.13736699999999,
          33.138066,
          33.138339,
          33.139162999999996,
          33.139437,
          33.139631,
          33.14050999999999,
          33.14110399999999,
          33.141377999999996,
          33.14169799999999,
          33.14201099999999,
          33.14232899999999,
          33.142665,
          33.142990999999995,
          33.143285999999996,
          33.143299999999996,
          33.143316999999996,
          33.144331,
          33.14577899999999,
          33.145984999999996,
          33.14628299999999,
          33.14660099999999,
          33.14700899999999,
          33.14751799999999,
          33.147881999999996,
          33.148202999999995,
          33.14850599999999,
          33.14911699999999,
          33.150078,
          33.150112,
          33.15114899999999,
          33.151336,
          33.151899,
          33.15208799999999,
          33.15426999999999,
          33.155656,
          33.155746,
          33.156031999999996,
          33.156121999999996,
          33.15669299999999,
          33.15820899999999,
          33.16040499999999,
          33.161006,
          33.161052999999995,
          33.16119499999999,
          33.161243999999996,
          33.161639,
          33.161961999999995,
          33.162821,
          33.163218,
          33.163703999999996,
          33.164166,
          33.165749999999996,
          33.16581699999999,
          33.16584199999999,
          33.16594299999999,
          33.166261999999996,
          33.16637,
          33.16697599999999,
          33.167943,
          33.168174,
          33.168670999999996,
          33.169097,
          33.169554999999995,
          33.170183,
          33.17067699999999,
          33.171186999999996,
          33.17199399999999,
          33.172710999999985,
          33.17291999999999,
          33.17355299999999,
          33.17376399999999,
          33.174058999999986
         ],
         "legendgroup": "moderate",
         "line": {
          "color": "#EF553B"
         },
         "lon": [
          -117.330569,
          -117.330974,
          -117.331317,
          -117.331453,
          -117.331861,
          -117.331998,
          -117.332096,
          -117.33256300000001,
          -117.332881,
          -117.33303300000001,
          -117.333191,
          -117.33332200000001,
          -117.33343500000001,
          -117.333532,
          -117.333605,
          -117.333653,
          -117.333655,
          -117.333657,
          -117.33373,
          -117.333791,
          -117.333802,
          -117.33382000000002,
          -117.33384000000001,
          -117.333898,
          -117.334033,
          -117.334174,
          -117.334317,
          -117.334471,
          -117.334832,
          -117.335398,
          -117.335417,
          -117.33600799999999,
          -117.336117,
          -117.33644400000001,
          -117.336553,
          -117.337824,
          -117.33857300000001,
          -117.338617,
          -117.338756,
          -117.3388,
          -117.339095,
          -117.33988800000002,
          -117.34100600000001,
          -117.341319,
          -117.341344,
          -117.341421,
          -117.341447,
          -117.341639,
          -117.341796,
          -117.342216,
          -117.34241000000002,
          -117.342669,
          -117.342909,
          -117.343736,
          -117.34376600000002,
          -117.34377700000002,
          -117.343827,
          -117.343987,
          -117.34404,
          -117.344338,
          -117.34483900000001,
          -117.344978,
          -117.345274,
          -117.345527,
          -117.34582800000001,
          -117.346313,
          -117.34669600000001,
          -117.347061,
          -117.347659,
          -117.348214,
          -117.34837600000002,
          -117.348861,
          -117.349023,
          -117.34923900000001
         ],
         "mode": "lines",
         "name": "moderate",
         "showlegend": false,
         "subplot": "mapbox",
         "type": "scattermapbox"
        },
        {
         "customdata": [
          [
           52.990394424106626,
           60.00349946898622
          ],
          [
           53.006129303996445,
           60.12521546813393
          ],
          [
           53.01146608110876,
           60.166497712612575
          ],
          [
           53.03541947716258,
           60.35178743545042
          ],
          [
           53.05302523605639,
           60.487975480705266
          ],
          [
           53.06127252990472,
           60.55177181204323
          ],
          [
           53.0686021925719,
           60.608469875275915
          ],
          [
           53.086714939465125,
           60.74857968868761
          ],
          [
           53.11301702522734,
           60.9520375269828
          ],
          [
           53.137372984769655,
           61.14044124989979
          ],
          [
           53.14304689870251,
           61.184331391308625
          ],
          [
           53.161650408895035,
           61.301931433277794
          ],
          [
           53.16797187131735,
           61.305276122390126
          ],
          [
           53.18702101407317,
           61.31535503390114
          ],
          [
           53.19342340909106,
           61.31874254449262
          ],
          [
           53.2156433813526,
           61.3304991435728
          ],
          [
           53.22874440817203,
           61.33743090379472
          ],
          [
           53.28234574342419,
           61.365791398637136
          ],
          [
           53.30463984871335,
           61.377587221541454
          ],
          [
           53.308560510906275,
           61.379661645982154
          ],
          [
           53.31216120533954,
           61.381566775311924
          ],
          [
           53.320332169959656,
           61.385890037015685
          ],
          [
           53.32431278946932,
           61.387996184904395
          ],
          [
           53.326660974402174,
           61.3892386107948
          ],
          [
           53.3337278768701,
           61.39297771262968
          ],
          [
           53.33610133721017,
           61.39423351175141
          ],
          [
           53.457730790885606,
           61.458587720045294
          ],
          [
           53.56987900658871,
           61.51792540031148
          ],
          [
           53.62097752991544,
           61.544961656039916
          ],
          [
           53.69737898821138,
           61.58538570804835
          ],
          [
           53.709715319948266,
           61.591912867697495
          ],
          [
           53.73421918151043,
           61.60487787381504
          ],
          [
           53.7469036444305,
           61.61158922985741
          ],
          [
           53.75956766571022,
           61.61828977021705
          ],
          [
           53.79796558208488,
           61.63860612808723
          ],
          [
           53.85397716760212,
           61.66824188762016
          ],
          [
           53.86092918444994,
           61.67192020341266
          ],
          [
           53.874942935091845,
           61.679334886291976
          ],
          [
           53.91470041155103,
           61.70037058812223
          ],
          [
           53.9185010838787,
           61.702381525861746
          ],
          [
           53.95791539148529,
           61.72323565687052
          ],
          [
           54.00120672866655,
           61.746141126278594
          ],
          [
           54.046106613849695,
           61.76989767928555
          ],
          [
           54.0638607723989,
           61.77929141396767
          ],
          [
           54.077973738686445,
           61.78675859189759
          ],
          [
           54.12046218656976,
           61.80923925215331
          ],
          [
           54.134662489007034,
           61.81675263968626
          ],
          [
           54.16712488415932,
           61.833928510137206
          ],
          [
           54.264511869637126,
           61.885456015681015
          ],
          [
           54.29700104042639,
           61.94152807421204
          ],
          [
           54.30638433686743,
           62.01944590684968
          ],
          [
           54.334901180274784,
           62.256246549984944
          ],
          [
           54.34424063123843,
           62.33380029473605
          ],
          [
           54.35082404249966,
           62.38846819743533
          ],
          [
           54.36048785921868,
           62.468715438741675
          ],
          [
           54.369888824111015,
           62.546779988201
          ],
          [
           54.37631079037318,
           62.6001072698833
          ],
          [
           54.417944870772445,
           62.94583196577825
          ],
          [
           54.43549804865645,
           63.09159157011538
          ],
          [
           54.48233334605105,
           63.48050658381614
          ],
          [
           54.53344730883328,
           63.90495115108909
          ],
          [
           54.5685058112328,
           64.19607299080238
          ],
          [
           54.61325219881919,
           64.56764193365758
          ],
          [
           54.622577615532805,
           64.64507913958337
          ],
          [
           54.672978275916684,
           65.0636005243965
          ]
         ],
         "hovertemplate": "speed_cat=moderate<br>linegroup=41<br>latitude=%{lat}<br>longitude=%{lon}<br>abs_pm=%{customdata[0]}<br>avg_speed=%{customdata[1]}<extra></extra>",
         "lat": [
          33.19870999999999,
          33.19886799999999,
          33.198921999999996,
          33.19915199999999,
          33.19931199999999,
          33.19938899999999,
          33.199452,
          33.19959699999999,
          33.199792999999985,
          33.19995999999999,
          33.199998,
          33.20012299999999,
          33.20015999999999,
          33.200274,
          33.20031199999999,
          33.200442999999986,
          33.20052199999999,
          33.200821999999995,
          33.20094799999999,
          33.200969,
          33.20098999999999,
          33.201025,
          33.201043999999996,
          33.201056,
          33.201094999999995,
          33.20110799999999,
          33.201792999999995,
          33.202396,
          33.202671999999986,
          33.203092999999996,
          33.20317899999999,
          33.203351999999995,
          33.20345199999999,
          33.20355399999999,
          33.20385799999999,
          33.20434,
          33.20441199999999,
          33.20453899999999,
          33.20497699999999,
          33.20501999999999,
          33.20546199999999,
          33.205959,
          33.20651999999999,
          33.20673399999999,
          33.206918,
          33.207471999999996,
          33.20765699999999,
          33.20807299999999,
          33.209320999999996,
          33.20973699999999,
          33.20985699999999,
          33.21022299999999,
          33.210346,
          33.210428,
          33.21055299999999,
          33.210675,
          33.21075799999999,
          33.211297,
          33.211521999999995,
          33.212122,
          33.21277299999999,
          33.21322899999999,
          33.213816,
          33.21393799999999,
          33.21460499999999
         ],
         "legendgroup": "moderate",
         "line": {
          "color": "#EF553B"
         },
         "lon": [
          -117.369719,
          -117.369915,
          -117.369981,
          -117.37029100000001,
          -117.37052800000001,
          -117.37063700000002,
          -117.370739,
          -117.371,
          -117.37139,
          -117.371761,
          -117.371848,
          -117.372133,
          -117.372233,
          -117.372533,
          -117.372634,
          -117.372985,
          -117.373191,
          -117.374046,
          -117.374401,
          -117.374464,
          -117.37452100000002,
          -117.374656,
          -117.374721,
          -117.374759,
          -117.374872,
          -117.37491,
          -117.376848,
          -117.378649,
          -117.379469,
          -117.380691,
          -117.380878,
          -117.381248,
          -117.381432,
          -117.381614,
          -117.38217,
          -117.382949,
          -117.383033,
          -117.383222,
          -117.383668,
          -117.383709,
          -117.38414,
          -117.384596,
          -117.384988,
          -117.385158,
          -117.385264,
          -117.385583,
          -117.38569000000001,
          -117.385951,
          -117.386734,
          -117.38699600000001,
          -117.387072,
          -117.3873,
          -117.38736700000001,
          -117.387425,
          -117.3875,
          -117.387572,
          -117.38762200000001,
          -117.387944,
          -117.388085,
          -117.388462,
          -117.388882,
          -117.389148,
          -117.389475,
          -117.38954400000001,
          -117.389897
         ],
         "mode": "lines",
         "name": "moderate",
         "showlegend": false,
         "subplot": "mapbox",
         "type": "scattermapbox"
        },
        {
         "customdata": [
          [
           55.48334073748773,
           64.9741140825319
          ],
          [
           55.862004963086385,
           64.01321637818508
          ],
          [
           55.97055296688141,
           64.37142479070864
          ],
          [
           56.07108807338555,
           64.70319064217233
          ],
          [
           56.244988208140235,
           65.27706108686279
          ]
         ],
         "hovertemplate": "speed_cat=moderate<br>linegroup=43<br>latitude=%{lat}<br>longitude=%{lon}<br>abs_pm=%{customdata[0]}<br>avg_speed=%{customdata[1]}<extra></extra>",
         "lat": [
          33.225152,
          33.229165,
          33.230326999999996,
          33.231403,
          33.23323599999999
         ],
         "legendgroup": "moderate",
         "line": {
          "color": "#EF553B"
         },
         "lon": [
          -117.395332,
          -117.399794,
          -117.401058,
          -117.402229,
          -117.404291
         ],
         "mode": "lines",
         "name": "moderate",
         "showlegend": false,
         "subplot": "mapbox",
         "type": "scattermapbox"
        },
        {
         "customdata": [
          [
           60.11115782365977,
           64.8686618707512
          ],
          [
           60.253792257740024,
           64.43396645260184
          ],
          [
           60.6136874270958,
           63.85359612384528
          ],
          [
           60.76593184965137,
           63.815343756369
          ],
          [
           60.87250745862549,
           63.788565965169475
          ],
          [
           61.00638197051629,
           63.75492915313661
          ],
          [
           61.14274895551785,
           63.72066609157843
          ],
          [
           61.37922059155787,
           63.66125110764877
          ],
          [
           61.388710996063864,
           63.65886658390355
          ],
          [
           61.498262418646284,
           63.63134110084264
          ],
          [
           61.53891226753552,
           63.62112757097097
          ],
          [
           61.56034057014535,
           63.61574357534036
          ],
          [
           61.57813495052294,
           63.611272625496746
          ],
          [
           61.59276584686197,
           63.60759652088895
          ],
          [
           61.610855533436975,
           63.60305137350829
          ],
          [
           61.6686265420744,
           63.588536044704924
          ],
          [
           61.73417024573865,
           63.572067777452595
          ],
          [
           61.77208536104137,
           63.56254136657252
          ],
          [
           61.88596816461613,
           63.53392759683012
          ],
          [
           61.89810340666206,
           63.530878541039684
          ],
          [
           61.91517266467089,
           63.52658978274601
          ],
          [
           62.01596704571335,
           63.501264561378555
          ],
          [
           62.356635250052015,
           63.415669535162806
          ],
          [
           62.4210571567923,
           63.401086646044135
          ],
          [
           62.44975336804911,
           63.41624476357827
          ],
          [
           62.47285840583037,
           63.428449471551204
          ],
          [
           62.64144937707,
           63.517503797725986
          ],
          [
           63.016901897320885,
           63.7158280078288
          ],
          [
           63.19623286960689,
           63.810555494014864
          ],
          [
           63.24319204572036,
           63.83536060520059
          ],
          [
           63.30441462894217,
           63.86770003509656
          ],
          [
           63.33349984501412,
           63.88306363553073
          ],
          [
           63.37796859607534,
           63.90655323661953
          ],
          [
           63.40691817564044,
           63.921845190169925
          ],
          [
           63.43511431859522,
           63.93673915805624
          ],
          [
           63.48315209483796,
           63.96211401510094
          ],
          [
           63.50926993475125,
           63.975910166920436
          ],
          [
           63.55617047597125,
           64.00068430556422
          ],
          [
           63.75703147816058,
           64.10678453782005
          ],
          [
           63.79205105267407,
           64.12528282742771
          ],
          [
           63.81738643137343,
           64.13866566199984
          ],
          [
           63.84703494654199,
           64.15432681230347
          ],
          [
           63.875114293767574,
           64.16915908551606
          ],
          [
           63.91208567706109,
           64.18868837348886
          ],
          [
           63.94966931647918,
           64.20854107176187
          ],
          [
           63.985234544551865,
           64.22732759038725
          ],
          [
           64.01583338407191,
           64.24349072780292
          ],
          [
           64.04320811638799,
           64.2579508042987
          ],
          [
           64.06513085278206,
           64.26953098859403
          ],
          [
           64.08727771980986,
           64.28122956477246
          ],
          [
           64.106649628789,
           64.2914623328037
          ],
          [
           64.12784771228934,
           64.30265973577515
          ],
          [
           64.14660570120422,
           64.3125682145681
          ],
          [
           64.18846587948191,
           64.33467989672204
          ],
          [
           64.21257563180168,
           64.34741532217983
          ],
          [
           64.2217499917507,
           64.35226146807564
          ],
          [
           64.36693682590021,
           64.42895309390569
          ],
          [
           64.43507914194187,
           64.46494771446253
          ],
          [
           64.63277419083066,
           64.56937560426843
          ],
          [
           64.94729176333006,
           64.73551232133644
          ],
          [
           65.06583573694198,
           64.7981304652054
          ],
          [
           65.33969825975926,
           64.94279208174804
          ],
          [
           65.489112312077,
           64.99015727335173
          ],
          [
           65.61162011759673,
           64.96082759615548
          ],
          [
           65.94432131568233,
           64.88117537561934
          ],
          [
           66.09245161648339,
           64.84571139936861
          ],
          [
           66.36474293957625,
           64.78052194816775
          ],
          [
           66.54271068335566,
           64.73791456936236
          ],
          [
           66.67520625681965,
           64.70619371383691
          ],
          [
           66.67664671813068,
           64.7058488520129
          ],
          [
           66.68528819541856,
           64.70377999004712
          ],
          [
           66.68834514020894,
           64.70304812481186
          ],
          [
           66.72670902628482,
           64.6938634007053
          ],
          [
           66.74270146183608,
           64.69003464081273
          ],
          [
           66.76617979567418,
           64.68441367691042
          ],
          [
           66.95515104960714,
           64.63917194024138
          ],
          [
           67.028327499284,
           64.62165271656184
          ],
          [
           67.06143327901431,
           64.61372683927834
          ],
          [
           67.35334960937972,
           64.54383895171388
          ],
          [
           67.45921633018921,
           64.51849332794734
          ],
          [
           67.4895131883904,
           64.51123993648112
          ],
          [
           67.52180312681729,
           64.50350938031998
          ],
          [
           67.65265520447885,
           64.47218199524447
          ],
          [
           67.97387715566119,
           64.39527802903139
          ],
          [
           68.36551489635718,
           64.30151577066955
          ],
          [
           68.54871964012705,
           64.25765459812797
          ],
          [
           68.6780494281292,
           64.2266916654571
          ],
          [
           68.7916562119166,
           64.19949298793894
          ],
          [
           68.90758152039075,
           64.17173923084567
          ],
          [
           69.19896791803747,
           64.10197821483449
          ],
          [
           69.32131467891713,
           64.07268709344525
          ],
          [
           69.5636055447386,
           64.01468007216204
          ],
          [
           69.79119448774266,
           63.96019284823841
          ],
          [
           69.82391684051672,
           63.95235876746377
          ],
          [
           69.85035574129599,
           63.94602901221275
          ],
          [
           69.86147213266447,
           63.94336762938052
          ],
          [
           69.87078216341848,
           63.941138708573845
          ],
          [
           69.89593011735548,
           63.93511801978598
          ],
          [
           69.9365555462047,
           63.92539185818304
          ],
          [
           69.98066102188393,
           63.91483253619722
          ],
          [
           70.00720014411401,
           63.90847878686037
          ],
          [
           70.06010882417169,
           63.8958118837158
          ],
          [
           70.11051856021153,
           63.88374325446133
          ],
          [
           70.13474875286404,
           63.87794228752795
          ],
          [
           70.15384165774003,
           63.87337124216169
          ],
          [
           70.19228901043475,
           63.86416653525504
          ],
          [
           70.20483986331625,
           63.861161727014526
          ],
          [
           70.22460129418153,
           63.85643062938564
          ],
          [
           70.25224413245263,
           63.849812638639335
          ],
          [
           70.32071444317079,
           63.83342011489466
          ],
          [
           70.53999895701689,
           63.78092106001438
          ],
          [
           70.71528441901762,
           63.73895584811733
          ]
         ],
         "hovertemplate": "speed_cat=moderate<br>linegroup=45<br>latitude=%{lat}<br>longitude=%{lon}<br>abs_pm=%{customdata[0]}<br>avg_speed=%{customdata[1]}<extra></extra>",
         "lat": [
          33.27635,
          33.278092,
          33.28247799999999,
          33.28434599999999,
          33.285654,
          33.287282999999995,
          33.28894199999999,
          33.291871,
          33.29198699999999,
          33.29332699999999,
          33.293807,
          33.29404699999999,
          33.294229,
          33.294385999999996,
          33.29457399999999,
          33.295162999999995,
          33.29583999999999,
          33.296223999999995,
          33.297378,
          33.29750099999999,
          33.297674,
          33.298708999999995,
          33.30214999999999,
          33.30281,
          33.30310399999999,
          33.30333699999999,
          33.305044999999986,
          33.308861,
          33.310693,
          33.311166,
          33.311833,
          33.312173,
          33.312723999999996,
          33.31309499999999,
          33.313465,
          33.314119999999996,
          33.314484,
          33.315149999999996,
          33.31804799999999,
          33.31855399999999,
          33.318919,
          33.319342999999996,
          33.319744,
          33.32026499999999,
          33.32078099999999,
          33.321253999999996,
          33.321647999999996,
          33.32199399999999,
          33.322259999999986,
          33.322518999999986,
          33.32273699999999,
          33.32296699999999,
          33.32314999999999,
          33.32355799999999,
          33.32378899999999,
          33.323876999999996,
          33.32526699999999,
          33.325908999999996,
          33.327774999999995,
          33.33076599999999,
          33.33189999999999,
          33.334496,
          33.33591899999999,
          33.33708099999999,
          33.34024099999999,
          33.341654999999996,
          33.34425699999999,
          33.345943999999996,
          33.347187999999996,
          33.34720399999999,
          33.347287,
          33.34731599999999,
          33.347678,
          33.34782899999999,
          33.34805,
          33.349783999999985,
          33.35046799999999,
          33.350763,
          33.353435999999995,
          33.354407,
          33.354689,
          33.35498799999999,
          33.35618399999999,
          33.359132999999986,
          33.36273299999999,
          33.364404,
          33.36559599999999,
          33.366641,
          33.36766,
          33.36995699999999,
          33.37094199999999,
          33.37285399999999,
          33.37465699999999,
          33.374933999999996,
          33.375161999999996,
          33.375265999999996,
          33.375357,
          33.37561199999999,
          33.37601999999999,
          33.37648,
          33.37676299999999,
          33.377321,
          33.37782299999999,
          33.378042,
          33.378213999999986,
          33.37853299999999,
          33.378634999999996,
          33.378772999999995,
          33.37894599999999,
          33.379363999999995,
          33.380701,
          33.38179699999999
         ],
         "legendgroup": "moderate",
         "line": {
          "color": "#EF553B"
         },
         "lon": [
          -117.445631,
          -117.446956,
          -117.450317,
          -117.451715,
          -117.452693,
          -117.453948,
          -117.455227,
          -117.457345,
          -117.457433,
          -117.458447,
          -117.45885400000002,
          -117.459089,
          -117.459307,
          -117.459477,
          -117.45969500000001,
          -117.46040500000001,
          -117.4612,
          -117.461669,
          -117.463077,
          -117.463227,
          -117.463438,
          -117.464668,
          -117.468893,
          -117.469681,
          -117.470032,
          -117.470319,
          -117.472404,
          -117.477033,
          -117.479233,
          -117.47981700000001,
          -117.480515,
          -117.480812,
          -117.48121,
          -117.481443,
          -117.481649,
          -117.48192800000001,
          -117.48205,
          -117.482207,
          -117.48248200000002,
          -117.482517,
          -117.482559,
          -117.482638,
          -117.48271700000001,
          -117.48286300000001,
          -117.483069,
          -117.483312,
          -117.483554,
          -117.483785,
          -117.483992,
          -117.484218,
          -117.484429,
          -117.484672,
          -117.48491200000001,
          -117.48544800000002,
          -117.485761,
          -117.48588000000001,
          -117.487766,
          -117.488662,
          -117.491258,
          -117.495365,
          -117.49690600000001,
          -117.500491,
          -117.50244,
          -117.504043,
          -117.508392,
          -117.510321,
          -117.513864,
          -117.516194,
          -117.51794100000001,
          -117.51795700000001,
          -117.518069,
          -117.518109,
          -117.518613,
          -117.518823,
          -117.519132,
          -117.521664,
          -117.52263200000002,
          -117.52308400000001,
          -117.527001,
          -117.52842,
          -117.528822,
          -117.529252,
          -117.53101,
          -117.535313,
          -117.540555,
          -117.54302,
          -117.544748,
          -117.546268,
          -117.547864,
          -117.552099,
          -117.553861,
          -117.557381,
          -117.560682,
          -117.561142,
          -117.56151,
          -117.561657,
          -117.561776,
          -117.562087,
          -117.562594,
          -117.563124,
          -117.563435,
          -117.564063,
          -117.564697,
          -117.565025,
          -117.565284,
          -117.56583,
          -117.56601,
          -117.56631000000002,
          -117.566742,
          -117.567818,
          -117.571265,
          -117.57400500000001
         ],
         "mode": "lines",
         "name": "moderate",
         "showlegend": false,
         "subplot": "mapbox",
         "type": "scattermapbox"
        },
        {
         "customdata": [
          [
           5.4059831134529315,
           57.695048082658545
          ],
          [
           5.439905843592157,
           57.77575450125532
          ],
          [
           5.48912254776829,
           57.892847197299844
          ],
          [
           5.5791326356260456,
           58.10699245620932
          ],
          [
           5.673123390331205,
           58.330608219514
          ],
          [
           5.687091424172432,
           58.36383991936649
          ],
          [
           5.973159204128486,
           59.04443095379763
          ],
          [
           6.1708001043613,
           59.5146433795242
          ],
          [
           6.179956751373043,
           59.536428188224434
          ],
          [
           6.285358633483247,
           59.78719245111133
          ],
          [
           6.320540249027702,
           59.870893915568594
          ],
          [
           6.609626526039136,
           60.55866633209618
          ]
         ],
         "hovertemplate": "speed_cat=slow<br>linegroup=2<br>latitude=%{lat}<br>longitude=%{lon}<br>abs_pm=%{customdata[0]}<br>avg_speed=%{customdata[1]}<extra></extra>",
         "lat": [
          32.596212,
          32.59669999999999,
          32.597408,
          32.59870399999999,
          32.600059,
          32.600259,
          32.60437799999999,
          32.60722599999999,
          32.60735799999999,
          32.608876999999985,
          32.60938399999999,
          32.61354699999999
         ],
         "legendgroup": "slow",
         "line": {
          "color": "#00cc96"
         },
         "lon": [
          -117.089132,
          -117.089196,
          -117.089289,
          -117.08944600000001,
          -117.089589,
          -117.089624,
          -117.09012200000001,
          -117.090439,
          -117.090453,
          -117.09062000000002,
          -117.09067600000002,
          -117.09117300000001
         ],
         "mode": "lines",
         "name": "slow",
         "showlegend": true,
         "subplot": "mapbox",
         "type": "scattermapbox"
        },
        {
         "customdata": [
          [
           6.9087671314018975,
           59.91276309414172
          ],
          [
           6.9236788975731285,
           59.876392932748466
          ],
          [
           6.9345613400638495,
           59.84985039008817
          ],
          [
           6.949283670574154,
           59.81394226689231
          ],
          [
           6.977371170263215,
           59.74543617008972
          ],
          [
           7.170394665777051,
           59.27464715664134
          ],
          [
           7.226118949084941,
           59.22438732920868
          ],
          [
           7.298115504113793,
           59.29428689719786
          ],
          [
           7.347338333177908,
           59.342076051629036
          ],
          [
           7.434963813794156,
           59.42714933378073
          ],
          [
           7.445612866693772,
           59.43748822009104
          ],
          [
           7.460483229737201,
           59.451925465764276
          ],
          [
           7.476898507546969,
           59.467862628686376
          ],
          [
           7.521238388096005,
           59.51091105640389
          ],
          [
           7.7283550968904136,
           59.71199523969943
          ],
          [
           7.971319111927837,
           59.86593900949257
          ],
          [
           7.979376913037517,
           59.869427235081176
          ],
          [
           7.9954164826558936,
           59.87637077171251
          ],
          [
           8.228432843766884,
           59.97724365531034
          ],
          [
           8.252969555662911,
           59.98786560851208
          ],
          [
           8.26783164414186,
           59.994299413048424
          ],
          [
           8.391131366501629,
           60.04767591623447
          ]
         ],
         "hovertemplate": "speed_cat=slow<br>linegroup=4<br>latitude=%{lat}<br>longitude=%{lon}<br>abs_pm=%{customdata[0]}<br>avg_speed=%{customdata[1]}<extra></extra>",
         "lat": [
          32.61784999999999,
          32.618062,
          32.618214,
          32.618418999999996,
          32.61880699999999,
          32.62147199999999,
          32.62224299999999,
          32.62323599999999,
          32.62391499999999,
          32.62512499999999,
          32.625271999999995,
          32.625478,
          32.625704,
          32.62631499999999,
          32.629151,
          32.632486,
          32.63259599999999,
          32.632812,
          32.636009,
          32.636345999999996,
          32.636549999999986,
          32.638242999999996
         ],
         "legendgroup": "slow",
         "line": {
          "color": "#00cc96"
         },
         "lon": [
          -117.091732,
          -117.09178,
          -117.091829,
          -117.091898,
          -117.09204199999999,
          -117.093037,
          -117.093318,
          -117.09369300000002,
          -117.093949,
          -117.0944,
          -117.094455,
          -117.09452900000001,
          -117.094616,
          -117.094849,
          -117.096002,
          -117.097326,
          -117.097372,
          -117.09747300000001,
          -117.09874800000001,
          -117.098881,
          -117.098962,
          -117.099632
         ],
         "mode": "lines",
         "name": "slow",
         "showlegend": false,
         "subplot": "mapbox",
         "type": "scattermapbox"
        },
        {
         "customdata": [
          [
           9.976285801005428,
           59.75847811708394
          ],
          [
           10.018936874013843,
           59.24552534593597
          ],
          [
           10.146816931913056,
           57.707546921312904
          ],
          [
           10.189552269695092,
           57.193580720816264
          ],
          [
           10.213910178251759,
           56.9006348272617
          ],
          [
           10.287198842760134,
           56.019212136069655
          ],
          [
           10.31177171038684,
           55.72368098866607
          ],
          [
           10.322043981422567,
           55.600139198926804
          ],
          [
           10.353188615841262,
           55.22557121259952
          ],
          [
           10.36359202802115,
           55.10045222424451
          ],
          [
           10.373271987521667,
           54.98403400308017
          ],
          [
           10.40246168770252,
           54.632977475292634
          ],
          [
           10.412226912027355,
           54.51553379744383
          ],
          [
           10.513325801501624,
           53.29964514897823
          ],
          [
           10.564254431035769,
           52.68714047306647
          ],
          [
           10.596234211353323,
           52.302528415795216
          ],
          [
           10.614636993983126,
           52.08120319040338
          ],
          [
           10.632424814610488,
           51.86727394455092
          ],
          [
           10.66477743405681,
           51.47817785321432
          ],
          [
           10.66768459477564,
           51.44321422764263
          ],
          [
           10.676671433475159,
           51.33513198047693
          ],
          [
           10.679781177024557,
           51.29773194669797
          ],
          [
           10.706319387823603,
           50.97856415535087
          ],
          [
           10.723924518758043,
           50.76683206838879
          ],
          [
           10.737632980638857,
           50.601964152672984
          ],
          [
           10.748555838738262,
           50.47059793054205
          ],
          [
           10.752658813410605,
           50.42125257813525
          ],
          [
           10.760110137563824,
           50.33163754377583
          ],
          [
           10.769712653748277,
           50.2161507121588
          ],
          [
           10.7726476482283,
           50.18085233756609
          ],
          [
           10.800499245048512,
           49.87526593036158
          ]
         ],
         "hovertemplate": "speed_cat=slow<br>linegroup=6<br>latitude=%{lat}<br>longitude=%{lon}<br>abs_pm=%{customdata[0]}<br>avg_speed=%{customdata[1]}<extra></extra>",
         "lat": [
          32.660018,
          32.660600999999986,
          32.662348,
          32.66293199999999,
          32.663266,
          32.66427099999999,
          32.664608,
          32.664749,
          32.665176999999986,
          32.66532,
          32.66545099999999,
          32.665846,
          32.665977999999996,
          32.667370999999996,
          32.668086999999986,
          32.66854099999999,
          32.668804,
          32.66906099999999,
          32.66952899999999,
          32.66957099999999,
          32.669700999999996,
          32.669745999999996,
          32.67013,
          32.67038399999999,
          32.67058099999999,
          32.670738,
          32.670797,
          32.670904,
          32.67103999999999,
          32.67107899999999,
          32.67147599999999
         ],
         "legendgroup": "slow",
         "line": {
          "color": "#00cc96"
         },
         "lon": [
          -117.108165,
          -117.108406,
          -117.10913200000002,
          -117.109374,
          -117.109508,
          -117.10991100000001,
          -117.110046,
          -117.110102,
          -117.11027,
          -117.11032600000001,
          -117.11038500000001,
          -117.110563,
          -117.110623,
          -117.111155,
          -117.111363,
          -117.11147,
          -117.11152,
          -117.111538,
          -117.11155600000001,
          -117.111553,
          -117.111548,
          -117.111547,
          -117.111537,
          -117.111513,
          -117.111485,
          -117.111463,
          -117.111455,
          -117.111439,
          -117.111405,
          -117.111385,
          -117.111302
         ],
         "mode": "lines",
         "name": "slow",
         "showlegend": false,
         "subplot": "mapbox",
         "type": "scattermapbox"
        },
        {
         "customdata": [
          [
           12.693913663777902,
           50.06970253851414
          ],
          [
           12.700329467763227,
           50.14446938810691
          ],
          [
           12.71065955913389,
           50.26485155526108
          ],
          [
           12.72671588192381,
           50.451964608245994
          ],
          [
           12.735655296637892,
           50.55614046475655
          ],
          [
           12.74007844616654,
           50.60768582934237
          ],
          [
           12.753630032462569,
           50.208913226805066
          ],
          [
           12.758073100671611,
           49.821360926819274
          ]
         ],
         "hovertemplate": "speed_cat=slow<br>linegroup=8<br>latitude=%{lat}<br>longitude=%{lon}<br>abs_pm=%{customdata[0]}<br>avg_speed=%{customdata[1]}<extra></extra>",
         "lat": [
          32.69385599999999,
          32.693896999999986,
          32.69394799999999,
          32.69403299999999,
          32.694075999999995,
          32.694093999999986,
          32.69415099999999,
          32.694169999999986
         ],
         "legendgroup": "slow",
         "line": {
          "color": "#00cc96"
         },
         "lon": [
          -117.123764,
          -117.123863,
          -117.12403,
          -117.124287,
          -117.124432,
          -117.12450500000001,
          -117.124728,
          -117.124801
         ],
         "mode": "lines",
         "name": "slow",
         "showlegend": false,
         "subplot": "mapbox",
         "type": "scattermapbox"
        },
        {
         "customdata": [
          [
           13.371395932249307,
           52.854953804876885
          ],
          [
           13.404679399145174,
           53.14415643039497
          ],
          [
           13.429594127150176,
           53.33030094997258
          ],
          [
           13.50438313113527,
           53.88906937055087
          ],
          [
           13.529342791373457,
           54.07554959072123
          ],
          [
           13.558130343533701,
           54.29062900341271
          ],
          [
           13.57058835966157,
           54.38370613540254
          ],
          [
           13.645263614165653,
           54.94162470353649
          ],
          [
           13.67441297051901,
           55.15940725100409
          ],
          [
           13.680286454372292,
           55.203289601632065
          ],
          [
           13.697994548062052,
           55.33559145103832
          ],
          [
           13.703911891933464,
           55.37980149145691
          ],
          [
           13.722953783729066,
           55.522068499125204
          ],
          [
           13.780124254357819,
           55.949204199225086
          ],
          [
           13.79925485429202,
           56.09213396884842
          ],
          [
           13.804148747987263,
           56.12869754243357
          ],
          [
           13.818882369049824,
           56.23877632048719
          ],
          [
           13.823821296044015,
           56.275676349754136
          ],
          [
           13.840682216035049,
           56.401648740491744
          ],
          [
           13.859055702456729,
           56.538921914906595
          ],
          [
           13.891442317574981,
           56.780890878433766
          ],
          [
           13.908525453964137,
           56.908523506628605
          ],
          [
           13.921652461769586,
           57.00659885230151
          ],
          [
           13.961469830065047,
           57.30408493726759
          ],
          [
           13.974683786968775,
           57.40280990264027
          ],
          [
           13.9779314046909,
           57.42707371320787
          ],
          [
           13.987677247949577,
           57.49988748468075
          ],
          [
           13.99092486312601,
           57.52415127622881
          ],
          [
           14.00266941240376,
           57.61189790876372
          ],
          [
           14.038036942120195,
           57.8761380733118
          ],
          [
           14.04991544032878,
           57.96488547372077
          ],
          [
           14.071461053742023,
           58.125858447497876
          ],
          [
           14.126614308017134,
           58.53792299093261
          ],
          [
           14.136267838402912,
           58.6100470685275
          ],
          [
           14.157888207391203,
           58.771578560968756
          ],
          [
           14.159890961243446,
           58.78654166446253
          ],
          [
           14.166208016869948,
           58.83373805707433
          ],
          [
           14.168388723874145,
           58.85003069561143
          ],
          [
           14.199447175735639,
           59.08207660032374
          ],
          [
           14.20647728572998,
           59.134600410626284
          ],
          [
           14.237368681460074,
           59.36539819481665
          ],
          [
           14.247562601450992,
           59.44155966601316
          ],
          [
           14.2651891625832,
           59.573252364127356
          ],
          [
           14.280051366062532,
           59.68429181540972
          ],
          [
           14.294341539823938,
           59.79105748144321
          ],
          [
           14.295917589289454,
           59.80283256365684
          ],
          [
           14.311752355761676,
           59.921138290173445
          ],
          [
           14.32754202162708,
           60.039107058133354
          ]
         ],
         "hovertemplate": "speed_cat=slow<br>linegroup=10<br>latitude=%{lat}<br>longitude=%{lon}<br>abs_pm=%{customdata[0]}<br>avg_speed=%{customdata[1]}<extra></extra>",
         "lat": [
          32.69561699999999,
          32.69592,
          32.69615499999999,
          32.69686099999999,
          32.69709699999999,
          32.697359999999996,
          32.697474,
          32.698191,
          32.698471,
          32.698527,
          32.698695,
          32.698751,
          32.698926,
          32.699450999999996,
          32.699626999999985,
          32.699671999999985,
          32.699795,
          32.69984,
          32.69999599999999,
          32.700165999999996,
          32.700466999999996,
          32.70062699999999,
          32.700745999999995,
          32.70111299999999,
          32.70123399999999,
          32.701264,
          32.701351999999986,
          32.701381999999995,
          32.70149099999999,
          32.70182299999999,
          32.70193499999999,
          32.70212699999999,
          32.70261899999999,
          32.70270899999999,
          32.702909999999996,
          32.702927999999986,
          32.702987,
          32.70300799999999,
          32.703289999999996,
          32.70335399999999,
          32.70362999999999,
          32.703728999999996,
          32.703913,
          32.704077999999996,
          32.704245,
          32.704264,
          32.704457999999995,
          32.70465999999999
         ],
         "legendgroup": "slow",
         "line": {
          "color": "#00cc96"
         },
         "lon": [
          -117.134911,
          -117.135356,
          -117.135681,
          -117.136656,
          -117.136981,
          -117.137365,
          -117.137531,
          -117.138492,
          -117.138867,
          -117.138943,
          -117.139173,
          -117.13925,
          -117.13950300000002,
          -117.140263,
          -117.140517,
          -117.140582,
          -117.140789,
          -117.140855,
          -117.141078,
          -117.141321,
          -117.141748,
          -117.141972,
          -117.142148,
          -117.142676,
          -117.142852,
          -117.14289500000001,
          -117.143026,
          -117.143069,
          -117.143224,
          -117.143687,
          -117.14384199999999,
          -117.14413400000001,
          -117.144881,
          -117.145008,
          -117.145293,
          -117.14532,
          -117.14540300000002,
          -117.14543100000002,
          -117.145847,
          -117.14594100000001,
          -117.146359,
          -117.146489,
          -117.146699,
          -117.146863,
          -117.147008,
          -117.147023,
          -117.14716800000001,
          -117.14729500000001
         ],
         "mode": "lines",
         "name": "slow",
         "showlegend": false,
         "subplot": "mapbox",
         "type": "scattermapbox"
        },
        {
         "customdata": [
          [
           14.717637160372526,
           59.945907099068684
          ],
          [
           14.73201280432331,
           59.90996798919173
          ],
          [
           14.746799232842852,
           59.87300191789287
          ],
          [
           14.791503218388037,
           59.761241954029906
          ],
          [
           14.806428395434764,
           59.72392901141309
          ],
          [
           14.80794955986664,
           59.7201261003334
          ],
          [
           14.812649344366454,
           59.708376639083866
          ],
          [
           14.814380586248394,
           59.70404853437902
          ],
          [
           14.829581562233727,
           59.666046094415684
          ],
          [
           14.87518319322206,
           59.59487080395132
          ],
          [
           14.89052191118067,
           59.59076954246506
          ],
          [
           14.954918175077292,
           59.573551290086286
          ],
          [
           14.958856494553014,
           59.5724982634885
          ],
          [
           14.970602935085964,
           59.56935750398771
          ],
          [
           14.97461034788522,
           59.568286003239244
          ],
          [
           14.977512267499142,
           59.56751008890397
          ],
          [
           14.9863569772125,
           59.565145193258694
          ],
          [
           14.989328558842134,
           59.56435065271601
          ],
          [
           15.003908293347644,
           59.56045232798191
          ],
          [
           15.012683338077899,
           59.55810605933746
          ],
          [
           15.077356805795059,
           59.54081368829009
          ],
          [
           15.098915177009152,
           59.53504941791199
          ],
          [
           15.102300749891768,
           59.53414418452092
          ],
          [
           15.11273448963677,
           59.53135441453562
          ],
          [
           15.116189644911127,
           59.53043057622697
          ],
          [
           15.127107009222827,
           59.52751149486021
          ],
          [
           15.160067036878937,
           59.518698653240925
          ],
          [
           15.171054259559432,
           59.515760893165925
          ],
          [
           15.1855064603401,
           59.51189666835826
          ],
          [
           15.229279644623569,
           59.50019260838942
          ],
          [
           15.243872352749076,
           59.62745965132697
          ],
          [
           15.24747272207301,
           59.66053996776483
          ],
          [
           15.275112252497069,
           59.914492918242296
          ],
          [
           15.291510569498453,
           60.06516121547723
          ]
         ],
         "hovertemplate": "speed_cat=slow<br>linegroup=12<br>latitude=%{lat}<br>longitude=%{lon}<br>abs_pm=%{customdata[0]}<br>avg_speed=%{customdata[1]}<extra></extra>",
         "lat": [
          32.710247999999986,
          32.710456,
          32.71067,
          32.711317,
          32.711532999999996,
          32.71155499999999,
          32.711622999999996,
          32.71164799999999,
          32.711867999999996,
          32.71252799999999,
          32.712749999999986,
          32.71368199999999,
          32.71373899999999,
          32.713909,
          32.71396699999999,
          32.71400899999999,
          32.714137,
          32.71417999999999,
          32.71439099999999,
          32.71451799999999,
          32.715454,
          32.715765999999995,
          32.71581499999999,
          32.715966,
          32.716015999999996,
          32.716173999999995,
          32.71665099999999,
          32.716809999999995,
          32.717019,
          32.717652,
          32.717863,
          32.71791499999999,
          32.71831499999999,
          32.718551999999995
         ],
         "legendgroup": "slow",
         "line": {
          "color": "#00cc96"
         },
         "lon": [
          -117.147757,
          -117.147763,
          -117.147765,
          -117.147769,
          -117.147772,
          -117.147773,
          -117.147775,
          -117.147777,
          -117.147775,
          -117.147776,
          -117.147776,
          -117.147769,
          -117.147769,
          -117.147771,
          -117.147771,
          -117.147771,
          -117.147773,
          -117.147774,
          -117.147777,
          -117.147778,
          -117.147787,
          -117.147791,
          -117.147791,
          -117.147793,
          -117.147794,
          -117.147796,
          -117.147803,
          -117.147806,
          -117.147816,
          -117.147847,
          -117.147858,
          -117.147862,
          -117.147868,
          -117.147883
         ],
         "mode": "lines",
         "name": "slow",
         "showlegend": false,
         "subplot": "mapbox",
         "type": "scattermapbox"
        },
        {
         "customdata": [
          [
           15.958089119246399,
           59.93729030822181
          ],
          [
           15.95976864643854,
           59.9123468350712
          ],
          [
           15.965029209939326,
           59.834219654366464
          ],
          [
           15.966727593589072,
           59.80899613481578
          ],
          [
           15.96884849623756,
           59.777497580630296
          ],
          [
           15.975395299868275,
           59.680267823738504
          ],
          [
           15.977563689707312,
           59.64806401424786
          ],
          [
           15.980845103283587,
           59.59933014925368
          ],
          [
           15.990796287211628,
           59.45154028893623
          ],
          [
           15.994127498487417,
           59.40206685414728
          ],
          [
           16.02082106361313,
           59.383457109950015
          ],
          [
           16.059811502562987,
           59.54762737921257
          ],
          [
           16.08594001835454,
           59.657642182545416
          ],
          [
           16.107961212196532,
           59.75036299872223
          ],
          [
           16.13622854221568,
           59.86938333564496
          ],
          [
           16.164250710703236,
           59.9873714134873
          ],
          [
           16.21370045944189,
           60.19558088186058
          ]
         ],
         "hovertemplate": "speed_cat=slow<br>linegroup=14<br>latitude=%{lat}<br>longitude=%{lon}<br>abs_pm=%{customdata[0]}<br>avg_speed=%{customdata[1]}<extra></extra>",
         "lat": [
          32.723991999999996,
          32.72398599999999,
          32.723977999999995,
          32.723974999999996,
          32.72397,
          32.72395999999999,
          32.723956,
          32.723949999999995,
          32.723932999999995,
          32.723928,
          32.72388999999999,
          32.72379399999999,
          32.723701999999996,
          32.723593,
          32.72341699999999,
          32.72323699999999,
          32.72294
         ],
         "legendgroup": "slow",
         "line": {
          "color": "#00cc96"
         },
         "lon": [
          -117.155157,
          -117.155185,
          -117.155275,
          -117.15530400000002,
          -117.15534000000001,
          -117.155452,
          -117.155489,
          -117.155545,
          -117.15571500000001,
          -117.155772,
          -117.15622900000001,
          -117.15689,
          -117.157326,
          -117.157682,
          -117.158121,
          -117.158553,
          -117.159327
         ],
         "mode": "lines",
         "name": "slow",
         "showlegend": false,
         "subplot": "mapbox",
         "type": "scattermapbox"
        },
        {
         "customdata": [
          [
           17.53334892486169,
           59.45240686155516
          ],
          [
           17.535231600458058,
           59.43524128994123
          ],
          [
           17.541333074670753,
           59.379610201531364
          ],
          [
           17.54344756358509,
           59.36033103790064
          ],
          [
           17.546879204346748,
           59.32904254860318
          ],
          [
           17.57443119432582,
           59.12797399328871
          ],
          [
           17.61070342375437,
           59.545332281692545
          ],
          [
           17.665511833752795,
           60.17597298251125
          ]
         ],
         "hovertemplate": "speed_cat=slow<br>linegroup=18<br>latitude=%{lat}<br>longitude=%{lon}<br>abs_pm=%{customdata[0]}<br>avg_speed=%{customdata[1]}<extra></extra>",
         "lat": [
          32.735148999999986,
          32.73516899999999,
          32.735238999999986,
          32.73526199999999,
          32.73530199999999,
          32.73562499999999,
          32.736049,
          32.73668599999999
         ],
         "legendgroup": "slow",
         "line": {
          "color": "#00cc96"
         },
         "lon": [
          -117.174813,
          -117.174835,
          -117.174899,
          -117.174923,
          -117.174958,
          -117.175236,
          -117.175604,
          -117.176166
         ],
         "mode": "lines",
         "name": "slow",
         "showlegend": false,
         "subplot": "mapbox",
         "type": "scattermapbox"
        },
        {
         "customdata": [
          [
           34.134480814150926,
           59.88766777358494
          ],
          [
           34.16973675474731,
           59.80180461759193
          ],
          [
           34.197022569345535,
           59.86863888125105
          ],
          [
           34.23332032164048,
           59.957547113709374
          ],
          [
           34.34237711760612,
           60.224672386042684
          ]
         ],
         "hovertemplate": "speed_cat=slow<br>linegroup=30<br>latitude=%{lat}<br>longitude=%{lon}<br>abs_pm=%{customdata[0]}<br>avg_speed=%{customdata[1]}<extra></extra>",
         "lat": [
          32.951109999999986,
          32.95161399999999,
          32.952003999999995,
          32.95252299999999,
          32.954081999999985
         ],
         "legendgroup": "slow",
         "line": {
          "color": "#00cc96"
         },
         "lon": [
          -117.24404,
          -117.244135,
          -117.244209,
          -117.24430600000001,
          -117.2446
         ],
         "mode": "lines",
         "name": "slow",
         "showlegend": false,
         "subplot": "mapbox",
         "type": "scattermapbox"
        },
        {
         "customdata": [
          [
           35.84059351534773,
           59.819553259617976
          ],
          [
           36.07237092814385,
           59.09806714974678
          ],
          [
           36.08993481771418,
           59.04339356353563
          ],
          [
           36.109518233718916,
           58.98243351371544
          ],
          [
           36.20190527420191,
           58.63496538524701
          ],
          [
           36.237485097428234,
           58.49188298621355
          ],
          [
           36.357897653936206,
           58.00765018524315
          ],
          [
           36.4184413701396,
           57.76417679568528
          ],
          [
           36.448103264887315,
           57.644893036646195
          ],
          [
           36.5370888943148,
           57.287041979967306
          ],
          [
           36.56703275718882,
           57.166624300849264
          ],
          [
           36.56857038671764,
           57.16044080408457
          ],
          [
           36.57006243435765,
           57.154440612502746
          ],
          [
           36.572697179741546,
           57.1438451216828
          ],
          [
           36.86173516469801,
           55.98149397574527
          ],
          [
           36.994213629150856,
           55.448738756766005
          ],
          [
           37.095814404699055,
           55.04015654946761
          ],
          [
           37.324383144522805,
           54.47611652985624
          ],
          [
           37.49968012477184,
           54.6684254533362
          ],
          [
           37.62922663221849,
           54.81054398471227
          ],
          [
           37.633139008598654,
           54.81483604318839
          ],
          [
           37.702556540800884,
           54.89099029792502
          ],
          [
           37.73157611705431,
           54.92282611997519
          ],
          [
           37.76177903385078,
           54.95596012152406
          ],
          [
           37.77508068531398,
           54.97055265055542
          ],
          [
           37.788092569546066,
           54.98482729148514
          ],
          [
           37.84157626303826,
           55.0435013856116
          ],
          [
           37.899905840654036,
           55.10749163953607
          ],
          [
           37.93077544953507,
           55.14135703324523
          ],
          [
           37.96292724190287,
           55.17662904174998
          ],
          [
           38.008099612236876,
           55.2261852286143
          ],
          [
           38.053952469124965,
           55.2764879408122
          ],
          [
           38.08016611806828,
           55.305245530370264
          ],
          [
           38.100380735706906,
           55.32742190415104
          ],
          [
           38.10546149096349,
           55.332995728483155
          ],
          [
           38.125590008492374,
           55.355077646447334
          ],
          [
           38.16011851171915,
           55.39295701707586
          ],
          [
           38.164358143554,
           55.39760808997485
          ],
          [
           38.17028837523614,
           55.40411382937298
          ],
          [
           38.19409525754056,
           55.43023108422172
          ],
          [
           38.383669856954086,
           55.63820321859942
          ],
          [
           38.42350680145096,
           55.681906195684604
          ],
          [
           38.44895108001612,
           55.76941063663554
          ],
          [
           38.472614551994106,
           55.952907672975314
          ],
          [
           38.48962449548343,
           56.08481030423343
          ],
          [
           38.8153691820813,
           58.61077879481461
          ],
          [
           38.88969748192155,
           59.187153333155834
          ],
          [
           38.936817334827325,
           59.55254153016344
          ],
          [
           38.9542156574109,
           59.68745582483413
          ],
          [
           38.984507095656916,
           59.92234904548176
          ],
          [
           39.01473842822406,
           60.156776180089636
          ]
         ],
         "hovertemplate": "speed_cat=slow<br>linegroup=32<br>latitude=%{lat}<br>longitude=%{lon}<br>abs_pm=%{customdata[0]}<br>avg_speed=%{customdata[1]}<extra></extra>",
         "lat": [
          32.974961,
          32.97816199999999,
          32.978405999999985,
          32.978677999999995,
          32.979959,
          32.98044699999999,
          32.98210499999999,
          32.98294099999999,
          32.983356,
          32.98460099999999,
          32.98501999999999,
          32.985041999999986,
          32.98506299999999,
          32.985099999999996,
          32.98924399999999,
          32.991146,
          32.992605999999995,
          32.99588399999999,
          32.99839699999999,
          33.00025999999999,
          33.00031599999999,
          33.001311,
          33.001726999999995,
          33.002158,
          33.00234799999999,
          33.002532999999985,
          33.00327999999999,
          33.004073999999996,
          33.004477,
          33.00488399999999,
          33.005431,
          33.005970999999995,
          33.006268999999996,
          33.006485999999995,
          33.00653799999999,
          33.006741999999996,
          33.007093999999995,
          33.00713799999999,
          33.007198999999986,
          33.00744799999999,
          33.009427999999986,
          33.009834999999995,
          33.010094999999986,
          33.010336999999986,
          33.01051799999999,
          33.01390899999999,
          33.01469099999999,
          33.01520899999999,
          33.01540399999999,
          33.01575199999999,
          33.01610999999999
         ],
         "legendgroup": "slow",
         "line": {
          "color": "#00cc96"
         },
         "lon": [
          -117.251389,
          -117.25258500000001,
          -117.25267,
          -117.252765,
          -117.25322200000001,
          -117.253418,
          -117.254058,
          -117.254371,
          -117.254502,
          -117.254895,
          -117.255027,
          -117.25503100000002,
          -117.25503700000002,
          -117.25504800000002,
          -117.25573,
          -117.256019,
          -117.25622800000001,
          -117.256759,
          -117.257175,
          -117.257427,
          -117.257437,
          -117.25760300000002,
          -117.257672,
          -117.257759,
          -117.257796,
          -117.257838,
          -117.25808,
          -117.25842200000001,
          -117.258652,
          -117.25892100000002,
          -117.25934800000002,
          -117.259808,
          -117.260088,
          -117.260322,
          -117.260384,
          -117.26063200000002,
          -117.261055,
          -117.261106,
          -117.261178,
          -117.26146200000001,
          -117.263727,
          -117.264214,
          -117.264525,
          -117.264814,
          -117.265013,
          -117.268919,
          -117.2698,
          -117.270329,
          -117.27051900000001,
          -117.27083700000001,
          -117.271137
         ],
         "mode": "lines",
         "name": "slow",
         "showlegend": false,
         "subplot": "mapbox",
         "type": "scattermapbox"
        },
        {
         "customdata": [
          [
           39.23926149619253,
           59.95288044286611
          ],
          [
           39.2696371452029,
           59.86068598101356
          ],
          [
           39.299063047954874,
           59.77137413560022
          ],
          [
           39.32943684696459,
           59.67918528876562
          ],
          [
           39.4153260057381,
           59.4184993436064
          ],
          [
           39.427323623076894,
           59.3820848500861
          ],
          [
           39.4472901727114,
           59.32148350135518
          ],
          [
           39.46570972658471,
           59.265577507171
          ],
          [
           39.526504853924216,
           59.0810555551821
          ],
          [
           39.55118465708355,
           59.006148804378995
          ],
          [
           39.56546150689119,
           58.96281651263058
          ],
          [
           39.59341046257823,
           58.87798741389996
          ],
          [
           39.620555867992444,
           58.79559720577374
          ],
          [
           39.648067548120856,
           58.71209530123063
          ],
          [
           39.6765171111815,
           58.62574678714882
          ],
          [
           39.70592325893801,
           58.46890188635335
          ],
          [
           39.710291281668546,
           58.4415333228788
          ],
          [
           39.718814160334325,
           58.38813182747918
          ],
          [
           39.733462849842596,
           58.296348058630365
          ],
          [
           39.75999189230417,
           58.13012598806912
          ],
          [
           39.80273228766365,
           57.86232902466384
          ],
          [
           39.920920952168785,
           57.121798545308366
          ],
          [
           40.00439162171854,
           56.598799362665794
          ],
          [
           40.03372931956363,
           56.414979200729114
          ],
          [
           40.2508246621733,
           55.05473269314974
          ],
          [
           40.32896355030562,
           54.565140662245454
          ],
          [
           40.521298773132294,
           53.69765762550364
          ],
          [
           40.5456618575866,
           53.75978078985498
          ],
          [
           40.77379174901901,
           54.34148672144538
          ],
          [
           40.83540906864923,
           54.498604055314
          ],
          [
           40.87287028242742,
           54.59412599732048
          ],
          [
           40.9535049470419,
           54.79973545254587
          ],
          [
           40.98022325640659,
           54.867864179307276
          ],
          [
           41.00432100645954,
           54.929310770351385
          ],
          [
           41.02869692810628,
           54.991466668120225
          ],
          [
           41.060068548988106,
           55.07146082336214
          ],
          [
           41.10867720854599,
           55.195407516248096
          ],
          [
           41.19080403973482,
           55.40482183080942
          ],
          [
           41.24398019079894,
           55.5404151206625
          ],
          [
           41.403617442414834,
           55.888896157605465
          ],
          [
           41.456874505493985,
           55.85713250169345
          ],
          [
           41.770041390146794,
           55.670353047626165
          ],
          [
           42.105714039050945,
           56.028830682979134
          ],
          [
           42.20589408096211,
           56.226155007955676
          ],
          [
           42.4380087532637,
           56.683350574610316
          ],
          [
           42.506075148751336,
           56.8174207475405
          ],
          [
           42.646644484443016,
           56.04432771268743
          ],
          [
           42.93849665462517,
           53.512713143185934
          ],
          [
           42.94666889815053,
           53.441824615060895
          ],
          [
           42.94731454324685,
           53.43622409294879
          ],
          [
           43.11987674513423,
           51.93936702256725
          ],
          [
           43.42951422397441,
           45.78729766666561
          ]
         ],
         "hovertemplate": "speed_cat=slow<br>linegroup=34<br>latitude=%{lat}<br>longitude=%{lon}<br>abs_pm=%{customdata[0]}<br>avg_speed=%{customdata[1]}<extra></extra>",
         "lat": [
          33.01902499999999,
          33.019446999999985,
          33.01986,
          33.020289999999996,
          33.021515,
          33.021685999999995,
          33.021971,
          33.02223399999999,
          33.023102,
          33.023452999999996,
          33.023655999999995,
          33.024051,
          33.024430999999986,
          33.02481199999999,
          33.025200999999996,
          33.02559699999999,
          33.025655,
          33.02576799999999,
          33.025961999999986,
          33.026306999999996,
          33.026859,
          33.028338999999995,
          33.02940499999999,
          33.029778,
          33.03251199999999,
          33.033495,
          33.035914999999996,
          33.03622099999999,
          33.039101999999986,
          33.03987999999999,
          33.040354,
          33.04139299999999,
          33.041738999999986,
          33.04206299999999,
          33.04239599999999,
          33.04282899999999,
          33.043510999999995,
          33.044661999999995,
          33.04540899999999,
          33.047651,
          33.048398999999996,
          33.052787999999985,
          33.057497999999995,
          33.058906,
          33.062159,
          33.06311699999999,
          33.065094,
          33.06918499999999,
          33.06929999999999,
          33.06930899999999,
          33.07173399999999,
          33.07607699999999
         ],
         "legendgroup": "slow",
         "line": {
          "color": "#00cc96"
         },
         "lon": [
          -117.272818,
          -117.272965,
          -117.273089,
          -117.273198,
          -117.27345000000001,
          -117.273486,
          -117.273543,
          -117.273595,
          -117.273767,
          -117.273846,
          -117.273892,
          -117.27399600000001,
          -117.274115,
          -117.274253,
          -117.274414,
          -117.2746,
          -117.27463,
          -117.274689,
          -117.27479100000001,
          -117.274992,
          -117.275325,
          -117.276348,
          -117.277026,
          -117.277268,
          -117.279115,
          -117.279782,
          -117.281423,
          -117.28163200000002,
          -117.283556,
          -117.284076,
          -117.28439,
          -117.285024,
          -117.28523,
          -117.28538400000001,
          -117.285523,
          -117.285686,
          -117.285892,
          -117.286246,
          -117.286467,
          -117.287133,
          -117.287355,
          -117.28870500000001,
          -117.29012600000001,
          -117.29053900000001,
          -117.29154,
          -117.291814,
          -117.292387,
          -117.293642,
          -117.29367500000001,
          -117.293678,
          -117.294391,
          -117.29571
         ],
         "mode": "lines",
         "name": "slow",
         "showlegend": false,
         "subplot": "mapbox",
         "type": "scattermapbox"
        },
        {
         "customdata": [
          [
           44.151722627773495,
           50.69689621716897
          ],
          [
           44.22928938828065,
           52.14492198646191
          ],
          [
           44.286984468246686,
           53.22198079368816
          ],
          [
           44.29470292571333,
           53.36606990141701
          ],
          [
           44.347732451371776,
           54.356031570368344
          ],
          [
           44.39339247220846,
           55.20841842223223
          ],
          [
           44.5058211732998,
           57.307251160946095
          ],
          [
           44.506889760091916,
           57.32719966983821
          ],
          [
           44.51065733931101,
           57.39753329936496
          ],
          [
           44.51187372079906,
           57.42024085771173
          ],
          [
           44.51615328271123,
           57.500132242753345
          ],
          [
           44.529229270016124,
           57.74423637257179
          ],
          [
           44.53226096787207,
           57.80083247883453
          ],
          [
           44.53357044931147,
           57.8252780384565
          ],
          [
           44.71863345962713,
           58.647974843873854
          ],
          [
           44.748805956886414,
           58.713745955065754
          ],
          [
           44.83980220328518,
           58.91210289544454
          ],
          [
           44.867445561721716,
           58.972360897486034
          ],
          [
           45.14018181775302,
           59.56688134660058
          ],
          [
           45.2281688570458,
           59.75867870745679
          ],
          [
           45.237493758684685,
           59.77900546852248
          ],
          [
           45.440954893695896,
           59.523698536264774
          ],
          [
           45.51121887719442,
           59.344992451066204
          ],
          [
           45.846457799789285,
           58.49236166527581
          ],
          [
           45.866245643996066,
           58.442034200241224
          ],
          [
           45.892185913748044,
           58.37605894769284
          ],
          [
           46.00985454456515,
           58.07678612942968
          ],
          [
           46.04908897783044,
           57.97699913152951
          ],
          [
           46.09338337637439,
           57.86434285777612
          ],
          [
           46.108148769369706,
           57.8267892570944
          ],
          [
           46.13331564301553,
           57.76278102354433
          ],
          [
           46.17747155470849,
           57.8710174190206
          ],
          [
           46.41357816639982,
           59.9447266810524
          ],
          [
           46.68931961664934,
           62.36654619390892
          ]
         ],
         "hovertemplate": "speed_cat=slow<br>linegroup=36<br>latitude=%{lat}<br>longitude=%{lon}<br>abs_pm=%{customdata[0]}<br>avg_speed=%{customdata[1]}<extra></extra>",
         "lat": [
          33.08600899999999,
          33.086985999999996,
          33.087721,
          33.087818999999996,
          33.08849399999999,
          33.08908199999999,
          33.09049699999999,
          33.09051,
          33.09055699999999,
          33.090572,
          33.09062699999999,
          33.090794999999986,
          33.090834,
          33.090851,
          33.093215,
          33.093599999999995,
          33.094757,
          33.095109,
          33.09856899999999,
          33.099690999999986,
          33.09980999999999,
          33.10239299999999,
          33.103284999999985,
          33.107552999999996,
          33.107801,
          33.108133999999986,
          33.109647999999986,
          33.11015299999999,
          33.11072899999999,
          33.110922999999985,
          33.111246,
          33.11181299999999,
          33.114868,
          33.118439999999985
         ],
         "legendgroup": "slow",
         "line": {
          "color": "#00cc96"
         },
         "lon": [
          -117.299411,
          -117.30007100000002,
          -117.300544,
          -117.300608,
          -117.301044,
          -117.301404,
          -117.302363,
          -117.302373,
          -117.302406,
          -117.302417,
          -117.302451,
          -117.302555,
          -117.30257900000001,
          -117.302589,
          -117.304092,
          -117.30433800000002,
          -117.305089,
          -117.305316,
          -117.307584,
          -117.308303,
          -117.308379,
          -117.310067,
          -117.31065000000001,
          -117.313405,
          -117.313576,
          -117.31378300000002,
          -117.314714,
          -117.31502400000001,
          -117.31536,
          -117.31546700000001,
          -117.315668,
          -117.31602,
          -117.317848,
          -117.319973
         ],
         "mode": "lines",
         "name": "slow",
         "showlegend": false,
         "subplot": "mapbox",
         "type": "scattermapbox"
        },
        {
         "customdata": [
          [
           47.806919378663906,
           59.69448291338028
          ],
          [
           47.931188091247115,
           59.78522474766043
          ],
          [
           48.01811495356723,
           59.93404894774156
          ],
          [
           48.08248201985818,
           60.04424937251985
          ]
         ],
         "hovertemplate": "speed_cat=slow<br>linegroup=38<br>latitude=%{lat}<br>longitude=%{lon}<br>abs_pm=%{customdata[0]}<br>avg_speed=%{customdata[1]}<extra></extra>",
         "lat": [
          33.13288399999999,
          33.134534999999985,
          33.13568399999999,
          33.13653999999999
         ],
         "legendgroup": "slow",
         "line": {
          "color": "#00cc96"
         },
         "lon": [
          -117.328666,
          -117.32951800000001,
          -117.33013,
          -117.330569
         ],
         "mode": "lines",
         "name": "slow",
         "showlegend": false,
         "subplot": "mapbox",
         "type": "scattermapbox"
        },
        {
         "customdata": [
          [
           50.914586284186804,
           59.82730972650556
          ],
          [
           50.938224778683534,
           59.63820177053172
          ],
          [
           50.94015681260502,
           59.62274549915985
          ],
          [
           50.94597750200512,
           59.57617998395902
          ],
          [
           50.94677829503684,
           59.56977363970525
          ],
          [
           50.947994358210174,
           59.5600451343186
          ],
          [
           50.98063746032838,
           59.29890031737294
          ],
          [
           51.03387289002781,
           58.87301687977752
          ],
          [
           51.14909973127023,
           57.951202149838124
          ],
          [
           51.167878002369086,
           57.8009759810473
          ],
          [
           51.21651828511653,
           57.411853719067764
          ],
          [
           51.219249489728526,
           57.390004082171785
          ],
          [
           51.23646820788853,
           57.25225433689177
          ],
          [
           51.238815936175946,
           57.23347251059242
          ],
          [
           51.24603088152133,
           57.175752947829366
          ],
          [
           51.24843586281634,
           57.156513097469244
          ],
          [
           51.25858878636219,
           57.07528970910248
          ],
          [
           51.28806564665932,
           56.839474826725436
          ],
          [
           51.41476016862362,
           56.49966659332302
          ],
          [
           51.59876789939021,
           56.045793465019
          ],
          [
           51.71571529343059,
           55.75733123922567
          ],
          [
           51.76174944988984,
           55.64378347406411
          ],
          [
           51.768574648454056,
           55.62694845191188
          ],
          [
           51.789345225769885,
           55.575715784329155
          ],
          [
           51.79625983426554,
           55.55866022380545
          ],
          [
           51.95421318828649,
           55.169052772982965
          ],
          [
           52.02409087062236,
           54.996692611003425
          ],
          [
           52.04177154531647,
           54.95308149151127
          ],
          [
           52.07613074081416,
           54.86833116345942
          ],
          [
           52.127437731725244,
           54.74177743459343
          ],
          [
           52.15322377760776,
           54.67817362152249
          ],
          [
           52.2216909709131,
           54.50929256917631
          ],
          [
           52.231091013582706,
           54.48610644131706
          ],
          [
           52.25700010690219,
           54.42219911966571
          ],
          [
           52.25920131331919,
           54.416769627989666
          ],
          [
           52.265816736466675,
           54.400452037492265
          ],
          [
           52.26807468285662,
           54.41604855572948
          ],
          [
           52.27143311590271,
           54.44202746606357
          ],
          [
           52.42544265865182,
           55.633356888674385
          ],
          [
           52.56351117836657,
           56.70137570709565
          ],
          [
           52.59850706123594,
           56.972083769650226
          ],
          [
           52.647271718278745,
           57.349299166057556
          ],
          [
           52.783932534273276,
           58.40642879650853
          ],
          [
           52.84778372432256,
           58.90034495271936
          ],
          [
           52.88408335039349,
           59.18113802434425
          ],
          [
           52.89578849381425,
           59.27168229519992
          ],
          [
           52.89976667633305,
           59.302455231724274
          ],
          [
           52.905422833916255,
           59.34620802020421
          ],
          [
           52.92351569418172,
           59.4861640020783
          ],
          [
           52.930993340313535,
           59.54400678045222
          ],
          [
           52.93693697360935,
           59.58998331603644
          ],
          [
           52.95607836267683,
           59.73805011487679
          ],
          [
           52.97409735255205,
           59.877434677812936
          ],
          [
           52.97711783355186,
           59.90079938509845
          ],
          [
           52.990394424106626,
           60.00349946898622
          ]
         ],
         "hovertemplate": "speed_cat=slow<br>linegroup=40<br>latitude=%{lat}<br>longitude=%{lon}<br>abs_pm=%{customdata[0]}<br>avg_speed=%{customdata[1]}<extra></extra>",
         "lat": [
          33.174058999999986,
          33.174351,
          33.174374,
          33.174444,
          33.17445399999999,
          33.174469,
          33.174866,
          33.175513999999986,
          33.176916,
          33.177137,
          33.177728,
          33.17776099999999,
          33.17796899999999,
          33.17799699999999,
          33.17808399999999,
          33.178112999999996,
          33.178232,
          33.178584,
          33.180098,
          33.18226899999999,
          33.18365899999999,
          33.18421699999999,
          33.1843,
          33.184553,
          33.184636999999995,
          33.186506,
          33.187331,
          33.187542,
          33.18795099999999,
          33.188560999999986,
          33.18886599999999,
          33.18967899999999,
          33.189789999999995,
          33.19009599999999,
          33.190121999999995,
          33.190198999999986,
          33.190225999999996,
          33.190266,
          33.192116999999996,
          33.19376299999999,
          33.194178,
          33.19475599999999,
          33.19636599999999,
          33.197144,
          33.19755899999999,
          33.197699,
          33.197746999999985,
          33.197811,
          33.198011,
          33.19809399999999,
          33.198157,
          33.19836099999999,
          33.198548999999986,
          33.198578999999995,
          33.19870999999999
         ],
         "legendgroup": "slow",
         "line": {
          "color": "#00cc96"
         },
         "lon": [
          -117.34923900000001,
          -117.349452,
          -117.349471,
          -117.349527,
          -117.349534,
          -117.349545,
          -117.349851,
          -117.350349,
          -117.351428,
          -117.351617,
          -117.352074,
          -117.3521,
          -117.352264,
          -117.352287,
          -117.352356,
          -117.352379,
          -117.352482,
          -117.35276999999999,
          -117.354006,
          -117.355849,
          -117.357003,
          -117.35743800000002,
          -117.357502,
          -117.357696,
          -117.357761,
          -117.359334,
          -117.360033,
          -117.360206,
          -117.360544,
          -117.36105,
          -117.361307,
          -117.361984,
          -117.362078,
          -117.362337,
          -117.362359,
          -117.362427,
          -117.362449,
          -117.362482,
          -117.363966,
          -117.36532,
          -117.365667,
          -117.366151,
          -117.367524,
          -117.36812000000002,
          -117.36850500000001,
          -117.368619,
          -117.368657,
          -117.368718,
          -117.36892000000002,
          -117.369003,
          -117.369073,
          -117.369297,
          -117.369513,
          -117.369551,
          -117.369719
         ],
         "mode": "lines",
         "name": "slow",
         "showlegend": false,
         "subplot": "mapbox",
         "type": "scattermapbox"
        },
        {
         "customdata": [
          [
           10.800499245048512,
           49.87526593036158
          ],
          [
           10.810214070618725,
           49.821859821205955
          ],
          [
           10.822888496885843,
           49.75218365586316
          ],
          [
           10.839142819766288,
           49.662827430604175
          ],
          [
           10.87655787933105,
           49.45714254818009
          ],
          [
           10.882736475686366,
           49.42317644256186
          ],
          [
           10.902158732364402,
           49.31640487443653
          ],
          [
           10.982138061512677,
           48.876727934092614
          ],
          [
           11.015264414044944,
           48.69461971336549
          ],
          [
           11.060189496583426,
           48.44764936433195
          ],
          [
           11.079928232755762,
           48.33913798746833
          ],
          [
           11.09651986351487,
           48.24792745188161
          ],
          [
           11.108148001088288,
           48.18400313537852
          ],
          [
           11.128041735617055,
           48.074639673309385
          ],
          [
           11.151348842247389,
           47.94651160021069
          ],
          [
           11.171925856174237,
           47.83339189014163
          ],
          [
           11.190857516319308,
           47.25691386293073
          ],
          [
           11.195556222296862,
           47.058446132834085
          ],
          [
           11.238449525836955,
           45.246684207185346
          ],
          [
           11.252657677314449,
           44.646548853733
          ],
          [
           11.266293286446643,
           44.07059700531345
          ],
          [
           11.293700892690827,
           42.91293244305912
          ],
          [
           11.321304740741736,
           41.7469788612073
          ],
          [
           11.34797285715052,
           40.62054946662733
          ],
          [
           11.356189038556245,
           40.27350777441536
          ],
          [
           11.404637326067403,
           38.22710995864553
          ],
          [
           11.520195744334362,
           33.3460603512501
          ],
          [
           11.579447621039233,
           30.84333182774588
          ],
          [
           11.58707531849825,
           30.521146994775425
          ],
          [
           11.61021894926075,
           29.543587665553442
          ],
          [
           11.61797696057365,
           29.21589853099364
          ],
          [
           11.701698100977069,
           25.679617525893992
          ],
          [
           11.761874379015028,
           23.137843393842882
          ],
          [
           11.805675694171049,
           21.28772814173037
          ],
          [
           11.85316474731465,
           19.963852777693088
          ],
          [
           11.880162817179288,
           22.388585090064314
          ],
          [
           11.913640426887808,
           25.395253433697413
          ],
          [
           11.947807195602257,
           28.463816057863063
          ],
          [
           11.976244104200571,
           31.01777237725883
          ],
          [
           12.071254751911944,
           39.55080413397839
          ],
          [
           12.199342406098701,
           44.30619496870928
          ],
          [
           12.23876481508144,
           44.76560571905931
          ],
          [
           12.286950549442421,
           45.32714026121877
          ],
          [
           12.33878408539512,
           45.93118461720299
          ],
          [
           12.340385731216621,
           45.94984946614645
          ],
          [
           12.343633574041439,
           45.98769834316008
          ],
          [
           12.38122798319978,
           46.42580641839115
          ],
          [
           12.394666990979916,
           46.582418477561234
          ],
          [
           12.435559341176695,
           47.05895925150795
          ],
          [
           12.449352979091987,
           47.21970400831608
          ],
          [
           12.466895408306515,
           47.42413546687908
          ],
          [
           12.546703703932103,
           48.35418489621664
          ],
          [
           12.552488154629364,
           48.421594242924876
          ],
          [
           12.55500284989448,
           48.450899353101036
          ],
          [
           12.56084043238359,
           48.51892787344656
          ],
          [
           12.568048445489723,
           48.602926766336935
          ],
          [
           12.57045111581619,
           48.63092638903908
          ],
          [
           12.575308991686555,
           48.68753785587482
          ],
          [
           12.598350681611835,
           48.95605518728754
          ],
          [
           12.618628433526393,
           49.19236284739419
          ],
          [
           12.63872898358258,
           49.42660547797023
          ],
          [
           12.64668255770804,
           49.519292798487406
          ],
          [
           12.659395095545992,
           49.66743890872496
          ],
          [
           12.693913663777902,
           50.06970253851414
          ]
         ],
         "hovertemplate": "speed_cat=very slow<br>linegroup=7<br>latitude=%{lat}<br>longitude=%{lon}<br>abs_pm=%{customdata[0]}<br>avg_speed=%{customdata[1]}<extra></extra>",
         "lat": [
          32.67147599999999,
          32.67161399999999,
          32.67179399999999,
          32.672022999999996,
          32.672536,
          32.67262099999999,
          32.67288299999999,
          32.67396099999999,
          32.674406999999995,
          32.675011999999995,
          32.675284999999995,
          32.67551499999999,
          32.67567499999999,
          32.675958,
          32.676293,
          32.676588999999986,
          32.67686299999999,
          32.676930999999996,
          32.67754899999999,
          32.67775199999999,
          32.67794299999999,
          32.678325,
          32.678706999999996,
          32.679073999999986,
          32.67918699999999,
          32.67985399999999,
          32.681443,
          32.68225799999999,
          32.68236199999999,
          32.682677999999996,
          32.68278399999999,
          32.68394299999999,
          32.68476499999999,
          32.68534199999999,
          32.68595599999999,
          32.686292,
          32.686682999999995,
          32.687058,
          32.687353,
          32.688304999999986,
          32.68949899999999,
          32.689859999999996,
          32.690303,
          32.69077999999999,
          32.690795,
          32.69082499999999,
          32.69117299999999,
          32.69129499999999,
          32.691667999999986,
          32.691794,
          32.691964999999996,
          32.69273599999999,
          32.692790999999986,
          32.692817999999995,
          32.69287599999999,
          32.692941999999995,
          32.692963999999996,
          32.69300599999999,
          32.693197999999995,
          32.693360999999996,
          32.69350699999999,
          32.69356799999999,
          32.69365599999999,
          32.69385599999999
         ],
         "legendgroup": "very slow",
         "line": {
          "color": "#ab63fa"
         },
         "lon": [
          -117.111302,
          -117.11127,
          -117.11122800000001,
          -117.111164,
          -117.110958,
          -117.110925,
          -117.11080400000002,
          -117.11030300000002,
          -117.110094,
          -117.10981100000001,
          -117.109711,
          -117.109629,
          -117.10956700000001,
          -117.10950400000002,
          -117.109457,
          -117.109418,
          -117.109419,
          -117.109418,
          -117.109488,
          -117.109527,
          -117.10958600000001,
          -117.109713,
          -117.109852,
          -117.10999400000001,
          -117.110038,
          -117.11029500000001,
          -117.110915,
          -117.11123200000002,
          -117.11127600000002,
          -117.111408,
          -117.111452,
          -117.111872,
          -117.112214,
          -117.11252600000002,
          -117.112893,
          -117.11313,
          -117.11346999999999,
          -117.113853,
          -117.114194,
          -117.115373,
          -117.117058,
          -117.117583,
          -117.118223,
          -117.11891100000001,
          -117.11893200000002,
          -117.118975,
          -117.119472,
          -117.119652,
          -117.120198,
          -117.120382,
          -117.12060500000001,
          -117.121627,
          -117.121702,
          -117.121731,
          -117.121804,
          -117.1219,
          -117.12193200000002,
          -117.12199900000002,
          -117.12232300000001,
          -117.122613,
          -117.122912,
          -117.123028,
          -117.12322000000002,
          -117.123764
         ],
         "mode": "lines",
         "name": "very slow",
         "showlegend": true,
         "subplot": "mapbox",
         "type": "scattermapbox"
        },
        {
         "customdata": [
          [
           12.758073100671611,
           49.821360926819274
          ],
          [
           12.764178954563842,
           49.28877002162099
          ],
          [
           12.782586220556142,
           47.683172732511615
          ],
          [
           12.788800636541175,
           47.1411123600945
          ],
          [
           12.811485655994982,
           45.162382561021595
          ],
          [
           12.827830257538352,
           43.736703813260505
          ],
          [
           12.843227922243265,
           42.39362284082463
          ],
          [
           12.86405821143819,
           40.57667425776373
          ],
          [
           12.898487826765132,
           37.57350708143554
          ],
          [
           13.007594367509139,
           28.056549695370762
          ],
          [
           13.055812085055553,
           29.32141548557124
          ],
          [
           13.118861179250299,
           34.02307650980799
          ],
          [
           13.153350410327215,
           36.59498774154377
          ],
          [
           13.174811622731958,
           38.195381009440325
          ],
          [
           13.195061625758074,
           39.70545266367349
          ],
          [
           13.214408576382542,
           41.148182410241006
          ],
          [
           13.226379651524818,
           42.04088258513641
          ],
          [
           13.245477575324557,
           43.46504204563125
          ],
          [
           13.27747987658255,
           45.85149936801302
          ],
          [
           13.29190219256981,
           46.926992074491494
          ],
          [
           13.329435544726271,
           49.72590776387338
          ],
          [
           13.371395932249307,
           52.854953804876885
          ]
         ],
         "hovertemplate": "speed_cat=very slow<br>linegroup=9<br>latitude=%{lat}<br>longitude=%{lon}<br>abs_pm=%{customdata[0]}<br>avg_speed=%{customdata[1]}<extra></extra>",
         "lat": [
          32.694169999999986,
          32.69419099999999,
          32.694255999999996,
          32.69427999999999,
          32.694338,
          32.69437299999999,
          32.69439899999999,
          32.69440999999999,
          32.6944,
          32.694366999999986,
          32.69435,
          32.69432799999999,
          32.69433899999999,
          32.694372,
          32.694411999999986,
          32.69447199999999,
          32.69453,
          32.69462599999999,
          32.694814,
          32.694911999999995,
          32.69523499999999,
          32.69561699999999
         ],
         "legendgroup": "very slow",
         "line": {
          "color": "#ab63fa"
         },
         "lon": [
          -117.124801,
          -117.12490300000002,
          -117.12521,
          -117.125313,
          -117.125697,
          -117.125975,
          -117.12623800000001,
          -117.126596,
          -117.127188,
          -117.129064,
          -117.129893,
          -117.13097700000002,
          -117.13157,
          -117.131937,
          -117.13228200000002,
          -117.13260700000001,
          -117.132801,
          -117.133109,
          -117.133612,
          -117.13383100000001,
          -117.13435000000001,
          -117.134911
         ],
         "mode": "lines",
         "name": "very slow",
         "showlegend": false,
         "subplot": "mapbox",
         "type": "scattermapbox"
        },
        {
         "customdata": [
          [
           43.42951422397441,
           45.78729766666561
          ],
          [
           43.72020697716246,
           42.641309289823255
          ],
          [
           43.86369304812305,
           45.31992480666386
          ],
          [
           43.91955590998457,
           46.362779542288315
          ],
          [
           43.99305342671877,
           47.7348401712783
          ],
          [
           43.99926019516172,
           47.85070888347749
          ],
          [
           44.00854772413881,
           48.02408961001487
          ],
          [
           44.03487319550316,
           48.51553672827952
          ],
          [
           44.07135056799191,
           49.196500778014865
          ],
          [
           44.09038171581953,
           49.551776572613555
          ],
          [
           44.11193599423333,
           49.95415447749991
          ],
          [
           44.151722627773495,
           50.69689621716897
          ]
         ],
         "hovertemplate": "speed_cat=very slow<br>linegroup=35<br>latitude=%{lat}<br>longitude=%{lon}<br>abs_pm=%{customdata[0]}<br>avg_speed=%{customdata[1]}<extra></extra>",
         "lat": [
          33.07607699999999,
          33.08015199999999,
          33.082169,
          33.08294899999999,
          33.083971999999996,
          33.08405599999999,
          33.084181,
          33.084524,
          33.084994,
          33.085236,
          33.08550999999999,
          33.08600899999999
         ],
         "legendgroup": "very slow",
         "line": {
          "color": "#ab63fa"
         },
         "lon": [
          -117.29571,
          -117.296959,
          -117.297549,
          -117.29780300000002,
          -117.298151,
          -117.298189,
          -117.29824800000002,
          -117.298446,
          -117.298733,
          -117.29889,
          -117.299068,
          -117.299411
         ],
         "mode": "lines",
         "name": "very slow",
         "showlegend": false,
         "subplot": "mapbox",
         "type": "scattermapbox"
        },
        {
         "customdata": [
          [
           "ML",
           5,
           "S",
           0.221,
           406,
           68.5
          ],
          [
           "ML",
           5,
           "S",
           1.14,
           169,
           66.7
          ],
          [
           "ML",
           5,
           "S",
           2.186,
           211,
           69
          ],
          [
           "ML",
           5,
           "S",
           2.559,
           304,
           66.4
          ],
          [
           "ML",
           5,
           "S",
           3.336,
           281,
           67.7
          ],
          [
           "ML",
           5,
           "S",
           4.003,
           423,
           67
          ],
          [
           "ML",
           5,
           "S",
           4.578,
           394,
           64.5
          ],
          [
           "ML",
           5,
           "S",
           5.324,
           8,
           63.7
          ],
          [
           "ML",
           5,
           "S",
           5.324,
           451,
           57.5
          ],
          [
           "ML",
           5,
           "S",
           6.627,
           362,
           60.6
          ],
          [
           "ML",
           5,
           "S",
           7.201,
           597,
           59.2
          ],
          [
           "ML",
           5,
           "S",
           7.819,
           576,
           59.8
          ],
          [
           "ML",
           5,
           "S",
           9.898,
           570,
           60.7
          ],
          [
           "ML",
           5,
           "S",
           10.796,
           715,
           49.9
          ],
          [
           "ML",
           5,
           "S",
           11.178,
           631,
           47.8
          ],
          [
           "ML",
           5,
           "S",
           11.848,
           651,
           19.5
          ],
          [
           "ML",
           5,
           "S",
           12.113,
           479,
           43.3
          ],
          [
           "ML",
           5,
           "S",
           12.748,
           457,
           50.7
          ],
          [
           "ML",
           5,
           "S",
           13.022,
           558,
           26.8
          ],
          [
           "ML",
           5,
           "S",
           13.372,
           488,
           52.9
          ],
          [
           "ML",
           5,
           "S",
           14.416,
           361,
           60.7
          ],
          [
           "ML",
           5,
           "S",
           14.856,
           498,
           59.6
          ],
          [
           "ML",
           5,
           "S",
           15.23,
           361,
           59.5
          ],
          [
           "ML",
           5,
           "S",
           15.698,
           586,
           63.8
          ],
          [
           "ML",
           5,
           "S",
           16.001,
           592,
           59.3
          ],
          [
           "ML",
           5,
           "S",
           16.666,
           474,
           62.1
          ],
          [
           "ML",
           5,
           "S",
           17.23,
           510,
           65.2
          ],
          [
           "ML",
           5,
           "S",
           17.232,
           458,
           62.2
          ],
          [
           "ML",
           5,
           "S",
           17.572,
           389,
           59.1
          ],
          [
           "ML",
           5,
           "S",
           18.05,
           343,
           64.6
          ],
          [
           "ML",
           5,
           "S",
           18.346,
           381,
           67.5
          ],
          [
           "ML",
           5,
           "S",
           18.822,
           395,
           68.3
          ],
          [
           "ML",
           5,
           "S",
           19.156,
           446,
           67.8
          ],
          [
           "ML",
           5,
           "S",
           20.611,
           520,
           64.8
          ],
          [
           "ML",
           5,
           "S",
           21.366,
           592,
           63.6
          ],
          [
           "ML",
           5,
           "S",
           21.973,
           585,
           65.4
          ],
          [
           "ML",
           5,
           "S",
           22.85,
           473,
           60.8
          ],
          [
           "ML",
           5,
           "S",
           23.466,
           424,
           65.5
          ],
          [
           "ML",
           5,
           "S",
           24.118,
           263,
           67.4
          ],
          [
           "ML",
           5,
           "S",
           25.739,
           436,
           65.8
          ],
          [
           "ML",
           5,
           "S",
           26.201,
           418,
           67.1
          ],
          [
           "ML",
           5,
           "S",
           26.621,
           402,
           62
          ],
          [
           "ML",
           5,
           "S",
           27.794,
           410,
           63.5
          ],
          [
           "ML",
           5,
           "S",
           28.355,
           324,
           66.8
          ],
          [
           "ML",
           5,
           "S",
           30.891,
           188,
           67.1
          ],
          [
           "ML",
           5,
           "S",
           31.136,
           610,
           62.8
          ],
          [
           "ML",
           5,
           "S",
           31.517,
           205,
           67
          ],
          [
           "ML",
           5,
           "S",
           31.773,
           433,
           60.8
          ],
          [
           "ML",
           5,
           "S",
           31.775,
           206,
           62.4
          ],
          [
           "ML",
           5,
           "S",
           32.324,
           473,
           60.7
          ],
          [
           "ML",
           5,
           "S",
           32.663,
           518,
           60.6
          ],
          [
           "ML",
           5,
           "S",
           33.539,
           520,
           61.4
          ],
          [
           "ML",
           5,
           "S",
           34.169,
           592,
           59.8
          ],
          [
           "ML",
           5,
           "S",
           35.108,
           480,
           62.1
          ],
          [
           "ML",
           5,
           "S",
           36.136,
           581,
           58.9
          ],
          [
           "ML",
           5,
           "S",
           37.255,
           573,
           54.4
          ],
          [
           "ML",
           5,
           "S",
           38.44,
           428,
           55.7
          ],
          [
           "ML",
           5,
           "S",
           39.059,
           559,
           60.5
          ],
          [
           "ML",
           5,
           "S",
           39.685,
           609,
           58.6
          ],
          [
           "ML",
           5,
           "S",
           40.483,
           508,
           53.6
          ],
          [
           "ML",
           5,
           "S",
           41.385,
           429,
           55.9
          ],
          [
           "ML",
           5,
           "S",
           41.888,
           560,
           55.6
          ],
          [
           "ML",
           5,
           "S",
           42.548,
           600,
           56.9
          ],
          [
           "ML",
           5,
           "S",
           43.159,
           464,
           51.6
          ],
          [
           "ML",
           5,
           "S",
           43.643,
           744,
           41.2
          ],
          [
           "ML",
           5,
           "S",
           44.559,
           278,
           58.3
          ],
          [
           "ML",
           5,
           "S",
           45.293,
           523,
           59.9
          ],
          [
           "ML",
           5,
           "S",
           46.158,
           472,
           57.7
          ],
          [
           "ML",
           5,
           "S",
           46.955,
           348,
           64.7
          ],
          [
           "ML",
           5,
           "S",
           47.823,
           399,
           59.6
          ],
          [
           "ML",
           5,
           "S",
           49.108,
           438,
           61.8
          ],
          [
           "ML",
           5,
           "S",
           49.948,
           445,
           61.4
          ],
          [
           "ML",
           5,
           "S",
           50.568,
           516,
           62.6
          ],
          [
           "ML",
           5,
           "S",
           51.293,
           503,
           56.8
          ],
          [
           "ML",
           5,
           "S",
           52.266,
           377,
           54.4
          ],
          [
           "ML",
           5,
           "S",
           53.158,
           441,
           61.3
          ],
          [
           "ML",
           5,
           "S",
           54.292,
           307,
           61.9
          ],
          [
           "ML",
           5,
           "S",
           54.858,
           316,
           66.6
          ],
          [
           "ML",
           5,
           "S",
           55.858,
           250,
           64
          ],
          [
           "ML",
           5,
           "S",
           56.858,
           363,
           67.3
          ],
          [
           "ML",
           5,
           "S",
           58.329,
           291,
           70.3
          ],
          [
           "ML",
           5,
           "S",
           60.429,
           296,
           63.9
          ],
          [
           "ML",
           5,
           "S",
           62.419,
           396,
           63.4
          ],
          [
           "ML",
           5,
           "S",
           65.448,
           332,
           65
          ],
          [
           "ML",
           5,
           "S",
           70.878,
           374,
           63.7
          ]
         ],
         "hovertemplate": "stype=%{customdata[0]}<br>latitude=%{lat}<br>longitude=%{lon}<br>fwy=%{customdata[1]}<br>direc=%{customdata[2]}<br>abs_pm=%{customdata[3]}<br>total_flow=%{customdata[4]}<br>avg_speed=%{customdata[5]}<extra></extra>",
         "lat": [
          32.544296,
          32.551447,
          32.558188,
          32.561106,
          32.568952,
          32.576983,
          32.584271,
          32.59507,
          32.59507,
          32.613849,
          32.621946,
          32.630458,
          32.658893,
          32.671761,
          32.67696,
          32.686001,
          32.688779,
          32.694108,
          32.694358,
          32.69574,
          32.7062,
          32.712581,
          32.718001,
          32.723795,
          32.723898,
          32.725281,
          32.731834,
          32.731858,
          32.735815,
          32.741281,
          32.743425,
          32.746784,
          32.749919,
          32.768531,
          32.779286,
          32.788012,
          32.800051,
          32.807702,
          32.815542,
          32.836089,
          32.842472,
          32.848532,
          32.864527,
          32.87259,
          32.908625,
          32.911761,
          32.91625,
          32.918796,
          32.918817,
          32.925907,
          32.930855,
          32.943442,
          32.952468,
          32.96573,
          32.979936,
          32.995868,
          33.010653,
          33.017512,
          33.02625,
          33.036347,
          33.048438,
          33.055523,
          33.064772,
          33.073371,
          33.080188,
          33.092248,
          33.101626,
          33.112683,
          33.122973,
          33.134215,
          33.151704,
          33.162818,
          33.17092,
          33.179734,
          33.191277,
          33.200618,
          33.210909,
          33.218567,
          33.230196,
          33.240152,
          33.257953,
          33.28144,
          33.303834,
          33.336526,
          33.383349
         ],
         "legendgroup": "ML",
         "lon": [
          -117.032738,
          -117.045806,
          -117.061806,
          -117.067228,
          -117.076731,
          -117.083123,
          -117.087551,
          -117.088901,
          -117.088901,
          -117.091173,
          -117.093171,
          -117.096492,
          -117.107675,
          -117.111234,
          -117.109463,
          -117.113072,
          -117.116159,
          -117.124841,
          -117.129467,
          -117.135196,
          -117.147722,
          -117.147751,
          -117.147844,
          -117.151061,
          -117.156068,
          -117.166084,
          -117.171905,
          -117.171925,
          -117.175452,
          -117.180454,
          -117.1848,
          -117.191904,
          -117.196234,
          -117.206423,
          -117.2086,
          -117.207155,
          -117.211487,
          -117.216754,
          -117.222956,
          -117.234107,
          -117.23661,
          -117.235725,
          -117.230028,
          -117.229295,
          -117.22684,
          -117.228812,
          -117.232541,
          -117.235719,
          -117.235742,
          -117.239661,
          -117.241058,
          -117.242594,
          -117.244298,
          -117.247857,
          -117.253246,
          -117.256708,
          -117.26524,
          -117.272059,
          -117.274915,
          -117.281649,
          -117.287351,
          -117.289401,
          -117.292309,
          -117.294873,
          -117.296877,
          -117.303383,
          -117.309439,
          -117.316473,
          -117.322702,
          -117.329382,
          -117.336331,
          -117.342266,
          -117.346811,
          -117.353651,
          -117.363281,
          -117.373434,
          -117.387715,
          -117.391109,
          -117.400904,
          -117.413376,
          -117.426547,
          -117.449446,
          -117.470867,
          -117.503236,
          -117.578043
         ],
         "marker": {
          "color": "white",
          "opacity": 0.35
         },
         "mode": "markers",
         "name": "ML",
         "showlegend": true,
         "subplot": "mapbox",
         "type": "scattermapbox"
        }
       ],
       "layout": {
        "legend": {
         "title": {
          "text": "speed_cat"
         },
         "tracegroupgap": 0
        },
        "mapbox": {
         "center": {
          "lat": 32.89869737135604,
          "lon": -117.23873264448672
         },
         "domain": {
          "x": [
           0,
           1
          ],
          "y": [
           0,
           1
          ]
         },
         "style": "carto-darkmatter",
         "zoom": 8
        },
        "margin": {
         "t": 60
        },
        "template": {
         "data": {
          "bar": [
           {
            "error_x": {
             "color": "#f2f5fa"
            },
            "error_y": {
             "color": "#f2f5fa"
            },
            "marker": {
             "line": {
              "color": "rgb(17,17,17)",
              "width": 0.5
             }
            },
            "type": "bar"
           }
          ],
          "barpolar": [
           {
            "marker": {
             "line": {
              "color": "rgb(17,17,17)",
              "width": 0.5
             }
            },
            "type": "barpolar"
           }
          ],
          "carpet": [
           {
            "aaxis": {
             "endlinecolor": "#A2B1C6",
             "gridcolor": "#506784",
             "linecolor": "#506784",
             "minorgridcolor": "#506784",
             "startlinecolor": "#A2B1C6"
            },
            "baxis": {
             "endlinecolor": "#A2B1C6",
             "gridcolor": "#506784",
             "linecolor": "#506784",
             "minorgridcolor": "#506784",
             "startlinecolor": "#A2B1C6"
            },
            "type": "carpet"
           }
          ],
          "choropleth": [
           {
            "colorbar": {
             "outlinewidth": 0,
             "ticks": ""
            },
            "type": "choropleth"
           }
          ],
          "contour": [
           {
            "colorbar": {
             "outlinewidth": 0,
             "ticks": ""
            },
            "colorscale": [
             [
              0,
              "#0d0887"
             ],
             [
              0.1111111111111111,
              "#46039f"
             ],
             [
              0.2222222222222222,
              "#7201a8"
             ],
             [
              0.3333333333333333,
              "#9c179e"
             ],
             [
              0.4444444444444444,
              "#bd3786"
             ],
             [
              0.5555555555555556,
              "#d8576b"
             ],
             [
              0.6666666666666666,
              "#ed7953"
             ],
             [
              0.7777777777777778,
              "#fb9f3a"
             ],
             [
              0.8888888888888888,
              "#fdca26"
             ],
             [
              1,
              "#f0f921"
             ]
            ],
            "type": "contour"
           }
          ],
          "contourcarpet": [
           {
            "colorbar": {
             "outlinewidth": 0,
             "ticks": ""
            },
            "type": "contourcarpet"
           }
          ],
          "heatmap": [
           {
            "colorbar": {
             "outlinewidth": 0,
             "ticks": ""
            },
            "colorscale": [
             [
              0,
              "#0d0887"
             ],
             [
              0.1111111111111111,
              "#46039f"
             ],
             [
              0.2222222222222222,
              "#7201a8"
             ],
             [
              0.3333333333333333,
              "#9c179e"
             ],
             [
              0.4444444444444444,
              "#bd3786"
             ],
             [
              0.5555555555555556,
              "#d8576b"
             ],
             [
              0.6666666666666666,
              "#ed7953"
             ],
             [
              0.7777777777777778,
              "#fb9f3a"
             ],
             [
              0.8888888888888888,
              "#fdca26"
             ],
             [
              1,
              "#f0f921"
             ]
            ],
            "type": "heatmap"
           }
          ],
          "heatmapgl": [
           {
            "colorbar": {
             "outlinewidth": 0,
             "ticks": ""
            },
            "colorscale": [
             [
              0,
              "#0d0887"
             ],
             [
              0.1111111111111111,
              "#46039f"
             ],
             [
              0.2222222222222222,
              "#7201a8"
             ],
             [
              0.3333333333333333,
              "#9c179e"
             ],
             [
              0.4444444444444444,
              "#bd3786"
             ],
             [
              0.5555555555555556,
              "#d8576b"
             ],
             [
              0.6666666666666666,
              "#ed7953"
             ],
             [
              0.7777777777777778,
              "#fb9f3a"
             ],
             [
              0.8888888888888888,
              "#fdca26"
             ],
             [
              1,
              "#f0f921"
             ]
            ],
            "type": "heatmapgl"
           }
          ],
          "histogram": [
           {
            "marker": {
             "colorbar": {
              "outlinewidth": 0,
              "ticks": ""
             }
            },
            "type": "histogram"
           }
          ],
          "histogram2d": [
           {
            "colorbar": {
             "outlinewidth": 0,
             "ticks": ""
            },
            "colorscale": [
             [
              0,
              "#0d0887"
             ],
             [
              0.1111111111111111,
              "#46039f"
             ],
             [
              0.2222222222222222,
              "#7201a8"
             ],
             [
              0.3333333333333333,
              "#9c179e"
             ],
             [
              0.4444444444444444,
              "#bd3786"
             ],
             [
              0.5555555555555556,
              "#d8576b"
             ],
             [
              0.6666666666666666,
              "#ed7953"
             ],
             [
              0.7777777777777778,
              "#fb9f3a"
             ],
             [
              0.8888888888888888,
              "#fdca26"
             ],
             [
              1,
              "#f0f921"
             ]
            ],
            "type": "histogram2d"
           }
          ],
          "histogram2dcontour": [
           {
            "colorbar": {
             "outlinewidth": 0,
             "ticks": ""
            },
            "colorscale": [
             [
              0,
              "#0d0887"
             ],
             [
              0.1111111111111111,
              "#46039f"
             ],
             [
              0.2222222222222222,
              "#7201a8"
             ],
             [
              0.3333333333333333,
              "#9c179e"
             ],
             [
              0.4444444444444444,
              "#bd3786"
             ],
             [
              0.5555555555555556,
              "#d8576b"
             ],
             [
              0.6666666666666666,
              "#ed7953"
             ],
             [
              0.7777777777777778,
              "#fb9f3a"
             ],
             [
              0.8888888888888888,
              "#fdca26"
             ],
             [
              1,
              "#f0f921"
             ]
            ],
            "type": "histogram2dcontour"
           }
          ],
          "mesh3d": [
           {
            "colorbar": {
             "outlinewidth": 0,
             "ticks": ""
            },
            "type": "mesh3d"
           }
          ],
          "parcoords": [
           {
            "line": {
             "colorbar": {
              "outlinewidth": 0,
              "ticks": ""
             }
            },
            "type": "parcoords"
           }
          ],
          "pie": [
           {
            "automargin": true,
            "type": "pie"
           }
          ],
          "scatter": [
           {
            "marker": {
             "line": {
              "color": "#283442"
             }
            },
            "type": "scatter"
           }
          ],
          "scatter3d": [
           {
            "line": {
             "colorbar": {
              "outlinewidth": 0,
              "ticks": ""
             }
            },
            "marker": {
             "colorbar": {
              "outlinewidth": 0,
              "ticks": ""
             }
            },
            "type": "scatter3d"
           }
          ],
          "scattercarpet": [
           {
            "marker": {
             "colorbar": {
              "outlinewidth": 0,
              "ticks": ""
             }
            },
            "type": "scattercarpet"
           }
          ],
          "scattergeo": [
           {
            "marker": {
             "colorbar": {
              "outlinewidth": 0,
              "ticks": ""
             }
            },
            "type": "scattergeo"
           }
          ],
          "scattergl": [
           {
            "marker": {
             "line": {
              "color": "#283442"
             }
            },
            "type": "scattergl"
           }
          ],
          "scattermapbox": [
           {
            "marker": {
             "colorbar": {
              "outlinewidth": 0,
              "ticks": ""
             }
            },
            "type": "scattermapbox"
           }
          ],
          "scatterpolar": [
           {
            "marker": {
             "colorbar": {
              "outlinewidth": 0,
              "ticks": ""
             }
            },
            "type": "scatterpolar"
           }
          ],
          "scatterpolargl": [
           {
            "marker": {
             "colorbar": {
              "outlinewidth": 0,
              "ticks": ""
             }
            },
            "type": "scatterpolargl"
           }
          ],
          "scatterternary": [
           {
            "marker": {
             "colorbar": {
              "outlinewidth": 0,
              "ticks": ""
             }
            },
            "type": "scatterternary"
           }
          ],
          "surface": [
           {
            "colorbar": {
             "outlinewidth": 0,
             "ticks": ""
            },
            "colorscale": [
             [
              0,
              "#0d0887"
             ],
             [
              0.1111111111111111,
              "#46039f"
             ],
             [
              0.2222222222222222,
              "#7201a8"
             ],
             [
              0.3333333333333333,
              "#9c179e"
             ],
             [
              0.4444444444444444,
              "#bd3786"
             ],
             [
              0.5555555555555556,
              "#d8576b"
             ],
             [
              0.6666666666666666,
              "#ed7953"
             ],
             [
              0.7777777777777778,
              "#fb9f3a"
             ],
             [
              0.8888888888888888,
              "#fdca26"
             ],
             [
              1,
              "#f0f921"
             ]
            ],
            "type": "surface"
           }
          ],
          "table": [
           {
            "cells": {
             "fill": {
              "color": "#506784"
             },
             "line": {
              "color": "rgb(17,17,17)"
             }
            },
            "header": {
             "fill": {
              "color": "#2a3f5f"
             },
             "line": {
              "color": "rgb(17,17,17)"
             }
            },
            "type": "table"
           }
          ]
         },
         "layout": {
          "annotationdefaults": {
           "arrowcolor": "#f2f5fa",
           "arrowhead": 0,
           "arrowwidth": 1
          },
          "autotypenumbers": "strict",
          "coloraxis": {
           "colorbar": {
            "outlinewidth": 0,
            "ticks": ""
           }
          },
          "colorscale": {
           "diverging": [
            [
             0,
             "#8e0152"
            ],
            [
             0.1,
             "#c51b7d"
            ],
            [
             0.2,
             "#de77ae"
            ],
            [
             0.3,
             "#f1b6da"
            ],
            [
             0.4,
             "#fde0ef"
            ],
            [
             0.5,
             "#f7f7f7"
            ],
            [
             0.6,
             "#e6f5d0"
            ],
            [
             0.7,
             "#b8e186"
            ],
            [
             0.8,
             "#7fbc41"
            ],
            [
             0.9,
             "#4d9221"
            ],
            [
             1,
             "#276419"
            ]
           ],
           "sequential": [
            [
             0,
             "#0d0887"
            ],
            [
             0.1111111111111111,
             "#46039f"
            ],
            [
             0.2222222222222222,
             "#7201a8"
            ],
            [
             0.3333333333333333,
             "#9c179e"
            ],
            [
             0.4444444444444444,
             "#bd3786"
            ],
            [
             0.5555555555555556,
             "#d8576b"
            ],
            [
             0.6666666666666666,
             "#ed7953"
            ],
            [
             0.7777777777777778,
             "#fb9f3a"
            ],
            [
             0.8888888888888888,
             "#fdca26"
            ],
            [
             1,
             "#f0f921"
            ]
           ],
           "sequentialminus": [
            [
             0,
             "#0d0887"
            ],
            [
             0.1111111111111111,
             "#46039f"
            ],
            [
             0.2222222222222222,
             "#7201a8"
            ],
            [
             0.3333333333333333,
             "#9c179e"
            ],
            [
             0.4444444444444444,
             "#bd3786"
            ],
            [
             0.5555555555555556,
             "#d8576b"
            ],
            [
             0.6666666666666666,
             "#ed7953"
            ],
            [
             0.7777777777777778,
             "#fb9f3a"
            ],
            [
             0.8888888888888888,
             "#fdca26"
            ],
            [
             1,
             "#f0f921"
            ]
           ]
          },
          "colorway": [
           "#636efa",
           "#EF553B",
           "#00cc96",
           "#ab63fa",
           "#FFA15A",
           "#19d3f3",
           "#FF6692",
           "#B6E880",
           "#FF97FF",
           "#FECB52"
          ],
          "font": {
           "color": "#f2f5fa"
          },
          "geo": {
           "bgcolor": "rgb(17,17,17)",
           "lakecolor": "rgb(17,17,17)",
           "landcolor": "rgb(17,17,17)",
           "showlakes": true,
           "showland": true,
           "subunitcolor": "#506784"
          },
          "hoverlabel": {
           "align": "left"
          },
          "hovermode": "closest",
          "mapbox": {
           "style": "dark"
          },
          "paper_bgcolor": "rgb(17,17,17)",
          "plot_bgcolor": "rgb(17,17,17)",
          "polar": {
           "angularaxis": {
            "gridcolor": "#506784",
            "linecolor": "#506784",
            "ticks": ""
           },
           "bgcolor": "rgb(17,17,17)",
           "radialaxis": {
            "gridcolor": "#506784",
            "linecolor": "#506784",
            "ticks": ""
           }
          },
          "scene": {
           "xaxis": {
            "backgroundcolor": "rgb(17,17,17)",
            "gridcolor": "#506784",
            "gridwidth": 2,
            "linecolor": "#506784",
            "showbackground": true,
            "ticks": "",
            "zerolinecolor": "#C8D4E3"
           },
           "yaxis": {
            "backgroundcolor": "rgb(17,17,17)",
            "gridcolor": "#506784",
            "gridwidth": 2,
            "linecolor": "#506784",
            "showbackground": true,
            "ticks": "",
            "zerolinecolor": "#C8D4E3"
           },
           "zaxis": {
            "backgroundcolor": "rgb(17,17,17)",
            "gridcolor": "#506784",
            "gridwidth": 2,
            "linecolor": "#506784",
            "showbackground": true,
            "ticks": "",
            "zerolinecolor": "#C8D4E3"
           }
          },
          "shapedefaults": {
           "line": {
            "color": "#f2f5fa"
           }
          },
          "sliderdefaults": {
           "bgcolor": "#C8D4E3",
           "bordercolor": "rgb(17,17,17)",
           "borderwidth": 1,
           "tickwidth": 0
          },
          "ternary": {
           "aaxis": {
            "gridcolor": "#506784",
            "linecolor": "#506784",
            "ticks": ""
           },
           "baxis": {
            "gridcolor": "#506784",
            "linecolor": "#506784",
            "ticks": ""
           },
           "bgcolor": "rgb(17,17,17)",
           "caxis": {
            "gridcolor": "#506784",
            "linecolor": "#506784",
            "ticks": ""
           }
          },
          "title": {
           "x": 0.05
          },
          "updatemenudefaults": {
           "bgcolor": "#506784",
           "borderwidth": 0
          },
          "xaxis": {
           "automargin": true,
           "gridcolor": "#283442",
           "linecolor": "#506784",
           "ticks": "",
           "title": {
            "standoff": 15
           },
           "zerolinecolor": "#283442",
           "zerolinewidth": 2
          },
          "yaxis": {
           "automargin": true,
           "gridcolor": "#283442",
           "linecolor": "#506784",
           "ticks": "",
           "title": {
            "standoff": 15
           },
           "zerolinecolor": "#283442",
           "zerolinewidth": 2
          }
         }
        }
       }
      },
      "text/html": [
       "<div>                            <div id=\"0500e5bf-ec52-49c3-8167-4daed8976ec2\" class=\"plotly-graph-div\" style=\"height:525px; width:100%;\"></div>            <script type=\"text/javascript\">                require([\"plotly\"], function(Plotly) {                    window.PLOTLYENV=window.PLOTLYENV || {};                                    if (document.getElementById(\"0500e5bf-ec52-49c3-8167-4daed8976ec2\")) {                    Plotly.newPlot(                        \"0500e5bf-ec52-49c3-8167-4daed8976ec2\",                        [{\"customdata\": [[0.22616340419412412, 68.48988669472315], [0.23035051645955157, 68.48168560432296], [0.2364971465553082, 68.46964650293846], [0.2551186245851314, 68.43317353182455], [0.2613106099213181, 68.4210455953663], [0.4417040447991554, 68.06771786655226], [0.7382964631949437, 67.48679691648434], [0.7484761220597572, 67.4668585204488], [0.7792477231414306, 67.4065877022257], [0.8141456357269468, 67.33823488105712], [0.833593451994766, 67.30014340196891], [0.8735013669634389, 67.22197773608902], [0.8886739230146508, 67.19225999844791], [0.8936131713570282, 67.18258573618863], [0.908669609478236, 67.15309543301325], [0.913634399455908, 67.14337114361193], [0.9802666138684569, 67.01286190972446], [0.98351402493968, 67.00650136573294], [1.0804013237639842, 66.81673298936326], [1.1127227319620219, 66.75342664033555], [1.292471319045673, 67.0352619826052], [1.3210654124774934, 67.09813618422393], [1.4199438404658355, 67.31555528974323], [1.7509501303196626, 68.04338938789219], [1.930969893642316, 68.43922634357297], [2.127701199635838, 68.87180952118779], [2.1631338581171256, 68.94972072052524], [2.1750971602554303, 68.9760262605999], [2.2064068388418603, 68.85775393836774], [2.2072389901156937, 68.85195342010509], [2.2104094865623027, 68.82985344487403], [2.2115113049023547, 68.82217320979592], [2.2519570516975898, 68.540245752242], [2.2941093821519565, 68.24642253727859], [2.338428019395662, 67.93749906051282], [2.3797685331600675, 67.64933462140436], [2.4045789471660988, 67.47639339776983], [2.4661040483683117, 67.04753210252652], [2.4824560112271015, 66.93355059198268], [2.494084521908076, 66.85249394916623], [2.5918431230413903, 66.45494988411043], [2.6345856307978046, 66.52646244535026], [2.6402975063317027, 66.53601899386257], [2.6577329440187563, 66.56519025382804], [2.6635673919886482, 66.5749518784881], [2.7398838811225357, 66.70263712414324], [2.8116907927642742, 66.8227773881513], [2.850449936029474, 66.88762537559629], [2.928665498110211, 67.01848796337616], [2.9843248245352236, 67.11161167554157], [2.9894030361070336, 67.12010803981872], [3.000806640704393, 67.13918742974995], [3.0131456268627854, 67.15983180813593], [3.0214775085216403, 67.17377189327945], [3.025348641917846, 67.18024869304145], [3.0359582028569485, 67.19799956719953], [3.038488239358275, 67.2022325755029], [3.042863196260684, 67.20955232321607], [3.0484654175296786, 67.21892540899432], [3.065565886627325, 67.24753623245242], [3.0676441277828688, 67.25101334120686], [3.0845240628851736, 67.27925518886838], [3.1097132084175687, 67.32139919040263], [3.1546139860728806, 67.3965227566213], [3.227615165128024, 67.51866115143685], [3.302680515758276, 67.6442531151683], [3.3048213932648, 67.64783502090636], [3.5958449482348467, 67.42729915477602], [3.6365893572379027, 67.38453890544749], [3.6667821588916856, 67.35285230701022], [3.673052651882582, 67.34627157973343], [3.803455724372508, 67.20941678101836], [3.863007186015683, 67.14691899518594], [3.915839141496998, 67.09147316484572], [3.9507788418030865, 67.0548048136999], [3.9616443228996268, 67.04340176007535], [3.994435771844981, 67.00898794558998], [4.005443956448704, 66.98937410239694], [4.063090389256362, 66.73873743801582], [4.068729988389099, 66.71421744178653], [4.081364442771158, 66.65928503142975], [4.14132701857572, 66.39857818010556], [4.170967119961173, 66.26970817408186], [4.190723864444953, 66.18380928502194], [4.246501973112239, 65.94129576907723], [4.298257671044309, 65.71627099545952], [4.304539388409513, 65.6889591808282], [4.324572353136284, 65.60185933419007], [4.3313559830468495, 65.57236529110065], [4.337826680783325, 65.5442318226812], [4.357775113451059, 65.45749950673452], [4.364419006357562, 65.42861301583669], [4.398865866446805, 65.27884405892694], [4.432864214563023, 65.13102515407381], [4.482778161385993, 64.91400799397394]], \"hovertemplate\": \"speed_cat=fast<br>linegroup=0<br>latitude=%{lat}<br>longitude=%{lon}<br>abs_pm=%{customdata[0]}<br>avg_speed=%{customdata[1]}<extra></extra>\", \"lat\": [32.544430999999996, 32.54446899999999, 32.544525, 32.544692999999995, 32.544748999999996, 32.546389999999995, 32.54899999999999, 32.549081, 32.549324999999996, 32.54958599999999, 32.54971299999999, 32.54994599999999, 32.55003899999999, 32.55006499999999, 32.55014599999999, 32.550173, 32.550556, 32.550575, 32.551158, 32.551352, 32.55251299999999, 32.5527, 32.55334599999999, 32.55549299999999, 32.556668, 32.55795899999999, 32.55818699999999, 32.558264, 32.558455999999985, 32.558461, 32.558481, 32.55848799999999, 32.55875999999999, 32.55904499999999, 32.55937999999999, 32.559713999999985, 32.559927, 32.56045699999999, 32.560603, 32.560707, 32.561548, 32.56191599999999, 32.561965, 32.562117, 32.56217, 32.562823, 32.56344599999999, 32.563781999999996, 32.564447, 32.564962, 32.56501099999999, 32.56512099999999, 32.565239999999996, 32.56532099999999, 32.56536299999999, 32.56548, 32.565508, 32.565556, 32.565618, 32.565806, 32.565829, 32.566009, 32.566300999999996, 32.56684599999999, 32.56773199999999, 32.568654999999985, 32.56868099999999, 32.572238999999996, 32.57273899999999, 32.573109999999986, 32.57318699999999, 32.57478799999999, 32.57549499999999, 32.57609399999999, 32.576484, 32.57660299999999, 32.57696299999999, 32.57708399999999, 32.577716999999986, 32.577778999999985, 32.57791799999999, 32.578572, 32.578907, 32.579138, 32.579799, 32.580441, 32.580522, 32.58077999999999, 32.58086699999999, 32.580953, 32.581217999999986, 32.58130599999999, 32.58177899999999, 32.58224599999999, 32.58294399999999], \"legendgroup\": \"fast\", \"line\": {\"color\": \"#636efa\"}, \"lon\": [-117.03292400000001, -117.03298000000001, -117.033062, -117.03331200000001, -117.03339500000001, -117.035804, -117.039847, -117.039993, -117.040435, -117.04094800000001, -117.041246, -117.04187300000001, -117.042109, -117.042188, -117.042428, -117.042507, -117.043557, -117.043608, -117.045121, -117.045626, -117.04838800000002, -117.048826, -117.050341, -117.05542200000001, -117.058181, -117.061192, -117.061737, -117.061921, -117.062408, -117.06242100000001, -117.06247, -117.062487, -117.063102, -117.063742, -117.064391, -117.06498, -117.065323, -117.066172, -117.06639300000002, -117.06655, -117.0679, -117.06849000000001, -117.068569, -117.068808, -117.068886, -117.069943, -117.07093, -117.07146300000001, -117.07255, -117.073285, -117.07335, -117.073496, -117.073654, -117.07376, -117.073804, -117.07392200000001, -117.07395000000001, -117.07399900000001, -117.07406100000001, -117.074252, -117.074275, -117.07447100000002, -117.07473, -117.07515000000001, -117.075833, -117.076513, -117.076533, -117.079208, -117.07957900000001, -117.079853, -117.07991, -117.081096, -117.081681, -117.082245, -117.082627, -117.082749, -117.083116, -117.083239, -117.08388400000001, -117.083947, -117.084088, -117.08476500000002, -117.085083, -117.085283, -117.085833, -117.086291, -117.08634, -117.08649700000001, -117.086551, -117.086595, -117.08673100000001, -117.086777, -117.086964, -117.087148, -117.087369], \"mode\": \"lines\", \"name\": \"fast\", \"showlegend\": true, \"subplot\": \"mapbox\", \"type\": \"scattermapbox\"}, {\"customdata\": [[17.197372342164527, 65.02066358281921], [17.40680541271771, 60.60618594286794]], \"hovertemplate\": \"speed_cat=fast<br>linegroup=16<br>latitude=%{lat}<br>longitude=%{lon}<br>abs_pm=%{customdata[0]}<br>avg_speed=%{customdata[1]}<extra></extra>\", \"lat\": [32.7312, 32.733665], \"legendgroup\": \"fast\", \"line\": {\"color\": \"#636efa\"}, \"lon\": [-117.17144, -117.173537], \"mode\": \"lines\", \"name\": \"fast\", \"showlegend\": false, \"subplot\": \"mapbox\", \"type\": \"scattermapbox\"}, {\"customdata\": [[18.11723283244267, 65.2587000475802], [18.138698663952123, 65.46900718061201], [18.171330872572245, 65.78871462993077], [18.198151257298854, 66.05148191272525], [18.200268980207124, 66.07222987365087], [18.218623149455087, 66.25205112641808], [18.242533192250335, 66.48630492407422], [18.253820320354784, 66.59688827374619], [18.350081064872764, 67.50685893255927], [18.38216785569769, 67.56078631209697], [18.45501739773786, 67.68322251720649], [18.545725678604594, 67.83567340941948], [18.56165885823117, 67.8624518625734], [18.59852651288283, 67.9244143073661], [18.624838506353683, 67.96863614513224], [18.669393698225086, 68.04351882054637], [18.684718964628065, 68.06927557080347], [18.746863645305716, 68.17372041227851], [18.823647709445314, 68.29753336909384], [18.857713784530546, 68.24653625070277], [18.898383331625684, 68.18565369517113], [18.93703165468877, 68.1277969241186], [18.96806642275678, 68.08133769048386], [19.00378692419392, 68.02786388593724], [19.03209800454192, 67.98548202912886], [19.056792400609616, 67.94851437034488], [19.084049843112084, 67.90770981570047], [19.111945198916942, 67.86595030102254], [19.137502254976592, 67.82769123506498], [19.160460184654216, 67.790803742981], [19.235415024604794, 67.63625768122722], [19.306387712748805, 67.48992224175504], [19.3658098065283, 67.36740246076639], [19.403708358909785, 67.28926111564992], [19.41301149302825, 67.27007939581803], [19.44109992356984, 67.21216510604157], [19.450492568878573, 67.19279882705449], [19.474067604913827, 67.1441905053323], [19.54506025922439, 66.99781389850641], [19.568724409523693, 66.94902183603362], [19.582692864267365, 66.9202208984178], [19.624646480500676, 66.83371859690583], [19.63879626728028, 66.80454377880353], [19.657593672870192, 66.76578624150476], [19.6616591255367, 66.75740386487277], [19.679561008058545, 66.72049276688959], [19.697406154577433, 66.68369865035581], [19.714626782633935, 66.64819220075476], [19.717136217423906, 66.6430181084043], [19.734093152271168, 66.60805535614192], [19.77008955335523, 66.53383597246344], [19.791444399436685, 66.48980536198621], [19.81044706628784, 66.45062460559208], [19.838398238171706, 66.3929933233573], [19.84887562748655, 66.37139045879061], [19.867132198677997, 66.33374804396288], [19.883783737462373, 66.29941497430438], [19.892899141617015, 66.28062032656285], [19.9020677976934, 66.26171588104452], [19.910093691402754, 66.24516764659225], [19.91294402260764, 66.23929067503579], [19.914235642315376, 66.23662754161778], [19.919223721678627, 66.22634284189974], [19.923663000277685, 66.2171896901491], [19.952557894537616, 66.15761258858223], [19.962283659535128, 66.13755946487602], [19.963695735232257, 66.13464796859328], [19.968146784893463, 66.12547054661141], [19.969706304473046, 66.12225504232362], [19.971186063561653, 66.11920399265638], [19.98810744343209, 66.08431454962455], [19.990312249231238, 66.0797685582861], [19.99719546566087, 66.06557635946213], [19.9996154287332, 66.06058674488], [20.011728933532755, 66.03561044632421], [20.029932885442637, 65.99807652486054], [20.16474695996532, 65.72010936089625], [20.184106257763172, 65.68019328296253], [20.223975190757592, 65.59798929740703], [20.34395645928895, 65.35060523857948], [20.383972699998356, 65.26809752577658], [20.40381963288575, 65.22717601466856], [20.46359722177072, 65.103923254081], [20.483602110467793, 65.06267606089115], [20.49076764299796, 65.04790176701452], [20.512277502716405, 65.00355154079092], [20.519456446718156, 64.98874959439556]], \"hovertemplate\": \"speed_cat=fast<br>linegroup=20<br>latitude=%{lat}<br>longitude=%{lon}<br>abs_pm=%{customdata[0]}<br>avg_speed=%{customdata[1]}<extra></extra>\", \"lat\": [32.7417, 32.741873999999996, 32.74211199999999, 32.74229499999999, 32.742308, 32.742443, 32.742609, 32.742688, 32.743362999999995, 32.743587999999995, 32.744088999999995, 32.74471499999999, 32.74482799999999, 32.745087999999996, 32.745267999999996, 32.745582999999996, 32.745692999999996, 32.74613699999999, 32.74666599999999, 32.746891999999995, 32.74719499999999, 32.74750699999999, 32.747779, 32.748103, 32.74837999999999, 32.74862799999999, 32.748917999999996, 32.749211999999986, 32.749493, 32.74975299999999, 32.750634999999996, 32.751469, 32.752134999999996, 32.75253599999999, 32.75262699999999, 32.75290199999999, 32.752994, 32.753219, 32.753897, 32.754122999999986, 32.754256999999996, 32.75466099999999, 32.754798, 32.75499099999999, 32.75503299999999, 32.75522099999999, 32.755417, 32.75561499999999, 32.75564399999999, 32.755846999999996, 32.75631299999999, 32.75659699999999, 32.756848999999995, 32.757228999999995, 32.75737199999999, 32.757629, 32.757865999999986, 32.75799399999999, 32.75812299999999, 32.75823599999999, 32.758275999999995, 32.75829399999999, 32.758364, 32.75842699999999, 32.758836999999986, 32.75897499999999, 32.75899499999999, 32.759057999999996, 32.75907999999999, 32.759101, 32.75934099999999, 32.75937199999999, 32.759468999999996, 32.759502999999995, 32.75967399999999, 32.759931, 32.76183799999999, 32.76211099999999, 32.762675, 32.764372, 32.764938, 32.76521999999999, 32.766069, 32.766352999999995, 32.766453999999996, 32.76675699999999, 32.76685799999999], \"legendgroup\": \"fast\", \"line\": {\"color\": \"#636efa\"}, \"lon\": [-117.18109500000001, -117.18140100000001, -117.181886, -117.18229300000002, -117.18232600000002, -117.182598, -117.182959, -117.18312900000001, -117.184578, -117.185061, -117.186164, -117.187536, -117.187775, -117.18832900000001, -117.18872800000001, -117.189397, -117.189626, -117.190556, -117.19171800000001, -117.192239, -117.192839, -117.193391, -117.193816, -117.19429500000001, -117.194654, -117.19496, -117.195278, -117.195607, -117.195893, -117.196139, -117.19689000000001, -117.19760300000002, -117.19825, -117.198695, -117.198813, -117.199169, -117.199288, -117.199593, -117.200511, -117.200817, -117.200997, -117.201536, -117.201717, -117.20194500000001, -117.201994, -117.202206, -117.20240600000001, -117.202586, -117.202612, -117.20277600000001, -117.203053, -117.203198, -117.203329, -117.203494, -117.203554, -117.203627, -117.20367900000001, -117.20371700000001, -117.20375400000002, -117.20378600000001, -117.203798, -117.203804, -117.203825, -117.20384, -117.203938, -117.203971, -117.203976, -117.203992, -117.203998, -117.20400300000001, -117.204061, -117.20407, -117.204097, -117.20410700000001, -117.204153, -117.204222, -117.204713, -117.204788, -117.204933, -117.205371, -117.205517, -117.205582, -117.20578, -117.205847, -117.205875, -117.20596, -117.205989], \"mode\": \"lines\", \"name\": \"fast\", \"showlegend\": false, \"subplot\": \"mapbox\", \"type\": \"scattermapbox\"}, {\"customdata\": [[21.843805089913314, 65.01688494537721], [21.936280762708286, 65.29111264065061], [21.95347444675028, 65.34209885362523], [21.961337111877825, 65.36541482929175], [21.99017563067827, 65.30991117318125], [22.00021838069824, 65.25723540340718], [22.024110996538578, 65.1319149554419], [22.03053693820955, 65.0982099022076], [22.040694321200384, 65.04493286485545], [22.06937093333131, 64.894519619927]], \"hovertemplate\": \"speed_cat=fast<br>linegroup=22<br>latitude=%{lat}<br>longitude=%{lon}<br>abs_pm=%{customdata[0]}<br>avg_speed=%{customdata[1]}<extra></extra>\", \"lat\": [32.78571, 32.78703099999999, 32.787278, 32.78739099999999, 32.787805999999996, 32.787950999999985, 32.788295999999995, 32.788388999999995, 32.788536, 32.78895099999999], \"legendgroup\": \"fast\", \"line\": {\"color\": \"#636efa\"}, \"lon\": [-117.207521, -117.207265, -117.207229, -117.207213, -117.20716000000002, -117.20714800000002, -117.20712000000002, -117.20712100000001, -117.20712300000001, -117.207116], \"mode\": \"lines\", \"name\": \"fast\", \"showlegend\": false, \"subplot\": \"mapbox\", \"type\": \"scattermapbox\"}, {\"customdata\": [[23.417685627552853, 65.13136761282209], [23.421724869888216, 65.16218650726398], [23.462935789305426, 65.47662047034983], [23.501684170384053, 65.60398761308235], [23.59345409867253, 65.8714153182175], [23.62479410536716, 65.96274355858529], [23.77264850136193, 66.39360759599336], [23.83726425468426, 66.5819050366566], [23.861375568350674, 66.65216806727958], [23.933533045784397, 66.86244292483184], [23.957674809192188, 66.93279468936375], [24.109233768774832, 67.3744542341598], [24.13296207978966, 67.38523175344636], [24.152919799430272, 67.36553258538653], [24.2684357043175, 67.2515131851277], [24.350121844820595, 67.17088528580324], [24.444535000115632, 67.07769524973165], [24.493315185834536, 67.02954700966363], [24.707670449182835, 66.81796871147901], [24.83521462094797, 66.69207687013156], [24.842721470338788, 66.68466727171989], [24.883067146566418, 66.64484427235887], [24.895472474145578, 66.63259965537759], [24.914368423079004, 66.61394850282147], [24.937661065467754, 66.59095761582455], [24.94900289930681, 66.57976271505805], [24.967251486701212, 66.56175053749418], [24.97452572418136, 66.55457053751377], [24.98767675052109, 66.54158988227407], [25.00056718672607, 66.52886644123275], [25.010461748102447, 66.51910006356329], [25.037532521581152, 66.4923799910365], [25.044235226065005, 66.48576411986181], [25.06181382464095, 66.46841325143399], [25.08687059826556, 66.44368108746151], [25.113977495418073, 66.41692535924187], [25.134237588102145, 66.39692773537111], [25.15373848487952, 66.37767947204983], [25.19471799554189, 66.33723084955767], [25.20526645897873, 66.32681904110675], [25.238972761418204, 66.29354940267173], [25.40825866348471, 66.12645659372268], [25.464578371363718, 66.07086650574833], [25.519649453662076, 66.0165088674526], [25.55873705437292, 65.97792764528275], [25.575848245094313, 65.96103812945657], [25.602834919669306, 65.93440106633504], [25.623200735994658, 65.91429908846918], [25.647855398227268, 65.88996382654928], [25.690010654832626, 65.84835468986292], [25.713616361386784, 65.82505479443624], [25.74879363719977, 65.82755785359242], [25.77432412190678, 65.89939687982427], [25.82914754561071, 66.05366192487861], [25.879140874860152, 66.19433579506102], [25.887343761243542, 66.21741750999264], [25.909437224759586, 66.27958526447502], [25.916844656552193, 66.30042868726807], [25.92590026416325, 66.32590983422558], [25.953345591322545, 66.40313694527988], [25.962486765674296, 66.42885886445147], [26.04002627601054, 66.64704363379589], [26.049064551794753, 66.67247601154367], [26.115312323659406, 66.8588874908165], [26.11728410535964, 66.86443579430201], [26.159212400731136, 66.98241584621314], [26.17979499763462, 67.04033224442641], [26.20389102742497, 67.06489466698251], [26.22883913787058, 66.76195332585725], [26.27963012560019, 66.145205617712], [26.289028431281082, 66.031083334444], [26.298978547301672, 65.91026049705111], [26.309688641820646, 65.78020934932073], [26.330368413379798, 65.52909783753103], [26.350402426270154, 65.28582768100526], [26.36726509962328, 65.08106664743161], [26.378423150690747, 64.94557602732664]], \"hovertemplate\": \"speed_cat=fast<br>linegroup=24<br>latitude=%{lat}<br>longitude=%{lon}<br>abs_pm=%{customdata[0]}<br>avg_speed=%{customdata[1]}<extra></extra>\", \"lat\": [32.80671699999999, 32.80676799999999, 32.807249999999996, 32.807715, 32.808804999999985, 32.809187, 32.810946, 32.81174099999999, 32.812038, 32.81292599999999, 32.813223, 32.815077999999986, 32.815345, 32.815568999999996, 32.81690499999999, 32.817824, 32.81885799999999, 32.81938799999999, 32.821725, 32.82311899999999, 32.82320299999999, 32.82365699999999, 32.823802, 32.824027, 32.82430999999999, 32.824452, 32.824684999999995, 32.82477999999999, 32.824951999999996, 32.825123999999995, 32.82525299999999, 32.82561299999999, 32.825704, 32.82594199999999, 32.826287, 32.82666499999999, 32.826951, 32.827228999999996, 32.82781599999999, 32.82796799999999, 32.82845499999999, 32.830905, 32.83171999999999, 32.832516999999996, 32.83308199999999, 32.833328, 32.833714, 32.834002999999996, 32.83435, 32.83493699999999, 32.835260999999996, 32.835737, 32.83608699999999, 32.836832, 32.837513, 32.837621999999996, 32.83791999999999, 32.83802, 32.83814199999999, 32.838512, 32.83863499999999, 32.83967899999999, 32.83980199999999, 32.840703999999995, 32.84073099999999, 32.841308999999995, 32.84159799999999, 32.841938999999996, 32.842296999999995, 32.843030999999996, 32.843167, 32.843310999999986, 32.84346599999999, 32.84376499999999, 32.844053999999986, 32.84429699999999, 32.844457999999996], \"legendgroup\": \"fast\", \"line\": {\"color\": \"#636efa\"}, \"lon\": [-117.21600300000001, -117.21603700000001, -117.216455, -117.216828, -117.21773100000001, -117.218022, -117.219472, -117.220058, -117.220276, -117.22093, -117.221149, -117.222542, -117.222799, -117.223016, -117.22421200000001, -117.225097, -117.22616, -117.226715, -117.229143, -117.230583, -117.23066500000002, -117.231102, -117.231228, -117.231413, -117.231631, -117.231729, -117.231877, -117.23193100000002, -117.232028, -117.232114, -117.232188, -117.232372, -117.23241200000001, -117.232519, -117.232652, -117.232777, -117.23285400000002, -117.232912, -117.233013, -117.23303, -117.233064, -117.233091, -117.233074, -117.233085, -117.233119, -117.233153, -117.233224, -117.23329300000002, -117.233392, -117.23359, -117.233719, -117.233934, -117.234075, -117.2344, -117.234691, -117.234747, -117.234885, -117.23493100000002, -117.23498800000002, -117.23516, -117.235218, -117.235708, -117.235761, -117.23614800000001, -117.236159, -117.236379, -117.236465, -117.236552, -117.236608, -117.23665600000001, -117.236659, -117.23665700000001, -117.236655, -117.23663900000001, -117.23661100000001, -117.23658400000001, -117.236569], \"mode\": \"lines\", \"name\": \"fast\", \"showlegend\": false, \"subplot\": \"mapbox\", \"type\": \"scattermapbox\"}, {\"customdata\": [[28.06655166890518, 65.10324511120695], [28.09594370397024, 65.27613943511905], [28.106979093448725, 65.34105349087486], [28.12398476749383, 65.44108686761076], [28.301921027494604, 66.48777074996825], [28.340661897984088, 66.71565822343581], [28.363906248118937, 66.8010535782475], [28.612532706792226, 66.8304652255669], [28.875396855826157, 66.86156114225072], [29.026966879058502, 66.87949135004635], [29.062043519306016, 66.88364079487059], [29.167025714733832, 66.89605982429816], [29.202166569977052, 66.90021686553357], [29.407161016548162, 66.92446699722572], [29.467207710513833, 66.93157031275794], [29.53716715135009, 66.9398462718474], [29.64515527100544, 66.95262089168045], [29.703973502650545, 66.95957888438295], [29.801026489304924, 66.97105991592723], [29.855819073840603, 66.97754168854581], [29.879576791598605, 66.98035214411655], [29.900494031984163, 66.98282658107068], [30.010835702886318, 66.99587961784933], [30.113474234967356, 67.00802140003556], [30.117697950255135, 67.00852105089768], [30.317826485413175, 67.03219556215456], [30.332529690306163, 67.03393490027281], [30.349436487705432, 67.03593491573803], [30.378293662411643, 67.03934861937046], [30.403412854950844, 67.04232013268346], [30.422143755002786, 67.04453593316279], [30.43244127507976, 67.04575409405517], [30.434169582035445, 67.04595854677075], [30.446194059594156, 67.04738100074063], [30.46340074221176, 67.04941649158656], [30.473767338148903, 67.0506428239135], [30.478466042307208, 67.05119866431079], [30.492768830980953, 67.05289063457975], [30.497605711553028, 67.05346282076731], [30.509420669982394, 67.05486048935123], [30.540578870165067, 67.05854639631289], [30.57734715367958, 67.06289595666556], [30.60335714262816, 67.06597284810269], [30.626807963666675, 67.06874699885647], [30.635417730636842, 67.06976550441287], [30.669154845177268, 67.07375648799415], [30.73186385922322, 67.08117474675353], [30.792384583048474, 67.08833413837324], [30.854579539136804, 67.09569158586002], [30.88371522212574, 67.09913823605588], [30.888368537897644, 67.09968870716455], [30.90305883052086, 66.88835521942978], [30.908087499428287, 66.80009694880961], [30.95995710514767, 65.88973244026536], [30.967712327359074, 65.75362037696317], [31.013071924740515, 64.95751315761542]], \"hovertemplate\": \"speed_cat=fast<br>linegroup=26<br>latitude=%{lat}<br>longitude=%{lon}<br>abs_pm=%{customdata[0]}<br>avg_speed=%{customdata[1]}<extra></extra>\", \"lat\": [32.867782999999996, 32.86820699999999, 32.868366, 32.868611, 32.87117599999999, 32.871735, 32.87207099999999, 32.875658, 32.879449, 32.881636, 32.882142, 32.88365699999999, 32.88416399999999, 32.887122999999995, 32.887987999999986, 32.88899599999999, 32.89055299999999, 32.891401, 32.892803, 32.893588, 32.89392399999999, 32.894218999999985, 32.895747, 32.89715499999999, 32.897213, 32.89997499999999, 32.90017999999999, 32.900415999999986, 32.90083099999999, 32.90119299999999, 32.901462999999985, 32.901612, 32.901637, 32.901810999999995, 32.90205999999999, 32.90220999999999, 32.902277999999995, 32.90248499999999, 32.902554999999985, 32.902726, 32.90317499999999, 32.903701999999996, 32.90407299999999, 32.90440499999999, 32.904524999999985, 32.90500699999999, 32.905865999999996, 32.906660999999986, 32.907513, 32.907913, 32.907973999999996, 32.908163, 32.908228, 32.90889899999999, 32.90899799999999, 32.90957499999999], \"legendgroup\": \"fast\", \"line\": {\"color\": \"#636efa\"}, \"lon\": [-117.229778, -117.22973700000001, -117.229719, -117.229691, -117.22941700000001, -117.22936500000002, -117.22934500000001, -117.229004, -117.228623, -117.228419, -117.22837, -117.228232, -117.22818400000001, -117.227926, -117.227826, -117.227712, -117.22755000000001, -117.227461, -117.227358, -117.227224, -117.227137, -117.227056, -117.226503, -117.22593900000001, -117.225916, -117.224877, -117.224809, -117.224732, -117.22467600000002, -117.224636, -117.224607, -117.22460300000002, -117.224604, -117.2246, -117.22459500000001, -117.224591, -117.22459, -117.224592, -117.224593, -117.224593, -117.22464300000001, -117.224731, -117.224807, -117.224891, -117.224931, -117.225024, -117.225373, -117.22581100000001, -117.226157, -117.226316, -117.22635000000001, -117.22646600000002, -117.226505, -117.226906, -117.226969, -117.227342], \"mode\": \"lines\", \"name\": \"fast\", \"showlegend\": false, \"subplot\": \"mapbox\", \"type\": \"scattermapbox\"}, {\"customdata\": [[31.377613271626405, 65.46345338800762], [31.39652711642445, 65.67195246452151], [31.41858559073098, 65.91511674821554], [31.44062521606474, 66.15807324795776], [31.46616213420278, 66.43958258176293], [31.492552167788304, 66.73049633782384], [31.5180301066477, 66.975052104626], [31.54269744218346, 66.37764007211932], [31.564777159138835, 65.84289692710632], [31.569183018323933, 65.73619252496722], [31.62893960738656, 64.28896263360674]], \"hovertemplate\": \"speed_cat=fast<br>linegroup=28<br>latitude=%{lat}<br>longitude=%{lon}<br>abs_pm=%{customdata[0]}<br>avg_speed=%{customdata[1]}<extra></extra>\", \"lat\": [32.914175, 32.91440099999999, 32.914659, 32.914909, 32.915189999999996, 32.91546799999999, 32.915725, 32.91596299999999, 32.91616599999999, 32.916204, 32.916769999999985], \"legendgroup\": \"fast\", \"line\": {\"color\": \"#636efa\"}, \"lon\": [-117.230416, -117.2306, -117.230824, -117.23106, -117.231346, -117.231658, -117.23197300000001, -117.23229, -117.232584, -117.232645, -117.233424], \"mode\": \"lines\", \"name\": \"fast\", \"showlegend\": false, \"subplot\": \"mapbox\", \"type\": \"scattermapbox\"}, {\"customdata\": [[54.672978275916684, 65.0636005243965], [54.688171561246435, 65.18976384780609], [54.73371783711706, 65.56797497252686], [54.748993726103784, 65.69482422736358], [54.81294424759964, 66.2258621267108], [54.88854476929294, 66.52058359983833], [54.956161562821706, 66.34477993666356], [55.14988823219848, 65.84109059628395], [55.15776630534929, 65.82060760609183], [55.17352135412401, 65.77964447927755], [55.2121820340714, 65.67912671141436], [55.25492912679519, 65.56798427033249], [55.28793611570047, 65.48216609917877], [55.322519693870134, 65.39224879593763], [55.352372426542296, 65.31463169099003], [55.38780616978, 65.22250395857199], [55.48334073748773, 64.9741140825319]], \"hovertemplate\": \"speed_cat=fast<br>linegroup=42<br>latitude=%{lat}<br>longitude=%{lon}<br>abs_pm=%{customdata[0]}<br>avg_speed=%{customdata[1]}<extra></extra>\", \"lat\": [33.21460499999999, 33.21481599999999, 33.215447999999995, 33.215659999999986, 33.21655799999999, 33.217621, 33.21856799999999, 33.221282999999985, 33.221392, 33.221600999999986, 33.222104, 33.222656, 33.223062999999996, 33.22345099999999, 33.22375999999999, 33.224139, 33.225152], \"legendgroup\": \"fast\", \"line\": {\"color\": \"#636efa\"}, \"lon\": [-117.389897, -117.38997100000002, -117.390195, -117.39027, -117.390538, -117.390848, -117.391143, -117.39198, -117.39202000000002, -117.392129, -117.39242200000001, -117.392756, -117.393055, -117.393433, -117.393794, -117.39420700000001, -117.395332], \"mode\": \"lines\", \"name\": \"fast\", \"showlegend\": false, \"subplot\": \"mapbox\", \"type\": \"scattermapbox\"}, {\"customdata\": [[56.244988208140235, 65.27706108686279], [56.29576151329968, 65.44461299388895], [56.40408817172328, 65.80209096668683], [56.41274642759887, 65.83066321107627], [56.41926797772942, 65.85218432650709], [56.43346927887782, 65.89904862029682], [56.438821940434, 65.91671240343221], [56.447671005624834, 65.94591431856196], [56.47398759715572, 66.03275907061388], [56.48041918377652, 66.05398330646253], [56.48466379013937, 66.06799050745994], [56.49225361351889, 66.09303692461235], [56.65362079800698, 66.62554863342305], [56.694194243646116, 66.7594410040322], [56.92449926008314, 67.4356205168249], [56.97658957443917, 67.54185501245242], [57.02601492747928, 67.64265450879527], [57.03530065923356, 67.66159209904873], [57.10235227837908, 67.7983391129417], [57.118624293092466, 67.83152473098396], [57.139961061170546, 67.87503955371288], [57.15989648050012, 67.91569642522118], [57.178844097360056, 67.95433874376626], [57.19100796272122, 67.97914608304804], [57.214877780866296, 68.02782688144045], [57.22845359950173, 68.05551379911977], [57.23181949946602, 68.06237831298304], [57.249763947323665, 68.09897473961318], [57.27661463768641, 68.15373481513204], [57.4173471188699, 68.440748712855], [57.49280792465078, 68.59464566550126], [57.53239906015123, 68.67538897379585], [57.564665603086866, 68.74119429589436], [57.59629369935839, 68.80569755137674], [57.63212149586255, 68.8787657971364], [58.05594910083168, 69.74313208871179], [58.084948357819556, 69.80227401322819], [58.10136311780889, 69.8357507501201], [58.11056484300634, 69.85451701496874], [58.27453272775532, 70.18891786761792], [58.286643868080134, 70.21361767793364], [58.3292374837506, 70.29927623999816], [58.58907531957541, 69.50738950224638], [58.6603727336906, 69.29010214494294], [58.785754541034834, 68.90798616065574], [58.886817106726284, 68.59998596045322], [58.929943642765984, 68.46855270776081], [58.95993406649823, 68.37715332114826], [59.03085478315582, 68.16101399419179], [59.22217739026881, 67.5779355725141], [59.43715343805965, 66.92277047448486], [59.60567081628532, 66.4091937027495], [59.66496379689816, 66.22849128564371], [59.687848774295134, 66.15874659262435], [59.73997676824025, 65.99988032536307], [59.77095361455313, 65.90547469850475], [59.799982626885274, 65.81700532758774], [59.83070350821435, 65.72337978448961], [59.85953400934432, 65.6355154000935], [59.89609020781092, 65.52410603333814], [60.11115782365977, 64.8686618707512]], \"hovertemplate\": \"speed_cat=fast<br>linegroup=44<br>latitude=%{lat}<br>longitude=%{lon}<br>abs_pm=%{customdata[0]}<br>avg_speed=%{customdata[1]}<extra></extra>\", \"lat\": [33.23323599999999, 33.233772, 33.234915, 33.23500599999999, 33.235075, 33.235224999999986, 33.235281, 33.23537499999999, 33.23565399999999, 33.235721999999996, 33.235766999999996, 33.235846999999985, 33.23751699999999, 33.23790499999999, 33.239854, 33.240311999999996, 33.240771999999986, 33.24086499999999, 33.24157499999999, 33.241763999999996, 33.242018, 33.24226099999999, 33.242495999999996, 33.24264999999999, 33.242955, 33.243131999999996, 33.24317599999999, 33.24341299999999, 33.24377299999999, 33.24568699999999, 33.246697999999995, 33.247225, 33.24764299999999, 33.248053999999996, 33.248492999999996, 33.253599, 33.25394899999999, 33.254146999999996, 33.254258, 33.256236, 33.256381999999995, 33.25689599999999, 33.26003099999999, 33.260891, 33.26239799999999, 33.263618, 33.264120999999996, 33.26444899999999, 33.265178999999996, 33.266996999999996, 33.26906999999999, 33.27066099999999, 33.27123499999999, 33.27145699999999, 33.27195199999999, 33.27226999999999, 33.272596, 33.272942, 33.27328099999999, 33.273724, 33.27635], \"legendgroup\": \"fast\", \"line\": {\"color\": \"#636efa\"}, \"lon\": [-117.404291, -117.404892, -117.406175, -117.40627800000001, -117.406355, -117.406523, -117.406587, -117.40669100000001, -117.40700100000001, -117.40707700000002, -117.407127, -117.407217, -117.409169, -117.40969600000001, -117.412929, -117.413645, -117.4143, -117.414416, -117.415207, -117.415375, -117.41558500000001, -117.415771, -117.41594, -117.416042, -117.416236, -117.416338, -117.416363, -117.41649000000001, -117.416665, -117.417498, -117.417992, -117.418261, -117.41851, -117.418751, -117.419081, -117.423146, -117.423423, -117.42358, -117.423668, -117.425236, -117.425352, -117.425759, -117.428243, -117.42892499999999, -117.43013400000001, -117.43109900000002, -117.431541, -117.431881, -117.432744, -117.435242, -117.438017, -117.440228, -117.440991, -117.44128500000001, -117.441966, -117.442344, -117.442661, -117.44299500000001, -117.443286, -117.443632, -117.445631], \"mode\": \"lines\", \"name\": \"fast\", \"showlegend\": false, \"subplot\": \"mapbox\", \"type\": \"scattermapbox\"}, {\"customdata\": [[4.482778161385993, 64.91400799397394], [4.512004581574553, 64.78693660184977], [4.5427429237982855, 64.65329163565963], [4.552226595586858, 64.61205828005714], [4.66784946695228, 64.40364668423348], [4.738164051235621, 64.32824230430496], [4.794493092360945, 64.2678358258864], [4.817334526456718, 64.24334099039494], [4.819914731613807, 64.24057401435516], [4.927271990905316, 64.12544558616052], [4.929715352228669, 64.1228253595403], [4.9303399111434665, 64.12215559126706], [4.932288487806477, 64.12006596481879], [4.932989162161487, 64.1193145714086], [4.933963450487873, 64.11826975818995], [4.937030746462256, 64.11498043274825], [4.938081757972565, 64.11385334265677], [4.954666435700126, 64.09606816546903], [5.004580403682527, 64.04254112205628], [5.021249047547373, 64.02466590075349], [5.028213339770778, 64.01719749086244], [5.049128830451616, 63.994768010239554], [5.056100660401903, 63.98729151699528], [5.0662620899806745, 63.97639454157569], [5.09688356476892, 63.94355649890733], [5.10712070780825, 63.93257832942815], [5.10823231485856, 63.93138625752434], [5.111779557513057, 63.92758224395383], [5.11303543901457, 63.92623545413987], [5.124528352239855, 63.91391061421999], [5.159364592144815, 63.87655271619859], [5.171002019174087, 63.86407290168999], [5.174223203715984, 63.86061854829385], [5.184256699636349, 63.84985876714601], [5.187546076511557, 63.8463312852423], [5.216133687153056, 63.815674330130776], [5.291836749732616, 63.73449142119827], [5.317107580498538, 63.70739133458602], [5.318766841689061, 63.705611966017095], [5.4059831134529315, 57.695048082658545]], \"hovertemplate\": \"speed_cat=moderate<br>linegroup=1<br>latitude=%{lat}<br>longitude=%{lon}<br>abs_pm=%{customdata[0]}<br>avg_speed=%{customdata[1]}<extra></extra>\", \"lat\": [32.58294399999999, 32.58335799999999, 32.583798, 32.58393499999999, 32.58560599999999, 32.586622999999996, 32.58743599999999, 32.587763999999986, 32.58780099999999, 32.58934599999999, 32.589380999999996, 32.58939, 32.589418, 32.58942799999999, 32.58944199999999, 32.589486, 32.58950099999999, 32.589739, 32.59045499999999, 32.59069399999999, 32.590793999999995, 32.59109399999999, 32.591194, 32.591339999999995, 32.591779999999986, 32.59192699999999, 32.591943, 32.591993999999985, 32.59201199999999, 32.59217699999999, 32.592677, 32.59284399999999, 32.59288999999999, 32.59303299999999, 32.59308, 32.593489999999996, 32.59457499999999, 32.594937, 32.59496099999999, 32.596212], \"legendgroup\": \"moderate\", \"line\": {\"color\": \"#EF553B\"}, \"lon\": [-117.087369, -117.087472, -117.08755000000001, -117.08756, -117.08766700000001, -117.08771100000001, -117.08778300000002, -117.087832, -117.087838, -117.08803400000001, -117.08804, -117.088041, -117.08804500000001, -117.088047, -117.088049, -117.08805600000001, -117.088059, -117.08809600000001, -117.08821, -117.088249, -117.088264, -117.088312, -117.088328, -117.088349, -117.088412, -117.088434, -117.088436, -117.088443, -117.088446, -117.088471, -117.08854800000002, -117.08857400000001, -117.088583, -117.088613, -117.088622, -117.088688, -117.088869, -117.08893100000002, -117.088932, -117.089132], \"mode\": \"lines\", \"name\": \"moderate\", \"showlegend\": true, \"subplot\": \"mapbox\", \"type\": \"scattermapbox\"}, {\"customdata\": [[6.609626526039136, 60.55866633209618], [6.703001263496884, 60.414631064641746], [6.706068544094797, 60.40714989245171], [6.7191599037542025, 60.37521974694097], [6.815574758788358, 60.140061563930836], [6.864137961116307, 60.021614728984616], [6.9087671314018975, 59.91276309414172]], \"hovertemplate\": \"speed_cat=moderate<br>linegroup=3<br>latitude=%{lat}<br>longitude=%{lon}<br>abs_pm=%{customdata[0]}<br>avg_speed=%{customdata[1]}<extra></extra>\", \"lat\": [32.61354699999999, 32.614891, 32.614934999999996, 32.61512299999999, 32.61651299999999, 32.61721099999999, 32.61784999999999], \"legendgroup\": \"moderate\", \"line\": {\"color\": \"#EF553B\"}, \"lon\": [-117.09117300000001, -117.091341, -117.091348, -117.091376, -117.09152200000001, -117.09162, -117.091732], \"mode\": \"lines\", \"name\": \"moderate\", \"showlegend\": false, \"subplot\": \"mapbox\", \"type\": \"scattermapbox\"}, {\"customdata\": [[8.391131366501629, 60.04767591623447], [8.479835440658805, 60.08607594833715], [8.637250158794036, 60.15422084796278], [8.663720477409413, 60.165679860350394], [8.7291655564425, 60.194011063395024], [8.925548354541943, 60.27902526170647], [8.983183543866817, 60.303975560115504], [8.988914241259105, 60.30645638149745], [8.994083256216946, 60.308694050310365], [9.00080649771847, 60.31160454446687], [9.03012021927731, 60.324294467219616], [9.040044652400697, 60.32859075861502], [9.04198225778869, 60.329429548826276], [9.047960027933714, 60.332017328109835], [9.049980222125463, 60.33289187104999], [9.122023175242472, 60.36407929664176], [9.161159301837301, 60.38102134278671], [9.21787334863241, 60.40557287819585], [9.220464567679704, 60.40669461804316], [9.228581829966915, 60.41020858440126], [9.23130246465473, 60.411386348335384], [9.232440066246852, 60.41187881655708], [9.235869427871096, 60.413363388688786], [9.249986774887464, 60.41947479432358], [9.254849006641804, 60.4215796565549], [9.263290599220229, 60.42523402563646], [9.288810569843944, 60.43628163196708], [9.29733689473687, 60.439972681704276], [9.299972881769783, 60.44111380163194], [9.308142144794015, 60.44465027913161], [9.310927799774046, 60.44585619037838], [9.313778670212283, 60.44709033342523], [9.32238984205511, 60.45081811344377], [9.325325191722401, 60.452088827585456], [9.329887862294806, 60.45406400965143], [9.343900727090382, 60.46013018488761], [9.348613168353042, 60.46217020275024], [9.375584901344583, 60.47384627763835], [9.456759907906939, 60.50898697311989], [9.483861545483274, 60.52071928375899], [9.593263519529671, 60.56807944568384], [9.60519434700208, 60.57324430606151], [9.64095929930657, 60.58872696939679], [9.652910378866459, 60.59390059691189], [9.691096030377691, 60.61043118198169], [9.75572554145147, 60.63840932530367], [9.797874519965552, 60.656655636348724], [9.882589021121143, 60.69332858057193], [9.9186461182374, 60.45169479179965], [9.976285801005428, 59.75847811708394]], \"hovertemplate\": \"speed_cat=moderate<br>linegroup=5<br>latitude=%{lat}<br>longitude=%{lon}<br>abs_pm=%{customdata[0]}<br>avg_speed=%{customdata[1]}<extra></extra>\", \"lat\": [32.638242999999996, 32.639458999999995, 32.641632, 32.64200199999999, 32.642913, 32.64564599999999, 32.64645, 32.64652999999999, 32.64660099999999, 32.64669399999999, 32.647104999999996, 32.647244, 32.647270999999996, 32.647353999999986, 32.647382, 32.64837599999999, 32.648913, 32.64969399999999, 32.649729, 32.649839, 32.64987599999999, 32.649889, 32.649937, 32.650128999999986, 32.65019499999999, 32.65030999999999, 32.650657999999986, 32.65077399999999, 32.650809999999986, 32.650922, 32.65095999999999, 32.65099899999999, 32.651116, 32.651156, 32.651218, 32.651409, 32.651472999999996, 32.651839999999986, 32.652944999999995, 32.653314, 32.654797, 32.65495899999999, 32.65544299999999, 32.655605, 32.656121999999996, 32.657004, 32.65757899999999, 32.65873299999999, 32.659224, 32.660018], \"legendgroup\": \"moderate\", \"line\": {\"color\": \"#EF553B\"}, \"lon\": [-117.099632, -117.10012100000002, -117.10093400000001, -117.101052, -117.10136, -117.102287, -117.102551, -117.102577, -117.10260500000001, -117.10263900000001, -117.102764, -117.102807, -117.102816, -117.102845, -117.102855, -117.103229, -117.103443, -117.103743, -117.103759, -117.103808, -117.103824, -117.103836, -117.103851, -117.10393400000001, -117.10396300000001, -117.104012, -117.104159, -117.104209, -117.104224, -117.104269, -117.104285, -117.104301, -117.104352, -117.104369, -117.10439600000001, -117.10447700000002, -117.104505, -117.104663, -117.105137, -117.10529500000001, -117.105954, -117.106025, -117.106243, -117.106315, -117.106547, -117.10691700000001, -117.107159, -117.107651, -117.107861, -117.108165], \"mode\": \"lines\", \"name\": \"moderate\", \"showlegend\": false, \"subplot\": \"mapbox\", \"type\": \"scattermapbox\"}, {\"customdata\": [[14.32754202162708, 60.039107058133354], [14.347762966345076, 60.1901830818885], [14.358469104384804, 60.270171469541644], [14.370379135583946, 60.359154461259365], [14.37150882498751, 60.367594669446916], [14.392199597520827, 60.52218090101768], [14.4026048875807, 60.5999215738788], [14.410584701635146, 60.659540874285575], [14.41788501780923, 60.69528745547693], [14.442972632009644, 60.6325684199759], [14.443870845223058, 60.63032288694236], [14.446703671513445, 60.62324082121639], [14.447670978051711, 60.62082255487073], [14.489196717041514, 60.517008207396216], [14.613843026202888, 60.20539243449278], [14.655437857401239, 60.101405356496905], [14.66076090140652, 60.0880977464837], [14.674996025755012, 60.05250993561247], [14.689714740942822, 60.01571314764295], [14.717637160372526, 59.945907099068684]], \"hovertemplate\": \"speed_cat=moderate<br>linegroup=11<br>latitude=%{lat}<br>longitude=%{lon}<br>abs_pm=%{customdata[0]}<br>avg_speed=%{customdata[1]}<extra></extra>\", \"lat\": [32.70465999999999, 32.704928999999986, 32.70507299999999, 32.705235, 32.70525099999999, 32.705542, 32.705691, 32.70580499999999, 32.705909999999996, 32.706272999999996, 32.70628599999999, 32.706327, 32.706341, 32.70694199999999, 32.70874599999999, 32.70934799999999, 32.709424999999996, 32.709631, 32.70984399999999, 32.710247999999986], \"legendgroup\": \"moderate\", \"line\": {\"color\": \"#EF553B\"}, \"lon\": [-117.14729500000001, -117.147432, -117.1475, -117.14757, -117.147574, -117.147658, -117.14768400000001, -117.147706, -117.14772, -117.14773, -117.14773, -117.14773, -117.14773, -117.147734, -117.147746, -117.14775, -117.147753, -117.147749, -117.147745, -117.147757], \"mode\": \"lines\", \"name\": \"moderate\", \"showlegend\": false, \"subplot\": \"mapbox\", \"type\": \"scattermapbox\"}, {\"customdata\": [[15.291510569498453, 60.06516121547723], [15.320457280889174, 60.33112458936634], [15.325002197940549, 60.37288344261615], [15.338869250412856, 60.500294394818965], [15.342645302333437, 60.53498888896107], [15.346961398905453, 60.574645331823604], [15.385385505805738, 60.927687339668104], [15.422723285303297, 61.27074813419696], [15.441085945809078, 61.43946488670734], [15.459185195270988, 61.60576140954113], [15.469223474821332, 61.69799346523873], [15.513801447879025, 62.10757740572608], [15.529488690322692, 62.25171232561447], [15.568812692162576, 62.61302259892964], [15.583958631833863, 62.75218401043933], [15.626344096718547, 63.141623110875535], [15.64191187408115, 63.284660381514826], [15.65360360155241, 63.39208437323795], [15.679376671840815, 63.628888224178425], [15.700993149506711, 63.75554728455379], [15.71620477682254, 63.529632027388026], [15.73251242230291, 63.28743927272905], [15.750963816360795, 63.013408667909], [15.770724078385825, 62.71993942991349], [15.785345385484298, 62.50279130468865], [15.79671044147093, 62.334003344491144], [15.809735478604514, 62.14056219894287], [15.825664681942568, 61.90398987214009], [15.840664001510829, 61.68122770033423], [15.854821953728052, 61.470961083246756], [15.871889018400285, 61.21748982573835], [15.8886997638482, 60.967825289383185], [15.895674959792213, 60.86423327041268], [15.935446959131149, 60.27356001290375], [15.958089119246399, 59.93729030822181]], \"hovertemplate\": \"speed_cat=moderate<br>linegroup=13<br>latitude=%{lat}<br>longitude=%{lon}<br>abs_pm=%{customdata[0]}<br>avg_speed=%{customdata[1]}<extra></extra>\", \"lat\": [32.718551999999995, 32.718969, 32.719034, 32.71923199999999, 32.71928599999999, 32.71934699999999, 32.719889, 32.720407, 32.72066199999999, 32.720908, 32.721046, 32.72163499999999, 32.72184, 32.72234499999999, 32.72253299999999, 32.72304199999999, 32.72321399999999, 32.72333299999999, 32.723562, 32.72374099999999, 32.723852, 32.72395399999999, 32.724046, 32.72411799999999, 32.724147999999985, 32.72415999999999, 32.72416499999999, 32.724168999999996, 32.72416499999999, 32.72415099999999, 32.72413499999999, 32.724105, 32.72409199999999, 32.724021, 32.723991999999996], \"legendgroup\": \"moderate\", \"line\": {\"color\": \"#EF553B\"}, \"lon\": [-117.147883, -117.147931, -117.147943, -117.147982, -117.147992, -117.148008, -117.148156, -117.148339, -117.14842800000001, -117.148535, -117.148589, -117.148902, -117.149018, -117.14933, -117.149464, -117.149871, -117.150044, -117.150187, -117.150537, -117.150842, -117.15106800000001, -117.151321, -117.151619, -117.15194800000002, -117.152197, -117.152392, -117.152616, -117.15289, -117.15314800000002, -117.153391, -117.15368400000001, -117.153971, -117.15409000000001, -117.154769, -117.155157], \"mode\": \"lines\", \"name\": \"moderate\", \"showlegend\": false, \"subplot\": \"mapbox\", \"type\": \"scattermapbox\"}, {\"customdata\": [[16.21370045944189, 60.19558088186058], [16.234169546547964, 60.281766511780894], [16.257254814408533, 60.37896763961487], [16.269085167000256, 60.42877965052739], [16.289511111532065, 60.51478362750343], [16.31221152494507, 60.610364315558186], [16.323023343080084, 60.655887760337194], [16.33971124531172, 60.72615261183881], [16.356628767567333, 60.79738428449403], [16.375650926832765, 60.87747758666427], [16.381340339400463, 60.901433008001945], [16.388142753021356, 60.9300747495636], [16.400531743365402, 60.98223891943327], [16.412665009765952, 61.03332635690927], [16.431339975504606, 61.11195779159834], [16.44077039007718, 61.151664800324966], [16.459722314459725, 61.231462376672525], [16.480748761843277, 61.319994786708534], [16.489944914829277, 61.35871543086011], [16.509377710920845, 61.44053773019303], [16.52633679729126, 61.51194440964741], [16.53301780318932, 61.540074960797135], [16.540944482119098, 61.57345045102778], [16.552982208332434, 61.6241356140313], [16.55972367464786, 61.65252073535941], [16.596531014220336, 61.80749900724352], [16.63534211466367, 61.97091416700492], [16.70574113858361, 62.318435336186496], [16.741969174956434, 62.51756106802296], [16.74409920944301, 62.529268704385345], [16.75063350410223, 62.565184153753385], [16.752853809945478, 62.577387962466275], [16.767982511333035, 62.66054217222058], [16.81351366273109, 62.9108020469262], [16.828787463959742, 62.99475379126808], [16.83108254819749, 63.00736861597911], [16.855634270054352, 63.14231602334839], [16.929360050956465, 63.54754637937064], [16.954056717393314, 63.68329046794197], [17.05761785796031, 64.25250950297334], [17.072295406611165, 64.33318397250818], [17.116163268830448, 64.57430165491913], [17.130876065077455, 64.65516986124133], [17.15873289181697, 64.80828362523512], [17.178955751180073, 64.91943763946495], [17.197372342164527, 65.02066358281921]], \"hovertemplate\": \"speed_cat=moderate<br>linegroup=15<br>latitude=%{lat}<br>longitude=%{lon}<br>abs_pm=%{customdata[0]}<br>avg_speed=%{customdata[1]}<extra></extra>\", \"lat\": [32.72294, 32.722822, 32.72270499999999, 32.722661999999985, 32.72262099999999, 32.72259199999999, 32.72259199999999, 32.722585999999986, 32.72258999999999, 32.722614, 32.722625, 32.722637999999996, 32.722684, 32.722736999999995, 32.722837999999996, 32.722889999999985, 32.723005, 32.723141999999996, 32.72321, 32.72337699999999, 32.723542, 32.72360799999999, 32.723686, 32.723807, 32.72387599999999, 32.724296999999986, 32.724741, 32.725535, 32.72594399999999, 32.725968, 32.726041999999985, 32.726067, 32.726241, 32.726765, 32.72694099999999, 32.72696799999999, 32.72724999999999, 32.728096, 32.72838, 32.729580999999996, 32.729749999999996, 32.730253999999995, 32.730423, 32.730748999999996, 32.730983, 32.7312], \"legendgroup\": \"moderate\", \"line\": {\"color\": \"#EF553B\"}, \"lon\": [-117.159327, -117.15965000000001, -117.16002200000001, -117.160219, -117.160567, -117.16095600000001, -117.161142, -117.161429, -117.16172000000002, -117.162046, -117.16214300000001, -117.16225899999999, -117.162465, -117.162664, -117.16296200000001, -117.163112, -117.163408, -117.163731, -117.16386700000001, -117.164136, -117.16435200000001, -117.164436, -117.164536, -117.164685, -117.16476700000001, -117.165155, -117.165564, -117.166323, -117.166713, -117.166736, -117.16680600000001, -117.16683, -117.16698800000002, -117.167463, -117.16762200000001, -117.16764500000001, -117.167902, -117.16867500000001, -117.168933, -117.16999900000002, -117.170152, -117.17061100000001, -117.17076500000002, -117.171047, -117.171256, -117.17144], \"mode\": \"lines\", \"name\": \"moderate\", \"showlegend\": false, \"subplot\": \"mapbox\", \"type\": \"scattermapbox\"}, {\"customdata\": [[17.40680541271771, 60.60618594286794], [17.53334892486169, 59.45240686155516]], \"hovertemplate\": \"speed_cat=moderate<br>linegroup=17<br>latitude=%{lat}<br>longitude=%{lon}<br>abs_pm=%{customdata[0]}<br>avg_speed=%{customdata[1]}<extra></extra>\", \"lat\": [32.733665, 32.735148999999986], \"legendgroup\": \"moderate\", \"line\": {\"color\": \"#EF553B\"}, \"lon\": [-117.173537, -117.174813], \"mode\": \"lines\", \"name\": \"moderate\", \"showlegend\": false, \"subplot\": \"mapbox\", \"type\": \"scattermapbox\"}, {\"customdata\": [[17.665511833752795, 60.17597298251125], [17.695598904200306, 60.52216312364369], [17.73884402446047, 61.019753419524235], [17.868523561758835, 62.51188198676483], [17.91182365905029, 63.01010486354937], [17.92218534327707, 63.1293292636483], [17.953403944601963, 63.48853911152885], [17.963945458133185, 63.60983267726468], [17.965015290295423, 63.6221424615582], [17.96832273952514, 63.660198885749494], [17.969482206494806, 63.673540032890024], [18.027355923184164, 64.33945099898095], [18.061005482944132, 64.70782398830399], [18.083870151424797, 64.93183594301321], [18.11723283244267, 65.2587000475802]], \"hovertemplate\": \"speed_cat=moderate<br>linegroup=19<br>latitude=%{lat}<br>longitude=%{lon}<br>abs_pm=%{customdata[0]}<br>avg_speed=%{customdata[1]}<extra></extra>\", \"lat\": [32.73668599999999, 32.737035999999996, 32.737536999999996, 32.73903899999999, 32.739540999999996, 32.73966399999999, 32.74003299999999, 32.740158, 32.74017099999999, 32.74020999999999, 32.74022399999999, 32.740871999999996, 32.74119999999999, 32.741417999999996, 32.7417], \"legendgroup\": \"moderate\", \"line\": {\"color\": \"#EF553B\"}, \"lon\": [-117.176166, -117.176474, -117.17692, -117.178258, -117.178704, -117.17880600000001, -117.179116, -117.17922000000002, -117.17923, -117.179263, -117.179274, -117.179905, -117.180333, -117.18062900000001, -117.18109500000001], \"mode\": \"lines\", \"name\": \"moderate\", \"showlegend\": false, \"subplot\": \"mapbox\", \"type\": \"scattermapbox\"}, {\"customdata\": [[20.519456446718156, 64.98874959439556], [20.562026646126412, 64.90097598736823], [20.689774387412818, 64.67479567563525], [20.73242443358623, 64.60700752277685], [20.80020872536272, 64.49927090008575], [20.806016756105052, 64.4900395929456], [20.837400972723657, 64.4401573943465], [20.949087466484677, 64.26264243737535], [20.986482039131165, 64.20320735502331], [20.989226935997984, 64.19884460503631], [20.997608405145844, 64.18552306466886], [21.000432536860924, 64.18103437849919], [21.14225956308319, 63.955613939470425], [21.1638232413307, 63.92134054358034], [21.239705279781408, 63.80073333014876], [21.254380497444874, 63.77740848088232], [21.2758664856702, 63.7432585658222], [21.29730749053053, 63.709180147501144], [21.319646473980107, 63.673674478442216], [21.342793029158038, 63.63688525166934], [21.378076610657565, 63.6358120250142], [21.396045550935952, 63.689097185642034], [21.405221927616175, 63.716308846308266], [21.47020059898451, 63.908996833891464], [21.508865902883798, 64.02365506621226], [21.57010996275325, 64.20526842332102], [21.615062643937918, 64.33857126703172], [21.64536918051665, 64.42844238044476], [21.736538367681295, 64.69879581849479], [21.751633487426655, 64.74355894129816], [21.80733252457002, 64.90872906791769], [21.843805089913314, 65.01688494537721]], \"hovertemplate\": \"speed_cat=moderate<br>linegroup=21<br>latitude=%{lat}<br>longitude=%{lon}<br>abs_pm=%{customdata[0]}<br>avg_speed=%{customdata[1]}<extra></extra>\", \"lat\": [32.76685799999999, 32.767459999999986, 32.769266, 32.769868999999986, 32.770828, 32.77091, 32.771353999999995, 32.77293399999999, 32.773462999999985, 32.773502, 32.77362099999999, 32.77366099999999, 32.77566999999999, 32.775975999999986, 32.777049999999996, 32.777259, 32.77756699999999, 32.77787599999999, 32.778199, 32.778534, 32.77904399999999, 32.77930299999999, 32.779434, 32.780363, 32.78091599999999, 32.781791999999996, 32.782434999999985, 32.782869999999996, 32.784175999999995, 32.78439199999999, 32.785188999999995, 32.78571], \"legendgroup\": \"moderate\", \"line\": {\"color\": \"#EF553B\"}, \"lon\": [-117.205989, -117.206145, -117.206616, -117.20677300000001, -117.207019, -117.207041, -117.20715500000001, -117.207561, -117.207697, -117.207706, -117.207734, -117.207744, -117.208245, -117.208318, -117.208591, -117.208636, -117.208687, -117.208721, -117.208738, -117.208736, -117.20870500000001, -117.208677, -117.208651, -117.20847700000002, -117.208375, -117.208214, -117.20809600000001, -117.20802900000001, -117.20780500000001, -117.207766, -117.207622, -117.207521], \"mode\": \"lines\", \"name\": \"moderate\", \"showlegend\": false, \"subplot\": \"mapbox\", \"type\": \"scattermapbox\"}, {\"customdata\": [[22.06937093333131, 64.894519619927], [22.07524501471539, 64.86370915884744], [22.1204634336723, 64.62653159077243], [22.15556691622584, 64.44240842116434], [22.18430857231874, 64.29165401064286], [22.28550196192879, 63.76087910504853], [22.300711461130476, 63.681102940478695], [22.31134076235608, 63.62535061934096], [22.34520170050292, 63.447744786415704], [22.40724219407941, 63.12233284747403], [22.485974904702253, 62.709367660626725], [22.521807619744386, 62.5214195543624], [22.56568360290015, 62.29128326871073], [22.60582946950841, 62.08071201854197], [22.649164420218177, 61.85341353135278], [22.779406321978506, 61.170274707980475], [22.822890588320774, 60.94219303731407], [22.852097715690896, 60.81600529829091], [22.94014312373292, 61.48778032718298], [22.969563826317668, 61.71225646703414], [22.99515034573159, 61.90747828723778], [23.103169079920807, 62.73164720069446], [23.191640129838515, 63.406669821819825], [23.286127436458486, 64.12759570025142], [23.351857833856005, 64.62911009597926], [23.417685627552853, 65.13136761282209]], \"hovertemplate\": \"speed_cat=moderate<br>linegroup=23<br>latitude=%{lat}<br>longitude=%{lon}<br>abs_pm=%{customdata[0]}<br>avg_speed=%{customdata[1]}<extra></extra>\", \"lat\": [32.78895099999999, 32.789035999999996, 32.78969, 32.79019699999999, 32.790611999999996, 32.792056999999986, 32.79227399999999, 32.792425, 32.79289299999999, 32.793756, 32.794821999999996, 32.795294999999996, 32.79586499999999, 32.79638599999999, 32.79694599999999, 32.79862899999999, 32.799191, 32.799580999999996, 32.800758, 32.80115099999999, 32.80148899999999, 32.80288, 32.803995, 32.805158999999996, 32.805956, 32.80671699999999], \"legendgroup\": \"moderate\", \"line\": {\"color\": \"#EF553B\"}, \"lon\": [-117.207116, -117.207114, -117.20714300000002, -117.20718200000002, -117.207216, -117.2075, -117.207544, -117.20757900000001, -117.207752, -117.20804700000001, -117.208526, -117.208779, -117.209112, -117.209418, -117.20975400000002, -117.210764, -117.211101, -117.211295, -117.21187600000002, -117.212071, -117.21225100000001, -117.2131, -117.213849, -117.21470300000001, -117.215321, -117.21600300000001], \"mode\": \"lines\", \"name\": \"moderate\", \"showlegend\": false, \"subplot\": \"mapbox\", \"type\": \"scattermapbox\"}, {\"customdata\": [[26.378423150690747, 64.94557602732664], [26.386073131277435, 64.85268340591685], [26.454600583519642, 64.02056434297576], [26.508728672102926, 63.36329469589303], [26.539514566358104, 62.98946597993729], [26.581805230816514, 62.475936482942316], [26.587352084761918, 62.408581827890984], [26.610135379000482, 62.13192754070842], [26.633878368194218, 62.016468501527136], [26.656651543884454, 62.04559020957092], [26.678472254939443, 62.07349393214763], [26.698320673249732, 62.09887554124007], [26.70219889200187, 62.10383490025815], [26.707936218414257, 62.11117163480084], [26.725897288690568, 62.13413975535878], [26.749233904487077, 62.16398197504741], [26.788899171852826, 62.21470482334121], [26.834890955393846, 62.27351784577218], [26.930305937684704, 62.39553188962238], [27.0773770242727, 62.58360233282954], [27.108613097187995, 62.62354616008695], [27.1333205933339, 62.65514142370064], [27.140119000713998, 62.663835039276215], [27.16273015089548, 62.692749553574785], [27.182580287313485, 62.718133359735916], [27.203377988251095, 62.74472888523158], [27.225942986684863, 62.77358438194995], [27.24944595745131, 62.80363933177917], [27.26989496376408, 62.82978895622005], [27.317204156246504, 62.8902866448165], [27.333034675848072, 62.91053027602055], [27.347327718912013, 62.92880782469567], [27.36217630944737, 62.94779579213219], [27.378175937887793, 62.968255675048326], [27.412571973313337, 63.01224037508099], [27.475948607540815, 63.093284664374444], [27.58960165328092, 63.23862104000118], [27.61797987153087, 63.27491032165073], [27.758278998059616, 63.4543209693857], [27.89189702533378, 64.07586485490458], [27.962689233559104, 64.4922896091712], [28.046517691275945, 64.98539818397614], [28.06655166890518, 65.10324511120695]], \"hovertemplate\": \"speed_cat=moderate<br>linegroup=25<br>latitude=%{lat}<br>longitude=%{lon}<br>abs_pm=%{customdata[0]}<br>avg_speed=%{customdata[1]}<extra></extra>\", \"lat\": [32.844457999999996, 32.844567999999995, 32.845551, 32.846327999999986, 32.84676999999999, 32.847370999999995, 32.84745, 32.847775999999996, 32.84811299999999, 32.848432999999986, 32.848735999999995, 32.84900799999999, 32.84906099999999, 32.849137999999996, 32.84937999999999, 32.849688, 32.85019299999999, 32.850771, 32.85196299999999, 32.853782999999986, 32.854175999999995, 32.854487999999996, 32.854573, 32.854860999999985, 32.85511999999999, 32.85539599999999, 32.855700999999996, 32.85602399999999, 32.856308999999996, 32.856977, 32.857203999999996, 32.85740899999999, 32.85762199999999, 32.857852, 32.85834899999999, 32.85926299999999, 32.860901999999996, 32.86131199999999, 32.863337, 32.865263999999996, 32.86628499999999, 32.867494, 32.867782999999996], \"legendgroup\": \"moderate\", \"line\": {\"color\": \"#EF553B\"}, \"lon\": [-117.236569, -117.236554, -117.236397, -117.236278, -117.23621100000001, -117.236073, -117.236056, -117.235997, -117.235917, -117.23582300000001, -117.23571700000001, -117.235607, -117.235585, -117.235548, -117.23543500000001, -117.23527, -117.23494500000001, -117.23455200000001, -117.233722, -117.232408, -117.232142, -117.23193400000001, -117.231875, -117.23169, -117.231542, -117.231399, -117.23126, -117.231133, -117.231038, -117.230859, -117.230822, -117.230789, -117.230755, -117.230723, -117.230689, -117.230597, -117.230431, -117.230402, -117.23022300000001, -117.230029, -117.229927, -117.22980600000001, -117.229778], \"mode\": \"lines\", \"name\": \"moderate\", \"showlegend\": false, \"subplot\": \"mapbox\", \"type\": \"scattermapbox\"}, {\"customdata\": [[31.013071924740515, 64.95751315761542], [31.027687282710104, 64.70099871161855], [31.33041521794007, 64.94315988280394], [31.377613271626405, 65.46345338800762]], \"hovertemplate\": \"speed_cat=moderate<br>linegroup=27<br>latitude=%{lat}<br>longitude=%{lon}<br>abs_pm=%{customdata[0]}<br>avg_speed=%{customdata[1]}<extra></extra>\", \"lat\": [32.90957499999999, 32.909760999999996, 32.91360199999999, 32.914175], \"legendgroup\": \"moderate\", \"line\": {\"color\": \"#EF553B\"}, \"lon\": [-117.227342, -117.227462, -117.229973, -117.230416], \"mode\": \"lines\", \"name\": \"moderate\", \"showlegend\": false, \"subplot\": \"mapbox\", \"type\": \"scattermapbox\"}, {\"customdata\": [[31.62893960738656, 64.28896263360674], [31.73310954877732, 61.766096865549244], [31.81342781009372, 62.28100678113055], [31.908823329822855, 61.98561081839917], [31.945964207250356, 61.870602636929675], [31.982643309753787, 61.75702435959665], [32.06193188145788, 61.51150419220692], [32.09922740618706, 61.39601713931146], [32.155117224065116, 61.22295212948871], [32.195782779395984, 61.09702964485761], [32.38020944323685, 60.683419043292965], [32.427442017340326, 60.66948613057808], [32.548030612606695, 60.63391427356735], [32.651839643156485, 60.60329214066181], [32.653719529897884, 60.60273760180004], [32.658948048639786, 60.60119526588797], [32.66082793534888, 60.60064072703573], [32.67980164360901, 60.615343966766225], [32.700928892109715, 60.63463825763445], [32.73121275151028, 60.6622947502377], [32.73738934178216, 60.66793547194718], [32.75771856239719, 60.686500970225744], [32.77164631212092, 60.69922037636614], [32.8133683024208, 60.737322650612604], [32.827440455894354, 60.75017393232361], [32.892435296060164, 60.80952995073988], [32.938496975096214, 60.85159541104677], [33.000354783128124, 60.90808655993436], [33.026757465488046, 60.93219859861922], [33.23079647609669, 61.11853559460885], [33.243876854355435, 61.13048114553008], [33.29875559543467, 61.180598717291936], [33.377906312139956, 61.25288247684014], [33.58613719612059, 61.28028648604295], [33.626256765108344, 61.17839551718516], [33.696545977977195, 60.99988323053411], [33.79209657736011, 60.75721504162511], [33.877407138564756, 60.540553298883154], [33.907681992841894, 60.46366478008407], [33.93928966298431, 60.383391332103336], [33.96768553932458, 60.311274820762975], [33.98425818915188, 60.269185551360295], [34.00215476499374, 60.22373393017462], [34.05019853642384, 60.101718002733094], [34.053624086631025, 60.093018192683104], [34.134480814150926, 59.88766777358494]], \"hovertemplate\": \"speed_cat=moderate<br>linegroup=29<br>latitude=%{lat}<br>longitude=%{lon}<br>abs_pm=%{customdata[0]}<br>avg_speed=%{customdata[1]}<extra></extra>\", \"lat\": [32.916769999999985, 32.917819, 32.91872, 32.91979099999999, 32.92021799999999, 32.920663999999995, 32.921673999999996, 32.92215099999999, 32.922900999999996, 32.923459, 32.92602399999999, 32.926680999999995, 32.928357999999996, 32.929828, 32.929854999999996, 32.92992999999999, 32.929957, 32.93022899999999, 32.93053199999999, 32.93096599999999, 32.931055, 32.931347999999986, 32.93154799999999, 32.932147, 32.932348999999995, 32.933284, 32.93394899999999, 32.934843, 32.93522399999999, 32.93817399999999, 32.938362999999995, 32.93915299999999, 32.940288999999986, 32.943270999999996, 32.94384399999999, 32.94484899999999, 32.946214999999995, 32.947434, 32.947866999999995, 32.94831899999999, 32.948724999999996, 32.948962, 32.949218, 32.949905, 32.94995399999999, 32.951109999999986], \"legendgroup\": \"moderate\", \"line\": {\"color\": \"#EF553B\"}, \"lon\": [-117.233424, -117.234714, -117.235589, -117.236627, -117.237016, -117.237359, -117.238008, -117.23830900000002, -117.23867, -117.23889300000002, -117.239773, -117.239998, -117.24057400000001, -117.240944, -117.24094800000002, -117.24096000000002, -117.240964, -117.241009, -117.241058, -117.241131, -117.241141, -117.241173, -117.241203, -117.241294, -117.241325, -117.241448, -117.241504, -117.241561, -117.241596, -117.241757, -117.24177, -117.24186800000001, -117.242044, -117.242564, -117.24267600000002, -117.242864, -117.24312100000002, -117.243355, -117.243435, -117.243519, -117.24359500000001, -117.243639, -117.243686, -117.243814, -117.243823, -117.24404], \"mode\": \"lines\", \"name\": \"moderate\", \"showlegend\": false, \"subplot\": \"mapbox\", \"type\": \"scattermapbox\"}, {\"customdata\": [[34.34237711760612, 60.224672386042684], [34.37882945140811, 60.31395925265033], [34.40960899302292, 60.389351101121115], [34.50194759539352, 60.615526591485725], [34.53280446430175, 60.69110784653251], [34.541724094625046, 60.71295571633399], [34.55416184309106, 60.74342091491953], [34.61856921133671, 60.90118124182582], [34.635724277763735, 60.94320110634355], [34.64008427480252, 60.95388054530969], [34.674307834848776, 61.03770822167432], [34.740292626163246, 61.199332311155985], [34.77690913043216, 61.289021299248105], [34.7875824153827, 61.31516459571908], [34.811048278409686, 61.37264221548699], [34.850462236717306, 61.46918332742259], [34.89895065889335, 61.58795156065464], [34.935276557524865, 61.676928735151435], [34.98398252738518, 61.79622983278586], [35.272477075960325, 61.58800910206902], [35.35969997294588, 61.31649813868985], [35.502109908517724, 60.87319872834949], [35.6677327961649, 60.35764110143222], [35.67488424921983, 60.33537976896551], [35.67826147386533, 60.32486700742311], [35.6801491008152, 60.318991125867086], [35.68216868372771, 60.312704486450706], [35.685347106779645, 60.30281056255364], [35.6885916788954, 60.292710727173855], [35.69206840618778, 60.28188822976567], [35.84059351534773, 59.819553259617976]], \"hovertemplate\": \"speed_cat=moderate<br>linegroup=31<br>latitude=%{lat}<br>longitude=%{lon}<br>abs_pm=%{customdata[0]}<br>avg_speed=%{customdata[1]}<extra></extra>\", \"lat\": [32.954081999999985, 32.95460299999999, 32.955042999999996, 32.956362999999996, 32.95680399999999, 32.956932, 32.95711, 32.95803, 32.958275, 32.958337, 32.958822999999995, 32.959759999999996, 32.960274999999996, 32.960425, 32.96075299999999, 32.96130399999999, 32.961974999999995, 32.962475999999995, 32.963149, 32.96713499999999, 32.96833199999999, 32.970295, 32.97257799999999, 32.97267699999999, 32.97272399999999, 32.97274999999999, 32.97277799999999, 32.972822, 32.972867, 32.972915, 32.974961], \"legendgroup\": \"moderate\", \"line\": {\"color\": \"#EF553B\"}, \"lon\": [-117.2446, -117.244699, -117.24478200000001, -117.245031, -117.245115, -117.245135, -117.24516700000001, -117.245346, -117.245394, -117.245408, -117.24552200000001, -117.24574199999999, -117.245891, -117.245935, -117.24604000000001, -117.246216, -117.246461, -117.246651, -117.24690100000001, -117.248383, -117.248861, -117.24961, -117.250481, -117.250517, -117.250533, -117.250543, -117.250553, -117.250569, -117.250585, -117.250603, -117.251389], \"mode\": \"lines\", \"name\": \"moderate\", \"showlegend\": false, \"subplot\": \"mapbox\", \"type\": \"scattermapbox\"}, {\"customdata\": [[39.01473842822406, 60.156776180089636], [39.016076103903615, 60.16714910943031], [39.044076663384715, 60.38427784207858], [39.07149373911066, 60.46207970557467], [39.09993353266813, 60.37576084333953], [39.12643249192017, 60.29533269225507], [39.155780773300165, 60.20625643886531], [39.1609615177171, 60.19053213472446], [39.18328495408629, 60.12277729590423], [39.210792681307225, 60.039287389003626], [39.23926149619253, 59.95288044286611]], \"hovertemplate\": \"speed_cat=moderate<br>linegroup=33<br>latitude=%{lat}<br>longitude=%{lon}<br>abs_pm=%{customdata[0]}<br>avg_speed=%{customdata[1]}<extra></extra>\", \"lat\": [33.01610999999999, 33.016125999999986, 33.016466, 33.016805999999995, 33.017165999999996, 33.01750799999999, 33.017893, 33.01796199999999, 33.018260999999995, 33.01863399999999, 33.01902499999999], \"legendgroup\": \"moderate\", \"line\": {\"color\": \"#EF553B\"}, \"lon\": [-117.271137, -117.27115, -117.271413, -117.271657, -117.271895, -117.272102, -117.272316, -117.272351, -117.272497, -117.27266300000001, -117.272818], \"mode\": \"lines\", \"name\": \"moderate\", \"showlegend\": false, \"subplot\": \"mapbox\", \"type\": \"scattermapbox\"}, {\"customdata\": [[46.68931961664934, 62.36654619390892], [46.72640938895965, 62.69230329073723], [46.77749673496386, 63.14100018161486], [46.82931089909113, 63.596080669558276], [46.85770129683714, 63.84543171626098], [46.9781603277256, 64.5639197334095], [47.006076134219185, 64.39989828972598], [47.20930781170745, 63.2057951155438], [47.254498300345716, 62.9402749634065], [47.305127683035025, 62.64279817571587], [47.3339135608303, 62.4736645619418], [47.370071390182275, 62.26121648625622], [47.37779531276033, 62.215833991846004], [47.51913900650831, 61.38535837189817], [47.60231932852397, 60.89662606512415], [47.663101279979585, 60.53949708767755], [47.71787829756317, 60.21765055579245], [47.72754386209126, 60.16085979646841], [47.806919378663906, 59.69448291338028]], \"hovertemplate\": \"speed_cat=moderate<br>linegroup=37<br>latitude=%{lat}<br>longitude=%{lon}<br>abs_pm=%{customdata[0]}<br>avg_speed=%{customdata[1]}<extra></extra>\", \"lat\": [33.118439999999985, 33.118916999999996, 33.119574, 33.12024699999999, 33.12061299999999, 33.122165999999986, 33.122526, 33.12515799999999, 33.12574099999999, 33.12639399999999, 33.126765999999996, 33.12723299999999, 33.127331999999996, 33.129156, 33.130234, 33.131022, 33.13172999999999, 33.131855, 33.13288399999999], \"legendgroup\": \"moderate\", \"line\": {\"color\": \"#EF553B\"}, \"lon\": [-117.319973, -117.320267, -117.320672, -117.32106700000001, -117.32129, -117.322236, -117.322455, -117.32402300000001, -117.324377, -117.324774, -117.324998, -117.32528, -117.32534199999999, -117.326448, -117.32708800000002, -117.327555, -117.327981, -117.328056, -117.328666], \"mode\": \"lines\", \"name\": \"moderate\", \"showlegend\": false, \"subplot\": \"mapbox\", \"type\": \"scattermapbox\"}, {\"customdata\": [[48.08248201985818, 60.04424937251985], [48.144240029235746, 60.14998292943085], [48.196454333382285, 60.2393770688257], [48.21689214566482, 60.27436787584639], [48.27852450776974, 60.379886316804225], [48.299048340765935, 60.41502439664207], [48.31360224874518, 60.439941593182404], [48.380073843809754, 60.55374510224238], [48.42505015572044, 60.630747348315154], [48.445924406711484, 60.66648536557608], [48.46984930966032, 60.70744628891261], [48.49276504019158, 60.746679446242396], [48.51568865302086, 60.78592609855711], [48.53957262634366, 60.826816947825726], [48.56248954990329, 60.86605214769435], [48.58306037385549, 60.90127067897438], [48.5840345758195, 60.90293857338747], [48.5852148473962, 60.90495927180673], [48.655402647546225, 61.02512515533206], [48.75551199846048, 61.19651859658603], [48.76975944160946, 61.22091110625744], [48.79037556684812, 61.256207196160204], [48.81237768607107, 61.29387619405165], [48.840766740459614, 61.34248002257677], [48.876791939115506, 61.404157405489585], [48.903231562214856, 61.449423686282245], [48.92690304545564, 61.489950739301484], [48.94965499769494, 61.528903497999124], [48.99675389993516, 61.60953975086175], [49.07078649403989, 61.73628816100216], [49.07338007284042, 61.7407285293766], [49.1527683426022, 61.778681741617994], [49.16714523972559, 61.771835600130665], [49.210400125895376, 61.75123803528791], [49.224901313896325, 61.74433270766841], [49.392634859339424, 61.66445959079075], [49.497743010381114, 61.6144080902947], [49.504462104021606, 61.61120852189447], [49.525795913790446, 61.60104956486169], [49.532515003298386, 61.59784999842934], [49.575499400219016, 61.57738123799094], [49.689848076048555, 61.522929487595924], [49.85478288838161, 61.444389100770664], [49.90008292657191, 61.42281765401337], [49.90363770826901, 61.42112490082428], [49.91441250592004, 61.41599404479998], [49.91811705332598, 61.41422997460668], [49.94758184937553, 61.40019911934498], [49.97167577795511, 61.44582408636473], [50.03580606567247, 61.569947223882195], [50.06544243245632, 61.627307933786426], [50.102211741607825, 61.69847433859579], [50.137020466444625, 61.76584606408637], [50.25646020075674, 61.997019743400145], [50.26140394733462, 62.00658828516379], [50.26324472008782, 62.01015107113771], [50.27079861446673, 62.02477151187109], [50.294703241413316, 62.07103853176771], [50.30277040204241, 62.08665239104983], [50.34804955213049, 62.174289455736435], [50.420875492375416, 62.31524288846855], [50.43874636275339, 62.34983166984528], [50.47711647603237, 62.42409640522395], [50.50998669949561, 62.48771619257216], [50.54610374018321, 62.5576201422901], [50.59777131403323, 62.361829487734134], [50.63846096202977, 62.03631230376184], [50.67953766510466, 61.7076986791627], [50.745150741031466, 61.182794071748255], [50.80417991516025, 60.710560678718004], [50.82139341664139, 60.57285266686885], [50.87335087130013, 60.15719302959892], [50.89068041284505, 60.01855669723958], [50.914586284186804, 59.82730972650556]], \"hovertemplate\": \"speed_cat=moderate<br>linegroup=39<br>latitude=%{lat}<br>longitude=%{lon}<br>abs_pm=%{customdata[0]}<br>avg_speed=%{customdata[1]}<extra></extra>\", \"lat\": [33.13653999999999, 33.13736699999999, 33.138066, 33.138339, 33.139162999999996, 33.139437, 33.139631, 33.14050999999999, 33.14110399999999, 33.141377999999996, 33.14169799999999, 33.14201099999999, 33.14232899999999, 33.142665, 33.142990999999995, 33.143285999999996, 33.143299999999996, 33.143316999999996, 33.144331, 33.14577899999999, 33.145984999999996, 33.14628299999999, 33.14660099999999, 33.14700899999999, 33.14751799999999, 33.147881999999996, 33.148202999999995, 33.14850599999999, 33.14911699999999, 33.150078, 33.150112, 33.15114899999999, 33.151336, 33.151899, 33.15208799999999, 33.15426999999999, 33.155656, 33.155746, 33.156031999999996, 33.156121999999996, 33.15669299999999, 33.15820899999999, 33.16040499999999, 33.161006, 33.161052999999995, 33.16119499999999, 33.161243999999996, 33.161639, 33.161961999999995, 33.162821, 33.163218, 33.163703999999996, 33.164166, 33.165749999999996, 33.16581699999999, 33.16584199999999, 33.16594299999999, 33.166261999999996, 33.16637, 33.16697599999999, 33.167943, 33.168174, 33.168670999999996, 33.169097, 33.169554999999995, 33.170183, 33.17067699999999, 33.171186999999996, 33.17199399999999, 33.172710999999985, 33.17291999999999, 33.17355299999999, 33.17376399999999, 33.174058999999986], \"legendgroup\": \"moderate\", \"line\": {\"color\": \"#EF553B\"}, \"lon\": [-117.330569, -117.330974, -117.331317, -117.331453, -117.331861, -117.331998, -117.332096, -117.33256300000001, -117.332881, -117.33303300000001, -117.333191, -117.33332200000001, -117.33343500000001, -117.333532, -117.333605, -117.333653, -117.333655, -117.333657, -117.33373, -117.333791, -117.333802, -117.33382000000002, -117.33384000000001, -117.333898, -117.334033, -117.334174, -117.334317, -117.334471, -117.334832, -117.335398, -117.335417, -117.33600799999999, -117.336117, -117.33644400000001, -117.336553, -117.337824, -117.33857300000001, -117.338617, -117.338756, -117.3388, -117.339095, -117.33988800000002, -117.34100600000001, -117.341319, -117.341344, -117.341421, -117.341447, -117.341639, -117.341796, -117.342216, -117.34241000000002, -117.342669, -117.342909, -117.343736, -117.34376600000002, -117.34377700000002, -117.343827, -117.343987, -117.34404, -117.344338, -117.34483900000001, -117.344978, -117.345274, -117.345527, -117.34582800000001, -117.346313, -117.34669600000001, -117.347061, -117.347659, -117.348214, -117.34837600000002, -117.348861, -117.349023, -117.34923900000001], \"mode\": \"lines\", \"name\": \"moderate\", \"showlegend\": false, \"subplot\": \"mapbox\", \"type\": \"scattermapbox\"}, {\"customdata\": [[52.990394424106626, 60.00349946898622], [53.006129303996445, 60.12521546813393], [53.01146608110876, 60.166497712612575], [53.03541947716258, 60.35178743545042], [53.05302523605639, 60.487975480705266], [53.06127252990472, 60.55177181204323], [53.0686021925719, 60.608469875275915], [53.086714939465125, 60.74857968868761], [53.11301702522734, 60.9520375269828], [53.137372984769655, 61.14044124989979], [53.14304689870251, 61.184331391308625], [53.161650408895035, 61.301931433277794], [53.16797187131735, 61.305276122390126], [53.18702101407317, 61.31535503390114], [53.19342340909106, 61.31874254449262], [53.2156433813526, 61.3304991435728], [53.22874440817203, 61.33743090379472], [53.28234574342419, 61.365791398637136], [53.30463984871335, 61.377587221541454], [53.308560510906275, 61.379661645982154], [53.31216120533954, 61.381566775311924], [53.320332169959656, 61.385890037015685], [53.32431278946932, 61.387996184904395], [53.326660974402174, 61.3892386107948], [53.3337278768701, 61.39297771262968], [53.33610133721017, 61.39423351175141], [53.457730790885606, 61.458587720045294], [53.56987900658871, 61.51792540031148], [53.62097752991544, 61.544961656039916], [53.69737898821138, 61.58538570804835], [53.709715319948266, 61.591912867697495], [53.73421918151043, 61.60487787381504], [53.7469036444305, 61.61158922985741], [53.75956766571022, 61.61828977021705], [53.79796558208488, 61.63860612808723], [53.85397716760212, 61.66824188762016], [53.86092918444994, 61.67192020341266], [53.874942935091845, 61.679334886291976], [53.91470041155103, 61.70037058812223], [53.9185010838787, 61.702381525861746], [53.95791539148529, 61.72323565687052], [54.00120672866655, 61.746141126278594], [54.046106613849695, 61.76989767928555], [54.0638607723989, 61.77929141396767], [54.077973738686445, 61.78675859189759], [54.12046218656976, 61.80923925215331], [54.134662489007034, 61.81675263968626], [54.16712488415932, 61.833928510137206], [54.264511869637126, 61.885456015681015], [54.29700104042639, 61.94152807421204], [54.30638433686743, 62.01944590684968], [54.334901180274784, 62.256246549984944], [54.34424063123843, 62.33380029473605], [54.35082404249966, 62.38846819743533], [54.36048785921868, 62.468715438741675], [54.369888824111015, 62.546779988201], [54.37631079037318, 62.6001072698833], [54.417944870772445, 62.94583196577825], [54.43549804865645, 63.09159157011538], [54.48233334605105, 63.48050658381614], [54.53344730883328, 63.90495115108909], [54.5685058112328, 64.19607299080238], [54.61325219881919, 64.56764193365758], [54.622577615532805, 64.64507913958337], [54.672978275916684, 65.0636005243965]], \"hovertemplate\": \"speed_cat=moderate<br>linegroup=41<br>latitude=%{lat}<br>longitude=%{lon}<br>abs_pm=%{customdata[0]}<br>avg_speed=%{customdata[1]}<extra></extra>\", \"lat\": [33.19870999999999, 33.19886799999999, 33.198921999999996, 33.19915199999999, 33.19931199999999, 33.19938899999999, 33.199452, 33.19959699999999, 33.199792999999985, 33.19995999999999, 33.199998, 33.20012299999999, 33.20015999999999, 33.200274, 33.20031199999999, 33.200442999999986, 33.20052199999999, 33.200821999999995, 33.20094799999999, 33.200969, 33.20098999999999, 33.201025, 33.201043999999996, 33.201056, 33.201094999999995, 33.20110799999999, 33.201792999999995, 33.202396, 33.202671999999986, 33.203092999999996, 33.20317899999999, 33.203351999999995, 33.20345199999999, 33.20355399999999, 33.20385799999999, 33.20434, 33.20441199999999, 33.20453899999999, 33.20497699999999, 33.20501999999999, 33.20546199999999, 33.205959, 33.20651999999999, 33.20673399999999, 33.206918, 33.207471999999996, 33.20765699999999, 33.20807299999999, 33.209320999999996, 33.20973699999999, 33.20985699999999, 33.21022299999999, 33.210346, 33.210428, 33.21055299999999, 33.210675, 33.21075799999999, 33.211297, 33.211521999999995, 33.212122, 33.21277299999999, 33.21322899999999, 33.213816, 33.21393799999999, 33.21460499999999], \"legendgroup\": \"moderate\", \"line\": {\"color\": \"#EF553B\"}, \"lon\": [-117.369719, -117.369915, -117.369981, -117.37029100000001, -117.37052800000001, -117.37063700000002, -117.370739, -117.371, -117.37139, -117.371761, -117.371848, -117.372133, -117.372233, -117.372533, -117.372634, -117.372985, -117.373191, -117.374046, -117.374401, -117.374464, -117.37452100000002, -117.374656, -117.374721, -117.374759, -117.374872, -117.37491, -117.376848, -117.378649, -117.379469, -117.380691, -117.380878, -117.381248, -117.381432, -117.381614, -117.38217, -117.382949, -117.383033, -117.383222, -117.383668, -117.383709, -117.38414, -117.384596, -117.384988, -117.385158, -117.385264, -117.385583, -117.38569000000001, -117.385951, -117.386734, -117.38699600000001, -117.387072, -117.3873, -117.38736700000001, -117.387425, -117.3875, -117.387572, -117.38762200000001, -117.387944, -117.388085, -117.388462, -117.388882, -117.389148, -117.389475, -117.38954400000001, -117.389897], \"mode\": \"lines\", \"name\": \"moderate\", \"showlegend\": false, \"subplot\": \"mapbox\", \"type\": \"scattermapbox\"}, {\"customdata\": [[55.48334073748773, 64.9741140825319], [55.862004963086385, 64.01321637818508], [55.97055296688141, 64.37142479070864], [56.07108807338555, 64.70319064217233], [56.244988208140235, 65.27706108686279]], \"hovertemplate\": \"speed_cat=moderate<br>linegroup=43<br>latitude=%{lat}<br>longitude=%{lon}<br>abs_pm=%{customdata[0]}<br>avg_speed=%{customdata[1]}<extra></extra>\", \"lat\": [33.225152, 33.229165, 33.230326999999996, 33.231403, 33.23323599999999], \"legendgroup\": \"moderate\", \"line\": {\"color\": \"#EF553B\"}, \"lon\": [-117.395332, -117.399794, -117.401058, -117.402229, -117.404291], \"mode\": \"lines\", \"name\": \"moderate\", \"showlegend\": false, \"subplot\": \"mapbox\", \"type\": \"scattermapbox\"}, {\"customdata\": [[60.11115782365977, 64.8686618707512], [60.253792257740024, 64.43396645260184], [60.6136874270958, 63.85359612384528], [60.76593184965137, 63.815343756369], [60.87250745862549, 63.788565965169475], [61.00638197051629, 63.75492915313661], [61.14274895551785, 63.72066609157843], [61.37922059155787, 63.66125110764877], [61.388710996063864, 63.65886658390355], [61.498262418646284, 63.63134110084264], [61.53891226753552, 63.62112757097097], [61.56034057014535, 63.61574357534036], [61.57813495052294, 63.611272625496746], [61.59276584686197, 63.60759652088895], [61.610855533436975, 63.60305137350829], [61.6686265420744, 63.588536044704924], [61.73417024573865, 63.572067777452595], [61.77208536104137, 63.56254136657252], [61.88596816461613, 63.53392759683012], [61.89810340666206, 63.530878541039684], [61.91517266467089, 63.52658978274601], [62.01596704571335, 63.501264561378555], [62.356635250052015, 63.415669535162806], [62.4210571567923, 63.401086646044135], [62.44975336804911, 63.41624476357827], [62.47285840583037, 63.428449471551204], [62.64144937707, 63.517503797725986], [63.016901897320885, 63.7158280078288], [63.19623286960689, 63.810555494014864], [63.24319204572036, 63.83536060520059], [63.30441462894217, 63.86770003509656], [63.33349984501412, 63.88306363553073], [63.37796859607534, 63.90655323661953], [63.40691817564044, 63.921845190169925], [63.43511431859522, 63.93673915805624], [63.48315209483796, 63.96211401510094], [63.50926993475125, 63.975910166920436], [63.55617047597125, 64.00068430556422], [63.75703147816058, 64.10678453782005], [63.79205105267407, 64.12528282742771], [63.81738643137343, 64.13866566199984], [63.84703494654199, 64.15432681230347], [63.875114293767574, 64.16915908551606], [63.91208567706109, 64.18868837348886], [63.94966931647918, 64.20854107176187], [63.985234544551865, 64.22732759038725], [64.01583338407191, 64.24349072780292], [64.04320811638799, 64.2579508042987], [64.06513085278206, 64.26953098859403], [64.08727771980986, 64.28122956477246], [64.106649628789, 64.2914623328037], [64.12784771228934, 64.30265973577515], [64.14660570120422, 64.3125682145681], [64.18846587948191, 64.33467989672204], [64.21257563180168, 64.34741532217983], [64.2217499917507, 64.35226146807564], [64.36693682590021, 64.42895309390569], [64.43507914194187, 64.46494771446253], [64.63277419083066, 64.56937560426843], [64.94729176333006, 64.73551232133644], [65.06583573694198, 64.7981304652054], [65.33969825975926, 64.94279208174804], [65.489112312077, 64.99015727335173], [65.61162011759673, 64.96082759615548], [65.94432131568233, 64.88117537561934], [66.09245161648339, 64.84571139936861], [66.36474293957625, 64.78052194816775], [66.54271068335566, 64.73791456936236], [66.67520625681965, 64.70619371383691], [66.67664671813068, 64.7058488520129], [66.68528819541856, 64.70377999004712], [66.68834514020894, 64.70304812481186], [66.72670902628482, 64.6938634007053], [66.74270146183608, 64.69003464081273], [66.76617979567418, 64.68441367691042], [66.95515104960714, 64.63917194024138], [67.028327499284, 64.62165271656184], [67.06143327901431, 64.61372683927834], [67.35334960937972, 64.54383895171388], [67.45921633018921, 64.51849332794734], [67.4895131883904, 64.51123993648112], [67.52180312681729, 64.50350938031998], [67.65265520447885, 64.47218199524447], [67.97387715566119, 64.39527802903139], [68.36551489635718, 64.30151577066955], [68.54871964012705, 64.25765459812797], [68.6780494281292, 64.2266916654571], [68.7916562119166, 64.19949298793894], [68.90758152039075, 64.17173923084567], [69.19896791803747, 64.10197821483449], [69.32131467891713, 64.07268709344525], [69.5636055447386, 64.01468007216204], [69.79119448774266, 63.96019284823841], [69.82391684051672, 63.95235876746377], [69.85035574129599, 63.94602901221275], [69.86147213266447, 63.94336762938052], [69.87078216341848, 63.941138708573845], [69.89593011735548, 63.93511801978598], [69.9365555462047, 63.92539185818304], [69.98066102188393, 63.91483253619722], [70.00720014411401, 63.90847878686037], [70.06010882417169, 63.8958118837158], [70.11051856021153, 63.88374325446133], [70.13474875286404, 63.87794228752795], [70.15384165774003, 63.87337124216169], [70.19228901043475, 63.86416653525504], [70.20483986331625, 63.861161727014526], [70.22460129418153, 63.85643062938564], [70.25224413245263, 63.849812638639335], [70.32071444317079, 63.83342011489466], [70.53999895701689, 63.78092106001438], [70.71528441901762, 63.73895584811733]], \"hovertemplate\": \"speed_cat=moderate<br>linegroup=45<br>latitude=%{lat}<br>longitude=%{lon}<br>abs_pm=%{customdata[0]}<br>avg_speed=%{customdata[1]}<extra></extra>\", \"lat\": [33.27635, 33.278092, 33.28247799999999, 33.28434599999999, 33.285654, 33.287282999999995, 33.28894199999999, 33.291871, 33.29198699999999, 33.29332699999999, 33.293807, 33.29404699999999, 33.294229, 33.294385999999996, 33.29457399999999, 33.295162999999995, 33.29583999999999, 33.296223999999995, 33.297378, 33.29750099999999, 33.297674, 33.298708999999995, 33.30214999999999, 33.30281, 33.30310399999999, 33.30333699999999, 33.305044999999986, 33.308861, 33.310693, 33.311166, 33.311833, 33.312173, 33.312723999999996, 33.31309499999999, 33.313465, 33.314119999999996, 33.314484, 33.315149999999996, 33.31804799999999, 33.31855399999999, 33.318919, 33.319342999999996, 33.319744, 33.32026499999999, 33.32078099999999, 33.321253999999996, 33.321647999999996, 33.32199399999999, 33.322259999999986, 33.322518999999986, 33.32273699999999, 33.32296699999999, 33.32314999999999, 33.32355799999999, 33.32378899999999, 33.323876999999996, 33.32526699999999, 33.325908999999996, 33.327774999999995, 33.33076599999999, 33.33189999999999, 33.334496, 33.33591899999999, 33.33708099999999, 33.34024099999999, 33.341654999999996, 33.34425699999999, 33.345943999999996, 33.347187999999996, 33.34720399999999, 33.347287, 33.34731599999999, 33.347678, 33.34782899999999, 33.34805, 33.349783999999985, 33.35046799999999, 33.350763, 33.353435999999995, 33.354407, 33.354689, 33.35498799999999, 33.35618399999999, 33.359132999999986, 33.36273299999999, 33.364404, 33.36559599999999, 33.366641, 33.36766, 33.36995699999999, 33.37094199999999, 33.37285399999999, 33.37465699999999, 33.374933999999996, 33.375161999999996, 33.375265999999996, 33.375357, 33.37561199999999, 33.37601999999999, 33.37648, 33.37676299999999, 33.377321, 33.37782299999999, 33.378042, 33.378213999999986, 33.37853299999999, 33.378634999999996, 33.378772999999995, 33.37894599999999, 33.379363999999995, 33.380701, 33.38179699999999], \"legendgroup\": \"moderate\", \"line\": {\"color\": \"#EF553B\"}, \"lon\": [-117.445631, -117.446956, -117.450317, -117.451715, -117.452693, -117.453948, -117.455227, -117.457345, -117.457433, -117.458447, -117.45885400000002, -117.459089, -117.459307, -117.459477, -117.45969500000001, -117.46040500000001, -117.4612, -117.461669, -117.463077, -117.463227, -117.463438, -117.464668, -117.468893, -117.469681, -117.470032, -117.470319, -117.472404, -117.477033, -117.479233, -117.47981700000001, -117.480515, -117.480812, -117.48121, -117.481443, -117.481649, -117.48192800000001, -117.48205, -117.482207, -117.48248200000002, -117.482517, -117.482559, -117.482638, -117.48271700000001, -117.48286300000001, -117.483069, -117.483312, -117.483554, -117.483785, -117.483992, -117.484218, -117.484429, -117.484672, -117.48491200000001, -117.48544800000002, -117.485761, -117.48588000000001, -117.487766, -117.488662, -117.491258, -117.495365, -117.49690600000001, -117.500491, -117.50244, -117.504043, -117.508392, -117.510321, -117.513864, -117.516194, -117.51794100000001, -117.51795700000001, -117.518069, -117.518109, -117.518613, -117.518823, -117.519132, -117.521664, -117.52263200000002, -117.52308400000001, -117.527001, -117.52842, -117.528822, -117.529252, -117.53101, -117.535313, -117.540555, -117.54302, -117.544748, -117.546268, -117.547864, -117.552099, -117.553861, -117.557381, -117.560682, -117.561142, -117.56151, -117.561657, -117.561776, -117.562087, -117.562594, -117.563124, -117.563435, -117.564063, -117.564697, -117.565025, -117.565284, -117.56583, -117.56601, -117.56631000000002, -117.566742, -117.567818, -117.571265, -117.57400500000001], \"mode\": \"lines\", \"name\": \"moderate\", \"showlegend\": false, \"subplot\": \"mapbox\", \"type\": \"scattermapbox\"}, {\"customdata\": [[5.4059831134529315, 57.695048082658545], [5.439905843592157, 57.77575450125532], [5.48912254776829, 57.892847197299844], [5.5791326356260456, 58.10699245620932], [5.673123390331205, 58.330608219514], [5.687091424172432, 58.36383991936649], [5.973159204128486, 59.04443095379763], [6.1708001043613, 59.5146433795242], [6.179956751373043, 59.536428188224434], [6.285358633483247, 59.78719245111133], [6.320540249027702, 59.870893915568594], [6.609626526039136, 60.55866633209618]], \"hovertemplate\": \"speed_cat=slow<br>linegroup=2<br>latitude=%{lat}<br>longitude=%{lon}<br>abs_pm=%{customdata[0]}<br>avg_speed=%{customdata[1]}<extra></extra>\", \"lat\": [32.596212, 32.59669999999999, 32.597408, 32.59870399999999, 32.600059, 32.600259, 32.60437799999999, 32.60722599999999, 32.60735799999999, 32.608876999999985, 32.60938399999999, 32.61354699999999], \"legendgroup\": \"slow\", \"line\": {\"color\": \"#00cc96\"}, \"lon\": [-117.089132, -117.089196, -117.089289, -117.08944600000001, -117.089589, -117.089624, -117.09012200000001, -117.090439, -117.090453, -117.09062000000002, -117.09067600000002, -117.09117300000001], \"mode\": \"lines\", \"name\": \"slow\", \"showlegend\": true, \"subplot\": \"mapbox\", \"type\": \"scattermapbox\"}, {\"customdata\": [[6.9087671314018975, 59.91276309414172], [6.9236788975731285, 59.876392932748466], [6.9345613400638495, 59.84985039008817], [6.949283670574154, 59.81394226689231], [6.977371170263215, 59.74543617008972], [7.170394665777051, 59.27464715664134], [7.226118949084941, 59.22438732920868], [7.298115504113793, 59.29428689719786], [7.347338333177908, 59.342076051629036], [7.434963813794156, 59.42714933378073], [7.445612866693772, 59.43748822009104], [7.460483229737201, 59.451925465764276], [7.476898507546969, 59.467862628686376], [7.521238388096005, 59.51091105640389], [7.7283550968904136, 59.71199523969943], [7.971319111927837, 59.86593900949257], [7.979376913037517, 59.869427235081176], [7.9954164826558936, 59.87637077171251], [8.228432843766884, 59.97724365531034], [8.252969555662911, 59.98786560851208], [8.26783164414186, 59.994299413048424], [8.391131366501629, 60.04767591623447]], \"hovertemplate\": \"speed_cat=slow<br>linegroup=4<br>latitude=%{lat}<br>longitude=%{lon}<br>abs_pm=%{customdata[0]}<br>avg_speed=%{customdata[1]}<extra></extra>\", \"lat\": [32.61784999999999, 32.618062, 32.618214, 32.618418999999996, 32.61880699999999, 32.62147199999999, 32.62224299999999, 32.62323599999999, 32.62391499999999, 32.62512499999999, 32.625271999999995, 32.625478, 32.625704, 32.62631499999999, 32.629151, 32.632486, 32.63259599999999, 32.632812, 32.636009, 32.636345999999996, 32.636549999999986, 32.638242999999996], \"legendgroup\": \"slow\", \"line\": {\"color\": \"#00cc96\"}, \"lon\": [-117.091732, -117.09178, -117.091829, -117.091898, -117.09204199999999, -117.093037, -117.093318, -117.09369300000002, -117.093949, -117.0944, -117.094455, -117.09452900000001, -117.094616, -117.094849, -117.096002, -117.097326, -117.097372, -117.09747300000001, -117.09874800000001, -117.098881, -117.098962, -117.099632], \"mode\": \"lines\", \"name\": \"slow\", \"showlegend\": false, \"subplot\": \"mapbox\", \"type\": \"scattermapbox\"}, {\"customdata\": [[9.976285801005428, 59.75847811708394], [10.018936874013843, 59.24552534593597], [10.146816931913056, 57.707546921312904], [10.189552269695092, 57.193580720816264], [10.213910178251759, 56.9006348272617], [10.287198842760134, 56.019212136069655], [10.31177171038684, 55.72368098866607], [10.322043981422567, 55.600139198926804], [10.353188615841262, 55.22557121259952], [10.36359202802115, 55.10045222424451], [10.373271987521667, 54.98403400308017], [10.40246168770252, 54.632977475292634], [10.412226912027355, 54.51553379744383], [10.513325801501624, 53.29964514897823], [10.564254431035769, 52.68714047306647], [10.596234211353323, 52.302528415795216], [10.614636993983126, 52.08120319040338], [10.632424814610488, 51.86727394455092], [10.66477743405681, 51.47817785321432], [10.66768459477564, 51.44321422764263], [10.676671433475159, 51.33513198047693], [10.679781177024557, 51.29773194669797], [10.706319387823603, 50.97856415535087], [10.723924518758043, 50.76683206838879], [10.737632980638857, 50.601964152672984], [10.748555838738262, 50.47059793054205], [10.752658813410605, 50.42125257813525], [10.760110137563824, 50.33163754377583], [10.769712653748277, 50.2161507121588], [10.7726476482283, 50.18085233756609], [10.800499245048512, 49.87526593036158]], \"hovertemplate\": \"speed_cat=slow<br>linegroup=6<br>latitude=%{lat}<br>longitude=%{lon}<br>abs_pm=%{customdata[0]}<br>avg_speed=%{customdata[1]}<extra></extra>\", \"lat\": [32.660018, 32.660600999999986, 32.662348, 32.66293199999999, 32.663266, 32.66427099999999, 32.664608, 32.664749, 32.665176999999986, 32.66532, 32.66545099999999, 32.665846, 32.665977999999996, 32.667370999999996, 32.668086999999986, 32.66854099999999, 32.668804, 32.66906099999999, 32.66952899999999, 32.66957099999999, 32.669700999999996, 32.669745999999996, 32.67013, 32.67038399999999, 32.67058099999999, 32.670738, 32.670797, 32.670904, 32.67103999999999, 32.67107899999999, 32.67147599999999], \"legendgroup\": \"slow\", \"line\": {\"color\": \"#00cc96\"}, \"lon\": [-117.108165, -117.108406, -117.10913200000002, -117.109374, -117.109508, -117.10991100000001, -117.110046, -117.110102, -117.11027, -117.11032600000001, -117.11038500000001, -117.110563, -117.110623, -117.111155, -117.111363, -117.11147, -117.11152, -117.111538, -117.11155600000001, -117.111553, -117.111548, -117.111547, -117.111537, -117.111513, -117.111485, -117.111463, -117.111455, -117.111439, -117.111405, -117.111385, -117.111302], \"mode\": \"lines\", \"name\": \"slow\", \"showlegend\": false, \"subplot\": \"mapbox\", \"type\": \"scattermapbox\"}, {\"customdata\": [[12.693913663777902, 50.06970253851414], [12.700329467763227, 50.14446938810691], [12.71065955913389, 50.26485155526108], [12.72671588192381, 50.451964608245994], [12.735655296637892, 50.55614046475655], [12.74007844616654, 50.60768582934237], [12.753630032462569, 50.208913226805066], [12.758073100671611, 49.821360926819274]], \"hovertemplate\": \"speed_cat=slow<br>linegroup=8<br>latitude=%{lat}<br>longitude=%{lon}<br>abs_pm=%{customdata[0]}<br>avg_speed=%{customdata[1]}<extra></extra>\", \"lat\": [32.69385599999999, 32.693896999999986, 32.69394799999999, 32.69403299999999, 32.694075999999995, 32.694093999999986, 32.69415099999999, 32.694169999999986], \"legendgroup\": \"slow\", \"line\": {\"color\": \"#00cc96\"}, \"lon\": [-117.123764, -117.123863, -117.12403, -117.124287, -117.124432, -117.12450500000001, -117.124728, -117.124801], \"mode\": \"lines\", \"name\": \"slow\", \"showlegend\": false, \"subplot\": \"mapbox\", \"type\": \"scattermapbox\"}, {\"customdata\": [[13.371395932249307, 52.854953804876885], [13.404679399145174, 53.14415643039497], [13.429594127150176, 53.33030094997258], [13.50438313113527, 53.88906937055087], [13.529342791373457, 54.07554959072123], [13.558130343533701, 54.29062900341271], [13.57058835966157, 54.38370613540254], [13.645263614165653, 54.94162470353649], [13.67441297051901, 55.15940725100409], [13.680286454372292, 55.203289601632065], [13.697994548062052, 55.33559145103832], [13.703911891933464, 55.37980149145691], [13.722953783729066, 55.522068499125204], [13.780124254357819, 55.949204199225086], [13.79925485429202, 56.09213396884842], [13.804148747987263, 56.12869754243357], [13.818882369049824, 56.23877632048719], [13.823821296044015, 56.275676349754136], [13.840682216035049, 56.401648740491744], [13.859055702456729, 56.538921914906595], [13.891442317574981, 56.780890878433766], [13.908525453964137, 56.908523506628605], [13.921652461769586, 57.00659885230151], [13.961469830065047, 57.30408493726759], [13.974683786968775, 57.40280990264027], [13.9779314046909, 57.42707371320787], [13.987677247949577, 57.49988748468075], [13.99092486312601, 57.52415127622881], [14.00266941240376, 57.61189790876372], [14.038036942120195, 57.8761380733118], [14.04991544032878, 57.96488547372077], [14.071461053742023, 58.125858447497876], [14.126614308017134, 58.53792299093261], [14.136267838402912, 58.6100470685275], [14.157888207391203, 58.771578560968756], [14.159890961243446, 58.78654166446253], [14.166208016869948, 58.83373805707433], [14.168388723874145, 58.85003069561143], [14.199447175735639, 59.08207660032374], [14.20647728572998, 59.134600410626284], [14.237368681460074, 59.36539819481665], [14.247562601450992, 59.44155966601316], [14.2651891625832, 59.573252364127356], [14.280051366062532, 59.68429181540972], [14.294341539823938, 59.79105748144321], [14.295917589289454, 59.80283256365684], [14.311752355761676, 59.921138290173445], [14.32754202162708, 60.039107058133354]], \"hovertemplate\": \"speed_cat=slow<br>linegroup=10<br>latitude=%{lat}<br>longitude=%{lon}<br>abs_pm=%{customdata[0]}<br>avg_speed=%{customdata[1]}<extra></extra>\", \"lat\": [32.69561699999999, 32.69592, 32.69615499999999, 32.69686099999999, 32.69709699999999, 32.697359999999996, 32.697474, 32.698191, 32.698471, 32.698527, 32.698695, 32.698751, 32.698926, 32.699450999999996, 32.699626999999985, 32.699671999999985, 32.699795, 32.69984, 32.69999599999999, 32.700165999999996, 32.700466999999996, 32.70062699999999, 32.700745999999995, 32.70111299999999, 32.70123399999999, 32.701264, 32.701351999999986, 32.701381999999995, 32.70149099999999, 32.70182299999999, 32.70193499999999, 32.70212699999999, 32.70261899999999, 32.70270899999999, 32.702909999999996, 32.702927999999986, 32.702987, 32.70300799999999, 32.703289999999996, 32.70335399999999, 32.70362999999999, 32.703728999999996, 32.703913, 32.704077999999996, 32.704245, 32.704264, 32.704457999999995, 32.70465999999999], \"legendgroup\": \"slow\", \"line\": {\"color\": \"#00cc96\"}, \"lon\": [-117.134911, -117.135356, -117.135681, -117.136656, -117.136981, -117.137365, -117.137531, -117.138492, -117.138867, -117.138943, -117.139173, -117.13925, -117.13950300000002, -117.140263, -117.140517, -117.140582, -117.140789, -117.140855, -117.141078, -117.141321, -117.141748, -117.141972, -117.142148, -117.142676, -117.142852, -117.14289500000001, -117.143026, -117.143069, -117.143224, -117.143687, -117.14384199999999, -117.14413400000001, -117.144881, -117.145008, -117.145293, -117.14532, -117.14540300000002, -117.14543100000002, -117.145847, -117.14594100000001, -117.146359, -117.146489, -117.146699, -117.146863, -117.147008, -117.147023, -117.14716800000001, -117.14729500000001], \"mode\": \"lines\", \"name\": \"slow\", \"showlegend\": false, \"subplot\": \"mapbox\", \"type\": \"scattermapbox\"}, {\"customdata\": [[14.717637160372526, 59.945907099068684], [14.73201280432331, 59.90996798919173], [14.746799232842852, 59.87300191789287], [14.791503218388037, 59.761241954029906], [14.806428395434764, 59.72392901141309], [14.80794955986664, 59.7201261003334], [14.812649344366454, 59.708376639083866], [14.814380586248394, 59.70404853437902], [14.829581562233727, 59.666046094415684], [14.87518319322206, 59.59487080395132], [14.89052191118067, 59.59076954246506], [14.954918175077292, 59.573551290086286], [14.958856494553014, 59.5724982634885], [14.970602935085964, 59.56935750398771], [14.97461034788522, 59.568286003239244], [14.977512267499142, 59.56751008890397], [14.9863569772125, 59.565145193258694], [14.989328558842134, 59.56435065271601], [15.003908293347644, 59.56045232798191], [15.012683338077899, 59.55810605933746], [15.077356805795059, 59.54081368829009], [15.098915177009152, 59.53504941791199], [15.102300749891768, 59.53414418452092], [15.11273448963677, 59.53135441453562], [15.116189644911127, 59.53043057622697], [15.127107009222827, 59.52751149486021], [15.160067036878937, 59.518698653240925], [15.171054259559432, 59.515760893165925], [15.1855064603401, 59.51189666835826], [15.229279644623569, 59.50019260838942], [15.243872352749076, 59.62745965132697], [15.24747272207301, 59.66053996776483], [15.275112252497069, 59.914492918242296], [15.291510569498453, 60.06516121547723]], \"hovertemplate\": \"speed_cat=slow<br>linegroup=12<br>latitude=%{lat}<br>longitude=%{lon}<br>abs_pm=%{customdata[0]}<br>avg_speed=%{customdata[1]}<extra></extra>\", \"lat\": [32.710247999999986, 32.710456, 32.71067, 32.711317, 32.711532999999996, 32.71155499999999, 32.711622999999996, 32.71164799999999, 32.711867999999996, 32.71252799999999, 32.712749999999986, 32.71368199999999, 32.71373899999999, 32.713909, 32.71396699999999, 32.71400899999999, 32.714137, 32.71417999999999, 32.71439099999999, 32.71451799999999, 32.715454, 32.715765999999995, 32.71581499999999, 32.715966, 32.716015999999996, 32.716173999999995, 32.71665099999999, 32.716809999999995, 32.717019, 32.717652, 32.717863, 32.71791499999999, 32.71831499999999, 32.718551999999995], \"legendgroup\": \"slow\", \"line\": {\"color\": \"#00cc96\"}, \"lon\": [-117.147757, -117.147763, -117.147765, -117.147769, -117.147772, -117.147773, -117.147775, -117.147777, -117.147775, -117.147776, -117.147776, -117.147769, -117.147769, -117.147771, -117.147771, -117.147771, -117.147773, -117.147774, -117.147777, -117.147778, -117.147787, -117.147791, -117.147791, -117.147793, -117.147794, -117.147796, -117.147803, -117.147806, -117.147816, -117.147847, -117.147858, -117.147862, -117.147868, -117.147883], \"mode\": \"lines\", \"name\": \"slow\", \"showlegend\": false, \"subplot\": \"mapbox\", \"type\": \"scattermapbox\"}, {\"customdata\": [[15.958089119246399, 59.93729030822181], [15.95976864643854, 59.9123468350712], [15.965029209939326, 59.834219654366464], [15.966727593589072, 59.80899613481578], [15.96884849623756, 59.777497580630296], [15.975395299868275, 59.680267823738504], [15.977563689707312, 59.64806401424786], [15.980845103283587, 59.59933014925368], [15.990796287211628, 59.45154028893623], [15.994127498487417, 59.40206685414728], [16.02082106361313, 59.383457109950015], [16.059811502562987, 59.54762737921257], [16.08594001835454, 59.657642182545416], [16.107961212196532, 59.75036299872223], [16.13622854221568, 59.86938333564496], [16.164250710703236, 59.9873714134873], [16.21370045944189, 60.19558088186058]], \"hovertemplate\": \"speed_cat=slow<br>linegroup=14<br>latitude=%{lat}<br>longitude=%{lon}<br>abs_pm=%{customdata[0]}<br>avg_speed=%{customdata[1]}<extra></extra>\", \"lat\": [32.723991999999996, 32.72398599999999, 32.723977999999995, 32.723974999999996, 32.72397, 32.72395999999999, 32.723956, 32.723949999999995, 32.723932999999995, 32.723928, 32.72388999999999, 32.72379399999999, 32.723701999999996, 32.723593, 32.72341699999999, 32.72323699999999, 32.72294], \"legendgroup\": \"slow\", \"line\": {\"color\": \"#00cc96\"}, \"lon\": [-117.155157, -117.155185, -117.155275, -117.15530400000002, -117.15534000000001, -117.155452, -117.155489, -117.155545, -117.15571500000001, -117.155772, -117.15622900000001, -117.15689, -117.157326, -117.157682, -117.158121, -117.158553, -117.159327], \"mode\": \"lines\", \"name\": \"slow\", \"showlegend\": false, \"subplot\": \"mapbox\", \"type\": \"scattermapbox\"}, {\"customdata\": [[17.53334892486169, 59.45240686155516], [17.535231600458058, 59.43524128994123], [17.541333074670753, 59.379610201531364], [17.54344756358509, 59.36033103790064], [17.546879204346748, 59.32904254860318], [17.57443119432582, 59.12797399328871], [17.61070342375437, 59.545332281692545], [17.665511833752795, 60.17597298251125]], \"hovertemplate\": \"speed_cat=slow<br>linegroup=18<br>latitude=%{lat}<br>longitude=%{lon}<br>abs_pm=%{customdata[0]}<br>avg_speed=%{customdata[1]}<extra></extra>\", \"lat\": [32.735148999999986, 32.73516899999999, 32.735238999999986, 32.73526199999999, 32.73530199999999, 32.73562499999999, 32.736049, 32.73668599999999], \"legendgroup\": \"slow\", \"line\": {\"color\": \"#00cc96\"}, \"lon\": [-117.174813, -117.174835, -117.174899, -117.174923, -117.174958, -117.175236, -117.175604, -117.176166], \"mode\": \"lines\", \"name\": \"slow\", \"showlegend\": false, \"subplot\": \"mapbox\", \"type\": \"scattermapbox\"}, {\"customdata\": [[34.134480814150926, 59.88766777358494], [34.16973675474731, 59.80180461759193], [34.197022569345535, 59.86863888125105], [34.23332032164048, 59.957547113709374], [34.34237711760612, 60.224672386042684]], \"hovertemplate\": \"speed_cat=slow<br>linegroup=30<br>latitude=%{lat}<br>longitude=%{lon}<br>abs_pm=%{customdata[0]}<br>avg_speed=%{customdata[1]}<extra></extra>\", \"lat\": [32.951109999999986, 32.95161399999999, 32.952003999999995, 32.95252299999999, 32.954081999999985], \"legendgroup\": \"slow\", \"line\": {\"color\": \"#00cc96\"}, \"lon\": [-117.24404, -117.244135, -117.244209, -117.24430600000001, -117.2446], \"mode\": \"lines\", \"name\": \"slow\", \"showlegend\": false, \"subplot\": \"mapbox\", \"type\": \"scattermapbox\"}, {\"customdata\": [[35.84059351534773, 59.819553259617976], [36.07237092814385, 59.09806714974678], [36.08993481771418, 59.04339356353563], [36.109518233718916, 58.98243351371544], [36.20190527420191, 58.63496538524701], [36.237485097428234, 58.49188298621355], [36.357897653936206, 58.00765018524315], [36.4184413701396, 57.76417679568528], [36.448103264887315, 57.644893036646195], [36.5370888943148, 57.287041979967306], [36.56703275718882, 57.166624300849264], [36.56857038671764, 57.16044080408457], [36.57006243435765, 57.154440612502746], [36.572697179741546, 57.1438451216828], [36.86173516469801, 55.98149397574527], [36.994213629150856, 55.448738756766005], [37.095814404699055, 55.04015654946761], [37.324383144522805, 54.47611652985624], [37.49968012477184, 54.6684254533362], [37.62922663221849, 54.81054398471227], [37.633139008598654, 54.81483604318839], [37.702556540800884, 54.89099029792502], [37.73157611705431, 54.92282611997519], [37.76177903385078, 54.95596012152406], [37.77508068531398, 54.97055265055542], [37.788092569546066, 54.98482729148514], [37.84157626303826, 55.0435013856116], [37.899905840654036, 55.10749163953607], [37.93077544953507, 55.14135703324523], [37.96292724190287, 55.17662904174998], [38.008099612236876, 55.2261852286143], [38.053952469124965, 55.2764879408122], [38.08016611806828, 55.305245530370264], [38.100380735706906, 55.32742190415104], [38.10546149096349, 55.332995728483155], [38.125590008492374, 55.355077646447334], [38.16011851171915, 55.39295701707586], [38.164358143554, 55.39760808997485], [38.17028837523614, 55.40411382937298], [38.19409525754056, 55.43023108422172], [38.383669856954086, 55.63820321859942], [38.42350680145096, 55.681906195684604], [38.44895108001612, 55.76941063663554], [38.472614551994106, 55.952907672975314], [38.48962449548343, 56.08481030423343], [38.8153691820813, 58.61077879481461], [38.88969748192155, 59.187153333155834], [38.936817334827325, 59.55254153016344], [38.9542156574109, 59.68745582483413], [38.984507095656916, 59.92234904548176], [39.01473842822406, 60.156776180089636]], \"hovertemplate\": \"speed_cat=slow<br>linegroup=32<br>latitude=%{lat}<br>longitude=%{lon}<br>abs_pm=%{customdata[0]}<br>avg_speed=%{customdata[1]}<extra></extra>\", \"lat\": [32.974961, 32.97816199999999, 32.978405999999985, 32.978677999999995, 32.979959, 32.98044699999999, 32.98210499999999, 32.98294099999999, 32.983356, 32.98460099999999, 32.98501999999999, 32.985041999999986, 32.98506299999999, 32.985099999999996, 32.98924399999999, 32.991146, 32.992605999999995, 32.99588399999999, 32.99839699999999, 33.00025999999999, 33.00031599999999, 33.001311, 33.001726999999995, 33.002158, 33.00234799999999, 33.002532999999985, 33.00327999999999, 33.004073999999996, 33.004477, 33.00488399999999, 33.005431, 33.005970999999995, 33.006268999999996, 33.006485999999995, 33.00653799999999, 33.006741999999996, 33.007093999999995, 33.00713799999999, 33.007198999999986, 33.00744799999999, 33.009427999999986, 33.009834999999995, 33.010094999999986, 33.010336999999986, 33.01051799999999, 33.01390899999999, 33.01469099999999, 33.01520899999999, 33.01540399999999, 33.01575199999999, 33.01610999999999], \"legendgroup\": \"slow\", \"line\": {\"color\": \"#00cc96\"}, \"lon\": [-117.251389, -117.25258500000001, -117.25267, -117.252765, -117.25322200000001, -117.253418, -117.254058, -117.254371, -117.254502, -117.254895, -117.255027, -117.25503100000002, -117.25503700000002, -117.25504800000002, -117.25573, -117.256019, -117.25622800000001, -117.256759, -117.257175, -117.257427, -117.257437, -117.25760300000002, -117.257672, -117.257759, -117.257796, -117.257838, -117.25808, -117.25842200000001, -117.258652, -117.25892100000002, -117.25934800000002, -117.259808, -117.260088, -117.260322, -117.260384, -117.26063200000002, -117.261055, -117.261106, -117.261178, -117.26146200000001, -117.263727, -117.264214, -117.264525, -117.264814, -117.265013, -117.268919, -117.2698, -117.270329, -117.27051900000001, -117.27083700000001, -117.271137], \"mode\": \"lines\", \"name\": \"slow\", \"showlegend\": false, \"subplot\": \"mapbox\", \"type\": \"scattermapbox\"}, {\"customdata\": [[39.23926149619253, 59.95288044286611], [39.2696371452029, 59.86068598101356], [39.299063047954874, 59.77137413560022], [39.32943684696459, 59.67918528876562], [39.4153260057381, 59.4184993436064], [39.427323623076894, 59.3820848500861], [39.4472901727114, 59.32148350135518], [39.46570972658471, 59.265577507171], [39.526504853924216, 59.0810555551821], [39.55118465708355, 59.006148804378995], [39.56546150689119, 58.96281651263058], [39.59341046257823, 58.87798741389996], [39.620555867992444, 58.79559720577374], [39.648067548120856, 58.71209530123063], [39.6765171111815, 58.62574678714882], [39.70592325893801, 58.46890188635335], [39.710291281668546, 58.4415333228788], [39.718814160334325, 58.38813182747918], [39.733462849842596, 58.296348058630365], [39.75999189230417, 58.13012598806912], [39.80273228766365, 57.86232902466384], [39.920920952168785, 57.121798545308366], [40.00439162171854, 56.598799362665794], [40.03372931956363, 56.414979200729114], [40.2508246621733, 55.05473269314974], [40.32896355030562, 54.565140662245454], [40.521298773132294, 53.69765762550364], [40.5456618575866, 53.75978078985498], [40.77379174901901, 54.34148672144538], [40.83540906864923, 54.498604055314], [40.87287028242742, 54.59412599732048], [40.9535049470419, 54.79973545254587], [40.98022325640659, 54.867864179307276], [41.00432100645954, 54.929310770351385], [41.02869692810628, 54.991466668120225], [41.060068548988106, 55.07146082336214], [41.10867720854599, 55.195407516248096], [41.19080403973482, 55.40482183080942], [41.24398019079894, 55.5404151206625], [41.403617442414834, 55.888896157605465], [41.456874505493985, 55.85713250169345], [41.770041390146794, 55.670353047626165], [42.105714039050945, 56.028830682979134], [42.20589408096211, 56.226155007955676], [42.4380087532637, 56.683350574610316], [42.506075148751336, 56.8174207475405], [42.646644484443016, 56.04432771268743], [42.93849665462517, 53.512713143185934], [42.94666889815053, 53.441824615060895], [42.94731454324685, 53.43622409294879], [43.11987674513423, 51.93936702256725], [43.42951422397441, 45.78729766666561]], \"hovertemplate\": \"speed_cat=slow<br>linegroup=34<br>latitude=%{lat}<br>longitude=%{lon}<br>abs_pm=%{customdata[0]}<br>avg_speed=%{customdata[1]}<extra></extra>\", \"lat\": [33.01902499999999, 33.019446999999985, 33.01986, 33.020289999999996, 33.021515, 33.021685999999995, 33.021971, 33.02223399999999, 33.023102, 33.023452999999996, 33.023655999999995, 33.024051, 33.024430999999986, 33.02481199999999, 33.025200999999996, 33.02559699999999, 33.025655, 33.02576799999999, 33.025961999999986, 33.026306999999996, 33.026859, 33.028338999999995, 33.02940499999999, 33.029778, 33.03251199999999, 33.033495, 33.035914999999996, 33.03622099999999, 33.039101999999986, 33.03987999999999, 33.040354, 33.04139299999999, 33.041738999999986, 33.04206299999999, 33.04239599999999, 33.04282899999999, 33.043510999999995, 33.044661999999995, 33.04540899999999, 33.047651, 33.048398999999996, 33.052787999999985, 33.057497999999995, 33.058906, 33.062159, 33.06311699999999, 33.065094, 33.06918499999999, 33.06929999999999, 33.06930899999999, 33.07173399999999, 33.07607699999999], \"legendgroup\": \"slow\", \"line\": {\"color\": \"#00cc96\"}, \"lon\": [-117.272818, -117.272965, -117.273089, -117.273198, -117.27345000000001, -117.273486, -117.273543, -117.273595, -117.273767, -117.273846, -117.273892, -117.27399600000001, -117.274115, -117.274253, -117.274414, -117.2746, -117.27463, -117.274689, -117.27479100000001, -117.274992, -117.275325, -117.276348, -117.277026, -117.277268, -117.279115, -117.279782, -117.281423, -117.28163200000002, -117.283556, -117.284076, -117.28439, -117.285024, -117.28523, -117.28538400000001, -117.285523, -117.285686, -117.285892, -117.286246, -117.286467, -117.287133, -117.287355, -117.28870500000001, -117.29012600000001, -117.29053900000001, -117.29154, -117.291814, -117.292387, -117.293642, -117.29367500000001, -117.293678, -117.294391, -117.29571], \"mode\": \"lines\", \"name\": \"slow\", \"showlegend\": false, \"subplot\": \"mapbox\", \"type\": \"scattermapbox\"}, {\"customdata\": [[44.151722627773495, 50.69689621716897], [44.22928938828065, 52.14492198646191], [44.286984468246686, 53.22198079368816], [44.29470292571333, 53.36606990141701], [44.347732451371776, 54.356031570368344], [44.39339247220846, 55.20841842223223], [44.5058211732998, 57.307251160946095], [44.506889760091916, 57.32719966983821], [44.51065733931101, 57.39753329936496], [44.51187372079906, 57.42024085771173], [44.51615328271123, 57.500132242753345], [44.529229270016124, 57.74423637257179], [44.53226096787207, 57.80083247883453], [44.53357044931147, 57.8252780384565], [44.71863345962713, 58.647974843873854], [44.748805956886414, 58.713745955065754], [44.83980220328518, 58.91210289544454], [44.867445561721716, 58.972360897486034], [45.14018181775302, 59.56688134660058], [45.2281688570458, 59.75867870745679], [45.237493758684685, 59.77900546852248], [45.440954893695896, 59.523698536264774], [45.51121887719442, 59.344992451066204], [45.846457799789285, 58.49236166527581], [45.866245643996066, 58.442034200241224], [45.892185913748044, 58.37605894769284], [46.00985454456515, 58.07678612942968], [46.04908897783044, 57.97699913152951], [46.09338337637439, 57.86434285777612], [46.108148769369706, 57.8267892570944], [46.13331564301553, 57.76278102354433], [46.17747155470849, 57.8710174190206], [46.41357816639982, 59.9447266810524], [46.68931961664934, 62.36654619390892]], \"hovertemplate\": \"speed_cat=slow<br>linegroup=36<br>latitude=%{lat}<br>longitude=%{lon}<br>abs_pm=%{customdata[0]}<br>avg_speed=%{customdata[1]}<extra></extra>\", \"lat\": [33.08600899999999, 33.086985999999996, 33.087721, 33.087818999999996, 33.08849399999999, 33.08908199999999, 33.09049699999999, 33.09051, 33.09055699999999, 33.090572, 33.09062699999999, 33.090794999999986, 33.090834, 33.090851, 33.093215, 33.093599999999995, 33.094757, 33.095109, 33.09856899999999, 33.099690999999986, 33.09980999999999, 33.10239299999999, 33.103284999999985, 33.107552999999996, 33.107801, 33.108133999999986, 33.109647999999986, 33.11015299999999, 33.11072899999999, 33.110922999999985, 33.111246, 33.11181299999999, 33.114868, 33.118439999999985], \"legendgroup\": \"slow\", \"line\": {\"color\": \"#00cc96\"}, \"lon\": [-117.299411, -117.30007100000002, -117.300544, -117.300608, -117.301044, -117.301404, -117.302363, -117.302373, -117.302406, -117.302417, -117.302451, -117.302555, -117.30257900000001, -117.302589, -117.304092, -117.30433800000002, -117.305089, -117.305316, -117.307584, -117.308303, -117.308379, -117.310067, -117.31065000000001, -117.313405, -117.313576, -117.31378300000002, -117.314714, -117.31502400000001, -117.31536, -117.31546700000001, -117.315668, -117.31602, -117.317848, -117.319973], \"mode\": \"lines\", \"name\": \"slow\", \"showlegend\": false, \"subplot\": \"mapbox\", \"type\": \"scattermapbox\"}, {\"customdata\": [[47.806919378663906, 59.69448291338028], [47.931188091247115, 59.78522474766043], [48.01811495356723, 59.93404894774156], [48.08248201985818, 60.04424937251985]], \"hovertemplate\": \"speed_cat=slow<br>linegroup=38<br>latitude=%{lat}<br>longitude=%{lon}<br>abs_pm=%{customdata[0]}<br>avg_speed=%{customdata[1]}<extra></extra>\", \"lat\": [33.13288399999999, 33.134534999999985, 33.13568399999999, 33.13653999999999], \"legendgroup\": \"slow\", \"line\": {\"color\": \"#00cc96\"}, \"lon\": [-117.328666, -117.32951800000001, -117.33013, -117.330569], \"mode\": \"lines\", \"name\": \"slow\", \"showlegend\": false, \"subplot\": \"mapbox\", \"type\": \"scattermapbox\"}, {\"customdata\": [[50.914586284186804, 59.82730972650556], [50.938224778683534, 59.63820177053172], [50.94015681260502, 59.62274549915985], [50.94597750200512, 59.57617998395902], [50.94677829503684, 59.56977363970525], [50.947994358210174, 59.5600451343186], [50.98063746032838, 59.29890031737294], [51.03387289002781, 58.87301687977752], [51.14909973127023, 57.951202149838124], [51.167878002369086, 57.8009759810473], [51.21651828511653, 57.411853719067764], [51.219249489728526, 57.390004082171785], [51.23646820788853, 57.25225433689177], [51.238815936175946, 57.23347251059242], [51.24603088152133, 57.175752947829366], [51.24843586281634, 57.156513097469244], [51.25858878636219, 57.07528970910248], [51.28806564665932, 56.839474826725436], [51.41476016862362, 56.49966659332302], [51.59876789939021, 56.045793465019], [51.71571529343059, 55.75733123922567], [51.76174944988984, 55.64378347406411], [51.768574648454056, 55.62694845191188], [51.789345225769885, 55.575715784329155], [51.79625983426554, 55.55866022380545], [51.95421318828649, 55.169052772982965], [52.02409087062236, 54.996692611003425], [52.04177154531647, 54.95308149151127], [52.07613074081416, 54.86833116345942], [52.127437731725244, 54.74177743459343], [52.15322377760776, 54.67817362152249], [52.2216909709131, 54.50929256917631], [52.231091013582706, 54.48610644131706], [52.25700010690219, 54.42219911966571], [52.25920131331919, 54.416769627989666], [52.265816736466675, 54.400452037492265], [52.26807468285662, 54.41604855572948], [52.27143311590271, 54.44202746606357], [52.42544265865182, 55.633356888674385], [52.56351117836657, 56.70137570709565], [52.59850706123594, 56.972083769650226], [52.647271718278745, 57.349299166057556], [52.783932534273276, 58.40642879650853], [52.84778372432256, 58.90034495271936], [52.88408335039349, 59.18113802434425], [52.89578849381425, 59.27168229519992], [52.89976667633305, 59.302455231724274], [52.905422833916255, 59.34620802020421], [52.92351569418172, 59.4861640020783], [52.930993340313535, 59.54400678045222], [52.93693697360935, 59.58998331603644], [52.95607836267683, 59.73805011487679], [52.97409735255205, 59.877434677812936], [52.97711783355186, 59.90079938509845], [52.990394424106626, 60.00349946898622]], \"hovertemplate\": \"speed_cat=slow<br>linegroup=40<br>latitude=%{lat}<br>longitude=%{lon}<br>abs_pm=%{customdata[0]}<br>avg_speed=%{customdata[1]}<extra></extra>\", \"lat\": [33.174058999999986, 33.174351, 33.174374, 33.174444, 33.17445399999999, 33.174469, 33.174866, 33.175513999999986, 33.176916, 33.177137, 33.177728, 33.17776099999999, 33.17796899999999, 33.17799699999999, 33.17808399999999, 33.178112999999996, 33.178232, 33.178584, 33.180098, 33.18226899999999, 33.18365899999999, 33.18421699999999, 33.1843, 33.184553, 33.184636999999995, 33.186506, 33.187331, 33.187542, 33.18795099999999, 33.188560999999986, 33.18886599999999, 33.18967899999999, 33.189789999999995, 33.19009599999999, 33.190121999999995, 33.190198999999986, 33.190225999999996, 33.190266, 33.192116999999996, 33.19376299999999, 33.194178, 33.19475599999999, 33.19636599999999, 33.197144, 33.19755899999999, 33.197699, 33.197746999999985, 33.197811, 33.198011, 33.19809399999999, 33.198157, 33.19836099999999, 33.198548999999986, 33.198578999999995, 33.19870999999999], \"legendgroup\": \"slow\", \"line\": {\"color\": \"#00cc96\"}, \"lon\": [-117.34923900000001, -117.349452, -117.349471, -117.349527, -117.349534, -117.349545, -117.349851, -117.350349, -117.351428, -117.351617, -117.352074, -117.3521, -117.352264, -117.352287, -117.352356, -117.352379, -117.352482, -117.35276999999999, -117.354006, -117.355849, -117.357003, -117.35743800000002, -117.357502, -117.357696, -117.357761, -117.359334, -117.360033, -117.360206, -117.360544, -117.36105, -117.361307, -117.361984, -117.362078, -117.362337, -117.362359, -117.362427, -117.362449, -117.362482, -117.363966, -117.36532, -117.365667, -117.366151, -117.367524, -117.36812000000002, -117.36850500000001, -117.368619, -117.368657, -117.368718, -117.36892000000002, -117.369003, -117.369073, -117.369297, -117.369513, -117.369551, -117.369719], \"mode\": \"lines\", \"name\": \"slow\", \"showlegend\": false, \"subplot\": \"mapbox\", \"type\": \"scattermapbox\"}, {\"customdata\": [[10.800499245048512, 49.87526593036158], [10.810214070618725, 49.821859821205955], [10.822888496885843, 49.75218365586316], [10.839142819766288, 49.662827430604175], [10.87655787933105, 49.45714254818009], [10.882736475686366, 49.42317644256186], [10.902158732364402, 49.31640487443653], [10.982138061512677, 48.876727934092614], [11.015264414044944, 48.69461971336549], [11.060189496583426, 48.44764936433195], [11.079928232755762, 48.33913798746833], [11.09651986351487, 48.24792745188161], [11.108148001088288, 48.18400313537852], [11.128041735617055, 48.074639673309385], [11.151348842247389, 47.94651160021069], [11.171925856174237, 47.83339189014163], [11.190857516319308, 47.25691386293073], [11.195556222296862, 47.058446132834085], [11.238449525836955, 45.246684207185346], [11.252657677314449, 44.646548853733], [11.266293286446643, 44.07059700531345], [11.293700892690827, 42.91293244305912], [11.321304740741736, 41.7469788612073], [11.34797285715052, 40.62054946662733], [11.356189038556245, 40.27350777441536], [11.404637326067403, 38.22710995864553], [11.520195744334362, 33.3460603512501], [11.579447621039233, 30.84333182774588], [11.58707531849825, 30.521146994775425], [11.61021894926075, 29.543587665553442], [11.61797696057365, 29.21589853099364], [11.701698100977069, 25.679617525893992], [11.761874379015028, 23.137843393842882], [11.805675694171049, 21.28772814173037], [11.85316474731465, 19.963852777693088], [11.880162817179288, 22.388585090064314], [11.913640426887808, 25.395253433697413], [11.947807195602257, 28.463816057863063], [11.976244104200571, 31.01777237725883], [12.071254751911944, 39.55080413397839], [12.199342406098701, 44.30619496870928], [12.23876481508144, 44.76560571905931], [12.286950549442421, 45.32714026121877], [12.33878408539512, 45.93118461720299], [12.340385731216621, 45.94984946614645], [12.343633574041439, 45.98769834316008], [12.38122798319978, 46.42580641839115], [12.394666990979916, 46.582418477561234], [12.435559341176695, 47.05895925150795], [12.449352979091987, 47.21970400831608], [12.466895408306515, 47.42413546687908], [12.546703703932103, 48.35418489621664], [12.552488154629364, 48.421594242924876], [12.55500284989448, 48.450899353101036], [12.56084043238359, 48.51892787344656], [12.568048445489723, 48.602926766336935], [12.57045111581619, 48.63092638903908], [12.575308991686555, 48.68753785587482], [12.598350681611835, 48.95605518728754], [12.618628433526393, 49.19236284739419], [12.63872898358258, 49.42660547797023], [12.64668255770804, 49.519292798487406], [12.659395095545992, 49.66743890872496], [12.693913663777902, 50.06970253851414]], \"hovertemplate\": \"speed_cat=very slow<br>linegroup=7<br>latitude=%{lat}<br>longitude=%{lon}<br>abs_pm=%{customdata[0]}<br>avg_speed=%{customdata[1]}<extra></extra>\", \"lat\": [32.67147599999999, 32.67161399999999, 32.67179399999999, 32.672022999999996, 32.672536, 32.67262099999999, 32.67288299999999, 32.67396099999999, 32.674406999999995, 32.675011999999995, 32.675284999999995, 32.67551499999999, 32.67567499999999, 32.675958, 32.676293, 32.676588999999986, 32.67686299999999, 32.676930999999996, 32.67754899999999, 32.67775199999999, 32.67794299999999, 32.678325, 32.678706999999996, 32.679073999999986, 32.67918699999999, 32.67985399999999, 32.681443, 32.68225799999999, 32.68236199999999, 32.682677999999996, 32.68278399999999, 32.68394299999999, 32.68476499999999, 32.68534199999999, 32.68595599999999, 32.686292, 32.686682999999995, 32.687058, 32.687353, 32.688304999999986, 32.68949899999999, 32.689859999999996, 32.690303, 32.69077999999999, 32.690795, 32.69082499999999, 32.69117299999999, 32.69129499999999, 32.691667999999986, 32.691794, 32.691964999999996, 32.69273599999999, 32.692790999999986, 32.692817999999995, 32.69287599999999, 32.692941999999995, 32.692963999999996, 32.69300599999999, 32.693197999999995, 32.693360999999996, 32.69350699999999, 32.69356799999999, 32.69365599999999, 32.69385599999999], \"legendgroup\": \"very slow\", \"line\": {\"color\": \"#ab63fa\"}, \"lon\": [-117.111302, -117.11127, -117.11122800000001, -117.111164, -117.110958, -117.110925, -117.11080400000002, -117.11030300000002, -117.110094, -117.10981100000001, -117.109711, -117.109629, -117.10956700000001, -117.10950400000002, -117.109457, -117.109418, -117.109419, -117.109418, -117.109488, -117.109527, -117.10958600000001, -117.109713, -117.109852, -117.10999400000001, -117.110038, -117.11029500000001, -117.110915, -117.11123200000002, -117.11127600000002, -117.111408, -117.111452, -117.111872, -117.112214, -117.11252600000002, -117.112893, -117.11313, -117.11346999999999, -117.113853, -117.114194, -117.115373, -117.117058, -117.117583, -117.118223, -117.11891100000001, -117.11893200000002, -117.118975, -117.119472, -117.119652, -117.120198, -117.120382, -117.12060500000001, -117.121627, -117.121702, -117.121731, -117.121804, -117.1219, -117.12193200000002, -117.12199900000002, -117.12232300000001, -117.122613, -117.122912, -117.123028, -117.12322000000002, -117.123764], \"mode\": \"lines\", \"name\": \"very slow\", \"showlegend\": true, \"subplot\": \"mapbox\", \"type\": \"scattermapbox\"}, {\"customdata\": [[12.758073100671611, 49.821360926819274], [12.764178954563842, 49.28877002162099], [12.782586220556142, 47.683172732511615], [12.788800636541175, 47.1411123600945], [12.811485655994982, 45.162382561021595], [12.827830257538352, 43.736703813260505], [12.843227922243265, 42.39362284082463], [12.86405821143819, 40.57667425776373], [12.898487826765132, 37.57350708143554], [13.007594367509139, 28.056549695370762], [13.055812085055553, 29.32141548557124], [13.118861179250299, 34.02307650980799], [13.153350410327215, 36.59498774154377], [13.174811622731958, 38.195381009440325], [13.195061625758074, 39.70545266367349], [13.214408576382542, 41.148182410241006], [13.226379651524818, 42.04088258513641], [13.245477575324557, 43.46504204563125], [13.27747987658255, 45.85149936801302], [13.29190219256981, 46.926992074491494], [13.329435544726271, 49.72590776387338], [13.371395932249307, 52.854953804876885]], \"hovertemplate\": \"speed_cat=very slow<br>linegroup=9<br>latitude=%{lat}<br>longitude=%{lon}<br>abs_pm=%{customdata[0]}<br>avg_speed=%{customdata[1]}<extra></extra>\", \"lat\": [32.694169999999986, 32.69419099999999, 32.694255999999996, 32.69427999999999, 32.694338, 32.69437299999999, 32.69439899999999, 32.69440999999999, 32.6944, 32.694366999999986, 32.69435, 32.69432799999999, 32.69433899999999, 32.694372, 32.694411999999986, 32.69447199999999, 32.69453, 32.69462599999999, 32.694814, 32.694911999999995, 32.69523499999999, 32.69561699999999], \"legendgroup\": \"very slow\", \"line\": {\"color\": \"#ab63fa\"}, \"lon\": [-117.124801, -117.12490300000002, -117.12521, -117.125313, -117.125697, -117.125975, -117.12623800000001, -117.126596, -117.127188, -117.129064, -117.129893, -117.13097700000002, -117.13157, -117.131937, -117.13228200000002, -117.13260700000001, -117.132801, -117.133109, -117.133612, -117.13383100000001, -117.13435000000001, -117.134911], \"mode\": \"lines\", \"name\": \"very slow\", \"showlegend\": false, \"subplot\": \"mapbox\", \"type\": \"scattermapbox\"}, {\"customdata\": [[43.42951422397441, 45.78729766666561], [43.72020697716246, 42.641309289823255], [43.86369304812305, 45.31992480666386], [43.91955590998457, 46.362779542288315], [43.99305342671877, 47.7348401712783], [43.99926019516172, 47.85070888347749], [44.00854772413881, 48.02408961001487], [44.03487319550316, 48.51553672827952], [44.07135056799191, 49.196500778014865], [44.09038171581953, 49.551776572613555], [44.11193599423333, 49.95415447749991], [44.151722627773495, 50.69689621716897]], \"hovertemplate\": \"speed_cat=very slow<br>linegroup=35<br>latitude=%{lat}<br>longitude=%{lon}<br>abs_pm=%{customdata[0]}<br>avg_speed=%{customdata[1]}<extra></extra>\", \"lat\": [33.07607699999999, 33.08015199999999, 33.082169, 33.08294899999999, 33.083971999999996, 33.08405599999999, 33.084181, 33.084524, 33.084994, 33.085236, 33.08550999999999, 33.08600899999999], \"legendgroup\": \"very slow\", \"line\": {\"color\": \"#ab63fa\"}, \"lon\": [-117.29571, -117.296959, -117.297549, -117.29780300000002, -117.298151, -117.298189, -117.29824800000002, -117.298446, -117.298733, -117.29889, -117.299068, -117.299411], \"mode\": \"lines\", \"name\": \"very slow\", \"showlegend\": false, \"subplot\": \"mapbox\", \"type\": \"scattermapbox\"}, {\"customdata\": [[\"ML\", 5, \"S\", 0.221, 406.0, 68.5], [\"ML\", 5, \"S\", 1.14, 169.0, 66.7], [\"ML\", 5, \"S\", 2.186, 211.0, 69.0], [\"ML\", 5, \"S\", 2.559, 304.0, 66.4], [\"ML\", 5, \"S\", 3.336, 281.0, 67.7], [\"ML\", 5, \"S\", 4.003, 423.0, 67.0], [\"ML\", 5, \"S\", 4.578, 394.0, 64.5], [\"ML\", 5, \"S\", 5.324, 8.0, 63.7], [\"ML\", 5, \"S\", 5.324, 451.0, 57.5], [\"ML\", 5, \"S\", 6.627, 362.0, 60.6], [\"ML\", 5, \"S\", 7.201, 597.0, 59.2], [\"ML\", 5, \"S\", 7.819, 576.0, 59.8], [\"ML\", 5, \"S\", 9.898, 570.0, 60.7], [\"ML\", 5, \"S\", 10.796, 715.0, 49.9], [\"ML\", 5, \"S\", 11.178, 631.0, 47.8], [\"ML\", 5, \"S\", 11.848, 651.0, 19.5], [\"ML\", 5, \"S\", 12.113, 479.0, 43.3], [\"ML\", 5, \"S\", 12.748, 457.0, 50.7], [\"ML\", 5, \"S\", 13.022, 558.0, 26.8], [\"ML\", 5, \"S\", 13.372, 488.0, 52.9], [\"ML\", 5, \"S\", 14.416, 361.0, 60.7], [\"ML\", 5, \"S\", 14.856, 498.0, 59.6], [\"ML\", 5, \"S\", 15.23, 361.0, 59.5], [\"ML\", 5, \"S\", 15.698, 586.0, 63.8], [\"ML\", 5, \"S\", 16.001, 592.0, 59.3], [\"ML\", 5, \"S\", 16.666, 474.0, 62.1], [\"ML\", 5, \"S\", 17.23, 510.0, 65.2], [\"ML\", 5, \"S\", 17.232, 458.0, 62.2], [\"ML\", 5, \"S\", 17.572, 389.0, 59.1], [\"ML\", 5, \"S\", 18.05, 343.0, 64.6], [\"ML\", 5, \"S\", 18.346, 381.0, 67.5], [\"ML\", 5, \"S\", 18.822, 395.0, 68.3], [\"ML\", 5, \"S\", 19.156, 446.0, 67.8], [\"ML\", 5, \"S\", 20.611, 520.0, 64.8], [\"ML\", 5, \"S\", 21.366, 592.0, 63.6], [\"ML\", 5, \"S\", 21.973, 585.0, 65.4], [\"ML\", 5, \"S\", 22.85, 473.0, 60.8], [\"ML\", 5, \"S\", 23.466, 424.0, 65.5], [\"ML\", 5, \"S\", 24.118, 263.0, 67.4], [\"ML\", 5, \"S\", 25.739, 436.0, 65.8], [\"ML\", 5, \"S\", 26.201, 418.0, 67.1], [\"ML\", 5, \"S\", 26.621, 402.0, 62.0], [\"ML\", 5, \"S\", 27.794, 410.0, 63.5], [\"ML\", 5, \"S\", 28.355, 324.0, 66.8], [\"ML\", 5, \"S\", 30.891, 188.0, 67.1], [\"ML\", 5, \"S\", 31.136, 610.0, 62.8], [\"ML\", 5, \"S\", 31.517, 205.0, 67.0], [\"ML\", 5, \"S\", 31.773, 433.0, 60.8], [\"ML\", 5, \"S\", 31.775, 206.0, 62.4], [\"ML\", 5, \"S\", 32.324, 473.0, 60.7], [\"ML\", 5, \"S\", 32.663, 518.0, 60.6], [\"ML\", 5, \"S\", 33.539, 520.0, 61.4], [\"ML\", 5, \"S\", 34.169, 592.0, 59.8], [\"ML\", 5, \"S\", 35.108, 480.0, 62.1], [\"ML\", 5, \"S\", 36.136, 581.0, 58.9], [\"ML\", 5, \"S\", 37.255, 573.0, 54.4], [\"ML\", 5, \"S\", 38.44, 428.0, 55.7], [\"ML\", 5, \"S\", 39.059, 559.0, 60.5], [\"ML\", 5, \"S\", 39.685, 609.0, 58.6], [\"ML\", 5, \"S\", 40.483, 508.0, 53.6], [\"ML\", 5, \"S\", 41.385, 429.0, 55.9], [\"ML\", 5, \"S\", 41.888, 560.0, 55.6], [\"ML\", 5, \"S\", 42.548, 600.0, 56.9], [\"ML\", 5, \"S\", 43.159, 464.0, 51.6], [\"ML\", 5, \"S\", 43.643, 744.0, 41.2], [\"ML\", 5, \"S\", 44.559, 278.0, 58.3], [\"ML\", 5, \"S\", 45.293, 523.0, 59.9], [\"ML\", 5, \"S\", 46.158, 472.0, 57.7], [\"ML\", 5, \"S\", 46.955, 348.0, 64.7], [\"ML\", 5, \"S\", 47.823, 399.0, 59.6], [\"ML\", 5, \"S\", 49.108, 438.0, 61.8], [\"ML\", 5, \"S\", 49.948, 445.0, 61.4], [\"ML\", 5, \"S\", 50.568, 516.0, 62.6], [\"ML\", 5, \"S\", 51.293, 503.0, 56.8], [\"ML\", 5, \"S\", 52.266, 377.0, 54.4], [\"ML\", 5, \"S\", 53.158, 441.0, 61.3], [\"ML\", 5, \"S\", 54.292, 307.0, 61.9], [\"ML\", 5, \"S\", 54.858, 316.0, 66.6], [\"ML\", 5, \"S\", 55.858, 250.0, 64.0], [\"ML\", 5, \"S\", 56.858, 363.0, 67.3], [\"ML\", 5, \"S\", 58.329, 291.0, 70.3], [\"ML\", 5, \"S\", 60.429, 296.0, 63.9], [\"ML\", 5, \"S\", 62.419, 396.0, 63.4], [\"ML\", 5, \"S\", 65.448, 332.0, 65.0], [\"ML\", 5, \"S\", 70.878, 374.0, 63.7]], \"hovertemplate\": \"stype=%{customdata[0]}<br>latitude=%{lat}<br>longitude=%{lon}<br>fwy=%{customdata[1]}<br>direc=%{customdata[2]}<br>abs_pm=%{customdata[3]}<br>total_flow=%{customdata[4]}<br>avg_speed=%{customdata[5]}<extra></extra>\", \"lat\": [32.544296, 32.551447, 32.558188, 32.561106, 32.568952, 32.576983, 32.584271, 32.59507, 32.59507, 32.613849, 32.621946, 32.630458, 32.658893, 32.671761, 32.67696, 32.686001, 32.688779, 32.694108, 32.694358, 32.69574, 32.7062, 32.712581, 32.718001, 32.723795, 32.723898, 32.725281, 32.731834, 32.731858, 32.735815, 32.741281, 32.743425, 32.746784, 32.749919, 32.768531, 32.779286, 32.788012, 32.800051, 32.807702, 32.815542, 32.836089, 32.842472, 32.848532, 32.864527, 32.87259, 32.908625, 32.911761, 32.91625, 32.918796, 32.918817, 32.925907, 32.930855, 32.943442, 32.952468, 32.96573, 32.979936, 32.995868, 33.010653, 33.017512, 33.02625, 33.036347, 33.048438, 33.055523, 33.064772, 33.073371, 33.080188, 33.092248, 33.101626, 33.112683, 33.122973, 33.134215, 33.151704, 33.162818, 33.17092, 33.179734, 33.191277, 33.200618, 33.210909, 33.218567, 33.230196, 33.240152, 33.257953, 33.28144, 33.303834, 33.336526, 33.383349], \"legendgroup\": \"ML\", \"lon\": [-117.032738, -117.045806, -117.061806, -117.067228, -117.076731, -117.083123, -117.087551, -117.088901, -117.088901, -117.091173, -117.093171, -117.096492, -117.107675, -117.111234, -117.109463, -117.113072, -117.116159, -117.124841, -117.129467, -117.135196, -117.147722, -117.147751, -117.147844, -117.151061, -117.156068, -117.166084, -117.171905, -117.171925, -117.175452, -117.180454, -117.1848, -117.191904, -117.196234, -117.206423, -117.2086, -117.207155, -117.211487, -117.216754, -117.222956, -117.234107, -117.23661, -117.235725, -117.230028, -117.229295, -117.22684, -117.228812, -117.232541, -117.235719, -117.235742, -117.239661, -117.241058, -117.242594, -117.244298, -117.247857, -117.253246, -117.256708, -117.26524, -117.272059, -117.274915, -117.281649, -117.287351, -117.289401, -117.292309, -117.294873, -117.296877, -117.303383, -117.309439, -117.316473, -117.322702, -117.329382, -117.336331, -117.342266, -117.346811, -117.353651, -117.363281, -117.373434, -117.387715, -117.391109, -117.400904, -117.413376, -117.426547, -117.449446, -117.470867, -117.503236, -117.578043], \"marker\": {\"color\": \"white\", \"opacity\": 0.35}, \"mode\": \"markers\", \"name\": \"ML\", \"showlegend\": true, \"subplot\": \"mapbox\", \"type\": \"scattermapbox\"}],                        {\"legend\": {\"title\": {\"text\": \"speed_cat\"}, \"tracegroupgap\": 0}, \"mapbox\": {\"center\": {\"lat\": 32.89869737135604, \"lon\": -117.23873264448672}, \"domain\": {\"x\": [0.0, 1.0], \"y\": [0.0, 1.0]}, \"style\": \"carto-darkmatter\", \"zoom\": 8}, \"margin\": {\"t\": 60}, \"template\": {\"data\": {\"bar\": [{\"error_x\": {\"color\": \"#f2f5fa\"}, \"error_y\": {\"color\": \"#f2f5fa\"}, \"marker\": {\"line\": {\"color\": \"rgb(17,17,17)\", \"width\": 0.5}}, \"type\": \"bar\"}], \"barpolar\": [{\"marker\": {\"line\": {\"color\": \"rgb(17,17,17)\", \"width\": 0.5}}, \"type\": \"barpolar\"}], \"carpet\": [{\"aaxis\": {\"endlinecolor\": \"#A2B1C6\", \"gridcolor\": \"#506784\", \"linecolor\": \"#506784\", \"minorgridcolor\": \"#506784\", \"startlinecolor\": \"#A2B1C6\"}, \"baxis\": {\"endlinecolor\": \"#A2B1C6\", \"gridcolor\": \"#506784\", \"linecolor\": \"#506784\", \"minorgridcolor\": \"#506784\", \"startlinecolor\": \"#A2B1C6\"}, \"type\": \"carpet\"}], \"choropleth\": [{\"colorbar\": {\"outlinewidth\": 0, \"ticks\": \"\"}, \"type\": \"choropleth\"}], \"contour\": [{\"colorbar\": {\"outlinewidth\": 0, \"ticks\": \"\"}, \"colorscale\": [[0.0, \"#0d0887\"], [0.1111111111111111, \"#46039f\"], [0.2222222222222222, \"#7201a8\"], [0.3333333333333333, \"#9c179e\"], [0.4444444444444444, \"#bd3786\"], [0.5555555555555556, \"#d8576b\"], [0.6666666666666666, \"#ed7953\"], [0.7777777777777778, \"#fb9f3a\"], [0.8888888888888888, \"#fdca26\"], [1.0, \"#f0f921\"]], \"type\": \"contour\"}], \"contourcarpet\": [{\"colorbar\": {\"outlinewidth\": 0, \"ticks\": \"\"}, \"type\": \"contourcarpet\"}], \"heatmap\": [{\"colorbar\": {\"outlinewidth\": 0, \"ticks\": \"\"}, \"colorscale\": [[0.0, \"#0d0887\"], [0.1111111111111111, \"#46039f\"], [0.2222222222222222, \"#7201a8\"], [0.3333333333333333, \"#9c179e\"], [0.4444444444444444, \"#bd3786\"], [0.5555555555555556, \"#d8576b\"], [0.6666666666666666, \"#ed7953\"], [0.7777777777777778, \"#fb9f3a\"], [0.8888888888888888, \"#fdca26\"], [1.0, \"#f0f921\"]], \"type\": \"heatmap\"}], \"heatmapgl\": [{\"colorbar\": {\"outlinewidth\": 0, \"ticks\": \"\"}, \"colorscale\": [[0.0, \"#0d0887\"], [0.1111111111111111, \"#46039f\"], [0.2222222222222222, \"#7201a8\"], [0.3333333333333333, \"#9c179e\"], [0.4444444444444444, \"#bd3786\"], [0.5555555555555556, \"#d8576b\"], [0.6666666666666666, \"#ed7953\"], [0.7777777777777778, \"#fb9f3a\"], [0.8888888888888888, \"#fdca26\"], [1.0, \"#f0f921\"]], \"type\": \"heatmapgl\"}], \"histogram\": [{\"marker\": {\"colorbar\": {\"outlinewidth\": 0, \"ticks\": \"\"}}, \"type\": \"histogram\"}], \"histogram2d\": [{\"colorbar\": {\"outlinewidth\": 0, \"ticks\": \"\"}, \"colorscale\": [[0.0, \"#0d0887\"], [0.1111111111111111, \"#46039f\"], [0.2222222222222222, \"#7201a8\"], [0.3333333333333333, \"#9c179e\"], [0.4444444444444444, \"#bd3786\"], [0.5555555555555556, \"#d8576b\"], [0.6666666666666666, \"#ed7953\"], [0.7777777777777778, \"#fb9f3a\"], [0.8888888888888888, \"#fdca26\"], [1.0, \"#f0f921\"]], \"type\": \"histogram2d\"}], \"histogram2dcontour\": [{\"colorbar\": {\"outlinewidth\": 0, \"ticks\": \"\"}, \"colorscale\": [[0.0, \"#0d0887\"], [0.1111111111111111, \"#46039f\"], [0.2222222222222222, \"#7201a8\"], [0.3333333333333333, \"#9c179e\"], [0.4444444444444444, \"#bd3786\"], [0.5555555555555556, \"#d8576b\"], [0.6666666666666666, \"#ed7953\"], [0.7777777777777778, \"#fb9f3a\"], [0.8888888888888888, \"#fdca26\"], [1.0, \"#f0f921\"]], \"type\": \"histogram2dcontour\"}], \"mesh3d\": [{\"colorbar\": {\"outlinewidth\": 0, \"ticks\": \"\"}, \"type\": \"mesh3d\"}], \"parcoords\": [{\"line\": {\"colorbar\": {\"outlinewidth\": 0, \"ticks\": \"\"}}, \"type\": \"parcoords\"}], \"pie\": [{\"automargin\": true, \"type\": \"pie\"}], \"scatter\": [{\"marker\": {\"line\": {\"color\": \"#283442\"}}, \"type\": \"scatter\"}], \"scatter3d\": [{\"line\": {\"colorbar\": {\"outlinewidth\": 0, \"ticks\": \"\"}}, \"marker\": {\"colorbar\": {\"outlinewidth\": 0, \"ticks\": \"\"}}, \"type\": \"scatter3d\"}], \"scattercarpet\": [{\"marker\": {\"colorbar\": {\"outlinewidth\": 0, \"ticks\": \"\"}}, \"type\": \"scattercarpet\"}], \"scattergeo\": [{\"marker\": {\"colorbar\": {\"outlinewidth\": 0, \"ticks\": \"\"}}, \"type\": \"scattergeo\"}], \"scattergl\": [{\"marker\": {\"line\": {\"color\": \"#283442\"}}, \"type\": \"scattergl\"}], \"scattermapbox\": [{\"marker\": {\"colorbar\": {\"outlinewidth\": 0, \"ticks\": \"\"}}, \"type\": \"scattermapbox\"}], \"scatterpolar\": [{\"marker\": {\"colorbar\": {\"outlinewidth\": 0, \"ticks\": \"\"}}, \"type\": \"scatterpolar\"}], \"scatterpolargl\": [{\"marker\": {\"colorbar\": {\"outlinewidth\": 0, \"ticks\": \"\"}}, \"type\": \"scatterpolargl\"}], \"scatterternary\": [{\"marker\": {\"colorbar\": {\"outlinewidth\": 0, \"ticks\": \"\"}}, \"type\": \"scatterternary\"}], \"surface\": [{\"colorbar\": {\"outlinewidth\": 0, \"ticks\": \"\"}, \"colorscale\": [[0.0, \"#0d0887\"], [0.1111111111111111, \"#46039f\"], [0.2222222222222222, \"#7201a8\"], [0.3333333333333333, \"#9c179e\"], [0.4444444444444444, \"#bd3786\"], [0.5555555555555556, \"#d8576b\"], [0.6666666666666666, \"#ed7953\"], [0.7777777777777778, \"#fb9f3a\"], [0.8888888888888888, \"#fdca26\"], [1.0, \"#f0f921\"]], \"type\": \"surface\"}], \"table\": [{\"cells\": {\"fill\": {\"color\": \"#506784\"}, \"line\": {\"color\": \"rgb(17,17,17)\"}}, \"header\": {\"fill\": {\"color\": \"#2a3f5f\"}, \"line\": {\"color\": \"rgb(17,17,17)\"}}, \"type\": \"table\"}]}, \"layout\": {\"annotationdefaults\": {\"arrowcolor\": \"#f2f5fa\", \"arrowhead\": 0, \"arrowwidth\": 1}, \"autotypenumbers\": \"strict\", \"coloraxis\": {\"colorbar\": {\"outlinewidth\": 0, \"ticks\": \"\"}}, \"colorscale\": {\"diverging\": [[0, \"#8e0152\"], [0.1, \"#c51b7d\"], [0.2, \"#de77ae\"], [0.3, \"#f1b6da\"], [0.4, \"#fde0ef\"], [0.5, \"#f7f7f7\"], [0.6, \"#e6f5d0\"], [0.7, \"#b8e186\"], [0.8, \"#7fbc41\"], [0.9, \"#4d9221\"], [1, \"#276419\"]], \"sequential\": [[0.0, \"#0d0887\"], [0.1111111111111111, \"#46039f\"], [0.2222222222222222, \"#7201a8\"], [0.3333333333333333, \"#9c179e\"], [0.4444444444444444, \"#bd3786\"], [0.5555555555555556, \"#d8576b\"], [0.6666666666666666, \"#ed7953\"], [0.7777777777777778, \"#fb9f3a\"], [0.8888888888888888, \"#fdca26\"], [1.0, \"#f0f921\"]], \"sequentialminus\": [[0.0, \"#0d0887\"], [0.1111111111111111, \"#46039f\"], [0.2222222222222222, \"#7201a8\"], [0.3333333333333333, \"#9c179e\"], [0.4444444444444444, \"#bd3786\"], [0.5555555555555556, \"#d8576b\"], [0.6666666666666666, \"#ed7953\"], [0.7777777777777778, \"#fb9f3a\"], [0.8888888888888888, \"#fdca26\"], [1.0, \"#f0f921\"]]}, \"colorway\": [\"#636efa\", \"#EF553B\", \"#00cc96\", \"#ab63fa\", \"#FFA15A\", \"#19d3f3\", \"#FF6692\", \"#B6E880\", \"#FF97FF\", \"#FECB52\"], \"font\": {\"color\": \"#f2f5fa\"}, \"geo\": {\"bgcolor\": \"rgb(17,17,17)\", \"lakecolor\": \"rgb(17,17,17)\", \"landcolor\": \"rgb(17,17,17)\", \"showlakes\": true, \"showland\": true, \"subunitcolor\": \"#506784\"}, \"hoverlabel\": {\"align\": \"left\"}, \"hovermode\": \"closest\", \"mapbox\": {\"style\": \"dark\"}, \"paper_bgcolor\": \"rgb(17,17,17)\", \"plot_bgcolor\": \"rgb(17,17,17)\", \"polar\": {\"angularaxis\": {\"gridcolor\": \"#506784\", \"linecolor\": \"#506784\", \"ticks\": \"\"}, \"bgcolor\": \"rgb(17,17,17)\", \"radialaxis\": {\"gridcolor\": \"#506784\", \"linecolor\": \"#506784\", \"ticks\": \"\"}}, \"scene\": {\"xaxis\": {\"backgroundcolor\": \"rgb(17,17,17)\", \"gridcolor\": \"#506784\", \"gridwidth\": 2, \"linecolor\": \"#506784\", \"showbackground\": true, \"ticks\": \"\", \"zerolinecolor\": \"#C8D4E3\"}, \"yaxis\": {\"backgroundcolor\": \"rgb(17,17,17)\", \"gridcolor\": \"#506784\", \"gridwidth\": 2, \"linecolor\": \"#506784\", \"showbackground\": true, \"ticks\": \"\", \"zerolinecolor\": \"#C8D4E3\"}, \"zaxis\": {\"backgroundcolor\": \"rgb(17,17,17)\", \"gridcolor\": \"#506784\", \"gridwidth\": 2, \"linecolor\": \"#506784\", \"showbackground\": true, \"ticks\": \"\", \"zerolinecolor\": \"#C8D4E3\"}}, \"shapedefaults\": {\"line\": {\"color\": \"#f2f5fa\"}}, \"sliderdefaults\": {\"bgcolor\": \"#C8D4E3\", \"bordercolor\": \"rgb(17,17,17)\", \"borderwidth\": 1, \"tickwidth\": 0}, \"ternary\": {\"aaxis\": {\"gridcolor\": \"#506784\", \"linecolor\": \"#506784\", \"ticks\": \"\"}, \"baxis\": {\"gridcolor\": \"#506784\", \"linecolor\": \"#506784\", \"ticks\": \"\"}, \"bgcolor\": \"rgb(17,17,17)\", \"caxis\": {\"gridcolor\": \"#506784\", \"linecolor\": \"#506784\", \"ticks\": \"\"}}, \"title\": {\"x\": 0.05}, \"updatemenudefaults\": {\"bgcolor\": \"#506784\", \"borderwidth\": 0}, \"xaxis\": {\"automargin\": true, \"gridcolor\": \"#283442\", \"linecolor\": \"#506784\", \"ticks\": \"\", \"title\": {\"standoff\": 15}, \"zerolinecolor\": \"#283442\", \"zerolinewidth\": 2}, \"yaxis\": {\"automargin\": true, \"gridcolor\": \"#283442\", \"linecolor\": \"#506784\", \"ticks\": \"\", \"title\": {\"standoff\": 15}, \"zerolinecolor\": \"#283442\", \"zerolinewidth\": 2}}}},                        {\"responsive\": true}                    ).then(function(){\n",
       "                            \n",
       "var gd = document.getElementById('0500e5bf-ec52-49c3-8167-4daed8976ec2');\n",
       "var x = new MutationObserver(function (mutations, observer) {{\n",
       "        var display = window.getComputedStyle(gd).display;\n",
       "        if (!display || display === 'none') {{\n",
       "            console.log([gd, 'removed!']);\n",
       "            Plotly.purge(gd);\n",
       "            observer.disconnect();\n",
       "        }}\n",
       "}});\n",
       "\n",
       "// Listen for the removal of the full notebook cells\n",
       "var notebookContainer = gd.closest('#notebook-container');\n",
       "if (notebookContainer) {{\n",
       "    x.observe(notebookContainer, {childList: true});\n",
       "}}\n",
       "\n",
       "// Listen for the clearing of the current output cell\n",
       "var outputEl = gd.closest('.output');\n",
       "if (outputEl) {{\n",
       "    x.observe(outputEl, {childList: true});\n",
       "}}\n",
       "\n",
       "                        })                };                });            </script>        </div>"
      ]
     },
     "metadata": {},
     "output_type": "display_data"
    }
   ],
   "source": [
    "#del fig\n",
    "fig = px.line_mapbox(selhrg, lat=\"latitude\", lon=\"longitude\", color=\"speed_cat\",\n",
    "                        mapbox_style=\"carto-darkmatter\",\n",
    "                        #color_continuous_scale=\"aggrnyl\" ,\n",
    "                        line_group = \"linegroup\",\n",
    "                        hover_data=[\"abs_pm\", \"avg_speed\"]) #\"stype\", \n",
    "\n",
    "fig2 = px.scatter_mapbox(sel, lat=\"latitude\", lon=\"longitude\",\n",
    "                        hover_data=[\"stype\",\"fwy\",\"direc\",\"abs_pm\",\"total_flow\",\"avg_speed\"],\n",
    "                         color=\"stype\",\n",
    "                        color_discrete_map={\"ML\": \"white\"},\n",
    "                        opacity=0.35)\n",
    "fig.add_trace(fig2.data[0])\n",
    "fig\n",
    "#px.scatter(sel, x=\"longitude\", y=\"latitude\", color=\"total_flow\").update_traces(mode='lines+markers')"
   ]
  },
  {
   "cell_type": "code",
   "execution_count": 174,
   "metadata": {},
   "outputs": [],
   "source": [
    "px.scatter_mapbox?"
   ]
  },
  {
   "cell_type": "code",
   "execution_count": 56,
   "metadata": {},
   "outputs": [],
   "source": [
    "import plotly.graph_objects as go"
   ]
  },
  {
   "cell_type": "code",
   "execution_count": 99,
   "metadata": {},
   "outputs": [],
   "source": [
    "go.Scattermapbox?"
   ]
  },
  {
   "cell_type": "code",
   "execution_count": 127,
   "metadata": {},
   "outputs": [
    {
     "data": {
      "application/vnd.plotly.v1+json": {
       "config": {
        "plotlyServerURL": "https://plot.ly"
       },
       "data": [
        {
         "hovertemplate": "latitude=%{lat}<br>longitude=%{lon}<extra></extra>",
         "lat": [
          32.713274,
          32.713318,
          32.713724,
          32.714211,
          32.716724,
          32.717134,
          32.717909,
          32.718507,
          32.718104,
          32.717955,
          32.720663,
          32.726464,
          32.734694,
          32.740913,
          32.74454,
          32.744864,
          32.745268,
          32.746923,
          32.748892,
          32.753919
         ],
         "legendgroup": "",
         "lon": [
          -117.140097,
          -117.134145,
          -117.129847,
          -117.127908,
          -117.119831,
          -117.117861,
          -117.113171,
          -117.106173,
          -117.092449,
          -117.087127,
          -117.080357,
          -117.072595,
          -117.057992,
          -117.052169,
          -117.047105,
          -117.040554,
          -117.035279,
          -117.023229,
          -117.017105,
          -117.010444
         ],
         "marker": {
          "color": "#636efa"
         },
         "mode": "markers",
         "name": "",
         "showlegend": false,
         "subplot": "mapbox",
         "type": "scattermapbox"
        }
       ],
       "layout": {
        "legend": {
         "tracegroupgap": 0
        },
        "mapbox": {
         "center": {
          "lat": 32.7284,
          "lon": -117.0802719
         },
         "domain": {
          "x": [
           0,
           1
          ],
          "y": [
           0,
           1
          ]
         },
         "style": "carto-darkmatter",
         "zoom": 8
        },
        "margin": {
         "t": 60
        },
        "template": {
         "data": {
          "bar": [
           {
            "error_x": {
             "color": "#f2f5fa"
            },
            "error_y": {
             "color": "#f2f5fa"
            },
            "marker": {
             "line": {
              "color": "rgb(17,17,17)",
              "width": 0.5
             }
            },
            "type": "bar"
           }
          ],
          "barpolar": [
           {
            "marker": {
             "line": {
              "color": "rgb(17,17,17)",
              "width": 0.5
             }
            },
            "type": "barpolar"
           }
          ],
          "carpet": [
           {
            "aaxis": {
             "endlinecolor": "#A2B1C6",
             "gridcolor": "#506784",
             "linecolor": "#506784",
             "minorgridcolor": "#506784",
             "startlinecolor": "#A2B1C6"
            },
            "baxis": {
             "endlinecolor": "#A2B1C6",
             "gridcolor": "#506784",
             "linecolor": "#506784",
             "minorgridcolor": "#506784",
             "startlinecolor": "#A2B1C6"
            },
            "type": "carpet"
           }
          ],
          "choropleth": [
           {
            "colorbar": {
             "outlinewidth": 0,
             "ticks": ""
            },
            "type": "choropleth"
           }
          ],
          "contour": [
           {
            "colorbar": {
             "outlinewidth": 0,
             "ticks": ""
            },
            "colorscale": [
             [
              0,
              "#0d0887"
             ],
             [
              0.1111111111111111,
              "#46039f"
             ],
             [
              0.2222222222222222,
              "#7201a8"
             ],
             [
              0.3333333333333333,
              "#9c179e"
             ],
             [
              0.4444444444444444,
              "#bd3786"
             ],
             [
              0.5555555555555556,
              "#d8576b"
             ],
             [
              0.6666666666666666,
              "#ed7953"
             ],
             [
              0.7777777777777778,
              "#fb9f3a"
             ],
             [
              0.8888888888888888,
              "#fdca26"
             ],
             [
              1,
              "#f0f921"
             ]
            ],
            "type": "contour"
           }
          ],
          "contourcarpet": [
           {
            "colorbar": {
             "outlinewidth": 0,
             "ticks": ""
            },
            "type": "contourcarpet"
           }
          ],
          "heatmap": [
           {
            "colorbar": {
             "outlinewidth": 0,
             "ticks": ""
            },
            "colorscale": [
             [
              0,
              "#0d0887"
             ],
             [
              0.1111111111111111,
              "#46039f"
             ],
             [
              0.2222222222222222,
              "#7201a8"
             ],
             [
              0.3333333333333333,
              "#9c179e"
             ],
             [
              0.4444444444444444,
              "#bd3786"
             ],
             [
              0.5555555555555556,
              "#d8576b"
             ],
             [
              0.6666666666666666,
              "#ed7953"
             ],
             [
              0.7777777777777778,
              "#fb9f3a"
             ],
             [
              0.8888888888888888,
              "#fdca26"
             ],
             [
              1,
              "#f0f921"
             ]
            ],
            "type": "heatmap"
           }
          ],
          "heatmapgl": [
           {
            "colorbar": {
             "outlinewidth": 0,
             "ticks": ""
            },
            "colorscale": [
             [
              0,
              "#0d0887"
             ],
             [
              0.1111111111111111,
              "#46039f"
             ],
             [
              0.2222222222222222,
              "#7201a8"
             ],
             [
              0.3333333333333333,
              "#9c179e"
             ],
             [
              0.4444444444444444,
              "#bd3786"
             ],
             [
              0.5555555555555556,
              "#d8576b"
             ],
             [
              0.6666666666666666,
              "#ed7953"
             ],
             [
              0.7777777777777778,
              "#fb9f3a"
             ],
             [
              0.8888888888888888,
              "#fdca26"
             ],
             [
              1,
              "#f0f921"
             ]
            ],
            "type": "heatmapgl"
           }
          ],
          "histogram": [
           {
            "marker": {
             "colorbar": {
              "outlinewidth": 0,
              "ticks": ""
             }
            },
            "type": "histogram"
           }
          ],
          "histogram2d": [
           {
            "colorbar": {
             "outlinewidth": 0,
             "ticks": ""
            },
            "colorscale": [
             [
              0,
              "#0d0887"
             ],
             [
              0.1111111111111111,
              "#46039f"
             ],
             [
              0.2222222222222222,
              "#7201a8"
             ],
             [
              0.3333333333333333,
              "#9c179e"
             ],
             [
              0.4444444444444444,
              "#bd3786"
             ],
             [
              0.5555555555555556,
              "#d8576b"
             ],
             [
              0.6666666666666666,
              "#ed7953"
             ],
             [
              0.7777777777777778,
              "#fb9f3a"
             ],
             [
              0.8888888888888888,
              "#fdca26"
             ],
             [
              1,
              "#f0f921"
             ]
            ],
            "type": "histogram2d"
           }
          ],
          "histogram2dcontour": [
           {
            "colorbar": {
             "outlinewidth": 0,
             "ticks": ""
            },
            "colorscale": [
             [
              0,
              "#0d0887"
             ],
             [
              0.1111111111111111,
              "#46039f"
             ],
             [
              0.2222222222222222,
              "#7201a8"
             ],
             [
              0.3333333333333333,
              "#9c179e"
             ],
             [
              0.4444444444444444,
              "#bd3786"
             ],
             [
              0.5555555555555556,
              "#d8576b"
             ],
             [
              0.6666666666666666,
              "#ed7953"
             ],
             [
              0.7777777777777778,
              "#fb9f3a"
             ],
             [
              0.8888888888888888,
              "#fdca26"
             ],
             [
              1,
              "#f0f921"
             ]
            ],
            "type": "histogram2dcontour"
           }
          ],
          "mesh3d": [
           {
            "colorbar": {
             "outlinewidth": 0,
             "ticks": ""
            },
            "type": "mesh3d"
           }
          ],
          "parcoords": [
           {
            "line": {
             "colorbar": {
              "outlinewidth": 0,
              "ticks": ""
             }
            },
            "type": "parcoords"
           }
          ],
          "pie": [
           {
            "automargin": true,
            "type": "pie"
           }
          ],
          "scatter": [
           {
            "marker": {
             "line": {
              "color": "#283442"
             }
            },
            "type": "scatter"
           }
          ],
          "scatter3d": [
           {
            "line": {
             "colorbar": {
              "outlinewidth": 0,
              "ticks": ""
             }
            },
            "marker": {
             "colorbar": {
              "outlinewidth": 0,
              "ticks": ""
             }
            },
            "type": "scatter3d"
           }
          ],
          "scattercarpet": [
           {
            "marker": {
             "colorbar": {
              "outlinewidth": 0,
              "ticks": ""
             }
            },
            "type": "scattercarpet"
           }
          ],
          "scattergeo": [
           {
            "marker": {
             "colorbar": {
              "outlinewidth": 0,
              "ticks": ""
             }
            },
            "type": "scattergeo"
           }
          ],
          "scattergl": [
           {
            "marker": {
             "line": {
              "color": "#283442"
             }
            },
            "type": "scattergl"
           }
          ],
          "scattermapbox": [
           {
            "marker": {
             "colorbar": {
              "outlinewidth": 0,
              "ticks": ""
             }
            },
            "type": "scattermapbox"
           }
          ],
          "scatterpolar": [
           {
            "marker": {
             "colorbar": {
              "outlinewidth": 0,
              "ticks": ""
             }
            },
            "type": "scatterpolar"
           }
          ],
          "scatterpolargl": [
           {
            "marker": {
             "colorbar": {
              "outlinewidth": 0,
              "ticks": ""
             }
            },
            "type": "scatterpolargl"
           }
          ],
          "scatterternary": [
           {
            "marker": {
             "colorbar": {
              "outlinewidth": 0,
              "ticks": ""
             }
            },
            "type": "scatterternary"
           }
          ],
          "surface": [
           {
            "colorbar": {
             "outlinewidth": 0,
             "ticks": ""
            },
            "colorscale": [
             [
              0,
              "#0d0887"
             ],
             [
              0.1111111111111111,
              "#46039f"
             ],
             [
              0.2222222222222222,
              "#7201a8"
             ],
             [
              0.3333333333333333,
              "#9c179e"
             ],
             [
              0.4444444444444444,
              "#bd3786"
             ],
             [
              0.5555555555555556,
              "#d8576b"
             ],
             [
              0.6666666666666666,
              "#ed7953"
             ],
             [
              0.7777777777777778,
              "#fb9f3a"
             ],
             [
              0.8888888888888888,
              "#fdca26"
             ],
             [
              1,
              "#f0f921"
             ]
            ],
            "type": "surface"
           }
          ],
          "table": [
           {
            "cells": {
             "fill": {
              "color": "#506784"
             },
             "line": {
              "color": "rgb(17,17,17)"
             }
            },
            "header": {
             "fill": {
              "color": "#2a3f5f"
             },
             "line": {
              "color": "rgb(17,17,17)"
             }
            },
            "type": "table"
           }
          ]
         },
         "layout": {
          "annotationdefaults": {
           "arrowcolor": "#f2f5fa",
           "arrowhead": 0,
           "arrowwidth": 1
          },
          "autotypenumbers": "strict",
          "coloraxis": {
           "colorbar": {
            "outlinewidth": 0,
            "ticks": ""
           }
          },
          "colorscale": {
           "diverging": [
            [
             0,
             "#8e0152"
            ],
            [
             0.1,
             "#c51b7d"
            ],
            [
             0.2,
             "#de77ae"
            ],
            [
             0.3,
             "#f1b6da"
            ],
            [
             0.4,
             "#fde0ef"
            ],
            [
             0.5,
             "#f7f7f7"
            ],
            [
             0.6,
             "#e6f5d0"
            ],
            [
             0.7,
             "#b8e186"
            ],
            [
             0.8,
             "#7fbc41"
            ],
            [
             0.9,
             "#4d9221"
            ],
            [
             1,
             "#276419"
            ]
           ],
           "sequential": [
            [
             0,
             "#0d0887"
            ],
            [
             0.1111111111111111,
             "#46039f"
            ],
            [
             0.2222222222222222,
             "#7201a8"
            ],
            [
             0.3333333333333333,
             "#9c179e"
            ],
            [
             0.4444444444444444,
             "#bd3786"
            ],
            [
             0.5555555555555556,
             "#d8576b"
            ],
            [
             0.6666666666666666,
             "#ed7953"
            ],
            [
             0.7777777777777778,
             "#fb9f3a"
            ],
            [
             0.8888888888888888,
             "#fdca26"
            ],
            [
             1,
             "#f0f921"
            ]
           ],
           "sequentialminus": [
            [
             0,
             "#0d0887"
            ],
            [
             0.1111111111111111,
             "#46039f"
            ],
            [
             0.2222222222222222,
             "#7201a8"
            ],
            [
             0.3333333333333333,
             "#9c179e"
            ],
            [
             0.4444444444444444,
             "#bd3786"
            ],
            [
             0.5555555555555556,
             "#d8576b"
            ],
            [
             0.6666666666666666,
             "#ed7953"
            ],
            [
             0.7777777777777778,
             "#fb9f3a"
            ],
            [
             0.8888888888888888,
             "#fdca26"
            ],
            [
             1,
             "#f0f921"
            ]
           ]
          },
          "colorway": [
           "#636efa",
           "#EF553B",
           "#00cc96",
           "#ab63fa",
           "#FFA15A",
           "#19d3f3",
           "#FF6692",
           "#B6E880",
           "#FF97FF",
           "#FECB52"
          ],
          "font": {
           "color": "#f2f5fa"
          },
          "geo": {
           "bgcolor": "rgb(17,17,17)",
           "lakecolor": "rgb(17,17,17)",
           "landcolor": "rgb(17,17,17)",
           "showlakes": true,
           "showland": true,
           "subunitcolor": "#506784"
          },
          "hoverlabel": {
           "align": "left"
          },
          "hovermode": "closest",
          "mapbox": {
           "style": "dark"
          },
          "paper_bgcolor": "rgb(17,17,17)",
          "plot_bgcolor": "rgb(17,17,17)",
          "polar": {
           "angularaxis": {
            "gridcolor": "#506784",
            "linecolor": "#506784",
            "ticks": ""
           },
           "bgcolor": "rgb(17,17,17)",
           "radialaxis": {
            "gridcolor": "#506784",
            "linecolor": "#506784",
            "ticks": ""
           }
          },
          "scene": {
           "xaxis": {
            "backgroundcolor": "rgb(17,17,17)",
            "gridcolor": "#506784",
            "gridwidth": 2,
            "linecolor": "#506784",
            "showbackground": true,
            "ticks": "",
            "zerolinecolor": "#C8D4E3"
           },
           "yaxis": {
            "backgroundcolor": "rgb(17,17,17)",
            "gridcolor": "#506784",
            "gridwidth": 2,
            "linecolor": "#506784",
            "showbackground": true,
            "ticks": "",
            "zerolinecolor": "#C8D4E3"
           },
           "zaxis": {
            "backgroundcolor": "rgb(17,17,17)",
            "gridcolor": "#506784",
            "gridwidth": 2,
            "linecolor": "#506784",
            "showbackground": true,
            "ticks": "",
            "zerolinecolor": "#C8D4E3"
           }
          },
          "shapedefaults": {
           "line": {
            "color": "#f2f5fa"
           }
          },
          "sliderdefaults": {
           "bgcolor": "#C8D4E3",
           "bordercolor": "rgb(17,17,17)",
           "borderwidth": 1,
           "tickwidth": 0
          },
          "ternary": {
           "aaxis": {
            "gridcolor": "#506784",
            "linecolor": "#506784",
            "ticks": ""
           },
           "baxis": {
            "gridcolor": "#506784",
            "linecolor": "#506784",
            "ticks": ""
           },
           "bgcolor": "rgb(17,17,17)",
           "caxis": {
            "gridcolor": "#506784",
            "linecolor": "#506784",
            "ticks": ""
           }
          },
          "title": {
           "x": 0.05
          },
          "updatemenudefaults": {
           "bgcolor": "#506784",
           "borderwidth": 0
          },
          "xaxis": {
           "automargin": true,
           "gridcolor": "#283442",
           "linecolor": "#506784",
           "ticks": "",
           "title": {
            "standoff": 15
           },
           "zerolinecolor": "#283442",
           "zerolinewidth": 2
          },
          "yaxis": {
           "automargin": true,
           "gridcolor": "#283442",
           "linecolor": "#506784",
           "ticks": "",
           "title": {
            "standoff": 15
           },
           "zerolinecolor": "#283442",
           "zerolinewidth": 2
          }
         }
        }
       }
      },
      "text/html": [
       "<div>                            <div id=\"30971b10-1d8a-47d1-bfd8-810454f13ac2\" class=\"plotly-graph-div\" style=\"height:525px; width:100%;\"></div>            <script type=\"text/javascript\">                require([\"plotly\"], function(Plotly) {                    window.PLOTLYENV=window.PLOTLYENV || {};                                    if (document.getElementById(\"30971b10-1d8a-47d1-bfd8-810454f13ac2\")) {                    Plotly.newPlot(                        \"30971b10-1d8a-47d1-bfd8-810454f13ac2\",                        [{\"hovertemplate\": \"latitude=%{lat}<br>longitude=%{lon}<extra></extra>\", \"lat\": [32.713274, 32.713318, 32.713724, 32.714211, 32.716724, 32.717134, 32.717909, 32.718507, 32.718104, 32.717955, 32.720663, 32.726464, 32.734694, 32.740913, 32.74454, 32.744864, 32.745268, 32.746923, 32.748892, 32.753919], \"legendgroup\": \"\", \"lon\": [-117.140097, -117.134145, -117.129847, -117.127908, -117.119831, -117.117861, -117.113171, -117.106173, -117.092449, -117.087127, -117.080357, -117.072595, -117.057992, -117.052169, -117.047105, -117.040554, -117.035279, -117.023229, -117.017105, -117.010444], \"marker\": {\"color\": \"#636efa\"}, \"mode\": \"markers\", \"name\": \"\", \"showlegend\": false, \"subplot\": \"mapbox\", \"type\": \"scattermapbox\"}],                        {\"legend\": {\"tracegroupgap\": 0}, \"mapbox\": {\"center\": {\"lat\": 32.7284, \"lon\": -117.0802719}, \"domain\": {\"x\": [0.0, 1.0], \"y\": [0.0, 1.0]}, \"style\": \"carto-darkmatter\", \"zoom\": 8}, \"margin\": {\"t\": 60}, \"template\": {\"data\": {\"bar\": [{\"error_x\": {\"color\": \"#f2f5fa\"}, \"error_y\": {\"color\": \"#f2f5fa\"}, \"marker\": {\"line\": {\"color\": \"rgb(17,17,17)\", \"width\": 0.5}}, \"type\": \"bar\"}], \"barpolar\": [{\"marker\": {\"line\": {\"color\": \"rgb(17,17,17)\", \"width\": 0.5}}, \"type\": \"barpolar\"}], \"carpet\": [{\"aaxis\": {\"endlinecolor\": \"#A2B1C6\", \"gridcolor\": \"#506784\", \"linecolor\": \"#506784\", \"minorgridcolor\": \"#506784\", \"startlinecolor\": \"#A2B1C6\"}, \"baxis\": {\"endlinecolor\": \"#A2B1C6\", \"gridcolor\": \"#506784\", \"linecolor\": \"#506784\", \"minorgridcolor\": \"#506784\", \"startlinecolor\": \"#A2B1C6\"}, \"type\": \"carpet\"}], \"choropleth\": [{\"colorbar\": {\"outlinewidth\": 0, \"ticks\": \"\"}, \"type\": \"choropleth\"}], \"contour\": [{\"colorbar\": {\"outlinewidth\": 0, \"ticks\": \"\"}, \"colorscale\": [[0.0, \"#0d0887\"], [0.1111111111111111, \"#46039f\"], [0.2222222222222222, \"#7201a8\"], [0.3333333333333333, \"#9c179e\"], [0.4444444444444444, \"#bd3786\"], [0.5555555555555556, \"#d8576b\"], [0.6666666666666666, \"#ed7953\"], [0.7777777777777778, \"#fb9f3a\"], [0.8888888888888888, \"#fdca26\"], [1.0, \"#f0f921\"]], \"type\": \"contour\"}], \"contourcarpet\": [{\"colorbar\": {\"outlinewidth\": 0, \"ticks\": \"\"}, \"type\": \"contourcarpet\"}], \"heatmap\": [{\"colorbar\": {\"outlinewidth\": 0, \"ticks\": \"\"}, \"colorscale\": [[0.0, \"#0d0887\"], [0.1111111111111111, \"#46039f\"], [0.2222222222222222, \"#7201a8\"], [0.3333333333333333, \"#9c179e\"], [0.4444444444444444, \"#bd3786\"], [0.5555555555555556, \"#d8576b\"], [0.6666666666666666, \"#ed7953\"], [0.7777777777777778, \"#fb9f3a\"], [0.8888888888888888, \"#fdca26\"], [1.0, \"#f0f921\"]], \"type\": \"heatmap\"}], \"heatmapgl\": [{\"colorbar\": {\"outlinewidth\": 0, \"ticks\": \"\"}, \"colorscale\": [[0.0, \"#0d0887\"], [0.1111111111111111, \"#46039f\"], [0.2222222222222222, \"#7201a8\"], [0.3333333333333333, \"#9c179e\"], [0.4444444444444444, \"#bd3786\"], [0.5555555555555556, \"#d8576b\"], [0.6666666666666666, \"#ed7953\"], [0.7777777777777778, \"#fb9f3a\"], [0.8888888888888888, \"#fdca26\"], [1.0, \"#f0f921\"]], \"type\": \"heatmapgl\"}], \"histogram\": [{\"marker\": {\"colorbar\": {\"outlinewidth\": 0, \"ticks\": \"\"}}, \"type\": \"histogram\"}], \"histogram2d\": [{\"colorbar\": {\"outlinewidth\": 0, \"ticks\": \"\"}, \"colorscale\": [[0.0, \"#0d0887\"], [0.1111111111111111, \"#46039f\"], [0.2222222222222222, \"#7201a8\"], [0.3333333333333333, \"#9c179e\"], [0.4444444444444444, \"#bd3786\"], [0.5555555555555556, \"#d8576b\"], [0.6666666666666666, \"#ed7953\"], [0.7777777777777778, \"#fb9f3a\"], [0.8888888888888888, \"#fdca26\"], [1.0, \"#f0f921\"]], \"type\": \"histogram2d\"}], \"histogram2dcontour\": [{\"colorbar\": {\"outlinewidth\": 0, \"ticks\": \"\"}, \"colorscale\": [[0.0, \"#0d0887\"], [0.1111111111111111, \"#46039f\"], [0.2222222222222222, \"#7201a8\"], [0.3333333333333333, \"#9c179e\"], [0.4444444444444444, \"#bd3786\"], [0.5555555555555556, \"#d8576b\"], [0.6666666666666666, \"#ed7953\"], [0.7777777777777778, \"#fb9f3a\"], [0.8888888888888888, \"#fdca26\"], [1.0, \"#f0f921\"]], \"type\": \"histogram2dcontour\"}], \"mesh3d\": [{\"colorbar\": {\"outlinewidth\": 0, \"ticks\": \"\"}, \"type\": \"mesh3d\"}], \"parcoords\": [{\"line\": {\"colorbar\": {\"outlinewidth\": 0, \"ticks\": \"\"}}, \"type\": \"parcoords\"}], \"pie\": [{\"automargin\": true, \"type\": \"pie\"}], \"scatter\": [{\"marker\": {\"line\": {\"color\": \"#283442\"}}, \"type\": \"scatter\"}], \"scatter3d\": [{\"line\": {\"colorbar\": {\"outlinewidth\": 0, \"ticks\": \"\"}}, \"marker\": {\"colorbar\": {\"outlinewidth\": 0, \"ticks\": \"\"}}, \"type\": \"scatter3d\"}], \"scattercarpet\": [{\"marker\": {\"colorbar\": {\"outlinewidth\": 0, \"ticks\": \"\"}}, \"type\": \"scattercarpet\"}], \"scattergeo\": [{\"marker\": {\"colorbar\": {\"outlinewidth\": 0, \"ticks\": \"\"}}, \"type\": \"scattergeo\"}], \"scattergl\": [{\"marker\": {\"line\": {\"color\": \"#283442\"}}, \"type\": \"scattergl\"}], \"scattermapbox\": [{\"marker\": {\"colorbar\": {\"outlinewidth\": 0, \"ticks\": \"\"}}, \"type\": \"scattermapbox\"}], \"scatterpolar\": [{\"marker\": {\"colorbar\": {\"outlinewidth\": 0, \"ticks\": \"\"}}, \"type\": \"scatterpolar\"}], \"scatterpolargl\": [{\"marker\": {\"colorbar\": {\"outlinewidth\": 0, \"ticks\": \"\"}}, \"type\": \"scatterpolargl\"}], \"scatterternary\": [{\"marker\": {\"colorbar\": {\"outlinewidth\": 0, \"ticks\": \"\"}}, \"type\": \"scatterternary\"}], \"surface\": [{\"colorbar\": {\"outlinewidth\": 0, \"ticks\": \"\"}, \"colorscale\": [[0.0, \"#0d0887\"], [0.1111111111111111, \"#46039f\"], [0.2222222222222222, \"#7201a8\"], [0.3333333333333333, \"#9c179e\"], [0.4444444444444444, \"#bd3786\"], [0.5555555555555556, \"#d8576b\"], [0.6666666666666666, \"#ed7953\"], [0.7777777777777778, \"#fb9f3a\"], [0.8888888888888888, \"#fdca26\"], [1.0, \"#f0f921\"]], \"type\": \"surface\"}], \"table\": [{\"cells\": {\"fill\": {\"color\": \"#506784\"}, \"line\": {\"color\": \"rgb(17,17,17)\"}}, \"header\": {\"fill\": {\"color\": \"#2a3f5f\"}, \"line\": {\"color\": \"rgb(17,17,17)\"}}, \"type\": \"table\"}]}, \"layout\": {\"annotationdefaults\": {\"arrowcolor\": \"#f2f5fa\", \"arrowhead\": 0, \"arrowwidth\": 1}, \"autotypenumbers\": \"strict\", \"coloraxis\": {\"colorbar\": {\"outlinewidth\": 0, \"ticks\": \"\"}}, \"colorscale\": {\"diverging\": [[0, \"#8e0152\"], [0.1, \"#c51b7d\"], [0.2, \"#de77ae\"], [0.3, \"#f1b6da\"], [0.4, \"#fde0ef\"], [0.5, \"#f7f7f7\"], [0.6, \"#e6f5d0\"], [0.7, \"#b8e186\"], [0.8, \"#7fbc41\"], [0.9, \"#4d9221\"], [1, \"#276419\"]], \"sequential\": [[0.0, \"#0d0887\"], [0.1111111111111111, \"#46039f\"], [0.2222222222222222, \"#7201a8\"], [0.3333333333333333, \"#9c179e\"], [0.4444444444444444, \"#bd3786\"], [0.5555555555555556, \"#d8576b\"], [0.6666666666666666, \"#ed7953\"], [0.7777777777777778, \"#fb9f3a\"], [0.8888888888888888, \"#fdca26\"], [1.0, \"#f0f921\"]], \"sequentialminus\": [[0.0, \"#0d0887\"], [0.1111111111111111, \"#46039f\"], [0.2222222222222222, \"#7201a8\"], [0.3333333333333333, \"#9c179e\"], [0.4444444444444444, \"#bd3786\"], [0.5555555555555556, \"#d8576b\"], [0.6666666666666666, \"#ed7953\"], [0.7777777777777778, \"#fb9f3a\"], [0.8888888888888888, \"#fdca26\"], [1.0, \"#f0f921\"]]}, \"colorway\": [\"#636efa\", \"#EF553B\", \"#00cc96\", \"#ab63fa\", \"#FFA15A\", \"#19d3f3\", \"#FF6692\", \"#B6E880\", \"#FF97FF\", \"#FECB52\"], \"font\": {\"color\": \"#f2f5fa\"}, \"geo\": {\"bgcolor\": \"rgb(17,17,17)\", \"lakecolor\": \"rgb(17,17,17)\", \"landcolor\": \"rgb(17,17,17)\", \"showlakes\": true, \"showland\": true, \"subunitcolor\": \"#506784\"}, \"hoverlabel\": {\"align\": \"left\"}, \"hovermode\": \"closest\", \"mapbox\": {\"style\": \"dark\"}, \"paper_bgcolor\": \"rgb(17,17,17)\", \"plot_bgcolor\": \"rgb(17,17,17)\", \"polar\": {\"angularaxis\": {\"gridcolor\": \"#506784\", \"linecolor\": \"#506784\", \"ticks\": \"\"}, \"bgcolor\": \"rgb(17,17,17)\", \"radialaxis\": {\"gridcolor\": \"#506784\", \"linecolor\": \"#506784\", \"ticks\": \"\"}}, \"scene\": {\"xaxis\": {\"backgroundcolor\": \"rgb(17,17,17)\", \"gridcolor\": \"#506784\", \"gridwidth\": 2, \"linecolor\": \"#506784\", \"showbackground\": true, \"ticks\": \"\", \"zerolinecolor\": \"#C8D4E3\"}, \"yaxis\": {\"backgroundcolor\": \"rgb(17,17,17)\", \"gridcolor\": \"#506784\", \"gridwidth\": 2, \"linecolor\": \"#506784\", \"showbackground\": true, \"ticks\": \"\", \"zerolinecolor\": \"#C8D4E3\"}, \"zaxis\": {\"backgroundcolor\": \"rgb(17,17,17)\", \"gridcolor\": \"#506784\", \"gridwidth\": 2, \"linecolor\": \"#506784\", \"showbackground\": true, \"ticks\": \"\", \"zerolinecolor\": \"#C8D4E3\"}}, \"shapedefaults\": {\"line\": {\"color\": \"#f2f5fa\"}}, \"sliderdefaults\": {\"bgcolor\": \"#C8D4E3\", \"bordercolor\": \"rgb(17,17,17)\", \"borderwidth\": 1, \"tickwidth\": 0}, \"ternary\": {\"aaxis\": {\"gridcolor\": \"#506784\", \"linecolor\": \"#506784\", \"ticks\": \"\"}, \"baxis\": {\"gridcolor\": \"#506784\", \"linecolor\": \"#506784\", \"ticks\": \"\"}, \"bgcolor\": \"rgb(17,17,17)\", \"caxis\": {\"gridcolor\": \"#506784\", \"linecolor\": \"#506784\", \"ticks\": \"\"}}, \"title\": {\"x\": 0.05}, \"updatemenudefaults\": {\"bgcolor\": \"#506784\", \"borderwidth\": 0}, \"xaxis\": {\"automargin\": true, \"gridcolor\": \"#283442\", \"linecolor\": \"#506784\", \"ticks\": \"\", \"title\": {\"standoff\": 15}, \"zerolinecolor\": \"#283442\", \"zerolinewidth\": 2}, \"yaxis\": {\"automargin\": true, \"gridcolor\": \"#283442\", \"linecolor\": \"#506784\", \"ticks\": \"\", \"title\": {\"standoff\": 15}, \"zerolinecolor\": \"#283442\", \"zerolinewidth\": 2}}}},                        {\"responsive\": true}                    ).then(function(){\n",
       "                            \n",
       "var gd = document.getElementById('30971b10-1d8a-47d1-bfd8-810454f13ac2');\n",
       "var x = new MutationObserver(function (mutations, observer) {{\n",
       "        var display = window.getComputedStyle(gd).display;\n",
       "        if (!display || display === 'none') {{\n",
       "            console.log([gd, 'removed!']);\n",
       "            Plotly.purge(gd);\n",
       "            observer.disconnect();\n",
       "        }}\n",
       "}});\n",
       "\n",
       "// Listen for the removal of the full notebook cells\n",
       "var notebookContainer = gd.closest('#notebook-container');\n",
       "if (notebookContainer) {{\n",
       "    x.observe(notebookContainer, {childList: true});\n",
       "}}\n",
       "\n",
       "// Listen for the clearing of the current output cell\n",
       "var outputEl = gd.closest('.output');\n",
       "if (outputEl) {{\n",
       "    x.observe(outputEl, {childList: true});\n",
       "}}\n",
       "\n",
       "                        })                };                });            </script>        </div>"
      ]
     },
     "metadata": {},
     "output_type": "display_data"
    }
   ],
   "source": [
    "fig2=px.scatter_mapbox(sel, lat=\"latitude\", lon=\"longitude\", mapbox_style=\"carto-darkmatter\")\n",
    "\n",
    "\n",
    "#tr=go.Scattermapbox(lat=selhr[\"latitude\"], lon=selhr[\"longitude\"],\n",
    "#        mode='markers')\n",
    "        #marker=go.scattermapbox.Marker(size=14))\n",
    "#fig2.add_trace(tr)\n",
    "#fig2.update_layout()\n",
    "fig2"
   ]
  },
  {
   "cell_type": "code",
   "execution_count": 129,
   "metadata": {},
   "outputs": [],
   "source": [
    "go.Scattermapbox?"
   ]
  },
  {
   "cell_type": "code",
   "execution_count": null,
   "metadata": {},
   "outputs": [],
   "source": []
  }
 ],
 "metadata": {
  "kernelspec": {
   "display_name": "Python 3",
   "language": "python",
   "name": "python3"
  },
  "language_info": {
   "codemirror_mode": {
    "name": "ipython",
    "version": 3
   },
   "file_extension": ".py",
   "mimetype": "text/x-python",
   "name": "python",
   "nbconvert_exporter": "python",
   "pygments_lexer": "ipython3",
   "version": "3.8.5"
  }
 },
 "nbformat": 4,
 "nbformat_minor": 2
}
