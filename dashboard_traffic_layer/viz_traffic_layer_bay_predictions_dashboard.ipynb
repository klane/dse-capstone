{
 "cells": [
  {
   "cell_type": "code",
   "execution_count": 1,
   "metadata": {},
   "outputs": [],
   "source": [
    "import plotly.express as px\n",
    "import plotly\n",
    "plotly.io.templates.default = 'plotly' #'plotly_dark'\n",
    "import pandas as pd\n",
    "import sqlalchemy as sal"
   ]
  },
  {
   "cell_type": "code",
   "execution_count": 2,
   "metadata": {},
   "outputs": [],
   "source": [
    "import pickle"
   ]
  },
  {
   "cell_type": "code",
   "execution_count": 3,
   "metadata": {},
   "outputs": [],
   "source": [
    "with open(\"traffic_pred_horizon12.pkl\", \"rb\") as fid:\n",
    "    pred=pickle.load(fid)"
   ]
  },
  {
   "cell_type": "code",
   "execution_count": 4,
   "metadata": {},
   "outputs": [
    {
     "name": "stdout",
     "output_type": "stream",
     "text": [
      "52085\n"
     ]
    }
   ],
   "source": [
    "import numpy as np\n",
    "def predictions_to_df(horizon=12, timestamp=\"2020-06-29 22:45:00\"):\n",
    "    odf=pd.DataFrame(columns=[\"pred_speed\", \"pred_error\"])\n",
    "    \n",
    "    sid_w_time=list(pred[horizon].keys())[0]\n",
    "    \n",
    "    tidx = np.where(pred[horizon][sid_w_time][\"time\"] == timestamp)[0][0]\n",
    "    print(tidx)\n",
    "    \n",
    "    for sid in pred[horizon].keys():\n",
    "        isid=int(sid)\n",
    "        #print(sid)\n",
    "        try:\n",
    "            odf.loc[isid,\"pred_speed\"] = float(pred[horizon][sid].loc[tidx,\"pred\"])\n",
    "            odf.loc[isid,\"true_speed\"] = float(pred[horizon][sid].loc[tidx,\"truth\"])\n",
    "            odf.loc[isid,\"pred_error\"] = float(pred[horizon][sid].loc[tidx,\"pred\"] - pred[horizon][sid].loc[tidx,\"truth\"])\n",
    "        except AttributeError:\n",
    "            pass\n",
    "    \n",
    "    return odf\n",
    "\n",
    "odf=predictions_to_df()"
   ]
  },
  {
   "cell_type": "code",
   "execution_count": 5,
   "metadata": {},
   "outputs": [
    {
     "data": {
      "text/html": [
       "<div>\n",
       "<style scoped>\n",
       "    .dataframe tbody tr th:only-of-type {\n",
       "        vertical-align: middle;\n",
       "    }\n",
       "\n",
       "    .dataframe tbody tr th {\n",
       "        vertical-align: top;\n",
       "    }\n",
       "\n",
       "    .dataframe thead th {\n",
       "        text-align: right;\n",
       "    }\n",
       "</style>\n",
       "<table border=\"1\" class=\"dataframe\">\n",
       "  <thead>\n",
       "    <tr style=\"text-align: right;\">\n",
       "      <th></th>\n",
       "      <th>pred</th>\n",
       "      <th>truth</th>\n",
       "      <th>time</th>\n",
       "    </tr>\n",
       "  </thead>\n",
       "  <tbody>\n",
       "    <tr>\n",
       "      <th>51812</th>\n",
       "      <td>62.203056</td>\n",
       "      <td>62.000000</td>\n",
       "      <td>2020-06-29 00:00:00</td>\n",
       "    </tr>\n",
       "    <tr>\n",
       "      <th>51813</th>\n",
       "      <td>62.037960</td>\n",
       "      <td>62.000000</td>\n",
       "      <td>2020-06-29 00:05:00</td>\n",
       "    </tr>\n",
       "    <tr>\n",
       "      <th>51814</th>\n",
       "      <td>62.051220</td>\n",
       "      <td>62.099998</td>\n",
       "      <td>2020-06-29 00:10:00</td>\n",
       "    </tr>\n",
       "    <tr>\n",
       "      <th>51815</th>\n",
       "      <td>62.023640</td>\n",
       "      <td>61.900002</td>\n",
       "      <td>2020-06-29 00:15:00</td>\n",
       "    </tr>\n",
       "    <tr>\n",
       "      <th>51816</th>\n",
       "      <td>62.018806</td>\n",
       "      <td>61.900002</td>\n",
       "      <td>2020-06-29 00:20:00</td>\n",
       "    </tr>\n",
       "    <tr>\n",
       "      <th>...</th>\n",
       "      <td>...</td>\n",
       "      <td>...</td>\n",
       "      <td>...</td>\n",
       "    </tr>\n",
       "    <tr>\n",
       "      <th>52085</th>\n",
       "      <td>62.150963</td>\n",
       "      <td>61.700001</td>\n",
       "      <td>2020-06-29 22:45:00</td>\n",
       "    </tr>\n",
       "    <tr>\n",
       "      <th>52086</th>\n",
       "      <td>62.126545</td>\n",
       "      <td>61.799999</td>\n",
       "      <td>2020-06-29 22:50:00</td>\n",
       "    </tr>\n",
       "    <tr>\n",
       "      <th>52087</th>\n",
       "      <td>62.143738</td>\n",
       "      <td>62.000000</td>\n",
       "      <td>2020-06-29 22:55:00</td>\n",
       "    </tr>\n",
       "    <tr>\n",
       "      <th>52088</th>\n",
       "      <td>62.179947</td>\n",
       "      <td>62.099998</td>\n",
       "      <td>2020-06-29 23:00:00</td>\n",
       "    </tr>\n",
       "    <tr>\n",
       "      <th>52089</th>\n",
       "      <td>62.213905</td>\n",
       "      <td>62.200001</td>\n",
       "      <td>2020-06-29 23:05:00</td>\n",
       "    </tr>\n",
       "  </tbody>\n",
       "</table>\n",
       "<p>278 rows × 3 columns</p>\n",
       "</div>"
      ],
      "text/plain": [
       "            pred      truth                time\n",
       "51812  62.203056  62.000000 2020-06-29 00:00:00\n",
       "51813  62.037960  62.000000 2020-06-29 00:05:00\n",
       "51814  62.051220  62.099998 2020-06-29 00:10:00\n",
       "51815  62.023640  61.900002 2020-06-29 00:15:00\n",
       "51816  62.018806  61.900002 2020-06-29 00:20:00\n",
       "...          ...        ...                 ...\n",
       "52085  62.150963  61.700001 2020-06-29 22:45:00\n",
       "52086  62.126545  61.799999 2020-06-29 22:50:00\n",
       "52087  62.143738  62.000000 2020-06-29 22:55:00\n",
       "52088  62.179947  62.099998 2020-06-29 23:00:00\n",
       "52089  62.213905  62.200001 2020-06-29 23:05:00\n",
       "\n",
       "[278 rows x 3 columns]"
      ]
     },
     "execution_count": 5,
     "metadata": {},
     "output_type": "execute_result"
    }
   ],
   "source": [
    "def get_time_series(stid, horizon=12, day='2020-06-29'):\n",
    "    sid_w_time=list(pred[horizon].keys())[0]\n",
    "    tdf=pd.DataFrame(columns=[\"pred\", \"truth\",\"time\"])\n",
    "    tdf[\"time\"]=pred[horizon][sid_w_time][\"time\"]\n",
    "    \n",
    "    if str(stid) in pred[horizon].keys(): \n",
    "        tdf[\"pred\"] = pred[horizon][str(stid)][\"pred\"]\n",
    "        tdf[\"truth\"] = pred[horizon][str(stid)][\"truth\"]\n",
    "\n",
    "        #filter for one day - hardcoding for now\n",
    "        idx=(tdf[\"time\"] >= day) & (tdf[\"time\"] < '2020-06-30')\n",
    "    \n",
    "        return tdf[idx]\n",
    "    \n",
    "    else:\n",
    "        print('station %d not in predictions' % stid)\n",
    "        return None\n",
    "    \n",
    "tdf=get_time_series(400017)\n",
    "tdf"
   ]
  },
  {
   "cell_type": "code",
   "execution_count": 6,
   "metadata": {},
   "outputs": [
    {
     "data": {
      "text/plain": [
       "51812    True\n",
       "51813    True\n",
       "51814    True\n",
       "51815    True\n",
       "51816    True\n",
       "         ... \n",
       "52085    True\n",
       "52086    True\n",
       "52087    True\n",
       "52088    True\n",
       "52089    True\n",
       "Name: time, Length: 278, dtype: bool"
      ]
     },
     "execution_count": 6,
     "metadata": {},
     "output_type": "execute_result"
    }
   ],
   "source": [
    "tdf[\"time\"] > '2020-05-01'"
   ]
  },
  {
   "cell_type": "code",
   "execution_count": 8,
   "metadata": {},
   "outputs": [],
   "source": [
    "host=\"capstone.clihskgj8i7s.us-west-2.rds.amazonaws.com\"\n",
    "username=\"group3\"\n",
    "db=\"db1\"\n",
    "#pw=getpass.getpass(\"Enter database password\")\n",
    "pw=open(\"/home/daniel/Desktop/.awsdb\",\"r\").read().rstrip()"
   ]
  },
  {
   "cell_type": "code",
   "execution_count": 9,
   "metadata": {},
   "outputs": [],
   "source": [
    "engine = sal.create_engine('postgresql://%s:%s@%s/%s' % (username, pw, host, db))"
   ]
  },
  {
   "cell_type": "code",
   "execution_count": 10,
   "metadata": {},
   "outputs": [],
   "source": [
    "#download a snapshot of data\n",
    "query=\"\"\"\n",
    "select l.sid, l.longitude, l.latitude, l.stype, l.fwy ,l.direc, l.abs_pm, l.state_pm\n",
    "from pemslocs l\n",
    "\"\"\"\n",
    "sensors=pd.read_sql(query, engine, index_col=\"sid\")\n",
    "#sensors.head()"
   ]
  },
  {
   "cell_type": "code",
   "execution_count": 11,
   "metadata": {},
   "outputs": [],
   "source": [
    "snap=pd.merge(sensors, odf, left_index=True, right_index=True)\n",
    "#snap.head()"
   ]
  },
  {
   "cell_type": "code",
   "execution_count": 12,
   "metadata": {},
   "outputs": [],
   "source": [
    "#pd.read_sql(\"select * from pemslocs limit 1\", engine)"
   ]
  },
  {
   "cell_type": "code",
   "execution_count": 13,
   "metadata": {},
   "outputs": [],
   "source": [
    "#convert from object to float\n",
    "for col in [\"pred_speed\", \"pred_error\"]:\n",
    "    snap[col]=snap[col].astype(float)"
   ]
  },
  {
   "cell_type": "code",
   "execution_count": 14,
   "metadata": {
    "scrolled": true
   },
   "outputs": [
    {
     "data": {
      "text/plain": [
       "array(['101N', '85S', '880S', '87S', '880N', '85N', '101S', '17S', '280S',\n",
       "       '237W', '237E', '87N', '17N', '280N', '680S', '680N'], dtype=object)"
      ]
     },
     "execution_count": 14,
     "metadata": {},
     "output_type": "execute_result"
    }
   ],
   "source": [
    "#create new column with fwy and direction as string\n",
    "snap[\"fwdir\"] = snap.apply(lambda x: str(x[\"fwy\"]) + str(x[\"direc\"]), axis=1)\n",
    "snap[\"fwdir\"].unique()"
   ]
  },
  {
   "cell_type": "code",
   "execution_count": 15,
   "metadata": {},
   "outputs": [],
   "source": [
    "#function to move fwys in separate directions apart for visualization\n",
    "def spread_lanes(sdf, fwdir, latspread=0.0005, lonspread=0.0005):\n",
    "    direc=fwdir[-1]\n",
    "    \n",
    "    # this assumes right-hand traffic\n",
    "    if direc == 'W':\n",
    "         sdf[\"latitude\"] += latspread\n",
    "    elif direc == \"E\":\n",
    "        sdf[\"latitude\"] -= latspread\n",
    "    elif direc == \"S\":\n",
    "        sdf[\"longitude\"] -= lonspread\n",
    "    elif direc == \"N\":\n",
    "        sdf[\"longitude\"] += lonspread\n",
    "    \n",
    "    return sdf\n",
    "    \n",
    "#selhr=pd.read_sql(\"select * from usdot u where u.fwdir = '94W' order by u.abs_pm\", engine)\n",
    "#display(selhr.head(n=1))\n",
    "#spread_lanes(selhr, '94W').head(n=1)"
   ]
  },
  {
   "cell_type": "code",
   "execution_count": 16,
   "metadata": {},
   "outputs": [
    {
     "data": {
      "text/html": [
       "<div>\n",
       "<style scoped>\n",
       "    .dataframe tbody tr th:only-of-type {\n",
       "        vertical-align: middle;\n",
       "    }\n",
       "\n",
       "    .dataframe tbody tr th {\n",
       "        vertical-align: top;\n",
       "    }\n",
       "\n",
       "    .dataframe thead th {\n",
       "        text-align: right;\n",
       "    }\n",
       "</style>\n",
       "<table border=\"1\" class=\"dataframe\">\n",
       "  <thead>\n",
       "    <tr style=\"text-align: right;\">\n",
       "      <th></th>\n",
       "      <th>fwdir</th>\n",
       "      <th>latitude</th>\n",
       "      <th>longitude</th>\n",
       "      <th>abs_pm</th>\n",
       "    </tr>\n",
       "    <tr>\n",
       "      <th>usdid</th>\n",
       "      <th></th>\n",
       "      <th></th>\n",
       "      <th></th>\n",
       "      <th></th>\n",
       "    </tr>\n",
       "  </thead>\n",
       "  <tbody>\n",
       "    <tr>\n",
       "      <th>1</th>\n",
       "      <td>101N</td>\n",
       "      <td>36.917391</td>\n",
       "      <td>-121.548009</td>\n",
       "      <td>349.3</td>\n",
       "    </tr>\n",
       "  </tbody>\n",
       "</table>\n",
       "</div>"
      ],
      "text/plain": [
       "      fwdir   latitude   longitude  abs_pm\n",
       "usdid                                     \n",
       "1      101N  36.917391 -121.548009   349.3"
      ]
     },
     "execution_count": 16,
     "metadata": {},
     "output_type": "execute_result"
    }
   ],
   "source": [
    "hfroads=pd.read_sql(\"select * from usdot\", engine, index_col=\"usdid\")\n",
    "hfroads.head(n=1)"
   ]
  },
  {
   "cell_type": "code",
   "execution_count": 17,
   "metadata": {
    "scrolled": true
   },
   "outputs": [
    {
     "name": "stdout",
     "output_type": "stream",
     "text": [
      "Interpolating average speed along 680N  done.\n"
     ]
    }
   ],
   "source": [
    "hrdfs=[]\n",
    "\n",
    "from scipy.interpolate import interp1d\n",
    "\n",
    "def interpolate_onto_hr_roads(indf, cols=[\"avg_speed\"], dropna = False, do_spread_lanes=True):\n",
    "\n",
    "    for fwdir in indf[\"fwdir\"].unique():\n",
    "        print(\"\\rInterpolating average speed along %s \" % fwdir, end=\"\")\n",
    "        sel=indf.query('fwdir == \"%s\"' % fwdir).sort_values(by=\"abs_pm\")\n",
    "        #selhr=pd.read_sql(\"select * from usdot u where u.fwdir = '%s' order by u.abs_pm\" % fwdir, engine)\n",
    "        selhr=hfroads.query(\"fwdir == '%s'\" % fwdir).sort_values(by=\"abs_pm\")\n",
    "        \n",
    "        if do_spread_lanes:\n",
    "            selhr=spread_lanes(selhr, fwdir)\n",
    "\n",
    "        if len(sel) > 1:\n",
    "            #fillvalmin=sel.loc[minidx,\"abs_pm\"]\n",
    "            #fillvalmax=sel.loc[maxidx,\"abs_pm\"]\n",
    "            for col in cols:\n",
    "                interpmod = interp1d(sel[\"abs_pm\"].values, sel[col].values, bounds_error=False)\n",
    "                selhr[col] = interpmod(selhr[\"abs_pm\"].values)\n",
    "                if dropna:\n",
    "                    selhr.dropna(axis=\"index\", how=\"any\", subset=[col], inplace=True)\n",
    "            hrdfs.append(selhr)\n",
    "    print(\" done.\")\n",
    "\n",
    "    selhr=pd.concat(hrdfs)\n",
    "    selhr.reset_index(drop=True, inplace=True)\n",
    "    \n",
    "    return selhr\n",
    "\n",
    "selhr=interpolate_onto_hr_roads(snap, cols=[\"pred_speed\", \"true_speed\", \"pred_error\"])"
   ]
  },
  {
   "cell_type": "code",
   "execution_count": 18,
   "metadata": {},
   "outputs": [],
   "source": [
    "def speed2cat(speed):\n",
    "    if np.isnan(speed):\n",
    "        return 'no data'\n",
    "    elif speed > 65:\n",
    "        return 'fast'\n",
    "    elif speed > 60:\n",
    "        return 'moderate'\n",
    "    elif speed > 50:\n",
    "        return 'slow'\n",
    "    else: \n",
    "        return 'very slow'\n",
    "        \n",
    "selhr.head()\n",
    "selhr[\"pred_speed_cat\"]=selhr[\"pred_speed\"].apply(speed2cat)\n",
    "selhr[\"true_speed_cat\"]=selhr[\"true_speed\"].apply(speed2cat)"
   ]
  },
  {
   "cell_type": "code",
   "execution_count": 19,
   "metadata": {},
   "outputs": [],
   "source": [
    "#selhr[\"pred_error\"].describe()"
   ]
  },
  {
   "cell_type": "code",
   "execution_count": 20,
   "metadata": {},
   "outputs": [],
   "source": [
    "def err2cat(err):\n",
    "    if np.isnan(err):\n",
    "        return 'no data'\n",
    "    elif err > 5:\n",
    "        return 'overpredict > 5 mph'\n",
    "    elif err > 1:\n",
    "        return 'overpredict 1 - 5 mph'\n",
    "    elif err > -1: \n",
    "        return 'within 1 mph'\n",
    "    elif err > -5:\n",
    "        return 'underpredict 1 - 5 mph'\n",
    "    else:\n",
    "        return 'underpredict > 5 mph'\n",
    "        \n",
    "selhr[\"err_cat\"]=selhr[\"pred_error\"].apply(err2cat)"
   ]
  },
  {
   "cell_type": "code",
   "execution_count": 21,
   "metadata": {},
   "outputs": [
    {
     "data": {
      "text/html": [
       "<div>\n",
       "<style scoped>\n",
       "    .dataframe tbody tr th:only-of-type {\n",
       "        vertical-align: middle;\n",
       "    }\n",
       "\n",
       "    .dataframe tbody tr th {\n",
       "        vertical-align: top;\n",
       "    }\n",
       "\n",
       "    .dataframe thead th {\n",
       "        text-align: right;\n",
       "    }\n",
       "</style>\n",
       "<table border=\"1\" class=\"dataframe\">\n",
       "  <thead>\n",
       "    <tr style=\"text-align: right;\">\n",
       "      <th></th>\n",
       "      <th>fwdir</th>\n",
       "      <th>latitude</th>\n",
       "      <th>longitude</th>\n",
       "      <th>abs_pm</th>\n",
       "      <th>pred_speed</th>\n",
       "      <th>true_speed</th>\n",
       "      <th>pred_error</th>\n",
       "      <th>pred_speed_cat</th>\n",
       "      <th>true_speed_cat</th>\n",
       "      <th>err_cat</th>\n",
       "    </tr>\n",
       "  </thead>\n",
       "  <tbody>\n",
       "    <tr>\n",
       "      <th>7905</th>\n",
       "      <td>680N</td>\n",
       "      <td>37.463662</td>\n",
       "      <td>-121.902761</td>\n",
       "      <td>9.858517</td>\n",
       "      <td>NaN</td>\n",
       "      <td>NaN</td>\n",
       "      <td>NaN</td>\n",
       "      <td>no data</td>\n",
       "      <td>no data</td>\n",
       "      <td>no data</td>\n",
       "    </tr>\n",
       "    <tr>\n",
       "      <th>7906</th>\n",
       "      <td>680N</td>\n",
       "      <td>37.463810</td>\n",
       "      <td>-121.902878</td>\n",
       "      <td>9.870589</td>\n",
       "      <td>NaN</td>\n",
       "      <td>NaN</td>\n",
       "      <td>NaN</td>\n",
       "      <td>no data</td>\n",
       "      <td>no data</td>\n",
       "      <td>no data</td>\n",
       "    </tr>\n",
       "    <tr>\n",
       "      <th>7907</th>\n",
       "      <td>680N</td>\n",
       "      <td>37.463950</td>\n",
       "      <td>-121.902988</td>\n",
       "      <td>9.881989</td>\n",
       "      <td>NaN</td>\n",
       "      <td>NaN</td>\n",
       "      <td>NaN</td>\n",
       "      <td>no data</td>\n",
       "      <td>no data</td>\n",
       "      <td>no data</td>\n",
       "    </tr>\n",
       "    <tr>\n",
       "      <th>7908</th>\n",
       "      <td>680N</td>\n",
       "      <td>37.464358</td>\n",
       "      <td>-121.903274</td>\n",
       "      <td>9.914249</td>\n",
       "      <td>NaN</td>\n",
       "      <td>NaN</td>\n",
       "      <td>NaN</td>\n",
       "      <td>no data</td>\n",
       "      <td>no data</td>\n",
       "      <td>no data</td>\n",
       "    </tr>\n",
       "    <tr>\n",
       "      <th>7909</th>\n",
       "      <td>680N</td>\n",
       "      <td>37.464540</td>\n",
       "      <td>-121.903417</td>\n",
       "      <td>9.929069</td>\n",
       "      <td>NaN</td>\n",
       "      <td>NaN</td>\n",
       "      <td>NaN</td>\n",
       "      <td>no data</td>\n",
       "      <td>no data</td>\n",
       "      <td>no data</td>\n",
       "    </tr>\n",
       "  </tbody>\n",
       "</table>\n",
       "</div>"
      ],
      "text/plain": [
       "     fwdir   latitude   longitude    abs_pm  pred_speed  true_speed  \\\n",
       "7905  680N  37.463662 -121.902761  9.858517         NaN         NaN   \n",
       "7906  680N  37.463810 -121.902878  9.870589         NaN         NaN   \n",
       "7907  680N  37.463950 -121.902988  9.881989         NaN         NaN   \n",
       "7908  680N  37.464358 -121.903274  9.914249         NaN         NaN   \n",
       "7909  680N  37.464540 -121.903417  9.929069         NaN         NaN   \n",
       "\n",
       "      pred_error pred_speed_cat true_speed_cat  err_cat  \n",
       "7905         NaN        no data        no data  no data  \n",
       "7906         NaN        no data        no data  no data  \n",
       "7907         NaN        no data        no data  no data  \n",
       "7908         NaN        no data        no data  no data  \n",
       "7909         NaN        no data        no data  no data  "
      ]
     },
     "execution_count": 21,
     "metadata": {},
     "output_type": "execute_result"
    }
   ],
   "source": [
    "selhr.tail()"
   ]
  },
  {
   "cell_type": "code",
   "execution_count": 22,
   "metadata": {},
   "outputs": [
    {
     "data": {
      "text/plain": [
       "['fwdir',\n",
       " 'latitude',\n",
       " 'longitude',\n",
       " 'abs_pm',\n",
       " 'pred_speed',\n",
       " 'true_speed',\n",
       " 'pred_speed_cat',\n",
       " 'true_speed_cat',\n",
       " 'err_cat']"
      ]
     },
     "execution_count": 22,
     "metadata": {},
     "output_type": "execute_result"
    }
   ],
   "source": [
    "a=list(selhr.columns)\n",
    "a.remove(\"pred_error\")\n",
    "a"
   ]
  },
  {
   "cell_type": "code",
   "execution_count": 23,
   "metadata": {
    "scrolled": false
   },
   "outputs": [],
   "source": [
    "# %load road_group_split.py\n",
    "def road_group_split(indf, splitcat=\"pred_speed_cat\" ):\n",
    "                     #keep_cols=[\"latitude\", \"longitude\", \"abs_pm\", \"pred_speed\",\"fwdir\"]):\n",
    "    \n",
    "    odict={}\n",
    "    \n",
    "    keep_cols=list(indf.columns)\n",
    "    keep_cols.remove(splitcat)\n",
    "    \n",
    "    for col in keep_cols + [splitcat]:\n",
    "        odict[col] = []\n",
    "    #lats=[]\n",
    "    #lons=[]\n",
    "    #abs_pm=[]\n",
    "    #cat=[]\n",
    "    odict[\"linegroup\"] = []\n",
    "    \n",
    "    p=0 #number holding line group\n",
    "    i0=indf.index[0]\n",
    "    \n",
    "    for col in keep_cols + [splitcat]:\n",
    "        odict[col].append(indf.loc[i0,col])\n",
    "    \n",
    "    #lats.append(indf.loc[i0, \"latitude\"])\n",
    "    #lons.append(indf.loc[i0, \"longitude\"])\n",
    "    #abs_pm.append(indf.loc[i0, \"abs_pm\"])\n",
    "    #cat.append(indf.loc[i0, splitcat])\n",
    "    #group.append(p)\n",
    "    odict[\"linegroup\"].append(p)\n",
    "    \n",
    "    for n in indf.index[1:]:\n",
    "        if indf.loc[n,\"fwdir\"] != indf.loc[i0,\"fwdir\"]:\n",
    "            p+=1\n",
    "            \n",
    "        if indf.loc[n,splitcat] != indf.loc[i0,splitcat] and indf.loc[n,\"fwdir\"] == indf.loc[i0,\"fwdir\"]:\n",
    "            for col in keep_cols:\n",
    "                odict[col].append(indf.loc[n,col])\n",
    "            odict[splitcat].append(indf.loc[i0,splitcat])\n",
    "            #end previous group with new point and speed cat from previous point\n",
    "            #lats.append(indf.loc[n,\"latitude\"])\n",
    "            #lons.append(indf.loc[n,\"longitude\"])\n",
    "            #lons.append(indf.loc[n,\"abs_pm\"])\n",
    "            #cat.append(indf.loc[i0,splitcat])\n",
    "            #group.append(p)\n",
    "            odict[\"linegroup\"].append(p)\n",
    "            p+=1\n",
    "        #start new group\n",
    "        for col in keep_cols + [splitcat]:\n",
    "            odict[col].append(indf.loc[n,col])\n",
    "        #lats.append(indf.loc[n,\"latitude\"])\n",
    "        #lons.append(indf.loc[n,\"longitude\"])\n",
    "        #cat.append(indf.loc[n,splitcat])\n",
    "        #group.append(p)        \n",
    "        odict[\"linegroup\"].append(p)\n",
    "        i0=n\n",
    "    \n",
    "    #odf=pd.DataFrame({\"latitude\": lats, \"longitude\": lons, splitcat: cat, \"linegroup\": group})\n",
    "    odf=pd.DataFrame(odict)\n",
    "    return odf\n",
    "\n",
    "selhrg=road_group_split(selhr)\n",
    "#selhrg.tail()"
   ]
  },
  {
   "cell_type": "code",
   "execution_count": 24,
   "metadata": {},
   "outputs": [],
   "source": [
    "cdm={\"fast\": \"green\",\n",
    "     \"moderate\": \"orange\",\n",
    "     \"slow\": \"red\",\n",
    "     \"very slow\": \"brown\",\n",
    "     \"no data\": \"gray\"}"
   ]
  },
  {
   "cell_type": "code",
   "execution_count": 25,
   "metadata": {},
   "outputs": [
    {
     "data": {
      "text/html": [
       "<div>\n",
       "<style scoped>\n",
       "    .dataframe tbody tr th:only-of-type {\n",
       "        vertical-align: middle;\n",
       "    }\n",
       "\n",
       "    .dataframe tbody tr th {\n",
       "        vertical-align: top;\n",
       "    }\n",
       "\n",
       "    .dataframe thead th {\n",
       "        text-align: right;\n",
       "    }\n",
       "</style>\n",
       "<table border=\"1\" class=\"dataframe\">\n",
       "  <thead>\n",
       "    <tr style=\"text-align: right;\">\n",
       "      <th></th>\n",
       "      <th>fwdir</th>\n",
       "      <th>latitude</th>\n",
       "      <th>longitude</th>\n",
       "      <th>abs_pm</th>\n",
       "      <th>pred_speed</th>\n",
       "      <th>true_speed</th>\n",
       "      <th>pred_error</th>\n",
       "      <th>true_speed_cat</th>\n",
       "      <th>err_cat</th>\n",
       "      <th>pred_speed_cat</th>\n",
       "      <th>linegroup</th>\n",
       "    </tr>\n",
       "  </thead>\n",
       "  <tbody>\n",
       "    <tr>\n",
       "      <th>0</th>\n",
       "      <td>101N</td>\n",
       "      <td>36.917391</td>\n",
       "      <td>-121.547509</td>\n",
       "      <td>349.3</td>\n",
       "      <td>NaN</td>\n",
       "      <td>NaN</td>\n",
       "      <td>NaN</td>\n",
       "      <td>no data</td>\n",
       "      <td>no data</td>\n",
       "      <td>no data</td>\n",
       "      <td>0</td>\n",
       "    </tr>\n",
       "  </tbody>\n",
       "</table>\n",
       "</div>"
      ],
      "text/plain": [
       "  fwdir   latitude   longitude  abs_pm  pred_speed  true_speed  pred_error  \\\n",
       "0  101N  36.917391 -121.547509   349.3         NaN         NaN         NaN   \n",
       "\n",
       "  true_speed_cat  err_cat pred_speed_cat  linegroup  \n",
       "0        no data  no data        no data          0  "
      ]
     },
     "execution_count": 25,
     "metadata": {},
     "output_type": "execute_result"
    }
   ],
   "source": [
    "selhrg.head(n=1)"
   ]
  },
  {
   "cell_type": "code",
   "execution_count": 26,
   "metadata": {},
   "outputs": [],
   "source": [
    "cdme={\"within 1 mph\": \"green\",\n",
    "     \"underpredict 1 - 5 mph\": \"orange\",\n",
    "     \"underpredict > 5 mph\": \"red\",\n",
    "     \"overpredict 1 - 5 mph\": \"lightgreen\",\n",
    "     \"overpredict > 5 mph\": \"darkgreen\",\n",
    "     \"no data\": \"gray\"}"
   ]
  },
  {
   "cell_type": "code",
   "execution_count": 27,
   "metadata": {},
   "outputs": [],
   "source": [
    "#fig.write_image(\"traffic_layer_bay_pred_error.jpg\")"
   ]
  },
  {
   "cell_type": "code",
   "execution_count": 28,
   "metadata": {},
   "outputs": [],
   "source": [
    "import dash\n",
    "import dash_core_components as dcc\n",
    "import dash_html_components as html\n",
    "from dash.dependencies import Input, Output\n",
    "\n",
    "external_stylesheets = ['https://codepen.io/chriddyp/pen/bWLwgP.css']\n",
    "\n",
    "app = dash.Dash(__name__, external_stylesheets=external_stylesheets)\n",
    "\n",
    "# assume you have a \"long-form\" data frame\n",
    "# see https://plotly.com/python/px-arguments/ for more options\n",
    "\n",
    "app.layout = html.Div(children=[\n",
    "    html.H1(children='Traffic Dashboard'),\n",
    "\n",
    "    html.Div(children='''\n",
    "        DRCNN Network Performance\n",
    "    '''),\n",
    "    \n",
    "     html.H6('Variable'),\n",
    "     dcc.RadioItems(id='plottype',\n",
    "                   options=[{\"label\":\"True traffic\",\"value\": \"true_speed_cat\"},\n",
    "                           {\"label\":\"Predicted traffic\", \"value\": \"pred_speed_cat\"},\n",
    "                           {\"label\":\"Prediction error\", \"value\": \"err_cat\"}],\n",
    "                   value = 'pred_speed_cat',\n",
    "                   labelStyle={'display': 'block'}),\n",
    "\n",
    "     html.Div(children=[\n",
    "         dcc.Graph(id='roadmap', style={'display': 'inline-block'}),\n",
    "     #html.H6('Time Series'),\n",
    "         dcc.Graph(id='timeseries', style={'display': 'inline-block'})]),\n",
    "     html.Pre(id='click-data')\n",
    "])"
   ]
  },
  {
   "cell_type": "code",
   "execution_count": 29,
   "metadata": {},
   "outputs": [],
   "source": [
    "@app.callback(\n",
    "Output('roadmap','figure'),\n",
    "Input('plottype', 'value'))\n",
    "def plot_roads(plotcat):\n",
    "    plotly.io.templates.default='plotly'\n",
    "    #del fig\n",
    "    \n",
    "    print(plotcat)\n",
    "    selhrg=road_group_split(selhr, splitcat=plotcat) \n",
    "                        #keep_cols=keepcols)\n",
    "\n",
    "    fig = px.line_mapbox(\n",
    "    #fig=px.scatter_mapbox\n",
    "        selhrg, lat=\"latitude\", lon=\"longitude\", color=plotcat,\n",
    "                            #mapbox_style=\"carto-darkmatter\",\n",
    "                            mapbox_style=\"carto-positron\",\n",
    "                            #color_continuous_scale=\"aggrnyl\" ,\n",
    "                            line_group = \"linegroup\",\n",
    "                            hover_data=None, #list(selhrg.columns),\n",
    "                            center = {\"lat\": 37.34, \"lon\": -121.93},\n",
    "                            color_discrete_map= cdme if plotcat == \"err_cat\" else cdm,\n",
    "                            zoom=10,\n",
    "                            height=600, width=600)\n",
    "\n",
    "    for dat in fig.data:\n",
    "        dat[\"line\"][\"width\"] = 5\n",
    "\n",
    "    sensors[\"size\"] = 3\n",
    "    fig2 = px.scatter_mapbox(sensors.reset_index(), lat=\"latitude\", lon=\"longitude\",\n",
    "                            #hover_data=[\"stype\",\"fwy\",\"direc\",\"abs_pm\",\"pred_speed\"],\n",
    "                            hover_name=\"sid\",\n",
    "                            hover_data=list(sensors.reset_index().columns),\n",
    "                            mapbox_style=\"stamen-terrain\",\n",
    "                             color=\"stype\",\n",
    "                            color_discrete_map={\"ML\": \"blue\"},\n",
    "                            size=\"size\",\n",
    "                            opacity=0.35,\n",
    "                            size_max=5)\n",
    "    #for dat in fig2.data:\n",
    "    fig.add_trace(fig2.data[0])\n",
    "    \n",
    "    fig.update_layout(uirevision=True)\n",
    "\n",
    "    return  fig\n",
    "    #px.scatter(sel, x=\"longitude\", y=\"latitude\", color=\"total_flow\").update_traces(mode='lines+markers')"
   ]
  },
  {
   "cell_type": "code",
   "execution_count": 30,
   "metadata": {},
   "outputs": [],
   "source": [
    "#plot_roads(\"true_speed_cat\")\n",
    "#def plot_time_series(clickData):"
   ]
  },
  {
   "cell_type": "code",
   "execution_count": 37,
   "metadata": {},
   "outputs": [],
   "source": [
    "import plotly.graph_objects as go"
   ]
  },
  {
   "cell_type": "code",
   "execution_count": 47,
   "metadata": {},
   "outputs": [],
   "source": [
    "@app.callback(\n",
    "Output('timeseries','figure'),\n",
    "Input('roadmap','clickData'))\n",
    "def plot_time_series(clickData):\n",
    "#def plot_time_series(stid):\n",
    "    if type(clickData) == type(None):\n",
    "        return None\n",
    "    \n",
    "    if \"hovertext\" not in clickData[\"points\"][0].keys():\n",
    "        print(\"Click directly onto a sensor to plot time series.\")\n",
    "        return None\n",
    "\n",
    "    stid=clickData[\"points\"][0][\"hovertext\"]\n",
    "    print(stid)\n",
    "    tdf=get_time_series(stid)\n",
    "\n",
    "    if type(tdf) == type(None):\n",
    "        print(\"got None time series for %d\" % stid)\n",
    "        return None\n",
    "    \n",
    "    display(tdf.head(n=3))\n",
    "\n",
    "    fig3 = go.Figure()\n",
    "    fig3.add_trace(go.Scatter(x=tdf[\"time\"], y=tdf[\"pred\"], mode='lines', name='prediction'))\n",
    "    fig3.add_trace(go.Scatter(x=tdf[\"time\"], y=tdf[\"truth\"], mode='lines', name='observation'))\n",
    "    fig3.write_image(\"test_output.jpg\")\n",
    "\n",
    "    return fig3"
   ]
  },
  {
   "cell_type": "code",
   "execution_count": 42,
   "metadata": {},
   "outputs": [],
   "source": [
    "#plot_time_series(400837)"
   ]
  },
  {
   "cell_type": "code",
   "execution_count": 48,
   "metadata": {},
   "outputs": [],
   "source": [
    "import json\n",
    "@app.callback(\n",
    "    Output('click-data', 'children'),\n",
    "    Input('roadmap', 'clickData'))\n",
    "def display_click_data(clickData):\n",
    "    return json.dumps(clickData, indent=2)"
   ]
  },
  {
   "cell_type": "code",
   "execution_count": 49,
   "metadata": {},
   "outputs": [],
   "source": [
    "#plot_roads(\"true_speed_cat\")"
   ]
  },
  {
   "cell_type": "code",
   "execution_count": null,
   "metadata": {
    "scrolled": true
   },
   "outputs": [
    {
     "name": "stdout",
     "output_type": "stream",
     "text": [
      "Dash is running on http://127.0.0.1:8050/\n",
      "\n",
      " * Serving Flask app \"__main__\" (lazy loading)\n",
      " * Environment: production\n",
      "\u001b[31m   WARNING: This is a development server. Do not use it in a production deployment.\u001b[0m\n",
      "\u001b[2m   Use a production WSGI server instead.\u001b[0m\n",
      " * Debug mode: off\n"
     ]
    },
    {
     "name": "stderr",
     "output_type": "stream",
     "text": [
      " * Running on http://127.0.0.1:8050/ (Press CTRL+C to quit)\n",
      "127.0.0.1 - - [28/May/2021 00:23:13] \"\u001b[37mGET / HTTP/1.1\u001b[0m\" 200 -\n",
      "127.0.0.1 - - [28/May/2021 00:23:13] \"\u001b[37mGET /_dash-layout HTTP/1.1\u001b[0m\" 200 -\n",
      "127.0.0.1 - - [28/May/2021 00:23:13] \"\u001b[37mGET /_dash-dependencies HTTP/1.1\u001b[0m\" 200 -\n",
      "127.0.0.1 - - [28/May/2021 00:23:13] \"\u001b[37mPOST /_dash-update-component HTTP/1.1\u001b[0m\" 200 -\n",
      "127.0.0.1 - - [28/May/2021 00:23:13] \"\u001b[37mPOST /_dash-update-component HTTP/1.1\u001b[0m\" 200 -\n"
     ]
    },
    {
     "name": "stdout",
     "output_type": "stream",
     "text": [
      "pred_speed_cat\n"
     ]
    },
    {
     "name": "stderr",
     "output_type": "stream",
     "text": [
      "127.0.0.1 - - [28/May/2021 00:23:15] \"\u001b[37mPOST /_dash-update-component HTTP/1.1\u001b[0m\" 200 -\n"
     ]
    },
    {
     "name": "stdout",
     "output_type": "stream",
     "text": [
      "err_cat\n"
     ]
    },
    {
     "name": "stderr",
     "output_type": "stream",
     "text": [
      "127.0.0.1 - - [28/May/2021 00:23:23] \"\u001b[37mPOST /_dash-update-component HTTP/1.1\u001b[0m\" 200 -\n",
      "127.0.0.1 - - [28/May/2021 00:25:10] \"\u001b[37mPOST /_dash-update-component HTTP/1.1\u001b[0m\" 200 -\n"
     ]
    },
    {
     "name": "stdout",
     "output_type": "stream",
     "text": [
      "400508\n"
     ]
    },
    {
     "data": {
      "text/html": [
       "<div>\n",
       "<style scoped>\n",
       "    .dataframe tbody tr th:only-of-type {\n",
       "        vertical-align: middle;\n",
       "    }\n",
       "\n",
       "    .dataframe tbody tr th {\n",
       "        vertical-align: top;\n",
       "    }\n",
       "\n",
       "    .dataframe thead th {\n",
       "        text-align: right;\n",
       "    }\n",
       "</style>\n",
       "<table border=\"1\" class=\"dataframe\">\n",
       "  <thead>\n",
       "    <tr style=\"text-align: right;\">\n",
       "      <th></th>\n",
       "      <th>pred</th>\n",
       "      <th>truth</th>\n",
       "      <th>time</th>\n",
       "    </tr>\n",
       "  </thead>\n",
       "  <tbody>\n",
       "    <tr>\n",
       "      <th>51812</th>\n",
       "      <td>64.425667</td>\n",
       "      <td>64.500000</td>\n",
       "      <td>2020-06-29 00:00:00</td>\n",
       "    </tr>\n",
       "    <tr>\n",
       "      <th>51813</th>\n",
       "      <td>64.585579</td>\n",
       "      <td>64.599998</td>\n",
       "      <td>2020-06-29 00:05:00</td>\n",
       "    </tr>\n",
       "    <tr>\n",
       "      <th>51814</th>\n",
       "      <td>64.457184</td>\n",
       "      <td>64.400002</td>\n",
       "      <td>2020-06-29 00:10:00</td>\n",
       "    </tr>\n",
       "  </tbody>\n",
       "</table>\n",
       "</div>"
      ],
      "text/plain": [
       "            pred      truth                time\n",
       "51812  64.425667  64.500000 2020-06-29 00:00:00\n",
       "51813  64.585579  64.599998 2020-06-29 00:05:00\n",
       "51814  64.457184  64.400002 2020-06-29 00:10:00"
      ]
     },
     "metadata": {},
     "output_type": "display_data"
    },
    {
     "name": "stderr",
     "output_type": "stream",
     "text": [
      "127.0.0.1 - - [28/May/2021 00:25:12] \"\u001b[37mPOST /_dash-update-component HTTP/1.1\u001b[0m\" 200 -\n"
     ]
    }
   ],
   "source": [
    "if __name__ == '__main__':\n",
    "    app.run_server(debug=False)"
   ]
  },
  {
   "cell_type": "code",
   "execution_count": null,
   "metadata": {},
   "outputs": [],
   "source": []
  }
 ],
 "metadata": {
  "kernelspec": {
   "display_name": "Python 3",
   "language": "python",
   "name": "python3"
  },
  "language_info": {
   "codemirror_mode": {
    "name": "ipython",
    "version": 3
   },
   "file_extension": ".py",
   "mimetype": "text/x-python",
   "name": "python",
   "nbconvert_exporter": "python",
   "pygments_lexer": "ipython3",
   "version": "3.8.5"
  }
 },
 "nbformat": 4,
 "nbformat_minor": 2
}
