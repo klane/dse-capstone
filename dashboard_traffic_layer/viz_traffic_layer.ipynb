{
 "cells": [
  {
   "cell_type": "code",
   "execution_count": 1,
   "metadata": {},
   "outputs": [],
   "source": [
    "import plotly.express as px\n",
    "import plotly\n",
    "plotly.io.templates.default = 'plotly_dark'\n",
    "import pandas as pd\n",
    "import sqlalchemy as sal"
   ]
  },
  {
   "cell_type": "code",
   "execution_count": 2,
   "metadata": {},
   "outputs": [],
   "source": [
    "host=\"capstone.clihskgj8i7s.us-west-2.rds.amazonaws.com\"\n",
    "username=\"group3\"\n",
    "db=\"db1\"\n",
    "#pw=getpass.getpass(\"Enter database password\")\n",
    "pw=open(\"/home/daniel/Desktop/.awsdb\",\"r\").read().rstrip()"
   ]
  },
  {
   "cell_type": "code",
   "execution_count": 3,
   "metadata": {},
   "outputs": [],
   "source": [
    "engine = sal.create_engine('postgresql://%s:%s@%s/%s' % (username, pw, host, db))"
   ]
  },
  {
   "cell_type": "code",
   "execution_count": 4,
   "metadata": {},
   "outputs": [
    {
     "data": {
      "text/html": [
       "<div>\n",
       "<style scoped>\n",
       "    .dataframe tbody tr th:only-of-type {\n",
       "        vertical-align: middle;\n",
       "    }\n",
       "\n",
       "    .dataframe tbody tr th {\n",
       "        vertical-align: top;\n",
       "    }\n",
       "\n",
       "    .dataframe thead th {\n",
       "        text-align: right;\n",
       "    }\n",
       "</style>\n",
       "<table border=\"1\" class=\"dataframe\">\n",
       "  <thead>\n",
       "    <tr style=\"text-align: right;\">\n",
       "      <th></th>\n",
       "      <th>longitude</th>\n",
       "      <th>latitude</th>\n",
       "      <th>stype</th>\n",
       "      <th>fwy</th>\n",
       "      <th>direc</th>\n",
       "      <th>abs_pm</th>\n",
       "      <th>total_flow</th>\n",
       "      <th>avg_speed</th>\n",
       "    </tr>\n",
       "    <tr>\n",
       "      <th>sid</th>\n",
       "      <th></th>\n",
       "      <th></th>\n",
       "      <th></th>\n",
       "      <th></th>\n",
       "      <th></th>\n",
       "      <th></th>\n",
       "      <th></th>\n",
       "      <th></th>\n",
       "    </tr>\n",
       "  </thead>\n",
       "  <tbody>\n",
       "    <tr>\n",
       "      <th>1108285</th>\n",
       "      <td>-117.134145</td>\n",
       "      <td>32.713318</td>\n",
       "      <td>ML</td>\n",
       "      <td>94</td>\n",
       "      <td>W</td>\n",
       "      <td>0.819</td>\n",
       "      <td>232</td>\n",
       "      <td>64.8</td>\n",
       "    </tr>\n",
       "    <tr>\n",
       "      <th>1108287</th>\n",
       "      <td>-117.127908</td>\n",
       "      <td>32.714211</td>\n",
       "      <td>ML</td>\n",
       "      <td>94</td>\n",
       "      <td>W</td>\n",
       "      <td>1.205</td>\n",
       "      <td>153</td>\n",
       "      <td>58.6</td>\n",
       "    </tr>\n",
       "    <tr>\n",
       "      <th>1108289</th>\n",
       "      <td>-117.119831</td>\n",
       "      <td>32.716724</td>\n",
       "      <td>ML</td>\n",
       "      <td>94</td>\n",
       "      <td>W</td>\n",
       "      <td>1.721</td>\n",
       "      <td>252</td>\n",
       "      <td>62.9</td>\n",
       "    </tr>\n",
       "    <tr>\n",
       "      <th>1108291</th>\n",
       "      <td>-117.117861</td>\n",
       "      <td>32.717134</td>\n",
       "      <td>ML</td>\n",
       "      <td>94</td>\n",
       "      <td>W</td>\n",
       "      <td>1.844</td>\n",
       "      <td>311</td>\n",
       "      <td>65.1</td>\n",
       "    </tr>\n",
       "    <tr>\n",
       "      <th>1108293</th>\n",
       "      <td>-117.113171</td>\n",
       "      <td>32.717909</td>\n",
       "      <td>ML</td>\n",
       "      <td>94</td>\n",
       "      <td>W</td>\n",
       "      <td>2.134</td>\n",
       "      <td>277</td>\n",
       "      <td>62.8</td>\n",
       "    </tr>\n",
       "  </tbody>\n",
       "</table>\n",
       "</div>"
      ],
      "text/plain": [
       "          longitude   latitude stype  fwy direc  abs_pm  total_flow  avg_speed\n",
       "sid                                                                           \n",
       "1108285 -117.134145  32.713318    ML   94     W   0.819         232       64.8\n",
       "1108287 -117.127908  32.714211    ML   94     W   1.205         153       58.6\n",
       "1108289 -117.119831  32.716724    ML   94     W   1.721         252       62.9\n",
       "1108291 -117.117861  32.717134    ML   94     W   1.844         311       65.1\n",
       "1108293 -117.113171  32.717909    ML   94     W   2.134         277       62.8"
      ]
     },
     "execution_count": 4,
     "metadata": {},
     "output_type": "execute_result"
    }
   ],
   "source": [
    "#download a snapshot of data\n",
    "query=\"\"\"\n",
    "select l.sid, l.longitude, l.latitude, l.stype, l.fwy ,l.direc, l.abs_pm, t.total_flow ,\n",
    "t.avg_speed\n",
    "from traffic t, pemslocs l\n",
    "where t.timestamp between '2021-01-22 15:00:00' and '2021-01-22 15:03:00'\n",
    "and l.sid = t.station and l.stype = 'ML'\n",
    "\"\"\"\n",
    "snap=pd.read_sql(query, engine, index_col=\"sid\")\n",
    "snap.head()"
   ]
  },
  {
   "cell_type": "code",
   "execution_count": 5,
   "metadata": {},
   "outputs": [
    {
     "data": {
      "text/html": [
       "<div>\n",
       "<style scoped>\n",
       "    .dataframe tbody tr th:only-of-type {\n",
       "        vertical-align: middle;\n",
       "    }\n",
       "\n",
       "    .dataframe tbody tr th {\n",
       "        vertical-align: top;\n",
       "    }\n",
       "\n",
       "    .dataframe thead th {\n",
       "        text-align: right;\n",
       "    }\n",
       "</style>\n",
       "<table border=\"1\" class=\"dataframe\">\n",
       "  <thead>\n",
       "    <tr style=\"text-align: right;\">\n",
       "      <th></th>\n",
       "      <th>sid</th>\n",
       "      <th>fwy</th>\n",
       "      <th>direc</th>\n",
       "      <th>district</th>\n",
       "      <th>county</th>\n",
       "      <th>city</th>\n",
       "      <th>state_pm</th>\n",
       "      <th>abs_pm</th>\n",
       "      <th>latitude</th>\n",
       "      <th>longitude</th>\n",
       "      <th>length</th>\n",
       "      <th>stype</th>\n",
       "      <th>lanes</th>\n",
       "      <th>name</th>\n",
       "    </tr>\n",
       "  </thead>\n",
       "  <tbody>\n",
       "    <tr>\n",
       "      <th>0</th>\n",
       "      <td>308511</td>\n",
       "      <td>50</td>\n",
       "      <td>E</td>\n",
       "      <td>3</td>\n",
       "      <td>17</td>\n",
       "      <td>None</td>\n",
       "      <td>31.627</td>\n",
       "      <td>60.162</td>\n",
       "      <td>38.761062</td>\n",
       "      <td>-120.569835</td>\n",
       "      <td>5.0</td>\n",
       "      <td>ML</td>\n",
       "      <td>2</td>\n",
       "      <td>Sly Park Rd</td>\n",
       "    </tr>\n",
       "  </tbody>\n",
       "</table>\n",
       "</div>"
      ],
      "text/plain": [
       "      sid  fwy direc  district  county  city state_pm  abs_pm   latitude  \\\n",
       "0  308511   50     E         3      17  None   31.627  60.162  38.761062   \n",
       "\n",
       "    longitude  length stype  lanes         name  \n",
       "0 -120.569835     5.0    ML      2  Sly Park Rd  "
      ]
     },
     "execution_count": 5,
     "metadata": {},
     "output_type": "execute_result"
    }
   ],
   "source": [
    "pd.read_sql(\"select * from pemslocs limit 1\", engine)\n",
    "#print(len(snap))"
   ]
  },
  {
   "cell_type": "code",
   "execution_count": 6,
   "metadata": {},
   "outputs": [],
   "source": [
    "snap[\"total_flow\"]=snap[\"total_flow\"].astype(float)"
   ]
  },
  {
   "cell_type": "code",
   "execution_count": 7,
   "metadata": {},
   "outputs": [
    {
     "data": {
      "text/plain": [
       "array(['94W', '125S', '78E', '163S', '8W', '8E', '125N', '94E', '805S',\n",
       "       '78W', '15N', '5S', '15S', '5N', '805N', '163N', '54E', '54W',\n",
       "       '56E', '56W', '52E', '52W', '67S', '67N', '905W', '905E', '76W',\n",
       "       '76E', '11E', '11W'], dtype=object)"
      ]
     },
     "execution_count": 7,
     "metadata": {},
     "output_type": "execute_result"
    }
   ],
   "source": [
    "#create new column with fwy and direction as string\n",
    "snap[\"fwdir\"] = snap.apply(lambda x: str(x[\"fwy\"]) + str(x[\"direc\"]), axis=1)\n",
    "snap[\"fwdir\"].unique()"
   ]
  },
  {
   "cell_type": "code",
   "execution_count": 8,
   "metadata": {},
   "outputs": [],
   "source": [
    "import pickle\n",
    "with open(\"SD_fwys.pkl\", \"wb\") as fid:\n",
    "    pickle.dump(list(snap[\"fwdir\"].unique()), fid)"
   ]
  },
  {
   "cell_type": "code",
   "execution_count": 74,
   "metadata": {},
   "outputs": [
    {
     "data": {
      "text/html": [
       "<div>\n",
       "<style scoped>\n",
       "    .dataframe tbody tr th:only-of-type {\n",
       "        vertical-align: middle;\n",
       "    }\n",
       "\n",
       "    .dataframe tbody tr th {\n",
       "        vertical-align: top;\n",
       "    }\n",
       "\n",
       "    .dataframe thead th {\n",
       "        text-align: right;\n",
       "    }\n",
       "</style>\n",
       "<table border=\"1\" class=\"dataframe\">\n",
       "  <thead>\n",
       "    <tr style=\"text-align: right;\">\n",
       "      <th></th>\n",
       "      <th>longitude</th>\n",
       "      <th>latitude</th>\n",
       "      <th>stype</th>\n",
       "      <th>fwy</th>\n",
       "      <th>direc</th>\n",
       "      <th>abs_pm</th>\n",
       "      <th>total_flow</th>\n",
       "      <th>avg_speed</th>\n",
       "      <th>fwdir</th>\n",
       "      <th>speed_cat</th>\n",
       "    </tr>\n",
       "    <tr>\n",
       "      <th>sid</th>\n",
       "      <th></th>\n",
       "      <th></th>\n",
       "      <th></th>\n",
       "      <th></th>\n",
       "      <th></th>\n",
       "      <th></th>\n",
       "      <th></th>\n",
       "      <th></th>\n",
       "      <th></th>\n",
       "      <th></th>\n",
       "    </tr>\n",
       "  </thead>\n",
       "  <tbody>\n",
       "    <tr>\n",
       "      <th>1108315</th>\n",
       "      <td>-117.040554</td>\n",
       "      <td>32.744864</td>\n",
       "      <td>ML</td>\n",
       "      <td>94</td>\n",
       "      <td>W</td>\n",
       "      <td>7.130</td>\n",
       "      <td>365.0</td>\n",
       "      <td>63.7</td>\n",
       "      <td>94W</td>\n",
       "      <td>fast</td>\n",
       "    </tr>\n",
       "    <tr>\n",
       "      <th>1108317</th>\n",
       "      <td>-117.035279</td>\n",
       "      <td>32.745268</td>\n",
       "      <td>ML</td>\n",
       "      <td>94</td>\n",
       "      <td>W</td>\n",
       "      <td>7.454</td>\n",
       "      <td>343.0</td>\n",
       "      <td>64.4</td>\n",
       "      <td>94W</td>\n",
       "      <td>fast</td>\n",
       "    </tr>\n",
       "    <tr>\n",
       "      <th>1113173</th>\n",
       "      <td>-117.023229</td>\n",
       "      <td>32.746923</td>\n",
       "      <td>ML</td>\n",
       "      <td>94</td>\n",
       "      <td>W</td>\n",
       "      <td>8.204</td>\n",
       "      <td>278.0</td>\n",
       "      <td>64.4</td>\n",
       "      <td>94W</td>\n",
       "      <td>fast</td>\n",
       "    </tr>\n",
       "    <tr>\n",
       "      <th>1113126</th>\n",
       "      <td>-117.017105</td>\n",
       "      <td>32.748892</td>\n",
       "      <td>ML</td>\n",
       "      <td>94</td>\n",
       "      <td>W</td>\n",
       "      <td>8.611</td>\n",
       "      <td>139.0</td>\n",
       "      <td>67.0</td>\n",
       "      <td>94W</td>\n",
       "      <td>fast</td>\n",
       "    </tr>\n",
       "    <tr>\n",
       "      <th>1120121</th>\n",
       "      <td>-117.010444</td>\n",
       "      <td>32.753919</td>\n",
       "      <td>ML</td>\n",
       "      <td>94</td>\n",
       "      <td>W</td>\n",
       "      <td>9.140</td>\n",
       "      <td>97.0</td>\n",
       "      <td>63.2</td>\n",
       "      <td>94W</td>\n",
       "      <td>fast</td>\n",
       "    </tr>\n",
       "  </tbody>\n",
       "</table>\n",
       "</div>"
      ],
      "text/plain": [
       "          longitude   latitude stype  fwy direc  abs_pm  total_flow  \\\n",
       "sid                                                                   \n",
       "1108315 -117.040554  32.744864    ML   94     W   7.130       365.0   \n",
       "1108317 -117.035279  32.745268    ML   94     W   7.454       343.0   \n",
       "1113173 -117.023229  32.746923    ML   94     W   8.204       278.0   \n",
       "1113126 -117.017105  32.748892    ML   94     W   8.611       139.0   \n",
       "1120121 -117.010444  32.753919    ML   94     W   9.140        97.0   \n",
       "\n",
       "         avg_speed fwdir speed_cat  \n",
       "sid                                 \n",
       "1108315       63.7   94W      fast  \n",
       "1108317       64.4   94W      fast  \n",
       "1113173       64.4   94W      fast  \n",
       "1113126       67.0   94W      fast  \n",
       "1120121       63.2   94W      fast  "
      ]
     },
     "execution_count": 74,
     "metadata": {},
     "output_type": "execute_result"
    }
   ],
   "source": [
    "#sel=snap.query('fwdir == \"94W\"').sort_values(by=\"abs_pm\")\n",
    "#sel=snap.query('fwy == \"94\"').sort_values(by=\"abs_pm\")\n",
    "sel=snap\n",
    "sel=sel.sort_values(by=[\"fwdir\",\"abs_pm\"])\n",
    "sel.tail()"
   ]
  },
  {
   "cell_type": "code",
   "execution_count": 88,
   "metadata": {},
   "outputs": [],
   "source": [
    "def speed2cat(speed):\n",
    "    if speed > 65:\n",
    "        return 'fast'\n",
    "    elif speed > 60:\n",
    "        return 'moderate'\n",
    "    elif speed > 50:\n",
    "        return 'slow'\n",
    "    else:\n",
    "        return 'stopped'\n",
    "        \n",
    "sel[\"speed_cat\"]=sel[\"avg_speed\"].apply(speed2cat)"
   ]
  },
  {
   "cell_type": "code",
   "execution_count": 89,
   "metadata": {},
   "outputs": [
    {
     "data": {
      "text/plain": [
       "'aggrnyl'"
      ]
     },
     "execution_count": 89,
     "metadata": {},
     "output_type": "execute_result"
    }
   ],
   "source": [
    "colorscales = px.colors.named_colorscales()\n",
    "colorscales[0]"
   ]
  },
  {
   "cell_type": "code",
   "execution_count": 90,
   "metadata": {},
   "outputs": [
    {
     "data": {
      "text/plain": [
       "True"
      ]
     },
     "execution_count": 90,
     "metadata": {},
     "output_type": "execute_result"
    }
   ],
   "source": [
    "\"94W\" != \"94E\""
   ]
  },
  {
   "cell_type": "code",
   "execution_count": 91,
   "metadata": {},
   "outputs": [
    {
     "data": {
      "text/html": [
       "<div>\n",
       "<style scoped>\n",
       "    .dataframe tbody tr th:only-of-type {\n",
       "        vertical-align: middle;\n",
       "    }\n",
       "\n",
       "    .dataframe tbody tr th {\n",
       "        vertical-align: top;\n",
       "    }\n",
       "\n",
       "    .dataframe thead th {\n",
       "        text-align: right;\n",
       "    }\n",
       "</style>\n",
       "<table border=\"1\" class=\"dataframe\">\n",
       "  <thead>\n",
       "    <tr style=\"text-align: right;\">\n",
       "      <th></th>\n",
       "      <th>latitude</th>\n",
       "      <th>longitude</th>\n",
       "      <th>abs_pm</th>\n",
       "      <th>avg_speed</th>\n",
       "      <th>stype</th>\n",
       "      <th>fwdir</th>\n",
       "      <th>speed_cat</th>\n",
       "      <th>linegroup</th>\n",
       "    </tr>\n",
       "  </thead>\n",
       "  <tbody>\n",
       "    <tr>\n",
       "      <th>1015</th>\n",
       "      <td>32.746923</td>\n",
       "      <td>-117.023229</td>\n",
       "      <td>8.204</td>\n",
       "      <td>64.4</td>\n",
       "      <td>ML</td>\n",
       "      <td>94W</td>\n",
       "      <td>moderate</td>\n",
       "      <td>333</td>\n",
       "    </tr>\n",
       "    <tr>\n",
       "      <th>1016</th>\n",
       "      <td>32.748892</td>\n",
       "      <td>-117.017105</td>\n",
       "      <td>8.611</td>\n",
       "      <td>67.0</td>\n",
       "      <td>ML</td>\n",
       "      <td>94W</td>\n",
       "      <td>moderate</td>\n",
       "      <td>333</td>\n",
       "    </tr>\n",
       "    <tr>\n",
       "      <th>1017</th>\n",
       "      <td>32.748892</td>\n",
       "      <td>-117.017105</td>\n",
       "      <td>8.611</td>\n",
       "      <td>67.0</td>\n",
       "      <td>ML</td>\n",
       "      <td>94W</td>\n",
       "      <td>fast</td>\n",
       "      <td>334</td>\n",
       "    </tr>\n",
       "    <tr>\n",
       "      <th>1018</th>\n",
       "      <td>32.753919</td>\n",
       "      <td>-117.010444</td>\n",
       "      <td>9.140</td>\n",
       "      <td>63.2</td>\n",
       "      <td>ML</td>\n",
       "      <td>94W</td>\n",
       "      <td>fast</td>\n",
       "      <td>334</td>\n",
       "    </tr>\n",
       "    <tr>\n",
       "      <th>1019</th>\n",
       "      <td>32.753919</td>\n",
       "      <td>-117.010444</td>\n",
       "      <td>9.140</td>\n",
       "      <td>63.2</td>\n",
       "      <td>ML</td>\n",
       "      <td>94W</td>\n",
       "      <td>moderate</td>\n",
       "      <td>335</td>\n",
       "    </tr>\n",
       "  </tbody>\n",
       "</table>\n",
       "</div>"
      ],
      "text/plain": [
       "       latitude   longitude  abs_pm  avg_speed stype fwdir speed_cat  \\\n",
       "1015  32.746923 -117.023229   8.204       64.4    ML   94W  moderate   \n",
       "1016  32.748892 -117.017105   8.611       67.0    ML   94W  moderate   \n",
       "1017  32.748892 -117.017105   8.611       67.0    ML   94W      fast   \n",
       "1018  32.753919 -117.010444   9.140       63.2    ML   94W      fast   \n",
       "1019  32.753919 -117.010444   9.140       63.2    ML   94W  moderate   \n",
       "\n",
       "      linegroup  \n",
       "1015        333  \n",
       "1016        333  \n",
       "1017        334  \n",
       "1018        334  \n",
       "1019        335  "
      ]
     },
     "execution_count": 91,
     "metadata": {},
     "output_type": "execute_result"
    }
   ],
   "source": [
    "#%%writefile road_group_split.py\n",
    "def road_group_split(indf, splitcat=\"speed_cat\", \n",
    "                     keep_cols=[\"latitude\", \"longitude\", \"abs_pm\", \"avg_speed\",\"stype\",\"fwdir\"]):\n",
    "    \n",
    "    odict={}\n",
    "    for col in keep_cols + [splitcat]:\n",
    "        odict[col] = []\n",
    "    #lats=[]\n",
    "    #lons=[]\n",
    "    #abs_pm=[]\n",
    "    #cat=[]\n",
    "    odict[\"linegroup\"] = []\n",
    "    \n",
    "    p=0 #number holding line group\n",
    "    i0=indf.index[0]\n",
    "    \n",
    "    for col in keep_cols + [splitcat]:\n",
    "        odict[col].append(indf.loc[i0,col])\n",
    "    \n",
    "    #lats.append(indf.loc[i0, \"latitude\"])\n",
    "    #lons.append(indf.loc[i0, \"longitude\"])\n",
    "    #abs_pm.append(indf.loc[i0, \"abs_pm\"])\n",
    "    #cat.append(indf.loc[i0, splitcat])\n",
    "    #group.append(p)\n",
    "    odict[\"linegroup\"].append(p)\n",
    "    \n",
    "    for n in indf.index[1:]:\n",
    "        if indf.loc[n,\"fwdir\"] != indf.loc[i0,\"fwdir\"]:\n",
    "            p+=1\n",
    "            \n",
    "        if indf.loc[n,splitcat] != indf.loc[i0,splitcat] and indf.loc[n,\"fwdir\"] == indf.loc[i0,\"fwdir\"]:\n",
    "            for col in keep_cols:\n",
    "                odict[col].append(indf.loc[n,col])\n",
    "            odict[splitcat].append(indf.loc[i0,splitcat])\n",
    "            #end previous group with new point and speed cat from previous point\n",
    "            #lats.append(indf.loc[n,\"latitude\"])\n",
    "            #lons.append(indf.loc[n,\"longitude\"])\n",
    "            #lons.append(indf.loc[n,\"abs_pm\"])\n",
    "            #cat.append(indf.loc[i0,splitcat])\n",
    "            #group.append(p)\n",
    "            odict[\"linegroup\"].append(p)\n",
    "            p+=1\n",
    "        #start new group\n",
    "        for col in keep_cols + [splitcat]:\n",
    "            odict[col].append(indf.loc[n,col])\n",
    "        #lats.append(indf.loc[n,\"latitude\"])\n",
    "        #lons.append(indf.loc[n,\"longitude\"])\n",
    "        #cat.append(indf.loc[n,splitcat])\n",
    "        #group.append(p)        \n",
    "        odict[\"linegroup\"].append(p)\n",
    "        i0=n\n",
    "    \n",
    "    #odf=pd.DataFrame({\"latitude\": lats, \"longitude\": lons, splitcat: cat, \"linegroup\": group})\n",
    "    odf=pd.DataFrame(odict)\n",
    "    return odf\n",
    "\n",
    "selg=road_group_split(sel)\n",
    "selg.tail()"
   ]
  },
  {
   "cell_type": "code",
   "execution_count": 92,
   "metadata": {},
   "outputs": [
    {
     "data": {
      "text/html": [
       "<div>\n",
       "<style scoped>\n",
       "    .dataframe tbody tr th:only-of-type {\n",
       "        vertical-align: middle;\n",
       "    }\n",
       "\n",
       "    .dataframe tbody tr th {\n",
       "        vertical-align: top;\n",
       "    }\n",
       "\n",
       "    .dataframe thead th {\n",
       "        text-align: right;\n",
       "    }\n",
       "</style>\n",
       "<table border=\"1\" class=\"dataframe\">\n",
       "  <thead>\n",
       "    <tr style=\"text-align: right;\">\n",
       "      <th></th>\n",
       "      <th>latitude</th>\n",
       "      <th>longitude</th>\n",
       "      <th>abs_pm</th>\n",
       "      <th>avg_speed</th>\n",
       "      <th>stype</th>\n",
       "      <th>fwdir</th>\n",
       "      <th>speed_cat</th>\n",
       "      <th>linegroup</th>\n",
       "    </tr>\n",
       "  </thead>\n",
       "  <tbody>\n",
       "    <tr>\n",
       "      <th>0</th>\n",
       "      <td>32.563648</td>\n",
       "      <td>-116.949472</td>\n",
       "      <td>0.304</td>\n",
       "      <td>48.4</td>\n",
       "      <td>ML</td>\n",
       "      <td>11E</td>\n",
       "      <td>stopped</td>\n",
       "      <td>0</td>\n",
       "    </tr>\n",
       "    <tr>\n",
       "      <th>1</th>\n",
       "      <td>32.564398</td>\n",
       "      <td>-116.949606</td>\n",
       "      <td>0.135</td>\n",
       "      <td>51.9</td>\n",
       "      <td>ML</td>\n",
       "      <td>11W</td>\n",
       "      <td>slow</td>\n",
       "      <td>1</td>\n",
       "    </tr>\n",
       "    <tr>\n",
       "      <th>2</th>\n",
       "      <td>32.564077</td>\n",
       "      <td>-116.942823</td>\n",
       "      <td>0.530</td>\n",
       "      <td>50.8</td>\n",
       "      <td>ML</td>\n",
       "      <td>11W</td>\n",
       "      <td>slow</td>\n",
       "      <td>1</td>\n",
       "    </tr>\n",
       "    <tr>\n",
       "      <th>3</th>\n",
       "      <td>32.564034</td>\n",
       "      <td>-116.938179</td>\n",
       "      <td>0.800</td>\n",
       "      <td>62.4</td>\n",
       "      <td>ML</td>\n",
       "      <td>11W</td>\n",
       "      <td>slow</td>\n",
       "      <td>1</td>\n",
       "    </tr>\n",
       "    <tr>\n",
       "      <th>4</th>\n",
       "      <td>32.564034</td>\n",
       "      <td>-116.938179</td>\n",
       "      <td>0.800</td>\n",
       "      <td>62.4</td>\n",
       "      <td>ML</td>\n",
       "      <td>11W</td>\n",
       "      <td>moderate</td>\n",
       "      <td>2</td>\n",
       "    </tr>\n",
       "    <tr>\n",
       "      <th>...</th>\n",
       "      <td>...</td>\n",
       "      <td>...</td>\n",
       "      <td>...</td>\n",
       "      <td>...</td>\n",
       "      <td>...</td>\n",
       "      <td>...</td>\n",
       "      <td>...</td>\n",
       "      <td>...</td>\n",
       "    </tr>\n",
       "    <tr>\n",
       "      <th>1015</th>\n",
       "      <td>32.746923</td>\n",
       "      <td>-117.023229</td>\n",
       "      <td>8.204</td>\n",
       "      <td>64.4</td>\n",
       "      <td>ML</td>\n",
       "      <td>94W</td>\n",
       "      <td>moderate</td>\n",
       "      <td>333</td>\n",
       "    </tr>\n",
       "    <tr>\n",
       "      <th>1016</th>\n",
       "      <td>32.748892</td>\n",
       "      <td>-117.017105</td>\n",
       "      <td>8.611</td>\n",
       "      <td>67.0</td>\n",
       "      <td>ML</td>\n",
       "      <td>94W</td>\n",
       "      <td>moderate</td>\n",
       "      <td>333</td>\n",
       "    </tr>\n",
       "    <tr>\n",
       "      <th>1017</th>\n",
       "      <td>32.748892</td>\n",
       "      <td>-117.017105</td>\n",
       "      <td>8.611</td>\n",
       "      <td>67.0</td>\n",
       "      <td>ML</td>\n",
       "      <td>94W</td>\n",
       "      <td>fast</td>\n",
       "      <td>334</td>\n",
       "    </tr>\n",
       "    <tr>\n",
       "      <th>1018</th>\n",
       "      <td>32.753919</td>\n",
       "      <td>-117.010444</td>\n",
       "      <td>9.140</td>\n",
       "      <td>63.2</td>\n",
       "      <td>ML</td>\n",
       "      <td>94W</td>\n",
       "      <td>fast</td>\n",
       "      <td>334</td>\n",
       "    </tr>\n",
       "    <tr>\n",
       "      <th>1019</th>\n",
       "      <td>32.753919</td>\n",
       "      <td>-117.010444</td>\n",
       "      <td>9.140</td>\n",
       "      <td>63.2</td>\n",
       "      <td>ML</td>\n",
       "      <td>94W</td>\n",
       "      <td>moderate</td>\n",
       "      <td>335</td>\n",
       "    </tr>\n",
       "  </tbody>\n",
       "</table>\n",
       "<p>1020 rows × 8 columns</p>\n",
       "</div>"
      ],
      "text/plain": [
       "       latitude   longitude  abs_pm  avg_speed stype fwdir speed_cat  \\\n",
       "0     32.563648 -116.949472   0.304       48.4    ML   11E   stopped   \n",
       "1     32.564398 -116.949606   0.135       51.9    ML   11W      slow   \n",
       "2     32.564077 -116.942823   0.530       50.8    ML   11W      slow   \n",
       "3     32.564034 -116.938179   0.800       62.4    ML   11W      slow   \n",
       "4     32.564034 -116.938179   0.800       62.4    ML   11W  moderate   \n",
       "...         ...         ...     ...        ...   ...   ...       ...   \n",
       "1015  32.746923 -117.023229   8.204       64.4    ML   94W  moderate   \n",
       "1016  32.748892 -117.017105   8.611       67.0    ML   94W  moderate   \n",
       "1017  32.748892 -117.017105   8.611       67.0    ML   94W      fast   \n",
       "1018  32.753919 -117.010444   9.140       63.2    ML   94W      fast   \n",
       "1019  32.753919 -117.010444   9.140       63.2    ML   94W  moderate   \n",
       "\n",
       "      linegroup  \n",
       "0             0  \n",
       "1             1  \n",
       "2             1  \n",
       "3             1  \n",
       "4             2  \n",
       "...         ...  \n",
       "1015        333  \n",
       "1016        333  \n",
       "1017        334  \n",
       "1018        334  \n",
       "1019        335  \n",
       "\n",
       "[1020 rows x 8 columns]"
      ]
     },
     "execution_count": 92,
     "metadata": {},
     "output_type": "execute_result"
    }
   ],
   "source": [
    "pd.set_option(\"display.max_rows\", 50, \"display.max_columns\", 20)\n",
    "selg"
   ]
  },
  {
   "cell_type": "code",
   "execution_count": 93,
   "metadata": {},
   "outputs": [],
   "source": [
    "cdm={\"fast\": \"green\",\n",
    "     \"moderate\": \"orange\",\n",
    "     \"slow\": \"red\",\n",
    "     \"very slow\": \"brown\"}"
   ]
  },
  {
   "cell_type": "code",
   "execution_count": 94,
   "metadata": {},
   "outputs": [
    {
     "data": {
      "application/vnd.plotly.v1+json": {
       "config": {
        "plotlyServerURL": "https://plot.ly"
       },
       "data": [
        {
         "customdata": [
          [
           "ML",
           0.304,
           0,
           "11E"
          ]
         ],
         "hovertemplate": "speed_cat=stopped<br>linegroup=%{customdata[2]}<br>latitude=%{lat}<br>longitude=%{lon}<br>stype=%{customdata[0]}<br>abs_pm=%{customdata[1]}<br>fwdir=%{customdata[3]}<extra></extra>",
         "lat": [
          32.563648
         ],
         "legendgroup": "stopped",
         "line": {
          "color": "#FFA15A",
          "width": 3
         },
         "lon": [
          -116.949472
         ],
         "mode": "lines",
         "name": "stopped",
         "showlegend": true,
         "subplot": "mapbox",
         "type": "scattermapbox"
        },
        {
         "customdata": [
          [
           "ML",
           15.373,
           7,
           "125N"
          ],
          [
           "ML",
           16.965,
           7,
           "125N"
          ],
          [
           "ML",
           16.967,
           7,
           "125N"
          ],
          [
           "ML",
           17.535,
           7,
           "125N"
          ]
         ],
         "hovertemplate": "speed_cat=stopped<br>linegroup=%{customdata[2]}<br>latitude=%{lat}<br>longitude=%{lon}<br>stype=%{customdata[0]}<br>abs_pm=%{customdata[1]}<br>fwdir=%{customdata[3]}<extra></extra>",
         "lat": [
          32.754424,
          32.774754,
          32.774782,
          32.782757
         ],
         "legendgroup": "stopped",
         "line": {
          "color": "#FFA15A",
          "width": 3
         },
         "lon": [
          -117.01021,
          -117.002675,
          -117.002684,
          -117.005102
         ],
         "mode": "lines",
         "name": "stopped",
         "showlegend": false,
         "subplot": "mapbox",
         "type": "scattermapbox"
        },
        {
         "customdata": [
          [
           "ML",
           17.418,
           17,
           "125S"
          ],
          [
           "ML",
           17.628,
           17,
           "125S"
          ],
          [
           "ML",
           19.283,
           17,
           "125S"
          ]
         ],
         "hovertemplate": "speed_cat=stopped<br>linegroup=%{customdata[2]}<br>latitude=%{lat}<br>longitude=%{lon}<br>stype=%{customdata[0]}<br>abs_pm=%{customdata[1]}<br>fwdir=%{customdata[3]}<extra></extra>",
         "lat": [
          32.759045,
          32.761402,
          32.784849
         ],
         "legendgroup": "stopped",
         "line": {
          "color": "#FFA15A",
          "width": 3
         },
         "lon": [
          -117.005049,
          -117.002806,
          -117.0061
         ],
         "mode": "lines",
         "name": "stopped",
         "showlegend": false,
         "subplot": "mapbox",
         "type": "scattermapbox"
        },
        {
         "customdata": [
          [
           "ML",
           3.76,
           52,
           "15S"
          ],
          [
           "ML",
           4.144,
           52,
           "15S"
          ]
         ],
         "hovertemplate": "speed_cat=stopped<br>linegroup=%{customdata[2]}<br>latitude=%{lat}<br>longitude=%{lon}<br>stype=%{customdata[0]}<br>abs_pm=%{customdata[1]}<br>fwdir=%{customdata[3]}<extra></extra>",
         "lat": [
          32.74312,
          32.748042
         ],
         "legendgroup": "stopped",
         "line": {
          "color": "#FFA15A",
          "width": 3
         },
         "lon": [
          -117.111361,
          -117.109034
         ],
         "mode": "lines",
         "name": "stopped",
         "showlegend": false,
         "subplot": "mapbox",
         "type": "scattermapbox"
        },
        {
         "customdata": [
          [
           "ML",
           9.367,
           56,
           "15S"
          ],
          [
           "ML",
           9.737,
           56,
           "15S"
          ],
          [
           "ML",
           10.122,
           56,
           "15S"
          ],
          [
           "ML",
           10.803,
           56,
           "15S"
          ]
         ],
         "hovertemplate": "speed_cat=stopped<br>linegroup=%{customdata[2]}<br>latitude=%{lat}<br>longitude=%{lon}<br>stype=%{customdata[0]}<br>abs_pm=%{customdata[1]}<br>fwdir=%{customdata[3]}<extra></extra>",
         "lat": [
          32.822271,
          32.827529,
          32.832989,
          32.842604
         ],
         "legendgroup": "stopped",
         "line": {
          "color": "#FFA15A",
          "width": 3
         },
         "lon": [
          -117.116575,
          -117.117732,
          -117.118962,
          -117.120583
         ],
         "mode": "lines",
         "name": "stopped",
         "showlegend": false,
         "subplot": "mapbox",
         "type": "scattermapbox"
        },
        {
         "customdata": [
          [
           "ML",
           1.941,
           73,
           "163N"
          ],
          [
           "ML",
           2.289,
           73,
           "163N"
          ]
         ],
         "hovertemplate": "speed_cat=stopped<br>linegroup=%{customdata[2]}<br>latitude=%{lat}<br>longitude=%{lon}<br>stype=%{customdata[0]}<br>abs_pm=%{customdata[1]}<br>fwdir=%{customdata[3]}<extra></extra>",
         "lat": [
          32.746749,
          32.7516
         ],
         "legendgroup": "stopped",
         "line": {
          "color": "#FFA15A",
          "width": 3
         },
         "lon": [
          -117.156312,
          -117.155806
         ],
         "mode": "lines",
         "name": "stopped",
         "showlegend": false,
         "subplot": "mapbox",
         "type": "scattermapbox"
        },
        {
         "customdata": [
          [
           "ML",
           9.327,
           107,
           "56E"
          ]
         ],
         "hovertemplate": "speed_cat=stopped<br>linegroup=%{customdata[2]}<br>latitude=%{lat}<br>longitude=%{lon}<br>stype=%{customdata[0]}<br>abs_pm=%{customdata[1]}<br>fwdir=%{customdata[3]}<extra></extra>",
         "lat": [
          32.962525
         ],
         "legendgroup": "stopped",
         "line": {
          "color": "#FFA15A",
          "width": 3
         },
         "lon": [
          -117.101272
         ],
         "mode": "lines",
         "name": "stopped",
         "showlegend": false,
         "subplot": "mapbox",
         "type": "scattermapbox"
        },
        {
         "customdata": [
          [
           "ML",
           49.416,
           149,
           "5N"
          ],
          [
           "ML",
           50.342,
           149,
           "5N"
          ]
         ],
         "hovertemplate": "speed_cat=stopped<br>linegroup=%{customdata[2]}<br>latitude=%{lat}<br>longitude=%{lon}<br>stype=%{customdata[0]}<br>abs_pm=%{customdata[1]}<br>fwdir=%{customdata[3]}<extra></extra>",
         "lat": [
          33.155404,
          33.167741
         ],
         "legendgroup": "stopped",
         "line": {
          "color": "#FFA15A",
          "width": 3
         },
         "lon": [
          -117.338099,
          -117.344387
         ],
         "mode": "lines",
         "name": "stopped",
         "showlegend": false,
         "subplot": "mapbox",
         "type": "scattermapbox"
        },
        {
         "customdata": [
          [
           "ML",
           51.327,
           151,
           "5N"
          ],
          [
           "ML",
           52.299,
           151,
           "5N"
          ]
         ],
         "hovertemplate": "speed_cat=stopped<br>linegroup=%{customdata[2]}<br>latitude=%{lat}<br>longitude=%{lon}<br>stype=%{customdata[0]}<br>abs_pm=%{customdata[1]}<br>fwdir=%{customdata[3]}<extra></extra>",
         "lat": [
          33.179859,
          33.191415
         ],
         "legendgroup": "stopped",
         "line": {
          "color": "#FFA15A",
          "width": 3
         },
         "lon": [
          -117.353416,
          -117.363042
         ],
         "mode": "lines",
         "name": "stopped",
         "showlegend": false,
         "subplot": "mapbox",
         "type": "scattermapbox"
        },
        {
         "customdata": [
          [
           "ML",
           10.796,
           164,
           "5S"
          ],
          [
           "ML",
           11.178,
           164,
           "5S"
          ],
          [
           "ML",
           11.848,
           164,
           "5S"
          ],
          [
           "ML",
           12.113,
           164,
           "5S"
          ],
          [
           "ML",
           12.748,
           164,
           "5S"
          ]
         ],
         "hovertemplate": "speed_cat=stopped<br>linegroup=%{customdata[2]}<br>latitude=%{lat}<br>longitude=%{lon}<br>stype=%{customdata[0]}<br>abs_pm=%{customdata[1]}<br>fwdir=%{customdata[3]}<extra></extra>",
         "lat": [
          32.671761,
          32.67696,
          32.686001,
          32.688779,
          32.694108
         ],
         "legendgroup": "stopped",
         "line": {
          "color": "#FFA15A",
          "width": 3
         },
         "lon": [
          -117.111234,
          -117.109463,
          -117.113072,
          -117.116159,
          -117.124841
         ],
         "mode": "lines",
         "name": "stopped",
         "showlegend": false,
         "subplot": "mapbox",
         "type": "scattermapbox"
        },
        {
         "customdata": [
          [
           "ML",
           13.022,
           166,
           "5S"
          ],
          [
           "ML",
           13.372,
           166,
           "5S"
          ]
         ],
         "hovertemplate": "speed_cat=stopped<br>linegroup=%{customdata[2]}<br>latitude=%{lat}<br>longitude=%{lon}<br>stype=%{customdata[0]}<br>abs_pm=%{customdata[1]}<br>fwdir=%{customdata[3]}<extra></extra>",
         "lat": [
          32.694358,
          32.69574
         ],
         "legendgroup": "stopped",
         "line": {
          "color": "#FFA15A",
          "width": 3
         },
         "lon": [
          -117.129467,
          -117.135196
         ],
         "mode": "lines",
         "name": "stopped",
         "showlegend": false,
         "subplot": "mapbox",
         "type": "scattermapbox"
        },
        {
         "customdata": [
          [
           "ML",
           43.643,
           192,
           "5S"
          ],
          [
           "ML",
           44.559,
           192,
           "5S"
          ]
         ],
         "hovertemplate": "speed_cat=stopped<br>linegroup=%{customdata[2]}<br>latitude=%{lat}<br>longitude=%{lon}<br>stype=%{customdata[0]}<br>abs_pm=%{customdata[1]}<br>fwdir=%{customdata[3]}<extra></extra>",
         "lat": [
          33.080188,
          33.092248
         ],
         "legendgroup": "stopped",
         "line": {
          "color": "#FFA15A",
          "width": 3
         },
         "lon": [
          -117.296877,
          -117.303383
         ],
         "mode": "lines",
         "name": "stopped",
         "showlegend": false,
         "subplot": "mapbox",
         "type": "scattermapbox"
        },
        {
         "customdata": [
          [
           "ML",
           12.151,
           212,
           "76W"
          ],
          [
           "ML",
           13.336,
           212,
           "76W"
          ]
         ],
         "hovertemplate": "speed_cat=stopped<br>linegroup=%{customdata[2]}<br>latitude=%{lat}<br>longitude=%{lon}<br>stype=%{customdata[0]}<br>abs_pm=%{customdata[1]}<br>fwdir=%{customdata[3]}<extra></extra>",
         "lat": [
          33.290782,
          33.303867
         ],
         "legendgroup": "stopped",
         "line": {
          "color": "#FFA15A",
          "width": 3
         },
         "lon": [
          -117.225513,
          -117.213732
         ],
         "mode": "lines",
         "name": "stopped",
         "showlegend": false,
         "subplot": "mapbox",
         "type": "scattermapbox"
        },
        {
         "customdata": [
          [
           "ML",
           12.27,
           221,
           "78E"
          ],
          [
           "ML",
           13.018,
           221,
           "78E"
          ],
          [
           "ML",
           14.856,
           221,
           "78E"
          ],
          [
           "ML",
           15.592,
           221,
           "78E"
          ]
         ],
         "hovertemplate": "speed_cat=stopped<br>linegroup=%{customdata[2]}<br>latitude=%{lat}<br>longitude=%{lon}<br>stype=%{customdata[0]}<br>abs_pm=%{customdata[1]}<br>fwdir=%{customdata[3]}<extra></extra>",
         "lat": [
          33.137072,
          33.137161,
          33.135093,
          33.131243
         ],
         "legendgroup": "stopped",
         "line": {
          "color": "#FFA15A",
          "width": 3
         },
         "lon": [
          -117.17436,
          -117.161693,
          -117.131488,
          -117.119739
         ],
         "mode": "lines",
         "name": "stopped",
         "showlegend": false,
         "subplot": "mapbox",
         "type": "scattermapbox"
        },
        {
         "customdata": [
          [
           "ML",
           14.858,
           229,
           "78W"
          ],
          [
           "ML",
           15.366,
           229,
           "78W"
          ],
          [
           "ML",
           15.911,
           229,
           "78W"
          ],
          [
           "ML",
           16.263,
           229,
           "78W"
          ],
          [
           "ML",
           17.279,
           229,
           "78W"
          ]
         ],
         "hovertemplate": "speed_cat=stopped<br>linegroup=%{customdata[2]}<br>latitude=%{lat}<br>longitude=%{lon}<br>stype=%{customdata[0]}<br>abs_pm=%{customdata[1]}<br>fwdir=%{customdata[3]}<extra></extra>",
         "lat": [
          33.135241,
          33.132967,
          33.12936,
          33.127065,
          33.130825
         ],
         "legendgroup": "stopped",
         "line": {
          "color": "#FFA15A",
          "width": 3
         },
         "lon": [
          -117.13142,
          -117.123177,
          -117.114803,
          -117.109382,
          -117.092776
         ],
         "mode": "lines",
         "name": "stopped",
         "showlegend": false,
         "subplot": "mapbox",
         "type": "scattermapbox"
        },
        {
         "customdata": [
          [
           "ML",
           7.606,
           238,
           "805N"
          ],
          [
           "ML",
           9.095,
           238,
           "805N"
          ]
         ],
         "hovertemplate": "speed_cat=stopped<br>linegroup=%{customdata[2]}<br>latitude=%{lat}<br>longitude=%{lon}<br>stype=%{customdata[0]}<br>abs_pm=%{customdata[1]}<br>fwdir=%{customdata[3]}<extra></extra>",
         "lat": [
          32.647835,
          32.6631
         ],
         "legendgroup": "stopped",
         "line": {
          "color": "#FFA15A",
          "width": 3
         },
         "lon": [
          -117.060693,
          -117.078485
         ],
         "mode": "lines",
         "name": "stopped",
         "showlegend": false,
         "subplot": "mapbox",
         "type": "scattermapbox"
        },
        {
         "customdata": [
          [
           "ML",
           6.591,
           255,
           "805S"
          ],
          [
           "ML",
           6.933,
           255,
           "805S"
          ]
         ],
         "hovertemplate": "speed_cat=stopped<br>linegroup=%{customdata[2]}<br>latitude=%{lat}<br>longitude=%{lon}<br>stype=%{customdata[0]}<br>abs_pm=%{customdata[1]}<br>fwdir=%{customdata[3]}<extra></extra>",
         "lat": [
          32.636725,
          32.639609
         ],
         "legendgroup": "stopped",
         "line": {
          "color": "#FFA15A",
          "width": 3
         },
         "lon": [
          -117.049889,
          -117.054617
         ],
         "mode": "lines",
         "name": "stopped",
         "showlegend": false,
         "subplot": "mapbox",
         "type": "scattermapbox"
        },
        {
         "customdata": [
          [
           "ML",
           7.594,
           257,
           "805S"
          ],
          [
           "ML",
           8.293,
           257,
           "805S"
          ]
         ],
         "hovertemplate": "speed_cat=stopped<br>linegroup=%{customdata[2]}<br>latitude=%{lat}<br>longitude=%{lon}<br>stype=%{customdata[0]}<br>abs_pm=%{customdata[1]}<br>fwdir=%{customdata[3]}<extra></extra>",
         "lat": [
          32.647524,
          32.653505
         ],
         "legendgroup": "stopped",
         "line": {
          "color": "#FFA15A",
          "width": 3
         },
         "lon": [
          -117.060767,
          -117.070333
         ],
         "mode": "lines",
         "name": "stopped",
         "showlegend": false,
         "subplot": "mapbox",
         "type": "scattermapbox"
        },
        {
         "customdata": [
          [
           "ML",
           24.285,
           273,
           "805S"
          ],
          [
           "ML",
           25.1,
           273,
           "805S"
          ],
          [
           "ML",
           25.79,
           273,
           "805S"
          ],
          [
           "ML",
           26.251,
           273,
           "805S"
          ],
          [
           "ML",
           26.802,
           273,
           "805S"
          ]
         ],
         "hovertemplate": "speed_cat=stopped<br>linegroup=%{customdata[2]}<br>latitude=%{lat}<br>longitude=%{lon}<br>stype=%{customdata[0]}<br>abs_pm=%{customdata[1]}<br>fwdir=%{customdata[3]}<extra></extra>",
         "lat": [
          32.857504,
          32.8671,
          32.875201,
          32.881653,
          32.889107
         ],
         "legendgroup": "stopped",
         "line": {
          "color": "#FFA15A",
          "width": 3
         },
         "lon": [
          -117.184358,
          -117.192516,
          -117.199467,
          -117.201619,
          -117.204927
         ],
         "mode": "lines",
         "name": "stopped",
         "showlegend": false,
         "subplot": "mapbox",
         "type": "scattermapbox"
        },
        {
         "customdata": [
          [
           "ML",
           0.135,
           1,
           "11W"
          ],
          [
           "ML",
           0.53,
           1,
           "11W"
          ],
          [
           "ML",
           0.8,
           1,
           "11W"
          ]
         ],
         "hovertemplate": "speed_cat=slow<br>linegroup=%{customdata[2]}<br>latitude=%{lat}<br>longitude=%{lon}<br>stype=%{customdata[0]}<br>abs_pm=%{customdata[1]}<br>fwdir=%{customdata[3]}<extra></extra>",
         "lat": [
          32.564398,
          32.564077,
          32.564034
         ],
         "legendgroup": "slow",
         "line": {
          "color": "red",
          "width": 3
         },
         "lon": [
          -116.949606,
          -116.942823,
          -116.938179
         ],
         "mode": "lines",
         "name": "slow",
         "showlegend": true,
         "subplot": "mapbox",
         "type": "scattermapbox"
        },
        {
         "customdata": [
          [
           "ML",
           12.51,
           4,
           "125N"
          ],
          [
           "ML",
           13.126,
           4,
           "125N"
          ],
          [
           "ML",
           13.545,
           4,
           "125N"
          ]
         ],
         "hovertemplate": "speed_cat=slow<br>linegroup=%{customdata[2]}<br>latitude=%{lat}<br>longitude=%{lon}<br>stype=%{customdata[0]}<br>abs_pm=%{customdata[1]}<br>fwdir=%{customdata[3]}<extra></extra>",
         "lat": [
          32.716131,
          32.725198,
          32.731085
         ],
         "legendgroup": "slow",
         "line": {
          "color": "red",
          "width": 3
         },
         "lon": [
          -117.014296,
          -117.01447,
          -117.015062
         ],
         "mode": "lines",
         "name": "slow",
         "showlegend": false,
         "subplot": "mapbox",
         "type": "scattermapbox"
        },
        {
         "customdata": [
          [
           "ML",
           13.934,
           6,
           "125N"
          ],
          [
           "ML",
           15.373,
           6,
           "125N"
          ]
         ],
         "hovertemplate": "speed_cat=slow<br>linegroup=%{customdata[2]}<br>latitude=%{lat}<br>longitude=%{lon}<br>stype=%{customdata[0]}<br>abs_pm=%{customdata[1]}<br>fwdir=%{customdata[3]}<extra></extra>",
         "lat": [
          32.736686,
          32.754424
         ],
         "legendgroup": "slow",
         "line": {
          "color": "red",
          "width": 3
         },
         "lon": [
          -117.015668,
          -117.01021
         ],
         "mode": "lines",
         "name": "slow",
         "showlegend": false,
         "subplot": "mapbox",
         "type": "scattermapbox"
        },
        {
         "customdata": [
          [
           "ML",
           13.604,
           13,
           "125S"
          ],
          [
           "ML",
           15.317,
           13,
           "125S"
          ]
         ],
         "hovertemplate": "speed_cat=slow<br>linegroup=%{customdata[2]}<br>latitude=%{lat}<br>longitude=%{lon}<br>stype=%{customdata[0]}<br>abs_pm=%{customdata[1]}<br>fwdir=%{customdata[3]}<extra></extra>",
         "lat": [
          32.720013,
          32.741488
         ],
         "legendgroup": "slow",
         "line": {
          "color": "red",
          "width": 3
         },
         "lon": [
          -117.014848,
          -117.016541
         ],
         "mode": "lines",
         "name": "slow",
         "showlegend": false,
         "subplot": "mapbox",
         "type": "scattermapbox"
        },
        {
         "customdata": [
          [
           "ML",
           15.669,
           15,
           "125S"
          ],
          [
           "ML",
           16.382,
           15,
           "125S"
          ]
         ],
         "hovertemplate": "speed_cat=slow<br>linegroup=%{customdata[2]}<br>latitude=%{lat}<br>longitude=%{lon}<br>stype=%{customdata[0]}<br>abs_pm=%{customdata[1]}<br>fwdir=%{customdata[3]}<extra></extra>",
         "lat": [
          32.744963,
          32.749839
         ],
         "legendgroup": "slow",
         "line": {
          "color": "red",
          "width": 3
         },
         "lon": [
          -117.018519,
          -117.016252
         ],
         "mode": "lines",
         "name": "slow",
         "showlegend": false,
         "subplot": "mapbox",
         "type": "scattermapbox"
        },
        {
         "customdata": [
          [
           "ML",
           1.066,
           22,
           "15N"
          ],
          [
           "ML",
           1.829,
           22,
           "15N"
          ]
         ],
         "hovertemplate": "speed_cat=slow<br>linegroup=%{customdata[2]}<br>latitude=%{lat}<br>longitude=%{lon}<br>stype=%{customdata[0]}<br>abs_pm=%{customdata[1]}<br>fwdir=%{customdata[3]}<extra></extra>",
         "lat": [
          32.705882,
          32.716837
         ],
         "legendgroup": "slow",
         "line": {
          "color": "red",
          "width": 3
         },
         "lon": [
          -117.120433,
          -117.117751
         ],
         "mode": "lines",
         "name": "slow",
         "showlegend": false,
         "subplot": "mapbox",
         "type": "scattermapbox"
        },
        {
         "customdata": [
          [
           "ML",
           15.64,
           32,
           "15N"
          ],
          [
           "ML",
           16.199,
           32,
           "15N"
          ]
         ],
         "hovertemplate": "speed_cat=slow<br>linegroup=%{customdata[2]}<br>latitude=%{lat}<br>longitude=%{lon}<br>stype=%{customdata[0]}<br>abs_pm=%{customdata[1]}<br>fwdir=%{customdata[3]}<extra></extra>",
         "lat": [
          32.908922,
          32.917072
         ],
         "legendgroup": "slow",
         "line": {
          "color": "red",
          "width": 3
         },
         "lon": [
          -117.116195,
          -117.115831
         ],
         "mode": "lines",
         "name": "slow",
         "showlegend": false,
         "subplot": "mapbox",
         "type": "scattermapbox"
        },
        {
         "customdata": [
          [
           "ML",
           18.819,
           34,
           "15N"
          ],
          [
           "ML",
           19.704,
           34,
           "15N"
          ]
         ],
         "hovertemplate": "speed_cat=slow<br>linegroup=%{customdata[2]}<br>latitude=%{lat}<br>longitude=%{lon}<br>stype=%{customdata[0]}<br>abs_pm=%{customdata[1]}<br>fwdir=%{customdata[3]}<extra></extra>",
         "lat": [
          32.952937,
          32.964306
         ],
         "legendgroup": "slow",
         "line": {
          "color": "red",
          "width": 3
         },
         "lon": [
          -117.102548,
          -117.095374
         ],
         "mode": "lines",
         "name": "slow",
         "showlegend": false,
         "subplot": "mapbox",
         "type": "scattermapbox"
        },
        {
         "customdata": [
          [
           "ML",
           21.832,
           36,
           "15N"
          ],
          [
           "ML",
           22.301,
           36,
           "15N"
          ]
         ],
         "hovertemplate": "speed_cat=slow<br>linegroup=%{customdata[2]}<br>latitude=%{lat}<br>longitude=%{lon}<br>stype=%{customdata[0]}<br>abs_pm=%{customdata[1]}<br>fwdir=%{customdata[3]}<extra></extra>",
         "lat": [
          32.992706,
          32.999461
         ],
         "legendgroup": "slow",
         "line": {
          "color": "red",
          "width": 3
         },
         "lon": [
          -117.083408,
          -117.082451
         ],
         "mode": "lines",
         "name": "slow",
         "showlegend": false,
         "subplot": "mapbox",
         "type": "scattermapbox"
        },
        {
         "customdata": [
          [
           "ML",
           23.28,
           38,
           "15N"
          ],
          [
           "ML",
           23.561,
           38,
           "15N"
          ]
         ],
         "hovertemplate": "speed_cat=slow<br>linegroup=%{customdata[2]}<br>latitude=%{lat}<br>longitude=%{lon}<br>stype=%{customdata[0]}<br>abs_pm=%{customdata[1]}<br>fwdir=%{customdata[3]}<extra></extra>",
         "lat": [
          33.013247,
          33.017302
         ],
         "legendgroup": "slow",
         "line": {
          "color": "red",
          "width": 3
         },
         "lon": [
          -117.079485,
          -117.079039
         ],
         "mode": "lines",
         "name": "slow",
         "showlegend": false,
         "subplot": "mapbox",
         "type": "scattermapbox"
        },
        {
         "customdata": [
          [
           "ML",
           25.893,
           40,
           "15N"
          ],
          [
           "ML",
           25.893,
           40,
           "15N"
          ]
         ],
         "hovertemplate": "speed_cat=slow<br>linegroup=%{customdata[2]}<br>latitude=%{lat}<br>longitude=%{lon}<br>stype=%{customdata[0]}<br>abs_pm=%{customdata[1]}<br>fwdir=%{customdata[3]}<extra></extra>",
         "lat": [
          33.0503,
          33.0503
         ],
         "legendgroup": "slow",
         "line": {
          "color": "red",
          "width": 3
         },
         "lon": [
          -117.072669,
          -117.072669
         ],
         "mode": "lines",
         "name": "slow",
         "showlegend": false,
         "subplot": "mapbox",
         "type": "scattermapbox"
        },
        {
         "customdata": [
          [
           "ML",
           27.138,
           42,
           "15N"
          ],
          [
           "ML",
           28.525,
           42,
           "15N"
          ],
          [
           "ML",
           29.081,
           42,
           "15N"
          ]
         ],
         "hovertemplate": "speed_cat=slow<br>linegroup=%{customdata[2]}<br>latitude=%{lat}<br>longitude=%{lon}<br>stype=%{customdata[0]}<br>abs_pm=%{customdata[1]}<br>fwdir=%{customdata[3]}<extra></extra>",
         "lat": [
          33.067915,
          33.086753,
          33.092857
         ],
         "legendgroup": "slow",
         "line": {
          "color": "red",
          "width": 3
         },
         "lon": [
          -117.069049,
          -117.076377,
          -117.082787
         ],
         "mode": "lines",
         "name": "slow",
         "showlegend": false,
         "subplot": "mapbox",
         "type": "scattermapbox"
        },
        {
         "customdata": [
          [
           "ML",
           29.755,
           44,
           "15N"
          ],
          [
           "ML",
           30.469,
           44,
           "15N"
          ],
          [
           "ML",
           30.976,
           44,
           "15N"
          ],
          [
           "ML",
           31.653,
           44,
           "15N"
          ]
         ],
         "hovertemplate": "speed_cat=slow<br>linegroup=%{customdata[2]}<br>latitude=%{lat}<br>longitude=%{lon}<br>stype=%{customdata[0]}<br>abs_pm=%{customdata[1]}<br>fwdir=%{customdata[3]}<extra></extra>",
         "lat": [
          33.100535,
          33.109772,
          33.116398,
          33.125282
         ],
         "legendgroup": "slow",
         "line": {
          "color": "red",
          "width": 3
         },
         "lon": [
          -117.090041,
          -117.095518,
          -117.099391,
          -117.104135
         ],
         "mode": "lines",
         "name": "slow",
         "showlegend": false,
         "subplot": "mapbox",
         "type": "scattermapbox"
        },
        {
         "customdata": [
          [
           "ML",
           0.723,
           48,
           "15S"
          ],
          [
           "ML",
           1.703,
           48,
           "15S"
          ]
         ],
         "hovertemplate": "speed_cat=slow<br>linegroup=%{customdata[2]}<br>latitude=%{lat}<br>longitude=%{lon}<br>stype=%{customdata[0]}<br>abs_pm=%{customdata[1]}<br>fwdir=%{customdata[3]}<extra></extra>",
         "lat": [
          32.701146,
          32.715149
         ],
         "legendgroup": "slow",
         "line": {
          "color": "red",
          "width": 3
         },
         "lon": [
          -117.120937,
          -117.117869
         ],
         "mode": "lines",
         "name": "slow",
         "showlegend": false,
         "subplot": "mapbox",
         "type": "scattermapbox"
        },
        {
         "customdata": [
          [
           "ML",
           2.294,
           50,
           "15S"
          ],
          [
           "ML",
           3.049,
           50,
           "15S"
          ]
         ],
         "hovertemplate": "speed_cat=slow<br>linegroup=%{customdata[2]}<br>latitude=%{lat}<br>longitude=%{lon}<br>stype=%{customdata[0]}<br>abs_pm=%{customdata[1]}<br>fwdir=%{customdata[3]}<extra></extra>",
         "lat": [
          32.723273,
          32.733539
         ],
         "legendgroup": "slow",
         "line": {
          "color": "red",
          "width": 3
         },
         "lon": [
          -117.115525,
          -117.11215
         ],
         "mode": "lines",
         "name": "slow",
         "showlegend": false,
         "subplot": "mapbox",
         "type": "scattermapbox"
        },
        {
         "customdata": [
          [
           "ML",
           4.144,
           53,
           "15S"
          ],
          [
           "ML",
           4.591,
           53,
           "15S"
          ]
         ],
         "hovertemplate": "speed_cat=slow<br>linegroup=%{customdata[2]}<br>latitude=%{lat}<br>longitude=%{lon}<br>stype=%{customdata[0]}<br>abs_pm=%{customdata[1]}<br>fwdir=%{customdata[3]}<extra></extra>",
         "lat": [
          32.748042,
          32.754476
         ],
         "legendgroup": "slow",
         "line": {
          "color": "red",
          "width": 3
         },
         "lon": [
          -117.109034,
          -117.108977
         ],
         "mode": "lines",
         "name": "slow",
         "showlegend": false,
         "subplot": "mapbox",
         "type": "scattermapbox"
        },
        {
         "customdata": [
          [
           "ML",
           7.842,
           55,
           "15S"
          ],
          [
           "ML",
           8.032,
           55,
           "15S"
          ],
          [
           "ML",
           8.507,
           55,
           "15S"
          ],
          [
           "ML",
           8.833,
           55,
           "15S"
          ],
          [
           "ML",
           9.367,
           55,
           "15S"
          ]
         ],
         "hovertemplate": "speed_cat=slow<br>linegroup=%{customdata[2]}<br>latitude=%{lat}<br>longitude=%{lon}<br>stype=%{customdata[0]}<br>abs_pm=%{customdata[1]}<br>fwdir=%{customdata[3]}<extra></extra>",
         "lat": [
          32.800345,
          32.803081,
          32.809906,
          32.814606,
          32.822271
         ],
         "legendgroup": "slow",
         "line": {
          "color": "red",
          "width": 3
         },
         "lon": [
          -117.112825,
          -117.113175,
          -117.114188,
          -117.114981,
          -117.116575
         ],
         "mode": "lines",
         "name": "slow",
         "showlegend": false,
         "subplot": "mapbox",
         "type": "scattermapbox"
        },
        {
         "customdata": [
          [
           "ML",
           15.629,
           61,
           "15S"
          ],
          [
           "ML",
           16.211,
           61,
           "15S"
          ]
         ],
         "hovertemplate": "speed_cat=slow<br>linegroup=%{customdata[2]}<br>latitude=%{lat}<br>longitude=%{lon}<br>stype=%{customdata[0]}<br>abs_pm=%{customdata[1]}<br>fwdir=%{customdata[3]}<extra></extra>",
         "lat": [
          32.908916,
          32.917445
         ],
         "legendgroup": "slow",
         "line": {
          "color": "red",
          "width": 3
         },
         "lon": [
          -117.116587,
          -117.116153
         ],
         "mode": "lines",
         "name": "slow",
         "showlegend": false,
         "subplot": "mapbox",
         "type": "scattermapbox"
        },
        {
         "customdata": [
          [
           "ML",
           21.298,
           65,
           "15S"
          ],
          [
           "ML",
           21.818,
           65,
           "15S"
          ],
          [
           "ML",
           22.073,
           65,
           "15S"
          ]
         ],
         "hovertemplate": "speed_cat=slow<br>linegroup=%{customdata[2]}<br>latitude=%{lat}<br>longitude=%{lon}<br>stype=%{customdata[0]}<br>abs_pm=%{customdata[1]}<br>fwdir=%{customdata[3]}<extra></extra>",
         "lat": [
          32.985192,
          32.992818,
          32.996577
         ],
         "legendgroup": "slow",
         "line": {
          "color": "red",
          "width": 3
         },
         "lon": [
          -117.083216,
          -117.083901,
          -117.083687
         ],
         "mode": "lines",
         "name": "slow",
         "showlegend": false,
         "subplot": "mapbox",
         "type": "scattermapbox"
        },
        {
         "customdata": [
          [
           "ML",
           23.108,
           67,
           "15S"
          ],
          [
           "ML",
           23.552,
           67,
           "15S"
          ]
         ],
         "hovertemplate": "speed_cat=slow<br>linegroup=%{customdata[2]}<br>latitude=%{lat}<br>longitude=%{lon}<br>stype=%{customdata[0]}<br>abs_pm=%{customdata[1]}<br>fwdir=%{customdata[3]}<extra></extra>",
         "lat": [
          33.010949,
          33.017337
         ],
         "legendgroup": "slow",
         "line": {
          "color": "red",
          "width": 3
         },
         "lon": [
          -117.08016,
          -117.079473
         ],
         "mode": "lines",
         "name": "slow",
         "showlegend": false,
         "subplot": "mapbox",
         "type": "scattermapbox"
        },
        {
         "customdata": [
          [
           "ML",
           28.087,
           69,
           "15S"
          ],
          [
           "ML",
           28.516,
           69,
           "15S"
          ],
          [
           "ML",
           28.868,
           69,
           "15S"
          ],
          [
           "ML",
           30.217,
           69,
           "15S"
          ],
          [
           "ML",
           30.955,
           69,
           "15S"
          ]
         ],
         "hovertemplate": "speed_cat=slow<br>linegroup=%{customdata[2]}<br>latitude=%{lat}<br>longitude=%{lon}<br>stype=%{customdata[0]}<br>abs_pm=%{customdata[1]}<br>fwdir=%{customdata[3]}<extra></extra>",
         "lat": [
          33.08147,
          33.086691,
          33.090473,
          33.106484,
          33.116146
         ],
         "legendgroup": "slow",
         "line": {
          "color": "red",
          "width": 3
         },
         "lon": [
          -117.072744,
          -117.076716,
          -117.080791,
          -117.093924,
          -117.099574
         ],
         "mode": "lines",
         "name": "slow",
         "showlegend": false,
         "subplot": "mapbox",
         "type": "scattermapbox"
        },
        {
         "customdata": [
          [
           "ML",
           1.892,
           78,
           "163S"
          ],
          [
           "ML",
           2.101,
           78,
           "163S"
          ]
         ],
         "hovertemplate": "speed_cat=slow<br>linegroup=%{customdata[2]}<br>latitude=%{lat}<br>longitude=%{lon}<br>stype=%{customdata[0]}<br>abs_pm=%{customdata[1]}<br>fwdir=%{customdata[3]}<extra></extra>",
         "lat": [
          32.746765,
          32.749679
         ],
         "legendgroup": "slow",
         "line": {
          "color": "red",
          "width": 3
         },
         "lon": [
          -117.156512,
          -117.155519
         ],
         "mode": "lines",
         "name": "slow",
         "showlegend": false,
         "subplot": "mapbox",
         "type": "scattermapbox"
        },
        {
         "customdata": [
          [
           "ML",
           11.401,
           88,
           "52E"
          ],
          [
           "ML",
           11.65,
           88,
           "52E"
          ]
         ],
         "hovertemplate": "speed_cat=slow<br>linegroup=%{customdata[2]}<br>latitude=%{lat}<br>longitude=%{lon}<br>stype=%{customdata[0]}<br>abs_pm=%{customdata[1]}<br>fwdir=%{customdata[3]}<extra></extra>",
         "lat": [
          32.853811,
          32.853151
         ],
         "legendgroup": "slow",
         "line": {
          "color": "red",
          "width": 3
         },
         "lon": [
          -117.055777,
          -117.051554
         ],
         "mode": "lines",
         "name": "slow",
         "showlegend": false,
         "subplot": "mapbox",
         "type": "scattermapbox"
        },
        {
         "customdata": [
          [
           "ML",
           12.401,
           90,
           "52E"
          ],
          [
           "ML",
           12.921,
           90,
           "52E"
          ]
         ],
         "hovertemplate": "speed_cat=slow<br>linegroup=%{customdata[2]}<br>latitude=%{lat}<br>longitude=%{lon}<br>stype=%{customdata[0]}<br>abs_pm=%{customdata[1]}<br>fwdir=%{customdata[3]}<extra></extra>",
         "lat": [
          32.851233,
          32.848883
         ],
         "legendgroup": "slow",
         "line": {
          "color": "red",
          "width": 3
         },
         "lon": [
          -117.038885,
          -117.030492
         ],
         "mode": "lines",
         "name": "slow",
         "showlegend": false,
         "subplot": "mapbox",
         "type": "scattermapbox"
        },
        {
         "customdata": [
          [
           "ML",
           13.402,
           92,
           "52E"
          ],
          [
           "ML",
           14.25,
           92,
           "52E"
          ]
         ],
         "hovertemplate": "speed_cat=slow<br>linegroup=%{customdata[2]}<br>latitude=%{lat}<br>longitude=%{lon}<br>stype=%{customdata[0]}<br>abs_pm=%{customdata[1]}<br>fwdir=%{customdata[3]}<extra></extra>",
         "lat": [
          32.84345,
          32.835925
         ],
         "legendgroup": "slow",
         "line": {
          "color": "red",
          "width": 3
         },
         "lon": [
          -117.025624,
          -117.015497
         ],
         "mode": "lines",
         "name": "slow",
         "showlegend": false,
         "subplot": "mapbox",
         "type": "scattermapbox"
        },
        {
         "customdata": [
          [
           "ML",
           5.025,
           100,
           "54E"
          ]
         ],
         "hovertemplate": "speed_cat=slow<br>linegroup=%{customdata[2]}<br>latitude=%{lat}<br>longitude=%{lon}<br>stype=%{customdata[0]}<br>abs_pm=%{customdata[1]}<br>fwdir=%{customdata[3]}<extra></extra>",
         "lat": [
          32.682203
         ],
         "legendgroup": "slow",
         "line": {
          "color": "red",
          "width": 3
         },
         "lon": [
          -117.029012
         ],
         "mode": "lines",
         "name": "slow",
         "showlegend": false,
         "subplot": "mapbox",
         "type": "scattermapbox"
        },
        {
         "customdata": [
          [
           "ML",
           2.965,
           101,
           "54W"
          ],
          [
           "ML",
           4.036,
           101,
           "54W"
          ]
         ],
         "hovertemplate": "speed_cat=slow<br>linegroup=%{customdata[2]}<br>latitude=%{lat}<br>longitude=%{lon}<br>stype=%{customdata[0]}<br>abs_pm=%{customdata[1]}<br>fwdir=%{customdata[3]}<extra></extra>",
         "lat": [
          32.664368,
          32.671672
         ],
         "legendgroup": "slow",
         "line": {
          "color": "red",
          "width": 3
         },
         "lon": [
          -117.057402,
          -117.041389
         ],
         "mode": "lines",
         "name": "slow",
         "showlegend": false,
         "subplot": "mapbox",
         "type": "scattermapbox"
        },
        {
         "customdata": [
          [
           "ML",
           1.4,
           105,
           "56E"
          ],
          [
           "ML",
           1.891,
           105,
           "56E"
          ]
         ],
         "hovertemplate": "speed_cat=slow<br>linegroup=%{customdata[2]}<br>latitude=%{lat}<br>longitude=%{lon}<br>stype=%{customdata[0]}<br>abs_pm=%{customdata[1]}<br>fwdir=%{customdata[3]}<extra></extra>",
         "lat": [
          32.940727,
          32.944548
         ],
         "legendgroup": "slow",
         "line": {
          "color": "red",
          "width": 3
         },
         "lon": [
          -117.220084,
          -117.21295
         ],
         "mode": "lines",
         "name": "slow",
         "showlegend": false,
         "subplot": "mapbox",
         "type": "scattermapbox"
        },
        {
         "customdata": [
          [
           "ML",
           0.881,
           108,
           "56W"
          ],
          [
           "ML",
           1.289,
           108,
           "56W"
          ]
         ],
         "hovertemplate": "speed_cat=slow<br>linegroup=%{customdata[2]}<br>latitude=%{lat}<br>longitude=%{lon}<br>stype=%{customdata[0]}<br>abs_pm=%{customdata[1]}<br>fwdir=%{customdata[3]}<extra></extra>",
         "lat": [
          32.937679,
          32.940106
         ],
         "legendgroup": "slow",
         "line": {
          "color": "red",
          "width": 3
         },
         "lon": [
          -117.228154,
          -117.221888
         ],
         "mode": "lines",
         "name": "slow",
         "showlegend": false,
         "subplot": "mapbox",
         "type": "scattermapbox"
        },
        {
         "customdata": [
          [
           "ML",
           12.114,
           121,
           "5N"
          ],
          [
           "ML",
           12.747,
           121,
           "5N"
          ]
         ],
         "hovertemplate": "speed_cat=slow<br>linegroup=%{customdata[2]}<br>latitude=%{lat}<br>longitude=%{lon}<br>stype=%{customdata[0]}<br>abs_pm=%{customdata[1]}<br>fwdir=%{customdata[3]}<extra></extra>",
         "lat": [
          32.688981,
          32.694337
         ],
         "legendgroup": "slow",
         "line": {
          "color": "red",
          "width": 3
         },
         "lon": [
          -117.115932,
          -117.124759
         ],
         "mode": "lines",
         "name": "slow",
         "showlegend": false,
         "subplot": "mapbox",
         "type": "scattermapbox"
        },
        {
         "customdata": [
          [
           "ML",
           14.417,
           125,
           "5N"
          ],
          [
           "ML",
           14.857,
           125,
           "5N"
          ]
         ],
         "hovertemplate": "speed_cat=slow<br>linegroup=%{customdata[2]}<br>latitude=%{lat}<br>longitude=%{lon}<br>stype=%{customdata[0]}<br>abs_pm=%{customdata[1]}<br>fwdir=%{customdata[3]}<extra></extra>",
         "lat": [
          32.706216,
          32.712599
         ],
         "legendgroup": "slow",
         "line": {
          "color": "red",
          "width": 3
         },
         "lon": [
          -117.147448,
          -117.147532
         ],
         "mode": "lines",
         "name": "slow",
         "showlegend": false,
         "subplot": "mapbox",
         "type": "scattermapbox"
        },
        {
         "customdata": [
          [
           "ML",
           15.231,
           127,
           "5N"
          ],
          [
           "ML",
           15.663,
           127,
           "5N"
          ]
         ],
         "hovertemplate": "speed_cat=slow<br>linegroup=%{customdata[2]}<br>latitude=%{lat}<br>longitude=%{lon}<br>stype=%{customdata[0]}<br>abs_pm=%{customdata[1]}<br>fwdir=%{customdata[3]}<extra></extra>",
         "lat": [
          32.718046,
          32.723648
         ],
         "legendgroup": "slow",
         "line": {
          "color": "red",
          "width": 3
         },
         "lon": [
          -117.147616,
          -117.150497
         ],
         "mode": "lines",
         "name": "slow",
         "showlegend": false,
         "subplot": "mapbox",
         "type": "scattermapbox"
        },
        {
         "customdata": [
          [
           "ML",
           21.367,
           132,
           "5N"
          ],
          [
           "ML",
           21.974,
           132,
           "5N"
          ],
          [
           "ML",
           22.215,
           132,
           "5N"
          ]
         ],
         "hovertemplate": "speed_cat=slow<br>linegroup=%{customdata[2]}<br>latitude=%{lat}<br>longitude=%{lon}<br>stype=%{customdata[0]}<br>abs_pm=%{customdata[1]}<br>fwdir=%{customdata[3]}<extra></extra>",
         "lat": [
          32.779349,
          32.788076,
          32.79154
         ],
         "legendgroup": "slow",
         "line": {
          "color": "red",
          "width": 3
         },
         "lon": [
          -117.208332,
          -117.2069,
          -117.20716
         ],
         "mode": "lines",
         "name": "slow",
         "showlegend": false,
         "subplot": "mapbox",
         "type": "scattermapbox"
        },
        {
         "customdata": [
          [
           "ML",
           36.123,
           140,
           "5N"
          ],
          [
           "ML",
           36.719,
           140,
           "5N"
          ],
          [
           "ML",
           37.261,
           140,
           "5N"
          ],
          [
           "ML",
           37.971,
           140,
           "5N"
          ]
         ],
         "hovertemplate": "speed_cat=slow<br>linegroup=%{customdata[2]}<br>latitude=%{lat}<br>longitude=%{lon}<br>stype=%{customdata[0]}<br>abs_pm=%{customdata[1]}<br>fwdir=%{customdata[3]}<extra></extra>",
         "lat": [
          32.979357,
          32.987715,
          32.995494,
          33.00551
         ],
         "legendgroup": "slow",
         "line": {
          "color": "red",
          "width": 3
         },
         "lon": [
          -117.252719,
          -117.255119,
          -117.25635,
          -117.25907
         ],
         "mode": "lines",
         "name": "slow",
         "showlegend": false,
         "subplot": "mapbox",
         "type": "scattermapbox"
        },
        {
         "customdata": [
          [
           "ML",
           39.091,
           142,
           "5N"
          ],
          [
           "ML",
           39.793,
           142,
           "5N"
          ]
         ],
         "hovertemplate": "speed_cat=slow<br>linegroup=%{customdata[2]}<br>latitude=%{lat}<br>longitude=%{lon}<br>stype=%{customdata[0]}<br>abs_pm=%{customdata[1]}<br>fwdir=%{customdata[3]}<extra></extra>",
         "lat": [
          33.017612,
          33.027309
         ],
         "legendgroup": "slow",
         "line": {
          "color": "red",
          "width": 3
         },
         "lon": [
          -117.27184,
          -117.275242
         ],
         "mode": "lines",
         "name": "slow",
         "showlegend": false,
         "subplot": "mapbox",
         "type": "scattermapbox"
        },
        {
         "customdata": [
          [
           "ML",
           41.922,
           144,
           "5N"
          ],
          [
           "ML",
           42.571,
           144,
           "5N"
          ],
          [
           "ML",
           43.191,
           144,
           "5N"
          ],
          [
           "ML",
           44.101,
           144,
           "5N"
          ]
         ],
         "hovertemplate": "speed_cat=slow<br>linegroup=%{customdata[2]}<br>latitude=%{lat}<br>longitude=%{lon}<br>stype=%{customdata[0]}<br>abs_pm=%{customdata[1]}<br>fwdir=%{customdata[3]}<extra></extra>",
         "lat": [
          33.055577,
          33.064668,
          33.073419,
          33.086077
         ],
         "legendgroup": "slow",
         "line": {
          "color": "red",
          "width": 3
         },
         "lon": [
          -117.289125,
          -117.291997,
          -117.294587,
          -117.299048
         ],
         "mode": "lines",
         "name": "slow",
         "showlegend": false,
         "subplot": "mapbox",
         "type": "scattermapbox"
        },
        {
         "customdata": [
          [
           "ML",
           44.591,
           146,
           "5N"
          ],
          [
           "ML",
           45.473,
           146,
           "5N"
          ]
         ],
         "hovertemplate": "speed_cat=slow<br>linegroup=%{customdata[2]}<br>latitude=%{lat}<br>longitude=%{lon}<br>stype=%{customdata[0]}<br>abs_pm=%{customdata[1]}<br>fwdir=%{customdata[3]}<extra></extra>",
         "lat": [
          33.09232,
          33.103602
         ],
         "legendgroup": "slow",
         "line": {
          "color": "red",
          "width": 3
         },
         "lon": [
          -117.303146,
          -117.310425
         ],
         "mode": "lines",
         "name": "slow",
         "showlegend": false,
         "subplot": "mapbox",
         "type": "scattermapbox"
        },
        {
         "customdata": [
          [
           "ML",
           46.436,
           148,
           "5N"
          ],
          [
           "ML",
           47.056,
           148,
           "5N"
          ],
          [
           "ML",
           47.995,
           148,
           "5N"
          ],
          [
           "ML",
           48.491,
           148,
           "5N"
          ],
          [
           "ML",
           49.416,
           148,
           "5N"
          ]
         ],
         "hovertemplate": "speed_cat=slow<br>linegroup=%{customdata[2]}<br>latitude=%{lat}<br>longitude=%{lon}<br>stype=%{customdata[0]}<br>abs_pm=%{customdata[1]}<br>fwdir=%{customdata[3]}<extra></extra>",
         "lat": [
          33.115949,
          33.12394,
          33.136145,
          33.142807,
          33.155404
         ],
         "legendgroup": "slow",
         "line": {
          "color": "red",
          "width": 3
         },
         "lon": [
          -117.31811,
          -117.32296,
          -117.330076,
          -117.333209,
          -117.338099
         ],
         "mode": "lines",
         "name": "slow",
         "showlegend": false,
         "subplot": "mapbox",
         "type": "scattermapbox"
        },
        {
         "customdata": [
          [
           "ML",
           50.342,
           150,
           "5N"
          ],
          [
           "ML",
           50.791,
           150,
           "5N"
          ],
          [
           "ML",
           51.327,
           150,
           "5N"
          ]
         ],
         "hovertemplate": "speed_cat=slow<br>linegroup=%{customdata[2]}<br>latitude=%{lat}<br>longitude=%{lon}<br>stype=%{customdata[0]}<br>abs_pm=%{customdata[1]}<br>fwdir=%{customdata[3]}<extra></extra>",
         "lat": [
          33.167741,
          33.173355,
          33.179859
         ],
         "legendgroup": "slow",
         "line": {
          "color": "red",
          "width": 3
         },
         "lon": [
          -117.344387,
          -117.348324,
          -117.353416
         ],
         "mode": "lines",
         "name": "slow",
         "showlegend": false,
         "subplot": "mapbox",
         "type": "scattermapbox"
        },
        {
         "customdata": [
          [
           "ML",
           52.299,
           152,
           "5N"
          ],
          [
           "ML",
           53.188,
           152,
           "5N"
          ]
         ],
         "hovertemplate": "speed_cat=slow<br>linegroup=%{customdata[2]}<br>latitude=%{lat}<br>longitude=%{lon}<br>stype=%{customdata[0]}<br>abs_pm=%{customdata[1]}<br>fwdir=%{customdata[3]}<extra></extra>",
         "lat": [
          33.191415,
          33.200816
         ],
         "legendgroup": "slow",
         "line": {
          "color": "red",
          "width": 3
         },
         "lon": [
          -117.363042,
          -117.373244
         ],
         "mode": "lines",
         "name": "slow",
         "showlegend": false,
         "subplot": "mapbox",
         "type": "scattermapbox"
        },
        {
         "customdata": [
          [
           "ML",
           5.324,
           160,
           "5S"
          ],
          [
           "ML",
           5.324,
           160,
           "5S"
          ]
         ],
         "hovertemplate": "speed_cat=slow<br>linegroup=%{customdata[2]}<br>latitude=%{lat}<br>longitude=%{lon}<br>stype=%{customdata[0]}<br>abs_pm=%{customdata[1]}<br>fwdir=%{customdata[3]}<extra></extra>",
         "lat": [
          32.59507,
          32.59507
         ],
         "legendgroup": "slow",
         "line": {
          "color": "red",
          "width": 3
         },
         "lon": [
          -117.088901,
          -117.088901
         ],
         "mode": "lines",
         "name": "slow",
         "showlegend": false,
         "subplot": "mapbox",
         "type": "scattermapbox"
        },
        {
         "customdata": [
          [
           "ML",
           7.201,
           162,
           "5S"
          ],
          [
           "ML",
           7.819,
           162,
           "5S"
          ],
          [
           "ML",
           9.898,
           162,
           "5S"
          ]
         ],
         "hovertemplate": "speed_cat=slow<br>linegroup=%{customdata[2]}<br>latitude=%{lat}<br>longitude=%{lon}<br>stype=%{customdata[0]}<br>abs_pm=%{customdata[1]}<br>fwdir=%{customdata[3]}<extra></extra>",
         "lat": [
          32.621946,
          32.630458,
          32.658893
         ],
         "legendgroup": "slow",
         "line": {
          "color": "red",
          "width": 3
         },
         "lon": [
          -117.093171,
          -117.096492,
          -117.107675
         ],
         "mode": "lines",
         "name": "slow",
         "showlegend": false,
         "subplot": "mapbox",
         "type": "scattermapbox"
        },
        {
         "customdata": [
          [
           "ML",
           12.748,
           165,
           "5S"
          ],
          [
           "ML",
           13.022,
           165,
           "5S"
          ]
         ],
         "hovertemplate": "speed_cat=slow<br>linegroup=%{customdata[2]}<br>latitude=%{lat}<br>longitude=%{lon}<br>stype=%{customdata[0]}<br>abs_pm=%{customdata[1]}<br>fwdir=%{customdata[3]}<extra></extra>",
         "lat": [
          32.694108,
          32.694358
         ],
         "legendgroup": "slow",
         "line": {
          "color": "red",
          "width": 3
         },
         "lon": [
          -117.124841,
          -117.129467
         ],
         "mode": "lines",
         "name": "slow",
         "showlegend": false,
         "subplot": "mapbox",
         "type": "scattermapbox"
        },
        {
         "customdata": [
          [
           "ML",
           13.372,
           167,
           "5S"
          ],
          [
           "ML",
           14.416,
           167,
           "5S"
          ]
         ],
         "hovertemplate": "speed_cat=slow<br>linegroup=%{customdata[2]}<br>latitude=%{lat}<br>longitude=%{lon}<br>stype=%{customdata[0]}<br>abs_pm=%{customdata[1]}<br>fwdir=%{customdata[3]}<extra></extra>",
         "lat": [
          32.69574,
          32.7062
         ],
         "legendgroup": "slow",
         "line": {
          "color": "red",
          "width": 3
         },
         "lon": [
          -117.135196,
          -117.147722
         ],
         "mode": "lines",
         "name": "slow",
         "showlegend": false,
         "subplot": "mapbox",
         "type": "scattermapbox"
        },
        {
         "customdata": [
          [
           "ML",
           14.856,
           169,
           "5S"
          ],
          [
           "ML",
           15.23,
           169,
           "5S"
          ],
          [
           "ML",
           15.698,
           169,
           "5S"
          ]
         ],
         "hovertemplate": "speed_cat=slow<br>linegroup=%{customdata[2]}<br>latitude=%{lat}<br>longitude=%{lon}<br>stype=%{customdata[0]}<br>abs_pm=%{customdata[1]}<br>fwdir=%{customdata[3]}<extra></extra>",
         "lat": [
          32.712581,
          32.718001,
          32.723795
         ],
         "legendgroup": "slow",
         "line": {
          "color": "red",
          "width": 3
         },
         "lon": [
          -117.147751,
          -117.147844,
          -117.151061
         ],
         "mode": "lines",
         "name": "slow",
         "showlegend": false,
         "subplot": "mapbox",
         "type": "scattermapbox"
        },
        {
         "customdata": [
          [
           "ML",
           16.001,
           171,
           "5S"
          ],
          [
           "ML",
           16.666,
           171,
           "5S"
          ]
         ],
         "hovertemplate": "speed_cat=slow<br>linegroup=%{customdata[2]}<br>latitude=%{lat}<br>longitude=%{lon}<br>stype=%{customdata[0]}<br>abs_pm=%{customdata[1]}<br>fwdir=%{customdata[3]}<extra></extra>",
         "lat": [
          32.723898,
          32.725281
         ],
         "legendgroup": "slow",
         "line": {
          "color": "red",
          "width": 3
         },
         "lon": [
          -117.156068,
          -117.166084
         ],
         "mode": "lines",
         "name": "slow",
         "showlegend": false,
         "subplot": "mapbox",
         "type": "scattermapbox"
        },
        {
         "customdata": [
          [
           "ML",
           17.572,
           175,
           "5S"
          ],
          [
           "ML",
           18.05,
           175,
           "5S"
          ]
         ],
         "hovertemplate": "speed_cat=slow<br>linegroup=%{customdata[2]}<br>latitude=%{lat}<br>longitude=%{lon}<br>stype=%{customdata[0]}<br>abs_pm=%{customdata[1]}<br>fwdir=%{customdata[3]}<extra></extra>",
         "lat": [
          32.735815,
          32.741281
         ],
         "legendgroup": "slow",
         "line": {
          "color": "red",
          "width": 3
         },
         "lon": [
          -117.175452,
          -117.180454
         ],
         "mode": "lines",
         "name": "slow",
         "showlegend": false,
         "subplot": "mapbox",
         "type": "scattermapbox"
        },
        {
         "customdata": [
          [
           "ML",
           34.169,
           187,
           "5S"
          ],
          [
           "ML",
           35.108,
           187,
           "5S"
          ]
         ],
         "hovertemplate": "speed_cat=slow<br>linegroup=%{customdata[2]}<br>latitude=%{lat}<br>longitude=%{lon}<br>stype=%{customdata[0]}<br>abs_pm=%{customdata[1]}<br>fwdir=%{customdata[3]}<extra></extra>",
         "lat": [
          32.952468,
          32.96573
         ],
         "legendgroup": "slow",
         "line": {
          "color": "red",
          "width": 3
         },
         "lon": [
          -117.244298,
          -117.247857
         ],
         "mode": "lines",
         "name": "slow",
         "showlegend": false,
         "subplot": "mapbox",
         "type": "scattermapbox"
        },
        {
         "customdata": [
          [
           "ML",
           36.136,
           189,
           "5S"
          ],
          [
           "ML",
           37.255,
           189,
           "5S"
          ],
          [
           "ML",
           38.44,
           189,
           "5S"
          ],
          [
           "ML",
           39.059,
           189,
           "5S"
          ]
         ],
         "hovertemplate": "speed_cat=slow<br>linegroup=%{customdata[2]}<br>latitude=%{lat}<br>longitude=%{lon}<br>stype=%{customdata[0]}<br>abs_pm=%{customdata[1]}<br>fwdir=%{customdata[3]}<extra></extra>",
         "lat": [
          32.979936,
          32.995868,
          33.010653,
          33.017512
         ],
         "legendgroup": "slow",
         "line": {
          "color": "red",
          "width": 3
         },
         "lon": [
          -117.253246,
          -117.256708,
          -117.26524,
          -117.272059
         ],
         "mode": "lines",
         "name": "slow",
         "showlegend": false,
         "subplot": "mapbox",
         "type": "scattermapbox"
        },
        {
         "customdata": [
          [
           "ML",
           39.685,
           191,
           "5S"
          ],
          [
           "ML",
           40.483,
           191,
           "5S"
          ],
          [
           "ML",
           41.385,
           191,
           "5S"
          ],
          [
           "ML",
           41.888,
           191,
           "5S"
          ],
          [
           "ML",
           42.548,
           191,
           "5S"
          ],
          [
           "ML",
           43.159,
           191,
           "5S"
          ],
          [
           "ML",
           43.643,
           191,
           "5S"
          ]
         ],
         "hovertemplate": "speed_cat=slow<br>linegroup=%{customdata[2]}<br>latitude=%{lat}<br>longitude=%{lon}<br>stype=%{customdata[0]}<br>abs_pm=%{customdata[1]}<br>fwdir=%{customdata[3]}<extra></extra>",
         "lat": [
          33.02625,
          33.036347,
          33.048438,
          33.055523,
          33.064772,
          33.073371,
          33.080188
         ],
         "legendgroup": "slow",
         "line": {
          "color": "red",
          "width": 3
         },
         "lon": [
          -117.274915,
          -117.281649,
          -117.287351,
          -117.289401,
          -117.292309,
          -117.294873,
          -117.296877
         ],
         "mode": "lines",
         "name": "slow",
         "showlegend": false,
         "subplot": "mapbox",
         "type": "scattermapbox"
        },
        {
         "customdata": [
          [
           "ML",
           44.559,
           193,
           "5S"
          ],
          [
           "ML",
           45.293,
           193,
           "5S"
          ],
          [
           "ML",
           46.158,
           193,
           "5S"
          ],
          [
           "ML",
           46.955,
           193,
           "5S"
          ]
         ],
         "hovertemplate": "speed_cat=slow<br>linegroup=%{customdata[2]}<br>latitude=%{lat}<br>longitude=%{lon}<br>stype=%{customdata[0]}<br>abs_pm=%{customdata[1]}<br>fwdir=%{customdata[3]}<extra></extra>",
         "lat": [
          33.092248,
          33.101626,
          33.112683,
          33.122973
         ],
         "legendgroup": "slow",
         "line": {
          "color": "red",
          "width": 3
         },
         "lon": [
          -117.303383,
          -117.309439,
          -117.316473,
          -117.322702
         ],
         "mode": "lines",
         "name": "slow",
         "showlegend": false,
         "subplot": "mapbox",
         "type": "scattermapbox"
        },
        {
         "customdata": [
          [
           "ML",
           47.823,
           195,
           "5S"
          ],
          [
           "ML",
           49.108,
           195,
           "5S"
          ]
         ],
         "hovertemplate": "speed_cat=slow<br>linegroup=%{customdata[2]}<br>latitude=%{lat}<br>longitude=%{lon}<br>stype=%{customdata[0]}<br>abs_pm=%{customdata[1]}<br>fwdir=%{customdata[3]}<extra></extra>",
         "lat": [
          33.134215,
          33.151704
         ],
         "legendgroup": "slow",
         "line": {
          "color": "red",
          "width": 3
         },
         "lon": [
          -117.329382,
          -117.336331
         ],
         "mode": "lines",
         "name": "slow",
         "showlegend": false,
         "subplot": "mapbox",
         "type": "scattermapbox"
        },
        {
         "customdata": [
          [
           "ML",
           51.293,
           197,
           "5S"
          ],
          [
           "ML",
           52.266,
           197,
           "5S"
          ],
          [
           "ML",
           53.158,
           197,
           "5S"
          ]
         ],
         "hovertemplate": "speed_cat=slow<br>linegroup=%{customdata[2]}<br>latitude=%{lat}<br>longitude=%{lon}<br>stype=%{customdata[0]}<br>abs_pm=%{customdata[1]}<br>fwdir=%{customdata[3]}<extra></extra>",
         "lat": [
          33.179734,
          33.191277,
          33.200618
         ],
         "legendgroup": "slow",
         "line": {
          "color": "red",
          "width": 3
         },
         "lon": [
          -117.353651,
          -117.363281,
          -117.373434
         ],
         "mode": "lines",
         "name": "slow",
         "showlegend": false,
         "subplot": "mapbox",
         "type": "scattermapbox"
        },
        {
         "customdata": [
          [
           "ML",
           1.62,
           203,
           "67N"
          ],
          [
           "ML",
           2.326,
           203,
           "67N"
          ]
         ],
         "hovertemplate": "speed_cat=slow<br>linegroup=%{customdata[2]}<br>latitude=%{lat}<br>longitude=%{lon}<br>stype=%{customdata[0]}<br>abs_pm=%{customdata[1]}<br>fwdir=%{customdata[3]}<extra></extra>",
         "lat": [
          32.82632,
          32.836541
         ],
         "legendgroup": "slow",
         "line": {
          "color": "red",
          "width": 3
         },
         "lon": [
          -116.961614,
          -116.961871
         ],
         "mode": "lines",
         "name": "slow",
         "showlegend": false,
         "subplot": "mapbox",
         "type": "scattermapbox"
        },
        {
         "customdata": [
          [
           "ML",
           1.621,
           205,
           "67S"
          ],
          [
           "ML",
           2.325,
           205,
           "67S"
          ]
         ],
         "hovertemplate": "speed_cat=slow<br>linegroup=%{customdata[2]}<br>latitude=%{lat}<br>longitude=%{lon}<br>stype=%{customdata[0]}<br>abs_pm=%{customdata[1]}<br>fwdir=%{customdata[3]}<extra></extra>",
         "lat": [
          32.826336,
          32.836578
         ],
         "legendgroup": "slow",
         "line": {
          "color": "red",
          "width": 3
         },
         "lon": [
          -116.961862,
          -116.962176
         ],
         "mode": "lines",
         "name": "slow",
         "showlegend": false,
         "subplot": "mapbox",
         "type": "scattermapbox"
        },
        {
         "customdata": [
          [
           "ML",
           3.219,
           216,
           "78E"
          ],
          [
           "ML",
           3.582,
           216,
           "78E"
          ]
         ],
         "hovertemplate": "speed_cat=slow<br>linegroup=%{customdata[2]}<br>latitude=%{lat}<br>longitude=%{lon}<br>stype=%{customdata[0]}<br>abs_pm=%{customdata[1]}<br>fwdir=%{customdata[3]}<extra></extra>",
         "lat": [
          33.182878,
          33.183323
         ],
         "legendgroup": "slow",
         "line": {
          "color": "red",
          "width": 3
         },
         "lon": [
          -117.298269,
          -117.292024
         ],
         "mode": "lines",
         "name": "slow",
         "showlegend": false,
         "subplot": "mapbox",
         "type": "scattermapbox"
        },
        {
         "customdata": [
          [
           "ML",
           4.47,
           218,
           "78E"
          ],
          [
           "ML",
           6.316,
           218,
           "78E"
          ]
         ],
         "hovertemplate": "speed_cat=slow<br>linegroup=%{customdata[2]}<br>latitude=%{lat}<br>longitude=%{lon}<br>stype=%{customdata[0]}<br>abs_pm=%{customdata[1]}<br>fwdir=%{customdata[3]}<extra></extra>",
         "lat": [
          33.1885,
          33.194181
         ],
         "legendgroup": "slow",
         "line": {
          "color": "red",
          "width": 3
         },
         "lon": [
          -117.278185,
          -117.248185
         ],
         "mode": "lines",
         "name": "slow",
         "showlegend": false,
         "subplot": "mapbox",
         "type": "scattermapbox"
        },
        {
         "customdata": [
          [
           "ML",
           6.882,
           220,
           "78E"
          ],
          [
           "ML",
           7.792,
           220,
           "78E"
          ],
          [
           "ML",
           9.214,
           220,
           "78E"
          ],
          [
           "ML",
           10.676,
           220,
           "78E"
          ],
          [
           "ML",
           11.36,
           220,
           "78E"
          ],
          [
           "ML",
           12.27,
           220,
           "78E"
          ]
         ],
         "hovertemplate": "speed_cat=slow<br>linegroup=%{customdata[2]}<br>latitude=%{lat}<br>longitude=%{lon}<br>stype=%{customdata[0]}<br>abs_pm=%{customdata[1]}<br>fwdir=%{customdata[3]}<extra></extra>",
         "lat": [
          33.18952,
          33.180072,
          33.165559,
          33.149286,
          33.142359,
          33.137072
         ],
         "legendgroup": "slow",
         "line": {
          "color": "red",
          "width": 3
         },
         "lon": [
          -117.24026,
          -117.229778,
          -117.213523,
          -117.197442,
          -117.188863,
          -117.17436
         ],
         "mode": "lines",
         "name": "slow",
         "showlegend": false,
         "subplot": "mapbox",
         "type": "scattermapbox"
        },
        {
         "customdata": [
          [
           "ML",
           15.592,
           222,
           "78E"
          ],
          [
           "ML",
           15.911,
           222,
           "78E"
          ],
          [
           "ML",
           16.263,
           222,
           "78E"
          ]
         ],
         "hovertemplate": "speed_cat=slow<br>linegroup=%{customdata[2]}<br>latitude=%{lat}<br>longitude=%{lon}<br>stype=%{customdata[0]}<br>abs_pm=%{customdata[1]}<br>fwdir=%{customdata[3]}<extra></extra>",
         "lat": [
          33.131243,
          33.129097,
          33.126865
         ],
         "legendgroup": "slow",
         "line": {
          "color": "red",
          "width": 3
         },
         "lon": [
          -117.119739,
          -117.114845,
          -117.109376
         ],
         "mode": "lines",
         "name": "slow",
         "showlegend": false,
         "subplot": "mapbox",
         "type": "scattermapbox"
        },
        {
         "customdata": [
          [
           "ML",
           4.472,
           225,
           "78W"
          ],
          [
           "ML",
           5.797,
           225,
           "78W"
          ]
         ],
         "hovertemplate": "speed_cat=slow<br>linegroup=%{customdata[2]}<br>latitude=%{lat}<br>longitude=%{lon}<br>stype=%{customdata[0]}<br>abs_pm=%{customdata[1]}<br>fwdir=%{customdata[3]}<extra></extra>",
         "lat": [
          33.188661,
          33.194328
         ],
         "legendgroup": "slow",
         "line": {
          "color": "red",
          "width": 3
         },
         "lon": [
          -117.278229,
          -117.256869
         ],
         "mode": "lines",
         "name": "slow",
         "showlegend": false,
         "subplot": "mapbox",
         "type": "scattermapbox"
        },
        {
         "customdata": [
          [
           "ML",
           6.851,
           227,
           "78W"
          ],
          [
           "ML",
           7.759,
           227,
           "78W"
          ]
         ],
         "hovertemplate": "speed_cat=slow<br>linegroup=%{customdata[2]}<br>latitude=%{lat}<br>longitude=%{lon}<br>stype=%{customdata[0]}<br>abs_pm=%{customdata[1]}<br>fwdir=%{customdata[3]}<extra></extra>",
         "lat": [
          33.18994,
          33.180588
         ],
         "legendgroup": "slow",
         "line": {
          "color": "red",
          "width": 3
         },
         "lon": [
          -117.240564,
          -117.229853
         ],
         "mode": "lines",
         "name": "slow",
         "showlegend": false,
         "subplot": "mapbox",
         "type": "scattermapbox"
        },
        {
         "customdata": [
          [
           "ML",
           17.617,
           231,
           "78W"
          ]
         ],
         "hovertemplate": "speed_cat=slow<br>linegroup=%{customdata[2]}<br>latitude=%{lat}<br>longitude=%{lon}<br>stype=%{customdata[0]}<br>abs_pm=%{customdata[1]}<br>fwdir=%{customdata[3]}<extra></extra>",
         "lat": [
          33.132541
         ],
         "legendgroup": "slow",
         "line": {
          "color": "red",
          "width": 3
         },
         "lon": [
          -117.087404
         ],
         "mode": "lines",
         "name": "slow",
         "showlegend": false,
         "subplot": "mapbox",
         "type": "scattermapbox"
        },
        {
         "customdata": [
          [
           "ML",
           1.968,
           234,
           "805N"
          ],
          [
           "ML",
           2.375,
           234,
           "805N"
          ]
         ],
         "hovertemplate": "speed_cat=slow<br>linegroup=%{customdata[2]}<br>latitude=%{lat}<br>longitude=%{lon}<br>stype=%{customdata[0]}<br>abs_pm=%{customdata[1]}<br>fwdir=%{customdata[3]}<extra></extra>",
         "lat": [
          32.572621,
          32.578428
         ],
         "legendgroup": "slow",
         "line": {
          "color": "red",
          "width": 3
         },
         "lon": [
          -117.039445,
          -117.038084
         ],
         "mode": "lines",
         "name": "slow",
         "showlegend": false,
         "subplot": "mapbox",
         "type": "scattermapbox"
        },
        {
         "customdata": [
          [
           "ML",
           3.702,
           237,
           "805N"
          ],
          [
           "ML",
           4.075,
           237,
           "805N"
          ],
          [
           "ML",
           4.438,
           237,
           "805N"
          ],
          [
           "ML",
           5.195,
           237,
           "805N"
          ],
          [
           "ML",
           6.592,
           237,
           "805N"
          ],
          [
           "ML",
           6.932,
           237,
           "805N"
          ],
          [
           "ML",
           7.606,
           237,
           "805N"
          ]
         ],
         "hovertemplate": "speed_cat=slow<br>linegroup=%{customdata[2]}<br>latitude=%{lat}<br>longitude=%{lon}<br>stype=%{customdata[0]}<br>abs_pm=%{customdata[1]}<br>fwdir=%{customdata[3]}<extra></extra>",
         "lat": [
          32.597548,
          32.60296,
          32.608222,
          32.618855,
          32.63687,
          32.639755,
          32.647835
         ],
         "legendgroup": "slow",
         "line": {
          "color": "red",
          "width": 3
         },
         "lon": [
          -117.036123,
          -117.036122,
          -117.036161,
          -117.039388,
          -117.049588,
          -117.054301,
          -117.060693
         ],
         "mode": "lines",
         "name": "slow",
         "showlegend": false,
         "subplot": "mapbox",
         "type": "scattermapbox"
        },
        {
         "customdata": [
          [
           "ML",
           9.095,
           239,
           "805N"
          ],
          [
           "ML",
           9.828,
           239,
           "805N"
          ]
         ],
         "hovertemplate": "speed_cat=slow<br>linegroup=%{customdata[2]}<br>latitude=%{lat}<br>longitude=%{lon}<br>stype=%{customdata[0]}<br>abs_pm=%{customdata[1]}<br>fwdir=%{customdata[3]}<extra></extra>",
         "lat": [
          32.6631,
          32.672952
         ],
         "legendgroup": "slow",
         "line": {
          "color": "red",
          "width": 3
         },
         "lon": [
          -117.078485,
          -117.082415
         ],
         "mode": "lines",
         "name": "slow",
         "showlegend": false,
         "subplot": "mapbox",
         "type": "scattermapbox"
        },
        {
         "customdata": [
          [
           "ML",
           10.942,
           242,
           "805N"
          ],
          [
           "ML",
           11.293,
           242,
           "805N"
          ],
          [
           "ML",
           12.201,
           242,
           "805N"
          ],
          [
           "ML",
           13.059,
           242,
           "805N"
          ],
          [
           "ML",
           13.719,
           242,
           "805N"
          ],
          [
           "ML",
           14.208,
           242,
           "805N"
          ],
          [
           "ML",
           14.701,
           242,
           "805N"
          ]
         ],
         "hovertemplate": "speed_cat=slow<br>linegroup=%{customdata[2]}<br>latitude=%{lat}<br>longitude=%{lon}<br>stype=%{customdata[0]}<br>abs_pm=%{customdata[1]}<br>fwdir=%{customdata[3]}<extra></extra>",
         "lat": [
          32.686782,
          32.691156,
          32.704271,
          32.714775,
          32.724289,
          32.729896,
          32.734846
         ],
         "legendgroup": "slow",
         "line": {
          "color": "red",
          "width": 3
         },
         "lon": [
          -117.091828,
          -117.094637,
          -117.094872,
          -117.102476,
          -117.10266,
          -117.107497,
          -117.113294
         ],
         "mode": "lines",
         "name": "slow",
         "showlegend": false,
         "subplot": "mapbox",
         "type": "scattermapbox"
        },
        {
         "customdata": [
          [
           "ML",
           15.171,
           244,
           "805N"
          ],
          [
           "ML",
           15.791,
           244,
           "805N"
          ]
         ],
         "hovertemplate": "speed_cat=slow<br>linegroup=%{customdata[2]}<br>latitude=%{lat}<br>longitude=%{lon}<br>stype=%{customdata[0]}<br>abs_pm=%{customdata[1]}<br>fwdir=%{customdata[3]}<extra></extra>",
         "lat": [
          32.741165,
          32.74856
         ],
         "legendgroup": "slow",
         "line": {
          "color": "red",
          "width": 3
         },
         "lon": [
          -117.116261,
          -117.12225
         ],
         "mode": "lines",
         "name": "slow",
         "showlegend": false,
         "subplot": "mapbox",
         "type": "scattermapbox"
        },
        {
         "customdata": [
          [
           "ML",
           16.677,
           246,
           "805N"
          ],
          [
           "ML",
           18.241,
           246,
           "805N"
          ]
         ],
         "hovertemplate": "speed_cat=slow<br>linegroup=%{customdata[2]}<br>latitude=%{lat}<br>longitude=%{lon}<br>stype=%{customdata[0]}<br>abs_pm=%{customdata[1]}<br>fwdir=%{customdata[3]}<extra></extra>",
         "lat": [
          32.760845,
          32.781007
         ],
         "legendgroup": "slow",
         "line": {
          "color": "red",
          "width": 3
         },
         "lon": [
          -117.12661,
          -117.138625
         ],
         "mode": "lines",
         "name": "slow",
         "showlegend": false,
         "subplot": "mapbox",
         "type": "scattermapbox"
        },
        {
         "customdata": [
          [
           "ML",
           21.199,
           248,
           "805N"
          ],
          [
           "ML",
           21.323,
           248,
           "805N"
          ]
         ],
         "hovertemplate": "speed_cat=slow<br>linegroup=%{customdata[2]}<br>latitude=%{lat}<br>longitude=%{lon}<br>stype=%{customdata[0]}<br>abs_pm=%{customdata[1]}<br>fwdir=%{customdata[3]}<extra></extra>",
         "lat": [
          32.817749,
          32.819359
         ],
         "legendgroup": "slow",
         "line": {
          "color": "red",
          "width": 3
         },
         "lon": [
          -117.159929,
          -117.160872
         ],
         "mode": "lines",
         "name": "slow",
         "showlegend": false,
         "subplot": "mapbox",
         "type": "scattermapbox"
        },
        {
         "customdata": [
          [
           "ML",
           23.111,
           250,
           "805N"
          ],
          [
           "ML",
           23.501,
           250,
           "805N"
          ]
         ],
         "hovertemplate": "speed_cat=slow<br>linegroup=%{customdata[2]}<br>latitude=%{lat}<br>longitude=%{lon}<br>stype=%{customdata[0]}<br>abs_pm=%{customdata[1]}<br>fwdir=%{customdata[3]}<extra></extra>",
         "lat": [
          32.842493,
          32.847538
         ],
         "legendgroup": "slow",
         "line": {
          "color": "red",
          "width": 3
         },
         "lon": [
          -117.174848,
          -117.177909
         ],
         "mode": "lines",
         "name": "slow",
         "showlegend": false,
         "subplot": "mapbox",
         "type": "scattermapbox"
        },
        {
         "customdata": [
          [
           "ML",
           3.631,
           254,
           "805S"
          ],
          [
           "ML",
           4.084,
           254,
           "805S"
          ],
          [
           "ML",
           4.453,
           254,
           "805S"
          ],
          [
           "ML",
           5.195,
           254,
           "805S"
          ],
          [
           "ML",
           6.062,
           254,
           "805S"
          ],
          [
           "ML",
           6.591,
           254,
           "805S"
          ]
         ],
         "hovertemplate": "speed_cat=slow<br>linegroup=%{customdata[2]}<br>latitude=%{lat}<br>longitude=%{lon}<br>stype=%{customdata[0]}<br>abs_pm=%{customdata[1]}<br>fwdir=%{customdata[3]}<extra></extra>",
         "lat": [
          32.59651,
          32.603075,
          32.608399,
          32.618779,
          32.630622,
          32.636725
         ],
         "legendgroup": "slow",
         "line": {
          "color": "red",
          "width": 3
         },
         "lon": [
          -117.036458,
          -117.036435,
          -117.036523,
          -117.039649,
          -117.044658,
          -117.049889
         ],
         "mode": "lines",
         "name": "slow",
         "showlegend": false,
         "subplot": "mapbox",
         "type": "scattermapbox"
        },
        {
         "customdata": [
          [
           "ML",
           6.933,
           256,
           "805S"
          ],
          [
           "ML",
           7.594,
           256,
           "805S"
          ]
         ],
         "hovertemplate": "speed_cat=slow<br>linegroup=%{customdata[2]}<br>latitude=%{lat}<br>longitude=%{lon}<br>stype=%{customdata[0]}<br>abs_pm=%{customdata[1]}<br>fwdir=%{customdata[3]}<extra></extra>",
         "lat": [
          32.639609,
          32.647524
         ],
         "legendgroup": "slow",
         "line": {
          "color": "red",
          "width": 3
         },
         "lon": [
          -117.054617,
          -117.060767
         ],
         "mode": "lines",
         "name": "slow",
         "showlegend": false,
         "subplot": "mapbox",
         "type": "scattermapbox"
        },
        {
         "customdata": [
          [
           "ML",
           8.293,
           258,
           "805S"
          ],
          [
           "ML",
           8.831,
           258,
           "805S"
          ]
         ],
         "hovertemplate": "speed_cat=slow<br>linegroup=%{customdata[2]}<br>latitude=%{lat}<br>longitude=%{lon}<br>stype=%{customdata[0]}<br>abs_pm=%{customdata[1]}<br>fwdir=%{customdata[3]}<extra></extra>",
         "lat": [
          32.653505,
          32.659734
         ],
         "legendgroup": "slow",
         "line": {
          "color": "red",
          "width": 3
         },
         "lon": [
          -117.070333,
          -117.075966
         ],
         "mode": "lines",
         "name": "slow",
         "showlegend": false,
         "subplot": "mapbox",
         "type": "scattermapbox"
        },
        {
         "customdata": [
          [
           "ML",
           9.09,
           260,
           "805S"
          ],
          [
           "ML",
           9.826,
           260,
           "805S"
          ]
         ],
         "hovertemplate": "speed_cat=slow<br>linegroup=%{customdata[2]}<br>latitude=%{lat}<br>longitude=%{lon}<br>stype=%{customdata[0]}<br>abs_pm=%{customdata[1]}<br>fwdir=%{customdata[3]}<extra></extra>",
         "lat": [
          32.662772,
          32.67285
         ],
         "legendgroup": "slow",
         "line": {
          "color": "red",
          "width": 3
         },
         "lon": [
          -117.078579,
          -117.0827
         ],
         "mode": "lines",
         "name": "slow",
         "showlegend": false,
         "subplot": "mapbox",
         "type": "scattermapbox"
        },
        {
         "customdata": [
          [
           "ML",
           10.212,
           262,
           "805S"
          ],
          [
           "ML",
           10.942,
           262,
           "805S"
          ],
          [
           "ML",
           11.294,
           262,
           "805S"
          ]
         ],
         "hovertemplate": "speed_cat=slow<br>linegroup=%{customdata[2]}<br>latitude=%{lat}<br>longitude=%{lon}<br>stype=%{customdata[0]}<br>abs_pm=%{customdata[1]}<br>fwdir=%{customdata[3]}<extra></extra>",
         "lat": [
          32.678037,
          32.686682,
          32.69111
         ],
         "legendgroup": "slow",
         "line": {
          "color": "red",
          "width": 3
         },
         "lon": [
          -117.085196,
          -117.09211,
          -117.094893
         ],
         "mode": "lines",
         "name": "slow",
         "showlegend": false,
         "subplot": "mapbox",
         "type": "scattermapbox"
        },
        {
         "customdata": [
          [
           "ML",
           12.198,
           264,
           "805S"
          ],
          [
           "ML",
           13.831,
           264,
           "805S"
          ],
          [
           "ML",
           14.207,
           264,
           "805S"
          ],
          [
           "ML",
           14.703,
           264,
           "805S"
          ],
          [
           "ML",
           15.172,
           264,
           "805S"
          ],
          [
           "ML",
           15.793,
           264,
           "805S"
          ]
         ],
         "hovertemplate": "speed_cat=slow<br>linegroup=%{customdata[2]}<br>latitude=%{lat}<br>longitude=%{lon}<br>stype=%{customdata[0]}<br>abs_pm=%{customdata[1]}<br>fwdir=%{customdata[3]}<extra></extra>",
         "lat": [
          32.704152,
          32.725755,
          32.729729,
          32.734636,
          32.740965,
          32.748425
         ],
         "legendgroup": "slow",
         "line": {
          "color": "red",
          "width": 3
         },
         "lon": [
          -117.095206,
          -117.103501,
          -117.107696,
          -117.113512,
          -117.116526,
          -117.12253
         ],
         "mode": "lines",
         "name": "slow",
         "showlegend": false,
         "subplot": "mapbox",
         "type": "scattermapbox"
        },
        {
         "customdata": [
          [
           "ML",
           16.352,
           266,
           "805S"
          ],
          [
           "ML",
           16.678,
           266,
           "805S"
          ],
          [
           "ML",
           18.242,
           266,
           "805S"
          ],
          [
           "ML",
           18.342,
           266,
           "805S"
          ]
         ],
         "hovertemplate": "speed_cat=slow<br>linegroup=%{customdata[2]}<br>latitude=%{lat}<br>longitude=%{lon}<br>stype=%{customdata[0]}<br>abs_pm=%{customdata[1]}<br>fwdir=%{customdata[3]}<extra></extra>",
         "lat": [
          32.756165,
          32.760722,
          32.78088,
          32.78192
         ],
         "legendgroup": "slow",
         "line": {
          "color": "red",
          "width": 3
         },
         "lon": [
          -117.12539,
          -117.126908,
          -117.138885,
          -117.140068
         ],
         "mode": "lines",
         "name": "slow",
         "showlegend": false,
         "subplot": "mapbox",
         "type": "scattermapbox"
        },
        {
         "customdata": [
          [
           "ML",
           20.006,
           268,
           "805S"
          ],
          [
           "ML",
           20.068,
           268,
           "805S"
          ],
          [
           "ML",
           20.431,
           268,
           "805S"
          ]
         ],
         "hovertemplate": "speed_cat=slow<br>linegroup=%{customdata[2]}<br>latitude=%{lat}<br>longitude=%{lon}<br>stype=%{customdata[0]}<br>abs_pm=%{customdata[1]}<br>fwdir=%{customdata[3]}<extra></extra>",
         "lat": [
          32.80262,
          32.803497,
          32.808467
         ],
         "legendgroup": "slow",
         "line": {
          "color": "red",
          "width": 3
         },
         "lon": [
          -117.150601,
          -117.15084,
          -117.152775
         ],
         "mode": "lines",
         "name": "slow",
         "showlegend": false,
         "subplot": "mapbox",
         "type": "scattermapbox"
        },
        {
         "customdata": [
          [
           "ML",
           20.696,
           270,
           "805S"
          ],
          [
           "ML",
           21.198,
           270,
           "805S"
          ]
         ],
         "hovertemplate": "speed_cat=slow<br>linegroup=%{customdata[2]}<br>latitude=%{lat}<br>longitude=%{lon}<br>stype=%{customdata[0]}<br>abs_pm=%{customdata[1]}<br>fwdir=%{customdata[3]}<extra></extra>",
         "lat": [
          32.811513,
          32.817619
         ],
         "legendgroup": "slow",
         "line": {
          "color": "red",
          "width": 3
         },
         "lon": [
          -117.155527,
          -117.160167
         ],
         "mode": "lines",
         "name": "slow",
         "showlegend": false,
         "subplot": "mapbox",
         "type": "scattermapbox"
        },
        {
         "customdata": [
          [
           "ML",
           21.322,
           272,
           "805S"
          ],
          [
           "ML",
           21.672,
           272,
           "805S"
          ],
          [
           "ML",
           22.526,
           272,
           "805S"
          ],
          [
           "ML",
           24.285,
           272,
           "805S"
          ]
         ],
         "hovertemplate": "speed_cat=slow<br>linegroup=%{customdata[2]}<br>latitude=%{lat}<br>longitude=%{lon}<br>stype=%{customdata[0]}<br>abs_pm=%{customdata[1]}<br>fwdir=%{customdata[3]}<extra></extra>",
         "lat": [
          32.819236,
          32.823789,
          32.834806,
          32.857504
         ],
         "legendgroup": "slow",
         "line": {
          "color": "red",
          "width": 3
         },
         "lon": [
          -117.161117,
          -117.163808,
          -117.170551,
          -117.184358
         ],
         "mode": "lines",
         "name": "slow",
         "showlegend": false,
         "subplot": "mapbox",
         "type": "scattermapbox"
        },
        {
         "customdata": [
          [
           "ML",
           26.802,
           274,
           "805S"
          ],
          [
           "ML",
           26.987,
           274,
           "805S"
          ]
         ],
         "hovertemplate": "speed_cat=slow<br>linegroup=%{customdata[2]}<br>latitude=%{lat}<br>longitude=%{lon}<br>stype=%{customdata[0]}<br>abs_pm=%{customdata[1]}<br>fwdir=%{customdata[3]}<extra></extra>",
         "lat": [
          32.889107,
          32.891027
         ],
         "legendgroup": "slow",
         "line": {
          "color": "red",
          "width": 3
         },
         "lon": [
          -117.204927,
          -117.207148
         ],
         "mode": "lines",
         "name": "slow",
         "showlegend": false,
         "subplot": "mapbox",
         "type": "scattermapbox"
        },
        {
         "customdata": [
          [
           "ML",
           8.615,
           282,
           "8E"
          ],
          [
           "ML",
           9.509,
           282,
           "8E"
          ]
         ],
         "hovertemplate": "speed_cat=slow<br>linegroup=%{customdata[2]}<br>latitude=%{lat}<br>longitude=%{lon}<br>stype=%{customdata[0]}<br>abs_pm=%{customdata[1]}<br>fwdir=%{customdata[3]}<extra></extra>",
         "lat": [
          32.780008,
          32.779817
         ],
         "legendgroup": "slow",
         "line": {
          "color": "red",
          "width": 3
         },
         "lon": [
          -117.094988,
          -117.079742
         ],
         "mode": "lines",
         "name": "slow",
         "showlegend": false,
         "subplot": "mapbox",
         "type": "scattermapbox"
        },
        {
         "customdata": [
          [
           "ML",
           13.758,
           285,
           "8E"
          ],
          [
           "ML",
           14.308,
           285,
           "8E"
          ],
          [
           "ML",
           15.021,
           285,
           "8E"
          ],
          [
           "ML",
           15.413,
           285,
           "8E"
          ]
         ],
         "hovertemplate": "speed_cat=slow<br>linegroup=%{customdata[2]}<br>latitude=%{lat}<br>longitude=%{lon}<br>stype=%{customdata[0]}<br>abs_pm=%{customdata[1]}<br>fwdir=%{customdata[3]}<extra></extra>",
         "lat": [
          32.774956,
          32.778355,
          32.778941,
          32.779621
         ],
         "legendgroup": "slow",
         "line": {
          "color": "red",
          "width": 3
         },
         "lon": [
          -117.010577,
          -117.001957,
          -116.990052,
          -116.983478
         ],
         "mode": "lines",
         "name": "slow",
         "showlegend": false,
         "subplot": "mapbox",
         "type": "scattermapbox"
        },
        {
         "customdata": [
          [
           "ML",
           18.045,
           287,
           "8E"
          ],
          [
           "ML",
           18.411,
           287,
           "8E"
          ],
          [
           "ML",
           18.871,
           287,
           "8E"
          ],
          [
           "ML",
           19.288,
           287,
           "8E"
          ],
          [
           "ML",
           19.789,
           287,
           "8E"
          ],
          [
           "ML",
           20.17,
           287,
           "8E"
          ],
          [
           "ML",
           21.002,
           287,
           "8E"
          ],
          [
           "ML",
           21.886,
           287,
           "8E"
          ],
          [
           "ML",
           22.306,
           287,
           "8E"
          ],
          [
           "ML",
           22.362,
           287,
           "8E"
          ],
          [
           "ML",
           23.266,
           287,
           "8E"
          ],
          [
           "ML",
           23.837,
           287,
           "8E"
          ]
         ],
         "hovertemplate": "speed_cat=slow<br>linegroup=%{customdata[2]}<br>latitude=%{lat}<br>longitude=%{lon}<br>stype=%{customdata[0]}<br>abs_pm=%{customdata[1]}<br>fwdir=%{customdata[3]}<extra></extra>",
         "lat": [
          32.802954,
          32.802945,
          32.802955,
          32.80296,
          32.802942,
          32.805288,
          32.815375,
          32.825277,
          32.829342,
          32.829874,
          32.839494,
          32.844556
         ],
         "legendgroup": "slow",
         "line": {
          "color": "red",
          "width": 3
         },
         "lon": [
          -116.957448,
          -116.951191,
          -116.943342,
          -116.936227,
          -116.927363,
          -116.921513,
          -116.913932,
          -116.904782,
          -116.899444,
          -116.89872,
          -116.888214,
          -116.880704
         ],
         "mode": "lines",
         "name": "slow",
         "showlegend": false,
         "subplot": "mapbox",
         "type": "scattermapbox"
        },
        {
         "customdata": [
          [
           "ML",
           12.929,
           299,
           "8W"
          ],
          [
           "ML",
           13.581,
           299,
           "8W"
          ]
         ],
         "hovertemplate": "speed_cat=slow<br>linegroup=%{customdata[2]}<br>latitude=%{lat}<br>longitude=%{lon}<br>stype=%{customdata[0]}<br>abs_pm=%{customdata[1]}<br>fwdir=%{customdata[3]}<extra></extra>",
         "lat": [
          32.771107,
          32.774158
         ],
         "legendgroup": "slow",
         "line": {
          "color": "red",
          "width": 3
         },
         "lon": [
          -117.023752,
          -117.013463
         ],
         "mode": "lines",
         "name": "slow",
         "showlegend": false,
         "subplot": "mapbox",
         "type": "scattermapbox"
        },
        {
         "customdata": [
          [
           "ML",
           13.758,
           301,
           "8W"
          ],
          [
           "ML",
           14.112,
           301,
           "8W"
          ]
         ],
         "hovertemplate": "speed_cat=slow<br>linegroup=%{customdata[2]}<br>latitude=%{lat}<br>longitude=%{lon}<br>stype=%{customdata[0]}<br>abs_pm=%{customdata[1]}<br>fwdir=%{customdata[3]}<extra></extra>",
         "lat": [
          32.775159,
          32.77719
         ],
         "legendgroup": "slow",
         "line": {
          "color": "red",
          "width": 3
         },
         "lon": [
          -117.010686,
          -117.005007
         ],
         "mode": "lines",
         "name": "slow",
         "showlegend": false,
         "subplot": "mapbox",
         "type": "scattermapbox"
        },
        {
         "customdata": [
          [
           "ML",
           14.309,
           303,
           "8W"
          ],
          [
           "ML",
           14.362,
           303,
           "8W"
          ]
         ],
         "hovertemplate": "speed_cat=slow<br>linegroup=%{customdata[2]}<br>latitude=%{lat}<br>longitude=%{lon}<br>stype=%{customdata[0]}<br>abs_pm=%{customdata[1]}<br>fwdir=%{customdata[3]}<extra></extra>",
         "lat": [
          32.778547,
          32.778899
         ],
         "legendgroup": "slow",
         "line": {
          "color": "red",
          "width": 3
         },
         "lon": [
          -117.002027,
          -117.001223
         ],
         "mode": "lines",
         "name": "slow",
         "showlegend": false,
         "subplot": "mapbox",
         "type": "scattermapbox"
        },
        {
         "customdata": [
          [
           "ML",
           15.036,
           305,
           "8W"
          ],
          [
           "ML",
           15.432,
           305,
           "8W"
          ],
          [
           "ML",
           16.482,
           305,
           "8W"
          ],
          [
           "ML",
           17.113,
           305,
           "8W"
          ],
          [
           "ML",
           17.608,
           305,
           "8W"
          ]
         ],
         "hovertemplate": "speed_cat=slow<br>linegroup=%{customdata[2]}<br>latitude=%{lat}<br>longitude=%{lon}<br>stype=%{customdata[0]}<br>abs_pm=%{customdata[1]}<br>fwdir=%{customdata[3]}<extra></extra>",
         "lat": [
          32.779188,
          32.779945,
          32.793962,
          32.802066,
          32.803133
         ],
         "legendgroup": "slow",
         "line": {
          "color": "red",
          "width": 3
         },
         "lon": [
          -116.989808,
          -116.983405,
          -116.97744,
          -116.973297,
          -116.964952
         ],
         "mode": "lines",
         "name": "slow",
         "showlegend": false,
         "subplot": "mapbox",
         "type": "scattermapbox"
        },
        {
         "customdata": [
          [
           "ML",
           18.044,
           307,
           "8W"
          ],
          [
           "ML",
           18.41,
           307,
           "8W"
          ],
          [
           "ML",
           18.871,
           307,
           "8W"
          ],
          [
           "ML",
           19.289,
           307,
           "8W"
          ]
         ],
         "hovertemplate": "speed_cat=slow<br>linegroup=%{customdata[2]}<br>latitude=%{lat}<br>longitude=%{lon}<br>stype=%{customdata[0]}<br>abs_pm=%{customdata[1]}<br>fwdir=%{customdata[3]}<extra></extra>",
         "lat": [
          32.803159,
          32.803161,
          32.803158,
          32.803169
         ],
         "legendgroup": "slow",
         "line": {
          "color": "red",
          "width": 3
         },
         "lon": [
          -116.95746,
          -116.951206,
          -116.943342,
          -116.936214
         ],
         "mode": "lines",
         "name": "slow",
         "showlegend": false,
         "subplot": "mapbox",
         "type": "scattermapbox"
        },
        {
         "customdata": [
          [
           "ML",
           20.569,
           309,
           "8W"
          ],
          [
           "ML",
           21,
           309,
           "8W"
          ]
         ],
         "hovertemplate": "speed_cat=slow<br>linegroup=%{customdata[2]}<br>latitude=%{lat}<br>longitude=%{lon}<br>stype=%{customdata[0]}<br>abs_pm=%{customdata[1]}<br>fwdir=%{customdata[3]}<extra></extra>",
         "lat": [
          32.810302,
          32.815497
         ],
         "legendgroup": "slow",
         "line": {
          "color": "red",
          "width": 3
         },
         "lon": [
          -116.918188,
          -116.914192
         ],
         "mode": "lines",
         "name": "slow",
         "showlegend": false,
         "subplot": "mapbox",
         "type": "scattermapbox"
        },
        {
         "customdata": [
          [
           "ML",
           22.305,
           311,
           "8W"
          ],
          [
           "ML",
           23.26,
           311,
           "8W"
          ],
          [
           "ML",
           23.837,
           311,
           "8W"
          ]
         ],
         "hovertemplate": "speed_cat=slow<br>linegroup=%{customdata[2]}<br>latitude=%{lat}<br>longitude=%{lon}<br>stype=%{customdata[0]}<br>abs_pm=%{customdata[1]}<br>fwdir=%{customdata[3]}<extra></extra>",
         "lat": [
          32.829499,
          32.839643,
          32.84483
         ],
         "legendgroup": "slow",
         "line": {
          "color": "red",
          "width": 3
         },
         "lon": [
          -116.899603,
          -116.888393,
          -116.880828
         ],
         "mode": "lines",
         "name": "slow",
         "showlegend": false,
         "subplot": "mapbox",
         "type": "scattermapbox"
        },
        {
         "customdata": [
          [
           "ML",
           2.611,
           312,
           "905E"
          ],
          [
           "ML",
           3.077,
           312,
           "905E"
          ],
          [
           "ML",
           3.691,
           312,
           "905E"
          ]
         ],
         "hovertemplate": "speed_cat=slow<br>linegroup=%{customdata[2]}<br>latitude=%{lat}<br>longitude=%{lon}<br>stype=%{customdata[0]}<br>abs_pm=%{customdata[1]}<br>fwdir=%{customdata[3]}<extra></extra>",
         "lat": [
          32.568009,
          32.56827,
          32.566988
         ],
         "legendgroup": "slow",
         "line": {
          "color": "red",
          "width": 3
         },
         "lon": [
          -117.035356,
          -117.027365,
          -117.017135
         ],
         "mode": "lines",
         "name": "slow",
         "showlegend": false,
         "subplot": "mapbox",
         "type": "scattermapbox"
        },
        {
         "customdata": [
          [
           "ML",
           4.434,
           314,
           "905E"
          ],
          [
           "ML",
           5.422,
           314,
           "905E"
          ],
          [
           "ML",
           5.77,
           314,
           "905E"
          ],
          [
           "ML",
           6.016,
           314,
           "905E"
          ],
          [
           "ML",
           6.518,
           314,
           "905E"
          ],
          [
           "ML",
           7.598,
           314,
           "905E"
          ]
         ],
         "hovertemplate": "speed_cat=slow<br>linegroup=%{customdata[2]}<br>latitude=%{lat}<br>longitude=%{lon}<br>stype=%{customdata[0]}<br>abs_pm=%{customdata[1]}<br>fwdir=%{customdata[3]}<extra></extra>",
         "lat": [
          32.566314,
          32.564763,
          32.56415,
          32.56412,
          32.56407,
          32.563837
         ],
         "legendgroup": "slow",
         "line": {
          "color": "red",
          "width": 3
         },
         "lon": [
          -117.004599,
          -116.988199,
          -116.982231,
          -116.978,
          -116.969401,
          -116.950855
         ],
         "mode": "lines",
         "name": "slow",
         "showlegend": false,
         "subplot": "mapbox",
         "type": "scattermapbox"
        },
        {
         "customdata": [
          [
           "ML",
           2.623,
           315,
           "905W"
          ],
          [
           "ML",
           3.082,
           315,
           "905W"
          ],
          [
           "ML",
           4.449,
           315,
           "905W"
          ],
          [
           "ML",
           5.437,
           315,
           "905W"
          ],
          [
           "ML",
           6.033,
           315,
           "905W"
          ],
          [
           "ML",
           6.533,
           315,
           "905W"
          ],
          [
           "ML",
           7.613,
           315,
           "905W"
          ]
         ],
         "hovertemplate": "speed_cat=slow<br>linegroup=%{customdata[2]}<br>latitude=%{lat}<br>longitude=%{lon}<br>stype=%{customdata[0]}<br>abs_pm=%{customdata[1]}<br>fwdir=%{customdata[3]}<extra></extra>",
         "lat": [
          32.568319,
          32.568341,
          32.566603,
          32.565082,
          32.564408,
          32.564373,
          32.564112
         ],
         "legendgroup": "slow",
         "line": {
          "color": "red",
          "width": 3
         },
         "lon": [
          -117.035373,
          -117.027502,
          -117.004472,
          -116.988059,
          -116.977872,
          -116.969279,
          -116.950744
         ],
         "mode": "lines",
         "name": "slow",
         "showlegend": false,
         "subplot": "mapbox",
         "type": "scattermapbox"
        },
        {
         "customdata": [
          [
           "ML",
           8.204,
           325,
           "94E"
          ]
         ],
         "hovertemplate": "speed_cat=slow<br>linegroup=%{customdata[2]}<br>latitude=%{lat}<br>longitude=%{lon}<br>stype=%{customdata[0]}<br>abs_pm=%{customdata[1]}<br>fwdir=%{customdata[3]}<extra></extra>",
         "lat": [
          32.746819
         ],
         "legendgroup": "slow",
         "line": {
          "color": "red",
          "width": 3
         },
         "lon": [
          -117.020529
         ],
         "mode": "lines",
         "name": "slow",
         "showlegend": false,
         "subplot": "mapbox",
         "type": "scattermapbox"
        },
        {
         "customdata": [
          [
           "ML",
           1.205,
           328,
           "94W"
          ],
          [
           "ML",
           1.721,
           328,
           "94W"
          ]
         ],
         "hovertemplate": "speed_cat=slow<br>linegroup=%{customdata[2]}<br>latitude=%{lat}<br>longitude=%{lon}<br>stype=%{customdata[0]}<br>abs_pm=%{customdata[1]}<br>fwdir=%{customdata[3]}<extra></extra>",
         "lat": [
          32.714211,
          32.716724
         ],
         "legendgroup": "slow",
         "line": {
          "color": "red",
          "width": 3
         },
         "lon": [
          -117.127908,
          -117.119831
         ],
         "mode": "lines",
         "name": "slow",
         "showlegend": false,
         "subplot": "mapbox",
         "type": "scattermapbox"
        },
        {
         "customdata": [
          [
           "ML",
           0.8,
           2,
           "11W"
          ]
         ],
         "hovertemplate": "speed_cat=moderate<br>linegroup=%{customdata[2]}<br>latitude=%{lat}<br>longitude=%{lon}<br>stype=%{customdata[0]}<br>abs_pm=%{customdata[1]}<br>fwdir=%{customdata[3]}<extra></extra>",
         "lat": [
          32.564034
         ],
         "legendgroup": "moderate",
         "line": {
          "color": "orange",
          "width": 3
         },
         "lon": [
          -116.938179
         ],
         "mode": "lines",
         "name": "moderate",
         "showlegend": true,
         "subplot": "mapbox",
         "type": "scattermapbox"
        },
        {
         "customdata": [
          [
           "ML",
           10.142,
           3,
           "125N"
          ],
          [
           "ML",
           11.047,
           3,
           "125N"
          ],
          [
           "ML",
           11.569,
           3,
           "125N"
          ],
          [
           "ML",
           11.928,
           3,
           "125N"
          ],
          [
           "ML",
           12.273,
           3,
           "125N"
          ],
          [
           "ML",
           12.51,
           3,
           "125N"
          ]
         ],
         "hovertemplate": "speed_cat=moderate<br>linegroup=%{customdata[2]}<br>latitude=%{lat}<br>longitude=%{lon}<br>stype=%{customdata[0]}<br>abs_pm=%{customdata[1]}<br>fwdir=%{customdata[3]}<extra></extra>",
         "lat": [
          32.684722,
          32.695755,
          32.702928,
          32.70806,
          32.71279,
          32.716131
         ],
         "legendgroup": "moderate",
         "line": {
          "color": "orange",
          "width": 3
         },
         "lon": [
          -117.009803,
          -117.013341,
          -117.010755,
          -117.011493,
          -117.01339,
          -117.014296
         ],
         "mode": "lines",
         "name": "moderate",
         "showlegend": false,
         "subplot": "mapbox",
         "type": "scattermapbox"
        },
        {
         "customdata": [
          [
           "ML",
           13.545,
           5,
           "125N"
          ],
          [
           "ML",
           13.934,
           5,
           "125N"
          ]
         ],
         "hovertemplate": "speed_cat=moderate<br>linegroup=%{customdata[2]}<br>latitude=%{lat}<br>longitude=%{lon}<br>stype=%{customdata[0]}<br>abs_pm=%{customdata[1]}<br>fwdir=%{customdata[3]}<extra></extra>",
         "lat": [
          32.731085,
          32.736686
         ],
         "legendgroup": "moderate",
         "line": {
          "color": "orange",
          "width": 3
         },
         "lon": [
          -117.015062,
          -117.015668
         ],
         "mode": "lines",
         "name": "moderate",
         "showlegend": false,
         "subplot": "mapbox",
         "type": "scattermapbox"
        },
        {
         "customdata": [
          [
           "ML",
           17.535,
           8,
           "125N"
          ],
          [
           "ML",
           17.989,
           8,
           "125N"
          ],
          [
           "ML",
           18.687,
           8,
           "125N"
          ],
          [
           "ML",
           19.108,
           8,
           "125N"
          ]
         ],
         "hovertemplate": "speed_cat=moderate<br>linegroup=%{customdata[2]}<br>latitude=%{lat}<br>longitude=%{lon}<br>stype=%{customdata[0]}<br>abs_pm=%{customdata[1]}<br>fwdir=%{customdata[3]}<extra></extra>",
         "lat": [
          32.782757,
          32.78922,
          32.799266,
          32.805368
         ],
         "legendgroup": "moderate",
         "line": {
          "color": "orange",
          "width": 3
         },
         "lon": [
          -117.005102,
          -117.006349,
          -117.005352,
          -117.005343
         ],
         "mode": "lines",
         "name": "moderate",
         "showlegend": false,
         "subplot": "mapbox",
         "type": "scattermapbox"
        },
        {
         "customdata": [
          [
           "ML",
           11.72,
           11,
           "125S"
          ],
          [
           "ML",
           12.075,
           11,
           "125S"
          ],
          [
           "ML",
           12.85,
           11,
           "125S"
          ],
          [
           "ML",
           12.866,
           11,
           "125S"
          ],
          [
           "ML",
           12.953,
           11,
           "125S"
          ]
         ],
         "hovertemplate": "speed_cat=moderate<br>linegroup=%{customdata[2]}<br>latitude=%{lat}<br>longitude=%{lon}<br>stype=%{customdata[0]}<br>abs_pm=%{customdata[1]}<br>fwdir=%{customdata[3]}<extra></extra>",
         "lat": [
          32.695995,
          32.700378,
          32.71026,
          32.710482,
          32.711635
         ],
         "legendgroup": "moderate",
         "line": {
          "color": "orange",
          "width": 3
         },
         "lon": [
          -117.013866,
          -117.011606,
          -117.012799,
          -117.012885,
          -117.013079
         ],
         "mode": "lines",
         "name": "moderate",
         "showlegend": false,
         "subplot": "mapbox",
         "type": "scattermapbox"
        },
        {
         "customdata": [
          [
           "ML",
           15.317,
           14,
           "125S"
          ],
          [
           "ML",
           15.669,
           14,
           "125S"
          ]
         ],
         "hovertemplate": "speed_cat=moderate<br>linegroup=%{customdata[2]}<br>latitude=%{lat}<br>longitude=%{lon}<br>stype=%{customdata[0]}<br>abs_pm=%{customdata[1]}<br>fwdir=%{customdata[3]}<extra></extra>",
         "lat": [
          32.741488,
          32.744963
         ],
         "legendgroup": "moderate",
         "line": {
          "color": "orange",
          "width": 3
         },
         "lon": [
          -117.016541,
          -117.018519
         ],
         "mode": "lines",
         "name": "moderate",
         "showlegend": false,
         "subplot": "mapbox",
         "type": "scattermapbox"
        },
        {
         "customdata": [
          [
           "ML",
           16.382,
           16,
           "125S"
          ],
          [
           "ML",
           16.752,
           16,
           "125S"
          ],
          [
           "ML",
           17.418,
           16,
           "125S"
          ]
         ],
         "hovertemplate": "speed_cat=moderate<br>linegroup=%{customdata[2]}<br>latitude=%{lat}<br>longitude=%{lon}<br>stype=%{customdata[0]}<br>abs_pm=%{customdata[1]}<br>fwdir=%{customdata[3]}<extra></extra>",
         "lat": [
          32.749839,
          32.752517,
          32.759045
         ],
         "legendgroup": "moderate",
         "line": {
          "color": "orange",
          "width": 3
         },
         "lon": [
          -117.016252,
          -117.01272,
          -117.005049
         ],
         "mode": "lines",
         "name": "moderate",
         "showlegend": false,
         "subplot": "mapbox",
         "type": "scattermapbox"
        },
        {
         "customdata": [
          [
           "ML",
           19.283,
           18,
           "125S"
          ],
          [
           "ML",
           19.937,
           18,
           "125S"
          ],
          [
           "ML",
           19.95,
           18,
           "125S"
          ],
          [
           "ML",
           20.656,
           18,
           "125S"
          ]
         ],
         "hovertemplate": "speed_cat=moderate<br>linegroup=%{customdata[2]}<br>latitude=%{lat}<br>longitude=%{lon}<br>stype=%{customdata[0]}<br>abs_pm=%{customdata[1]}<br>fwdir=%{customdata[3]}<extra></extra>",
         "lat": [
          32.784849,
          32.79423,
          32.794418,
          32.804631
         ],
         "legendgroup": "moderate",
         "line": {
          "color": "orange",
          "width": 3
         },
         "lon": [
          -117.0061,
          -117.005898,
          -117.005858,
          -117.005603
         ],
         "mode": "lines",
         "name": "moderate",
         "showlegend": false,
         "subplot": "mapbox",
         "type": "scattermapbox"
        },
        {
         "customdata": [
          [
           "ML",
           22.809,
           20,
           "125S"
          ]
         ],
         "hovertemplate": "speed_cat=moderate<br>linegroup=%{customdata[2]}<br>latitude=%{lat}<br>longitude=%{lon}<br>stype=%{customdata[0]}<br>abs_pm=%{customdata[1]}<br>fwdir=%{customdata[3]}<extra></extra>",
         "lat": [
          32.834748
         ],
         "legendgroup": "moderate",
         "line": {
          "color": "orange",
          "width": 3
         },
         "lon": [
          -117.003404
         ],
         "mode": "lines",
         "name": "moderate",
         "showlegend": false,
         "subplot": "mapbox",
         "type": "scattermapbox"
        },
        {
         "customdata": [
          [
           "ML",
           0.734,
           21,
           "15N"
          ],
          [
           "ML",
           1.066,
           21,
           "15N"
          ]
         ],
         "hovertemplate": "speed_cat=moderate<br>linegroup=%{customdata[2]}<br>latitude=%{lat}<br>longitude=%{lon}<br>stype=%{customdata[0]}<br>abs_pm=%{customdata[1]}<br>fwdir=%{customdata[3]}<extra></extra>",
         "lat": [
          32.701162,
          32.705882
         ],
         "legendgroup": "moderate",
         "line": {
          "color": "orange",
          "width": 3
         },
         "lon": [
          -117.120639,
          -117.120433
         ],
         "mode": "lines",
         "name": "moderate",
         "showlegend": false,
         "subplot": "mapbox",
         "type": "scattermapbox"
        },
        {
         "customdata": [
          [
           "ML",
           1.829,
           23,
           "15N"
          ],
          [
           "ML",
           2.302,
           23,
           "15N"
          ],
          [
           "ML",
           3.059,
           23,
           "15N"
          ]
         ],
         "hovertemplate": "speed_cat=moderate<br>linegroup=%{customdata[2]}<br>latitude=%{lat}<br>longitude=%{lon}<br>stype=%{customdata[0]}<br>abs_pm=%{customdata[1]}<br>fwdir=%{customdata[3]}<extra></extra>",
         "lat": [
          32.716837,
          32.723255,
          32.733487
         ],
         "legendgroup": "moderate",
         "line": {
          "color": "orange",
          "width": 3
         },
         "lon": [
          -117.117751,
          -117.115308,
          -117.111847
         ],
         "mode": "lines",
         "name": "moderate",
         "showlegend": false,
         "subplot": "mapbox",
         "type": "scattermapbox"
        },
        {
         "customdata": [
          [
           "ML",
           3.77,
           25,
           "15N"
          ],
          [
           "ML",
           4.282,
           25,
           "15N"
          ],
          [
           "ML",
           4.672,
           25,
           "15N"
          ],
          [
           "ML",
           5.213,
           25,
           "15N"
          ],
          [
           "ML",
           5.402,
           25,
           "15N"
          ]
         ],
         "hovertemplate": "speed_cat=moderate<br>linegroup=%{customdata[2]}<br>latitude=%{lat}<br>longitude=%{lon}<br>stype=%{customdata[0]}<br>abs_pm=%{customdata[1]}<br>fwdir=%{customdata[3]}<extra></extra>",
         "lat": [
          32.743033,
          32.749887,
          32.755505,
          32.763381,
          32.765981
         ],
         "legendgroup": "moderate",
         "line": {
          "color": "orange",
          "width": 3
         },
         "lon": [
          -117.110934,
          -117.10858,
          -117.108629,
          -117.109091,
          -117.110045
         ],
         "mode": "lines",
         "name": "moderate",
         "showlegend": false,
         "subplot": "mapbox",
         "type": "scattermapbox"
        },
        {
         "customdata": [
          [
           "ML",
           6.856,
           27,
           "15N"
          ],
          [
           "ML",
           7.141,
           27,
           "15N"
          ],
          [
           "ML",
           7.751,
           27,
           "15N"
          ],
          [
           "ML",
           8.043,
           27,
           "15N"
          ],
          [
           "ML",
           8.513,
           27,
           "15N"
          ],
          [
           "ML",
           8.844,
           27,
           "15N"
          ],
          [
           "ML",
           9.356,
           27,
           "15N"
          ],
          [
           "ML",
           9.748,
           27,
           "15N"
          ],
          [
           "ML",
           10.144,
           27,
           "15N"
          ],
          [
           "ML",
           10.814,
           27,
           "15N"
          ],
          [
           "ML",
           11.261,
           27,
           "15N"
          ]
         ],
         "hovertemplate": "speed_cat=moderate<br>linegroup=%{customdata[2]}<br>latitude=%{lat}<br>longitude=%{lon}<br>stype=%{customdata[0]}<br>abs_pm=%{customdata[1]}<br>fwdir=%{customdata[3]}<extra></extra>",
         "lat": [
          32.786224,
          32.790215,
          32.79893,
          32.803162,
          32.809942,
          32.814701,
          32.82201,
          32.8276,
          32.833224,
          32.842596,
          32.848411
         ],
         "legendgroup": "moderate",
         "line": {
          "color": "orange",
          "width": 3
         },
         "lon": [
          -117.114171,
          -117.112989,
          -117.112299,
          -117.112748,
          -117.113787,
          -117.114537,
          -117.116084,
          -117.117266,
          -117.118598,
          -117.119997,
          -117.116636
         ],
         "mode": "lines",
         "name": "moderate",
         "showlegend": false,
         "subplot": "mapbox",
         "type": "scattermapbox"
        },
        {
         "customdata": [
          [
           "ML",
           12.335,
           29,
           "15N"
          ],
          [
           "ML",
           12.721,
           29,
           "15N"
          ]
         ],
         "hovertemplate": "speed_cat=moderate<br>linegroup=%{customdata[2]}<br>latitude=%{lat}<br>longitude=%{lon}<br>stype=%{customdata[0]}<br>abs_pm=%{customdata[1]}<br>fwdir=%{customdata[3]}<extra></extra>",
         "lat": [
          32.862995,
          32.868194
         ],
         "legendgroup": "moderate",
         "line": {
          "color": "orange",
          "width": 3
         },
         "lon": [
          -117.110269,
          -117.107817
         ],
         "mode": "lines",
         "name": "moderate",
         "showlegend": false,
         "subplot": "mapbox",
         "type": "scattermapbox"
        },
        {
         "customdata": [
          [
           "ML",
           13.524,
           31,
           "15N"
          ],
          [
           "ML",
           14.115,
           31,
           "15N"
          ],
          [
           "ML",
           14.532,
           31,
           "15N"
          ],
          [
           "ML",
           15.263,
           31,
           "15N"
          ],
          [
           "ML",
           15.64,
           31,
           "15N"
          ]
         ],
         "hovertemplate": "speed_cat=moderate<br>linegroup=%{customdata[2]}<br>latitude=%{lat}<br>longitude=%{lon}<br>stype=%{customdata[0]}<br>abs_pm=%{customdata[1]}<br>fwdir=%{customdata[3]}<extra></extra>",
         "lat": [
          32.87967,
          32.887474,
          32.893038,
          32.903468,
          32.908922
         ],
         "legendgroup": "moderate",
         "line": {
          "color": "orange",
          "width": 3
         },
         "lon": [
          -117.107922,
          -117.112061,
          -117.114823,
          -117.116195,
          -117.116195
         ],
         "mode": "lines",
         "name": "moderate",
         "showlegend": false,
         "subplot": "mapbox",
         "type": "scattermapbox"
        },
        {
         "customdata": [
          [
           "ML",
           16.199,
           33,
           "15N"
          ],
          [
           "ML",
           16.808,
           33,
           "15N"
          ],
          [
           "ML",
           17.53,
           33,
           "15N"
          ],
          [
           "ML",
           18.399,
           33,
           "15N"
          ],
          [
           "ML",
           18.819,
           33,
           "15N"
          ]
         ],
         "hovertemplate": "speed_cat=moderate<br>linegroup=%{customdata[2]}<br>latitude=%{lat}<br>longitude=%{lon}<br>stype=%{customdata[0]}<br>abs_pm=%{customdata[1]}<br>fwdir=%{customdata[3]}<extra></extra>",
         "lat": [
          32.917072,
          32.925766,
          32.93588,
          32.947622,
          32.952937
         ],
         "legendgroup": "moderate",
         "line": {
          "color": "orange",
          "width": 3
         },
         "lon": [
          -117.115831,
          -117.114149,
          -117.111337,
          -117.106116,
          -117.102548
         ],
         "mode": "lines",
         "name": "moderate",
         "showlegend": false,
         "subplot": "mapbox",
         "type": "scattermapbox"
        },
        {
         "customdata": [
          [
           "ML",
           19.704,
           35,
           "15N"
          ],
          [
           "ML",
           20.311,
           35,
           "15N"
          ],
          [
           "ML",
           20.842,
           35,
           "15N"
          ],
          [
           "ML",
           21.307,
           35,
           "15N"
          ],
          [
           "ML",
           21.832,
           35,
           "15N"
          ]
         ],
         "hovertemplate": "speed_cat=moderate<br>linegroup=%{customdata[2]}<br>latitude=%{lat}<br>longitude=%{lon}<br>stype=%{customdata[0]}<br>abs_pm=%{customdata[1]}<br>fwdir=%{customdata[3]}<extra></extra>",
         "lat": [
          32.964306,
          32.972061,
          32.978838,
          32.985041,
          32.992706
         ],
         "legendgroup": "moderate",
         "line": {
          "color": "orange",
          "width": 3
         },
         "lon": [
          -117.095374,
          -117.090496,
          -117.086204,
          -117.082852,
          -117.083408
         ],
         "mode": "lines",
         "name": "moderate",
         "showlegend": false,
         "subplot": "mapbox",
         "type": "scattermapbox"
        },
        {
         "customdata": [
          [
           "ML",
           22.301,
           37,
           "15N"
          ],
          [
           "ML",
           22.691,
           37,
           "15N"
          ],
          [
           "ML",
           23.28,
           37,
           "15N"
          ]
         ],
         "hovertemplate": "speed_cat=moderate<br>linegroup=%{customdata[2]}<br>latitude=%{lat}<br>longitude=%{lon}<br>stype=%{customdata[0]}<br>abs_pm=%{customdata[1]}<br>fwdir=%{customdata[3]}<extra></extra>",
         "lat": [
          32.999461,
          33.004858,
          33.013247
         ],
         "legendgroup": "moderate",
         "line": {
          "color": "orange",
          "width": 3
         },
         "lon": [
          -117.082451,
          -117.080707,
          -117.079485
         ],
         "mode": "lines",
         "name": "moderate",
         "showlegend": false,
         "subplot": "mapbox",
         "type": "scattermapbox"
        },
        {
         "customdata": [
          [
           "ML",
           23.561,
           39,
           "15N"
          ],
          [
           "ML",
           24.065,
           39,
           "15N"
          ],
          [
           "ML",
           24.758,
           39,
           "15N"
          ],
          [
           "ML",
           25.284,
           39,
           "15N"
          ],
          [
           "ML",
           25.893,
           39,
           "15N"
          ]
         ],
         "hovertemplate": "speed_cat=moderate<br>linegroup=%{customdata[2]}<br>latitude=%{lat}<br>longitude=%{lon}<br>stype=%{customdata[0]}<br>abs_pm=%{customdata[1]}<br>fwdir=%{customdata[3]}<extra></extra>",
         "lat": [
          33.017302,
          33.024581,
          33.03442,
          33.041631,
          33.0503
         ],
         "legendgroup": "moderate",
         "line": {
          "color": "orange",
          "width": 3
         },
         "lon": [
          -117.079039,
          -117.078628,
          -117.077018,
          -117.074011,
          -117.072669
         ],
         "mode": "lines",
         "name": "moderate",
         "showlegend": false,
         "subplot": "mapbox",
         "type": "scattermapbox"
        },
        {
         "customdata": [
          [
           "ML",
           25.893,
           41,
           "15N"
          ],
          [
           "ML",
           26.249,
           41,
           "15N"
          ],
          [
           "ML",
           26.702,
           41,
           "15N"
          ],
          [
           "ML",
           27.138,
           41,
           "15N"
          ]
         ],
         "hovertemplate": "speed_cat=moderate<br>linegroup=%{customdata[2]}<br>latitude=%{lat}<br>longitude=%{lon}<br>stype=%{customdata[0]}<br>abs_pm=%{customdata[1]}<br>fwdir=%{customdata[3]}<extra></extra>",
         "lat": [
          33.0503,
          33.055354,
          33.061591,
          33.067915
         ],
         "legendgroup": "moderate",
         "line": {
          "color": "orange",
          "width": 3
         },
         "lon": [
          -117.072669,
          -117.071497,
          -117.068995,
          -117.069049
         ],
         "mode": "lines",
         "name": "moderate",
         "showlegend": false,
         "subplot": "mapbox",
         "type": "scattermapbox"
        },
        {
         "customdata": [
          [
           "ML",
           29.081,
           43,
           "15N"
          ],
          [
           "ML",
           29.755,
           43,
           "15N"
          ]
         ],
         "hovertemplate": "speed_cat=moderate<br>linegroup=%{customdata[2]}<br>latitude=%{lat}<br>longitude=%{lon}<br>stype=%{customdata[0]}<br>abs_pm=%{customdata[1]}<br>fwdir=%{customdata[3]}<extra></extra>",
         "lat": [
          33.092857,
          33.100535
         ],
         "legendgroup": "moderate",
         "line": {
          "color": "orange",
          "width": 3
         },
         "lon": [
          -117.082787,
          -117.090041
         ],
         "mode": "lines",
         "name": "moderate",
         "showlegend": false,
         "subplot": "mapbox",
         "type": "scattermapbox"
        },
        {
         "customdata": [
          [
           "ML",
           31.653,
           45,
           "15N"
          ],
          [
           "ML",
           32.877,
           45,
           "15N"
          ],
          [
           "ML",
           33.837,
           45,
           "15N"
          ],
          [
           "ML",
           34.529,
           45,
           "15N"
          ],
          [
           "ML",
           35.451,
           45,
           "15N"
          ]
         ],
         "hovertemplate": "speed_cat=moderate<br>linegroup=%{customdata[2]}<br>latitude=%{lat}<br>longitude=%{lon}<br>stype=%{customdata[0]}<br>abs_pm=%{customdata[1]}<br>fwdir=%{customdata[3]}<extra></extra>",
         "lat": [
          33.125282,
          33.142901,
          33.15709,
          33.166377,
          33.178414
         ],
         "legendgroup": "moderate",
         "line": {
          "color": "orange",
          "width": 3
         },
         "lon": [
          -117.104135,
          -117.104509,
          -117.104039,
          -117.10773,
          -117.114712
         ],
         "mode": "lines",
         "name": "moderate",
         "showlegend": false,
         "subplot": "mapbox",
         "type": "scattermapbox"
        },
        {
         "customdata": [
          [
           "ML",
           45.717,
           47,
           "15N"
          ],
          [
           "ML",
           48.537,
           47,
           "15N"
          ],
          [
           "ML",
           52.347,
           47,
           "15N"
          ]
         ],
         "hovertemplate": "speed_cat=moderate<br>linegroup=%{customdata[2]}<br>latitude=%{lat}<br>longitude=%{lon}<br>stype=%{customdata[0]}<br>abs_pm=%{customdata[1]}<br>fwdir=%{customdata[3]}<extra></extra>",
         "lat": [
          33.317188,
          33.357444,
          33.406738
         ],
         "legendgroup": "moderate",
         "line": {
          "color": "orange",
          "width": 3
         },
         "lon": [
          -117.153998,
          -117.158725,
          -117.164546
         ],
         "mode": "lines",
         "name": "moderate",
         "showlegend": false,
         "subplot": "mapbox",
         "type": "scattermapbox"
        },
        {
         "customdata": [
          [
           "ML",
           1.703,
           49,
           "15S"
          ],
          [
           "ML",
           2.294,
           49,
           "15S"
          ]
         ],
         "hovertemplate": "speed_cat=moderate<br>linegroup=%{customdata[2]}<br>latitude=%{lat}<br>longitude=%{lon}<br>stype=%{customdata[0]}<br>abs_pm=%{customdata[1]}<br>fwdir=%{customdata[3]}<extra></extra>",
         "lat": [
          32.715149,
          32.723273
         ],
         "legendgroup": "moderate",
         "line": {
          "color": "orange",
          "width": 3
         },
         "lon": [
          -117.117869,
          -117.115525
         ],
         "mode": "lines",
         "name": "moderate",
         "showlegend": false,
         "subplot": "mapbox",
         "type": "scattermapbox"
        },
        {
         "customdata": [
          [
           "ML",
           3.049,
           51,
           "15S"
          ],
          [
           "ML",
           3.76,
           51,
           "15S"
          ]
         ],
         "hovertemplate": "speed_cat=moderate<br>linegroup=%{customdata[2]}<br>latitude=%{lat}<br>longitude=%{lon}<br>stype=%{customdata[0]}<br>abs_pm=%{customdata[1]}<br>fwdir=%{customdata[3]}<extra></extra>",
         "lat": [
          32.733539,
          32.74312
         ],
         "legendgroup": "moderate",
         "line": {
          "color": "orange",
          "width": 3
         },
         "lon": [
          -117.11215,
          -117.111361
         ],
         "mode": "lines",
         "name": "moderate",
         "showlegend": false,
         "subplot": "mapbox",
         "type": "scattermapbox"
        },
        {
         "customdata": [
          [
           "ML",
           4.591,
           54,
           "15S"
          ],
          [
           "ML",
           5.082,
           54,
           "15S"
          ],
          [
           "ML",
           5.382,
           54,
           "15S"
          ],
          [
           "ML",
           6.834,
           54,
           "15S"
          ],
          [
           "ML",
           6.847,
           54,
           "15S"
          ],
          [
           "ML",
           6.95,
           54,
           "15S"
          ],
          [
           "ML",
           7.842,
           54,
           "15S"
          ]
         ],
         "hovertemplate": "speed_cat=moderate<br>linegroup=%{customdata[2]}<br>latitude=%{lat}<br>longitude=%{lon}<br>stype=%{customdata[0]}<br>abs_pm=%{customdata[1]}<br>fwdir=%{customdata[3]}<extra></extra>",
         "lat": [
          32.754476,
          32.761617,
          32.765834,
          32.786062,
          32.786249,
          32.787708,
          32.800345
         ],
         "legendgroup": "moderate",
         "line": {
          "color": "orange",
          "width": 3
         },
         "lon": [
          -117.108977,
          -117.109257,
          -117.110379,
          -117.114472,
          -117.114457,
          -117.114165,
          -117.112825
         ],
         "mode": "lines",
         "name": "moderate",
         "showlegend": false,
         "subplot": "mapbox",
         "type": "scattermapbox"
        },
        {
         "customdata": [
          [
           "ML",
           12.712,
           58,
           "15S"
          ],
          [
           "ML",
           13.178,
           58,
           "15S"
          ]
         ],
         "hovertemplate": "speed_cat=moderate<br>linegroup=%{customdata[2]}<br>latitude=%{lat}<br>longitude=%{lon}<br>stype=%{customdata[0]}<br>abs_pm=%{customdata[1]}<br>fwdir=%{customdata[3]}<extra></extra>",
         "lat": [
          32.868138,
          32.874797
         ],
         "legendgroup": "moderate",
         "line": {
          "color": "orange",
          "width": 3
         },
         "lon": [
          -117.10851,
          -117.107576
         ],
         "mode": "lines",
         "name": "moderate",
         "showlegend": false,
         "subplot": "mapbox",
         "type": "scattermapbox"
        },
        {
         "customdata": [
          [
           "ML",
           13.692,
           60,
           "15S"
          ],
          [
           "ML",
           14.03,
           60,
           "15S"
          ],
          [
           "ML",
           14.399,
           60,
           "15S"
          ],
          [
           "ML",
           14.603,
           60,
           "15S"
          ],
          [
           "ML",
           15.629,
           60,
           "15S"
          ]
         ],
         "hovertemplate": "speed_cat=moderate<br>linegroup=%{customdata[2]}<br>latitude=%{lat}<br>longitude=%{lon}<br>stype=%{customdata[0]}<br>abs_pm=%{customdata[1]}<br>fwdir=%{customdata[3]}<extra></extra>",
         "lat": [
          32.881993,
          32.886392,
          32.891265,
          32.894088,
          32.908916
         ],
         "legendgroup": "moderate",
         "line": {
          "color": "orange",
          "width": 3
         },
         "lon": [
          -117.109567,
          -117.112102,
          -117.114689,
          -117.115721,
          -117.116587
         ],
         "mode": "lines",
         "name": "moderate",
         "showlegend": false,
         "subplot": "mapbox",
         "type": "scattermapbox"
        },
        {
         "customdata": [
          [
           "ML",
           16.211,
           62,
           "15S"
          ],
          [
           "ML",
           16.799,
           62,
           "15S"
          ],
          [
           "ML",
           17.488,
           62,
           "15S"
          ],
          [
           "ML",
           18.492,
           62,
           "15S"
          ]
         ],
         "hovertemplate": "speed_cat=moderate<br>linegroup=%{customdata[2]}<br>latitude=%{lat}<br>longitude=%{lon}<br>stype=%{customdata[0]}<br>abs_pm=%{customdata[1]}<br>fwdir=%{customdata[3]}<extra></extra>",
         "lat": [
          32.917445,
          32.92585,
          32.935515,
          32.949064
         ],
         "legendgroup": "moderate",
         "line": {
          "color": "orange",
          "width": 3
         },
         "lon": [
          -117.116153,
          -117.114677,
          -117.111886,
          -117.105522
         ],
         "mode": "lines",
         "name": "moderate",
         "showlegend": false,
         "subplot": "mapbox",
         "type": "scattermapbox"
        },
        {
         "customdata": [
          [
           "ML",
           19.268,
           64,
           "15S"
          ],
          [
           "ML",
           20.304,
           64,
           "15S"
          ],
          [
           "ML",
           21.298,
           64,
           "15S"
          ]
         ],
         "hovertemplate": "speed_cat=moderate<br>linegroup=%{customdata[2]}<br>latitude=%{lat}<br>longitude=%{lon}<br>stype=%{customdata[0]}<br>abs_pm=%{customdata[1]}<br>fwdir=%{customdata[3]}<extra></extra>",
         "lat": [
          32.959072,
          32.972191,
          32.985192
         ],
         "legendgroup": "moderate",
         "line": {
          "color": "orange",
          "width": 3
         },
         "lon": [
          -117.099452,
          -117.090848,
          -117.083216
         ],
         "mode": "lines",
         "name": "moderate",
         "showlegend": false,
         "subplot": "mapbox",
         "type": "scattermapbox"
        },
        {
         "customdata": [
          [
           "ML",
           22.073,
           66,
           "15S"
          ],
          [
           "ML",
           22.682,
           66,
           "15S"
          ],
          [
           "ML",
           23.108,
           66,
           "15S"
          ]
         ],
         "hovertemplate": "speed_cat=moderate<br>linegroup=%{customdata[2]}<br>latitude=%{lat}<br>longitude=%{lon}<br>stype=%{customdata[0]}<br>abs_pm=%{customdata[1]}<br>fwdir=%{customdata[3]}<extra></extra>",
         "lat": [
          32.996577,
          33.004968,
          33.010949
         ],
         "legendgroup": "moderate",
         "line": {
          "color": "orange",
          "width": 3
         },
         "lon": [
          -117.083687,
          -117.081057,
          -117.08016
         ],
         "mode": "lines",
         "name": "moderate",
         "showlegend": false,
         "subplot": "mapbox",
         "type": "scattermapbox"
        },
        {
         "customdata": [
          [
           "ML",
           23.552,
           68,
           "15S"
          ],
          [
           "ML",
           24.066,
           68,
           "15S"
          ],
          [
           "ML",
           24.746,
           68,
           "15S"
          ],
          [
           "ML",
           25.275,
           68,
           "15S"
          ],
          [
           "ML",
           25.882,
           68,
           "15S"
          ],
          [
           "ML",
           26.085,
           68,
           "15S"
          ],
          [
           "ML",
           26.69,
           68,
           "15S"
          ],
          [
           "ML",
           27.258,
           68,
           "15S"
          ],
          [
           "ML",
           27.554,
           68,
           "15S"
          ],
          [
           "ML",
           28.087,
           68,
           "15S"
          ]
         ],
         "hovertemplate": "speed_cat=moderate<br>linegroup=%{customdata[2]}<br>latitude=%{lat}<br>longitude=%{lon}<br>stype=%{customdata[0]}<br>abs_pm=%{customdata[1]}<br>fwdir=%{customdata[3]}<extra></extra>",
         "lat": [
          33.017337,
          33.024783,
          33.034506,
          33.041744,
          33.050388,
          33.053304,
          33.061597,
          33.069784,
          33.074031,
          33.08147
         ],
         "legendgroup": "moderate",
         "line": {
          "color": "orange",
          "width": 3
         },
         "lon": [
          -117.079473,
          -117.079,
          -117.077429,
          -117.074397,
          -117.073047,
          -117.072601,
          -117.06932,
          -117.069615,
          -117.070369,
          -117.072744
         ],
         "mode": "lines",
         "name": "moderate",
         "showlegend": false,
         "subplot": "mapbox",
         "type": "scattermapbox"
        },
        {
         "customdata": [
          [
           "ML",
           30.955,
           70,
           "15S"
          ],
          [
           "ML",
           31.644,
           70,
           "15S"
          ],
          [
           "ML",
           32.974,
           70,
           "15S"
          ],
          [
           "ML",
           33.828,
           70,
           "15S"
          ],
          [
           "ML",
           34.52,
           70,
           "15S"
          ],
          [
           "ML",
           35.44,
           70,
           "15S"
          ]
         ],
         "hovertemplate": "speed_cat=moderate<br>linegroup=%{customdata[2]}<br>latitude=%{lat}<br>longitude=%{lon}<br>stype=%{customdata[0]}<br>abs_pm=%{customdata[1]}<br>fwdir=%{customdata[3]}<extra></extra>",
         "lat": [
          33.116146,
          33.125235,
          33.144465,
          33.157067,
          33.166231,
          33.178265
         ],
         "legendgroup": "moderate",
         "line": {
          "color": "orange",
          "width": 3
         },
         "lon": [
          -117.099574,
          -117.104439,
          -117.104762,
          -117.104348,
          -117.10807,
          -117.114973
         ],
         "mode": "lines",
         "name": "moderate",
         "showlegend": false,
         "subplot": "mapbox",
         "type": "scattermapbox"
        },
        {
         "customdata": [
          [
           "ML",
           48.528,
           72,
           "15S"
          ]
         ],
         "hovertemplate": "speed_cat=moderate<br>linegroup=%{customdata[2]}<br>latitude=%{lat}<br>longitude=%{lon}<br>stype=%{customdata[0]}<br>abs_pm=%{customdata[1]}<br>fwdir=%{customdata[3]}<extra></extra>",
         "lat": [
          33.357354
         ],
         "legendgroup": "moderate",
         "line": {
          "color": "orange",
          "width": 3
         },
         "lon": [
          -117.159131
         ],
         "mode": "lines",
         "name": "moderate",
         "showlegend": false,
         "subplot": "mapbox",
         "type": "scattermapbox"
        },
        {
         "customdata": [
          [
           "ML",
           2.289,
           74,
           "163N"
          ],
          [
           "ML",
           2.789,
           74,
           "163N"
          ]
         ],
         "hovertemplate": "speed_cat=moderate<br>linegroup=%{customdata[2]}<br>latitude=%{lat}<br>longitude=%{lon}<br>stype=%{customdata[0]}<br>abs_pm=%{customdata[1]}<br>fwdir=%{customdata[3]}<extra></extra>",
         "lat": [
          32.7516,
          32.757697
         ],
         "legendgroup": "moderate",
         "line": {
          "color": "orange",
          "width": 3
         },
         "lon": [
          -117.155806,
          -117.160056
         ],
         "mode": "lines",
         "name": "moderate",
         "showlegend": false,
         "subplot": "mapbox",
         "type": "scattermapbox"
        },
        {
         "customdata": [
          [
           "ML",
           6.199,
           76,
           "163N"
          ],
          [
           "ML",
           6.777,
           76,
           "163N"
          ]
         ],
         "hovertemplate": "speed_cat=moderate<br>linegroup=%{customdata[2]}<br>latitude=%{lat}<br>longitude=%{lon}<br>stype=%{customdata[0]}<br>abs_pm=%{customdata[1]}<br>fwdir=%{customdata[3]}<extra></extra>",
         "lat": [
          32.804762,
          32.812726
         ],
         "legendgroup": "moderate",
         "line": {
          "color": "orange",
          "width": 3
         },
         "lon": [
          -117.154108,
          -117.151215
         ],
         "mode": "lines",
         "name": "moderate",
         "showlegend": false,
         "subplot": "mapbox",
         "type": "scattermapbox"
        },
        {
         "customdata": [
          [
           "ML",
           2.101,
           79,
           "163S"
          ],
          [
           "ML",
           2.743,
           79,
           "163S"
          ]
         ],
         "hovertemplate": "speed_cat=moderate<br>linegroup=%{customdata[2]}<br>latitude=%{lat}<br>longitude=%{lon}<br>stype=%{customdata[0]}<br>abs_pm=%{customdata[1]}<br>fwdir=%{customdata[3]}<extra></extra>",
         "lat": [
          32.749679,
          32.757664
         ],
         "legendgroup": "moderate",
         "line": {
          "color": "orange",
          "width": 3
         },
         "lon": [
          -117.155519,
          -117.160289
         ],
         "mode": "lines",
         "name": "moderate",
         "showlegend": false,
         "subplot": "mapbox",
         "type": "scattermapbox"
        },
        {
         "customdata": [
          [
           "ML",
           4.653,
           81,
           "163S"
          ],
          [
           "ML",
           5.133,
           81,
           "163S"
          ],
          [
           "ML",
           6.153,
           81,
           "163S"
          ]
         ],
         "hovertemplate": "speed_cat=moderate<br>linegroup=%{customdata[2]}<br>latitude=%{lat}<br>longitude=%{lon}<br>stype=%{customdata[0]}<br>abs_pm=%{customdata[1]}<br>fwdir=%{customdata[3]}<extra></extra>",
         "lat": [
          32.784029,
          32.790699,
          32.804853
         ],
         "legendgroup": "moderate",
         "line": {
          "color": "orange",
          "width": 3
         },
         "lon": [
          -117.161945,
          -117.159531,
          -117.15441
         ],
         "mode": "lines",
         "name": "moderate",
         "showlegend": false,
         "subplot": "mapbox",
         "type": "scattermapbox"
        },
        {
         "customdata": [
          [
           "ML",
           7.235,
           83,
           "163S"
          ],
          [
           "ML",
           7.452,
           83,
           "163S"
          ]
         ],
         "hovertemplate": "speed_cat=moderate<br>linegroup=%{customdata[2]}<br>latitude=%{lat}<br>longitude=%{lon}<br>stype=%{customdata[0]}<br>abs_pm=%{customdata[1]}<br>fwdir=%{customdata[3]}<extra></extra>",
         "lat": [
          32.8195,
          32.822354
         ],
         "legendgroup": "moderate",
         "line": {
          "color": "orange",
          "width": 3
         },
         "lon": [
          -117.148074,
          -117.146524
         ],
         "mode": "lines",
         "name": "moderate",
         "showlegend": false,
         "subplot": "mapbox",
         "type": "scattermapbox"
        },
        {
         "customdata": [
          [
           "ML",
           0.301,
           85,
           "52E"
          ],
          [
           "ML",
           1.308,
           85,
           "52E"
          ],
          [
           "ML",
           2.218,
           85,
           "52E"
          ],
          [
           "ML",
           3.15,
           85,
           "52E"
          ],
          [
           "ML",
           4.856,
           85,
           "52E"
          ],
          [
           "ML",
           7.246,
           85,
           "52E"
          ]
         ],
         "hovertemplate": "speed_cat=moderate<br>linegroup=%{customdata[2]}<br>latitude=%{lat}<br>longitude=%{lon}<br>stype=%{customdata[0]}<br>abs_pm=%{customdata[1]}<br>fwdir=%{customdata[3]}<extra></extra>",
         "lat": [
          32.837451,
          32.841387,
          32.846717,
          32.846153,
          32.839837,
          32.841627
         ],
         "legendgroup": "moderate",
         "line": {
          "color": "orange",
          "width": 3
         },
         "lon": [
          -117.234727,
          -117.218311,
          -117.204307,
          -117.18848,
          -117.162111,
          -117.122598
         ],
         "mode": "lines",
         "name": "moderate",
         "showlegend": false,
         "subplot": "mapbox",
         "type": "scattermapbox"
        },
        {
         "customdata": [
          [
           "ML",
           7.84,
           87,
           "52E"
          ],
          [
           "ML",
           9.271,
           87,
           "52E"
          ],
          [
           "ML",
           10.1,
           87,
           "52E"
          ],
          [
           "ML",
           10.3,
           87,
           "52E"
          ],
          [
           "ML",
           11.401,
           87,
           "52E"
          ]
         ],
         "hovertemplate": "speed_cat=moderate<br>linegroup=%{customdata[2]}<br>latitude=%{lat}<br>longitude=%{lon}<br>stype=%{customdata[0]}<br>abs_pm=%{customdata[1]}<br>fwdir=%{customdata[3]}<extra></extra>",
         "lat": [
          32.841719,
          32.842684,
          32.848323,
          32.850297,
          32.853811
         ],
         "legendgroup": "moderate",
         "line": {
          "color": "orange",
          "width": 3
         },
         "lon": [
          -117.112297,
          -117.087957,
          -117.075685,
          -117.073164,
          -117.055777
         ],
         "mode": "lines",
         "name": "moderate",
         "showlegend": false,
         "subplot": "mapbox",
         "type": "scattermapbox"
        },
        {
         "customdata": [
          [
           "ML",
           11.65,
           89,
           "52E"
          ],
          [
           "ML",
           12.401,
           89,
           "52E"
          ]
         ],
         "hovertemplate": "speed_cat=moderate<br>linegroup=%{customdata[2]}<br>latitude=%{lat}<br>longitude=%{lon}<br>stype=%{customdata[0]}<br>abs_pm=%{customdata[1]}<br>fwdir=%{customdata[3]}<extra></extra>",
         "lat": [
          32.853151,
          32.851233
         ],
         "legendgroup": "moderate",
         "line": {
          "color": "orange",
          "width": 3
         },
         "lon": [
          -117.051554,
          -117.038885
         ],
         "mode": "lines",
         "name": "moderate",
         "showlegend": false,
         "subplot": "mapbox",
         "type": "scattermapbox"
        },
        {
         "customdata": [
          [
           "ML",
           12.921,
           91,
           "52E"
          ],
          [
           "ML",
           13.402,
           91,
           "52E"
          ]
         ],
         "hovertemplate": "speed_cat=moderate<br>linegroup=%{customdata[2]}<br>latitude=%{lat}<br>longitude=%{lon}<br>stype=%{customdata[0]}<br>abs_pm=%{customdata[1]}<br>fwdir=%{customdata[3]}<extra></extra>",
         "lat": [
          32.848883,
          32.84345
         ],
         "legendgroup": "moderate",
         "line": {
          "color": "orange",
          "width": 3
         },
         "lon": [
          -117.030492,
          -117.025624
         ],
         "mode": "lines",
         "name": "moderate",
         "showlegend": false,
         "subplot": "mapbox",
         "type": "scattermapbox"
        },
        {
         "customdata": [
          [
           "ML",
           14.25,
           93,
           "52E"
          ]
         ],
         "hovertemplate": "speed_cat=moderate<br>linegroup=%{customdata[2]}<br>latitude=%{lat}<br>longitude=%{lon}<br>stype=%{customdata[0]}<br>abs_pm=%{customdata[1]}<br>fwdir=%{customdata[3]}<extra></extra>",
         "lat": [
          32.835925
         ],
         "legendgroup": "moderate",
         "line": {
          "color": "orange",
          "width": 3
         },
         "lon": [
          -117.015497
         ],
         "mode": "lines",
         "name": "moderate",
         "showlegend": false,
         "subplot": "mapbox",
         "type": "scattermapbox"
        },
        {
         "customdata": [
          [
           "ML",
           2.219,
           95,
           "52W"
          ],
          [
           "ML",
           3.151,
           95,
           "52W"
          ],
          [
           "ML",
           3.97,
           95,
           "52W"
          ]
         ],
         "hovertemplate": "speed_cat=moderate<br>linegroup=%{customdata[2]}<br>latitude=%{lat}<br>longitude=%{lon}<br>stype=%{customdata[0]}<br>abs_pm=%{customdata[1]}<br>fwdir=%{customdata[3]}<extra></extra>",
         "lat": [
          32.847046,
          32.846483,
          32.847199
         ],
         "legendgroup": "moderate",
         "line": {
          "color": "orange",
          "width": 3
         },
         "lon": [
          -117.204305,
          -117.188458,
          -117.17441
         ],
         "mode": "lines",
         "name": "moderate",
         "showlegend": false,
         "subplot": "mapbox",
         "type": "scattermapbox"
        },
        {
         "customdata": [
          [
           "ML",
           10.301,
           97,
           "52W"
          ],
          [
           "ML",
           10.68,
           97,
           "52W"
          ],
          [
           "ML",
           11.4,
           97,
           "52W"
          ],
          [
           "ML",
           11.651,
           97,
           "52W"
          ],
          [
           "ML",
           12.25,
           97,
           "52W"
          ],
          [
           "ML",
           12.92,
           97,
           "52W"
          ],
          [
           "ML",
           13.4,
           97,
           "52W"
          ],
          [
           "ML",
           14.772,
           97,
           "52W"
          ]
         ],
         "hovertemplate": "speed_cat=moderate<br>linegroup=%{customdata[2]}<br>latitude=%{lat}<br>longitude=%{lon}<br>stype=%{customdata[0]}<br>abs_pm=%{customdata[1]}<br>fwdir=%{customdata[3]}<extra></extra>",
         "lat": [
          32.850718,
          32.853857,
          32.854113,
          32.853459,
          32.851931,
          32.849108,
          32.843588,
          null
         ],
         "legendgroup": "moderate",
         "line": {
          "color": "orange",
          "width": 3
         },
         "lon": [
          -117.07319,
          -117.067876,
          -117.055734,
          -117.051468,
          -117.041345,
          -117.030286,
          -117.025315,
          null
         ],
         "mode": "lines",
         "name": "moderate",
         "showlegend": false,
         "subplot": "mapbox",
         "type": "scattermapbox"
        },
        {
         "customdata": [
          [
           "ML",
           2.904,
           99,
           "54E"
          ],
          [
           "ML",
           4.241,
           99,
           "54E"
          ],
          [
           "ML",
           5.025,
           99,
           "54E"
          ]
         ],
         "hovertemplate": "speed_cat=moderate<br>linegroup=%{customdata[2]}<br>latitude=%{lat}<br>longitude=%{lon}<br>stype=%{customdata[0]}<br>abs_pm=%{customdata[1]}<br>fwdir=%{customdata[3]}<extra></extra>",
         "lat": [
          32.664009,
          32.674057,
          32.682203
         ],
         "legendgroup": "moderate",
         "line": {
          "color": "orange",
          "width": 3
         },
         "lon": [
          -117.057617,
          -117.038294,
          -117.029012
         ],
         "mode": "lines",
         "name": "moderate",
         "showlegend": false,
         "subplot": "mapbox",
         "type": "scattermapbox"
        },
        {
         "customdata": [
          [
           "ML",
           4.036,
           102,
           "54W"
          ],
          [
           "ML",
           4.764,
           102,
           "54W"
          ]
         ],
         "hovertemplate": "speed_cat=moderate<br>linegroup=%{customdata[2]}<br>latitude=%{lat}<br>longitude=%{lon}<br>stype=%{customdata[0]}<br>abs_pm=%{customdata[1]}<br>fwdir=%{customdata[3]}<extra></extra>",
         "lat": [
          32.671672,
          32.679441
         ],
         "legendgroup": "moderate",
         "line": {
          "color": "orange",
          "width": 3
         },
         "lon": [
          -117.041389,
          -117.033088
         ],
         "mode": "lines",
         "name": "moderate",
         "showlegend": false,
         "subplot": "mapbox",
         "type": "scattermapbox"
        },
        {
         "customdata": [
          [
           "ML",
           0.42,
           103,
           "56E"
          ],
          [
           "ML",
           0.966,
           103,
           "56E"
          ]
         ],
         "hovertemplate": "speed_cat=moderate<br>linegroup=%{customdata[2]}<br>latitude=%{lat}<br>longitude=%{lon}<br>stype=%{customdata[0]}<br>abs_pm=%{customdata[1]}<br>fwdir=%{customdata[3]}<extra></extra>",
         "lat": [
          32.934775,
          32.937845
         ],
         "legendgroup": "moderate",
         "line": {
          "color": "orange",
          "width": 3
         },
         "lon": [
          -117.235209,
          -117.226663
         ],
         "mode": "lines",
         "name": "moderate",
         "showlegend": false,
         "subplot": "mapbox",
         "type": "scattermapbox"
        },
        {
         "customdata": [
          [
           "ML",
           1.891,
           106,
           "56E"
          ],
          [
           "ML",
           2.909,
           106,
           "56E"
          ],
          [
           "ML",
           3.188,
           106,
           "56E"
          ],
          [
           "ML",
           4.522,
           106,
           "56E"
          ],
          [
           "ML",
           5.95,
           106,
           "56E"
          ],
          [
           "ML",
           6.173,
           106,
           "56E"
          ],
          [
           "ML",
           7.366,
           106,
           "56E"
          ],
          [
           "ML",
           8.173,
           106,
           "56E"
          ],
          [
           "ML",
           8.563,
           106,
           "56E"
          ],
          [
           "ML",
           9.327,
           106,
           "56E"
          ]
         ],
         "hovertemplate": "speed_cat=moderate<br>linegroup=%{customdata[2]}<br>latitude=%{lat}<br>longitude=%{lon}<br>stype=%{customdata[0]}<br>abs_pm=%{customdata[1]}<br>fwdir=%{customdata[3]}<extra></extra>",
         "lat": [
          32.944548,
          32.950976,
          32.952425,
          32.965955,
          32.960096,
          32.958196,
          32.953397,
          32.956215,
          32.958444,
          32.962525
         ],
         "legendgroup": "moderate",
         "line": {
          "color": "orange",
          "width": 3
         },
         "lon": [
          -117.21295,
          -117.197404,
          -117.193019,
          -117.177396,
          -117.155172,
          -117.152094,
          -117.13337,
          -117.119934,
          -117.113436,
          -117.101272
         ],
         "mode": "lines",
         "name": "moderate",
         "showlegend": false,
         "subplot": "mapbox",
         "type": "scattermapbox"
        },
        {
         "customdata": [
          [
           "ML",
           1.289,
           109,
           "56W"
          ],
          [
           "ML",
           1.861,
           109,
           "56W"
          ],
          [
           "ML",
           2.909,
           109,
           "56W"
          ],
          [
           "ML",
           3.19,
           109,
           "56W"
          ],
          [
           "ML",
           4.519,
           109,
           "56W"
          ],
          [
           "ML",
           5.948,
           109,
           "56W"
          ],
          [
           "ML",
           6.175,
           109,
           "56W"
          ]
         ],
         "hovertemplate": "speed_cat=moderate<br>linegroup=%{customdata[2]}<br>latitude=%{lat}<br>longitude=%{lon}<br>stype=%{customdata[0]}<br>abs_pm=%{customdata[1]}<br>fwdir=%{customdata[3]}<extra></extra>",
         "lat": [
          32.940106,
          32.944421,
          32.951299,
          32.952754,
          32.966186,
          32.960479,
          32.958567
         ],
         "legendgroup": "moderate",
         "line": {
          "color": "orange",
          "width": 3
         },
         "lon": [
          -117.221888,
          -117.213509,
          -117.197463,
          -117.193087,
          -117.177595,
          -117.155182,
          -117.152079
         ],
         "mode": "lines",
         "name": "moderate",
         "showlegend": false,
         "subplot": "mapbox",
         "type": "scattermapbox"
        },
        {
         "customdata": [
          [
           "ML",
           7.661,
           111,
           "56W"
          ],
          [
           "ML",
           8.565,
           111,
           "56W"
          ]
         ],
         "hovertemplate": "speed_cat=moderate<br>linegroup=%{customdata[2]}<br>latitude=%{lat}<br>longitude=%{lon}<br>stype=%{customdata[0]}<br>abs_pm=%{customdata[1]}<br>fwdir=%{customdata[3]}<extra></extra>",
         "lat": [
          32.954374,
          32.958653
         ],
         "legendgroup": "moderate",
         "line": {
          "color": "orange",
          "width": 3
         },
         "lon": [
          -117.128361,
          -117.113729
         ],
         "mode": "lines",
         "name": "moderate",
         "showlegend": false,
         "subplot": "mapbox",
         "type": "scattermapbox"
        },
        {
         "customdata": [
          [
           "ML",
           9.302,
           113,
           "56W"
          ]
         ],
         "hovertemplate": "speed_cat=moderate<br>linegroup=%{customdata[2]}<br>latitude=%{lat}<br>longitude=%{lon}<br>stype=%{customdata[0]}<br>abs_pm=%{customdata[1]}<br>fwdir=%{customdata[3]}<extra></extra>",
         "lat": [
          32.962672
         ],
         "legendgroup": "moderate",
         "line": {
          "color": "orange",
          "width": 3
         },
         "lon": [
          -117.101859
         ],
         "mode": "lines",
         "name": "moderate",
         "showlegend": false,
         "subplot": "mapbox",
         "type": "scattermapbox"
        },
        {
         "customdata": [
          [
           "ML",
           4.004,
           115,
           "5N"
          ],
          [
           "ML",
           5.326,
           115,
           "5N"
          ]
         ],
         "hovertemplate": "speed_cat=moderate<br>linegroup=%{customdata[2]}<br>latitude=%{lat}<br>longitude=%{lon}<br>stype=%{customdata[0]}<br>abs_pm=%{customdata[1]}<br>fwdir=%{customdata[3]}<extra></extra>",
         "lat": [
          32.577106,
          32.595115
         ],
         "legendgroup": "moderate",
         "line": {
          "color": "orange",
          "width": 3
         },
         "lon": [
          -117.082889,
          -117.088642
         ],
         "mode": "lines",
         "name": "moderate",
         "showlegend": false,
         "subplot": "mapbox",
         "type": "scattermapbox"
        },
        {
         "customdata": [
          [
           "ML",
           7.82,
           117,
           "5N"
          ],
          [
           "ML",
           8.524,
           117,
           "5N"
          ]
         ],
         "hovertemplate": "speed_cat=moderate<br>linegroup=%{customdata[2]}<br>latitude=%{lat}<br>longitude=%{lon}<br>stype=%{customdata[0]}<br>abs_pm=%{customdata[1]}<br>fwdir=%{customdata[3]}<extra></extra>",
         "lat": [
          32.630565,
          32.640259
         ],
         "legendgroup": "moderate",
         "line": {
          "color": "orange",
          "width": 3
         },
         "lon": [
          -117.096247,
          -117.100052
         ],
         "mode": "lines",
         "name": "moderate",
         "showlegend": false,
         "subplot": "mapbox",
         "type": "scattermapbox"
        },
        {
         "customdata": [
          [
           "ML",
           11.179,
           119,
           "5N"
          ],
          [
           "ML",
           11.847,
           119,
           "5N"
          ]
         ],
         "hovertemplate": "speed_cat=moderate<br>linegroup=%{customdata[2]}<br>latitude=%{lat}<br>longitude=%{lon}<br>stype=%{customdata[0]}<br>abs_pm=%{customdata[1]}<br>fwdir=%{customdata[3]}<extra></extra>",
         "lat": [
          32.676941,
          32.686187
         ],
         "legendgroup": "moderate",
         "line": {
          "color": "orange",
          "width": 3
         },
         "lon": [
          -117.109212,
          -117.11275
         ],
         "mode": "lines",
         "name": "moderate",
         "showlegend": false,
         "subplot": "mapbox",
         "type": "scattermapbox"
        },
        {
         "customdata": [
          [
           "ML",
           13.073,
           123,
           "5N"
          ],
          [
           "ML",
           13.371,
           123,
           "5N"
          ]
         ],
         "hovertemplate": "speed_cat=moderate<br>linegroup=%{customdata[2]}<br>latitude=%{lat}<br>longitude=%{lon}<br>stype=%{customdata[0]}<br>abs_pm=%{customdata[1]}<br>fwdir=%{customdata[3]}<extra></extra>",
         "lat": [
          32.69457,
          32.695918
         ],
         "legendgroup": "moderate",
         "line": {
          "color": "orange",
          "width": 3
         },
         "lon": [
          -117.130324,
          -117.134988
         ],
         "mode": "lines",
         "name": "moderate",
         "showlegend": false,
         "subplot": "mapbox",
         "type": "scattermapbox"
        },
        {
         "customdata": [
          [
           "ML",
           14.857,
           126,
           "5N"
          ],
          [
           "ML",
           15.231,
           126,
           "5N"
          ]
         ],
         "hovertemplate": "speed_cat=moderate<br>linegroup=%{customdata[2]}<br>latitude=%{lat}<br>longitude=%{lon}<br>stype=%{customdata[0]}<br>abs_pm=%{customdata[1]}<br>fwdir=%{customdata[3]}<extra></extra>",
         "lat": [
          32.712599,
          32.718046
         ],
         "legendgroup": "moderate",
         "line": {
          "color": "orange",
          "width": 3
         },
         "lon": [
          -117.147532,
          -117.147616
         ],
         "mode": "lines",
         "name": "moderate",
         "showlegend": false,
         "subplot": "mapbox",
         "type": "scattermapbox"
        },
        {
         "customdata": [
          [
           "ML",
           15.663,
           128,
           "5N"
          ],
          [
           "ML",
           16,
           128,
           "5N"
          ]
         ],
         "hovertemplate": "speed_cat=moderate<br>linegroup=%{customdata[2]}<br>latitude=%{lat}<br>longitude=%{lon}<br>stype=%{customdata[0]}<br>abs_pm=%{customdata[1]}<br>fwdir=%{customdata[3]}<extra></extra>",
         "lat": [
          32.723648,
          32.724117
         ],
         "legendgroup": "moderate",
         "line": {
          "color": "orange",
          "width": 3
         },
         "lon": [
          -117.150497,
          -117.156091
         ],
         "mode": "lines",
         "name": "moderate",
         "showlegend": false,
         "subplot": "mapbox",
         "type": "scattermapbox"
        },
        {
         "customdata": [
          [
           "ML",
           18.791,
           130,
           "5N"
          ],
          [
           "ML",
           19.155,
           130,
           "5N"
          ],
          [
           "ML",
           20.591,
           130,
           "5N"
          ],
          [
           "ML",
           20.758,
           130,
           "5N"
          ]
         ],
         "hovertemplate": "speed_cat=moderate<br>linegroup=%{customdata[2]}<br>latitude=%{lat}<br>longitude=%{lon}<br>stype=%{customdata[0]}<br>abs_pm=%{customdata[1]}<br>fwdir=%{customdata[3]}<extra></extra>",
         "lat": [
          32.746748,
          32.750068,
          32.768302,
          32.770668
         ],
         "legendgroup": "moderate",
         "line": {
          "color": "orange",
          "width": 3
         },
         "lon": [
          -117.191312,
          -117.196046,
          -117.206075,
          -117.206677
         ],
         "mode": "lines",
         "name": "moderate",
         "showlegend": false,
         "subplot": "mapbox",
         "type": "scattermapbox"
        },
        {
         "customdata": [
          [
           "ML",
           22.215,
           133,
           "5N"
          ],
          [
           "ML",
           22.635,
           133,
           "5N"
          ],
          [
           "ML",
           23.475,
           133,
           "5N"
          ]
         ],
         "hovertemplate": "speed_cat=moderate<br>linegroup=%{customdata[2]}<br>latitude=%{lat}<br>longitude=%{lon}<br>stype=%{customdata[0]}<br>abs_pm=%{customdata[1]}<br>fwdir=%{customdata[3]}<extra></extra>",
         "lat": [
          32.79154,
          32.797132,
          32.807939
         ],
         "legendgroup": "moderate",
         "line": {
          "color": "orange",
          "width": 3
         },
         "lon": [
          -117.20716,
          -117.209541,
          -117.216589
         ],
         "mode": "lines",
         "name": "moderate",
         "showlegend": false,
         "subplot": "mapbox",
         "type": "scattermapbox"
        },
        {
         "customdata": [
          [
           "ML",
           31.167,
           135,
           "5N"
          ],
          [
           "ML",
           31.805,
           135,
           "5N"
          ],
          [
           "ML",
           31.807,
           135,
           "5N"
          ]
         ],
         "hovertemplate": "speed_cat=moderate<br>linegroup=%{customdata[2]}<br>latitude=%{lat}<br>longitude=%{lon}<br>stype=%{customdata[0]}<br>abs_pm=%{customdata[1]}<br>fwdir=%{customdata[3]}<extra></extra>",
         "lat": [
          32.911944,
          32.918887,
          32.918909
         ],
         "legendgroup": "moderate",
         "line": {
          "color": "orange",
          "width": 3
         },
         "lon": [
          -117.228498,
          -117.235544,
          -117.235565
         ],
         "mode": "lines",
         "name": "moderate",
         "showlegend": false,
         "subplot": "mapbox",
         "type": "scattermapbox"
        },
        {
         "customdata": [
          [
           "ML",
           32.357,
           137,
           "5N"
          ],
          [
           "ML",
           32.793,
           137,
           "5N"
          ],
          [
           "ML",
           32.795,
           137,
           "5N"
          ]
         ],
         "hovertemplate": "speed_cat=moderate<br>linegroup=%{customdata[2]}<br>latitude=%{lat}<br>longitude=%{lon}<br>stype=%{customdata[0]}<br>abs_pm=%{customdata[1]}<br>fwdir=%{customdata[3]}<extra></extra>",
         "lat": [
          32.925983,
          32.932244,
          32.932271
         ],
         "legendgroup": "moderate",
         "line": {
          "color": "orange",
          "width": 3
         },
         "lon": [
          -117.23942,
          -117.241031,
          -117.241036
         ],
         "mode": "lines",
         "name": "moderate",
         "showlegend": false,
         "subplot": "mapbox",
         "type": "scattermapbox"
        },
        {
         "customdata": [
          [
           "ML",
           33.571,
           139,
           "5N"
          ],
          [
           "ML",
           34.033,
           139,
           "5N"
          ],
          [
           "ML",
           34.891,
           139,
           "5N"
          ],
          [
           "ML",
           35.375,
           139,
           "5N"
          ],
          [
           "ML",
           36.123,
           139,
           "5N"
          ]
         ],
         "hovertemplate": "speed_cat=moderate<br>linegroup=%{customdata[2]}<br>latitude=%{lat}<br>longitude=%{lon}<br>stype=%{customdata[0]}<br>abs_pm=%{customdata[1]}<br>fwdir=%{customdata[3]}<extra></extra>",
         "lat": [
          32.943477,
          32.950106,
          32.962322,
          32.969013,
          32.979357
         ],
         "legendgroup": "moderate",
         "line": {
          "color": "orange",
          "width": 3
         },
         "lon": [
          -117.242328,
          -117.243571,
          -117.246309,
          -117.248831,
          -117.252719
         ],
         "mode": "lines",
         "name": "moderate",
         "showlegend": false,
         "subplot": "mapbox",
         "type": "scattermapbox"
        },
        {
         "customdata": [
          [
           "ML",
           37.971,
           141,
           "5N"
          ],
          [
           "ML",
           39.091,
           141,
           "5N"
          ]
         ],
         "hovertemplate": "speed_cat=moderate<br>linegroup=%{customdata[2]}<br>latitude=%{lat}<br>longitude=%{lon}<br>stype=%{customdata[0]}<br>abs_pm=%{customdata[1]}<br>fwdir=%{customdata[3]}<extra></extra>",
         "lat": [
          33.00551,
          33.017612
         ],
         "legendgroup": "moderate",
         "line": {
          "color": "orange",
          "width": 3
         },
         "lon": [
          -117.25907,
          -117.27184
         ],
         "mode": "lines",
         "name": "moderate",
         "showlegend": false,
         "subplot": "mapbox",
         "type": "scattermapbox"
        },
        {
         "customdata": [
          [
           "ML",
           39.793,
           143,
           "5N"
          ],
          [
           "ML",
           40.577,
           143,
           "5N"
          ],
          [
           "ML",
           41.391,
           143,
           "5N"
          ],
          [
           "ML",
           41.922,
           143,
           "5N"
          ]
         ],
         "hovertemplate": "speed_cat=moderate<br>linegroup=%{customdata[2]}<br>latitude=%{lat}<br>longitude=%{lon}<br>stype=%{customdata[0]}<br>abs_pm=%{customdata[1]}<br>fwdir=%{customdata[3]}<extra></extra>",
         "lat": [
          33.027309,
          33.037208,
          33.048098,
          33.055577
         ],
         "legendgroup": "moderate",
         "line": {
          "color": "orange",
          "width": 3
         },
         "lon": [
          -117.275242,
          -117.281927,
          -117.286976,
          -117.289125
         ],
         "mode": "lines",
         "name": "moderate",
         "showlegend": false,
         "subplot": "mapbox",
         "type": "scattermapbox"
        },
        {
         "customdata": [
          [
           "ML",
           44.101,
           145,
           "5N"
          ],
          [
           "ML",
           44.591,
           145,
           "5N"
          ]
         ],
         "hovertemplate": "speed_cat=moderate<br>linegroup=%{customdata[2]}<br>latitude=%{lat}<br>longitude=%{lon}<br>stype=%{customdata[0]}<br>abs_pm=%{customdata[1]}<br>fwdir=%{customdata[3]}<extra></extra>",
         "lat": [
          33.086077,
          33.09232
         ],
         "legendgroup": "moderate",
         "line": {
          "color": "orange",
          "width": 3
         },
         "lon": [
          -117.299048,
          -117.303146
         ],
         "mode": "lines",
         "name": "moderate",
         "showlegend": false,
         "subplot": "mapbox",
         "type": "scattermapbox"
        },
        {
         "customdata": [
          [
           "ML",
           45.473,
           147,
           "5N"
          ],
          [
           "ML",
           46.436,
           147,
           "5N"
          ]
         ],
         "hovertemplate": "speed_cat=moderate<br>linegroup=%{customdata[2]}<br>latitude=%{lat}<br>longitude=%{lon}<br>stype=%{customdata[0]}<br>abs_pm=%{customdata[1]}<br>fwdir=%{customdata[3]}<extra></extra>",
         "lat": [
          33.103602,
          33.115949
         ],
         "legendgroup": "moderate",
         "line": {
          "color": "orange",
          "width": 3
         },
         "lon": [
          -117.310425,
          -117.31811
         ],
         "mode": "lines",
         "name": "moderate",
         "showlegend": false,
         "subplot": "mapbox",
         "type": "scattermapbox"
        },
        {
         "customdata": [
          [
           "ML",
           53.188,
           153,
           "5N"
          ],
          [
           "ML",
           53.691,
           153,
           "5N"
          ],
          [
           "ML",
           54.326,
           153,
           "5N"
          ],
          [
           "ML",
           55.341,
           153,
           "5N"
          ]
         ],
         "hovertemplate": "speed_cat=moderate<br>linegroup=%{customdata[2]}<br>latitude=%{lat}<br>longitude=%{lon}<br>stype=%{customdata[0]}<br>abs_pm=%{customdata[1]}<br>fwdir=%{customdata[3]}<extra></extra>",
         "lat": [
          33.200816,
          33.203683,
          33.211043,
          33.224874
         ],
         "legendgroup": "moderate",
         "line": {
          "color": "orange",
          "width": 3
         },
         "lon": [
          -117.373244,
          -117.381192,
          -117.38743,
          -117.393754
         ],
         "mode": "lines",
         "name": "moderate",
         "showlegend": false,
         "subplot": "mapbox",
         "type": "scattermapbox"
        },
        {
         "customdata": [
          [
           "ML",
           56.411,
           155,
           "5N"
          ],
          [
           "ML",
           57.391,
           155,
           "5N"
          ]
         ],
         "hovertemplate": "speed_cat=moderate<br>linegroup=%{customdata[2]}<br>latitude=%{lat}<br>longitude=%{lon}<br>stype=%{customdata[0]}<br>abs_pm=%{customdata[1]}<br>fwdir=%{customdata[3]}<extra></extra>",
         "lat": [
          33.236554,
          33.246111
         ],
         "legendgroup": "moderate",
         "line": {
          "color": "orange",
          "width": 3
         },
         "lon": [
          -117.40592,
          -117.417364
         ],
         "mode": "lines",
         "name": "moderate",
         "showlegend": false,
         "subplot": "mapbox",
         "type": "scattermapbox"
        },
        {
         "customdata": [
          [
           "ML",
           60.491,
           157,
           "5N"
          ],
          [
           "ML",
           62.481,
           157,
           "5N"
          ],
          [
           "ML",
           68.341,
           157,
           "5N"
          ],
          [
           "ML",
           70.931,
           157,
           "5N"
          ],
          [
           "ML",
           72.021,
           157,
           "5N"
          ]
         ],
         "hovertemplate": "speed_cat=moderate<br>linegroup=%{customdata[2]}<br>latitude=%{lat}<br>longitude=%{lon}<br>stype=%{customdata[0]}<br>abs_pm=%{customdata[1]}<br>fwdir=%{customdata[3]}<extra></extra>",
         "lat": [
          33.281567,
          33.303917,
          33.363,
          33.383518,
          33.393542
         ],
         "legendgroup": "moderate",
         "line": {
          "color": "orange",
          "width": 3
         },
         "lon": [
          -117.449193,
          -117.470642,
          -117.540497,
          -117.577735,
          -117.591561
         ],
         "mode": "lines",
         "name": "moderate",
         "showlegend": false,
         "subplot": "mapbox",
         "type": "scattermapbox"
        },
        {
         "customdata": [
          [
           "ML",
           4.578,
           159,
           "5S"
          ],
          [
           "ML",
           5.324,
           159,
           "5S"
          ]
         ],
         "hovertemplate": "speed_cat=moderate<br>linegroup=%{customdata[2]}<br>latitude=%{lat}<br>longitude=%{lon}<br>stype=%{customdata[0]}<br>abs_pm=%{customdata[1]}<br>fwdir=%{customdata[3]}<extra></extra>",
         "lat": [
          32.584271,
          32.59507
         ],
         "legendgroup": "moderate",
         "line": {
          "color": "orange",
          "width": 3
         },
         "lon": [
          -117.087551,
          -117.088901
         ],
         "mode": "lines",
         "name": "moderate",
         "showlegend": false,
         "subplot": "mapbox",
         "type": "scattermapbox"
        },
        {
         "customdata": [
          [
           "ML",
           5.324,
           161,
           "5S"
          ],
          [
           "ML",
           6.627,
           161,
           "5S"
          ],
          [
           "ML",
           7.201,
           161,
           "5S"
          ]
         ],
         "hovertemplate": "speed_cat=moderate<br>linegroup=%{customdata[2]}<br>latitude=%{lat}<br>longitude=%{lon}<br>stype=%{customdata[0]}<br>abs_pm=%{customdata[1]}<br>fwdir=%{customdata[3]}<extra></extra>",
         "lat": [
          32.59507,
          32.613849,
          32.621946
         ],
         "legendgroup": "moderate",
         "line": {
          "color": "orange",
          "width": 3
         },
         "lon": [
          -117.088901,
          -117.091173,
          -117.093171
         ],
         "mode": "lines",
         "name": "moderate",
         "showlegend": false,
         "subplot": "mapbox",
         "type": "scattermapbox"
        },
        {
         "customdata": [
          [
           "ML",
           9.898,
           163,
           "5S"
          ],
          [
           "ML",
           10.796,
           163,
           "5S"
          ]
         ],
         "hovertemplate": "speed_cat=moderate<br>linegroup=%{customdata[2]}<br>latitude=%{lat}<br>longitude=%{lon}<br>stype=%{customdata[0]}<br>abs_pm=%{customdata[1]}<br>fwdir=%{customdata[3]}<extra></extra>",
         "lat": [
          32.658893,
          32.671761
         ],
         "legendgroup": "moderate",
         "line": {
          "color": "orange",
          "width": 3
         },
         "lon": [
          -117.107675,
          -117.111234
         ],
         "mode": "lines",
         "name": "moderate",
         "showlegend": false,
         "subplot": "mapbox",
         "type": "scattermapbox"
        },
        {
         "customdata": [
          [
           "ML",
           14.416,
           168,
           "5S"
          ],
          [
           "ML",
           14.856,
           168,
           "5S"
          ]
         ],
         "hovertemplate": "speed_cat=moderate<br>linegroup=%{customdata[2]}<br>latitude=%{lat}<br>longitude=%{lon}<br>stype=%{customdata[0]}<br>abs_pm=%{customdata[1]}<br>fwdir=%{customdata[3]}<extra></extra>",
         "lat": [
          32.7062,
          32.712581
         ],
         "legendgroup": "moderate",
         "line": {
          "color": "orange",
          "width": 3
         },
         "lon": [
          -117.147722,
          -117.147751
         ],
         "mode": "lines",
         "name": "moderate",
         "showlegend": false,
         "subplot": "mapbox",
         "type": "scattermapbox"
        },
        {
         "customdata": [
          [
           "ML",
           15.698,
           170,
           "5S"
          ],
          [
           "ML",
           16.001,
           170,
           "5S"
          ]
         ],
         "hovertemplate": "speed_cat=moderate<br>linegroup=%{customdata[2]}<br>latitude=%{lat}<br>longitude=%{lon}<br>stype=%{customdata[0]}<br>abs_pm=%{customdata[1]}<br>fwdir=%{customdata[3]}<extra></extra>",
         "lat": [
          32.723795,
          32.723898
         ],
         "legendgroup": "moderate",
         "line": {
          "color": "orange",
          "width": 3
         },
         "lon": [
          -117.151061,
          -117.156068
         ],
         "mode": "lines",
         "name": "moderate",
         "showlegend": false,
         "subplot": "mapbox",
         "type": "scattermapbox"
        },
        {
         "customdata": [
          [
           "ML",
           16.666,
           172,
           "5S"
          ],
          [
           "ML",
           17.23,
           172,
           "5S"
          ]
         ],
         "hovertemplate": "speed_cat=moderate<br>linegroup=%{customdata[2]}<br>latitude=%{lat}<br>longitude=%{lon}<br>stype=%{customdata[0]}<br>abs_pm=%{customdata[1]}<br>fwdir=%{customdata[3]}<extra></extra>",
         "lat": [
          32.725281,
          32.731834
         ],
         "legendgroup": "moderate",
         "line": {
          "color": "orange",
          "width": 3
         },
         "lon": [
          -117.166084,
          -117.171905
         ],
         "mode": "lines",
         "name": "moderate",
         "showlegend": false,
         "subplot": "mapbox",
         "type": "scattermapbox"
        },
        {
         "customdata": [
          [
           "ML",
           17.232,
           174,
           "5S"
          ],
          [
           "ML",
           17.572,
           174,
           "5S"
          ]
         ],
         "hovertemplate": "speed_cat=moderate<br>linegroup=%{customdata[2]}<br>latitude=%{lat}<br>longitude=%{lon}<br>stype=%{customdata[0]}<br>abs_pm=%{customdata[1]}<br>fwdir=%{customdata[3]}<extra></extra>",
         "lat": [
          32.731858,
          32.735815
         ],
         "legendgroup": "moderate",
         "line": {
          "color": "orange",
          "width": 3
         },
         "lon": [
          -117.171925,
          -117.175452
         ],
         "mode": "lines",
         "name": "moderate",
         "showlegend": false,
         "subplot": "mapbox",
         "type": "scattermapbox"
        },
        {
         "customdata": [
          [
           "ML",
           18.05,
           176,
           "5S"
          ],
          [
           "ML",
           18.346,
           176,
           "5S"
          ]
         ],
         "hovertemplate": "speed_cat=moderate<br>linegroup=%{customdata[2]}<br>latitude=%{lat}<br>longitude=%{lon}<br>stype=%{customdata[0]}<br>abs_pm=%{customdata[1]}<br>fwdir=%{customdata[3]}<extra></extra>",
         "lat": [
          32.741281,
          32.743425
         ],
         "legendgroup": "moderate",
         "line": {
          "color": "orange",
          "width": 3
         },
         "lon": [
          -117.180454,
          -117.1848
         ],
         "mode": "lines",
         "name": "moderate",
         "showlegend": false,
         "subplot": "mapbox",
         "type": "scattermapbox"
        },
        {
         "customdata": [
          [
           "ML",
           20.611,
           178,
           "5S"
          ],
          [
           "ML",
           21.366,
           178,
           "5S"
          ],
          [
           "ML",
           21.973,
           178,
           "5S"
          ]
         ],
         "hovertemplate": "speed_cat=moderate<br>linegroup=%{customdata[2]}<br>latitude=%{lat}<br>longitude=%{lon}<br>stype=%{customdata[0]}<br>abs_pm=%{customdata[1]}<br>fwdir=%{customdata[3]}<extra></extra>",
         "lat": [
          32.768531,
          32.779286,
          32.788012
         ],
         "legendgroup": "moderate",
         "line": {
          "color": "orange",
          "width": 3
         },
         "lon": [
          -117.206423,
          -117.2086,
          -117.207155
         ],
         "mode": "lines",
         "name": "moderate",
         "showlegend": false,
         "subplot": "mapbox",
         "type": "scattermapbox"
        },
        {
         "customdata": [
          [
           "ML",
           22.85,
           180,
           "5S"
          ],
          [
           "ML",
           23.466,
           180,
           "5S"
          ]
         ],
         "hovertemplate": "speed_cat=moderate<br>linegroup=%{customdata[2]}<br>latitude=%{lat}<br>longitude=%{lon}<br>stype=%{customdata[0]}<br>abs_pm=%{customdata[1]}<br>fwdir=%{customdata[3]}<extra></extra>",
         "lat": [
          32.800051,
          32.807702
         ],
         "legendgroup": "moderate",
         "line": {
          "color": "orange",
          "width": 3
         },
         "lon": [
          -117.211487,
          -117.216754
         ],
         "mode": "lines",
         "name": "moderate",
         "showlegend": false,
         "subplot": "mapbox",
         "type": "scattermapbox"
        },
        {
         "customdata": [
          [
           "ML",
           26.621,
           182,
           "5S"
          ],
          [
           "ML",
           27.794,
           182,
           "5S"
          ],
          [
           "ML",
           28.355,
           182,
           "5S"
          ]
         ],
         "hovertemplate": "speed_cat=moderate<br>linegroup=%{customdata[2]}<br>latitude=%{lat}<br>longitude=%{lon}<br>stype=%{customdata[0]}<br>abs_pm=%{customdata[1]}<br>fwdir=%{customdata[3]}<extra></extra>",
         "lat": [
          32.848532,
          32.864527,
          32.87259
         ],
         "legendgroup": "moderate",
         "line": {
          "color": "orange",
          "width": 3
         },
         "lon": [
          -117.235725,
          -117.230028,
          -117.229295
         ],
         "mode": "lines",
         "name": "moderate",
         "showlegend": false,
         "subplot": "mapbox",
         "type": "scattermapbox"
        },
        {
         "customdata": [
          [
           "ML",
           31.136,
           184,
           "5S"
          ],
          [
           "ML",
           31.517,
           184,
           "5S"
          ]
         ],
         "hovertemplate": "speed_cat=moderate<br>linegroup=%{customdata[2]}<br>latitude=%{lat}<br>longitude=%{lon}<br>stype=%{customdata[0]}<br>abs_pm=%{customdata[1]}<br>fwdir=%{customdata[3]}<extra></extra>",
         "lat": [
          32.911761,
          32.91625
         ],
         "legendgroup": "moderate",
         "line": {
          "color": "orange",
          "width": 3
         },
         "lon": [
          -117.228812,
          -117.232541
         ],
         "mode": "lines",
         "name": "moderate",
         "showlegend": false,
         "subplot": "mapbox",
         "type": "scattermapbox"
        },
        {
         "customdata": [
          [
           "ML",
           31.773,
           186,
           "5S"
          ],
          [
           "ML",
           31.775,
           186,
           "5S"
          ],
          [
           "ML",
           32.324,
           186,
           "5S"
          ],
          [
           "ML",
           32.663,
           186,
           "5S"
          ],
          [
           "ML",
           33.539,
           186,
           "5S"
          ],
          [
           "ML",
           34.169,
           186,
           "5S"
          ]
         ],
         "hovertemplate": "speed_cat=moderate<br>linegroup=%{customdata[2]}<br>latitude=%{lat}<br>longitude=%{lon}<br>stype=%{customdata[0]}<br>abs_pm=%{customdata[1]}<br>fwdir=%{customdata[3]}<extra></extra>",
         "lat": [
          32.918796,
          32.918817,
          32.925907,
          32.930855,
          32.943442,
          32.952468
         ],
         "legendgroup": "moderate",
         "line": {
          "color": "orange",
          "width": 3
         },
         "lon": [
          -117.235719,
          -117.235742,
          -117.239661,
          -117.241058,
          -117.242594,
          -117.244298
         ],
         "mode": "lines",
         "name": "moderate",
         "showlegend": false,
         "subplot": "mapbox",
         "type": "scattermapbox"
        },
        {
         "customdata": [
          [
           "ML",
           35.108,
           188,
           "5S"
          ],
          [
           "ML",
           36.136,
           188,
           "5S"
          ]
         ],
         "hovertemplate": "speed_cat=moderate<br>linegroup=%{customdata[2]}<br>latitude=%{lat}<br>longitude=%{lon}<br>stype=%{customdata[0]}<br>abs_pm=%{customdata[1]}<br>fwdir=%{customdata[3]}<extra></extra>",
         "lat": [
          32.96573,
          32.979936
         ],
         "legendgroup": "moderate",
         "line": {
          "color": "orange",
          "width": 3
         },
         "lon": [
          -117.247857,
          -117.253246
         ],
         "mode": "lines",
         "name": "moderate",
         "showlegend": false,
         "subplot": "mapbox",
         "type": "scattermapbox"
        },
        {
         "customdata": [
          [
           "ML",
           39.059,
           190,
           "5S"
          ],
          [
           "ML",
           39.685,
           190,
           "5S"
          ]
         ],
         "hovertemplate": "speed_cat=moderate<br>linegroup=%{customdata[2]}<br>latitude=%{lat}<br>longitude=%{lon}<br>stype=%{customdata[0]}<br>abs_pm=%{customdata[1]}<br>fwdir=%{customdata[3]}<extra></extra>",
         "lat": [
          33.017512,
          33.02625
         ],
         "legendgroup": "moderate",
         "line": {
          "color": "orange",
          "width": 3
         },
         "lon": [
          -117.272059,
          -117.274915
         ],
         "mode": "lines",
         "name": "moderate",
         "showlegend": false,
         "subplot": "mapbox",
         "type": "scattermapbox"
        },
        {
         "customdata": [
          [
           "ML",
           46.955,
           194,
           "5S"
          ],
          [
           "ML",
           47.823,
           194,
           "5S"
          ]
         ],
         "hovertemplate": "speed_cat=moderate<br>linegroup=%{customdata[2]}<br>latitude=%{lat}<br>longitude=%{lon}<br>stype=%{customdata[0]}<br>abs_pm=%{customdata[1]}<br>fwdir=%{customdata[3]}<extra></extra>",
         "lat": [
          33.122973,
          33.134215
         ],
         "legendgroup": "moderate",
         "line": {
          "color": "orange",
          "width": 3
         },
         "lon": [
          -117.322702,
          -117.329382
         ],
         "mode": "lines",
         "name": "moderate",
         "showlegend": false,
         "subplot": "mapbox",
         "type": "scattermapbox"
        },
        {
         "customdata": [
          [
           "ML",
           49.108,
           196,
           "5S"
          ],
          [
           "ML",
           49.948,
           196,
           "5S"
          ],
          [
           "ML",
           50.568,
           196,
           "5S"
          ],
          [
           "ML",
           51.293,
           196,
           "5S"
          ]
         ],
         "hovertemplate": "speed_cat=moderate<br>linegroup=%{customdata[2]}<br>latitude=%{lat}<br>longitude=%{lon}<br>stype=%{customdata[0]}<br>abs_pm=%{customdata[1]}<br>fwdir=%{customdata[3]}<extra></extra>",
         "lat": [
          33.151704,
          33.162818,
          33.17092,
          33.179734
         ],
         "legendgroup": "moderate",
         "line": {
          "color": "orange",
          "width": 3
         },
         "lon": [
          -117.336331,
          -117.342266,
          -117.346811,
          -117.353651
         ],
         "mode": "lines",
         "name": "moderate",
         "showlegend": false,
         "subplot": "mapbox",
         "type": "scattermapbox"
        },
        {
         "customdata": [
          [
           "ML",
           53.158,
           198,
           "5S"
          ],
          [
           "ML",
           54.292,
           198,
           "5S"
          ],
          [
           "ML",
           54.858,
           198,
           "5S"
          ]
         ],
         "hovertemplate": "speed_cat=moderate<br>linegroup=%{customdata[2]}<br>latitude=%{lat}<br>longitude=%{lon}<br>stype=%{customdata[0]}<br>abs_pm=%{customdata[1]}<br>fwdir=%{customdata[3]}<extra></extra>",
         "lat": [
          33.200618,
          33.210909,
          33.218567
         ],
         "legendgroup": "moderate",
         "line": {
          "color": "orange",
          "width": 3
         },
         "lon": [
          -117.373434,
          -117.387715,
          -117.391109
         ],
         "mode": "lines",
         "name": "moderate",
         "showlegend": false,
         "subplot": "mapbox",
         "type": "scattermapbox"
        },
        {
         "customdata": [
          [
           "ML",
           55.858,
           200,
           "5S"
          ],
          [
           "ML",
           56.858,
           200,
           "5S"
          ]
         ],
         "hovertemplate": "speed_cat=moderate<br>linegroup=%{customdata[2]}<br>latitude=%{lat}<br>longitude=%{lon}<br>stype=%{customdata[0]}<br>abs_pm=%{customdata[1]}<br>fwdir=%{customdata[3]}<extra></extra>",
         "lat": [
          33.230196,
          33.240152
         ],
         "legendgroup": "moderate",
         "line": {
          "color": "orange",
          "width": 3
         },
         "lon": [
          -117.400904,
          -117.413376
         ],
         "mode": "lines",
         "name": "moderate",
         "showlegend": false,
         "subplot": "mapbox",
         "type": "scattermapbox"
        },
        {
         "customdata": [
          [
           "ML",
           60.429,
           202,
           "5S"
          ],
          [
           "ML",
           62.419,
           202,
           "5S"
          ],
          [
           "ML",
           65.448,
           202,
           "5S"
          ],
          [
           "ML",
           70.878,
           202,
           "5S"
          ]
         ],
         "hovertemplate": "speed_cat=moderate<br>linegroup=%{customdata[2]}<br>latitude=%{lat}<br>longitude=%{lon}<br>stype=%{customdata[0]}<br>abs_pm=%{customdata[1]}<br>fwdir=%{customdata[3]}<extra></extra>",
         "lat": [
          33.28144,
          33.303834,
          33.336526,
          33.383349
         ],
         "legendgroup": "moderate",
         "line": {
          "color": "orange",
          "width": 3
         },
         "lon": [
          -117.449446,
          -117.470867,
          -117.503236,
          -117.578043
         ],
         "mode": "lines",
         "name": "moderate",
         "showlegend": false,
         "subplot": "mapbox",
         "type": "scattermapbox"
        },
        {
         "customdata": [
          [
           "ML",
           2.326,
           204,
           "67N"
          ],
          [
           "ML",
           20.312,
           204,
           "67N"
          ]
         ],
         "hovertemplate": "speed_cat=moderate<br>linegroup=%{customdata[2]}<br>latitude=%{lat}<br>longitude=%{lon}<br>stype=%{customdata[0]}<br>abs_pm=%{customdata[1]}<br>fwdir=%{customdata[3]}<extra></extra>",
         "lat": [
          32.836541,
          33.00898
         ],
         "legendgroup": "moderate",
         "line": {
          "color": "orange",
          "width": 3
         },
         "lon": [
          -116.961871,
          -116.914995
         ],
         "mode": "lines",
         "name": "moderate",
         "showlegend": false,
         "subplot": "mapbox",
         "type": "scattermapbox"
        },
        {
         "customdata": [
          [
           "ML",
           2.325,
           206,
           "67S"
          ],
          [
           "ML",
           18.612,
           206,
           "67S"
          ]
         ],
         "hovertemplate": "speed_cat=moderate<br>linegroup=%{customdata[2]}<br>latitude=%{lat}<br>longitude=%{lon}<br>stype=%{customdata[0]}<br>abs_pm=%{customdata[1]}<br>fwdir=%{customdata[3]}<extra></extra>",
         "lat": [
          32.836578,
          33.010814
         ],
         "legendgroup": "moderate",
         "line": {
          "color": "orange",
          "width": 3
         },
         "lon": [
          -116.962176,
          -116.942976
         ],
         "mode": "lines",
         "name": "moderate",
         "showlegend": false,
         "subplot": "mapbox",
         "type": "scattermapbox"
        },
        {
         "customdata": [
          [
           "ML",
           9.183,
           207,
           "76E"
          ],
          [
           "ML",
           10.325,
           207,
           "76E"
          ],
          [
           "ML",
           12.15,
           207,
           "76E"
          ],
          [
           "ML",
           13.336,
           207,
           "76E"
          ]
         ],
         "hovertemplate": "speed_cat=moderate<br>linegroup=%{customdata[2]}<br>latitude=%{lat}<br>longitude=%{lon}<br>stype=%{customdata[0]}<br>abs_pm=%{customdata[1]}<br>fwdir=%{customdata[3]}<extra></extra>",
         "lat": [
          33.254688,
          33.269193,
          33.290768,
          33.303867
         ],
         "legendgroup": "moderate",
         "line": {
          "color": "orange",
          "width": 3
         },
         "lon": [
          -117.241762,
          -117.236237,
          -117.225515,
          -117.213732
         ],
         "mode": "lines",
         "name": "moderate",
         "showlegend": false,
         "subplot": "mapbox",
         "type": "scattermapbox"
        },
        {
         "customdata": [
          [
           "ML",
           13.337,
           209,
           "76E"
          ]
         ],
         "hovertemplate": "speed_cat=moderate<br>linegroup=%{customdata[2]}<br>latitude=%{lat}<br>longitude=%{lon}<br>stype=%{customdata[0]}<br>abs_pm=%{customdata[1]}<br>fwdir=%{customdata[3]}<extra></extra>",
         "lat": [
          33.303877
         ],
         "legendgroup": "moderate",
         "line": {
          "color": "orange",
          "width": 3
         },
         "lon": [
          -117.21372
         ],
         "mode": "lines",
         "name": "moderate",
         "showlegend": false,
         "subplot": "mapbox",
         "type": "scattermapbox"
        },
        {
         "customdata": [
          [
           "ML",
           10.275,
           211,
           "76W"
          ],
          [
           "ML",
           12.151,
           211,
           "76W"
          ]
         ],
         "hovertemplate": "speed_cat=moderate<br>linegroup=%{customdata[2]}<br>latitude=%{lat}<br>longitude=%{lon}<br>stype=%{customdata[0]}<br>abs_pm=%{customdata[1]}<br>fwdir=%{customdata[3]}<extra></extra>",
         "lat": [
          33.268486,
          33.290782
         ],
         "legendgroup": "moderate",
         "line": {
          "color": "orange",
          "width": 3
         },
         "lon": [
          -117.236368,
          -117.225513
         ],
         "mode": "lines",
         "name": "moderate",
         "showlegend": false,
         "subplot": "mapbox",
         "type": "scattermapbox"
        },
        {
         "customdata": [
          [
           "ML",
           17.411,
           214,
           "76W"
          ]
         ],
         "hovertemplate": "speed_cat=moderate<br>linegroup=%{customdata[2]}<br>latitude=%{lat}<br>longitude=%{lon}<br>stype=%{customdata[0]}<br>abs_pm=%{customdata[1]}<br>fwdir=%{customdata[3]}<extra></extra>",
         "lat": [
          33.332408
         ],
         "legendgroup": "moderate",
         "line": {
          "color": "orange",
          "width": 3
         },
         "lon": [
          -117.157839
         ],
         "mode": "lines",
         "name": "moderate",
         "showlegend": false,
         "subplot": "mapbox",
         "type": "scattermapbox"
        },
        {
         "customdata": [
          [
           "ML",
           0.411,
           215,
           "78E"
          ],
          [
           "ML",
           0.854,
           215,
           "78E"
          ],
          [
           "ML",
           1.59,
           215,
           "78E"
          ],
          [
           "ML",
           3.219,
           215,
           "78E"
          ]
         ],
         "hovertemplate": "speed_cat=moderate<br>linegroup=%{customdata[2]}<br>latitude=%{lat}<br>longitude=%{lon}<br>stype=%{customdata[0]}<br>abs_pm=%{customdata[1]}<br>fwdir=%{customdata[3]}<extra></extra>",
         "lat": [
          33.180264,
          33.181054,
          33.181952,
          33.182878
         ],
         "legendgroup": "moderate",
         "line": {
          "color": "orange",
          "width": 3
         },
         "lon": [
          -117.345296,
          -117.33787,
          -117.325285,
          -117.298269
         ],
         "mode": "lines",
         "name": "moderate",
         "showlegend": false,
         "subplot": "mapbox",
         "type": "scattermapbox"
        },
        {
         "customdata": [
          [
           "ML",
           3.582,
           217,
           "78E"
          ],
          [
           "ML",
           4.47,
           217,
           "78E"
          ]
         ],
         "hovertemplate": "speed_cat=moderate<br>linegroup=%{customdata[2]}<br>latitude=%{lat}<br>longitude=%{lon}<br>stype=%{customdata[0]}<br>abs_pm=%{customdata[1]}<br>fwdir=%{customdata[3]}<extra></extra>",
         "lat": [
          33.183323,
          33.1885
         ],
         "legendgroup": "moderate",
         "line": {
          "color": "orange",
          "width": 3
         },
         "lon": [
          -117.292024,
          -117.278185
         ],
         "mode": "lines",
         "name": "moderate",
         "showlegend": false,
         "subplot": "mapbox",
         "type": "scattermapbox"
        },
        {
         "customdata": [
          [
           "ML",
           6.316,
           219,
           "78E"
          ],
          [
           "ML",
           6.882,
           219,
           "78E"
          ]
         ],
         "hovertemplate": "speed_cat=moderate<br>linegroup=%{customdata[2]}<br>latitude=%{lat}<br>longitude=%{lon}<br>stype=%{customdata[0]}<br>abs_pm=%{customdata[1]}<br>fwdir=%{customdata[3]}<extra></extra>",
         "lat": [
          33.194181,
          33.18952
         ],
         "legendgroup": "moderate",
         "line": {
          "color": "orange",
          "width": 3
         },
         "lon": [
          -117.248185,
          -117.24026
         ],
         "mode": "lines",
         "name": "moderate",
         "showlegend": false,
         "subplot": "mapbox",
         "type": "scattermapbox"
        },
        {
         "customdata": [
          [
           "ML",
           16.263,
           223,
           "78E"
          ]
         ],
         "hovertemplate": "speed_cat=moderate<br>linegroup=%{customdata[2]}<br>latitude=%{lat}<br>longitude=%{lon}<br>stype=%{customdata[0]}<br>abs_pm=%{customdata[1]}<br>fwdir=%{customdata[3]}<extra></extra>",
         "lat": [
          33.126865
         ],
         "legendgroup": "moderate",
         "line": {
          "color": "orange",
          "width": 3
         },
         "lon": [
          -117.109376
         ],
         "mode": "lines",
         "name": "moderate",
         "showlegend": false,
         "subplot": "mapbox",
         "type": "scattermapbox"
        },
        {
         "customdata": [
          [
           "ML",
           0.412,
           224,
           "78W"
          ],
          [
           "ML",
           0.649,
           224,
           "78W"
          ],
          [
           "ML",
           1.383,
           224,
           "78W"
          ],
          [
           "ML",
           3.241,
           224,
           "78W"
          ],
          [
           "ML",
           3.326,
           224,
           "78W"
          ],
          [
           "ML",
           3.584,
           224,
           "78W"
          ],
          [
           "ML",
           4.281,
           224,
           "78W"
          ],
          [
           "ML",
           4.472,
           224,
           "78W"
          ]
         ],
         "hovertemplate": "speed_cat=moderate<br>linegroup=%{customdata[2]}<br>latitude=%{lat}<br>longitude=%{lon}<br>stype=%{customdata[0]}<br>abs_pm=%{customdata[1]}<br>fwdir=%{customdata[3]}<extra></extra>",
         "lat": [
          33.180446,
          33.181145,
          33.181397,
          33.183081,
          33.183222,
          33.183485,
          33.187261,
          33.188661
         ],
         "legendgroup": "moderate",
         "line": {
          "color": "orange",
          "width": 3
         },
         "lon": [
          -117.345347,
          -117.341401,
          -117.328764,
          -117.297902,
          -117.296449,
          -117.29202,
          -117.281077,
          -117.278229
         ],
         "mode": "lines",
         "name": "moderate",
         "showlegend": false,
         "subplot": "mapbox",
         "type": "scattermapbox"
        },
        {
         "customdata": [
          [
           "ML",
           5.797,
           226,
           "78W"
          ],
          [
           "ML",
           6.137,
           226,
           "78W"
          ],
          [
           "ML",
           6.851,
           226,
           "78W"
          ]
         ],
         "hovertemplate": "speed_cat=moderate<br>linegroup=%{customdata[2]}<br>latitude=%{lat}<br>longitude=%{lon}<br>stype=%{customdata[0]}<br>abs_pm=%{customdata[1]}<br>fwdir=%{customdata[3]}<extra></extra>",
         "lat": [
          33.194328,
          33.194991,
          33.18994
         ],
         "legendgroup": "moderate",
         "line": {
          "color": "orange",
          "width": 3
         },
         "lon": [
          -117.256869,
          -117.251058,
          -117.240564
         ],
         "mode": "lines",
         "name": "moderate",
         "showlegend": false,
         "subplot": "mapbox",
         "type": "scattermapbox"
        },
        {
         "customdata": [
          [
           "ML",
           7.759,
           228,
           "78W"
          ],
          [
           "ML",
           8.969,
           228,
           "78W"
          ],
          [
           "ML",
           10.435,
           228,
           "78W"
          ],
          [
           "ML",
           11.095,
           228,
           "78W"
          ],
          [
           "ML",
           12.031,
           228,
           "78W"
          ],
          [
           "ML",
           12.267,
           228,
           "78W"
          ],
          [
           "ML",
           12.875,
           228,
           "78W"
          ],
          [
           "ML",
           14.136,
           228,
           "78W"
          ],
          [
           "ML",
           14.858,
           228,
           "78W"
          ]
         ],
         "hovertemplate": "speed_cat=moderate<br>linegroup=%{customdata[2]}<br>latitude=%{lat}<br>longitude=%{lon}<br>stype=%{customdata[0]}<br>abs_pm=%{customdata[1]}<br>fwdir=%{customdata[3]}<extra></extra>",
         "lat": [
          33.180588,
          33.168329,
          33.151914,
          33.145055,
          33.138585,
          33.137287,
          33.137204,
          33.139232,
          33.135241
         ],
         "legendgroup": "moderate",
         "line": {
          "color": "orange",
          "width": 3
         },
         "lon": [
          -117.229853,
          -117.216099,
          -117.200195,
          -117.192178,
          -117.178083,
          -117.174332,
          -117.164146,
          -117.142802,
          -117.13142
         ],
         "mode": "lines",
         "name": "moderate",
         "showlegend": false,
         "subplot": "mapbox",
         "type": "scattermapbox"
        },
        {
         "customdata": [
          [
           "ML",
           17.279,
           230,
           "78W"
          ],
          [
           "ML",
           17.617,
           230,
           "78W"
          ]
         ],
         "hovertemplate": "speed_cat=moderate<br>linegroup=%{customdata[2]}<br>latitude=%{lat}<br>longitude=%{lon}<br>stype=%{customdata[0]}<br>abs_pm=%{customdata[1]}<br>fwdir=%{customdata[3]}<extra></extra>",
         "lat": [
          33.130825,
          33.132541
         ],
         "legendgroup": "moderate",
         "line": {
          "color": "orange",
          "width": 3
         },
         "lon": [
          -117.092776,
          -117.087404
         ],
         "mode": "lines",
         "name": "moderate",
         "showlegend": false,
         "subplot": "mapbox",
         "type": "scattermapbox"
        },
        {
         "customdata": [
          [
           "ML",
           0.965,
           233,
           "805N"
          ],
          [
           "ML",
           1.968,
           233,
           "805N"
          ]
         ],
         "hovertemplate": "speed_cat=moderate<br>linegroup=%{customdata[2]}<br>latitude=%{lat}<br>longitude=%{lon}<br>stype=%{customdata[0]}<br>abs_pm=%{customdata[1]}<br>fwdir=%{customdata[3]}<extra></extra>",
         "lat": [
          32.558315,
          32.572621
         ],
         "legendgroup": "moderate",
         "line": {
          "color": "orange",
          "width": 3
         },
         "lon": [
          -117.042254,
          -117.039445
         ],
         "mode": "lines",
         "name": "moderate",
         "showlegend": false,
         "subplot": "mapbox",
         "type": "scattermapbox"
        },
        {
         "customdata": [
          [
           "ML",
           2.771,
           236,
           "805N"
          ],
          [
           "ML",
           3.702,
           236,
           "805N"
          ]
         ],
         "hovertemplate": "speed_cat=moderate<br>linegroup=%{customdata[2]}<br>latitude=%{lat}<br>longitude=%{lon}<br>stype=%{customdata[0]}<br>abs_pm=%{customdata[1]}<br>fwdir=%{customdata[3]}<extra></extra>",
         "lat": [
          32.584089,
          32.597548
         ],
         "legendgroup": "moderate",
         "line": {
          "color": "orange",
          "width": 3
         },
         "lon": [
          -117.036837,
          -117.036123
         ],
         "mode": "lines",
         "name": "moderate",
         "showlegend": false,
         "subplot": "mapbox",
         "type": "scattermapbox"
        },
        {
         "customdata": [
          [
           "ML",
           10.211,
           241,
           "805N"
          ],
          [
           "ML",
           10.942,
           241,
           "805N"
          ]
         ],
         "hovertemplate": "speed_cat=moderate<br>linegroup=%{customdata[2]}<br>latitude=%{lat}<br>longitude=%{lon}<br>stype=%{customdata[0]}<br>abs_pm=%{customdata[1]}<br>fwdir=%{customdata[3]}<extra></extra>",
         "lat": [
          32.67811,
          32.686782
         ],
         "legendgroup": "moderate",
         "line": {
          "color": "orange",
          "width": 3
         },
         "lon": [
          -117.084893,
          -117.091828
         ],
         "mode": "lines",
         "name": "moderate",
         "showlegend": false,
         "subplot": "mapbox",
         "type": "scattermapbox"
        },
        {
         "customdata": [
          [
           "ML",
           14.701,
           243,
           "805N"
          ],
          [
           "ML",
           15.171,
           243,
           "805N"
          ]
         ],
         "hovertemplate": "speed_cat=moderate<br>linegroup=%{customdata[2]}<br>latitude=%{lat}<br>longitude=%{lon}<br>stype=%{customdata[0]}<br>abs_pm=%{customdata[1]}<br>fwdir=%{customdata[3]}<extra></extra>",
         "lat": [
          32.734846,
          32.741165
         ],
         "legendgroup": "moderate",
         "line": {
          "color": "orange",
          "width": 3
         },
         "lon": [
          -117.113294,
          -117.116261
         ],
         "mode": "lines",
         "name": "moderate",
         "showlegend": false,
         "subplot": "mapbox",
         "type": "scattermapbox"
        },
        {
         "customdata": [
          [
           "ML",
           15.791,
           245,
           "805N"
          ],
          [
           "ML",
           15.931,
           245,
           "805N"
          ],
          [
           "ML",
           16.677,
           245,
           "805N"
          ]
         ],
         "hovertemplate": "speed_cat=moderate<br>linegroup=%{customdata[2]}<br>latitude=%{lat}<br>longitude=%{lon}<br>stype=%{customdata[0]}<br>abs_pm=%{customdata[1]}<br>fwdir=%{customdata[3]}<extra></extra>",
         "lat": [
          32.74856,
          32.750436,
          32.760845
         ],
         "legendgroup": "moderate",
         "line": {
          "color": "orange",
          "width": 3
         },
         "lon": [
          -117.12225,
          -117.123137,
          -117.12661
         ],
         "mode": "lines",
         "name": "moderate",
         "showlegend": false,
         "subplot": "mapbox",
         "type": "scattermapbox"
        },
        {
         "customdata": [
          [
           "ML",
           18.241,
           247,
           "805N"
          ],
          [
           "ML",
           18.343,
           247,
           "805N"
          ],
          [
           "ML",
           18.851,
           247,
           "805N"
          ],
          [
           "ML",
           19.394,
           247,
           "805N"
          ],
          [
           "ML",
           19.817,
           247,
           "805N"
          ],
          [
           "ML",
           20.141,
           247,
           "805N"
          ],
          [
           "ML",
           20.697,
           247,
           "805N"
          ],
          [
           "ML",
           21.199,
           247,
           "805N"
          ]
         ],
         "hovertemplate": "speed_cat=moderate<br>linegroup=%{customdata[2]}<br>latitude=%{lat}<br>longitude=%{lon}<br>stype=%{customdata[0]}<br>abs_pm=%{customdata[1]}<br>fwdir=%{customdata[3]}<extra></extra>",
         "lat": [
          32.781007,
          32.782075,
          32.786732,
          32.793965,
          32.800085,
          32.804673,
          32.811675,
          32.817749
         ],
         "legendgroup": "moderate",
         "line": {
          "color": "orange",
          "width": 3
         },
         "lon": [
          -117.138625,
          -117.139838,
          -117.14654,
          -117.149604,
          -117.149586,
          -117.150822,
          -117.155267,
          -117.159929
         ],
         "mode": "lines",
         "name": "moderate",
         "showlegend": false,
         "subplot": "mapbox",
         "type": "scattermapbox"
        },
        {
         "customdata": [
          [
           "ML",
           21.323,
           249,
           "805N"
          ],
          [
           "ML",
           22.309,
           249,
           "805N"
          ],
          [
           "ML",
           23.111,
           249,
           "805N"
          ]
         ],
         "hovertemplate": "speed_cat=moderate<br>linegroup=%{customdata[2]}<br>latitude=%{lat}<br>longitude=%{lon}<br>stype=%{customdata[0]}<br>abs_pm=%{customdata[1]}<br>fwdir=%{customdata[3]}<extra></extra>",
         "lat": [
          32.819359,
          32.832144,
          32.842493
         ],
         "legendgroup": "moderate",
         "line": {
          "color": "orange",
          "width": 3
         },
         "lon": [
          -117.160872,
          -117.168507,
          -117.174848
         ],
         "mode": "lines",
         "name": "moderate",
         "showlegend": false,
         "subplot": "mapbox",
         "type": "scattermapbox"
        },
        {
         "customdata": [
          [
           "ML",
           23.501,
           251,
           "805N"
          ],
          [
           "ML",
           24.385,
           251,
           "805N"
          ],
          [
           "ML",
           25.101,
           251,
           "805N"
          ],
          [
           "ML",
           25.875,
           251,
           "805N"
          ],
          [
           "ML",
           26.25,
           251,
           "805N"
          ],
          [
           "ML",
           27.012,
           251,
           "805N"
          ]
         ],
         "hovertemplate": "speed_cat=moderate<br>linegroup=%{customdata[2]}<br>latitude=%{lat}<br>longitude=%{lon}<br>stype=%{customdata[0]}<br>abs_pm=%{customdata[1]}<br>fwdir=%{customdata[3]}<extra></extra>",
         "lat": [
          32.847538,
          32.858916,
          32.867237,
          32.876463,
          32.881721,
          32.891358
         ],
         "legendgroup": "moderate",
         "line": {
          "color": "orange",
          "width": 3
         },
         "lon": [
          -117.177909,
          -117.184886,
          -117.192319,
          -117.199708,
          -117.201326,
          -117.207213
         ],
         "mode": "lines",
         "name": "moderate",
         "showlegend": false,
         "subplot": "mapbox",
         "type": "scattermapbox"
        },
        {
         "customdata": [
          [
           "ML",
           0.964,
           253,
           "805S"
          ],
          [
           "ML",
           1.967,
           253,
           "805S"
          ],
          [
           "ML",
           2.353,
           253,
           "805S"
          ],
          [
           "ML",
           2.772,
           253,
           "805S"
          ],
          [
           "ML",
           3.631,
           253,
           "805S"
          ]
         ],
         "hovertemplate": "speed_cat=moderate<br>linegroup=%{customdata[2]}<br>latitude=%{lat}<br>longitude=%{lon}<br>stype=%{customdata[0]}<br>abs_pm=%{customdata[1]}<br>fwdir=%{customdata[3]}<extra></extra>",
         "lat": [
          32.558345,
          32.572631,
          32.578123,
          32.584087,
          32.59651
         ],
         "legendgroup": "moderate",
         "line": {
          "color": "orange",
          "width": 3
         },
         "lon": [
          -117.042588,
          -117.039744,
          -117.038471,
          -117.037094,
          -117.036458
         ],
         "mode": "lines",
         "name": "moderate",
         "showlegend": false,
         "subplot": "mapbox",
         "type": "scattermapbox"
        },
        {
         "customdata": [
          [
           "ML",
           8.831,
           259,
           "805S"
          ],
          [
           "ML",
           8.861,
           259,
           "805S"
          ],
          [
           "ML",
           9.09,
           259,
           "805S"
          ]
         ],
         "hovertemplate": "speed_cat=moderate<br>linegroup=%{customdata[2]}<br>latitude=%{lat}<br>longitude=%{lon}<br>stype=%{customdata[0]}<br>abs_pm=%{customdata[1]}<br>fwdir=%{customdata[3]}<extra></extra>",
         "lat": [
          32.659734,
          32.660084,
          32.662772
         ],
         "legendgroup": "moderate",
         "line": {
          "color": "orange",
          "width": 3
         },
         "lon": [
          -117.075966,
          -117.076276,
          -117.078579
         ],
         "mode": "lines",
         "name": "moderate",
         "showlegend": false,
         "subplot": "mapbox",
         "type": "scattermapbox"
        },
        {
         "customdata": [
          [
           "ML",
           9.826,
           261,
           "805S"
          ],
          [
           "ML",
           10.212,
           261,
           "805S"
          ]
         ],
         "hovertemplate": "speed_cat=moderate<br>linegroup=%{customdata[2]}<br>latitude=%{lat}<br>longitude=%{lon}<br>stype=%{customdata[0]}<br>abs_pm=%{customdata[1]}<br>fwdir=%{customdata[3]}<extra></extra>",
         "lat": [
          32.67285,
          32.678037
         ],
         "legendgroup": "moderate",
         "line": {
          "color": "orange",
          "width": 3
         },
         "lon": [
          -117.0827,
          -117.085196
         ],
         "mode": "lines",
         "name": "moderate",
         "showlegend": false,
         "subplot": "mapbox",
         "type": "scattermapbox"
        },
        {
         "customdata": [
          [
           "ML",
           11.294,
           263,
           "805S"
          ],
          [
           "ML",
           12.198,
           263,
           "805S"
          ]
         ],
         "hovertemplate": "speed_cat=moderate<br>linegroup=%{customdata[2]}<br>latitude=%{lat}<br>longitude=%{lon}<br>stype=%{customdata[0]}<br>abs_pm=%{customdata[1]}<br>fwdir=%{customdata[3]}<extra></extra>",
         "lat": [
          32.69111,
          32.704152
         ],
         "legendgroup": "moderate",
         "line": {
          "color": "orange",
          "width": 3
         },
         "lon": [
          -117.094893,
          -117.095206
         ],
         "mode": "lines",
         "name": "moderate",
         "showlegend": false,
         "subplot": "mapbox",
         "type": "scattermapbox"
        },
        {
         "customdata": [
          [
           "ML",
           15.793,
           265,
           "805S"
          ],
          [
           "ML",
           16.352,
           265,
           "805S"
          ]
         ],
         "hovertemplate": "speed_cat=moderate<br>linegroup=%{customdata[2]}<br>latitude=%{lat}<br>longitude=%{lon}<br>stype=%{customdata[0]}<br>abs_pm=%{customdata[1]}<br>fwdir=%{customdata[3]}<extra></extra>",
         "lat": [
          32.748425,
          32.756165
         ],
         "legendgroup": "moderate",
         "line": {
          "color": "orange",
          "width": 3
         },
         "lon": [
          -117.12253,
          -117.12539
         ],
         "mode": "lines",
         "name": "moderate",
         "showlegend": false,
         "subplot": "mapbox",
         "type": "scattermapbox"
        },
        {
         "customdata": [
          [
           "ML",
           18.342,
           267,
           "805S"
          ],
          [
           "ML",
           18.852,
           267,
           "805S"
          ],
          [
           "ML",
           19.393,
           267,
           "805S"
          ],
          [
           "ML",
           20.006,
           267,
           "805S"
          ]
         ],
         "hovertemplate": "speed_cat=moderate<br>linegroup=%{customdata[2]}<br>latitude=%{lat}<br>longitude=%{lon}<br>stype=%{customdata[0]}<br>abs_pm=%{customdata[1]}<br>fwdir=%{customdata[3]}<extra></extra>",
         "lat": [
          32.78192,
          32.786586,
          32.793814,
          32.80262
         ],
         "legendgroup": "moderate",
         "line": {
          "color": "orange",
          "width": 3
         },
         "lon": [
          -117.140068,
          -117.146806,
          -117.149876,
          -117.150601
         ],
         "mode": "lines",
         "name": "moderate",
         "showlegend": false,
         "subplot": "mapbox",
         "type": "scattermapbox"
        },
        {
         "customdata": [
          [
           "ML",
           20.431,
           269,
           "805S"
          ],
          [
           "ML",
           20.696,
           269,
           "805S"
          ]
         ],
         "hovertemplate": "speed_cat=moderate<br>linegroup=%{customdata[2]}<br>latitude=%{lat}<br>longitude=%{lon}<br>stype=%{customdata[0]}<br>abs_pm=%{customdata[1]}<br>fwdir=%{customdata[3]}<extra></extra>",
         "lat": [
          32.808467,
          32.811513
         ],
         "legendgroup": "moderate",
         "line": {
          "color": "orange",
          "width": 3
         },
         "lon": [
          -117.152775,
          -117.155527
         ],
         "mode": "lines",
         "name": "moderate",
         "showlegend": false,
         "subplot": "mapbox",
         "type": "scattermapbox"
        },
        {
         "customdata": [
          [
           "ML",
           21.198,
           271,
           "805S"
          ],
          [
           "ML",
           21.322,
           271,
           "805S"
          ]
         ],
         "hovertemplate": "speed_cat=moderate<br>linegroup=%{customdata[2]}<br>latitude=%{lat}<br>longitude=%{lon}<br>stype=%{customdata[0]}<br>abs_pm=%{customdata[1]}<br>fwdir=%{customdata[3]}<extra></extra>",
         "lat": [
          32.817619,
          32.819236
         ],
         "legendgroup": "moderate",
         "line": {
          "color": "orange",
          "width": 3
         },
         "lon": [
          -117.160167,
          -117.161117
         ],
         "mode": "lines",
         "name": "moderate",
         "showlegend": false,
         "subplot": "mapbox",
         "type": "scattermapbox"
        },
        {
         "customdata": [
          [
           "ML",
           2.223,
           275,
           "8E"
          ],
          [
           "ML",
           2.278,
           275,
           "8E"
          ],
          [
           "ML",
           2.884,
           275,
           "8E"
          ]
         ],
         "hovertemplate": "speed_cat=moderate<br>linegroup=%{customdata[2]}<br>latitude=%{lat}<br>longitude=%{lon}<br>stype=%{customdata[0]}<br>abs_pm=%{customdata[1]}<br>fwdir=%{customdata[3]}<extra></extra>",
         "lat": [
          32.75974,
          32.759905,
          32.759721
         ],
         "legendgroup": "moderate",
         "line": {
          "color": "orange",
          "width": 3
         },
         "lon": [
          -117.199699,
          -117.198791,
          -117.188602
         ],
         "mode": "lines",
         "name": "moderate",
         "showlegend": false,
         "subplot": "mapbox",
         "type": "scattermapbox"
        },
        {
         "customdata": [
          [
           "ML",
           3.409,
           277,
           "8E"
          ],
          [
           "ML",
           3.92,
           277,
           "8E"
          ],
          [
           "ML",
           3.962,
           277,
           "8E"
          ]
         ],
         "hovertemplate": "speed_cat=moderate<br>linegroup=%{customdata[2]}<br>latitude=%{lat}<br>longitude=%{lon}<br>stype=%{customdata[0]}<br>abs_pm=%{customdata[1]}<br>fwdir=%{customdata[3]}<extra></extra>",
         "lat": [
          32.759211,
          32.760171,
          32.760328
         ],
         "legendgroup": "moderate",
         "line": {
          "color": "orange",
          "width": 3
         },
         "lon": [
          -117.179602,
          -117.170959,
          -117.170261
         ],
         "mode": "lines",
         "name": "moderate",
         "showlegend": false,
         "subplot": "mapbox",
         "type": "scattermapbox"
        },
        {
         "customdata": [
          [
           "ML",
           5.536,
           279,
           "8E"
          ],
          [
           "ML",
           5.975,
           279,
           "8E"
          ]
         ],
         "hovertemplate": "speed_cat=moderate<br>linegroup=%{customdata[2]}<br>latitude=%{lat}<br>longitude=%{lon}<br>stype=%{customdata[0]}<br>abs_pm=%{customdata[1]}<br>fwdir=%{customdata[3]}<extra></extra>",
         "lat": [
          32.767848,
          32.770269
         ],
         "legendgroup": "moderate",
         "line": {
          "color": "orange",
          "width": 3
         },
         "lon": [
          -117.1448,
          -117.137788
         ],
         "mode": "lines",
         "name": "moderate",
         "showlegend": false,
         "subplot": "mapbox",
         "type": "scattermapbox"
        },
        {
         "customdata": [
          [
           "ML",
           6.568,
           281,
           "8E"
          ],
          [
           "ML",
           6.838,
           281,
           "8E"
          ],
          [
           "ML",
           7.759,
           281,
           "8E"
          ],
          [
           "ML",
           8.215,
           281,
           "8E"
          ],
          [
           "ML",
           8.615,
           281,
           "8E"
          ]
         ],
         "hovertemplate": "speed_cat=moderate<br>linegroup=%{customdata[2]}<br>latitude=%{lat}<br>longitude=%{lon}<br>stype=%{customdata[0]}<br>abs_pm=%{customdata[1]}<br>fwdir=%{customdata[3]}<extra></extra>",
         "lat": [
          32.772891,
          32.774983,
          32.778557,
          32.778944,
          32.780008
         ],
         "legendgroup": "moderate",
         "line": {
          "color": "orange",
          "width": 3
         },
         "lon": [
          -117.128096,
          -117.124175,
          -117.109532,
          -117.101735,
          -117.094988
         ],
         "mode": "lines",
         "name": "moderate",
         "showlegend": false,
         "subplot": "mapbox",
         "type": "scattermapbox"
        },
        {
         "customdata": [
          [
           "ML",
           10.908,
           284,
           "8E"
          ],
          [
           "ML",
           12.464,
           284,
           "8E"
          ],
          [
           "ML",
           13.357,
           284,
           "8E"
          ],
          [
           "ML",
           13.559,
           284,
           "8E"
          ],
          [
           "ML",
           13.758,
           284,
           "8E"
          ]
         ],
         "hovertemplate": "speed_cat=moderate<br>linegroup=%{customdata[2]}<br>latitude=%{lat}<br>longitude=%{lon}<br>stype=%{customdata[0]}<br>abs_pm=%{customdata[1]}<br>fwdir=%{customdata[3]}<extra></extra>",
         "lat": [
          32.777453,
          32.773562,
          32.772582,
          32.773859,
          32.774956
         ],
         "legendgroup": "moderate",
         "line": {
          "color": "orange",
          "width": 3
         },
         "lon": [
          -117.056127,
          -117.031003,
          -117.016817,
          -117.013732,
          -117.010577
         ],
         "mode": "lines",
         "name": "moderate",
         "showlegend": false,
         "subplot": "mapbox",
         "type": "scattermapbox"
        },
        {
         "customdata": [
          [
           "ML",
           15.413,
           286,
           "8E"
          ],
          [
           "ML",
           16.485,
           286,
           "8E"
          ],
          [
           "ML",
           17.133,
           286,
           "8E"
          ],
          [
           "ML",
           18.045,
           286,
           "8E"
          ]
         ],
         "hovertemplate": "speed_cat=moderate<br>linegroup=%{customdata[2]}<br>latitude=%{lat}<br>longitude=%{lon}<br>stype=%{customdata[0]}<br>abs_pm=%{customdata[1]}<br>fwdir=%{customdata[3]}<extra></extra>",
         "lat": [
          32.779621,
          32.79398,
          32.801971,
          32.802954
         ],
         "legendgroup": "moderate",
         "line": {
          "color": "orange",
          "width": 3
         },
         "lon": [
          -116.983478,
          -116.977186,
          -116.972858,
          -116.957448
         ],
         "mode": "lines",
         "name": "moderate",
         "showlegend": false,
         "subplot": "mapbox",
         "type": "scattermapbox"
        },
        {
         "customdata": [
          [
           "ML",
           3.965,
           289,
           "8W"
          ],
          [
           "ML",
           4.819,
           289,
           "8W"
          ],
          [
           "ML",
           5.017,
           289,
           "8W"
          ]
         ],
         "hovertemplate": "speed_cat=moderate<br>linegroup=%{customdata[2]}<br>latitude=%{lat}<br>longitude=%{lon}<br>stype=%{customdata[0]}<br>abs_pm=%{customdata[1]}<br>fwdir=%{customdata[3]}<extra></extra>",
         "lat": [
          32.760506,
          32.764805,
          32.765611
         ],
         "legendgroup": "moderate",
         "line": {
          "color": "orange",
          "width": 3
         },
         "lon": [
          -117.170254,
          -117.156607,
          -117.153352
         ],
         "mode": "lines",
         "name": "moderate",
         "showlegend": false,
         "subplot": "mapbox",
         "type": "scattermapbox"
        },
        {
         "customdata": [
          [
           "ML",
           5.526,
           291,
           "8W"
          ],
          [
           "ML",
           5.977,
           291,
           "8W"
          ]
         ],
         "hovertemplate": "speed_cat=moderate<br>linegroup=%{customdata[2]}<br>latitude=%{lat}<br>longitude=%{lon}<br>stype=%{customdata[0]}<br>abs_pm=%{customdata[1]}<br>fwdir=%{customdata[3]}<extra></extra>",
         "lat": [
          32.768025,
          32.77049
         ],
         "legendgroup": "moderate",
         "line": {
          "color": "orange",
          "width": 3
         },
         "lon": [
          -117.145039,
          -117.137833
         ],
         "mode": "lines",
         "name": "moderate",
         "showlegend": false,
         "subplot": "mapbox",
         "type": "scattermapbox"
        },
        {
         "customdata": [
          [
           "ML",
           6.367,
           293,
           "8W"
          ],
          [
           "ML",
           6.568,
           293,
           "8W"
          ]
         ],
         "hovertemplate": "speed_cat=moderate<br>linegroup=%{customdata[2]}<br>latitude=%{lat}<br>longitude=%{lon}<br>stype=%{customdata[0]}<br>abs_pm=%{customdata[1]}<br>fwdir=%{customdata[3]}<extra></extra>",
         "lat": [
          32.771975,
          32.773122
         ],
         "legendgroup": "moderate",
         "line": {
          "color": "orange",
          "width": 3
         },
         "lon": [
          -117.13137,
          -117.128233
         ],
         "mode": "lines",
         "name": "moderate",
         "showlegend": false,
         "subplot": "mapbox",
         "type": "scattermapbox"
        },
        {
         "customdata": [
          [
           "ML",
           6.837,
           295,
           "8W"
          ],
          [
           "ML",
           7.048,
           295,
           "8W"
          ]
         ],
         "hovertemplate": "speed_cat=moderate<br>linegroup=%{customdata[2]}<br>latitude=%{lat}<br>longitude=%{lon}<br>stype=%{customdata[0]}<br>abs_pm=%{customdata[1]}<br>fwdir=%{customdata[3]}<extra></extra>",
         "lat": [
          32.775258,
          32.777003
         ],
         "legendgroup": "moderate",
         "line": {
          "color": "orange",
          "width": 3
         },
         "lon": [
          -117.124378,
          -117.121375
         ],
         "mode": "lines",
         "name": "moderate",
         "showlegend": false,
         "subplot": "mapbox",
         "type": "scattermapbox"
        },
        {
         "customdata": [
          [
           "ML",
           7.761,
           297,
           "8W"
          ],
          [
           "ML",
           8.271,
           297,
           "8W"
          ],
          [
           "ML",
           8.615,
           297,
           "8W"
          ],
          [
           "ML",
           10.705,
           297,
           "8W"
          ],
          [
           "ML",
           10.898,
           297,
           "8W"
          ]
         ],
         "hovertemplate": "speed_cat=moderate<br>linegroup=%{customdata[2]}<br>latitude=%{lat}<br>longitude=%{lon}<br>stype=%{customdata[0]}<br>abs_pm=%{customdata[1]}<br>fwdir=%{customdata[3]}<extra></extra>",
         "lat": [
          32.778744,
          32.7793,
          32.780251,
          32.778313,
          32.777651
         ],
         "legendgroup": "moderate",
         "line": {
          "color": "orange",
          "width": 3
         },
         "lon": [
          -117.10951,
          -117.100823,
          -117.095003,
          -117.059444,
          -117.056226
         ],
         "mode": "lines",
         "name": "moderate",
         "showlegend": false,
         "subplot": "mapbox",
         "type": "scattermapbox"
        },
        {
         "customdata": [
          [
           "ML",
           17.608,
           306,
           "8W"
          ],
          [
           "ML",
           18.044,
           306,
           "8W"
          ]
         ],
         "hovertemplate": "speed_cat=moderate<br>linegroup=%{customdata[2]}<br>latitude=%{lat}<br>longitude=%{lon}<br>stype=%{customdata[0]}<br>abs_pm=%{customdata[1]}<br>fwdir=%{customdata[3]}<extra></extra>",
         "lat": [
          32.803133,
          32.803159
         ],
         "legendgroup": "moderate",
         "line": {
          "color": "orange",
          "width": 3
         },
         "lon": [
          -116.964952,
          -116.95746
         ],
         "mode": "lines",
         "name": "moderate",
         "showlegend": false,
         "subplot": "mapbox",
         "type": "scattermapbox"
        },
        {
         "customdata": [
          [
           "ML",
           19.289,
           308,
           "8W"
          ],
          [
           "ML",
           19.794,
           308,
           "8W"
          ],
          [
           "ML",
           20.174,
           308,
           "8W"
          ],
          [
           "ML",
           20.569,
           308,
           "8W"
          ]
         ],
         "hovertemplate": "speed_cat=moderate<br>linegroup=%{customdata[2]}<br>latitude=%{lat}<br>longitude=%{lon}<br>stype=%{customdata[0]}<br>abs_pm=%{customdata[1]}<br>fwdir=%{customdata[3]}<extra></extra>",
         "lat": [
          32.803169,
          32.80321,
          32.805455,
          32.810302
         ],
         "legendgroup": "moderate",
         "line": {
          "color": "orange",
          "width": 3
         },
         "lon": [
          -116.936214,
          -116.927288,
          -116.921611,
          -116.918188
         ],
         "mode": "lines",
         "name": "moderate",
         "showlegend": false,
         "subplot": "mapbox",
         "type": "scattermapbox"
        },
        {
         "customdata": [
          [
           "ML",
           21,
           310,
           "8W"
          ],
          [
           "ML",
           21.883,
           310,
           "8W"
          ],
          [
           "ML",
           22.305,
           310,
           "8W"
          ]
         ],
         "hovertemplate": "speed_cat=moderate<br>linegroup=%{customdata[2]}<br>latitude=%{lat}<br>longitude=%{lon}<br>stype=%{customdata[0]}<br>abs_pm=%{customdata[1]}<br>fwdir=%{customdata[3]}<extra></extra>",
         "lat": [
          32.815497,
          32.82544,
          32.829499
         ],
         "legendgroup": "moderate",
         "line": {
          "color": "orange",
          "width": 3
         },
         "lon": [
          -116.914192,
          -116.905031,
          -116.899603
         ],
         "mode": "lines",
         "name": "moderate",
         "showlegend": false,
         "subplot": "mapbox",
         "type": "scattermapbox"
        },
        {
         "customdata": [
          [
           "ML",
           7.613,
           316,
           "905W"
          ],
          [
           "ML",
           8.491,
           316,
           "905W"
          ]
         ],
         "hovertemplate": "speed_cat=moderate<br>linegroup=%{customdata[2]}<br>latitude=%{lat}<br>longitude=%{lon}<br>stype=%{customdata[0]}<br>abs_pm=%{customdata[1]}<br>fwdir=%{customdata[3]}<extra></extra>",
         "lat": [
          32.564112,
          32.555743
         ],
         "legendgroup": "moderate",
         "line": {
          "color": "orange",
          "width": 3
         },
         "lon": [
          -116.950744,
          -116.939922
         ],
         "mode": "lines",
         "name": "moderate",
         "showlegend": false,
         "subplot": "mapbox",
         "type": "scattermapbox"
        },
        {
         "customdata": [
          [
           "ML",
           0.455,
           318,
           "94E"
          ],
          [
           "ML",
           0.825,
           318,
           "94E"
          ]
         ],
         "hovertemplate": "speed_cat=moderate<br>linegroup=%{customdata[2]}<br>latitude=%{lat}<br>longitude=%{lon}<br>stype=%{customdata[0]}<br>abs_pm=%{customdata[1]}<br>fwdir=%{customdata[3]}<extra></extra>",
         "lat": [
          32.713024,
          32.713119
         ],
         "legendgroup": "moderate",
         "line": {
          "color": "orange",
          "width": 3
         },
         "lon": [
          -117.139745,
          -117.133405
         ],
         "mode": "lines",
         "name": "moderate",
         "showlegend": false,
         "subplot": "mapbox",
         "type": "scattermapbox"
        },
        {
         "customdata": [
          [
           "ML",
           2.565,
           320,
           "94E"
          ],
          [
           "ML",
           2.764,
           320,
           "94E"
          ]
         ],
         "hovertemplate": "speed_cat=moderate<br>linegroup=%{customdata[2]}<br>latitude=%{lat}<br>longitude=%{lon}<br>stype=%{customdata[0]}<br>abs_pm=%{customdata[1]}<br>fwdir=%{customdata[3]}<extra></extra>",
         "lat": [
          32.718627,
          32.718925
         ],
         "legendgroup": "moderate",
         "line": {
          "color": "orange",
          "width": 3
         },
         "lon": [
          -117.104491,
          -117.101118
         ],
         "mode": "lines",
         "name": "moderate",
         "showlegend": false,
         "subplot": "mapbox",
         "type": "scattermapbox"
        },
        {
         "customdata": [
          [
           "ML",
           3.402,
           322,
           "94E"
          ],
          [
           "ML",
           3.744,
           322,
           "94E"
          ]
         ],
         "hovertemplate": "speed_cat=moderate<br>linegroup=%{customdata[2]}<br>latitude=%{lat}<br>longitude=%{lon}<br>stype=%{customdata[0]}<br>abs_pm=%{customdata[1]}<br>fwdir=%{customdata[3]}<extra></extra>",
         "lat": [
          32.717692,
          32.71801
         ],
         "legendgroup": "moderate",
         "line": {
          "color": "orange",
          "width": 3
         },
         "lon": [
          -117.090432,
          -117.08462
         ],
         "mode": "lines",
         "name": "moderate",
         "showlegend": false,
         "subplot": "mapbox",
         "type": "scattermapbox"
        },
        {
         "customdata": [
          [
           "ML",
           4.384,
           324,
           "94E"
          ],
          [
           "ML",
           4.854,
           324,
           "94E"
          ],
          [
           "ML",
           6.944,
           324,
           "94E"
          ],
          [
           "ML",
           7.464,
           324,
           "94E"
          ],
          [
           "ML",
           7.594,
           324,
           "94E"
          ],
          [
           "ML",
           8.204,
           324,
           "94E"
          ]
         ],
         "hovertemplate": "speed_cat=moderate<br>linegroup=%{customdata[2]}<br>latitude=%{lat}<br>longitude=%{lon}<br>stype=%{customdata[0]}<br>abs_pm=%{customdata[1]}<br>fwdir=%{customdata[3]}<extra></extra>",
         "lat": [
          32.723666,
          32.727761,
          32.744705,
          32.745649,
          32.74629,
          32.746819
         ],
         "legendgroup": "moderate",
         "line": {
          "color": "orange",
          "width": 3
         },
         "lon": [
          -117.076046,
          -117.069682,
          -117.041718,
          -117.032947,
          -117.030852,
          -117.020529
         ],
         "mode": "lines",
         "name": "moderate",
         "showlegend": false,
         "subplot": "mapbox",
         "type": "scattermapbox"
        },
        {
         "customdata": [
          [
           "ML",
           0.819,
           327,
           "94W"
          ],
          [
           "ML",
           1.083,
           327,
           "94W"
          ],
          [
           "ML",
           1.205,
           327,
           "94W"
          ]
         ],
         "hovertemplate": "speed_cat=moderate<br>linegroup=%{customdata[2]}<br>latitude=%{lat}<br>longitude=%{lon}<br>stype=%{customdata[0]}<br>abs_pm=%{customdata[1]}<br>fwdir=%{customdata[3]}<extra></extra>",
         "lat": [
          32.713318,
          32.713724,
          32.714211
         ],
         "legendgroup": "moderate",
         "line": {
          "color": "orange",
          "width": 3
         },
         "lon": [
          -117.134145,
          -117.129847,
          -117.127908
         ],
         "mode": "lines",
         "name": "moderate",
         "showlegend": false,
         "subplot": "mapbox",
         "type": "scattermapbox"
        },
        {
         "customdata": [
          [
           "ML",
           1.721,
           329,
           "94W"
          ],
          [
           "ML",
           1.844,
           329,
           "94W"
          ]
         ],
         "hovertemplate": "speed_cat=moderate<br>linegroup=%{customdata[2]}<br>latitude=%{lat}<br>longitude=%{lon}<br>stype=%{customdata[0]}<br>abs_pm=%{customdata[1]}<br>fwdir=%{customdata[3]}<extra></extra>",
         "lat": [
          32.716724,
          32.717134
         ],
         "legendgroup": "moderate",
         "line": {
          "color": "orange",
          "width": 3
         },
         "lon": [
          -117.119831,
          -117.117861
         ],
         "mode": "lines",
         "name": "moderate",
         "showlegend": false,
         "subplot": "mapbox",
         "type": "scattermapbox"
        },
        {
         "customdata": [
          [
           "ML",
           2.134,
           331,
           "94W"
          ],
          [
           "ML",
           2.564,
           331,
           "94W"
          ]
         ],
         "hovertemplate": "speed_cat=moderate<br>linegroup=%{customdata[2]}<br>latitude=%{lat}<br>longitude=%{lon}<br>stype=%{customdata[0]}<br>abs_pm=%{customdata[1]}<br>fwdir=%{customdata[3]}<extra></extra>",
         "lat": [
          32.717909,
          32.718507
         ],
         "legendgroup": "moderate",
         "line": {
          "color": "orange",
          "width": 3
         },
         "lon": [
          -117.113171,
          -117.106173
         ],
         "mode": "lines",
         "name": "moderate",
         "showlegend": false,
         "subplot": "mapbox",
         "type": "scattermapbox"
        },
        {
         "customdata": [
          [
           "ML",
           3.415,
           333,
           "94W"
          ],
          [
           "ML",
           3.74,
           333,
           "94W"
          ],
          [
           "ML",
           4.198,
           333,
           "94W"
          ],
          [
           "ML",
           4.789,
           333,
           "94W"
          ],
          [
           "ML",
           5.824,
           333,
           "94W"
          ],
          [
           "ML",
           6.344,
           333,
           "94W"
          ],
          [
           "ML",
           6.726,
           333,
           "94W"
          ],
          [
           "ML",
           7.13,
           333,
           "94W"
          ],
          [
           "ML",
           7.454,
           333,
           "94W"
          ],
          [
           "ML",
           8.204,
           333,
           "94W"
          ],
          [
           "ML",
           8.611,
           333,
           "94W"
          ]
         ],
         "hovertemplate": "speed_cat=moderate<br>linegroup=%{customdata[2]}<br>latitude=%{lat}<br>longitude=%{lon}<br>stype=%{customdata[0]}<br>abs_pm=%{customdata[1]}<br>fwdir=%{customdata[3]}<extra></extra>",
         "lat": [
          32.718104,
          32.717955,
          32.720663,
          32.726464,
          32.734694,
          32.740913,
          32.74454,
          32.744864,
          32.745268,
          32.746923,
          32.748892
         ],
         "legendgroup": "moderate",
         "line": {
          "color": "orange",
          "width": 3
         },
         "lon": [
          -117.092449,
          -117.087127,
          -117.080357,
          -117.072595,
          -117.057992,
          -117.052169,
          -117.047105,
          -117.040554,
          -117.035279,
          -117.023229,
          -117.017105
         ],
         "mode": "lines",
         "name": "moderate",
         "showlegend": false,
         "subplot": "mapbox",
         "type": "scattermapbox"
        },
        {
         "customdata": [
          [
           "ML",
           9.14,
           335,
           "94W"
          ]
         ],
         "hovertemplate": "speed_cat=moderate<br>linegroup=%{customdata[2]}<br>latitude=%{lat}<br>longitude=%{lon}<br>stype=%{customdata[0]}<br>abs_pm=%{customdata[1]}<br>fwdir=%{customdata[3]}<extra></extra>",
         "lat": [
          32.753919
         ],
         "legendgroup": "moderate",
         "line": {
          "color": "orange",
          "width": 3
         },
         "lon": [
          -117.010444
         ],
         "mode": "lines",
         "name": "moderate",
         "showlegend": false,
         "subplot": "mapbox",
         "type": "scattermapbox"
        },
        {
         "customdata": [
          [
           "ML",
           19.108,
           9,
           "125N"
          ],
          [
           "ML",
           19.281,
           9,
           "125N"
          ],
          [
           "ML",
           21.146,
           9,
           "125N"
          ]
         ],
         "hovertemplate": "speed_cat=fast<br>linegroup=%{customdata[2]}<br>latitude=%{lat}<br>longitude=%{lon}<br>stype=%{customdata[0]}<br>abs_pm=%{customdata[1]}<br>fwdir=%{customdata[3]}<extra></extra>",
         "lat": [
          32.805368,
          32.807875,
          32.833838
         ],
         "legendgroup": "fast",
         "line": {
          "color": "green",
          "width": 3
         },
         "lon": [
          -117.005343,
          -117.005299,
          -117.003119
         ],
         "mode": "lines",
         "name": "fast",
         "showlegend": true,
         "subplot": "mapbox",
         "type": "scattermapbox"
        },
        {
         "customdata": [
          [
           "ML",
           9.138,
           10,
           "125S"
          ],
          [
           "ML",
           11.72,
           10,
           "125S"
          ]
         ],
         "hovertemplate": "speed_cat=fast<br>linegroup=%{customdata[2]}<br>latitude=%{lat}<br>longitude=%{lon}<br>stype=%{customdata[0]}<br>abs_pm=%{customdata[1]}<br>fwdir=%{customdata[3]}<extra></extra>",
         "lat": [
          32.68199,
          32.695995
         ],
         "legendgroup": "fast",
         "line": {
          "color": "green",
          "width": 3
         },
         "lon": [
          -116.990933,
          -117.013866
         ],
         "mode": "lines",
         "name": "fast",
         "showlegend": false,
         "subplot": "mapbox",
         "type": "scattermapbox"
        },
        {
         "customdata": [
          [
           "ML",
           12.953,
           12,
           "125S"
          ],
          [
           "ML",
           13.604,
           12,
           "125S"
          ]
         ],
         "hovertemplate": "speed_cat=fast<br>linegroup=%{customdata[2]}<br>latitude=%{lat}<br>longitude=%{lon}<br>stype=%{customdata[0]}<br>abs_pm=%{customdata[1]}<br>fwdir=%{customdata[3]}<extra></extra>",
         "lat": [
          32.711635,
          32.720013
         ],
         "legendgroup": "fast",
         "line": {
          "color": "green",
          "width": 3
         },
         "lon": [
          -117.013079,
          -117.014848
         ],
         "mode": "lines",
         "name": "fast",
         "showlegend": false,
         "subplot": "mapbox",
         "type": "scattermapbox"
        },
        {
         "customdata": [
          [
           "ML",
           20.656,
           19,
           "125S"
          ],
          [
           "ML",
           22.809,
           19,
           "125S"
          ]
         ],
         "hovertemplate": "speed_cat=fast<br>linegroup=%{customdata[2]}<br>latitude=%{lat}<br>longitude=%{lon}<br>stype=%{customdata[0]}<br>abs_pm=%{customdata[1]}<br>fwdir=%{customdata[3]}<extra></extra>",
         "lat": [
          32.804631,
          32.834748
         ],
         "legendgroup": "fast",
         "line": {
          "color": "green",
          "width": 3
         },
         "lon": [
          -117.005603,
          -117.003404
         ],
         "mode": "lines",
         "name": "fast",
         "showlegend": false,
         "subplot": "mapbox",
         "type": "scattermapbox"
        },
        {
         "customdata": [
          [
           "ML",
           3.059,
           24,
           "15N"
          ],
          [
           "ML",
           3.77,
           24,
           "15N"
          ]
         ],
         "hovertemplate": "speed_cat=fast<br>linegroup=%{customdata[2]}<br>latitude=%{lat}<br>longitude=%{lon}<br>stype=%{customdata[0]}<br>abs_pm=%{customdata[1]}<br>fwdir=%{customdata[3]}<extra></extra>",
         "lat": [
          32.733487,
          32.743033
         ],
         "legendgroup": "fast",
         "line": {
          "color": "green",
          "width": 3
         },
         "lon": [
          -117.111847,
          -117.110934
         ],
         "mode": "lines",
         "name": "fast",
         "showlegend": false,
         "subplot": "mapbox",
         "type": "scattermapbox"
        },
        {
         "customdata": [
          [
           "ML",
           5.402,
           26,
           "15N"
          ],
          [
           "ML",
           6.856,
           26,
           "15N"
          ]
         ],
         "hovertemplate": "speed_cat=fast<br>linegroup=%{customdata[2]}<br>latitude=%{lat}<br>longitude=%{lon}<br>stype=%{customdata[0]}<br>abs_pm=%{customdata[1]}<br>fwdir=%{customdata[3]}<extra></extra>",
         "lat": [
          32.765981,
          32.786224
         ],
         "legendgroup": "fast",
         "line": {
          "color": "green",
          "width": 3
         },
         "lon": [
          -117.110045,
          -117.114171
         ],
         "mode": "lines",
         "name": "fast",
         "showlegend": false,
         "subplot": "mapbox",
         "type": "scattermapbox"
        },
        {
         "customdata": [
          [
           "ML",
           11.261,
           28,
           "15N"
          ],
          [
           "ML",
           12.335,
           28,
           "15N"
          ]
         ],
         "hovertemplate": "speed_cat=fast<br>linegroup=%{customdata[2]}<br>latitude=%{lat}<br>longitude=%{lon}<br>stype=%{customdata[0]}<br>abs_pm=%{customdata[1]}<br>fwdir=%{customdata[3]}<extra></extra>",
         "lat": [
          32.848411,
          32.862995
         ],
         "legendgroup": "fast",
         "line": {
          "color": "green",
          "width": 3
         },
         "lon": [
          -117.116636,
          -117.110269
         ],
         "mode": "lines",
         "name": "fast",
         "showlegend": false,
         "subplot": "mapbox",
         "type": "scattermapbox"
        },
        {
         "customdata": [
          [
           "ML",
           12.721,
           30,
           "15N"
          ],
          [
           "ML",
           13.187,
           30,
           "15N"
          ],
          [
           "ML",
           13.524,
           30,
           "15N"
          ]
         ],
         "hovertemplate": "speed_cat=fast<br>linegroup=%{customdata[2]}<br>latitude=%{lat}<br>longitude=%{lon}<br>stype=%{customdata[0]}<br>abs_pm=%{customdata[1]}<br>fwdir=%{customdata[3]}<extra></extra>",
         "lat": [
          32.868194,
          32.874869,
          32.87967
         ],
         "legendgroup": "fast",
         "line": {
          "color": "green",
          "width": 3
         },
         "lon": [
          -117.107817,
          -117.10687,
          -117.107922
         ],
         "mode": "lines",
         "name": "fast",
         "showlegend": false,
         "subplot": "mapbox",
         "type": "scattermapbox"
        },
        {
         "customdata": [
          [
           "ML",
           35.451,
           46,
           "15N"
          ],
          [
           "ML",
           36.557,
           46,
           "15N"
          ],
          [
           "ML",
           45.717,
           46,
           "15N"
          ]
         ],
         "hovertemplate": "speed_cat=fast<br>linegroup=%{customdata[2]}<br>latitude=%{lat}<br>longitude=%{lon}<br>stype=%{customdata[0]}<br>abs_pm=%{customdata[1]}<br>fwdir=%{customdata[3]}<extra></extra>",
         "lat": [
          33.178414,
          33.192903,
          33.317188
         ],
         "legendgroup": "fast",
         "line": {
          "color": "green",
          "width": 3
         },
         "lon": [
          -117.114712,
          -117.122965,
          -117.153998
         ],
         "mode": "lines",
         "name": "fast",
         "showlegend": false,
         "subplot": "mapbox",
         "type": "scattermapbox"
        },
        {
         "customdata": [
          [
           "ML",
           10.803,
           57,
           "15S"
          ],
          [
           "ML",
           11.25,
           57,
           "15S"
          ],
          [
           "ML",
           12.712,
           57,
           "15S"
          ]
         ],
         "hovertemplate": "speed_cat=fast<br>linegroup=%{customdata[2]}<br>latitude=%{lat}<br>longitude=%{lon}<br>stype=%{customdata[0]}<br>abs_pm=%{customdata[1]}<br>fwdir=%{customdata[3]}<extra></extra>",
         "lat": [
          32.842604,
          32.84837,
          32.868138
         ],
         "legendgroup": "fast",
         "line": {
          "color": "green",
          "width": 3
         },
         "lon": [
          -117.120583,
          -117.117157,
          -117.10851
         ],
         "mode": "lines",
         "name": "fast",
         "showlegend": false,
         "subplot": "mapbox",
         "type": "scattermapbox"
        },
        {
         "customdata": [
          [
           "ML",
           13.178,
           59,
           "15S"
          ],
          [
           "ML",
           13.692,
           59,
           "15S"
          ]
         ],
         "hovertemplate": "speed_cat=fast<br>linegroup=%{customdata[2]}<br>latitude=%{lat}<br>longitude=%{lon}<br>stype=%{customdata[0]}<br>abs_pm=%{customdata[1]}<br>fwdir=%{customdata[3]}<extra></extra>",
         "lat": [
          32.874797,
          32.881993
         ],
         "legendgroup": "fast",
         "line": {
          "color": "green",
          "width": 3
         },
         "lon": [
          -117.107576,
          -117.109567
         ],
         "mode": "lines",
         "name": "fast",
         "showlegend": false,
         "subplot": "mapbox",
         "type": "scattermapbox"
        },
        {
         "customdata": [
          [
           "ML",
           18.492,
           63,
           "15S"
          ],
          [
           "ML",
           18.798,
           63,
           "15S"
          ],
          [
           "ML",
           19.268,
           63,
           "15S"
          ]
         ],
         "hovertemplate": "speed_cat=fast<br>linegroup=%{customdata[2]}<br>latitude=%{lat}<br>longitude=%{lon}<br>stype=%{customdata[0]}<br>abs_pm=%{customdata[1]}<br>fwdir=%{customdata[3]}<extra></extra>",
         "lat": [
          32.949064,
          32.952945,
          32.959072
         ],
         "legendgroup": "fast",
         "line": {
          "color": "green",
          "width": 3
         },
         "lon": [
          -117.105522,
          -117.102968,
          -117.099452
         ],
         "mode": "lines",
         "name": "fast",
         "showlegend": false,
         "subplot": "mapbox",
         "type": "scattermapbox"
        },
        {
         "customdata": [
          [
           "ML",
           35.44,
           71,
           "15S"
          ],
          [
           "ML",
           39.637,
           71,
           "15S"
          ],
          [
           "ML",
           48.528,
           71,
           "15S"
          ]
         ],
         "hovertemplate": "speed_cat=fast<br>linegroup=%{customdata[2]}<br>latitude=%{lat}<br>longitude=%{lon}<br>stype=%{customdata[0]}<br>abs_pm=%{customdata[1]}<br>fwdir=%{customdata[3]}<extra></extra>",
         "lat": [
          33.178265,
          33.232597,
          33.357354
         ],
         "legendgroup": "fast",
         "line": {
          "color": "green",
          "width": 3
         },
         "lon": [
          -117.114973,
          -117.147394,
          -117.159131
         ],
         "mode": "lines",
         "name": "fast",
         "showlegend": false,
         "subplot": "mapbox",
         "type": "scattermapbox"
        },
        {
         "customdata": [
          [
           "ML",
           2.789,
           75,
           "163N"
          ],
          [
           "ML",
           3.565,
           75,
           "163N"
          ],
          [
           "ML",
           4.699,
           75,
           "163N"
          ],
          [
           "ML",
           6.199,
           75,
           "163N"
          ]
         ],
         "hovertemplate": "speed_cat=fast<br>linegroup=%{customdata[2]}<br>latitude=%{lat}<br>longitude=%{lon}<br>stype=%{customdata[0]}<br>abs_pm=%{customdata[1]}<br>fwdir=%{customdata[3]}<extra></extra>",
         "lat": [
          32.757697,
          32.767979,
          32.783982,
          32.804762
         ],
         "legendgroup": "fast",
         "line": {
          "color": "green",
          "width": 3
         },
         "lon": [
          -117.160056,
          -117.16213,
          -117.161692,
          -117.154108
         ],
         "mode": "lines",
         "name": "fast",
         "showlegend": false,
         "subplot": "mapbox",
         "type": "scattermapbox"
        },
        {
         "customdata": [
          [
           "ML",
           6.777,
           77,
           "163N"
          ],
          [
           "ML",
           7.459,
           77,
           "163N"
          ],
          [
           "ML",
           7.849,
           77,
           "163N"
          ],
          [
           "ML",
           8.378,
           77,
           "163N"
          ],
          [
           "ML",
           9.356,
           77,
           "163N"
          ],
          [
           "ML",
           10.26,
           77,
           "163N"
          ],
          [
           "ML",
           10.649,
           77,
           "163N"
          ]
         ],
         "hovertemplate": "speed_cat=fast<br>linegroup=%{customdata[2]}<br>latitude=%{lat}<br>longitude=%{lon}<br>stype=%{customdata[0]}<br>abs_pm=%{customdata[1]}<br>fwdir=%{customdata[3]}<extra></extra>",
         "lat": [
          32.812726,
          32.821751,
          32.8269,
          32.833798,
          32.845121,
          32.854682,
          32.857558
         ],
         "legendgroup": "fast",
         "line": {
          "color": "green",
          "width": 3
         },
         "lon": [
          -117.151215,
          -117.146602,
          -117.143798,
          -117.139787,
          -117.129665,
          -117.119386,
          -117.113619
         ],
         "mode": "lines",
         "name": "fast",
         "showlegend": false,
         "subplot": "mapbox",
         "type": "scattermapbox"
        },
        {
         "customdata": [
          [
           "ML",
           2.743,
           80,
           "163S"
          ],
          [
           "ML",
           4.653,
           80,
           "163S"
          ]
         ],
         "hovertemplate": "speed_cat=fast<br>linegroup=%{customdata[2]}<br>latitude=%{lat}<br>longitude=%{lon}<br>stype=%{customdata[0]}<br>abs_pm=%{customdata[1]}<br>fwdir=%{customdata[3]}<extra></extra>",
         "lat": [
          32.757664,
          32.784029
         ],
         "legendgroup": "fast",
         "line": {
          "color": "green",
          "width": 3
         },
         "lon": [
          -117.160289,
          -117.161945
         ],
         "mode": "lines",
         "name": "fast",
         "showlegend": false,
         "subplot": "mapbox",
         "type": "scattermapbox"
        },
        {
         "customdata": [
          [
           "ML",
           6.153,
           82,
           "163S"
          ],
          [
           "ML",
           6.73,
           82,
           "163S"
          ],
          [
           "ML",
           7.235,
           82,
           "163S"
          ]
         ],
         "hovertemplate": "speed_cat=fast<br>linegroup=%{customdata[2]}<br>latitude=%{lat}<br>longitude=%{lon}<br>stype=%{customdata[0]}<br>abs_pm=%{customdata[1]}<br>fwdir=%{customdata[3]}<extra></extra>",
         "lat": [
          32.804853,
          32.812816,
          32.8195
         ],
         "legendgroup": "fast",
         "line": {
          "color": "green",
          "width": 3
         },
         "lon": [
          -117.15441,
          -117.151507,
          -117.148074
         ],
         "mode": "lines",
         "name": "fast",
         "showlegend": false,
         "subplot": "mapbox",
         "type": "scattermapbox"
        },
        {
         "customdata": [
          [
           "ML",
           7.452,
           84,
           "163S"
          ],
          [
           "ML",
           7.803,
           84,
           "163S"
          ],
          [
           "ML",
           9.31,
           84,
           "163S"
          ],
          [
           "ML",
           10.333,
           84,
           "163S"
          ],
          [
           "ML",
           10.603,
           84,
           "163S"
          ]
         ],
         "hovertemplate": "speed_cat=fast<br>linegroup=%{customdata[2]}<br>latitude=%{lat}<br>longitude=%{lon}<br>stype=%{customdata[0]}<br>abs_pm=%{customdata[1]}<br>fwdir=%{customdata[3]}<extra></extra>",
         "lat": [
          32.822354,
          32.826994,
          32.845317,
          32.85586,
          32.859661
         ],
         "legendgroup": "fast",
         "line": {
          "color": "green",
          "width": 3
         },
         "lon": [
          -117.146524,
          -117.143983,
          -117.129866,
          -117.117328,
          -117.113917
         ],
         "mode": "lines",
         "name": "fast",
         "showlegend": false,
         "subplot": "mapbox",
         "type": "scattermapbox"
        },
        {
         "customdata": [
          [
           "ML",
           7.246,
           86,
           "52E"
          ],
          [
           "ML",
           7.84,
           86,
           "52E"
          ]
         ],
         "hovertemplate": "speed_cat=fast<br>linegroup=%{customdata[2]}<br>latitude=%{lat}<br>longitude=%{lon}<br>stype=%{customdata[0]}<br>abs_pm=%{customdata[1]}<br>fwdir=%{customdata[3]}<extra></extra>",
         "lat": [
          32.841627,
          32.841719
         ],
         "legendgroup": "fast",
         "line": {
          "color": "green",
          "width": 3
         },
         "lon": [
          -117.122598,
          -117.112297
         ],
         "mode": "lines",
         "name": "fast",
         "showlegend": false,
         "subplot": "mapbox",
         "type": "scattermapbox"
        },
        {
         "customdata": [
          [
           "ML",
           0.301,
           94,
           "52W"
          ],
          [
           "ML",
           1.309,
           94,
           "52W"
          ],
          [
           "ML",
           2.219,
           94,
           "52W"
          ]
         ],
         "hovertemplate": "speed_cat=fast<br>linegroup=%{customdata[2]}<br>latitude=%{lat}<br>longitude=%{lon}<br>stype=%{customdata[0]}<br>abs_pm=%{customdata[1]}<br>fwdir=%{customdata[3]}<extra></extra>",
         "lat": [
          32.838567,
          32.841671,
          32.847046
         ],
         "legendgroup": "fast",
         "line": {
          "color": "green",
          "width": 3
         },
         "lon": [
          -117.234392,
          -117.218491,
          -117.204305
         ],
         "mode": "lines",
         "name": "fast",
         "showlegend": false,
         "subplot": "mapbox",
         "type": "scattermapbox"
        },
        {
         "customdata": [
          [
           "ML",
           3.97,
           96,
           "52W"
          ],
          [
           "ML",
           4.857,
           96,
           "52W"
          ],
          [
           "ML",
           7.245,
           96,
           "52W"
          ],
          [
           "ML",
           9.27,
           96,
           "52W"
          ],
          [
           "ML",
           10.301,
           96,
           "52W"
          ]
         ],
         "hovertemplate": "speed_cat=fast<br>linegroup=%{customdata[2]}<br>latitude=%{lat}<br>longitude=%{lon}<br>stype=%{customdata[0]}<br>abs_pm=%{customdata[1]}<br>fwdir=%{customdata[3]}<extra></extra>",
         "lat": [
          32.847199,
          32.840096,
          32.841898,
          32.842947,
          32.850718
         ],
         "legendgroup": "fast",
         "line": {
          "color": "green",
          "width": 3
         },
         "lon": [
          -117.17441,
          -117.162115,
          -117.122619,
          -117.087962,
          -117.07319
         ],
         "mode": "lines",
         "name": "fast",
         "showlegend": false,
         "subplot": "mapbox",
         "type": "scattermapbox"
        },
        {
         "customdata": [
          [
           "ML",
           14.772,
           98,
           "52W"
          ]
         ],
         "hovertemplate": "speed_cat=fast<br>linegroup=%{customdata[2]}<br>latitude=%{lat}<br>longitude=%{lon}<br>stype=%{customdata[0]}<br>abs_pm=%{customdata[1]}<br>fwdir=%{customdata[3]}<extra></extra>",
         "lat": [
          null
         ],
         "legendgroup": "fast",
         "line": {
          "color": "green",
          "width": 3
         },
         "lon": [
          null
         ],
         "mode": "lines",
         "name": "fast",
         "showlegend": false,
         "subplot": "mapbox",
         "type": "scattermapbox"
        },
        {
         "customdata": [
          [
           "ML",
           0.966,
           104,
           "56E"
          ],
          [
           "ML",
           1.4,
           104,
           "56E"
          ]
         ],
         "hovertemplate": "speed_cat=fast<br>linegroup=%{customdata[2]}<br>latitude=%{lat}<br>longitude=%{lon}<br>stype=%{customdata[0]}<br>abs_pm=%{customdata[1]}<br>fwdir=%{customdata[3]}<extra></extra>",
         "lat": [
          32.937845,
          32.940727
         ],
         "legendgroup": "fast",
         "line": {
          "color": "green",
          "width": 3
         },
         "lon": [
          -117.226663,
          -117.220084
         ],
         "mode": "lines",
         "name": "fast",
         "showlegend": false,
         "subplot": "mapbox",
         "type": "scattermapbox"
        },
        {
         "customdata": [
          [
           "ML",
           6.175,
           110,
           "56W"
          ],
          [
           "ML",
           7.364,
           110,
           "56W"
          ],
          [
           "ML",
           7.661,
           110,
           "56W"
          ]
         ],
         "hovertemplate": "speed_cat=fast<br>linegroup=%{customdata[2]}<br>latitude=%{lat}<br>longitude=%{lon}<br>stype=%{customdata[0]}<br>abs_pm=%{customdata[1]}<br>fwdir=%{customdata[3]}<extra></extra>",
         "lat": [
          32.958567,
          32.953681,
          32.954374
         ],
         "legendgroup": "fast",
         "line": {
          "color": "green",
          "width": 3
         },
         "lon": [
          -117.152079,
          -117.133374,
          -117.128361
         ],
         "mode": "lines",
         "name": "fast",
         "showlegend": false,
         "subplot": "mapbox",
         "type": "scattermapbox"
        },
        {
         "customdata": [
          [
           "ML",
           8.565,
           112,
           "56W"
          ],
          [
           "ML",
           9.302,
           112,
           "56W"
          ]
         ],
         "hovertemplate": "speed_cat=fast<br>linegroup=%{customdata[2]}<br>latitude=%{lat}<br>longitude=%{lon}<br>stype=%{customdata[0]}<br>abs_pm=%{customdata[1]}<br>fwdir=%{customdata[3]}<extra></extra>",
         "lat": [
          32.958653,
          32.962672
         ],
         "legendgroup": "fast",
         "line": {
          "color": "green",
          "width": 3
         },
         "lon": [
          -117.113729,
          -117.101859
         ],
         "mode": "lines",
         "name": "fast",
         "showlegend": false,
         "subplot": "mapbox",
         "type": "scattermapbox"
        },
        {
         "customdata": [
          [
           "ML",
           0.22,
           114,
           "5N"
          ],
          [
           "ML",
           1.143,
           114,
           "5N"
          ],
          [
           "ML",
           2.195,
           114,
           "5N"
          ],
          [
           "ML",
           2.56,
           114,
           "5N"
          ],
          [
           "ML",
           3.335,
           114,
           "5N"
          ],
          [
           "ML",
           4.004,
           114,
           "5N"
          ]
         ],
         "hovertemplate": "speed_cat=fast<br>linegroup=%{customdata[2]}<br>latitude=%{lat}<br>longitude=%{lon}<br>stype=%{customdata[0]}<br>abs_pm=%{customdata[1]}<br>fwdir=%{customdata[3]}<extra></extra>",
         "lat": [
          32.544463,
          32.55169,
          32.558459,
          32.561334,
          32.569052,
          32.577106
         ],
         "legendgroup": "fast",
         "line": {
          "color": "green",
          "width": 3
         },
         "lon": [
          -117.032486,
          -117.045725,
          -117.061845,
          -117.067081,
          -117.076507,
          -117.082889
         ],
         "mode": "lines",
         "name": "fast",
         "showlegend": false,
         "subplot": "mapbox",
         "type": "scattermapbox"
        },
        {
         "customdata": [
          [
           "ML",
           5.326,
           116,
           "5N"
          ],
          [
           "ML",
           5.946,
           116,
           "5N"
          ],
          [
           "ML",
           6.626,
           116,
           "5N"
          ],
          [
           "ML",
           7.82,
           116,
           "5N"
          ]
         ],
         "hovertemplate": "speed_cat=fast<br>linegroup=%{customdata[2]}<br>latitude=%{lat}<br>longitude=%{lon}<br>stype=%{customdata[0]}<br>abs_pm=%{customdata[1]}<br>fwdir=%{customdata[3]}<extra></extra>",
         "lat": [
          32.595115,
          32.604051,
          32.613851,
          32.630565
         ],
         "legendgroup": "fast",
         "line": {
          "color": "green",
          "width": 3
         },
         "lon": [
          -117.088642,
          -117.089763,
          -117.090918,
          -117.096247
         ],
         "mode": "lines",
         "name": "fast",
         "showlegend": false,
         "subplot": "mapbox",
         "type": "scattermapbox"
        },
        {
         "customdata": [
          [
           "ML",
           8.524,
           118,
           "5N"
          ],
          [
           "ML",
           9.897,
           118,
           "5N"
          ],
          [
           "ML",
           11.179,
           118,
           "5N"
          ]
         ],
         "hovertemplate": "speed_cat=fast<br>linegroup=%{customdata[2]}<br>latitude=%{lat}<br>longitude=%{lon}<br>stype=%{customdata[0]}<br>abs_pm=%{customdata[1]}<br>fwdir=%{customdata[3]}<extra></extra>",
         "lat": [
          32.640259,
          32.658963,
          32.676941
         ],
         "legendgroup": "fast",
         "line": {
          "color": "green",
          "width": 3
         },
         "lon": [
          -117.100052,
          -117.107386,
          -117.109212
         ],
         "mode": "lines",
         "name": "fast",
         "showlegend": false,
         "subplot": "mapbox",
         "type": "scattermapbox"
        },
        {
         "customdata": [
          [
           "ML",
           11.847,
           120,
           "5N"
          ],
          [
           "ML",
           12.114,
           120,
           "5N"
          ]
         ],
         "hovertemplate": "speed_cat=fast<br>linegroup=%{customdata[2]}<br>latitude=%{lat}<br>longitude=%{lon}<br>stype=%{customdata[0]}<br>abs_pm=%{customdata[1]}<br>fwdir=%{customdata[3]}<extra></extra>",
         "lat": [
          32.686187,
          32.688981
         ],
         "legendgroup": "fast",
         "line": {
          "color": "green",
          "width": 3
         },
         "lon": [
          -117.11275,
          -117.115932
         ],
         "mode": "lines",
         "name": "fast",
         "showlegend": false,
         "subplot": "mapbox",
         "type": "scattermapbox"
        },
        {
         "customdata": [
          [
           "ML",
           12.747,
           122,
           "5N"
          ],
          [
           "ML",
           13.073,
           122,
           "5N"
          ]
         ],
         "hovertemplate": "speed_cat=fast<br>linegroup=%{customdata[2]}<br>latitude=%{lat}<br>longitude=%{lon}<br>stype=%{customdata[0]}<br>abs_pm=%{customdata[1]}<br>fwdir=%{customdata[3]}<extra></extra>",
         "lat": [
          32.694337,
          32.69457
         ],
         "legendgroup": "fast",
         "line": {
          "color": "green",
          "width": 3
         },
         "lon": [
          -117.124759,
          -117.130324
         ],
         "mode": "lines",
         "name": "fast",
         "showlegend": false,
         "subplot": "mapbox",
         "type": "scattermapbox"
        },
        {
         "customdata": [
          [
           "ML",
           13.371,
           124,
           "5N"
          ],
          [
           "ML",
           14.417,
           124,
           "5N"
          ]
         ],
         "hovertemplate": "speed_cat=fast<br>linegroup=%{customdata[2]}<br>latitude=%{lat}<br>longitude=%{lon}<br>stype=%{customdata[0]}<br>abs_pm=%{customdata[1]}<br>fwdir=%{customdata[3]}<extra></extra>",
         "lat": [
          32.695918,
          32.706216
         ],
         "legendgroup": "fast",
         "line": {
          "color": "green",
          "width": 3
         },
         "lon": [
          -117.134988,
          -117.147448
         ],
         "mode": "lines",
         "name": "fast",
         "showlegend": false,
         "subplot": "mapbox",
         "type": "scattermapbox"
        },
        {
         "customdata": [
          [
           "ML",
           16,
           129,
           "5N"
          ],
          [
           "ML",
           16.525,
           129,
           "5N"
          ],
          [
           "ML",
           16.831,
           129,
           "5N"
          ],
          [
           "ML",
           17.231,
           129,
           "5N"
          ],
          [
           "ML",
           17.529,
           129,
           "5N"
          ],
          [
           "ML",
           17.571,
           129,
           "5N"
          ],
          [
           "ML",
           18.021,
           129,
           "5N"
          ],
          [
           "ML",
           18.345,
           129,
           "5N"
          ],
          [
           "ML",
           18.791,
           129,
           "5N"
          ]
         ],
         "hovertemplate": "speed_cat=fast<br>linegroup=%{customdata[2]}<br>latitude=%{lat}<br>longitude=%{lon}<br>stype=%{customdata[0]}<br>abs_pm=%{customdata[1]}<br>fwdir=%{customdata[3]}<extra></extra>",
         "lat": [
          32.724117,
          32.723871,
          32.727284,
          32.731968,
          32.735429,
          32.735914,
          32.741137,
          32.743605,
          32.746748
         ],
         "legendgroup": "fast",
         "line": {
          "color": "green",
          "width": 3
         },
         "lon": [
          -117.156091,
          -117.164331,
          -117.167641,
          -117.171694,
          -117.174785,
          -117.175223,
          -117.179918,
          -117.184656,
          -117.191312
         ],
         "mode": "lines",
         "name": "fast",
         "showlegend": false,
         "subplot": "mapbox",
         "type": "scattermapbox"
        },
        {
         "customdata": [
          [
           "ML",
           20.758,
           131,
           "5N"
          ],
          [
           "ML",
           21.367,
           131,
           "5N"
          ]
         ],
         "hovertemplate": "speed_cat=fast<br>linegroup=%{customdata[2]}<br>latitude=%{lat}<br>longitude=%{lon}<br>stype=%{customdata[0]}<br>abs_pm=%{customdata[1]}<br>fwdir=%{customdata[3]}<extra></extra>",
         "lat": [
          32.770668,
          32.779349
         ],
         "legendgroup": "fast",
         "line": {
          "color": "green",
          "width": 3
         },
         "lon": [
          -117.206677,
          -117.208332
         ],
         "mode": "lines",
         "name": "fast",
         "showlegend": false,
         "subplot": "mapbox",
         "type": "scattermapbox"
        },
        {
         "customdata": [
          [
           "ML",
           23.475,
           134,
           "5N"
          ],
          [
           "ML",
           23.948,
           134,
           "5N"
          ],
          [
           "ML",
           25.651,
           134,
           "5N"
          ],
          [
           "ML",
           25.859,
           134,
           "5N"
          ],
          [
           "ML",
           26.643,
           134,
           "5N"
          ],
          [
           "ML",
           27.141,
           134,
           "5N"
          ],
          [
           "ML",
           27.795,
           134,
           "5N"
          ],
          [
           "ML",
           28.281,
           134,
           "5N"
          ],
          [
           "ML",
           31.167,
           134,
           "5N"
          ]
         ],
         "hovertemplate": "speed_cat=fast<br>linegroup=%{customdata[2]}<br>latitude=%{lat}<br>longitude=%{lon}<br>stype=%{customdata[0]}<br>abs_pm=%{customdata[1]}<br>fwdir=%{customdata[3]}<extra></extra>",
         "lat": [
          32.807939,
          32.81362,
          32.834969,
          32.837787,
          32.848758,
          32.855148,
          32.86451,
          32.87153,
          32.911944
         ],
         "legendgroup": "fast",
         "line": {
          "color": "green",
          "width": 3
         },
         "lon": [
          -117.216589,
          -117.2211,
          -117.233294,
          -117.234529,
          -117.235323,
          -117.231251,
          -117.229736,
          -117.229139,
          -117.228498
         ],
         "mode": "lines",
         "name": "fast",
         "showlegend": false,
         "subplot": "mapbox",
         "type": "scattermapbox"
        },
        {
         "customdata": [
          [
           "ML",
           31.807,
           136,
           "5N"
          ],
          [
           "ML",
           32.357,
           136,
           "5N"
          ]
         ],
         "hovertemplate": "speed_cat=fast<br>linegroup=%{customdata[2]}<br>latitude=%{lat}<br>longitude=%{lon}<br>stype=%{customdata[0]}<br>abs_pm=%{customdata[1]}<br>fwdir=%{customdata[3]}<extra></extra>",
         "lat": [
          32.918909,
          32.925983
         ],
         "legendgroup": "fast",
         "line": {
          "color": "green",
          "width": 3
         },
         "lon": [
          -117.235565,
          -117.23942
         ],
         "mode": "lines",
         "name": "fast",
         "showlegend": false,
         "subplot": "mapbox",
         "type": "scattermapbox"
        },
        {
         "customdata": [
          [
           "ML",
           32.795,
           138,
           "5N"
          ],
          [
           "ML",
           33.571,
           138,
           "5N"
          ]
         ],
         "hovertemplate": "speed_cat=fast<br>linegroup=%{customdata[2]}<br>latitude=%{lat}<br>longitude=%{lon}<br>stype=%{customdata[0]}<br>abs_pm=%{customdata[1]}<br>fwdir=%{customdata[3]}<extra></extra>",
         "lat": [
          32.932271,
          32.943477
         ],
         "legendgroup": "fast",
         "line": {
          "color": "green",
          "width": 3
         },
         "lon": [
          -117.241036,
          -117.242328
         ],
         "mode": "lines",
         "name": "fast",
         "showlegend": false,
         "subplot": "mapbox",
         "type": "scattermapbox"
        },
        {
         "customdata": [
          [
           "ML",
           55.341,
           154,
           "5N"
          ],
          [
           "ML",
           56.411,
           154,
           "5N"
          ]
         ],
         "hovertemplate": "speed_cat=fast<br>linegroup=%{customdata[2]}<br>latitude=%{lat}<br>longitude=%{lon}<br>stype=%{customdata[0]}<br>abs_pm=%{customdata[1]}<br>fwdir=%{customdata[3]}<extra></extra>",
         "lat": [
          33.224874,
          33.236554
         ],
         "legendgroup": "fast",
         "line": {
          "color": "green",
          "width": 3
         },
         "lon": [
          -117.393754,
          -117.40592
         ],
         "mode": "lines",
         "name": "fast",
         "showlegend": false,
         "subplot": "mapbox",
         "type": "scattermapbox"
        },
        {
         "customdata": [
          [
           "ML",
           57.391,
           156,
           "5N"
          ],
          [
           "ML",
           58.391,
           156,
           "5N"
          ],
          [
           "ML",
           60.491,
           156,
           "5N"
          ]
         ],
         "hovertemplate": "speed_cat=fast<br>linegroup=%{customdata[2]}<br>latitude=%{lat}<br>longitude=%{lon}<br>stype=%{customdata[0]}<br>abs_pm=%{customdata[1]}<br>fwdir=%{customdata[3]}<extra></extra>",
         "lat": [
          33.246111,
          33.25805,
          33.281567
         ],
         "legendgroup": "fast",
         "line": {
          "color": "green",
          "width": 3
         },
         "lon": [
          -117.417364,
          -117.426272,
          -117.449193
         ],
         "mode": "lines",
         "name": "fast",
         "showlegend": false,
         "subplot": "mapbox",
         "type": "scattermapbox"
        },
        {
         "customdata": [
          [
           "ML",
           0.221,
           158,
           "5S"
          ],
          [
           "ML",
           1.14,
           158,
           "5S"
          ],
          [
           "ML",
           2.186,
           158,
           "5S"
          ],
          [
           "ML",
           2.559,
           158,
           "5S"
          ],
          [
           "ML",
           3.336,
           158,
           "5S"
          ],
          [
           "ML",
           4.003,
           158,
           "5S"
          ],
          [
           "ML",
           4.578,
           158,
           "5S"
          ]
         ],
         "hovertemplate": "speed_cat=fast<br>linegroup=%{customdata[2]}<br>latitude=%{lat}<br>longitude=%{lon}<br>stype=%{customdata[0]}<br>abs_pm=%{customdata[1]}<br>fwdir=%{customdata[3]}<extra></extra>",
         "lat": [
          32.544296,
          32.551447,
          32.558188,
          32.561106,
          32.568952,
          32.576983,
          32.584271
         ],
         "legendgroup": "fast",
         "line": {
          "color": "green",
          "width": 3
         },
         "lon": [
          -117.032738,
          -117.045806,
          -117.061806,
          -117.067228,
          -117.076731,
          -117.083123,
          -117.087551
         ],
         "mode": "lines",
         "name": "fast",
         "showlegend": false,
         "subplot": "mapbox",
         "type": "scattermapbox"
        },
        {
         "customdata": [
          [
           "ML",
           17.23,
           173,
           "5S"
          ],
          [
           "ML",
           17.232,
           173,
           "5S"
          ]
         ],
         "hovertemplate": "speed_cat=fast<br>linegroup=%{customdata[2]}<br>latitude=%{lat}<br>longitude=%{lon}<br>stype=%{customdata[0]}<br>abs_pm=%{customdata[1]}<br>fwdir=%{customdata[3]}<extra></extra>",
         "lat": [
          32.731834,
          32.731858
         ],
         "legendgroup": "fast",
         "line": {
          "color": "green",
          "width": 3
         },
         "lon": [
          -117.171905,
          -117.171925
         ],
         "mode": "lines",
         "name": "fast",
         "showlegend": false,
         "subplot": "mapbox",
         "type": "scattermapbox"
        },
        {
         "customdata": [
          [
           "ML",
           18.346,
           177,
           "5S"
          ],
          [
           "ML",
           18.822,
           177,
           "5S"
          ],
          [
           "ML",
           19.156,
           177,
           "5S"
          ],
          [
           "ML",
           20.611,
           177,
           "5S"
          ]
         ],
         "hovertemplate": "speed_cat=fast<br>linegroup=%{customdata[2]}<br>latitude=%{lat}<br>longitude=%{lon}<br>stype=%{customdata[0]}<br>abs_pm=%{customdata[1]}<br>fwdir=%{customdata[3]}<extra></extra>",
         "lat": [
          32.743425,
          32.746784,
          32.749919,
          32.768531
         ],
         "legendgroup": "fast",
         "line": {
          "color": "green",
          "width": 3
         },
         "lon": [
          -117.1848,
          -117.191904,
          -117.196234,
          -117.206423
         ],
         "mode": "lines",
         "name": "fast",
         "showlegend": false,
         "subplot": "mapbox",
         "type": "scattermapbox"
        },
        {
         "customdata": [
          [
           "ML",
           21.973,
           179,
           "5S"
          ],
          [
           "ML",
           22.85,
           179,
           "5S"
          ]
         ],
         "hovertemplate": "speed_cat=fast<br>linegroup=%{customdata[2]}<br>latitude=%{lat}<br>longitude=%{lon}<br>stype=%{customdata[0]}<br>abs_pm=%{customdata[1]}<br>fwdir=%{customdata[3]}<extra></extra>",
         "lat": [
          32.788012,
          32.800051
         ],
         "legendgroup": "fast",
         "line": {
          "color": "green",
          "width": 3
         },
         "lon": [
          -117.207155,
          -117.211487
         ],
         "mode": "lines",
         "name": "fast",
         "showlegend": false,
         "subplot": "mapbox",
         "type": "scattermapbox"
        },
        {
         "customdata": [
          [
           "ML",
           23.466,
           181,
           "5S"
          ],
          [
           "ML",
           24.118,
           181,
           "5S"
          ],
          [
           "ML",
           25.739,
           181,
           "5S"
          ],
          [
           "ML",
           26.201,
           181,
           "5S"
          ],
          [
           "ML",
           26.621,
           181,
           "5S"
          ]
         ],
         "hovertemplate": "speed_cat=fast<br>linegroup=%{customdata[2]}<br>latitude=%{lat}<br>longitude=%{lon}<br>stype=%{customdata[0]}<br>abs_pm=%{customdata[1]}<br>fwdir=%{customdata[3]}<extra></extra>",
         "lat": [
          32.807702,
          32.815542,
          32.836089,
          32.842472,
          32.848532
         ],
         "legendgroup": "fast",
         "line": {
          "color": "green",
          "width": 3
         },
         "lon": [
          -117.216754,
          -117.222956,
          -117.234107,
          -117.23661,
          -117.235725
         ],
         "mode": "lines",
         "name": "fast",
         "showlegend": false,
         "subplot": "mapbox",
         "type": "scattermapbox"
        },
        {
         "customdata": [
          [
           "ML",
           28.355,
           183,
           "5S"
          ],
          [
           "ML",
           30.891,
           183,
           "5S"
          ],
          [
           "ML",
           31.136,
           183,
           "5S"
          ]
         ],
         "hovertemplate": "speed_cat=fast<br>linegroup=%{customdata[2]}<br>latitude=%{lat}<br>longitude=%{lon}<br>stype=%{customdata[0]}<br>abs_pm=%{customdata[1]}<br>fwdir=%{customdata[3]}<extra></extra>",
         "lat": [
          32.87259,
          32.908625,
          32.911761
         ],
         "legendgroup": "fast",
         "line": {
          "color": "green",
          "width": 3
         },
         "lon": [
          -117.229295,
          -117.22684,
          -117.228812
         ],
         "mode": "lines",
         "name": "fast",
         "showlegend": false,
         "subplot": "mapbox",
         "type": "scattermapbox"
        },
        {
         "customdata": [
          [
           "ML",
           31.517,
           185,
           "5S"
          ],
          [
           "ML",
           31.773,
           185,
           "5S"
          ]
         ],
         "hovertemplate": "speed_cat=fast<br>linegroup=%{customdata[2]}<br>latitude=%{lat}<br>longitude=%{lon}<br>stype=%{customdata[0]}<br>abs_pm=%{customdata[1]}<br>fwdir=%{customdata[3]}<extra></extra>",
         "lat": [
          32.91625,
          32.918796
         ],
         "legendgroup": "fast",
         "line": {
          "color": "green",
          "width": 3
         },
         "lon": [
          -117.232541,
          -117.235719
         ],
         "mode": "lines",
         "name": "fast",
         "showlegend": false,
         "subplot": "mapbox",
         "type": "scattermapbox"
        },
        {
         "customdata": [
          [
           "ML",
           54.858,
           199,
           "5S"
          ],
          [
           "ML",
           55.858,
           199,
           "5S"
          ]
         ],
         "hovertemplate": "speed_cat=fast<br>linegroup=%{customdata[2]}<br>latitude=%{lat}<br>longitude=%{lon}<br>stype=%{customdata[0]}<br>abs_pm=%{customdata[1]}<br>fwdir=%{customdata[3]}<extra></extra>",
         "lat": [
          33.218567,
          33.230196
         ],
         "legendgroup": "fast",
         "line": {
          "color": "green",
          "width": 3
         },
         "lon": [
          -117.391109,
          -117.400904
         ],
         "mode": "lines",
         "name": "fast",
         "showlegend": false,
         "subplot": "mapbox",
         "type": "scattermapbox"
        },
        {
         "customdata": [
          [
           "ML",
           56.858,
           201,
           "5S"
          ],
          [
           "ML",
           58.329,
           201,
           "5S"
          ],
          [
           "ML",
           60.429,
           201,
           "5S"
          ]
         ],
         "hovertemplate": "speed_cat=fast<br>linegroup=%{customdata[2]}<br>latitude=%{lat}<br>longitude=%{lon}<br>stype=%{customdata[0]}<br>abs_pm=%{customdata[1]}<br>fwdir=%{customdata[3]}<extra></extra>",
         "lat": [
          33.240152,
          33.257953,
          33.28144
         ],
         "legendgroup": "fast",
         "line": {
          "color": "green",
          "width": 3
         },
         "lon": [
          -117.413376,
          -117.426547,
          -117.449446
         ],
         "mode": "lines",
         "name": "fast",
         "showlegend": false,
         "subplot": "mapbox",
         "type": "scattermapbox"
        },
        {
         "customdata": [
          [
           "ML",
           13.336,
           208,
           "76E"
          ],
          [
           "ML",
           13.337,
           208,
           "76E"
          ]
         ],
         "hovertemplate": "speed_cat=fast<br>linegroup=%{customdata[2]}<br>latitude=%{lat}<br>longitude=%{lon}<br>stype=%{customdata[0]}<br>abs_pm=%{customdata[1]}<br>fwdir=%{customdata[3]}<extra></extra>",
         "lat": [
          33.303867,
          33.303877
         ],
         "legendgroup": "fast",
         "line": {
          "color": "green",
          "width": 3
         },
         "lon": [
          -117.213732,
          -117.21372
         ],
         "mode": "lines",
         "name": "fast",
         "showlegend": false,
         "subplot": "mapbox",
         "type": "scattermapbox"
        },
        {
         "customdata": [
          [
           "ML",
           9.184,
           210,
           "76W"
          ],
          [
           "ML",
           10.275,
           210,
           "76W"
          ]
         ],
         "hovertemplate": "speed_cat=fast<br>linegroup=%{customdata[2]}<br>latitude=%{lat}<br>longitude=%{lon}<br>stype=%{customdata[0]}<br>abs_pm=%{customdata[1]}<br>fwdir=%{customdata[3]}<extra></extra>",
         "lat": [
          33.254696,
          33.268486
         ],
         "legendgroup": "fast",
         "line": {
          "color": "green",
          "width": 3
         },
         "lon": [
          -117.241748,
          -117.236368
         ],
         "mode": "lines",
         "name": "fast",
         "showlegend": false,
         "subplot": "mapbox",
         "type": "scattermapbox"
        },
        {
         "customdata": [
          [
           "ML",
           13.336,
           213,
           "76W"
          ],
          [
           "ML",
           13.337,
           213,
           "76W"
          ],
          [
           "ML",
           17.411,
           213,
           "76W"
          ]
         ],
         "hovertemplate": "speed_cat=fast<br>linegroup=%{customdata[2]}<br>latitude=%{lat}<br>longitude=%{lon}<br>stype=%{customdata[0]}<br>abs_pm=%{customdata[1]}<br>fwdir=%{customdata[3]}<extra></extra>",
         "lat": [
          33.303867,
          33.303877,
          33.332408
         ],
         "legendgroup": "fast",
         "line": {
          "color": "green",
          "width": 3
         },
         "lon": [
          -117.213732,
          -117.21372,
          -117.157839
         ],
         "mode": "lines",
         "name": "fast",
         "showlegend": false,
         "subplot": "mapbox",
         "type": "scattermapbox"
        },
        {
         "customdata": [
          [
           "ML",
           0.321,
           232,
           "805N"
          ],
          [
           "ML",
           0.632,
           232,
           "805N"
          ],
          [
           "ML",
           0.965,
           232,
           "805N"
          ]
         ],
         "hovertemplate": "speed_cat=fast<br>linegroup=%{customdata[2]}<br>latitude=%{lat}<br>longitude=%{lon}<br>stype=%{customdata[0]}<br>abs_pm=%{customdata[1]}<br>fwdir=%{customdata[3]}<extra></extra>",
         "lat": [
          32.54945,
          32.553573,
          32.558315
         ],
         "legendgroup": "fast",
         "line": {
          "color": "green",
          "width": 3
         },
         "lon": [
          -117.039282,
          -117.041355,
          -117.042254
         ],
         "mode": "lines",
         "name": "fast",
         "showlegend": false,
         "subplot": "mapbox",
         "type": "scattermapbox"
        },
        {
         "customdata": [
          [
           "ML",
           2.375,
           235,
           "805N"
          ],
          [
           "ML",
           2.771,
           235,
           "805N"
          ]
         ],
         "hovertemplate": "speed_cat=fast<br>linegroup=%{customdata[2]}<br>latitude=%{lat}<br>longitude=%{lon}<br>stype=%{customdata[0]}<br>abs_pm=%{customdata[1]}<br>fwdir=%{customdata[3]}<extra></extra>",
         "lat": [
          32.578428,
          32.584089
         ],
         "legendgroup": "fast",
         "line": {
          "color": "green",
          "width": 3
         },
         "lon": [
          -117.038084,
          -117.036837
         ],
         "mode": "lines",
         "name": "fast",
         "showlegend": false,
         "subplot": "mapbox",
         "type": "scattermapbox"
        },
        {
         "customdata": [
          [
           "ML",
           9.828,
           240,
           "805N"
          ],
          [
           "ML",
           10.211,
           240,
           "805N"
          ]
         ],
         "hovertemplate": "speed_cat=fast<br>linegroup=%{customdata[2]}<br>latitude=%{lat}<br>longitude=%{lon}<br>stype=%{customdata[0]}<br>abs_pm=%{customdata[1]}<br>fwdir=%{customdata[3]}<extra></extra>",
         "lat": [
          32.672952,
          32.67811
         ],
         "legendgroup": "fast",
         "line": {
          "color": "green",
          "width": 3
         },
         "lon": [
          -117.082415,
          -117.084893
         ],
         "mode": "lines",
         "name": "fast",
         "showlegend": false,
         "subplot": "mapbox",
         "type": "scattermapbox"
        },
        {
         "customdata": [
          [
           "ML",
           0.631,
           252,
           "805S"
          ],
          [
           "ML",
           0.964,
           252,
           "805S"
          ]
         ],
         "hovertemplate": "speed_cat=fast<br>linegroup=%{customdata[2]}<br>latitude=%{lat}<br>longitude=%{lon}<br>stype=%{customdata[0]}<br>abs_pm=%{customdata[1]}<br>fwdir=%{customdata[3]}<extra></extra>",
         "lat": [
          32.553604,
          32.558345
         ],
         "legendgroup": "fast",
         "line": {
          "color": "green",
          "width": 3
         },
         "lon": [
          -117.041663,
          -117.042588
         ],
         "mode": "lines",
         "name": "fast",
         "showlegend": false,
         "subplot": "mapbox",
         "type": "scattermapbox"
        },
        {
         "customdata": [
          [
           "ML",
           2.884,
           276,
           "8E"
          ],
          [
           "ML",
           3.17,
           276,
           "8E"
          ],
          [
           "ML",
           3.409,
           276,
           "8E"
          ]
         ],
         "hovertemplate": "speed_cat=fast<br>linegroup=%{customdata[2]}<br>latitude=%{lat}<br>longitude=%{lon}<br>stype=%{customdata[0]}<br>abs_pm=%{customdata[1]}<br>fwdir=%{customdata[3]}<extra></extra>",
         "lat": [
          32.759721,
          32.759352,
          32.759211
         ],
         "legendgroup": "fast",
         "line": {
          "color": "green",
          "width": 3
         },
         "lon": [
          -117.188602,
          -117.183711,
          -117.179602
         ],
         "mode": "lines",
         "name": "fast",
         "showlegend": false,
         "subplot": "mapbox",
         "type": "scattermapbox"
        },
        {
         "customdata": [
          [
           "ML",
           3.962,
           278,
           "8E"
          ],
          [
           "ML",
           4.832,
           278,
           "8E"
          ],
          [
           "ML",
           5.03,
           278,
           "8E"
          ],
          [
           "ML",
           5.536,
           278,
           "8E"
          ]
         ],
         "hovertemplate": "speed_cat=fast<br>linegroup=%{customdata[2]}<br>latitude=%{lat}<br>longitude=%{lon}<br>stype=%{customdata[0]}<br>abs_pm=%{customdata[1]}<br>fwdir=%{customdata[3]}<extra></extra>",
         "lat": [
          32.760328,
          32.764658,
          32.765477,
          32.767848
         ],
         "legendgroup": "fast",
         "line": {
          "color": "green",
          "width": 3
         },
         "lon": [
          -117.170261,
          -117.156329,
          -117.153086,
          -117.1448
         ],
         "mode": "lines",
         "name": "fast",
         "showlegend": false,
         "subplot": "mapbox",
         "type": "scattermapbox"
        },
        {
         "customdata": [
          [
           "ML",
           5.975,
           280,
           "8E"
          ],
          [
           "ML",
           6.568,
           280,
           "8E"
          ]
         ],
         "hovertemplate": "speed_cat=fast<br>linegroup=%{customdata[2]}<br>latitude=%{lat}<br>longitude=%{lon}<br>stype=%{customdata[0]}<br>abs_pm=%{customdata[1]}<br>fwdir=%{customdata[3]}<extra></extra>",
         "lat": [
          32.770269,
          32.772891
         ],
         "legendgroup": "fast",
         "line": {
          "color": "green",
          "width": 3
         },
         "lon": [
          -117.137788,
          -117.128096
         ],
         "mode": "lines",
         "name": "fast",
         "showlegend": false,
         "subplot": "mapbox",
         "type": "scattermapbox"
        },
        {
         "customdata": [
          [
           "ML",
           9.509,
           283,
           "8E"
          ],
          [
           "ML",
           10.908,
           283,
           "8E"
          ]
         ],
         "hovertemplate": "speed_cat=fast<br>linegroup=%{customdata[2]}<br>latitude=%{lat}<br>longitude=%{lon}<br>stype=%{customdata[0]}<br>abs_pm=%{customdata[1]}<br>fwdir=%{customdata[3]}<extra></extra>",
         "lat": [
          32.779817,
          32.777453
         ],
         "legendgroup": "fast",
         "line": {
          "color": "green",
          "width": 3
         },
         "lon": [
          -117.079742,
          -117.056127
         ],
         "mode": "lines",
         "name": "fast",
         "showlegend": false,
         "subplot": "mapbox",
         "type": "scattermapbox"
        },
        {
         "customdata": [
          [
           "ML",
           2.228,
           288,
           "8W"
          ],
          [
           "ML",
           2.281,
           288,
           "8W"
          ],
          [
           "ML",
           3.453,
           288,
           "8W"
          ],
          [
           "ML",
           3.937,
           288,
           "8W"
          ],
          [
           "ML",
           3.965,
           288,
           "8W"
          ]
         ],
         "hovertemplate": "speed_cat=fast<br>linegroup=%{customdata[2]}<br>latitude=%{lat}<br>longitude=%{lon}<br>stype=%{customdata[0]}<br>abs_pm=%{customdata[1]}<br>fwdir=%{customdata[3]}<extra></extra>",
         "lat": [
          32.759919,
          32.760081,
          32.759396,
          32.760399,
          32.760506
         ],
         "legendgroup": "fast",
         "line": {
          "color": "green",
          "width": 3
         },
         "lon": [
          -117.199637,
          -117.19875,
          -117.178868,
          -117.170717,
          -117.170254
         ],
         "mode": "lines",
         "name": "fast",
         "showlegend": false,
         "subplot": "mapbox",
         "type": "scattermapbox"
        },
        {
         "customdata": [
          [
           "ML",
           5.017,
           290,
           "8W"
          ],
          [
           "ML",
           5.526,
           290,
           "8W"
          ]
         ],
         "hovertemplate": "speed_cat=fast<br>linegroup=%{customdata[2]}<br>latitude=%{lat}<br>longitude=%{lon}<br>stype=%{customdata[0]}<br>abs_pm=%{customdata[1]}<br>fwdir=%{customdata[3]}<extra></extra>",
         "lat": [
          32.765611,
          32.768025
         ],
         "legendgroup": "fast",
         "line": {
          "color": "green",
          "width": 3
         },
         "lon": [
          -117.153352,
          -117.145039
         ],
         "mode": "lines",
         "name": "fast",
         "showlegend": false,
         "subplot": "mapbox",
         "type": "scattermapbox"
        },
        {
         "customdata": [
          [
           "ML",
           5.977,
           292,
           "8W"
          ],
          [
           "ML",
           6.367,
           292,
           "8W"
          ]
         ],
         "hovertemplate": "speed_cat=fast<br>linegroup=%{customdata[2]}<br>latitude=%{lat}<br>longitude=%{lon}<br>stype=%{customdata[0]}<br>abs_pm=%{customdata[1]}<br>fwdir=%{customdata[3]}<extra></extra>",
         "lat": [
          32.77049,
          32.771975
         ],
         "legendgroup": "fast",
         "line": {
          "color": "green",
          "width": 3
         },
         "lon": [
          -117.137833,
          -117.13137
         ],
         "mode": "lines",
         "name": "fast",
         "showlegend": false,
         "subplot": "mapbox",
         "type": "scattermapbox"
        },
        {
         "customdata": [
          [
           "ML",
           6.568,
           294,
           "8W"
          ],
          [
           "ML",
           6.837,
           294,
           "8W"
          ]
         ],
         "hovertemplate": "speed_cat=fast<br>linegroup=%{customdata[2]}<br>latitude=%{lat}<br>longitude=%{lon}<br>stype=%{customdata[0]}<br>abs_pm=%{customdata[1]}<br>fwdir=%{customdata[3]}<extra></extra>",
         "lat": [
          32.773122,
          32.775258
         ],
         "legendgroup": "fast",
         "line": {
          "color": "green",
          "width": 3
         },
         "lon": [
          -117.128233,
          -117.124378
         ],
         "mode": "lines",
         "name": "fast",
         "showlegend": false,
         "subplot": "mapbox",
         "type": "scattermapbox"
        },
        {
         "customdata": [
          [
           "ML",
           7.048,
           296,
           "8W"
          ],
          [
           "ML",
           7.761,
           296,
           "8W"
          ]
         ],
         "hovertemplate": "speed_cat=fast<br>linegroup=%{customdata[2]}<br>latitude=%{lat}<br>longitude=%{lon}<br>stype=%{customdata[0]}<br>abs_pm=%{customdata[1]}<br>fwdir=%{customdata[3]}<extra></extra>",
         "lat": [
          32.777003,
          32.778744
         ],
         "legendgroup": "fast",
         "line": {
          "color": "green",
          "width": 3
         },
         "lon": [
          -117.121375,
          -117.10951
         ],
         "mode": "lines",
         "name": "fast",
         "showlegend": false,
         "subplot": "mapbox",
         "type": "scattermapbox"
        },
        {
         "customdata": [
          [
           "ML",
           10.898,
           298,
           "8W"
          ],
          [
           "ML",
           12.929,
           298,
           "8W"
          ]
         ],
         "hovertemplate": "speed_cat=fast<br>linegroup=%{customdata[2]}<br>latitude=%{lat}<br>longitude=%{lon}<br>stype=%{customdata[0]}<br>abs_pm=%{customdata[1]}<br>fwdir=%{customdata[3]}<extra></extra>",
         "lat": [
          32.777651,
          32.771107
         ],
         "legendgroup": "fast",
         "line": {
          "color": "green",
          "width": 3
         },
         "lon": [
          -117.056226,
          -117.023752
         ],
         "mode": "lines",
         "name": "fast",
         "showlegend": false,
         "subplot": "mapbox",
         "type": "scattermapbox"
        },
        {
         "customdata": [
          [
           "ML",
           13.581,
           300,
           "8W"
          ],
          [
           "ML",
           13.758,
           300,
           "8W"
          ]
         ],
         "hovertemplate": "speed_cat=fast<br>linegroup=%{customdata[2]}<br>latitude=%{lat}<br>longitude=%{lon}<br>stype=%{customdata[0]}<br>abs_pm=%{customdata[1]}<br>fwdir=%{customdata[3]}<extra></extra>",
         "lat": [
          32.774158,
          32.775159
         ],
         "legendgroup": "fast",
         "line": {
          "color": "green",
          "width": 3
         },
         "lon": [
          -117.013463,
          -117.010686
         ],
         "mode": "lines",
         "name": "fast",
         "showlegend": false,
         "subplot": "mapbox",
         "type": "scattermapbox"
        },
        {
         "customdata": [
          [
           "ML",
           14.112,
           302,
           "8W"
          ],
          [
           "ML",
           14.309,
           302,
           "8W"
          ]
         ],
         "hovertemplate": "speed_cat=fast<br>linegroup=%{customdata[2]}<br>latitude=%{lat}<br>longitude=%{lon}<br>stype=%{customdata[0]}<br>abs_pm=%{customdata[1]}<br>fwdir=%{customdata[3]}<extra></extra>",
         "lat": [
          32.77719,
          32.778547
         ],
         "legendgroup": "fast",
         "line": {
          "color": "green",
          "width": 3
         },
         "lon": [
          -117.005007,
          -117.002027
         ],
         "mode": "lines",
         "name": "fast",
         "showlegend": false,
         "subplot": "mapbox",
         "type": "scattermapbox"
        },
        {
         "customdata": [
          [
           "ML",
           14.362,
           304,
           "8W"
          ],
          [
           "ML",
           15.036,
           304,
           "8W"
          ]
         ],
         "hovertemplate": "speed_cat=fast<br>linegroup=%{customdata[2]}<br>latitude=%{lat}<br>longitude=%{lon}<br>stype=%{customdata[0]}<br>abs_pm=%{customdata[1]}<br>fwdir=%{customdata[3]}<extra></extra>",
         "lat": [
          32.778899,
          32.779188
         ],
         "legendgroup": "fast",
         "line": {
          "color": "green",
          "width": 3
         },
         "lon": [
          -117.001223,
          -116.989808
         ],
         "mode": "lines",
         "name": "fast",
         "showlegend": false,
         "subplot": "mapbox",
         "type": "scattermapbox"
        },
        {
         "customdata": [
          [
           "ML",
           3.691,
           313,
           "905E"
          ],
          [
           "ML",
           4.434,
           313,
           "905E"
          ]
         ],
         "hovertemplate": "speed_cat=fast<br>linegroup=%{customdata[2]}<br>latitude=%{lat}<br>longitude=%{lon}<br>stype=%{customdata[0]}<br>abs_pm=%{customdata[1]}<br>fwdir=%{customdata[3]}<extra></extra>",
         "lat": [
          32.566988,
          32.566314
         ],
         "legendgroup": "fast",
         "line": {
          "color": "green",
          "width": 3
         },
         "lon": [
          -117.017135,
          -117.004599
         ],
         "mode": "lines",
         "name": "fast",
         "showlegend": false,
         "subplot": "mapbox",
         "type": "scattermapbox"
        },
        {
         "customdata": [
          [
           "ML",
           8.491,
           317,
           "905W"
          ]
         ],
         "hovertemplate": "speed_cat=fast<br>linegroup=%{customdata[2]}<br>latitude=%{lat}<br>longitude=%{lon}<br>stype=%{customdata[0]}<br>abs_pm=%{customdata[1]}<br>fwdir=%{customdata[3]}<extra></extra>",
         "lat": [
          32.555743
         ],
         "legendgroup": "fast",
         "line": {
          "color": "green",
          "width": 3
         },
         "lon": [
          -116.939922
         ],
         "mode": "lines",
         "name": "fast",
         "showlegend": false,
         "subplot": "mapbox",
         "type": "scattermapbox"
        },
        {
         "customdata": [
          [
           "ML",
           0.825,
           319,
           "94E"
          ],
          [
           "ML",
           1.08,
           319,
           "94E"
          ],
          [
           "ML",
           1.215,
           319,
           "94E"
          ],
          [
           "ML",
           1.837,
           319,
           "94E"
          ],
          [
           "ML",
           2.565,
           319,
           "94E"
          ]
         ],
         "hovertemplate": "speed_cat=fast<br>linegroup=%{customdata[2]}<br>latitude=%{lat}<br>longitude=%{lon}<br>stype=%{customdata[0]}<br>abs_pm=%{customdata[1]}<br>fwdir=%{customdata[3]}<extra></extra>",
         "lat": [
          32.713119,
          32.713706,
          32.714326,
          32.71658,
          32.718627
         ],
         "legendgroup": "fast",
         "line": {
          "color": "green",
          "width": 3
         },
         "lon": [
          -117.133405,
          -117.129104,
          -117.126912,
          -117.11662,
          -117.104491
         ],
         "mode": "lines",
         "name": "fast",
         "showlegend": false,
         "subplot": "mapbox",
         "type": "scattermapbox"
        },
        {
         "customdata": [
          [
           "ML",
           2.764,
           321,
           "94E"
          ],
          [
           "ML",
           3.402,
           321,
           "94E"
          ]
         ],
         "hovertemplate": "speed_cat=fast<br>linegroup=%{customdata[2]}<br>latitude=%{lat}<br>longitude=%{lon}<br>stype=%{customdata[0]}<br>abs_pm=%{customdata[1]}<br>fwdir=%{customdata[3]}<extra></extra>",
         "lat": [
          32.718925,
          32.717692
         ],
         "legendgroup": "fast",
         "line": {
          "color": "green",
          "width": 3
         },
         "lon": [
          -117.101118,
          -117.090432
         ],
         "mode": "lines",
         "name": "fast",
         "showlegend": false,
         "subplot": "mapbox",
         "type": "scattermapbox"
        },
        {
         "customdata": [
          [
           "ML",
           3.744,
           323,
           "94E"
          ],
          [
           "ML",
           4.384,
           323,
           "94E"
          ]
         ],
         "hovertemplate": "speed_cat=fast<br>linegroup=%{customdata[2]}<br>latitude=%{lat}<br>longitude=%{lon}<br>stype=%{customdata[0]}<br>abs_pm=%{customdata[1]}<br>fwdir=%{customdata[3]}<extra></extra>",
         "lat": [
          32.71801,
          32.723666
         ],
         "legendgroup": "fast",
         "line": {
          "color": "green",
          "width": 3
         },
         "lon": [
          -117.08462,
          -117.076046
         ],
         "mode": "lines",
         "name": "fast",
         "showlegend": false,
         "subplot": "mapbox",
         "type": "scattermapbox"
        },
        {
         "customdata": [
          [
           "ML",
           0.456,
           326,
           "94W"
          ],
          [
           "ML",
           0.819,
           326,
           "94W"
          ]
         ],
         "hovertemplate": "speed_cat=fast<br>linegroup=%{customdata[2]}<br>latitude=%{lat}<br>longitude=%{lon}<br>stype=%{customdata[0]}<br>abs_pm=%{customdata[1]}<br>fwdir=%{customdata[3]}<extra></extra>",
         "lat": [
          32.713274,
          32.713318
         ],
         "legendgroup": "fast",
         "line": {
          "color": "green",
          "width": 3
         },
         "lon": [
          -117.140097,
          -117.134145
         ],
         "mode": "lines",
         "name": "fast",
         "showlegend": false,
         "subplot": "mapbox",
         "type": "scattermapbox"
        },
        {
         "customdata": [
          [
           "ML",
           1.844,
           330,
           "94W"
          ],
          [
           "ML",
           2.134,
           330,
           "94W"
          ]
         ],
         "hovertemplate": "speed_cat=fast<br>linegroup=%{customdata[2]}<br>latitude=%{lat}<br>longitude=%{lon}<br>stype=%{customdata[0]}<br>abs_pm=%{customdata[1]}<br>fwdir=%{customdata[3]}<extra></extra>",
         "lat": [
          32.717134,
          32.717909
         ],
         "legendgroup": "fast",
         "line": {
          "color": "green",
          "width": 3
         },
         "lon": [
          -117.117861,
          -117.113171
         ],
         "mode": "lines",
         "name": "fast",
         "showlegend": false,
         "subplot": "mapbox",
         "type": "scattermapbox"
        },
        {
         "customdata": [
          [
           "ML",
           2.564,
           332,
           "94W"
          ],
          [
           "ML",
           3.415,
           332,
           "94W"
          ]
         ],
         "hovertemplate": "speed_cat=fast<br>linegroup=%{customdata[2]}<br>latitude=%{lat}<br>longitude=%{lon}<br>stype=%{customdata[0]}<br>abs_pm=%{customdata[1]}<br>fwdir=%{customdata[3]}<extra></extra>",
         "lat": [
          32.718507,
          32.718104
         ],
         "legendgroup": "fast",
         "line": {
          "color": "green",
          "width": 3
         },
         "lon": [
          -117.106173,
          -117.092449
         ],
         "mode": "lines",
         "name": "fast",
         "showlegend": false,
         "subplot": "mapbox",
         "type": "scattermapbox"
        },
        {
         "customdata": [
          [
           "ML",
           8.611,
           334,
           "94W"
          ],
          [
           "ML",
           9.14,
           334,
           "94W"
          ]
         ],
         "hovertemplate": "speed_cat=fast<br>linegroup=%{customdata[2]}<br>latitude=%{lat}<br>longitude=%{lon}<br>stype=%{customdata[0]}<br>abs_pm=%{customdata[1]}<br>fwdir=%{customdata[3]}<extra></extra>",
         "lat": [
          32.748892,
          32.753919
         ],
         "legendgroup": "fast",
         "line": {
          "color": "green",
          "width": 3
         },
         "lon": [
          -117.017105,
          -117.010444
         ],
         "mode": "lines",
         "name": "fast",
         "showlegend": false,
         "subplot": "mapbox",
         "type": "scattermapbox"
        }
       ],
       "layout": {
        "height": 800,
        "legend": {
         "title": {
          "text": "speed_cat"
         },
         "tracegroupgap": 0
        },
        "mapbox": {
         "center": {
          "lat": 32.77,
          "lon": -117.16
         },
         "domain": {
          "x": [
           0,
           1
          ],
          "y": [
           0,
           1
          ]
         },
         "style": "stamen-terrain",
         "zoom": 12
        },
        "margin": {
         "t": 60
        },
        "template": {
         "data": {
          "bar": [
           {
            "error_x": {
             "color": "#f2f5fa"
            },
            "error_y": {
             "color": "#f2f5fa"
            },
            "marker": {
             "line": {
              "color": "rgb(17,17,17)",
              "width": 0.5
             }
            },
            "type": "bar"
           }
          ],
          "barpolar": [
           {
            "marker": {
             "line": {
              "color": "rgb(17,17,17)",
              "width": 0.5
             }
            },
            "type": "barpolar"
           }
          ],
          "carpet": [
           {
            "aaxis": {
             "endlinecolor": "#A2B1C6",
             "gridcolor": "#506784",
             "linecolor": "#506784",
             "minorgridcolor": "#506784",
             "startlinecolor": "#A2B1C6"
            },
            "baxis": {
             "endlinecolor": "#A2B1C6",
             "gridcolor": "#506784",
             "linecolor": "#506784",
             "minorgridcolor": "#506784",
             "startlinecolor": "#A2B1C6"
            },
            "type": "carpet"
           }
          ],
          "choropleth": [
           {
            "colorbar": {
             "outlinewidth": 0,
             "ticks": ""
            },
            "type": "choropleth"
           }
          ],
          "contour": [
           {
            "colorbar": {
             "outlinewidth": 0,
             "ticks": ""
            },
            "colorscale": [
             [
              0,
              "#0d0887"
             ],
             [
              0.1111111111111111,
              "#46039f"
             ],
             [
              0.2222222222222222,
              "#7201a8"
             ],
             [
              0.3333333333333333,
              "#9c179e"
             ],
             [
              0.4444444444444444,
              "#bd3786"
             ],
             [
              0.5555555555555556,
              "#d8576b"
             ],
             [
              0.6666666666666666,
              "#ed7953"
             ],
             [
              0.7777777777777778,
              "#fb9f3a"
             ],
             [
              0.8888888888888888,
              "#fdca26"
             ],
             [
              1,
              "#f0f921"
             ]
            ],
            "type": "contour"
           }
          ],
          "contourcarpet": [
           {
            "colorbar": {
             "outlinewidth": 0,
             "ticks": ""
            },
            "type": "contourcarpet"
           }
          ],
          "heatmap": [
           {
            "colorbar": {
             "outlinewidth": 0,
             "ticks": ""
            },
            "colorscale": [
             [
              0,
              "#0d0887"
             ],
             [
              0.1111111111111111,
              "#46039f"
             ],
             [
              0.2222222222222222,
              "#7201a8"
             ],
             [
              0.3333333333333333,
              "#9c179e"
             ],
             [
              0.4444444444444444,
              "#bd3786"
             ],
             [
              0.5555555555555556,
              "#d8576b"
             ],
             [
              0.6666666666666666,
              "#ed7953"
             ],
             [
              0.7777777777777778,
              "#fb9f3a"
             ],
             [
              0.8888888888888888,
              "#fdca26"
             ],
             [
              1,
              "#f0f921"
             ]
            ],
            "type": "heatmap"
           }
          ],
          "heatmapgl": [
           {
            "colorbar": {
             "outlinewidth": 0,
             "ticks": ""
            },
            "colorscale": [
             [
              0,
              "#0d0887"
             ],
             [
              0.1111111111111111,
              "#46039f"
             ],
             [
              0.2222222222222222,
              "#7201a8"
             ],
             [
              0.3333333333333333,
              "#9c179e"
             ],
             [
              0.4444444444444444,
              "#bd3786"
             ],
             [
              0.5555555555555556,
              "#d8576b"
             ],
             [
              0.6666666666666666,
              "#ed7953"
             ],
             [
              0.7777777777777778,
              "#fb9f3a"
             ],
             [
              0.8888888888888888,
              "#fdca26"
             ],
             [
              1,
              "#f0f921"
             ]
            ],
            "type": "heatmapgl"
           }
          ],
          "histogram": [
           {
            "marker": {
             "colorbar": {
              "outlinewidth": 0,
              "ticks": ""
             }
            },
            "type": "histogram"
           }
          ],
          "histogram2d": [
           {
            "colorbar": {
             "outlinewidth": 0,
             "ticks": ""
            },
            "colorscale": [
             [
              0,
              "#0d0887"
             ],
             [
              0.1111111111111111,
              "#46039f"
             ],
             [
              0.2222222222222222,
              "#7201a8"
             ],
             [
              0.3333333333333333,
              "#9c179e"
             ],
             [
              0.4444444444444444,
              "#bd3786"
             ],
             [
              0.5555555555555556,
              "#d8576b"
             ],
             [
              0.6666666666666666,
              "#ed7953"
             ],
             [
              0.7777777777777778,
              "#fb9f3a"
             ],
             [
              0.8888888888888888,
              "#fdca26"
             ],
             [
              1,
              "#f0f921"
             ]
            ],
            "type": "histogram2d"
           }
          ],
          "histogram2dcontour": [
           {
            "colorbar": {
             "outlinewidth": 0,
             "ticks": ""
            },
            "colorscale": [
             [
              0,
              "#0d0887"
             ],
             [
              0.1111111111111111,
              "#46039f"
             ],
             [
              0.2222222222222222,
              "#7201a8"
             ],
             [
              0.3333333333333333,
              "#9c179e"
             ],
             [
              0.4444444444444444,
              "#bd3786"
             ],
             [
              0.5555555555555556,
              "#d8576b"
             ],
             [
              0.6666666666666666,
              "#ed7953"
             ],
             [
              0.7777777777777778,
              "#fb9f3a"
             ],
             [
              0.8888888888888888,
              "#fdca26"
             ],
             [
              1,
              "#f0f921"
             ]
            ],
            "type": "histogram2dcontour"
           }
          ],
          "mesh3d": [
           {
            "colorbar": {
             "outlinewidth": 0,
             "ticks": ""
            },
            "type": "mesh3d"
           }
          ],
          "parcoords": [
           {
            "line": {
             "colorbar": {
              "outlinewidth": 0,
              "ticks": ""
             }
            },
            "type": "parcoords"
           }
          ],
          "pie": [
           {
            "automargin": true,
            "type": "pie"
           }
          ],
          "scatter": [
           {
            "marker": {
             "line": {
              "color": "#283442"
             }
            },
            "type": "scatter"
           }
          ],
          "scatter3d": [
           {
            "line": {
             "colorbar": {
              "outlinewidth": 0,
              "ticks": ""
             }
            },
            "marker": {
             "colorbar": {
              "outlinewidth": 0,
              "ticks": ""
             }
            },
            "type": "scatter3d"
           }
          ],
          "scattercarpet": [
           {
            "marker": {
             "colorbar": {
              "outlinewidth": 0,
              "ticks": ""
             }
            },
            "type": "scattercarpet"
           }
          ],
          "scattergeo": [
           {
            "marker": {
             "colorbar": {
              "outlinewidth": 0,
              "ticks": ""
             }
            },
            "type": "scattergeo"
           }
          ],
          "scattergl": [
           {
            "marker": {
             "line": {
              "color": "#283442"
             }
            },
            "type": "scattergl"
           }
          ],
          "scattermapbox": [
           {
            "marker": {
             "colorbar": {
              "outlinewidth": 0,
              "ticks": ""
             }
            },
            "type": "scattermapbox"
           }
          ],
          "scatterpolar": [
           {
            "marker": {
             "colorbar": {
              "outlinewidth": 0,
              "ticks": ""
             }
            },
            "type": "scatterpolar"
           }
          ],
          "scatterpolargl": [
           {
            "marker": {
             "colorbar": {
              "outlinewidth": 0,
              "ticks": ""
             }
            },
            "type": "scatterpolargl"
           }
          ],
          "scatterternary": [
           {
            "marker": {
             "colorbar": {
              "outlinewidth": 0,
              "ticks": ""
             }
            },
            "type": "scatterternary"
           }
          ],
          "surface": [
           {
            "colorbar": {
             "outlinewidth": 0,
             "ticks": ""
            },
            "colorscale": [
             [
              0,
              "#0d0887"
             ],
             [
              0.1111111111111111,
              "#46039f"
             ],
             [
              0.2222222222222222,
              "#7201a8"
             ],
             [
              0.3333333333333333,
              "#9c179e"
             ],
             [
              0.4444444444444444,
              "#bd3786"
             ],
             [
              0.5555555555555556,
              "#d8576b"
             ],
             [
              0.6666666666666666,
              "#ed7953"
             ],
             [
              0.7777777777777778,
              "#fb9f3a"
             ],
             [
              0.8888888888888888,
              "#fdca26"
             ],
             [
              1,
              "#f0f921"
             ]
            ],
            "type": "surface"
           }
          ],
          "table": [
           {
            "cells": {
             "fill": {
              "color": "#506784"
             },
             "line": {
              "color": "rgb(17,17,17)"
             }
            },
            "header": {
             "fill": {
              "color": "#2a3f5f"
             },
             "line": {
              "color": "rgb(17,17,17)"
             }
            },
            "type": "table"
           }
          ]
         },
         "layout": {
          "annotationdefaults": {
           "arrowcolor": "#f2f5fa",
           "arrowhead": 0,
           "arrowwidth": 1
          },
          "autotypenumbers": "strict",
          "coloraxis": {
           "colorbar": {
            "outlinewidth": 0,
            "ticks": ""
           }
          },
          "colorscale": {
           "diverging": [
            [
             0,
             "#8e0152"
            ],
            [
             0.1,
             "#c51b7d"
            ],
            [
             0.2,
             "#de77ae"
            ],
            [
             0.3,
             "#f1b6da"
            ],
            [
             0.4,
             "#fde0ef"
            ],
            [
             0.5,
             "#f7f7f7"
            ],
            [
             0.6,
             "#e6f5d0"
            ],
            [
             0.7,
             "#b8e186"
            ],
            [
             0.8,
             "#7fbc41"
            ],
            [
             0.9,
             "#4d9221"
            ],
            [
             1,
             "#276419"
            ]
           ],
           "sequential": [
            [
             0,
             "#0d0887"
            ],
            [
             0.1111111111111111,
             "#46039f"
            ],
            [
             0.2222222222222222,
             "#7201a8"
            ],
            [
             0.3333333333333333,
             "#9c179e"
            ],
            [
             0.4444444444444444,
             "#bd3786"
            ],
            [
             0.5555555555555556,
             "#d8576b"
            ],
            [
             0.6666666666666666,
             "#ed7953"
            ],
            [
             0.7777777777777778,
             "#fb9f3a"
            ],
            [
             0.8888888888888888,
             "#fdca26"
            ],
            [
             1,
             "#f0f921"
            ]
           ],
           "sequentialminus": [
            [
             0,
             "#0d0887"
            ],
            [
             0.1111111111111111,
             "#46039f"
            ],
            [
             0.2222222222222222,
             "#7201a8"
            ],
            [
             0.3333333333333333,
             "#9c179e"
            ],
            [
             0.4444444444444444,
             "#bd3786"
            ],
            [
             0.5555555555555556,
             "#d8576b"
            ],
            [
             0.6666666666666666,
             "#ed7953"
            ],
            [
             0.7777777777777778,
             "#fb9f3a"
            ],
            [
             0.8888888888888888,
             "#fdca26"
            ],
            [
             1,
             "#f0f921"
            ]
           ]
          },
          "colorway": [
           "#636efa",
           "#EF553B",
           "#00cc96",
           "#ab63fa",
           "#FFA15A",
           "#19d3f3",
           "#FF6692",
           "#B6E880",
           "#FF97FF",
           "#FECB52"
          ],
          "font": {
           "color": "#f2f5fa"
          },
          "geo": {
           "bgcolor": "rgb(17,17,17)",
           "lakecolor": "rgb(17,17,17)",
           "landcolor": "rgb(17,17,17)",
           "showlakes": true,
           "showland": true,
           "subunitcolor": "#506784"
          },
          "hoverlabel": {
           "align": "left"
          },
          "hovermode": "closest",
          "mapbox": {
           "style": "dark"
          },
          "paper_bgcolor": "rgb(17,17,17)",
          "plot_bgcolor": "rgb(17,17,17)",
          "polar": {
           "angularaxis": {
            "gridcolor": "#506784",
            "linecolor": "#506784",
            "ticks": ""
           },
           "bgcolor": "rgb(17,17,17)",
           "radialaxis": {
            "gridcolor": "#506784",
            "linecolor": "#506784",
            "ticks": ""
           }
          },
          "scene": {
           "xaxis": {
            "backgroundcolor": "rgb(17,17,17)",
            "gridcolor": "#506784",
            "gridwidth": 2,
            "linecolor": "#506784",
            "showbackground": true,
            "ticks": "",
            "zerolinecolor": "#C8D4E3"
           },
           "yaxis": {
            "backgroundcolor": "rgb(17,17,17)",
            "gridcolor": "#506784",
            "gridwidth": 2,
            "linecolor": "#506784",
            "showbackground": true,
            "ticks": "",
            "zerolinecolor": "#C8D4E3"
           },
           "zaxis": {
            "backgroundcolor": "rgb(17,17,17)",
            "gridcolor": "#506784",
            "gridwidth": 2,
            "linecolor": "#506784",
            "showbackground": true,
            "ticks": "",
            "zerolinecolor": "#C8D4E3"
           }
          },
          "shapedefaults": {
           "line": {
            "color": "#f2f5fa"
           }
          },
          "sliderdefaults": {
           "bgcolor": "#C8D4E3",
           "bordercolor": "rgb(17,17,17)",
           "borderwidth": 1,
           "tickwidth": 0
          },
          "ternary": {
           "aaxis": {
            "gridcolor": "#506784",
            "linecolor": "#506784",
            "ticks": ""
           },
           "baxis": {
            "gridcolor": "#506784",
            "linecolor": "#506784",
            "ticks": ""
           },
           "bgcolor": "rgb(17,17,17)",
           "caxis": {
            "gridcolor": "#506784",
            "linecolor": "#506784",
            "ticks": ""
           }
          },
          "title": {
           "x": 0.05
          },
          "updatemenudefaults": {
           "bgcolor": "#506784",
           "borderwidth": 0
          },
          "xaxis": {
           "automargin": true,
           "gridcolor": "#283442",
           "linecolor": "#506784",
           "ticks": "",
           "title": {
            "standoff": 15
           },
           "zerolinecolor": "#283442",
           "zerolinewidth": 2
          },
          "yaxis": {
           "automargin": true,
           "gridcolor": "#283442",
           "linecolor": "#506784",
           "ticks": "",
           "title": {
            "standoff": 15
           },
           "zerolinecolor": "#283442",
           "zerolinewidth": 2
          }
         }
        },
        "width": 800
       }
      },
      "text/html": [
       "<div>                            <div id=\"7ca76fd6-c505-4436-83ed-034e0d8600c2\" class=\"plotly-graph-div\" style=\"height:800px; width:800px;\"></div>            <script type=\"text/javascript\">                require([\"plotly\"], function(Plotly) {                    window.PLOTLYENV=window.PLOTLYENV || {};                                    if (document.getElementById(\"7ca76fd6-c505-4436-83ed-034e0d8600c2\")) {                    Plotly.newPlot(                        \"7ca76fd6-c505-4436-83ed-034e0d8600c2\",                        [{\"customdata\": [[\"ML\", 0.304, 0, \"11E\"]], \"hovertemplate\": \"speed_cat=stopped<br>linegroup=%{customdata[2]}<br>latitude=%{lat}<br>longitude=%{lon}<br>stype=%{customdata[0]}<br>abs_pm=%{customdata[1]}<br>fwdir=%{customdata[3]}<extra></extra>\", \"lat\": [32.563648], \"legendgroup\": \"stopped\", \"line\": {\"color\": \"#FFA15A\", \"width\": 3}, \"lon\": [-116.949472], \"mode\": \"lines\", \"name\": \"stopped\", \"showlegend\": true, \"subplot\": \"mapbox\", \"type\": \"scattermapbox\"}, {\"customdata\": [[\"ML\", 15.373, 7, \"125N\"], [\"ML\", 16.965, 7, \"125N\"], [\"ML\", 16.967, 7, \"125N\"], [\"ML\", 17.535, 7, \"125N\"]], \"hovertemplate\": \"speed_cat=stopped<br>linegroup=%{customdata[2]}<br>latitude=%{lat}<br>longitude=%{lon}<br>stype=%{customdata[0]}<br>abs_pm=%{customdata[1]}<br>fwdir=%{customdata[3]}<extra></extra>\", \"lat\": [32.754424, 32.774754, 32.774782, 32.782757], \"legendgroup\": \"stopped\", \"line\": {\"color\": \"#FFA15A\", \"width\": 3}, \"lon\": [-117.01021, -117.002675, -117.002684, -117.005102], \"mode\": \"lines\", \"name\": \"stopped\", \"showlegend\": false, \"subplot\": \"mapbox\", \"type\": \"scattermapbox\"}, {\"customdata\": [[\"ML\", 17.418, 17, \"125S\"], [\"ML\", 17.628, 17, \"125S\"], [\"ML\", 19.283, 17, \"125S\"]], \"hovertemplate\": \"speed_cat=stopped<br>linegroup=%{customdata[2]}<br>latitude=%{lat}<br>longitude=%{lon}<br>stype=%{customdata[0]}<br>abs_pm=%{customdata[1]}<br>fwdir=%{customdata[3]}<extra></extra>\", \"lat\": [32.759045, 32.761402, 32.784849], \"legendgroup\": \"stopped\", \"line\": {\"color\": \"#FFA15A\", \"width\": 3}, \"lon\": [-117.005049, -117.002806, -117.0061], \"mode\": \"lines\", \"name\": \"stopped\", \"showlegend\": false, \"subplot\": \"mapbox\", \"type\": \"scattermapbox\"}, {\"customdata\": [[\"ML\", 3.76, 52, \"15S\"], [\"ML\", 4.144, 52, \"15S\"]], \"hovertemplate\": \"speed_cat=stopped<br>linegroup=%{customdata[2]}<br>latitude=%{lat}<br>longitude=%{lon}<br>stype=%{customdata[0]}<br>abs_pm=%{customdata[1]}<br>fwdir=%{customdata[3]}<extra></extra>\", \"lat\": [32.74312, 32.748042], \"legendgroup\": \"stopped\", \"line\": {\"color\": \"#FFA15A\", \"width\": 3}, \"lon\": [-117.111361, -117.109034], \"mode\": \"lines\", \"name\": \"stopped\", \"showlegend\": false, \"subplot\": \"mapbox\", \"type\": \"scattermapbox\"}, {\"customdata\": [[\"ML\", 9.367, 56, \"15S\"], [\"ML\", 9.737, 56, \"15S\"], [\"ML\", 10.122, 56, \"15S\"], [\"ML\", 10.803, 56, \"15S\"]], \"hovertemplate\": \"speed_cat=stopped<br>linegroup=%{customdata[2]}<br>latitude=%{lat}<br>longitude=%{lon}<br>stype=%{customdata[0]}<br>abs_pm=%{customdata[1]}<br>fwdir=%{customdata[3]}<extra></extra>\", \"lat\": [32.822271, 32.827529, 32.832989, 32.842604], \"legendgroup\": \"stopped\", \"line\": {\"color\": \"#FFA15A\", \"width\": 3}, \"lon\": [-117.116575, -117.117732, -117.118962, -117.120583], \"mode\": \"lines\", \"name\": \"stopped\", \"showlegend\": false, \"subplot\": \"mapbox\", \"type\": \"scattermapbox\"}, {\"customdata\": [[\"ML\", 1.941, 73, \"163N\"], [\"ML\", 2.289, 73, \"163N\"]], \"hovertemplate\": \"speed_cat=stopped<br>linegroup=%{customdata[2]}<br>latitude=%{lat}<br>longitude=%{lon}<br>stype=%{customdata[0]}<br>abs_pm=%{customdata[1]}<br>fwdir=%{customdata[3]}<extra></extra>\", \"lat\": [32.746749, 32.7516], \"legendgroup\": \"stopped\", \"line\": {\"color\": \"#FFA15A\", \"width\": 3}, \"lon\": [-117.156312, -117.155806], \"mode\": \"lines\", \"name\": \"stopped\", \"showlegend\": false, \"subplot\": \"mapbox\", \"type\": \"scattermapbox\"}, {\"customdata\": [[\"ML\", 9.327, 107, \"56E\"]], \"hovertemplate\": \"speed_cat=stopped<br>linegroup=%{customdata[2]}<br>latitude=%{lat}<br>longitude=%{lon}<br>stype=%{customdata[0]}<br>abs_pm=%{customdata[1]}<br>fwdir=%{customdata[3]}<extra></extra>\", \"lat\": [32.962525], \"legendgroup\": \"stopped\", \"line\": {\"color\": \"#FFA15A\", \"width\": 3}, \"lon\": [-117.101272], \"mode\": \"lines\", \"name\": \"stopped\", \"showlegend\": false, \"subplot\": \"mapbox\", \"type\": \"scattermapbox\"}, {\"customdata\": [[\"ML\", 49.416, 149, \"5N\"], [\"ML\", 50.342, 149, \"5N\"]], \"hovertemplate\": \"speed_cat=stopped<br>linegroup=%{customdata[2]}<br>latitude=%{lat}<br>longitude=%{lon}<br>stype=%{customdata[0]}<br>abs_pm=%{customdata[1]}<br>fwdir=%{customdata[3]}<extra></extra>\", \"lat\": [33.155404, 33.167741], \"legendgroup\": \"stopped\", \"line\": {\"color\": \"#FFA15A\", \"width\": 3}, \"lon\": [-117.338099, -117.344387], \"mode\": \"lines\", \"name\": \"stopped\", \"showlegend\": false, \"subplot\": \"mapbox\", \"type\": \"scattermapbox\"}, {\"customdata\": [[\"ML\", 51.327, 151, \"5N\"], [\"ML\", 52.299, 151, \"5N\"]], \"hovertemplate\": \"speed_cat=stopped<br>linegroup=%{customdata[2]}<br>latitude=%{lat}<br>longitude=%{lon}<br>stype=%{customdata[0]}<br>abs_pm=%{customdata[1]}<br>fwdir=%{customdata[3]}<extra></extra>\", \"lat\": [33.179859, 33.191415], \"legendgroup\": \"stopped\", \"line\": {\"color\": \"#FFA15A\", \"width\": 3}, \"lon\": [-117.353416, -117.363042], \"mode\": \"lines\", \"name\": \"stopped\", \"showlegend\": false, \"subplot\": \"mapbox\", \"type\": \"scattermapbox\"}, {\"customdata\": [[\"ML\", 10.796, 164, \"5S\"], [\"ML\", 11.178, 164, \"5S\"], [\"ML\", 11.848, 164, \"5S\"], [\"ML\", 12.113, 164, \"5S\"], [\"ML\", 12.748, 164, \"5S\"]], \"hovertemplate\": \"speed_cat=stopped<br>linegroup=%{customdata[2]}<br>latitude=%{lat}<br>longitude=%{lon}<br>stype=%{customdata[0]}<br>abs_pm=%{customdata[1]}<br>fwdir=%{customdata[3]}<extra></extra>\", \"lat\": [32.671761, 32.67696, 32.686001, 32.688779, 32.694108], \"legendgroup\": \"stopped\", \"line\": {\"color\": \"#FFA15A\", \"width\": 3}, \"lon\": [-117.111234, -117.109463, -117.113072, -117.116159, -117.124841], \"mode\": \"lines\", \"name\": \"stopped\", \"showlegend\": false, \"subplot\": \"mapbox\", \"type\": \"scattermapbox\"}, {\"customdata\": [[\"ML\", 13.022, 166, \"5S\"], [\"ML\", 13.372, 166, \"5S\"]], \"hovertemplate\": \"speed_cat=stopped<br>linegroup=%{customdata[2]}<br>latitude=%{lat}<br>longitude=%{lon}<br>stype=%{customdata[0]}<br>abs_pm=%{customdata[1]}<br>fwdir=%{customdata[3]}<extra></extra>\", \"lat\": [32.694358, 32.69574], \"legendgroup\": \"stopped\", \"line\": {\"color\": \"#FFA15A\", \"width\": 3}, \"lon\": [-117.129467, -117.135196], \"mode\": \"lines\", \"name\": \"stopped\", \"showlegend\": false, \"subplot\": \"mapbox\", \"type\": \"scattermapbox\"}, {\"customdata\": [[\"ML\", 43.643, 192, \"5S\"], [\"ML\", 44.559, 192, \"5S\"]], \"hovertemplate\": \"speed_cat=stopped<br>linegroup=%{customdata[2]}<br>latitude=%{lat}<br>longitude=%{lon}<br>stype=%{customdata[0]}<br>abs_pm=%{customdata[1]}<br>fwdir=%{customdata[3]}<extra></extra>\", \"lat\": [33.080188, 33.092248], \"legendgroup\": \"stopped\", \"line\": {\"color\": \"#FFA15A\", \"width\": 3}, \"lon\": [-117.296877, -117.303383], \"mode\": \"lines\", \"name\": \"stopped\", \"showlegend\": false, \"subplot\": \"mapbox\", \"type\": \"scattermapbox\"}, {\"customdata\": [[\"ML\", 12.151, 212, \"76W\"], [\"ML\", 13.336, 212, \"76W\"]], \"hovertemplate\": \"speed_cat=stopped<br>linegroup=%{customdata[2]}<br>latitude=%{lat}<br>longitude=%{lon}<br>stype=%{customdata[0]}<br>abs_pm=%{customdata[1]}<br>fwdir=%{customdata[3]}<extra></extra>\", \"lat\": [33.290782, 33.303867], \"legendgroup\": \"stopped\", \"line\": {\"color\": \"#FFA15A\", \"width\": 3}, \"lon\": [-117.225513, -117.213732], \"mode\": \"lines\", \"name\": \"stopped\", \"showlegend\": false, \"subplot\": \"mapbox\", \"type\": \"scattermapbox\"}, {\"customdata\": [[\"ML\", 12.27, 221, \"78E\"], [\"ML\", 13.018, 221, \"78E\"], [\"ML\", 14.856, 221, \"78E\"], [\"ML\", 15.592, 221, \"78E\"]], \"hovertemplate\": \"speed_cat=stopped<br>linegroup=%{customdata[2]}<br>latitude=%{lat}<br>longitude=%{lon}<br>stype=%{customdata[0]}<br>abs_pm=%{customdata[1]}<br>fwdir=%{customdata[3]}<extra></extra>\", \"lat\": [33.137072, 33.137161, 33.135093, 33.131243], \"legendgroup\": \"stopped\", \"line\": {\"color\": \"#FFA15A\", \"width\": 3}, \"lon\": [-117.17436, -117.161693, -117.131488, -117.119739], \"mode\": \"lines\", \"name\": \"stopped\", \"showlegend\": false, \"subplot\": \"mapbox\", \"type\": \"scattermapbox\"}, {\"customdata\": [[\"ML\", 14.858, 229, \"78W\"], [\"ML\", 15.366, 229, \"78W\"], [\"ML\", 15.911, 229, \"78W\"], [\"ML\", 16.263, 229, \"78W\"], [\"ML\", 17.279, 229, \"78W\"]], \"hovertemplate\": \"speed_cat=stopped<br>linegroup=%{customdata[2]}<br>latitude=%{lat}<br>longitude=%{lon}<br>stype=%{customdata[0]}<br>abs_pm=%{customdata[1]}<br>fwdir=%{customdata[3]}<extra></extra>\", \"lat\": [33.135241, 33.132967, 33.12936, 33.127065, 33.130825], \"legendgroup\": \"stopped\", \"line\": {\"color\": \"#FFA15A\", \"width\": 3}, \"lon\": [-117.13142, -117.123177, -117.114803, -117.109382, -117.092776], \"mode\": \"lines\", \"name\": \"stopped\", \"showlegend\": false, \"subplot\": \"mapbox\", \"type\": \"scattermapbox\"}, {\"customdata\": [[\"ML\", 7.606, 238, \"805N\"], [\"ML\", 9.095, 238, \"805N\"]], \"hovertemplate\": \"speed_cat=stopped<br>linegroup=%{customdata[2]}<br>latitude=%{lat}<br>longitude=%{lon}<br>stype=%{customdata[0]}<br>abs_pm=%{customdata[1]}<br>fwdir=%{customdata[3]}<extra></extra>\", \"lat\": [32.647835, 32.6631], \"legendgroup\": \"stopped\", \"line\": {\"color\": \"#FFA15A\", \"width\": 3}, \"lon\": [-117.060693, -117.078485], \"mode\": \"lines\", \"name\": \"stopped\", \"showlegend\": false, \"subplot\": \"mapbox\", \"type\": \"scattermapbox\"}, {\"customdata\": [[\"ML\", 6.591, 255, \"805S\"], [\"ML\", 6.933, 255, \"805S\"]], \"hovertemplate\": \"speed_cat=stopped<br>linegroup=%{customdata[2]}<br>latitude=%{lat}<br>longitude=%{lon}<br>stype=%{customdata[0]}<br>abs_pm=%{customdata[1]}<br>fwdir=%{customdata[3]}<extra></extra>\", \"lat\": [32.636725, 32.639609], \"legendgroup\": \"stopped\", \"line\": {\"color\": \"#FFA15A\", \"width\": 3}, \"lon\": [-117.049889, -117.054617], \"mode\": \"lines\", \"name\": \"stopped\", \"showlegend\": false, \"subplot\": \"mapbox\", \"type\": \"scattermapbox\"}, {\"customdata\": [[\"ML\", 7.594, 257, \"805S\"], [\"ML\", 8.293, 257, \"805S\"]], \"hovertemplate\": \"speed_cat=stopped<br>linegroup=%{customdata[2]}<br>latitude=%{lat}<br>longitude=%{lon}<br>stype=%{customdata[0]}<br>abs_pm=%{customdata[1]}<br>fwdir=%{customdata[3]}<extra></extra>\", \"lat\": [32.647524, 32.653505], \"legendgroup\": \"stopped\", \"line\": {\"color\": \"#FFA15A\", \"width\": 3}, \"lon\": [-117.060767, -117.070333], \"mode\": \"lines\", \"name\": \"stopped\", \"showlegend\": false, \"subplot\": \"mapbox\", \"type\": \"scattermapbox\"}, {\"customdata\": [[\"ML\", 24.285, 273, \"805S\"], [\"ML\", 25.1, 273, \"805S\"], [\"ML\", 25.79, 273, \"805S\"], [\"ML\", 26.251, 273, \"805S\"], [\"ML\", 26.802, 273, \"805S\"]], \"hovertemplate\": \"speed_cat=stopped<br>linegroup=%{customdata[2]}<br>latitude=%{lat}<br>longitude=%{lon}<br>stype=%{customdata[0]}<br>abs_pm=%{customdata[1]}<br>fwdir=%{customdata[3]}<extra></extra>\", \"lat\": [32.857504, 32.8671, 32.875201, 32.881653, 32.889107], \"legendgroup\": \"stopped\", \"line\": {\"color\": \"#FFA15A\", \"width\": 3}, \"lon\": [-117.184358, -117.192516, -117.199467, -117.201619, -117.204927], \"mode\": \"lines\", \"name\": \"stopped\", \"showlegend\": false, \"subplot\": \"mapbox\", \"type\": \"scattermapbox\"}, {\"customdata\": [[\"ML\", 0.135, 1, \"11W\"], [\"ML\", 0.53, 1, \"11W\"], [\"ML\", 0.8, 1, \"11W\"]], \"hovertemplate\": \"speed_cat=slow<br>linegroup=%{customdata[2]}<br>latitude=%{lat}<br>longitude=%{lon}<br>stype=%{customdata[0]}<br>abs_pm=%{customdata[1]}<br>fwdir=%{customdata[3]}<extra></extra>\", \"lat\": [32.564398, 32.564077, 32.564034], \"legendgroup\": \"slow\", \"line\": {\"color\": \"red\", \"width\": 3}, \"lon\": [-116.949606, -116.942823, -116.938179], \"mode\": \"lines\", \"name\": \"slow\", \"showlegend\": true, \"subplot\": \"mapbox\", \"type\": \"scattermapbox\"}, {\"customdata\": [[\"ML\", 12.51, 4, \"125N\"], [\"ML\", 13.126, 4, \"125N\"], [\"ML\", 13.545, 4, \"125N\"]], \"hovertemplate\": \"speed_cat=slow<br>linegroup=%{customdata[2]}<br>latitude=%{lat}<br>longitude=%{lon}<br>stype=%{customdata[0]}<br>abs_pm=%{customdata[1]}<br>fwdir=%{customdata[3]}<extra></extra>\", \"lat\": [32.716131, 32.725198, 32.731085], \"legendgroup\": \"slow\", \"line\": {\"color\": \"red\", \"width\": 3}, \"lon\": [-117.014296, -117.01447, -117.015062], \"mode\": \"lines\", \"name\": \"slow\", \"showlegend\": false, \"subplot\": \"mapbox\", \"type\": \"scattermapbox\"}, {\"customdata\": [[\"ML\", 13.934, 6, \"125N\"], [\"ML\", 15.373, 6, \"125N\"]], \"hovertemplate\": \"speed_cat=slow<br>linegroup=%{customdata[2]}<br>latitude=%{lat}<br>longitude=%{lon}<br>stype=%{customdata[0]}<br>abs_pm=%{customdata[1]}<br>fwdir=%{customdata[3]}<extra></extra>\", \"lat\": [32.736686, 32.754424], \"legendgroup\": \"slow\", \"line\": {\"color\": \"red\", \"width\": 3}, \"lon\": [-117.015668, -117.01021], \"mode\": \"lines\", \"name\": \"slow\", \"showlegend\": false, \"subplot\": \"mapbox\", \"type\": \"scattermapbox\"}, {\"customdata\": [[\"ML\", 13.604, 13, \"125S\"], [\"ML\", 15.317, 13, \"125S\"]], \"hovertemplate\": \"speed_cat=slow<br>linegroup=%{customdata[2]}<br>latitude=%{lat}<br>longitude=%{lon}<br>stype=%{customdata[0]}<br>abs_pm=%{customdata[1]}<br>fwdir=%{customdata[3]}<extra></extra>\", \"lat\": [32.720013, 32.741488], \"legendgroup\": \"slow\", \"line\": {\"color\": \"red\", \"width\": 3}, \"lon\": [-117.014848, -117.016541], \"mode\": \"lines\", \"name\": \"slow\", \"showlegend\": false, \"subplot\": \"mapbox\", \"type\": \"scattermapbox\"}, {\"customdata\": [[\"ML\", 15.669, 15, \"125S\"], [\"ML\", 16.382, 15, \"125S\"]], \"hovertemplate\": \"speed_cat=slow<br>linegroup=%{customdata[2]}<br>latitude=%{lat}<br>longitude=%{lon}<br>stype=%{customdata[0]}<br>abs_pm=%{customdata[1]}<br>fwdir=%{customdata[3]}<extra></extra>\", \"lat\": [32.744963, 32.749839], \"legendgroup\": \"slow\", \"line\": {\"color\": \"red\", \"width\": 3}, \"lon\": [-117.018519, -117.016252], \"mode\": \"lines\", \"name\": \"slow\", \"showlegend\": false, \"subplot\": \"mapbox\", \"type\": \"scattermapbox\"}, {\"customdata\": [[\"ML\", 1.066, 22, \"15N\"], [\"ML\", 1.829, 22, \"15N\"]], \"hovertemplate\": \"speed_cat=slow<br>linegroup=%{customdata[2]}<br>latitude=%{lat}<br>longitude=%{lon}<br>stype=%{customdata[0]}<br>abs_pm=%{customdata[1]}<br>fwdir=%{customdata[3]}<extra></extra>\", \"lat\": [32.705882, 32.716837], \"legendgroup\": \"slow\", \"line\": {\"color\": \"red\", \"width\": 3}, \"lon\": [-117.120433, -117.117751], \"mode\": \"lines\", \"name\": \"slow\", \"showlegend\": false, \"subplot\": \"mapbox\", \"type\": \"scattermapbox\"}, {\"customdata\": [[\"ML\", 15.64, 32, \"15N\"], [\"ML\", 16.199, 32, \"15N\"]], \"hovertemplate\": \"speed_cat=slow<br>linegroup=%{customdata[2]}<br>latitude=%{lat}<br>longitude=%{lon}<br>stype=%{customdata[0]}<br>abs_pm=%{customdata[1]}<br>fwdir=%{customdata[3]}<extra></extra>\", \"lat\": [32.908922, 32.917072], \"legendgroup\": \"slow\", \"line\": {\"color\": \"red\", \"width\": 3}, \"lon\": [-117.116195, -117.115831], \"mode\": \"lines\", \"name\": \"slow\", \"showlegend\": false, \"subplot\": \"mapbox\", \"type\": \"scattermapbox\"}, {\"customdata\": [[\"ML\", 18.819, 34, \"15N\"], [\"ML\", 19.704, 34, \"15N\"]], \"hovertemplate\": \"speed_cat=slow<br>linegroup=%{customdata[2]}<br>latitude=%{lat}<br>longitude=%{lon}<br>stype=%{customdata[0]}<br>abs_pm=%{customdata[1]}<br>fwdir=%{customdata[3]}<extra></extra>\", \"lat\": [32.952937, 32.964306], \"legendgroup\": \"slow\", \"line\": {\"color\": \"red\", \"width\": 3}, \"lon\": [-117.102548, -117.095374], \"mode\": \"lines\", \"name\": \"slow\", \"showlegend\": false, \"subplot\": \"mapbox\", \"type\": \"scattermapbox\"}, {\"customdata\": [[\"ML\", 21.832, 36, \"15N\"], [\"ML\", 22.301, 36, \"15N\"]], \"hovertemplate\": \"speed_cat=slow<br>linegroup=%{customdata[2]}<br>latitude=%{lat}<br>longitude=%{lon}<br>stype=%{customdata[0]}<br>abs_pm=%{customdata[1]}<br>fwdir=%{customdata[3]}<extra></extra>\", \"lat\": [32.992706, 32.999461], \"legendgroup\": \"slow\", \"line\": {\"color\": \"red\", \"width\": 3}, \"lon\": [-117.083408, -117.082451], \"mode\": \"lines\", \"name\": \"slow\", \"showlegend\": false, \"subplot\": \"mapbox\", \"type\": \"scattermapbox\"}, {\"customdata\": [[\"ML\", 23.28, 38, \"15N\"], [\"ML\", 23.561, 38, \"15N\"]], \"hovertemplate\": \"speed_cat=slow<br>linegroup=%{customdata[2]}<br>latitude=%{lat}<br>longitude=%{lon}<br>stype=%{customdata[0]}<br>abs_pm=%{customdata[1]}<br>fwdir=%{customdata[3]}<extra></extra>\", \"lat\": [33.013247, 33.017302], \"legendgroup\": \"slow\", \"line\": {\"color\": \"red\", \"width\": 3}, \"lon\": [-117.079485, -117.079039], \"mode\": \"lines\", \"name\": \"slow\", \"showlegend\": false, \"subplot\": \"mapbox\", \"type\": \"scattermapbox\"}, {\"customdata\": [[\"ML\", 25.893, 40, \"15N\"], [\"ML\", 25.893, 40, \"15N\"]], \"hovertemplate\": \"speed_cat=slow<br>linegroup=%{customdata[2]}<br>latitude=%{lat}<br>longitude=%{lon}<br>stype=%{customdata[0]}<br>abs_pm=%{customdata[1]}<br>fwdir=%{customdata[3]}<extra></extra>\", \"lat\": [33.0503, 33.0503], \"legendgroup\": \"slow\", \"line\": {\"color\": \"red\", \"width\": 3}, \"lon\": [-117.072669, -117.072669], \"mode\": \"lines\", \"name\": \"slow\", \"showlegend\": false, \"subplot\": \"mapbox\", \"type\": \"scattermapbox\"}, {\"customdata\": [[\"ML\", 27.138, 42, \"15N\"], [\"ML\", 28.525, 42, \"15N\"], [\"ML\", 29.081, 42, \"15N\"]], \"hovertemplate\": \"speed_cat=slow<br>linegroup=%{customdata[2]}<br>latitude=%{lat}<br>longitude=%{lon}<br>stype=%{customdata[0]}<br>abs_pm=%{customdata[1]}<br>fwdir=%{customdata[3]}<extra></extra>\", \"lat\": [33.067915, 33.086753, 33.092857], \"legendgroup\": \"slow\", \"line\": {\"color\": \"red\", \"width\": 3}, \"lon\": [-117.069049, -117.076377, -117.082787], \"mode\": \"lines\", \"name\": \"slow\", \"showlegend\": false, \"subplot\": \"mapbox\", \"type\": \"scattermapbox\"}, {\"customdata\": [[\"ML\", 29.755, 44, \"15N\"], [\"ML\", 30.469, 44, \"15N\"], [\"ML\", 30.976, 44, \"15N\"], [\"ML\", 31.653, 44, \"15N\"]], \"hovertemplate\": \"speed_cat=slow<br>linegroup=%{customdata[2]}<br>latitude=%{lat}<br>longitude=%{lon}<br>stype=%{customdata[0]}<br>abs_pm=%{customdata[1]}<br>fwdir=%{customdata[3]}<extra></extra>\", \"lat\": [33.100535, 33.109772, 33.116398, 33.125282], \"legendgroup\": \"slow\", \"line\": {\"color\": \"red\", \"width\": 3}, \"lon\": [-117.090041, -117.095518, -117.099391, -117.104135], \"mode\": \"lines\", \"name\": \"slow\", \"showlegend\": false, \"subplot\": \"mapbox\", \"type\": \"scattermapbox\"}, {\"customdata\": [[\"ML\", 0.723, 48, \"15S\"], [\"ML\", 1.703, 48, \"15S\"]], \"hovertemplate\": \"speed_cat=slow<br>linegroup=%{customdata[2]}<br>latitude=%{lat}<br>longitude=%{lon}<br>stype=%{customdata[0]}<br>abs_pm=%{customdata[1]}<br>fwdir=%{customdata[3]}<extra></extra>\", \"lat\": [32.701146, 32.715149], \"legendgroup\": \"slow\", \"line\": {\"color\": \"red\", \"width\": 3}, \"lon\": [-117.120937, -117.117869], \"mode\": \"lines\", \"name\": \"slow\", \"showlegend\": false, \"subplot\": \"mapbox\", \"type\": \"scattermapbox\"}, {\"customdata\": [[\"ML\", 2.294, 50, \"15S\"], [\"ML\", 3.049, 50, \"15S\"]], \"hovertemplate\": \"speed_cat=slow<br>linegroup=%{customdata[2]}<br>latitude=%{lat}<br>longitude=%{lon}<br>stype=%{customdata[0]}<br>abs_pm=%{customdata[1]}<br>fwdir=%{customdata[3]}<extra></extra>\", \"lat\": [32.723273, 32.733539], \"legendgroup\": \"slow\", \"line\": {\"color\": \"red\", \"width\": 3}, \"lon\": [-117.115525, -117.11215], \"mode\": \"lines\", \"name\": \"slow\", \"showlegend\": false, \"subplot\": \"mapbox\", \"type\": \"scattermapbox\"}, {\"customdata\": [[\"ML\", 4.144, 53, \"15S\"], [\"ML\", 4.591, 53, \"15S\"]], \"hovertemplate\": \"speed_cat=slow<br>linegroup=%{customdata[2]}<br>latitude=%{lat}<br>longitude=%{lon}<br>stype=%{customdata[0]}<br>abs_pm=%{customdata[1]}<br>fwdir=%{customdata[3]}<extra></extra>\", \"lat\": [32.748042, 32.754476], \"legendgroup\": \"slow\", \"line\": {\"color\": \"red\", \"width\": 3}, \"lon\": [-117.109034, -117.108977], \"mode\": \"lines\", \"name\": \"slow\", \"showlegend\": false, \"subplot\": \"mapbox\", \"type\": \"scattermapbox\"}, {\"customdata\": [[\"ML\", 7.842, 55, \"15S\"], [\"ML\", 8.032, 55, \"15S\"], [\"ML\", 8.507, 55, \"15S\"], [\"ML\", 8.833, 55, \"15S\"], [\"ML\", 9.367, 55, \"15S\"]], \"hovertemplate\": \"speed_cat=slow<br>linegroup=%{customdata[2]}<br>latitude=%{lat}<br>longitude=%{lon}<br>stype=%{customdata[0]}<br>abs_pm=%{customdata[1]}<br>fwdir=%{customdata[3]}<extra></extra>\", \"lat\": [32.800345, 32.803081, 32.809906, 32.814606, 32.822271], \"legendgroup\": \"slow\", \"line\": {\"color\": \"red\", \"width\": 3}, \"lon\": [-117.112825, -117.113175, -117.114188, -117.114981, -117.116575], \"mode\": \"lines\", \"name\": \"slow\", \"showlegend\": false, \"subplot\": \"mapbox\", \"type\": \"scattermapbox\"}, {\"customdata\": [[\"ML\", 15.629, 61, \"15S\"], [\"ML\", 16.211, 61, \"15S\"]], \"hovertemplate\": \"speed_cat=slow<br>linegroup=%{customdata[2]}<br>latitude=%{lat}<br>longitude=%{lon}<br>stype=%{customdata[0]}<br>abs_pm=%{customdata[1]}<br>fwdir=%{customdata[3]}<extra></extra>\", \"lat\": [32.908916, 32.917445], \"legendgroup\": \"slow\", \"line\": {\"color\": \"red\", \"width\": 3}, \"lon\": [-117.116587, -117.116153], \"mode\": \"lines\", \"name\": \"slow\", \"showlegend\": false, \"subplot\": \"mapbox\", \"type\": \"scattermapbox\"}, {\"customdata\": [[\"ML\", 21.298, 65, \"15S\"], [\"ML\", 21.818, 65, \"15S\"], [\"ML\", 22.073, 65, \"15S\"]], \"hovertemplate\": \"speed_cat=slow<br>linegroup=%{customdata[2]}<br>latitude=%{lat}<br>longitude=%{lon}<br>stype=%{customdata[0]}<br>abs_pm=%{customdata[1]}<br>fwdir=%{customdata[3]}<extra></extra>\", \"lat\": [32.985192, 32.992818, 32.996577], \"legendgroup\": \"slow\", \"line\": {\"color\": \"red\", \"width\": 3}, \"lon\": [-117.083216, -117.083901, -117.083687], \"mode\": \"lines\", \"name\": \"slow\", \"showlegend\": false, \"subplot\": \"mapbox\", \"type\": \"scattermapbox\"}, {\"customdata\": [[\"ML\", 23.108, 67, \"15S\"], [\"ML\", 23.552, 67, \"15S\"]], \"hovertemplate\": \"speed_cat=slow<br>linegroup=%{customdata[2]}<br>latitude=%{lat}<br>longitude=%{lon}<br>stype=%{customdata[0]}<br>abs_pm=%{customdata[1]}<br>fwdir=%{customdata[3]}<extra></extra>\", \"lat\": [33.010949, 33.017337], \"legendgroup\": \"slow\", \"line\": {\"color\": \"red\", \"width\": 3}, \"lon\": [-117.08016, -117.079473], \"mode\": \"lines\", \"name\": \"slow\", \"showlegend\": false, \"subplot\": \"mapbox\", \"type\": \"scattermapbox\"}, {\"customdata\": [[\"ML\", 28.087, 69, \"15S\"], [\"ML\", 28.516, 69, \"15S\"], [\"ML\", 28.868, 69, \"15S\"], [\"ML\", 30.217, 69, \"15S\"], [\"ML\", 30.955, 69, \"15S\"]], \"hovertemplate\": \"speed_cat=slow<br>linegroup=%{customdata[2]}<br>latitude=%{lat}<br>longitude=%{lon}<br>stype=%{customdata[0]}<br>abs_pm=%{customdata[1]}<br>fwdir=%{customdata[3]}<extra></extra>\", \"lat\": [33.08147, 33.086691, 33.090473, 33.106484, 33.116146], \"legendgroup\": \"slow\", \"line\": {\"color\": \"red\", \"width\": 3}, \"lon\": [-117.072744, -117.076716, -117.080791, -117.093924, -117.099574], \"mode\": \"lines\", \"name\": \"slow\", \"showlegend\": false, \"subplot\": \"mapbox\", \"type\": \"scattermapbox\"}, {\"customdata\": [[\"ML\", 1.892, 78, \"163S\"], [\"ML\", 2.101, 78, \"163S\"]], \"hovertemplate\": \"speed_cat=slow<br>linegroup=%{customdata[2]}<br>latitude=%{lat}<br>longitude=%{lon}<br>stype=%{customdata[0]}<br>abs_pm=%{customdata[1]}<br>fwdir=%{customdata[3]}<extra></extra>\", \"lat\": [32.746765, 32.749679], \"legendgroup\": \"slow\", \"line\": {\"color\": \"red\", \"width\": 3}, \"lon\": [-117.156512, -117.155519], \"mode\": \"lines\", \"name\": \"slow\", \"showlegend\": false, \"subplot\": \"mapbox\", \"type\": \"scattermapbox\"}, {\"customdata\": [[\"ML\", 11.401, 88, \"52E\"], [\"ML\", 11.65, 88, \"52E\"]], \"hovertemplate\": \"speed_cat=slow<br>linegroup=%{customdata[2]}<br>latitude=%{lat}<br>longitude=%{lon}<br>stype=%{customdata[0]}<br>abs_pm=%{customdata[1]}<br>fwdir=%{customdata[3]}<extra></extra>\", \"lat\": [32.853811, 32.853151], \"legendgroup\": \"slow\", \"line\": {\"color\": \"red\", \"width\": 3}, \"lon\": [-117.055777, -117.051554], \"mode\": \"lines\", \"name\": \"slow\", \"showlegend\": false, \"subplot\": \"mapbox\", \"type\": \"scattermapbox\"}, {\"customdata\": [[\"ML\", 12.401, 90, \"52E\"], [\"ML\", 12.921, 90, \"52E\"]], \"hovertemplate\": \"speed_cat=slow<br>linegroup=%{customdata[2]}<br>latitude=%{lat}<br>longitude=%{lon}<br>stype=%{customdata[0]}<br>abs_pm=%{customdata[1]}<br>fwdir=%{customdata[3]}<extra></extra>\", \"lat\": [32.851233, 32.848883], \"legendgroup\": \"slow\", \"line\": {\"color\": \"red\", \"width\": 3}, \"lon\": [-117.038885, -117.030492], \"mode\": \"lines\", \"name\": \"slow\", \"showlegend\": false, \"subplot\": \"mapbox\", \"type\": \"scattermapbox\"}, {\"customdata\": [[\"ML\", 13.402, 92, \"52E\"], [\"ML\", 14.25, 92, \"52E\"]], \"hovertemplate\": \"speed_cat=slow<br>linegroup=%{customdata[2]}<br>latitude=%{lat}<br>longitude=%{lon}<br>stype=%{customdata[0]}<br>abs_pm=%{customdata[1]}<br>fwdir=%{customdata[3]}<extra></extra>\", \"lat\": [32.84345, 32.835925], \"legendgroup\": \"slow\", \"line\": {\"color\": \"red\", \"width\": 3}, \"lon\": [-117.025624, -117.015497], \"mode\": \"lines\", \"name\": \"slow\", \"showlegend\": false, \"subplot\": \"mapbox\", \"type\": \"scattermapbox\"}, {\"customdata\": [[\"ML\", 5.025, 100, \"54E\"]], \"hovertemplate\": \"speed_cat=slow<br>linegroup=%{customdata[2]}<br>latitude=%{lat}<br>longitude=%{lon}<br>stype=%{customdata[0]}<br>abs_pm=%{customdata[1]}<br>fwdir=%{customdata[3]}<extra></extra>\", \"lat\": [32.682203], \"legendgroup\": \"slow\", \"line\": {\"color\": \"red\", \"width\": 3}, \"lon\": [-117.029012], \"mode\": \"lines\", \"name\": \"slow\", \"showlegend\": false, \"subplot\": \"mapbox\", \"type\": \"scattermapbox\"}, {\"customdata\": [[\"ML\", 2.965, 101, \"54W\"], [\"ML\", 4.036, 101, \"54W\"]], \"hovertemplate\": \"speed_cat=slow<br>linegroup=%{customdata[2]}<br>latitude=%{lat}<br>longitude=%{lon}<br>stype=%{customdata[0]}<br>abs_pm=%{customdata[1]}<br>fwdir=%{customdata[3]}<extra></extra>\", \"lat\": [32.664368, 32.671672], \"legendgroup\": \"slow\", \"line\": {\"color\": \"red\", \"width\": 3}, \"lon\": [-117.057402, -117.041389], \"mode\": \"lines\", \"name\": \"slow\", \"showlegend\": false, \"subplot\": \"mapbox\", \"type\": \"scattermapbox\"}, {\"customdata\": [[\"ML\", 1.4, 105, \"56E\"], [\"ML\", 1.891, 105, \"56E\"]], \"hovertemplate\": \"speed_cat=slow<br>linegroup=%{customdata[2]}<br>latitude=%{lat}<br>longitude=%{lon}<br>stype=%{customdata[0]}<br>abs_pm=%{customdata[1]}<br>fwdir=%{customdata[3]}<extra></extra>\", \"lat\": [32.940727, 32.944548], \"legendgroup\": \"slow\", \"line\": {\"color\": \"red\", \"width\": 3}, \"lon\": [-117.220084, -117.21295], \"mode\": \"lines\", \"name\": \"slow\", \"showlegend\": false, \"subplot\": \"mapbox\", \"type\": \"scattermapbox\"}, {\"customdata\": [[\"ML\", 0.881, 108, \"56W\"], [\"ML\", 1.289, 108, \"56W\"]], \"hovertemplate\": \"speed_cat=slow<br>linegroup=%{customdata[2]}<br>latitude=%{lat}<br>longitude=%{lon}<br>stype=%{customdata[0]}<br>abs_pm=%{customdata[1]}<br>fwdir=%{customdata[3]}<extra></extra>\", \"lat\": [32.937679, 32.940106], \"legendgroup\": \"slow\", \"line\": {\"color\": \"red\", \"width\": 3}, \"lon\": [-117.228154, -117.221888], \"mode\": \"lines\", \"name\": \"slow\", \"showlegend\": false, \"subplot\": \"mapbox\", \"type\": \"scattermapbox\"}, {\"customdata\": [[\"ML\", 12.114, 121, \"5N\"], [\"ML\", 12.747, 121, \"5N\"]], \"hovertemplate\": \"speed_cat=slow<br>linegroup=%{customdata[2]}<br>latitude=%{lat}<br>longitude=%{lon}<br>stype=%{customdata[0]}<br>abs_pm=%{customdata[1]}<br>fwdir=%{customdata[3]}<extra></extra>\", \"lat\": [32.688981, 32.694337], \"legendgroup\": \"slow\", \"line\": {\"color\": \"red\", \"width\": 3}, \"lon\": [-117.115932, -117.124759], \"mode\": \"lines\", \"name\": \"slow\", \"showlegend\": false, \"subplot\": \"mapbox\", \"type\": \"scattermapbox\"}, {\"customdata\": [[\"ML\", 14.417, 125, \"5N\"], [\"ML\", 14.857, 125, \"5N\"]], \"hovertemplate\": \"speed_cat=slow<br>linegroup=%{customdata[2]}<br>latitude=%{lat}<br>longitude=%{lon}<br>stype=%{customdata[0]}<br>abs_pm=%{customdata[1]}<br>fwdir=%{customdata[3]}<extra></extra>\", \"lat\": [32.706216, 32.712599], \"legendgroup\": \"slow\", \"line\": {\"color\": \"red\", \"width\": 3}, \"lon\": [-117.147448, -117.147532], \"mode\": \"lines\", \"name\": \"slow\", \"showlegend\": false, \"subplot\": \"mapbox\", \"type\": \"scattermapbox\"}, {\"customdata\": [[\"ML\", 15.231, 127, \"5N\"], [\"ML\", 15.663, 127, \"5N\"]], \"hovertemplate\": \"speed_cat=slow<br>linegroup=%{customdata[2]}<br>latitude=%{lat}<br>longitude=%{lon}<br>stype=%{customdata[0]}<br>abs_pm=%{customdata[1]}<br>fwdir=%{customdata[3]}<extra></extra>\", \"lat\": [32.718046, 32.723648], \"legendgroup\": \"slow\", \"line\": {\"color\": \"red\", \"width\": 3}, \"lon\": [-117.147616, -117.150497], \"mode\": \"lines\", \"name\": \"slow\", \"showlegend\": false, \"subplot\": \"mapbox\", \"type\": \"scattermapbox\"}, {\"customdata\": [[\"ML\", 21.367, 132, \"5N\"], [\"ML\", 21.974, 132, \"5N\"], [\"ML\", 22.215, 132, \"5N\"]], \"hovertemplate\": \"speed_cat=slow<br>linegroup=%{customdata[2]}<br>latitude=%{lat}<br>longitude=%{lon}<br>stype=%{customdata[0]}<br>abs_pm=%{customdata[1]}<br>fwdir=%{customdata[3]}<extra></extra>\", \"lat\": [32.779349, 32.788076, 32.79154], \"legendgroup\": \"slow\", \"line\": {\"color\": \"red\", \"width\": 3}, \"lon\": [-117.208332, -117.2069, -117.20716], \"mode\": \"lines\", \"name\": \"slow\", \"showlegend\": false, \"subplot\": \"mapbox\", \"type\": \"scattermapbox\"}, {\"customdata\": [[\"ML\", 36.123, 140, \"5N\"], [\"ML\", 36.719, 140, \"5N\"], [\"ML\", 37.261, 140, \"5N\"], [\"ML\", 37.971, 140, \"5N\"]], \"hovertemplate\": \"speed_cat=slow<br>linegroup=%{customdata[2]}<br>latitude=%{lat}<br>longitude=%{lon}<br>stype=%{customdata[0]}<br>abs_pm=%{customdata[1]}<br>fwdir=%{customdata[3]}<extra></extra>\", \"lat\": [32.979357, 32.987715, 32.995494, 33.00551], \"legendgroup\": \"slow\", \"line\": {\"color\": \"red\", \"width\": 3}, \"lon\": [-117.252719, -117.255119, -117.25635, -117.25907], \"mode\": \"lines\", \"name\": \"slow\", \"showlegend\": false, \"subplot\": \"mapbox\", \"type\": \"scattermapbox\"}, {\"customdata\": [[\"ML\", 39.091, 142, \"5N\"], [\"ML\", 39.793, 142, \"5N\"]], \"hovertemplate\": \"speed_cat=slow<br>linegroup=%{customdata[2]}<br>latitude=%{lat}<br>longitude=%{lon}<br>stype=%{customdata[0]}<br>abs_pm=%{customdata[1]}<br>fwdir=%{customdata[3]}<extra></extra>\", \"lat\": [33.017612, 33.027309], \"legendgroup\": \"slow\", \"line\": {\"color\": \"red\", \"width\": 3}, \"lon\": [-117.27184, -117.275242], \"mode\": \"lines\", \"name\": \"slow\", \"showlegend\": false, \"subplot\": \"mapbox\", \"type\": \"scattermapbox\"}, {\"customdata\": [[\"ML\", 41.922, 144, \"5N\"], [\"ML\", 42.571, 144, \"5N\"], [\"ML\", 43.191, 144, \"5N\"], [\"ML\", 44.101, 144, \"5N\"]], \"hovertemplate\": \"speed_cat=slow<br>linegroup=%{customdata[2]}<br>latitude=%{lat}<br>longitude=%{lon}<br>stype=%{customdata[0]}<br>abs_pm=%{customdata[1]}<br>fwdir=%{customdata[3]}<extra></extra>\", \"lat\": [33.055577, 33.064668, 33.073419, 33.086077], \"legendgroup\": \"slow\", \"line\": {\"color\": \"red\", \"width\": 3}, \"lon\": [-117.289125, -117.291997, -117.294587, -117.299048], \"mode\": \"lines\", \"name\": \"slow\", \"showlegend\": false, \"subplot\": \"mapbox\", \"type\": \"scattermapbox\"}, {\"customdata\": [[\"ML\", 44.591, 146, \"5N\"], [\"ML\", 45.473, 146, \"5N\"]], \"hovertemplate\": \"speed_cat=slow<br>linegroup=%{customdata[2]}<br>latitude=%{lat}<br>longitude=%{lon}<br>stype=%{customdata[0]}<br>abs_pm=%{customdata[1]}<br>fwdir=%{customdata[3]}<extra></extra>\", \"lat\": [33.09232, 33.103602], \"legendgroup\": \"slow\", \"line\": {\"color\": \"red\", \"width\": 3}, \"lon\": [-117.303146, -117.310425], \"mode\": \"lines\", \"name\": \"slow\", \"showlegend\": false, \"subplot\": \"mapbox\", \"type\": \"scattermapbox\"}, {\"customdata\": [[\"ML\", 46.436, 148, \"5N\"], [\"ML\", 47.056, 148, \"5N\"], [\"ML\", 47.995, 148, \"5N\"], [\"ML\", 48.491, 148, \"5N\"], [\"ML\", 49.416, 148, \"5N\"]], \"hovertemplate\": \"speed_cat=slow<br>linegroup=%{customdata[2]}<br>latitude=%{lat}<br>longitude=%{lon}<br>stype=%{customdata[0]}<br>abs_pm=%{customdata[1]}<br>fwdir=%{customdata[3]}<extra></extra>\", \"lat\": [33.115949, 33.12394, 33.136145, 33.142807, 33.155404], \"legendgroup\": \"slow\", \"line\": {\"color\": \"red\", \"width\": 3}, \"lon\": [-117.31811, -117.32296, -117.330076, -117.333209, -117.338099], \"mode\": \"lines\", \"name\": \"slow\", \"showlegend\": false, \"subplot\": \"mapbox\", \"type\": \"scattermapbox\"}, {\"customdata\": [[\"ML\", 50.342, 150, \"5N\"], [\"ML\", 50.791, 150, \"5N\"], [\"ML\", 51.327, 150, \"5N\"]], \"hovertemplate\": \"speed_cat=slow<br>linegroup=%{customdata[2]}<br>latitude=%{lat}<br>longitude=%{lon}<br>stype=%{customdata[0]}<br>abs_pm=%{customdata[1]}<br>fwdir=%{customdata[3]}<extra></extra>\", \"lat\": [33.167741, 33.173355, 33.179859], \"legendgroup\": \"slow\", \"line\": {\"color\": \"red\", \"width\": 3}, \"lon\": [-117.344387, -117.348324, -117.353416], \"mode\": \"lines\", \"name\": \"slow\", \"showlegend\": false, \"subplot\": \"mapbox\", \"type\": \"scattermapbox\"}, {\"customdata\": [[\"ML\", 52.299, 152, \"5N\"], [\"ML\", 53.188, 152, \"5N\"]], \"hovertemplate\": \"speed_cat=slow<br>linegroup=%{customdata[2]}<br>latitude=%{lat}<br>longitude=%{lon}<br>stype=%{customdata[0]}<br>abs_pm=%{customdata[1]}<br>fwdir=%{customdata[3]}<extra></extra>\", \"lat\": [33.191415, 33.200816], \"legendgroup\": \"slow\", \"line\": {\"color\": \"red\", \"width\": 3}, \"lon\": [-117.363042, -117.373244], \"mode\": \"lines\", \"name\": \"slow\", \"showlegend\": false, \"subplot\": \"mapbox\", \"type\": \"scattermapbox\"}, {\"customdata\": [[\"ML\", 5.324, 160, \"5S\"], [\"ML\", 5.324, 160, \"5S\"]], \"hovertemplate\": \"speed_cat=slow<br>linegroup=%{customdata[2]}<br>latitude=%{lat}<br>longitude=%{lon}<br>stype=%{customdata[0]}<br>abs_pm=%{customdata[1]}<br>fwdir=%{customdata[3]}<extra></extra>\", \"lat\": [32.59507, 32.59507], \"legendgroup\": \"slow\", \"line\": {\"color\": \"red\", \"width\": 3}, \"lon\": [-117.088901, -117.088901], \"mode\": \"lines\", \"name\": \"slow\", \"showlegend\": false, \"subplot\": \"mapbox\", \"type\": \"scattermapbox\"}, {\"customdata\": [[\"ML\", 7.201, 162, \"5S\"], [\"ML\", 7.819, 162, \"5S\"], [\"ML\", 9.898, 162, \"5S\"]], \"hovertemplate\": \"speed_cat=slow<br>linegroup=%{customdata[2]}<br>latitude=%{lat}<br>longitude=%{lon}<br>stype=%{customdata[0]}<br>abs_pm=%{customdata[1]}<br>fwdir=%{customdata[3]}<extra></extra>\", \"lat\": [32.621946, 32.630458, 32.658893], \"legendgroup\": \"slow\", \"line\": {\"color\": \"red\", \"width\": 3}, \"lon\": [-117.093171, -117.096492, -117.107675], \"mode\": \"lines\", \"name\": \"slow\", \"showlegend\": false, \"subplot\": \"mapbox\", \"type\": \"scattermapbox\"}, {\"customdata\": [[\"ML\", 12.748, 165, \"5S\"], [\"ML\", 13.022, 165, \"5S\"]], \"hovertemplate\": \"speed_cat=slow<br>linegroup=%{customdata[2]}<br>latitude=%{lat}<br>longitude=%{lon}<br>stype=%{customdata[0]}<br>abs_pm=%{customdata[1]}<br>fwdir=%{customdata[3]}<extra></extra>\", \"lat\": [32.694108, 32.694358], \"legendgroup\": \"slow\", \"line\": {\"color\": \"red\", \"width\": 3}, \"lon\": [-117.124841, -117.129467], \"mode\": \"lines\", \"name\": \"slow\", \"showlegend\": false, \"subplot\": \"mapbox\", \"type\": \"scattermapbox\"}, {\"customdata\": [[\"ML\", 13.372, 167, \"5S\"], [\"ML\", 14.416, 167, \"5S\"]], \"hovertemplate\": \"speed_cat=slow<br>linegroup=%{customdata[2]}<br>latitude=%{lat}<br>longitude=%{lon}<br>stype=%{customdata[0]}<br>abs_pm=%{customdata[1]}<br>fwdir=%{customdata[3]}<extra></extra>\", \"lat\": [32.69574, 32.7062], \"legendgroup\": \"slow\", \"line\": {\"color\": \"red\", \"width\": 3}, \"lon\": [-117.135196, -117.147722], \"mode\": \"lines\", \"name\": \"slow\", \"showlegend\": false, \"subplot\": \"mapbox\", \"type\": \"scattermapbox\"}, {\"customdata\": [[\"ML\", 14.856, 169, \"5S\"], [\"ML\", 15.23, 169, \"5S\"], [\"ML\", 15.698, 169, \"5S\"]], \"hovertemplate\": \"speed_cat=slow<br>linegroup=%{customdata[2]}<br>latitude=%{lat}<br>longitude=%{lon}<br>stype=%{customdata[0]}<br>abs_pm=%{customdata[1]}<br>fwdir=%{customdata[3]}<extra></extra>\", \"lat\": [32.712581, 32.718001, 32.723795], \"legendgroup\": \"slow\", \"line\": {\"color\": \"red\", \"width\": 3}, \"lon\": [-117.147751, -117.147844, -117.151061], \"mode\": \"lines\", \"name\": \"slow\", \"showlegend\": false, \"subplot\": \"mapbox\", \"type\": \"scattermapbox\"}, {\"customdata\": [[\"ML\", 16.001, 171, \"5S\"], [\"ML\", 16.666, 171, \"5S\"]], \"hovertemplate\": \"speed_cat=slow<br>linegroup=%{customdata[2]}<br>latitude=%{lat}<br>longitude=%{lon}<br>stype=%{customdata[0]}<br>abs_pm=%{customdata[1]}<br>fwdir=%{customdata[3]}<extra></extra>\", \"lat\": [32.723898, 32.725281], \"legendgroup\": \"slow\", \"line\": {\"color\": \"red\", \"width\": 3}, \"lon\": [-117.156068, -117.166084], \"mode\": \"lines\", \"name\": \"slow\", \"showlegend\": false, \"subplot\": \"mapbox\", \"type\": \"scattermapbox\"}, {\"customdata\": [[\"ML\", 17.572, 175, \"5S\"], [\"ML\", 18.05, 175, \"5S\"]], \"hovertemplate\": \"speed_cat=slow<br>linegroup=%{customdata[2]}<br>latitude=%{lat}<br>longitude=%{lon}<br>stype=%{customdata[0]}<br>abs_pm=%{customdata[1]}<br>fwdir=%{customdata[3]}<extra></extra>\", \"lat\": [32.735815, 32.741281], \"legendgroup\": \"slow\", \"line\": {\"color\": \"red\", \"width\": 3}, \"lon\": [-117.175452, -117.180454], \"mode\": \"lines\", \"name\": \"slow\", \"showlegend\": false, \"subplot\": \"mapbox\", \"type\": \"scattermapbox\"}, {\"customdata\": [[\"ML\", 34.169, 187, \"5S\"], [\"ML\", 35.108, 187, \"5S\"]], \"hovertemplate\": \"speed_cat=slow<br>linegroup=%{customdata[2]}<br>latitude=%{lat}<br>longitude=%{lon}<br>stype=%{customdata[0]}<br>abs_pm=%{customdata[1]}<br>fwdir=%{customdata[3]}<extra></extra>\", \"lat\": [32.952468, 32.96573], \"legendgroup\": \"slow\", \"line\": {\"color\": \"red\", \"width\": 3}, \"lon\": [-117.244298, -117.247857], \"mode\": \"lines\", \"name\": \"slow\", \"showlegend\": false, \"subplot\": \"mapbox\", \"type\": \"scattermapbox\"}, {\"customdata\": [[\"ML\", 36.136, 189, \"5S\"], [\"ML\", 37.255, 189, \"5S\"], [\"ML\", 38.44, 189, \"5S\"], [\"ML\", 39.059, 189, \"5S\"]], \"hovertemplate\": \"speed_cat=slow<br>linegroup=%{customdata[2]}<br>latitude=%{lat}<br>longitude=%{lon}<br>stype=%{customdata[0]}<br>abs_pm=%{customdata[1]}<br>fwdir=%{customdata[3]}<extra></extra>\", \"lat\": [32.979936, 32.995868, 33.010653, 33.017512], \"legendgroup\": \"slow\", \"line\": {\"color\": \"red\", \"width\": 3}, \"lon\": [-117.253246, -117.256708, -117.26524, -117.272059], \"mode\": \"lines\", \"name\": \"slow\", \"showlegend\": false, \"subplot\": \"mapbox\", \"type\": \"scattermapbox\"}, {\"customdata\": [[\"ML\", 39.685, 191, \"5S\"], [\"ML\", 40.483, 191, \"5S\"], [\"ML\", 41.385, 191, \"5S\"], [\"ML\", 41.888, 191, \"5S\"], [\"ML\", 42.548, 191, \"5S\"], [\"ML\", 43.159, 191, \"5S\"], [\"ML\", 43.643, 191, \"5S\"]], \"hovertemplate\": \"speed_cat=slow<br>linegroup=%{customdata[2]}<br>latitude=%{lat}<br>longitude=%{lon}<br>stype=%{customdata[0]}<br>abs_pm=%{customdata[1]}<br>fwdir=%{customdata[3]}<extra></extra>\", \"lat\": [33.02625, 33.036347, 33.048438, 33.055523, 33.064772, 33.073371, 33.080188], \"legendgroup\": \"slow\", \"line\": {\"color\": \"red\", \"width\": 3}, \"lon\": [-117.274915, -117.281649, -117.287351, -117.289401, -117.292309, -117.294873, -117.296877], \"mode\": \"lines\", \"name\": \"slow\", \"showlegend\": false, \"subplot\": \"mapbox\", \"type\": \"scattermapbox\"}, {\"customdata\": [[\"ML\", 44.559, 193, \"5S\"], [\"ML\", 45.293, 193, \"5S\"], [\"ML\", 46.158, 193, \"5S\"], [\"ML\", 46.955, 193, \"5S\"]], \"hovertemplate\": \"speed_cat=slow<br>linegroup=%{customdata[2]}<br>latitude=%{lat}<br>longitude=%{lon}<br>stype=%{customdata[0]}<br>abs_pm=%{customdata[1]}<br>fwdir=%{customdata[3]}<extra></extra>\", \"lat\": [33.092248, 33.101626, 33.112683, 33.122973], \"legendgroup\": \"slow\", \"line\": {\"color\": \"red\", \"width\": 3}, \"lon\": [-117.303383, -117.309439, -117.316473, -117.322702], \"mode\": \"lines\", \"name\": \"slow\", \"showlegend\": false, \"subplot\": \"mapbox\", \"type\": \"scattermapbox\"}, {\"customdata\": [[\"ML\", 47.823, 195, \"5S\"], [\"ML\", 49.108, 195, \"5S\"]], \"hovertemplate\": \"speed_cat=slow<br>linegroup=%{customdata[2]}<br>latitude=%{lat}<br>longitude=%{lon}<br>stype=%{customdata[0]}<br>abs_pm=%{customdata[1]}<br>fwdir=%{customdata[3]}<extra></extra>\", \"lat\": [33.134215, 33.151704], \"legendgroup\": \"slow\", \"line\": {\"color\": \"red\", \"width\": 3}, \"lon\": [-117.329382, -117.336331], \"mode\": \"lines\", \"name\": \"slow\", \"showlegend\": false, \"subplot\": \"mapbox\", \"type\": \"scattermapbox\"}, {\"customdata\": [[\"ML\", 51.293, 197, \"5S\"], [\"ML\", 52.266, 197, \"5S\"], [\"ML\", 53.158, 197, \"5S\"]], \"hovertemplate\": \"speed_cat=slow<br>linegroup=%{customdata[2]}<br>latitude=%{lat}<br>longitude=%{lon}<br>stype=%{customdata[0]}<br>abs_pm=%{customdata[1]}<br>fwdir=%{customdata[3]}<extra></extra>\", \"lat\": [33.179734, 33.191277, 33.200618], \"legendgroup\": \"slow\", \"line\": {\"color\": \"red\", \"width\": 3}, \"lon\": [-117.353651, -117.363281, -117.373434], \"mode\": \"lines\", \"name\": \"slow\", \"showlegend\": false, \"subplot\": \"mapbox\", \"type\": \"scattermapbox\"}, {\"customdata\": [[\"ML\", 1.62, 203, \"67N\"], [\"ML\", 2.326, 203, \"67N\"]], \"hovertemplate\": \"speed_cat=slow<br>linegroup=%{customdata[2]}<br>latitude=%{lat}<br>longitude=%{lon}<br>stype=%{customdata[0]}<br>abs_pm=%{customdata[1]}<br>fwdir=%{customdata[3]}<extra></extra>\", \"lat\": [32.82632, 32.836541], \"legendgroup\": \"slow\", \"line\": {\"color\": \"red\", \"width\": 3}, \"lon\": [-116.961614, -116.961871], \"mode\": \"lines\", \"name\": \"slow\", \"showlegend\": false, \"subplot\": \"mapbox\", \"type\": \"scattermapbox\"}, {\"customdata\": [[\"ML\", 1.621, 205, \"67S\"], [\"ML\", 2.325, 205, \"67S\"]], \"hovertemplate\": \"speed_cat=slow<br>linegroup=%{customdata[2]}<br>latitude=%{lat}<br>longitude=%{lon}<br>stype=%{customdata[0]}<br>abs_pm=%{customdata[1]}<br>fwdir=%{customdata[3]}<extra></extra>\", \"lat\": [32.826336, 32.836578], \"legendgroup\": \"slow\", \"line\": {\"color\": \"red\", \"width\": 3}, \"lon\": [-116.961862, -116.962176], \"mode\": \"lines\", \"name\": \"slow\", \"showlegend\": false, \"subplot\": \"mapbox\", \"type\": \"scattermapbox\"}, {\"customdata\": [[\"ML\", 3.219, 216, \"78E\"], [\"ML\", 3.582, 216, \"78E\"]], \"hovertemplate\": \"speed_cat=slow<br>linegroup=%{customdata[2]}<br>latitude=%{lat}<br>longitude=%{lon}<br>stype=%{customdata[0]}<br>abs_pm=%{customdata[1]}<br>fwdir=%{customdata[3]}<extra></extra>\", \"lat\": [33.182878, 33.183323], \"legendgroup\": \"slow\", \"line\": {\"color\": \"red\", \"width\": 3}, \"lon\": [-117.298269, -117.292024], \"mode\": \"lines\", \"name\": \"slow\", \"showlegend\": false, \"subplot\": \"mapbox\", \"type\": \"scattermapbox\"}, {\"customdata\": [[\"ML\", 4.47, 218, \"78E\"], [\"ML\", 6.316, 218, \"78E\"]], \"hovertemplate\": \"speed_cat=slow<br>linegroup=%{customdata[2]}<br>latitude=%{lat}<br>longitude=%{lon}<br>stype=%{customdata[0]}<br>abs_pm=%{customdata[1]}<br>fwdir=%{customdata[3]}<extra></extra>\", \"lat\": [33.1885, 33.194181], \"legendgroup\": \"slow\", \"line\": {\"color\": \"red\", \"width\": 3}, \"lon\": [-117.278185, -117.248185], \"mode\": \"lines\", \"name\": \"slow\", \"showlegend\": false, \"subplot\": \"mapbox\", \"type\": \"scattermapbox\"}, {\"customdata\": [[\"ML\", 6.882, 220, \"78E\"], [\"ML\", 7.792, 220, \"78E\"], [\"ML\", 9.214, 220, \"78E\"], [\"ML\", 10.676, 220, \"78E\"], [\"ML\", 11.36, 220, \"78E\"], [\"ML\", 12.27, 220, \"78E\"]], \"hovertemplate\": \"speed_cat=slow<br>linegroup=%{customdata[2]}<br>latitude=%{lat}<br>longitude=%{lon}<br>stype=%{customdata[0]}<br>abs_pm=%{customdata[1]}<br>fwdir=%{customdata[3]}<extra></extra>\", \"lat\": [33.18952, 33.180072, 33.165559, 33.149286, 33.142359, 33.137072], \"legendgroup\": \"slow\", \"line\": {\"color\": \"red\", \"width\": 3}, \"lon\": [-117.24026, -117.229778, -117.213523, -117.197442, -117.188863, -117.17436], \"mode\": \"lines\", \"name\": \"slow\", \"showlegend\": false, \"subplot\": \"mapbox\", \"type\": \"scattermapbox\"}, {\"customdata\": [[\"ML\", 15.592, 222, \"78E\"], [\"ML\", 15.911, 222, \"78E\"], [\"ML\", 16.263, 222, \"78E\"]], \"hovertemplate\": \"speed_cat=slow<br>linegroup=%{customdata[2]}<br>latitude=%{lat}<br>longitude=%{lon}<br>stype=%{customdata[0]}<br>abs_pm=%{customdata[1]}<br>fwdir=%{customdata[3]}<extra></extra>\", \"lat\": [33.131243, 33.129097, 33.126865], \"legendgroup\": \"slow\", \"line\": {\"color\": \"red\", \"width\": 3}, \"lon\": [-117.119739, -117.114845, -117.109376], \"mode\": \"lines\", \"name\": \"slow\", \"showlegend\": false, \"subplot\": \"mapbox\", \"type\": \"scattermapbox\"}, {\"customdata\": [[\"ML\", 4.472, 225, \"78W\"], [\"ML\", 5.797, 225, \"78W\"]], \"hovertemplate\": \"speed_cat=slow<br>linegroup=%{customdata[2]}<br>latitude=%{lat}<br>longitude=%{lon}<br>stype=%{customdata[0]}<br>abs_pm=%{customdata[1]}<br>fwdir=%{customdata[3]}<extra></extra>\", \"lat\": [33.188661, 33.194328], \"legendgroup\": \"slow\", \"line\": {\"color\": \"red\", \"width\": 3}, \"lon\": [-117.278229, -117.256869], \"mode\": \"lines\", \"name\": \"slow\", \"showlegend\": false, \"subplot\": \"mapbox\", \"type\": \"scattermapbox\"}, {\"customdata\": [[\"ML\", 6.851, 227, \"78W\"], [\"ML\", 7.759, 227, \"78W\"]], \"hovertemplate\": \"speed_cat=slow<br>linegroup=%{customdata[2]}<br>latitude=%{lat}<br>longitude=%{lon}<br>stype=%{customdata[0]}<br>abs_pm=%{customdata[1]}<br>fwdir=%{customdata[3]}<extra></extra>\", \"lat\": [33.18994, 33.180588], \"legendgroup\": \"slow\", \"line\": {\"color\": \"red\", \"width\": 3}, \"lon\": [-117.240564, -117.229853], \"mode\": \"lines\", \"name\": \"slow\", \"showlegend\": false, \"subplot\": \"mapbox\", \"type\": \"scattermapbox\"}, {\"customdata\": [[\"ML\", 17.617, 231, \"78W\"]], \"hovertemplate\": \"speed_cat=slow<br>linegroup=%{customdata[2]}<br>latitude=%{lat}<br>longitude=%{lon}<br>stype=%{customdata[0]}<br>abs_pm=%{customdata[1]}<br>fwdir=%{customdata[3]}<extra></extra>\", \"lat\": [33.132541], \"legendgroup\": \"slow\", \"line\": {\"color\": \"red\", \"width\": 3}, \"lon\": [-117.087404], \"mode\": \"lines\", \"name\": \"slow\", \"showlegend\": false, \"subplot\": \"mapbox\", \"type\": \"scattermapbox\"}, {\"customdata\": [[\"ML\", 1.968, 234, \"805N\"], [\"ML\", 2.375, 234, \"805N\"]], \"hovertemplate\": \"speed_cat=slow<br>linegroup=%{customdata[2]}<br>latitude=%{lat}<br>longitude=%{lon}<br>stype=%{customdata[0]}<br>abs_pm=%{customdata[1]}<br>fwdir=%{customdata[3]}<extra></extra>\", \"lat\": [32.572621, 32.578428], \"legendgroup\": \"slow\", \"line\": {\"color\": \"red\", \"width\": 3}, \"lon\": [-117.039445, -117.038084], \"mode\": \"lines\", \"name\": \"slow\", \"showlegend\": false, \"subplot\": \"mapbox\", \"type\": \"scattermapbox\"}, {\"customdata\": [[\"ML\", 3.702, 237, \"805N\"], [\"ML\", 4.075, 237, \"805N\"], [\"ML\", 4.438, 237, \"805N\"], [\"ML\", 5.195, 237, \"805N\"], [\"ML\", 6.592, 237, \"805N\"], [\"ML\", 6.932, 237, \"805N\"], [\"ML\", 7.606, 237, \"805N\"]], \"hovertemplate\": \"speed_cat=slow<br>linegroup=%{customdata[2]}<br>latitude=%{lat}<br>longitude=%{lon}<br>stype=%{customdata[0]}<br>abs_pm=%{customdata[1]}<br>fwdir=%{customdata[3]}<extra></extra>\", \"lat\": [32.597548, 32.60296, 32.608222, 32.618855, 32.63687, 32.639755, 32.647835], \"legendgroup\": \"slow\", \"line\": {\"color\": \"red\", \"width\": 3}, \"lon\": [-117.036123, -117.036122, -117.036161, -117.039388, -117.049588, -117.054301, -117.060693], \"mode\": \"lines\", \"name\": \"slow\", \"showlegend\": false, \"subplot\": \"mapbox\", \"type\": \"scattermapbox\"}, {\"customdata\": [[\"ML\", 9.095, 239, \"805N\"], [\"ML\", 9.828, 239, \"805N\"]], \"hovertemplate\": \"speed_cat=slow<br>linegroup=%{customdata[2]}<br>latitude=%{lat}<br>longitude=%{lon}<br>stype=%{customdata[0]}<br>abs_pm=%{customdata[1]}<br>fwdir=%{customdata[3]}<extra></extra>\", \"lat\": [32.6631, 32.672952], \"legendgroup\": \"slow\", \"line\": {\"color\": \"red\", \"width\": 3}, \"lon\": [-117.078485, -117.082415], \"mode\": \"lines\", \"name\": \"slow\", \"showlegend\": false, \"subplot\": \"mapbox\", \"type\": \"scattermapbox\"}, {\"customdata\": [[\"ML\", 10.942, 242, \"805N\"], [\"ML\", 11.293, 242, \"805N\"], [\"ML\", 12.201, 242, \"805N\"], [\"ML\", 13.059, 242, \"805N\"], [\"ML\", 13.719, 242, \"805N\"], [\"ML\", 14.208, 242, \"805N\"], [\"ML\", 14.701, 242, \"805N\"]], \"hovertemplate\": \"speed_cat=slow<br>linegroup=%{customdata[2]}<br>latitude=%{lat}<br>longitude=%{lon}<br>stype=%{customdata[0]}<br>abs_pm=%{customdata[1]}<br>fwdir=%{customdata[3]}<extra></extra>\", \"lat\": [32.686782, 32.691156, 32.704271, 32.714775, 32.724289, 32.729896, 32.734846], \"legendgroup\": \"slow\", \"line\": {\"color\": \"red\", \"width\": 3}, \"lon\": [-117.091828, -117.094637, -117.094872, -117.102476, -117.10266, -117.107497, -117.113294], \"mode\": \"lines\", \"name\": \"slow\", \"showlegend\": false, \"subplot\": \"mapbox\", \"type\": \"scattermapbox\"}, {\"customdata\": [[\"ML\", 15.171, 244, \"805N\"], [\"ML\", 15.791, 244, \"805N\"]], \"hovertemplate\": \"speed_cat=slow<br>linegroup=%{customdata[2]}<br>latitude=%{lat}<br>longitude=%{lon}<br>stype=%{customdata[0]}<br>abs_pm=%{customdata[1]}<br>fwdir=%{customdata[3]}<extra></extra>\", \"lat\": [32.741165, 32.74856], \"legendgroup\": \"slow\", \"line\": {\"color\": \"red\", \"width\": 3}, \"lon\": [-117.116261, -117.12225], \"mode\": \"lines\", \"name\": \"slow\", \"showlegend\": false, \"subplot\": \"mapbox\", \"type\": \"scattermapbox\"}, {\"customdata\": [[\"ML\", 16.677, 246, \"805N\"], [\"ML\", 18.241, 246, \"805N\"]], \"hovertemplate\": \"speed_cat=slow<br>linegroup=%{customdata[2]}<br>latitude=%{lat}<br>longitude=%{lon}<br>stype=%{customdata[0]}<br>abs_pm=%{customdata[1]}<br>fwdir=%{customdata[3]}<extra></extra>\", \"lat\": [32.760845, 32.781007], \"legendgroup\": \"slow\", \"line\": {\"color\": \"red\", \"width\": 3}, \"lon\": [-117.12661, -117.138625], \"mode\": \"lines\", \"name\": \"slow\", \"showlegend\": false, \"subplot\": \"mapbox\", \"type\": \"scattermapbox\"}, {\"customdata\": [[\"ML\", 21.199, 248, \"805N\"], [\"ML\", 21.323, 248, \"805N\"]], \"hovertemplate\": \"speed_cat=slow<br>linegroup=%{customdata[2]}<br>latitude=%{lat}<br>longitude=%{lon}<br>stype=%{customdata[0]}<br>abs_pm=%{customdata[1]}<br>fwdir=%{customdata[3]}<extra></extra>\", \"lat\": [32.817749, 32.819359], \"legendgroup\": \"slow\", \"line\": {\"color\": \"red\", \"width\": 3}, \"lon\": [-117.159929, -117.160872], \"mode\": \"lines\", \"name\": \"slow\", \"showlegend\": false, \"subplot\": \"mapbox\", \"type\": \"scattermapbox\"}, {\"customdata\": [[\"ML\", 23.111, 250, \"805N\"], [\"ML\", 23.501, 250, \"805N\"]], \"hovertemplate\": \"speed_cat=slow<br>linegroup=%{customdata[2]}<br>latitude=%{lat}<br>longitude=%{lon}<br>stype=%{customdata[0]}<br>abs_pm=%{customdata[1]}<br>fwdir=%{customdata[3]}<extra></extra>\", \"lat\": [32.842493, 32.847538], \"legendgroup\": \"slow\", \"line\": {\"color\": \"red\", \"width\": 3}, \"lon\": [-117.174848, -117.177909], \"mode\": \"lines\", \"name\": \"slow\", \"showlegend\": false, \"subplot\": \"mapbox\", \"type\": \"scattermapbox\"}, {\"customdata\": [[\"ML\", 3.631, 254, \"805S\"], [\"ML\", 4.084, 254, \"805S\"], [\"ML\", 4.453, 254, \"805S\"], [\"ML\", 5.195, 254, \"805S\"], [\"ML\", 6.062, 254, \"805S\"], [\"ML\", 6.591, 254, \"805S\"]], \"hovertemplate\": \"speed_cat=slow<br>linegroup=%{customdata[2]}<br>latitude=%{lat}<br>longitude=%{lon}<br>stype=%{customdata[0]}<br>abs_pm=%{customdata[1]}<br>fwdir=%{customdata[3]}<extra></extra>\", \"lat\": [32.59651, 32.603075, 32.608399, 32.618779, 32.630622, 32.636725], \"legendgroup\": \"slow\", \"line\": {\"color\": \"red\", \"width\": 3}, \"lon\": [-117.036458, -117.036435, -117.036523, -117.039649, -117.044658, -117.049889], \"mode\": \"lines\", \"name\": \"slow\", \"showlegend\": false, \"subplot\": \"mapbox\", \"type\": \"scattermapbox\"}, {\"customdata\": [[\"ML\", 6.933, 256, \"805S\"], [\"ML\", 7.594, 256, \"805S\"]], \"hovertemplate\": \"speed_cat=slow<br>linegroup=%{customdata[2]}<br>latitude=%{lat}<br>longitude=%{lon}<br>stype=%{customdata[0]}<br>abs_pm=%{customdata[1]}<br>fwdir=%{customdata[3]}<extra></extra>\", \"lat\": [32.639609, 32.647524], \"legendgroup\": \"slow\", \"line\": {\"color\": \"red\", \"width\": 3}, \"lon\": [-117.054617, -117.060767], \"mode\": \"lines\", \"name\": \"slow\", \"showlegend\": false, \"subplot\": \"mapbox\", \"type\": \"scattermapbox\"}, {\"customdata\": [[\"ML\", 8.293, 258, \"805S\"], [\"ML\", 8.831, 258, \"805S\"]], \"hovertemplate\": \"speed_cat=slow<br>linegroup=%{customdata[2]}<br>latitude=%{lat}<br>longitude=%{lon}<br>stype=%{customdata[0]}<br>abs_pm=%{customdata[1]}<br>fwdir=%{customdata[3]}<extra></extra>\", \"lat\": [32.653505, 32.659734], \"legendgroup\": \"slow\", \"line\": {\"color\": \"red\", \"width\": 3}, \"lon\": [-117.070333, -117.075966], \"mode\": \"lines\", \"name\": \"slow\", \"showlegend\": false, \"subplot\": \"mapbox\", \"type\": \"scattermapbox\"}, {\"customdata\": [[\"ML\", 9.09, 260, \"805S\"], [\"ML\", 9.826, 260, \"805S\"]], \"hovertemplate\": \"speed_cat=slow<br>linegroup=%{customdata[2]}<br>latitude=%{lat}<br>longitude=%{lon}<br>stype=%{customdata[0]}<br>abs_pm=%{customdata[1]}<br>fwdir=%{customdata[3]}<extra></extra>\", \"lat\": [32.662772, 32.67285], \"legendgroup\": \"slow\", \"line\": {\"color\": \"red\", \"width\": 3}, \"lon\": [-117.078579, -117.0827], \"mode\": \"lines\", \"name\": \"slow\", \"showlegend\": false, \"subplot\": \"mapbox\", \"type\": \"scattermapbox\"}, {\"customdata\": [[\"ML\", 10.212, 262, \"805S\"], [\"ML\", 10.942, 262, \"805S\"], [\"ML\", 11.294, 262, \"805S\"]], \"hovertemplate\": \"speed_cat=slow<br>linegroup=%{customdata[2]}<br>latitude=%{lat}<br>longitude=%{lon}<br>stype=%{customdata[0]}<br>abs_pm=%{customdata[1]}<br>fwdir=%{customdata[3]}<extra></extra>\", \"lat\": [32.678037, 32.686682, 32.69111], \"legendgroup\": \"slow\", \"line\": {\"color\": \"red\", \"width\": 3}, \"lon\": [-117.085196, -117.09211, -117.094893], \"mode\": \"lines\", \"name\": \"slow\", \"showlegend\": false, \"subplot\": \"mapbox\", \"type\": \"scattermapbox\"}, {\"customdata\": [[\"ML\", 12.198, 264, \"805S\"], [\"ML\", 13.831, 264, \"805S\"], [\"ML\", 14.207, 264, \"805S\"], [\"ML\", 14.703, 264, \"805S\"], [\"ML\", 15.172, 264, \"805S\"], [\"ML\", 15.793, 264, \"805S\"]], \"hovertemplate\": \"speed_cat=slow<br>linegroup=%{customdata[2]}<br>latitude=%{lat}<br>longitude=%{lon}<br>stype=%{customdata[0]}<br>abs_pm=%{customdata[1]}<br>fwdir=%{customdata[3]}<extra></extra>\", \"lat\": [32.704152, 32.725755, 32.729729, 32.734636, 32.740965, 32.748425], \"legendgroup\": \"slow\", \"line\": {\"color\": \"red\", \"width\": 3}, \"lon\": [-117.095206, -117.103501, -117.107696, -117.113512, -117.116526, -117.12253], \"mode\": \"lines\", \"name\": \"slow\", \"showlegend\": false, \"subplot\": \"mapbox\", \"type\": \"scattermapbox\"}, {\"customdata\": [[\"ML\", 16.352, 266, \"805S\"], [\"ML\", 16.678, 266, \"805S\"], [\"ML\", 18.242, 266, \"805S\"], [\"ML\", 18.342, 266, \"805S\"]], \"hovertemplate\": \"speed_cat=slow<br>linegroup=%{customdata[2]}<br>latitude=%{lat}<br>longitude=%{lon}<br>stype=%{customdata[0]}<br>abs_pm=%{customdata[1]}<br>fwdir=%{customdata[3]}<extra></extra>\", \"lat\": [32.756165, 32.760722, 32.78088, 32.78192], \"legendgroup\": \"slow\", \"line\": {\"color\": \"red\", \"width\": 3}, \"lon\": [-117.12539, -117.126908, -117.138885, -117.140068], \"mode\": \"lines\", \"name\": \"slow\", \"showlegend\": false, \"subplot\": \"mapbox\", \"type\": \"scattermapbox\"}, {\"customdata\": [[\"ML\", 20.006, 268, \"805S\"], [\"ML\", 20.068, 268, \"805S\"], [\"ML\", 20.431, 268, \"805S\"]], \"hovertemplate\": \"speed_cat=slow<br>linegroup=%{customdata[2]}<br>latitude=%{lat}<br>longitude=%{lon}<br>stype=%{customdata[0]}<br>abs_pm=%{customdata[1]}<br>fwdir=%{customdata[3]}<extra></extra>\", \"lat\": [32.80262, 32.803497, 32.808467], \"legendgroup\": \"slow\", \"line\": {\"color\": \"red\", \"width\": 3}, \"lon\": [-117.150601, -117.15084, -117.152775], \"mode\": \"lines\", \"name\": \"slow\", \"showlegend\": false, \"subplot\": \"mapbox\", \"type\": \"scattermapbox\"}, {\"customdata\": [[\"ML\", 20.696, 270, \"805S\"], [\"ML\", 21.198, 270, \"805S\"]], \"hovertemplate\": \"speed_cat=slow<br>linegroup=%{customdata[2]}<br>latitude=%{lat}<br>longitude=%{lon}<br>stype=%{customdata[0]}<br>abs_pm=%{customdata[1]}<br>fwdir=%{customdata[3]}<extra></extra>\", \"lat\": [32.811513, 32.817619], \"legendgroup\": \"slow\", \"line\": {\"color\": \"red\", \"width\": 3}, \"lon\": [-117.155527, -117.160167], \"mode\": \"lines\", \"name\": \"slow\", \"showlegend\": false, \"subplot\": \"mapbox\", \"type\": \"scattermapbox\"}, {\"customdata\": [[\"ML\", 21.322, 272, \"805S\"], [\"ML\", 21.672, 272, \"805S\"], [\"ML\", 22.526, 272, \"805S\"], [\"ML\", 24.285, 272, \"805S\"]], \"hovertemplate\": \"speed_cat=slow<br>linegroup=%{customdata[2]}<br>latitude=%{lat}<br>longitude=%{lon}<br>stype=%{customdata[0]}<br>abs_pm=%{customdata[1]}<br>fwdir=%{customdata[3]}<extra></extra>\", \"lat\": [32.819236, 32.823789, 32.834806, 32.857504], \"legendgroup\": \"slow\", \"line\": {\"color\": \"red\", \"width\": 3}, \"lon\": [-117.161117, -117.163808, -117.170551, -117.184358], \"mode\": \"lines\", \"name\": \"slow\", \"showlegend\": false, \"subplot\": \"mapbox\", \"type\": \"scattermapbox\"}, {\"customdata\": [[\"ML\", 26.802, 274, \"805S\"], [\"ML\", 26.987, 274, \"805S\"]], \"hovertemplate\": \"speed_cat=slow<br>linegroup=%{customdata[2]}<br>latitude=%{lat}<br>longitude=%{lon}<br>stype=%{customdata[0]}<br>abs_pm=%{customdata[1]}<br>fwdir=%{customdata[3]}<extra></extra>\", \"lat\": [32.889107, 32.891027], \"legendgroup\": \"slow\", \"line\": {\"color\": \"red\", \"width\": 3}, \"lon\": [-117.204927, -117.207148], \"mode\": \"lines\", \"name\": \"slow\", \"showlegend\": false, \"subplot\": \"mapbox\", \"type\": \"scattermapbox\"}, {\"customdata\": [[\"ML\", 8.615, 282, \"8E\"], [\"ML\", 9.509, 282, \"8E\"]], \"hovertemplate\": \"speed_cat=slow<br>linegroup=%{customdata[2]}<br>latitude=%{lat}<br>longitude=%{lon}<br>stype=%{customdata[0]}<br>abs_pm=%{customdata[1]}<br>fwdir=%{customdata[3]}<extra></extra>\", \"lat\": [32.780008, 32.779817], \"legendgroup\": \"slow\", \"line\": {\"color\": \"red\", \"width\": 3}, \"lon\": [-117.094988, -117.079742], \"mode\": \"lines\", \"name\": \"slow\", \"showlegend\": false, \"subplot\": \"mapbox\", \"type\": \"scattermapbox\"}, {\"customdata\": [[\"ML\", 13.758, 285, \"8E\"], [\"ML\", 14.308, 285, \"8E\"], [\"ML\", 15.021, 285, \"8E\"], [\"ML\", 15.413, 285, \"8E\"]], \"hovertemplate\": \"speed_cat=slow<br>linegroup=%{customdata[2]}<br>latitude=%{lat}<br>longitude=%{lon}<br>stype=%{customdata[0]}<br>abs_pm=%{customdata[1]}<br>fwdir=%{customdata[3]}<extra></extra>\", \"lat\": [32.774956, 32.778355, 32.778941, 32.779621], \"legendgroup\": \"slow\", \"line\": {\"color\": \"red\", \"width\": 3}, \"lon\": [-117.010577, -117.001957, -116.990052, -116.983478], \"mode\": \"lines\", \"name\": \"slow\", \"showlegend\": false, \"subplot\": \"mapbox\", \"type\": \"scattermapbox\"}, {\"customdata\": [[\"ML\", 18.045, 287, \"8E\"], [\"ML\", 18.411, 287, \"8E\"], [\"ML\", 18.871, 287, \"8E\"], [\"ML\", 19.288, 287, \"8E\"], [\"ML\", 19.789, 287, \"8E\"], [\"ML\", 20.17, 287, \"8E\"], [\"ML\", 21.002, 287, \"8E\"], [\"ML\", 21.886, 287, \"8E\"], [\"ML\", 22.306, 287, \"8E\"], [\"ML\", 22.362, 287, \"8E\"], [\"ML\", 23.266, 287, \"8E\"], [\"ML\", 23.837, 287, \"8E\"]], \"hovertemplate\": \"speed_cat=slow<br>linegroup=%{customdata[2]}<br>latitude=%{lat}<br>longitude=%{lon}<br>stype=%{customdata[0]}<br>abs_pm=%{customdata[1]}<br>fwdir=%{customdata[3]}<extra></extra>\", \"lat\": [32.802954, 32.802945, 32.802955, 32.80296, 32.802942, 32.805288, 32.815375, 32.825277, 32.829342, 32.829874, 32.839494, 32.844556], \"legendgroup\": \"slow\", \"line\": {\"color\": \"red\", \"width\": 3}, \"lon\": [-116.957448, -116.951191, -116.943342, -116.936227, -116.927363, -116.921513, -116.913932, -116.904782, -116.899444, -116.89872, -116.888214, -116.880704], \"mode\": \"lines\", \"name\": \"slow\", \"showlegend\": false, \"subplot\": \"mapbox\", \"type\": \"scattermapbox\"}, {\"customdata\": [[\"ML\", 12.929, 299, \"8W\"], [\"ML\", 13.581, 299, \"8W\"]], \"hovertemplate\": \"speed_cat=slow<br>linegroup=%{customdata[2]}<br>latitude=%{lat}<br>longitude=%{lon}<br>stype=%{customdata[0]}<br>abs_pm=%{customdata[1]}<br>fwdir=%{customdata[3]}<extra></extra>\", \"lat\": [32.771107, 32.774158], \"legendgroup\": \"slow\", \"line\": {\"color\": \"red\", \"width\": 3}, \"lon\": [-117.023752, -117.013463], \"mode\": \"lines\", \"name\": \"slow\", \"showlegend\": false, \"subplot\": \"mapbox\", \"type\": \"scattermapbox\"}, {\"customdata\": [[\"ML\", 13.758, 301, \"8W\"], [\"ML\", 14.112, 301, \"8W\"]], \"hovertemplate\": \"speed_cat=slow<br>linegroup=%{customdata[2]}<br>latitude=%{lat}<br>longitude=%{lon}<br>stype=%{customdata[0]}<br>abs_pm=%{customdata[1]}<br>fwdir=%{customdata[3]}<extra></extra>\", \"lat\": [32.775159, 32.77719], \"legendgroup\": \"slow\", \"line\": {\"color\": \"red\", \"width\": 3}, \"lon\": [-117.010686, -117.005007], \"mode\": \"lines\", \"name\": \"slow\", \"showlegend\": false, \"subplot\": \"mapbox\", \"type\": \"scattermapbox\"}, {\"customdata\": [[\"ML\", 14.309, 303, \"8W\"], [\"ML\", 14.362, 303, \"8W\"]], \"hovertemplate\": \"speed_cat=slow<br>linegroup=%{customdata[2]}<br>latitude=%{lat}<br>longitude=%{lon}<br>stype=%{customdata[0]}<br>abs_pm=%{customdata[1]}<br>fwdir=%{customdata[3]}<extra></extra>\", \"lat\": [32.778547, 32.778899], \"legendgroup\": \"slow\", \"line\": {\"color\": \"red\", \"width\": 3}, \"lon\": [-117.002027, -117.001223], \"mode\": \"lines\", \"name\": \"slow\", \"showlegend\": false, \"subplot\": \"mapbox\", \"type\": \"scattermapbox\"}, {\"customdata\": [[\"ML\", 15.036, 305, \"8W\"], [\"ML\", 15.432, 305, \"8W\"], [\"ML\", 16.482, 305, \"8W\"], [\"ML\", 17.113, 305, \"8W\"], [\"ML\", 17.608, 305, \"8W\"]], \"hovertemplate\": \"speed_cat=slow<br>linegroup=%{customdata[2]}<br>latitude=%{lat}<br>longitude=%{lon}<br>stype=%{customdata[0]}<br>abs_pm=%{customdata[1]}<br>fwdir=%{customdata[3]}<extra></extra>\", \"lat\": [32.779188, 32.779945, 32.793962, 32.802066, 32.803133], \"legendgroup\": \"slow\", \"line\": {\"color\": \"red\", \"width\": 3}, \"lon\": [-116.989808, -116.983405, -116.97744, -116.973297, -116.964952], \"mode\": \"lines\", \"name\": \"slow\", \"showlegend\": false, \"subplot\": \"mapbox\", \"type\": \"scattermapbox\"}, {\"customdata\": [[\"ML\", 18.044, 307, \"8W\"], [\"ML\", 18.41, 307, \"8W\"], [\"ML\", 18.871, 307, \"8W\"], [\"ML\", 19.289, 307, \"8W\"]], \"hovertemplate\": \"speed_cat=slow<br>linegroup=%{customdata[2]}<br>latitude=%{lat}<br>longitude=%{lon}<br>stype=%{customdata[0]}<br>abs_pm=%{customdata[1]}<br>fwdir=%{customdata[3]}<extra></extra>\", \"lat\": [32.803159, 32.803161, 32.803158, 32.803169], \"legendgroup\": \"slow\", \"line\": {\"color\": \"red\", \"width\": 3}, \"lon\": [-116.95746, -116.951206, -116.943342, -116.936214], \"mode\": \"lines\", \"name\": \"slow\", \"showlegend\": false, \"subplot\": \"mapbox\", \"type\": \"scattermapbox\"}, {\"customdata\": [[\"ML\", 20.569, 309, \"8W\"], [\"ML\", 21.0, 309, \"8W\"]], \"hovertemplate\": \"speed_cat=slow<br>linegroup=%{customdata[2]}<br>latitude=%{lat}<br>longitude=%{lon}<br>stype=%{customdata[0]}<br>abs_pm=%{customdata[1]}<br>fwdir=%{customdata[3]}<extra></extra>\", \"lat\": [32.810302, 32.815497], \"legendgroup\": \"slow\", \"line\": {\"color\": \"red\", \"width\": 3}, \"lon\": [-116.918188, -116.914192], \"mode\": \"lines\", \"name\": \"slow\", \"showlegend\": false, \"subplot\": \"mapbox\", \"type\": \"scattermapbox\"}, {\"customdata\": [[\"ML\", 22.305, 311, \"8W\"], [\"ML\", 23.26, 311, \"8W\"], [\"ML\", 23.837, 311, \"8W\"]], \"hovertemplate\": \"speed_cat=slow<br>linegroup=%{customdata[2]}<br>latitude=%{lat}<br>longitude=%{lon}<br>stype=%{customdata[0]}<br>abs_pm=%{customdata[1]}<br>fwdir=%{customdata[3]}<extra></extra>\", \"lat\": [32.829499, 32.839643, 32.84483], \"legendgroup\": \"slow\", \"line\": {\"color\": \"red\", \"width\": 3}, \"lon\": [-116.899603, -116.888393, -116.880828], \"mode\": \"lines\", \"name\": \"slow\", \"showlegend\": false, \"subplot\": \"mapbox\", \"type\": \"scattermapbox\"}, {\"customdata\": [[\"ML\", 2.611, 312, \"905E\"], [\"ML\", 3.077, 312, \"905E\"], [\"ML\", 3.691, 312, \"905E\"]], \"hovertemplate\": \"speed_cat=slow<br>linegroup=%{customdata[2]}<br>latitude=%{lat}<br>longitude=%{lon}<br>stype=%{customdata[0]}<br>abs_pm=%{customdata[1]}<br>fwdir=%{customdata[3]}<extra></extra>\", \"lat\": [32.568009, 32.56827, 32.566988], \"legendgroup\": \"slow\", \"line\": {\"color\": \"red\", \"width\": 3}, \"lon\": [-117.035356, -117.027365, -117.017135], \"mode\": \"lines\", \"name\": \"slow\", \"showlegend\": false, \"subplot\": \"mapbox\", \"type\": \"scattermapbox\"}, {\"customdata\": [[\"ML\", 4.434, 314, \"905E\"], [\"ML\", 5.422, 314, \"905E\"], [\"ML\", 5.77, 314, \"905E\"], [\"ML\", 6.016, 314, \"905E\"], [\"ML\", 6.518, 314, \"905E\"], [\"ML\", 7.598, 314, \"905E\"]], \"hovertemplate\": \"speed_cat=slow<br>linegroup=%{customdata[2]}<br>latitude=%{lat}<br>longitude=%{lon}<br>stype=%{customdata[0]}<br>abs_pm=%{customdata[1]}<br>fwdir=%{customdata[3]}<extra></extra>\", \"lat\": [32.566314, 32.564763, 32.56415, 32.56412, 32.56407, 32.563837], \"legendgroup\": \"slow\", \"line\": {\"color\": \"red\", \"width\": 3}, \"lon\": [-117.004599, -116.988199, -116.982231, -116.978, -116.969401, -116.950855], \"mode\": \"lines\", \"name\": \"slow\", \"showlegend\": false, \"subplot\": \"mapbox\", \"type\": \"scattermapbox\"}, {\"customdata\": [[\"ML\", 2.623, 315, \"905W\"], [\"ML\", 3.082, 315, \"905W\"], [\"ML\", 4.449, 315, \"905W\"], [\"ML\", 5.437, 315, \"905W\"], [\"ML\", 6.033, 315, \"905W\"], [\"ML\", 6.533, 315, \"905W\"], [\"ML\", 7.613, 315, \"905W\"]], \"hovertemplate\": \"speed_cat=slow<br>linegroup=%{customdata[2]}<br>latitude=%{lat}<br>longitude=%{lon}<br>stype=%{customdata[0]}<br>abs_pm=%{customdata[1]}<br>fwdir=%{customdata[3]}<extra></extra>\", \"lat\": [32.568319, 32.568341, 32.566603, 32.565082, 32.564408, 32.564373, 32.564112], \"legendgroup\": \"slow\", \"line\": {\"color\": \"red\", \"width\": 3}, \"lon\": [-117.035373, -117.027502, -117.004472, -116.988059, -116.977872, -116.969279, -116.950744], \"mode\": \"lines\", \"name\": \"slow\", \"showlegend\": false, \"subplot\": \"mapbox\", \"type\": \"scattermapbox\"}, {\"customdata\": [[\"ML\", 8.204, 325, \"94E\"]], \"hovertemplate\": \"speed_cat=slow<br>linegroup=%{customdata[2]}<br>latitude=%{lat}<br>longitude=%{lon}<br>stype=%{customdata[0]}<br>abs_pm=%{customdata[1]}<br>fwdir=%{customdata[3]}<extra></extra>\", \"lat\": [32.746819], \"legendgroup\": \"slow\", \"line\": {\"color\": \"red\", \"width\": 3}, \"lon\": [-117.020529], \"mode\": \"lines\", \"name\": \"slow\", \"showlegend\": false, \"subplot\": \"mapbox\", \"type\": \"scattermapbox\"}, {\"customdata\": [[\"ML\", 1.205, 328, \"94W\"], [\"ML\", 1.721, 328, \"94W\"]], \"hovertemplate\": \"speed_cat=slow<br>linegroup=%{customdata[2]}<br>latitude=%{lat}<br>longitude=%{lon}<br>stype=%{customdata[0]}<br>abs_pm=%{customdata[1]}<br>fwdir=%{customdata[3]}<extra></extra>\", \"lat\": [32.714211, 32.716724], \"legendgroup\": \"slow\", \"line\": {\"color\": \"red\", \"width\": 3}, \"lon\": [-117.127908, -117.119831], \"mode\": \"lines\", \"name\": \"slow\", \"showlegend\": false, \"subplot\": \"mapbox\", \"type\": \"scattermapbox\"}, {\"customdata\": [[\"ML\", 0.8, 2, \"11W\"]], \"hovertemplate\": \"speed_cat=moderate<br>linegroup=%{customdata[2]}<br>latitude=%{lat}<br>longitude=%{lon}<br>stype=%{customdata[0]}<br>abs_pm=%{customdata[1]}<br>fwdir=%{customdata[3]}<extra></extra>\", \"lat\": [32.564034], \"legendgroup\": \"moderate\", \"line\": {\"color\": \"orange\", \"width\": 3}, \"lon\": [-116.938179], \"mode\": \"lines\", \"name\": \"moderate\", \"showlegend\": true, \"subplot\": \"mapbox\", \"type\": \"scattermapbox\"}, {\"customdata\": [[\"ML\", 10.142, 3, \"125N\"], [\"ML\", 11.047, 3, \"125N\"], [\"ML\", 11.569, 3, \"125N\"], [\"ML\", 11.928, 3, \"125N\"], [\"ML\", 12.273, 3, \"125N\"], [\"ML\", 12.51, 3, \"125N\"]], \"hovertemplate\": \"speed_cat=moderate<br>linegroup=%{customdata[2]}<br>latitude=%{lat}<br>longitude=%{lon}<br>stype=%{customdata[0]}<br>abs_pm=%{customdata[1]}<br>fwdir=%{customdata[3]}<extra></extra>\", \"lat\": [32.684722, 32.695755, 32.702928, 32.70806, 32.71279, 32.716131], \"legendgroup\": \"moderate\", \"line\": {\"color\": \"orange\", \"width\": 3}, \"lon\": [-117.009803, -117.013341, -117.010755, -117.011493, -117.01339, -117.014296], \"mode\": \"lines\", \"name\": \"moderate\", \"showlegend\": false, \"subplot\": \"mapbox\", \"type\": \"scattermapbox\"}, {\"customdata\": [[\"ML\", 13.545, 5, \"125N\"], [\"ML\", 13.934, 5, \"125N\"]], \"hovertemplate\": \"speed_cat=moderate<br>linegroup=%{customdata[2]}<br>latitude=%{lat}<br>longitude=%{lon}<br>stype=%{customdata[0]}<br>abs_pm=%{customdata[1]}<br>fwdir=%{customdata[3]}<extra></extra>\", \"lat\": [32.731085, 32.736686], \"legendgroup\": \"moderate\", \"line\": {\"color\": \"orange\", \"width\": 3}, \"lon\": [-117.015062, -117.015668], \"mode\": \"lines\", \"name\": \"moderate\", \"showlegend\": false, \"subplot\": \"mapbox\", \"type\": \"scattermapbox\"}, {\"customdata\": [[\"ML\", 17.535, 8, \"125N\"], [\"ML\", 17.989, 8, \"125N\"], [\"ML\", 18.687, 8, \"125N\"], [\"ML\", 19.108, 8, \"125N\"]], \"hovertemplate\": \"speed_cat=moderate<br>linegroup=%{customdata[2]}<br>latitude=%{lat}<br>longitude=%{lon}<br>stype=%{customdata[0]}<br>abs_pm=%{customdata[1]}<br>fwdir=%{customdata[3]}<extra></extra>\", \"lat\": [32.782757, 32.78922, 32.799266, 32.805368], \"legendgroup\": \"moderate\", \"line\": {\"color\": \"orange\", \"width\": 3}, \"lon\": [-117.005102, -117.006349, -117.005352, -117.005343], \"mode\": \"lines\", \"name\": \"moderate\", \"showlegend\": false, \"subplot\": \"mapbox\", \"type\": \"scattermapbox\"}, {\"customdata\": [[\"ML\", 11.72, 11, \"125S\"], [\"ML\", 12.075, 11, \"125S\"], [\"ML\", 12.85, 11, \"125S\"], [\"ML\", 12.866, 11, \"125S\"], [\"ML\", 12.953, 11, \"125S\"]], \"hovertemplate\": \"speed_cat=moderate<br>linegroup=%{customdata[2]}<br>latitude=%{lat}<br>longitude=%{lon}<br>stype=%{customdata[0]}<br>abs_pm=%{customdata[1]}<br>fwdir=%{customdata[3]}<extra></extra>\", \"lat\": [32.695995, 32.700378, 32.71026, 32.710482, 32.711635], \"legendgroup\": \"moderate\", \"line\": {\"color\": \"orange\", \"width\": 3}, \"lon\": [-117.013866, -117.011606, -117.012799, -117.012885, -117.013079], \"mode\": \"lines\", \"name\": \"moderate\", \"showlegend\": false, \"subplot\": \"mapbox\", \"type\": \"scattermapbox\"}, {\"customdata\": [[\"ML\", 15.317, 14, \"125S\"], [\"ML\", 15.669, 14, \"125S\"]], \"hovertemplate\": \"speed_cat=moderate<br>linegroup=%{customdata[2]}<br>latitude=%{lat}<br>longitude=%{lon}<br>stype=%{customdata[0]}<br>abs_pm=%{customdata[1]}<br>fwdir=%{customdata[3]}<extra></extra>\", \"lat\": [32.741488, 32.744963], \"legendgroup\": \"moderate\", \"line\": {\"color\": \"orange\", \"width\": 3}, \"lon\": [-117.016541, -117.018519], \"mode\": \"lines\", \"name\": \"moderate\", \"showlegend\": false, \"subplot\": \"mapbox\", \"type\": \"scattermapbox\"}, {\"customdata\": [[\"ML\", 16.382, 16, \"125S\"], [\"ML\", 16.752, 16, \"125S\"], [\"ML\", 17.418, 16, \"125S\"]], \"hovertemplate\": \"speed_cat=moderate<br>linegroup=%{customdata[2]}<br>latitude=%{lat}<br>longitude=%{lon}<br>stype=%{customdata[0]}<br>abs_pm=%{customdata[1]}<br>fwdir=%{customdata[3]}<extra></extra>\", \"lat\": [32.749839, 32.752517, 32.759045], \"legendgroup\": \"moderate\", \"line\": {\"color\": \"orange\", \"width\": 3}, \"lon\": [-117.016252, -117.01272, -117.005049], \"mode\": \"lines\", \"name\": \"moderate\", \"showlegend\": false, \"subplot\": \"mapbox\", \"type\": \"scattermapbox\"}, {\"customdata\": [[\"ML\", 19.283, 18, \"125S\"], [\"ML\", 19.937, 18, \"125S\"], [\"ML\", 19.95, 18, \"125S\"], [\"ML\", 20.656, 18, \"125S\"]], \"hovertemplate\": \"speed_cat=moderate<br>linegroup=%{customdata[2]}<br>latitude=%{lat}<br>longitude=%{lon}<br>stype=%{customdata[0]}<br>abs_pm=%{customdata[1]}<br>fwdir=%{customdata[3]}<extra></extra>\", \"lat\": [32.784849, 32.79423, 32.794418, 32.804631], \"legendgroup\": \"moderate\", \"line\": {\"color\": \"orange\", \"width\": 3}, \"lon\": [-117.0061, -117.005898, -117.005858, -117.005603], \"mode\": \"lines\", \"name\": \"moderate\", \"showlegend\": false, \"subplot\": \"mapbox\", \"type\": \"scattermapbox\"}, {\"customdata\": [[\"ML\", 22.809, 20, \"125S\"]], \"hovertemplate\": \"speed_cat=moderate<br>linegroup=%{customdata[2]}<br>latitude=%{lat}<br>longitude=%{lon}<br>stype=%{customdata[0]}<br>abs_pm=%{customdata[1]}<br>fwdir=%{customdata[3]}<extra></extra>\", \"lat\": [32.834748], \"legendgroup\": \"moderate\", \"line\": {\"color\": \"orange\", \"width\": 3}, \"lon\": [-117.003404], \"mode\": \"lines\", \"name\": \"moderate\", \"showlegend\": false, \"subplot\": \"mapbox\", \"type\": \"scattermapbox\"}, {\"customdata\": [[\"ML\", 0.734, 21, \"15N\"], [\"ML\", 1.066, 21, \"15N\"]], \"hovertemplate\": \"speed_cat=moderate<br>linegroup=%{customdata[2]}<br>latitude=%{lat}<br>longitude=%{lon}<br>stype=%{customdata[0]}<br>abs_pm=%{customdata[1]}<br>fwdir=%{customdata[3]}<extra></extra>\", \"lat\": [32.701162, 32.705882], \"legendgroup\": \"moderate\", \"line\": {\"color\": \"orange\", \"width\": 3}, \"lon\": [-117.120639, -117.120433], \"mode\": \"lines\", \"name\": \"moderate\", \"showlegend\": false, \"subplot\": \"mapbox\", \"type\": \"scattermapbox\"}, {\"customdata\": [[\"ML\", 1.829, 23, \"15N\"], [\"ML\", 2.302, 23, \"15N\"], [\"ML\", 3.059, 23, \"15N\"]], \"hovertemplate\": \"speed_cat=moderate<br>linegroup=%{customdata[2]}<br>latitude=%{lat}<br>longitude=%{lon}<br>stype=%{customdata[0]}<br>abs_pm=%{customdata[1]}<br>fwdir=%{customdata[3]}<extra></extra>\", \"lat\": [32.716837, 32.723255, 32.733487], \"legendgroup\": \"moderate\", \"line\": {\"color\": \"orange\", \"width\": 3}, \"lon\": [-117.117751, -117.115308, -117.111847], \"mode\": \"lines\", \"name\": \"moderate\", \"showlegend\": false, \"subplot\": \"mapbox\", \"type\": \"scattermapbox\"}, {\"customdata\": [[\"ML\", 3.77, 25, \"15N\"], [\"ML\", 4.282, 25, \"15N\"], [\"ML\", 4.672, 25, \"15N\"], [\"ML\", 5.213, 25, \"15N\"], [\"ML\", 5.402, 25, \"15N\"]], \"hovertemplate\": \"speed_cat=moderate<br>linegroup=%{customdata[2]}<br>latitude=%{lat}<br>longitude=%{lon}<br>stype=%{customdata[0]}<br>abs_pm=%{customdata[1]}<br>fwdir=%{customdata[3]}<extra></extra>\", \"lat\": [32.743033, 32.749887, 32.755505, 32.763381, 32.765981], \"legendgroup\": \"moderate\", \"line\": {\"color\": \"orange\", \"width\": 3}, \"lon\": [-117.110934, -117.10858, -117.108629, -117.109091, -117.110045], \"mode\": \"lines\", \"name\": \"moderate\", \"showlegend\": false, \"subplot\": \"mapbox\", \"type\": \"scattermapbox\"}, {\"customdata\": [[\"ML\", 6.856, 27, \"15N\"], [\"ML\", 7.141, 27, \"15N\"], [\"ML\", 7.751, 27, \"15N\"], [\"ML\", 8.043, 27, \"15N\"], [\"ML\", 8.513, 27, \"15N\"], [\"ML\", 8.844, 27, \"15N\"], [\"ML\", 9.356, 27, \"15N\"], [\"ML\", 9.748, 27, \"15N\"], [\"ML\", 10.144, 27, \"15N\"], [\"ML\", 10.814, 27, \"15N\"], [\"ML\", 11.261, 27, \"15N\"]], \"hovertemplate\": \"speed_cat=moderate<br>linegroup=%{customdata[2]}<br>latitude=%{lat}<br>longitude=%{lon}<br>stype=%{customdata[0]}<br>abs_pm=%{customdata[1]}<br>fwdir=%{customdata[3]}<extra></extra>\", \"lat\": [32.786224, 32.790215, 32.79893, 32.803162, 32.809942, 32.814701, 32.82201, 32.8276, 32.833224, 32.842596, 32.848411], \"legendgroup\": \"moderate\", \"line\": {\"color\": \"orange\", \"width\": 3}, \"lon\": [-117.114171, -117.112989, -117.112299, -117.112748, -117.113787, -117.114537, -117.116084, -117.117266, -117.118598, -117.119997, -117.116636], \"mode\": \"lines\", \"name\": \"moderate\", \"showlegend\": false, \"subplot\": \"mapbox\", \"type\": \"scattermapbox\"}, {\"customdata\": [[\"ML\", 12.335, 29, \"15N\"], [\"ML\", 12.721, 29, \"15N\"]], \"hovertemplate\": \"speed_cat=moderate<br>linegroup=%{customdata[2]}<br>latitude=%{lat}<br>longitude=%{lon}<br>stype=%{customdata[0]}<br>abs_pm=%{customdata[1]}<br>fwdir=%{customdata[3]}<extra></extra>\", \"lat\": [32.862995, 32.868194], \"legendgroup\": \"moderate\", \"line\": {\"color\": \"orange\", \"width\": 3}, \"lon\": [-117.110269, -117.107817], \"mode\": \"lines\", \"name\": \"moderate\", \"showlegend\": false, \"subplot\": \"mapbox\", \"type\": \"scattermapbox\"}, {\"customdata\": [[\"ML\", 13.524, 31, \"15N\"], [\"ML\", 14.115, 31, \"15N\"], [\"ML\", 14.532, 31, \"15N\"], [\"ML\", 15.263, 31, \"15N\"], [\"ML\", 15.64, 31, \"15N\"]], \"hovertemplate\": \"speed_cat=moderate<br>linegroup=%{customdata[2]}<br>latitude=%{lat}<br>longitude=%{lon}<br>stype=%{customdata[0]}<br>abs_pm=%{customdata[1]}<br>fwdir=%{customdata[3]}<extra></extra>\", \"lat\": [32.87967, 32.887474, 32.893038, 32.903468, 32.908922], \"legendgroup\": \"moderate\", \"line\": {\"color\": \"orange\", \"width\": 3}, \"lon\": [-117.107922, -117.112061, -117.114823, -117.116195, -117.116195], \"mode\": \"lines\", \"name\": \"moderate\", \"showlegend\": false, \"subplot\": \"mapbox\", \"type\": \"scattermapbox\"}, {\"customdata\": [[\"ML\", 16.199, 33, \"15N\"], [\"ML\", 16.808, 33, \"15N\"], [\"ML\", 17.53, 33, \"15N\"], [\"ML\", 18.399, 33, \"15N\"], [\"ML\", 18.819, 33, \"15N\"]], \"hovertemplate\": \"speed_cat=moderate<br>linegroup=%{customdata[2]}<br>latitude=%{lat}<br>longitude=%{lon}<br>stype=%{customdata[0]}<br>abs_pm=%{customdata[1]}<br>fwdir=%{customdata[3]}<extra></extra>\", \"lat\": [32.917072, 32.925766, 32.93588, 32.947622, 32.952937], \"legendgroup\": \"moderate\", \"line\": {\"color\": \"orange\", \"width\": 3}, \"lon\": [-117.115831, -117.114149, -117.111337, -117.106116, -117.102548], \"mode\": \"lines\", \"name\": \"moderate\", \"showlegend\": false, \"subplot\": \"mapbox\", \"type\": \"scattermapbox\"}, {\"customdata\": [[\"ML\", 19.704, 35, \"15N\"], [\"ML\", 20.311, 35, \"15N\"], [\"ML\", 20.842, 35, \"15N\"], [\"ML\", 21.307, 35, \"15N\"], [\"ML\", 21.832, 35, \"15N\"]], \"hovertemplate\": \"speed_cat=moderate<br>linegroup=%{customdata[2]}<br>latitude=%{lat}<br>longitude=%{lon}<br>stype=%{customdata[0]}<br>abs_pm=%{customdata[1]}<br>fwdir=%{customdata[3]}<extra></extra>\", \"lat\": [32.964306, 32.972061, 32.978838, 32.985041, 32.992706], \"legendgroup\": \"moderate\", \"line\": {\"color\": \"orange\", \"width\": 3}, \"lon\": [-117.095374, -117.090496, -117.086204, -117.082852, -117.083408], \"mode\": \"lines\", \"name\": \"moderate\", \"showlegend\": false, \"subplot\": \"mapbox\", \"type\": \"scattermapbox\"}, {\"customdata\": [[\"ML\", 22.301, 37, \"15N\"], [\"ML\", 22.691, 37, \"15N\"], [\"ML\", 23.28, 37, \"15N\"]], \"hovertemplate\": \"speed_cat=moderate<br>linegroup=%{customdata[2]}<br>latitude=%{lat}<br>longitude=%{lon}<br>stype=%{customdata[0]}<br>abs_pm=%{customdata[1]}<br>fwdir=%{customdata[3]}<extra></extra>\", \"lat\": [32.999461, 33.004858, 33.013247], \"legendgroup\": \"moderate\", \"line\": {\"color\": \"orange\", \"width\": 3}, \"lon\": [-117.082451, -117.080707, -117.079485], \"mode\": \"lines\", \"name\": \"moderate\", \"showlegend\": false, \"subplot\": \"mapbox\", \"type\": \"scattermapbox\"}, {\"customdata\": [[\"ML\", 23.561, 39, \"15N\"], [\"ML\", 24.065, 39, \"15N\"], [\"ML\", 24.758, 39, \"15N\"], [\"ML\", 25.284, 39, \"15N\"], [\"ML\", 25.893, 39, \"15N\"]], \"hovertemplate\": \"speed_cat=moderate<br>linegroup=%{customdata[2]}<br>latitude=%{lat}<br>longitude=%{lon}<br>stype=%{customdata[0]}<br>abs_pm=%{customdata[1]}<br>fwdir=%{customdata[3]}<extra></extra>\", \"lat\": [33.017302, 33.024581, 33.03442, 33.041631, 33.0503], \"legendgroup\": \"moderate\", \"line\": {\"color\": \"orange\", \"width\": 3}, \"lon\": [-117.079039, -117.078628, -117.077018, -117.074011, -117.072669], \"mode\": \"lines\", \"name\": \"moderate\", \"showlegend\": false, \"subplot\": \"mapbox\", \"type\": \"scattermapbox\"}, {\"customdata\": [[\"ML\", 25.893, 41, \"15N\"], [\"ML\", 26.249, 41, \"15N\"], [\"ML\", 26.702, 41, \"15N\"], [\"ML\", 27.138, 41, \"15N\"]], \"hovertemplate\": \"speed_cat=moderate<br>linegroup=%{customdata[2]}<br>latitude=%{lat}<br>longitude=%{lon}<br>stype=%{customdata[0]}<br>abs_pm=%{customdata[1]}<br>fwdir=%{customdata[3]}<extra></extra>\", \"lat\": [33.0503, 33.055354, 33.061591, 33.067915], \"legendgroup\": \"moderate\", \"line\": {\"color\": \"orange\", \"width\": 3}, \"lon\": [-117.072669, -117.071497, -117.068995, -117.069049], \"mode\": \"lines\", \"name\": \"moderate\", \"showlegend\": false, \"subplot\": \"mapbox\", \"type\": \"scattermapbox\"}, {\"customdata\": [[\"ML\", 29.081, 43, \"15N\"], [\"ML\", 29.755, 43, \"15N\"]], \"hovertemplate\": \"speed_cat=moderate<br>linegroup=%{customdata[2]}<br>latitude=%{lat}<br>longitude=%{lon}<br>stype=%{customdata[0]}<br>abs_pm=%{customdata[1]}<br>fwdir=%{customdata[3]}<extra></extra>\", \"lat\": [33.092857, 33.100535], \"legendgroup\": \"moderate\", \"line\": {\"color\": \"orange\", \"width\": 3}, \"lon\": [-117.082787, -117.090041], \"mode\": \"lines\", \"name\": \"moderate\", \"showlegend\": false, \"subplot\": \"mapbox\", \"type\": \"scattermapbox\"}, {\"customdata\": [[\"ML\", 31.653, 45, \"15N\"], [\"ML\", 32.877, 45, \"15N\"], [\"ML\", 33.837, 45, \"15N\"], [\"ML\", 34.529, 45, \"15N\"], [\"ML\", 35.451, 45, \"15N\"]], \"hovertemplate\": \"speed_cat=moderate<br>linegroup=%{customdata[2]}<br>latitude=%{lat}<br>longitude=%{lon}<br>stype=%{customdata[0]}<br>abs_pm=%{customdata[1]}<br>fwdir=%{customdata[3]}<extra></extra>\", \"lat\": [33.125282, 33.142901, 33.15709, 33.166377, 33.178414], \"legendgroup\": \"moderate\", \"line\": {\"color\": \"orange\", \"width\": 3}, \"lon\": [-117.104135, -117.104509, -117.104039, -117.10773, -117.114712], \"mode\": \"lines\", \"name\": \"moderate\", \"showlegend\": false, \"subplot\": \"mapbox\", \"type\": \"scattermapbox\"}, {\"customdata\": [[\"ML\", 45.717, 47, \"15N\"], [\"ML\", 48.537, 47, \"15N\"], [\"ML\", 52.347, 47, \"15N\"]], \"hovertemplate\": \"speed_cat=moderate<br>linegroup=%{customdata[2]}<br>latitude=%{lat}<br>longitude=%{lon}<br>stype=%{customdata[0]}<br>abs_pm=%{customdata[1]}<br>fwdir=%{customdata[3]}<extra></extra>\", \"lat\": [33.317188, 33.357444, 33.406738], \"legendgroup\": \"moderate\", \"line\": {\"color\": \"orange\", \"width\": 3}, \"lon\": [-117.153998, -117.158725, -117.164546], \"mode\": \"lines\", \"name\": \"moderate\", \"showlegend\": false, \"subplot\": \"mapbox\", \"type\": \"scattermapbox\"}, {\"customdata\": [[\"ML\", 1.703, 49, \"15S\"], [\"ML\", 2.294, 49, \"15S\"]], \"hovertemplate\": \"speed_cat=moderate<br>linegroup=%{customdata[2]}<br>latitude=%{lat}<br>longitude=%{lon}<br>stype=%{customdata[0]}<br>abs_pm=%{customdata[1]}<br>fwdir=%{customdata[3]}<extra></extra>\", \"lat\": [32.715149, 32.723273], \"legendgroup\": \"moderate\", \"line\": {\"color\": \"orange\", \"width\": 3}, \"lon\": [-117.117869, -117.115525], \"mode\": \"lines\", \"name\": \"moderate\", \"showlegend\": false, \"subplot\": \"mapbox\", \"type\": \"scattermapbox\"}, {\"customdata\": [[\"ML\", 3.049, 51, \"15S\"], [\"ML\", 3.76, 51, \"15S\"]], \"hovertemplate\": \"speed_cat=moderate<br>linegroup=%{customdata[2]}<br>latitude=%{lat}<br>longitude=%{lon}<br>stype=%{customdata[0]}<br>abs_pm=%{customdata[1]}<br>fwdir=%{customdata[3]}<extra></extra>\", \"lat\": [32.733539, 32.74312], \"legendgroup\": \"moderate\", \"line\": {\"color\": \"orange\", \"width\": 3}, \"lon\": [-117.11215, -117.111361], \"mode\": \"lines\", \"name\": \"moderate\", \"showlegend\": false, \"subplot\": \"mapbox\", \"type\": \"scattermapbox\"}, {\"customdata\": [[\"ML\", 4.591, 54, \"15S\"], [\"ML\", 5.082, 54, \"15S\"], [\"ML\", 5.382, 54, \"15S\"], [\"ML\", 6.834, 54, \"15S\"], [\"ML\", 6.847, 54, \"15S\"], [\"ML\", 6.95, 54, \"15S\"], [\"ML\", 7.842, 54, \"15S\"]], \"hovertemplate\": \"speed_cat=moderate<br>linegroup=%{customdata[2]}<br>latitude=%{lat}<br>longitude=%{lon}<br>stype=%{customdata[0]}<br>abs_pm=%{customdata[1]}<br>fwdir=%{customdata[3]}<extra></extra>\", \"lat\": [32.754476, 32.761617, 32.765834, 32.786062, 32.786249, 32.787708, 32.800345], \"legendgroup\": \"moderate\", \"line\": {\"color\": \"orange\", \"width\": 3}, \"lon\": [-117.108977, -117.109257, -117.110379, -117.114472, -117.114457, -117.114165, -117.112825], \"mode\": \"lines\", \"name\": \"moderate\", \"showlegend\": false, \"subplot\": \"mapbox\", \"type\": \"scattermapbox\"}, {\"customdata\": [[\"ML\", 12.712, 58, \"15S\"], [\"ML\", 13.178, 58, \"15S\"]], \"hovertemplate\": \"speed_cat=moderate<br>linegroup=%{customdata[2]}<br>latitude=%{lat}<br>longitude=%{lon}<br>stype=%{customdata[0]}<br>abs_pm=%{customdata[1]}<br>fwdir=%{customdata[3]}<extra></extra>\", \"lat\": [32.868138, 32.874797], \"legendgroup\": \"moderate\", \"line\": {\"color\": \"orange\", \"width\": 3}, \"lon\": [-117.10851, -117.107576], \"mode\": \"lines\", \"name\": \"moderate\", \"showlegend\": false, \"subplot\": \"mapbox\", \"type\": \"scattermapbox\"}, {\"customdata\": [[\"ML\", 13.692, 60, \"15S\"], [\"ML\", 14.03, 60, \"15S\"], [\"ML\", 14.399, 60, \"15S\"], [\"ML\", 14.603, 60, \"15S\"], [\"ML\", 15.629, 60, \"15S\"]], \"hovertemplate\": \"speed_cat=moderate<br>linegroup=%{customdata[2]}<br>latitude=%{lat}<br>longitude=%{lon}<br>stype=%{customdata[0]}<br>abs_pm=%{customdata[1]}<br>fwdir=%{customdata[3]}<extra></extra>\", \"lat\": [32.881993, 32.886392, 32.891265, 32.894088, 32.908916], \"legendgroup\": \"moderate\", \"line\": {\"color\": \"orange\", \"width\": 3}, \"lon\": [-117.109567, -117.112102, -117.114689, -117.115721, -117.116587], \"mode\": \"lines\", \"name\": \"moderate\", \"showlegend\": false, \"subplot\": \"mapbox\", \"type\": \"scattermapbox\"}, {\"customdata\": [[\"ML\", 16.211, 62, \"15S\"], [\"ML\", 16.799, 62, \"15S\"], [\"ML\", 17.488, 62, \"15S\"], [\"ML\", 18.492, 62, \"15S\"]], \"hovertemplate\": \"speed_cat=moderate<br>linegroup=%{customdata[2]}<br>latitude=%{lat}<br>longitude=%{lon}<br>stype=%{customdata[0]}<br>abs_pm=%{customdata[1]}<br>fwdir=%{customdata[3]}<extra></extra>\", \"lat\": [32.917445, 32.92585, 32.935515, 32.949064], \"legendgroup\": \"moderate\", \"line\": {\"color\": \"orange\", \"width\": 3}, \"lon\": [-117.116153, -117.114677, -117.111886, -117.105522], \"mode\": \"lines\", \"name\": \"moderate\", \"showlegend\": false, \"subplot\": \"mapbox\", \"type\": \"scattermapbox\"}, {\"customdata\": [[\"ML\", 19.268, 64, \"15S\"], [\"ML\", 20.304, 64, \"15S\"], [\"ML\", 21.298, 64, \"15S\"]], \"hovertemplate\": \"speed_cat=moderate<br>linegroup=%{customdata[2]}<br>latitude=%{lat}<br>longitude=%{lon}<br>stype=%{customdata[0]}<br>abs_pm=%{customdata[1]}<br>fwdir=%{customdata[3]}<extra></extra>\", \"lat\": [32.959072, 32.972191, 32.985192], \"legendgroup\": \"moderate\", \"line\": {\"color\": \"orange\", \"width\": 3}, \"lon\": [-117.099452, -117.090848, -117.083216], \"mode\": \"lines\", \"name\": \"moderate\", \"showlegend\": false, \"subplot\": \"mapbox\", \"type\": \"scattermapbox\"}, {\"customdata\": [[\"ML\", 22.073, 66, \"15S\"], [\"ML\", 22.682, 66, \"15S\"], [\"ML\", 23.108, 66, \"15S\"]], \"hovertemplate\": \"speed_cat=moderate<br>linegroup=%{customdata[2]}<br>latitude=%{lat}<br>longitude=%{lon}<br>stype=%{customdata[0]}<br>abs_pm=%{customdata[1]}<br>fwdir=%{customdata[3]}<extra></extra>\", \"lat\": [32.996577, 33.004968, 33.010949], \"legendgroup\": \"moderate\", \"line\": {\"color\": \"orange\", \"width\": 3}, \"lon\": [-117.083687, -117.081057, -117.08016], \"mode\": \"lines\", \"name\": \"moderate\", \"showlegend\": false, \"subplot\": \"mapbox\", \"type\": \"scattermapbox\"}, {\"customdata\": [[\"ML\", 23.552, 68, \"15S\"], [\"ML\", 24.066, 68, \"15S\"], [\"ML\", 24.746, 68, \"15S\"], [\"ML\", 25.275, 68, \"15S\"], [\"ML\", 25.882, 68, \"15S\"], [\"ML\", 26.085, 68, \"15S\"], [\"ML\", 26.69, 68, \"15S\"], [\"ML\", 27.258, 68, \"15S\"], [\"ML\", 27.554, 68, \"15S\"], [\"ML\", 28.087, 68, \"15S\"]], \"hovertemplate\": \"speed_cat=moderate<br>linegroup=%{customdata[2]}<br>latitude=%{lat}<br>longitude=%{lon}<br>stype=%{customdata[0]}<br>abs_pm=%{customdata[1]}<br>fwdir=%{customdata[3]}<extra></extra>\", \"lat\": [33.017337, 33.024783, 33.034506, 33.041744, 33.050388, 33.053304, 33.061597, 33.069784, 33.074031, 33.08147], \"legendgroup\": \"moderate\", \"line\": {\"color\": \"orange\", \"width\": 3}, \"lon\": [-117.079473, -117.079, -117.077429, -117.074397, -117.073047, -117.072601, -117.06932, -117.069615, -117.070369, -117.072744], \"mode\": \"lines\", \"name\": \"moderate\", \"showlegend\": false, \"subplot\": \"mapbox\", \"type\": \"scattermapbox\"}, {\"customdata\": [[\"ML\", 30.955, 70, \"15S\"], [\"ML\", 31.644, 70, \"15S\"], [\"ML\", 32.974, 70, \"15S\"], [\"ML\", 33.828, 70, \"15S\"], [\"ML\", 34.52, 70, \"15S\"], [\"ML\", 35.44, 70, \"15S\"]], \"hovertemplate\": \"speed_cat=moderate<br>linegroup=%{customdata[2]}<br>latitude=%{lat}<br>longitude=%{lon}<br>stype=%{customdata[0]}<br>abs_pm=%{customdata[1]}<br>fwdir=%{customdata[3]}<extra></extra>\", \"lat\": [33.116146, 33.125235, 33.144465, 33.157067, 33.166231, 33.178265], \"legendgroup\": \"moderate\", \"line\": {\"color\": \"orange\", \"width\": 3}, \"lon\": [-117.099574, -117.104439, -117.104762, -117.104348, -117.10807, -117.114973], \"mode\": \"lines\", \"name\": \"moderate\", \"showlegend\": false, \"subplot\": \"mapbox\", \"type\": \"scattermapbox\"}, {\"customdata\": [[\"ML\", 48.528, 72, \"15S\"]], \"hovertemplate\": \"speed_cat=moderate<br>linegroup=%{customdata[2]}<br>latitude=%{lat}<br>longitude=%{lon}<br>stype=%{customdata[0]}<br>abs_pm=%{customdata[1]}<br>fwdir=%{customdata[3]}<extra></extra>\", \"lat\": [33.357354], \"legendgroup\": \"moderate\", \"line\": {\"color\": \"orange\", \"width\": 3}, \"lon\": [-117.159131], \"mode\": \"lines\", \"name\": \"moderate\", \"showlegend\": false, \"subplot\": \"mapbox\", \"type\": \"scattermapbox\"}, {\"customdata\": [[\"ML\", 2.289, 74, \"163N\"], [\"ML\", 2.789, 74, \"163N\"]], \"hovertemplate\": \"speed_cat=moderate<br>linegroup=%{customdata[2]}<br>latitude=%{lat}<br>longitude=%{lon}<br>stype=%{customdata[0]}<br>abs_pm=%{customdata[1]}<br>fwdir=%{customdata[3]}<extra></extra>\", \"lat\": [32.7516, 32.757697], \"legendgroup\": \"moderate\", \"line\": {\"color\": \"orange\", \"width\": 3}, \"lon\": [-117.155806, -117.160056], \"mode\": \"lines\", \"name\": \"moderate\", \"showlegend\": false, \"subplot\": \"mapbox\", \"type\": \"scattermapbox\"}, {\"customdata\": [[\"ML\", 6.199, 76, \"163N\"], [\"ML\", 6.777, 76, \"163N\"]], \"hovertemplate\": \"speed_cat=moderate<br>linegroup=%{customdata[2]}<br>latitude=%{lat}<br>longitude=%{lon}<br>stype=%{customdata[0]}<br>abs_pm=%{customdata[1]}<br>fwdir=%{customdata[3]}<extra></extra>\", \"lat\": [32.804762, 32.812726], \"legendgroup\": \"moderate\", \"line\": {\"color\": \"orange\", \"width\": 3}, \"lon\": [-117.154108, -117.151215], \"mode\": \"lines\", \"name\": \"moderate\", \"showlegend\": false, \"subplot\": \"mapbox\", \"type\": \"scattermapbox\"}, {\"customdata\": [[\"ML\", 2.101, 79, \"163S\"], [\"ML\", 2.743, 79, \"163S\"]], \"hovertemplate\": \"speed_cat=moderate<br>linegroup=%{customdata[2]}<br>latitude=%{lat}<br>longitude=%{lon}<br>stype=%{customdata[0]}<br>abs_pm=%{customdata[1]}<br>fwdir=%{customdata[3]}<extra></extra>\", \"lat\": [32.749679, 32.757664], \"legendgroup\": \"moderate\", \"line\": {\"color\": \"orange\", \"width\": 3}, \"lon\": [-117.155519, -117.160289], \"mode\": \"lines\", \"name\": \"moderate\", \"showlegend\": false, \"subplot\": \"mapbox\", \"type\": \"scattermapbox\"}, {\"customdata\": [[\"ML\", 4.653, 81, \"163S\"], [\"ML\", 5.133, 81, \"163S\"], [\"ML\", 6.153, 81, \"163S\"]], \"hovertemplate\": \"speed_cat=moderate<br>linegroup=%{customdata[2]}<br>latitude=%{lat}<br>longitude=%{lon}<br>stype=%{customdata[0]}<br>abs_pm=%{customdata[1]}<br>fwdir=%{customdata[3]}<extra></extra>\", \"lat\": [32.784029, 32.790699, 32.804853], \"legendgroup\": \"moderate\", \"line\": {\"color\": \"orange\", \"width\": 3}, \"lon\": [-117.161945, -117.159531, -117.15441], \"mode\": \"lines\", \"name\": \"moderate\", \"showlegend\": false, \"subplot\": \"mapbox\", \"type\": \"scattermapbox\"}, {\"customdata\": [[\"ML\", 7.235, 83, \"163S\"], [\"ML\", 7.452, 83, \"163S\"]], \"hovertemplate\": \"speed_cat=moderate<br>linegroup=%{customdata[2]}<br>latitude=%{lat}<br>longitude=%{lon}<br>stype=%{customdata[0]}<br>abs_pm=%{customdata[1]}<br>fwdir=%{customdata[3]}<extra></extra>\", \"lat\": [32.8195, 32.822354], \"legendgroup\": \"moderate\", \"line\": {\"color\": \"orange\", \"width\": 3}, \"lon\": [-117.148074, -117.146524], \"mode\": \"lines\", \"name\": \"moderate\", \"showlegend\": false, \"subplot\": \"mapbox\", \"type\": \"scattermapbox\"}, {\"customdata\": [[\"ML\", 0.301, 85, \"52E\"], [\"ML\", 1.308, 85, \"52E\"], [\"ML\", 2.218, 85, \"52E\"], [\"ML\", 3.15, 85, \"52E\"], [\"ML\", 4.856, 85, \"52E\"], [\"ML\", 7.246, 85, \"52E\"]], \"hovertemplate\": \"speed_cat=moderate<br>linegroup=%{customdata[2]}<br>latitude=%{lat}<br>longitude=%{lon}<br>stype=%{customdata[0]}<br>abs_pm=%{customdata[1]}<br>fwdir=%{customdata[3]}<extra></extra>\", \"lat\": [32.837451, 32.841387, 32.846717, 32.846153, 32.839837, 32.841627], \"legendgroup\": \"moderate\", \"line\": {\"color\": \"orange\", \"width\": 3}, \"lon\": [-117.234727, -117.218311, -117.204307, -117.18848, -117.162111, -117.122598], \"mode\": \"lines\", \"name\": \"moderate\", \"showlegend\": false, \"subplot\": \"mapbox\", \"type\": \"scattermapbox\"}, {\"customdata\": [[\"ML\", 7.84, 87, \"52E\"], [\"ML\", 9.271, 87, \"52E\"], [\"ML\", 10.1, 87, \"52E\"], [\"ML\", 10.3, 87, \"52E\"], [\"ML\", 11.401, 87, \"52E\"]], \"hovertemplate\": \"speed_cat=moderate<br>linegroup=%{customdata[2]}<br>latitude=%{lat}<br>longitude=%{lon}<br>stype=%{customdata[0]}<br>abs_pm=%{customdata[1]}<br>fwdir=%{customdata[3]}<extra></extra>\", \"lat\": [32.841719, 32.842684, 32.848323, 32.850297, 32.853811], \"legendgroup\": \"moderate\", \"line\": {\"color\": \"orange\", \"width\": 3}, \"lon\": [-117.112297, -117.087957, -117.075685, -117.073164, -117.055777], \"mode\": \"lines\", \"name\": \"moderate\", \"showlegend\": false, \"subplot\": \"mapbox\", \"type\": \"scattermapbox\"}, {\"customdata\": [[\"ML\", 11.65, 89, \"52E\"], [\"ML\", 12.401, 89, \"52E\"]], \"hovertemplate\": \"speed_cat=moderate<br>linegroup=%{customdata[2]}<br>latitude=%{lat}<br>longitude=%{lon}<br>stype=%{customdata[0]}<br>abs_pm=%{customdata[1]}<br>fwdir=%{customdata[3]}<extra></extra>\", \"lat\": [32.853151, 32.851233], \"legendgroup\": \"moderate\", \"line\": {\"color\": \"orange\", \"width\": 3}, \"lon\": [-117.051554, -117.038885], \"mode\": \"lines\", \"name\": \"moderate\", \"showlegend\": false, \"subplot\": \"mapbox\", \"type\": \"scattermapbox\"}, {\"customdata\": [[\"ML\", 12.921, 91, \"52E\"], [\"ML\", 13.402, 91, \"52E\"]], \"hovertemplate\": \"speed_cat=moderate<br>linegroup=%{customdata[2]}<br>latitude=%{lat}<br>longitude=%{lon}<br>stype=%{customdata[0]}<br>abs_pm=%{customdata[1]}<br>fwdir=%{customdata[3]}<extra></extra>\", \"lat\": [32.848883, 32.84345], \"legendgroup\": \"moderate\", \"line\": {\"color\": \"orange\", \"width\": 3}, \"lon\": [-117.030492, -117.025624], \"mode\": \"lines\", \"name\": \"moderate\", \"showlegend\": false, \"subplot\": \"mapbox\", \"type\": \"scattermapbox\"}, {\"customdata\": [[\"ML\", 14.25, 93, \"52E\"]], \"hovertemplate\": \"speed_cat=moderate<br>linegroup=%{customdata[2]}<br>latitude=%{lat}<br>longitude=%{lon}<br>stype=%{customdata[0]}<br>abs_pm=%{customdata[1]}<br>fwdir=%{customdata[3]}<extra></extra>\", \"lat\": [32.835925], \"legendgroup\": \"moderate\", \"line\": {\"color\": \"orange\", \"width\": 3}, \"lon\": [-117.015497], \"mode\": \"lines\", \"name\": \"moderate\", \"showlegend\": false, \"subplot\": \"mapbox\", \"type\": \"scattermapbox\"}, {\"customdata\": [[\"ML\", 2.219, 95, \"52W\"], [\"ML\", 3.151, 95, \"52W\"], [\"ML\", 3.97, 95, \"52W\"]], \"hovertemplate\": \"speed_cat=moderate<br>linegroup=%{customdata[2]}<br>latitude=%{lat}<br>longitude=%{lon}<br>stype=%{customdata[0]}<br>abs_pm=%{customdata[1]}<br>fwdir=%{customdata[3]}<extra></extra>\", \"lat\": [32.847046, 32.846483, 32.847199], \"legendgroup\": \"moderate\", \"line\": {\"color\": \"orange\", \"width\": 3}, \"lon\": [-117.204305, -117.188458, -117.17441], \"mode\": \"lines\", \"name\": \"moderate\", \"showlegend\": false, \"subplot\": \"mapbox\", \"type\": \"scattermapbox\"}, {\"customdata\": [[\"ML\", 10.301, 97, \"52W\"], [\"ML\", 10.68, 97, \"52W\"], [\"ML\", 11.4, 97, \"52W\"], [\"ML\", 11.651, 97, \"52W\"], [\"ML\", 12.25, 97, \"52W\"], [\"ML\", 12.92, 97, \"52W\"], [\"ML\", 13.4, 97, \"52W\"], [\"ML\", 14.772, 97, \"52W\"]], \"hovertemplate\": \"speed_cat=moderate<br>linegroup=%{customdata[2]}<br>latitude=%{lat}<br>longitude=%{lon}<br>stype=%{customdata[0]}<br>abs_pm=%{customdata[1]}<br>fwdir=%{customdata[3]}<extra></extra>\", \"lat\": [32.850718, 32.853857, 32.854113, 32.853459, 32.851931, 32.849108, 32.843588, null], \"legendgroup\": \"moderate\", \"line\": {\"color\": \"orange\", \"width\": 3}, \"lon\": [-117.07319, -117.067876, -117.055734, -117.051468, -117.041345, -117.030286, -117.025315, null], \"mode\": \"lines\", \"name\": \"moderate\", \"showlegend\": false, \"subplot\": \"mapbox\", \"type\": \"scattermapbox\"}, {\"customdata\": [[\"ML\", 2.904, 99, \"54E\"], [\"ML\", 4.241, 99, \"54E\"], [\"ML\", 5.025, 99, \"54E\"]], \"hovertemplate\": \"speed_cat=moderate<br>linegroup=%{customdata[2]}<br>latitude=%{lat}<br>longitude=%{lon}<br>stype=%{customdata[0]}<br>abs_pm=%{customdata[1]}<br>fwdir=%{customdata[3]}<extra></extra>\", \"lat\": [32.664009, 32.674057, 32.682203], \"legendgroup\": \"moderate\", \"line\": {\"color\": \"orange\", \"width\": 3}, \"lon\": [-117.057617, -117.038294, -117.029012], \"mode\": \"lines\", \"name\": \"moderate\", \"showlegend\": false, \"subplot\": \"mapbox\", \"type\": \"scattermapbox\"}, {\"customdata\": [[\"ML\", 4.036, 102, \"54W\"], [\"ML\", 4.764, 102, \"54W\"]], \"hovertemplate\": \"speed_cat=moderate<br>linegroup=%{customdata[2]}<br>latitude=%{lat}<br>longitude=%{lon}<br>stype=%{customdata[0]}<br>abs_pm=%{customdata[1]}<br>fwdir=%{customdata[3]}<extra></extra>\", \"lat\": [32.671672, 32.679441], \"legendgroup\": \"moderate\", \"line\": {\"color\": \"orange\", \"width\": 3}, \"lon\": [-117.041389, -117.033088], \"mode\": \"lines\", \"name\": \"moderate\", \"showlegend\": false, \"subplot\": \"mapbox\", \"type\": \"scattermapbox\"}, {\"customdata\": [[\"ML\", 0.42, 103, \"56E\"], [\"ML\", 0.966, 103, \"56E\"]], \"hovertemplate\": \"speed_cat=moderate<br>linegroup=%{customdata[2]}<br>latitude=%{lat}<br>longitude=%{lon}<br>stype=%{customdata[0]}<br>abs_pm=%{customdata[1]}<br>fwdir=%{customdata[3]}<extra></extra>\", \"lat\": [32.934775, 32.937845], \"legendgroup\": \"moderate\", \"line\": {\"color\": \"orange\", \"width\": 3}, \"lon\": [-117.235209, -117.226663], \"mode\": \"lines\", \"name\": \"moderate\", \"showlegend\": false, \"subplot\": \"mapbox\", \"type\": \"scattermapbox\"}, {\"customdata\": [[\"ML\", 1.891, 106, \"56E\"], [\"ML\", 2.909, 106, \"56E\"], [\"ML\", 3.188, 106, \"56E\"], [\"ML\", 4.522, 106, \"56E\"], [\"ML\", 5.95, 106, \"56E\"], [\"ML\", 6.173, 106, \"56E\"], [\"ML\", 7.366, 106, \"56E\"], [\"ML\", 8.173, 106, \"56E\"], [\"ML\", 8.563, 106, \"56E\"], [\"ML\", 9.327, 106, \"56E\"]], \"hovertemplate\": \"speed_cat=moderate<br>linegroup=%{customdata[2]}<br>latitude=%{lat}<br>longitude=%{lon}<br>stype=%{customdata[0]}<br>abs_pm=%{customdata[1]}<br>fwdir=%{customdata[3]}<extra></extra>\", \"lat\": [32.944548, 32.950976, 32.952425, 32.965955, 32.960096, 32.958196, 32.953397, 32.956215, 32.958444, 32.962525], \"legendgroup\": \"moderate\", \"line\": {\"color\": \"orange\", \"width\": 3}, \"lon\": [-117.21295, -117.197404, -117.193019, -117.177396, -117.155172, -117.152094, -117.13337, -117.119934, -117.113436, -117.101272], \"mode\": \"lines\", \"name\": \"moderate\", \"showlegend\": false, \"subplot\": \"mapbox\", \"type\": \"scattermapbox\"}, {\"customdata\": [[\"ML\", 1.289, 109, \"56W\"], [\"ML\", 1.861, 109, \"56W\"], [\"ML\", 2.909, 109, \"56W\"], [\"ML\", 3.19, 109, \"56W\"], [\"ML\", 4.519, 109, \"56W\"], [\"ML\", 5.948, 109, \"56W\"], [\"ML\", 6.175, 109, \"56W\"]], \"hovertemplate\": \"speed_cat=moderate<br>linegroup=%{customdata[2]}<br>latitude=%{lat}<br>longitude=%{lon}<br>stype=%{customdata[0]}<br>abs_pm=%{customdata[1]}<br>fwdir=%{customdata[3]}<extra></extra>\", \"lat\": [32.940106, 32.944421, 32.951299, 32.952754, 32.966186, 32.960479, 32.958567], \"legendgroup\": \"moderate\", \"line\": {\"color\": \"orange\", \"width\": 3}, \"lon\": [-117.221888, -117.213509, -117.197463, -117.193087, -117.177595, -117.155182, -117.152079], \"mode\": \"lines\", \"name\": \"moderate\", \"showlegend\": false, \"subplot\": \"mapbox\", \"type\": \"scattermapbox\"}, {\"customdata\": [[\"ML\", 7.661, 111, \"56W\"], [\"ML\", 8.565, 111, \"56W\"]], \"hovertemplate\": \"speed_cat=moderate<br>linegroup=%{customdata[2]}<br>latitude=%{lat}<br>longitude=%{lon}<br>stype=%{customdata[0]}<br>abs_pm=%{customdata[1]}<br>fwdir=%{customdata[3]}<extra></extra>\", \"lat\": [32.954374, 32.958653], \"legendgroup\": \"moderate\", \"line\": {\"color\": \"orange\", \"width\": 3}, \"lon\": [-117.128361, -117.113729], \"mode\": \"lines\", \"name\": \"moderate\", \"showlegend\": false, \"subplot\": \"mapbox\", \"type\": \"scattermapbox\"}, {\"customdata\": [[\"ML\", 9.302, 113, \"56W\"]], \"hovertemplate\": \"speed_cat=moderate<br>linegroup=%{customdata[2]}<br>latitude=%{lat}<br>longitude=%{lon}<br>stype=%{customdata[0]}<br>abs_pm=%{customdata[1]}<br>fwdir=%{customdata[3]}<extra></extra>\", \"lat\": [32.962672], \"legendgroup\": \"moderate\", \"line\": {\"color\": \"orange\", \"width\": 3}, \"lon\": [-117.101859], \"mode\": \"lines\", \"name\": \"moderate\", \"showlegend\": false, \"subplot\": \"mapbox\", \"type\": \"scattermapbox\"}, {\"customdata\": [[\"ML\", 4.004, 115, \"5N\"], [\"ML\", 5.326, 115, \"5N\"]], \"hovertemplate\": \"speed_cat=moderate<br>linegroup=%{customdata[2]}<br>latitude=%{lat}<br>longitude=%{lon}<br>stype=%{customdata[0]}<br>abs_pm=%{customdata[1]}<br>fwdir=%{customdata[3]}<extra></extra>\", \"lat\": [32.577106, 32.595115], \"legendgroup\": \"moderate\", \"line\": {\"color\": \"orange\", \"width\": 3}, \"lon\": [-117.082889, -117.088642], \"mode\": \"lines\", \"name\": \"moderate\", \"showlegend\": false, \"subplot\": \"mapbox\", \"type\": \"scattermapbox\"}, {\"customdata\": [[\"ML\", 7.82, 117, \"5N\"], [\"ML\", 8.524, 117, \"5N\"]], \"hovertemplate\": \"speed_cat=moderate<br>linegroup=%{customdata[2]}<br>latitude=%{lat}<br>longitude=%{lon}<br>stype=%{customdata[0]}<br>abs_pm=%{customdata[1]}<br>fwdir=%{customdata[3]}<extra></extra>\", \"lat\": [32.630565, 32.640259], \"legendgroup\": \"moderate\", \"line\": {\"color\": \"orange\", \"width\": 3}, \"lon\": [-117.096247, -117.100052], \"mode\": \"lines\", \"name\": \"moderate\", \"showlegend\": false, \"subplot\": \"mapbox\", \"type\": \"scattermapbox\"}, {\"customdata\": [[\"ML\", 11.179, 119, \"5N\"], [\"ML\", 11.847, 119, \"5N\"]], \"hovertemplate\": \"speed_cat=moderate<br>linegroup=%{customdata[2]}<br>latitude=%{lat}<br>longitude=%{lon}<br>stype=%{customdata[0]}<br>abs_pm=%{customdata[1]}<br>fwdir=%{customdata[3]}<extra></extra>\", \"lat\": [32.676941, 32.686187], \"legendgroup\": \"moderate\", \"line\": {\"color\": \"orange\", \"width\": 3}, \"lon\": [-117.109212, -117.11275], \"mode\": \"lines\", \"name\": \"moderate\", \"showlegend\": false, \"subplot\": \"mapbox\", \"type\": \"scattermapbox\"}, {\"customdata\": [[\"ML\", 13.073, 123, \"5N\"], [\"ML\", 13.371, 123, \"5N\"]], \"hovertemplate\": \"speed_cat=moderate<br>linegroup=%{customdata[2]}<br>latitude=%{lat}<br>longitude=%{lon}<br>stype=%{customdata[0]}<br>abs_pm=%{customdata[1]}<br>fwdir=%{customdata[3]}<extra></extra>\", \"lat\": [32.69457, 32.695918], \"legendgroup\": \"moderate\", \"line\": {\"color\": \"orange\", \"width\": 3}, \"lon\": [-117.130324, -117.134988], \"mode\": \"lines\", \"name\": \"moderate\", \"showlegend\": false, \"subplot\": \"mapbox\", \"type\": \"scattermapbox\"}, {\"customdata\": [[\"ML\", 14.857, 126, \"5N\"], [\"ML\", 15.231, 126, \"5N\"]], \"hovertemplate\": \"speed_cat=moderate<br>linegroup=%{customdata[2]}<br>latitude=%{lat}<br>longitude=%{lon}<br>stype=%{customdata[0]}<br>abs_pm=%{customdata[1]}<br>fwdir=%{customdata[3]}<extra></extra>\", \"lat\": [32.712599, 32.718046], \"legendgroup\": \"moderate\", \"line\": {\"color\": \"orange\", \"width\": 3}, \"lon\": [-117.147532, -117.147616], \"mode\": \"lines\", \"name\": \"moderate\", \"showlegend\": false, \"subplot\": \"mapbox\", \"type\": \"scattermapbox\"}, {\"customdata\": [[\"ML\", 15.663, 128, \"5N\"], [\"ML\", 16.0, 128, \"5N\"]], \"hovertemplate\": \"speed_cat=moderate<br>linegroup=%{customdata[2]}<br>latitude=%{lat}<br>longitude=%{lon}<br>stype=%{customdata[0]}<br>abs_pm=%{customdata[1]}<br>fwdir=%{customdata[3]}<extra></extra>\", \"lat\": [32.723648, 32.724117], \"legendgroup\": \"moderate\", \"line\": {\"color\": \"orange\", \"width\": 3}, \"lon\": [-117.150497, -117.156091], \"mode\": \"lines\", \"name\": \"moderate\", \"showlegend\": false, \"subplot\": \"mapbox\", \"type\": \"scattermapbox\"}, {\"customdata\": [[\"ML\", 18.791, 130, \"5N\"], [\"ML\", 19.155, 130, \"5N\"], [\"ML\", 20.591, 130, \"5N\"], [\"ML\", 20.758, 130, \"5N\"]], \"hovertemplate\": \"speed_cat=moderate<br>linegroup=%{customdata[2]}<br>latitude=%{lat}<br>longitude=%{lon}<br>stype=%{customdata[0]}<br>abs_pm=%{customdata[1]}<br>fwdir=%{customdata[3]}<extra></extra>\", \"lat\": [32.746748, 32.750068, 32.768302, 32.770668], \"legendgroup\": \"moderate\", \"line\": {\"color\": \"orange\", \"width\": 3}, \"lon\": [-117.191312, -117.196046, -117.206075, -117.206677], \"mode\": \"lines\", \"name\": \"moderate\", \"showlegend\": false, \"subplot\": \"mapbox\", \"type\": \"scattermapbox\"}, {\"customdata\": [[\"ML\", 22.215, 133, \"5N\"], [\"ML\", 22.635, 133, \"5N\"], [\"ML\", 23.475, 133, \"5N\"]], \"hovertemplate\": \"speed_cat=moderate<br>linegroup=%{customdata[2]}<br>latitude=%{lat}<br>longitude=%{lon}<br>stype=%{customdata[0]}<br>abs_pm=%{customdata[1]}<br>fwdir=%{customdata[3]}<extra></extra>\", \"lat\": [32.79154, 32.797132, 32.807939], \"legendgroup\": \"moderate\", \"line\": {\"color\": \"orange\", \"width\": 3}, \"lon\": [-117.20716, -117.209541, -117.216589], \"mode\": \"lines\", \"name\": \"moderate\", \"showlegend\": false, \"subplot\": \"mapbox\", \"type\": \"scattermapbox\"}, {\"customdata\": [[\"ML\", 31.167, 135, \"5N\"], [\"ML\", 31.805, 135, \"5N\"], [\"ML\", 31.807, 135, \"5N\"]], \"hovertemplate\": \"speed_cat=moderate<br>linegroup=%{customdata[2]}<br>latitude=%{lat}<br>longitude=%{lon}<br>stype=%{customdata[0]}<br>abs_pm=%{customdata[1]}<br>fwdir=%{customdata[3]}<extra></extra>\", \"lat\": [32.911944, 32.918887, 32.918909], \"legendgroup\": \"moderate\", \"line\": {\"color\": \"orange\", \"width\": 3}, \"lon\": [-117.228498, -117.235544, -117.235565], \"mode\": \"lines\", \"name\": \"moderate\", \"showlegend\": false, \"subplot\": \"mapbox\", \"type\": \"scattermapbox\"}, {\"customdata\": [[\"ML\", 32.357, 137, \"5N\"], [\"ML\", 32.793, 137, \"5N\"], [\"ML\", 32.795, 137, \"5N\"]], \"hovertemplate\": \"speed_cat=moderate<br>linegroup=%{customdata[2]}<br>latitude=%{lat}<br>longitude=%{lon}<br>stype=%{customdata[0]}<br>abs_pm=%{customdata[1]}<br>fwdir=%{customdata[3]}<extra></extra>\", \"lat\": [32.925983, 32.932244, 32.932271], \"legendgroup\": \"moderate\", \"line\": {\"color\": \"orange\", \"width\": 3}, \"lon\": [-117.23942, -117.241031, -117.241036], \"mode\": \"lines\", \"name\": \"moderate\", \"showlegend\": false, \"subplot\": \"mapbox\", \"type\": \"scattermapbox\"}, {\"customdata\": [[\"ML\", 33.571, 139, \"5N\"], [\"ML\", 34.033, 139, \"5N\"], [\"ML\", 34.891, 139, \"5N\"], [\"ML\", 35.375, 139, \"5N\"], [\"ML\", 36.123, 139, \"5N\"]], \"hovertemplate\": \"speed_cat=moderate<br>linegroup=%{customdata[2]}<br>latitude=%{lat}<br>longitude=%{lon}<br>stype=%{customdata[0]}<br>abs_pm=%{customdata[1]}<br>fwdir=%{customdata[3]}<extra></extra>\", \"lat\": [32.943477, 32.950106, 32.962322, 32.969013, 32.979357], \"legendgroup\": \"moderate\", \"line\": {\"color\": \"orange\", \"width\": 3}, \"lon\": [-117.242328, -117.243571, -117.246309, -117.248831, -117.252719], \"mode\": \"lines\", \"name\": \"moderate\", \"showlegend\": false, \"subplot\": \"mapbox\", \"type\": \"scattermapbox\"}, {\"customdata\": [[\"ML\", 37.971, 141, \"5N\"], [\"ML\", 39.091, 141, \"5N\"]], \"hovertemplate\": \"speed_cat=moderate<br>linegroup=%{customdata[2]}<br>latitude=%{lat}<br>longitude=%{lon}<br>stype=%{customdata[0]}<br>abs_pm=%{customdata[1]}<br>fwdir=%{customdata[3]}<extra></extra>\", \"lat\": [33.00551, 33.017612], \"legendgroup\": \"moderate\", \"line\": {\"color\": \"orange\", \"width\": 3}, \"lon\": [-117.25907, -117.27184], \"mode\": \"lines\", \"name\": \"moderate\", \"showlegend\": false, \"subplot\": \"mapbox\", \"type\": \"scattermapbox\"}, {\"customdata\": [[\"ML\", 39.793, 143, \"5N\"], [\"ML\", 40.577, 143, \"5N\"], [\"ML\", 41.391, 143, \"5N\"], [\"ML\", 41.922, 143, \"5N\"]], \"hovertemplate\": \"speed_cat=moderate<br>linegroup=%{customdata[2]}<br>latitude=%{lat}<br>longitude=%{lon}<br>stype=%{customdata[0]}<br>abs_pm=%{customdata[1]}<br>fwdir=%{customdata[3]}<extra></extra>\", \"lat\": [33.027309, 33.037208, 33.048098, 33.055577], \"legendgroup\": \"moderate\", \"line\": {\"color\": \"orange\", \"width\": 3}, \"lon\": [-117.275242, -117.281927, -117.286976, -117.289125], \"mode\": \"lines\", \"name\": \"moderate\", \"showlegend\": false, \"subplot\": \"mapbox\", \"type\": \"scattermapbox\"}, {\"customdata\": [[\"ML\", 44.101, 145, \"5N\"], [\"ML\", 44.591, 145, \"5N\"]], \"hovertemplate\": \"speed_cat=moderate<br>linegroup=%{customdata[2]}<br>latitude=%{lat}<br>longitude=%{lon}<br>stype=%{customdata[0]}<br>abs_pm=%{customdata[1]}<br>fwdir=%{customdata[3]}<extra></extra>\", \"lat\": [33.086077, 33.09232], \"legendgroup\": \"moderate\", \"line\": {\"color\": \"orange\", \"width\": 3}, \"lon\": [-117.299048, -117.303146], \"mode\": \"lines\", \"name\": \"moderate\", \"showlegend\": false, \"subplot\": \"mapbox\", \"type\": \"scattermapbox\"}, {\"customdata\": [[\"ML\", 45.473, 147, \"5N\"], [\"ML\", 46.436, 147, \"5N\"]], \"hovertemplate\": \"speed_cat=moderate<br>linegroup=%{customdata[2]}<br>latitude=%{lat}<br>longitude=%{lon}<br>stype=%{customdata[0]}<br>abs_pm=%{customdata[1]}<br>fwdir=%{customdata[3]}<extra></extra>\", \"lat\": [33.103602, 33.115949], \"legendgroup\": \"moderate\", \"line\": {\"color\": \"orange\", \"width\": 3}, \"lon\": [-117.310425, -117.31811], \"mode\": \"lines\", \"name\": \"moderate\", \"showlegend\": false, \"subplot\": \"mapbox\", \"type\": \"scattermapbox\"}, {\"customdata\": [[\"ML\", 53.188, 153, \"5N\"], [\"ML\", 53.691, 153, \"5N\"], [\"ML\", 54.326, 153, \"5N\"], [\"ML\", 55.341, 153, \"5N\"]], \"hovertemplate\": \"speed_cat=moderate<br>linegroup=%{customdata[2]}<br>latitude=%{lat}<br>longitude=%{lon}<br>stype=%{customdata[0]}<br>abs_pm=%{customdata[1]}<br>fwdir=%{customdata[3]}<extra></extra>\", \"lat\": [33.200816, 33.203683, 33.211043, 33.224874], \"legendgroup\": \"moderate\", \"line\": {\"color\": \"orange\", \"width\": 3}, \"lon\": [-117.373244, -117.381192, -117.38743, -117.393754], \"mode\": \"lines\", \"name\": \"moderate\", \"showlegend\": false, \"subplot\": \"mapbox\", \"type\": \"scattermapbox\"}, {\"customdata\": [[\"ML\", 56.411, 155, \"5N\"], [\"ML\", 57.391, 155, \"5N\"]], \"hovertemplate\": \"speed_cat=moderate<br>linegroup=%{customdata[2]}<br>latitude=%{lat}<br>longitude=%{lon}<br>stype=%{customdata[0]}<br>abs_pm=%{customdata[1]}<br>fwdir=%{customdata[3]}<extra></extra>\", \"lat\": [33.236554, 33.246111], \"legendgroup\": \"moderate\", \"line\": {\"color\": \"orange\", \"width\": 3}, \"lon\": [-117.40592, -117.417364], \"mode\": \"lines\", \"name\": \"moderate\", \"showlegend\": false, \"subplot\": \"mapbox\", \"type\": \"scattermapbox\"}, {\"customdata\": [[\"ML\", 60.491, 157, \"5N\"], [\"ML\", 62.481, 157, \"5N\"], [\"ML\", 68.341, 157, \"5N\"], [\"ML\", 70.931, 157, \"5N\"], [\"ML\", 72.021, 157, \"5N\"]], \"hovertemplate\": \"speed_cat=moderate<br>linegroup=%{customdata[2]}<br>latitude=%{lat}<br>longitude=%{lon}<br>stype=%{customdata[0]}<br>abs_pm=%{customdata[1]}<br>fwdir=%{customdata[3]}<extra></extra>\", \"lat\": [33.281567, 33.303917, 33.363, 33.383518, 33.393542], \"legendgroup\": \"moderate\", \"line\": {\"color\": \"orange\", \"width\": 3}, \"lon\": [-117.449193, -117.470642, -117.540497, -117.577735, -117.591561], \"mode\": \"lines\", \"name\": \"moderate\", \"showlegend\": false, \"subplot\": \"mapbox\", \"type\": \"scattermapbox\"}, {\"customdata\": [[\"ML\", 4.578, 159, \"5S\"], [\"ML\", 5.324, 159, \"5S\"]], \"hovertemplate\": \"speed_cat=moderate<br>linegroup=%{customdata[2]}<br>latitude=%{lat}<br>longitude=%{lon}<br>stype=%{customdata[0]}<br>abs_pm=%{customdata[1]}<br>fwdir=%{customdata[3]}<extra></extra>\", \"lat\": [32.584271, 32.59507], \"legendgroup\": \"moderate\", \"line\": {\"color\": \"orange\", \"width\": 3}, \"lon\": [-117.087551, -117.088901], \"mode\": \"lines\", \"name\": \"moderate\", \"showlegend\": false, \"subplot\": \"mapbox\", \"type\": \"scattermapbox\"}, {\"customdata\": [[\"ML\", 5.324, 161, \"5S\"], [\"ML\", 6.627, 161, \"5S\"], [\"ML\", 7.201, 161, \"5S\"]], \"hovertemplate\": \"speed_cat=moderate<br>linegroup=%{customdata[2]}<br>latitude=%{lat}<br>longitude=%{lon}<br>stype=%{customdata[0]}<br>abs_pm=%{customdata[1]}<br>fwdir=%{customdata[3]}<extra></extra>\", \"lat\": [32.59507, 32.613849, 32.621946], \"legendgroup\": \"moderate\", \"line\": {\"color\": \"orange\", \"width\": 3}, \"lon\": [-117.088901, -117.091173, -117.093171], \"mode\": \"lines\", \"name\": \"moderate\", \"showlegend\": false, \"subplot\": \"mapbox\", \"type\": \"scattermapbox\"}, {\"customdata\": [[\"ML\", 9.898, 163, \"5S\"], [\"ML\", 10.796, 163, \"5S\"]], \"hovertemplate\": \"speed_cat=moderate<br>linegroup=%{customdata[2]}<br>latitude=%{lat}<br>longitude=%{lon}<br>stype=%{customdata[0]}<br>abs_pm=%{customdata[1]}<br>fwdir=%{customdata[3]}<extra></extra>\", \"lat\": [32.658893, 32.671761], \"legendgroup\": \"moderate\", \"line\": {\"color\": \"orange\", \"width\": 3}, \"lon\": [-117.107675, -117.111234], \"mode\": \"lines\", \"name\": \"moderate\", \"showlegend\": false, \"subplot\": \"mapbox\", \"type\": \"scattermapbox\"}, {\"customdata\": [[\"ML\", 14.416, 168, \"5S\"], [\"ML\", 14.856, 168, \"5S\"]], \"hovertemplate\": \"speed_cat=moderate<br>linegroup=%{customdata[2]}<br>latitude=%{lat}<br>longitude=%{lon}<br>stype=%{customdata[0]}<br>abs_pm=%{customdata[1]}<br>fwdir=%{customdata[3]}<extra></extra>\", \"lat\": [32.7062, 32.712581], \"legendgroup\": \"moderate\", \"line\": {\"color\": \"orange\", \"width\": 3}, \"lon\": [-117.147722, -117.147751], \"mode\": \"lines\", \"name\": \"moderate\", \"showlegend\": false, \"subplot\": \"mapbox\", \"type\": \"scattermapbox\"}, {\"customdata\": [[\"ML\", 15.698, 170, \"5S\"], [\"ML\", 16.001, 170, \"5S\"]], \"hovertemplate\": \"speed_cat=moderate<br>linegroup=%{customdata[2]}<br>latitude=%{lat}<br>longitude=%{lon}<br>stype=%{customdata[0]}<br>abs_pm=%{customdata[1]}<br>fwdir=%{customdata[3]}<extra></extra>\", \"lat\": [32.723795, 32.723898], \"legendgroup\": \"moderate\", \"line\": {\"color\": \"orange\", \"width\": 3}, \"lon\": [-117.151061, -117.156068], \"mode\": \"lines\", \"name\": \"moderate\", \"showlegend\": false, \"subplot\": \"mapbox\", \"type\": \"scattermapbox\"}, {\"customdata\": [[\"ML\", 16.666, 172, \"5S\"], [\"ML\", 17.23, 172, \"5S\"]], \"hovertemplate\": \"speed_cat=moderate<br>linegroup=%{customdata[2]}<br>latitude=%{lat}<br>longitude=%{lon}<br>stype=%{customdata[0]}<br>abs_pm=%{customdata[1]}<br>fwdir=%{customdata[3]}<extra></extra>\", \"lat\": [32.725281, 32.731834], \"legendgroup\": \"moderate\", \"line\": {\"color\": \"orange\", \"width\": 3}, \"lon\": [-117.166084, -117.171905], \"mode\": \"lines\", \"name\": \"moderate\", \"showlegend\": false, \"subplot\": \"mapbox\", \"type\": \"scattermapbox\"}, {\"customdata\": [[\"ML\", 17.232, 174, \"5S\"], [\"ML\", 17.572, 174, \"5S\"]], \"hovertemplate\": \"speed_cat=moderate<br>linegroup=%{customdata[2]}<br>latitude=%{lat}<br>longitude=%{lon}<br>stype=%{customdata[0]}<br>abs_pm=%{customdata[1]}<br>fwdir=%{customdata[3]}<extra></extra>\", \"lat\": [32.731858, 32.735815], \"legendgroup\": \"moderate\", \"line\": {\"color\": \"orange\", \"width\": 3}, \"lon\": [-117.171925, -117.175452], \"mode\": \"lines\", \"name\": \"moderate\", \"showlegend\": false, \"subplot\": \"mapbox\", \"type\": \"scattermapbox\"}, {\"customdata\": [[\"ML\", 18.05, 176, \"5S\"], [\"ML\", 18.346, 176, \"5S\"]], \"hovertemplate\": \"speed_cat=moderate<br>linegroup=%{customdata[2]}<br>latitude=%{lat}<br>longitude=%{lon}<br>stype=%{customdata[0]}<br>abs_pm=%{customdata[1]}<br>fwdir=%{customdata[3]}<extra></extra>\", \"lat\": [32.741281, 32.743425], \"legendgroup\": \"moderate\", \"line\": {\"color\": \"orange\", \"width\": 3}, \"lon\": [-117.180454, -117.1848], \"mode\": \"lines\", \"name\": \"moderate\", \"showlegend\": false, \"subplot\": \"mapbox\", \"type\": \"scattermapbox\"}, {\"customdata\": [[\"ML\", 20.611, 178, \"5S\"], [\"ML\", 21.366, 178, \"5S\"], [\"ML\", 21.973, 178, \"5S\"]], \"hovertemplate\": \"speed_cat=moderate<br>linegroup=%{customdata[2]}<br>latitude=%{lat}<br>longitude=%{lon}<br>stype=%{customdata[0]}<br>abs_pm=%{customdata[1]}<br>fwdir=%{customdata[3]}<extra></extra>\", \"lat\": [32.768531, 32.779286, 32.788012], \"legendgroup\": \"moderate\", \"line\": {\"color\": \"orange\", \"width\": 3}, \"lon\": [-117.206423, -117.2086, -117.207155], \"mode\": \"lines\", \"name\": \"moderate\", \"showlegend\": false, \"subplot\": \"mapbox\", \"type\": \"scattermapbox\"}, {\"customdata\": [[\"ML\", 22.85, 180, \"5S\"], [\"ML\", 23.466, 180, \"5S\"]], \"hovertemplate\": \"speed_cat=moderate<br>linegroup=%{customdata[2]}<br>latitude=%{lat}<br>longitude=%{lon}<br>stype=%{customdata[0]}<br>abs_pm=%{customdata[1]}<br>fwdir=%{customdata[3]}<extra></extra>\", \"lat\": [32.800051, 32.807702], \"legendgroup\": \"moderate\", \"line\": {\"color\": \"orange\", \"width\": 3}, \"lon\": [-117.211487, -117.216754], \"mode\": \"lines\", \"name\": \"moderate\", \"showlegend\": false, \"subplot\": \"mapbox\", \"type\": \"scattermapbox\"}, {\"customdata\": [[\"ML\", 26.621, 182, \"5S\"], [\"ML\", 27.794, 182, \"5S\"], [\"ML\", 28.355, 182, \"5S\"]], \"hovertemplate\": \"speed_cat=moderate<br>linegroup=%{customdata[2]}<br>latitude=%{lat}<br>longitude=%{lon}<br>stype=%{customdata[0]}<br>abs_pm=%{customdata[1]}<br>fwdir=%{customdata[3]}<extra></extra>\", \"lat\": [32.848532, 32.864527, 32.87259], \"legendgroup\": \"moderate\", \"line\": {\"color\": \"orange\", \"width\": 3}, \"lon\": [-117.235725, -117.230028, -117.229295], \"mode\": \"lines\", \"name\": \"moderate\", \"showlegend\": false, \"subplot\": \"mapbox\", \"type\": \"scattermapbox\"}, {\"customdata\": [[\"ML\", 31.136, 184, \"5S\"], [\"ML\", 31.517, 184, \"5S\"]], \"hovertemplate\": \"speed_cat=moderate<br>linegroup=%{customdata[2]}<br>latitude=%{lat}<br>longitude=%{lon}<br>stype=%{customdata[0]}<br>abs_pm=%{customdata[1]}<br>fwdir=%{customdata[3]}<extra></extra>\", \"lat\": [32.911761, 32.91625], \"legendgroup\": \"moderate\", \"line\": {\"color\": \"orange\", \"width\": 3}, \"lon\": [-117.228812, -117.232541], \"mode\": \"lines\", \"name\": \"moderate\", \"showlegend\": false, \"subplot\": \"mapbox\", \"type\": \"scattermapbox\"}, {\"customdata\": [[\"ML\", 31.773, 186, \"5S\"], [\"ML\", 31.775, 186, \"5S\"], [\"ML\", 32.324, 186, \"5S\"], [\"ML\", 32.663, 186, \"5S\"], [\"ML\", 33.539, 186, \"5S\"], [\"ML\", 34.169, 186, \"5S\"]], \"hovertemplate\": \"speed_cat=moderate<br>linegroup=%{customdata[2]}<br>latitude=%{lat}<br>longitude=%{lon}<br>stype=%{customdata[0]}<br>abs_pm=%{customdata[1]}<br>fwdir=%{customdata[3]}<extra></extra>\", \"lat\": [32.918796, 32.918817, 32.925907, 32.930855, 32.943442, 32.952468], \"legendgroup\": \"moderate\", \"line\": {\"color\": \"orange\", \"width\": 3}, \"lon\": [-117.235719, -117.235742, -117.239661, -117.241058, -117.242594, -117.244298], \"mode\": \"lines\", \"name\": \"moderate\", \"showlegend\": false, \"subplot\": \"mapbox\", \"type\": \"scattermapbox\"}, {\"customdata\": [[\"ML\", 35.108, 188, \"5S\"], [\"ML\", 36.136, 188, \"5S\"]], \"hovertemplate\": \"speed_cat=moderate<br>linegroup=%{customdata[2]}<br>latitude=%{lat}<br>longitude=%{lon}<br>stype=%{customdata[0]}<br>abs_pm=%{customdata[1]}<br>fwdir=%{customdata[3]}<extra></extra>\", \"lat\": [32.96573, 32.979936], \"legendgroup\": \"moderate\", \"line\": {\"color\": \"orange\", \"width\": 3}, \"lon\": [-117.247857, -117.253246], \"mode\": \"lines\", \"name\": \"moderate\", \"showlegend\": false, \"subplot\": \"mapbox\", \"type\": \"scattermapbox\"}, {\"customdata\": [[\"ML\", 39.059, 190, \"5S\"], [\"ML\", 39.685, 190, \"5S\"]], \"hovertemplate\": \"speed_cat=moderate<br>linegroup=%{customdata[2]}<br>latitude=%{lat}<br>longitude=%{lon}<br>stype=%{customdata[0]}<br>abs_pm=%{customdata[1]}<br>fwdir=%{customdata[3]}<extra></extra>\", \"lat\": [33.017512, 33.02625], \"legendgroup\": \"moderate\", \"line\": {\"color\": \"orange\", \"width\": 3}, \"lon\": [-117.272059, -117.274915], \"mode\": \"lines\", \"name\": \"moderate\", \"showlegend\": false, \"subplot\": \"mapbox\", \"type\": \"scattermapbox\"}, {\"customdata\": [[\"ML\", 46.955, 194, \"5S\"], [\"ML\", 47.823, 194, \"5S\"]], \"hovertemplate\": \"speed_cat=moderate<br>linegroup=%{customdata[2]}<br>latitude=%{lat}<br>longitude=%{lon}<br>stype=%{customdata[0]}<br>abs_pm=%{customdata[1]}<br>fwdir=%{customdata[3]}<extra></extra>\", \"lat\": [33.122973, 33.134215], \"legendgroup\": \"moderate\", \"line\": {\"color\": \"orange\", \"width\": 3}, \"lon\": [-117.322702, -117.329382], \"mode\": \"lines\", \"name\": \"moderate\", \"showlegend\": false, \"subplot\": \"mapbox\", \"type\": \"scattermapbox\"}, {\"customdata\": [[\"ML\", 49.108, 196, \"5S\"], [\"ML\", 49.948, 196, \"5S\"], [\"ML\", 50.568, 196, \"5S\"], [\"ML\", 51.293, 196, \"5S\"]], \"hovertemplate\": \"speed_cat=moderate<br>linegroup=%{customdata[2]}<br>latitude=%{lat}<br>longitude=%{lon}<br>stype=%{customdata[0]}<br>abs_pm=%{customdata[1]}<br>fwdir=%{customdata[3]}<extra></extra>\", \"lat\": [33.151704, 33.162818, 33.17092, 33.179734], \"legendgroup\": \"moderate\", \"line\": {\"color\": \"orange\", \"width\": 3}, \"lon\": [-117.336331, -117.342266, -117.346811, -117.353651], \"mode\": \"lines\", \"name\": \"moderate\", \"showlegend\": false, \"subplot\": \"mapbox\", \"type\": \"scattermapbox\"}, {\"customdata\": [[\"ML\", 53.158, 198, \"5S\"], [\"ML\", 54.292, 198, \"5S\"], [\"ML\", 54.858, 198, \"5S\"]], \"hovertemplate\": \"speed_cat=moderate<br>linegroup=%{customdata[2]}<br>latitude=%{lat}<br>longitude=%{lon}<br>stype=%{customdata[0]}<br>abs_pm=%{customdata[1]}<br>fwdir=%{customdata[3]}<extra></extra>\", \"lat\": [33.200618, 33.210909, 33.218567], \"legendgroup\": \"moderate\", \"line\": {\"color\": \"orange\", \"width\": 3}, \"lon\": [-117.373434, -117.387715, -117.391109], \"mode\": \"lines\", \"name\": \"moderate\", \"showlegend\": false, \"subplot\": \"mapbox\", \"type\": \"scattermapbox\"}, {\"customdata\": [[\"ML\", 55.858, 200, \"5S\"], [\"ML\", 56.858, 200, \"5S\"]], \"hovertemplate\": \"speed_cat=moderate<br>linegroup=%{customdata[2]}<br>latitude=%{lat}<br>longitude=%{lon}<br>stype=%{customdata[0]}<br>abs_pm=%{customdata[1]}<br>fwdir=%{customdata[3]}<extra></extra>\", \"lat\": [33.230196, 33.240152], \"legendgroup\": \"moderate\", \"line\": {\"color\": \"orange\", \"width\": 3}, \"lon\": [-117.400904, -117.413376], \"mode\": \"lines\", \"name\": \"moderate\", \"showlegend\": false, \"subplot\": \"mapbox\", \"type\": \"scattermapbox\"}, {\"customdata\": [[\"ML\", 60.429, 202, \"5S\"], [\"ML\", 62.419, 202, \"5S\"], [\"ML\", 65.448, 202, \"5S\"], [\"ML\", 70.878, 202, \"5S\"]], \"hovertemplate\": \"speed_cat=moderate<br>linegroup=%{customdata[2]}<br>latitude=%{lat}<br>longitude=%{lon}<br>stype=%{customdata[0]}<br>abs_pm=%{customdata[1]}<br>fwdir=%{customdata[3]}<extra></extra>\", \"lat\": [33.28144, 33.303834, 33.336526, 33.383349], \"legendgroup\": \"moderate\", \"line\": {\"color\": \"orange\", \"width\": 3}, \"lon\": [-117.449446, -117.470867, -117.503236, -117.578043], \"mode\": \"lines\", \"name\": \"moderate\", \"showlegend\": false, \"subplot\": \"mapbox\", \"type\": \"scattermapbox\"}, {\"customdata\": [[\"ML\", 2.326, 204, \"67N\"], [\"ML\", 20.312, 204, \"67N\"]], \"hovertemplate\": \"speed_cat=moderate<br>linegroup=%{customdata[2]}<br>latitude=%{lat}<br>longitude=%{lon}<br>stype=%{customdata[0]}<br>abs_pm=%{customdata[1]}<br>fwdir=%{customdata[3]}<extra></extra>\", \"lat\": [32.836541, 33.00898], \"legendgroup\": \"moderate\", \"line\": {\"color\": \"orange\", \"width\": 3}, \"lon\": [-116.961871, -116.914995], \"mode\": \"lines\", \"name\": \"moderate\", \"showlegend\": false, \"subplot\": \"mapbox\", \"type\": \"scattermapbox\"}, {\"customdata\": [[\"ML\", 2.325, 206, \"67S\"], [\"ML\", 18.612, 206, \"67S\"]], \"hovertemplate\": \"speed_cat=moderate<br>linegroup=%{customdata[2]}<br>latitude=%{lat}<br>longitude=%{lon}<br>stype=%{customdata[0]}<br>abs_pm=%{customdata[1]}<br>fwdir=%{customdata[3]}<extra></extra>\", \"lat\": [32.836578, 33.010814], \"legendgroup\": \"moderate\", \"line\": {\"color\": \"orange\", \"width\": 3}, \"lon\": [-116.962176, -116.942976], \"mode\": \"lines\", \"name\": \"moderate\", \"showlegend\": false, \"subplot\": \"mapbox\", \"type\": \"scattermapbox\"}, {\"customdata\": [[\"ML\", 9.183, 207, \"76E\"], [\"ML\", 10.325, 207, \"76E\"], [\"ML\", 12.15, 207, \"76E\"], [\"ML\", 13.336, 207, \"76E\"]], \"hovertemplate\": \"speed_cat=moderate<br>linegroup=%{customdata[2]}<br>latitude=%{lat}<br>longitude=%{lon}<br>stype=%{customdata[0]}<br>abs_pm=%{customdata[1]}<br>fwdir=%{customdata[3]}<extra></extra>\", \"lat\": [33.254688, 33.269193, 33.290768, 33.303867], \"legendgroup\": \"moderate\", \"line\": {\"color\": \"orange\", \"width\": 3}, \"lon\": [-117.241762, -117.236237, -117.225515, -117.213732], \"mode\": \"lines\", \"name\": \"moderate\", \"showlegend\": false, \"subplot\": \"mapbox\", \"type\": \"scattermapbox\"}, {\"customdata\": [[\"ML\", 13.337, 209, \"76E\"]], \"hovertemplate\": \"speed_cat=moderate<br>linegroup=%{customdata[2]}<br>latitude=%{lat}<br>longitude=%{lon}<br>stype=%{customdata[0]}<br>abs_pm=%{customdata[1]}<br>fwdir=%{customdata[3]}<extra></extra>\", \"lat\": [33.303877], \"legendgroup\": \"moderate\", \"line\": {\"color\": \"orange\", \"width\": 3}, \"lon\": [-117.21372], \"mode\": \"lines\", \"name\": \"moderate\", \"showlegend\": false, \"subplot\": \"mapbox\", \"type\": \"scattermapbox\"}, {\"customdata\": [[\"ML\", 10.275, 211, \"76W\"], [\"ML\", 12.151, 211, \"76W\"]], \"hovertemplate\": \"speed_cat=moderate<br>linegroup=%{customdata[2]}<br>latitude=%{lat}<br>longitude=%{lon}<br>stype=%{customdata[0]}<br>abs_pm=%{customdata[1]}<br>fwdir=%{customdata[3]}<extra></extra>\", \"lat\": [33.268486, 33.290782], \"legendgroup\": \"moderate\", \"line\": {\"color\": \"orange\", \"width\": 3}, \"lon\": [-117.236368, -117.225513], \"mode\": \"lines\", \"name\": \"moderate\", \"showlegend\": false, \"subplot\": \"mapbox\", \"type\": \"scattermapbox\"}, {\"customdata\": [[\"ML\", 17.411, 214, \"76W\"]], \"hovertemplate\": \"speed_cat=moderate<br>linegroup=%{customdata[2]}<br>latitude=%{lat}<br>longitude=%{lon}<br>stype=%{customdata[0]}<br>abs_pm=%{customdata[1]}<br>fwdir=%{customdata[3]}<extra></extra>\", \"lat\": [33.332408], \"legendgroup\": \"moderate\", \"line\": {\"color\": \"orange\", \"width\": 3}, \"lon\": [-117.157839], \"mode\": \"lines\", \"name\": \"moderate\", \"showlegend\": false, \"subplot\": \"mapbox\", \"type\": \"scattermapbox\"}, {\"customdata\": [[\"ML\", 0.411, 215, \"78E\"], [\"ML\", 0.854, 215, \"78E\"], [\"ML\", 1.59, 215, \"78E\"], [\"ML\", 3.219, 215, \"78E\"]], \"hovertemplate\": \"speed_cat=moderate<br>linegroup=%{customdata[2]}<br>latitude=%{lat}<br>longitude=%{lon}<br>stype=%{customdata[0]}<br>abs_pm=%{customdata[1]}<br>fwdir=%{customdata[3]}<extra></extra>\", \"lat\": [33.180264, 33.181054, 33.181952, 33.182878], \"legendgroup\": \"moderate\", \"line\": {\"color\": \"orange\", \"width\": 3}, \"lon\": [-117.345296, -117.33787, -117.325285, -117.298269], \"mode\": \"lines\", \"name\": \"moderate\", \"showlegend\": false, \"subplot\": \"mapbox\", \"type\": \"scattermapbox\"}, {\"customdata\": [[\"ML\", 3.582, 217, \"78E\"], [\"ML\", 4.47, 217, \"78E\"]], \"hovertemplate\": \"speed_cat=moderate<br>linegroup=%{customdata[2]}<br>latitude=%{lat}<br>longitude=%{lon}<br>stype=%{customdata[0]}<br>abs_pm=%{customdata[1]}<br>fwdir=%{customdata[3]}<extra></extra>\", \"lat\": [33.183323, 33.1885], \"legendgroup\": \"moderate\", \"line\": {\"color\": \"orange\", \"width\": 3}, \"lon\": [-117.292024, -117.278185], \"mode\": \"lines\", \"name\": \"moderate\", \"showlegend\": false, \"subplot\": \"mapbox\", \"type\": \"scattermapbox\"}, {\"customdata\": [[\"ML\", 6.316, 219, \"78E\"], [\"ML\", 6.882, 219, \"78E\"]], \"hovertemplate\": \"speed_cat=moderate<br>linegroup=%{customdata[2]}<br>latitude=%{lat}<br>longitude=%{lon}<br>stype=%{customdata[0]}<br>abs_pm=%{customdata[1]}<br>fwdir=%{customdata[3]}<extra></extra>\", \"lat\": [33.194181, 33.18952], \"legendgroup\": \"moderate\", \"line\": {\"color\": \"orange\", \"width\": 3}, \"lon\": [-117.248185, -117.24026], \"mode\": \"lines\", \"name\": \"moderate\", \"showlegend\": false, \"subplot\": \"mapbox\", \"type\": \"scattermapbox\"}, {\"customdata\": [[\"ML\", 16.263, 223, \"78E\"]], \"hovertemplate\": \"speed_cat=moderate<br>linegroup=%{customdata[2]}<br>latitude=%{lat}<br>longitude=%{lon}<br>stype=%{customdata[0]}<br>abs_pm=%{customdata[1]}<br>fwdir=%{customdata[3]}<extra></extra>\", \"lat\": [33.126865], \"legendgroup\": \"moderate\", \"line\": {\"color\": \"orange\", \"width\": 3}, \"lon\": [-117.109376], \"mode\": \"lines\", \"name\": \"moderate\", \"showlegend\": false, \"subplot\": \"mapbox\", \"type\": \"scattermapbox\"}, {\"customdata\": [[\"ML\", 0.412, 224, \"78W\"], [\"ML\", 0.649, 224, \"78W\"], [\"ML\", 1.383, 224, \"78W\"], [\"ML\", 3.241, 224, \"78W\"], [\"ML\", 3.326, 224, \"78W\"], [\"ML\", 3.584, 224, \"78W\"], [\"ML\", 4.281, 224, \"78W\"], [\"ML\", 4.472, 224, \"78W\"]], \"hovertemplate\": \"speed_cat=moderate<br>linegroup=%{customdata[2]}<br>latitude=%{lat}<br>longitude=%{lon}<br>stype=%{customdata[0]}<br>abs_pm=%{customdata[1]}<br>fwdir=%{customdata[3]}<extra></extra>\", \"lat\": [33.180446, 33.181145, 33.181397, 33.183081, 33.183222, 33.183485, 33.187261, 33.188661], \"legendgroup\": \"moderate\", \"line\": {\"color\": \"orange\", \"width\": 3}, \"lon\": [-117.345347, -117.341401, -117.328764, -117.297902, -117.296449, -117.29202, -117.281077, -117.278229], \"mode\": \"lines\", \"name\": \"moderate\", \"showlegend\": false, \"subplot\": \"mapbox\", \"type\": \"scattermapbox\"}, {\"customdata\": [[\"ML\", 5.797, 226, \"78W\"], [\"ML\", 6.137, 226, \"78W\"], [\"ML\", 6.851, 226, \"78W\"]], \"hovertemplate\": \"speed_cat=moderate<br>linegroup=%{customdata[2]}<br>latitude=%{lat}<br>longitude=%{lon}<br>stype=%{customdata[0]}<br>abs_pm=%{customdata[1]}<br>fwdir=%{customdata[3]}<extra></extra>\", \"lat\": [33.194328, 33.194991, 33.18994], \"legendgroup\": \"moderate\", \"line\": {\"color\": \"orange\", \"width\": 3}, \"lon\": [-117.256869, -117.251058, -117.240564], \"mode\": \"lines\", \"name\": \"moderate\", \"showlegend\": false, \"subplot\": \"mapbox\", \"type\": \"scattermapbox\"}, {\"customdata\": [[\"ML\", 7.759, 228, \"78W\"], [\"ML\", 8.969, 228, \"78W\"], [\"ML\", 10.435, 228, \"78W\"], [\"ML\", 11.095, 228, \"78W\"], [\"ML\", 12.031, 228, \"78W\"], [\"ML\", 12.267, 228, \"78W\"], [\"ML\", 12.875, 228, \"78W\"], [\"ML\", 14.136, 228, \"78W\"], [\"ML\", 14.858, 228, \"78W\"]], \"hovertemplate\": \"speed_cat=moderate<br>linegroup=%{customdata[2]}<br>latitude=%{lat}<br>longitude=%{lon}<br>stype=%{customdata[0]}<br>abs_pm=%{customdata[1]}<br>fwdir=%{customdata[3]}<extra></extra>\", \"lat\": [33.180588, 33.168329, 33.151914, 33.145055, 33.138585, 33.137287, 33.137204, 33.139232, 33.135241], \"legendgroup\": \"moderate\", \"line\": {\"color\": \"orange\", \"width\": 3}, \"lon\": [-117.229853, -117.216099, -117.200195, -117.192178, -117.178083, -117.174332, -117.164146, -117.142802, -117.13142], \"mode\": \"lines\", \"name\": \"moderate\", \"showlegend\": false, \"subplot\": \"mapbox\", \"type\": \"scattermapbox\"}, {\"customdata\": [[\"ML\", 17.279, 230, \"78W\"], [\"ML\", 17.617, 230, \"78W\"]], \"hovertemplate\": \"speed_cat=moderate<br>linegroup=%{customdata[2]}<br>latitude=%{lat}<br>longitude=%{lon}<br>stype=%{customdata[0]}<br>abs_pm=%{customdata[1]}<br>fwdir=%{customdata[3]}<extra></extra>\", \"lat\": [33.130825, 33.132541], \"legendgroup\": \"moderate\", \"line\": {\"color\": \"orange\", \"width\": 3}, \"lon\": [-117.092776, -117.087404], \"mode\": \"lines\", \"name\": \"moderate\", \"showlegend\": false, \"subplot\": \"mapbox\", \"type\": \"scattermapbox\"}, {\"customdata\": [[\"ML\", 0.965, 233, \"805N\"], [\"ML\", 1.968, 233, \"805N\"]], \"hovertemplate\": \"speed_cat=moderate<br>linegroup=%{customdata[2]}<br>latitude=%{lat}<br>longitude=%{lon}<br>stype=%{customdata[0]}<br>abs_pm=%{customdata[1]}<br>fwdir=%{customdata[3]}<extra></extra>\", \"lat\": [32.558315, 32.572621], \"legendgroup\": \"moderate\", \"line\": {\"color\": \"orange\", \"width\": 3}, \"lon\": [-117.042254, -117.039445], \"mode\": \"lines\", \"name\": \"moderate\", \"showlegend\": false, \"subplot\": \"mapbox\", \"type\": \"scattermapbox\"}, {\"customdata\": [[\"ML\", 2.771, 236, \"805N\"], [\"ML\", 3.702, 236, \"805N\"]], \"hovertemplate\": \"speed_cat=moderate<br>linegroup=%{customdata[2]}<br>latitude=%{lat}<br>longitude=%{lon}<br>stype=%{customdata[0]}<br>abs_pm=%{customdata[1]}<br>fwdir=%{customdata[3]}<extra></extra>\", \"lat\": [32.584089, 32.597548], \"legendgroup\": \"moderate\", \"line\": {\"color\": \"orange\", \"width\": 3}, \"lon\": [-117.036837, -117.036123], \"mode\": \"lines\", \"name\": \"moderate\", \"showlegend\": false, \"subplot\": \"mapbox\", \"type\": \"scattermapbox\"}, {\"customdata\": [[\"ML\", 10.211, 241, \"805N\"], [\"ML\", 10.942, 241, \"805N\"]], \"hovertemplate\": \"speed_cat=moderate<br>linegroup=%{customdata[2]}<br>latitude=%{lat}<br>longitude=%{lon}<br>stype=%{customdata[0]}<br>abs_pm=%{customdata[1]}<br>fwdir=%{customdata[3]}<extra></extra>\", \"lat\": [32.67811, 32.686782], \"legendgroup\": \"moderate\", \"line\": {\"color\": \"orange\", \"width\": 3}, \"lon\": [-117.084893, -117.091828], \"mode\": \"lines\", \"name\": \"moderate\", \"showlegend\": false, \"subplot\": \"mapbox\", \"type\": \"scattermapbox\"}, {\"customdata\": [[\"ML\", 14.701, 243, \"805N\"], [\"ML\", 15.171, 243, \"805N\"]], \"hovertemplate\": \"speed_cat=moderate<br>linegroup=%{customdata[2]}<br>latitude=%{lat}<br>longitude=%{lon}<br>stype=%{customdata[0]}<br>abs_pm=%{customdata[1]}<br>fwdir=%{customdata[3]}<extra></extra>\", \"lat\": [32.734846, 32.741165], \"legendgroup\": \"moderate\", \"line\": {\"color\": \"orange\", \"width\": 3}, \"lon\": [-117.113294, -117.116261], \"mode\": \"lines\", \"name\": \"moderate\", \"showlegend\": false, \"subplot\": \"mapbox\", \"type\": \"scattermapbox\"}, {\"customdata\": [[\"ML\", 15.791, 245, \"805N\"], [\"ML\", 15.931, 245, \"805N\"], [\"ML\", 16.677, 245, \"805N\"]], \"hovertemplate\": \"speed_cat=moderate<br>linegroup=%{customdata[2]}<br>latitude=%{lat}<br>longitude=%{lon}<br>stype=%{customdata[0]}<br>abs_pm=%{customdata[1]}<br>fwdir=%{customdata[3]}<extra></extra>\", \"lat\": [32.74856, 32.750436, 32.760845], \"legendgroup\": \"moderate\", \"line\": {\"color\": \"orange\", \"width\": 3}, \"lon\": [-117.12225, -117.123137, -117.12661], \"mode\": \"lines\", \"name\": \"moderate\", \"showlegend\": false, \"subplot\": \"mapbox\", \"type\": \"scattermapbox\"}, {\"customdata\": [[\"ML\", 18.241, 247, \"805N\"], [\"ML\", 18.343, 247, \"805N\"], [\"ML\", 18.851, 247, \"805N\"], [\"ML\", 19.394, 247, \"805N\"], [\"ML\", 19.817, 247, \"805N\"], [\"ML\", 20.141, 247, \"805N\"], [\"ML\", 20.697, 247, \"805N\"], [\"ML\", 21.199, 247, \"805N\"]], \"hovertemplate\": \"speed_cat=moderate<br>linegroup=%{customdata[2]}<br>latitude=%{lat}<br>longitude=%{lon}<br>stype=%{customdata[0]}<br>abs_pm=%{customdata[1]}<br>fwdir=%{customdata[3]}<extra></extra>\", \"lat\": [32.781007, 32.782075, 32.786732, 32.793965, 32.800085, 32.804673, 32.811675, 32.817749], \"legendgroup\": \"moderate\", \"line\": {\"color\": \"orange\", \"width\": 3}, \"lon\": [-117.138625, -117.139838, -117.14654, -117.149604, -117.149586, -117.150822, -117.155267, -117.159929], \"mode\": \"lines\", \"name\": \"moderate\", \"showlegend\": false, \"subplot\": \"mapbox\", \"type\": \"scattermapbox\"}, {\"customdata\": [[\"ML\", 21.323, 249, \"805N\"], [\"ML\", 22.309, 249, \"805N\"], [\"ML\", 23.111, 249, \"805N\"]], \"hovertemplate\": \"speed_cat=moderate<br>linegroup=%{customdata[2]}<br>latitude=%{lat}<br>longitude=%{lon}<br>stype=%{customdata[0]}<br>abs_pm=%{customdata[1]}<br>fwdir=%{customdata[3]}<extra></extra>\", \"lat\": [32.819359, 32.832144, 32.842493], \"legendgroup\": \"moderate\", \"line\": {\"color\": \"orange\", \"width\": 3}, \"lon\": [-117.160872, -117.168507, -117.174848], \"mode\": \"lines\", \"name\": \"moderate\", \"showlegend\": false, \"subplot\": \"mapbox\", \"type\": \"scattermapbox\"}, {\"customdata\": [[\"ML\", 23.501, 251, \"805N\"], [\"ML\", 24.385, 251, \"805N\"], [\"ML\", 25.101, 251, \"805N\"], [\"ML\", 25.875, 251, \"805N\"], [\"ML\", 26.25, 251, \"805N\"], [\"ML\", 27.012, 251, \"805N\"]], \"hovertemplate\": \"speed_cat=moderate<br>linegroup=%{customdata[2]}<br>latitude=%{lat}<br>longitude=%{lon}<br>stype=%{customdata[0]}<br>abs_pm=%{customdata[1]}<br>fwdir=%{customdata[3]}<extra></extra>\", \"lat\": [32.847538, 32.858916, 32.867237, 32.876463, 32.881721, 32.891358], \"legendgroup\": \"moderate\", \"line\": {\"color\": \"orange\", \"width\": 3}, \"lon\": [-117.177909, -117.184886, -117.192319, -117.199708, -117.201326, -117.207213], \"mode\": \"lines\", \"name\": \"moderate\", \"showlegend\": false, \"subplot\": \"mapbox\", \"type\": \"scattermapbox\"}, {\"customdata\": [[\"ML\", 0.964, 253, \"805S\"], [\"ML\", 1.967, 253, \"805S\"], [\"ML\", 2.353, 253, \"805S\"], [\"ML\", 2.772, 253, \"805S\"], [\"ML\", 3.631, 253, \"805S\"]], \"hovertemplate\": \"speed_cat=moderate<br>linegroup=%{customdata[2]}<br>latitude=%{lat}<br>longitude=%{lon}<br>stype=%{customdata[0]}<br>abs_pm=%{customdata[1]}<br>fwdir=%{customdata[3]}<extra></extra>\", \"lat\": [32.558345, 32.572631, 32.578123, 32.584087, 32.59651], \"legendgroup\": \"moderate\", \"line\": {\"color\": \"orange\", \"width\": 3}, \"lon\": [-117.042588, -117.039744, -117.038471, -117.037094, -117.036458], \"mode\": \"lines\", \"name\": \"moderate\", \"showlegend\": false, \"subplot\": \"mapbox\", \"type\": \"scattermapbox\"}, {\"customdata\": [[\"ML\", 8.831, 259, \"805S\"], [\"ML\", 8.861, 259, \"805S\"], [\"ML\", 9.09, 259, \"805S\"]], \"hovertemplate\": \"speed_cat=moderate<br>linegroup=%{customdata[2]}<br>latitude=%{lat}<br>longitude=%{lon}<br>stype=%{customdata[0]}<br>abs_pm=%{customdata[1]}<br>fwdir=%{customdata[3]}<extra></extra>\", \"lat\": [32.659734, 32.660084, 32.662772], \"legendgroup\": \"moderate\", \"line\": {\"color\": \"orange\", \"width\": 3}, \"lon\": [-117.075966, -117.076276, -117.078579], \"mode\": \"lines\", \"name\": \"moderate\", \"showlegend\": false, \"subplot\": \"mapbox\", \"type\": \"scattermapbox\"}, {\"customdata\": [[\"ML\", 9.826, 261, \"805S\"], [\"ML\", 10.212, 261, \"805S\"]], \"hovertemplate\": \"speed_cat=moderate<br>linegroup=%{customdata[2]}<br>latitude=%{lat}<br>longitude=%{lon}<br>stype=%{customdata[0]}<br>abs_pm=%{customdata[1]}<br>fwdir=%{customdata[3]}<extra></extra>\", \"lat\": [32.67285, 32.678037], \"legendgroup\": \"moderate\", \"line\": {\"color\": \"orange\", \"width\": 3}, \"lon\": [-117.0827, -117.085196], \"mode\": \"lines\", \"name\": \"moderate\", \"showlegend\": false, \"subplot\": \"mapbox\", \"type\": \"scattermapbox\"}, {\"customdata\": [[\"ML\", 11.294, 263, \"805S\"], [\"ML\", 12.198, 263, \"805S\"]], \"hovertemplate\": \"speed_cat=moderate<br>linegroup=%{customdata[2]}<br>latitude=%{lat}<br>longitude=%{lon}<br>stype=%{customdata[0]}<br>abs_pm=%{customdata[1]}<br>fwdir=%{customdata[3]}<extra></extra>\", \"lat\": [32.69111, 32.704152], \"legendgroup\": \"moderate\", \"line\": {\"color\": \"orange\", \"width\": 3}, \"lon\": [-117.094893, -117.095206], \"mode\": \"lines\", \"name\": \"moderate\", \"showlegend\": false, \"subplot\": \"mapbox\", \"type\": \"scattermapbox\"}, {\"customdata\": [[\"ML\", 15.793, 265, \"805S\"], [\"ML\", 16.352, 265, \"805S\"]], \"hovertemplate\": \"speed_cat=moderate<br>linegroup=%{customdata[2]}<br>latitude=%{lat}<br>longitude=%{lon}<br>stype=%{customdata[0]}<br>abs_pm=%{customdata[1]}<br>fwdir=%{customdata[3]}<extra></extra>\", \"lat\": [32.748425, 32.756165], \"legendgroup\": \"moderate\", \"line\": {\"color\": \"orange\", \"width\": 3}, \"lon\": [-117.12253, -117.12539], \"mode\": \"lines\", \"name\": \"moderate\", \"showlegend\": false, \"subplot\": \"mapbox\", \"type\": \"scattermapbox\"}, {\"customdata\": [[\"ML\", 18.342, 267, \"805S\"], [\"ML\", 18.852, 267, \"805S\"], [\"ML\", 19.393, 267, \"805S\"], [\"ML\", 20.006, 267, \"805S\"]], \"hovertemplate\": \"speed_cat=moderate<br>linegroup=%{customdata[2]}<br>latitude=%{lat}<br>longitude=%{lon}<br>stype=%{customdata[0]}<br>abs_pm=%{customdata[1]}<br>fwdir=%{customdata[3]}<extra></extra>\", \"lat\": [32.78192, 32.786586, 32.793814, 32.80262], \"legendgroup\": \"moderate\", \"line\": {\"color\": \"orange\", \"width\": 3}, \"lon\": [-117.140068, -117.146806, -117.149876, -117.150601], \"mode\": \"lines\", \"name\": \"moderate\", \"showlegend\": false, \"subplot\": \"mapbox\", \"type\": \"scattermapbox\"}, {\"customdata\": [[\"ML\", 20.431, 269, \"805S\"], [\"ML\", 20.696, 269, \"805S\"]], \"hovertemplate\": \"speed_cat=moderate<br>linegroup=%{customdata[2]}<br>latitude=%{lat}<br>longitude=%{lon}<br>stype=%{customdata[0]}<br>abs_pm=%{customdata[1]}<br>fwdir=%{customdata[3]}<extra></extra>\", \"lat\": [32.808467, 32.811513], \"legendgroup\": \"moderate\", \"line\": {\"color\": \"orange\", \"width\": 3}, \"lon\": [-117.152775, -117.155527], \"mode\": \"lines\", \"name\": \"moderate\", \"showlegend\": false, \"subplot\": \"mapbox\", \"type\": \"scattermapbox\"}, {\"customdata\": [[\"ML\", 21.198, 271, \"805S\"], [\"ML\", 21.322, 271, \"805S\"]], \"hovertemplate\": \"speed_cat=moderate<br>linegroup=%{customdata[2]}<br>latitude=%{lat}<br>longitude=%{lon}<br>stype=%{customdata[0]}<br>abs_pm=%{customdata[1]}<br>fwdir=%{customdata[3]}<extra></extra>\", \"lat\": [32.817619, 32.819236], \"legendgroup\": \"moderate\", \"line\": {\"color\": \"orange\", \"width\": 3}, \"lon\": [-117.160167, -117.161117], \"mode\": \"lines\", \"name\": \"moderate\", \"showlegend\": false, \"subplot\": \"mapbox\", \"type\": \"scattermapbox\"}, {\"customdata\": [[\"ML\", 2.223, 275, \"8E\"], [\"ML\", 2.278, 275, \"8E\"], [\"ML\", 2.884, 275, \"8E\"]], \"hovertemplate\": \"speed_cat=moderate<br>linegroup=%{customdata[2]}<br>latitude=%{lat}<br>longitude=%{lon}<br>stype=%{customdata[0]}<br>abs_pm=%{customdata[1]}<br>fwdir=%{customdata[3]}<extra></extra>\", \"lat\": [32.75974, 32.759905, 32.759721], \"legendgroup\": \"moderate\", \"line\": {\"color\": \"orange\", \"width\": 3}, \"lon\": [-117.199699, -117.198791, -117.188602], \"mode\": \"lines\", \"name\": \"moderate\", \"showlegend\": false, \"subplot\": \"mapbox\", \"type\": \"scattermapbox\"}, {\"customdata\": [[\"ML\", 3.409, 277, \"8E\"], [\"ML\", 3.92, 277, \"8E\"], [\"ML\", 3.962, 277, \"8E\"]], \"hovertemplate\": \"speed_cat=moderate<br>linegroup=%{customdata[2]}<br>latitude=%{lat}<br>longitude=%{lon}<br>stype=%{customdata[0]}<br>abs_pm=%{customdata[1]}<br>fwdir=%{customdata[3]}<extra></extra>\", \"lat\": [32.759211, 32.760171, 32.760328], \"legendgroup\": \"moderate\", \"line\": {\"color\": \"orange\", \"width\": 3}, \"lon\": [-117.179602, -117.170959, -117.170261], \"mode\": \"lines\", \"name\": \"moderate\", \"showlegend\": false, \"subplot\": \"mapbox\", \"type\": \"scattermapbox\"}, {\"customdata\": [[\"ML\", 5.536, 279, \"8E\"], [\"ML\", 5.975, 279, \"8E\"]], \"hovertemplate\": \"speed_cat=moderate<br>linegroup=%{customdata[2]}<br>latitude=%{lat}<br>longitude=%{lon}<br>stype=%{customdata[0]}<br>abs_pm=%{customdata[1]}<br>fwdir=%{customdata[3]}<extra></extra>\", \"lat\": [32.767848, 32.770269], \"legendgroup\": \"moderate\", \"line\": {\"color\": \"orange\", \"width\": 3}, \"lon\": [-117.1448, -117.137788], \"mode\": \"lines\", \"name\": \"moderate\", \"showlegend\": false, \"subplot\": \"mapbox\", \"type\": \"scattermapbox\"}, {\"customdata\": [[\"ML\", 6.568, 281, \"8E\"], [\"ML\", 6.838, 281, \"8E\"], [\"ML\", 7.759, 281, \"8E\"], [\"ML\", 8.215, 281, \"8E\"], [\"ML\", 8.615, 281, \"8E\"]], \"hovertemplate\": \"speed_cat=moderate<br>linegroup=%{customdata[2]}<br>latitude=%{lat}<br>longitude=%{lon}<br>stype=%{customdata[0]}<br>abs_pm=%{customdata[1]}<br>fwdir=%{customdata[3]}<extra></extra>\", \"lat\": [32.772891, 32.774983, 32.778557, 32.778944, 32.780008], \"legendgroup\": \"moderate\", \"line\": {\"color\": \"orange\", \"width\": 3}, \"lon\": [-117.128096, -117.124175, -117.109532, -117.101735, -117.094988], \"mode\": \"lines\", \"name\": \"moderate\", \"showlegend\": false, \"subplot\": \"mapbox\", \"type\": \"scattermapbox\"}, {\"customdata\": [[\"ML\", 10.908, 284, \"8E\"], [\"ML\", 12.464, 284, \"8E\"], [\"ML\", 13.357, 284, \"8E\"], [\"ML\", 13.559, 284, \"8E\"], [\"ML\", 13.758, 284, \"8E\"]], \"hovertemplate\": \"speed_cat=moderate<br>linegroup=%{customdata[2]}<br>latitude=%{lat}<br>longitude=%{lon}<br>stype=%{customdata[0]}<br>abs_pm=%{customdata[1]}<br>fwdir=%{customdata[3]}<extra></extra>\", \"lat\": [32.777453, 32.773562, 32.772582, 32.773859, 32.774956], \"legendgroup\": \"moderate\", \"line\": {\"color\": \"orange\", \"width\": 3}, \"lon\": [-117.056127, -117.031003, -117.016817, -117.013732, -117.010577], \"mode\": \"lines\", \"name\": \"moderate\", \"showlegend\": false, \"subplot\": \"mapbox\", \"type\": \"scattermapbox\"}, {\"customdata\": [[\"ML\", 15.413, 286, \"8E\"], [\"ML\", 16.485, 286, \"8E\"], [\"ML\", 17.133, 286, \"8E\"], [\"ML\", 18.045, 286, \"8E\"]], \"hovertemplate\": \"speed_cat=moderate<br>linegroup=%{customdata[2]}<br>latitude=%{lat}<br>longitude=%{lon}<br>stype=%{customdata[0]}<br>abs_pm=%{customdata[1]}<br>fwdir=%{customdata[3]}<extra></extra>\", \"lat\": [32.779621, 32.79398, 32.801971, 32.802954], \"legendgroup\": \"moderate\", \"line\": {\"color\": \"orange\", \"width\": 3}, \"lon\": [-116.983478, -116.977186, -116.972858, -116.957448], \"mode\": \"lines\", \"name\": \"moderate\", \"showlegend\": false, \"subplot\": \"mapbox\", \"type\": \"scattermapbox\"}, {\"customdata\": [[\"ML\", 3.965, 289, \"8W\"], [\"ML\", 4.819, 289, \"8W\"], [\"ML\", 5.017, 289, \"8W\"]], \"hovertemplate\": \"speed_cat=moderate<br>linegroup=%{customdata[2]}<br>latitude=%{lat}<br>longitude=%{lon}<br>stype=%{customdata[0]}<br>abs_pm=%{customdata[1]}<br>fwdir=%{customdata[3]}<extra></extra>\", \"lat\": [32.760506, 32.764805, 32.765611], \"legendgroup\": \"moderate\", \"line\": {\"color\": \"orange\", \"width\": 3}, \"lon\": [-117.170254, -117.156607, -117.153352], \"mode\": \"lines\", \"name\": \"moderate\", \"showlegend\": false, \"subplot\": \"mapbox\", \"type\": \"scattermapbox\"}, {\"customdata\": [[\"ML\", 5.526, 291, \"8W\"], [\"ML\", 5.977, 291, \"8W\"]], \"hovertemplate\": \"speed_cat=moderate<br>linegroup=%{customdata[2]}<br>latitude=%{lat}<br>longitude=%{lon}<br>stype=%{customdata[0]}<br>abs_pm=%{customdata[1]}<br>fwdir=%{customdata[3]}<extra></extra>\", \"lat\": [32.768025, 32.77049], \"legendgroup\": \"moderate\", \"line\": {\"color\": \"orange\", \"width\": 3}, \"lon\": [-117.145039, -117.137833], \"mode\": \"lines\", \"name\": \"moderate\", \"showlegend\": false, \"subplot\": \"mapbox\", \"type\": \"scattermapbox\"}, {\"customdata\": [[\"ML\", 6.367, 293, \"8W\"], [\"ML\", 6.568, 293, \"8W\"]], \"hovertemplate\": \"speed_cat=moderate<br>linegroup=%{customdata[2]}<br>latitude=%{lat}<br>longitude=%{lon}<br>stype=%{customdata[0]}<br>abs_pm=%{customdata[1]}<br>fwdir=%{customdata[3]}<extra></extra>\", \"lat\": [32.771975, 32.773122], \"legendgroup\": \"moderate\", \"line\": {\"color\": \"orange\", \"width\": 3}, \"lon\": [-117.13137, -117.128233], \"mode\": \"lines\", \"name\": \"moderate\", \"showlegend\": false, \"subplot\": \"mapbox\", \"type\": \"scattermapbox\"}, {\"customdata\": [[\"ML\", 6.837, 295, \"8W\"], [\"ML\", 7.048, 295, \"8W\"]], \"hovertemplate\": \"speed_cat=moderate<br>linegroup=%{customdata[2]}<br>latitude=%{lat}<br>longitude=%{lon}<br>stype=%{customdata[0]}<br>abs_pm=%{customdata[1]}<br>fwdir=%{customdata[3]}<extra></extra>\", \"lat\": [32.775258, 32.777003], \"legendgroup\": \"moderate\", \"line\": {\"color\": \"orange\", \"width\": 3}, \"lon\": [-117.124378, -117.121375], \"mode\": \"lines\", \"name\": \"moderate\", \"showlegend\": false, \"subplot\": \"mapbox\", \"type\": \"scattermapbox\"}, {\"customdata\": [[\"ML\", 7.761, 297, \"8W\"], [\"ML\", 8.271, 297, \"8W\"], [\"ML\", 8.615, 297, \"8W\"], [\"ML\", 10.705, 297, \"8W\"], [\"ML\", 10.898, 297, \"8W\"]], \"hovertemplate\": \"speed_cat=moderate<br>linegroup=%{customdata[2]}<br>latitude=%{lat}<br>longitude=%{lon}<br>stype=%{customdata[0]}<br>abs_pm=%{customdata[1]}<br>fwdir=%{customdata[3]}<extra></extra>\", \"lat\": [32.778744, 32.7793, 32.780251, 32.778313, 32.777651], \"legendgroup\": \"moderate\", \"line\": {\"color\": \"orange\", \"width\": 3}, \"lon\": [-117.10951, -117.100823, -117.095003, -117.059444, -117.056226], \"mode\": \"lines\", \"name\": \"moderate\", \"showlegend\": false, \"subplot\": \"mapbox\", \"type\": \"scattermapbox\"}, {\"customdata\": [[\"ML\", 17.608, 306, \"8W\"], [\"ML\", 18.044, 306, \"8W\"]], \"hovertemplate\": \"speed_cat=moderate<br>linegroup=%{customdata[2]}<br>latitude=%{lat}<br>longitude=%{lon}<br>stype=%{customdata[0]}<br>abs_pm=%{customdata[1]}<br>fwdir=%{customdata[3]}<extra></extra>\", \"lat\": [32.803133, 32.803159], \"legendgroup\": \"moderate\", \"line\": {\"color\": \"orange\", \"width\": 3}, \"lon\": [-116.964952, -116.95746], \"mode\": \"lines\", \"name\": \"moderate\", \"showlegend\": false, \"subplot\": \"mapbox\", \"type\": \"scattermapbox\"}, {\"customdata\": [[\"ML\", 19.289, 308, \"8W\"], [\"ML\", 19.794, 308, \"8W\"], [\"ML\", 20.174, 308, \"8W\"], [\"ML\", 20.569, 308, \"8W\"]], \"hovertemplate\": \"speed_cat=moderate<br>linegroup=%{customdata[2]}<br>latitude=%{lat}<br>longitude=%{lon}<br>stype=%{customdata[0]}<br>abs_pm=%{customdata[1]}<br>fwdir=%{customdata[3]}<extra></extra>\", \"lat\": [32.803169, 32.80321, 32.805455, 32.810302], \"legendgroup\": \"moderate\", \"line\": {\"color\": \"orange\", \"width\": 3}, \"lon\": [-116.936214, -116.927288, -116.921611, -116.918188], \"mode\": \"lines\", \"name\": \"moderate\", \"showlegend\": false, \"subplot\": \"mapbox\", \"type\": \"scattermapbox\"}, {\"customdata\": [[\"ML\", 21.0, 310, \"8W\"], [\"ML\", 21.883, 310, \"8W\"], [\"ML\", 22.305, 310, \"8W\"]], \"hovertemplate\": \"speed_cat=moderate<br>linegroup=%{customdata[2]}<br>latitude=%{lat}<br>longitude=%{lon}<br>stype=%{customdata[0]}<br>abs_pm=%{customdata[1]}<br>fwdir=%{customdata[3]}<extra></extra>\", \"lat\": [32.815497, 32.82544, 32.829499], \"legendgroup\": \"moderate\", \"line\": {\"color\": \"orange\", \"width\": 3}, \"lon\": [-116.914192, -116.905031, -116.899603], \"mode\": \"lines\", \"name\": \"moderate\", \"showlegend\": false, \"subplot\": \"mapbox\", \"type\": \"scattermapbox\"}, {\"customdata\": [[\"ML\", 7.613, 316, \"905W\"], [\"ML\", 8.491, 316, \"905W\"]], \"hovertemplate\": \"speed_cat=moderate<br>linegroup=%{customdata[2]}<br>latitude=%{lat}<br>longitude=%{lon}<br>stype=%{customdata[0]}<br>abs_pm=%{customdata[1]}<br>fwdir=%{customdata[3]}<extra></extra>\", \"lat\": [32.564112, 32.555743], \"legendgroup\": \"moderate\", \"line\": {\"color\": \"orange\", \"width\": 3}, \"lon\": [-116.950744, -116.939922], \"mode\": \"lines\", \"name\": \"moderate\", \"showlegend\": false, \"subplot\": \"mapbox\", \"type\": \"scattermapbox\"}, {\"customdata\": [[\"ML\", 0.455, 318, \"94E\"], [\"ML\", 0.825, 318, \"94E\"]], \"hovertemplate\": \"speed_cat=moderate<br>linegroup=%{customdata[2]}<br>latitude=%{lat}<br>longitude=%{lon}<br>stype=%{customdata[0]}<br>abs_pm=%{customdata[1]}<br>fwdir=%{customdata[3]}<extra></extra>\", \"lat\": [32.713024, 32.713119], \"legendgroup\": \"moderate\", \"line\": {\"color\": \"orange\", \"width\": 3}, \"lon\": [-117.139745, -117.133405], \"mode\": \"lines\", \"name\": \"moderate\", \"showlegend\": false, \"subplot\": \"mapbox\", \"type\": \"scattermapbox\"}, {\"customdata\": [[\"ML\", 2.565, 320, \"94E\"], [\"ML\", 2.764, 320, \"94E\"]], \"hovertemplate\": \"speed_cat=moderate<br>linegroup=%{customdata[2]}<br>latitude=%{lat}<br>longitude=%{lon}<br>stype=%{customdata[0]}<br>abs_pm=%{customdata[1]}<br>fwdir=%{customdata[3]}<extra></extra>\", \"lat\": [32.718627, 32.718925], \"legendgroup\": \"moderate\", \"line\": {\"color\": \"orange\", \"width\": 3}, \"lon\": [-117.104491, -117.101118], \"mode\": \"lines\", \"name\": \"moderate\", \"showlegend\": false, \"subplot\": \"mapbox\", \"type\": \"scattermapbox\"}, {\"customdata\": [[\"ML\", 3.402, 322, \"94E\"], [\"ML\", 3.744, 322, \"94E\"]], \"hovertemplate\": \"speed_cat=moderate<br>linegroup=%{customdata[2]}<br>latitude=%{lat}<br>longitude=%{lon}<br>stype=%{customdata[0]}<br>abs_pm=%{customdata[1]}<br>fwdir=%{customdata[3]}<extra></extra>\", \"lat\": [32.717692, 32.71801], \"legendgroup\": \"moderate\", \"line\": {\"color\": \"orange\", \"width\": 3}, \"lon\": [-117.090432, -117.08462], \"mode\": \"lines\", \"name\": \"moderate\", \"showlegend\": false, \"subplot\": \"mapbox\", \"type\": \"scattermapbox\"}, {\"customdata\": [[\"ML\", 4.384, 324, \"94E\"], [\"ML\", 4.854, 324, \"94E\"], [\"ML\", 6.944, 324, \"94E\"], [\"ML\", 7.464, 324, \"94E\"], [\"ML\", 7.594, 324, \"94E\"], [\"ML\", 8.204, 324, \"94E\"]], \"hovertemplate\": \"speed_cat=moderate<br>linegroup=%{customdata[2]}<br>latitude=%{lat}<br>longitude=%{lon}<br>stype=%{customdata[0]}<br>abs_pm=%{customdata[1]}<br>fwdir=%{customdata[3]}<extra></extra>\", \"lat\": [32.723666, 32.727761, 32.744705, 32.745649, 32.74629, 32.746819], \"legendgroup\": \"moderate\", \"line\": {\"color\": \"orange\", \"width\": 3}, \"lon\": [-117.076046, -117.069682, -117.041718, -117.032947, -117.030852, -117.020529], \"mode\": \"lines\", \"name\": \"moderate\", \"showlegend\": false, \"subplot\": \"mapbox\", \"type\": \"scattermapbox\"}, {\"customdata\": [[\"ML\", 0.819, 327, \"94W\"], [\"ML\", 1.083, 327, \"94W\"], [\"ML\", 1.205, 327, \"94W\"]], \"hovertemplate\": \"speed_cat=moderate<br>linegroup=%{customdata[2]}<br>latitude=%{lat}<br>longitude=%{lon}<br>stype=%{customdata[0]}<br>abs_pm=%{customdata[1]}<br>fwdir=%{customdata[3]}<extra></extra>\", \"lat\": [32.713318, 32.713724, 32.714211], \"legendgroup\": \"moderate\", \"line\": {\"color\": \"orange\", \"width\": 3}, \"lon\": [-117.134145, -117.129847, -117.127908], \"mode\": \"lines\", \"name\": \"moderate\", \"showlegend\": false, \"subplot\": \"mapbox\", \"type\": \"scattermapbox\"}, {\"customdata\": [[\"ML\", 1.721, 329, \"94W\"], [\"ML\", 1.844, 329, \"94W\"]], \"hovertemplate\": \"speed_cat=moderate<br>linegroup=%{customdata[2]}<br>latitude=%{lat}<br>longitude=%{lon}<br>stype=%{customdata[0]}<br>abs_pm=%{customdata[1]}<br>fwdir=%{customdata[3]}<extra></extra>\", \"lat\": [32.716724, 32.717134], \"legendgroup\": \"moderate\", \"line\": {\"color\": \"orange\", \"width\": 3}, \"lon\": [-117.119831, -117.117861], \"mode\": \"lines\", \"name\": \"moderate\", \"showlegend\": false, \"subplot\": \"mapbox\", \"type\": \"scattermapbox\"}, {\"customdata\": [[\"ML\", 2.134, 331, \"94W\"], [\"ML\", 2.564, 331, \"94W\"]], \"hovertemplate\": \"speed_cat=moderate<br>linegroup=%{customdata[2]}<br>latitude=%{lat}<br>longitude=%{lon}<br>stype=%{customdata[0]}<br>abs_pm=%{customdata[1]}<br>fwdir=%{customdata[3]}<extra></extra>\", \"lat\": [32.717909, 32.718507], \"legendgroup\": \"moderate\", \"line\": {\"color\": \"orange\", \"width\": 3}, \"lon\": [-117.113171, -117.106173], \"mode\": \"lines\", \"name\": \"moderate\", \"showlegend\": false, \"subplot\": \"mapbox\", \"type\": \"scattermapbox\"}, {\"customdata\": [[\"ML\", 3.415, 333, \"94W\"], [\"ML\", 3.74, 333, \"94W\"], [\"ML\", 4.198, 333, \"94W\"], [\"ML\", 4.789, 333, \"94W\"], [\"ML\", 5.824, 333, \"94W\"], [\"ML\", 6.344, 333, \"94W\"], [\"ML\", 6.726, 333, \"94W\"], [\"ML\", 7.13, 333, \"94W\"], [\"ML\", 7.454, 333, \"94W\"], [\"ML\", 8.204, 333, \"94W\"], [\"ML\", 8.611, 333, \"94W\"]], \"hovertemplate\": \"speed_cat=moderate<br>linegroup=%{customdata[2]}<br>latitude=%{lat}<br>longitude=%{lon}<br>stype=%{customdata[0]}<br>abs_pm=%{customdata[1]}<br>fwdir=%{customdata[3]}<extra></extra>\", \"lat\": [32.718104, 32.717955, 32.720663, 32.726464, 32.734694, 32.740913, 32.74454, 32.744864, 32.745268, 32.746923, 32.748892], \"legendgroup\": \"moderate\", \"line\": {\"color\": \"orange\", \"width\": 3}, \"lon\": [-117.092449, -117.087127, -117.080357, -117.072595, -117.057992, -117.052169, -117.047105, -117.040554, -117.035279, -117.023229, -117.017105], \"mode\": \"lines\", \"name\": \"moderate\", \"showlegend\": false, \"subplot\": \"mapbox\", \"type\": \"scattermapbox\"}, {\"customdata\": [[\"ML\", 9.14, 335, \"94W\"]], \"hovertemplate\": \"speed_cat=moderate<br>linegroup=%{customdata[2]}<br>latitude=%{lat}<br>longitude=%{lon}<br>stype=%{customdata[0]}<br>abs_pm=%{customdata[1]}<br>fwdir=%{customdata[3]}<extra></extra>\", \"lat\": [32.753919], \"legendgroup\": \"moderate\", \"line\": {\"color\": \"orange\", \"width\": 3}, \"lon\": [-117.010444], \"mode\": \"lines\", \"name\": \"moderate\", \"showlegend\": false, \"subplot\": \"mapbox\", \"type\": \"scattermapbox\"}, {\"customdata\": [[\"ML\", 19.108, 9, \"125N\"], [\"ML\", 19.281, 9, \"125N\"], [\"ML\", 21.146, 9, \"125N\"]], \"hovertemplate\": \"speed_cat=fast<br>linegroup=%{customdata[2]}<br>latitude=%{lat}<br>longitude=%{lon}<br>stype=%{customdata[0]}<br>abs_pm=%{customdata[1]}<br>fwdir=%{customdata[3]}<extra></extra>\", \"lat\": [32.805368, 32.807875, 32.833838], \"legendgroup\": \"fast\", \"line\": {\"color\": \"green\", \"width\": 3}, \"lon\": [-117.005343, -117.005299, -117.003119], \"mode\": \"lines\", \"name\": \"fast\", \"showlegend\": true, \"subplot\": \"mapbox\", \"type\": \"scattermapbox\"}, {\"customdata\": [[\"ML\", 9.138, 10, \"125S\"], [\"ML\", 11.72, 10, \"125S\"]], \"hovertemplate\": \"speed_cat=fast<br>linegroup=%{customdata[2]}<br>latitude=%{lat}<br>longitude=%{lon}<br>stype=%{customdata[0]}<br>abs_pm=%{customdata[1]}<br>fwdir=%{customdata[3]}<extra></extra>\", \"lat\": [32.68199, 32.695995], \"legendgroup\": \"fast\", \"line\": {\"color\": \"green\", \"width\": 3}, \"lon\": [-116.990933, -117.013866], \"mode\": \"lines\", \"name\": \"fast\", \"showlegend\": false, \"subplot\": \"mapbox\", \"type\": \"scattermapbox\"}, {\"customdata\": [[\"ML\", 12.953, 12, \"125S\"], [\"ML\", 13.604, 12, \"125S\"]], \"hovertemplate\": \"speed_cat=fast<br>linegroup=%{customdata[2]}<br>latitude=%{lat}<br>longitude=%{lon}<br>stype=%{customdata[0]}<br>abs_pm=%{customdata[1]}<br>fwdir=%{customdata[3]}<extra></extra>\", \"lat\": [32.711635, 32.720013], \"legendgroup\": \"fast\", \"line\": {\"color\": \"green\", \"width\": 3}, \"lon\": [-117.013079, -117.014848], \"mode\": \"lines\", \"name\": \"fast\", \"showlegend\": false, \"subplot\": \"mapbox\", \"type\": \"scattermapbox\"}, {\"customdata\": [[\"ML\", 20.656, 19, \"125S\"], [\"ML\", 22.809, 19, \"125S\"]], \"hovertemplate\": \"speed_cat=fast<br>linegroup=%{customdata[2]}<br>latitude=%{lat}<br>longitude=%{lon}<br>stype=%{customdata[0]}<br>abs_pm=%{customdata[1]}<br>fwdir=%{customdata[3]}<extra></extra>\", \"lat\": [32.804631, 32.834748], \"legendgroup\": \"fast\", \"line\": {\"color\": \"green\", \"width\": 3}, \"lon\": [-117.005603, -117.003404], \"mode\": \"lines\", \"name\": \"fast\", \"showlegend\": false, \"subplot\": \"mapbox\", \"type\": \"scattermapbox\"}, {\"customdata\": [[\"ML\", 3.059, 24, \"15N\"], [\"ML\", 3.77, 24, \"15N\"]], \"hovertemplate\": \"speed_cat=fast<br>linegroup=%{customdata[2]}<br>latitude=%{lat}<br>longitude=%{lon}<br>stype=%{customdata[0]}<br>abs_pm=%{customdata[1]}<br>fwdir=%{customdata[3]}<extra></extra>\", \"lat\": [32.733487, 32.743033], \"legendgroup\": \"fast\", \"line\": {\"color\": \"green\", \"width\": 3}, \"lon\": [-117.111847, -117.110934], \"mode\": \"lines\", \"name\": \"fast\", \"showlegend\": false, \"subplot\": \"mapbox\", \"type\": \"scattermapbox\"}, {\"customdata\": [[\"ML\", 5.402, 26, \"15N\"], [\"ML\", 6.856, 26, \"15N\"]], \"hovertemplate\": \"speed_cat=fast<br>linegroup=%{customdata[2]}<br>latitude=%{lat}<br>longitude=%{lon}<br>stype=%{customdata[0]}<br>abs_pm=%{customdata[1]}<br>fwdir=%{customdata[3]}<extra></extra>\", \"lat\": [32.765981, 32.786224], \"legendgroup\": \"fast\", \"line\": {\"color\": \"green\", \"width\": 3}, \"lon\": [-117.110045, -117.114171], \"mode\": \"lines\", \"name\": \"fast\", \"showlegend\": false, \"subplot\": \"mapbox\", \"type\": \"scattermapbox\"}, {\"customdata\": [[\"ML\", 11.261, 28, \"15N\"], [\"ML\", 12.335, 28, \"15N\"]], \"hovertemplate\": \"speed_cat=fast<br>linegroup=%{customdata[2]}<br>latitude=%{lat}<br>longitude=%{lon}<br>stype=%{customdata[0]}<br>abs_pm=%{customdata[1]}<br>fwdir=%{customdata[3]}<extra></extra>\", \"lat\": [32.848411, 32.862995], \"legendgroup\": \"fast\", \"line\": {\"color\": \"green\", \"width\": 3}, \"lon\": [-117.116636, -117.110269], \"mode\": \"lines\", \"name\": \"fast\", \"showlegend\": false, \"subplot\": \"mapbox\", \"type\": \"scattermapbox\"}, {\"customdata\": [[\"ML\", 12.721, 30, \"15N\"], [\"ML\", 13.187, 30, \"15N\"], [\"ML\", 13.524, 30, \"15N\"]], \"hovertemplate\": \"speed_cat=fast<br>linegroup=%{customdata[2]}<br>latitude=%{lat}<br>longitude=%{lon}<br>stype=%{customdata[0]}<br>abs_pm=%{customdata[1]}<br>fwdir=%{customdata[3]}<extra></extra>\", \"lat\": [32.868194, 32.874869, 32.87967], \"legendgroup\": \"fast\", \"line\": {\"color\": \"green\", \"width\": 3}, \"lon\": [-117.107817, -117.10687, -117.107922], \"mode\": \"lines\", \"name\": \"fast\", \"showlegend\": false, \"subplot\": \"mapbox\", \"type\": \"scattermapbox\"}, {\"customdata\": [[\"ML\", 35.451, 46, \"15N\"], [\"ML\", 36.557, 46, \"15N\"], [\"ML\", 45.717, 46, \"15N\"]], \"hovertemplate\": \"speed_cat=fast<br>linegroup=%{customdata[2]}<br>latitude=%{lat}<br>longitude=%{lon}<br>stype=%{customdata[0]}<br>abs_pm=%{customdata[1]}<br>fwdir=%{customdata[3]}<extra></extra>\", \"lat\": [33.178414, 33.192903, 33.317188], \"legendgroup\": \"fast\", \"line\": {\"color\": \"green\", \"width\": 3}, \"lon\": [-117.114712, -117.122965, -117.153998], \"mode\": \"lines\", \"name\": \"fast\", \"showlegend\": false, \"subplot\": \"mapbox\", \"type\": \"scattermapbox\"}, {\"customdata\": [[\"ML\", 10.803, 57, \"15S\"], [\"ML\", 11.25, 57, \"15S\"], [\"ML\", 12.712, 57, \"15S\"]], \"hovertemplate\": \"speed_cat=fast<br>linegroup=%{customdata[2]}<br>latitude=%{lat}<br>longitude=%{lon}<br>stype=%{customdata[0]}<br>abs_pm=%{customdata[1]}<br>fwdir=%{customdata[3]}<extra></extra>\", \"lat\": [32.842604, 32.84837, 32.868138], \"legendgroup\": \"fast\", \"line\": {\"color\": \"green\", \"width\": 3}, \"lon\": [-117.120583, -117.117157, -117.10851], \"mode\": \"lines\", \"name\": \"fast\", \"showlegend\": false, \"subplot\": \"mapbox\", \"type\": \"scattermapbox\"}, {\"customdata\": [[\"ML\", 13.178, 59, \"15S\"], [\"ML\", 13.692, 59, \"15S\"]], \"hovertemplate\": \"speed_cat=fast<br>linegroup=%{customdata[2]}<br>latitude=%{lat}<br>longitude=%{lon}<br>stype=%{customdata[0]}<br>abs_pm=%{customdata[1]}<br>fwdir=%{customdata[3]}<extra></extra>\", \"lat\": [32.874797, 32.881993], \"legendgroup\": \"fast\", \"line\": {\"color\": \"green\", \"width\": 3}, \"lon\": [-117.107576, -117.109567], \"mode\": \"lines\", \"name\": \"fast\", \"showlegend\": false, \"subplot\": \"mapbox\", \"type\": \"scattermapbox\"}, {\"customdata\": [[\"ML\", 18.492, 63, \"15S\"], [\"ML\", 18.798, 63, \"15S\"], [\"ML\", 19.268, 63, \"15S\"]], \"hovertemplate\": \"speed_cat=fast<br>linegroup=%{customdata[2]}<br>latitude=%{lat}<br>longitude=%{lon}<br>stype=%{customdata[0]}<br>abs_pm=%{customdata[1]}<br>fwdir=%{customdata[3]}<extra></extra>\", \"lat\": [32.949064, 32.952945, 32.959072], \"legendgroup\": \"fast\", \"line\": {\"color\": \"green\", \"width\": 3}, \"lon\": [-117.105522, -117.102968, -117.099452], \"mode\": \"lines\", \"name\": \"fast\", \"showlegend\": false, \"subplot\": \"mapbox\", \"type\": \"scattermapbox\"}, {\"customdata\": [[\"ML\", 35.44, 71, \"15S\"], [\"ML\", 39.637, 71, \"15S\"], [\"ML\", 48.528, 71, \"15S\"]], \"hovertemplate\": \"speed_cat=fast<br>linegroup=%{customdata[2]}<br>latitude=%{lat}<br>longitude=%{lon}<br>stype=%{customdata[0]}<br>abs_pm=%{customdata[1]}<br>fwdir=%{customdata[3]}<extra></extra>\", \"lat\": [33.178265, 33.232597, 33.357354], \"legendgroup\": \"fast\", \"line\": {\"color\": \"green\", \"width\": 3}, \"lon\": [-117.114973, -117.147394, -117.159131], \"mode\": \"lines\", \"name\": \"fast\", \"showlegend\": false, \"subplot\": \"mapbox\", \"type\": \"scattermapbox\"}, {\"customdata\": [[\"ML\", 2.789, 75, \"163N\"], [\"ML\", 3.565, 75, \"163N\"], [\"ML\", 4.699, 75, \"163N\"], [\"ML\", 6.199, 75, \"163N\"]], \"hovertemplate\": \"speed_cat=fast<br>linegroup=%{customdata[2]}<br>latitude=%{lat}<br>longitude=%{lon}<br>stype=%{customdata[0]}<br>abs_pm=%{customdata[1]}<br>fwdir=%{customdata[3]}<extra></extra>\", \"lat\": [32.757697, 32.767979, 32.783982, 32.804762], \"legendgroup\": \"fast\", \"line\": {\"color\": \"green\", \"width\": 3}, \"lon\": [-117.160056, -117.16213, -117.161692, -117.154108], \"mode\": \"lines\", \"name\": \"fast\", \"showlegend\": false, \"subplot\": \"mapbox\", \"type\": \"scattermapbox\"}, {\"customdata\": [[\"ML\", 6.777, 77, \"163N\"], [\"ML\", 7.459, 77, \"163N\"], [\"ML\", 7.849, 77, \"163N\"], [\"ML\", 8.378, 77, \"163N\"], [\"ML\", 9.356, 77, \"163N\"], [\"ML\", 10.26, 77, \"163N\"], [\"ML\", 10.649, 77, \"163N\"]], \"hovertemplate\": \"speed_cat=fast<br>linegroup=%{customdata[2]}<br>latitude=%{lat}<br>longitude=%{lon}<br>stype=%{customdata[0]}<br>abs_pm=%{customdata[1]}<br>fwdir=%{customdata[3]}<extra></extra>\", \"lat\": [32.812726, 32.821751, 32.8269, 32.833798, 32.845121, 32.854682, 32.857558], \"legendgroup\": \"fast\", \"line\": {\"color\": \"green\", \"width\": 3}, \"lon\": [-117.151215, -117.146602, -117.143798, -117.139787, -117.129665, -117.119386, -117.113619], \"mode\": \"lines\", \"name\": \"fast\", \"showlegend\": false, \"subplot\": \"mapbox\", \"type\": \"scattermapbox\"}, {\"customdata\": [[\"ML\", 2.743, 80, \"163S\"], [\"ML\", 4.653, 80, \"163S\"]], \"hovertemplate\": \"speed_cat=fast<br>linegroup=%{customdata[2]}<br>latitude=%{lat}<br>longitude=%{lon}<br>stype=%{customdata[0]}<br>abs_pm=%{customdata[1]}<br>fwdir=%{customdata[3]}<extra></extra>\", \"lat\": [32.757664, 32.784029], \"legendgroup\": \"fast\", \"line\": {\"color\": \"green\", \"width\": 3}, \"lon\": [-117.160289, -117.161945], \"mode\": \"lines\", \"name\": \"fast\", \"showlegend\": false, \"subplot\": \"mapbox\", \"type\": \"scattermapbox\"}, {\"customdata\": [[\"ML\", 6.153, 82, \"163S\"], [\"ML\", 6.73, 82, \"163S\"], [\"ML\", 7.235, 82, \"163S\"]], \"hovertemplate\": \"speed_cat=fast<br>linegroup=%{customdata[2]}<br>latitude=%{lat}<br>longitude=%{lon}<br>stype=%{customdata[0]}<br>abs_pm=%{customdata[1]}<br>fwdir=%{customdata[3]}<extra></extra>\", \"lat\": [32.804853, 32.812816, 32.8195], \"legendgroup\": \"fast\", \"line\": {\"color\": \"green\", \"width\": 3}, \"lon\": [-117.15441, -117.151507, -117.148074], \"mode\": \"lines\", \"name\": \"fast\", \"showlegend\": false, \"subplot\": \"mapbox\", \"type\": \"scattermapbox\"}, {\"customdata\": [[\"ML\", 7.452, 84, \"163S\"], [\"ML\", 7.803, 84, \"163S\"], [\"ML\", 9.31, 84, \"163S\"], [\"ML\", 10.333, 84, \"163S\"], [\"ML\", 10.603, 84, \"163S\"]], \"hovertemplate\": \"speed_cat=fast<br>linegroup=%{customdata[2]}<br>latitude=%{lat}<br>longitude=%{lon}<br>stype=%{customdata[0]}<br>abs_pm=%{customdata[1]}<br>fwdir=%{customdata[3]}<extra></extra>\", \"lat\": [32.822354, 32.826994, 32.845317, 32.85586, 32.859661], \"legendgroup\": \"fast\", \"line\": {\"color\": \"green\", \"width\": 3}, \"lon\": [-117.146524, -117.143983, -117.129866, -117.117328, -117.113917], \"mode\": \"lines\", \"name\": \"fast\", \"showlegend\": false, \"subplot\": \"mapbox\", \"type\": \"scattermapbox\"}, {\"customdata\": [[\"ML\", 7.246, 86, \"52E\"], [\"ML\", 7.84, 86, \"52E\"]], \"hovertemplate\": \"speed_cat=fast<br>linegroup=%{customdata[2]}<br>latitude=%{lat}<br>longitude=%{lon}<br>stype=%{customdata[0]}<br>abs_pm=%{customdata[1]}<br>fwdir=%{customdata[3]}<extra></extra>\", \"lat\": [32.841627, 32.841719], \"legendgroup\": \"fast\", \"line\": {\"color\": \"green\", \"width\": 3}, \"lon\": [-117.122598, -117.112297], \"mode\": \"lines\", \"name\": \"fast\", \"showlegend\": false, \"subplot\": \"mapbox\", \"type\": \"scattermapbox\"}, {\"customdata\": [[\"ML\", 0.301, 94, \"52W\"], [\"ML\", 1.309, 94, \"52W\"], [\"ML\", 2.219, 94, \"52W\"]], \"hovertemplate\": \"speed_cat=fast<br>linegroup=%{customdata[2]}<br>latitude=%{lat}<br>longitude=%{lon}<br>stype=%{customdata[0]}<br>abs_pm=%{customdata[1]}<br>fwdir=%{customdata[3]}<extra></extra>\", \"lat\": [32.838567, 32.841671, 32.847046], \"legendgroup\": \"fast\", \"line\": {\"color\": \"green\", \"width\": 3}, \"lon\": [-117.234392, -117.218491, -117.204305], \"mode\": \"lines\", \"name\": \"fast\", \"showlegend\": false, \"subplot\": \"mapbox\", \"type\": \"scattermapbox\"}, {\"customdata\": [[\"ML\", 3.97, 96, \"52W\"], [\"ML\", 4.857, 96, \"52W\"], [\"ML\", 7.245, 96, \"52W\"], [\"ML\", 9.27, 96, \"52W\"], [\"ML\", 10.301, 96, \"52W\"]], \"hovertemplate\": \"speed_cat=fast<br>linegroup=%{customdata[2]}<br>latitude=%{lat}<br>longitude=%{lon}<br>stype=%{customdata[0]}<br>abs_pm=%{customdata[1]}<br>fwdir=%{customdata[3]}<extra></extra>\", \"lat\": [32.847199, 32.840096, 32.841898, 32.842947, 32.850718], \"legendgroup\": \"fast\", \"line\": {\"color\": \"green\", \"width\": 3}, \"lon\": [-117.17441, -117.162115, -117.122619, -117.087962, -117.07319], \"mode\": \"lines\", \"name\": \"fast\", \"showlegend\": false, \"subplot\": \"mapbox\", \"type\": \"scattermapbox\"}, {\"customdata\": [[\"ML\", 14.772, 98, \"52W\"]], \"hovertemplate\": \"speed_cat=fast<br>linegroup=%{customdata[2]}<br>latitude=%{lat}<br>longitude=%{lon}<br>stype=%{customdata[0]}<br>abs_pm=%{customdata[1]}<br>fwdir=%{customdata[3]}<extra></extra>\", \"lat\": [null], \"legendgroup\": \"fast\", \"line\": {\"color\": \"green\", \"width\": 3}, \"lon\": [null], \"mode\": \"lines\", \"name\": \"fast\", \"showlegend\": false, \"subplot\": \"mapbox\", \"type\": \"scattermapbox\"}, {\"customdata\": [[\"ML\", 0.966, 104, \"56E\"], [\"ML\", 1.4, 104, \"56E\"]], \"hovertemplate\": \"speed_cat=fast<br>linegroup=%{customdata[2]}<br>latitude=%{lat}<br>longitude=%{lon}<br>stype=%{customdata[0]}<br>abs_pm=%{customdata[1]}<br>fwdir=%{customdata[3]}<extra></extra>\", \"lat\": [32.937845, 32.940727], \"legendgroup\": \"fast\", \"line\": {\"color\": \"green\", \"width\": 3}, \"lon\": [-117.226663, -117.220084], \"mode\": \"lines\", \"name\": \"fast\", \"showlegend\": false, \"subplot\": \"mapbox\", \"type\": \"scattermapbox\"}, {\"customdata\": [[\"ML\", 6.175, 110, \"56W\"], [\"ML\", 7.364, 110, \"56W\"], [\"ML\", 7.661, 110, \"56W\"]], \"hovertemplate\": \"speed_cat=fast<br>linegroup=%{customdata[2]}<br>latitude=%{lat}<br>longitude=%{lon}<br>stype=%{customdata[0]}<br>abs_pm=%{customdata[1]}<br>fwdir=%{customdata[3]}<extra></extra>\", \"lat\": [32.958567, 32.953681, 32.954374], \"legendgroup\": \"fast\", \"line\": {\"color\": \"green\", \"width\": 3}, \"lon\": [-117.152079, -117.133374, -117.128361], \"mode\": \"lines\", \"name\": \"fast\", \"showlegend\": false, \"subplot\": \"mapbox\", \"type\": \"scattermapbox\"}, {\"customdata\": [[\"ML\", 8.565, 112, \"56W\"], [\"ML\", 9.302, 112, \"56W\"]], \"hovertemplate\": \"speed_cat=fast<br>linegroup=%{customdata[2]}<br>latitude=%{lat}<br>longitude=%{lon}<br>stype=%{customdata[0]}<br>abs_pm=%{customdata[1]}<br>fwdir=%{customdata[3]}<extra></extra>\", \"lat\": [32.958653, 32.962672], \"legendgroup\": \"fast\", \"line\": {\"color\": \"green\", \"width\": 3}, \"lon\": [-117.113729, -117.101859], \"mode\": \"lines\", \"name\": \"fast\", \"showlegend\": false, \"subplot\": \"mapbox\", \"type\": \"scattermapbox\"}, {\"customdata\": [[\"ML\", 0.22, 114, \"5N\"], [\"ML\", 1.143, 114, \"5N\"], [\"ML\", 2.195, 114, \"5N\"], [\"ML\", 2.56, 114, \"5N\"], [\"ML\", 3.335, 114, \"5N\"], [\"ML\", 4.004, 114, \"5N\"]], \"hovertemplate\": \"speed_cat=fast<br>linegroup=%{customdata[2]}<br>latitude=%{lat}<br>longitude=%{lon}<br>stype=%{customdata[0]}<br>abs_pm=%{customdata[1]}<br>fwdir=%{customdata[3]}<extra></extra>\", \"lat\": [32.544463, 32.55169, 32.558459, 32.561334, 32.569052, 32.577106], \"legendgroup\": \"fast\", \"line\": {\"color\": \"green\", \"width\": 3}, \"lon\": [-117.032486, -117.045725, -117.061845, -117.067081, -117.076507, -117.082889], \"mode\": \"lines\", \"name\": \"fast\", \"showlegend\": false, \"subplot\": \"mapbox\", \"type\": \"scattermapbox\"}, {\"customdata\": [[\"ML\", 5.326, 116, \"5N\"], [\"ML\", 5.946, 116, \"5N\"], [\"ML\", 6.626, 116, \"5N\"], [\"ML\", 7.82, 116, \"5N\"]], \"hovertemplate\": \"speed_cat=fast<br>linegroup=%{customdata[2]}<br>latitude=%{lat}<br>longitude=%{lon}<br>stype=%{customdata[0]}<br>abs_pm=%{customdata[1]}<br>fwdir=%{customdata[3]}<extra></extra>\", \"lat\": [32.595115, 32.604051, 32.613851, 32.630565], \"legendgroup\": \"fast\", \"line\": {\"color\": \"green\", \"width\": 3}, \"lon\": [-117.088642, -117.089763, -117.090918, -117.096247], \"mode\": \"lines\", \"name\": \"fast\", \"showlegend\": false, \"subplot\": \"mapbox\", \"type\": \"scattermapbox\"}, {\"customdata\": [[\"ML\", 8.524, 118, \"5N\"], [\"ML\", 9.897, 118, \"5N\"], [\"ML\", 11.179, 118, \"5N\"]], \"hovertemplate\": \"speed_cat=fast<br>linegroup=%{customdata[2]}<br>latitude=%{lat}<br>longitude=%{lon}<br>stype=%{customdata[0]}<br>abs_pm=%{customdata[1]}<br>fwdir=%{customdata[3]}<extra></extra>\", \"lat\": [32.640259, 32.658963, 32.676941], \"legendgroup\": \"fast\", \"line\": {\"color\": \"green\", \"width\": 3}, \"lon\": [-117.100052, -117.107386, -117.109212], \"mode\": \"lines\", \"name\": \"fast\", \"showlegend\": false, \"subplot\": \"mapbox\", \"type\": \"scattermapbox\"}, {\"customdata\": [[\"ML\", 11.847, 120, \"5N\"], [\"ML\", 12.114, 120, \"5N\"]], \"hovertemplate\": \"speed_cat=fast<br>linegroup=%{customdata[2]}<br>latitude=%{lat}<br>longitude=%{lon}<br>stype=%{customdata[0]}<br>abs_pm=%{customdata[1]}<br>fwdir=%{customdata[3]}<extra></extra>\", \"lat\": [32.686187, 32.688981], \"legendgroup\": \"fast\", \"line\": {\"color\": \"green\", \"width\": 3}, \"lon\": [-117.11275, -117.115932], \"mode\": \"lines\", \"name\": \"fast\", \"showlegend\": false, \"subplot\": \"mapbox\", \"type\": \"scattermapbox\"}, {\"customdata\": [[\"ML\", 12.747, 122, \"5N\"], [\"ML\", 13.073, 122, \"5N\"]], \"hovertemplate\": \"speed_cat=fast<br>linegroup=%{customdata[2]}<br>latitude=%{lat}<br>longitude=%{lon}<br>stype=%{customdata[0]}<br>abs_pm=%{customdata[1]}<br>fwdir=%{customdata[3]}<extra></extra>\", \"lat\": [32.694337, 32.69457], \"legendgroup\": \"fast\", \"line\": {\"color\": \"green\", \"width\": 3}, \"lon\": [-117.124759, -117.130324], \"mode\": \"lines\", \"name\": \"fast\", \"showlegend\": false, \"subplot\": \"mapbox\", \"type\": \"scattermapbox\"}, {\"customdata\": [[\"ML\", 13.371, 124, \"5N\"], [\"ML\", 14.417, 124, \"5N\"]], \"hovertemplate\": \"speed_cat=fast<br>linegroup=%{customdata[2]}<br>latitude=%{lat}<br>longitude=%{lon}<br>stype=%{customdata[0]}<br>abs_pm=%{customdata[1]}<br>fwdir=%{customdata[3]}<extra></extra>\", \"lat\": [32.695918, 32.706216], \"legendgroup\": \"fast\", \"line\": {\"color\": \"green\", \"width\": 3}, \"lon\": [-117.134988, -117.147448], \"mode\": \"lines\", \"name\": \"fast\", \"showlegend\": false, \"subplot\": \"mapbox\", \"type\": \"scattermapbox\"}, {\"customdata\": [[\"ML\", 16.0, 129, \"5N\"], [\"ML\", 16.525, 129, \"5N\"], [\"ML\", 16.831, 129, \"5N\"], [\"ML\", 17.231, 129, \"5N\"], [\"ML\", 17.529, 129, \"5N\"], [\"ML\", 17.571, 129, \"5N\"], [\"ML\", 18.021, 129, \"5N\"], [\"ML\", 18.345, 129, \"5N\"], [\"ML\", 18.791, 129, \"5N\"]], \"hovertemplate\": \"speed_cat=fast<br>linegroup=%{customdata[2]}<br>latitude=%{lat}<br>longitude=%{lon}<br>stype=%{customdata[0]}<br>abs_pm=%{customdata[1]}<br>fwdir=%{customdata[3]}<extra></extra>\", \"lat\": [32.724117, 32.723871, 32.727284, 32.731968, 32.735429, 32.735914, 32.741137, 32.743605, 32.746748], \"legendgroup\": \"fast\", \"line\": {\"color\": \"green\", \"width\": 3}, \"lon\": [-117.156091, -117.164331, -117.167641, -117.171694, -117.174785, -117.175223, -117.179918, -117.184656, -117.191312], \"mode\": \"lines\", \"name\": \"fast\", \"showlegend\": false, \"subplot\": \"mapbox\", \"type\": \"scattermapbox\"}, {\"customdata\": [[\"ML\", 20.758, 131, \"5N\"], [\"ML\", 21.367, 131, \"5N\"]], \"hovertemplate\": \"speed_cat=fast<br>linegroup=%{customdata[2]}<br>latitude=%{lat}<br>longitude=%{lon}<br>stype=%{customdata[0]}<br>abs_pm=%{customdata[1]}<br>fwdir=%{customdata[3]}<extra></extra>\", \"lat\": [32.770668, 32.779349], \"legendgroup\": \"fast\", \"line\": {\"color\": \"green\", \"width\": 3}, \"lon\": [-117.206677, -117.208332], \"mode\": \"lines\", \"name\": \"fast\", \"showlegend\": false, \"subplot\": \"mapbox\", \"type\": \"scattermapbox\"}, {\"customdata\": [[\"ML\", 23.475, 134, \"5N\"], [\"ML\", 23.948, 134, \"5N\"], [\"ML\", 25.651, 134, \"5N\"], [\"ML\", 25.859, 134, \"5N\"], [\"ML\", 26.643, 134, \"5N\"], [\"ML\", 27.141, 134, \"5N\"], [\"ML\", 27.795, 134, \"5N\"], [\"ML\", 28.281, 134, \"5N\"], [\"ML\", 31.167, 134, \"5N\"]], \"hovertemplate\": \"speed_cat=fast<br>linegroup=%{customdata[2]}<br>latitude=%{lat}<br>longitude=%{lon}<br>stype=%{customdata[0]}<br>abs_pm=%{customdata[1]}<br>fwdir=%{customdata[3]}<extra></extra>\", \"lat\": [32.807939, 32.81362, 32.834969, 32.837787, 32.848758, 32.855148, 32.86451, 32.87153, 32.911944], \"legendgroup\": \"fast\", \"line\": {\"color\": \"green\", \"width\": 3}, \"lon\": [-117.216589, -117.2211, -117.233294, -117.234529, -117.235323, -117.231251, -117.229736, -117.229139, -117.228498], \"mode\": \"lines\", \"name\": \"fast\", \"showlegend\": false, \"subplot\": \"mapbox\", \"type\": \"scattermapbox\"}, {\"customdata\": [[\"ML\", 31.807, 136, \"5N\"], [\"ML\", 32.357, 136, \"5N\"]], \"hovertemplate\": \"speed_cat=fast<br>linegroup=%{customdata[2]}<br>latitude=%{lat}<br>longitude=%{lon}<br>stype=%{customdata[0]}<br>abs_pm=%{customdata[1]}<br>fwdir=%{customdata[3]}<extra></extra>\", \"lat\": [32.918909, 32.925983], \"legendgroup\": \"fast\", \"line\": {\"color\": \"green\", \"width\": 3}, \"lon\": [-117.235565, -117.23942], \"mode\": \"lines\", \"name\": \"fast\", \"showlegend\": false, \"subplot\": \"mapbox\", \"type\": \"scattermapbox\"}, {\"customdata\": [[\"ML\", 32.795, 138, \"5N\"], [\"ML\", 33.571, 138, \"5N\"]], \"hovertemplate\": \"speed_cat=fast<br>linegroup=%{customdata[2]}<br>latitude=%{lat}<br>longitude=%{lon}<br>stype=%{customdata[0]}<br>abs_pm=%{customdata[1]}<br>fwdir=%{customdata[3]}<extra></extra>\", \"lat\": [32.932271, 32.943477], \"legendgroup\": \"fast\", \"line\": {\"color\": \"green\", \"width\": 3}, \"lon\": [-117.241036, -117.242328], \"mode\": \"lines\", \"name\": \"fast\", \"showlegend\": false, \"subplot\": \"mapbox\", \"type\": \"scattermapbox\"}, {\"customdata\": [[\"ML\", 55.341, 154, \"5N\"], [\"ML\", 56.411, 154, \"5N\"]], \"hovertemplate\": \"speed_cat=fast<br>linegroup=%{customdata[2]}<br>latitude=%{lat}<br>longitude=%{lon}<br>stype=%{customdata[0]}<br>abs_pm=%{customdata[1]}<br>fwdir=%{customdata[3]}<extra></extra>\", \"lat\": [33.224874, 33.236554], \"legendgroup\": \"fast\", \"line\": {\"color\": \"green\", \"width\": 3}, \"lon\": [-117.393754, -117.40592], \"mode\": \"lines\", \"name\": \"fast\", \"showlegend\": false, \"subplot\": \"mapbox\", \"type\": \"scattermapbox\"}, {\"customdata\": [[\"ML\", 57.391, 156, \"5N\"], [\"ML\", 58.391, 156, \"5N\"], [\"ML\", 60.491, 156, \"5N\"]], \"hovertemplate\": \"speed_cat=fast<br>linegroup=%{customdata[2]}<br>latitude=%{lat}<br>longitude=%{lon}<br>stype=%{customdata[0]}<br>abs_pm=%{customdata[1]}<br>fwdir=%{customdata[3]}<extra></extra>\", \"lat\": [33.246111, 33.25805, 33.281567], \"legendgroup\": \"fast\", \"line\": {\"color\": \"green\", \"width\": 3}, \"lon\": [-117.417364, -117.426272, -117.449193], \"mode\": \"lines\", \"name\": \"fast\", \"showlegend\": false, \"subplot\": \"mapbox\", \"type\": \"scattermapbox\"}, {\"customdata\": [[\"ML\", 0.221, 158, \"5S\"], [\"ML\", 1.14, 158, \"5S\"], [\"ML\", 2.186, 158, \"5S\"], [\"ML\", 2.559, 158, \"5S\"], [\"ML\", 3.336, 158, \"5S\"], [\"ML\", 4.003, 158, \"5S\"], [\"ML\", 4.578, 158, \"5S\"]], \"hovertemplate\": \"speed_cat=fast<br>linegroup=%{customdata[2]}<br>latitude=%{lat}<br>longitude=%{lon}<br>stype=%{customdata[0]}<br>abs_pm=%{customdata[1]}<br>fwdir=%{customdata[3]}<extra></extra>\", \"lat\": [32.544296, 32.551447, 32.558188, 32.561106, 32.568952, 32.576983, 32.584271], \"legendgroup\": \"fast\", \"line\": {\"color\": \"green\", \"width\": 3}, \"lon\": [-117.032738, -117.045806, -117.061806, -117.067228, -117.076731, -117.083123, -117.087551], \"mode\": \"lines\", \"name\": \"fast\", \"showlegend\": false, \"subplot\": \"mapbox\", \"type\": \"scattermapbox\"}, {\"customdata\": [[\"ML\", 17.23, 173, \"5S\"], [\"ML\", 17.232, 173, \"5S\"]], \"hovertemplate\": \"speed_cat=fast<br>linegroup=%{customdata[2]}<br>latitude=%{lat}<br>longitude=%{lon}<br>stype=%{customdata[0]}<br>abs_pm=%{customdata[1]}<br>fwdir=%{customdata[3]}<extra></extra>\", \"lat\": [32.731834, 32.731858], \"legendgroup\": \"fast\", \"line\": {\"color\": \"green\", \"width\": 3}, \"lon\": [-117.171905, -117.171925], \"mode\": \"lines\", \"name\": \"fast\", \"showlegend\": false, \"subplot\": \"mapbox\", \"type\": \"scattermapbox\"}, {\"customdata\": [[\"ML\", 18.346, 177, \"5S\"], [\"ML\", 18.822, 177, \"5S\"], [\"ML\", 19.156, 177, \"5S\"], [\"ML\", 20.611, 177, \"5S\"]], \"hovertemplate\": \"speed_cat=fast<br>linegroup=%{customdata[2]}<br>latitude=%{lat}<br>longitude=%{lon}<br>stype=%{customdata[0]}<br>abs_pm=%{customdata[1]}<br>fwdir=%{customdata[3]}<extra></extra>\", \"lat\": [32.743425, 32.746784, 32.749919, 32.768531], \"legendgroup\": \"fast\", \"line\": {\"color\": \"green\", \"width\": 3}, \"lon\": [-117.1848, -117.191904, -117.196234, -117.206423], \"mode\": \"lines\", \"name\": \"fast\", \"showlegend\": false, \"subplot\": \"mapbox\", \"type\": \"scattermapbox\"}, {\"customdata\": [[\"ML\", 21.973, 179, \"5S\"], [\"ML\", 22.85, 179, \"5S\"]], \"hovertemplate\": \"speed_cat=fast<br>linegroup=%{customdata[2]}<br>latitude=%{lat}<br>longitude=%{lon}<br>stype=%{customdata[0]}<br>abs_pm=%{customdata[1]}<br>fwdir=%{customdata[3]}<extra></extra>\", \"lat\": [32.788012, 32.800051], \"legendgroup\": \"fast\", \"line\": {\"color\": \"green\", \"width\": 3}, \"lon\": [-117.207155, -117.211487], \"mode\": \"lines\", \"name\": \"fast\", \"showlegend\": false, \"subplot\": \"mapbox\", \"type\": \"scattermapbox\"}, {\"customdata\": [[\"ML\", 23.466, 181, \"5S\"], [\"ML\", 24.118, 181, \"5S\"], [\"ML\", 25.739, 181, \"5S\"], [\"ML\", 26.201, 181, \"5S\"], [\"ML\", 26.621, 181, \"5S\"]], \"hovertemplate\": \"speed_cat=fast<br>linegroup=%{customdata[2]}<br>latitude=%{lat}<br>longitude=%{lon}<br>stype=%{customdata[0]}<br>abs_pm=%{customdata[1]}<br>fwdir=%{customdata[3]}<extra></extra>\", \"lat\": [32.807702, 32.815542, 32.836089, 32.842472, 32.848532], \"legendgroup\": \"fast\", \"line\": {\"color\": \"green\", \"width\": 3}, \"lon\": [-117.216754, -117.222956, -117.234107, -117.23661, -117.235725], \"mode\": \"lines\", \"name\": \"fast\", \"showlegend\": false, \"subplot\": \"mapbox\", \"type\": \"scattermapbox\"}, {\"customdata\": [[\"ML\", 28.355, 183, \"5S\"], [\"ML\", 30.891, 183, \"5S\"], [\"ML\", 31.136, 183, \"5S\"]], \"hovertemplate\": \"speed_cat=fast<br>linegroup=%{customdata[2]}<br>latitude=%{lat}<br>longitude=%{lon}<br>stype=%{customdata[0]}<br>abs_pm=%{customdata[1]}<br>fwdir=%{customdata[3]}<extra></extra>\", \"lat\": [32.87259, 32.908625, 32.911761], \"legendgroup\": \"fast\", \"line\": {\"color\": \"green\", \"width\": 3}, \"lon\": [-117.229295, -117.22684, -117.228812], \"mode\": \"lines\", \"name\": \"fast\", \"showlegend\": false, \"subplot\": \"mapbox\", \"type\": \"scattermapbox\"}, {\"customdata\": [[\"ML\", 31.517, 185, \"5S\"], [\"ML\", 31.773, 185, \"5S\"]], \"hovertemplate\": \"speed_cat=fast<br>linegroup=%{customdata[2]}<br>latitude=%{lat}<br>longitude=%{lon}<br>stype=%{customdata[0]}<br>abs_pm=%{customdata[1]}<br>fwdir=%{customdata[3]}<extra></extra>\", \"lat\": [32.91625, 32.918796], \"legendgroup\": \"fast\", \"line\": {\"color\": \"green\", \"width\": 3}, \"lon\": [-117.232541, -117.235719], \"mode\": \"lines\", \"name\": \"fast\", \"showlegend\": false, \"subplot\": \"mapbox\", \"type\": \"scattermapbox\"}, {\"customdata\": [[\"ML\", 54.858, 199, \"5S\"], [\"ML\", 55.858, 199, \"5S\"]], \"hovertemplate\": \"speed_cat=fast<br>linegroup=%{customdata[2]}<br>latitude=%{lat}<br>longitude=%{lon}<br>stype=%{customdata[0]}<br>abs_pm=%{customdata[1]}<br>fwdir=%{customdata[3]}<extra></extra>\", \"lat\": [33.218567, 33.230196], \"legendgroup\": \"fast\", \"line\": {\"color\": \"green\", \"width\": 3}, \"lon\": [-117.391109, -117.400904], \"mode\": \"lines\", \"name\": \"fast\", \"showlegend\": false, \"subplot\": \"mapbox\", \"type\": \"scattermapbox\"}, {\"customdata\": [[\"ML\", 56.858, 201, \"5S\"], [\"ML\", 58.329, 201, \"5S\"], [\"ML\", 60.429, 201, \"5S\"]], \"hovertemplate\": \"speed_cat=fast<br>linegroup=%{customdata[2]}<br>latitude=%{lat}<br>longitude=%{lon}<br>stype=%{customdata[0]}<br>abs_pm=%{customdata[1]}<br>fwdir=%{customdata[3]}<extra></extra>\", \"lat\": [33.240152, 33.257953, 33.28144], \"legendgroup\": \"fast\", \"line\": {\"color\": \"green\", \"width\": 3}, \"lon\": [-117.413376, -117.426547, -117.449446], \"mode\": \"lines\", \"name\": \"fast\", \"showlegend\": false, \"subplot\": \"mapbox\", \"type\": \"scattermapbox\"}, {\"customdata\": [[\"ML\", 13.336, 208, \"76E\"], [\"ML\", 13.337, 208, \"76E\"]], \"hovertemplate\": \"speed_cat=fast<br>linegroup=%{customdata[2]}<br>latitude=%{lat}<br>longitude=%{lon}<br>stype=%{customdata[0]}<br>abs_pm=%{customdata[1]}<br>fwdir=%{customdata[3]}<extra></extra>\", \"lat\": [33.303867, 33.303877], \"legendgroup\": \"fast\", \"line\": {\"color\": \"green\", \"width\": 3}, \"lon\": [-117.213732, -117.21372], \"mode\": \"lines\", \"name\": \"fast\", \"showlegend\": false, \"subplot\": \"mapbox\", \"type\": \"scattermapbox\"}, {\"customdata\": [[\"ML\", 9.184, 210, \"76W\"], [\"ML\", 10.275, 210, \"76W\"]], \"hovertemplate\": \"speed_cat=fast<br>linegroup=%{customdata[2]}<br>latitude=%{lat}<br>longitude=%{lon}<br>stype=%{customdata[0]}<br>abs_pm=%{customdata[1]}<br>fwdir=%{customdata[3]}<extra></extra>\", \"lat\": [33.254696, 33.268486], \"legendgroup\": \"fast\", \"line\": {\"color\": \"green\", \"width\": 3}, \"lon\": [-117.241748, -117.236368], \"mode\": \"lines\", \"name\": \"fast\", \"showlegend\": false, \"subplot\": \"mapbox\", \"type\": \"scattermapbox\"}, {\"customdata\": [[\"ML\", 13.336, 213, \"76W\"], [\"ML\", 13.337, 213, \"76W\"], [\"ML\", 17.411, 213, \"76W\"]], \"hovertemplate\": \"speed_cat=fast<br>linegroup=%{customdata[2]}<br>latitude=%{lat}<br>longitude=%{lon}<br>stype=%{customdata[0]}<br>abs_pm=%{customdata[1]}<br>fwdir=%{customdata[3]}<extra></extra>\", \"lat\": [33.303867, 33.303877, 33.332408], \"legendgroup\": \"fast\", \"line\": {\"color\": \"green\", \"width\": 3}, \"lon\": [-117.213732, -117.21372, -117.157839], \"mode\": \"lines\", \"name\": \"fast\", \"showlegend\": false, \"subplot\": \"mapbox\", \"type\": \"scattermapbox\"}, {\"customdata\": [[\"ML\", 0.321, 232, \"805N\"], [\"ML\", 0.632, 232, \"805N\"], [\"ML\", 0.965, 232, \"805N\"]], \"hovertemplate\": \"speed_cat=fast<br>linegroup=%{customdata[2]}<br>latitude=%{lat}<br>longitude=%{lon}<br>stype=%{customdata[0]}<br>abs_pm=%{customdata[1]}<br>fwdir=%{customdata[3]}<extra></extra>\", \"lat\": [32.54945, 32.553573, 32.558315], \"legendgroup\": \"fast\", \"line\": {\"color\": \"green\", \"width\": 3}, \"lon\": [-117.039282, -117.041355, -117.042254], \"mode\": \"lines\", \"name\": \"fast\", \"showlegend\": false, \"subplot\": \"mapbox\", \"type\": \"scattermapbox\"}, {\"customdata\": [[\"ML\", 2.375, 235, \"805N\"], [\"ML\", 2.771, 235, \"805N\"]], \"hovertemplate\": \"speed_cat=fast<br>linegroup=%{customdata[2]}<br>latitude=%{lat}<br>longitude=%{lon}<br>stype=%{customdata[0]}<br>abs_pm=%{customdata[1]}<br>fwdir=%{customdata[3]}<extra></extra>\", \"lat\": [32.578428, 32.584089], \"legendgroup\": \"fast\", \"line\": {\"color\": \"green\", \"width\": 3}, \"lon\": [-117.038084, -117.036837], \"mode\": \"lines\", \"name\": \"fast\", \"showlegend\": false, \"subplot\": \"mapbox\", \"type\": \"scattermapbox\"}, {\"customdata\": [[\"ML\", 9.828, 240, \"805N\"], [\"ML\", 10.211, 240, \"805N\"]], \"hovertemplate\": \"speed_cat=fast<br>linegroup=%{customdata[2]}<br>latitude=%{lat}<br>longitude=%{lon}<br>stype=%{customdata[0]}<br>abs_pm=%{customdata[1]}<br>fwdir=%{customdata[3]}<extra></extra>\", \"lat\": [32.672952, 32.67811], \"legendgroup\": \"fast\", \"line\": {\"color\": \"green\", \"width\": 3}, \"lon\": [-117.082415, -117.084893], \"mode\": \"lines\", \"name\": \"fast\", \"showlegend\": false, \"subplot\": \"mapbox\", \"type\": \"scattermapbox\"}, {\"customdata\": [[\"ML\", 0.631, 252, \"805S\"], [\"ML\", 0.964, 252, \"805S\"]], \"hovertemplate\": \"speed_cat=fast<br>linegroup=%{customdata[2]}<br>latitude=%{lat}<br>longitude=%{lon}<br>stype=%{customdata[0]}<br>abs_pm=%{customdata[1]}<br>fwdir=%{customdata[3]}<extra></extra>\", \"lat\": [32.553604, 32.558345], \"legendgroup\": \"fast\", \"line\": {\"color\": \"green\", \"width\": 3}, \"lon\": [-117.041663, -117.042588], \"mode\": \"lines\", \"name\": \"fast\", \"showlegend\": false, \"subplot\": \"mapbox\", \"type\": \"scattermapbox\"}, {\"customdata\": [[\"ML\", 2.884, 276, \"8E\"], [\"ML\", 3.17, 276, \"8E\"], [\"ML\", 3.409, 276, \"8E\"]], \"hovertemplate\": \"speed_cat=fast<br>linegroup=%{customdata[2]}<br>latitude=%{lat}<br>longitude=%{lon}<br>stype=%{customdata[0]}<br>abs_pm=%{customdata[1]}<br>fwdir=%{customdata[3]}<extra></extra>\", \"lat\": [32.759721, 32.759352, 32.759211], \"legendgroup\": \"fast\", \"line\": {\"color\": \"green\", \"width\": 3}, \"lon\": [-117.188602, -117.183711, -117.179602], \"mode\": \"lines\", \"name\": \"fast\", \"showlegend\": false, \"subplot\": \"mapbox\", \"type\": \"scattermapbox\"}, {\"customdata\": [[\"ML\", 3.962, 278, \"8E\"], [\"ML\", 4.832, 278, \"8E\"], [\"ML\", 5.03, 278, \"8E\"], [\"ML\", 5.536, 278, \"8E\"]], \"hovertemplate\": \"speed_cat=fast<br>linegroup=%{customdata[2]}<br>latitude=%{lat}<br>longitude=%{lon}<br>stype=%{customdata[0]}<br>abs_pm=%{customdata[1]}<br>fwdir=%{customdata[3]}<extra></extra>\", \"lat\": [32.760328, 32.764658, 32.765477, 32.767848], \"legendgroup\": \"fast\", \"line\": {\"color\": \"green\", \"width\": 3}, \"lon\": [-117.170261, -117.156329, -117.153086, -117.1448], \"mode\": \"lines\", \"name\": \"fast\", \"showlegend\": false, \"subplot\": \"mapbox\", \"type\": \"scattermapbox\"}, {\"customdata\": [[\"ML\", 5.975, 280, \"8E\"], [\"ML\", 6.568, 280, \"8E\"]], \"hovertemplate\": \"speed_cat=fast<br>linegroup=%{customdata[2]}<br>latitude=%{lat}<br>longitude=%{lon}<br>stype=%{customdata[0]}<br>abs_pm=%{customdata[1]}<br>fwdir=%{customdata[3]}<extra></extra>\", \"lat\": [32.770269, 32.772891], \"legendgroup\": \"fast\", \"line\": {\"color\": \"green\", \"width\": 3}, \"lon\": [-117.137788, -117.128096], \"mode\": \"lines\", \"name\": \"fast\", \"showlegend\": false, \"subplot\": \"mapbox\", \"type\": \"scattermapbox\"}, {\"customdata\": [[\"ML\", 9.509, 283, \"8E\"], [\"ML\", 10.908, 283, \"8E\"]], \"hovertemplate\": \"speed_cat=fast<br>linegroup=%{customdata[2]}<br>latitude=%{lat}<br>longitude=%{lon}<br>stype=%{customdata[0]}<br>abs_pm=%{customdata[1]}<br>fwdir=%{customdata[3]}<extra></extra>\", \"lat\": [32.779817, 32.777453], \"legendgroup\": \"fast\", \"line\": {\"color\": \"green\", \"width\": 3}, \"lon\": [-117.079742, -117.056127], \"mode\": \"lines\", \"name\": \"fast\", \"showlegend\": false, \"subplot\": \"mapbox\", \"type\": \"scattermapbox\"}, {\"customdata\": [[\"ML\", 2.228, 288, \"8W\"], [\"ML\", 2.281, 288, \"8W\"], [\"ML\", 3.453, 288, \"8W\"], [\"ML\", 3.937, 288, \"8W\"], [\"ML\", 3.965, 288, \"8W\"]], \"hovertemplate\": \"speed_cat=fast<br>linegroup=%{customdata[2]}<br>latitude=%{lat}<br>longitude=%{lon}<br>stype=%{customdata[0]}<br>abs_pm=%{customdata[1]}<br>fwdir=%{customdata[3]}<extra></extra>\", \"lat\": [32.759919, 32.760081, 32.759396, 32.760399, 32.760506], \"legendgroup\": \"fast\", \"line\": {\"color\": \"green\", \"width\": 3}, \"lon\": [-117.199637, -117.19875, -117.178868, -117.170717, -117.170254], \"mode\": \"lines\", \"name\": \"fast\", \"showlegend\": false, \"subplot\": \"mapbox\", \"type\": \"scattermapbox\"}, {\"customdata\": [[\"ML\", 5.017, 290, \"8W\"], [\"ML\", 5.526, 290, \"8W\"]], \"hovertemplate\": \"speed_cat=fast<br>linegroup=%{customdata[2]}<br>latitude=%{lat}<br>longitude=%{lon}<br>stype=%{customdata[0]}<br>abs_pm=%{customdata[1]}<br>fwdir=%{customdata[3]}<extra></extra>\", \"lat\": [32.765611, 32.768025], \"legendgroup\": \"fast\", \"line\": {\"color\": \"green\", \"width\": 3}, \"lon\": [-117.153352, -117.145039], \"mode\": \"lines\", \"name\": \"fast\", \"showlegend\": false, \"subplot\": \"mapbox\", \"type\": \"scattermapbox\"}, {\"customdata\": [[\"ML\", 5.977, 292, \"8W\"], [\"ML\", 6.367, 292, \"8W\"]], \"hovertemplate\": \"speed_cat=fast<br>linegroup=%{customdata[2]}<br>latitude=%{lat}<br>longitude=%{lon}<br>stype=%{customdata[0]}<br>abs_pm=%{customdata[1]}<br>fwdir=%{customdata[3]}<extra></extra>\", \"lat\": [32.77049, 32.771975], \"legendgroup\": \"fast\", \"line\": {\"color\": \"green\", \"width\": 3}, \"lon\": [-117.137833, -117.13137], \"mode\": \"lines\", \"name\": \"fast\", \"showlegend\": false, \"subplot\": \"mapbox\", \"type\": \"scattermapbox\"}, {\"customdata\": [[\"ML\", 6.568, 294, \"8W\"], [\"ML\", 6.837, 294, \"8W\"]], \"hovertemplate\": \"speed_cat=fast<br>linegroup=%{customdata[2]}<br>latitude=%{lat}<br>longitude=%{lon}<br>stype=%{customdata[0]}<br>abs_pm=%{customdata[1]}<br>fwdir=%{customdata[3]}<extra></extra>\", \"lat\": [32.773122, 32.775258], \"legendgroup\": \"fast\", \"line\": {\"color\": \"green\", \"width\": 3}, \"lon\": [-117.128233, -117.124378], \"mode\": \"lines\", \"name\": \"fast\", \"showlegend\": false, \"subplot\": \"mapbox\", \"type\": \"scattermapbox\"}, {\"customdata\": [[\"ML\", 7.048, 296, \"8W\"], [\"ML\", 7.761, 296, \"8W\"]], \"hovertemplate\": \"speed_cat=fast<br>linegroup=%{customdata[2]}<br>latitude=%{lat}<br>longitude=%{lon}<br>stype=%{customdata[0]}<br>abs_pm=%{customdata[1]}<br>fwdir=%{customdata[3]}<extra></extra>\", \"lat\": [32.777003, 32.778744], \"legendgroup\": \"fast\", \"line\": {\"color\": \"green\", \"width\": 3}, \"lon\": [-117.121375, -117.10951], \"mode\": \"lines\", \"name\": \"fast\", \"showlegend\": false, \"subplot\": \"mapbox\", \"type\": \"scattermapbox\"}, {\"customdata\": [[\"ML\", 10.898, 298, \"8W\"], [\"ML\", 12.929, 298, \"8W\"]], \"hovertemplate\": \"speed_cat=fast<br>linegroup=%{customdata[2]}<br>latitude=%{lat}<br>longitude=%{lon}<br>stype=%{customdata[0]}<br>abs_pm=%{customdata[1]}<br>fwdir=%{customdata[3]}<extra></extra>\", \"lat\": [32.777651, 32.771107], \"legendgroup\": \"fast\", \"line\": {\"color\": \"green\", \"width\": 3}, \"lon\": [-117.056226, -117.023752], \"mode\": \"lines\", \"name\": \"fast\", \"showlegend\": false, \"subplot\": \"mapbox\", \"type\": \"scattermapbox\"}, {\"customdata\": [[\"ML\", 13.581, 300, \"8W\"], [\"ML\", 13.758, 300, \"8W\"]], \"hovertemplate\": \"speed_cat=fast<br>linegroup=%{customdata[2]}<br>latitude=%{lat}<br>longitude=%{lon}<br>stype=%{customdata[0]}<br>abs_pm=%{customdata[1]}<br>fwdir=%{customdata[3]}<extra></extra>\", \"lat\": [32.774158, 32.775159], \"legendgroup\": \"fast\", \"line\": {\"color\": \"green\", \"width\": 3}, \"lon\": [-117.013463, -117.010686], \"mode\": \"lines\", \"name\": \"fast\", \"showlegend\": false, \"subplot\": \"mapbox\", \"type\": \"scattermapbox\"}, {\"customdata\": [[\"ML\", 14.112, 302, \"8W\"], [\"ML\", 14.309, 302, \"8W\"]], \"hovertemplate\": \"speed_cat=fast<br>linegroup=%{customdata[2]}<br>latitude=%{lat}<br>longitude=%{lon}<br>stype=%{customdata[0]}<br>abs_pm=%{customdata[1]}<br>fwdir=%{customdata[3]}<extra></extra>\", \"lat\": [32.77719, 32.778547], \"legendgroup\": \"fast\", \"line\": {\"color\": \"green\", \"width\": 3}, \"lon\": [-117.005007, -117.002027], \"mode\": \"lines\", \"name\": \"fast\", \"showlegend\": false, \"subplot\": \"mapbox\", \"type\": \"scattermapbox\"}, {\"customdata\": [[\"ML\", 14.362, 304, \"8W\"], [\"ML\", 15.036, 304, \"8W\"]], \"hovertemplate\": \"speed_cat=fast<br>linegroup=%{customdata[2]}<br>latitude=%{lat}<br>longitude=%{lon}<br>stype=%{customdata[0]}<br>abs_pm=%{customdata[1]}<br>fwdir=%{customdata[3]}<extra></extra>\", \"lat\": [32.778899, 32.779188], \"legendgroup\": \"fast\", \"line\": {\"color\": \"green\", \"width\": 3}, \"lon\": [-117.001223, -116.989808], \"mode\": \"lines\", \"name\": \"fast\", \"showlegend\": false, \"subplot\": \"mapbox\", \"type\": \"scattermapbox\"}, {\"customdata\": [[\"ML\", 3.691, 313, \"905E\"], [\"ML\", 4.434, 313, \"905E\"]], \"hovertemplate\": \"speed_cat=fast<br>linegroup=%{customdata[2]}<br>latitude=%{lat}<br>longitude=%{lon}<br>stype=%{customdata[0]}<br>abs_pm=%{customdata[1]}<br>fwdir=%{customdata[3]}<extra></extra>\", \"lat\": [32.566988, 32.566314], \"legendgroup\": \"fast\", \"line\": {\"color\": \"green\", \"width\": 3}, \"lon\": [-117.017135, -117.004599], \"mode\": \"lines\", \"name\": \"fast\", \"showlegend\": false, \"subplot\": \"mapbox\", \"type\": \"scattermapbox\"}, {\"customdata\": [[\"ML\", 8.491, 317, \"905W\"]], \"hovertemplate\": \"speed_cat=fast<br>linegroup=%{customdata[2]}<br>latitude=%{lat}<br>longitude=%{lon}<br>stype=%{customdata[0]}<br>abs_pm=%{customdata[1]}<br>fwdir=%{customdata[3]}<extra></extra>\", \"lat\": [32.555743], \"legendgroup\": \"fast\", \"line\": {\"color\": \"green\", \"width\": 3}, \"lon\": [-116.939922], \"mode\": \"lines\", \"name\": \"fast\", \"showlegend\": false, \"subplot\": \"mapbox\", \"type\": \"scattermapbox\"}, {\"customdata\": [[\"ML\", 0.825, 319, \"94E\"], [\"ML\", 1.08, 319, \"94E\"], [\"ML\", 1.215, 319, \"94E\"], [\"ML\", 1.837, 319, \"94E\"], [\"ML\", 2.565, 319, \"94E\"]], \"hovertemplate\": \"speed_cat=fast<br>linegroup=%{customdata[2]}<br>latitude=%{lat}<br>longitude=%{lon}<br>stype=%{customdata[0]}<br>abs_pm=%{customdata[1]}<br>fwdir=%{customdata[3]}<extra></extra>\", \"lat\": [32.713119, 32.713706, 32.714326, 32.71658, 32.718627], \"legendgroup\": \"fast\", \"line\": {\"color\": \"green\", \"width\": 3}, \"lon\": [-117.133405, -117.129104, -117.126912, -117.11662, -117.104491], \"mode\": \"lines\", \"name\": \"fast\", \"showlegend\": false, \"subplot\": \"mapbox\", \"type\": \"scattermapbox\"}, {\"customdata\": [[\"ML\", 2.764, 321, \"94E\"], [\"ML\", 3.402, 321, \"94E\"]], \"hovertemplate\": \"speed_cat=fast<br>linegroup=%{customdata[2]}<br>latitude=%{lat}<br>longitude=%{lon}<br>stype=%{customdata[0]}<br>abs_pm=%{customdata[1]}<br>fwdir=%{customdata[3]}<extra></extra>\", \"lat\": [32.718925, 32.717692], \"legendgroup\": \"fast\", \"line\": {\"color\": \"green\", \"width\": 3}, \"lon\": [-117.101118, -117.090432], \"mode\": \"lines\", \"name\": \"fast\", \"showlegend\": false, \"subplot\": \"mapbox\", \"type\": \"scattermapbox\"}, {\"customdata\": [[\"ML\", 3.744, 323, \"94E\"], [\"ML\", 4.384, 323, \"94E\"]], \"hovertemplate\": \"speed_cat=fast<br>linegroup=%{customdata[2]}<br>latitude=%{lat}<br>longitude=%{lon}<br>stype=%{customdata[0]}<br>abs_pm=%{customdata[1]}<br>fwdir=%{customdata[3]}<extra></extra>\", \"lat\": [32.71801, 32.723666], \"legendgroup\": \"fast\", \"line\": {\"color\": \"green\", \"width\": 3}, \"lon\": [-117.08462, -117.076046], \"mode\": \"lines\", \"name\": \"fast\", \"showlegend\": false, \"subplot\": \"mapbox\", \"type\": \"scattermapbox\"}, {\"customdata\": [[\"ML\", 0.456, 326, \"94W\"], [\"ML\", 0.819, 326, \"94W\"]], \"hovertemplate\": \"speed_cat=fast<br>linegroup=%{customdata[2]}<br>latitude=%{lat}<br>longitude=%{lon}<br>stype=%{customdata[0]}<br>abs_pm=%{customdata[1]}<br>fwdir=%{customdata[3]}<extra></extra>\", \"lat\": [32.713274, 32.713318], \"legendgroup\": \"fast\", \"line\": {\"color\": \"green\", \"width\": 3}, \"lon\": [-117.140097, -117.134145], \"mode\": \"lines\", \"name\": \"fast\", \"showlegend\": false, \"subplot\": \"mapbox\", \"type\": \"scattermapbox\"}, {\"customdata\": [[\"ML\", 1.844, 330, \"94W\"], [\"ML\", 2.134, 330, \"94W\"]], \"hovertemplate\": \"speed_cat=fast<br>linegroup=%{customdata[2]}<br>latitude=%{lat}<br>longitude=%{lon}<br>stype=%{customdata[0]}<br>abs_pm=%{customdata[1]}<br>fwdir=%{customdata[3]}<extra></extra>\", \"lat\": [32.717134, 32.717909], \"legendgroup\": \"fast\", \"line\": {\"color\": \"green\", \"width\": 3}, \"lon\": [-117.117861, -117.113171], \"mode\": \"lines\", \"name\": \"fast\", \"showlegend\": false, \"subplot\": \"mapbox\", \"type\": \"scattermapbox\"}, {\"customdata\": [[\"ML\", 2.564, 332, \"94W\"], [\"ML\", 3.415, 332, \"94W\"]], \"hovertemplate\": \"speed_cat=fast<br>linegroup=%{customdata[2]}<br>latitude=%{lat}<br>longitude=%{lon}<br>stype=%{customdata[0]}<br>abs_pm=%{customdata[1]}<br>fwdir=%{customdata[3]}<extra></extra>\", \"lat\": [32.718507, 32.718104], \"legendgroup\": \"fast\", \"line\": {\"color\": \"green\", \"width\": 3}, \"lon\": [-117.106173, -117.092449], \"mode\": \"lines\", \"name\": \"fast\", \"showlegend\": false, \"subplot\": \"mapbox\", \"type\": \"scattermapbox\"}, {\"customdata\": [[\"ML\", 8.611, 334, \"94W\"], [\"ML\", 9.14, 334, \"94W\"]], \"hovertemplate\": \"speed_cat=fast<br>linegroup=%{customdata[2]}<br>latitude=%{lat}<br>longitude=%{lon}<br>stype=%{customdata[0]}<br>abs_pm=%{customdata[1]}<br>fwdir=%{customdata[3]}<extra></extra>\", \"lat\": [32.748892, 32.753919], \"legendgroup\": \"fast\", \"line\": {\"color\": \"green\", \"width\": 3}, \"lon\": [-117.017105, -117.010444], \"mode\": \"lines\", \"name\": \"fast\", \"showlegend\": false, \"subplot\": \"mapbox\", \"type\": \"scattermapbox\"}],                        {\"height\": 800, \"legend\": {\"title\": {\"text\": \"speed_cat\"}, \"tracegroupgap\": 0}, \"mapbox\": {\"center\": {\"lat\": 32.77, \"lon\": -117.16}, \"domain\": {\"x\": [0.0, 1.0], \"y\": [0.0, 1.0]}, \"style\": \"stamen-terrain\", \"zoom\": 12}, \"margin\": {\"t\": 60}, \"template\": {\"data\": {\"bar\": [{\"error_x\": {\"color\": \"#f2f5fa\"}, \"error_y\": {\"color\": \"#f2f5fa\"}, \"marker\": {\"line\": {\"color\": \"rgb(17,17,17)\", \"width\": 0.5}}, \"type\": \"bar\"}], \"barpolar\": [{\"marker\": {\"line\": {\"color\": \"rgb(17,17,17)\", \"width\": 0.5}}, \"type\": \"barpolar\"}], \"carpet\": [{\"aaxis\": {\"endlinecolor\": \"#A2B1C6\", \"gridcolor\": \"#506784\", \"linecolor\": \"#506784\", \"minorgridcolor\": \"#506784\", \"startlinecolor\": \"#A2B1C6\"}, \"baxis\": {\"endlinecolor\": \"#A2B1C6\", \"gridcolor\": \"#506784\", \"linecolor\": \"#506784\", \"minorgridcolor\": \"#506784\", \"startlinecolor\": \"#A2B1C6\"}, \"type\": \"carpet\"}], \"choropleth\": [{\"colorbar\": {\"outlinewidth\": 0, \"ticks\": \"\"}, \"type\": \"choropleth\"}], \"contour\": [{\"colorbar\": {\"outlinewidth\": 0, \"ticks\": \"\"}, \"colorscale\": [[0.0, \"#0d0887\"], [0.1111111111111111, \"#46039f\"], [0.2222222222222222, \"#7201a8\"], [0.3333333333333333, \"#9c179e\"], [0.4444444444444444, \"#bd3786\"], [0.5555555555555556, \"#d8576b\"], [0.6666666666666666, \"#ed7953\"], [0.7777777777777778, \"#fb9f3a\"], [0.8888888888888888, \"#fdca26\"], [1.0, \"#f0f921\"]], \"type\": \"contour\"}], \"contourcarpet\": [{\"colorbar\": {\"outlinewidth\": 0, \"ticks\": \"\"}, \"type\": \"contourcarpet\"}], \"heatmap\": [{\"colorbar\": {\"outlinewidth\": 0, \"ticks\": \"\"}, \"colorscale\": [[0.0, \"#0d0887\"], [0.1111111111111111, \"#46039f\"], [0.2222222222222222, \"#7201a8\"], [0.3333333333333333, \"#9c179e\"], [0.4444444444444444, \"#bd3786\"], [0.5555555555555556, \"#d8576b\"], [0.6666666666666666, \"#ed7953\"], [0.7777777777777778, \"#fb9f3a\"], [0.8888888888888888, \"#fdca26\"], [1.0, \"#f0f921\"]], \"type\": \"heatmap\"}], \"heatmapgl\": [{\"colorbar\": {\"outlinewidth\": 0, \"ticks\": \"\"}, \"colorscale\": [[0.0, \"#0d0887\"], [0.1111111111111111, \"#46039f\"], [0.2222222222222222, \"#7201a8\"], [0.3333333333333333, \"#9c179e\"], [0.4444444444444444, \"#bd3786\"], [0.5555555555555556, \"#d8576b\"], [0.6666666666666666, \"#ed7953\"], [0.7777777777777778, \"#fb9f3a\"], [0.8888888888888888, \"#fdca26\"], [1.0, \"#f0f921\"]], \"type\": \"heatmapgl\"}], \"histogram\": [{\"marker\": {\"colorbar\": {\"outlinewidth\": 0, \"ticks\": \"\"}}, \"type\": \"histogram\"}], \"histogram2d\": [{\"colorbar\": {\"outlinewidth\": 0, \"ticks\": \"\"}, \"colorscale\": [[0.0, \"#0d0887\"], [0.1111111111111111, \"#46039f\"], [0.2222222222222222, \"#7201a8\"], [0.3333333333333333, \"#9c179e\"], [0.4444444444444444, \"#bd3786\"], [0.5555555555555556, \"#d8576b\"], [0.6666666666666666, \"#ed7953\"], [0.7777777777777778, \"#fb9f3a\"], [0.8888888888888888, \"#fdca26\"], [1.0, \"#f0f921\"]], \"type\": \"histogram2d\"}], \"histogram2dcontour\": [{\"colorbar\": {\"outlinewidth\": 0, \"ticks\": \"\"}, \"colorscale\": [[0.0, \"#0d0887\"], [0.1111111111111111, \"#46039f\"], [0.2222222222222222, \"#7201a8\"], [0.3333333333333333, \"#9c179e\"], [0.4444444444444444, \"#bd3786\"], [0.5555555555555556, \"#d8576b\"], [0.6666666666666666, \"#ed7953\"], [0.7777777777777778, \"#fb9f3a\"], [0.8888888888888888, \"#fdca26\"], [1.0, \"#f0f921\"]], \"type\": \"histogram2dcontour\"}], \"mesh3d\": [{\"colorbar\": {\"outlinewidth\": 0, \"ticks\": \"\"}, \"type\": \"mesh3d\"}], \"parcoords\": [{\"line\": {\"colorbar\": {\"outlinewidth\": 0, \"ticks\": \"\"}}, \"type\": \"parcoords\"}], \"pie\": [{\"automargin\": true, \"type\": \"pie\"}], \"scatter\": [{\"marker\": {\"line\": {\"color\": \"#283442\"}}, \"type\": \"scatter\"}], \"scatter3d\": [{\"line\": {\"colorbar\": {\"outlinewidth\": 0, \"ticks\": \"\"}}, \"marker\": {\"colorbar\": {\"outlinewidth\": 0, \"ticks\": \"\"}}, \"type\": \"scatter3d\"}], \"scattercarpet\": [{\"marker\": {\"colorbar\": {\"outlinewidth\": 0, \"ticks\": \"\"}}, \"type\": \"scattercarpet\"}], \"scattergeo\": [{\"marker\": {\"colorbar\": {\"outlinewidth\": 0, \"ticks\": \"\"}}, \"type\": \"scattergeo\"}], \"scattergl\": [{\"marker\": {\"line\": {\"color\": \"#283442\"}}, \"type\": \"scattergl\"}], \"scattermapbox\": [{\"marker\": {\"colorbar\": {\"outlinewidth\": 0, \"ticks\": \"\"}}, \"type\": \"scattermapbox\"}], \"scatterpolar\": [{\"marker\": {\"colorbar\": {\"outlinewidth\": 0, \"ticks\": \"\"}}, \"type\": \"scatterpolar\"}], \"scatterpolargl\": [{\"marker\": {\"colorbar\": {\"outlinewidth\": 0, \"ticks\": \"\"}}, \"type\": \"scatterpolargl\"}], \"scatterternary\": [{\"marker\": {\"colorbar\": {\"outlinewidth\": 0, \"ticks\": \"\"}}, \"type\": \"scatterternary\"}], \"surface\": [{\"colorbar\": {\"outlinewidth\": 0, \"ticks\": \"\"}, \"colorscale\": [[0.0, \"#0d0887\"], [0.1111111111111111, \"#46039f\"], [0.2222222222222222, \"#7201a8\"], [0.3333333333333333, \"#9c179e\"], [0.4444444444444444, \"#bd3786\"], [0.5555555555555556, \"#d8576b\"], [0.6666666666666666, \"#ed7953\"], [0.7777777777777778, \"#fb9f3a\"], [0.8888888888888888, \"#fdca26\"], [1.0, \"#f0f921\"]], \"type\": \"surface\"}], \"table\": [{\"cells\": {\"fill\": {\"color\": \"#506784\"}, \"line\": {\"color\": \"rgb(17,17,17)\"}}, \"header\": {\"fill\": {\"color\": \"#2a3f5f\"}, \"line\": {\"color\": \"rgb(17,17,17)\"}}, \"type\": \"table\"}]}, \"layout\": {\"annotationdefaults\": {\"arrowcolor\": \"#f2f5fa\", \"arrowhead\": 0, \"arrowwidth\": 1}, \"autotypenumbers\": \"strict\", \"coloraxis\": {\"colorbar\": {\"outlinewidth\": 0, \"ticks\": \"\"}}, \"colorscale\": {\"diverging\": [[0, \"#8e0152\"], [0.1, \"#c51b7d\"], [0.2, \"#de77ae\"], [0.3, \"#f1b6da\"], [0.4, \"#fde0ef\"], [0.5, \"#f7f7f7\"], [0.6, \"#e6f5d0\"], [0.7, \"#b8e186\"], [0.8, \"#7fbc41\"], [0.9, \"#4d9221\"], [1, \"#276419\"]], \"sequential\": [[0.0, \"#0d0887\"], [0.1111111111111111, \"#46039f\"], [0.2222222222222222, \"#7201a8\"], [0.3333333333333333, \"#9c179e\"], [0.4444444444444444, \"#bd3786\"], [0.5555555555555556, \"#d8576b\"], [0.6666666666666666, \"#ed7953\"], [0.7777777777777778, \"#fb9f3a\"], [0.8888888888888888, \"#fdca26\"], [1.0, \"#f0f921\"]], \"sequentialminus\": [[0.0, \"#0d0887\"], [0.1111111111111111, \"#46039f\"], [0.2222222222222222, \"#7201a8\"], [0.3333333333333333, \"#9c179e\"], [0.4444444444444444, \"#bd3786\"], [0.5555555555555556, \"#d8576b\"], [0.6666666666666666, \"#ed7953\"], [0.7777777777777778, \"#fb9f3a\"], [0.8888888888888888, \"#fdca26\"], [1.0, \"#f0f921\"]]}, \"colorway\": [\"#636efa\", \"#EF553B\", \"#00cc96\", \"#ab63fa\", \"#FFA15A\", \"#19d3f3\", \"#FF6692\", \"#B6E880\", \"#FF97FF\", \"#FECB52\"], \"font\": {\"color\": \"#f2f5fa\"}, \"geo\": {\"bgcolor\": \"rgb(17,17,17)\", \"lakecolor\": \"rgb(17,17,17)\", \"landcolor\": \"rgb(17,17,17)\", \"showlakes\": true, \"showland\": true, \"subunitcolor\": \"#506784\"}, \"hoverlabel\": {\"align\": \"left\"}, \"hovermode\": \"closest\", \"mapbox\": {\"style\": \"dark\"}, \"paper_bgcolor\": \"rgb(17,17,17)\", \"plot_bgcolor\": \"rgb(17,17,17)\", \"polar\": {\"angularaxis\": {\"gridcolor\": \"#506784\", \"linecolor\": \"#506784\", \"ticks\": \"\"}, \"bgcolor\": \"rgb(17,17,17)\", \"radialaxis\": {\"gridcolor\": \"#506784\", \"linecolor\": \"#506784\", \"ticks\": \"\"}}, \"scene\": {\"xaxis\": {\"backgroundcolor\": \"rgb(17,17,17)\", \"gridcolor\": \"#506784\", \"gridwidth\": 2, \"linecolor\": \"#506784\", \"showbackground\": true, \"ticks\": \"\", \"zerolinecolor\": \"#C8D4E3\"}, \"yaxis\": {\"backgroundcolor\": \"rgb(17,17,17)\", \"gridcolor\": \"#506784\", \"gridwidth\": 2, \"linecolor\": \"#506784\", \"showbackground\": true, \"ticks\": \"\", \"zerolinecolor\": \"#C8D4E3\"}, \"zaxis\": {\"backgroundcolor\": \"rgb(17,17,17)\", \"gridcolor\": \"#506784\", \"gridwidth\": 2, \"linecolor\": \"#506784\", \"showbackground\": true, \"ticks\": \"\", \"zerolinecolor\": \"#C8D4E3\"}}, \"shapedefaults\": {\"line\": {\"color\": \"#f2f5fa\"}}, \"sliderdefaults\": {\"bgcolor\": \"#C8D4E3\", \"bordercolor\": \"rgb(17,17,17)\", \"borderwidth\": 1, \"tickwidth\": 0}, \"ternary\": {\"aaxis\": {\"gridcolor\": \"#506784\", \"linecolor\": \"#506784\", \"ticks\": \"\"}, \"baxis\": {\"gridcolor\": \"#506784\", \"linecolor\": \"#506784\", \"ticks\": \"\"}, \"bgcolor\": \"rgb(17,17,17)\", \"caxis\": {\"gridcolor\": \"#506784\", \"linecolor\": \"#506784\", \"ticks\": \"\"}}, \"title\": {\"x\": 0.05}, \"updatemenudefaults\": {\"bgcolor\": \"#506784\", \"borderwidth\": 0}, \"xaxis\": {\"automargin\": true, \"gridcolor\": \"#283442\", \"linecolor\": \"#506784\", \"ticks\": \"\", \"title\": {\"standoff\": 15}, \"zerolinecolor\": \"#283442\", \"zerolinewidth\": 2}, \"yaxis\": {\"automargin\": true, \"gridcolor\": \"#283442\", \"linecolor\": \"#506784\", \"ticks\": \"\", \"title\": {\"standoff\": 15}, \"zerolinecolor\": \"#283442\", \"zerolinewidth\": 2}}}, \"width\": 800},                        {\"responsive\": true}                    ).then(function(){\n",
       "                            \n",
       "var gd = document.getElementById('7ca76fd6-c505-4436-83ed-034e0d8600c2');\n",
       "var x = new MutationObserver(function (mutations, observer) {{\n",
       "        var display = window.getComputedStyle(gd).display;\n",
       "        if (!display || display === 'none') {{\n",
       "            console.log([gd, 'removed!']);\n",
       "            Plotly.purge(gd);\n",
       "            observer.disconnect();\n",
       "        }}\n",
       "}});\n",
       "\n",
       "// Listen for the removal of the full notebook cells\n",
       "var notebookContainer = gd.closest('#notebook-container');\n",
       "if (notebookContainer) {{\n",
       "    x.observe(notebookContainer, {childList: true});\n",
       "}}\n",
       "\n",
       "// Listen for the clearing of the current output cell\n",
       "var outputEl = gd.closest('.output');\n",
       "if (outputEl) {{\n",
       "    x.observe(outputEl, {childList: true});\n",
       "}}\n",
       "\n",
       "                        })                };                });            </script>        </div>"
      ]
     },
     "metadata": {},
     "output_type": "display_data"
    }
   ],
   "source": [
    "fig = px.line_mapbox(selg, lat=\"latitude\", lon=\"longitude\", color=\"speed_cat\",\n",
    "                        #mapbox_style=\"carto-darkmatter\",\n",
    "                        mapbox_style=\"stamen-terrain\",\n",
    "                        line_group=\"linegroup\",\n",
    "                        #color_continuous_scale=\"aggrnyl\" ,\n",
    "                        hover_data=[\"stype\", \"abs_pm\", \"linegroup\", \"fwdir\"],\n",
    "                        center = {\"lat\": 32.77, \"lon\": -117.16},\n",
    "                        color_discrete_map= cdm,\n",
    "                        zoom=12,\n",
    "                        height=800, width=800)\n",
    "\n",
    "for dat in fig.data:\n",
    "    dat[\"line\"][\"width\"] = 3\n",
    "fig\n",
    "#px.scatter(sel, x=\"longitude\", y=\"latitude\", color=\"total_flow\").update_traces(mode='lines+markers')"
   ]
  },
  {
   "cell_type": "code",
   "execution_count": 95,
   "metadata": {},
   "outputs": [],
   "source": [
    "fig.write_image(\"traffic_layer_wo_usdot.jpg\")"
   ]
  },
  {
   "cell_type": "code",
   "execution_count": 67,
   "metadata": {},
   "outputs": [
    {
     "data": {
      "text/plain": [
       "Scattermapbox({\n",
       "    'customdata': array([['ML', 0.456, 2, '94W'],\n",
       "                         ['ML', 0.819, 2, '94W'],\n",
       "                         ['ML', 1.083, 2, '94W'],\n",
       "                         ['ML', 1.205, 2, '94W']], dtype=object),\n",
       "    'hovertemplate': ('speed_cat=fast<br>linegroup=%{' ... '{customdata[3]}<extra></extra>'),\n",
       "    'lat': array([32.713274, 32.713318, 32.713724, 32.714211]),\n",
       "    'legendgroup': 'fast',\n",
       "    'line': {'color': '#636efa'},\n",
       "    'lon': array([-117.140097, -117.134145, -117.129847, -117.127908]),\n",
       "    'mode': 'lines',\n",
       "    'name': 'fast',\n",
       "    'showlegend': False,\n",
       "    'subplot': 'mapbox'\n",
       "})"
      ]
     },
     "execution_count": 67,
     "metadata": {},
     "output_type": "execute_result"
    }
   ],
   "source": [
    "#myshp = open(\"*.shp\", \"rb\")\n",
    "#px.scatter_mapbox?\n",
    "fig.data[1]"
   ]
  },
  {
   "cell_type": "code",
   "execution_count": 70,
   "metadata": {},
   "outputs": [],
   "source": [
    "fig.data[0][\"line\"][\"width\"] = 10"
   ]
  },
  {
   "cell_type": "code",
   "execution_count": null,
   "metadata": {},
   "outputs": [],
   "source": []
  }
 ],
 "metadata": {
  "kernelspec": {
   "display_name": "Python 3",
   "language": "python",
   "name": "python3"
  },
  "language_info": {
   "codemirror_mode": {
    "name": "ipython",
    "version": 3
   },
   "file_extension": ".py",
   "mimetype": "text/x-python",
   "name": "python",
   "nbconvert_exporter": "python",
   "pygments_lexer": "ipython3",
   "version": "3.8.5"
  }
 },
 "nbformat": 4,
 "nbformat_minor": 2
}
