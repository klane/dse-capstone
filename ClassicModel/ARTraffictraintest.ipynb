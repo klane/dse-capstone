{
 "cells": [
  {
   "cell_type": "code",
   "execution_count": 1,
   "metadata": {},
   "outputs": [],
   "source": [
    "import glob\n",
    "from datetime import datetime\n",
    "from functools import reduce\n",
    "import math as mt\n",
    "import matplotlib.pyplot as plt\n",
    "import numpy as np\n",
    "import pandas as pd\n",
    "import torch\n",
    "from torch import nn\n",
    "from torch.utils.data import DataLoader, TensorDataset\n",
    "from tqdm import tqdm"
   ]
  },
  {
   "cell_type": "code",
   "execution_count": 7,
   "metadata": {},
   "outputs": [],
   "source": [
    "files = glob.glob('../Documents/trafficdata/2020/d11/d11_text_station_5min_2020*.txt.gz')\n"
   ]
  },
  {
   "cell_type": "code",
   "execution_count": 9,
   "metadata": {},
   "outputs": [
    {
     "data": {
      "text/html": [
       "<div>\n",
       "<style scoped>\n",
       "    .dataframe tbody tr th:only-of-type {\n",
       "        vertical-align: middle;\n",
       "    }\n",
       "\n",
       "    .dataframe tbody tr th {\n",
       "        vertical-align: top;\n",
       "    }\n",
       "\n",
       "    .dataframe thead th {\n",
       "        text-align: right;\n",
       "    }\n",
       "</style>\n",
       "<table border=\"1\" class=\"dataframe\">\n",
       "  <thead>\n",
       "    <tr style=\"text-align: right;\">\n",
       "      <th></th>\n",
       "      <th>0</th>\n",
       "      <th>1</th>\n",
       "      <th>2</th>\n",
       "      <th>3</th>\n",
       "      <th>4</th>\n",
       "      <th>5</th>\n",
       "      <th>6</th>\n",
       "      <th>7</th>\n",
       "      <th>8</th>\n",
       "      <th>9</th>\n",
       "      <th>...</th>\n",
       "      <th>42</th>\n",
       "      <th>43</th>\n",
       "      <th>44</th>\n",
       "      <th>45</th>\n",
       "      <th>46</th>\n",
       "      <th>47</th>\n",
       "      <th>48</th>\n",
       "      <th>49</th>\n",
       "      <th>50</th>\n",
       "      <th>51</th>\n",
       "    </tr>\n",
       "  </thead>\n",
       "  <tbody>\n",
       "    <tr>\n",
       "      <th>0</th>\n",
       "      <td>10/22/2020 00:00:00</td>\n",
       "      <td>1100313</td>\n",
       "      <td>11</td>\n",
       "      <td>5</td>\n",
       "      <td>N</td>\n",
       "      <td>FR</td>\n",
       "      <td>NaN</td>\n",
       "      <td>10</td>\n",
       "      <td>100</td>\n",
       "      <td>5.0</td>\n",
       "      <td>...</td>\n",
       "      <td>NaN</td>\n",
       "      <td>NaN</td>\n",
       "      <td>NaN</td>\n",
       "      <td>NaN</td>\n",
       "      <td>0</td>\n",
       "      <td>NaN</td>\n",
       "      <td>NaN</td>\n",
       "      <td>NaN</td>\n",
       "      <td>NaN</td>\n",
       "      <td>0</td>\n",
       "    </tr>\n",
       "    <tr>\n",
       "      <th>1</th>\n",
       "      <td>10/22/2020 00:00:00</td>\n",
       "      <td>1100323</td>\n",
       "      <td>11</td>\n",
       "      <td>5</td>\n",
       "      <td>N</td>\n",
       "      <td>FR</td>\n",
       "      <td>NaN</td>\n",
       "      <td>0</td>\n",
       "      <td>0</td>\n",
       "      <td>NaN</td>\n",
       "      <td>...</td>\n",
       "      <td>NaN</td>\n",
       "      <td>NaN</td>\n",
       "      <td>NaN</td>\n",
       "      <td>NaN</td>\n",
       "      <td>0</td>\n",
       "      <td>NaN</td>\n",
       "      <td>NaN</td>\n",
       "      <td>NaN</td>\n",
       "      <td>NaN</td>\n",
       "      <td>0</td>\n",
       "    </tr>\n",
       "    <tr>\n",
       "      <th>2</th>\n",
       "      <td>10/22/2020 00:00:00</td>\n",
       "      <td>1100326</td>\n",
       "      <td>11</td>\n",
       "      <td>5</td>\n",
       "      <td>N</td>\n",
       "      <td>FR</td>\n",
       "      <td>NaN</td>\n",
       "      <td>18</td>\n",
       "      <td>100</td>\n",
       "      <td>2.0</td>\n",
       "      <td>...</td>\n",
       "      <td>NaN</td>\n",
       "      <td>NaN</td>\n",
       "      <td>NaN</td>\n",
       "      <td>NaN</td>\n",
       "      <td>0</td>\n",
       "      <td>NaN</td>\n",
       "      <td>NaN</td>\n",
       "      <td>NaN</td>\n",
       "      <td>NaN</td>\n",
       "      <td>0</td>\n",
       "    </tr>\n",
       "    <tr>\n",
       "      <th>3</th>\n",
       "      <td>10/22/2020 00:00:00</td>\n",
       "      <td>1100330</td>\n",
       "      <td>11</td>\n",
       "      <td>5</td>\n",
       "      <td>N</td>\n",
       "      <td>FR</td>\n",
       "      <td>NaN</td>\n",
       "      <td>20</td>\n",
       "      <td>100</td>\n",
       "      <td>0.0</td>\n",
       "      <td>...</td>\n",
       "      <td>NaN</td>\n",
       "      <td>NaN</td>\n",
       "      <td>NaN</td>\n",
       "      <td>NaN</td>\n",
       "      <td>0</td>\n",
       "      <td>NaN</td>\n",
       "      <td>NaN</td>\n",
       "      <td>NaN</td>\n",
       "      <td>NaN</td>\n",
       "      <td>0</td>\n",
       "    </tr>\n",
       "    <tr>\n",
       "      <th>4</th>\n",
       "      <td>10/22/2020 00:00:00</td>\n",
       "      <td>1100340</td>\n",
       "      <td>11</td>\n",
       "      <td>5</td>\n",
       "      <td>N</td>\n",
       "      <td>FR</td>\n",
       "      <td>NaN</td>\n",
       "      <td>0</td>\n",
       "      <td>0</td>\n",
       "      <td>NaN</td>\n",
       "      <td>...</td>\n",
       "      <td>NaN</td>\n",
       "      <td>NaN</td>\n",
       "      <td>NaN</td>\n",
       "      <td>NaN</td>\n",
       "      <td>0</td>\n",
       "      <td>NaN</td>\n",
       "      <td>NaN</td>\n",
       "      <td>NaN</td>\n",
       "      <td>NaN</td>\n",
       "      <td>0</td>\n",
       "    </tr>\n",
       "    <tr>\n",
       "      <th>...</th>\n",
       "      <td>...</td>\n",
       "      <td>...</td>\n",
       "      <td>...</td>\n",
       "      <td>...</td>\n",
       "      <td>...</td>\n",
       "      <td>...</td>\n",
       "      <td>...</td>\n",
       "      <td>...</td>\n",
       "      <td>...</td>\n",
       "      <td>...</td>\n",
       "      <td>...</td>\n",
       "      <td>...</td>\n",
       "      <td>...</td>\n",
       "      <td>...</td>\n",
       "      <td>...</td>\n",
       "      <td>...</td>\n",
       "      <td>...</td>\n",
       "      <td>...</td>\n",
       "      <td>...</td>\n",
       "      <td>...</td>\n",
       "      <td>...</td>\n",
       "    </tr>\n",
       "    <tr>\n",
       "      <th>396859</th>\n",
       "      <td>10/22/2020 23:55:00</td>\n",
       "      <td>1127146</td>\n",
       "      <td>11</td>\n",
       "      <td>94</td>\n",
       "      <td>E</td>\n",
       "      <td>FR</td>\n",
       "      <td>NaN</td>\n",
       "      <td>10</td>\n",
       "      <td>0</td>\n",
       "      <td>NaN</td>\n",
       "      <td>...</td>\n",
       "      <td>NaN</td>\n",
       "      <td>NaN</td>\n",
       "      <td>NaN</td>\n",
       "      <td>NaN</td>\n",
       "      <td>0</td>\n",
       "      <td>NaN</td>\n",
       "      <td>NaN</td>\n",
       "      <td>NaN</td>\n",
       "      <td>NaN</td>\n",
       "      <td>0</td>\n",
       "    </tr>\n",
       "    <tr>\n",
       "      <th>396860</th>\n",
       "      <td>10/22/2020 23:55:00</td>\n",
       "      <td>1127151</td>\n",
       "      <td>11</td>\n",
       "      <td>5</td>\n",
       "      <td>N</td>\n",
       "      <td>OR</td>\n",
       "      <td>NaN</td>\n",
       "      <td>10</td>\n",
       "      <td>100</td>\n",
       "      <td>3.0</td>\n",
       "      <td>...</td>\n",
       "      <td>NaN</td>\n",
       "      <td>NaN</td>\n",
       "      <td>NaN</td>\n",
       "      <td>NaN</td>\n",
       "      <td>0</td>\n",
       "      <td>NaN</td>\n",
       "      <td>NaN</td>\n",
       "      <td>NaN</td>\n",
       "      <td>NaN</td>\n",
       "      <td>0</td>\n",
       "    </tr>\n",
       "    <tr>\n",
       "      <th>396861</th>\n",
       "      <td>10/22/2020 23:55:00</td>\n",
       "      <td>1127164</td>\n",
       "      <td>11</td>\n",
       "      <td>163</td>\n",
       "      <td>N</td>\n",
       "      <td>ML</td>\n",
       "      <td>0.656</td>\n",
       "      <td>40</td>\n",
       "      <td>100</td>\n",
       "      <td>30.0</td>\n",
       "      <td>...</td>\n",
       "      <td>NaN</td>\n",
       "      <td>NaN</td>\n",
       "      <td>NaN</td>\n",
       "      <td>NaN</td>\n",
       "      <td>0</td>\n",
       "      <td>NaN</td>\n",
       "      <td>NaN</td>\n",
       "      <td>NaN</td>\n",
       "      <td>NaN</td>\n",
       "      <td>0</td>\n",
       "    </tr>\n",
       "    <tr>\n",
       "      <th>396862</th>\n",
       "      <td>10/22/2020 23:55:00</td>\n",
       "      <td>1127191</td>\n",
       "      <td>11</td>\n",
       "      <td>52</td>\n",
       "      <td>E</td>\n",
       "      <td>FR</td>\n",
       "      <td>NaN</td>\n",
       "      <td>10</td>\n",
       "      <td>100</td>\n",
       "      <td>2.0</td>\n",
       "      <td>...</td>\n",
       "      <td>NaN</td>\n",
       "      <td>NaN</td>\n",
       "      <td>NaN</td>\n",
       "      <td>NaN</td>\n",
       "      <td>0</td>\n",
       "      <td>NaN</td>\n",
       "      <td>NaN</td>\n",
       "      <td>NaN</td>\n",
       "      <td>NaN</td>\n",
       "      <td>0</td>\n",
       "    </tr>\n",
       "    <tr>\n",
       "      <th>396863</th>\n",
       "      <td>10/22/2020 23:55:00</td>\n",
       "      <td>1127195</td>\n",
       "      <td>11</td>\n",
       "      <td>5</td>\n",
       "      <td>N</td>\n",
       "      <td>FR</td>\n",
       "      <td>NaN</td>\n",
       "      <td>20</td>\n",
       "      <td>100</td>\n",
       "      <td>0.0</td>\n",
       "      <td>...</td>\n",
       "      <td>NaN</td>\n",
       "      <td>NaN</td>\n",
       "      <td>NaN</td>\n",
       "      <td>NaN</td>\n",
       "      <td>0</td>\n",
       "      <td>NaN</td>\n",
       "      <td>NaN</td>\n",
       "      <td>NaN</td>\n",
       "      <td>NaN</td>\n",
       "      <td>0</td>\n",
       "    </tr>\n",
       "  </tbody>\n",
       "</table>\n",
       "<p>396864 rows × 52 columns</p>\n",
       "</div>"
      ],
      "text/plain": [
       "                         0        1   2    3  4   5      6   7    8     9   \\\n",
       "0       10/22/2020 00:00:00  1100313  11    5  N  FR    NaN  10  100   5.0   \n",
       "1       10/22/2020 00:00:00  1100323  11    5  N  FR    NaN   0    0   NaN   \n",
       "2       10/22/2020 00:00:00  1100326  11    5  N  FR    NaN  18  100   2.0   \n",
       "3       10/22/2020 00:00:00  1100330  11    5  N  FR    NaN  20  100   0.0   \n",
       "4       10/22/2020 00:00:00  1100340  11    5  N  FR    NaN   0    0   NaN   \n",
       "...                     ...      ...  ..  ... ..  ..    ...  ..  ...   ...   \n",
       "396859  10/22/2020 23:55:00  1127146  11   94  E  FR    NaN  10    0   NaN   \n",
       "396860  10/22/2020 23:55:00  1127151  11    5  N  OR    NaN  10  100   3.0   \n",
       "396861  10/22/2020 23:55:00  1127164  11  163  N  ML  0.656  40  100  30.0   \n",
       "396862  10/22/2020 23:55:00  1127191  11   52  E  FR    NaN  10  100   2.0   \n",
       "396863  10/22/2020 23:55:00  1127195  11    5  N  FR    NaN  20  100   0.0   \n",
       "\n",
       "        ...  42  43  44  45  46  47  48  49  50  51  \n",
       "0       ... NaN NaN NaN NaN   0 NaN NaN NaN NaN   0  \n",
       "1       ... NaN NaN NaN NaN   0 NaN NaN NaN NaN   0  \n",
       "2       ... NaN NaN NaN NaN   0 NaN NaN NaN NaN   0  \n",
       "3       ... NaN NaN NaN NaN   0 NaN NaN NaN NaN   0  \n",
       "4       ... NaN NaN NaN NaN   0 NaN NaN NaN NaN   0  \n",
       "...     ...  ..  ..  ..  ..  ..  ..  ..  ..  ..  ..  \n",
       "396859  ... NaN NaN NaN NaN   0 NaN NaN NaN NaN   0  \n",
       "396860  ... NaN NaN NaN NaN   0 NaN NaN NaN NaN   0  \n",
       "396861  ... NaN NaN NaN NaN   0 NaN NaN NaN NaN   0  \n",
       "396862  ... NaN NaN NaN NaN   0 NaN NaN NaN NaN   0  \n",
       "396863  ... NaN NaN NaN NaN   0 NaN NaN NaN NaN   0  \n",
       "\n",
       "[396864 rows x 52 columns]"
      ]
     },
     "execution_count": 9,
     "metadata": {},
     "output_type": "execute_result"
    }
   ],
   "source": [
    "traffic = pd.read_csv(files[0], header=None)\n",
    "traffic"
   ]
  },
  {
   "cell_type": "code",
   "execution_count": 10,
   "metadata": {},
   "outputs": [],
   "source": [
    "traffic = pd.DataFrame()\n",
    "for f in files:\n",
    "    #data = pd.read_csv(f, header=None)\n",
    "    data = pd.read_csv(f, header=None, usecols=[0,9,11], names=['RecordDate','TotalFlow','Speed'])\n",
    "    traffic = traffic.append(data)"
   ]
  },
  {
   "cell_type": "code",
   "execution_count": 11,
   "metadata": {},
   "outputs": [
    {
     "data": {
      "text/html": [
       "<div>\n",
       "<style scoped>\n",
       "    .dataframe tbody tr th:only-of-type {\n",
       "        vertical-align: middle;\n",
       "    }\n",
       "\n",
       "    .dataframe tbody tr th {\n",
       "        vertical-align: top;\n",
       "    }\n",
       "\n",
       "    .dataframe thead th {\n",
       "        text-align: right;\n",
       "    }\n",
       "</style>\n",
       "<table border=\"1\" class=\"dataframe\">\n",
       "  <thead>\n",
       "    <tr style=\"text-align: right;\">\n",
       "      <th></th>\n",
       "      <th>RecordDate</th>\n",
       "      <th>TotalFlow</th>\n",
       "      <th>Speed</th>\n",
       "    </tr>\n",
       "  </thead>\n",
       "  <tbody>\n",
       "    <tr>\n",
       "      <th>0</th>\n",
       "      <td>10/22/2020 00:00:00</td>\n",
       "      <td>5.0</td>\n",
       "      <td>NaN</td>\n",
       "    </tr>\n",
       "    <tr>\n",
       "      <th>1</th>\n",
       "      <td>10/22/2020 00:00:00</td>\n",
       "      <td>NaN</td>\n",
       "      <td>NaN</td>\n",
       "    </tr>\n",
       "    <tr>\n",
       "      <th>2</th>\n",
       "      <td>10/22/2020 00:00:00</td>\n",
       "      <td>2.0</td>\n",
       "      <td>NaN</td>\n",
       "    </tr>\n",
       "    <tr>\n",
       "      <th>3</th>\n",
       "      <td>10/22/2020 00:00:00</td>\n",
       "      <td>0.0</td>\n",
       "      <td>NaN</td>\n",
       "    </tr>\n",
       "    <tr>\n",
       "      <th>4</th>\n",
       "      <td>10/22/2020 00:00:00</td>\n",
       "      <td>NaN</td>\n",
       "      <td>NaN</td>\n",
       "    </tr>\n",
       "    <tr>\n",
       "      <th>...</th>\n",
       "      <td>...</td>\n",
       "      <td>...</td>\n",
       "      <td>...</td>\n",
       "    </tr>\n",
       "    <tr>\n",
       "      <th>434011</th>\n",
       "      <td>08/21/2020 23:55:00</td>\n",
       "      <td>56.0</td>\n",
       "      <td>67.2</td>\n",
       "    </tr>\n",
       "    <tr>\n",
       "      <th>434012</th>\n",
       "      <td>08/21/2020 23:55:00</td>\n",
       "      <td>1.0</td>\n",
       "      <td>NaN</td>\n",
       "    </tr>\n",
       "    <tr>\n",
       "      <th>434013</th>\n",
       "      <td>08/21/2020 23:55:00</td>\n",
       "      <td>2.0</td>\n",
       "      <td>NaN</td>\n",
       "    </tr>\n",
       "    <tr>\n",
       "      <th>434014</th>\n",
       "      <td>08/21/2020 23:55:00</td>\n",
       "      <td>8.0</td>\n",
       "      <td>NaN</td>\n",
       "    </tr>\n",
       "    <tr>\n",
       "      <th>434015</th>\n",
       "      <td>08/21/2020 23:55:00</td>\n",
       "      <td>NaN</td>\n",
       "      <td>NaN</td>\n",
       "    </tr>\n",
       "  </tbody>\n",
       "</table>\n",
       "<p>154908221 rows × 3 columns</p>\n",
       "</div>"
      ],
      "text/plain": [
       "                 RecordDate  TotalFlow  Speed\n",
       "0       10/22/2020 00:00:00        5.0    NaN\n",
       "1       10/22/2020 00:00:00        NaN    NaN\n",
       "2       10/22/2020 00:00:00        2.0    NaN\n",
       "3       10/22/2020 00:00:00        0.0    NaN\n",
       "4       10/22/2020 00:00:00        NaN    NaN\n",
       "...                     ...        ...    ...\n",
       "434011  08/21/2020 23:55:00       56.0   67.2\n",
       "434012  08/21/2020 23:55:00        1.0    NaN\n",
       "434013  08/21/2020 23:55:00        2.0    NaN\n",
       "434014  08/21/2020 23:55:00        8.0    NaN\n",
       "434015  08/21/2020 23:55:00        NaN    NaN\n",
       "\n",
       "[154908221 rows x 3 columns]"
      ]
     },
     "execution_count": 11,
     "metadata": {},
     "output_type": "execute_result"
    }
   ],
   "source": [
    "traffic"
   ]
  },
  {
   "cell_type": "code",
   "execution_count": 12,
   "metadata": {},
   "outputs": [],
   "source": [
    "traffic['RecordDate'] = pd.to_datetime(traffic['RecordDate'])"
   ]
  },
  {
   "cell_type": "code",
   "execution_count": 13,
   "metadata": {},
   "outputs": [],
   "source": [
    "traffic['Month'] = pd.DatetimeIndex(traffic['RecordDate']).month"
   ]
  },
  {
   "cell_type": "code",
   "execution_count": 14,
   "metadata": {},
   "outputs": [],
   "source": [
    "import calendar\n",
    "traffic['Month'] = traffic['Month'].apply(lambda x: calendar.month_abbr[x])"
   ]
  },
  {
   "cell_type": "code",
   "execution_count": 15,
   "metadata": {},
   "outputs": [],
   "source": [
    "traffic['Time'] = traffic['RecordDate'].dt.time"
   ]
  },
  {
   "cell_type": "code",
   "execution_count": 16,
   "metadata": {},
   "outputs": [],
   "source": [
    "AvgVehicleCount = traffic.groupby(['Month','Time'])['TotalFlow'].mean().reset_index()"
   ]
  },
  {
   "cell_type": "code",
   "execution_count": 17,
   "metadata": {},
   "outputs": [],
   "source": [
    "AvgVehicleCount.columns = ['Month','Time','AvgVehicleCount']"
   ]
  },
  {
   "cell_type": "code",
   "execution_count": 18,
   "metadata": {},
   "outputs": [],
   "source": [
    "AvgVehicleSpeed = traffic.groupby(['Month','Time'])['Speed'].mean().reset_index()"
   ]
  },
  {
   "cell_type": "code",
   "execution_count": 19,
   "metadata": {},
   "outputs": [],
   "source": [
    "AvgVehicleSpeed.columns = ['Month','Time','average']"
   ]
  },
  {
   "cell_type": "code",
   "execution_count": 20,
   "metadata": {},
   "outputs": [
    {
     "data": {
      "text/html": [
       "<div>\n",
       "<style scoped>\n",
       "    .dataframe tbody tr th:only-of-type {\n",
       "        vertical-align: middle;\n",
       "    }\n",
       "\n",
       "    .dataframe tbody tr th {\n",
       "        vertical-align: top;\n",
       "    }\n",
       "\n",
       "    .dataframe thead th {\n",
       "        text-align: right;\n",
       "    }\n",
       "</style>\n",
       "<table border=\"1\" class=\"dataframe\">\n",
       "  <thead>\n",
       "    <tr style=\"text-align: right;\">\n",
       "      <th></th>\n",
       "      <th>Month</th>\n",
       "      <th>Time</th>\n",
       "      <th>average</th>\n",
       "    </tr>\n",
       "  </thead>\n",
       "  <tbody>\n",
       "    <tr>\n",
       "      <th>0</th>\n",
       "      <td>Apr</td>\n",
       "      <td>00:00:00</td>\n",
       "      <td>67.776179</td>\n",
       "    </tr>\n",
       "    <tr>\n",
       "      <th>1</th>\n",
       "      <td>Apr</td>\n",
       "      <td>00:05:00</td>\n",
       "      <td>67.629094</td>\n",
       "    </tr>\n",
       "    <tr>\n",
       "      <th>2</th>\n",
       "      <td>Apr</td>\n",
       "      <td>00:10:00</td>\n",
       "      <td>67.584071</td>\n",
       "    </tr>\n",
       "    <tr>\n",
       "      <th>3</th>\n",
       "      <td>Apr</td>\n",
       "      <td>00:15:00</td>\n",
       "      <td>67.573579</td>\n",
       "    </tr>\n",
       "    <tr>\n",
       "      <th>4</th>\n",
       "      <td>Apr</td>\n",
       "      <td>00:20:00</td>\n",
       "      <td>67.525856</td>\n",
       "    </tr>\n",
       "    <tr>\n",
       "      <th>...</th>\n",
       "      <td>...</td>\n",
       "      <td>...</td>\n",
       "      <td>...</td>\n",
       "    </tr>\n",
       "    <tr>\n",
       "      <th>3451</th>\n",
       "      <td>Sep</td>\n",
       "      <td>23:35:00</td>\n",
       "      <td>67.518378</td>\n",
       "    </tr>\n",
       "    <tr>\n",
       "      <th>3452</th>\n",
       "      <td>Sep</td>\n",
       "      <td>23:40:00</td>\n",
       "      <td>67.569811</td>\n",
       "    </tr>\n",
       "    <tr>\n",
       "      <th>3453</th>\n",
       "      <td>Sep</td>\n",
       "      <td>23:45:00</td>\n",
       "      <td>67.575139</td>\n",
       "    </tr>\n",
       "    <tr>\n",
       "      <th>3454</th>\n",
       "      <td>Sep</td>\n",
       "      <td>23:50:00</td>\n",
       "      <td>67.565660</td>\n",
       "    </tr>\n",
       "    <tr>\n",
       "      <th>3455</th>\n",
       "      <td>Sep</td>\n",
       "      <td>23:55:00</td>\n",
       "      <td>67.517089</td>\n",
       "    </tr>\n",
       "  </tbody>\n",
       "</table>\n",
       "<p>3456 rows × 3 columns</p>\n",
       "</div>"
      ],
      "text/plain": [
       "     Month      Time    average\n",
       "0      Apr  00:00:00  67.776179\n",
       "1      Apr  00:05:00  67.629094\n",
       "2      Apr  00:10:00  67.584071\n",
       "3      Apr  00:15:00  67.573579\n",
       "4      Apr  00:20:00  67.525856\n",
       "...    ...       ...        ...\n",
       "3451   Sep  23:35:00  67.518378\n",
       "3452   Sep  23:40:00  67.569811\n",
       "3453   Sep  23:45:00  67.575139\n",
       "3454   Sep  23:50:00  67.565660\n",
       "3455   Sep  23:55:00  67.517089\n",
       "\n",
       "[3456 rows x 3 columns]"
      ]
     },
     "execution_count": 20,
     "metadata": {},
     "output_type": "execute_result"
    }
   ],
   "source": [
    "AvgVehicleSpeed"
   ]
  },
  {
   "cell_type": "code",
   "execution_count": 240,
   "metadata": {},
   "outputs": [],
   "source": [
    "AvgVehicleCount.to_csv('AvgVehicleCount.csv', index = False)"
   ]
  },
  {
   "cell_type": "code",
   "execution_count": 241,
   "metadata": {},
   "outputs": [],
   "source": [
    "AvgVehicleSpeed.to_csv('AvgVehicleSpeed.csv', index = False)"
   ]
  },
  {
   "cell_type": "code",
   "execution_count": 278,
   "metadata": {},
   "outputs": [],
   "source": [
    "AvgVehicleCount = pd.read_csv('AvgVehicleCount.csv', header=None)"
   ]
  },
  {
   "cell_type": "code",
   "execution_count": 400,
   "metadata": {},
   "outputs": [
    {
     "data": {
      "text/plain": [
       "array(['Apr', 'Aug', 'Dec', 'Feb', 'Jan', 'Jul', 'Jun', 'Mar', 'May',\n",
       "       'Nov', 'Oct', 'Sep'], dtype=object)"
      ]
     },
     "execution_count": 400,
     "metadata": {},
     "output_type": "execute_result"
    }
   ],
   "source": [
    "AvgVehicleCount[0].unique()"
   ]
  },
  {
   "cell_type": "code",
   "execution_count": null,
   "metadata": {},
   "outputs": [],
   "source": [
    "AvgVehicleCount = AvgVehicleCount.reset_index(drop=True)"
   ]
  },
  {
   "cell_type": "code",
   "execution_count": 344,
   "metadata": {},
   "outputs": [],
   "source": [
    "AvgVehicleCount[2] = pd.to_numeric(AvgVehicleCount[2])"
   ]
  },
  {
   "cell_type": "code",
   "execution_count": 421,
   "metadata": {},
   "outputs": [],
   "source": [
    "AvgVehicleCount_tr = AvgVehicleCount[~AvgVehicleCount[0].isin(['Oct','Nov','Dec'])] #AvgVehicleCount[AvgVehicleCount[0] != ('Oct','Nov','Dec')]"
   ]
  },
  {
   "cell_type": "code",
   "execution_count": 413,
   "metadata": {},
   "outputs": [],
   "source": [
    "AvgVehicleCount_ts = AvgVehicleCount[AvgVehicleCount[0].isin(['Oct','Nov','Dec'])] "
   ]
  },
  {
   "cell_type": "code",
   "execution_count": 422,
   "metadata": {},
   "outputs": [
    {
     "data": {
      "text/html": [
       "<div>\n",
       "<style scoped>\n",
       "    .dataframe tbody tr th:only-of-type {\n",
       "        vertical-align: middle;\n",
       "    }\n",
       "\n",
       "    .dataframe tbody tr th {\n",
       "        vertical-align: top;\n",
       "    }\n",
       "\n",
       "    .dataframe thead th {\n",
       "        text-align: right;\n",
       "    }\n",
       "</style>\n",
       "<table border=\"1\" class=\"dataframe\">\n",
       "  <thead>\n",
       "    <tr style=\"text-align: right;\">\n",
       "      <th></th>\n",
       "      <th>0</th>\n",
       "      <th>1</th>\n",
       "      <th>2</th>\n",
       "    </tr>\n",
       "  </thead>\n",
       "  <tbody>\n",
       "    <tr>\n",
       "      <th>0</th>\n",
       "      <td>Apr</td>\n",
       "      <td>00:00:00</td>\n",
       "      <td>18.786846</td>\n",
       "    </tr>\n",
       "    <tr>\n",
       "      <th>1</th>\n",
       "      <td>Apr</td>\n",
       "      <td>00:05:00</td>\n",
       "      <td>18.998019</td>\n",
       "    </tr>\n",
       "    <tr>\n",
       "      <th>2</th>\n",
       "      <td>Apr</td>\n",
       "      <td>00:10:00</td>\n",
       "      <td>19.309337</td>\n",
       "    </tr>\n",
       "    <tr>\n",
       "      <th>3</th>\n",
       "      <td>Apr</td>\n",
       "      <td>00:15:00</td>\n",
       "      <td>18.709494</td>\n",
       "    </tr>\n",
       "    <tr>\n",
       "      <th>4</th>\n",
       "      <td>Apr</td>\n",
       "      <td>00:20:00</td>\n",
       "      <td>17.395618</td>\n",
       "    </tr>\n",
       "    <tr>\n",
       "      <th>...</th>\n",
       "      <td>...</td>\n",
       "      <td>...</td>\n",
       "      <td>...</td>\n",
       "    </tr>\n",
       "    <tr>\n",
       "      <th>3451</th>\n",
       "      <td>Sep</td>\n",
       "      <td>23:35:00</td>\n",
       "      <td>44.858541</td>\n",
       "    </tr>\n",
       "    <tr>\n",
       "      <th>3452</th>\n",
       "      <td>Sep</td>\n",
       "      <td>23:40:00</td>\n",
       "      <td>44.992641</td>\n",
       "    </tr>\n",
       "    <tr>\n",
       "      <th>3453</th>\n",
       "      <td>Sep</td>\n",
       "      <td>23:45:00</td>\n",
       "      <td>43.196685</td>\n",
       "    </tr>\n",
       "    <tr>\n",
       "      <th>3454</th>\n",
       "      <td>Sep</td>\n",
       "      <td>23:50:00</td>\n",
       "      <td>40.329086</td>\n",
       "    </tr>\n",
       "    <tr>\n",
       "      <th>3455</th>\n",
       "      <td>Sep</td>\n",
       "      <td>23:55:00</td>\n",
       "      <td>37.414632</td>\n",
       "    </tr>\n",
       "  </tbody>\n",
       "</table>\n",
       "<p>2592 rows × 3 columns</p>\n",
       "</div>"
      ],
      "text/plain": [
       "        0         1          2\n",
       "0     Apr  00:00:00  18.786846\n",
       "1     Apr  00:05:00  18.998019\n",
       "2     Apr  00:10:00  19.309337\n",
       "3     Apr  00:15:00  18.709494\n",
       "4     Apr  00:20:00  17.395618\n",
       "...   ...       ...        ...\n",
       "3451  Sep  23:35:00  44.858541\n",
       "3452  Sep  23:40:00  44.992641\n",
       "3453  Sep  23:45:00  43.196685\n",
       "3454  Sep  23:50:00  40.329086\n",
       "3455  Sep  23:55:00  37.414632\n",
       "\n",
       "[2592 rows x 3 columns]"
      ]
     },
     "execution_count": 422,
     "metadata": {},
     "output_type": "execute_result"
    }
   ],
   "source": [
    "AvgVehicleCount_tr"
   ]
  },
  {
   "cell_type": "code",
   "execution_count": 423,
   "metadata": {},
   "outputs": [],
   "source": [
    "def get_list(x, m):\n",
    "    return list(zip(*(x[i:] for i in range(m))))"
   ]
  },
  {
   "cell_type": "code",
   "execution_count": 424,
   "metadata": {},
   "outputs": [],
   "source": [
    "def get_data(input_df,lag):\n",
    "    dft = input_df\n",
    "    print(dft.shape)\n",
    "    w = lag\n",
    "    x = []\n",
    "    print(dft.shape[0])\n",
    "    #for i in range(dft.shape[0]):\n",
    "    x = (get_list(dft, w+1))\n",
    "\n",
    "    x = np.array(x)\n",
    "\n",
    "    y = torch.tensor(x[:, -1])\n",
    "    x = torch.tensor(x[:, :-1])\n",
    "    return x, y"
   ]
  },
  {
   "cell_type": "code",
   "execution_count": 425,
   "metadata": {},
   "outputs": [],
   "source": [
    "x_train = torch.empty((AvgVehicleCount_tr.shape[0]), 5)\n",
    "y_train = torch.empty((AvgVehicleCount_tr.shape[0]))"
   ]
  },
  {
   "cell_type": "code",
   "execution_count": 426,
   "metadata": {},
   "outputs": [
    {
     "name": "stdout",
     "output_type": "stream",
     "text": [
      "(2592,)\n",
      "2592\n"
     ]
    }
   ],
   "source": [
    "x_train, y_train = get_data(AvgVehicleCount_tr[2],5)"
   ]
  },
  {
   "cell_type": "code",
   "execution_count": 427,
   "metadata": {},
   "outputs": [
    {
     "name": "stdout",
     "output_type": "stream",
     "text": [
      "torch.Size([2587])\n"
     ]
    }
   ],
   "source": [
    "print(y_train.shape)"
   ]
  },
  {
   "cell_type": "code",
   "execution_count": 428,
   "metadata": {},
   "outputs": [],
   "source": [
    "l=5"
   ]
  },
  {
   "cell_type": "code",
   "execution_count": 429,
   "metadata": {},
   "outputs": [],
   "source": [
    "class AutoRegressive(nn.Module):\n",
    "    def __init__(self, p):\n",
    "        # Input the AR parameters\n",
    "        # Building only for linear data for now\n",
    "        super(AutoRegressive, self).__init__()\n",
    "        assert type(p) == int\n",
    "        assert p >= 0\n",
    "        \n",
    "        # Initialize Auto Regressive parameter\n",
    "        self.p = p\n",
    "        \n",
    "        # Linear auto-regressive parameters.\n",
    "#         self.param_list = nn.ModuleList([nn.Linear(1, 1, bias=False) for i in range(p-1)])\n",
    "        \n",
    "        self.linear = nn.Linear(self.p, 1, bias=True).double()\n",
    "         \n",
    "        # ETA e(t) for noise , which is last layer dependent\n",
    "#         self.param_list.append(nn.Linear(1, 1, bias=True))\n",
    "        \n",
    "        # One Learnable parameter for constant c\n",
    "#         self.c = nn.Parameter(torch.tensor(np.random.randn(), requires_grad=True))\n",
    "        \n",
    "    def forward(self, x):\n",
    "        # Input data example\n",
    "        # Verify shape of tensor to have length (1,p) or something.\n",
    "        assert x.shape[1] == self.p\n",
    "        \n",
    "#         y = self.linear(x)\n",
    "        \n",
    "#         for i in range(self.p):\n",
    "#             print(self.param_list[i].features)\n",
    "#             y += x[:, i] * self.param_list[i]\n",
    "        \n",
    "#         simple_sum = reduce(lambda x,y: x + y, [self.param_list[i](x[i]) for i in range(self.p)])\n",
    "        \n",
    "        return self.linear(x).flatten() #+ self.c"
   ]
  },
  {
   "cell_type": "code",
   "execution_count": 430,
   "metadata": {},
   "outputs": [],
   "source": [
    "net2 = AutoRegressive(l)"
   ]
  },
  {
   "cell_type": "code",
   "execution_count": 431,
   "metadata": {},
   "outputs": [],
   "source": [
    "optimizer = torch.optim.RMSprop(net2.parameters(), lr=0.001)\n",
    "criterion = torch.nn.MSELoss(reduction='mean')"
   ]
  },
  {
   "cell_type": "code",
   "execution_count": 432,
   "metadata": {},
   "outputs": [],
   "source": [
    "train_loader = DataLoader(\n",
    "    TensorDataset(x_train, y_train), batch_size=3, shuffle=True\n",
    ")"
   ]
  },
  {
   "cell_type": "code",
   "execution_count": 433,
   "metadata": {},
   "outputs": [
    {
     "name": "stderr",
     "output_type": "stream",
     "text": [
      "100%|██████████| 863/863 [00:00<00:00, 1494.34it/s]\n",
      " 24%|██▍       | 210/863 [00:00<00:00, 2098.40it/s]"
     ]
    },
    {
     "name": "stdout",
     "output_type": "stream",
     "text": [
      "0 tensor(1507.1130, dtype=torch.float64, grad_fn=<DivBackward0>)\n"
     ]
    },
    {
     "name": "stderr",
     "output_type": "stream",
     "text": [
      "100%|██████████| 863/863 [00:00<00:00, 2207.56it/s]\n",
      " 25%|██▌       | 218/863 [00:00<00:00, 2177.80it/s]"
     ]
    },
    {
     "name": "stdout",
     "output_type": "stream",
     "text": [
      "1 tensor(13.6137, dtype=torch.float64, grad_fn=<DivBackward0>)\n"
     ]
    },
    {
     "name": "stderr",
     "output_type": "stream",
     "text": [
      "100%|██████████| 863/863 [00:00<00:00, 2244.99it/s]\n",
      " 24%|██▍       | 207/863 [00:00<00:00, 2063.56it/s]"
     ]
    },
    {
     "name": "stdout",
     "output_type": "stream",
     "text": [
      "2 tensor(11.8845, dtype=torch.float64, grad_fn=<DivBackward0>)\n"
     ]
    },
    {
     "name": "stderr",
     "output_type": "stream",
     "text": [
      "100%|██████████| 863/863 [00:00<00:00, 2112.51it/s]\n",
      " 26%|██▌       | 221/863 [00:00<00:00, 2206.03it/s]"
     ]
    },
    {
     "name": "stdout",
     "output_type": "stream",
     "text": [
      "3 tensor(10.5346, dtype=torch.float64, grad_fn=<DivBackward0>)\n"
     ]
    },
    {
     "name": "stderr",
     "output_type": "stream",
     "text": [
      "100%|██████████| 863/863 [00:00<00:00, 2255.86it/s]\n",
      " 25%|██▍       | 214/863 [00:00<00:00, 2134.05it/s]"
     ]
    },
    {
     "name": "stdout",
     "output_type": "stream",
     "text": [
      "4 tensor(9.4674, dtype=torch.float64, grad_fn=<DivBackward0>)\n"
     ]
    },
    {
     "name": "stderr",
     "output_type": "stream",
     "text": [
      "100%|██████████| 863/863 [00:00<00:00, 2208.54it/s]\n",
      " 25%|██▍       | 212/863 [00:00<00:00, 2112.56it/s]"
     ]
    },
    {
     "name": "stdout",
     "output_type": "stream",
     "text": [
      "5 tensor(8.3925, dtype=torch.float64, grad_fn=<DivBackward0>)\n"
     ]
    },
    {
     "name": "stderr",
     "output_type": "stream",
     "text": [
      "100%|██████████| 863/863 [00:00<00:00, 2247.24it/s]\n",
      " 25%|██▍       | 214/863 [00:00<00:00, 2138.34it/s]"
     ]
    },
    {
     "name": "stdout",
     "output_type": "stream",
     "text": [
      "6 tensor(7.5790, dtype=torch.float64, grad_fn=<DivBackward0>)\n"
     ]
    },
    {
     "name": "stderr",
     "output_type": "stream",
     "text": [
      "100%|██████████| 863/863 [00:00<00:00, 2223.99it/s]\n",
      " 23%|██▎       | 202/863 [00:00<00:00, 2013.48it/s]"
     ]
    },
    {
     "name": "stdout",
     "output_type": "stream",
     "text": [
      "7 tensor(6.8933, dtype=torch.float64, grad_fn=<DivBackward0>)\n"
     ]
    },
    {
     "name": "stderr",
     "output_type": "stream",
     "text": [
      "100%|██████████| 863/863 [00:00<00:00, 2019.32it/s]\n",
      " 17%|█▋        | 147/863 [00:00<00:00, 1466.41it/s]"
     ]
    },
    {
     "name": "stdout",
     "output_type": "stream",
     "text": [
      "8 tensor(6.4367, dtype=torch.float64, grad_fn=<DivBackward0>)\n"
     ]
    },
    {
     "name": "stderr",
     "output_type": "stream",
     "text": [
      "100%|██████████| 863/863 [00:00<00:00, 1829.95it/s]"
     ]
    },
    {
     "name": "stdout",
     "output_type": "stream",
     "text": [
      "9 tensor(5.9858, dtype=torch.float64, grad_fn=<DivBackward0>)\n"
     ]
    },
    {
     "name": "stderr",
     "output_type": "stream",
     "text": [
      "\n"
     ]
    }
   ],
   "source": [
    "for e in range(10):\n",
    "    loss_total = 0\n",
    "    for xi, yi in tqdm(train_loader):\n",
    "        xi, yi = xi.to('cpu'), yi.to('cpu')\n",
    "        optimizer.zero_grad()\n",
    "        prediction = net2(xi)\n",
    "        loss = criterion(yi, prediction)\n",
    "        loss.backward(retain_graph=True)\n",
    "        optimizer.step()\n",
    "        loss_total += loss\n",
    "        \n",
    "    print(e, loss_total / len(y_train))"
   ]
  },
  {
   "cell_type": "code",
   "execution_count": 434,
   "metadata": {},
   "outputs": [],
   "source": [
    "x_test = torch.empty((AvgVehicleCount_ts.shape[0]), 5)\n",
    "y_test = torch.empty((AvgVehicleCount_ts.shape[0]))"
   ]
  },
  {
   "cell_type": "code",
   "execution_count": 435,
   "metadata": {},
   "outputs": [
    {
     "name": "stdout",
     "output_type": "stream",
     "text": [
      "(864,)\n",
      "864\n"
     ]
    }
   ],
   "source": [
    "x_test, y_test = get_data(AvgVehicleCount_ts[2],5)"
   ]
  },
  {
   "cell_type": "code",
   "execution_count": 436,
   "metadata": {},
   "outputs": [],
   "source": [
    "test_loader = DataLoader(\n",
    "    TensorDataset(x_test, y_test), batch_size=3, shuffle=True\n",
    ")"
   ]
  },
  {
   "cell_type": "code",
   "execution_count": 437,
   "metadata": {},
   "outputs": [
    {
     "name": "stderr",
     "output_type": "stream",
     "text": [
      "100%|██████████| 287/287 [00:00<00:00, 1196.06it/s]\n",
      "100%|██████████| 287/287 [00:00<00:00, 1712.00it/s]\n",
      "  0%|          | 0/287 [00:00<?, ?it/s]"
     ]
    },
    {
     "name": "stdout",
     "output_type": "stream",
     "text": [
      "0 tensor(6.6406, dtype=torch.float64, grad_fn=<DivBackward0>)\n",
      "1 tensor(6.5548, dtype=torch.float64, grad_fn=<DivBackward0>)\n"
     ]
    },
    {
     "name": "stderr",
     "output_type": "stream",
     "text": [
      "100%|██████████| 287/287 [00:00<00:00, 1656.01it/s]\n",
      "100%|██████████| 287/287 [00:00<00:00, 1704.69it/s]\n",
      "  0%|          | 0/287 [00:00<?, ?it/s]"
     ]
    },
    {
     "name": "stdout",
     "output_type": "stream",
     "text": [
      "2 tensor(6.3947, dtype=torch.float64, grad_fn=<DivBackward0>)\n",
      "3 tensor(6.2272, dtype=torch.float64, grad_fn=<DivBackward0>)\n"
     ]
    },
    {
     "name": "stderr",
     "output_type": "stream",
     "text": [
      "100%|██████████| 287/287 [00:00<00:00, 1249.17it/s]\n",
      "100%|██████████| 287/287 [00:00<00:00, 1949.21it/s]\n",
      "  0%|          | 0/287 [00:00<?, ?it/s]"
     ]
    },
    {
     "name": "stdout",
     "output_type": "stream",
     "text": [
      "4 tensor(6.1948, dtype=torch.float64, grad_fn=<DivBackward0>)\n",
      "5 tensor(6.1197, dtype=torch.float64, grad_fn=<DivBackward0>)\n"
     ]
    },
    {
     "name": "stderr",
     "output_type": "stream",
     "text": [
      "100%|██████████| 287/287 [00:00<00:00, 2089.16it/s]\n",
      "100%|██████████| 287/287 [00:00<00:00, 2400.63it/s]\n",
      "  0%|          | 0/287 [00:00<?, ?it/s]"
     ]
    },
    {
     "name": "stdout",
     "output_type": "stream",
     "text": [
      "6 tensor(6.0322, dtype=torch.float64, grad_fn=<DivBackward0>)\n",
      "7 tensor(5.8381, dtype=torch.float64, grad_fn=<DivBackward0>)\n"
     ]
    },
    {
     "name": "stderr",
     "output_type": "stream",
     "text": [
      "100%|██████████| 287/287 [00:00<00:00, 1472.75it/s]\n",
      "100%|██████████| 287/287 [00:00<00:00, 2167.92it/s]"
     ]
    },
    {
     "name": "stdout",
     "output_type": "stream",
     "text": [
      "8 tensor(5.8581, dtype=torch.float64, grad_fn=<DivBackward0>)\n",
      "9 tensor(5.6749, dtype=torch.float64, grad_fn=<DivBackward0>)\n"
     ]
    },
    {
     "name": "stderr",
     "output_type": "stream",
     "text": [
      "\n"
     ]
    }
   ],
   "source": [
    "for e in range(10):\n",
    "    loss_total = 0\n",
    "    for xi, yi in tqdm(test_loader):\n",
    "        xi, yi = xi.to('cpu'), yi.to('cpu')\n",
    "        optimizer.zero_grad()\n",
    "        prediction = net2(xi)\n",
    "        loss = criterion(yi, prediction)\n",
    "        loss.backward(retain_graph=True)\n",
    "        optimizer.step()\n",
    "        loss_total += loss\n",
    "        \n",
    "    print(e, loss_total / len(y_test))"
   ]
  },
  {
   "cell_type": "code",
   "execution_count": null,
   "metadata": {},
   "outputs": [],
   "source": [
    "c = 'San Diego'\n",
    "cases = df[df.Admin2 == c].values[0][11:]\n",
    "cases = np.array([0] + [cases[i]-cases[i-1] for i in range(1, len(cases))])\n",
    "#print(cases)\n",
    "casespred = df[df.Admin2 == c].values[0][mt.floor((df.shape[1])*0.8)+11:]\n",
    "casespred = np.array([0] + [casespred[i]-casespred[i-1] for i in range(1, len(casespred))])\n",
    "pred = np.zeros_like(casespred)\n",
    "print(len(casespred))\n",
    "for i in range(5,len(casespred)):\n",
    "    pred[i] = net2(torch.tensor(casespred[i-5:i]).view(1, 5).double())"
   ]
  },
  {
   "cell_type": "code",
   "execution_count": 498,
   "metadata": {},
   "outputs": [
    {
     "name": "stderr",
     "output_type": "stream",
     "text": [
      "/Users/aparnagupta/anaconda3/lib/python3.7/site-packages/ipykernel_launcher.py:8: SettingWithCopyWarning: \n",
      "A value is trying to be set on a copy of a slice from a DataFrame.\n",
      "Try using .loc[row_indexer,col_indexer] = value instead\n",
      "\n",
      "See the caveats in the documentation: https://pandas.pydata.org/pandas-docs/stable/user_guide/indexing.html#returning-a-view-versus-a-copy\n",
      "  \n"
     ]
    }
   ],
   "source": [
    "AvgVehicleCount[2] = pd.to_numeric(AvgVehicleCount[2])\n",
    "ActualCount = AvgVehicleCount[AvgVehicleCount[0] =='Dec'].reset_index(drop=True)\n",
    "ActualCount = ActualCount[2]\n",
    "AvgVehicleCount_ts[2] = pd.to_numeric(AvgVehicleCount_ts[2])\n",
    "casespred = AvgVehicleCount_ts[AvgVehicleCount_ts[0] =='Dec'].reset_index(drop=True)\n",
    "cases = casespred[2]\n",
    "testpred = np.zeros_like(cases)\n",
    "cases = np.array(cases)\n",
    "for i in range(5,len(cases)):\n",
    "    testpred[i] = net2(torch.tensor(cases[i-5:i]).view(1, 5).double())\n",
    " "
   ]
  },
  {
   "cell_type": "code",
   "execution_count": 501,
   "metadata": {},
   "outputs": [
    {
     "data": {
      "image/png": "[encoded data removed]",
      "text/plain": [
       "<Figure size 720x432 with 1 Axes>"
      ]
     },
     "metadata": {
      "needs_background": "light"
     },
     "output_type": "display_data"
    }
   ],
   "source": [
    "plt.figure(figsize=(10, 6))\n",
    "plt.plot(ActualCount)\n",
    "plt.plot(testpred)\n",
    "plt.xlabel('Time 5min Intervals')\n",
    "plt.ylabel('Average Vehicle count')\n",
    "plt.legend(['Actual', 'TestPred'])\n",
    "plt.title(f'Average Vehicle count in December in PEMS District 11 (San Diego/Imperial)')\n",
    "plt.savefig('San Diego test traffic_vehcount Prediction', bbox_inches='tight')"
   ]
  },
  {
   "cell_type": "code",
   "execution_count": null,
   "metadata": {},
   "outputs": [],
   "source": []
  }
 ],
 "metadata": {
  "kernelspec": {
   "display_name": "Python 3",
   "language": "python",
   "name": "python3"
  },
  "language_info": {
   "codemirror_mode": {
    "name": "ipython",
    "version": 3
   },
   "file_extension": ".py",
   "mimetype": "text/x-python",
   "name": "python",
   "nbconvert_exporter": "python",
   "pygments_lexer": "ipython3",
   "version": "3.7.4"
  }
 },
 "nbformat": 4,
 "nbformat_minor": 4
}
