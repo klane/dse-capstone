{
 "cells": [
  {
   "cell_type": "code",
   "execution_count": 1,
   "metadata": {},
   "outputs": [
    {
     "name": "stdout",
     "output_type": "stream",
     "text": [
      "3.8.0\n"
     ]
    }
   ],
   "source": [
    "from platform import python_version\n",
    "\n",
    "print(python_version())"
   ]
  },
  {
   "cell_type": "code",
   "execution_count": 2,
   "metadata": {},
   "outputs": [],
   "source": [
    "import sqlalchemy as sal\n",
    "\n",
    "endpoint = \"capstone.clihskgj8i7s.us-west-2.rds.amazonaws.com\"\n",
    "user=\"group3\"\n",
    "db=\"db1\"\n",
    "\n",
    "# endpoint = \"capstone.clihskgj8i7s.us-west-2.rds.amazonaws.com\"\n",
    "# user=\"group3\"\n",
    "# db=\"db1\"\n",
    "pw=\"3qLXGOaxMSoqYfj3yAOY\"\n",
    "\n",
    "engine = sal.create_engine('postgresql://%s:%s@%s/%s' % (user, pw, endpoint, db))"
   ]
  },
  {
   "cell_type": "code",
   "execution_count": 3,
   "metadata": {
    "collapsed": true,
    "jupyter": {
     "outputs_hidden": true
    }
   },
   "outputs": [
    {
     "ename": "SyntaxError",
     "evalue": "invalid syntax (<ipython-input-3-20dbaa8c6045>, line 1)",
     "output_type": "error",
     "traceback": [
      "\u001b[0;36m  File \u001b[0;32m\"<ipython-input-3-20dbaa8c6045>\"\u001b[0;36m, line \u001b[0;32m1\u001b[0m\n\u001b[0;31m    ```{toggle}\u001b[0m\n\u001b[0m    ^\u001b[0m\n\u001b[0;31mSyntaxError\u001b[0m\u001b[0;31m:\u001b[0m invalid syntax\n"
     ]
    }
   ],
   "source": [
    "import pandas as pd\n",
    "#engine = sal.create_engine('postgresql://%s:%s@%s/%s' % (user, pw, endpoint, db))\n",
    "\n",
    "query=\"\"\"\n",
    "select to_char(timestamp,'YYYYMM') tmonth, to_char(timestamp,'HH24:MI:SS') ttime, avg(avg_speed) aspeed, avg(total_flow) aflow, sum(total_flow) sflow\n",
    "from traffic, pemslocs\n",
    "where traffic.station = pemslocs.sid\n",
    "and county = '73' and district = '11'\n",
    "and to_char(timestamp,'YYYY-MM-DD') > '2020-01-20'\n",
    "and to_char(timestamp,'YYYY') = '2020'\n",
    "group by to_char(timestamp,'YYYYMM'),to_char(timestamp,'HH24:MI:SS');\n",
    "\"\"\"\n",
    "\n",
    "#where station = 400001\n",
    "#where station = 400717\n",
    "\n",
    "traffic=pd.read_sql(query, engine)\n",
    "\n",
    "print(traffic.shape)\n",
    "traffic.head() "
   ]
  },
  {
   "cell_type": "code",
   "execution_count": 3,
   "metadata": {
    "collapsed": true,
    "jupyter": {
     "outputs_hidden": true
    }
   },
   "outputs": [
    {
     "data": {
      "text/plain": [
       "[('public.traffic_bay',),\n",
       " ('public.covidlocs',),\n",
       " ('public.traffic_sd_day',),\n",
       " ('public.traffic_bay_day',),\n",
       " ('public.hospitals',),\n",
       " ('public.traffic',),\n",
       " ('public.covidcases',),\n",
       " ('public.pemslocs',),\n",
       " ('public.usdot',)]"
      ]
     },
     "execution_count": 3,
     "metadata": {},
     "output_type": "execute_result"
    }
   ],
   "source": [
    "describe_query = '''SELECT\n",
    "    table_schema || '.' || table_name as show_tables\n",
    "FROM\n",
    "    information_schema.tables\n",
    "WHERE\n",
    "    table_type = 'BASE TABLE'\n",
    "AND\n",
    "    table_schema NOT IN ('pg_catalog', 'information_schema');'''\n",
    "\n",
    "table_description = ''' select column_name, data_type, character_maximum_length\n",
    " from INFORMATION_SCHEMA.COLUMNS where table_name ='pemslocs';'''\n",
    "q = engine.execute(describe_query).fetchall()\n",
    "q"
   ]
  },
  {
   "cell_type": "code",
   "execution_count": 3,
   "metadata": {
    "collapsed": true,
    "jupyter": {
     "outputs_hidden": true
    }
   },
   "outputs": [
    {
     "data": {
      "text/plain": [
       "[('public', 'traffic_covid_bay_day', 'group3', True, ' SELECT recordtable.record_date,\\n    sum(recordtable.cumm_new_cases) AS cumm_new_cases,\\n    sum(recordtable.cumm_new_deaths) AS cumm_new_deaths,\\n  ... (2617 characters truncated) ...      GROUP BY covidcases.rdate, (\"substring\"(((covidlocs.fips)::character varying(6))::text, 2, 3))) recordtable\\n  GROUP BY recordtable.record_date;'),\n",
       " ('public', 'traffic_covid_both', 'group3', True, ' SELECT recordtable.record_date,\\n    sum(recordtable.cumm_new_cases) AS cumm_new_cases,\\n    sum(recordtable.cumm_new_deaths) AS cumm_new_deaths,\\n  ... (2617 characters truncated) ...      GROUP BY covidcases.rdate, (\"substring\"(((covidlocs.fips)::character varying(6))::text, 2, 3))) recordtable\\n  GROUP BY recordtable.record_date;'),\n",
       " ('public', 'traffic_covid_sd_day', 'group3', True, ' SELECT recordtable.record_date,\\n    sum(recordtable.cumm_new_cases) AS cumm_new_cases,\\n    sum(recordtable.cumm_new_deaths) AS cumm_new_deaths,\\n  ... (2667 characters truncated) ... ases.rdate, (\"substring\"(((covidlocs.fips)::character varying(6))::text, 2, 3))) recordtable\\n  GROUP BY recordtable.record_date, recordtable.county;'),\n",
       " ('public', 'traffic_joined_covid', 'group3', True, ' SELECT t.extracted_date,\\n    t.\"timestamp\",\\n    t.station,\\n    t.samples,\\n    t.pct_observed,\\n    t.total_flow,\\n    t.avg_occupancy,\\n    t.av ... (799 characters truncated) ... <= \\'2020-06-30 00:00:00\\'::timestamp without time zone))) t\\n     JOIN traffic_covid_both ON ((t.extracted_date = traffic_covid_both.record_date)));'),\n",
       " ('public', 'traffic_train', 'group3', True, ' SELECT traffic_bay.\"timestamp\",\\n    traffic_bay.station,\\n    traffic_bay.samples,\\n    traffic_bay.pct_observed,\\n    traffic_bay.total_flow,\\n    ... (105 characters truncated) ... tamp\" > \\'2020-01-01 00:00:00\\'::timestamp without time zone) AND (traffic_bay.\"timestamp\" <= \\'2020-06-30 00:00:00\\'::timestamp without time zone));')]"
      ]
     },
     "execution_count": 3,
     "metadata": {},
     "output_type": "execute_result"
    }
   ],
   "source": [
    "list_views = '''\n",
    "select schemaname as schema_name,\n",
    "       matviewname as view_name,\n",
    "       matviewowner as owner,\n",
    "       ispopulated as is_populated,\n",
    "       definition\n",
    "from pg_matviews\n",
    "order by schema_name,\n",
    "         view_name;\n",
    "'''\n",
    "\n",
    "q = engine.execute(list_views).fetchall()\n",
    "q"
   ]
  },
  {
   "cell_type": "code",
   "execution_count": 9,
   "metadata": {
    "collapsed": true,
    "jupyter": {
     "outputs_hidden": true
    }
   },
   "outputs": [
    {
     "data": {
      "text/plain": [
       "[(16673584,)]"
      ]
     },
     "execution_count": 9,
     "metadata": {},
     "output_type": "execute_result"
    }
   ],
   "source": [
    "engine.execute(\"select count(*) from traffic_joined_covid\").fetchall()"
   ]
  },
  {
   "cell_type": "code",
   "execution_count": 8,
   "metadata": {
    "collapsed": true,
    "jupyter": {
     "outputs_hidden": true
    }
   },
   "outputs": [
    {
     "data": {
      "text/plain": [
       "[(16673584,)]"
      ]
     },
     "execution_count": 8,
     "metadata": {},
     "output_type": "execute_result"
    }
   ],
   "source": [
    "engine.execute(\"select count(*) from traffic_bay where timestamp>='01-01-2020' and timestamp<='06-30-2020'\").fetchall()"
   ]
  },
  {
   "cell_type": "code",
   "execution_count": 3,
   "metadata": {
    "collapsed": true,
    "jupyter": {
     "outputs_hidden": true
    }
   },
   "outputs": [
    {
     "data": {
      "text/plain": [
       "[('timestamp', 'timestamp without time zone', None),\n",
       " ('station', 'integer', None),\n",
       " ('samples', 'smallint', None),\n",
       " ('pct_observed', 'smallint', None),\n",
       " ('total_flow', 'integer', None),\n",
       " ('avg_occupancy', 'double precision', None),\n",
       " ('avg_speed', 'double precision', None),\n",
       " ('traffic_date', 'date', None)]"
      ]
     },
     "execution_count": 3,
     "metadata": {},
     "output_type": "execute_result"
    }
   ],
   "source": [
    "table_description = ''' select column_name, data_type, character_maximum_length\n",
    " from INFORMATION_SCHEMA.COLUMNS where table_name ='traffic_bay';'''\n",
    "q = engine.execute(table_description)\n",
    "q.fetchall()"
   ]
  },
  {
   "cell_type": "code",
   "execution_count": 4,
   "metadata": {
    "collapsed": true,
    "jupyter": {
     "outputs_hidden": true
    }
   },
   "outputs": [
    {
     "data": {
      "text/plain": [
       "[('sid', 'integer', None),\n",
       " ('fwy', 'smallint', None),\n",
       " ('latitude', 'double precision', None),\n",
       " ('longitude', 'double precision', None),\n",
       " ('length', 'double precision', None),\n",
       " ('lanes', 'smallint', None),\n",
       " ('district', 'smallint', None),\n",
       " ('county', 'smallint', None),\n",
       " ('city', 'integer', None),\n",
       " ('abs_pm', 'double precision', None),\n",
       " ('direc', 'character', 1),\n",
       " ('state_pm', 'character varying', None),\n",
       " ('stype', 'character varying', 2),\n",
       " ('name', 'character varying', None)]"
      ]
     },
     "execution_count": 4,
     "metadata": {},
     "output_type": "execute_result"
    }
   ],
   "source": [
    "describe_query = '''SELECT\n",
    "    table_schema || '.' || table_name as show_tables\n",
    "FROM\n",
    "    information_schema.tables\n",
    "WHERE\n",
    "    table_type = 'BASE TABLE'\n",
    "AND\n",
    "    table_schema NOT IN ('pg_catalog', 'information_schema');'''\n",
    "\n",
    "table_description = ''' select column_name, data_type, character_maximum_length\n",
    " from INFORMATION_SCHEMA.COLUMNS where table_name ='pemslocs';'''\n",
    "q = engine.execute(table_description).fetchall()\n",
    "q"
   ]
  },
  {
   "cell_type": "code",
   "execution_count": 5,
   "metadata": {
    "collapsed": true,
    "jupyter": {
     "outputs_hidden": true
    }
   },
   "outputs": [
    {
     "data": {
      "text/plain": [
       "[(11, 1629),\n",
       " (8, 2272),\n",
       " (10, 1351),\n",
       " (7, 5023),\n",
       " (5, 505),\n",
       " (4, 4466),\n",
       " (6, 779),\n",
       " (12, 2834),\n",
       " (3, 1544)]"
      ]
     },
     "execution_count": 5,
     "metadata": {},
     "output_type": "execute_result"
    }
   ],
   "source": [
    "county_description = ''' select district,count(county)\n",
    " from  pemslocs group by district'''\n",
    "q = engine.execute(county_description)\n",
    "q.fetchall()"
   ]
  },
  {
   "cell_type": "code",
   "execution_count": 6,
   "metadata": {
    "collapsed": true,
    "jupyter": {
     "outputs_hidden": true
    }
   },
   "outputs": [
    {
     "data": {
      "text/plain": [
       "[(4,)]"
      ]
     },
     "execution_count": 6,
     "metadata": {},
     "output_type": "execute_result"
    }
   ],
   "source": [
    "county_description = '''select distinct(district) from traffic_bay inner join pemslocs on station=sid'''\n",
    "q = engine.execute(county_description)\n",
    "q.fetchall()"
   ]
  },
  {
   "cell_type": "code",
   "execution_count": 33,
   "metadata": {
    "collapsed": true,
    "jupyter": {
     "outputs_hidden": true
    }
   },
   "outputs": [
    {
     "data": {
      "text/plain": [
       "[('timestamp', 'timestamp without time zone', None),\n",
       " ('station', 'integer', None),\n",
       " ('samples', 'smallint', None),\n",
       " ('pct_observed', 'smallint', None),\n",
       " ('total_flow', 'integer', None),\n",
       " ('avg_occupancy', 'double precision', None),\n",
       " ('avg_speed', 'double precision', None),\n",
       " ('traffic_date', 'date', None)]"
      ]
     },
     "execution_count": 33,
     "metadata": {},
     "output_type": "execute_result"
    }
   ],
   "source": [
    "table_description = ''' select column_name, data_type, character_maximum_length\n",
    " from INFORMATION_SCHEMA.COLUMNS where table_name ='traffic_bay';'''\n",
    "q = engine.execute(table_description)\n",
    "q.fetchall()"
   ]
  },
  {
   "cell_type": "code",
   "execution_count": 57,
   "metadata": {
    "collapsed": true,
    "jupyter": {
     "outputs_hidden": true
    }
   },
   "outputs": [
    {
     "data": {
      "text/plain": [
       "[]"
      ]
     },
     "execution_count": 57,
     "metadata": {},
     "output_type": "execute_result"
    }
   ],
   "source": [
    "table_description = ''' select column_name, data_type, character_maximum_length\n",
    " from INFORMATION_SCHEMA.COLUMNS where table_name ='traffic_train';'''\n",
    "q = engine.execute(table_description)\n",
    "q.fetchall()"
   ]
  },
  {
   "cell_type": "code",
   "execution_count": 34,
   "metadata": {
    "collapsed": true,
    "jupyter": {
     "outputs_hidden": true
    }
   },
   "outputs": [
    {
     "data": {
      "text/plain": [
       "[('timestamp', 'timestamp without time zone', None),\n",
       " ('station', 'integer', None),\n",
       " ('samples', 'smallint', None),\n",
       " ('pct_observed', 'smallint', None),\n",
       " ('total_flow', 'integer', None),\n",
       " ('avg_occupancy', 'double precision', None),\n",
       " ('avg_speed', 'double precision', None),\n",
       " ('traffic_date', 'date', None)]"
      ]
     },
     "execution_count": 34,
     "metadata": {},
     "output_type": "execute_result"
    }
   ],
   "source": [
    "table_description = '''select * from INFORMATION_SCHEMA.COLUMNS where table_name ='traffic_bay';'''\n",
    "q = engine.execute(table_description)\n",
    "q.fetchall()"
   ]
  },
  {
   "cell_type": "markdown",
   "metadata": {},
   "source": [
    "### Covid_data per county"
   ]
  },
  {
   "cell_type": "code",
   "execution_count": 8,
   "metadata": {
    "collapsed": true,
    "jupyter": {
     "outputs_hidden": true
    }
   },
   "outputs": [
    {
     "data": {
      "text/plain": [
       "[('uid', 'integer', None),\n",
       " ('fips', 'double precision', None),\n",
       " ('latitude', 'double precision', None),\n",
       " ('longitude', 'double precision', None),\n",
       " ('population', 'double precision', None),\n",
       " ('admin2', 'text', None),\n",
       " ('province_state', 'text', None),\n",
       " ('country_region', 'text', None),\n",
       " ('iso2', 'character', 4),\n",
       " ('iso3', 'character', 3),\n",
       " ('code3', 'character', 4),\n",
       " ('combined_key', 'character varying', None)]"
      ]
     },
     "execution_count": 8,
     "metadata": {},
     "output_type": "execute_result"
    }
   ],
   "source": [
    "table_description = ''' select column_name, data_type, character_maximum_length\n",
    " from INFORMATION_SCHEMA.COLUMNS where table_name ='covidlocs';'''\n",
    "engine.execute(table_description).fetchall()"
   ]
  },
  {
   "cell_type": "code",
   "execution_count": 4,
   "metadata": {
    "collapsed": true,
    "jupyter": {
     "outputs_hidden": true
    }
   },
   "outputs": [
    {
     "data": {
      "text/plain": [
       "[(0, 'Abbeville, South Carolina, US', datetime.date(2020, 1, 22)),\n",
       " (0, 'Abbeville, South Carolina, US', datetime.date(2020, 1, 23)),\n",
       " (0, 'Abbeville, South Carolina, US', datetime.date(2020, 1, 24)),\n",
       " (0, 'Abbeville, South Carolina, US', datetime.date(2020, 1, 25)),\n",
       " (0, 'Abbeville, South Carolina, US', datetime.date(2020, 1, 26)),\n",
       " (0, 'Abbeville, South Carolina, US', datetime.date(2020, 1, 27)),\n",
       " (0, 'Abbeville, South Carolina, US', datetime.date(2020, 1, 28)),\n",
       " (0, 'Abbeville, South Carolina, US', datetime.date(2020, 1, 29)),\n",
       " (0, 'Abbeville, South Carolina, US', datetime.date(2020, 1, 30)),\n",
       " (0, 'Abbeville, South Carolina, US', datetime.date(2020, 1, 31)),\n",
       " (0, 'Abbeville, South Carolina, US', datetime.date(2020, 2, 1)),\n",
       " (0, 'Abbeville, South Carolina, US', datetime.date(2020, 2, 2)),\n",
       " (0, 'Abbeville, South Carolina, US', datetime.date(2020, 2, 3)),\n",
       " (0, 'Abbeville, South Carolina, US', datetime.date(2020, 2, 4)),\n",
       " (0, 'Abbeville, South Carolina, US', datetime.date(2020, 2, 5)),\n",
       " (0, 'Abbeville, South Carolina, US', datetime.date(2020, 2, 6)),\n",
       " (0, 'Abbeville, South Carolina, US', datetime.date(2020, 2, 7)),\n",
       " (0, 'Abbeville, South Carolina, US', datetime.date(2020, 2, 8)),\n",
       " (0, 'Abbeville, South Carolina, US', datetime.date(2020, 2, 9)),\n",
       " (0, 'Abbeville, South Carolina, US', datetime.date(2020, 2, 10)),\n",
       " (0, 'Abbeville, South Carolina, US', datetime.date(2020, 2, 11)),\n",
       " (0, 'Abbeville, South Carolina, US', datetime.date(2020, 2, 12)),\n",
       " (0, 'Abbeville, South Carolina, US', datetime.date(2020, 2, 13)),\n",
       " (0, 'Abbeville, South Carolina, US', datetime.date(2020, 2, 14)),\n",
       " (0, 'Abbeville, South Carolina, US', datetime.date(2020, 2, 15)),\n",
       " (0, 'Abbeville, South Carolina, US', datetime.date(2020, 2, 16)),\n",
       " (0, 'Abbeville, South Carolina, US', datetime.date(2020, 2, 17)),\n",
       " (0, 'Abbeville, South Carolina, US', datetime.date(2020, 2, 18)),\n",
       " (0, 'Abbeville, South Carolina, US', datetime.date(2020, 2, 19)),\n",
       " (0, 'Abbeville, South Carolina, US', datetime.date(2020, 2, 20)),\n",
       " (0, 'Abbeville, South Carolina, US', datetime.date(2020, 2, 21)),\n",
       " (0, 'Abbeville, South Carolina, US', datetime.date(2020, 2, 22)),\n",
       " (0, 'Abbeville, South Carolina, US', datetime.date(2020, 2, 23)),\n",
       " (0, 'Abbeville, South Carolina, US', datetime.date(2020, 2, 24)),\n",
       " (0, 'Abbeville, South Carolina, US', datetime.date(2020, 2, 25)),\n",
       " (0, 'Abbeville, South Carolina, US', datetime.date(2020, 2, 26)),\n",
       " (0, 'Abbeville, South Carolina, US', datetime.date(2020, 2, 27)),\n",
       " (0, 'Abbeville, South Carolina, US', datetime.date(2020, 2, 28)),\n",
       " (0, 'Abbeville, South Carolina, US', datetime.date(2020, 2, 29)),\n",
       " (0, 'Abbeville, South Carolina, US', datetime.date(2020, 3, 1)),\n",
       " (0, 'Abbeville, South Carolina, US', datetime.date(2020, 3, 2)),\n",
       " (0, 'Abbeville, South Carolina, US', datetime.date(2020, 3, 3)),\n",
       " (0, 'Abbeville, South Carolina, US', datetime.date(2020, 3, 4)),\n",
       " (0, 'Abbeville, South Carolina, US', datetime.date(2020, 3, 5)),\n",
       " (0, 'Abbeville, South Carolina, US', datetime.date(2020, 3, 6)),\n",
       " (0, 'Abbeville, South Carolina, US', datetime.date(2020, 3, 7)),\n",
       " (0, 'Abbeville, South Carolina, US', datetime.date(2020, 3, 8)),\n",
       " (0, 'Abbeville, South Carolina, US', datetime.date(2020, 3, 9)),\n",
       " (0, 'Abbeville, South Carolina, US', datetime.date(2020, 3, 10)),\n",
       " (0, 'Abbeville, South Carolina, US', datetime.date(2020, 3, 11)),\n",
       " (0, 'Abbeville, South Carolina, US', datetime.date(2020, 3, 12)),\n",
       " (0, 'Abbeville, South Carolina, US', datetime.date(2020, 3, 13)),\n",
       " (0, 'Abbeville, South Carolina, US', datetime.date(2020, 3, 14)),\n",
       " (0, 'Abbeville, South Carolina, US', datetime.date(2020, 3, 15)),\n",
       " (0, 'Abbeville, South Carolina, US', datetime.date(2020, 3, 16)),\n",
       " (0, 'Abbeville, South Carolina, US', datetime.date(2020, 3, 17)),\n",
       " (0, 'Abbeville, South Carolina, US', datetime.date(2020, 3, 18)),\n",
       " (1, 'Abbeville, South Carolina, US', datetime.date(2020, 3, 19)),\n",
       " (1, 'Abbeville, South Carolina, US', datetime.date(2020, 3, 20)),\n",
       " (1, 'Abbeville, South Carolina, US', datetime.date(2020, 3, 21)),\n",
       " (1, 'Abbeville, South Carolina, US', datetime.date(2020, 3, 22)),\n",
       " (1, 'Abbeville, South Carolina, US', datetime.date(2020, 3, 23)),\n",
       " (1, 'Abbeville, South Carolina, US', datetime.date(2020, 3, 24)),\n",
       " (3, 'Abbeville, South Carolina, US', datetime.date(2020, 3, 25)),\n",
       " (3, 'Abbeville, South Carolina, US', datetime.date(2020, 3, 26)),\n",
       " (4, 'Abbeville, South Carolina, US', datetime.date(2020, 3, 27)),\n",
       " (3, 'Abbeville, South Carolina, US', datetime.date(2020, 3, 28)),\n",
       " (3, 'Abbeville, South Carolina, US', datetime.date(2020, 3, 29)),\n",
       " (3, 'Abbeville, South Carolina, US', datetime.date(2020, 3, 30)),\n",
       " (4, 'Abbeville, South Carolina, US', datetime.date(2020, 3, 31)),\n",
       " (4, 'Abbeville, South Carolina, US', datetime.date(2020, 4, 1)),\n",
       " (6, 'Abbeville, South Carolina, US', datetime.date(2020, 4, 2)),\n",
       " (6, 'Abbeville, South Carolina, US', datetime.date(2020, 4, 3)),\n",
       " (6, 'Abbeville, South Carolina, US', datetime.date(2020, 4, 4)),\n",
       " (6, 'Abbeville, South Carolina, US', datetime.date(2020, 4, 5)),\n",
       " (6, 'Abbeville, South Carolina, US', datetime.date(2020, 4, 6)),\n",
       " (5, 'Abbeville, South Carolina, US', datetime.date(2020, 4, 7)),\n",
       " (5, 'Abbeville, South Carolina, US', datetime.date(2020, 4, 8)),\n",
       " (7, 'Abbeville, South Carolina, US', datetime.date(2020, 4, 9)),\n",
       " (7, 'Abbeville, South Carolina, US', datetime.date(2020, 4, 10)),\n",
       " (9, 'Abbeville, South Carolina, US', datetime.date(2020, 4, 11)),\n",
       " (9, 'Abbeville, South Carolina, US', datetime.date(2020, 4, 12)),\n",
       " (9, 'Abbeville, South Carolina, US', datetime.date(2020, 4, 13)),\n",
       " (9, 'Abbeville, South Carolina, US', datetime.date(2020, 4, 14)),\n",
       " (10, 'Abbeville, South Carolina, US', datetime.date(2020, 4, 15)),\n",
       " (10, 'Abbeville, South Carolina, US', datetime.date(2020, 4, 16)),\n",
       " (10, 'Abbeville, South Carolina, US', datetime.date(2020, 4, 17)),\n",
       " (15, 'Abbeville, South Carolina, US', datetime.date(2020, 4, 18)),\n",
       " (17, 'Abbeville, South Carolina, US', datetime.date(2020, 4, 19)),\n",
       " (17, 'Abbeville, South Carolina, US', datetime.date(2020, 4, 20)),\n",
       " (17, 'Abbeville, South Carolina, US', datetime.date(2020, 4, 21)),\n",
       " (22, 'Abbeville, South Carolina, US', datetime.date(2020, 4, 22)),\n",
       " (23, 'Abbeville, South Carolina, US', datetime.date(2020, 4, 23)),\n",
       " (24, 'Abbeville, South Carolina, US', datetime.date(2020, 4, 24)),\n",
       " (24, 'Abbeville, South Carolina, US', datetime.date(2020, 4, 25)),\n",
       " (27, 'Abbeville, South Carolina, US', datetime.date(2020, 4, 26)),\n",
       " (29, 'Abbeville, South Carolina, US', datetime.date(2020, 4, 27)),\n",
       " (29, 'Abbeville, South Carolina, US', datetime.date(2020, 4, 28)),\n",
       " (29, 'Abbeville, South Carolina, US', datetime.date(2020, 4, 29)),\n",
       " (31, 'Abbeville, South Carolina, US', datetime.date(2020, 4, 30)),\n",
       " (31, 'Abbeville, South Carolina, US', datetime.date(2020, 5, 1)),\n",
       " (31, 'Abbeville, South Carolina, US', datetime.date(2020, 5, 2)),\n",
       " (33, 'Abbeville, South Carolina, US', datetime.date(2020, 5, 3)),\n",
       " (33, 'Abbeville, South Carolina, US', datetime.date(2020, 5, 4)),\n",
       " (33, 'Abbeville, South Carolina, US', datetime.date(2020, 5, 5)),\n",
       " (33, 'Abbeville, South Carolina, US', datetime.date(2020, 5, 6)),\n",
       " (34, 'Abbeville, South Carolina, US', datetime.date(2020, 5, 7)),\n",
       " (34, 'Abbeville, South Carolina, US', datetime.date(2020, 5, 8)),\n",
       " (34, 'Abbeville, South Carolina, US', datetime.date(2020, 5, 9)),\n",
       " (34, 'Abbeville, South Carolina, US', datetime.date(2020, 5, 10)),\n",
       " (34, 'Abbeville, South Carolina, US', datetime.date(2020, 5, 11)),\n",
       " (34, 'Abbeville, South Carolina, US', datetime.date(2020, 5, 12)),\n",
       " (34, 'Abbeville, South Carolina, US', datetime.date(2020, 5, 13)),\n",
       " (34, 'Abbeville, South Carolina, US', datetime.date(2020, 5, 14)),\n",
       " (34, 'Abbeville, South Carolina, US', datetime.date(2020, 5, 15)),\n",
       " (34, 'Abbeville, South Carolina, US', datetime.date(2020, 5, 16)),\n",
       " (35, 'Abbeville, South Carolina, US', datetime.date(2020, 5, 17)),\n",
       " (35, 'Abbeville, South Carolina, US', datetime.date(2020, 5, 18)),\n",
       " (36, 'Abbeville, South Carolina, US', datetime.date(2020, 5, 19)),\n",
       " (36, 'Abbeville, South Carolina, US', datetime.date(2020, 5, 20)),\n",
       " (36, 'Abbeville, South Carolina, US', datetime.date(2020, 5, 21)),\n",
       " (36, 'Abbeville, South Carolina, US', datetime.date(2020, 5, 22)),\n",
       " (35, 'Abbeville, South Carolina, US', datetime.date(2020, 5, 23)),\n",
       " (35, 'Abbeville, South Carolina, US', datetime.date(2020, 5, 24)),\n",
       " (35, 'Abbeville, South Carolina, US', datetime.date(2020, 5, 25)),\n",
       " (35, 'Abbeville, South Carolina, US', datetime.date(2020, 5, 26)),\n",
       " (35, 'Abbeville, South Carolina, US', datetime.date(2020, 5, 27)),\n",
       " (37, 'Abbeville, South Carolina, US', datetime.date(2020, 5, 28)),\n",
       " (39, 'Abbeville, South Carolina, US', datetime.date(2020, 5, 29)),\n",
       " (39, 'Abbeville, South Carolina, US', datetime.date(2020, 5, 30)),\n",
       " (42, 'Abbeville, South Carolina, US', datetime.date(2020, 5, 31)),\n",
       " (44, 'Abbeville, South Carolina, US', datetime.date(2020, 6, 1)),\n",
       " (46, 'Abbeville, South Carolina, US', datetime.date(2020, 6, 2)),\n",
       " (46, 'Abbeville, South Carolina, US', datetime.date(2020, 6, 3)),\n",
       " (46, 'Abbeville, South Carolina, US', datetime.date(2020, 6, 4)),\n",
       " (47, 'Abbeville, South Carolina, US', datetime.date(2020, 6, 5)),\n",
       " (47, 'Abbeville, South Carolina, US', datetime.date(2020, 6, 6)),\n",
       " (51, 'Abbeville, South Carolina, US', datetime.date(2020, 6, 7)),\n",
       " (58, 'Abbeville, South Carolina, US', datetime.date(2020, 6, 8)),\n",
       " (60, 'Abbeville, South Carolina, US', datetime.date(2020, 6, 9)),\n",
       " (60, 'Abbeville, South Carolina, US', datetime.date(2020, 6, 10)),\n",
       " (63, 'Abbeville, South Carolina, US', datetime.date(2020, 6, 11)),\n",
       " (62, 'Abbeville, South Carolina, US', datetime.date(2020, 6, 12)),\n",
       " (63, 'Abbeville, South Carolina, US', datetime.date(2020, 6, 13)),\n",
       " (67, 'Abbeville, South Carolina, US', datetime.date(2020, 6, 14)),\n",
       " (70, 'Abbeville, South Carolina, US', datetime.date(2020, 6, 15)),\n",
       " (73, 'Abbeville, South Carolina, US', datetime.date(2020, 6, 16)),\n",
       " (73, 'Abbeville, South Carolina, US', datetime.date(2020, 6, 17)),\n",
       " (73, 'Abbeville, South Carolina, US', datetime.date(2020, 6, 18)),\n",
       " (73, 'Abbeville, South Carolina, US', datetime.date(2020, 6, 19)),\n",
       " (86, 'Abbeville, South Carolina, US', datetime.date(2020, 6, 20)),\n",
       " (88, 'Abbeville, South Carolina, US', datetime.date(2020, 6, 21)),\n",
       " (87, 'Abbeville, South Carolina, US', datetime.date(2020, 6, 22)),\n",
       " (86, 'Abbeville, South Carolina, US', datetime.date(2020, 6, 23)),\n",
       " (91, 'Abbeville, South Carolina, US', datetime.date(2020, 6, 24)),\n",
       " (99, 'Abbeville, South Carolina, US', datetime.date(2020, 6, 25)),\n",
       " (100, 'Abbeville, South Carolina, US', datetime.date(2020, 6, 26)),\n",
       " (103, 'Abbeville, South Carolina, US', datetime.date(2020, 6, 27)),\n",
       " (103, 'Abbeville, South Carolina, US', datetime.date(2020, 6, 28)),\n",
       " (106, 'Abbeville, South Carolina, US', datetime.date(2020, 6, 29)),\n",
       " (113, 'Abbeville, South Carolina, US', datetime.date(2020, 6, 30)),\n",
       " (113, 'Abbeville, South Carolina, US', datetime.date(2020, 7, 1)),\n",
       " (119, 'Abbeville, South Carolina, US', datetime.date(2020, 7, 2)),\n",
       " (118, 'Abbeville, South Carolina, US', datetime.date(2020, 7, 3)),\n",
       " (119, 'Abbeville, South Carolina, US', datetime.date(2020, 7, 4)),\n",
       " (124, 'Abbeville, South Carolina, US', datetime.date(2020, 7, 5)),\n",
       " (135, 'Abbeville, South Carolina, US', datetime.date(2020, 7, 6)),\n",
       " (135, 'Abbeville, South Carolina, US', datetime.date(2020, 7, 7)),\n",
       " (138, 'Abbeville, South Carolina, US', datetime.date(2020, 7, 8)),\n",
       " (139, 'Abbeville, South Carolina, US', datetime.date(2020, 7, 9)),\n",
       " (142, 'Abbeville, South Carolina, US', datetime.date(2020, 7, 10)),\n",
       " (151, 'Abbeville, South Carolina, US', datetime.date(2020, 7, 11)),\n",
       " (154, 'Abbeville, South Carolina, US', datetime.date(2020, 7, 12)),\n",
       " (158, 'Abbeville, South Carolina, US', datetime.date(2020, 7, 13)),\n",
       " (163, 'Abbeville, South Carolina, US', datetime.date(2020, 7, 14)),\n",
       " (166, 'Abbeville, South Carolina, US', datetime.date(2020, 7, 15)),\n",
       " (172, 'Abbeville, South Carolina, US', datetime.date(2020, 7, 16)),\n",
       " (178, 'Abbeville, South Carolina, US', datetime.date(2020, 7, 17)),\n",
       " (187, 'Abbeville, South Carolina, US', datetime.date(2020, 7, 18)),\n",
       " (192, 'Abbeville, South Carolina, US', datetime.date(2020, 7, 19)),\n",
       " (244, 'Abbeville, South Carolina, US', datetime.date(2020, 7, 20)),\n",
       " (248, 'Abbeville, South Carolina, US', datetime.date(2020, 7, 21)),\n",
       " (251, 'Abbeville, South Carolina, US', datetime.date(2020, 7, 22)),\n",
       " (257, 'Abbeville, South Carolina, US', datetime.date(2020, 7, 23)),\n",
       " (262, 'Abbeville, South Carolina, US', datetime.date(2020, 7, 24)),\n",
       " (268, 'Abbeville, South Carolina, US', datetime.date(2020, 7, 25)),\n",
       " (274, 'Abbeville, South Carolina, US', datetime.date(2020, 7, 26)),\n",
       " (276, 'Abbeville, South Carolina, US', datetime.date(2020, 7, 27)),\n",
       " (275, 'Abbeville, South Carolina, US', datetime.date(2020, 7, 28)),\n",
       " (285, 'Abbeville, South Carolina, US', datetime.date(2020, 7, 29)),\n",
       " (292, 'Abbeville, South Carolina, US', datetime.date(2020, 7, 30)),\n",
       " (289, 'Abbeville, South Carolina, US', datetime.date(2020, 7, 31)),\n",
       " (295, 'Abbeville, South Carolina, US', datetime.date(2020, 8, 1)),\n",
       " (297, 'Abbeville, South Carolina, US', datetime.date(2020, 8, 2)),\n",
       " (305, 'Abbeville, South Carolina, US', datetime.date(2020, 8, 3)),\n",
       " (309, 'Abbeville, South Carolina, US', datetime.date(2020, 8, 4)),\n",
       " (312, 'Abbeville, South Carolina, US', datetime.date(2020, 8, 5)),\n",
       " (321, 'Abbeville, South Carolina, US', datetime.date(2020, 8, 6)),\n",
       " (329, 'Abbeville, South Carolina, US', datetime.date(2020, 8, 7)),\n",
       " (333, 'Abbeville, South Carolina, US', datetime.date(2020, 8, 8)),\n",
       " (344, 'Abbeville, South Carolina, US', datetime.date(2020, 8, 9)),\n",
       " (344, 'Abbeville, South Carolina, US', datetime.date(2020, 8, 10)),\n",
       " (355, 'Abbeville, South Carolina, US', datetime.date(2020, 8, 11)),\n",
       " (363, 'Abbeville, South Carolina, US', datetime.date(2020, 8, 12)),\n",
       " (363, 'Abbeville, South Carolina, US', datetime.date(2020, 8, 13)),\n",
       " (361, 'Abbeville, South Carolina, US', datetime.date(2020, 8, 14)),\n",
       " (368, 'Abbeville, South Carolina, US', datetime.date(2020, 8, 15)),\n",
       " (370, 'Abbeville, South Carolina, US', datetime.date(2020, 8, 16)),\n",
       " (371, 'Abbeville, South Carolina, US', datetime.date(2020, 8, 17)),\n",
       " (374, 'Abbeville, South Carolina, US', datetime.date(2020, 8, 18)),\n",
       " (379, 'Abbeville, South Carolina, US', datetime.date(2020, 8, 19)),\n",
       " (384, 'Abbeville, South Carolina, US', datetime.date(2020, 8, 20)),\n",
       " (391, 'Abbeville, South Carolina, US', datetime.date(2020, 8, 21)),\n",
       " (395, 'Abbeville, South Carolina, US', datetime.date(2020, 8, 22)),\n",
       " (400, 'Abbeville, South Carolina, US', datetime.date(2020, 8, 23)),\n",
       " (402, 'Abbeville, South Carolina, US', datetime.date(2020, 8, 24)),\n",
       " (398, 'Abbeville, South Carolina, US', datetime.date(2020, 8, 25)),\n",
       " (403, 'Abbeville, South Carolina, US', datetime.date(2020, 8, 26)),\n",
       " (404, 'Abbeville, South Carolina, US', datetime.date(2020, 8, 27)),\n",
       " (414, 'Abbeville, South Carolina, US', datetime.date(2020, 8, 28)),\n",
       " (416, 'Abbeville, South Carolina, US', datetime.date(2020, 8, 29)),\n",
       " (425, 'Abbeville, South Carolina, US', datetime.date(2020, 8, 30)),\n",
       " (428, 'Abbeville, South Carolina, US', datetime.date(2020, 8, 31)),\n",
       " (444, 'Abbeville, South Carolina, US', datetime.date(2020, 9, 1)),\n",
       " (449, 'Abbeville, South Carolina, US', datetime.date(2020, 9, 2)),\n",
       " (460, 'Abbeville, South Carolina, US', datetime.date(2020, 9, 3)),\n",
       " (473, 'Abbeville, South Carolina, US', datetime.date(2020, 9, 4)),\n",
       " (473, 'Abbeville, South Carolina, US', datetime.date(2020, 9, 5)),\n",
       " (475, 'Abbeville, South Carolina, US', datetime.date(2020, 9, 6)),\n",
       " (480, 'Abbeville, South Carolina, US', datetime.date(2020, 9, 7)),\n",
       " (478, 'Abbeville, South Carolina, US', datetime.date(2020, 9, 8)),\n",
       " (478, 'Abbeville, South Carolina, US', datetime.date(2020, 9, 9)),\n",
       " (481, 'Abbeville, South Carolina, US', datetime.date(2020, 9, 10)),\n",
       " (490, 'Abbeville, South Carolina, US', datetime.date(2020, 9, 11)),\n",
       " (500, 'Abbeville, South Carolina, US', datetime.date(2020, 9, 12)),\n",
       " (503, 'Abbeville, South Carolina, US', datetime.date(2020, 9, 13)),\n",
       " (504, 'Abbeville, South Carolina, US', datetime.date(2020, 9, 14)),\n",
       " (510, 'Abbeville, South Carolina, US', datetime.date(2020, 9, 15)),\n",
       " (512, 'Abbeville, South Carolina, US', datetime.date(2020, 9, 16)),\n",
       " (527, 'Abbeville, South Carolina, US', datetime.date(2020, 9, 17)),\n",
       " (542, 'Abbeville, South Carolina, US', datetime.date(2020, 9, 18)),\n",
       " (542, 'Abbeville, South Carolina, US', datetime.date(2020, 9, 19)),\n",
       " (543, 'Abbeville, South Carolina, US', datetime.date(2020, 9, 20)),\n",
       " (544, 'Abbeville, South Carolina, US', datetime.date(2020, 9, 21)),\n",
       " (549, 'Abbeville, South Carolina, US', datetime.date(2020, 9, 22)),\n",
       " (560, 'Abbeville, South Carolina, US', datetime.date(2020, 9, 23)),\n",
       " (565, 'Abbeville, South Carolina, US', datetime.date(2020, 9, 24)),\n",
       " (581, 'Abbeville, South Carolina, US', datetime.date(2020, 9, 25)),\n",
       " (590, 'Abbeville, South Carolina, US', datetime.date(2020, 9, 26)),\n",
       " (591, 'Abbeville, South Carolina, US', datetime.date(2020, 9, 27)),\n",
       " (591, 'Abbeville, South Carolina, US', datetime.date(2020, 9, 28)),\n",
       " (595, 'Abbeville, South Carolina, US', datetime.date(2020, 9, 29)),\n",
       " (604, 'Abbeville, South Carolina, US', datetime.date(2020, 9, 30)),\n",
       " (608, 'Abbeville, South Carolina, US', datetime.date(2020, 10, 1)),\n",
       " (619, 'Abbeville, South Carolina, US', datetime.date(2020, 10, 2)),\n",
       " (646, 'Abbeville, South Carolina, US', datetime.date(2020, 10, 3)),\n",
       " (652, 'Abbeville, South Carolina, US', datetime.date(2020, 10, 4)),\n",
       " (654, 'Abbeville, South Carolina, US', datetime.date(2020, 10, 5)),\n",
       " (665, 'Abbeville, South Carolina, US', datetime.date(2020, 10, 6)),\n",
       " (677, 'Abbeville, South Carolina, US', datetime.date(2020, 10, 7)),\n",
       " (687, 'Abbeville, South Carolina, US', datetime.date(2020, 10, 8)),\n",
       " (702, 'Abbeville, South Carolina, US', datetime.date(2020, 10, 9)),\n",
       " (702, 'Abbeville, South Carolina, US', datetime.date(2020, 10, 10)),\n",
       " (707, 'Abbeville, South Carolina, US', datetime.date(2020, 10, 11)),\n",
       " (708, 'Abbeville, South Carolina, US', datetime.date(2020, 10, 12)),\n",
       " (709, 'Abbeville, South Carolina, US', datetime.date(2020, 10, 13)),\n",
       " (709, 'Abbeville, South Carolina, US', datetime.date(2020, 10, 14)),\n",
       " (716, 'Abbeville, South Carolina, US', datetime.date(2020, 10, 15)),\n",
       " (718, 'Abbeville, South Carolina, US', datetime.date(2020, 10, 16)),\n",
       " (722, 'Abbeville, South Carolina, US', datetime.date(2020, 10, 17)),\n",
       " (726, 'Abbeville, South Carolina, US', datetime.date(2020, 10, 18)),\n",
       " (728, 'Abbeville, South Carolina, US', datetime.date(2020, 10, 19)),\n",
       " (731, 'Abbeville, South Carolina, US', datetime.date(2020, 10, 20)),\n",
       " (733, 'Abbeville, South Carolina, US', datetime.date(2020, 10, 21)),\n",
       " (738, 'Abbeville, South Carolina, US', datetime.date(2020, 10, 22)),\n",
       " (748, 'Abbeville, South Carolina, US', datetime.date(2020, 10, 23)),\n",
       " (754, 'Abbeville, South Carolina, US', datetime.date(2020, 10, 24)),\n",
       " (762, 'Abbeville, South Carolina, US', datetime.date(2020, 10, 25)),\n",
       " (769, 'Abbeville, South Carolina, US', datetime.date(2020, 10, 26)),\n",
       " (776, 'Abbeville, South Carolina, US', datetime.date(2020, 10, 27)),\n",
       " (785, 'Abbeville, South Carolina, US', datetime.date(2020, 10, 28)),\n",
       " (796, 'Abbeville, South Carolina, US', datetime.date(2020, 10, 29)),\n",
       " (806, 'Abbeville, South Carolina, US', datetime.date(2020, 10, 30)),\n",
       " (818, 'Abbeville, South Carolina, US', datetime.date(2020, 10, 31)),\n",
       " (822, 'Abbeville, South Carolina, US', datetime.date(2020, 11, 1)),\n",
       " (823, 'Abbeville, South Carolina, US', datetime.date(2020, 11, 2)),\n",
       " (826, 'Abbeville, South Carolina, US', datetime.date(2020, 11, 3)),\n",
       " (830, 'Abbeville, South Carolina, US', datetime.date(2020, 11, 4)),\n",
       " (839, 'Abbeville, South Carolina, US', datetime.date(2020, 11, 5)),\n",
       " (845, 'Abbeville, South Carolina, US', datetime.date(2020, 11, 6)),\n",
       " (855, 'Abbeville, South Carolina, US', datetime.date(2020, 11, 7)),\n",
       " (858, 'Abbeville, South Carolina, US', datetime.date(2020, 11, 8)),\n",
       " (859, 'Abbeville, South Carolina, US', datetime.date(2020, 11, 9)),\n",
       " (863, 'Abbeville, South Carolina, US', datetime.date(2020, 11, 10)),\n",
       " (868, 'Abbeville, South Carolina, US', datetime.date(2020, 11, 11)),\n",
       " (874, 'Abbeville, South Carolina, US', datetime.date(2020, 11, 12)),\n",
       " (884, 'Abbeville, South Carolina, US', datetime.date(2020, 11, 13)),\n",
       " (883, 'Abbeville, South Carolina, US', datetime.date(2020, 11, 14)),\n",
       " (885, 'Abbeville, South Carolina, US', datetime.date(2020, 11, 15)),\n",
       " (888, 'Abbeville, South Carolina, US', datetime.date(2020, 11, 16)),\n",
       " (891, 'Abbeville, South Carolina, US', datetime.date(2020, 11, 17)),\n",
       " (901, 'Abbeville, South Carolina, US', datetime.date(2020, 11, 18)),\n",
       " (906, 'Abbeville, South Carolina, US', datetime.date(2020, 11, 19)),\n",
       " (920, 'Abbeville, South Carolina, US', datetime.date(2020, 11, 20)),\n",
       " (928, 'Abbeville, South Carolina, US', datetime.date(2020, 11, 21)),\n",
       " (934, 'Abbeville, South Carolina, US', datetime.date(2020, 11, 22)),\n",
       " (936, 'Abbeville, South Carolina, US', datetime.date(2020, 11, 23)),\n",
       " (945, 'Abbeville, South Carolina, US', datetime.date(2020, 11, 24)),\n",
       " (956, 'Abbeville, South Carolina, US', datetime.date(2020, 11, 25)),\n",
       " (956, 'Abbeville, South Carolina, US', datetime.date(2020, 11, 26)),\n",
       " (970, 'Abbeville, South Carolina, US', datetime.date(2020, 11, 27)),\n",
       " (982, 'Abbeville, South Carolina, US', datetime.date(2020, 11, 28)),\n",
       " (983, 'Abbeville, South Carolina, US', datetime.date(2020, 11, 29)),\n",
       " (989, 'Abbeville, South Carolina, US', datetime.date(2020, 11, 30)),\n",
       " (994, 'Abbeville, South Carolina, US', datetime.date(2020, 12, 1)),\n",
       " (1000, 'Abbeville, South Carolina, US', datetime.date(2020, 12, 2)),\n",
       " (1011, 'Abbeville, South Carolina, US', datetime.date(2020, 12, 3)),\n",
       " (1024, 'Abbeville, South Carolina, US', datetime.date(2020, 12, 4)),\n",
       " (1054, 'Abbeville, South Carolina, US', datetime.date(2020, 12, 5)),\n",
       " (1059, 'Abbeville, South Carolina, US', datetime.date(2020, 12, 6)),\n",
       " (1075, 'Abbeville, South Carolina, US', datetime.date(2020, 12, 7)),\n",
       " (1078, 'Abbeville, South Carolina, US', datetime.date(2020, 12, 8)),\n",
       " (1081, 'Abbeville, South Carolina, US', datetime.date(2020, 12, 9)),\n",
       " (1089, 'Abbeville, South Carolina, US', datetime.date(2020, 12, 10)),\n",
       " (1102, 'Abbeville, South Carolina, US', datetime.date(2020, 12, 11)),\n",
       " (1125, 'Abbeville, South Carolina, US', datetime.date(2020, 12, 12)),\n",
       " (1131, 'Abbeville, South Carolina, US', datetime.date(2020, 12, 13)),\n",
       " (1140, 'Abbeville, South Carolina, US', datetime.date(2020, 12, 14)),\n",
       " (1148, 'Abbeville, South Carolina, US', datetime.date(2020, 12, 15)),\n",
       " (1154, 'Abbeville, South Carolina, US', datetime.date(2020, 12, 16)),\n",
       " (1157, 'Abbeville, South Carolina, US', datetime.date(2020, 12, 17)),\n",
       " (1169, 'Abbeville, South Carolina, US', datetime.date(2020, 12, 18)),\n",
       " (1186, 'Abbeville, South Carolina, US', datetime.date(2020, 12, 19)),\n",
       " (1206, 'Abbeville, South Carolina, US', datetime.date(2020, 12, 20)),\n",
       " (1212, 'Abbeville, South Carolina, US', datetime.date(2020, 12, 21)),\n",
       " (1218, 'Abbeville, South Carolina, US', datetime.date(2020, 12, 22)),\n",
       " (1227, 'Abbeville, South Carolina, US', datetime.date(2020, 12, 23)),\n",
       " (1239, 'Abbeville, South Carolina, US', datetime.date(2020, 12, 24)),\n",
       " (1239, 'Abbeville, South Carolina, US', datetime.date(2020, 12, 25)),\n",
       " (1252, 'Abbeville, South Carolina, US', datetime.date(2020, 12, 26)),\n",
       " (1274, 'Abbeville, South Carolina, US', datetime.date(2020, 12, 27)),\n",
       " (1278, 'Abbeville, South Carolina, US', datetime.date(2020, 12, 28)),\n",
       " (1288, 'Abbeville, South Carolina, US', datetime.date(2020, 12, 29)),\n",
       " (1289, 'Abbeville, South Carolina, US', datetime.date(2020, 12, 30)),\n",
       " (1300, 'Abbeville, South Carolina, US', datetime.date(2020, 12, 31)),\n",
       " (1300, 'Abbeville, South Carolina, US', datetime.date(2021, 1, 1)),\n",
       " (1307, 'Abbeville, South Carolina, US', datetime.date(2021, 1, 2)),\n",
       " (1320, 'Abbeville, South Carolina, US', datetime.date(2021, 1, 3)),\n",
       " (1327, 'Abbeville, South Carolina, US', datetime.date(2021, 1, 4)),\n",
       " (1331, 'Abbeville, South Carolina, US', datetime.date(2021, 1, 5)),\n",
       " (1342, 'Abbeville, South Carolina, US', datetime.date(2021, 1, 6)),\n",
       " (1354, 'Abbeville, South Carolina, US', datetime.date(2021, 1, 7)),\n",
       " (1373, 'Abbeville, South Carolina, US', datetime.date(2021, 1, 8)),\n",
       " (1386, 'Abbeville, South Carolina, US', datetime.date(2021, 1, 9)),\n",
       " (1409, 'Abbeville, South Carolina, US', datetime.date(2021, 1, 10)),\n",
       " (1415, 'Abbeville, South Carolina, US', datetime.date(2021, 1, 11)),\n",
       " (1417, 'Abbeville, South Carolina, US', datetime.date(2021, 1, 12)),\n",
       " (1440, 'Abbeville, South Carolina, US', datetime.date(2021, 1, 13)),\n",
       " (1469, 'Abbeville, South Carolina, US', datetime.date(2021, 1, 14)),\n",
       " (1482, 'Abbeville, South Carolina, US', datetime.date(2021, 1, 15)),\n",
       " (1498, 'Abbeville, South Carolina, US', datetime.date(2021, 1, 16)),\n",
       " (1522, 'Abbeville, South Carolina, US', datetime.date(2021, 1, 17)),\n",
       " (1525, 'Abbeville, South Carolina, US', datetime.date(2021, 1, 18)),\n",
       " (1537, 'Abbeville, South Carolina, US', datetime.date(2021, 1, 19)),\n",
       " (1608, 'Abbeville, South Carolina, US', datetime.date(2021, 1, 20)),\n",
       " (1648, 'Abbeville, South Carolina, US', datetime.date(2021, 1, 21)),\n",
       " (1663, 'Abbeville, South Carolina, US', datetime.date(2021, 1, 22)),\n",
       " (1710, 'Abbeville, South Carolina, US', datetime.date(2021, 1, 23)),\n",
       " (1735, 'Abbeville, South Carolina, US', datetime.date(2021, 1, 24)),\n",
       " (1746, 'Abbeville, South Carolina, US', datetime.date(2021, 1, 25)),\n",
       " (1761, 'Abbeville, South Carolina, US', datetime.date(2021, 1, 26)),\n",
       " (1770, 'Abbeville, South Carolina, US', datetime.date(2021, 1, 27)),\n",
       " (1788, 'Abbeville, South Carolina, US', datetime.date(2021, 1, 28)),\n",
       " (1811, 'Abbeville, South Carolina, US', datetime.date(2021, 1, 29)),\n",
       " (1859, 'Abbeville, South Carolina, US', datetime.date(2021, 1, 30)),\n",
       " (1872, 'Abbeville, South Carolina, US', datetime.date(2021, 1, 31)),\n",
       " (1877, 'Abbeville, South Carolina, US', datetime.date(2021, 2, 1)),\n",
       " (1886, 'Abbeville, South Carolina, US', datetime.date(2021, 2, 2)),\n",
       " (1904, 'Abbeville, South Carolina, US', datetime.date(2021, 2, 3)),\n",
       " (1918, 'Abbeville, South Carolina, US', datetime.date(2021, 2, 4)),\n",
       " (1979, 'Abbeville, South Carolina, US', datetime.date(2021, 2, 5)),\n",
       " (2003, 'Abbeville, South Carolina, US', datetime.date(2021, 2, 6)),\n",
       " (2020, 'Abbeville, South Carolina, US', datetime.date(2021, 2, 7)),\n",
       " (2033, 'Abbeville, South Carolina, US', datetime.date(2021, 2, 8)),\n",
       " (2039, 'Abbeville, South Carolina, US', datetime.date(2021, 2, 9)),\n",
       " (2056, 'Abbeville, South Carolina, US', datetime.date(2021, 2, 10)),\n",
       " (2077, 'Abbeville, South Carolina, US', datetime.date(2021, 2, 11)),\n",
       " (2099, 'Abbeville, South Carolina, US', datetime.date(2021, 2, 12)),\n",
       " (2129, 'Abbeville, South Carolina, US', datetime.date(2021, 2, 13)),\n",
       " (2151, 'Abbeville, South Carolina, US', datetime.date(2021, 2, 14)),\n",
       " (2153, 'Abbeville, South Carolina, US', datetime.date(2021, 2, 15)),\n",
       " (2158, 'Abbeville, South Carolina, US', datetime.date(2021, 2, 16)),\n",
       " (2164, 'Abbeville, South Carolina, US', datetime.date(2021, 2, 17)),\n",
       " (2180, 'Abbeville, South Carolina, US', datetime.date(2021, 2, 18)),\n",
       " (2193, 'Abbeville, South Carolina, US', datetime.date(2021, 2, 19)),\n",
       " (2208, 'Abbeville, South Carolina, US', datetime.date(2021, 2, 20)),\n",
       " (2218, 'Abbeville, South Carolina, US', datetime.date(2021, 2, 21)),\n",
       " (2225, 'Abbeville, South Carolina, US', datetime.date(2021, 2, 22)),\n",
       " (2226, 'Abbeville, South Carolina, US', datetime.date(2021, 2, 23)),\n",
       " (2234, 'Abbeville, South Carolina, US', datetime.date(2021, 2, 24)),\n",
       " (2242, 'Abbeville, South Carolina, US', datetime.date(2021, 2, 25)),\n",
       " (2251, 'Abbeville, South Carolina, US', datetime.date(2021, 2, 26)),\n",
       " (2259, 'Abbeville, South Carolina, US', datetime.date(2021, 2, 27)),\n",
       " (2270, 'Abbeville, South Carolina, US', datetime.date(2021, 2, 28)),\n",
       " (2271, 'Abbeville, South Carolina, US', datetime.date(2021, 3, 1)),\n",
       " (2272, 'Abbeville, South Carolina, US', datetime.date(2021, 3, 2)),\n",
       " (2278, 'Abbeville, South Carolina, US', datetime.date(2021, 3, 3)),\n",
       " (2287, 'Abbeville, South Carolina, US', datetime.date(2021, 3, 4)),\n",
       " (2302, 'Abbeville, South Carolina, US', datetime.date(2021, 3, 5)),\n",
       " (2315, 'Abbeville, South Carolina, US', datetime.date(2021, 3, 6)),\n",
       " (2319, 'Abbeville, South Carolina, US', datetime.date(2021, 3, 7)),\n",
       " (2320, 'Abbeville, South Carolina, US', datetime.date(2021, 3, 8)),\n",
       " (2321, 'Abbeville, South Carolina, US', datetime.date(2021, 3, 9)),\n",
       " (2327, 'Abbeville, South Carolina, US', datetime.date(2021, 3, 10)),\n",
       " (2336, 'Abbeville, South Carolina, US', datetime.date(2021, 3, 11)),\n",
       " (2343, 'Abbeville, South Carolina, US', datetime.date(2021, 3, 12)),\n",
       " (2362, 'Abbeville, South Carolina, US', datetime.date(2021, 3, 13)),\n",
       " (2365, 'Abbeville, South Carolina, US', datetime.date(2021, 3, 14)),\n",
       " (2368, 'Abbeville, South Carolina, US', datetime.date(2021, 3, 15)),\n",
       " (2373, 'Abbeville, South Carolina, US', datetime.date(2021, 3, 16)),\n",
       " (2382, 'Abbeville, South Carolina, US', datetime.date(2021, 3, 17)),\n",
       " (2384, 'Abbeville, South Carolina, US', datetime.date(2021, 3, 18)),\n",
       " (2388, 'Abbeville, South Carolina, US', datetime.date(2021, 3, 19)),\n",
       " (2395, 'Abbeville, South Carolina, US', datetime.date(2021, 3, 20)),\n",
       " (2404, 'Abbeville, South Carolina, US', datetime.date(2021, 3, 21)),\n",
       " (2410, 'Abbeville, South Carolina, US', datetime.date(2021, 3, 22)),\n",
       " (2412, 'Abbeville, South Carolina, US', datetime.date(2021, 3, 23)),\n",
       " (2416, 'Abbeville, South Carolina, US', datetime.date(2021, 3, 24)),\n",
       " (2440, 'Abbeville, South Carolina, US', datetime.date(2021, 3, 25)),\n",
       " (2443, 'Abbeville, South Carolina, US', datetime.date(2021, 3, 26)),\n",
       " (2454, 'Abbeville, South Carolina, US', datetime.date(2021, 3, 27)),\n",
       " (2455, 'Abbeville, South Carolina, US', datetime.date(2021, 3, 28)),\n",
       " (2463, 'Abbeville, South Carolina, US', datetime.date(2021, 3, 29)),\n",
       " (2463, 'Abbeville, South Carolina, US', datetime.date(2021, 3, 30)),\n",
       " (2464, 'Abbeville, South Carolina, US', datetime.date(2021, 3, 31)),\n",
       " (2467, 'Abbeville, South Carolina, US', datetime.date(2021, 4, 1)),\n",
       " (2473, 'Abbeville, South Carolina, US', datetime.date(2021, 4, 2)),\n",
       " (2485, 'Abbeville, South Carolina, US', datetime.date(2021, 4, 3)),\n",
       " (2485, 'Abbeville, South Carolina, US', datetime.date(2021, 4, 4)),\n",
       " (2497, 'Abbeville, South Carolina, US', datetime.date(2021, 4, 5)),\n",
       " (2505, 'Abbeville, South Carolina, US', datetime.date(2021, 4, 6)),\n",
       " (2519, 'Abbeville, South Carolina, US', datetime.date(2021, 4, 7)),\n",
       " (2523, 'Abbeville, South Carolina, US', datetime.date(2021, 4, 8)),\n",
       " (2532, 'Abbeville, South Carolina, US', datetime.date(2021, 4, 9)),\n",
       " (2539, 'Abbeville, South Carolina, US', datetime.date(2021, 4, 10)),\n",
       " (2540, 'Abbeville, South Carolina, US', datetime.date(2021, 4, 11)),\n",
       " (2542, 'Abbeville, South Carolina, US', datetime.date(2021, 4, 12)),\n",
       " (2544, 'Abbeville, South Carolina, US', datetime.date(2021, 4, 13)),\n",
       " (2548, 'Abbeville, South Carolina, US', datetime.date(2021, 4, 14)),\n",
       " (2549, 'Abbeville, South Carolina, US', datetime.date(2021, 4, 15)),\n",
       " (2557, 'Abbeville, South Carolina, US', datetime.date(2021, 4, 16)),\n",
       " (2561, 'Abbeville, South Carolina, US', datetime.date(2021, 4, 17)),\n",
       " (2565, 'Abbeville, South Carolina, US', datetime.date(2021, 4, 18)),\n",
       " (2568, 'Abbeville, South Carolina, US', datetime.date(2021, 4, 19)),\n",
       " (2568, 'Abbeville, South Carolina, US', datetime.date(2021, 4, 20)),\n",
       " (2573, 'Abbeville, South Carolina, US', datetime.date(2021, 4, 21)),\n",
       " (2574, 'Abbeville, South Carolina, US', datetime.date(2021, 4, 22)),\n",
       " (2576, 'Abbeville, South Carolina, US', datetime.date(2021, 4, 23)),\n",
       " (2578, 'Abbeville, South Carolina, US', datetime.date(2021, 4, 24)),\n",
       " (2581, 'Abbeville, South Carolina, US', datetime.date(2021, 4, 25)),\n",
       " (2582, 'Abbeville, South Carolina, US', datetime.date(2021, 4, 26)),\n",
       " (2585, 'Abbeville, South Carolina, US', datetime.date(2021, 4, 27)),\n",
       " (2589, 'Abbeville, South Carolina, US', datetime.date(2021, 4, 28)),\n",
       " (2590, 'Abbeville, South Carolina, US', datetime.date(2021, 4, 29)),\n",
       " (2598, 'Abbeville, South Carolina, US', datetime.date(2021, 4, 30)),\n",
       " (2600, 'Abbeville, South Carolina, US', datetime.date(2021, 5, 1)),\n",
       " (0, 'Acadia, Louisiana, US', datetime.date(2020, 1, 22)),\n",
       " (0, 'Acadia, Louisiana, US', datetime.date(2020, 1, 23)),\n",
       " (0, 'Acadia, Louisiana, US', datetime.date(2020, 1, 24)),\n",
       " (0, 'Acadia, Louisiana, US', datetime.date(2020, 1, 25)),\n",
       " (0, 'Acadia, Louisiana, US', datetime.date(2020, 1, 26)),\n",
       " (0, 'Acadia, Louisiana, US', datetime.date(2020, 1, 27)),\n",
       " (0, 'Acadia, Louisiana, US', datetime.date(2020, 1, 28)),\n",
       " (0, 'Acadia, Louisiana, US', datetime.date(2020, 1, 29)),\n",
       " (0, 'Acadia, Louisiana, US', datetime.date(2020, 1, 30)),\n",
       " (0, 'Acadia, Louisiana, US', datetime.date(2020, 1, 31)),\n",
       " (0, 'Acadia, Louisiana, US', datetime.date(2020, 2, 1)),\n",
       " (0, 'Acadia, Louisiana, US', datetime.date(2020, 2, 2)),\n",
       " (0, 'Acadia, Louisiana, US', datetime.date(2020, 2, 3)),\n",
       " (0, 'Acadia, Louisiana, US', datetime.date(2020, 2, 4)),\n",
       " (0, 'Acadia, Louisiana, US', datetime.date(2020, 2, 5)),\n",
       " (0, 'Acadia, Louisiana, US', datetime.date(2020, 2, 6)),\n",
       " (0, 'Acadia, Louisiana, US', datetime.date(2020, 2, 7)),\n",
       " (0, 'Acadia, Louisiana, US', datetime.date(2020, 2, 8)),\n",
       " (0, 'Acadia, Louisiana, US', datetime.date(2020, 2, 9)),\n",
       " (0, 'Acadia, Louisiana, US', datetime.date(2020, 2, 10)),\n",
       " (0, 'Acadia, Louisiana, US', datetime.date(2020, 2, 11)),\n",
       " (0, 'Acadia, Louisiana, US', datetime.date(2020, 2, 12)),\n",
       " (0, 'Acadia, Louisiana, US', datetime.date(2020, 2, 13)),\n",
       " (0, 'Acadia, Louisiana, US', datetime.date(2020, 2, 14)),\n",
       " (0, 'Acadia, Louisiana, US', datetime.date(2020, 2, 15)),\n",
       " (0, 'Acadia, Louisiana, US', datetime.date(2020, 2, 16)),\n",
       " (0, 'Acadia, Louisiana, US', datetime.date(2020, 2, 17)),\n",
       " (0, 'Acadia, Louisiana, US', datetime.date(2020, 2, 18)),\n",
       " (0, 'Acadia, Louisiana, US', datetime.date(2020, 2, 19)),\n",
       " (0, 'Acadia, Louisiana, US', datetime.date(2020, 2, 20)),\n",
       " (0, 'Acadia, Louisiana, US', datetime.date(2020, 2, 21)),\n",
       " (0, 'Acadia, Louisiana, US', datetime.date(2020, 2, 22)),\n",
       " (0, 'Acadia, Louisiana, US', datetime.date(2020, 2, 23)),\n",
       " (0, 'Acadia, Louisiana, US', datetime.date(2020, 2, 24)),\n",
       " (0, 'Acadia, Louisiana, US', datetime.date(2020, 2, 25)),\n",
       " (0, 'Acadia, Louisiana, US', datetime.date(2020, 2, 26)),\n",
       " (0, 'Acadia, Louisiana, US', datetime.date(2020, 2, 27)),\n",
       " (0, 'Acadia, Louisiana, US', datetime.date(2020, 2, 28)),\n",
       " (0, 'Acadia, Louisiana, US', datetime.date(2020, 2, 29)),\n",
       " (0, 'Acadia, Louisiana, US', datetime.date(2020, 3, 1)),\n",
       " (0, 'Acadia, Louisiana, US', datetime.date(2020, 3, 2)),\n",
       " (0, 'Acadia, Louisiana, US', datetime.date(2020, 3, 3)),\n",
       " (0, 'Acadia, Louisiana, US', datetime.date(2020, 3, 4)),\n",
       " (0, 'Acadia, Louisiana, US', datetime.date(2020, 3, 5)),\n",
       " (0, 'Acadia, Louisiana, US', datetime.date(2020, 3, 6)),\n",
       " (0, 'Acadia, Louisiana, US', datetime.date(2020, 3, 7)),\n",
       " (0, 'Acadia, Louisiana, US', datetime.date(2020, 3, 8)),\n",
       " (0, 'Acadia, Louisiana, US', datetime.date(2020, 3, 9)),\n",
       " (0, 'Acadia, Louisiana, US', datetime.date(2020, 3, 10)),\n",
       " (0, 'Acadia, Louisiana, US', datetime.date(2020, 3, 11)),\n",
       " (0, 'Acadia, Louisiana, US', datetime.date(2020, 3, 12)),\n",
       " (0, 'Acadia, Louisiana, US', datetime.date(2020, 3, 13)),\n",
       " (0, 'Acadia, Louisiana, US', datetime.date(2020, 3, 14)),\n",
       " (0, 'Acadia, Louisiana, US', datetime.date(2020, 3, 15)),\n",
       " (0, 'Acadia, Louisiana, US', datetime.date(2020, 3, 16)),\n",
       " (0, 'Acadia, Louisiana, US', datetime.date(2020, 3, 17)),\n",
       " (0, 'Acadia, Louisiana, US', datetime.date(2020, 3, 18)),\n",
       " (0, 'Acadia, Louisiana, US', datetime.date(2020, 3, 19)),\n",
       " (0, 'Acadia, Louisiana, US', datetime.date(2020, 3, 20)),\n",
       " (0, 'Acadia, Louisiana, US', datetime.date(2020, 3, 21)),\n",
       " (0, 'Acadia, Louisiana, US', datetime.date(2020, 3, 22)),\n",
       " (1, 'Acadia, Louisiana, US', datetime.date(2020, 3, 23)),\n",
       " (2, 'Acadia, Louisiana, US', datetime.date(2020, 3, 24)),\n",
       " (2, 'Acadia, Louisiana, US', datetime.date(2020, 3, 25)),\n",
       " (3, 'Acadia, Louisiana, US', datetime.date(2020, 3, 26)),\n",
       " (9, 'Acadia, Louisiana, US', datetime.date(2020, 3, 27)),\n",
       " (10, 'Acadia, Louisiana, US', datetime.date(2020, 3, 28)),\n",
       " (10, 'Acadia, Louisiana, US', datetime.date(2020, 3, 29)),\n",
       " (12, 'Acadia, Louisiana, US', datetime.date(2020, 3, 30)),\n",
       " (40, 'Acadia, Louisiana, US', datetime.date(2020, 3, 31)),\n",
       " (48, 'Acadia, Louisiana, US', datetime.date(2020, 4, 1)),\n",
       " (62, 'Acadia, Louisiana, US', datetime.date(2020, 4, 2)),\n",
       " (73, 'Acadia, Louisiana, US', datetime.date(2020, 4, 3)),\n",
       " (67, 'Acadia, Louisiana, US', datetime.date(2020, 4, 4)),\n",
       " (77, 'Acadia, Louisiana, US', datetime.date(2020, 4, 5)),\n",
       " (81, 'Acadia, Louisiana, US', datetime.date(2020, 4, 6)),\n",
       " (84, 'Acadia, Louisiana, US', datetime.date(2020, 4, 7)),\n",
       " (88, 'Acadia, Louisiana, US', datetime.date(2020, 4, 8)),\n",
       " (92, 'Acadia, Louisiana, US', datetime.date(2020, 4, 9)),\n",
       " (98, 'Acadia, Louisiana, US', datetime.date(2020, 4, 10)),\n",
       " (102, 'Acadia, Louisiana, US', datetime.date(2020, 4, 11)),\n",
       " (104, 'Acadia, Louisiana, US', datetime.date(2020, 4, 12)),\n",
       " (106, 'Acadia, Louisiana, US', datetime.date(2020, 4, 13)),\n",
       " (109, 'Acadia, Louisiana, US', datetime.date(2020, 4, 14)),\n",
       " (110, 'Acadia, Louisiana, US', datetime.date(2020, 4, 15)),\n",
       " (114, 'Acadia, Louisiana, US', datetime.date(2020, 4, 16)),\n",
       " (116, 'Acadia, Louisiana, US', datetime.date(2020, 4, 17)),\n",
       " (117, 'Acadia, Louisiana, US', datetime.date(2020, 4, 18)),\n",
       " (117, 'Acadia, Louisiana, US', datetime.date(2020, 4, 19)),\n",
       " (121, 'Acadia, Louisiana, US', datetime.date(2020, 4, 20)),\n",
       " (121, 'Acadia, Louisiana, US', datetime.date(2020, 4, 21)),\n",
       " (124, 'Acadia, Louisiana, US', datetime.date(2020, 4, 22)),\n",
       " (124, 'Acadia, Louisiana, US', datetime.date(2020, 4, 23)),\n",
       " (136, 'Acadia, Louisiana, US', datetime.date(2020, 4, 24)),\n",
       " (137, 'Acadia, Louisiana, US', datetime.date(2020, 4, 25)),\n",
       " (137, 'Acadia, Louisiana, US', datetime.date(2020, 4, 26)),\n",
       " (139, 'Acadia, Louisiana, US', datetime.date(2020, 4, 27)),\n",
       " (139, 'Acadia, Louisiana, US', datetime.date(2020, 4, 28)),\n",
       " (139, 'Acadia, Louisiana, US', datetime.date(2020, 4, 29)),\n",
       " (140, 'Acadia, Louisiana, US', datetime.date(2020, 4, 30)),\n",
       " (143, 'Acadia, Louisiana, US', datetime.date(2020, 5, 1)),\n",
       " (143, 'Acadia, Louisiana, US', datetime.date(2020, 5, 2)),\n",
       " (144, 'Acadia, Louisiana, US', datetime.date(2020, 5, 3)),\n",
       " (144, 'Acadia, Louisiana, US', datetime.date(2020, 5, 4)),\n",
       " (146, 'Acadia, Louisiana, US', datetime.date(2020, 5, 5)),\n",
       " (150, 'Acadia, Louisiana, US', datetime.date(2020, 5, 6)),\n",
       " (153, 'Acadia, Louisiana, US', datetime.date(2020, 5, 7)),\n",
       " (153, 'Acadia, Louisiana, US', datetime.date(2020, 5, 8)),\n",
       " (162, 'Acadia, Louisiana, US', datetime.date(2020, 5, 9)),\n",
       " (159, 'Acadia, Louisiana, US', datetime.date(2020, 5, 10)),\n",
       " (163, 'Acadia, Louisiana, US', datetime.date(2020, 5, 11)),\n",
       " (163, 'Acadia, Louisiana, US', datetime.date(2020, 5, 12)),\n",
       " (162, 'Acadia, Louisiana, US', datetime.date(2020, 5, 13)),\n",
       " (170, 'Acadia, Louisiana, US', datetime.date(2020, 5, 14)),\n",
       " (200, 'Acadia, Louisiana, US', datetime.date(2020, 5, 15)),\n",
       " (203, 'Acadia, Louisiana, US', datetime.date(2020, 5, 16)),\n",
       " (210, 'Acadia, Louisiana, US', datetime.date(2020, 5, 17)),\n",
       " (269, 'Acadia, Louisiana, US', datetime.date(2020, 5, 18)),\n",
       " (274, 'Acadia, Louisiana, US', datetime.date(2020, 5, 19)),\n",
       " (274, 'Acadia, Louisiana, US', datetime.date(2020, 5, 20)),\n",
       " (284, 'Acadia, Louisiana, US', datetime.date(2020, 5, 21)),\n",
       " (304, 'Acadia, Louisiana, US', datetime.date(2020, 5, 22)),\n",
       " (304, 'Acadia, Louisiana, US', datetime.date(2020, 5, 23)),\n",
       " (309, 'Acadia, Louisiana, US', datetime.date(2020, 5, 24)),\n",
       " (317, 'Acadia, Louisiana, US', datetime.date(2020, 5, 25)),\n",
       " (413, 'Acadia, Louisiana, US', datetime.date(2020, 5, 26)),\n",
       " (419, 'Acadia, Louisiana, US', datetime.date(2020, 5, 27)),\n",
       " (423, 'Acadia, Louisiana, US', datetime.date(2020, 5, 28)),\n",
       " (424, 'Acadia, Louisiana, US', datetime.date(2020, 5, 29)),\n",
       " (435, 'Acadia, Louisiana, US', datetime.date(2020, 5, 30)),\n",
       " (441, 'Acadia, Louisiana, US', datetime.date(2020, 5, 31)),\n",
       " (445, 'Acadia, Louisiana, US', datetime.date(2020, 6, 1)),\n",
       " (452, 'Acadia, Louisiana, US', datetime.date(2020, 6, 2)),\n",
       " (472, 'Acadia, Louisiana, US', datetime.date(2020, 6, 3)),\n",
       " (488, 'Acadia, Louisiana, US', datetime.date(2020, 6, 4)),\n",
       " (493, 'Acadia, Louisiana, US', datetime.date(2020, 6, 5)),\n",
       " (527, 'Acadia, Louisiana, US', datetime.date(2020, 6, 6)),\n",
       " (530, 'Acadia, Louisiana, US', datetime.date(2020, 6, 7)),\n",
       " (542, 'Acadia, Louisiana, US', datetime.date(2020, 6, 8)),\n",
       " (546, 'Acadia, Louisiana, US', datetime.date(2020, 6, 9)),\n",
       " (549, 'Acadia, Louisiana, US', datetime.date(2020, 6, 10)),\n",
       " (560, 'Acadia, Louisiana, US', datetime.date(2020, 6, 11)),\n",
       " (566, 'Acadia, Louisiana, US', datetime.date(2020, 6, 12)),\n",
       " (608, 'Acadia, Louisiana, US', datetime.date(2020, 6, 13)),\n",
       " (614, 'Acadia, Louisiana, US', datetime.date(2020, 6, 14)),\n",
       " (628, 'Acadia, Louisiana, US', datetime.date(2020, 6, 15)),\n",
       " (636, 'Acadia, Louisiana, US', datetime.date(2020, 6, 16)),\n",
       " (657, 'Acadia, Louisiana, US', datetime.date(2020, 6, 17)),\n",
       " (657, 'Acadia, Louisiana, US', datetime.date(2020, 6, 18)),\n",
       " (671, 'Acadia, Louisiana, US', datetime.date(2020, 6, 19)),\n",
       " (678, 'Acadia, Louisiana, US', datetime.date(2020, 6, 20)),\n",
       " (686, 'Acadia, Louisiana, US', datetime.date(2020, 6, 21)),\n",
       " (703, 'Acadia, Louisiana, US', datetime.date(2020, 6, 22)),\n",
       " (739, 'Acadia, Louisiana, US', datetime.date(2020, 6, 23)),\n",
       " (761, 'Acadia, Louisiana, US', datetime.date(2020, 6, 24)),\n",
       " (780, 'Acadia, Louisiana, US', datetime.date(2020, 6, 25)),\n",
       " (819, 'Acadia, Louisiana, US', datetime.date(2020, 6, 26)),\n",
       " (819, 'Acadia, Louisiana, US', datetime.date(2020, 6, 27)),\n",
       " (848, 'Acadia, Louisiana, US', datetime.date(2020, 6, 28)),\n",
       " (887, 'Acadia, Louisiana, US', datetime.date(2020, 6, 29)),\n",
       " (914, 'Acadia, Louisiana, US', datetime.date(2020, 6, 30)),\n",
       " (956, 'Acadia, Louisiana, US', datetime.date(2020, 7, 1)),\n",
       " (982, 'Acadia, Louisiana, US', datetime.date(2020, 7, 2)),\n",
       " (1007, 'Acadia, Louisiana, US', datetime.date(2020, 7, 3)),\n",
       " (1007, 'Acadia, Louisiana, US', datetime.date(2020, 7, 4)),\n",
       " (1056, 'Acadia, Louisiana, US', datetime.date(2020, 7, 5)),\n",
       " (1084, 'Acadia, Louisiana, US', datetime.date(2020, 7, 6)),\n",
       " (1111, 'Acadia, Louisiana, US', datetime.date(2020, 7, 7)),\n",
       " (1138, 'Acadia, Louisiana, US', datetime.date(2020, 7, 8)),\n",
       " (1210, 'Acadia, Louisiana, US', datetime.date(2020, 7, 9)),\n",
       " (1276, 'Acadia, Louisiana, US', datetime.date(2020, 7, 10)),\n",
       " (1342, 'Acadia, Louisiana, US', datetime.date(2020, 7, 11)),\n",
       " (1384, 'Acadia, Louisiana, US', datetime.date(2020, 7, 12)),\n",
       " (1428, 'Acadia, Louisiana, US', datetime.date(2020, 7, 13)),\n",
       " (1499, 'Acadia, Louisiana, US', datetime.date(2020, 7, 14)),\n",
       " (1556, 'Acadia, Louisiana, US', datetime.date(2020, 7, 15)),\n",
       " (1622, 'Acadia, Louisiana, US', datetime.date(2020, 7, 16)),\n",
       " (1658, 'Acadia, Louisiana, US', datetime.date(2020, 7, 17)),\n",
       " (1658, 'Acadia, Louisiana, US', datetime.date(2020, 7, 18)),\n",
       " (1747, 'Acadia, Louisiana, US', datetime.date(2020, 7, 19)),\n",
       " (1897, 'Acadia, Louisiana, US', datetime.date(2020, 7, 20)),\n",
       " (1973, 'Acadia, Louisiana, US', datetime.date(2020, 7, 21)),\n",
       " (2070, 'Acadia, Louisiana, US', datetime.date(2020, 7, 22)),\n",
       " (2145, 'Acadia, Louisiana, US', datetime.date(2020, 7, 23)),\n",
       " (2173, 'Acadia, Louisiana, US', datetime.date(2020, 7, 24)),\n",
       " (2173, 'Acadia, Louisiana, US', datetime.date(2020, 7, 25)),\n",
       " (2235, 'Acadia, Louisiana, US', datetime.date(2020, 7, 26)),\n",
       " (2278, 'Acadia, Louisiana, US', datetime.date(2020, 7, 27)),\n",
       " (2294, 'Acadia, Louisiana, US', datetime.date(2020, 7, 28)),\n",
       " (2336, 'Acadia, Louisiana, US', datetime.date(2020, 7, 29)),\n",
       " (2370, 'Acadia, Louisiana, US', datetime.date(2020, 7, 30)),\n",
       " (2402, 'Acadia, Louisiana, US', datetime.date(2020, 7, 31)),\n",
       " (2402, 'Acadia, Louisiana, US', datetime.date(2020, 8, 1)),\n",
       " (2452, 'Acadia, Louisiana, US', datetime.date(2020, 8, 2)),\n",
       " (2480, 'Acadia, Louisiana, US', datetime.date(2020, 8, 3)),\n",
       " (2590, 'Acadia, Louisiana, US', datetime.date(2020, 8, 4)),\n",
       " (2613, 'Acadia, Louisiana, US', datetime.date(2020, 8, 5)),\n",
       " (2634, 'Acadia, Louisiana, US', datetime.date(2020, 8, 6)),\n",
       " (2649, 'Acadia, Louisiana, US', datetime.date(2020, 8, 7)),\n",
       " (2649, 'Acadia, Louisiana, US', datetime.date(2020, 8, 8)),\n",
       " (2681, 'Acadia, Louisiana, US', datetime.date(2020, 8, 9)),\n",
       " (2686, 'Acadia, Louisiana, US', datetime.date(2020, 8, 10)),\n",
       " (2719, 'Acadia, Louisiana, US', datetime.date(2020, 8, 11)),\n",
       " (2739, 'Acadia, Louisiana, US', datetime.date(2020, 8, 12)),\n",
       " (2761, 'Acadia, Louisiana, US', datetime.date(2020, 8, 13)),\n",
       " (2773, 'Acadia, Louisiana, US', datetime.date(2020, 8, 14)),\n",
       " (2773, 'Acadia, Louisiana, US', datetime.date(2020, 8, 15)),\n",
       " (2786, 'Acadia, Louisiana, US', datetime.date(2020, 8, 16)),\n",
       " (2791, 'Acadia, Louisiana, US', datetime.date(2020, 8, 17)),\n",
       " (2799, 'Acadia, Louisiana, US', datetime.date(2020, 8, 18)),\n",
       " (2803, 'Acadia, Louisiana, US', datetime.date(2020, 8, 19)),\n",
       " (2823, 'Acadia, Louisiana, US', datetime.date(2020, 8, 20)),\n",
       " (2827, 'Acadia, Louisiana, US', datetime.date(2020, 8, 21)),\n",
       " (2827, 'Acadia, Louisiana, US', datetime.date(2020, 8, 22)),\n",
       " (2835, 'Acadia, Louisiana, US', datetime.date(2020, 8, 23)),\n",
       " (2841, 'Acadia, Louisiana, US', datetime.date(2020, 8, 24)),\n",
       " (2869, 'Acadia, Louisiana, US', datetime.date(2020, 8, 25)),\n",
       " (2868, 'Acadia, Louisiana, US', datetime.date(2020, 8, 26)),\n",
       " (2874, 'Acadia, Louisiana, US', datetime.date(2020, 8, 27)),\n",
       " (2892, 'Acadia, Louisiana, US', datetime.date(2020, 8, 28)),\n",
       " (2892, 'Acadia, Louisiana, US', datetime.date(2020, 8, 29)),\n",
       " (2901, 'Acadia, Louisiana, US', datetime.date(2020, 8, 30)),\n",
       " (2902, 'Acadia, Louisiana, US', datetime.date(2020, 8, 31)),\n",
       " (2910, 'Acadia, Louisiana, US', datetime.date(2020, 9, 1)),\n",
       " (2914, 'Acadia, Louisiana, US', datetime.date(2020, 9, 2)),\n",
       " (2917, 'Acadia, Louisiana, US', datetime.date(2020, 9, 3)),\n",
       " (2922, 'Acadia, Louisiana, US', datetime.date(2020, 9, 4)),\n",
       " (2922, 'Acadia, Louisiana, US', datetime.date(2020, 9, 5)),\n",
       " (2938, 'Acadia, Louisiana, US', datetime.date(2020, 9, 6)),\n",
       " (2947, 'Acadia, Louisiana, US', datetime.date(2020, 9, 7)),\n",
       " (2935, 'Acadia, Louisiana, US', datetime.date(2020, 9, 8)),\n",
       " (2970, 'Acadia, Louisiana, US', datetime.date(2020, 9, 9)),\n",
       " (2971, 'Acadia, Louisiana, US', datetime.date(2020, 9, 10)),\n",
       " (2981, 'Acadia, Louisiana, US', datetime.date(2020, 9, 11)),\n",
       " (2981, 'Acadia, Louisiana, US', datetime.date(2020, 9, 12)),\n",
       " (2983, 'Acadia, Louisiana, US', datetime.date(2020, 9, 13)),\n",
       " (2985, 'Acadia, Louisiana, US', datetime.date(2020, 9, 14)),\n",
       " (2991, 'Acadia, Louisiana, US', datetime.date(2020, 9, 15)),\n",
       " (2995, 'Acadia, Louisiana, US', datetime.date(2020, 9, 16)),\n",
       " (3001, 'Acadia, Louisiana, US', datetime.date(2020, 9, 17)),\n",
       " (3013, 'Acadia, Louisiana, US', datetime.date(2020, 9, 18)),\n",
       " (3013, 'Acadia, Louisiana, US', datetime.date(2020, 9, 19)),\n",
       " (3016, 'Acadia, Louisiana, US', datetime.date(2020, 9, 20)),\n",
       " (3025, 'Acadia, Louisiana, US', datetime.date(2020, 9, 21)),\n",
       " (3026, 'Acadia, Louisiana, US', datetime.date(2020, 9, 22)),\n",
       " (3029, 'Acadia, Louisiana, US', datetime.date(2020, 9, 23)),\n",
       " (3031, 'Acadia, Louisiana, US', datetime.date(2020, 9, 24)),\n",
       " (3042, 'Acadia, Louisiana, US', datetime.date(2020, 9, 25)),\n",
       " (3042, 'Acadia, Louisiana, US', datetime.date(2020, 9, 26)),\n",
       " (3059, 'Acadia, Louisiana, US', datetime.date(2020, 9, 27)),\n",
       " (3056, 'Acadia, Louisiana, US', datetime.date(2020, 9, 28)),\n",
       " (3062, 'Acadia, Louisiana, US', datetime.date(2020, 9, 29)),\n",
       " (3068, 'Acadia, Louisiana, US', datetime.date(2020, 9, 30)),\n",
       " (3065, 'Acadia, Louisiana, US', datetime.date(2020, 10, 1)),\n",
       " (3081, 'Acadia, Louisiana, US', datetime.date(2020, 10, 2)),\n",
       " (3081, 'Acadia, Louisiana, US', datetime.date(2020, 10, 3)),\n",
       " (3091, 'Acadia, Louisiana, US', datetime.date(2020, 10, 4)),\n",
       " (3092, 'Acadia, Louisiana, US', datetime.date(2020, 10, 5)),\n",
       " (3099, 'Acadia, Louisiana, US', datetime.date(2020, 10, 6)),\n",
       " (3103, 'Acadia, Louisiana, US', datetime.date(2020, 10, 7)),\n",
       " (3113, 'Acadia, Louisiana, US', datetime.date(2020, 10, 8)),\n",
       " (3114, 'Acadia, Louisiana, US', datetime.date(2020, 10, 9)),\n",
       " (3114, 'Acadia, Louisiana, US', datetime.date(2020, 10, 10)),\n",
       " (3123, 'Acadia, Louisiana, US', datetime.date(2020, 10, 11)),\n",
       " (3125, 'Acadia, Louisiana, US', datetime.date(2020, 10, 12)),\n",
       " (3127, 'Acadia, Louisiana, US', datetime.date(2020, 10, 13)),\n",
       " (3133, 'Acadia, Louisiana, US', datetime.date(2020, 10, 14)),\n",
       " (3154, 'Acadia, Louisiana, US', datetime.date(2020, 10, 15)),\n",
       " (3152, 'Acadia, Louisiana, US', datetime.date(2020, 10, 16)),\n",
       " (3152, 'Acadia, Louisiana, US', datetime.date(2020, 10, 17)),\n",
       " (3152, 'Acadia, Louisiana, US', datetime.date(2020, 10, 18)),\n",
       " (3162, 'Acadia, Louisiana, US', datetime.date(2020, 10, 19)),\n",
       " (3182, 'Acadia, Louisiana, US', datetime.date(2020, 10, 20)),\n",
       " (3191, 'Acadia, Louisiana, US', datetime.date(2020, 10, 21)),\n",
       " (3212, 'Acadia, Louisiana, US', datetime.date(2020, 10, 22)),\n",
       " (3208, 'Acadia, Louisiana, US', datetime.date(2020, 10, 23)),\n",
       " (3208, 'Acadia, Louisiana, US', datetime.date(2020, 10, 24)),\n",
       " (3221, 'Acadia, Louisiana, US', datetime.date(2020, 10, 25)),\n",
       " (3219, 'Acadia, Louisiana, US', datetime.date(2020, 10, 26)),\n",
       " (3240, 'Acadia, Louisiana, US', datetime.date(2020, 10, 27)),\n",
       " (3248, 'Acadia, Louisiana, US', datetime.date(2020, 10, 28)),\n",
       " (3259, 'Acadia, Louisiana, US', datetime.date(2020, 10, 29)),\n",
       " (3270, 'Acadia, Louisiana, US', datetime.date(2020, 10, 30)),\n",
       " (3270, 'Acadia, Louisiana, US', datetime.date(2020, 10, 31)),\n",
       " (3284, 'Acadia, Louisiana, US', datetime.date(2020, 11, 1)),\n",
       " (3285, 'Acadia, Louisiana, US', datetime.date(2020, 11, 2)),\n",
       " (3394, 'Acadia, Louisiana, US', datetime.date(2020, 11, 3)),\n",
       " (3398, 'Acadia, Louisiana, US', datetime.date(2020, 11, 4)),\n",
       " (3418, 'Acadia, Louisiana, US', datetime.date(2020, 11, 5)),\n",
       " (3436, 'Acadia, Louisiana, US', datetime.date(2020, 11, 6)),\n",
       " (3436, 'Acadia, Louisiana, US', datetime.date(2020, 11, 7)),\n",
       " (3475, 'Acadia, Louisiana, US', datetime.date(2020, 11, 8)),\n",
       " (3477, 'Acadia, Louisiana, US', datetime.date(2020, 11, 9)),\n",
       " (3496, 'Acadia, Louisiana, US', datetime.date(2020, 11, 10)),\n",
       " (3496, 'Acadia, Louisiana, US', datetime.date(2020, 11, 11)),\n",
       " (3540, 'Acadia, Louisiana, US', datetime.date(2020, 11, 12)),\n",
       " (3591, 'Acadia, Louisiana, US', datetime.date(2020, 11, 13)),\n",
       " (3591, 'Acadia, Louisiana, US', datetime.date(2020, 11, 14)),\n",
       " (3619, 'Acadia, Louisiana, US', datetime.date(2020, 11, 15)),\n",
       " (3647, 'Acadia, Louisiana, US', datetime.date(2020, 11, 16)),\n",
       " (3699, 'Acadia, Louisiana, US', datetime.date(2020, 11, 17)),\n",
       " (3712, 'Acadia, Louisiana, US', datetime.date(2020, 11, 18)),\n",
       " (3746, 'Acadia, Louisiana, US', datetime.date(2020, 11, 19)),\n",
       " (3790, 'Acadia, Louisiana, US', datetime.date(2020, 11, 20)),\n",
       " (3790, 'Acadia, Louisiana, US', datetime.date(2020, 11, 21)),\n",
       " (3853, 'Acadia, Louisiana, US', datetime.date(2020, 11, 22)),\n",
       " (3876, 'Acadia, Louisiana, US', datetime.date(2020, 11, 23)),\n",
       " (3984, 'Acadia, Louisiana, US', datetime.date(2020, 11, 24)),\n",
       " (4000, 'Acadia, Louisiana, US', datetime.date(2020, 11, 25)),\n",
       " (4000, 'Acadia, Louisiana, US', datetime.date(2020, 11, 26)),\n",
       " (4068, 'Acadia, Louisiana, US', datetime.date(2020, 11, 27)),\n",
       " (4068, 'Acadia, Louisiana, US', datetime.date(2020, 11, 28)),\n",
       " (4100, 'Acadia, Louisiana, US', datetime.date(2020, 11, 29)),\n",
       " (4096, 'Acadia, Louisiana, US', datetime.date(2020, 11, 30)),\n",
       " (4147, 'Acadia, Louisiana, US', datetime.date(2020, 12, 1)),\n",
       " (4197, 'Acadia, Louisiana, US', datetime.date(2020, 12, 2)),\n",
       " (4247, 'Acadia, Louisiana, US', datetime.date(2020, 12, 3)),\n",
       " (4315, 'Acadia, Louisiana, US', datetime.date(2020, 12, 4)),\n",
       " (4315, 'Acadia, Louisiana, US', datetime.date(2020, 12, 5)),\n",
       " (4375, 'Acadia, Louisiana, US', datetime.date(2020, 12, 6)),\n",
       " (4401, 'Acadia, Louisiana, US', datetime.date(2020, 12, 7)),\n",
       " (4426, 'Acadia, Louisiana, US', datetime.date(2020, 12, 8)),\n",
       " (4488, 'Acadia, Louisiana, US', datetime.date(2020, 12, 9)),\n",
       " (4534, 'Acadia, Louisiana, US', datetime.date(2020, 12, 10)),\n",
       " (4575, 'Acadia, Louisiana, US', datetime.date(2020, 12, 11)),\n",
       " (4575, 'Acadia, Louisiana, US', datetime.date(2020, 12, 12)),\n",
       " (4649, 'Acadia, Louisiana, US', datetime.date(2020, 12, 13)),\n",
       " (4657, 'Acadia, Louisiana, US', datetime.date(2020, 12, 14)),\n",
       " (4698, 'Acadia, Louisiana, US', datetime.date(2020, 12, 15)),\n",
       " (4728, 'Acadia, Louisiana, US', datetime.date(2020, 12, 16)),\n",
       " (4773, 'Acadia, Louisiana, US', datetime.date(2020, 12, 17)),\n",
       " (4814, 'Acadia, Louisiana, US', datetime.date(2020, 12, 18)),\n",
       " (4814, 'Acadia, Louisiana, US', datetime.date(2020, 12, 19)),\n",
       " (4867, 'Acadia, Louisiana, US', datetime.date(2020, 12, 20)),\n",
       " (4878, 'Acadia, Louisiana, US', datetime.date(2020, 12, 21)),\n",
       " (4927, 'Acadia, Louisiana, US', datetime.date(2020, 12, 22)),\n",
       " (4952, 'Acadia, Louisiana, US', datetime.date(2020, 12, 23)),\n",
       " (4994, 'Acadia, Louisiana, US', datetime.date(2020, 12, 24)),\n",
       " (4994, 'Acadia, Louisiana, US', datetime.date(2020, 12, 25)),\n",
       " (4994, 'Acadia, Louisiana, US', datetime.date(2020, 12, 26)),\n",
       " (5017, 'Acadia, Louisiana, US', datetime.date(2020, 12, 27)),\n",
       " (5019, 'Acadia, Louisiana, US', datetime.date(2020, 12, 28)),\n",
       " (5056, 'Acadia, Louisiana, US', datetime.date(2020, 12, 29)),\n",
       " (5173, 'Acadia, Louisiana, US', datetime.date(2020, 12, 30)),\n",
       " (5235, 'Acadia, Louisiana, US', datetime.date(2020, 12, 31)),\n",
       " (5235, 'Acadia, Louisiana, US', datetime.date(2021, 1, 1)),\n",
       " (5235, 'Acadia, Louisiana, US', datetime.date(2021, 1, 2)),\n",
       " (5270, 'Acadia, Louisiana, US', datetime.date(2021, 1, 3)),\n",
       " (5292, 'Acadia, Louisiana, US', datetime.date(2021, 1, 4)),\n",
       " (5350, 'Acadia, Louisiana, US', datetime.date(2021, 1, 5)),\n",
       " (5449, 'Acadia, Louisiana, US', datetime.date(2021, 1, 6)),\n",
       " (5503, 'Acadia, Louisiana, US', datetime.date(2021, 1, 7)),\n",
       " (5535, 'Acadia, Louisiana, US', datetime.date(2021, 1, 8)),\n",
       " (5535, 'Acadia, Louisiana, US', datetime.date(2021, 1, 9)),\n",
       " (5591, 'Acadia, Louisiana, US', datetime.date(2021, 1, 10)),\n",
       " (5607, 'Acadia, Louisiana, US', datetime.date(2021, 1, 11)),\n",
       " (5631, 'Acadia, Louisiana, US', datetime.date(2021, 1, 12)),\n",
       " (5658, 'Acadia, Louisiana, US', datetime.date(2021, 1, 13)),\n",
       " (5697, 'Acadia, Louisiana, US', datetime.date(2021, 1, 14)),\n",
       " (5712, 'Acadia, Louisiana, US', datetime.date(2021, 1, 15)),\n",
       " (5712, 'Acadia, Louisiana, US', datetime.date(2021, 1, 16)),\n",
       " (5760, 'Acadia, Louisiana, US', datetime.date(2021, 1, 17)),\n",
       " (5761, 'Acadia, Louisiana, US', datetime.date(2021, 1, 18)),\n",
       " (5773, 'Acadia, Louisiana, US', datetime.date(2021, 1, 19)),\n",
       " (5801, 'Acadia, Louisiana, US', datetime.date(2021, 1, 20)),\n",
       " (5818, 'Acadia, Louisiana, US', datetime.date(2021, 1, 21)),\n",
       " (5832, 'Acadia, Louisiana, US', datetime.date(2021, 1, 22)),\n",
       " (5832, 'Acadia, Louisiana, US', datetime.date(2021, 1, 23)),\n",
       " (5860, 'Acadia, Louisiana, US', datetime.date(2021, 1, 24)),\n",
       " (5887, 'Acadia, Louisiana, US', datetime.date(2021, 1, 25)),\n",
       " (5908, 'Acadia, Louisiana, US', datetime.date(2021, 1, 26)),\n",
       " (5936, 'Acadia, Louisiana, US', datetime.date(2021, 1, 27)),\n",
       " (5963, 'Acadia, Louisiana, US', datetime.date(2021, 1, 28)),\n",
       " (5975, 'Acadia, Louisiana, US', datetime.date(2021, 1, 29)),\n",
       " (5975, 'Acadia, Louisiana, US', datetime.date(2021, 1, 30)),\n",
       " (5986, 'Acadia, Louisiana, US', datetime.date(2021, 1, 31)),\n",
       " (6000, 'Acadia, Louisiana, US', datetime.date(2021, 2, 1)),\n",
       " (6026, 'Acadia, Louisiana, US', datetime.date(2021, 2, 2)),\n",
       " (6042, 'Acadia, Louisiana, US', datetime.date(2021, 2, 3)),\n",
       " (6058, 'Acadia, Louisiana, US', datetime.date(2021, 2, 4)),\n",
       " (6083, 'Acadia, Louisiana, US', datetime.date(2021, 2, 5)),\n",
       " (6083, 'Acadia, Louisiana, US', datetime.date(2021, 2, 6)),\n",
       " (6081, 'Acadia, Louisiana, US', datetime.date(2021, 2, 7)),\n",
       " (6087, 'Acadia, Louisiana, US', datetime.date(2021, 2, 8)),\n",
       " (6107, 'Acadia, Louisiana, US', datetime.date(2021, 2, 9)),\n",
       " (6112, 'Acadia, Louisiana, US', datetime.date(2021, 2, 10)),\n",
       " (6145, 'Acadia, Louisiana, US', datetime.date(2021, 2, 11)),\n",
       " (6159, 'Acadia, Louisiana, US', datetime.date(2021, 2, 12)),\n",
       " (6159, 'Acadia, Louisiana, US', datetime.date(2021, 2, 13)),\n",
       " (6167, 'Acadia, Louisiana, US', datetime.date(2021, 2, 14)),\n",
       " (6165, 'Acadia, Louisiana, US', datetime.date(2021, 2, 15)),\n",
       " (6165, 'Acadia, Louisiana, US', datetime.date(2021, 2, 16)),\n",
       " (6161, 'Acadia, Louisiana, US', datetime.date(2021, 2, 17)),\n",
       " (6174, 'Acadia, Louisiana, US', datetime.date(2021, 2, 18)),\n",
       " (6180, 'Acadia, Louisiana, US', datetime.date(2021, 2, 19)),\n",
       " (6180, 'Acadia, Louisiana, US', datetime.date(2021, 2, 20)),\n",
       " (6202, 'Acadia, Louisiana, US', datetime.date(2021, 2, 21)),\n",
       " (6207, 'Acadia, Louisiana, US', datetime.date(2021, 2, 22)),\n",
       " (6223, 'Acadia, Louisiana, US', datetime.date(2021, 2, 23)),\n",
       " (6240, 'Acadia, Louisiana, US', datetime.date(2021, 2, 24)),\n",
       " (6244, 'Acadia, Louisiana, US', datetime.date(2021, 2, 25)),\n",
       " (6239, 'Acadia, Louisiana, US', datetime.date(2021, 2, 26)),\n",
       " (6239, 'Acadia, Louisiana, US', datetime.date(2021, 2, 27)),\n",
       " (6262, 'Acadia, Louisiana, US', datetime.date(2021, 2, 28)),\n",
       " (6277, 'Acadia, Louisiana, US', datetime.date(2021, 3, 1)),\n",
       " (6278, 'Acadia, Louisiana, US', datetime.date(2021, 3, 2)),\n",
       " (6282, 'Acadia, Louisiana, US', datetime.date(2021, 3, 3)),\n",
       " (6296, 'Acadia, Louisiana, US', datetime.date(2021, 3, 4)),\n",
       " (6311, 'Acadia, Louisiana, US', datetime.date(2021, 3, 5)),\n",
       " (6311, 'Acadia, Louisiana, US', datetime.date(2021, 3, 6)),\n",
       " (6326, 'Acadia, Louisiana, US', datetime.date(2021, 3, 7)),\n",
       " (6321, 'Acadia, Louisiana, US', datetime.date(2021, 3, 8)),\n",
       " (6341, 'Acadia, Louisiana, US', datetime.date(2021, 3, 9)),\n",
       " (6340, 'Acadia, Louisiana, US', datetime.date(2021, 3, 10)),\n",
       " (6346, 'Acadia, Louisiana, US', datetime.date(2021, 3, 11)),\n",
       " (6352, 'Acadia, Louisiana, US', datetime.date(2021, 3, 12)),\n",
       " (6352, 'Acadia, Louisiana, US', datetime.date(2021, 3, 13)),\n",
       " (6355, 'Acadia, Louisiana, US', datetime.date(2021, 3, 14)),\n",
       " (6355, 'Acadia, Louisiana, US', datetime.date(2021, 3, 15)),\n",
       " (6383, 'Acadia, Louisiana, US', datetime.date(2021, 3, 16)),\n",
       " (6377, 'Acadia, Louisiana, US', datetime.date(2021, 3, 17)),\n",
       " (6387, 'Acadia, Louisiana, US', datetime.date(2021, 3, 18)),\n",
       " (6406, 'Acadia, Louisiana, US', datetime.date(2021, 3, 19)),\n",
       " (6406, 'Acadia, Louisiana, US', datetime.date(2021, 3, 20)),\n",
       " (6406, 'Acadia, Louisiana, US', datetime.date(2021, 3, 21)),\n",
       " (6425, 'Acadia, Louisiana, US', datetime.date(2021, 3, 22)),\n",
       " (6420, 'Acadia, Louisiana, US', datetime.date(2021, 3, 23)),\n",
       " (6433, 'Acadia, Louisiana, US', datetime.date(2021, 3, 24)),\n",
       " (6438, 'Acadia, Louisiana, US', datetime.date(2021, 3, 25)),\n",
       " (6448, 'Acadia, Louisiana, US', datetime.date(2021, 3, 26)),\n",
       " (6448, 'Acadia, Louisiana, US', datetime.date(2021, 3, 27)),\n",
       " (6448, 'Acadia, Louisiana, US', datetime.date(2021, 3, 28)),\n",
       " (6458, 'Acadia, Louisiana, US', datetime.date(2021, 3, 29)),\n",
       " (6468, 'Acadia, Louisiana, US', datetime.date(2021, 3, 30)),\n",
       " (6486, 'Acadia, Louisiana, US', datetime.date(2021, 3, 31)),\n",
       " (6472, 'Acadia, Louisiana, US', datetime.date(2021, 4, 1)),\n",
       " (6472, 'Acadia, Louisiana, US', datetime.date(2021, 4, 2)),\n",
       " (6472, 'Acadia, Louisiana, US', datetime.date(2021, 4, 3)),\n",
       " (6472, 'Acadia, Louisiana, US', datetime.date(2021, 4, 4)),\n",
       " (6502, 'Acadia, Louisiana, US', datetime.date(2021, 4, 5)),\n",
       " (6494, 'Acadia, Louisiana, US', datetime.date(2021, 4, 6)),\n",
       " (6508, 'Acadia, Louisiana, US', datetime.date(2021, 4, 7)),\n",
       " (6521, 'Acadia, Louisiana, US', datetime.date(2021, 4, 8)),\n",
       " (6524, 'Acadia, Louisiana, US', datetime.date(2021, 4, 9)),\n",
       " (6524, 'Acadia, Louisiana, US', datetime.date(2021, 4, 10)),\n",
       " (6524, 'Acadia, Louisiana, US', datetime.date(2021, 4, 11)),\n",
       " (6527, 'Acadia, Louisiana, US', datetime.date(2021, 4, 12)),\n",
       " (6528, 'Acadia, Louisiana, US', datetime.date(2021, 4, 13)),\n",
       " (6539, 'Acadia, Louisiana, US', datetime.date(2021, 4, 14)),\n",
       " (6540, 'Acadia, Louisiana, US', datetime.date(2021, 4, 15)),\n",
       " (6542, 'Acadia, Louisiana, US', datetime.date(2021, 4, 16)),\n",
       " (6542, 'Acadia, Louisiana, US', datetime.date(2021, 4, 17)),\n",
       " (6542, 'Acadia, Louisiana, US', datetime.date(2021, 4, 18)),\n",
       " (6612, 'Acadia, Louisiana, US', datetime.date(2021, 4, 19)),\n",
       " (6616, 'Acadia, Louisiana, US', datetime.date(2021, 4, 20)),\n",
       " (6628, 'Acadia, Louisiana, US', datetime.date(2021, 4, 21)),\n",
       " (6639, 'Acadia, Louisiana, US', datetime.date(2021, 4, 22)),\n",
       " (6634, 'Acadia, Louisiana, US', datetime.date(2021, 4, 23)),\n",
       " (6634, 'Acadia, Louisiana, US', datetime.date(2021, 4, 24)),\n",
       " (6634, 'Acadia, Louisiana, US', datetime.date(2021, 4, 25)),\n",
       " (6635, 'Acadia, Louisiana, US', datetime.date(2021, 4, 26)),\n",
       " (6661, 'Acadia, Louisiana, US', datetime.date(2021, 4, 27)),\n",
       " (6654, 'Acadia, Louisiana, US', datetime.date(2021, 4, 28)),\n",
       " (6662, 'Acadia, Louisiana, US', datetime.date(2021, 4, 29)),\n",
       " (6673, 'Acadia, Louisiana, US', datetime.date(2021, 4, 30)),\n",
       " (6673, 'Acadia, Louisiana, US', datetime.date(2021, 5, 1)),\n",
       " (0, 'Accomack, Virginia, US', datetime.date(2020, 1, 22)),\n",
       " (0, 'Accomack, Virginia, US', datetime.date(2020, 1, 23)),\n",
       " (0, 'Accomack, Virginia, US', datetime.date(2020, 1, 24)),\n",
       " (0, 'Accomack, Virginia, US', datetime.date(2020, 1, 25)),\n",
       " (0, 'Accomack, Virginia, US', datetime.date(2020, 1, 26)),\n",
       " (0, 'Accomack, Virginia, US', datetime.date(2020, 1, 27)),\n",
       " (0, 'Accomack, Virginia, US', datetime.date(2020, 1, 28)),\n",
       " (0, 'Accomack, Virginia, US', datetime.date(2020, 1, 29)),\n",
       " (0, 'Accomack, Virginia, US', datetime.date(2020, 1, 30)),\n",
       " (0, 'Accomack, Virginia, US', datetime.date(2020, 1, 31)),\n",
       " (0, 'Accomack, Virginia, US', datetime.date(2020, 2, 1)),\n",
       " (0, 'Accomack, Virginia, US', datetime.date(2020, 2, 2)),\n",
       " (0, 'Accomack, Virginia, US', datetime.date(2020, 2, 3)),\n",
       " (0, 'Accomack, Virginia, US', datetime.date(2020, 2, 4)),\n",
       " (0, 'Accomack, Virginia, US', datetime.date(2020, 2, 5)),\n",
       " (0, 'Accomack, Virginia, US', datetime.date(2020, 2, 6)),\n",
       " (0, 'Accomack, Virginia, US', datetime.date(2020, 2, 7)),\n",
       " (0, 'Accomack, Virginia, US', datetime.date(2020, 2, 8)),\n",
       " (0, 'Accomack, Virginia, US', datetime.date(2020, 2, 9)),\n",
       " (0, 'Accomack, Virginia, US', datetime.date(2020, 2, 10)),\n",
       " (0, 'Accomack, Virginia, US', datetime.date(2020, 2, 11)),\n",
       " (0, 'Accomack, Virginia, US', datetime.date(2020, 2, 12)),\n",
       " (0, 'Accomack, Virginia, US', datetime.date(2020, 2, 13)),\n",
       " (0, 'Accomack, Virginia, US', datetime.date(2020, 2, 14)),\n",
       " (0, 'Accomack, Virginia, US', datetime.date(2020, 2, 15)),\n",
       " (0, 'Accomack, Virginia, US', datetime.date(2020, 2, 16)),\n",
       " (0, 'Accomack, Virginia, US', datetime.date(2020, 2, 17)),\n",
       " (0, 'Accomack, Virginia, US', datetime.date(2020, 2, 18)),\n",
       " (0, 'Accomack, Virginia, US', datetime.date(2020, 2, 19)),\n",
       " (0, 'Accomack, Virginia, US', datetime.date(2020, 2, 20)),\n",
       " (0, 'Accomack, Virginia, US', datetime.date(2020, 2, 21)),\n",
       " (0, 'Accomack, Virginia, US', datetime.date(2020, 2, 22)),\n",
       " (0, 'Accomack, Virginia, US', datetime.date(2020, 2, 23)),\n",
       " (0, 'Accomack, Virginia, US', datetime.date(2020, 2, 24)),\n",
       " (0, 'Accomack, Virginia, US', datetime.date(2020, 2, 25)),\n",
       " (0, 'Accomack, Virginia, US', datetime.date(2020, 2, 26)),\n",
       " (0, 'Accomack, Virginia, US', datetime.date(2020, 2, 27)),\n",
       " (0, 'Accomack, Virginia, US', datetime.date(2020, 2, 28)),\n",
       " (0, 'Accomack, Virginia, US', datetime.date(2020, 2, 29)),\n",
       " (0, 'Accomack, Virginia, US', datetime.date(2020, 3, 1)),\n",
       " (0, 'Accomack, Virginia, US', datetime.date(2020, 3, 2)),\n",
       " (0, 'Accomack, Virginia, US', datetime.date(2020, 3, 3)),\n",
       " (0, 'Accomack, Virginia, US', datetime.date(2020, 3, 4)),\n",
       " (0, 'Accomack, Virginia, US', datetime.date(2020, 3, 5)),\n",
       " (0, 'Accomack, Virginia, US', datetime.date(2020, 3, 6)),\n",
       " (0, 'Accomack, Virginia, US', datetime.date(2020, 3, 7)),\n",
       " (0, 'Accomack, Virginia, US', datetime.date(2020, 3, 8)),\n",
       " (0, 'Accomack, Virginia, US', datetime.date(2020, 3, 9)),\n",
       " (0, 'Accomack, Virginia, US', datetime.date(2020, 3, 10)),\n",
       " (0, 'Accomack, Virginia, US', datetime.date(2020, 3, 11)),\n",
       " (0, 'Accomack, Virginia, US', datetime.date(2020, 3, 12)),\n",
       " (0, 'Accomack, Virginia, US', datetime.date(2020, 3, 13)),\n",
       " (0, 'Accomack, Virginia, US', datetime.date(2020, 3, 14)),\n",
       " (0, 'Accomack, Virginia, US', datetime.date(2020, 3, 15)),\n",
       " (0, 'Accomack, Virginia, US', datetime.date(2020, 3, 16)),\n",
       " (0, 'Accomack, Virginia, US', datetime.date(2020, 3, 17)),\n",
       " (0, 'Accomack, Virginia, US', datetime.date(2020, 3, 18)),\n",
       " (0, 'Accomack, Virginia, US', datetime.date(2020, 3, 19)),\n",
       " (1, 'Accomack, Virginia, US', datetime.date(2020, 3, 20)),\n",
       " (1, 'Accomack, Virginia, US', datetime.date(2020, 3, 21)),\n",
       " (1, 'Accomack, Virginia, US', datetime.date(2020, 3, 22)),\n",
       " (1, 'Accomack, Virginia, US', datetime.date(2020, 3, 23)),\n",
       " (1, 'Accomack, Virginia, US', datetime.date(2020, 3, 24)),\n",
       " (2, 'Accomack, Virginia, US', datetime.date(2020, 3, 25)),\n",
       " (2, 'Accomack, Virginia, US', datetime.date(2020, 3, 26)),\n",
       " (2, 'Accomack, Virginia, US', datetime.date(2020, 3, 27)),\n",
       " (2, 'Accomack, Virginia, US', datetime.date(2020, 3, 28)),\n",
       " (3, 'Accomack, Virginia, US', datetime.date(2020, 3, 29)),\n",
       " ...]"
      ]
     },
     "execution_count": 4,
     "metadata": {},
     "output_type": "execute_result"
    }
   ],
   "source": [
    "join = '''select sum(ncas),combined_key,rdate from covidcases left join covidlocs on cloc = uid group by combined_key,rdate'''\n",
    "covid_data = engine.execute(join).fetchall()\n",
    "covid_data"
   ]
  },
  {
   "cell_type": "code",
   "execution_count": 6,
   "metadata": {
    "collapsed": true,
    "jupyter": {
     "outputs_hidden": true
    }
   },
   "outputs": [
    {
     "data": {
      "text/plain": [
       "[(2667693, 16, datetime.date(2020, 1, 22), 0, 'C', 16, 'AS  ', 'ASM', '16  ', 60.0, None, 'American Samoa', 'US', -14.270999999999999, -170.132, 'American Samoa, US', 55641.0),\n",
       " (2667694, 16, datetime.date(2020, 1, 23), 0, 'C', 16, 'AS  ', 'ASM', '16  ', 60.0, None, 'American Samoa', 'US', -14.270999999999999, -170.132, 'American Samoa, US', 55641.0),\n",
       " (2667695, 16, datetime.date(2020, 1, 24), 0, 'C', 16, 'AS  ', 'ASM', '16  ', 60.0, None, 'American Samoa', 'US', -14.270999999999999, -170.132, 'American Samoa, US', 55641.0),\n",
       " (2667696, 16, datetime.date(2020, 1, 25), 0, 'C', 16, 'AS  ', 'ASM', '16  ', 60.0, None, 'American Samoa', 'US', -14.270999999999999, -170.132, 'American Samoa, US', 55641.0),\n",
       " (2667697, 16, datetime.date(2020, 1, 26), 0, 'C', 16, 'AS  ', 'ASM', '16  ', 60.0, None, 'American Samoa', 'US', -14.270999999999999, -170.132, 'American Samoa, US', 55641.0)]"
      ]
     },
     "execution_count": 6,
     "metadata": {},
     "output_type": "execute_result"
    }
   ],
   "source": [
    "join = '''select * from covidcases left join covidlocs on cloc = uid limit 5'''\n",
    "engine.execute(join).fetchall()"
   ]
  },
  {
   "cell_type": "code",
   "execution_count": 10,
   "metadata": {
    "collapsed": true,
    "jupyter": {
     "outputs_hidden": true
    }
   },
   "outputs": [
    {
     "data": {
      "text/plain": [
       "[(85,)]"
      ]
     },
     "execution_count": 10,
     "metadata": {},
     "output_type": "execute_result"
    }
   ],
   "source": [
    "get_counties = ''' select distinct county from traffic_bay inner join pemslocs on station=sid limit 5 '''\n",
    "engine.execute(get_counties).fetchall()"
   ]
  },
  {
   "cell_type": "code",
   "execution_count": 28,
   "metadata": {
    "collapsed": true,
    "jupyter": {
     "outputs_hidden": true
    }
   },
   "outputs": [
    {
     "data": {
      "text/plain": [
       "[(73,)]"
      ]
     },
     "execution_count": 28,
     "metadata": {},
     "output_type": "execute_result"
    }
   ],
   "source": [
    "get_stations = '''select distinct county from traffic left join pemslocs on station=sid where timestamp >= '01-01-2020' and timestamp <= '06-30-2020' '''\n",
    "engine.execute(get_stations).fetchall()\n",
    "\n",
    "# get_stations = '''select count(distinct station) from traffic_bay  inner join pemslocs on station=sid where timestamp >= '01-01-2020' and timestamp <= '06-30-2020' and county = 85'''\n",
    "# engine.execute(get_stations).fetchall()"
   ]
  },
  {
   "cell_type": "code",
   "execution_count": 11,
   "metadata": {
    "collapsed": true,
    "jupyter": {
     "outputs_hidden": true
    }
   },
   "outputs": [
    {
     "data": {
      "text/plain": [
       "[('public', 'traffic_train', 'group3', None, False, True, ' SELECT traffic_bay.\"timestamp\",\\n    traffic_bay.station,\\n    traffic_bay.samples,\\n    traffic_bay.pct_observed,\\n    traffic_bay.total_flow,\\n    ... (105 characters truncated) ... tamp\" > \\'2020-01-01 00:00:00\\'::timestamp without time zone) AND (traffic_bay.\"timestamp\" <= \\'2020-06-30 00:00:00\\'::timestamp without time zone));')]"
      ]
     },
     "execution_count": 11,
     "metadata": {},
     "output_type": "execute_result"
    }
   ],
   "source": [
    "view = '''select * from pg_matviews where matviewname = 'traffic_train';'''\n",
    "engine.execute(view).fetchall()"
   ]
  },
  {
   "cell_type": "code",
   "execution_count": 42,
   "metadata": {
    "collapsed": true,
    "jupyter": {
     "outputs_hidden": true
    }
   },
   "outputs": [
    {
     "data": {
      "text/plain": [
       "[(11,)]"
      ]
     },
     "execution_count": 42,
     "metadata": {},
     "output_type": "execute_result"
    }
   ],
   "source": [
    "view = '''select distinct district from traffic left join pemslocs on station=sid where timestamp >= '01-01-2020' and timestamp <= '06-30-2020' '''\n",
    "engine.execute(view).fetchall()"
   ]
  },
  {
   "cell_type": "code",
   "execution_count": 4,
   "metadata": {},
   "outputs": [],
   "source": [
    "view = '''select distinct sid from pemslocs inner join traffic on sid = station where timestamp >= '01-01-2020' and timestamp <= '06-30-2020' '''\n",
    "available_stations = engine.execute(view).fetchall()"
   ]
  },
  {
   "cell_type": "code",
   "execution_count": 19,
   "metadata": {},
   "outputs": [],
   "source": [
    "query = '''select distinct station from traffic_train'''\n",
    "station_list = engine.execute(query).fetchall()"
   ]
  },
  {
   "cell_type": "code",
   "execution_count": 25,
   "metadata": {},
   "outputs": [],
   "source": [
    "data_2020 = {each[0] for each in station_list}\n",
    "stations_available_2020 = {each[0] for each in available_stations} # Pems locs stations"
   ]
  },
  {
   "cell_type": "code",
   "execution_count": 31,
   "metadata": {
    "collapsed": true,
    "jupyter": {
     "outputs_hidden": true
    }
   },
   "outputs": [
    {
     "data": {
      "text/plain": [
       "{400001,\n",
       " 400017,\n",
       " 400030,\n",
       " 400040,\n",
       " 400045,\n",
       " 400052,\n",
       " 400057,\n",
       " 400059,\n",
       " 400065,\n",
       " 400069,\n",
       " 400073,\n",
       " 400084,\n",
       " 400085,\n",
       " 400088,\n",
       " 400096,\n",
       " 400097,\n",
       " 400100,\n",
       " 400104,\n",
       " 400109,\n",
       " 400122,\n",
       " 400147,\n",
       " 400148,\n",
       " 400149,\n",
       " 400158,\n",
       " 400160,\n",
       " 400168,\n",
       " 400172,\n",
       " 400174,\n",
       " 400178,\n",
       " 400185,\n",
       " 400201,\n",
       " 400206,\n",
       " 400209,\n",
       " 400213,\n",
       " 400221,\n",
       " 400222,\n",
       " 400227,\n",
       " 400236,\n",
       " 400238,\n",
       " 400240,\n",
       " 400246,\n",
       " 400253,\n",
       " 400257,\n",
       " 400258,\n",
       " 400268,\n",
       " 400274,\n",
       " 400278,\n",
       " 400280,\n",
       " 400292,\n",
       " 400296,\n",
       " 400298,\n",
       " 400330,\n",
       " 400336,\n",
       " 400343,\n",
       " 400353,\n",
       " 400372,\n",
       " 400394,\n",
       " 400400,\n",
       " 400414,\n",
       " 400418,\n",
       " 400429,\n",
       " 400435,\n",
       " 400436,\n",
       " 400440,\n",
       " 400449,\n",
       " 400457,\n",
       " 400461,\n",
       " 400464,\n",
       " 400479,\n",
       " 400485,\n",
       " 400499,\n",
       " 400507,\n",
       " 400508,\n",
       " 400514,\n",
       " 400519,\n",
       " 400528,\n",
       " 400545,\n",
       " 400560,\n",
       " 400563,\n",
       " 400567,\n",
       " 400581,\n",
       " 400582,\n",
       " 400586,\n",
       " 400637,\n",
       " 400643,\n",
       " 400648,\n",
       " 400649,\n",
       " 400654,\n",
       " 400664,\n",
       " 400665,\n",
       " 400668,\n",
       " 400673,\n",
       " 400677,\n",
       " 400687,\n",
       " 400688,\n",
       " 400690,\n",
       " 400700,\n",
       " 400709,\n",
       " 400713,\n",
       " 400714,\n",
       " 400715,\n",
       " 400717,\n",
       " 400723,\n",
       " 400743,\n",
       " 400750,\n",
       " 400760,\n",
       " 400772,\n",
       " 400790,\n",
       " 400792,\n",
       " 400794,\n",
       " 400799,\n",
       " 400804,\n",
       " 400822,\n",
       " 400823,\n",
       " 400828,\n",
       " 400832,\n",
       " 400837,\n",
       " 400842,\n",
       " 400863,\n",
       " 400869,\n",
       " 400873,\n",
       " 400895,\n",
       " 400904,\n",
       " 400907,\n",
       " 400911,\n",
       " 400916,\n",
       " 400922,\n",
       " 400934,\n",
       " 400951,\n",
       " 400952,\n",
       " 400953,\n",
       " 400964,\n",
       " 400965,\n",
       " 400970,\n",
       " 400971,\n",
       " 400973,\n",
       " 400995,\n",
       " 400996,\n",
       " 401014,\n",
       " 401129,\n",
       " 401154,\n",
       " 401163,\n",
       " 401167,\n",
       " 401210,\n",
       " 401224,\n",
       " 401327,\n",
       " 401351,\n",
       " 401388,\n",
       " 401391,\n",
       " 401400,\n",
       " 401403,\n",
       " 401440,\n",
       " 401457,\n",
       " 401464,\n",
       " 401489,\n",
       " 401495,\n",
       " 401507,\n",
       " 401534,\n",
       " 401541,\n",
       " 401555,\n",
       " 401560,\n",
       " 401567,\n",
       " 401597,\n",
       " 401606,\n",
       " 401611,\n",
       " 401655,\n",
       " 401808,\n",
       " 401809,\n",
       " 401810,\n",
       " 401811,\n",
       " 401816,\n",
       " 401817,\n",
       " 401845,\n",
       " 401846,\n",
       " 401890,\n",
       " 401891,\n",
       " 401906,\n",
       " 401908,\n",
       " 401926,\n",
       " 401936,\n",
       " 401937,\n",
       " 401942,\n",
       " 401943,\n",
       " 401948,\n",
       " 401957,\n",
       " 401958,\n",
       " 401994,\n",
       " 401996,\n",
       " 401997,\n",
       " 401998,\n",
       " 402056,\n",
       " 402057,\n",
       " 402058,\n",
       " 402059,\n",
       " 402060,\n",
       " 402061,\n",
       " 402067,\n",
       " 402117,\n",
       " 402118,\n",
       " 402119,\n",
       " 402120,\n",
       " 402121,\n",
       " 402281,\n",
       " 402282,\n",
       " 402283,\n",
       " 402284,\n",
       " 402285,\n",
       " 402286,\n",
       " 402287,\n",
       " 402359,\n",
       " 402360,\n",
       " 402361,\n",
       " 402362,\n",
       " 402363,\n",
       " 402364,\n",
       " 402365,\n",
       " 402366,\n",
       " 402367,\n",
       " 402370,\n",
       " 402371,\n",
       " 402372,\n",
       " 402373,\n",
       " 403225,\n",
       " 403265,\n",
       " 403329,\n",
       " 403401,\n",
       " 403402,\n",
       " 403404,\n",
       " 403406,\n",
       " 403409,\n",
       " 403412,\n",
       " 403414,\n",
       " 403419,\n",
       " 404370,\n",
       " 404434,\n",
       " 404435,\n",
       " 404444,\n",
       " 404451,\n",
       " 404452,\n",
       " 404453,\n",
       " 404461,\n",
       " 404462,\n",
       " 404521,\n",
       " 404522,\n",
       " 404553,\n",
       " 404585,\n",
       " 404586,\n",
       " 404640,\n",
       " 404753,\n",
       " 404759,\n",
       " 405613,\n",
       " 405619,\n",
       " 405701,\n",
       " 407150,\n",
       " 407151,\n",
       " 407152,\n",
       " 407153,\n",
       " 407155,\n",
       " 407157,\n",
       " 407161,\n",
       " 407165,\n",
       " 407172,\n",
       " 407173,\n",
       " 407174,\n",
       " 407176,\n",
       " 407177,\n",
       " 407179,\n",
       " 407180,\n",
       " 407181,\n",
       " 407184,\n",
       " 407185,\n",
       " 407186,\n",
       " 407187,\n",
       " 407190,\n",
       " 407191,\n",
       " 407194,\n",
       " 407200,\n",
       " 407202,\n",
       " 407204,\n",
       " 407206,\n",
       " 407207,\n",
       " 407321,\n",
       " 407323,\n",
       " 407325,\n",
       " 407328,\n",
       " 407331,\n",
       " 407332,\n",
       " 407335,\n",
       " 407336,\n",
       " 407337,\n",
       " 407339,\n",
       " 407341,\n",
       " 407342,\n",
       " 407344,\n",
       " 407348,\n",
       " 407352,\n",
       " 407359,\n",
       " 407360,\n",
       " 407361,\n",
       " 407364,\n",
       " 407367,\n",
       " 407370,\n",
       " 407372,\n",
       " 407373,\n",
       " 407374,\n",
       " 407710,\n",
       " 407711,\n",
       " 408907,\n",
       " 408911,\n",
       " 409524,\n",
       " 409525,\n",
       " 409526,\n",
       " 409528,\n",
       " 409529,\n",
       " 413026,\n",
       " 413845,\n",
       " 413877,\n",
       " 413878,\n",
       " 414284,\n",
       " 414694}"
      ]
     },
     "execution_count": 31,
     "metadata": {},
     "output_type": "execute_result"
    }
   ],
   "source": [
    "#stations_available_2020\n",
    "data_2020"
   ]
  },
  {
   "cell_type": "code",
   "execution_count": 38,
   "metadata": {
    "collapsed": true,
    "jupyter": {
     "outputs_hidden": true
    }
   },
   "outputs": [
    {
     "data": {
      "text/plain": [
       "[(85,)]"
      ]
     },
     "execution_count": 38,
     "metadata": {},
     "output_type": "execute_result"
    }
   ],
   "source": [
    "view = '''select distinct county from pemslocs inner join traffic_train on sid = station '''\n",
    "engine.execute(view).fetchall()"
   ]
  },
  {
   "cell_type": "code",
   "execution_count": 42,
   "metadata": {
    "collapsed": true,
    "jupyter": {
     "outputs_hidden": true
    }
   },
   "outputs": [
    {
     "data": {
      "text/plain": [
       "[(320,)]"
      ]
     },
     "execution_count": 42,
     "metadata": {},
     "output_type": "execute_result"
    }
   ],
   "source": [
    "view = '''select count(distinct sid) from pemslocs inner join traffic_bay on sid = station where timestamp >= '01-01-2020' and timestamp <= '06-30-2020' '''\n",
    "engine.execute(view).fetchall()"
   ]
  },
  {
   "cell_type": "code",
   "execution_count": 77,
   "metadata": {},
   "outputs": [],
   "source": [
    "covid_data = '''\n",
    "CREATE MATERIALIZED VIEW traffic_covid_both\n",
    "\n",
    "AS\n",
    "\n",
    "SELECT recordtable.record_date,\n",
    "    sum(recordtable.cumm_new_cases) AS cumm_new_cases,\n",
    "    sum(recordtable.cumm_new_deaths) AS cumm_new_deaths,\n",
    "    sum(recordtable.cumm_new_cases) - lag(sum(recordtable.cumm_new_cases), 1) OVER (ORDER BY recordtable.record_date) AS new_cases,\n",
    "    sum(recordtable.cumm_new_deaths) - lag(sum(recordtable.cumm_new_deaths), 1) OVER (ORDER BY recordtable.record_date) AS new_deaths,\n",
    "    sum(recordtable.tot_total_flow) AS tot_total_flow,\n",
    "    sum(recordtable.avg_total_flow) AS avg_total_flow,\n",
    "    sum(recordtable.avg_avg_speed) AS avg_avg_speed\n",
    "   FROM ( SELECT date(traffic_bay.\"timestamp\") AS record_date,\n",
    "            lpad(pemslocs.county::text, 3, '0'::text) AS county,\n",
    "            0 AS cumm_new_cases,\n",
    "            0 AS cumm_new_deaths,\n",
    "            sum(traffic_bay.total_flow) AS tot_total_flow,\n",
    "            avg(traffic_bay.total_flow) AS avg_total_flow,\n",
    "            avg(traffic_bay.avg_speed) AS avg_avg_speed\n",
    "           FROM traffic_bay,\n",
    "            pemslocs\n",
    "          WHERE traffic_bay.station = pemslocs.sid AND date(traffic_bay.\"timestamp\") >= '2020-01-01'::date AND lpad(pemslocs.county::text, 3, '0'::text) = '085'::text\n",
    "          GROUP BY (date(traffic_bay.\"timestamp\")), (lpad(pemslocs.county::text, 3, '0'::text))\n",
    "        UNION\n",
    "         SELECT covidcases.rdate AS record_date,\n",
    "            \"substring\"(covidlocs.fips::character varying(6)::text, 2, 3) AS county,\n",
    "            sum(covidcases.ncas) AS cumm_new_cases,\n",
    "            0 AS cumm_new_deaths,\n",
    "            0 AS tot_total_flow,\n",
    "            0 AS avg_total_flow,\n",
    "            0 AS avg_avg_speed\n",
    "           FROM covidcases,\n",
    "            covidlocs\n",
    "          WHERE covidlocs.uid = covidcases.cloc AND covidlocs.province_state = 'California'::text AND \"substring\"(covidlocs.fips::character varying(6)::text, 2, 3) = '085'::text AND covidcases.ctype = 'C'::bpchar AND covidcases.rdate >= '2020-01-01'::date\n",
    "          GROUP BY covidcases.rdate, (\"substring\"(covidlocs.fips::character varying(6)::text, 2, 3))\n",
    "        UNION\n",
    "         SELECT covidcases.rdate AS record_date,\n",
    "            \"substring\"(covidlocs.fips::character varying(6)::text, 2, 3) AS county,\n",
    "            0 AS cumm_new_cases,\n",
    "            sum(covidcases.ncas) AS cumm_new_deaths,\n",
    "            0 AS tot_total_flow,\n",
    "            0 AS avg_total_flow,\n",
    "            0 AS avg_avg_speed\n",
    "           FROM covidcases,\n",
    "            covidlocs\n",
    "          WHERE covidlocs.uid = covidcases.cloc AND covidlocs.province_state = 'California'::text AND \"substring\"(covidlocs.fips::character varying(6)::text, 2, 3) = '085'::text AND covidcases.ctype = 'D'::bpchar AND covidcases.rdate >= '2020-01-01'::date\n",
    "          GROUP BY covidcases.rdate, (\"substring\"(covidlocs.fips::character varying(6)::text, 2, 3))) recordtable\n",
    "  GROUP BY recordtable.record_date;\n",
    "'''"
   ]
  },
  {
   "cell_type": "code",
   "execution_count": 78,
   "metadata": {
    "collapsed": true,
    "jupyter": {
     "outputs_hidden": true
    }
   },
   "outputs": [
    {
     "data": {
      "text/plain": [
       "<sqlalchemy.engine.result.ResultProxy at 0x7f9c7266dfd0>"
      ]
     },
     "execution_count": 78,
     "metadata": {},
     "output_type": "execute_result"
    }
   ],
   "source": [
    "engine.execute(covid_data)"
   ]
  },
  {
   "cell_type": "code",
   "execution_count": 79,
   "metadata": {
    "collapsed": true,
    "jupyter": {
     "outputs_hidden": true
    }
   },
   "outputs": [
    {
     "data": {
      "text/plain": [
       "[(datetime.date(2020, 1, 1), Decimal('0'), Decimal('0'), None, None, Decimal('20436509'), Decimal('221.7503146701388889'), 61.97499023437565),\n",
       " (datetime.date(2020, 1, 2), Decimal('0'), Decimal('0'), Decimal('0'), Decimal('0'), Decimal('20738294'), Decimal('225.0248914930555556'), 62.928858506944735),\n",
       " (datetime.date(2020, 1, 3), Decimal('0'), Decimal('0'), Decimal('0'), Decimal('0'), Decimal('20799427'), Decimal('225.6882269965277778'), 64.034845920139),\n",
       " (datetime.date(2020, 1, 4), Decimal('0'), Decimal('0'), Decimal('0'), Decimal('0'), Decimal('18010867'), Decimal('195.4304144965277778'), 65.86789605034785),\n",
       " (datetime.date(2020, 1, 5), Decimal('0'), Decimal('0'), Decimal('0'), Decimal('0'), Decimal('15881889'), Decimal('172.8772695606740105'), 66.1623873383552)]"
      ]
     },
     "execution_count": 79,
     "metadata": {},
     "output_type": "execute_result"
    }
   ],
   "source": [
    "engine.execute('select * from traffic_covid_both limit 5').fetchall()"
   ]
  },
  {
   "cell_type": "code",
   "execution_count": 46,
   "metadata": {
    "collapsed": true,
    "jupyter": {
     "outputs_hidden": true
    }
   },
   "outputs": [
    {
     "data": {
      "text/plain": [
       "[(datetime.date(2020, 1, 1), Decimal('0'), Decimal('0'), None, None, Decimal('20436509'), Decimal('221.7503146701388889'), 61.97499023437498)]"
      ]
     },
     "execution_count": 46,
     "metadata": {},
     "output_type": "execute_result"
    }
   ],
   "source": [
    "q = engine.execute('''select * from traffic_covid_bay_day inner join ''')\n",
    "q.fetchall()"
   ]
  },
  {
   "cell_type": "code",
   "execution_count": 48,
   "metadata": {
    "collapsed": true,
    "jupyter": {
     "outputs_hidden": true
    }
   },
   "outputs": [
    {
     "data": {
      "text/plain": [
       "[('date', 'date', None),\n",
       " ('tot_total_flow', 'bigint', None),\n",
       " ('avg_total_flow', 'numeric', None),\n",
       " ('avg_avg_speed', 'double precision', None),\n",
       " ('county', 'text', None),\n",
       " ('county_name', 'text', None)]"
      ]
     },
     "execution_count": 48,
     "metadata": {},
     "output_type": "execute_result"
    }
   ],
   "source": [
    "table_description = ''' select column_name, data_type, character_maximum_length\n",
    " from INFORMATION_SCHEMA.COLUMNS where table_name ='traffic_bay_day';'''\n",
    "q = engine.execute(table_description)\n",
    "q.fetchall()"
   ]
  },
  {
   "cell_type": "code",
   "execution_count": 69,
   "metadata": {
    "collapsed": true,
    "jupyter": {
     "outputs_hidden": true
    }
   },
   "outputs": [
    {
     "data": {
      "text/plain": [
       "[('date', 'date', None),\n",
       " ('tot_total_flow', 'bigint', None),\n",
       " ('avg_total_flow', 'numeric', None),\n",
       " ('avg_avg_speed', 'double precision', None),\n",
       " ('county', 'text', None),\n",
       " ('county_name', 'text', None)]"
      ]
     },
     "execution_count": 69,
     "metadata": {},
     "output_type": "execute_result"
    }
   ],
   "source": [
    "table_description = ''' select column_name, data_type, character_maximum_length\n",
    " from INFORMATION_SCHEMA.COLUMNS where table_name ='traffic_bay_day';'''\n",
    "q = engine.execute(table_description)\n",
    "q.fetchall()"
   ]
  },
  {
   "cell_type": "code",
   "execution_count": 56,
   "metadata": {
    "collapsed": true,
    "jupyter": {
     "outputs_hidden": true
    }
   },
   "outputs": [
    {
     "data": {
      "text/plain": [
       "[(datetime.date(2020, 1, 1), '085', 'Lonoke', 61.974990234375, 20436509),\n",
       " (datetime.date(2020, 1, 1), '085', 'Lowndes', 61.97499023437486, 20436509),\n",
       " (datetime.date(2020, 1, 1), '085', 'Montrose', 61.97499023437512, 20436509),\n",
       " (datetime.date(2020, 1, 1), '085', 'Santa Clara', 61.974990234374864, 20436509),\n",
       " (datetime.date(2020, 1, 2), '085', 'Lonoke', 62.92885850694436, 20738294),\n",
       " (datetime.date(2020, 1, 2), '085', 'Lowndes', 62.92885850694452, 20738294),\n",
       " (datetime.date(2020, 1, 2), '085', 'Montrose', 62.92885850694446, 20738294),\n",
       " (datetime.date(2020, 1, 2), '085', 'Santa Clara', 62.92885850694462, 20738294),\n",
       " (datetime.date(2020, 1, 3), '085', 'Lonoke', 64.03484592013902, 20799427),\n",
       " (datetime.date(2020, 1, 3), '085', 'Lowndes', 64.03484592013903, 20799427),\n",
       " (datetime.date(2020, 1, 3), '085', 'Montrose', 64.03484592013909, 20799427),\n",
       " (datetime.date(2020, 1, 3), '085', 'Santa Clara', 64.03484592013902, 20799427),\n",
       " (datetime.date(2020, 1, 4), '085', 'Lonoke', 65.86789605034734, 18010867),\n",
       " (datetime.date(2020, 1, 4), '085', 'Lowndes', 65.8678960503475, 18010867),\n",
       " (datetime.date(2020, 1, 4), '085', 'Montrose', 65.86789605034727, 18010867),\n",
       " (datetime.date(2020, 1, 4), '085', 'Santa Clara', 65.86789605034754, 18010867),\n",
       " (datetime.date(2020, 1, 5), '085', 'Lonoke', 66.16238733835489, 15881889),\n",
       " (datetime.date(2020, 1, 5), '085', 'Lowndes', 66.1623873383552, 15881889),\n",
       " (datetime.date(2020, 1, 5), '085', 'Montrose', 66.1623873383549, 15881889),\n",
       " (datetime.date(2020, 1, 5), '085', 'Santa Clara', 66.16238733835527, 15881889),\n",
       " (datetime.date(2020, 1, 6), '085', 'Lonoke', 61.20773220486111, 20836292),\n",
       " (datetime.date(2020, 1, 6), '085', 'Lowndes', 61.20773220486111, 20836292),\n",
       " (datetime.date(2020, 1, 6), '085', 'Montrose', 61.20773220486104, 20836292),\n",
       " (datetime.date(2020, 1, 6), '085', 'Santa Clara', 61.20773220486119, 20836292),\n",
       " (datetime.date(2020, 1, 7), '085', 'Lonoke', 60.28927842881967, 20567110),\n",
       " (datetime.date(2020, 1, 7), '085', 'Lowndes', 60.289278428819266, 20567110),\n",
       " (datetime.date(2020, 1, 7), '085', 'Montrose', 60.289278428819436, 20567110),\n",
       " (datetime.date(2020, 1, 7), '085', 'Santa Clara', 60.28927842881955, 20567110),\n",
       " (datetime.date(2020, 1, 8), '085', 'Lonoke', 59.930254991319536, 21447265),\n",
       " (datetime.date(2020, 1, 8), '085', 'Lowndes', 59.930254991319394, 21447265),\n",
       " (datetime.date(2020, 1, 8), '085', 'Montrose', 59.93025499131932, 21447265),\n",
       " (datetime.date(2020, 1, 8), '085', 'Santa Clara', 59.93025499131942, 21447265),\n",
       " (datetime.date(2020, 1, 9), '085', 'Lonoke', 59.64110677083352, 21431617),\n",
       " (datetime.date(2020, 1, 9), '085', 'Lowndes', 59.64110677083346, 21431617),\n",
       " (datetime.date(2020, 1, 9), '085', 'Montrose', 59.641106770833275, 21431617),\n",
       " (datetime.date(2020, 1, 9), '085', 'Santa Clara', 59.64110677083327, 21431617),\n",
       " (datetime.date(2020, 1, 10), '085', 'Lonoke', 60.951141493055545, 22428648),\n",
       " (datetime.date(2020, 1, 10), '085', 'Lowndes', 60.95114149305564, 22428648),\n",
       " (datetime.date(2020, 1, 10), '085', 'Montrose', 60.951141493055395, 22428648),\n",
       " (datetime.date(2020, 1, 10), '085', 'Santa Clara', 60.95114149305565, 22428648),\n",
       " (datetime.date(2020, 1, 11), '085', 'Lonoke', 65.05978190104179, 19587767),\n",
       " (datetime.date(2020, 1, 11), '085', 'Lowndes', 65.0597819010418, 19587767),\n",
       " (datetime.date(2020, 1, 11), '085', 'Montrose', 65.05978190104155, 19587767),\n",
       " (datetime.date(2020, 1, 11), '085', 'Santa Clara', 65.05978190104184, 19587767),\n",
       " (datetime.date(2020, 1, 12), '085', 'Lonoke', 65.75479058159738, 16812428),\n",
       " (datetime.date(2020, 1, 12), '085', 'Lowndes', 65.75479058159696, 16812428),\n",
       " (datetime.date(2020, 1, 12), '085', 'Montrose', 65.75479058159736, 16812428),\n",
       " (datetime.date(2020, 1, 12), '085', 'Santa Clara', 65.75479058159708, 16812428),\n",
       " (datetime.date(2020, 1, 13), '085', 'Lonoke', 60.78512369791683, 21098167),\n",
       " (datetime.date(2020, 1, 13), '085', 'Lowndes', 60.78512369791696, 21098167),\n",
       " (datetime.date(2020, 1, 13), '085', 'Montrose', 60.78512369791703, 21098167),\n",
       " (datetime.date(2020, 1, 13), '085', 'Santa Clara', 60.78512369791683, 21098167),\n",
       " (datetime.date(2020, 1, 14), '085', 'Lonoke', 59.41242078993058, 21628823),\n",
       " (datetime.date(2020, 1, 14), '085', 'Lowndes', 59.412420789930366, 21628823),\n",
       " (datetime.date(2020, 1, 14), '085', 'Montrose', 59.412420789930266, 21628823),\n",
       " (datetime.date(2020, 1, 14), '085', 'Santa Clara', 59.412420789930444, 21628823),\n",
       " (datetime.date(2020, 1, 15), '085', 'Lonoke', 59.33364691840298, 21759286),\n",
       " (datetime.date(2020, 1, 15), '085', 'Lowndes', 59.33364691840301, 21759286),\n",
       " (datetime.date(2020, 1, 15), '085', 'Montrose', 59.33364691840301, 21759286),\n",
       " (datetime.date(2020, 1, 15), '085', 'Santa Clara', 59.333646918402856, 21759286),\n",
       " (datetime.date(2020, 1, 16), '085', 'Lonoke', 59.20302591463425, 21016697),\n",
       " (datetime.date(2020, 1, 16), '085', 'Lowndes', 59.203025914634324, 21016697),\n",
       " (datetime.date(2020, 1, 16), '085', 'Montrose', 59.20302591463423, 21016697),\n",
       " (datetime.date(2020, 1, 16), '085', 'Santa Clara', 59.20302591463421, 21016697),\n",
       " (datetime.date(2020, 1, 17), '085', 'Lonoke', 60.91738498263871, 22557350),\n",
       " (datetime.date(2020, 1, 17), '085', 'Lowndes', 60.9173849826387, 22557350),\n",
       " (datetime.date(2020, 1, 17), '085', 'Montrose', 60.91738498263877, 22557350),\n",
       " (datetime.date(2020, 1, 17), '085', 'Santa Clara', 60.91738498263876, 22557350),\n",
       " (datetime.date(2020, 1, 18), '085', 'Lonoke', 65.12889973958339, 19885345),\n",
       " (datetime.date(2020, 1, 18), '085', 'Lowndes', 65.12889973958315, 19885345),\n",
       " (datetime.date(2020, 1, 18), '085', 'Montrose', 65.12889973958343, 19885345),\n",
       " (datetime.date(2020, 1, 18), '085', 'Santa Clara', 65.12889973958315, 19885345),\n",
       " (datetime.date(2020, 1, 19), '085', 'Lonoke', 65.76051432291635, 17121694),\n",
       " (datetime.date(2020, 1, 19), '085', 'Lowndes', 65.76051432291652, 17121694),\n",
       " (datetime.date(2020, 1, 19), '085', 'Montrose', 65.7605143229165, 17121694),\n",
       " (datetime.date(2020, 1, 19), '085', 'Santa Clara', 65.76051432291659, 17121694),\n",
       " (datetime.date(2020, 1, 20), '085', 'Lonoke', 65.15788194444433, 19512049),\n",
       " (datetime.date(2020, 1, 20), '085', 'Lowndes', 65.15788194444477, 19512049),\n",
       " (datetime.date(2020, 1, 20), '085', 'Montrose', 65.1578819444446, 19512049),\n",
       " (datetime.date(2020, 1, 20), '085', 'Santa Clara', 65.15788194444457, 19512049),\n",
       " (datetime.date(2020, 1, 21), '085', 'Lonoke', 60.61308159722208, 21228874),\n",
       " (datetime.date(2020, 1, 21), '085', 'Lowndes', 60.613081597221914, 21228874),\n",
       " (datetime.date(2020, 1, 21), '085', 'Montrose', 60.61308159722206, 21228874),\n",
       " (datetime.date(2020, 1, 21), '085', 'Santa Clara', 60.613081597221814, 21228874),\n",
       " (datetime.date(2020, 1, 22), '085', 'Lonoke', 60.13200412326394, 21819554),\n",
       " (datetime.date(2020, 1, 22), '085', 'Lowndes', 60.13200412326409, 21819554),\n",
       " (datetime.date(2020, 1, 22), '085', 'Montrose', 60.13200412326394, 21819554),\n",
       " (datetime.date(2020, 1, 22), '085', 'Santa Clara', 60.13200412326391, 21819554),\n",
       " (datetime.date(2020, 1, 23), '085', 'Lonoke', 60.43396918402759, 22261685),\n",
       " (datetime.date(2020, 1, 23), '085', 'Lowndes', 60.43396918402775, 22261685),\n",
       " (datetime.date(2020, 1, 23), '085', 'Montrose', 60.43396918402749, 22261685),\n",
       " (datetime.date(2020, 1, 23), '085', 'Santa Clara', 60.43396918402773, 22261685),\n",
       " (datetime.date(2020, 1, 24), '085', 'Lonoke', 60.8787163628472, 22406644),\n",
       " (datetime.date(2020, 1, 24), '085', 'Lowndes', 60.878716362847214, 22406644),\n",
       " (datetime.date(2020, 1, 24), '085', 'Montrose', 60.87871636284732, 22406644),\n",
       " (datetime.date(2020, 1, 24), '085', 'Santa Clara', 60.87871636284732, 22406644),\n",
       " (datetime.date(2020, 1, 25), '085', 'Lonoke', 65.3687456597223, 19789251),\n",
       " (datetime.date(2020, 1, 25), '085', 'Lowndes', 65.36874565972215, 19789251),\n",
       " (datetime.date(2020, 1, 25), '085', 'Montrose', 65.36874565972234, 19789251),\n",
       " (datetime.date(2020, 1, 25), '085', 'Santa Clara', 65.36874565972208, 19789251),\n",
       " (datetime.date(2020, 1, 26), '085', 'Lonoke', 65.3679157826014, 16771360),\n",
       " (datetime.date(2020, 1, 26), '085', 'Lowndes', 65.36791578260137, 16771360),\n",
       " (datetime.date(2020, 1, 26), '085', 'Montrose', 65.36791578260151, 16771360),\n",
       " (datetime.date(2020, 1, 26), '085', 'Santa Clara', 65.36791578260157, 16771360),\n",
       " (datetime.date(2020, 1, 27), '085', 'Lonoke', 61.18478407118049, 21426713),\n",
       " (datetime.date(2020, 1, 27), '085', 'Lowndes', 61.18478407118034, 21426713),\n",
       " (datetime.date(2020, 1, 27), '085', 'Montrose', 61.184784071180445, 21426713),\n",
       " (datetime.date(2020, 1, 27), '085', 'Santa Clara', 61.18478407118046, 21426713),\n",
       " (datetime.date(2020, 1, 28), '085', 'Lonoke', 60.56961805555519, 21677017),\n",
       " (datetime.date(2020, 1, 28), '085', 'Lowndes', 60.56961805555561, 21677017),\n",
       " (datetime.date(2020, 1, 28), '085', 'Montrose', 60.56961805555544, 21677017),\n",
       " (datetime.date(2020, 1, 28), '085', 'Santa Clara', 60.56961805555549, 21677017),\n",
       " (datetime.date(2020, 1, 29), '085', 'Lonoke', 60.18614669612639, 21805138),\n",
       " (datetime.date(2020, 1, 29), '085', 'Lowndes', 60.1861466961263, 21805138),\n",
       " (datetime.date(2020, 1, 29), '085', 'Montrose', 60.18614669612642, 21805138),\n",
       " (datetime.date(2020, 1, 29), '085', 'Santa Clara', 60.18614669612616, 21805138),\n",
       " (datetime.date(2020, 1, 30), '085', 'Lonoke', 60.308003472222524, 22001031),\n",
       " (datetime.date(2020, 1, 30), '085', 'Lowndes', 60.30800347222243, 22001031),\n",
       " (datetime.date(2020, 1, 30), '085', 'Montrose', 60.308003472222154, 22001031),\n",
       " (datetime.date(2020, 1, 30), '085', 'Santa Clara', 60.308003472222644, 22001031),\n",
       " (datetime.date(2020, 1, 31), '085', 'Lonoke', 61.09315321180528, 22683669),\n",
       " (datetime.date(2020, 1, 31), '085', 'Lowndes', 61.093153211805635, 22683669),\n",
       " (datetime.date(2020, 1, 31), '085', 'Montrose', 61.09315321180542, 22683669),\n",
       " (datetime.date(2020, 1, 31), '085', 'Santa Clara', 61.093153211805515, 22683669),\n",
       " (datetime.date(2020, 2, 1), '085', 'Lonoke', 65.32104709201393, 19690474),\n",
       " (datetime.date(2020, 2, 1), '085', 'Lowndes', 65.32104709201369, 19690474),\n",
       " (datetime.date(2020, 2, 1), '085', 'Montrose', 65.32104709201383, 19690474),\n",
       " (datetime.date(2020, 2, 1), '085', 'Santa Clara', 65.32104709201381, 19690474),\n",
       " (datetime.date(2020, 2, 2), '085', 'Lonoke', 65.75049913194415, 15926097),\n",
       " (datetime.date(2020, 2, 2), '085', 'Lowndes', 65.7504991319445, 15926097),\n",
       " (datetime.date(2020, 2, 2), '085', 'Montrose', 65.75049913194441, 15926097),\n",
       " (datetime.date(2020, 2, 2), '085', 'Santa Clara', 65.75049913194417, 15926097),\n",
       " (datetime.date(2020, 2, 3), '085', 'Lonoke', 61.03565972222249, 21096647),\n",
       " (datetime.date(2020, 2, 3), '085', 'Lowndes', 61.03565972222238, 21096647),\n",
       " (datetime.date(2020, 2, 3), '085', 'Montrose', 61.03565972222271, 21096647),\n",
       " (datetime.date(2020, 2, 3), '085', 'Santa Clara', 61.035659722222206, 21096647),\n",
       " (datetime.date(2020, 2, 4), '085', 'Lonoke', 60.32340169270825, 21677427),\n",
       " (datetime.date(2020, 2, 4), '085', 'Lowndes', 60.32340169270861, 21677427),\n",
       " (datetime.date(2020, 2, 4), '085', 'Montrose', 60.323401692708266, 21677427),\n",
       " (datetime.date(2020, 2, 4), '085', 'Santa Clara', 60.323401692708636, 21677427),\n",
       " (datetime.date(2020, 2, 5), '085', 'Lonoke', 60.28410156250009, 21893133),\n",
       " (datetime.date(2020, 2, 5), '085', 'Lowndes', 60.28410156250002, 21893133),\n",
       " (datetime.date(2020, 2, 5), '085', 'Montrose', 60.28410156250018, 21893133),\n",
       " (datetime.date(2020, 2, 5), '085', 'Santa Clara', 60.28410156249993, 21893133),\n",
       " (datetime.date(2020, 2, 6), '085', 'Lonoke', 60.24939995659737, 22204843),\n",
       " (datetime.date(2020, 2, 6), '085', 'Lowndes', 60.2493999565971, 22204843),\n",
       " (datetime.date(2020, 2, 6), '085', 'Montrose', 60.24939995659737, 22204843),\n",
       " (datetime.date(2020, 2, 6), '085', 'Santa Clara', 60.24939995659713, 22204843),\n",
       " (datetime.date(2020, 2, 7), '085', 'Lonoke', 61.658378906250206, 22864909),\n",
       " (datetime.date(2020, 2, 7), '085', 'Lowndes', 61.658378906250164, 22864909),\n",
       " (datetime.date(2020, 2, 7), '085', 'Montrose', 61.65837890625024, 22864909),\n",
       " (datetime.date(2020, 2, 7), '085', 'Santa Clara', 61.65837890625029, 22864909),\n",
       " (datetime.date(2020, 2, 8), '085', 'Lonoke', 65.19940646701417, 19785765),\n",
       " (datetime.date(2020, 2, 8), '085', 'Lowndes', 65.19940646701419, 19785765),\n",
       " (datetime.date(2020, 2, 8), '085', 'Montrose', 65.19940646701419, 19785765),\n",
       " (datetime.date(2020, 2, 8), '085', 'Santa Clara', 65.19940646701387, 19785765),\n",
       " (datetime.date(2020, 2, 9), '085', 'Lonoke', 65.4976985677082, 16624498),\n",
       " (datetime.date(2020, 2, 9), '085', 'Lowndes', 65.49769856770851, 16624498),\n",
       " (datetime.date(2020, 2, 9), '085', 'Montrose', 65.49769856770853, 16624498),\n",
       " (datetime.date(2020, 2, 9), '085', 'Santa Clara', 65.49769856770838, 16624498),\n",
       " (datetime.date(2020, 2, 10), '085', 'Lonoke', 60.71033552335729, 20523595),\n",
       " (datetime.date(2020, 2, 10), '085', 'Lowndes', 60.71033552335719, 20523595),\n",
       " (datetime.date(2020, 2, 10), '085', 'Montrose', 60.710335523357344, 20523595),\n",
       " (datetime.date(2020, 2, 10), '085', 'Santa Clara', 60.71033552335737, 20523595),\n",
       " (datetime.date(2020, 2, 11), '085', 'Lonoke', 60.303299533939516, 21614671),\n",
       " (datetime.date(2020, 2, 11), '085', 'Lowndes', 60.30329953393989, 21614671),\n",
       " (datetime.date(2020, 2, 11), '085', 'Montrose', 60.30329953393948, 21614671),\n",
       " (datetime.date(2020, 2, 11), '085', 'Santa Clara', 60.30329953393972, 21614671),\n",
       " (datetime.date(2020, 2, 12), '085', 'Lonoke', 60.098323567708675, 22187890),\n",
       " (datetime.date(2020, 2, 12), '085', 'Lowndes', 60.09832356770857, 22187890),\n",
       " (datetime.date(2020, 2, 12), '085', 'Montrose', 60.098323567708626, 22187890),\n",
       " (datetime.date(2020, 2, 12), '085', 'Santa Clara', 60.09832356770834, 22187890),\n",
       " (datetime.date(2020, 2, 13), '085', 'Lonoke', 59.610905844827535, 22374912),\n",
       " (datetime.date(2020, 2, 13), '085', 'Lowndes', 59.610905844827535, 22374912),\n",
       " (datetime.date(2020, 2, 13), '085', 'Montrose', 59.61090584482749, 22374912),\n",
       " (datetime.date(2020, 2, 13), '085', 'Santa Clara', 59.61090584482752, 22374912),\n",
       " (datetime.date(2020, 2, 14), '085', 'Lonoke', 61.87045464409735, 22997820),\n",
       " (datetime.date(2020, 2, 14), '085', 'Lowndes', 61.87045464409726, 22997820),\n",
       " (datetime.date(2020, 2, 14), '085', 'Montrose', 61.87045464409724, 22997820),\n",
       " (datetime.date(2020, 2, 14), '085', 'Santa Clara', 61.8704546440974, 22997820),\n",
       " (datetime.date(2020, 2, 15), '085', 'Lonoke', 65.39828667534726, 19582596),\n",
       " (datetime.date(2020, 2, 15), '085', 'Lowndes', 65.39828667534728, 19582596),\n",
       " (datetime.date(2020, 2, 15), '085', 'Montrose', 65.39828667534726, 19582596),\n",
       " (datetime.date(2020, 2, 15), '085', 'Santa Clara', 65.39828667534714, 19582596),\n",
       " (datetime.date(2020, 2, 16), '085', 'Lonoke', 65.84875976562496, 17047065),\n",
       " (datetime.date(2020, 2, 16), '085', 'Lowndes', 65.84875976562498, 17047065),\n",
       " (datetime.date(2020, 2, 16), '085', 'Montrose', 65.84875976562498, 17047065),\n",
       " (datetime.date(2020, 2, 16), '085', 'Santa Clara', 65.84875976562505, 17047065),\n",
       " (datetime.date(2020, 2, 17), '085', 'Lonoke', 65.62115125868046, 18655826),\n",
       " (datetime.date(2020, 2, 17), '085', 'Lowndes', 65.62115125868051, 18655826),\n",
       " (datetime.date(2020, 2, 17), '085', 'Montrose', 65.62115125868063, 18655826),\n",
       " (datetime.date(2020, 2, 17), '085', 'Santa Clara', 65.6211512586804, 18655826),\n",
       " (datetime.date(2020, 2, 18), '085', 'Lonoke', 61.46094835069447, 21575867),\n",
       " (datetime.date(2020, 2, 18), '085', 'Lowndes', 61.46094835069461, 21575867),\n",
       " (datetime.date(2020, 2, 18), '085', 'Montrose', 61.46094835069464, 21575867),\n",
       " (datetime.date(2020, 2, 18), '085', 'Santa Clara', 61.46094835069449, 21575867),\n",
       " (datetime.date(2020, 2, 19), '085', 'Lonoke', 61.78387586805576, 21831931),\n",
       " (datetime.date(2020, 2, 19), '085', 'Lowndes', 61.7838758680561, 21831931),\n",
       " (datetime.date(2020, 2, 19), '085', 'Montrose', 61.78387586805579, 21831931),\n",
       " (datetime.date(2020, 2, 19), '085', 'Santa Clara', 61.78387586805622, 21831931),\n",
       " (datetime.date(2020, 2, 20), '085', 'Lonoke', 61.90328884548616, 22182364),\n",
       " (datetime.date(2020, 2, 20), '085', 'Lowndes', 61.90328884548574, 22182364),\n",
       " (datetime.date(2020, 2, 20), '085', 'Montrose', 61.903288845485946, 22182364),\n",
       " (datetime.date(2020, 2, 20), '085', 'Santa Clara', 61.903288845485825, 22182364),\n",
       " (datetime.date(2020, 2, 21), '085', 'Lonoke', 62.79757269965265, 23076203),\n",
       " (datetime.date(2020, 2, 21), '085', 'Lowndes', 62.797572699652676, 23076203),\n",
       " (datetime.date(2020, 2, 21), '085', 'Montrose', 62.79757269965259, 23076203),\n",
       " (datetime.date(2020, 2, 21), '085', 'Santa Clara', 62.797572699652676, 23076203),\n",
       " (datetime.date(2020, 2, 22), '085', 'Lonoke', 65.21609266493081, 20115893),\n",
       " (datetime.date(2020, 2, 22), '085', 'Lowndes', 65.21609266493046, 20115893),\n",
       " (datetime.date(2020, 2, 22), '085', 'Montrose', 65.21609266493088, 20115893),\n",
       " (datetime.date(2020, 2, 22), '085', 'Santa Clara', 65.21609266493017, 20115893),\n",
       " (datetime.date(2020, 2, 23), '085', 'Lonoke', 65.65850368923587, 17290847),\n",
       " (datetime.date(2020, 2, 23), '085', 'Lowndes', 65.65850368923596, 17290847),\n",
       " (datetime.date(2020, 2, 23), '085', 'Montrose', 65.65850368923574, 17290847),\n",
       " (datetime.date(2020, 2, 23), '085', 'Santa Clara', 65.65850368923604, 17290847),\n",
       " (datetime.date(2020, 2, 24), '085', 'Lonoke', 60.77857421875021, 21589773),\n",
       " (datetime.date(2020, 2, 24), '085', 'Lowndes', 60.778574218749824, 21589773),\n",
       " (datetime.date(2020, 2, 24), '085', 'Montrose', 60.77857421874971, 21589773),\n",
       " (datetime.date(2020, 2, 24), '085', 'Santa Clara', 60.778574218749974, 21589773),\n",
       " (datetime.date(2020, 2, 25), '085', 'Lonoke', 59.83998589409714, 22021236),\n",
       " (datetime.date(2020, 2, 25), '085', 'Lowndes', 59.83998589409709, 22021236),\n",
       " (datetime.date(2020, 2, 25), '085', 'Montrose', 59.83998589409703, 22021236),\n",
       " (datetime.date(2020, 2, 25), '085', 'Santa Clara', 59.83998589409715, 22021236),\n",
       " (datetime.date(2020, 2, 26), '085', 'Lonoke', 59.739735243055655, 21879830),\n",
       " (datetime.date(2020, 2, 26), '085', 'Lowndes', 59.73973524305555, 21879830),\n",
       " (datetime.date(2020, 2, 26), '085', 'Montrose', 59.739735243055534, 21879830),\n",
       " (datetime.date(2020, 2, 26), '085', 'Santa Clara', 59.739735243055655, 21879830),\n",
       " (datetime.date(2020, 2, 27), '085', 'Lonoke', 60.15214301215247, 22456996),\n",
       " (datetime.date(2020, 2, 27), '085', 'Lowndes', 60.15214301215316, 22456996),\n",
       " (datetime.date(2020, 2, 27), '085', 'Montrose', 60.152143012152614, 22456996),\n",
       " (datetime.date(2020, 2, 27), '085', 'Santa Clara', 60.15214301215312, 22456996),\n",
       " (datetime.date(2020, 2, 28), '085', 'Lonoke', 61.1427213541665, 23278715),\n",
       " (datetime.date(2020, 2, 28), '085', 'Lowndes', 61.1427213541665, 23278715),\n",
       " (datetime.date(2020, 2, 28), '085', 'Montrose', 61.14272135416656, 23278715),\n",
       " (datetime.date(2020, 2, 28), '085', 'Santa Clara', 61.14272135416647, 23278715),\n",
       " (datetime.date(2020, 2, 29), '085', 'Lonoke', 64.9937315538194, 20078285),\n",
       " (datetime.date(2020, 2, 29), '085', 'Lowndes', 64.99373155381923, 20078285),\n",
       " (datetime.date(2020, 2, 29), '085', 'Montrose', 64.99373155381907, 20078285),\n",
       " (datetime.date(2020, 2, 29), '085', 'Santa Clara', 64.99373155381949, 20078285),\n",
       " (datetime.date(2020, 3, 1), '085', 'Lonoke', 65.48683159722196, 16987743),\n",
       " (datetime.date(2020, 3, 1), '085', 'Lowndes', 65.4868315972217, 16987743),\n",
       " (datetime.date(2020, 3, 1), '085', 'Montrose', 65.48683159722206, 16987743),\n",
       " (datetime.date(2020, 3, 1), '085', 'Santa Clara', 65.48683159722187, 16987743),\n",
       " (datetime.date(2020, 3, 2), '085', 'Lonoke', 60.817320963541555, 21366536),\n",
       " (datetime.date(2020, 3, 2), '085', 'Lowndes', 60.81732096354189, 21366536),\n",
       " (datetime.date(2020, 3, 2), '085', 'Montrose', 60.81732096354149, 21366536),\n",
       " (datetime.date(2020, 3, 2), '085', 'Santa Clara', 60.81732096354175, 21366536),\n",
       " (datetime.date(2020, 3, 3), '085', 'Lonoke', 60.13001627604164, 21791232),\n",
       " (datetime.date(2020, 3, 3), '085', 'Lowndes', 60.13001627604183, 21791232),\n",
       " (datetime.date(2020, 3, 3), '085', 'Montrose', 60.13001627604145, 21791232),\n",
       " (datetime.date(2020, 3, 3), '085', 'Santa Clara', 60.130016276041744, 21791232),\n",
       " (datetime.date(2020, 3, 4), '085', 'Lonoke', 60.53632052951398, 21852850),\n",
       " (datetime.date(2020, 3, 4), '085', 'Lowndes', 60.536320529513915, 21852850),\n",
       " (datetime.date(2020, 3, 4), '085', 'Montrose', 60.536320529513965, 21852850),\n",
       " (datetime.date(2020, 3, 4), '085', 'Santa Clara', 60.53632052951396, 21852850),\n",
       " (datetime.date(2020, 3, 5), '085', 'Lonoke', 60.8292013888893, 21959151),\n",
       " (datetime.date(2020, 3, 5), '085', 'Lowndes', 60.829201388889025, 21959151),\n",
       " (datetime.date(2020, 3, 5), '085', 'Montrose', 60.82920138888883, 21959151),\n",
       " (datetime.date(2020, 3, 5), '085', 'Santa Clara', 60.829201388889075, 21959151),\n",
       " (datetime.date(2020, 3, 6), '085', 'Lonoke', 62.383067491319444, 22520575),\n",
       " (datetime.date(2020, 3, 6), '085', 'Lowndes', 62.38306749131968, 22520575),\n",
       " (datetime.date(2020, 3, 6), '085', 'Montrose', 62.383067491319444, 22520575),\n",
       " (datetime.date(2020, 3, 6), '085', 'Santa Clara', 62.38306749131964, 22520575),\n",
       " (datetime.date(2020, 3, 7), '085', 'Lonoke', 64.73582248263885, 18224268),\n",
       " (datetime.date(2020, 3, 7), '085', 'Lowndes', 64.7358224826388, 18224268),\n",
       " (datetime.date(2020, 3, 7), '085', 'Montrose', 64.73582248263894, 18224268),\n",
       " (datetime.date(2020, 3, 7), '085', 'Santa Clara', 64.7358224826388, 18224268),\n",
       " (datetime.date(2020, 3, 8), '085', 'Lonoke', 65.7834307065215, 15845660),\n",
       " (datetime.date(2020, 3, 8), '085', 'Lowndes', 65.7834307065218, 15845660),\n",
       " (datetime.date(2020, 3, 8), '085', 'Montrose', 65.78343070652166, 15845660),\n",
       " (datetime.date(2020, 3, 8), '085', 'Santa Clara', 65.78343070652166, 15845660),\n",
       " (datetime.date(2020, 3, 9), '085', 'Lonoke', 63.490636935763824, 20683203),\n",
       " (datetime.date(2020, 3, 9), '085', 'Lowndes', 63.49063693576404, 20683203),\n",
       " (datetime.date(2020, 3, 9), '085', 'Montrose', 63.49063693576397, 20683203),\n",
       " (datetime.date(2020, 3, 9), '085', 'Santa Clara', 63.490636935763845, 20683203),\n",
       " (datetime.date(2020, 3, 10), '085', 'Lonoke', 63.2798262757873, 19905527),\n",
       " (datetime.date(2020, 3, 10), '085', 'Lowndes', 63.27982627578739, 19905527),\n",
       " (datetime.date(2020, 3, 10), '085', 'Montrose', 63.279826275787165, 19905527),\n",
       " (datetime.date(2020, 3, 10), '085', 'Santa Clara', 63.27982627578749, 19905527),\n",
       " (datetime.date(2020, 3, 11), '085', 'Lonoke', 63.57746744791662, 20778053),\n",
       " (datetime.date(2020, 3, 11), '085', 'Lowndes', 63.577467447916725, 20778053),\n",
       " (datetime.date(2020, 3, 11), '085', 'Montrose', 63.57746744791651, 20778053),\n",
       " (datetime.date(2020, 3, 11), '085', 'Santa Clara', 63.57746744791669, 20778053),\n",
       " (datetime.date(2020, 3, 12), '085', 'Lonoke', 63.79717339409713, 20454837),\n",
       " (datetime.date(2020, 3, 12), '085', 'Lowndes', 63.79717339409688, 20454837),\n",
       " (datetime.date(2020, 3, 12), '085', 'Montrose', 63.797173394097044, 20454837),\n",
       " (datetime.date(2020, 3, 12), '085', 'Santa Clara', 63.79717339409688, 20454837),\n",
       " (datetime.date(2020, 3, 13), '085', 'Lonoke', 64.43173479485424, 20089580),\n",
       " (datetime.date(2020, 3, 13), '085', 'Lowndes', 64.43173479485435, 20089580),\n",
       " (datetime.date(2020, 3, 13), '085', 'Montrose', 64.43173479485431, 20089580),\n",
       " (datetime.date(2020, 3, 13), '085', 'Santa Clara', 64.43173479485438, 20089580),\n",
       " (datetime.date(2020, 3, 14), '085', 'Lonoke', 65.16632285972034, 14534709),\n",
       " (datetime.date(2020, 3, 14), '085', 'Lowndes', 65.16632285971986, 14534709),\n",
       " (datetime.date(2020, 3, 14), '085', 'Montrose', 65.1663228597204, 14534709),\n",
       " (datetime.date(2020, 3, 14), '085', 'Santa Clara', 65.16632285971976, 14534709),\n",
       " (datetime.date(2020, 3, 15), '085', 'Lonoke', 65.70470486111108, 11619619),\n",
       " (datetime.date(2020, 3, 15), '085', 'Lowndes', 65.70470486111122, 11619619),\n",
       " (datetime.date(2020, 3, 15), '085', 'Montrose', 65.70470486111111, 11619619),\n",
       " (datetime.date(2020, 3, 15), '085', 'Santa Clara', 65.70470486111097, 11619619),\n",
       " (datetime.date(2020, 3, 16), '085', 'Lonoke', 64.67489474826392, 17240759),\n",
       " (datetime.date(2020, 3, 16), '085', 'Lowndes', 64.67489474826381, 17240759),\n",
       " (datetime.date(2020, 3, 16), '085', 'Montrose', 64.6748947482639, 17240759),\n",
       " (datetime.date(2020, 3, 16), '085', 'Santa Clara', 64.67489474826381, 17240759),\n",
       " (datetime.date(2020, 3, 17), '085', 'Lonoke', 65.74581814236106, 11756237),\n",
       " (datetime.date(2020, 3, 17), '085', 'Lowndes', 65.7458181423611, 11756237),\n",
       " (datetime.date(2020, 3, 17), '085', 'Montrose', 65.74581814236139, 11756237),\n",
       " (datetime.date(2020, 3, 17), '085', 'Santa Clara', 65.74581814236103, 11756237),\n",
       " (datetime.date(2020, 3, 18), '085', 'Lonoke', 65.52980573041027, 11625330),\n",
       " (datetime.date(2020, 3, 18), '085', 'Lowndes', 65.52980573041015, 11625330),\n",
       " (datetime.date(2020, 3, 18), '085', 'Montrose', 65.52980573041012, 11625330),\n",
       " (datetime.date(2020, 3, 18), '085', 'Santa Clara', 65.52980573041015, 11625330),\n",
       " (datetime.date(2020, 3, 19), '085', 'Lonoke', 65.69725585937506, 11703889),\n",
       " (datetime.date(2020, 3, 19), '085', 'Lowndes', 65.69725585937502, 11703889),\n",
       " (datetime.date(2020, 3, 19), '085', 'Montrose', 65.69725585937512, 11703889),\n",
       " (datetime.date(2020, 3, 19), '085', 'Santa Clara', 65.69725585937506, 11703889),\n",
       " (datetime.date(2020, 3, 20), '085', 'Lonoke', 65.44162868923635, 12551142),\n",
       " (datetime.date(2020, 3, 20), '085', 'Lowndes', 65.44162868923624, 12551142),\n",
       " (datetime.date(2020, 3, 20), '085', 'Montrose', 65.44162868923625, 12551142),\n",
       " (datetime.date(2020, 3, 20), '085', 'Santa Clara', 65.44162868923613, 12551142),\n",
       " (datetime.date(2020, 3, 21), '085', 'Lonoke', 66.33525933159707, 9998823),\n",
       " (datetime.date(2020, 3, 21), '085', 'Lowndes', 66.3352593315968, 9998823),\n",
       " (datetime.date(2020, 3, 21), '085', 'Montrose', 66.33525933159721, 9998823),\n",
       " (datetime.date(2020, 3, 21), '085', 'Santa Clara', 66.33525933159689, 9998823),\n",
       " (datetime.date(2020, 3, 22), '085', 'Lonoke', 66.15925455729175, 8302108),\n",
       " (datetime.date(2020, 3, 22), '085', 'Lowndes', 66.15925455729186, 8302108),\n",
       " (datetime.date(2020, 3, 22), '085', 'Montrose', 66.15925455729206, 8302108),\n",
       " (datetime.date(2020, 3, 22), '085', 'Santa Clara', 66.15925455729173, 8302108),\n",
       " (datetime.date(2020, 3, 23), '085', 'Lonoke', 65.60848063059129, 11794672),\n",
       " (datetime.date(2020, 3, 23), '085', 'Lowndes', 65.60848063059169, 11794672),\n",
       " (datetime.date(2020, 3, 23), '085', 'Montrose', 65.60848063059143, 11794672),\n",
       " (datetime.date(2020, 3, 23), '085', 'Santa Clara', 65.60848063059129, 11794672),\n",
       " (datetime.date(2020, 3, 24), '085', 'Lonoke', 66.18026909722212, 10318493),\n",
       " (datetime.date(2020, 3, 24), '085', 'Lowndes', 66.18026909722234, 10318493),\n",
       " (datetime.date(2020, 3, 24), '085', 'Montrose', 66.18026909722224, 10318493),\n",
       " (datetime.date(2020, 3, 24), '085', 'Santa Clara', 66.18026909722235, 10318493),\n",
       " (datetime.date(2020, 3, 25), '085', 'Lonoke', 65.92306532118026, 11165041),\n",
       " (datetime.date(2020, 3, 25), '085', 'Lowndes', 65.92306532118054, 11165041),\n",
       " (datetime.date(2020, 3, 25), '085', 'Montrose', 65.92306532118042, 11165041),\n",
       " (datetime.date(2020, 3, 25), '085', 'Santa Clara', 65.92306532118057, 11165041),\n",
       " (datetime.date(2020, 3, 26), '085', 'Lonoke', 65.92794379340263, 10829918),\n",
       " (datetime.date(2020, 3, 26), '085', 'Lowndes', 65.92794379340299, 10829918),\n",
       " (datetime.date(2020, 3, 26), '085', 'Montrose', 65.92794379340279, 10829918),\n",
       " (datetime.date(2020, 3, 26), '085', 'Santa Clara', 65.92794379340296, 10829918),\n",
       " (datetime.date(2020, 3, 27), '085', 'Lonoke', 65.9549294704862, 11278737),\n",
       " (datetime.date(2020, 3, 27), '085', 'Lowndes', 65.954929470486, 11278737),\n",
       " (datetime.date(2020, 3, 27), '085', 'Montrose', 65.9549294704863, 11278737),\n",
       " (datetime.date(2020, 3, 27), '085', 'Santa Clara', 65.95492947048628, 11278737),\n",
       " (datetime.date(2020, 3, 28), '085', 'Lonoke', 66.36711154513897, 8119608),\n",
       " (datetime.date(2020, 3, 28), '085', 'Lowndes', 66.36711154513905, 8119608),\n",
       " (datetime.date(2020, 3, 28), '085', 'Montrose', 66.36711154513924, 8119608),\n",
       " (datetime.date(2020, 3, 28), '085', 'Santa Clara', 66.36711154513891, 8119608),\n",
       " (datetime.date(2020, 3, 29), '085', 'Lonoke', 66.5606152343748, 7111587),\n",
       " (datetime.date(2020, 3, 29), '085', 'Lowndes', 66.5606152343748, 7111587),\n",
       " (datetime.date(2020, 3, 29), '085', 'Montrose', 66.56061523437485, 7111587),\n",
       " (datetime.date(2020, 3, 29), '085', 'Santa Clara', 66.56061523437477, 7111587),\n",
       " (datetime.date(2020, 3, 30), '085', 'Lonoke', 66.06332573784732, 10811435),\n",
       " (datetime.date(2020, 3, 30), '085', 'Lowndes', 66.06332573784714, 10811435),\n",
       " (datetime.date(2020, 3, 30), '085', 'Montrose', 66.06332573784718, 10811435),\n",
       " (datetime.date(2020, 3, 30), '085', 'Santa Clara', 66.06332573784698, 10811435),\n",
       " (datetime.date(2020, 3, 31), '085', 'Lonoke', 66.0223133680553, 10797849),\n",
       " (datetime.date(2020, 3, 31), '085', 'Lowndes', 66.02231336805563, 10797849),\n",
       " (datetime.date(2020, 3, 31), '085', 'Montrose', 66.02231336805555, 10797849),\n",
       " (datetime.date(2020, 3, 31), '085', 'Santa Clara', 66.02231336805522, 10797849),\n",
       " (datetime.date(2020, 4, 1), '085', 'Lonoke', 65.92976779513911, 10895719),\n",
       " (datetime.date(2020, 4, 1), '085', 'Lowndes', 65.92976779513944, 10895719),\n",
       " (datetime.date(2020, 4, 1), '085', 'Montrose', 65.9297677951392, 10895719),\n",
       " (datetime.date(2020, 4, 1), '085', 'Santa Clara', 65.92976779513924, 10895719),\n",
       " (datetime.date(2020, 4, 2), '085', 'Lonoke', 65.98608506944458, 10738294),\n",
       " (datetime.date(2020, 4, 2), '085', 'Lowndes', 65.9860850694445, 10738294),\n",
       " (datetime.date(2020, 4, 2), '085', 'Montrose', 65.98608506944434, 10738294),\n",
       " (datetime.date(2020, 4, 2), '085', 'Santa Clara', 65.9860850694446, 10738294),\n",
       " (datetime.date(2020, 4, 3), '085', 'Lonoke', 66.00477864583324, 11373951),\n",
       " (datetime.date(2020, 4, 3), '085', 'Lowndes', 66.00477864583355, 11373951),\n",
       " (datetime.date(2020, 4, 3), '085', 'Montrose', 66.00477864583367, 11373951),\n",
       " (datetime.date(2020, 4, 3), '085', 'Santa Clara', 66.00477864583347, 11373951),\n",
       " (datetime.date(2020, 4, 4), '085', 'Lonoke', 66.47971296547976, 8155059),\n",
       " (datetime.date(2020, 4, 4), '085', 'Lowndes', 66.47971296547973, 8155059),\n",
       " (datetime.date(2020, 4, 4), '085', 'Montrose', 66.47971296548013, 8155059),\n",
       " (datetime.date(2020, 4, 4), '085', 'Santa Clara', 66.4797129654799, 8155059),\n",
       " (datetime.date(2020, 4, 5), '085', 'Lonoke', 65.89185872395852, 6355470),\n",
       " (datetime.date(2020, 4, 5), '085', 'Lowndes', 65.89185872395845, 6355470),\n",
       " (datetime.date(2020, 4, 5), '085', 'Montrose', 65.89185872395852, 6355470),\n",
       " (datetime.date(2020, 4, 5), '085', 'Santa Clara', 65.89185872395856, 6355470),\n",
       " (datetime.date(2020, 4, 6), '085', 'Lonoke', 65.53931315104138, 10113769),\n",
       " (datetime.date(2020, 4, 6), '085', 'Lowndes', 65.53931315104158, 10113769),\n",
       " (datetime.date(2020, 4, 6), '085', 'Montrose', 65.53931315104164, 10113769),\n",
       " (datetime.date(2020, 4, 6), '085', 'Santa Clara', 65.53931315104134, 10113769),\n",
       " (datetime.date(2020, 4, 7), '085', 'Lonoke', 66.12471462673601, 10346426),\n",
       " (datetime.date(2020, 4, 7), '085', 'Lowndes', 66.12471462673618, 10346426),\n",
       " (datetime.date(2020, 4, 7), '085', 'Montrose', 66.12471462673625, 10346426),\n",
       " (datetime.date(2020, 4, 7), '085', 'Santa Clara', 66.12471462673635, 10346426),\n",
       " (datetime.date(2020, 4, 8), '085', 'Lonoke', 66.02029730902795, 10711831),\n",
       " (datetime.date(2020, 4, 8), '085', 'Lowndes', 66.02029730902765, 10711831),\n",
       " (datetime.date(2020, 4, 8), '085', 'Montrose', 66.02029730902815, 10711831),\n",
       " (datetime.date(2020, 4, 8), '085', 'Santa Clara', 66.02029730902791, 10711831),\n",
       " (datetime.date(2020, 4, 9), '085', 'Lonoke', 66.06141710069467, 10593626),\n",
       " (datetime.date(2020, 4, 9), '085', 'Lowndes', 66.06141710069454, 10593626),\n",
       " (datetime.date(2020, 4, 9), '085', 'Montrose', 66.06141710069474, 10593626),\n",
       " (datetime.date(2020, 4, 9), '085', 'Santa Clara', 66.06141710069465, 10593626),\n",
       " (datetime.date(2020, 4, 10), '085', 'Lonoke', 66.12066297743033, 11109660),\n",
       " (datetime.date(2020, 4, 10), '085', 'Lowndes', 66.12066297743063, 11109660),\n",
       " (datetime.date(2020, 4, 10), '085', 'Montrose', 66.12066297743036, 11109660),\n",
       " (datetime.date(2020, 4, 10), '085', 'Santa Clara', 66.12066297743057, 11109660),\n",
       " (datetime.date(2020, 4, 11), '085', 'Lonoke', 66.41077148437495, 8811663),\n",
       " (datetime.date(2020, 4, 11), '085', 'Lowndes', 66.41077148437466, 8811663),\n",
       " (datetime.date(2020, 4, 11), '085', 'Montrose', 66.41077148437503, 8811663),\n",
       " (datetime.date(2020, 4, 11), '085', 'Santa Clara', 66.41077148437473, 8811663),\n",
       " (datetime.date(2020, 4, 12), '085', 'Lonoke', 66.46460503472215, 7251094),\n",
       " (datetime.date(2020, 4, 12), '085', 'Lowndes', 66.46460503472179, 7251094),\n",
       " (datetime.date(2020, 4, 12), '085', 'Montrose', 66.46460503472233, 7251094),\n",
       " (datetime.date(2020, 4, 12), '085', 'Santa Clara', 66.46460503472215, 7251094),\n",
       " (datetime.date(2020, 4, 13), '085', 'Lonoke', 66.12947952961628, 10711209),\n",
       " (datetime.date(2020, 4, 13), '085', 'Lowndes', 66.12947952961636, 10711209),\n",
       " (datetime.date(2020, 4, 13), '085', 'Montrose', 66.1294795296164, 10711209),\n",
       " (datetime.date(2020, 4, 13), '085', 'Santa Clara', 66.12947952961629, 10711209),\n",
       " (datetime.date(2020, 4, 14), '085', 'Lonoke', 65.88573195742038, 10847941),\n",
       " (datetime.date(2020, 4, 14), '085', 'Lowndes', 65.88573195742019, 10847941),\n",
       " (datetime.date(2020, 4, 14), '085', 'Montrose', 65.88573195742023, 10847941),\n",
       " (datetime.date(2020, 4, 14), '085', 'Santa Clara', 65.88573195742013, 10847941),\n",
       " (datetime.date(2020, 4, 15), '085', 'Lonoke', 65.8361020075963, 11093078),\n",
       " (datetime.date(2020, 4, 15), '085', 'Lowndes', 65.83610200759652, 11093078),\n",
       " (datetime.date(2020, 4, 15), '085', 'Montrose', 65.83610200759635, 11093078),\n",
       " (datetime.date(2020, 4, 15), '085', 'Santa Clara', 65.83610200759668, 11093078),\n",
       " (datetime.date(2020, 4, 16), '085', 'Lonoke', 65.84607596310403, 11079170),\n",
       " (datetime.date(2020, 4, 16), '085', 'Lowndes', 65.84607596310363, 11079170),\n",
       " (datetime.date(2020, 4, 16), '085', 'Montrose', 65.84607596310371, 11079170),\n",
       " (datetime.date(2020, 4, 16), '085', 'Santa Clara', 65.84607596310396, 11079170),\n",
       " (datetime.date(2020, 4, 17), '085', 'Lonoke', 65.86267035590281, 11816319),\n",
       " (datetime.date(2020, 4, 17), '085', 'Lowndes', 65.86267035590274, 11816319),\n",
       " (datetime.date(2020, 4, 17), '085', 'Montrose', 65.8626703559026, 11816319),\n",
       " (datetime.date(2020, 4, 17), '085', 'Santa Clara', 65.8626703559029, 11816319),\n",
       " (datetime.date(2020, 4, 18), '085', 'Lonoke', 66.38542968750042, 9258109),\n",
       " (datetime.date(2020, 4, 18), '085', 'Lowndes', 66.38542968750055, 9258109),\n",
       " (datetime.date(2020, 4, 18), '085', 'Montrose', 66.3854296875001, 9258109),\n",
       " (datetime.date(2020, 4, 18), '085', 'Santa Clara', 66.38542968750038, 9258109),\n",
       " (datetime.date(2020, 4, 19), '085', 'Lonoke', 66.31933485243013, 8085465),\n",
       " (datetime.date(2020, 4, 19), '085', 'Lowndes', 66.31933485243023, 8085465),\n",
       " (datetime.date(2020, 4, 19), '085', 'Montrose', 66.3193348524306, 8085465),\n",
       " (datetime.date(2020, 4, 19), '085', 'Santa Clara', 66.3193348524302, 8085465),\n",
       " (datetime.date(2020, 4, 20), '085', 'Lonoke', 66.02284830729174, 11207005),\n",
       " (datetime.date(2020, 4, 20), '085', 'Lowndes', 66.02284830729158, 11207005),\n",
       " (datetime.date(2020, 4, 20), '085', 'Montrose', 66.0228483072917, 11207005),\n",
       " (datetime.date(2020, 4, 20), '085', 'Santa Clara', 66.0228483072917, 11207005),\n",
       " (datetime.date(2020, 4, 21), '085', 'Lonoke', 65.92950086805543, 11143210),\n",
       " (datetime.date(2020, 4, 21), '085', 'Lowndes', 65.9295008680555, 11143210),\n",
       " (datetime.date(2020, 4, 21), '085', 'Montrose', 65.92950086805523, 11143210),\n",
       " (datetime.date(2020, 4, 21), '085', 'Santa Clara', 65.92950086805543, 11143210),\n",
       " (datetime.date(2020, 4, 22), '085', 'Lonoke', 65.70002170138903, 11465079),\n",
       " (datetime.date(2020, 4, 22), '085', 'Lowndes', 65.7000217013888, 11465079),\n",
       " (datetime.date(2020, 4, 22), '085', 'Montrose', 65.70002170138899, 11465079),\n",
       " (datetime.date(2020, 4, 22), '085', 'Santa Clara', 65.70002170138909, 11465079),\n",
       " (datetime.date(2020, 4, 23), '085', 'Lonoke', 65.77585623128009, 11198058),\n",
       " (datetime.date(2020, 4, 23), '085', 'Lowndes', 65.77585623128007, 11198058),\n",
       " (datetime.date(2020, 4, 23), '085', 'Montrose', 65.77585623128017, 11198058),\n",
       " (datetime.date(2020, 4, 23), '085', 'Santa Clara', 65.77585623128007, 11198058),\n",
       " (datetime.date(2020, 4, 24), '085', 'Lonoke', 65.81124240451415, 12350056),\n",
       " (datetime.date(2020, 4, 24), '085', 'Lowndes', 65.811242404514, 12350056),\n",
       " (datetime.date(2020, 4, 24), '085', 'Montrose', 65.81124240451415, 12350056),\n",
       " (datetime.date(2020, 4, 24), '085', 'Santa Clara', 65.81124240451425, 12350056),\n",
       " (datetime.date(2020, 4, 25), '085', 'Lonoke', 66.4191289300989, 10192997),\n",
       " (datetime.date(2020, 4, 25), '085', 'Lowndes', 66.41912893009875, 10192997),\n",
       " (datetime.date(2020, 4, 25), '085', 'Montrose', 66.41912893009885, 10192997),\n",
       " (datetime.date(2020, 4, 25), '085', 'Santa Clara', 66.41912893009865, 10192997),\n",
       " (datetime.date(2020, 4, 26), '085', 'Lonoke', 66.20255750867993, 8701878),\n",
       " (datetime.date(2020, 4, 26), '085', 'Lowndes', 66.20255750868019, 8701878),\n",
       " (datetime.date(2020, 4, 26), '085', 'Montrose', 66.20255750868043, 8701878),\n",
       " (datetime.date(2020, 4, 26), '085', 'Santa Clara', 66.20255750868009, 8701878),\n",
       " (datetime.date(2020, 4, 27), '085', 'Lonoke', 65.78835720486092, 11798432),\n",
       " (datetime.date(2020, 4, 27), '085', 'Lowndes', 65.78835720486116, 11798432),\n",
       " (datetime.date(2020, 4, 27), '085', 'Montrose', 65.78835720486093, 11798432),\n",
       " (datetime.date(2020, 4, 27), '085', 'Santa Clara', 65.78835720486101, 11798432),\n",
       " (datetime.date(2020, 4, 28), '085', 'Lonoke', 65.74404079861122, 11800605),\n",
       " (datetime.date(2020, 4, 28), '085', 'Lowndes', 65.74404079861122, 11800605),\n",
       " (datetime.date(2020, 4, 28), '085', 'Montrose', 65.74404079861112, 11800605),\n",
       " (datetime.date(2020, 4, 28), '085', 'Santa Clara', 65.7440407986112, 11800605),\n",
       " (datetime.date(2020, 4, 29), '085', 'Lonoke', 65.75379665798603, 12049484),\n",
       " (datetime.date(2020, 4, 29), '085', 'Lowndes', 65.75379665798616, 12049484),\n",
       " (datetime.date(2020, 4, 29), '085', 'Montrose', 65.75379665798603, 12049484),\n",
       " (datetime.date(2020, 4, 29), '085', 'Santa Clara', 65.75379665798603, 12049484),\n",
       " (datetime.date(2020, 4, 30), '085', 'Lonoke', 65.74590233315257, 12275673),\n",
       " (datetime.date(2020, 4, 30), '085', 'Lowndes', 65.74590233315253, 12275673),\n",
       " (datetime.date(2020, 4, 30), '085', 'Montrose', 65.74590233315249, 12275673),\n",
       " (datetime.date(2020, 4, 30), '085', 'Santa Clara', 65.74590233315233, 12275673),\n",
       " (datetime.date(2020, 5, 1), '085', 'Lonoke', 65.67104434844886, 13008363),\n",
       " (datetime.date(2020, 5, 1), '085', 'Lowndes', 65.67104434844886, 13008363),\n",
       " (datetime.date(2020, 5, 1), '085', 'Montrose', 65.67104434844882, 13008363),\n",
       " (datetime.date(2020, 5, 1), '085', 'Santa Clara', 65.67104434844865, 13008363),\n",
       " (datetime.date(2020, 5, 2), '085', 'Lonoke', 66.20207031249997, 10636588),\n",
       " (datetime.date(2020, 5, 2), '085', 'Lowndes', 66.2020703124997, 10636588),\n",
       " (datetime.date(2020, 5, 2), '085', 'Montrose', 66.20207031250006, 10636588),\n",
       " (datetime.date(2020, 5, 2), '085', 'Santa Clara', 66.2020703124998, 10636588),\n",
       " (datetime.date(2020, 5, 3), '085', 'Lonoke', 66.24104275173622, 9361853),\n",
       " (datetime.date(2020, 5, 3), '085', 'Lowndes', 66.24104275173586, 9361853),\n",
       " (datetime.date(2020, 5, 3), '085', 'Montrose', 66.24104275173613, 9361853),\n",
       " (datetime.date(2020, 5, 3), '085', 'Santa Clara', 66.24104275173585, 9361853),\n",
       " (datetime.date(2020, 5, 4), '085', 'Lonoke', 65.57233615451419, 12668583),\n",
       " (datetime.date(2020, 5, 4), '085', 'Lowndes', 65.57233615451405, 12668583),\n",
       " (datetime.date(2020, 5, 4), '085', 'Montrose', 65.57233615451409, 12668583),\n",
       " (datetime.date(2020, 5, 4), '085', 'Santa Clara', 65.57233615451393, 12668583),\n",
       " (datetime.date(2020, 5, 5), '085', 'Lonoke', 65.48590169270834, 12941501),\n",
       " (datetime.date(2020, 5, 5), '085', 'Lowndes', 65.48590169270814, 12941501),\n",
       " (datetime.date(2020, 5, 5), '085', 'Montrose', 65.4859016927081, 12941501),\n",
       " (datetime.date(2020, 5, 5), '085', 'Santa Clara', 65.4859016927079, 12941501),\n",
       " (datetime.date(2020, 5, 6), '085', 'Lonoke', 65.37545247395822, 13246972),\n",
       " (datetime.date(2020, 5, 6), '085', 'Lowndes', 65.37545247395833, 13246972),\n",
       " (datetime.date(2020, 5, 6), '085', 'Montrose', 65.37545247395815, 13246972),\n",
       " (datetime.date(2020, 5, 6), '085', 'Santa Clara', 65.37545247395818, 13246972),\n",
       " (datetime.date(2020, 5, 7), '085', 'Lonoke', 65.33871076354926, 13382722),\n",
       " (datetime.date(2020, 5, 7), '085', 'Lowndes', 65.33871076354937, 13382722),\n",
       " (datetime.date(2020, 5, 7), '085', 'Montrose', 65.33871076354957, 13382722),\n",
       " (datetime.date(2020, 5, 7), '085', 'Santa Clara', 65.3387107635493, 13382722),\n",
       " (datetime.date(2020, 5, 8), '085', 'Lonoke', 65.31777452256964, 14157028),\n",
       " (datetime.date(2020, 5, 8), '085', 'Lowndes', 65.31777452256975, 14157028),\n",
       " (datetime.date(2020, 5, 8), '085', 'Montrose', 65.3177745225694, 14157028),\n",
       " (datetime.date(2020, 5, 8), '085', 'Santa Clara', 65.31777452256962, 14157028),\n",
       " (datetime.date(2020, 5, 9), '085', 'Lonoke', 66.12486002604203, 11851686),\n",
       " (datetime.date(2020, 5, 9), '085', 'Lowndes', 66.12486002604214, 11851686),\n",
       " (datetime.date(2020, 5, 9), '085', 'Montrose', 66.1248600260421, 11851686),\n",
       " (datetime.date(2020, 5, 9), '085', 'Santa Clara', 66.12486002604203, 11851686),\n",
       " (datetime.date(2020, 5, 10), '085', 'Lonoke', 66.43721245659724, 10770608),\n",
       " (datetime.date(2020, 5, 10), '085', 'Lowndes', 66.43721245659671, 10770608),\n",
       " (datetime.date(2020, 5, 10), '085', 'Montrose', 66.43721245659712, 10770608),\n",
       " (datetime.date(2020, 5, 10), '085', 'Santa Clara', 66.437212456597, 10770608),\n",
       " (datetime.date(2020, 5, 11), '085', 'Lonoke', 65.41117621527778, 13027188),\n",
       " (datetime.date(2020, 5, 11), '085', 'Lowndes', 65.41117621527766, 13027188),\n",
       " (datetime.date(2020, 5, 11), '085', 'Montrose', 65.41117621527812, 13027188),\n",
       " (datetime.date(2020, 5, 11), '085', 'Santa Clara', 65.41117621527755, 13027188),\n",
       " (datetime.date(2020, 5, 12), '085', 'Lonoke', 65.35257921006965, 13307276),\n",
       " (datetime.date(2020, 5, 12), '085', 'Lowndes', 65.35257921006972, 13307276),\n",
       " (datetime.date(2020, 5, 12), '085', 'Montrose', 65.35257921006972, 13307276),\n",
       " (datetime.date(2020, 5, 12), '085', 'Santa Clara', 65.35257921006944, 13307276),\n",
       " (datetime.date(2020, 5, 13), '085', 'Lonoke', 65.50502170138881, 13506368),\n",
       " (datetime.date(2020, 5, 13), '085', 'Lowndes', 65.5050217013892, 13506368),\n",
       " (datetime.date(2020, 5, 13), '085', 'Montrose', 65.50502170138856, 13506368),\n",
       " (datetime.date(2020, 5, 13), '085', 'Santa Clara', 65.50502170138913, 13506368),\n",
       " (datetime.date(2020, 5, 14), '085', 'Lonoke', 65.49574001736099, 13882503),\n",
       " (datetime.date(2020, 5, 14), '085', 'Lowndes', 65.4957400173608, 13882503),\n",
       " (datetime.date(2020, 5, 14), '085', 'Montrose', 65.49574001736099, 13882503),\n",
       " (datetime.date(2020, 5, 14), '085', 'Santa Clara', 65.49574001736099, 13882503),\n",
       " (datetime.date(2020, 5, 15), '085', 'Lonoke', 65.27146484374991, 14771752),\n",
       " (datetime.date(2020, 5, 15), '085', 'Lowndes', 65.27146484374978, 14771752),\n",
       " (datetime.date(2020, 5, 15), '085', 'Montrose', 65.2714648437498, 14771752),\n",
       " (datetime.date(2020, 5, 15), '085', 'Santa Clara', 65.27146484374983, 14771752),\n",
       " (datetime.date(2020, 5, 16), '085', 'Lonoke', 66.19176974826372, 12177123),\n",
       " (datetime.date(2020, 5, 16), '085', 'Lowndes', 66.19176974826404, 12177123),\n",
       " (datetime.date(2020, 5, 16), '085', 'Montrose', 66.19176974826375, 12177123),\n",
       " (datetime.date(2020, 5, 16), '085', 'Santa Clara', 66.19176974826371, 12177123),\n",
       " (datetime.date(2020, 5, 17), '085', 'Lonoke', 66.29683919270828, 9549427),\n",
       " (datetime.date(2020, 5, 17), '085', 'Lowndes', 66.29683919270843, 9549427),\n",
       " (datetime.date(2020, 5, 17), '085', 'Montrose', 66.29683919270813, 9549427),\n",
       " (datetime.date(2020, 5, 17), '085', 'Santa Clara', 66.29683919270835, 9549427),\n",
       " (datetime.date(2020, 5, 18), '085', 'Lonoke', 65.41128363715272, 13470191),\n",
       " (datetime.date(2020, 5, 18), '085', 'Lowndes', 65.4112836371529, 13470191),\n",
       " (datetime.date(2020, 5, 18), '085', 'Montrose', 65.4112836371527, 13470191),\n",
       " (datetime.date(2020, 5, 18), '085', 'Santa Clara', 65.411283637153, 13470191),\n",
       " (datetime.date(2020, 5, 19), '085', 'Lonoke', 65.22139858162227, 14045340),\n",
       " (datetime.date(2020, 5, 19), '085', 'Lowndes', 65.221398581622, 14045340),\n",
       " (datetime.date(2020, 5, 19), '085', 'Montrose', 65.22139858162211, 14045340),\n",
       " (datetime.date(2020, 5, 19), '085', 'Santa Clara', 65.22139858162214, 14045340),\n",
       " (datetime.date(2020, 5, 20), '085', 'Lonoke', 65.28372395833358, 14381568),\n",
       " (datetime.date(2020, 5, 20), '085', 'Lowndes', 65.28372395833344, 14381568),\n",
       " (datetime.date(2020, 5, 20), '085', 'Montrose', 65.28372395833355, 14381568),\n",
       " (datetime.date(2020, 5, 20), '085', 'Santa Clara', 65.2837239583337, 14381568),\n",
       " (datetime.date(2020, 5, 21), '085', 'Lonoke', 65.29723205175529, 14560233),\n",
       " (datetime.date(2020, 5, 21), '085', 'Lowndes', 65.2972320517548, 14560233),\n",
       " (datetime.date(2020, 5, 21), '085', 'Montrose', 65.29723205175503, 14560233),\n",
       " (datetime.date(2020, 5, 21), '085', 'Santa Clara', 65.29723205175505, 14560233),\n",
       " (datetime.date(2020, 5, 22), '085', 'Lonoke', 65.30117187500001, 15605262),\n",
       " (datetime.date(2020, 5, 22), '085', 'Lowndes', 65.30117187499982, 15605262),\n",
       " (datetime.date(2020, 5, 22), '085', 'Montrose', 65.30117187499978, 15605262),\n",
       " (datetime.date(2020, 5, 22), '085', 'Santa Clara', 65.30117187499997, 15605262),\n",
       " (datetime.date(2020, 5, 23), '085', 'Lonoke', 66.16680338541656, 12235990),\n",
       " (datetime.date(2020, 5, 23), '085', 'Lowndes', 66.16680338541637, 12235990),\n",
       " (datetime.date(2020, 5, 23), '085', 'Montrose', 66.16680338541666, 12235990),\n",
       " (datetime.date(2020, 5, 23), '085', 'Santa Clara', 66.16680338541644, 12235990),\n",
       " (datetime.date(2020, 5, 24), '085', 'Lonoke', 66.29838324652786, 11231366),\n",
       " (datetime.date(2020, 5, 24), '085', 'Lowndes', 66.29838324652808, 11231366),\n",
       " (datetime.date(2020, 5, 24), '085', 'Montrose', 66.29838324652796, 11231366),\n",
       " (datetime.date(2020, 5, 24), '085', 'Santa Clara', 66.29838324652805, 11231366),\n",
       " (datetime.date(2020, 5, 25), '085', 'Lonoke', 66.64814887152791, 11223315),\n",
       " (datetime.date(2020, 5, 25), '085', 'Lowndes', 66.64814887152755, 11223315),\n",
       " (datetime.date(2020, 5, 25), '085', 'Montrose', 66.64814887152787, 11223315),\n",
       " (datetime.date(2020, 5, 25), '085', 'Santa Clara', 66.64814887152762, 11223315),\n",
       " (datetime.date(2020, 5, 26), '085', 'Lonoke', 65.29824869791675, 14557125),\n",
       " (datetime.date(2020, 5, 26), '085', 'Lowndes', 65.2982486979166, 14557125),\n",
       " (datetime.date(2020, 5, 26), '085', 'Montrose', 65.29824869791682, 14557125),\n",
       " (datetime.date(2020, 5, 26), '085', 'Santa Clara', 65.29824869791653, 14557125),\n",
       " (datetime.date(2020, 5, 27), '085', 'Lonoke', 65.18660156249992, 14753636),\n",
       " (datetime.date(2020, 5, 27), '085', 'Lowndes', 65.18660156249989, 14753636),\n",
       " (datetime.date(2020, 5, 27), '085', 'Montrose', 65.18660156249982, 14753636),\n",
       " (datetime.date(2020, 5, 27), '085', 'Santa Clara', 65.18660156250012, 14753636),\n",
       " (datetime.date(2020, 5, 28), '085', 'Lonoke', 65.04430555555561, 15010758),\n",
       " (datetime.date(2020, 5, 28), '085', 'Lowndes', 65.04430555555534, 15010758),\n",
       " (datetime.date(2020, 5, 28), '085', 'Montrose', 65.04430555555565, 15010758),\n",
       " (datetime.date(2020, 5, 28), '085', 'Santa Clara', 65.04430555555543, 15010758),\n",
       " (datetime.date(2020, 5, 29), '085', 'Lonoke', 64.85875759548608, 15515482),\n",
       " (datetime.date(2020, 5, 29), '085', 'Lowndes', 64.85875759548597, 15515482),\n",
       " (datetime.date(2020, 5, 29), '085', 'Montrose', 64.85875759548608, 15515482),\n",
       " (datetime.date(2020, 5, 29), '085', 'Santa Clara', 64.858757595486, 15515482),\n",
       " (datetime.date(2020, 5, 30), '085', 'Lonoke', 66.13569444444474, 12443832),\n",
       " (datetime.date(2020, 5, 30), '085', 'Lowndes', 66.1356944444444, 12443832),\n",
       " (datetime.date(2020, 5, 30), '085', 'Montrose', 66.13569444444447, 12443832),\n",
       " (datetime.date(2020, 5, 30), '085', 'Santa Clara', 66.13569444444468, 12443832),\n",
       " (datetime.date(2020, 5, 31), '085', 'Lonoke', 66.29202907986128, 10763462),\n",
       " (datetime.date(2020, 5, 31), '085', 'Lowndes', 66.29202907986085, 10763462),\n",
       " (datetime.date(2020, 5, 31), '085', 'Montrose', 66.29202907986108, 10763462),\n",
       " (datetime.date(2020, 5, 31), '085', 'Santa Clara', 66.29202907986117, 10763462),\n",
       " (datetime.date(2020, 6, 1), '085', 'Lonoke', 64.66633306558397, 14303871),\n",
       " (datetime.date(2020, 6, 1), '085', 'Lowndes', 64.66633306558401, 14303871),\n",
       " (datetime.date(2020, 6, 1), '085', 'Montrose', 64.66633306558406, 14303871),\n",
       " (datetime.date(2020, 6, 1), '085', 'Santa Clara', 64.66633306558435, 14303871),\n",
       " (datetime.date(2020, 6, 2), '085', 'Lonoke', 65.25124782986099, 14290739),\n",
       " (datetime.date(2020, 6, 2), '085', 'Lowndes', 65.25124782986117, 14290739),\n",
       " (datetime.date(2020, 6, 2), '085', 'Montrose', 65.25124782986111, 14290739),\n",
       " (datetime.date(2020, 6, 2), '085', 'Santa Clara', 65.25124782986133, 14290739),\n",
       " (datetime.date(2020, 6, 3), '085', 'Lonoke', 65.221558159722, 14898915),\n",
       " (datetime.date(2020, 6, 3), '085', 'Lowndes', 65.22155815972238, 14898915),\n",
       " (datetime.date(2020, 6, 3), '085', 'Montrose', 65.22155815972253, 14898915),\n",
       " (datetime.date(2020, 6, 3), '085', 'Santa Clara', 65.22155815972198, 14898915),\n",
       " (datetime.date(2020, 6, 4), '085', 'Lonoke', 65.13126193576373, 15230542),\n",
       " (datetime.date(2020, 6, 4), '085', 'Lowndes', 65.13126193576377, 15230542),\n",
       " (datetime.date(2020, 6, 4), '085', 'Montrose', 65.13126193576403, 15230542),\n",
       " (datetime.date(2020, 6, 4), '085', 'Santa Clara', 65.13126193576399, 15230542),\n",
       " (datetime.date(2020, 6, 5), '085', 'Lonoke', 65.16554687500005, 16058617),\n",
       " (datetime.date(2020, 6, 5), '085', 'Lowndes', 65.16554687500022, 16058617),\n",
       " (datetime.date(2020, 6, 5), '085', 'Montrose', 65.16554687500017, 16058617),\n",
       " (datetime.date(2020, 6, 5), '085', 'Santa Clara', 65.16554687500033, 16058617),\n",
       " (datetime.date(2020, 6, 6), '085', 'Lonoke', 66.20334201388891, 13874027),\n",
       " (datetime.date(2020, 6, 6), '085', 'Lowndes', 66.20334201388903, 13874027),\n",
       " (datetime.date(2020, 6, 6), '085', 'Montrose', 66.2033420138889, 13874027),\n",
       " (datetime.date(2020, 6, 6), '085', 'Santa Clara', 66.20334201388889, 13874027),\n",
       " (datetime.date(2020, 6, 7), '085', 'Lonoke', 66.24365885416647, 11831600),\n",
       " (datetime.date(2020, 6, 7), '085', 'Lowndes', 66.24365885416687, 11831600),\n",
       " (datetime.date(2020, 6, 7), '085', 'Montrose', 66.24365885416702, 11831600),\n",
       " (datetime.date(2020, 6, 7), '085', 'Santa Clara', 66.24365885416667, 11831600),\n",
       " (datetime.date(2020, 6, 8), '085', 'Lonoke', 64.6211252170139, 15449689),\n",
       " (datetime.date(2020, 6, 8), '085', 'Lowndes', 64.6211252170138, 15449689),\n",
       " (datetime.date(2020, 6, 8), '085', 'Montrose', 64.62112521701391, 15449689),\n",
       " (datetime.date(2020, 6, 8), '085', 'Santa Clara', 64.6211252170138, 15449689),\n",
       " (datetime.date(2020, 6, 9), '085', 'Lonoke', 65.38466362847244, 15410741),\n",
       " (datetime.date(2020, 6, 9), '085', 'Lowndes', 65.38466362847218, 15410741),\n",
       " (datetime.date(2020, 6, 9), '085', 'Montrose', 65.3846636284721, 15410741),\n",
       " (datetime.date(2020, 6, 9), '085', 'Santa Clara', 65.3846636284724, 15410741),\n",
       " (datetime.date(2020, 6, 10), '085', 'Lonoke', 65.7768728298611, 15462698),\n",
       " (datetime.date(2020, 6, 10), '085', 'Lowndes', 65.77687282986099, 15462698),\n",
       " (datetime.date(2020, 6, 10), '085', 'Montrose', 65.77687282986092, 15462698),\n",
       " (datetime.date(2020, 6, 10), '085', 'Santa Clara', 65.77687282986116, 15462698),\n",
       " (datetime.date(2020, 6, 11), '085', 'Lonoke', 65.58011935763905, 15844022),\n",
       " (datetime.date(2020, 6, 11), '085', 'Lowndes', 65.58011935763884, 15844022),\n",
       " (datetime.date(2020, 6, 11), '085', 'Montrose', 65.58011935763908, 15844022),\n",
       " (datetime.date(2020, 6, 11), '085', 'Santa Clara', 65.58011935763888, 15844022),\n",
       " (datetime.date(2020, 6, 12), '085', 'Lonoke', 64.92528971354189, 17083906),\n",
       " (datetime.date(2020, 6, 12), '085', 'Lowndes', 64.92528971354182, 17083906),\n",
       " (datetime.date(2020, 6, 12), '085', 'Montrose', 64.92528971354193, 17083906),\n",
       " (datetime.date(2020, 6, 12), '085', 'Santa Clara', 64.9252897135418, 17083906),\n",
       " (datetime.date(2020, 6, 13), '085', 'Lonoke', 66.08871419270844, 14540969),\n",
       " (datetime.date(2020, 6, 13), '085', 'Lowndes', 66.08871419270818, 14540969),\n",
       " (datetime.date(2020, 6, 13), '085', 'Montrose', 66.08871419270842, 14540969),\n",
       " (datetime.date(2020, 6, 13), '085', 'Santa Clara', 66.08871419270838, 14540969),\n",
       " (datetime.date(2020, 6, 14), '085', 'Lonoke', 66.17057183159696, 12629983),\n",
       " (datetime.date(2020, 6, 14), '085', 'Lowndes', 66.17057183159696, 12629983),\n",
       " (datetime.date(2020, 6, 14), '085', 'Montrose', 66.17057183159696, 12629983),\n",
       " (datetime.date(2020, 6, 14), '085', 'Santa Clara', 66.17057183159713, 12629983),\n",
       " (datetime.date(2020, 6, 15), '085', 'Lonoke', 64.5058572048609, 16042417),\n",
       " (datetime.date(2020, 6, 15), '085', 'Lowndes', 64.50585720486114, 16042417),\n",
       " (datetime.date(2020, 6, 15), '085', 'Montrose', 64.50585720486087, 16042417),\n",
       " (datetime.date(2020, 6, 15), '085', 'Santa Clara', 64.50585720486114, 16042417),\n",
       " (datetime.date(2020, 6, 16), '085', 'Lonoke', 64.82556966145825, 16386007),\n",
       " (datetime.date(2020, 6, 16), '085', 'Lowndes', 64.82556966145847, 16386007),\n",
       " (datetime.date(2020, 6, 16), '085', 'Montrose', 64.82556966145847, 16386007),\n",
       " (datetime.date(2020, 6, 16), '085', 'Santa Clara', 64.82556966145856, 16386007),\n",
       " (datetime.date(2020, 6, 17), '085', 'Lonoke', 64.83310329861082, 16475345),\n",
       " (datetime.date(2020, 6, 17), '085', 'Lowndes', 64.83310329861064, 16475345),\n",
       " (datetime.date(2020, 6, 17), '085', 'Montrose', 64.83310329861116, 16475345),\n",
       " (datetime.date(2020, 6, 17), '085', 'Santa Clara', 64.83310329861033, 16475345),\n",
       " (datetime.date(2020, 6, 18), '085', 'Lonoke', 64.62791666666644, 16634465),\n",
       " (datetime.date(2020, 6, 18), '085', 'Lowndes', 64.62791666666658, 16634465),\n",
       " (datetime.date(2020, 6, 18), '085', 'Montrose', 64.62791666666631, 16634465),\n",
       " (datetime.date(2020, 6, 18), '085', 'Santa Clara', 64.62791666666665, 16634465),\n",
       " (datetime.date(2020, 6, 19), '085', 'Lonoke', 64.71997395833344, 17921150),\n",
       " (datetime.date(2020, 6, 19), '085', 'Lowndes', 64.71997395833311, 17921150),\n",
       " (datetime.date(2020, 6, 19), '085', 'Montrose', 64.71997395833367, 17921150),\n",
       " (datetime.date(2020, 6, 19), '085', 'Santa Clara', 64.71997395833326, 17921150),\n",
       " (datetime.date(2020, 6, 20), '085', 'Lonoke', 65.91053927951377, 15416525),\n",
       " (datetime.date(2020, 6, 20), '085', 'Lowndes', 65.91053927951374, 15416525),\n",
       " (datetime.date(2020, 6, 20), '085', 'Montrose', 65.91053927951401, 15416525),\n",
       " (datetime.date(2020, 6, 20), '085', 'Santa Clara', 65.91053927951359, 15416525),\n",
       " (datetime.date(2020, 6, 21), '085', 'Lonoke', 66.15720148970104, 13302651),\n",
       " (datetime.date(2020, 6, 21), '085', 'Lowndes', 66.1572014897011, 13302651),\n",
       " (datetime.date(2020, 6, 21), '085', 'Montrose', 66.15720148970122, 13302651),\n",
       " (datetime.date(2020, 6, 21), '085', 'Santa Clara', 66.15720148970102, 13302651),\n",
       " (datetime.date(2020, 6, 22), '085', 'Lonoke', 64.71202109727595, 16063001),\n",
       " (datetime.date(2020, 6, 22), '085', 'Lowndes', 64.71202109727574, 16063001),\n",
       " (datetime.date(2020, 6, 22), '085', 'Montrose', 64.71202109727602, 16063001),\n",
       " (datetime.date(2020, 6, 22), '085', 'Santa Clara', 64.71202109727581, 16063001),\n",
       " (datetime.date(2020, 6, 23), '085', 'Lonoke', 64.74556029384607, 16300256),\n",
       " (datetime.date(2020, 6, 23), '085', 'Lowndes', 64.74556029384583, 16300256),\n",
       " (datetime.date(2020, 6, 23), '085', 'Montrose', 64.74556029384604, 16300256),\n",
       " (datetime.date(2020, 6, 23), '085', 'Santa Clara', 64.74556029384597, 16300256),\n",
       " (datetime.date(2020, 6, 24), '085', 'Lonoke', 64.6243500434026, 16821562),\n",
       " (datetime.date(2020, 6, 24), '085', 'Lowndes', 64.62435004340271, 16821562),\n",
       " (datetime.date(2020, 6, 24), '085', 'Montrose', 64.62435004340253, 16821562),\n",
       " (datetime.date(2020, 6, 24), '085', 'Santa Clara', 64.62435004340287, 16821562),\n",
       " (datetime.date(2020, 6, 25), '085', 'Lonoke', 64.50052517361124, 17046709),\n",
       " (datetime.date(2020, 6, 25), '085', 'Lowndes', 64.50052517361101, 17046709),\n",
       " (datetime.date(2020, 6, 25), '085', 'Montrose', 64.50052517361125, 17046709),\n",
       " (datetime.date(2020, 6, 25), '085', 'Santa Clara', 64.50052517361118, 17046709),\n",
       " (datetime.date(2020, 6, 26), '085', 'Lonoke', 64.54379705578816, 17917317),\n",
       " (datetime.date(2020, 6, 26), '085', 'Lowndes', 64.54379705578803, 17917317),\n",
       " (datetime.date(2020, 6, 26), '085', 'Montrose', 64.54379705578802, 17917317),\n",
       " (datetime.date(2020, 6, 26), '085', 'Santa Clara', 64.54379705578796, 17917317),\n",
       " (datetime.date(2020, 6, 27), '085', 'Lonoke', 65.75676357389814, 15326821),\n",
       " (datetime.date(2020, 6, 27), '085', 'Lowndes', 65.75676357389817, 15326821),\n",
       " (datetime.date(2020, 6, 27), '085', 'Montrose', 65.75676357389808, 15326821),\n",
       " (datetime.date(2020, 6, 27), '085', 'Santa Clara', 65.75676357389814, 15326821),\n",
       " (datetime.date(2020, 6, 28), '085', 'Lonoke', 65.93359971178738, 13069749),\n",
       " (datetime.date(2020, 6, 28), '085', 'Lowndes', 65.93359971178755, 13069749),\n",
       " (datetime.date(2020, 6, 28), '085', 'Montrose', 65.93359971178734, 13069749),\n",
       " (datetime.date(2020, 6, 28), '085', 'Santa Clara', 65.93359971178747, 13069749),\n",
       " (datetime.date(2020, 6, 29), '085', 'Lonoke', 64.56727430555546, 16516192),\n",
       " (datetime.date(2020, 6, 29), '085', 'Lowndes', 64.56727430555547, 16516192),\n",
       " (datetime.date(2020, 6, 29), '085', 'Montrose', 64.56727430555566, 16516192),\n",
       " (datetime.date(2020, 6, 29), '085', 'Santa Clara', 64.56727430555542, 16516192),\n",
       " (datetime.date(2020, 6, 30), '085', 'Lonoke', 64.47287164179127, 16932386),\n",
       " (datetime.date(2020, 6, 30), '085', 'Lowndes', 64.47287164179083, 16932386),\n",
       " (datetime.date(2020, 6, 30), '085', 'Montrose', 64.4728716417912, 16932386),\n",
       " (datetime.date(2020, 6, 30), '085', 'Santa Clara', 64.47287164179127, 16932386)]"
      ]
     },
     "execution_count": 56,
     "metadata": {},
     "output_type": "execute_result"
    }
   ],
   "source": [
    "engine.execute('''select  from traffic_bay_day where date >= '01-01-2020' and date <= '06-30-2020' ''').fetchall()"
   ]
  },
  {
   "cell_type": "code",
   "execution_count": 54,
   "metadata": {
    "collapsed": true,
    "jupyter": {
     "outputs_hidden": true
    }
   },
   "outputs": [
    {
     "data": {
      "text/plain": [
       "[(datetime.date(2018, 1, 1), datetime.date(2021, 2, 17))]"
      ]
     },
     "execution_count": 54,
     "metadata": {},
     "output_type": "execute_result"
    }
   ],
   "source": [
    "engine.execute('''select min(date),max(date) from traffic_bay_day limit 5''').fetchall()"
   ]
  },
  {
   "cell_type": "code",
   "execution_count": 6,
   "metadata": {
    "collapsed": true,
    "jupyter": {
     "outputs_hidden": true
    }
   },
   "outputs": [
    {
     "data": {
      "text/plain": [
       "<sqlalchemy.engine.cursor.LegacyCursorResult at 0x7f216b557220>"
      ]
     },
     "execution_count": 6,
     "metadata": {},
     "output_type": "execute_result"
    }
   ],
   "source": [
    "drop_view = \"drop materialized view traffic_joined_covid;\"\n",
    "engine.execute(drop_view)"
   ]
  },
  {
   "cell_type": "code",
   "execution_count": null,
   "metadata": {},
   "outputs": [],
   "source": [
    "import pandas as pd\n",
    "from time import time\n",
    "\n",
    "start = time()\n",
    "\n",
    "#join = '''\n",
    "#select * from traffic_train\n",
    "#inner join traffic_covid_both on DATE(timestamp) = traffic_covid_both.record_date limit 1000000;\n",
    "#'''\n",
    "\n",
    "# Pre computing the timestamp helped alot\n",
    "# Traffic joined covid has the traffic data at resolution 5 min and covid data at daily resolution.\n",
    "\n",
    "join = '''\n",
    "create materialized view if not exists traffic_joined_covid\n",
    "as\n",
    "select * from \n",
    "(select DATE(timestamp) as extracted_date,timestamp,station,samples,pct_observed,total_flow,avg_occupancy,avg_speed from traffic_bay where timestamp >= '01-01-2020' and timestamp <= '06-30-2020')t inner join \n",
    "traffic_covid_both on extracted_date = traffic_covid_both.record_date;\n",
    "'''\n",
    "engine.execute(join)\n",
    "\n",
    "fetch_data = '''select * from traffic_joined_covid'''\n",
    "dataset = pd.DataFrame(engine.execute(fetch_data).fetchall())\n",
    "\n",
    "end = time()\n",
    "\n",
    "print('Time taken is %f'%(end-start))\n",
    "dataset.head()"
   ]
  },
  {
   "cell_type": "code",
   "execution_count": null,
   "metadata": {},
   "outputs": [],
   "source": [
    "dataset.shape"
   ]
  },
  {
   "cell_type": "code",
   "execution_count": null,
   "metadata": {},
   "outputs": [],
   "source": [
    "dataset.head()"
   ]
  },
  {
   "cell_type": "code",
   "execution_count": null,
   "metadata": {},
   "outputs": [],
   "source": [
    "data_table = pd.pivot_table(dataset,values = 7,index = 1, columns = 2)"
   ]
  },
  {
   "cell_type": "code",
   "execution_count": null,
   "metadata": {},
   "outputs": [],
   "source": [
    "data_table.head()"
   ]
  },
  {
   "cell_type": "code",
   "execution_count": null,
   "metadata": {},
   "outputs": [],
   "source": [
    "engine.execute('select * from traffic_covid_both limit 5').fetchall()"
   ]
  },
  {
   "cell_type": "code",
   "execution_count": null,
   "metadata": {},
   "outputs": [],
   "source": [
    "#dataset.to_hdf('traffic_covid.hdf','table',mode = 'w')"
   ]
  },
  {
   "cell_type": "code",
   "execution_count": null,
   "metadata": {},
   "outputs": [],
   "source": [
    "cases = '''select record_date,new_cases from traffic_covid_both'''\n",
    "cases = engine.execute(cases).fetchall()"
   ]
  },
  {
   "cell_type": "code",
   "execution_count": null,
   "metadata": {},
   "outputs": [],
   "source": [
    "import datetime\n",
    "import pandas as pd\n",
    "\n",
    "fromtime = datetime.datetime.strptime('01-01-2020','%m-%d-%Y')\n",
    "cases = pd.DataFrame(cases)\n",
    "cases[0] = pd.to_datetime(cases[0])\n",
    "cases.set_index(0,inplace = True)"
   ]
  },
  {
   "cell_type": "code",
   "execution_count": 6,
   "metadata": {},
   "outputs": [],
   "source": [
    "index = pd.date_range(start = '01-01-2020',end = '06-30-2020',freq='D')"
   ]
  },
  {
   "cell_type": "markdown",
   "metadata": {},
   "source": [
    "### Testing if the number of cases were rightly added as a feature, and it looks like they are."
   ]
  },
  {
   "cell_type": "code",
   "execution_count": 57,
   "metadata": {
    "scrolled": true
   },
   "outputs": [
    {
     "data": {
      "text/plain": [
       "[<matplotlib.lines.Line2D at 0x7fc44d786460>]"
      ]
     },
     "execution_count": 57,
     "metadata": {},
     "output_type": "execute_result"
    },
    {
     "data": {
      "image/png": "[encoded data removed]",
      "text/plain": [
       "<Figure size 432x288 with 1 Axes>"
      ]
     },
     "metadata": {
      "needs_background": "light"
     },
     "output_type": "display_data"
    }
   ],
   "source": [
    "plt.plot(cases.loc[index].fillna(0))"
   ]
  },
  {
   "cell_type": "code",
   "execution_count": 58,
   "metadata": {
    "collapsed": true,
    "jupyter": {
     "outputs_hidden": true
    }
   },
   "outputs": [
    {
     "ename": "NameError",
     "evalue": "name 'dataset' is not defined",
     "output_type": "error",
     "traceback": [
      "\u001b[0;31m---------------------------------------------------------------------------\u001b[0m",
      "\u001b[0;31mNameError\u001b[0m                                 Traceback (most recent call last)",
      "\u001b[0;32m<ipython-input-58-84eabcbf0252>\u001b[0m in \u001b[0;36m<module>\u001b[0;34m\u001b[0m\n\u001b[0;32m----> 1\u001b[0;31m \u001b[0mplt\u001b[0m\u001b[0;34m.\u001b[0m\u001b[0mplot\u001b[0m\u001b[0;34m(\u001b[0m\u001b[0mdataset\u001b[0m\u001b[0;34m.\u001b[0m\u001b[0mfillna\u001b[0m\u001b[0;34m(\u001b[0m\u001b[0;36m0\u001b[0m\u001b[0;34m)\u001b[0m\u001b[0;34m[\u001b[0m\u001b[0;36m11\u001b[0m\u001b[0;34m]\u001b[0m\u001b[0;34m.\u001b[0m\u001b[0mgroupby\u001b[0m\u001b[0;34m(\u001b[0m\u001b[0mlevel\u001b[0m\u001b[0;34m=\u001b[0m \u001b[0;36m0\u001b[0m\u001b[0;34m)\u001b[0m\u001b[0;34m.\u001b[0m\u001b[0magg\u001b[0m\u001b[0;34m(\u001b[0m\u001b[0;34m'max'\u001b[0m\u001b[0;34m)\u001b[0m\u001b[0;34m)\u001b[0m\u001b[0;34m\u001b[0m\u001b[0;34m\u001b[0m\u001b[0m\n\u001b[0m\u001b[1;32m      2\u001b[0m \u001b[0;31m#dataset.fillna(0).groupby(level = 0).sum()\u001b[0m\u001b[0;34m\u001b[0m\u001b[0;34m\u001b[0m\u001b[0;34m\u001b[0m\u001b[0m\n",
      "\u001b[0;31mNameError\u001b[0m: name 'dataset' is not defined"
     ]
    }
   ],
   "source": [
    "plt.plot(dataset.fillna(0)[11].groupby(level= 0).agg('max'))\n",
    "#dataset.fillna(0).groupby(level = 0).sum()"
   ]
  },
  {
   "cell_type": "code",
   "execution_count": 59,
   "metadata": {
    "collapsed": true,
    "jupyter": {
     "outputs_hidden": true
    },
    "scrolled": true
   },
   "outputs": [
    {
     "ename": "NameError",
     "evalue": "name 'dataset' is not defined",
     "output_type": "error",
     "traceback": [
      "\u001b[0;31m---------------------------------------------------------------------------\u001b[0m",
      "\u001b[0;31mNameError\u001b[0m                                 Traceback (most recent call last)",
      "\u001b[0;32m<ipython-input-59-a62c974a6759>\u001b[0m in \u001b[0;36m<module>\u001b[0;34m\u001b[0m\n\u001b[0;32m----> 1\u001b[0;31m \u001b[0mdataset\u001b[0m\u001b[0;34m.\u001b[0m\u001b[0mshape\u001b[0m\u001b[0;34m\u001b[0m\u001b[0;34m\u001b[0m\u001b[0m\n\u001b[0m",
      "\u001b[0;31mNameError\u001b[0m: name 'dataset' is not defined"
     ]
    }
   ],
   "source": [
    "dataset.shape"
   ]
  },
  {
   "cell_type": "code",
   "execution_count": 60,
   "metadata": {
    "collapsed": true,
    "jupyter": {
     "outputs_hidden": true
    }
   },
   "outputs": [
    {
     "ename": "HDF5ExtError",
     "evalue": "HDF5 error back trace\n\n  File \"H5F.c\", line 509, in H5Fopen\n    unable to open file\n  File \"H5Fint.c\", line 1400, in H5F__open\n    unable to open file\n  File \"H5Fint.c\", line 1709, in H5F_open\n    unable to read root group\n  File \"H5Groot.c\", line 239, in H5G_mkroot\n    can't check if symbol table message exists\n  File \"H5Omessage.c\", line 883, in H5O_msg_exists\n    unable to protect object header\n  File \"H5Oint.c\", line 1100, in H5O_protect\n    unable to load object header\n  File \"H5AC.c\", line 1625, in H5AC_protect\n    H5C_protect() failed\n  File \"H5C.c\", line 2362, in H5C_protect\n    can't load entry\n  File \"H5C.c\", line 6712, in H5C_load_entry\n    incorrect metadatda checksum after all read attempts\n  File \"H5Ocache.c\", line 219, in H5O__cache_get_final_load_size\n    can't deserialize object header prefix\n  File \"H5Ocache.c\", line 1231, in H5O__prefix_deserialize\n    bad object header version number\n\nEnd of HDF5 error back trace\n\nUnable to open/create file 'traffic_covid.hdf'",
     "output_type": "error",
     "traceback": [
      "\u001b[0;31m---------------------------------------------------------------------------\u001b[0m",
      "\u001b[0;31mHDF5ExtError\u001b[0m                              Traceback (most recent call last)",
      "\u001b[0;32m<ipython-input-60-1b34b0a41808>\u001b[0m in \u001b[0;36m<module>\u001b[0;34m\u001b[0m\n\u001b[1;32m      3\u001b[0m \u001b[0;34m\u001b[0m\u001b[0m\n\u001b[1;32m      4\u001b[0m \u001b[0mstart\u001b[0m \u001b[0;34m=\u001b[0m \u001b[0mtime\u001b[0m\u001b[0;34m(\u001b[0m\u001b[0;34m)\u001b[0m\u001b[0;34m\u001b[0m\u001b[0;34m\u001b[0m\u001b[0m\n\u001b[0;32m----> 5\u001b[0;31m \u001b[0mjoined\u001b[0m \u001b[0;34m=\u001b[0m \u001b[0mpd\u001b[0m\u001b[0;34m.\u001b[0m\u001b[0mread_hdf\u001b[0m\u001b[0;34m(\u001b[0m\u001b[0;34m'traffic_covid.hdf'\u001b[0m\u001b[0;34m,\u001b[0m\u001b[0;34m'table'\u001b[0m\u001b[0;34m)\u001b[0m\u001b[0;34m\u001b[0m\u001b[0;34m\u001b[0m\u001b[0m\n\u001b[0m\u001b[1;32m      6\u001b[0m \u001b[0mend\u001b[0m \u001b[0;34m=\u001b[0m \u001b[0mtime\u001b[0m\u001b[0;34m(\u001b[0m\u001b[0;34m)\u001b[0m\u001b[0;34m\u001b[0m\u001b[0;34m\u001b[0m\u001b[0m\n\u001b[1;32m      7\u001b[0m \u001b[0;34m\u001b[0m\u001b[0m\n",
      "\u001b[0;32m~/Desktop/torchTS/newenv/lib/python3.8/site-packages/pandas/io/pytables.py\u001b[0m in \u001b[0;36mread_hdf\u001b[0;34m(path_or_buf, key, mode, errors, where, start, stop, columns, iterator, chunksize, **kwargs)\u001b[0m\n\u001b[1;32m    397\u001b[0m             \u001b[0;32mraise\u001b[0m \u001b[0mFileNotFoundError\u001b[0m\u001b[0;34m(\u001b[0m\u001b[0;34mf\"File {path_or_buf} does not exist\"\u001b[0m\u001b[0;34m)\u001b[0m\u001b[0;34m\u001b[0m\u001b[0;34m\u001b[0m\u001b[0m\n\u001b[1;32m    398\u001b[0m \u001b[0;34m\u001b[0m\u001b[0m\n\u001b[0;32m--> 399\u001b[0;31m         \u001b[0mstore\u001b[0m \u001b[0;34m=\u001b[0m \u001b[0mHDFStore\u001b[0m\u001b[0;34m(\u001b[0m\u001b[0mpath_or_buf\u001b[0m\u001b[0;34m,\u001b[0m \u001b[0mmode\u001b[0m\u001b[0;34m=\u001b[0m\u001b[0mmode\u001b[0m\u001b[0;34m,\u001b[0m \u001b[0merrors\u001b[0m\u001b[0;34m=\u001b[0m\u001b[0merrors\u001b[0m\u001b[0;34m,\u001b[0m \u001b[0;34m**\u001b[0m\u001b[0mkwargs\u001b[0m\u001b[0;34m)\u001b[0m\u001b[0;34m\u001b[0m\u001b[0;34m\u001b[0m\u001b[0m\n\u001b[0m\u001b[1;32m    400\u001b[0m         \u001b[0;31m# can't auto open/close if we are using an iterator\u001b[0m\u001b[0;34m\u001b[0m\u001b[0;34m\u001b[0m\u001b[0;34m\u001b[0m\u001b[0m\n\u001b[1;32m    401\u001b[0m         \u001b[0;31m# so delegate to the iterator\u001b[0m\u001b[0;34m\u001b[0m\u001b[0;34m\u001b[0m\u001b[0;34m\u001b[0m\u001b[0m\n",
      "\u001b[0;32m~/Desktop/torchTS/newenv/lib/python3.8/site-packages/pandas/io/pytables.py\u001b[0m in \u001b[0;36m__init__\u001b[0;34m(self, path, mode, complevel, complib, fletcher32, **kwargs)\u001b[0m\n\u001b[1;32m    559\u001b[0m         \u001b[0mself\u001b[0m\u001b[0;34m.\u001b[0m\u001b[0m_fletcher32\u001b[0m \u001b[0;34m=\u001b[0m \u001b[0mfletcher32\u001b[0m\u001b[0;34m\u001b[0m\u001b[0;34m\u001b[0m\u001b[0m\n\u001b[1;32m    560\u001b[0m         \u001b[0mself\u001b[0m\u001b[0;34m.\u001b[0m\u001b[0m_filters\u001b[0m \u001b[0;34m=\u001b[0m \u001b[0;32mNone\u001b[0m\u001b[0;34m\u001b[0m\u001b[0;34m\u001b[0m\u001b[0m\n\u001b[0;32m--> 561\u001b[0;31m         \u001b[0mself\u001b[0m\u001b[0;34m.\u001b[0m\u001b[0mopen\u001b[0m\u001b[0;34m(\u001b[0m\u001b[0mmode\u001b[0m\u001b[0;34m=\u001b[0m\u001b[0mmode\u001b[0m\u001b[0;34m,\u001b[0m \u001b[0;34m**\u001b[0m\u001b[0mkwargs\u001b[0m\u001b[0;34m)\u001b[0m\u001b[0;34m\u001b[0m\u001b[0;34m\u001b[0m\u001b[0m\n\u001b[0m\u001b[1;32m    562\u001b[0m \u001b[0;34m\u001b[0m\u001b[0m\n\u001b[1;32m    563\u001b[0m     \u001b[0;32mdef\u001b[0m \u001b[0m__fspath__\u001b[0m\u001b[0;34m(\u001b[0m\u001b[0mself\u001b[0m\u001b[0;34m)\u001b[0m\u001b[0;34m:\u001b[0m\u001b[0;34m\u001b[0m\u001b[0;34m\u001b[0m\u001b[0m\n",
      "\u001b[0;32m~/Desktop/torchTS/newenv/lib/python3.8/site-packages/pandas/io/pytables.py\u001b[0m in \u001b[0;36mopen\u001b[0;34m(self, mode, **kwargs)\u001b[0m\n\u001b[1;32m    708\u001b[0m             \u001b[0;32mraise\u001b[0m \u001b[0mValueError\u001b[0m\u001b[0;34m(\u001b[0m\u001b[0mmsg\u001b[0m\u001b[0;34m)\u001b[0m\u001b[0;34m\u001b[0m\u001b[0;34m\u001b[0m\u001b[0m\n\u001b[1;32m    709\u001b[0m \u001b[0;34m\u001b[0m\u001b[0m\n\u001b[0;32m--> 710\u001b[0;31m         \u001b[0mself\u001b[0m\u001b[0;34m.\u001b[0m\u001b[0m_handle\u001b[0m \u001b[0;34m=\u001b[0m \u001b[0mtables\u001b[0m\u001b[0;34m.\u001b[0m\u001b[0mopen_file\u001b[0m\u001b[0;34m(\u001b[0m\u001b[0mself\u001b[0m\u001b[0;34m.\u001b[0m\u001b[0m_path\u001b[0m\u001b[0;34m,\u001b[0m \u001b[0mself\u001b[0m\u001b[0;34m.\u001b[0m\u001b[0m_mode\u001b[0m\u001b[0;34m,\u001b[0m \u001b[0;34m**\u001b[0m\u001b[0mkwargs\u001b[0m\u001b[0;34m)\u001b[0m\u001b[0;34m\u001b[0m\u001b[0;34m\u001b[0m\u001b[0m\n\u001b[0m\u001b[1;32m    711\u001b[0m \u001b[0;34m\u001b[0m\u001b[0m\n\u001b[1;32m    712\u001b[0m     \u001b[0;32mdef\u001b[0m \u001b[0mclose\u001b[0m\u001b[0;34m(\u001b[0m\u001b[0mself\u001b[0m\u001b[0;34m)\u001b[0m\u001b[0;34m:\u001b[0m\u001b[0;34m\u001b[0m\u001b[0;34m\u001b[0m\u001b[0m\n",
      "\u001b[0;32m~/Desktop/torchTS/newenv/lib/python3.8/site-packages/tables/file.py\u001b[0m in \u001b[0;36mopen_file\u001b[0;34m(filename, mode, title, root_uep, filters, **kwargs)\u001b[0m\n\u001b[1;32m    313\u001b[0m \u001b[0;34m\u001b[0m\u001b[0m\n\u001b[1;32m    314\u001b[0m     \u001b[0;31m# Finally, create the File instance, and return it\u001b[0m\u001b[0;34m\u001b[0m\u001b[0;34m\u001b[0m\u001b[0;34m\u001b[0m\u001b[0m\n\u001b[0;32m--> 315\u001b[0;31m     \u001b[0;32mreturn\u001b[0m \u001b[0mFile\u001b[0m\u001b[0;34m(\u001b[0m\u001b[0mfilename\u001b[0m\u001b[0;34m,\u001b[0m \u001b[0mmode\u001b[0m\u001b[0;34m,\u001b[0m \u001b[0mtitle\u001b[0m\u001b[0;34m,\u001b[0m \u001b[0mroot_uep\u001b[0m\u001b[0;34m,\u001b[0m \u001b[0mfilters\u001b[0m\u001b[0;34m,\u001b[0m \u001b[0;34m**\u001b[0m\u001b[0mkwargs\u001b[0m\u001b[0;34m)\u001b[0m\u001b[0;34m\u001b[0m\u001b[0;34m\u001b[0m\u001b[0m\n\u001b[0m\u001b[1;32m    316\u001b[0m \u001b[0;34m\u001b[0m\u001b[0m\n\u001b[1;32m    317\u001b[0m \u001b[0;34m\u001b[0m\u001b[0m\n",
      "\u001b[0;32m~/Desktop/torchTS/newenv/lib/python3.8/site-packages/tables/file.py\u001b[0m in \u001b[0;36m__init__\u001b[0;34m(self, filename, mode, title, root_uep, filters, **kwargs)\u001b[0m\n\u001b[1;32m    776\u001b[0m \u001b[0;34m\u001b[0m\u001b[0m\n\u001b[1;32m    777\u001b[0m         \u001b[0;31m# Now, it is time to initialize the File extension\u001b[0m\u001b[0;34m\u001b[0m\u001b[0;34m\u001b[0m\u001b[0;34m\u001b[0m\u001b[0m\n\u001b[0;32m--> 778\u001b[0;31m         \u001b[0mself\u001b[0m\u001b[0;34m.\u001b[0m\u001b[0m_g_new\u001b[0m\u001b[0;34m(\u001b[0m\u001b[0mfilename\u001b[0m\u001b[0;34m,\u001b[0m \u001b[0mmode\u001b[0m\u001b[0;34m,\u001b[0m \u001b[0;34m**\u001b[0m\u001b[0mparams\u001b[0m\u001b[0;34m)\u001b[0m\u001b[0;34m\u001b[0m\u001b[0;34m\u001b[0m\u001b[0m\n\u001b[0m\u001b[1;32m    779\u001b[0m \u001b[0;34m\u001b[0m\u001b[0m\n\u001b[1;32m    780\u001b[0m         \u001b[0;31m# Check filters and set PyTables format version for new files.\u001b[0m\u001b[0;34m\u001b[0m\u001b[0;34m\u001b[0m\u001b[0;34m\u001b[0m\u001b[0m\n",
      "\u001b[0;32mtables/hdf5extension.pyx\u001b[0m in \u001b[0;36mtables.hdf5extension.File._g_new\u001b[0;34m()\u001b[0m\n",
      "\u001b[0;31mHDF5ExtError\u001b[0m: HDF5 error back trace\n\n  File \"H5F.c\", line 509, in H5Fopen\n    unable to open file\n  File \"H5Fint.c\", line 1400, in H5F__open\n    unable to open file\n  File \"H5Fint.c\", line 1709, in H5F_open\n    unable to read root group\n  File \"H5Groot.c\", line 239, in H5G_mkroot\n    can't check if symbol table message exists\n  File \"H5Omessage.c\", line 883, in H5O_msg_exists\n    unable to protect object header\n  File \"H5Oint.c\", line 1100, in H5O_protect\n    unable to load object header\n  File \"H5AC.c\", line 1625, in H5AC_protect\n    H5C_protect() failed\n  File \"H5C.c\", line 2362, in H5C_protect\n    can't load entry\n  File \"H5C.c\", line 6712, in H5C_load_entry\n    incorrect metadatda checksum after all read attempts\n  File \"H5Ocache.c\", line 219, in H5O__cache_get_final_load_size\n    can't deserialize object header prefix\n  File \"H5Ocache.c\", line 1231, in H5O__prefix_deserialize\n    bad object header version number\n\nEnd of HDF5 error back trace\n\nUnable to open/create file 'traffic_covid.hdf'"
     ]
    }
   ],
   "source": [
    "import pandas as pd\n",
    "from time import time\n",
    "\n",
    "start = time()\n",
    "joined = pd.read_hdf('traffic_covid.hdf','table')\n",
    "end = time()\n",
    "\n",
    "print(\"Time taken %f\"%(end-start))"
   ]
  },
  {
   "cell_type": "code",
   "execution_count": 7,
   "metadata": {
    "collapsed": true,
    "jupyter": {
     "outputs_hidden": true
    }
   },
   "outputs": [
    {
     "data": {
      "text/plain": [
       "(5, 16)"
      ]
     },
     "execution_count": 7,
     "metadata": {},
     "output_type": "execute_result"
    }
   ],
   "source": [
    "joined.shape"
   ]
  },
  {
   "cell_type": "code",
   "execution_count": 19,
   "metadata": {},
   "outputs": [],
   "source": [
    "### Join datatable and cases based on key"
   ]
  },
  {
   "cell_type": "code",
   "execution_count": 85,
   "metadata": {
    "collapsed": true,
    "jupyter": {
     "outputs_hidden": true
    }
   },
   "outputs": [
    {
     "data": {
      "text/plain": [
       "Index([2020-01-01, 2020-01-02, 2020-01-03, 2020-01-04, 2020-01-05, 2020-01-06,\n",
       "       2020-01-07, 2020-01-08, 2020-01-09, 2020-01-10,\n",
       "       ...\n",
       "       2021-04-22, 2021-04-23, 2021-04-24, 2021-04-25, 2021-04-26, 2021-04-27,\n",
       "       2021-04-28, 2021-04-29, 2021-04-30, 2021-05-01],\n",
       "      dtype='object', name='date', length=487)"
      ]
     },
     "execution_count": 85,
     "metadata": {},
     "output_type": "execute_result"
    }
   ],
   "source": [
    "#cases.index = cases.index.date\n",
    "cases.index.rename('date')"
   ]
  },
  {
   "cell_type": "code",
   "execution_count": 9,
   "metadata": {},
   "outputs": [
    {
     "ename": "NameError",
     "evalue": "name 'data_table' is not defined",
     "output_type": "error",
     "traceback": [
      "\u001b[0;31m---------------------------------------------------------------------------\u001b[0m",
      "\u001b[0;31mNameError\u001b[0m                                 Traceback (most recent call last)",
      "\u001b[0;32m<ipython-input-9-49cd2babf515>\u001b[0m in \u001b[0;36m<module>\u001b[0;34m\u001b[0m\n\u001b[0;32m----> 1\u001b[0;31m \u001b[0mtimestamp_column\u001b[0m \u001b[0;34m=\u001b[0m \u001b[0mpd\u001b[0m\u001b[0;34m.\u001b[0m\u001b[0mSeries\u001b[0m\u001b[0;34m(\u001b[0m\u001b[0mdata_table\u001b[0m\u001b[0;34m.\u001b[0m\u001b[0mindex\u001b[0m\u001b[0;34m)\u001b[0m\u001b[0;34m\u001b[0m\u001b[0;34m\u001b[0m\u001b[0m\n\u001b[0m",
      "\u001b[0;31mNameError\u001b[0m: name 'data_table' is not defined"
     ]
    }
   ],
   "source": [
    "timestamp_column = pd.Series(data_table.index)"
   ]
  },
  {
   "cell_type": "code",
   "execution_count": 10,
   "metadata": {},
   "outputs": [
    {
     "ename": "NameError",
     "evalue": "name 'data_table' is not defined",
     "output_type": "error",
     "traceback": [
      "\u001b[0;31m---------------------------------------------------------------------------\u001b[0m",
      "\u001b[0;31mNameError\u001b[0m                                 Traceback (most recent call last)",
      "\u001b[0;32m<ipython-input-10-6bd8488b00b9>\u001b[0m in \u001b[0;36m<module>\u001b[0;34m\u001b[0m\n\u001b[0;32m----> 1\u001b[0;31m \u001b[0mdata_table\u001b[0m\u001b[0;34m.\u001b[0m\u001b[0mindex\u001b[0m \u001b[0;34m=\u001b[0m \u001b[0mdata_table\u001b[0m\u001b[0;34m.\u001b[0m\u001b[0mindex\u001b[0m\u001b[0;34m.\u001b[0m\u001b[0mdate\u001b[0m\u001b[0;34m\u001b[0m\u001b[0;34m\u001b[0m\u001b[0m\n\u001b[0m\u001b[1;32m      2\u001b[0m \u001b[0mdata_table\u001b[0m\u001b[0;34m.\u001b[0m\u001b[0mindex\u001b[0m\u001b[0;34m.\u001b[0m\u001b[0mrename\u001b[0m\u001b[0;34m(\u001b[0m\u001b[0;34m'date'\u001b[0m\u001b[0;34m,\u001b[0m\u001b[0minplace\u001b[0m \u001b[0;34m=\u001b[0m \u001b[0;32mTrue\u001b[0m\u001b[0;34m)\u001b[0m\u001b[0;34m\u001b[0m\u001b[0;34m\u001b[0m\u001b[0m\n\u001b[1;32m      3\u001b[0m \u001b[0mtimestamp_column\u001b[0m\u001b[0;34m.\u001b[0m\u001b[0mindex\u001b[0m \u001b[0;34m=\u001b[0m \u001b[0mdata_table\u001b[0m\u001b[0;34m.\u001b[0m\u001b[0mindex\u001b[0m\u001b[0;34m\u001b[0m\u001b[0;34m\u001b[0m\u001b[0m\n",
      "\u001b[0;31mNameError\u001b[0m: name 'data_table' is not defined"
     ]
    }
   ],
   "source": [
    "data_table.index = data_table.index.date\n",
    "data_table.index.rename('date',inplace = True)\n",
    "timestamp_column.index = data_table.index"
   ]
  },
  {
   "cell_type": "code",
   "execution_count": 202,
   "metadata": {},
   "outputs": [],
   "source": [
    "merged_df = data_table.join(cases)\n",
    "merged_df['timestamp'] = timestamp_column"
   ]
  },
  {
   "cell_type": "code",
   "execution_count": 203,
   "metadata": {
    "collapsed": true,
    "jupyter": {
     "outputs_hidden": true
    }
   },
   "outputs": [
    {
     "data": {
      "text/html": [
       "<div>\n",
       "<style scoped>\n",
       "    .dataframe tbody tr th:only-of-type {\n",
       "        vertical-align: middle;\n",
       "    }\n",
       "\n",
       "    .dataframe tbody tr th {\n",
       "        vertical-align: top;\n",
       "    }\n",
       "\n",
       "    .dataframe thead th {\n",
       "        text-align: right;\n",
       "    }\n",
       "</style>\n",
       "<table border=\"1\" class=\"dataframe\">\n",
       "  <thead>\n",
       "    <tr style=\"text-align: right;\">\n",
       "      <th></th>\n",
       "      <th>400001</th>\n",
       "      <th>400017</th>\n",
       "      <th>400030</th>\n",
       "      <th>400040</th>\n",
       "      <th>400045</th>\n",
       "      <th>400052</th>\n",
       "      <th>400057</th>\n",
       "      <th>400059</th>\n",
       "      <th>400065</th>\n",
       "      <th>400069</th>\n",
       "      <th>...</th>\n",
       "      <th>409528</th>\n",
       "      <th>409529</th>\n",
       "      <th>413026</th>\n",
       "      <th>413845</th>\n",
       "      <th>413877</th>\n",
       "      <th>413878</th>\n",
       "      <th>414284</th>\n",
       "      <th>414694</th>\n",
       "      <th>1</th>\n",
       "      <th>timestamp</th>\n",
       "    </tr>\n",
       "  </thead>\n",
       "  <tbody>\n",
       "    <tr>\n",
       "      <th>2020-01-01</th>\n",
       "      <td>71.9</td>\n",
       "      <td>68.2</td>\n",
       "      <td>67.0</td>\n",
       "      <td>67.5</td>\n",
       "      <td>68.2</td>\n",
       "      <td>68.4</td>\n",
       "      <td>66.8</td>\n",
       "      <td>67.8</td>\n",
       "      <td>66.7</td>\n",
       "      <td>72.4</td>\n",
       "      <td>...</td>\n",
       "      <td>67.5</td>\n",
       "      <td>67.0</td>\n",
       "      <td>71.9</td>\n",
       "      <td>68.6</td>\n",
       "      <td>69.9</td>\n",
       "      <td>67.2</td>\n",
       "      <td>71.0</td>\n",
       "      <td>67.2</td>\n",
       "      <td>None</td>\n",
       "      <td>2020-01-01 00:00:00</td>\n",
       "    </tr>\n",
       "    <tr>\n",
       "      <th>2020-01-01</th>\n",
       "      <td>71.7</td>\n",
       "      <td>68.0</td>\n",
       "      <td>66.7</td>\n",
       "      <td>68.4</td>\n",
       "      <td>68.0</td>\n",
       "      <td>68.1</td>\n",
       "      <td>66.3</td>\n",
       "      <td>67.1</td>\n",
       "      <td>66.9</td>\n",
       "      <td>71.6</td>\n",
       "      <td>...</td>\n",
       "      <td>67.2</td>\n",
       "      <td>66.8</td>\n",
       "      <td>72.0</td>\n",
       "      <td>68.2</td>\n",
       "      <td>68.9</td>\n",
       "      <td>66.0</td>\n",
       "      <td>70.3</td>\n",
       "      <td>67.0</td>\n",
       "      <td>None</td>\n",
       "      <td>2020-01-01 00:05:00</td>\n",
       "    </tr>\n",
       "    <tr>\n",
       "      <th>2020-01-01</th>\n",
       "      <td>71.7</td>\n",
       "      <td>68.0</td>\n",
       "      <td>67.2</td>\n",
       "      <td>68.3</td>\n",
       "      <td>68.0</td>\n",
       "      <td>68.2</td>\n",
       "      <td>66.5</td>\n",
       "      <td>67.1</td>\n",
       "      <td>66.6</td>\n",
       "      <td>72.3</td>\n",
       "      <td>...</td>\n",
       "      <td>67.1</td>\n",
       "      <td>66.5</td>\n",
       "      <td>72.2</td>\n",
       "      <td>68.8</td>\n",
       "      <td>69.2</td>\n",
       "      <td>66.6</td>\n",
       "      <td>70.3</td>\n",
       "      <td>67.5</td>\n",
       "      <td>None</td>\n",
       "      <td>2020-01-01 00:10:00</td>\n",
       "    </tr>\n",
       "    <tr>\n",
       "      <th>2020-01-01</th>\n",
       "      <td>71.8</td>\n",
       "      <td>67.8</td>\n",
       "      <td>67.4</td>\n",
       "      <td>67.4</td>\n",
       "      <td>67.8</td>\n",
       "      <td>68.0</td>\n",
       "      <td>67.0</td>\n",
       "      <td>67.6</td>\n",
       "      <td>66.2</td>\n",
       "      <td>71.2</td>\n",
       "      <td>...</td>\n",
       "      <td>66.9</td>\n",
       "      <td>66.8</td>\n",
       "      <td>72.0</td>\n",
       "      <td>68.7</td>\n",
       "      <td>69.4</td>\n",
       "      <td>66.5</td>\n",
       "      <td>70.9</td>\n",
       "      <td>67.6</td>\n",
       "      <td>None</td>\n",
       "      <td>2020-01-01 00:15:00</td>\n",
       "    </tr>\n",
       "    <tr>\n",
       "      <th>2020-01-01</th>\n",
       "      <td>71.6</td>\n",
       "      <td>67.9</td>\n",
       "      <td>66.4</td>\n",
       "      <td>67.3</td>\n",
       "      <td>67.9</td>\n",
       "      <td>67.7</td>\n",
       "      <td>66.6</td>\n",
       "      <td>67.4</td>\n",
       "      <td>66.2</td>\n",
       "      <td>71.3</td>\n",
       "      <td>...</td>\n",
       "      <td>67.3</td>\n",
       "      <td>66.8</td>\n",
       "      <td>72.1</td>\n",
       "      <td>67.3</td>\n",
       "      <td>69.7</td>\n",
       "      <td>66.7</td>\n",
       "      <td>70.7</td>\n",
       "      <td>67.1</td>\n",
       "      <td>None</td>\n",
       "      <td>2020-01-01 00:20:00</td>\n",
       "    </tr>\n",
       "  </tbody>\n",
       "</table>\n",
       "<p>5 rows × 322 columns</p>\n",
       "</div>"
      ],
      "text/plain": [
       "            400001  400017  400030  400040  400045  400052  400057  400059  \\\n",
       "2020-01-01    71.9    68.2    67.0    67.5    68.2    68.4    66.8    67.8   \n",
       "2020-01-01    71.7    68.0    66.7    68.4    68.0    68.1    66.3    67.1   \n",
       "2020-01-01    71.7    68.0    67.2    68.3    68.0    68.2    66.5    67.1   \n",
       "2020-01-01    71.8    67.8    67.4    67.4    67.8    68.0    67.0    67.6   \n",
       "2020-01-01    71.6    67.9    66.4    67.3    67.9    67.7    66.6    67.4   \n",
       "\n",
       "            400065  400069  ...  409528  409529  413026  413845  413877  \\\n",
       "2020-01-01    66.7    72.4  ...    67.5    67.0    71.9    68.6    69.9   \n",
       "2020-01-01    66.9    71.6  ...    67.2    66.8    72.0    68.2    68.9   \n",
       "2020-01-01    66.6    72.3  ...    67.1    66.5    72.2    68.8    69.2   \n",
       "2020-01-01    66.2    71.2  ...    66.9    66.8    72.0    68.7    69.4   \n",
       "2020-01-01    66.2    71.3  ...    67.3    66.8    72.1    67.3    69.7   \n",
       "\n",
       "            413878  414284  414694     1           timestamp  \n",
       "2020-01-01    67.2    71.0    67.2  None 2020-01-01 00:00:00  \n",
       "2020-01-01    66.0    70.3    67.0  None 2020-01-01 00:05:00  \n",
       "2020-01-01    66.6    70.3    67.5  None 2020-01-01 00:10:00  \n",
       "2020-01-01    66.5    70.9    67.6  None 2020-01-01 00:15:00  \n",
       "2020-01-01    66.7    70.7    67.1  None 2020-01-01 00:20:00  \n",
       "\n",
       "[5 rows x 322 columns]"
      ]
     },
     "execution_count": 203,
     "metadata": {},
     "output_type": "execute_result"
    }
   ],
   "source": [
    "merged_df.head()"
   ]
  },
  {
   "cell_type": "code",
   "execution_count": 206,
   "metadata": {},
   "outputs": [],
   "source": [
    "merged_df = merged_df.set_index('timestamp').rename(columns ={1:'covid_cases'})"
   ]
  },
  {
   "cell_type": "code",
   "execution_count": 211,
   "metadata": {
    "collapsed": true,
    "jupyter": {
     "outputs_hidden": true
    }
   },
   "outputs": [
    {
     "data": {
      "image/png": "[encoded data removed]",
      "text/plain": [
       "<Figure size 432x288 with 1 Axes>"
      ]
     },
     "metadata": {
      "needs_background": "light"
     },
     "output_type": "display_data"
    }
   ],
   "source": [
    "import matplotlib.pyplot as plt\n",
    "\n",
    "plt.plot(cases)\n",
    "plt.show()"
   ]
  },
  {
   "cell_type": "markdown",
   "metadata": {},
   "source": [
    "### Start encoder work"
   ]
  },
  {
   "cell_type": "code",
   "execution_count": 63,
   "metadata": {},
   "outputs": [
    {
     "data": {
      "text/html": [
       "<div>\n",
       "<style scoped>\n",
       "    .dataframe tbody tr th:only-of-type {\n",
       "        vertical-align: middle;\n",
       "    }\n",
       "\n",
       "    .dataframe tbody tr th {\n",
       "        vertical-align: top;\n",
       "    }\n",
       "\n",
       "    .dataframe thead th {\n",
       "        text-align: right;\n",
       "    }\n",
       "</style>\n",
       "<table border=\"1\" class=\"dataframe\">\n",
       "  <thead>\n",
       "    <tr style=\"text-align: right;\">\n",
       "      <th></th>\n",
       "      <th>1</th>\n",
       "    </tr>\n",
       "  </thead>\n",
       "  <tbody>\n",
       "    <tr>\n",
       "      <th>2020-01-01</th>\n",
       "      <td>None</td>\n",
       "    </tr>\n",
       "    <tr>\n",
       "      <th>2020-01-02</th>\n",
       "      <td>0</td>\n",
       "    </tr>\n",
       "    <tr>\n",
       "      <th>2020-01-03</th>\n",
       "      <td>0</td>\n",
       "    </tr>\n",
       "    <tr>\n",
       "      <th>2020-01-04</th>\n",
       "      <td>0</td>\n",
       "    </tr>\n",
       "    <tr>\n",
       "      <th>2020-01-05</th>\n",
       "      <td>0</td>\n",
       "    </tr>\n",
       "    <tr>\n",
       "      <th>...</th>\n",
       "      <td>...</td>\n",
       "    </tr>\n",
       "    <tr>\n",
       "      <th>2021-04-27</th>\n",
       "      <td>71</td>\n",
       "    </tr>\n",
       "    <tr>\n",
       "      <th>2021-04-28</th>\n",
       "      <td>58</td>\n",
       "    </tr>\n",
       "    <tr>\n",
       "      <th>2021-04-29</th>\n",
       "      <td>87</td>\n",
       "    </tr>\n",
       "    <tr>\n",
       "      <th>2021-04-30</th>\n",
       "      <td>88</td>\n",
       "    </tr>\n",
       "    <tr>\n",
       "      <th>2021-05-01</th>\n",
       "      <td>100</td>\n",
       "    </tr>\n",
       "  </tbody>\n",
       "</table>\n",
       "<p>487 rows × 1 columns</p>\n",
       "</div>"
      ],
      "text/plain": [
       "               1\n",
       "2020-01-01  None\n",
       "2020-01-02     0\n",
       "2020-01-03     0\n",
       "2020-01-04     0\n",
       "2020-01-05     0\n",
       "...          ...\n",
       "2021-04-27    71\n",
       "2021-04-28    58\n",
       "2021-04-29    87\n",
       "2021-04-30    88\n",
       "2021-05-01   100\n",
       "\n",
       "[487 rows x 1 columns]"
      ]
     },
     "execution_count": 63,
     "metadata": {},
     "output_type": "execute_result"
    }
   ],
   "source": [
    "cases"
   ]
  },
  {
   "cell_type": "code",
   "execution_count": 11,
   "metadata": {},
   "outputs": [],
   "source": [
    "import pandas as pd\n",
    "\n",
    "merged_df = pd.read_pickle('traffic_covid.pkl')"
   ]
  },
  {
   "cell_type": "code",
   "execution_count": 12,
   "metadata": {},
   "outputs": [
    {
     "data": {
      "text/html": [
       "<div>\n",
       "<style scoped>\n",
       "    .dataframe tbody tr th:only-of-type {\n",
       "        vertical-align: middle;\n",
       "    }\n",
       "\n",
       "    .dataframe tbody tr th {\n",
       "        vertical-align: top;\n",
       "    }\n",
       "\n",
       "    .dataframe thead th {\n",
       "        text-align: right;\n",
       "    }\n",
       "</style>\n",
       "<table border=\"1\" class=\"dataframe\">\n",
       "  <thead>\n",
       "    <tr style=\"text-align: right;\">\n",
       "      <th></th>\n",
       "      <th>400001</th>\n",
       "      <th>400017</th>\n",
       "      <th>400030</th>\n",
       "      <th>400040</th>\n",
       "      <th>400045</th>\n",
       "      <th>400052</th>\n",
       "      <th>400057</th>\n",
       "      <th>400059</th>\n",
       "      <th>400065</th>\n",
       "      <th>400069</th>\n",
       "      <th>...</th>\n",
       "      <th>409526</th>\n",
       "      <th>409528</th>\n",
       "      <th>409529</th>\n",
       "      <th>413026</th>\n",
       "      <th>413845</th>\n",
       "      <th>413877</th>\n",
       "      <th>413878</th>\n",
       "      <th>414284</th>\n",
       "      <th>414694</th>\n",
       "      <th>covid_cases</th>\n",
       "    </tr>\n",
       "    <tr>\n",
       "      <th>timestamp</th>\n",
       "      <th></th>\n",
       "      <th></th>\n",
       "      <th></th>\n",
       "      <th></th>\n",
       "      <th></th>\n",
       "      <th></th>\n",
       "      <th></th>\n",
       "      <th></th>\n",
       "      <th></th>\n",
       "      <th></th>\n",
       "      <th></th>\n",
       "      <th></th>\n",
       "      <th></th>\n",
       "      <th></th>\n",
       "      <th></th>\n",
       "      <th></th>\n",
       "      <th></th>\n",
       "      <th></th>\n",
       "      <th></th>\n",
       "      <th></th>\n",
       "      <th></th>\n",
       "    </tr>\n",
       "  </thead>\n",
       "  <tbody>\n",
       "    <tr>\n",
       "      <th>2020-01-01 00:00:00</th>\n",
       "      <td>71.9</td>\n",
       "      <td>68.2</td>\n",
       "      <td>67.0</td>\n",
       "      <td>67.5</td>\n",
       "      <td>68.2</td>\n",
       "      <td>68.4</td>\n",
       "      <td>66.8</td>\n",
       "      <td>67.8</td>\n",
       "      <td>66.7</td>\n",
       "      <td>72.4</td>\n",
       "      <td>...</td>\n",
       "      <td>68.6</td>\n",
       "      <td>67.5</td>\n",
       "      <td>67.0</td>\n",
       "      <td>71.9</td>\n",
       "      <td>68.6</td>\n",
       "      <td>69.9</td>\n",
       "      <td>67.2</td>\n",
       "      <td>71.0</td>\n",
       "      <td>67.2</td>\n",
       "      <td>None</td>\n",
       "    </tr>\n",
       "    <tr>\n",
       "      <th>2020-01-01 00:05:00</th>\n",
       "      <td>71.7</td>\n",
       "      <td>68.0</td>\n",
       "      <td>66.7</td>\n",
       "      <td>68.4</td>\n",
       "      <td>68.0</td>\n",
       "      <td>68.1</td>\n",
       "      <td>66.3</td>\n",
       "      <td>67.1</td>\n",
       "      <td>66.9</td>\n",
       "      <td>71.6</td>\n",
       "      <td>...</td>\n",
       "      <td>68.2</td>\n",
       "      <td>67.2</td>\n",
       "      <td>66.8</td>\n",
       "      <td>72.0</td>\n",
       "      <td>68.2</td>\n",
       "      <td>68.9</td>\n",
       "      <td>66.0</td>\n",
       "      <td>70.3</td>\n",
       "      <td>67.0</td>\n",
       "      <td>None</td>\n",
       "    </tr>\n",
       "    <tr>\n",
       "      <th>2020-01-01 00:10:00</th>\n",
       "      <td>71.7</td>\n",
       "      <td>68.0</td>\n",
       "      <td>67.2</td>\n",
       "      <td>68.3</td>\n",
       "      <td>68.0</td>\n",
       "      <td>68.2</td>\n",
       "      <td>66.5</td>\n",
       "      <td>67.1</td>\n",
       "      <td>66.6</td>\n",
       "      <td>72.3</td>\n",
       "      <td>...</td>\n",
       "      <td>68.5</td>\n",
       "      <td>67.1</td>\n",
       "      <td>66.5</td>\n",
       "      <td>72.2</td>\n",
       "      <td>68.8</td>\n",
       "      <td>69.2</td>\n",
       "      <td>66.6</td>\n",
       "      <td>70.3</td>\n",
       "      <td>67.5</td>\n",
       "      <td>None</td>\n",
       "    </tr>\n",
       "    <tr>\n",
       "      <th>2020-01-01 00:15:00</th>\n",
       "      <td>71.8</td>\n",
       "      <td>67.8</td>\n",
       "      <td>67.4</td>\n",
       "      <td>67.4</td>\n",
       "      <td>67.8</td>\n",
       "      <td>68.0</td>\n",
       "      <td>67.0</td>\n",
       "      <td>67.6</td>\n",
       "      <td>66.2</td>\n",
       "      <td>71.2</td>\n",
       "      <td>...</td>\n",
       "      <td>68.4</td>\n",
       "      <td>66.9</td>\n",
       "      <td>66.8</td>\n",
       "      <td>72.0</td>\n",
       "      <td>68.7</td>\n",
       "      <td>69.4</td>\n",
       "      <td>66.5</td>\n",
       "      <td>70.9</td>\n",
       "      <td>67.6</td>\n",
       "      <td>None</td>\n",
       "    </tr>\n",
       "    <tr>\n",
       "      <th>2020-01-01 00:20:00</th>\n",
       "      <td>71.6</td>\n",
       "      <td>67.9</td>\n",
       "      <td>66.4</td>\n",
       "      <td>67.3</td>\n",
       "      <td>67.9</td>\n",
       "      <td>67.7</td>\n",
       "      <td>66.6</td>\n",
       "      <td>67.4</td>\n",
       "      <td>66.2</td>\n",
       "      <td>71.3</td>\n",
       "      <td>...</td>\n",
       "      <td>68.4</td>\n",
       "      <td>67.3</td>\n",
       "      <td>66.8</td>\n",
       "      <td>72.1</td>\n",
       "      <td>67.3</td>\n",
       "      <td>69.7</td>\n",
       "      <td>66.7</td>\n",
       "      <td>70.7</td>\n",
       "      <td>67.1</td>\n",
       "      <td>None</td>\n",
       "    </tr>\n",
       "  </tbody>\n",
       "</table>\n",
       "<p>5 rows × 321 columns</p>\n",
       "</div>"
      ],
      "text/plain": [
       "                     400001  400017  400030  400040  400045  400052  400057  \\\n",
       "timestamp                                                                     \n",
       "2020-01-01 00:00:00    71.9    68.2    67.0    67.5    68.2    68.4    66.8   \n",
       "2020-01-01 00:05:00    71.7    68.0    66.7    68.4    68.0    68.1    66.3   \n",
       "2020-01-01 00:10:00    71.7    68.0    67.2    68.3    68.0    68.2    66.5   \n",
       "2020-01-01 00:15:00    71.8    67.8    67.4    67.4    67.8    68.0    67.0   \n",
       "2020-01-01 00:20:00    71.6    67.9    66.4    67.3    67.9    67.7    66.6   \n",
       "\n",
       "                     400059  400065  400069  ...  409526  409528  409529  \\\n",
       "timestamp                                    ...                           \n",
       "2020-01-01 00:00:00    67.8    66.7    72.4  ...    68.6    67.5    67.0   \n",
       "2020-01-01 00:05:00    67.1    66.9    71.6  ...    68.2    67.2    66.8   \n",
       "2020-01-01 00:10:00    67.1    66.6    72.3  ...    68.5    67.1    66.5   \n",
       "2020-01-01 00:15:00    67.6    66.2    71.2  ...    68.4    66.9    66.8   \n",
       "2020-01-01 00:20:00    67.4    66.2    71.3  ...    68.4    67.3    66.8   \n",
       "\n",
       "                     413026  413845  413877  413878  414284  414694  \\\n",
       "timestamp                                                             \n",
       "2020-01-01 00:00:00    71.9    68.6    69.9    67.2    71.0    67.2   \n",
       "2020-01-01 00:05:00    72.0    68.2    68.9    66.0    70.3    67.0   \n",
       "2020-01-01 00:10:00    72.2    68.8    69.2    66.6    70.3    67.5   \n",
       "2020-01-01 00:15:00    72.0    68.7    69.4    66.5    70.9    67.6   \n",
       "2020-01-01 00:20:00    72.1    67.3    69.7    66.7    70.7    67.1   \n",
       "\n",
       "                     covid_cases  \n",
       "timestamp                         \n",
       "2020-01-01 00:00:00         None  \n",
       "2020-01-01 00:05:00         None  \n",
       "2020-01-01 00:10:00         None  \n",
       "2020-01-01 00:15:00         None  \n",
       "2020-01-01 00:20:00         None  \n",
       "\n",
       "[5 rows x 321 columns]"
      ]
     },
     "execution_count": 12,
     "metadata": {},
     "output_type": "execute_result"
    }
   ],
   "source": [
    "merged_df.head()"
   ]
  },
  {
   "cell_type": "markdown",
   "metadata": {},
   "source": [
    "### Neural network training"
   ]
  },
  {
   "cell_type": "code",
   "execution_count": 220,
   "metadata": {},
   "outputs": [],
   "source": [
    "cases = '''select record_date,new_cases from traffic_covid_both'''\n",
    "cases = engine.execute(cases).fetchall()\n",
    "\n",
    "import datetime\n",
    "import pandas as pd\n",
    "\n",
    "fromtime = datetime.datetime.strptime('01-01-2020','%m-%d-%Y')\n",
    "cases = pd.DataFrame(cases)\n",
    "cases[0] = pd.to_datetime(cases[0])\n",
    "cases.set_index(0,inplace = True)"
   ]
  },
  {
   "cell_type": "code",
   "execution_count": 254,
   "metadata": {},
   "outputs": [],
   "source": [
    "import torch\n",
    "import torch.nn as nn\n",
    "\n",
    "# Timestep information already encoded in this sequence (Sequence Length)\n",
    "\n",
    "class CovidEncoder(nn.Module):\n",
    "    def __init__(self, input_dim, hidden_size , **kwargs):\n",
    "        super().__init__()\n",
    "        self.cell = nn.GRU(input_size = input_dim,hidden_size= hidden_size)\n",
    "        self.lin = nn.Linear(hidden_size,1)\n",
    "\n",
    "    def forward(self, inputs, hidden_state):\n",
    "        output, hidden = self.cell(inputs, hidden_state)\n",
    "        return torch.nn.functional.leaky_relu(self.lin(output[-1,:,:]))\n",
    "\n",
    "#Take in last weeks COVID data to predict at current timestep"
   ]
  },
  {
   "cell_type": "code",
   "execution_count": 222,
   "metadata": {},
   "outputs": [],
   "source": [
    "cases = cases[cases.index <= '2020-06-29']\n",
    "covid_cases = cases.fillna(0.).to_numpy().astype('float32')"
   ]
  },
  {
   "cell_type": "code",
   "execution_count": 62,
   "metadata": {},
   "outputs": [],
   "source": [
    "import numpy as np\n",
    "\n",
    "covid_horizon = 7\n",
    "\n",
    "x = []\n",
    "y = []\n",
    "\n",
    "for i in range(covid_horizon,len(covid_cases)):\n",
    "    x.append(covid_cases[i-covid_horizon:i])\n",
    "    y.append(covid_cases[i])\n",
    "    \n",
    "x = np.array(x)\n",
    "y = np.array(y)"
   ]
  },
  {
   "cell_type": "code",
   "execution_count": 63,
   "metadata": {
    "collapsed": true,
    "jupyter": {
     "outputs_hidden": true
    }
   },
   "outputs": [
    {
     "data": {
      "text/plain": [
       "(174, 7, 1)"
      ]
     },
     "execution_count": 63,
     "metadata": {},
     "output_type": "execute_result"
    }
   ],
   "source": [
    "x.shape"
   ]
  },
  {
   "cell_type": "code",
   "execution_count": 64,
   "metadata": {
    "collapsed": true,
    "jupyter": {
     "outputs_hidden": true
    }
   },
   "outputs": [
    {
     "data": {
      "text/plain": [
       "(130, 7, 1)"
      ]
     },
     "execution_count": 64,
     "metadata": {},
     "output_type": "execute_result"
    }
   ],
   "source": [
    "np.unique(x,axis = 0 ).shape"
   ]
  },
  {
   "cell_type": "code",
   "execution_count": 65,
   "metadata": {
    "collapsed": true,
    "jupyter": {
     "outputs_hidden": true
    }
   },
   "outputs": [
    {
     "data": {
      "text/plain": [
       "(174, 1)"
      ]
     },
     "execution_count": 65,
     "metadata": {},
     "output_type": "execute_result"
    }
   ],
   "source": [
    "y.shape"
   ]
  },
  {
   "cell_type": "code",
   "execution_count": 66,
   "metadata": {},
   "outputs": [],
   "source": [
    "x = torch.tensor(x).permute(1,0,2)\n",
    "\n",
    "batch_size = 110\n",
    "\n",
    "train_x,train_y = x[:,:batch_size,:], y[:batch_size,:]\n",
    "\n",
    "test_x,test_y = x[:,batch_size:,:],y[batch_size:,]"
   ]
  },
  {
   "cell_type": "code",
   "execution_count": 11,
   "metadata": {
    "collapsed": true,
    "jupyter": {
     "outputs_hidden": true
    }
   },
   "outputs": [
    {
     "name": "stderr",
     "output_type": "stream",
     "text": [
      "<ipython-input-11-6bfabbd9a0d8>:11: UserWarning: To copy construct from a tensor, it is recommended to use sourceTensor.clone().detach() or sourceTensor.clone().detach().requires_grad_(True), rather than torch.tensor(sourceTensor).\n",
      "  train_x = torch.tensor(train_x)\n"
     ]
    },
    {
     "name": "stdout",
     "output_type": "stream",
     "text": [
      "Epoch number 0 loss value 19.021208\n",
      "Epoch number 100 loss value 13.162189\n",
      "Epoch number 200 loss value 8.779828\n",
      "Epoch number 300 loss value 4.547822\n",
      "Epoch number 400 loss value 2.636981\n",
      "Epoch number 500 loss value 1.952946\n",
      "Epoch number 600 loss value 1.547063\n",
      "Epoch number 700 loss value 1.308218\n",
      "Epoch number 800 loss value 1.157400\n",
      "Epoch number 900 loss value 1.109256\n",
      "Epoch number 1000 loss value 1.004866\n",
      "Epoch number 1100 loss value 0.976264\n",
      "Epoch number 1200 loss value 0.913545\n",
      "Epoch number 1300 loss value 0.844217\n",
      "Epoch number 1400 loss value 0.860111\n",
      "Epoch number 1500 loss value 0.857304\n",
      "Epoch number 1600 loss value 0.760932\n",
      "Epoch number 1700 loss value 0.707987\n",
      "Epoch number 1800 loss value 0.701628\n",
      "Epoch number 1900 loss value 0.716160\n"
     ]
    },
    {
     "data": {
      "image/png": "[encoded data removed]",
      "text/plain": [
       "<Figure size 432x288 with 1 Axes>"
      ]
     },
     "metadata": {
      "needs_background": "light"
     },
     "output_type": "display_data"
    }
   ],
   "source": [
    "import torch.optim as optim\n",
    "import matplotlib.pyplot as plt\n",
    "\n",
    "epochs = 2000\n",
    "input_dim = 1\n",
    "hidden_size = 64\n",
    "\n",
    "model = CovidEncoder(input_dim,hidden_size)\n",
    "h_0 = torch.randn(1,batch_size,hidden_size)\n",
    "\n",
    "train_x = torch.tensor(train_x)\n",
    "train_y = torch.tensor(train_y)s\n",
    "\n",
    "criterion = nn.L1Loss()\n",
    "optimizer = optim.SGD(model.parameters(), lr=0.01, momentum=0.9)\n",
    "\n",
    "losses = []\n",
    "print_every = 100\n",
    "\n",
    "for epoch in range(epochs):\n",
    "    \n",
    "    optimizer.zero_grad()\n",
    "    \n",
    "    output = model(train_x,h_0)\n",
    "    loss = criterion(train_y,output)\n",
    "    \n",
    "    loss.backward()\n",
    "    optimizer.step()\n",
    "    \n",
    "    losses.append(loss.item())\n",
    "    \n",
    "    if epoch % print_every == 0:\n",
    "        print('Epoch number %d loss value %f'% (epoch,loss))\n",
    "\n",
    "plt.plot(losses)\n",
    "plt.show()"
   ]
  },
  {
   "cell_type": "markdown",
   "metadata": {},
   "source": [
    "### Data Generation process"
   ]
  },
  {
   "cell_type": "code",
   "execution_count": 223,
   "metadata": {},
   "outputs": [],
   "source": [
    "import pandas as pd\n",
    "\n",
    "merged_df = pd.read_pickle('traffic_covid.pkl')"
   ]
  },
  {
   "cell_type": "code",
   "execution_count": 224,
   "metadata": {},
   "outputs": [],
   "source": [
    "from __future__ import absolute_import\n",
    "from __future__ import division\n",
    "from __future__ import print_function\n",
    "from __future__ import unicode_literals\n",
    "\n",
    "import argparse\n",
    "import numpy as np\n",
    "import os\n",
    "import pandas as pd\n",
    "\n",
    "\n",
    "def generate_graph_seq2seq_io_data(\n",
    "        df, x_offsets, y_offsets, add_time_in_day=True, add_day_in_week=False, scaler=None\n",
    "):\n",
    "    \"\"\"\n",
    "    Generate samples from\n",
    "    :param df:\n",
    "    :param x_offsets:\n",
    "    :param y_offsets:\n",
    "    :param add_time_in_day:\n",
    "    :param add_day_in_week:\n",
    "    :param scaler:\n",
    "    :return:\n",
    "    # x: (epoch_size, input_length, num_nodes, input_dim)\n",
    "    # y: (epoch_size, output_length, num_nodes, output_dim)\n",
    "    \"\"\"\n",
    "\n",
    "    num_samples, num_nodes = df.shape\n",
    "    data = np.expand_dims(df.values, axis=-1)\n",
    "    data_list = [data]\n",
    "    if add_time_in_day:\n",
    "        time_ind = (df.index.values - df.index.values.astype(\"datetime64[D]\")) / np.timedelta64(1, \"D\")\n",
    "        time_in_day = np.tile(time_ind, [1, num_nodes, 1]).transpose((2, 1, 0))\n",
    "        data_list.append(time_in_day)\n",
    "    if add_day_in_week:\n",
    "        day_in_week = np.zeros(shape=(num_samples, num_nodes, 7))\n",
    "        day_in_week[np.arange(num_samples), :, df.index.dayofweek] = 1\n",
    "        data_list.append(day_in_week)\n",
    "\n",
    "    data = np.concatenate(data_list, axis=-1)\n",
    "    \n",
    "    x, y = [], []\n",
    "    \n",
    "    min_t = abs(min(x_offsets))\n",
    "    max_t = abs(num_samples - abs(max(y_offsets)))  # Exclusive\n",
    "    for t in range(min_t, max_t):\n",
    "        x_t = data[t + x_offsets, ...]\n",
    "        y_t = data[t + y_offsets, ...]\n",
    "        x.append(x_t)\n",
    "        y.append(y_t)\n",
    "    x = np.stack(x, axis=0)\n",
    "    y = np.stack(y, axis=0)\n",
    "    return x, y\n",
    "\n",
    "\n",
    "def generate_train_val_test(args,df,covid_df):\n",
    "    \n",
    "    x_offsets = np.sort(\n",
    "        # np.concatenate(([-week_size + 1, -day_size + 1], np.arange(-11, 1, 1)))\n",
    "        np.concatenate((np.arange(-11, 1, 1),))\n",
    "    )\n",
    "    # Predict the next one hour\n",
    "    y_offsets = np.sort(np.arange(1, 13, 1))\n",
    "    # x: (num_samples, input_length, num_nodes, input_dim)\n",
    "    # y: (num_samples, output_length, num_nodes, output_dim)\n",
    "    x, y = generate_graph_seq2seq_io_data(\n",
    "        df,\n",
    "        x_offsets=x_offsets,\n",
    "        y_offsets=y_offsets,\n",
    "        add_time_in_day=True,\n",
    "        add_day_in_week=False,\n",
    "    )\n",
    "\n",
    "    print(\"x shape: \", x.shape, \", y shape: \", y.shape)\n",
    "    # Write the data into npz file.\n",
    "    # num_test = 6831, using the last 6831 examples as testing.\n",
    "    # for the rest: 7/8 is used for training, and 1/8 is used for validation.\n",
    "    num_samples = x.shape[0]\n",
    "    num_test = round(num_samples * 0.2)\n",
    "    num_train = round(num_samples * 0.7)\n",
    "    num_val = num_samples - num_test - num_train\n",
    "\n",
    "    # train\n",
    "    x_train, y_train = x[:num_train], y[:num_train]\n",
    "    # val\n",
    "    x_val, y_val = (\n",
    "        x[num_train: num_train + num_val],\n",
    "        y[num_train: num_train + num_val],\n",
    "    )\n",
    "    # test\n",
    "    x_test, y_test = x[-num_test:], y[-num_test:]\n",
    "\n",
    "    for cat in [\"train\", \"val\", \"test\"]:\n",
    "        _x, _y = locals()[\"x_\" + cat], locals()[\"y_\" + cat]\n",
    "        print(cat, \"x: \", _x.shape, \"y:\", _y.shape)\n",
    "        np.savez_compressed(\n",
    "            os.path.join(args.output_dir, \"%s.npz\" % cat),\n",
    "            x=_x,\n",
    "            y=_y,\n",
    "            x_offsets=x_offsets.reshape(list(x_offsets.shape) + [1]),\n",
    "            y_offsets=y_offsets.reshape(list(y_offsets.shape) + [1]),\n",
    "        )"
   ]
  },
  {
   "cell_type": "code",
   "execution_count": 225,
   "metadata": {},
   "outputs": [],
   "source": [
    "df = merged_df\n",
    "add_time_in_day = True\n",
    "add_day_in_week = False\n",
    "\n",
    "num_samples, num_nodes = df.shape\n",
    "data = np.expand_dims(df.values, axis=-1)\n",
    "data_list = [data]\n",
    "\n",
    "if add_time_in_day:\n",
    "    time_ind = (df.index.values - df.index.values.astype(\"datetime64[D]\")) / np.timedelta64(1, \"D\")\n",
    "    time_in_day = np.tile(time_ind, [1, num_nodes, 1]).transpose((2, 1, 0))\n",
    "    data_list.append(time_in_day)\n",
    "if add_day_in_week:\n",
    "    day_in_week = np.zeros(shape=(num_samples, num_nodes, 7))\n",
    "    day_in_week[np.arange(num_samples), :, df.index.dayofweek] = 1\n",
    "    data_list.append(day_in_week)\n",
    "\n",
    "data = np.concatenate(data_list, axis=-1)"
   ]
  },
  {
   "cell_type": "code",
   "execution_count": 226,
   "metadata": {},
   "outputs": [],
   "source": [
    "merged_df['covid_cases'] = merged_df['covid_cases'].fillna(0.).astype('float64')"
   ]
  },
  {
   "cell_type": "code",
   "execution_count": 227,
   "metadata": {},
   "outputs": [
    {
     "data": {
      "text/html": [
       "<div>\n",
       "<style scoped>\n",
       "    .dataframe tbody tr th:only-of-type {\n",
       "        vertical-align: middle;\n",
       "    }\n",
       "\n",
       "    .dataframe tbody tr th {\n",
       "        vertical-align: top;\n",
       "    }\n",
       "\n",
       "    .dataframe thead th {\n",
       "        text-align: right;\n",
       "    }\n",
       "</style>\n",
       "<table border=\"1\" class=\"dataframe\">\n",
       "  <thead>\n",
       "    <tr style=\"text-align: right;\">\n",
       "      <th></th>\n",
       "      <th>400001</th>\n",
       "      <th>400017</th>\n",
       "      <th>400030</th>\n",
       "      <th>400040</th>\n",
       "      <th>400045</th>\n",
       "      <th>400052</th>\n",
       "      <th>400057</th>\n",
       "      <th>400059</th>\n",
       "      <th>400065</th>\n",
       "      <th>400069</th>\n",
       "      <th>...</th>\n",
       "      <th>409526</th>\n",
       "      <th>409528</th>\n",
       "      <th>409529</th>\n",
       "      <th>413026</th>\n",
       "      <th>413845</th>\n",
       "      <th>413877</th>\n",
       "      <th>413878</th>\n",
       "      <th>414284</th>\n",
       "      <th>414694</th>\n",
       "      <th>covid_cases</th>\n",
       "    </tr>\n",
       "    <tr>\n",
       "      <th>timestamp</th>\n",
       "      <th></th>\n",
       "      <th></th>\n",
       "      <th></th>\n",
       "      <th></th>\n",
       "      <th></th>\n",
       "      <th></th>\n",
       "      <th></th>\n",
       "      <th></th>\n",
       "      <th></th>\n",
       "      <th></th>\n",
       "      <th></th>\n",
       "      <th></th>\n",
       "      <th></th>\n",
       "      <th></th>\n",
       "      <th></th>\n",
       "      <th></th>\n",
       "      <th></th>\n",
       "      <th></th>\n",
       "      <th></th>\n",
       "      <th></th>\n",
       "      <th></th>\n",
       "    </tr>\n",
       "  </thead>\n",
       "  <tbody>\n",
       "    <tr>\n",
       "      <th>2020-01-01 00:00:00</th>\n",
       "      <td>71.9</td>\n",
       "      <td>68.2</td>\n",
       "      <td>67.0</td>\n",
       "      <td>67.5</td>\n",
       "      <td>68.2</td>\n",
       "      <td>68.4</td>\n",
       "      <td>66.8</td>\n",
       "      <td>67.8</td>\n",
       "      <td>66.7</td>\n",
       "      <td>72.4</td>\n",
       "      <td>...</td>\n",
       "      <td>68.6</td>\n",
       "      <td>67.5</td>\n",
       "      <td>67.0</td>\n",
       "      <td>71.9</td>\n",
       "      <td>68.6</td>\n",
       "      <td>69.9</td>\n",
       "      <td>67.2</td>\n",
       "      <td>71.0</td>\n",
       "      <td>67.2</td>\n",
       "      <td>0.0</td>\n",
       "    </tr>\n",
       "    <tr>\n",
       "      <th>2020-01-01 00:05:00</th>\n",
       "      <td>71.7</td>\n",
       "      <td>68.0</td>\n",
       "      <td>66.7</td>\n",
       "      <td>68.4</td>\n",
       "      <td>68.0</td>\n",
       "      <td>68.1</td>\n",
       "      <td>66.3</td>\n",
       "      <td>67.1</td>\n",
       "      <td>66.9</td>\n",
       "      <td>71.6</td>\n",
       "      <td>...</td>\n",
       "      <td>68.2</td>\n",
       "      <td>67.2</td>\n",
       "      <td>66.8</td>\n",
       "      <td>72.0</td>\n",
       "      <td>68.2</td>\n",
       "      <td>68.9</td>\n",
       "      <td>66.0</td>\n",
       "      <td>70.3</td>\n",
       "      <td>67.0</td>\n",
       "      <td>0.0</td>\n",
       "    </tr>\n",
       "    <tr>\n",
       "      <th>2020-01-01 00:10:00</th>\n",
       "      <td>71.7</td>\n",
       "      <td>68.0</td>\n",
       "      <td>67.2</td>\n",
       "      <td>68.3</td>\n",
       "      <td>68.0</td>\n",
       "      <td>68.2</td>\n",
       "      <td>66.5</td>\n",
       "      <td>67.1</td>\n",
       "      <td>66.6</td>\n",
       "      <td>72.3</td>\n",
       "      <td>...</td>\n",
       "      <td>68.5</td>\n",
       "      <td>67.1</td>\n",
       "      <td>66.5</td>\n",
       "      <td>72.2</td>\n",
       "      <td>68.8</td>\n",
       "      <td>69.2</td>\n",
       "      <td>66.6</td>\n",
       "      <td>70.3</td>\n",
       "      <td>67.5</td>\n",
       "      <td>0.0</td>\n",
       "    </tr>\n",
       "    <tr>\n",
       "      <th>2020-01-01 00:15:00</th>\n",
       "      <td>71.8</td>\n",
       "      <td>67.8</td>\n",
       "      <td>67.4</td>\n",
       "      <td>67.4</td>\n",
       "      <td>67.8</td>\n",
       "      <td>68.0</td>\n",
       "      <td>67.0</td>\n",
       "      <td>67.6</td>\n",
       "      <td>66.2</td>\n",
       "      <td>71.2</td>\n",
       "      <td>...</td>\n",
       "      <td>68.4</td>\n",
       "      <td>66.9</td>\n",
       "      <td>66.8</td>\n",
       "      <td>72.0</td>\n",
       "      <td>68.7</td>\n",
       "      <td>69.4</td>\n",
       "      <td>66.5</td>\n",
       "      <td>70.9</td>\n",
       "      <td>67.6</td>\n",
       "      <td>0.0</td>\n",
       "    </tr>\n",
       "    <tr>\n",
       "      <th>2020-01-01 00:20:00</th>\n",
       "      <td>71.6</td>\n",
       "      <td>67.9</td>\n",
       "      <td>66.4</td>\n",
       "      <td>67.3</td>\n",
       "      <td>67.9</td>\n",
       "      <td>67.7</td>\n",
       "      <td>66.6</td>\n",
       "      <td>67.4</td>\n",
       "      <td>66.2</td>\n",
       "      <td>71.3</td>\n",
       "      <td>...</td>\n",
       "      <td>68.4</td>\n",
       "      <td>67.3</td>\n",
       "      <td>66.8</td>\n",
       "      <td>72.1</td>\n",
       "      <td>67.3</td>\n",
       "      <td>69.7</td>\n",
       "      <td>66.7</td>\n",
       "      <td>70.7</td>\n",
       "      <td>67.1</td>\n",
       "      <td>0.0</td>\n",
       "    </tr>\n",
       "  </tbody>\n",
       "</table>\n",
       "<p>5 rows × 321 columns</p>\n",
       "</div>"
      ],
      "text/plain": [
       "                     400001  400017  400030  400040  400045  400052  400057  \\\n",
       "timestamp                                                                     \n",
       "2020-01-01 00:00:00    71.9    68.2    67.0    67.5    68.2    68.4    66.8   \n",
       "2020-01-01 00:05:00    71.7    68.0    66.7    68.4    68.0    68.1    66.3   \n",
       "2020-01-01 00:10:00    71.7    68.0    67.2    68.3    68.0    68.2    66.5   \n",
       "2020-01-01 00:15:00    71.8    67.8    67.4    67.4    67.8    68.0    67.0   \n",
       "2020-01-01 00:20:00    71.6    67.9    66.4    67.3    67.9    67.7    66.6   \n",
       "\n",
       "                     400059  400065  400069  ...  409526  409528  409529  \\\n",
       "timestamp                                    ...                           \n",
       "2020-01-01 00:00:00    67.8    66.7    72.4  ...    68.6    67.5    67.0   \n",
       "2020-01-01 00:05:00    67.1    66.9    71.6  ...    68.2    67.2    66.8   \n",
       "2020-01-01 00:10:00    67.1    66.6    72.3  ...    68.5    67.1    66.5   \n",
       "2020-01-01 00:15:00    67.6    66.2    71.2  ...    68.4    66.9    66.8   \n",
       "2020-01-01 00:20:00    67.4    66.2    71.3  ...    68.4    67.3    66.8   \n",
       "\n",
       "                     413026  413845  413877  413878  414284  414694  \\\n",
       "timestamp                                                             \n",
       "2020-01-01 00:00:00    71.9    68.6    69.9    67.2    71.0    67.2   \n",
       "2020-01-01 00:05:00    72.0    68.2    68.9    66.0    70.3    67.0   \n",
       "2020-01-01 00:10:00    72.2    68.8    69.2    66.6    70.3    67.5   \n",
       "2020-01-01 00:15:00    72.0    68.7    69.4    66.5    70.9    67.6   \n",
       "2020-01-01 00:20:00    72.1    67.3    69.7    66.7    70.7    67.1   \n",
       "\n",
       "                     covid_cases  \n",
       "timestamp                         \n",
       "2020-01-01 00:00:00          0.0  \n",
       "2020-01-01 00:05:00          0.0  \n",
       "2020-01-01 00:10:00          0.0  \n",
       "2020-01-01 00:15:00          0.0  \n",
       "2020-01-01 00:20:00          0.0  \n",
       "\n",
       "[5 rows x 321 columns]"
      ]
     },
     "execution_count": 227,
     "metadata": {},
     "output_type": "execute_result"
    }
   ],
   "source": [
    "merged_df.head()"
   ]
  },
  {
   "cell_type": "code",
   "execution_count": 216,
   "metadata": {},
   "outputs": [
    {
     "data": {
      "text/plain": [
       "(52114, 321)"
      ]
     },
     "execution_count": 216,
     "metadata": {},
     "output_type": "execute_result"
    }
   ],
   "source": [
    "merged_df.shape"
   ]
  },
  {
   "cell_type": "code",
   "execution_count": 228,
   "metadata": {},
   "outputs": [],
   "source": [
    "x_offsets = np.sort(np.concatenate((np.arange(-11, 1, 1),)))\n",
    "y_offsets = np.sort(np.arange(1, 13, 1))\n",
    "\n",
    "# x_offsets = x_offsets.reshape(list(x_offsets.shape) + [1])\n",
    "# y_offsets = y_offsets.reshape(list(y_offsets.shape) + [1])\n",
    "\n",
    "x = []\n",
    "y = []"
   ]
  },
  {
   "cell_type": "code",
   "execution_count": 229,
   "metadata": {},
   "outputs": [],
   "source": [
    "min_t = abs(min(x_offsets))\n",
    "max_t = abs(num_samples - abs(max(y_offsets)))\n",
    "\n",
    "for t in range(min_t, max_t):\n",
    "    x_t = data[t + x_offsets, ...]\n",
    "    y_t = data[t + y_offsets, ...]\n",
    "    x.append(x_t)\n",
    "    y.append(y_t)\n",
    "\n",
    "x = np.stack(x, axis=0)\n",
    "y = np.stack(y, axis=0)"
   ]
  },
  {
   "cell_type": "code",
   "execution_count": 230,
   "metadata": {},
   "outputs": [
    {
     "data": {
      "text/plain": [
       "(52091, 12, 321, 2)"
      ]
     },
     "execution_count": 230,
     "metadata": {},
     "output_type": "execute_result"
    }
   ],
   "source": [
    "x.shape"
   ]
  },
  {
   "cell_type": "code",
   "execution_count": 233,
   "metadata": {},
   "outputs": [],
   "source": [
    "from datetime import datetime\n",
    "\n",
    "def convert_to_date(ind):\n",
    "    return datetime.strptime(str(merged_df.index[ind].date()), '%Y-%m-%d')\n",
    "\n",
    "def return_case_index(ind):\n",
    "    #print(convert_to_date(ind))\n",
    "    return cases.index.get_loc(convert_to_date(ind))\n",
    "\n",
    "def relu(arr):\n",
    "    arr[arr < 0] = 0.\n",
    "    return arr\n",
    "\n",
    "ind = min_t - 12 + 1"
   ]
  },
  {
   "cell_type": "code",
   "execution_count": 235,
   "metadata": {},
   "outputs": [
    {
     "name": "stdout",
     "output_type": "stream",
     "text": [
      "[[0.]\n",
      " [0.]\n",
      " [0.]\n",
      " [0.]\n",
      " [0.]\n",
      " [0.]\n",
      " [0.]]\n",
      "[[0.]\n",
      " [0.]\n",
      " [0.]\n",
      " [0.]\n",
      " [0.]\n",
      " [0.]\n",
      " [0.]]\n"
     ]
    }
   ],
   "source": [
    "cov_horizon = 7\n",
    "#cases = cases.astype('float64').rolling(cov_horizon).mean().fillna(0.)\n",
    "\n",
    "for ind in range(0,2):\n",
    "    cind = return_case_index(ind)\n",
    "    arr = relu(np.arange(cind-cov_horizon,cind))\n",
    "    print(cases.values[arr])"
   ]
  },
  {
   "cell_type": "code",
   "execution_count": 236,
   "metadata": {},
   "outputs": [],
   "source": [
    "cases = np.round(cases)"
   ]
  },
  {
   "cell_type": "code",
   "execution_count": 237,
   "metadata": {},
   "outputs": [],
   "source": [
    "min_t = abs(min(x_offsets))\n",
    "max_t = abs(num_samples - abs(max(y_offsets)))\n",
    "\n",
    "cov_x = []\n",
    "cov_y = []\n",
    "\n",
    "for t in range(min_t, max_t):\n",
    "    #x_t = data[t + x_offsets, ...]\n",
    "    #y_t = data[t + y_offsets, ...]\n",
    "    try:\n",
    "        cind = return_case_index(t)\n",
    "        cov_x.append(cases.values[relu(np.arange(cind-cov_horizon,cind))])\n",
    "        cov_y.append(cases.values[cind])\n",
    "        #print(cases.values[relu(np.arange(cind-cov_horizon,cind))],cases.values[cind])\n",
    "    except IndexError as e:\n",
    "        print(relu(np.arange(t-cov_horizon,t)))\n",
    "    #    x.append(x_t)\n",
    "    #    y.append(y_t)\n",
    "\n",
    "#x = np.stack(x, axis=0)\n",
    "#y = np.stack(y, axis=0)"
   ]
  },
  {
   "cell_type": "code",
   "execution_count": 238,
   "metadata": {},
   "outputs": [],
   "source": [
    "covid_cases = np.stack(cov_x,axis = 0).astype('float32')\n",
    "covid_labels = np.stack(cov_y,axis = 0).astype('float32')"
   ]
  },
  {
   "cell_type": "code",
   "execution_count": 240,
   "metadata": {},
   "outputs": [
    {
     "data": {
      "text/plain": [
       "(52091, 7, 1)"
      ]
     },
     "execution_count": 240,
     "metadata": {},
     "output_type": "execute_result"
    }
   ],
   "source": [
    "covid_cases.shape"
   ]
  },
  {
   "cell_type": "code",
   "execution_count": 241,
   "metadata": {},
   "outputs": [
    {
     "data": {
      "text/plain": [
       "(52091, 1)"
      ]
     },
     "execution_count": 241,
     "metadata": {},
     "output_type": "execute_result"
    }
   ],
   "source": [
    "covid_labels.shape"
   ]
  },
  {
   "cell_type": "code",
   "execution_count": 31,
   "metadata": {},
   "outputs": [],
   "source": [
    "#indices = np.unique(covid_cases,axis = 0,return_index = True)[1]\n",
    "#covid_cases_uq = covid_cases[indices]\n",
    "#covid_labels_uq = covid_labels[indices]"
   ]
  },
  {
   "cell_type": "code",
   "execution_count": 32,
   "metadata": {},
   "outputs": [],
   "source": [
    "#covid_cases = torch.tensor(covid_cases).permute(1,0,2)"
   ]
  },
  {
   "cell_type": "code",
   "execution_count": 432,
   "metadata": {},
   "outputs": [],
   "source": [
    "import os\n",
    "import pandas as pd\n",
    "import torch\n",
    "from torch.utils.data import Dataset, DataLoader\n",
    "\n",
    "class CovidDataset(Dataset):\n",
    "    def __init__(self,ds_size):\n",
    "        self.dataset = covid_cases[:,:ds_size,:]\n",
    "        self.labels = covid_labels[:ds_size,:]\n",
    "        \n",
    "    def __len__(self):\n",
    "        return len(self.dataset)\n",
    "\n",
    "    def __getitem__(self, idx):\n",
    "        return self.dataset[:,0,:],self.labels[0,:]\n",
    "    \n",
    "class CovidTestDataset(Dataset):\n",
    "    def __init__(self,ds_size):\n",
    "        self.dataset = covid_cases[:,ds_size:,:]\n",
    "        self.labels = covid_labels[ds_size:,:]\n",
    "        \n",
    "    def __len__(self):\n",
    "        return len(self.dataset)\n",
    "\n",
    "    def __getitem__(self, idx):\n",
    "        return self.dataset[:,0,:],self.labels[0,:]\n",
    "\n",
    "train = CovidDataset(42000)\n",
    "test = CovidTestDataset(42000)\n",
    "\n",
    "trainloader = DataLoader(train, batch_size=batch_size, shuffle=False,drop_last = True)\n",
    "testloader = DataLoader(test, batch_size=batch_size, shuffle=False,drop_last = True)"
   ]
  },
  {
   "cell_type": "code",
   "execution_count": 33,
   "metadata": {
    "collapsed": true,
    "jupyter": {
     "outputs_hidden": true
    }
   },
   "outputs": [
    {
     "data": {
      "text/plain": [
       "torch.Tensor"
      ]
     },
     "execution_count": 33,
     "metadata": {},
     "output_type": "execute_result"
    }
   ],
   "source": [
    "type(torch.tensor(covid_cases[:40000]).permute(1,0,2))"
   ]
  },
  {
   "cell_type": "code",
   "execution_count": 34,
   "metadata": {},
   "outputs": [],
   "source": [
    "### Our own dataloader that uses covid data"
   ]
  },
  {
   "cell_type": "code",
   "execution_count": 35,
   "metadata": {},
   "outputs": [],
   "source": [
    "device = torch.device('cuda' if torch.cuda.is_available() else 'cpu')\n",
    "\n",
    "cc = torch.tensor(covid_cases[:40000]).permute(1,0,2)#.to(device)\n",
    "cl = torch.tensor(covid_labels[:40000])#.to(device)\n",
    "\n",
    "cc_test = torch.tensor(covid_cases[40000:]).permute(1,0,2)#.to(device)\n",
    "cl_test = torch.tensor(covid_labels[40000:])#.to(device)\n",
    "\n",
    "def get_batch(batch_size,dataset = 'train'):\n",
    "    if dataset == 'train':\n",
    "        for i in range(0,len(cc),batch_size):\n",
    "            x,y = cc[:,i:i+batch_size,:],cl[i:i+batch_size,:]\n",
    "            if x.shape[1] == batch_size:\n",
    "                yield x,y\n",
    "    else:\n",
    "        for i in range(0,len(cc_test),batch_size):\n",
    "            x,y = cc_test[:,i:i+batch_size,:],cl_test[i:i+batch_size,:]\n",
    "            if x.shape[1] == batch_size:\n",
    "                yield x,y"
   ]
  },
  {
   "cell_type": "code",
   "execution_count": 36,
   "metadata": {},
   "outputs": [],
   "source": [
    "torch.manual_seed(0)\n",
    "\n",
    "epochs = 200\n",
    "input_dim = 1\n",
    "hidden_size = 64\n",
    "batch_size = 16"
   ]
  },
  {
   "cell_type": "code",
   "execution_count": 44,
   "metadata": {},
   "outputs": [
    {
     "name": "stdout",
     "output_type": "stream",
     "text": [
      "Epoch number 0 loss value 0.006215\n",
      "Epoch number 10 loss value 0.006034\n",
      "Epoch number 20 loss value 0.005696\n",
      "Epoch number 30 loss value 0.005322\n",
      "Epoch number 40 loss value 0.004954\n",
      "Epoch number 50 loss value 0.004604\n",
      "Epoch number 60 loss value 0.004277\n",
      "Epoch number 70 loss value 0.003973\n",
      "Epoch number 80 loss value 0.003690\n",
      "Epoch number 90 loss value 0.003427\n",
      "Epoch number 100 loss value 0.003183\n",
      "Epoch number 110 loss value 0.002956\n",
      "Epoch number 120 loss value 0.002745\n",
      "Epoch number 130 loss value 0.002549\n",
      "Epoch number 140 loss value 0.002368\n",
      "Epoch number 150 loss value 0.002199\n",
      "Epoch number 160 loss value 0.002042\n",
      "Epoch number 170 loss value 0.001897\n",
      "Epoch number 180 loss value 0.001762\n",
      "Epoch number 190 loss value 0.001636\n"
     ]
    },
    {
     "data": {
      "image/png": "[encoded data removed]",
      "text/plain": [
       "<Figure size 864x576 with 1 Axes>"
      ]
     },
     "metadata": {
      "needs_background": "light"
     },
     "output_type": "display_data"
    }
   ],
   "source": [
    "import torch.optim as optim\n",
    "import matplotlib.pyplot as plt\n",
    "\n",
    "model = CovidEncoder(input_dim,hidden_size)\n",
    "#model.to(device)\n",
    "model.train()\n",
    "\n",
    "h_0 = torch.zeros(1,batch_size,hidden_size)#.to(device)\n",
    "\n",
    "criterion = nn.MSELoss()\n",
    "optimizer = optim.SGD(model.parameters(), lr=0.0001, momentum=0.9)\n",
    "\n",
    "losses = []\n",
    "print_every = 10\n",
    "\n",
    "# Mini Batch SGD\n",
    "\n",
    "for epoch in range(epochs):\n",
    "    batch_losses = []\n",
    "    for train_x,train_y in get_batch(batch_size):        \n",
    "        optimizer.zero_grad()\n",
    "        \n",
    "        output = model(train_x,h_0)\n",
    "\n",
    "        loss = criterion(train_y,output)\n",
    "        batch_losses.append(loss.detach())\n",
    "        loss.backward()\n",
    "        \n",
    "        optimizer.step()      \n",
    "\n",
    "    losses.append(torch.mean(torch.tensor(batch_losses)).item())\n",
    "    \n",
    "    if epoch % print_every == 0:\n",
    "        print('Epoch number %d loss value %f'% (epoch,losses[-1]))\n",
    "\n",
    "plt.figure(figsize = (12,8))\n",
    "plt.xlabel('epochs')\n",
    "plt.ylabel('loss')\n",
    "plt.plot(losses)\n",
    "plt.show()"
   ]
  },
  {
   "cell_type": "code",
   "execution_count": 38,
   "metadata": {},
   "outputs": [],
   "source": [
    "# COVID encoder"
   ]
  },
  {
   "cell_type": "code",
   "execution_count": 49,
   "metadata": {},
   "outputs": [
    {
     "name": "stdout",
     "output_type": "stream",
     "text": [
      "Loss 273.144043\n"
     ]
    }
   ],
   "source": [
    "model.eval()\n",
    "\n",
    "outputs = []\n",
    "\n",
    "with torch.no_grad():\n",
    "    losses  = []\n",
    "    for test_x,test_y in get_batch(batch_size,'test'):       \n",
    "        out = model(test_x,h_0)\n",
    "        outputs.append(out)\n",
    "        loss = criterion(out,test_y)\n",
    "        \n",
    "        losses.append(loss)\n",
    "        \n",
    "    print('Loss %f'%(torch.mean(torch.stack(losses), dim=0)).item())"
   ]
  },
  {
   "cell_type": "code",
   "execution_count": 50,
   "metadata": {},
   "outputs": [
    {
     "data": {
      "text/plain": [
       "[tensor([[0.0431],\n",
       "         [0.0431],\n",
       "         [0.0431],\n",
       "         [0.0431],\n",
       "         [0.0431],\n",
       "         [0.0431],\n",
       "         [0.0431],\n",
       "         [0.0427],\n",
       "         [0.0427],\n",
       "         [0.0427],\n",
       "         [0.0427],\n",
       "         [0.0427],\n",
       "         [0.0427],\n",
       "         [0.0427],\n",
       "         [0.0427],\n",
       "         [0.0427]])]"
      ]
     },
     "execution_count": 50,
     "metadata": {},
     "output_type": "execute_result"
    }
   ],
   "source": [
    "outputs"
   ]
  },
  {
   "cell_type": "code",
   "execution_count": 435,
   "metadata": {},
   "outputs": [
    {
     "data": {
      "image/png": "[encoded data removed]",
      "text/plain": [
       "<Figure size 432x288 with 1 Axes>"
      ]
     },
     "metadata": {
      "needs_background": "light"
     },
     "output_type": "display_data"
    }
   ],
   "source": [
    "plt.plot(cases.values,label = 'truths')\n",
    "plt.plot(np.stack(outputs,axis = 0).flatten(),label = 'preds')\n",
    "plt.show()"
   ]
  },
  {
   "cell_type": "markdown",
   "metadata": {},
   "source": [
    "### Generate COVID cases as 3rd column"
   ]
  },
  {
   "cell_type": "code",
   "execution_count": 29,
   "metadata": {},
   "outputs": [],
   "source": [
    "import pandas as pd\n",
    "merged_df = pd.read_pickle('traffic_covid.pkl')\n",
    "\n",
    "merged_df['covid_cases'] = merged_df['covid_cases'].fillna(0.).astype('float64')"
   ]
  },
  {
   "cell_type": "code",
   "execution_count": 54,
   "metadata": {},
   "outputs": [
    {
     "data": {
      "text/html": [
       "<div>\n",
       "<style scoped>\n",
       "    .dataframe tbody tr th:only-of-type {\n",
       "        vertical-align: middle;\n",
       "    }\n",
       "\n",
       "    .dataframe tbody tr th {\n",
       "        vertical-align: top;\n",
       "    }\n",
       "\n",
       "    .dataframe thead th {\n",
       "        text-align: right;\n",
       "    }\n",
       "</style>\n",
       "<table border=\"1\" class=\"dataframe\">\n",
       "  <thead>\n",
       "    <tr style=\"text-align: right;\">\n",
       "      <th></th>\n",
       "      <th>400001</th>\n",
       "      <th>400017</th>\n",
       "      <th>400030</th>\n",
       "      <th>400040</th>\n",
       "      <th>400045</th>\n",
       "      <th>400052</th>\n",
       "      <th>400057</th>\n",
       "      <th>400059</th>\n",
       "      <th>400065</th>\n",
       "      <th>400069</th>\n",
       "      <th>...</th>\n",
       "      <th>409525</th>\n",
       "      <th>409526</th>\n",
       "      <th>409528</th>\n",
       "      <th>409529</th>\n",
       "      <th>413026</th>\n",
       "      <th>413845</th>\n",
       "      <th>413877</th>\n",
       "      <th>413878</th>\n",
       "      <th>414284</th>\n",
       "      <th>414694</th>\n",
       "    </tr>\n",
       "    <tr>\n",
       "      <th>timestamp</th>\n",
       "      <th></th>\n",
       "      <th></th>\n",
       "      <th></th>\n",
       "      <th></th>\n",
       "      <th></th>\n",
       "      <th></th>\n",
       "      <th></th>\n",
       "      <th></th>\n",
       "      <th></th>\n",
       "      <th></th>\n",
       "      <th></th>\n",
       "      <th></th>\n",
       "      <th></th>\n",
       "      <th></th>\n",
       "      <th></th>\n",
       "      <th></th>\n",
       "      <th></th>\n",
       "      <th></th>\n",
       "      <th></th>\n",
       "      <th></th>\n",
       "      <th></th>\n",
       "    </tr>\n",
       "  </thead>\n",
       "  <tbody>\n",
       "    <tr>\n",
       "      <th>2020-01-01 00:00:00</th>\n",
       "      <td>71.9</td>\n",
       "      <td>68.2</td>\n",
       "      <td>67.0</td>\n",
       "      <td>67.5</td>\n",
       "      <td>68.2</td>\n",
       "      <td>68.4</td>\n",
       "      <td>66.8</td>\n",
       "      <td>67.8</td>\n",
       "      <td>66.7</td>\n",
       "      <td>72.4</td>\n",
       "      <td>...</td>\n",
       "      <td>69.0</td>\n",
       "      <td>68.6</td>\n",
       "      <td>67.5</td>\n",
       "      <td>67.0</td>\n",
       "      <td>71.9</td>\n",
       "      <td>68.6</td>\n",
       "      <td>69.9</td>\n",
       "      <td>67.2</td>\n",
       "      <td>71.0</td>\n",
       "      <td>67.2</td>\n",
       "    </tr>\n",
       "    <tr>\n",
       "      <th>2020-01-01 00:05:00</th>\n",
       "      <td>71.7</td>\n",
       "      <td>68.0</td>\n",
       "      <td>66.7</td>\n",
       "      <td>68.4</td>\n",
       "      <td>68.0</td>\n",
       "      <td>68.1</td>\n",
       "      <td>66.3</td>\n",
       "      <td>67.1</td>\n",
       "      <td>66.9</td>\n",
       "      <td>71.6</td>\n",
       "      <td>...</td>\n",
       "      <td>68.1</td>\n",
       "      <td>68.2</td>\n",
       "      <td>67.2</td>\n",
       "      <td>66.8</td>\n",
       "      <td>72.0</td>\n",
       "      <td>68.2</td>\n",
       "      <td>68.9</td>\n",
       "      <td>66.0</td>\n",
       "      <td>70.3</td>\n",
       "      <td>67.0</td>\n",
       "    </tr>\n",
       "    <tr>\n",
       "      <th>2020-01-01 00:10:00</th>\n",
       "      <td>71.7</td>\n",
       "      <td>68.0</td>\n",
       "      <td>67.2</td>\n",
       "      <td>68.3</td>\n",
       "      <td>68.0</td>\n",
       "      <td>68.2</td>\n",
       "      <td>66.5</td>\n",
       "      <td>67.1</td>\n",
       "      <td>66.6</td>\n",
       "      <td>72.3</td>\n",
       "      <td>...</td>\n",
       "      <td>68.6</td>\n",
       "      <td>68.5</td>\n",
       "      <td>67.1</td>\n",
       "      <td>66.5</td>\n",
       "      <td>72.2</td>\n",
       "      <td>68.8</td>\n",
       "      <td>69.2</td>\n",
       "      <td>66.6</td>\n",
       "      <td>70.3</td>\n",
       "      <td>67.5</td>\n",
       "    </tr>\n",
       "    <tr>\n",
       "      <th>2020-01-01 00:15:00</th>\n",
       "      <td>71.8</td>\n",
       "      <td>67.8</td>\n",
       "      <td>67.4</td>\n",
       "      <td>67.4</td>\n",
       "      <td>67.8</td>\n",
       "      <td>68.0</td>\n",
       "      <td>67.0</td>\n",
       "      <td>67.6</td>\n",
       "      <td>66.2</td>\n",
       "      <td>71.2</td>\n",
       "      <td>...</td>\n",
       "      <td>68.8</td>\n",
       "      <td>68.4</td>\n",
       "      <td>66.9</td>\n",
       "      <td>66.8</td>\n",
       "      <td>72.0</td>\n",
       "      <td>68.7</td>\n",
       "      <td>69.4</td>\n",
       "      <td>66.5</td>\n",
       "      <td>70.9</td>\n",
       "      <td>67.6</td>\n",
       "    </tr>\n",
       "    <tr>\n",
       "      <th>2020-01-01 00:20:00</th>\n",
       "      <td>71.6</td>\n",
       "      <td>67.9</td>\n",
       "      <td>66.4</td>\n",
       "      <td>67.3</td>\n",
       "      <td>67.9</td>\n",
       "      <td>67.7</td>\n",
       "      <td>66.6</td>\n",
       "      <td>67.4</td>\n",
       "      <td>66.2</td>\n",
       "      <td>71.3</td>\n",
       "      <td>...</td>\n",
       "      <td>68.8</td>\n",
       "      <td>68.4</td>\n",
       "      <td>67.3</td>\n",
       "      <td>66.8</td>\n",
       "      <td>72.1</td>\n",
       "      <td>67.3</td>\n",
       "      <td>69.7</td>\n",
       "      <td>66.7</td>\n",
       "      <td>70.7</td>\n",
       "      <td>67.1</td>\n",
       "    </tr>\n",
       "    <tr>\n",
       "      <th>...</th>\n",
       "      <td>...</td>\n",
       "      <td>...</td>\n",
       "      <td>...</td>\n",
       "      <td>...</td>\n",
       "      <td>...</td>\n",
       "      <td>...</td>\n",
       "      <td>...</td>\n",
       "      <td>...</td>\n",
       "      <td>...</td>\n",
       "      <td>...</td>\n",
       "      <td>...</td>\n",
       "      <td>...</td>\n",
       "      <td>...</td>\n",
       "      <td>...</td>\n",
       "      <td>...</td>\n",
       "      <td>...</td>\n",
       "      <td>...</td>\n",
       "      <td>...</td>\n",
       "      <td>...</td>\n",
       "      <td>...</td>\n",
       "      <td>...</td>\n",
       "    </tr>\n",
       "    <tr>\n",
       "      <th>2020-06-29 23:40:00</th>\n",
       "      <td>71.3</td>\n",
       "      <td>61.7</td>\n",
       "      <td>68.3</td>\n",
       "      <td>67.4</td>\n",
       "      <td>62.2</td>\n",
       "      <td>66.4</td>\n",
       "      <td>67.0</td>\n",
       "      <td>67.2</td>\n",
       "      <td>65.7</td>\n",
       "      <td>64.7</td>\n",
       "      <td>...</td>\n",
       "      <td>62.6</td>\n",
       "      <td>67.8</td>\n",
       "      <td>66.1</td>\n",
       "      <td>61.2</td>\n",
       "      <td>70.6</td>\n",
       "      <td>65.6</td>\n",
       "      <td>70.0</td>\n",
       "      <td>67.1</td>\n",
       "      <td>71.3</td>\n",
       "      <td>67.3</td>\n",
       "    </tr>\n",
       "    <tr>\n",
       "      <th>2020-06-29 23:45:00</th>\n",
       "      <td>71.5</td>\n",
       "      <td>61.8</td>\n",
       "      <td>67.4</td>\n",
       "      <td>67.1</td>\n",
       "      <td>62.5</td>\n",
       "      <td>66.0</td>\n",
       "      <td>65.6</td>\n",
       "      <td>67.4</td>\n",
       "      <td>65.6</td>\n",
       "      <td>64.2</td>\n",
       "      <td>...</td>\n",
       "      <td>64.0</td>\n",
       "      <td>67.8</td>\n",
       "      <td>65.8</td>\n",
       "      <td>61.4</td>\n",
       "      <td>70.3</td>\n",
       "      <td>66.7</td>\n",
       "      <td>69.8</td>\n",
       "      <td>66.9</td>\n",
       "      <td>71.2</td>\n",
       "      <td>66.6</td>\n",
       "    </tr>\n",
       "    <tr>\n",
       "      <th>2020-06-29 23:50:00</th>\n",
       "      <td>71.3</td>\n",
       "      <td>62.0</td>\n",
       "      <td>67.7</td>\n",
       "      <td>67.6</td>\n",
       "      <td>62.5</td>\n",
       "      <td>67.7</td>\n",
       "      <td>67.5</td>\n",
       "      <td>67.3</td>\n",
       "      <td>65.9</td>\n",
       "      <td>64.6</td>\n",
       "      <td>...</td>\n",
       "      <td>63.2</td>\n",
       "      <td>67.7</td>\n",
       "      <td>66.1</td>\n",
       "      <td>60.9</td>\n",
       "      <td>70.9</td>\n",
       "      <td>67.7</td>\n",
       "      <td>69.2</td>\n",
       "      <td>66.9</td>\n",
       "      <td>70.4</td>\n",
       "      <td>65.9</td>\n",
       "    </tr>\n",
       "    <tr>\n",
       "      <th>2020-06-29 23:55:00</th>\n",
       "      <td>69.5</td>\n",
       "      <td>62.1</td>\n",
       "      <td>68.2</td>\n",
       "      <td>67.0</td>\n",
       "      <td>62.3</td>\n",
       "      <td>66.0</td>\n",
       "      <td>66.5</td>\n",
       "      <td>67.2</td>\n",
       "      <td>66.3</td>\n",
       "      <td>64.7</td>\n",
       "      <td>...</td>\n",
       "      <td>62.5</td>\n",
       "      <td>67.7</td>\n",
       "      <td>65.7</td>\n",
       "      <td>61.0</td>\n",
       "      <td>71.6</td>\n",
       "      <td>68.4</td>\n",
       "      <td>69.3</td>\n",
       "      <td>67.2</td>\n",
       "      <td>71.0</td>\n",
       "      <td>67.5</td>\n",
       "    </tr>\n",
       "    <tr>\n",
       "      <th>2020-06-30 00:00:00</th>\n",
       "      <td>70.4</td>\n",
       "      <td>62.2</td>\n",
       "      <td>68.0</td>\n",
       "      <td>67.3</td>\n",
       "      <td>62.3</td>\n",
       "      <td>66.5</td>\n",
       "      <td>66.4</td>\n",
       "      <td>67.3</td>\n",
       "      <td>65.7</td>\n",
       "      <td>64.5</td>\n",
       "      <td>...</td>\n",
       "      <td>63.2</td>\n",
       "      <td>66.3</td>\n",
       "      <td>66.0</td>\n",
       "      <td>61.4</td>\n",
       "      <td>71.7</td>\n",
       "      <td>68.3</td>\n",
       "      <td>70.5</td>\n",
       "      <td>65.8</td>\n",
       "      <td>70.7</td>\n",
       "      <td>67.2</td>\n",
       "    </tr>\n",
       "  </tbody>\n",
       "</table>\n",
       "<p>52114 rows × 320 columns</p>\n",
       "</div>"
      ],
      "text/plain": [
       "                     400001  400017  400030  400040  400045  400052  400057  \\\n",
       "timestamp                                                                     \n",
       "2020-01-01 00:00:00    71.9    68.2    67.0    67.5    68.2    68.4    66.8   \n",
       "2020-01-01 00:05:00    71.7    68.0    66.7    68.4    68.0    68.1    66.3   \n",
       "2020-01-01 00:10:00    71.7    68.0    67.2    68.3    68.0    68.2    66.5   \n",
       "2020-01-01 00:15:00    71.8    67.8    67.4    67.4    67.8    68.0    67.0   \n",
       "2020-01-01 00:20:00    71.6    67.9    66.4    67.3    67.9    67.7    66.6   \n",
       "...                     ...     ...     ...     ...     ...     ...     ...   \n",
       "2020-06-29 23:40:00    71.3    61.7    68.3    67.4    62.2    66.4    67.0   \n",
       "2020-06-29 23:45:00    71.5    61.8    67.4    67.1    62.5    66.0    65.6   \n",
       "2020-06-29 23:50:00    71.3    62.0    67.7    67.6    62.5    67.7    67.5   \n",
       "2020-06-29 23:55:00    69.5    62.1    68.2    67.0    62.3    66.0    66.5   \n",
       "2020-06-30 00:00:00    70.4    62.2    68.0    67.3    62.3    66.5    66.4   \n",
       "\n",
       "                     400059  400065  400069  ...  409525  409526  409528  \\\n",
       "timestamp                                    ...                           \n",
       "2020-01-01 00:00:00    67.8    66.7    72.4  ...    69.0    68.6    67.5   \n",
       "2020-01-01 00:05:00    67.1    66.9    71.6  ...    68.1    68.2    67.2   \n",
       "2020-01-01 00:10:00    67.1    66.6    72.3  ...    68.6    68.5    67.1   \n",
       "2020-01-01 00:15:00    67.6    66.2    71.2  ...    68.8    68.4    66.9   \n",
       "2020-01-01 00:20:00    67.4    66.2    71.3  ...    68.8    68.4    67.3   \n",
       "...                     ...     ...     ...  ...     ...     ...     ...   \n",
       "2020-06-29 23:40:00    67.2    65.7    64.7  ...    62.6    67.8    66.1   \n",
       "2020-06-29 23:45:00    67.4    65.6    64.2  ...    64.0    67.8    65.8   \n",
       "2020-06-29 23:50:00    67.3    65.9    64.6  ...    63.2    67.7    66.1   \n",
       "2020-06-29 23:55:00    67.2    66.3    64.7  ...    62.5    67.7    65.7   \n",
       "2020-06-30 00:00:00    67.3    65.7    64.5  ...    63.2    66.3    66.0   \n",
       "\n",
       "                     409529  413026  413845  413877  413878  414284  414694  \n",
       "timestamp                                                                    \n",
       "2020-01-01 00:00:00    67.0    71.9    68.6    69.9    67.2    71.0    67.2  \n",
       "2020-01-01 00:05:00    66.8    72.0    68.2    68.9    66.0    70.3    67.0  \n",
       "2020-01-01 00:10:00    66.5    72.2    68.8    69.2    66.6    70.3    67.5  \n",
       "2020-01-01 00:15:00    66.8    72.0    68.7    69.4    66.5    70.9    67.6  \n",
       "2020-01-01 00:20:00    66.8    72.1    67.3    69.7    66.7    70.7    67.1  \n",
       "...                     ...     ...     ...     ...     ...     ...     ...  \n",
       "2020-06-29 23:40:00    61.2    70.6    65.6    70.0    67.1    71.3    67.3  \n",
       "2020-06-29 23:45:00    61.4    70.3    66.7    69.8    66.9    71.2    66.6  \n",
       "2020-06-29 23:50:00    60.9    70.9    67.7    69.2    66.9    70.4    65.9  \n",
       "2020-06-29 23:55:00    61.0    71.6    68.4    69.3    67.2    71.0    67.5  \n",
       "2020-06-30 00:00:00    61.4    71.7    68.3    70.5    65.8    70.7    67.2  \n",
       "\n",
       "[52114 rows x 320 columns]"
      ]
     },
     "execution_count": 54,
     "metadata": {},
     "output_type": "execute_result"
    }
   ],
   "source": [
    "df"
   ]
  },
  {
   "cell_type": "code",
   "execution_count": 65,
   "metadata": {},
   "outputs": [],
   "source": [
    "### cleaning and null value filling\n",
    "\n",
    "merged_df['covid_cases'] = merged_df['covid_cases'].fillna(0.).astype('float64')\n",
    "df = merged_df.drop('covid_cases',axis = 1)\n",
    "horizon = 12\n",
    "rolling_data = df.rolling(horizon,min_periods=1).mean()\n",
    "rolling_data.fillna(rolling_data.mean(),inplace = True)\n",
    "df = df.fillna(rolling_data[df.isnull()])"
   ]
  },
  {
   "cell_type": "code",
   "execution_count": 66,
   "metadata": {},
   "outputs": [],
   "source": [
    "add_time_in_day = True\n",
    "add_day_in_week = False\n",
    "add_covid_cases = True\n",
    "\n",
    "num_samples, num_nodes = df.shape\n",
    "data = np.expand_dims(df.values, axis=-1)\n",
    "data_list = [data]\n",
    "\n",
    "if add_time_in_day:\n",
    "    time_ind = (df.index.values - df.index.values.astype(\"datetime64[D]\")) / np.timedelta64(1, \"D\")\n",
    "    time_in_day = np.tile(time_ind, [1, num_nodes, 1]).transpose((2, 1, 0))\n",
    "    data_list.append(time_in_day)\n",
    "if add_day_in_week:\n",
    "    day_in_week = np.zeros(shape=(num_samples, num_nodes, 7))\n",
    "    day_in_week[np.arange(num_samples), :, df.index.dayofweek] = 1\n",
    "    data_list.append(day_in_week)\n",
    "if add_covid_cases:\n",
    "    cas = merged_df['covid_cases'].values\n",
    "    case_transposed = np.tile(cas,[1,num_nodes,1]).transpose(2,1,0)\n",
    "    data_list.append(case_transposed)\n",
    "\n",
    "data = np.concatenate(data_list, axis=-1)"
   ]
  },
  {
   "cell_type": "code",
   "execution_count": 68,
   "metadata": {},
   "outputs": [],
   "source": [
    "!mkdir data"
   ]
  },
  {
   "cell_type": "code",
   "execution_count": 69,
   "metadata": {},
   "outputs": [],
   "source": [
    "x_offsets = np.sort(\n",
    "    # np.concatenate(([-week_size + 1, -day_size + 1], np.arange(-11, 1, 1)))\n",
    "    np.concatenate((np.arange(-11, 1, 1),))\n",
    ")\n",
    "# Predict the next one hour\n",
    "y_offsets = np.sort(np.arange(1, 13, 1))\n",
    "\n",
    "x_offsets = x_offsets.reshape(list(x_offsets.shape) + [1])\n",
    "y_offset = y_offsets.reshape(list(y_offsets.shape) + [1])\n",
    "\n",
    "x, y = [], []\n",
    "# t is the index of the last observation.\n",
    "min_t = abs(min(x_offsets))\n",
    "max_t = abs(num_samples - abs(max(y_offsets)))  # Exclusive\n",
    "for t in range(min_t, max_t):\n",
    "    x_t = data[t + x_offsets, ...]\n",
    "    y_t = data[t + y_offsets, ...]\n",
    "    x.append(x_t)\n",
    "    y.append(y_t)\n",
    "\n",
    "x = np.stack(x, axis=0)\n",
    "y = np.stack(y, axis=0)"
   ]
  },
  {
   "cell_type": "code",
   "execution_count": 71,
   "metadata": {},
   "outputs": [
    {
     "data": {
      "text/plain": [
       "(52091, 12, 320, 3)"
      ]
     },
     "execution_count": 71,
     "metadata": {},
     "output_type": "execute_result"
    }
   ],
   "source": [
    "y.shape"
   ]
  },
  {
   "cell_type": "code",
   "execution_count": 72,
   "metadata": {},
   "outputs": [
    {
     "name": "stdout",
     "output_type": "stream",
     "text": [
      "train x:  (36464, 12, 320, 3) y: (36464, 12, 320, 3)\n",
      "val x:  (5209, 12, 320, 3) y: (5209, 12, 320, 3)\n",
      "test x:  (10418, 12, 320, 3) y: (10418, 12, 320, 3)\n"
     ]
    }
   ],
   "source": [
    "num_samples = x.shape[0]\n",
    "num_test = round(num_samples * 0.2)\n",
    "num_train = round(num_samples * 0.7)\n",
    "num_val = num_samples - num_test - num_train\n",
    "\n",
    "# train\n",
    "x_train, y_train = x[:num_train], y[:num_train]\n",
    "# val\n",
    "x_val, y_val = (\n",
    "    x[num_train: num_train + num_val],\n",
    "    y[num_train: num_train + num_val],\n",
    ")\n",
    "# test\n",
    "x_test, y_test = x[-num_test:], y[-num_test:]\n",
    "\n",
    "for cat in [\"train\", \"val\", \"test\"]:\n",
    "    _x, _y = locals()[\"x_\" + cat], locals()[\"y_\" + cat]\n",
    "    print(cat, \"x: \", _x.shape, \"y:\", _y.shape)\n",
    "    np.savez_compressed(\n",
    "        os.path.join('data', \"%s.npz\" % cat),\n",
    "        x=_x,\n",
    "        y=_y,\n",
    "        x_offsets=x_offsets.reshape(list(x_offsets.shape) + [1]),\n",
    "        y_offsets=y_offsets.reshape(list(y_offsets.shape) + [1]),\n",
    "    )"
   ]
  },
  {
   "cell_type": "markdown",
   "metadata": {},
   "source": [
    "### Does the encoder train well for atleast the existing COVID data?"
   ]
  },
  {
   "cell_type": "code",
   "execution_count": 252,
   "metadata": {},
   "outputs": [],
   "source": [
    "import numpy as np\n",
    "\n",
    "covid = cases.fillna(0.).to_numpy().astype('float32')\n",
    "\n",
    "covid_horizon = 7\n",
    "\n",
    "x = []\n",
    "y = []\n",
    "\n",
    "for i in range(covid_horizon,len(covid)):\n",
    "    x.append(covid[i-covid_horizon:i])\n",
    "    y.append(covid[i])\n",
    "    \n",
    "x = np.array(x)\n",
    "y = np.array(y)\n",
    "\n",
    "x = torch.tensor(x).permute(1,0,2)\n",
    "\n",
    "batch_size = 110\n",
    "\n",
    "train_x,train_y = x[:,:batch_size,:], y[:batch_size,:]\n",
    "\n",
    "test_x,test_y = x[:,batch_size:,:],y[batch_size:,]"
   ]
  },
  {
   "cell_type": "code",
   "execution_count": 255,
   "metadata": {},
   "outputs": [
    {
     "name": "stderr",
     "output_type": "stream",
     "text": [
      "<ipython-input-255-de21ad3cf567>:14: UserWarning: To copy construct from a tensor, it is recommended to use sourceTensor.clone().detach() or sourceTensor.clone().detach().requires_grad_(True), rather than torch.tensor(sourceTensor).\n",
      "  train_x = torch.tensor(train_x)\n",
      "<ipython-input-255-de21ad3cf567>:15: UserWarning: To copy construct from a tensor, it is recommended to use sourceTensor.clone().detach() or sourceTensor.clone().detach().requires_grad_(True), rather than torch.tensor(sourceTensor).\n",
      "  train_y = torch.tensor(train_y)\n"
     ]
    },
    {
     "name": "stdout",
     "output_type": "stream",
     "text": [
      "Epoch number 0 loss value 15.172659\n",
      "Epoch number 100 loss value 2.666967\n",
      "Epoch number 200 loss value 1.302647\n",
      "Epoch number 300 loss value 0.942962\n",
      "Epoch number 400 loss value 1.247177\n",
      "Epoch number 500 loss value 1.081029\n",
      "Epoch number 600 loss value 0.994971\n",
      "Epoch number 700 loss value 0.978169\n",
      "Epoch number 800 loss value 0.917874\n",
      "Epoch number 900 loss value 0.902528\n",
      "Epoch number 1000 loss value 0.875159\n",
      "Epoch number 1100 loss value 0.861923\n",
      "Epoch number 1200 loss value 0.897234\n",
      "Epoch number 1300 loss value 0.802441\n",
      "Epoch number 1400 loss value 0.801855\n",
      "Epoch number 1500 loss value 0.811367\n",
      "Epoch number 1600 loss value 0.779042\n",
      "Epoch number 1700 loss value 0.782434\n",
      "Epoch number 1800 loss value 0.786325\n",
      "Epoch number 1900 loss value 0.769852\n"
     ]
    },
    {
     "data": {
      "image/png": "[encoded data removed]",
      "text/plain": [
       "<Figure size 432x288 with 1 Axes>"
      ]
     },
     "metadata": {
      "needs_background": "light"
     },
     "output_type": "display_data"
    }
   ],
   "source": [
    "import torch.optim as optim\n",
    "import matplotlib.pyplot as plt\n",
    "\n",
    "epochs = 2000\n",
    "input_dim = 1\n",
    "hidden_size = 64\n",
    "\n",
    "model = CovidEncoder(input_dim,hidden_size)\n",
    "model.train()\n",
    "\n",
    "#h_0 = torch.randn(1,batch_size,hidden_size)\n",
    "h_0 = torch.zeros(1,batch_size,hidden_size)\n",
    "\n",
    "train_x = torch.tensor(train_x)\n",
    "train_y = torch.tensor(train_y)\n",
    "\n",
    "criterion = nn.L1Loss()\n",
    "optimizer = optim.SGD(model.parameters(), lr=0.01, momentum=0.9)\n",
    "\n",
    "losses = []\n",
    "print_every = 100\n",
    "\n",
    "for epoch in range(epochs):\n",
    "    \n",
    "    optimizer.zero_grad()\n",
    "    \n",
    "    output = model(train_x,h_0)\n",
    "    loss = criterion(train_y,output)\n",
    "    \n",
    "    loss.backward()\n",
    "    optimizer.step()\n",
    "    \n",
    "    losses.append(loss.item())\n",
    "    \n",
    "    if epoch % print_every == 0:\n",
    "        print('Epoch number %d loss value %f'% (epoch,loss))\n",
    "\n",
    "plt.plot(losses)\n",
    "plt.show()"
   ]
  },
  {
   "cell_type": "code",
   "execution_count": 256,
   "metadata": {},
   "outputs": [
    {
     "data": {
      "text/plain": [
       "torch.Size([7, 64, 1])"
      ]
     },
     "execution_count": 256,
     "metadata": {},
     "output_type": "execute_result"
    }
   ],
   "source": [
    "test_x.shape"
   ]
  },
  {
   "cell_type": "code",
   "execution_count": 257,
   "metadata": {},
   "outputs": [
    {
     "data": {
      "text/plain": [
       "(64, 1)"
      ]
     },
     "execution_count": 257,
     "metadata": {},
     "output_type": "execute_result"
    }
   ],
   "source": [
    "test_y.shape"
   ]
  },
  {
   "cell_type": "code",
   "execution_count": 258,
   "metadata": {},
   "outputs": [
    {
     "name": "stdout",
     "output_type": "stream",
     "text": [
      "Loss 0.810439\n"
     ]
    }
   ],
   "source": [
    "model.eval()\n",
    "\n",
    "h_0 = torch.zeros(1,batch_size,hidden_size)\n",
    "\n",
    "with torch.no_grad():\n",
    "    losses  = []\n",
    "    \n",
    "    out = model(train_x,h_0)\n",
    "    \n",
    "    loss = criterion(out,train_y)\n",
    "        \n",
    "    print('Loss %f'%(loss.detach().item()))"
   ]
  },
  {
   "cell_type": "code",
   "execution_count": 259,
   "metadata": {},
   "outputs": [
    {
     "data": {
      "image/png": "[encoded data removed]",
      "text/plain": [
       "<Figure size 864x576 with 1 Axes>"
      ]
     },
     "metadata": {
      "needs_background": "light"
     },
     "output_type": "display_data"
    }
   ],
   "source": [
    "plt.figure(figsize =(12,8))\n",
    "plt.title('Covid cases fed to the COVID encoder: TRAIN DATA')\n",
    "plt.plot(train_y,label = 'true predictions (Training data)')\n",
    "plt.plot(out,label = 'predicted values (Training data)')\n",
    "plt.show()"
   ]
  },
  {
   "cell_type": "code",
   "execution_count": 192,
   "metadata": {},
   "outputs": [
    {
     "name": "stdout",
     "output_type": "stream",
     "text": [
      "Loss 34.574177\n"
     ]
    }
   ],
   "source": [
    "model.eval()\n",
    "criterion.eval()\n",
    "\n",
    "h_0 = torch.zeros(1,64,hidden_size)\n",
    "\n",
    "with torch.no_grad():\n",
    "    out = model(test_x,h_0)\n",
    "    loss = criterion(out,torch.tensor(test_y))\n",
    "    print('Loss %f'%(loss))"
   ]
  },
  {
   "cell_type": "code",
   "execution_count": 193,
   "metadata": {},
   "outputs": [
    {
     "data": {
      "image/png": "[encoded data removed]",
      "text/plain": [
       "<Figure size 864x576 with 1 Axes>"
      ]
     },
     "metadata": {
      "needs_background": "light"
     },
     "output_type": "display_data"
    }
   ],
   "source": [
    "plt.figure(figsize =(12,8))\n",
    "plt.title('Covid cases fed to the COVID encoder, TEST DATA')\n",
    "plt.plot(test_y,label = 'true predictions (Test data)')\n",
    "plt.plot(out,label = 'predicted values (Test data)')\n",
    "plt.show()"
   ]
  },
  {
   "cell_type": "markdown",
   "metadata": {},
   "source": [
    "### Testing repeated COVID cases data"
   ]
  },
  {
   "cell_type": "code",
   "execution_count": 209,
   "metadata": {},
   "outputs": [],
   "source": [
    "import pandas as pd\n",
    "\n",
    "merged_df = pd.read_pickle('traffic_covid.pkl')"
   ]
  },
  {
   "cell_type": "code",
   "execution_count": null,
   "metadata": {},
   "outputs": [],
   "source": [
    "merged_df['covid_cases'] = merged_df['covid_cases'].fillna(0.).astype('float64')\n",
    "df = merged_df.drop('covid_cases',axis = 1)\n",
    "horizon = 12\n",
    "rolling_data = df.rolling(horizon,min_periods=1).mean()\n",
    "rolling_data.fillna(rolling_data.mean(),inplace = True)\n",
    "df = df.fillna(rolling_data[df.isnull()])\n"
   ]
  },
  {
   "cell_type": "code",
   "execution_count": 242,
   "metadata": {},
   "outputs": [
    {
     "data": {
      "text/plain": [
       "(52091, 7, 1)"
      ]
     },
     "execution_count": 242,
     "metadata": {},
     "output_type": "execute_result"
    }
   ],
   "source": [
    "covid_cases.shape"
   ]
  },
  {
   "cell_type": "code",
   "execution_count": 244,
   "metadata": {},
   "outputs": [
    {
     "data": {
      "text/plain": [
       "(52091, 1)"
      ]
     },
     "execution_count": 244,
     "metadata": {},
     "output_type": "execute_result"
    }
   ],
   "source": [
    "covid_labels.shape"
   ]
  },
  {
   "cell_type": "code",
   "execution_count": 245,
   "metadata": {},
   "outputs": [],
   "source": [
    "device = torch.device('cuda' if torch.cuda.is_available() else 'cpu')\n",
    "\n",
    "cc = torch.tensor(covid_cases[:40000]).permute(1,0,2)#.to(device)\n",
    "cl = torch.tensor(covid_labels[:40000])#.to(device)\n",
    "\n",
    "cc_test = torch.tensor(covid_cases[40000:]).permute(1,0,2)#.to(device)\n",
    "cl_test = torch.tensor(covid_labels[40000:])#.to(device)\n",
    "\n",
    "def get_batch(batch_size,dataset = 'train'):\n",
    "    if dataset == 'train':\n",
    "        for i in range(0,len(cc),batch_size):\n",
    "            x,y = cc[:,i:i+batch_size,:],cl[i:i+batch_size,:]\n",
    "            if x.shape[1] == batch_size:   # Equivalent to drop last\n",
    "                yield x,y\n",
    "    else:\n",
    "        for i in range(0,len(cc_test),batch_size):\n",
    "            x,y = cc_test[:,i:i+batch_size,:],cl_test[i:i+batch_size,:]\n",
    "            if x.shape[1] == batch_size:   # Equivalent to drop last\n",
    "                yield x,y"
   ]
  },
  {
   "cell_type": "code",
   "execution_count": null,
   "metadata": {},
   "outputs": [],
   "source": []
  }
 ],
 "metadata": {
  "kernelspec": {
   "display_name": "covidencoder",
   "language": "python",
   "name": "covidencoder"
  },
  "language_info": {
   "codemirror_mode": {
    "name": "ipython",
    "version": 3
   },
   "file_extension": ".py",
   "mimetype": "text/x-python",
   "name": "python",
   "nbconvert_exporter": "python",
   "pygments_lexer": "ipython3",
   "version": "3.8.0"
  }
 },
 "nbformat": 4,
 "nbformat_minor": 4
}
